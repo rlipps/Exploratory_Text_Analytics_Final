{
 "cells": [
  {
   "cell_type": "markdown",
   "metadata": {},
   "source": [
    "# Sentiment Analysis"
   ]
  },
  {
   "cell_type": "code",
   "execution_count": 1,
   "metadata": {},
   "outputs": [],
   "source": [
    "import numpy as np\n",
    "import pandas as pd\n",
    "import plotly_express as px\n",
    "import seaborn as sns\n",
    "\n",
    "OHCO = ['album_id', 'song_num', 'stanza_num', 'line_num', 'token_num']\n",
    "colors = 'YlGnBu'\n",
    "salex_csv = '../../lexicons/salex_nrc.csv'\n",
    "emo_cols = \"anger anticipation disgust fear joy sadness surprise trust sentiment\".split()"
   ]
  },
  {
   "cell_type": "markdown",
   "metadata": {},
   "source": [
    "## Read Data"
   ]
  },
  {
   "cell_type": "code",
   "execution_count": 2,
   "metadata": {},
   "outputs": [],
   "source": [
    "LIB = pd.read_csv('../tables/LIB.csv', sep='|').set_index('album_id')\n",
    "SONG_LIB = pd.read_csv('../tables/SONG_LIB', sep='|').set_index(['album_id', 'song_num'])\n",
    "CORPUS = pd.read_csv('../tables/CORPUS.csv', sep='|').set_index(OHCO)\n",
    "VOCAB = pd.read_csv('../tables/VOCAB.csv', sep='|').set_index('term_str')\n",
    "BOW_SONG = pd.read_csv('../tables/BOW_SONG.csv', sep='|').set_index(['album_id', 'song_num', 'term_str'])\n",
    "BOW_ALBUM = pd.read_csv('../tables/BOW_ALBUM.csv', sep='|').set_index(['album_id', 'term_str'])\n",
    "TFIDF_ALBUM = pd.read_csv('../tables/TFIDF_ALBUM.csv', sep='|').set_index(OHCO[:1])\n",
    "TFIDF_SONG = pd.read_csv('../tables/TFIDF_SONG.csv', sep='|').set_index(OHCO[:2])"
   ]
  },
  {
   "cell_type": "code",
   "execution_count": 3,
   "metadata": {},
   "outputs": [],
   "source": [
    "VOCAB = VOCAB.drop_duplicates()"
   ]
  },
  {
   "cell_type": "markdown",
   "metadata": {},
   "source": [
    "## Setup"
   ]
  },
  {
   "cell_type": "code",
   "execution_count": 4,
   "metadata": {},
   "outputs": [],
   "source": [
    "SALEX = pd.read_csv(salex_csv).set_index('term_str')\n",
    "SALEX.columns = [col.replace('nrc_','') for col in SALEX.columns]"
   ]
  },
  {
   "cell_type": "code",
   "execution_count": 5,
   "metadata": {},
   "outputs": [
    {
     "data": {
      "text/html": [
       "<div>\n",
       "<style scoped>\n",
       "    .dataframe tbody tr th:only-of-type {\n",
       "        vertical-align: middle;\n",
       "    }\n",
       "\n",
       "    .dataframe tbody tr th {\n",
       "        vertical-align: top;\n",
       "    }\n",
       "\n",
       "    .dataframe thead th {\n",
       "        text-align: right;\n",
       "    }\n",
       "</style>\n",
       "<table border=\"1\" class=\"dataframe\">\n",
       "  <thead>\n",
       "    <tr style=\"text-align: right;\">\n",
       "      <th></th>\n",
       "      <th>anger</th>\n",
       "      <th>anticipation</th>\n",
       "      <th>disgust</th>\n",
       "      <th>fear</th>\n",
       "      <th>joy</th>\n",
       "      <th>negative</th>\n",
       "      <th>positive</th>\n",
       "      <th>sadness</th>\n",
       "      <th>surprise</th>\n",
       "      <th>trust</th>\n",
       "      <th>sentiment</th>\n",
       "    </tr>\n",
       "    <tr>\n",
       "      <th>term_str</th>\n",
       "      <th></th>\n",
       "      <th></th>\n",
       "      <th></th>\n",
       "      <th></th>\n",
       "      <th></th>\n",
       "      <th></th>\n",
       "      <th></th>\n",
       "      <th></th>\n",
       "      <th></th>\n",
       "      <th></th>\n",
       "      <th></th>\n",
       "    </tr>\n",
       "  </thead>\n",
       "  <tbody>\n",
       "    <tr>\n",
       "      <th>abandon</th>\n",
       "      <td>0</td>\n",
       "      <td>0</td>\n",
       "      <td>0</td>\n",
       "      <td>1</td>\n",
       "      <td>0</td>\n",
       "      <td>1</td>\n",
       "      <td>0</td>\n",
       "      <td>1</td>\n",
       "      <td>0</td>\n",
       "      <td>0</td>\n",
       "      <td>-1</td>\n",
       "    </tr>\n",
       "    <tr>\n",
       "      <th>abandoned</th>\n",
       "      <td>1</td>\n",
       "      <td>0</td>\n",
       "      <td>0</td>\n",
       "      <td>1</td>\n",
       "      <td>0</td>\n",
       "      <td>1</td>\n",
       "      <td>0</td>\n",
       "      <td>1</td>\n",
       "      <td>0</td>\n",
       "      <td>0</td>\n",
       "      <td>-1</td>\n",
       "    </tr>\n",
       "    <tr>\n",
       "      <th>abandonment</th>\n",
       "      <td>1</td>\n",
       "      <td>0</td>\n",
       "      <td>0</td>\n",
       "      <td>1</td>\n",
       "      <td>0</td>\n",
       "      <td>1</td>\n",
       "      <td>0</td>\n",
       "      <td>1</td>\n",
       "      <td>1</td>\n",
       "      <td>0</td>\n",
       "      <td>-1</td>\n",
       "    </tr>\n",
       "    <tr>\n",
       "      <th>abduction</th>\n",
       "      <td>0</td>\n",
       "      <td>0</td>\n",
       "      <td>0</td>\n",
       "      <td>1</td>\n",
       "      <td>0</td>\n",
       "      <td>1</td>\n",
       "      <td>0</td>\n",
       "      <td>1</td>\n",
       "      <td>1</td>\n",
       "      <td>0</td>\n",
       "      <td>-1</td>\n",
       "    </tr>\n",
       "    <tr>\n",
       "      <th>aberration</th>\n",
       "      <td>0</td>\n",
       "      <td>0</td>\n",
       "      <td>1</td>\n",
       "      <td>0</td>\n",
       "      <td>0</td>\n",
       "      <td>1</td>\n",
       "      <td>0</td>\n",
       "      <td>0</td>\n",
       "      <td>0</td>\n",
       "      <td>0</td>\n",
       "      <td>-1</td>\n",
       "    </tr>\n",
       "    <tr>\n",
       "      <th>...</th>\n",
       "      <td>...</td>\n",
       "      <td>...</td>\n",
       "      <td>...</td>\n",
       "      <td>...</td>\n",
       "      <td>...</td>\n",
       "      <td>...</td>\n",
       "      <td>...</td>\n",
       "      <td>...</td>\n",
       "      <td>...</td>\n",
       "      <td>...</td>\n",
       "      <td>...</td>\n",
       "    </tr>\n",
       "    <tr>\n",
       "      <th>young</th>\n",
       "      <td>0</td>\n",
       "      <td>1</td>\n",
       "      <td>0</td>\n",
       "      <td>0</td>\n",
       "      <td>1</td>\n",
       "      <td>0</td>\n",
       "      <td>1</td>\n",
       "      <td>0</td>\n",
       "      <td>1</td>\n",
       "      <td>0</td>\n",
       "      <td>1</td>\n",
       "    </tr>\n",
       "    <tr>\n",
       "      <th>youth</th>\n",
       "      <td>1</td>\n",
       "      <td>1</td>\n",
       "      <td>0</td>\n",
       "      <td>1</td>\n",
       "      <td>1</td>\n",
       "      <td>0</td>\n",
       "      <td>1</td>\n",
       "      <td>0</td>\n",
       "      <td>1</td>\n",
       "      <td>0</td>\n",
       "      <td>1</td>\n",
       "    </tr>\n",
       "    <tr>\n",
       "      <th>zeal</th>\n",
       "      <td>0</td>\n",
       "      <td>1</td>\n",
       "      <td>0</td>\n",
       "      <td>0</td>\n",
       "      <td>1</td>\n",
       "      <td>0</td>\n",
       "      <td>1</td>\n",
       "      <td>0</td>\n",
       "      <td>1</td>\n",
       "      <td>1</td>\n",
       "      <td>1</td>\n",
       "    </tr>\n",
       "    <tr>\n",
       "      <th>zealous</th>\n",
       "      <td>0</td>\n",
       "      <td>0</td>\n",
       "      <td>0</td>\n",
       "      <td>0</td>\n",
       "      <td>1</td>\n",
       "      <td>0</td>\n",
       "      <td>1</td>\n",
       "      <td>0</td>\n",
       "      <td>0</td>\n",
       "      <td>1</td>\n",
       "      <td>1</td>\n",
       "    </tr>\n",
       "    <tr>\n",
       "      <th>zest</th>\n",
       "      <td>0</td>\n",
       "      <td>1</td>\n",
       "      <td>0</td>\n",
       "      <td>0</td>\n",
       "      <td>1</td>\n",
       "      <td>0</td>\n",
       "      <td>1</td>\n",
       "      <td>0</td>\n",
       "      <td>0</td>\n",
       "      <td>1</td>\n",
       "      <td>1</td>\n",
       "    </tr>\n",
       "  </tbody>\n",
       "</table>\n",
       "<p>3688 rows × 11 columns</p>\n",
       "</div>"
      ],
      "text/plain": [
       "             anger  anticipation  disgust  fear  joy  negative  positive  \\\n",
       "term_str                                                                   \n",
       "abandon          0             0        0     1    0         1         0   \n",
       "abandoned        1             0        0     1    0         1         0   \n",
       "abandonment      1             0        0     1    0         1         0   \n",
       "abduction        0             0        0     1    0         1         0   \n",
       "aberration       0             0        1     0    0         1         0   \n",
       "...            ...           ...      ...   ...  ...       ...       ...   \n",
       "young            0             1        0     0    1         0         1   \n",
       "youth            1             1        0     1    1         0         1   \n",
       "zeal             0             1        0     0    1         0         1   \n",
       "zealous          0             0        0     0    1         0         1   \n",
       "zest             0             1        0     0    1         0         1   \n",
       "\n",
       "             sadness  surprise  trust  sentiment  \n",
       "term_str                                          \n",
       "abandon            1         0      0         -1  \n",
       "abandoned          1         0      0         -1  \n",
       "abandonment        1         1      0         -1  \n",
       "abduction          1         1      0         -1  \n",
       "aberration         0         0      0         -1  \n",
       "...              ...       ...    ...        ...  \n",
       "young              0         1      0          1  \n",
       "youth              0         1      0          1  \n",
       "zeal               0         1      1          1  \n",
       "zealous            0         0      1          1  \n",
       "zest               0         0      1          1  \n",
       "\n",
       "[3688 rows x 11 columns]"
      ]
     },
     "execution_count": 5,
     "metadata": {},
     "output_type": "execute_result"
    }
   ],
   "source": [
    "SALEX"
   ]
  },
  {
   "cell_type": "markdown",
   "metadata": {},
   "source": [
    "## Combine `SALEX` with `VOCAB`"
   ]
  },
  {
   "cell_type": "code",
   "execution_count": 6,
   "metadata": {},
   "outputs": [],
   "source": [
    "VOCAB_SENT = VOCAB.join(SALEX, how='inner')"
   ]
  },
  {
   "cell_type": "code",
   "execution_count": 7,
   "metadata": {},
   "outputs": [
    {
     "data": {
      "text/html": [
       "<div>\n",
       "<style scoped>\n",
       "    .dataframe tbody tr th:only-of-type {\n",
       "        vertical-align: middle;\n",
       "    }\n",
       "\n",
       "    .dataframe tbody tr th {\n",
       "        vertical-align: top;\n",
       "    }\n",
       "\n",
       "    .dataframe thead th {\n",
       "        text-align: right;\n",
       "    }\n",
       "</style>\n",
       "<table border=\"1\" class=\"dataframe\">\n",
       "  <thead>\n",
       "    <tr style=\"text-align: right;\">\n",
       "      <th></th>\n",
       "      <th>n</th>\n",
       "      <th>n_chars</th>\n",
       "      <th>p</th>\n",
       "      <th>i</th>\n",
       "      <th>max_pos</th>\n",
       "      <th>max_pos_group</th>\n",
       "      <th>stop</th>\n",
       "      <th>porter_stem</th>\n",
       "      <th>song_dfidf</th>\n",
       "      <th>album_dfidf</th>\n",
       "      <th>...</th>\n",
       "      <th>anticipation</th>\n",
       "      <th>disgust</th>\n",
       "      <th>fear</th>\n",
       "      <th>joy</th>\n",
       "      <th>negative</th>\n",
       "      <th>positive</th>\n",
       "      <th>sadness</th>\n",
       "      <th>surprise</th>\n",
       "      <th>trust</th>\n",
       "      <th>sentiment</th>\n",
       "    </tr>\n",
       "    <tr>\n",
       "      <th>term_str</th>\n",
       "      <th></th>\n",
       "      <th></th>\n",
       "      <th></th>\n",
       "      <th></th>\n",
       "      <th></th>\n",
       "      <th></th>\n",
       "      <th></th>\n",
       "      <th></th>\n",
       "      <th></th>\n",
       "      <th></th>\n",
       "      <th></th>\n",
       "      <th></th>\n",
       "      <th></th>\n",
       "      <th></th>\n",
       "      <th></th>\n",
       "      <th></th>\n",
       "      <th></th>\n",
       "      <th></th>\n",
       "      <th></th>\n",
       "      <th></th>\n",
       "      <th></th>\n",
       "    </tr>\n",
       "  </thead>\n",
       "  <tbody>\n",
       "    <tr>\n",
       "      <th>abandon</th>\n",
       "      <td>2</td>\n",
       "      <td>7</td>\n",
       "      <td>0.000010</td>\n",
       "      <td>16.555301</td>\n",
       "      <td>NNP</td>\n",
       "      <td>NN</td>\n",
       "      <td>0</td>\n",
       "      <td>abandon</td>\n",
       "      <td>17.792665</td>\n",
       "      <td>10.951467</td>\n",
       "      <td>...</td>\n",
       "      <td>0</td>\n",
       "      <td>0</td>\n",
       "      <td>1</td>\n",
       "      <td>0</td>\n",
       "      <td>1</td>\n",
       "      <td>0</td>\n",
       "      <td>1</td>\n",
       "      <td>0</td>\n",
       "      <td>0</td>\n",
       "      <td>-1</td>\n",
       "    </tr>\n",
       "    <tr>\n",
       "      <th>abandoned</th>\n",
       "      <td>1</td>\n",
       "      <td>9</td>\n",
       "      <td>0.000005</td>\n",
       "      <td>17.555301</td>\n",
       "      <td>VBD</td>\n",
       "      <td>VB</td>\n",
       "      <td>0</td>\n",
       "      <td>abandon</td>\n",
       "      <td>9.896332</td>\n",
       "      <td>6.475733</td>\n",
       "      <td>...</td>\n",
       "      <td>0</td>\n",
       "      <td>0</td>\n",
       "      <td>1</td>\n",
       "      <td>0</td>\n",
       "      <td>1</td>\n",
       "      <td>0</td>\n",
       "      <td>1</td>\n",
       "      <td>0</td>\n",
       "      <td>0</td>\n",
       "      <td>-1</td>\n",
       "    </tr>\n",
       "    <tr>\n",
       "      <th>absence</th>\n",
       "      <td>6</td>\n",
       "      <td>7</td>\n",
       "      <td>0.000031</td>\n",
       "      <td>14.970338</td>\n",
       "      <td>NN</td>\n",
       "      <td>NN</td>\n",
       "      <td>0</td>\n",
       "      <td>absenc</td>\n",
       "      <td>37.872022</td>\n",
       "      <td>20.769027</td>\n",
       "      <td>...</td>\n",
       "      <td>0</td>\n",
       "      <td>0</td>\n",
       "      <td>1</td>\n",
       "      <td>0</td>\n",
       "      <td>1</td>\n",
       "      <td>0</td>\n",
       "      <td>1</td>\n",
       "      <td>0</td>\n",
       "      <td>0</td>\n",
       "      <td>-1</td>\n",
       "    </tr>\n",
       "    <tr>\n",
       "      <th>absentee</th>\n",
       "      <td>2</td>\n",
       "      <td>8</td>\n",
       "      <td>0.000010</td>\n",
       "      <td>16.555301</td>\n",
       "      <td>NN</td>\n",
       "      <td>NN</td>\n",
       "      <td>0</td>\n",
       "      <td>absente</td>\n",
       "      <td>9.896332</td>\n",
       "      <td>6.475733</td>\n",
       "      <td>...</td>\n",
       "      <td>0</td>\n",
       "      <td>0</td>\n",
       "      <td>0</td>\n",
       "      <td>0</td>\n",
       "      <td>1</td>\n",
       "      <td>0</td>\n",
       "      <td>1</td>\n",
       "      <td>0</td>\n",
       "      <td>0</td>\n",
       "      <td>-1</td>\n",
       "    </tr>\n",
       "    <tr>\n",
       "      <th>abundance</th>\n",
       "      <td>1</td>\n",
       "      <td>9</td>\n",
       "      <td>0.000005</td>\n",
       "      <td>17.555301</td>\n",
       "      <td>NN</td>\n",
       "      <td>NN</td>\n",
       "      <td>0</td>\n",
       "      <td>abund</td>\n",
       "      <td>9.896332</td>\n",
       "      <td>6.475733</td>\n",
       "      <td>...</td>\n",
       "      <td>1</td>\n",
       "      <td>1</td>\n",
       "      <td>0</td>\n",
       "      <td>1</td>\n",
       "      <td>1</td>\n",
       "      <td>1</td>\n",
       "      <td>0</td>\n",
       "      <td>0</td>\n",
       "      <td>1</td>\n",
       "      <td>0</td>\n",
       "    </tr>\n",
       "    <tr>\n",
       "      <th>...</th>\n",
       "      <td>...</td>\n",
       "      <td>...</td>\n",
       "      <td>...</td>\n",
       "      <td>...</td>\n",
       "      <td>...</td>\n",
       "      <td>...</td>\n",
       "      <td>...</td>\n",
       "      <td>...</td>\n",
       "      <td>...</td>\n",
       "      <td>...</td>\n",
       "      <td>...</td>\n",
       "      <td>...</td>\n",
       "      <td>...</td>\n",
       "      <td>...</td>\n",
       "      <td>...</td>\n",
       "      <td>...</td>\n",
       "      <td>...</td>\n",
       "      <td>...</td>\n",
       "      <td>...</td>\n",
       "      <td>...</td>\n",
       "      <td>...</td>\n",
       "    </tr>\n",
       "    <tr>\n",
       "      <th>words</th>\n",
       "      <td>72</td>\n",
       "      <td>5</td>\n",
       "      <td>0.000374</td>\n",
       "      <td>11.385376</td>\n",
       "      <td>NNS</td>\n",
       "      <td>NN</td>\n",
       "      <td>0</td>\n",
       "      <td>word</td>\n",
       "      <td>201.147441</td>\n",
       "      <td>46.914821</td>\n",
       "      <td>...</td>\n",
       "      <td>0</td>\n",
       "      <td>0</td>\n",
       "      <td>0</td>\n",
       "      <td>0</td>\n",
       "      <td>1</td>\n",
       "      <td>0</td>\n",
       "      <td>0</td>\n",
       "      <td>0</td>\n",
       "      <td>0</td>\n",
       "      <td>-1</td>\n",
       "    </tr>\n",
       "    <tr>\n",
       "      <th>worn</th>\n",
       "      <td>2</td>\n",
       "      <td>4</td>\n",
       "      <td>0.000010</td>\n",
       "      <td>16.555301</td>\n",
       "      <td>VBN</td>\n",
       "      <td>VB</td>\n",
       "      <td>0</td>\n",
       "      <td>worn</td>\n",
       "      <td>17.792665</td>\n",
       "      <td>10.951467</td>\n",
       "      <td>...</td>\n",
       "      <td>0</td>\n",
       "      <td>0</td>\n",
       "      <td>0</td>\n",
       "      <td>0</td>\n",
       "      <td>1</td>\n",
       "      <td>0</td>\n",
       "      <td>1</td>\n",
       "      <td>0</td>\n",
       "      <td>0</td>\n",
       "      <td>-1</td>\n",
       "    </tr>\n",
       "    <tr>\n",
       "      <th>worse</th>\n",
       "      <td>29</td>\n",
       "      <td>5</td>\n",
       "      <td>0.000151</td>\n",
       "      <td>12.697320</td>\n",
       "      <td>JJR</td>\n",
       "      <td>JJ</td>\n",
       "      <td>0</td>\n",
       "      <td>wors</td>\n",
       "      <td>75.736439</td>\n",
       "      <td>33.179320</td>\n",
       "      <td>...</td>\n",
       "      <td>0</td>\n",
       "      <td>0</td>\n",
       "      <td>1</td>\n",
       "      <td>0</td>\n",
       "      <td>1</td>\n",
       "      <td>0</td>\n",
       "      <td>1</td>\n",
       "      <td>0</td>\n",
       "      <td>0</td>\n",
       "      <td>-1</td>\n",
       "    </tr>\n",
       "    <tr>\n",
       "      <th>young</th>\n",
       "      <td>59</td>\n",
       "      <td>5</td>\n",
       "      <td>0.000306</td>\n",
       "      <td>11.672658</td>\n",
       "      <td>JJ</td>\n",
       "      <td>JJ</td>\n",
       "      <td>0</td>\n",
       "      <td>young</td>\n",
       "      <td>131.311905</td>\n",
       "      <td>42.328312</td>\n",
       "      <td>...</td>\n",
       "      <td>1</td>\n",
       "      <td>0</td>\n",
       "      <td>0</td>\n",
       "      <td>1</td>\n",
       "      <td>0</td>\n",
       "      <td>1</td>\n",
       "      <td>0</td>\n",
       "      <td>1</td>\n",
       "      <td>0</td>\n",
       "      <td>1</td>\n",
       "    </tr>\n",
       "    <tr>\n",
       "      <th>youth</th>\n",
       "      <td>44</td>\n",
       "      <td>5</td>\n",
       "      <td>0.000228</td>\n",
       "      <td>12.095869</td>\n",
       "      <td>NN</td>\n",
       "      <td>NN</td>\n",
       "      <td>0</td>\n",
       "      <td>youth</td>\n",
       "      <td>60.537667</td>\n",
       "      <td>29.752276</td>\n",
       "      <td>...</td>\n",
       "      <td>1</td>\n",
       "      <td>0</td>\n",
       "      <td>1</td>\n",
       "      <td>1</td>\n",
       "      <td>0</td>\n",
       "      <td>1</td>\n",
       "      <td>0</td>\n",
       "      <td>1</td>\n",
       "      <td>0</td>\n",
       "      <td>1</td>\n",
       "    </tr>\n",
       "  </tbody>\n",
       "</table>\n",
       "<p>270 rows × 21 columns</p>\n",
       "</div>"
      ],
      "text/plain": [
       "            n  n_chars         p          i max_pos max_pos_group  stop  \\\n",
       "term_str                                                                  \n",
       "abandon     2        7  0.000010  16.555301     NNP            NN     0   \n",
       "abandoned   1        9  0.000005  17.555301     VBD            VB     0   \n",
       "absence     6        7  0.000031  14.970338      NN            NN     0   \n",
       "absentee    2        8  0.000010  16.555301      NN            NN     0   \n",
       "abundance   1        9  0.000005  17.555301      NN            NN     0   \n",
       "...        ..      ...       ...        ...     ...           ...   ...   \n",
       "words      72        5  0.000374  11.385376     NNS            NN     0   \n",
       "worn        2        4  0.000010  16.555301     VBN            VB     0   \n",
       "worse      29        5  0.000151  12.697320     JJR            JJ     0   \n",
       "young      59        5  0.000306  11.672658      JJ            JJ     0   \n",
       "youth      44        5  0.000228  12.095869      NN            NN     0   \n",
       "\n",
       "          porter_stem  song_dfidf  album_dfidf  ...  anticipation  disgust  \\\n",
       "term_str                                        ...                          \n",
       "abandon       abandon   17.792665    10.951467  ...             0        0   \n",
       "abandoned     abandon    9.896332     6.475733  ...             0        0   \n",
       "absence        absenc   37.872022    20.769027  ...             0        0   \n",
       "absentee      absente    9.896332     6.475733  ...             0        0   \n",
       "abundance       abund    9.896332     6.475733  ...             1        1   \n",
       "...               ...         ...          ...  ...           ...      ...   \n",
       "words            word  201.147441    46.914821  ...             0        0   \n",
       "worn             worn   17.792665    10.951467  ...             0        0   \n",
       "worse            wors   75.736439    33.179320  ...             0        0   \n",
       "young           young  131.311905    42.328312  ...             1        0   \n",
       "youth           youth   60.537667    29.752276  ...             1        0   \n",
       "\n",
       "           fear  joy  negative  positive  sadness  surprise  trust  sentiment  \n",
       "term_str                                                                       \n",
       "abandon       1    0         1         0        1         0      0         -1  \n",
       "abandoned     1    0         1         0        1         0      0         -1  \n",
       "absence       1    0         1         0        1         0      0         -1  \n",
       "absentee      0    0         1         0        1         0      0         -1  \n",
       "abundance     0    1         1         1        0         0      1          0  \n",
       "...         ...  ...       ...       ...      ...       ...    ...        ...  \n",
       "words         0    0         1         0        0         0      0         -1  \n",
       "worn          0    0         1         0        1         0      0         -1  \n",
       "worse         1    0         1         0        1         0      0         -1  \n",
       "young         0    1         0         1        0         1      0          1  \n",
       "youth         1    1         0         1        0         1      0          1  \n",
       "\n",
       "[270 rows x 21 columns]"
      ]
     },
     "execution_count": 7,
     "metadata": {},
     "output_type": "execute_result"
    }
   ],
   "source": [
    "VOCAB_SENT"
   ]
  },
  {
   "cell_type": "markdown",
   "metadata": {},
   "source": [
    "## Merge `VOCAB` with `BOW_ALBUM`"
   ]
  },
  {
   "cell_type": "code",
   "execution_count": 8,
   "metadata": {},
   "outputs": [],
   "source": [
    "BOW_SENT_ALBUM = BOW_ALBUM.join(VOCAB_SENT[['max_pos', 'album_dfidf'] + emo_cols], on='term_str', rsuffix='_v').dropna()"
   ]
  },
  {
   "cell_type": "code",
   "execution_count": 9,
   "metadata": {},
   "outputs": [
    {
     "data": {
      "text/html": [
       "<div>\n",
       "<style scoped>\n",
       "    .dataframe tbody tr th:only-of-type {\n",
       "        vertical-align: middle;\n",
       "    }\n",
       "\n",
       "    .dataframe tbody tr th {\n",
       "        vertical-align: top;\n",
       "    }\n",
       "\n",
       "    .dataframe thead th {\n",
       "        text-align: right;\n",
       "    }\n",
       "</style>\n",
       "<table border=\"1\" class=\"dataframe\">\n",
       "  <thead>\n",
       "    <tr style=\"text-align: right;\">\n",
       "      <th></th>\n",
       "      <th></th>\n",
       "      <th>n</th>\n",
       "      <th>tfidf</th>\n",
       "      <th>max_pos</th>\n",
       "      <th>album_dfidf</th>\n",
       "      <th>anger</th>\n",
       "      <th>anticipation</th>\n",
       "      <th>disgust</th>\n",
       "      <th>fear</th>\n",
       "      <th>joy</th>\n",
       "      <th>sadness</th>\n",
       "      <th>surprise</th>\n",
       "      <th>trust</th>\n",
       "      <th>sentiment</th>\n",
       "    </tr>\n",
       "    <tr>\n",
       "      <th>album_id</th>\n",
       "      <th>term_str</th>\n",
       "      <th></th>\n",
       "      <th></th>\n",
       "      <th></th>\n",
       "      <th></th>\n",
       "      <th></th>\n",
       "      <th></th>\n",
       "      <th></th>\n",
       "      <th></th>\n",
       "      <th></th>\n",
       "      <th></th>\n",
       "      <th></th>\n",
       "      <th></th>\n",
       "      <th></th>\n",
       "    </tr>\n",
       "  </thead>\n",
       "  <tbody>\n",
       "    <tr>\n",
       "      <th rowspan=\"5\" valign=\"top\">0</th>\n",
       "      <th>afraid</th>\n",
       "      <td>2</td>\n",
       "      <td>0.108454</td>\n",
       "      <td>JJ</td>\n",
       "      <td>44.899944</td>\n",
       "      <td>0.0</td>\n",
       "      <td>0.0</td>\n",
       "      <td>0.0</td>\n",
       "      <td>1.0</td>\n",
       "      <td>0.0</td>\n",
       "      <td>0.0</td>\n",
       "      <td>0.0</td>\n",
       "      <td>0.0</td>\n",
       "      <td>-1.0</td>\n",
       "    </tr>\n",
       "    <tr>\n",
       "      <th>beautiful</th>\n",
       "      <td>2</td>\n",
       "      <td>0.119656</td>\n",
       "      <td>JJ</td>\n",
       "      <td>43.076107</td>\n",
       "      <td>0.0</td>\n",
       "      <td>0.0</td>\n",
       "      <td>0.0</td>\n",
       "      <td>0.0</td>\n",
       "      <td>1.0</td>\n",
       "      <td>0.0</td>\n",
       "      <td>0.0</td>\n",
       "      <td>0.0</td>\n",
       "      <td>1.0</td>\n",
       "    </tr>\n",
       "    <tr>\n",
       "      <th>favorite</th>\n",
       "      <td>2</td>\n",
       "      <td>0.167572</td>\n",
       "      <td>JJ</td>\n",
       "      <td>33.179320</td>\n",
       "      <td>0.0</td>\n",
       "      <td>0.0</td>\n",
       "      <td>0.0</td>\n",
       "      <td>0.0</td>\n",
       "      <td>1.0</td>\n",
       "      <td>0.0</td>\n",
       "      <td>0.0</td>\n",
       "      <td>1.0</td>\n",
       "      <td>1.0</td>\n",
       "    </tr>\n",
       "    <tr>\n",
       "      <th>ill</th>\n",
       "      <td>4</td>\n",
       "      <td>0.027435</td>\n",
       "      <td>NNP</td>\n",
       "      <td>18.518606</td>\n",
       "      <td>1.0</td>\n",
       "      <td>0.0</td>\n",
       "      <td>1.0</td>\n",
       "      <td>1.0</td>\n",
       "      <td>0.0</td>\n",
       "      <td>1.0</td>\n",
       "      <td>0.0</td>\n",
       "      <td>0.0</td>\n",
       "      <td>-1.0</td>\n",
       "    </tr>\n",
       "    <tr>\n",
       "      <th>late</th>\n",
       "      <td>4</td>\n",
       "      <td>0.179750</td>\n",
       "      <td>JJ</td>\n",
       "      <td>46.914821</td>\n",
       "      <td>0.0</td>\n",
       "      <td>0.0</td>\n",
       "      <td>0.0</td>\n",
       "      <td>0.0</td>\n",
       "      <td>0.0</td>\n",
       "      <td>1.0</td>\n",
       "      <td>0.0</td>\n",
       "      <td>0.0</td>\n",
       "      <td>-1.0</td>\n",
       "    </tr>\n",
       "    <tr>\n",
       "      <th>...</th>\n",
       "      <th>...</th>\n",
       "      <td>...</td>\n",
       "      <td>...</td>\n",
       "      <td>...</td>\n",
       "      <td>...</td>\n",
       "      <td>...</td>\n",
       "      <td>...</td>\n",
       "      <td>...</td>\n",
       "      <td>...</td>\n",
       "      <td>...</td>\n",
       "      <td>...</td>\n",
       "      <td>...</td>\n",
       "      <td>...</td>\n",
       "      <td>...</td>\n",
       "    </tr>\n",
       "    <tr>\n",
       "      <th rowspan=\"5\" valign=\"top\">88</th>\n",
       "      <th>wear</th>\n",
       "      <td>1</td>\n",
       "      <td>0.016144</td>\n",
       "      <td>VBP</td>\n",
       "      <td>42.328312</td>\n",
       "      <td>0.0</td>\n",
       "      <td>0.0</td>\n",
       "      <td>0.0</td>\n",
       "      <td>0.0</td>\n",
       "      <td>0.0</td>\n",
       "      <td>0.0</td>\n",
       "      <td>0.0</td>\n",
       "      <td>1.0</td>\n",
       "      <td>-1.0</td>\n",
       "    </tr>\n",
       "    <tr>\n",
       "      <th>wild</th>\n",
       "      <td>1</td>\n",
       "      <td>0.014611</td>\n",
       "      <td>JJ</td>\n",
       "      <td>44.358640</td>\n",
       "      <td>0.0</td>\n",
       "      <td>0.0</td>\n",
       "      <td>0.0</td>\n",
       "      <td>0.0</td>\n",
       "      <td>0.0</td>\n",
       "      <td>0.0</td>\n",
       "      <td>1.0</td>\n",
       "      <td>0.0</td>\n",
       "      <td>-1.0</td>\n",
       "    </tr>\n",
       "    <tr>\n",
       "      <th>winner</th>\n",
       "      <td>1</td>\n",
       "      <td>0.030100</td>\n",
       "      <td>NNP</td>\n",
       "      <td>20.769027</td>\n",
       "      <td>0.0</td>\n",
       "      <td>1.0</td>\n",
       "      <td>0.0</td>\n",
       "      <td>0.0</td>\n",
       "      <td>1.0</td>\n",
       "      <td>0.0</td>\n",
       "      <td>1.0</td>\n",
       "      <td>0.0</td>\n",
       "      <td>1.0</td>\n",
       "    </tr>\n",
       "    <tr>\n",
       "      <th>worse</th>\n",
       "      <td>1</td>\n",
       "      <td>0.021857</td>\n",
       "      <td>JJR</td>\n",
       "      <td>33.179320</td>\n",
       "      <td>0.0</td>\n",
       "      <td>0.0</td>\n",
       "      <td>0.0</td>\n",
       "      <td>1.0</td>\n",
       "      <td>0.0</td>\n",
       "      <td>1.0</td>\n",
       "      <td>0.0</td>\n",
       "      <td>0.0</td>\n",
       "      <td>-1.0</td>\n",
       "    </tr>\n",
       "    <tr>\n",
       "      <th>youth</th>\n",
       "      <td>1</td>\n",
       "      <td>0.023955</td>\n",
       "      <td>NN</td>\n",
       "      <td>29.752276</td>\n",
       "      <td>1.0</td>\n",
       "      <td>1.0</td>\n",
       "      <td>0.0</td>\n",
       "      <td>1.0</td>\n",
       "      <td>1.0</td>\n",
       "      <td>0.0</td>\n",
       "      <td>1.0</td>\n",
       "      <td>0.0</td>\n",
       "      <td>1.0</td>\n",
       "    </tr>\n",
       "  </tbody>\n",
       "</table>\n",
       "<p>3179 rows × 13 columns</p>\n",
       "</div>"
      ],
      "text/plain": [
       "                    n     tfidf max_pos  album_dfidf  anger  anticipation  \\\n",
       "album_id term_str                                                           \n",
       "0        afraid     2  0.108454      JJ    44.899944    0.0           0.0   \n",
       "         beautiful  2  0.119656      JJ    43.076107    0.0           0.0   \n",
       "         favorite   2  0.167572      JJ    33.179320    0.0           0.0   \n",
       "         ill        4  0.027435     NNP    18.518606    1.0           0.0   \n",
       "         late       4  0.179750      JJ    46.914821    0.0           0.0   \n",
       "...                ..       ...     ...          ...    ...           ...   \n",
       "88       wear       1  0.016144     VBP    42.328312    0.0           0.0   \n",
       "         wild       1  0.014611      JJ    44.358640    0.0           0.0   \n",
       "         winner     1  0.030100     NNP    20.769027    0.0           1.0   \n",
       "         worse      1  0.021857     JJR    33.179320    0.0           0.0   \n",
       "         youth      1  0.023955      NN    29.752276    1.0           1.0   \n",
       "\n",
       "                    disgust  fear  joy  sadness  surprise  trust  sentiment  \n",
       "album_id term_str                                                            \n",
       "0        afraid         0.0   1.0  0.0      0.0       0.0    0.0       -1.0  \n",
       "         beautiful      0.0   0.0  1.0      0.0       0.0    0.0        1.0  \n",
       "         favorite       0.0   0.0  1.0      0.0       0.0    1.0        1.0  \n",
       "         ill            1.0   1.0  0.0      1.0       0.0    0.0       -1.0  \n",
       "         late           0.0   0.0  0.0      1.0       0.0    0.0       -1.0  \n",
       "...                     ...   ...  ...      ...       ...    ...        ...  \n",
       "88       wear           0.0   0.0  0.0      0.0       0.0    1.0       -1.0  \n",
       "         wild           0.0   0.0  0.0      0.0       1.0    0.0       -1.0  \n",
       "         winner         0.0   0.0  1.0      0.0       1.0    0.0        1.0  \n",
       "         worse          0.0   1.0  0.0      1.0       0.0    0.0       -1.0  \n",
       "         youth          0.0   1.0  1.0      0.0       1.0    0.0        1.0  \n",
       "\n",
       "[3179 rows x 13 columns]"
      ]
     },
     "execution_count": 9,
     "metadata": {},
     "output_type": "execute_result"
    }
   ],
   "source": [
    "BOW_SENT_ALBUM"
   ]
  },
  {
   "cell_type": "markdown",
   "metadata": {},
   "source": [
    "### Add Album TF-IDF to B for weighting emotions"
   ]
  },
  {
   "cell_type": "code",
   "execution_count": 10,
   "metadata": {},
   "outputs": [],
   "source": [
    "tfidf = TFIDF_ALBUM.stack().to_frame()"
   ]
  },
  {
   "cell_type": "code",
   "execution_count": 11,
   "metadata": {},
   "outputs": [],
   "source": [
    "tfidf.columns = ['tfidf']\n",
    "tfidf.index = tfidf.index.rename(['album_id', 'term_str'])"
   ]
  },
  {
   "cell_type": "code",
   "execution_count": 12,
   "metadata": {},
   "outputs": [
    {
     "data": {
      "text/html": [
       "<div>\n",
       "<style scoped>\n",
       "    .dataframe tbody tr th:only-of-type {\n",
       "        vertical-align: middle;\n",
       "    }\n",
       "\n",
       "    .dataframe tbody tr th {\n",
       "        vertical-align: top;\n",
       "    }\n",
       "\n",
       "    .dataframe thead th {\n",
       "        text-align: right;\n",
       "    }\n",
       "</style>\n",
       "<table border=\"1\" class=\"dataframe\">\n",
       "  <thead>\n",
       "    <tr style=\"text-align: right;\">\n",
       "      <th></th>\n",
       "      <th></th>\n",
       "      <th>tfidf</th>\n",
       "    </tr>\n",
       "    <tr>\n",
       "      <th>album_id</th>\n",
       "      <th>term_str</th>\n",
       "      <th></th>\n",
       "    </tr>\n",
       "  </thead>\n",
       "  <tbody>\n",
       "    <tr>\n",
       "      <th rowspan=\"5\" valign=\"top\">0</th>\n",
       "      <th>1</th>\n",
       "      <td>0.0</td>\n",
       "    </tr>\n",
       "    <tr>\n",
       "      <th>10cc</th>\n",
       "      <td>0.0</td>\n",
       "    </tr>\n",
       "    <tr>\n",
       "      <th>10th</th>\n",
       "      <td>0.0</td>\n",
       "    </tr>\n",
       "    <tr>\n",
       "      <th>1st</th>\n",
       "      <td>0.0</td>\n",
       "    </tr>\n",
       "    <tr>\n",
       "      <th>2</th>\n",
       "      <td>0.0</td>\n",
       "    </tr>\n",
       "    <tr>\n",
       "      <th>...</th>\n",
       "      <th>...</th>\n",
       "      <td>...</td>\n",
       "    </tr>\n",
       "    <tr>\n",
       "      <th rowspan=\"5\" valign=\"top\">88</th>\n",
       "      <th>еh</th>\n",
       "      <td>0.0</td>\n",
       "    </tr>\n",
       "    <tr>\n",
       "      <th>еnding</th>\n",
       "      <td>0.0</td>\n",
       "    </tr>\n",
       "    <tr>\n",
       "      <th>еye</th>\n",
       "      <td>0.0</td>\n",
       "    </tr>\n",
       "    <tr>\n",
       "      <th>政権の腐敗</th>\n",
       "      <td>0.0</td>\n",
       "    </tr>\n",
       "    <tr>\n",
       "      <th>政権の腐敗敗</th>\n",
       "      <td>0.0</td>\n",
       "    </tr>\n",
       "  </tbody>\n",
       "</table>\n",
       "<p>810790 rows × 1 columns</p>\n",
       "</div>"
      ],
      "text/plain": [
       "                   tfidf\n",
       "album_id term_str       \n",
       "0        1           0.0\n",
       "         10cc        0.0\n",
       "         10th        0.0\n",
       "         1st         0.0\n",
       "         2           0.0\n",
       "...                  ...\n",
       "88       еh          0.0\n",
       "         еnding      0.0\n",
       "         еye         0.0\n",
       "         政権の腐敗       0.0\n",
       "         政権の腐敗敗      0.0\n",
       "\n",
       "[810790 rows x 1 columns]"
      ]
     },
     "execution_count": 12,
     "metadata": {},
     "output_type": "execute_result"
    }
   ],
   "source": [
    "tfidf"
   ]
  },
  {
   "cell_type": "code",
   "execution_count": 13,
   "metadata": {},
   "outputs": [
    {
     "data": {
      "text/html": [
       "<div>\n",
       "<style scoped>\n",
       "    .dataframe tbody tr th:only-of-type {\n",
       "        vertical-align: middle;\n",
       "    }\n",
       "\n",
       "    .dataframe tbody tr th {\n",
       "        vertical-align: top;\n",
       "    }\n",
       "\n",
       "    .dataframe thead th {\n",
       "        text-align: right;\n",
       "    }\n",
       "</style>\n",
       "<table border=\"1\" class=\"dataframe\">\n",
       "  <thead>\n",
       "    <tr style=\"text-align: right;\">\n",
       "      <th></th>\n",
       "      <th></th>\n",
       "      <th>n</th>\n",
       "      <th>tfidf</th>\n",
       "      <th>max_pos</th>\n",
       "      <th>album_dfidf</th>\n",
       "      <th>anger</th>\n",
       "      <th>anticipation</th>\n",
       "      <th>disgust</th>\n",
       "      <th>fear</th>\n",
       "      <th>joy</th>\n",
       "      <th>sadness</th>\n",
       "      <th>surprise</th>\n",
       "      <th>trust</th>\n",
       "      <th>sentiment</th>\n",
       "    </tr>\n",
       "    <tr>\n",
       "      <th>album_id</th>\n",
       "      <th>term_str</th>\n",
       "      <th></th>\n",
       "      <th></th>\n",
       "      <th></th>\n",
       "      <th></th>\n",
       "      <th></th>\n",
       "      <th></th>\n",
       "      <th></th>\n",
       "      <th></th>\n",
       "      <th></th>\n",
       "      <th></th>\n",
       "      <th></th>\n",
       "      <th></th>\n",
       "      <th></th>\n",
       "    </tr>\n",
       "  </thead>\n",
       "  <tbody>\n",
       "    <tr>\n",
       "      <th rowspan=\"5\" valign=\"top\">0</th>\n",
       "      <th>afraid</th>\n",
       "      <td>2</td>\n",
       "      <td>0.108454</td>\n",
       "      <td>JJ</td>\n",
       "      <td>44.899944</td>\n",
       "      <td>0.0</td>\n",
       "      <td>0.0</td>\n",
       "      <td>0.0</td>\n",
       "      <td>1.0</td>\n",
       "      <td>0.0</td>\n",
       "      <td>0.0</td>\n",
       "      <td>0.0</td>\n",
       "      <td>0.0</td>\n",
       "      <td>-1.0</td>\n",
       "    </tr>\n",
       "    <tr>\n",
       "      <th>beautiful</th>\n",
       "      <td>2</td>\n",
       "      <td>0.119656</td>\n",
       "      <td>JJ</td>\n",
       "      <td>43.076107</td>\n",
       "      <td>0.0</td>\n",
       "      <td>0.0</td>\n",
       "      <td>0.0</td>\n",
       "      <td>0.0</td>\n",
       "      <td>1.0</td>\n",
       "      <td>0.0</td>\n",
       "      <td>0.0</td>\n",
       "      <td>0.0</td>\n",
       "      <td>1.0</td>\n",
       "    </tr>\n",
       "    <tr>\n",
       "      <th>favorite</th>\n",
       "      <td>2</td>\n",
       "      <td>0.167572</td>\n",
       "      <td>JJ</td>\n",
       "      <td>33.179320</td>\n",
       "      <td>0.0</td>\n",
       "      <td>0.0</td>\n",
       "      <td>0.0</td>\n",
       "      <td>0.0</td>\n",
       "      <td>1.0</td>\n",
       "      <td>0.0</td>\n",
       "      <td>0.0</td>\n",
       "      <td>1.0</td>\n",
       "      <td>1.0</td>\n",
       "    </tr>\n",
       "    <tr>\n",
       "      <th>ill</th>\n",
       "      <td>4</td>\n",
       "      <td>0.027435</td>\n",
       "      <td>NNP</td>\n",
       "      <td>18.518606</td>\n",
       "      <td>1.0</td>\n",
       "      <td>0.0</td>\n",
       "      <td>1.0</td>\n",
       "      <td>1.0</td>\n",
       "      <td>0.0</td>\n",
       "      <td>1.0</td>\n",
       "      <td>0.0</td>\n",
       "      <td>0.0</td>\n",
       "      <td>-1.0</td>\n",
       "    </tr>\n",
       "    <tr>\n",
       "      <th>late</th>\n",
       "      <td>4</td>\n",
       "      <td>0.179750</td>\n",
       "      <td>JJ</td>\n",
       "      <td>46.914821</td>\n",
       "      <td>0.0</td>\n",
       "      <td>0.0</td>\n",
       "      <td>0.0</td>\n",
       "      <td>0.0</td>\n",
       "      <td>0.0</td>\n",
       "      <td>1.0</td>\n",
       "      <td>0.0</td>\n",
       "      <td>0.0</td>\n",
       "      <td>-1.0</td>\n",
       "    </tr>\n",
       "    <tr>\n",
       "      <th>...</th>\n",
       "      <th>...</th>\n",
       "      <td>...</td>\n",
       "      <td>...</td>\n",
       "      <td>...</td>\n",
       "      <td>...</td>\n",
       "      <td>...</td>\n",
       "      <td>...</td>\n",
       "      <td>...</td>\n",
       "      <td>...</td>\n",
       "      <td>...</td>\n",
       "      <td>...</td>\n",
       "      <td>...</td>\n",
       "      <td>...</td>\n",
       "      <td>...</td>\n",
       "    </tr>\n",
       "    <tr>\n",
       "      <th rowspan=\"5\" valign=\"top\">88</th>\n",
       "      <th>wear</th>\n",
       "      <td>1</td>\n",
       "      <td>0.016144</td>\n",
       "      <td>VBP</td>\n",
       "      <td>42.328312</td>\n",
       "      <td>0.0</td>\n",
       "      <td>0.0</td>\n",
       "      <td>0.0</td>\n",
       "      <td>0.0</td>\n",
       "      <td>0.0</td>\n",
       "      <td>0.0</td>\n",
       "      <td>0.0</td>\n",
       "      <td>1.0</td>\n",
       "      <td>-1.0</td>\n",
       "    </tr>\n",
       "    <tr>\n",
       "      <th>wild</th>\n",
       "      <td>1</td>\n",
       "      <td>0.014611</td>\n",
       "      <td>JJ</td>\n",
       "      <td>44.358640</td>\n",
       "      <td>0.0</td>\n",
       "      <td>0.0</td>\n",
       "      <td>0.0</td>\n",
       "      <td>0.0</td>\n",
       "      <td>0.0</td>\n",
       "      <td>0.0</td>\n",
       "      <td>1.0</td>\n",
       "      <td>0.0</td>\n",
       "      <td>-1.0</td>\n",
       "    </tr>\n",
       "    <tr>\n",
       "      <th>winner</th>\n",
       "      <td>1</td>\n",
       "      <td>0.030100</td>\n",
       "      <td>NNP</td>\n",
       "      <td>20.769027</td>\n",
       "      <td>0.0</td>\n",
       "      <td>1.0</td>\n",
       "      <td>0.0</td>\n",
       "      <td>0.0</td>\n",
       "      <td>1.0</td>\n",
       "      <td>0.0</td>\n",
       "      <td>1.0</td>\n",
       "      <td>0.0</td>\n",
       "      <td>1.0</td>\n",
       "    </tr>\n",
       "    <tr>\n",
       "      <th>worse</th>\n",
       "      <td>1</td>\n",
       "      <td>0.021857</td>\n",
       "      <td>JJR</td>\n",
       "      <td>33.179320</td>\n",
       "      <td>0.0</td>\n",
       "      <td>0.0</td>\n",
       "      <td>0.0</td>\n",
       "      <td>1.0</td>\n",
       "      <td>0.0</td>\n",
       "      <td>1.0</td>\n",
       "      <td>0.0</td>\n",
       "      <td>0.0</td>\n",
       "      <td>-1.0</td>\n",
       "    </tr>\n",
       "    <tr>\n",
       "      <th>youth</th>\n",
       "      <td>1</td>\n",
       "      <td>0.023955</td>\n",
       "      <td>NN</td>\n",
       "      <td>29.752276</td>\n",
       "      <td>1.0</td>\n",
       "      <td>1.0</td>\n",
       "      <td>0.0</td>\n",
       "      <td>1.0</td>\n",
       "      <td>1.0</td>\n",
       "      <td>0.0</td>\n",
       "      <td>1.0</td>\n",
       "      <td>0.0</td>\n",
       "      <td>1.0</td>\n",
       "    </tr>\n",
       "  </tbody>\n",
       "</table>\n",
       "<p>3179 rows × 13 columns</p>\n",
       "</div>"
      ],
      "text/plain": [
       "                    n     tfidf max_pos  album_dfidf  anger  anticipation  \\\n",
       "album_id term_str                                                           \n",
       "0        afraid     2  0.108454      JJ    44.899944    0.0           0.0   \n",
       "         beautiful  2  0.119656      JJ    43.076107    0.0           0.0   \n",
       "         favorite   2  0.167572      JJ    33.179320    0.0           0.0   \n",
       "         ill        4  0.027435     NNP    18.518606    1.0           0.0   \n",
       "         late       4  0.179750      JJ    46.914821    0.0           0.0   \n",
       "...                ..       ...     ...          ...    ...           ...   \n",
       "88       wear       1  0.016144     VBP    42.328312    0.0           0.0   \n",
       "         wild       1  0.014611      JJ    44.358640    0.0           0.0   \n",
       "         winner     1  0.030100     NNP    20.769027    0.0           1.0   \n",
       "         worse      1  0.021857     JJR    33.179320    0.0           0.0   \n",
       "         youth      1  0.023955      NN    29.752276    1.0           1.0   \n",
       "\n",
       "                    disgust  fear  joy  sadness  surprise  trust  sentiment  \n",
       "album_id term_str                                                            \n",
       "0        afraid         0.0   1.0  0.0      0.0       0.0    0.0       -1.0  \n",
       "         beautiful      0.0   0.0  1.0      0.0       0.0    0.0        1.0  \n",
       "         favorite       0.0   0.0  1.0      0.0       0.0    1.0        1.0  \n",
       "         ill            1.0   1.0  0.0      1.0       0.0    0.0       -1.0  \n",
       "         late           0.0   0.0  0.0      1.0       0.0    0.0       -1.0  \n",
       "...                     ...   ...  ...      ...       ...    ...        ...  \n",
       "88       wear           0.0   0.0  0.0      0.0       0.0    1.0       -1.0  \n",
       "         wild           0.0   0.0  0.0      0.0       1.0    0.0       -1.0  \n",
       "         winner         0.0   0.0  1.0      0.0       1.0    0.0        1.0  \n",
       "         worse          0.0   1.0  0.0      1.0       0.0    0.0       -1.0  \n",
       "         youth          0.0   1.0  1.0      0.0       1.0    0.0        1.0  \n",
       "\n",
       "[3179 rows x 13 columns]"
      ]
     },
     "execution_count": 13,
     "metadata": {},
     "output_type": "execute_result"
    }
   ],
   "source": [
    "BOW_SENT_ALBUM"
   ]
  },
  {
   "cell_type": "code",
   "execution_count": 14,
   "metadata": {},
   "outputs": [
    {
     "data": {
      "text/html": [
       "<div>\n",
       "<style scoped>\n",
       "    .dataframe tbody tr th:only-of-type {\n",
       "        vertical-align: middle;\n",
       "    }\n",
       "\n",
       "    .dataframe tbody tr th {\n",
       "        vertical-align: top;\n",
       "    }\n",
       "\n",
       "    .dataframe thead th {\n",
       "        text-align: right;\n",
       "    }\n",
       "</style>\n",
       "<table border=\"1\" class=\"dataframe\">\n",
       "  <thead>\n",
       "    <tr style=\"text-align: right;\">\n",
       "      <th></th>\n",
       "      <th></th>\n",
       "      <th>n</th>\n",
       "      <th>tfidf</th>\n",
       "      <th>max_pos</th>\n",
       "      <th>album_dfidf</th>\n",
       "      <th>anger</th>\n",
       "      <th>anticipation</th>\n",
       "      <th>disgust</th>\n",
       "      <th>fear</th>\n",
       "      <th>joy</th>\n",
       "      <th>sadness</th>\n",
       "      <th>surprise</th>\n",
       "      <th>trust</th>\n",
       "      <th>sentiment</th>\n",
       "    </tr>\n",
       "    <tr>\n",
       "      <th>album_id</th>\n",
       "      <th>term_str</th>\n",
       "      <th></th>\n",
       "      <th></th>\n",
       "      <th></th>\n",
       "      <th></th>\n",
       "      <th></th>\n",
       "      <th></th>\n",
       "      <th></th>\n",
       "      <th></th>\n",
       "      <th></th>\n",
       "      <th></th>\n",
       "      <th></th>\n",
       "      <th></th>\n",
       "      <th></th>\n",
       "    </tr>\n",
       "  </thead>\n",
       "  <tbody>\n",
       "    <tr>\n",
       "      <th rowspan=\"5\" valign=\"top\">0</th>\n",
       "      <th>afraid</th>\n",
       "      <td>2</td>\n",
       "      <td>0.108454</td>\n",
       "      <td>JJ</td>\n",
       "      <td>44.899944</td>\n",
       "      <td>0.0</td>\n",
       "      <td>0.0</td>\n",
       "      <td>0.0</td>\n",
       "      <td>1.0</td>\n",
       "      <td>0.0</td>\n",
       "      <td>0.0</td>\n",
       "      <td>0.0</td>\n",
       "      <td>0.0</td>\n",
       "      <td>-1.0</td>\n",
       "    </tr>\n",
       "    <tr>\n",
       "      <th>beautiful</th>\n",
       "      <td>2</td>\n",
       "      <td>0.119656</td>\n",
       "      <td>JJ</td>\n",
       "      <td>43.076107</td>\n",
       "      <td>0.0</td>\n",
       "      <td>0.0</td>\n",
       "      <td>0.0</td>\n",
       "      <td>0.0</td>\n",
       "      <td>1.0</td>\n",
       "      <td>0.0</td>\n",
       "      <td>0.0</td>\n",
       "      <td>0.0</td>\n",
       "      <td>1.0</td>\n",
       "    </tr>\n",
       "    <tr>\n",
       "      <th>favorite</th>\n",
       "      <td>2</td>\n",
       "      <td>0.167572</td>\n",
       "      <td>JJ</td>\n",
       "      <td>33.179320</td>\n",
       "      <td>0.0</td>\n",
       "      <td>0.0</td>\n",
       "      <td>0.0</td>\n",
       "      <td>0.0</td>\n",
       "      <td>1.0</td>\n",
       "      <td>0.0</td>\n",
       "      <td>0.0</td>\n",
       "      <td>1.0</td>\n",
       "      <td>1.0</td>\n",
       "    </tr>\n",
       "    <tr>\n",
       "      <th>ill</th>\n",
       "      <td>4</td>\n",
       "      <td>0.027435</td>\n",
       "      <td>NNP</td>\n",
       "      <td>18.518606</td>\n",
       "      <td>1.0</td>\n",
       "      <td>0.0</td>\n",
       "      <td>1.0</td>\n",
       "      <td>1.0</td>\n",
       "      <td>0.0</td>\n",
       "      <td>1.0</td>\n",
       "      <td>0.0</td>\n",
       "      <td>0.0</td>\n",
       "      <td>-1.0</td>\n",
       "    </tr>\n",
       "    <tr>\n",
       "      <th>late</th>\n",
       "      <td>4</td>\n",
       "      <td>0.179750</td>\n",
       "      <td>JJ</td>\n",
       "      <td>46.914821</td>\n",
       "      <td>0.0</td>\n",
       "      <td>0.0</td>\n",
       "      <td>0.0</td>\n",
       "      <td>0.0</td>\n",
       "      <td>0.0</td>\n",
       "      <td>1.0</td>\n",
       "      <td>0.0</td>\n",
       "      <td>0.0</td>\n",
       "      <td>-1.0</td>\n",
       "    </tr>\n",
       "  </tbody>\n",
       "</table>\n",
       "</div>"
      ],
      "text/plain": [
       "                    n     tfidf max_pos  album_dfidf  anger  anticipation  \\\n",
       "album_id term_str                                                           \n",
       "0        afraid     2  0.108454      JJ    44.899944    0.0           0.0   \n",
       "         beautiful  2  0.119656      JJ    43.076107    0.0           0.0   \n",
       "         favorite   2  0.167572      JJ    33.179320    0.0           0.0   \n",
       "         ill        4  0.027435     NNP    18.518606    1.0           0.0   \n",
       "         late       4  0.179750      JJ    46.914821    0.0           0.0   \n",
       "\n",
       "                    disgust  fear  joy  sadness  surprise  trust  sentiment  \n",
       "album_id term_str                                                            \n",
       "0        afraid         0.0   1.0  0.0      0.0       0.0    0.0       -1.0  \n",
       "         beautiful      0.0   0.0  1.0      0.0       0.0    0.0        1.0  \n",
       "         favorite       0.0   0.0  1.0      0.0       0.0    1.0        1.0  \n",
       "         ill            1.0   1.0  0.0      1.0       0.0    0.0       -1.0  \n",
       "         late           0.0   0.0  0.0      1.0       0.0    0.0       -1.0  "
      ]
     },
     "execution_count": 14,
     "metadata": {},
     "output_type": "execute_result"
    }
   ],
   "source": [
    "BOW_SENT_ALBUM.head()"
   ]
  },
  {
   "cell_type": "markdown",
   "metadata": {},
   "source": [
    "## Weight emotions by TFIDF"
   ]
  },
  {
   "cell_type": "code",
   "execution_count": 15,
   "metadata": {},
   "outputs": [],
   "source": [
    "for col in emo_cols:\n",
    "    BOW_SENT_ALBUM[col] = BOW_SENT_ALBUM[col] * BOW_SENT_ALBUM.tfidf"
   ]
  },
  {
   "cell_type": "code",
   "execution_count": 16,
   "metadata": {},
   "outputs": [
    {
     "data": {
      "text/html": [
       "<div>\n",
       "<style scoped>\n",
       "    .dataframe tbody tr th:only-of-type {\n",
       "        vertical-align: middle;\n",
       "    }\n",
       "\n",
       "    .dataframe tbody tr th {\n",
       "        vertical-align: top;\n",
       "    }\n",
       "\n",
       "    .dataframe thead th {\n",
       "        text-align: right;\n",
       "    }\n",
       "</style>\n",
       "<table border=\"1\" class=\"dataframe\">\n",
       "  <thead>\n",
       "    <tr style=\"text-align: right;\">\n",
       "      <th></th>\n",
       "      <th></th>\n",
       "      <th>n</th>\n",
       "      <th>tfidf</th>\n",
       "      <th>max_pos</th>\n",
       "      <th>album_dfidf</th>\n",
       "      <th>anger</th>\n",
       "      <th>anticipation</th>\n",
       "      <th>disgust</th>\n",
       "      <th>fear</th>\n",
       "      <th>joy</th>\n",
       "      <th>sadness</th>\n",
       "      <th>surprise</th>\n",
       "      <th>trust</th>\n",
       "      <th>sentiment</th>\n",
       "    </tr>\n",
       "    <tr>\n",
       "      <th>album_id</th>\n",
       "      <th>term_str</th>\n",
       "      <th></th>\n",
       "      <th></th>\n",
       "      <th></th>\n",
       "      <th></th>\n",
       "      <th></th>\n",
       "      <th></th>\n",
       "      <th></th>\n",
       "      <th></th>\n",
       "      <th></th>\n",
       "      <th></th>\n",
       "      <th></th>\n",
       "      <th></th>\n",
       "      <th></th>\n",
       "    </tr>\n",
       "  </thead>\n",
       "  <tbody>\n",
       "    <tr>\n",
       "      <th rowspan=\"5\" valign=\"top\">0</th>\n",
       "      <th>afraid</th>\n",
       "      <td>2</td>\n",
       "      <td>0.108454</td>\n",
       "      <td>JJ</td>\n",
       "      <td>44.899944</td>\n",
       "      <td>0.000000</td>\n",
       "      <td>0.0</td>\n",
       "      <td>0.000000</td>\n",
       "      <td>0.108454</td>\n",
       "      <td>0.000000</td>\n",
       "      <td>0.000000</td>\n",
       "      <td>0.0</td>\n",
       "      <td>0.000000</td>\n",
       "      <td>-0.108454</td>\n",
       "    </tr>\n",
       "    <tr>\n",
       "      <th>beautiful</th>\n",
       "      <td>2</td>\n",
       "      <td>0.119656</td>\n",
       "      <td>JJ</td>\n",
       "      <td>43.076107</td>\n",
       "      <td>0.000000</td>\n",
       "      <td>0.0</td>\n",
       "      <td>0.000000</td>\n",
       "      <td>0.000000</td>\n",
       "      <td>0.119656</td>\n",
       "      <td>0.000000</td>\n",
       "      <td>0.0</td>\n",
       "      <td>0.000000</td>\n",
       "      <td>0.119656</td>\n",
       "    </tr>\n",
       "    <tr>\n",
       "      <th>favorite</th>\n",
       "      <td>2</td>\n",
       "      <td>0.167572</td>\n",
       "      <td>JJ</td>\n",
       "      <td>33.179320</td>\n",
       "      <td>0.000000</td>\n",
       "      <td>0.0</td>\n",
       "      <td>0.000000</td>\n",
       "      <td>0.000000</td>\n",
       "      <td>0.167572</td>\n",
       "      <td>0.000000</td>\n",
       "      <td>0.0</td>\n",
       "      <td>0.167572</td>\n",
       "      <td>0.167572</td>\n",
       "    </tr>\n",
       "    <tr>\n",
       "      <th>ill</th>\n",
       "      <td>4</td>\n",
       "      <td>0.027435</td>\n",
       "      <td>NNP</td>\n",
       "      <td>18.518606</td>\n",
       "      <td>0.027435</td>\n",
       "      <td>0.0</td>\n",
       "      <td>0.027435</td>\n",
       "      <td>0.027435</td>\n",
       "      <td>0.000000</td>\n",
       "      <td>0.027435</td>\n",
       "      <td>0.0</td>\n",
       "      <td>0.000000</td>\n",
       "      <td>-0.027435</td>\n",
       "    </tr>\n",
       "    <tr>\n",
       "      <th>late</th>\n",
       "      <td>4</td>\n",
       "      <td>0.179750</td>\n",
       "      <td>JJ</td>\n",
       "      <td>46.914821</td>\n",
       "      <td>0.000000</td>\n",
       "      <td>0.0</td>\n",
       "      <td>0.000000</td>\n",
       "      <td>0.000000</td>\n",
       "      <td>0.000000</td>\n",
       "      <td>0.179750</td>\n",
       "      <td>0.0</td>\n",
       "      <td>0.000000</td>\n",
       "      <td>-0.179750</td>\n",
       "    </tr>\n",
       "  </tbody>\n",
       "</table>\n",
       "</div>"
      ],
      "text/plain": [
       "                    n     tfidf max_pos  album_dfidf     anger  anticipation  \\\n",
       "album_id term_str                                                              \n",
       "0        afraid     2  0.108454      JJ    44.899944  0.000000           0.0   \n",
       "         beautiful  2  0.119656      JJ    43.076107  0.000000           0.0   \n",
       "         favorite   2  0.167572      JJ    33.179320  0.000000           0.0   \n",
       "         ill        4  0.027435     NNP    18.518606  0.027435           0.0   \n",
       "         late       4  0.179750      JJ    46.914821  0.000000           0.0   \n",
       "\n",
       "                     disgust      fear       joy   sadness  surprise  \\\n",
       "album_id term_str                                                      \n",
       "0        afraid     0.000000  0.108454  0.000000  0.000000       0.0   \n",
       "         beautiful  0.000000  0.000000  0.119656  0.000000       0.0   \n",
       "         favorite   0.000000  0.000000  0.167572  0.000000       0.0   \n",
       "         ill        0.027435  0.027435  0.000000  0.027435       0.0   \n",
       "         late       0.000000  0.000000  0.000000  0.179750       0.0   \n",
       "\n",
       "                       trust  sentiment  \n",
       "album_id term_str                        \n",
       "0        afraid     0.000000  -0.108454  \n",
       "         beautiful  0.000000   0.119656  \n",
       "         favorite   0.167572   0.167572  \n",
       "         ill        0.000000  -0.027435  \n",
       "         late       0.000000  -0.179750  "
      ]
     },
     "execution_count": 16,
     "metadata": {},
     "output_type": "execute_result"
    }
   ],
   "source": [
    "BOW_SENT_ALBUM.head()"
   ]
  },
  {
   "cell_type": "markdown",
   "metadata": {},
   "source": [
    "## Compute Doc (`ALBUM`) sentiment "
   ]
  },
  {
   "cell_type": "code",
   "execution_count": 17,
   "metadata": {},
   "outputs": [],
   "source": [
    "ALBUM_SENT = BOW_SENT_ALBUM.groupby('album_id').agg({\n",
    "    'anger':'mean',\n",
    "    'anticipation':'mean',\n",
    "    'disgust':'mean',\n",
    "    'fear':'mean',\n",
    "    'joy':'mean',\n",
    "    'sadness':'mean',\n",
    "    'surprise':'mean',\n",
    "    'trust':'mean',\n",
    "    'sentiment':'mean'\n",
    "})"
   ]
  },
  {
   "cell_type": "code",
   "execution_count": 18,
   "metadata": {},
   "outputs": [
    {
     "data": {
      "text/html": [
       "<div>\n",
       "<style scoped>\n",
       "    .dataframe tbody tr th:only-of-type {\n",
       "        vertical-align: middle;\n",
       "    }\n",
       "\n",
       "    .dataframe tbody tr th {\n",
       "        vertical-align: top;\n",
       "    }\n",
       "\n",
       "    .dataframe thead th {\n",
       "        text-align: right;\n",
       "    }\n",
       "</style>\n",
       "<table border=\"1\" class=\"dataframe\">\n",
       "  <thead>\n",
       "    <tr style=\"text-align: right;\">\n",
       "      <th></th>\n",
       "      <th>anger</th>\n",
       "      <th>anticipation</th>\n",
       "      <th>disgust</th>\n",
       "      <th>fear</th>\n",
       "      <th>joy</th>\n",
       "      <th>sadness</th>\n",
       "      <th>surprise</th>\n",
       "      <th>trust</th>\n",
       "      <th>sentiment</th>\n",
       "    </tr>\n",
       "    <tr>\n",
       "      <th>album_id</th>\n",
       "      <th></th>\n",
       "      <th></th>\n",
       "      <th></th>\n",
       "      <th></th>\n",
       "      <th></th>\n",
       "      <th></th>\n",
       "      <th></th>\n",
       "      <th></th>\n",
       "      <th></th>\n",
       "    </tr>\n",
       "  </thead>\n",
       "  <tbody>\n",
       "    <tr>\n",
       "      <th>0</th>\n",
       "      <td>0.020283</td>\n",
       "      <td>0.063275</td>\n",
       "      <td>0.002494</td>\n",
       "      <td>0.018841</td>\n",
       "      <td>0.087754</td>\n",
       "      <td>0.036624</td>\n",
       "      <td>0.014451</td>\n",
       "      <td>0.018960</td>\n",
       "      <td>0.041270</td>\n",
       "    </tr>\n",
       "    <tr>\n",
       "      <th>1</th>\n",
       "      <td>0.021601</td>\n",
       "      <td>0.017820</td>\n",
       "      <td>0.026309</td>\n",
       "      <td>0.025889</td>\n",
       "      <td>0.036120</td>\n",
       "      <td>0.030183</td>\n",
       "      <td>0.017985</td>\n",
       "      <td>0.041885</td>\n",
       "      <td>-0.010675</td>\n",
       "    </tr>\n",
       "    <tr>\n",
       "      <th>2</th>\n",
       "      <td>0.016871</td>\n",
       "      <td>0.013524</td>\n",
       "      <td>0.002137</td>\n",
       "      <td>0.019329</td>\n",
       "      <td>0.024516</td>\n",
       "      <td>0.014734</td>\n",
       "      <td>0.009189</td>\n",
       "      <td>0.025015</td>\n",
       "      <td>0.000084</td>\n",
       "    </tr>\n",
       "    <tr>\n",
       "      <th>3</th>\n",
       "      <td>0.012333</td>\n",
       "      <td>0.013142</td>\n",
       "      <td>0.007488</td>\n",
       "      <td>0.012699</td>\n",
       "      <td>0.019197</td>\n",
       "      <td>0.015426</td>\n",
       "      <td>0.004752</td>\n",
       "      <td>0.018300</td>\n",
       "      <td>-0.022830</td>\n",
       "    </tr>\n",
       "    <tr>\n",
       "      <th>4</th>\n",
       "      <td>0.003188</td>\n",
       "      <td>0.008878</td>\n",
       "      <td>0.010771</td>\n",
       "      <td>0.110125</td>\n",
       "      <td>0.012022</td>\n",
       "      <td>0.135939</td>\n",
       "      <td>0.001276</td>\n",
       "      <td>0.012614</td>\n",
       "      <td>-0.083888</td>\n",
       "    </tr>\n",
       "    <tr>\n",
       "      <th>...</th>\n",
       "      <td>...</td>\n",
       "      <td>...</td>\n",
       "      <td>...</td>\n",
       "      <td>...</td>\n",
       "      <td>...</td>\n",
       "      <td>...</td>\n",
       "      <td>...</td>\n",
       "      <td>...</td>\n",
       "      <td>...</td>\n",
       "    </tr>\n",
       "    <tr>\n",
       "      <th>84</th>\n",
       "      <td>0.004510</td>\n",
       "      <td>0.003981</td>\n",
       "      <td>0.002295</td>\n",
       "      <td>0.006680</td>\n",
       "      <td>0.008632</td>\n",
       "      <td>0.007947</td>\n",
       "      <td>0.004917</td>\n",
       "      <td>0.006379</td>\n",
       "      <td>-0.001033</td>\n",
       "    </tr>\n",
       "    <tr>\n",
       "      <th>85</th>\n",
       "      <td>0.009039</td>\n",
       "      <td>0.007002</td>\n",
       "      <td>0.005170</td>\n",
       "      <td>0.012388</td>\n",
       "      <td>0.006133</td>\n",
       "      <td>0.014131</td>\n",
       "      <td>0.006676</td>\n",
       "      <td>0.006021</td>\n",
       "      <td>-0.012934</td>\n",
       "    </tr>\n",
       "    <tr>\n",
       "      <th>86</th>\n",
       "      <td>0.008639</td>\n",
       "      <td>0.007778</td>\n",
       "      <td>0.005612</td>\n",
       "      <td>0.013550</td>\n",
       "      <td>0.010430</td>\n",
       "      <td>0.016480</td>\n",
       "      <td>0.006277</td>\n",
       "      <td>0.006674</td>\n",
       "      <td>-0.008011</td>\n",
       "    </tr>\n",
       "    <tr>\n",
       "      <th>87</th>\n",
       "      <td>0.023018</td>\n",
       "      <td>0.016957</td>\n",
       "      <td>0.008009</td>\n",
       "      <td>0.017592</td>\n",
       "      <td>0.025181</td>\n",
       "      <td>0.015373</td>\n",
       "      <td>0.008802</td>\n",
       "      <td>0.025284</td>\n",
       "      <td>-0.006262</td>\n",
       "    </tr>\n",
       "    <tr>\n",
       "      <th>88</th>\n",
       "      <td>0.009468</td>\n",
       "      <td>0.007075</td>\n",
       "      <td>0.005552</td>\n",
       "      <td>0.010025</td>\n",
       "      <td>0.012312</td>\n",
       "      <td>0.012953</td>\n",
       "      <td>0.003445</td>\n",
       "      <td>0.008252</td>\n",
       "      <td>-0.004574</td>\n",
       "    </tr>\n",
       "  </tbody>\n",
       "</table>\n",
       "<p>89 rows × 9 columns</p>\n",
       "</div>"
      ],
      "text/plain": [
       "             anger  anticipation   disgust      fear       joy   sadness  \\\n",
       "album_id                                                                   \n",
       "0         0.020283      0.063275  0.002494  0.018841  0.087754  0.036624   \n",
       "1         0.021601      0.017820  0.026309  0.025889  0.036120  0.030183   \n",
       "2         0.016871      0.013524  0.002137  0.019329  0.024516  0.014734   \n",
       "3         0.012333      0.013142  0.007488  0.012699  0.019197  0.015426   \n",
       "4         0.003188      0.008878  0.010771  0.110125  0.012022  0.135939   \n",
       "...            ...           ...       ...       ...       ...       ...   \n",
       "84        0.004510      0.003981  0.002295  0.006680  0.008632  0.007947   \n",
       "85        0.009039      0.007002  0.005170  0.012388  0.006133  0.014131   \n",
       "86        0.008639      0.007778  0.005612  0.013550  0.010430  0.016480   \n",
       "87        0.023018      0.016957  0.008009  0.017592  0.025181  0.015373   \n",
       "88        0.009468      0.007075  0.005552  0.010025  0.012312  0.012953   \n",
       "\n",
       "          surprise     trust  sentiment  \n",
       "album_id                                 \n",
       "0         0.014451  0.018960   0.041270  \n",
       "1         0.017985  0.041885  -0.010675  \n",
       "2         0.009189  0.025015   0.000084  \n",
       "3         0.004752  0.018300  -0.022830  \n",
       "4         0.001276  0.012614  -0.083888  \n",
       "...            ...       ...        ...  \n",
       "84        0.004917  0.006379  -0.001033  \n",
       "85        0.006676  0.006021  -0.012934  \n",
       "86        0.006277  0.006674  -0.008011  \n",
       "87        0.008802  0.025284  -0.006262  \n",
       "88        0.003445  0.008252  -0.004574  \n",
       "\n",
       "[89 rows x 9 columns]"
      ]
     },
     "execution_count": 18,
     "metadata": {},
     "output_type": "execute_result"
    }
   ],
   "source": [
    "ALBUM_SENT"
   ]
  },
  {
   "cell_type": "markdown",
   "metadata": {},
   "source": [
    "## Add `ALBUM_SENT` to `LIB`"
   ]
  },
  {
   "cell_type": "code",
   "execution_count": 19,
   "metadata": {},
   "outputs": [],
   "source": [
    "LIB = LIB.join(ALBUM_SENT)"
   ]
  },
  {
   "cell_type": "code",
   "execution_count": 20,
   "metadata": {},
   "outputs": [],
   "source": [
    "LIB['datelen'] = LIB.release_date.apply(lambda x: len(x))"
   ]
  },
  {
   "cell_type": "code",
   "execution_count": 21,
   "metadata": {},
   "outputs": [],
   "source": [
    "LIB['year'] = LIB.release_date.apply(lambda x: x[:4])"
   ]
  },
  {
   "cell_type": "code",
   "execution_count": 22,
   "metadata": {},
   "outputs": [
    {
     "data": {
      "text/html": [
       "<div>\n",
       "<style scoped>\n",
       "    .dataframe tbody tr th:only-of-type {\n",
       "        vertical-align: middle;\n",
       "    }\n",
       "\n",
       "    .dataframe tbody tr th {\n",
       "        vertical-align: top;\n",
       "    }\n",
       "\n",
       "    .dataframe thead th {\n",
       "        text-align: right;\n",
       "    }\n",
       "</style>\n",
       "<table border=\"1\" class=\"dataframe\">\n",
       "  <thead>\n",
       "    <tr style=\"text-align: right;\">\n",
       "      <th></th>\n",
       "      <th>album_name</th>\n",
       "      <th>album_title</th>\n",
       "      <th>artist</th>\n",
       "      <th>source_file_path</th>\n",
       "      <th>song_regex</th>\n",
       "      <th>genres</th>\n",
       "      <th>release_date</th>\n",
       "      <th>label</th>\n",
       "      <th>mean_danceability</th>\n",
       "      <th>mean_energy</th>\n",
       "      <th>...</th>\n",
       "      <th>anticipation</th>\n",
       "      <th>disgust</th>\n",
       "      <th>fear</th>\n",
       "      <th>joy</th>\n",
       "      <th>sadness</th>\n",
       "      <th>surprise</th>\n",
       "      <th>trust</th>\n",
       "      <th>sentiment</th>\n",
       "      <th>datelen</th>\n",
       "      <th>year</th>\n",
       "    </tr>\n",
       "    <tr>\n",
       "      <th>album_id</th>\n",
       "      <th></th>\n",
       "      <th></th>\n",
       "      <th></th>\n",
       "      <th></th>\n",
       "      <th></th>\n",
       "      <th></th>\n",
       "      <th></th>\n",
       "      <th></th>\n",
       "      <th></th>\n",
       "      <th></th>\n",
       "      <th></th>\n",
       "      <th></th>\n",
       "      <th></th>\n",
       "      <th></th>\n",
       "      <th></th>\n",
       "      <th></th>\n",
       "      <th></th>\n",
       "      <th></th>\n",
       "      <th></th>\n",
       "      <th></th>\n",
       "      <th></th>\n",
       "    </tr>\n",
       "  </thead>\n",
       "  <tbody>\n",
       "    <tr>\n",
       "      <th>23</th>\n",
       "      <td>Forgiveness_Rock_Record</td>\n",
       "      <td>Forgiveness Rock Record</td>\n",
       "      <td>Broken Social Scene</td>\n",
       "      <td>../data/albums/Forgiveness_Rock_Record.txt</td>\n",
       "      <td>\\[Trackname:\\s[^\\]]+\\]</td>\n",
       "      <td>['alternative rock', 'baroque pop', 'canadian ...</td>\n",
       "      <td>2010</td>\n",
       "      <td>Arts &amp; Crafts Productions Inc.</td>\n",
       "      <td>0.530154</td>\n",
       "      <td>0.604846</td>\n",
       "      <td>...</td>\n",
       "      <td>0.004404</td>\n",
       "      <td>0.006094</td>\n",
       "      <td>0.017092</td>\n",
       "      <td>0.009252</td>\n",
       "      <td>0.011951</td>\n",
       "      <td>0.003594</td>\n",
       "      <td>0.008653</td>\n",
       "      <td>-0.010279</td>\n",
       "      <td>4</td>\n",
       "      <td>2010</td>\n",
       "    </tr>\n",
       "    <tr>\n",
       "      <th>27</th>\n",
       "      <td>Grow_Up_And_Blow_Away</td>\n",
       "      <td>Grow Up And Blow Away</td>\n",
       "      <td>Metric</td>\n",
       "      <td>../data/albums/Grow_Up_And_Blow_Away.txt</td>\n",
       "      <td>\\[Trackname:\\s[^\\]]+\\]</td>\n",
       "      <td>['canadian indie', 'canadian rock', 'indie roc...</td>\n",
       "      <td>2007</td>\n",
       "      <td>Last Gang</td>\n",
       "      <td>0.606800</td>\n",
       "      <td>0.632500</td>\n",
       "      <td>...</td>\n",
       "      <td>0.019460</td>\n",
       "      <td>0.015893</td>\n",
       "      <td>0.018831</td>\n",
       "      <td>0.021973</td>\n",
       "      <td>0.019147</td>\n",
       "      <td>0.008145</td>\n",
       "      <td>0.014796</td>\n",
       "      <td>-0.000094</td>\n",
       "      <td>4</td>\n",
       "      <td>2007</td>\n",
       "    </tr>\n",
       "    <tr>\n",
       "      <th>42</th>\n",
       "      <td>Live_It_Out</td>\n",
       "      <td>Live It Out</td>\n",
       "      <td>Metric</td>\n",
       "      <td>../data/albums/Live_It_Out.txt</td>\n",
       "      <td>\\[Trackname:\\s[^\\]]+\\]</td>\n",
       "      <td>['canadian indie', 'canadian rock', 'indie roc...</td>\n",
       "      <td>2005</td>\n",
       "      <td>Last Gang</td>\n",
       "      <td>0.521000</td>\n",
       "      <td>0.811400</td>\n",
       "      <td>...</td>\n",
       "      <td>0.014225</td>\n",
       "      <td>0.025498</td>\n",
       "      <td>0.033696</td>\n",
       "      <td>0.016546</td>\n",
       "      <td>0.011960</td>\n",
       "      <td>0.005047</td>\n",
       "      <td>0.034990</td>\n",
       "      <td>-0.019341</td>\n",
       "      <td>4</td>\n",
       "      <td>2005</td>\n",
       "    </tr>\n",
       "    <tr>\n",
       "      <th>49</th>\n",
       "      <td>Masterpiece_(2023_Remaster)</td>\n",
       "      <td>Masterpiece (2023 Remaster)</td>\n",
       "      <td>Big Thief</td>\n",
       "      <td>../data/albums/Masterpiece_(2023_Remaster).txt</td>\n",
       "      <td>\\[Trackname:\\s[^\\]]+\\]</td>\n",
       "      <td>['art pop', 'brooklyn indie', 'chamber pop', '...</td>\n",
       "      <td>2016</td>\n",
       "      <td>4AD</td>\n",
       "      <td>0.395167</td>\n",
       "      <td>0.509225</td>\n",
       "      <td>...</td>\n",
       "      <td>0.007626</td>\n",
       "      <td>0.005168</td>\n",
       "      <td>0.008739</td>\n",
       "      <td>0.011112</td>\n",
       "      <td>0.009152</td>\n",
       "      <td>0.004573</td>\n",
       "      <td>0.010184</td>\n",
       "      <td>0.001774</td>\n",
       "      <td>4</td>\n",
       "      <td>2016</td>\n",
       "    </tr>\n",
       "    <tr>\n",
       "      <th>52</th>\n",
       "      <td>Morning_Better_Last!</td>\n",
       "      <td>Morning Better Last!</td>\n",
       "      <td>Dirty Projectors</td>\n",
       "      <td>../data/albums/Morning_Better_Last!.txt</td>\n",
       "      <td>\\[Trackname:\\s[^\\]]+\\]</td>\n",
       "      <td>['art pop', 'brooklyn indie', 'indie rock', 'i...</td>\n",
       "      <td>2003</td>\n",
       "      <td>States Rights Records</td>\n",
       "      <td>0.484684</td>\n",
       "      <td>0.341511</td>\n",
       "      <td>...</td>\n",
       "      <td>0.011438</td>\n",
       "      <td>0.006431</td>\n",
       "      <td>0.010455</td>\n",
       "      <td>0.014063</td>\n",
       "      <td>0.013533</td>\n",
       "      <td>0.007237</td>\n",
       "      <td>0.021954</td>\n",
       "      <td>0.012021</td>\n",
       "      <td>4</td>\n",
       "      <td>2003</td>\n",
       "    </tr>\n",
       "  </tbody>\n",
       "</table>\n",
       "<p>5 rows × 31 columns</p>\n",
       "</div>"
      ],
      "text/plain": [
       "                           album_name                  album_title  \\\n",
       "album_id                                                             \n",
       "23            Forgiveness_Rock_Record      Forgiveness Rock Record   \n",
       "27              Grow_Up_And_Blow_Away        Grow Up And Blow Away   \n",
       "42                        Live_It_Out                  Live It Out   \n",
       "49        Masterpiece_(2023_Remaster)  Masterpiece (2023 Remaster)   \n",
       "52               Morning_Better_Last!         Morning Better Last!   \n",
       "\n",
       "                       artist                                source_file_path  \\\n",
       "album_id                                                                        \n",
       "23        Broken Social Scene      ../data/albums/Forgiveness_Rock_Record.txt   \n",
       "27                     Metric        ../data/albums/Grow_Up_And_Blow_Away.txt   \n",
       "42                     Metric                  ../data/albums/Live_It_Out.txt   \n",
       "49                  Big Thief  ../data/albums/Masterpiece_(2023_Remaster).txt   \n",
       "52           Dirty Projectors         ../data/albums/Morning_Better_Last!.txt   \n",
       "\n",
       "                      song_regex  \\\n",
       "album_id                           \n",
       "23        \\[Trackname:\\s[^\\]]+\\]   \n",
       "27        \\[Trackname:\\s[^\\]]+\\]   \n",
       "42        \\[Trackname:\\s[^\\]]+\\]   \n",
       "49        \\[Trackname:\\s[^\\]]+\\]   \n",
       "52        \\[Trackname:\\s[^\\]]+\\]   \n",
       "\n",
       "                                                     genres release_date  \\\n",
       "album_id                                                                   \n",
       "23        ['alternative rock', 'baroque pop', 'canadian ...         2010   \n",
       "27        ['canadian indie', 'canadian rock', 'indie roc...         2007   \n",
       "42        ['canadian indie', 'canadian rock', 'indie roc...         2005   \n",
       "49        ['art pop', 'brooklyn indie', 'chamber pop', '...         2016   \n",
       "52        ['art pop', 'brooklyn indie', 'indie rock', 'i...         2003   \n",
       "\n",
       "                                   label  mean_danceability  mean_energy  ...  \\\n",
       "album_id                                                                  ...   \n",
       "23        Arts & Crafts Productions Inc.           0.530154     0.604846  ...   \n",
       "27                             Last Gang           0.606800     0.632500  ...   \n",
       "42                             Last Gang           0.521000     0.811400  ...   \n",
       "49                                   4AD           0.395167     0.509225  ...   \n",
       "52                 States Rights Records           0.484684     0.341511  ...   \n",
       "\n",
       "          anticipation   disgust      fear       joy   sadness  surprise  \\\n",
       "album_id                                                                   \n",
       "23            0.004404  0.006094  0.017092  0.009252  0.011951  0.003594   \n",
       "27            0.019460  0.015893  0.018831  0.021973  0.019147  0.008145   \n",
       "42            0.014225  0.025498  0.033696  0.016546  0.011960  0.005047   \n",
       "49            0.007626  0.005168  0.008739  0.011112  0.009152  0.004573   \n",
       "52            0.011438  0.006431  0.010455  0.014063  0.013533  0.007237   \n",
       "\n",
       "             trust  sentiment  datelen  year  \n",
       "album_id                                      \n",
       "23        0.008653  -0.010279        4  2010  \n",
       "27        0.014796  -0.000094        4  2007  \n",
       "42        0.034990  -0.019341        4  2005  \n",
       "49        0.010184   0.001774        4  2016  \n",
       "52        0.021954   0.012021        4  2003  \n",
       "\n",
       "[5 rows x 31 columns]"
      ]
     },
     "execution_count": 22,
     "metadata": {},
     "output_type": "execute_result"
    }
   ],
   "source": [
    "LIB[LIB.datelen == 4]"
   ]
  },
  {
   "cell_type": "markdown",
   "metadata": {},
   "source": [
    "### Manual date editing"
   ]
  },
  {
   "cell_type": "code",
   "execution_count": 23,
   "metadata": {},
   "outputs": [],
   "source": [
    "LIB.loc[23, 'release_date'] = '2010-05-04'\n",
    "LIB.loc[27, 'release_date'] = '2007-06-26'\n",
    "LIB.loc[42, 'release_date'] = '2005-09-27'\n",
    "LIB.loc[49, 'release_date'] = '2016-05-27'\n",
    "LIB.loc[52, 'release_date'] = '2003-09-01'"
   ]
  },
  {
   "cell_type": "markdown",
   "metadata": {},
   "source": [
    "### Convert `release_date` to datetime"
   ]
  },
  {
   "cell_type": "code",
   "execution_count": 24,
   "metadata": {},
   "outputs": [],
   "source": [
    "LIB.release_date = LIB.release_date.astype('datetime64[ns]')"
   ]
  },
  {
   "cell_type": "markdown",
   "metadata": {},
   "source": [
    "## Plot sentiment over time"
   ]
  },
  {
   "cell_type": "markdown",
   "metadata": {},
   "source": [
    "#### Mean sentiment by year"
   ]
  },
  {
   "cell_type": "code",
   "execution_count": 25,
   "metadata": {},
   "outputs": [
    {
     "data": {
      "image/png": "[encoded data removed]",
      "text/plain": [
       "<Figure size 640x480 with 1 Axes>"
      ]
     },
     "metadata": {},
     "output_type": "display_data"
    }
   ],
   "source": [
    "plot = sns.lineplot(data=LIB.groupby('year').agg({'sentiment':'mean'}), x='year', y='sentiment')\n",
    "plot.tick_params(axis='x', rotation=90)"
   ]
  },
  {
   "cell_type": "code",
   "execution_count": 26,
   "metadata": {},
   "outputs": [
    {
     "data": {
      "text/html": [
       "<div>\n",
       "<style scoped>\n",
       "    .dataframe tbody tr th:only-of-type {\n",
       "        vertical-align: middle;\n",
       "    }\n",
       "\n",
       "    .dataframe tbody tr th {\n",
       "        vertical-align: top;\n",
       "    }\n",
       "\n",
       "    .dataframe thead th {\n",
       "        text-align: right;\n",
       "    }\n",
       "</style>\n",
       "<table border=\"1\" class=\"dataframe\">\n",
       "  <thead>\n",
       "    <tr style=\"text-align: right;\">\n",
       "      <th></th>\n",
       "      <th>album_name</th>\n",
       "      <th>album_title</th>\n",
       "      <th>artist</th>\n",
       "      <th>source_file_path</th>\n",
       "      <th>song_regex</th>\n",
       "      <th>genres</th>\n",
       "      <th>release_date</th>\n",
       "      <th>label</th>\n",
       "      <th>mean_danceability</th>\n",
       "      <th>mean_energy</th>\n",
       "      <th>...</th>\n",
       "      <th>anticipation</th>\n",
       "      <th>disgust</th>\n",
       "      <th>fear</th>\n",
       "      <th>joy</th>\n",
       "      <th>sadness</th>\n",
       "      <th>surprise</th>\n",
       "      <th>trust</th>\n",
       "      <th>sentiment</th>\n",
       "      <th>datelen</th>\n",
       "      <th>year</th>\n",
       "    </tr>\n",
       "    <tr>\n",
       "      <th>album_id</th>\n",
       "      <th></th>\n",
       "      <th></th>\n",
       "      <th></th>\n",
       "      <th></th>\n",
       "      <th></th>\n",
       "      <th></th>\n",
       "      <th></th>\n",
       "      <th></th>\n",
       "      <th></th>\n",
       "      <th></th>\n",
       "      <th></th>\n",
       "      <th></th>\n",
       "      <th></th>\n",
       "      <th></th>\n",
       "      <th></th>\n",
       "      <th></th>\n",
       "      <th></th>\n",
       "      <th></th>\n",
       "      <th></th>\n",
       "      <th></th>\n",
       "      <th></th>\n",
       "    </tr>\n",
       "  </thead>\n",
       "  <tbody>\n",
       "    <tr>\n",
       "      <th>4</th>\n",
       "      <td>Amnesiac</td>\n",
       "      <td>Amnesiac</td>\n",
       "      <td>Radiohead</td>\n",
       "      <td>../data/albums/Amnesiac.txt</td>\n",
       "      <td>\\[Trackname:\\s[^\\]]+\\]</td>\n",
       "      <td>['alternative rock', 'art rock', 'melancholia'...</td>\n",
       "      <td>2001-03-12</td>\n",
       "      <td>XL Recordings</td>\n",
       "      <td>0.408500</td>\n",
       "      <td>0.495100</td>\n",
       "      <td>...</td>\n",
       "      <td>0.008878</td>\n",
       "      <td>0.010771</td>\n",
       "      <td>0.110125</td>\n",
       "      <td>0.012022</td>\n",
       "      <td>0.135939</td>\n",
       "      <td>0.001276</td>\n",
       "      <td>0.012614</td>\n",
       "      <td>-0.083888</td>\n",
       "      <td>10</td>\n",
       "      <td>2001</td>\n",
       "    </tr>\n",
       "    <tr>\n",
       "      <th>21</th>\n",
       "      <td>Feel_Good_Lost</td>\n",
       "      <td>Feel Good Lost</td>\n",
       "      <td>Broken Social Scene</td>\n",
       "      <td>../data/albums/Feel_Good_Lost.txt</td>\n",
       "      <td>\\[Trackname:\\s[^\\]]+\\]</td>\n",
       "      <td>['alternative rock', 'baroque pop', 'canadian ...</td>\n",
       "      <td>2001-03-06</td>\n",
       "      <td>Arts &amp; Crafts Productions Inc.</td>\n",
       "      <td>0.485333</td>\n",
       "      <td>0.462667</td>\n",
       "      <td>...</td>\n",
       "      <td>0.000000</td>\n",
       "      <td>0.000000</td>\n",
       "      <td>0.499603</td>\n",
       "      <td>0.000000</td>\n",
       "      <td>0.499603</td>\n",
       "      <td>0.000000</td>\n",
       "      <td>0.000000</td>\n",
       "      <td>-0.499603</td>\n",
       "      <td>10</td>\n",
       "      <td>2001</td>\n",
       "    </tr>\n",
       "  </tbody>\n",
       "</table>\n",
       "<p>2 rows × 31 columns</p>\n",
       "</div>"
      ],
      "text/plain": [
       "              album_name     album_title               artist  \\\n",
       "album_id                                                        \n",
       "4               Amnesiac        Amnesiac            Radiohead   \n",
       "21        Feel_Good_Lost  Feel Good Lost  Broken Social Scene   \n",
       "\n",
       "                           source_file_path              song_regex  \\\n",
       "album_id                                                              \n",
       "4               ../data/albums/Amnesiac.txt  \\[Trackname:\\s[^\\]]+\\]   \n",
       "21        ../data/albums/Feel_Good_Lost.txt  \\[Trackname:\\s[^\\]]+\\]   \n",
       "\n",
       "                                                     genres release_date  \\\n",
       "album_id                                                                   \n",
       "4         ['alternative rock', 'art rock', 'melancholia'...   2001-03-12   \n",
       "21        ['alternative rock', 'baroque pop', 'canadian ...   2001-03-06   \n",
       "\n",
       "                                   label  mean_danceability  mean_energy  ...  \\\n",
       "album_id                                                                  ...   \n",
       "4                          XL Recordings           0.408500     0.495100  ...   \n",
       "21        Arts & Crafts Productions Inc.           0.485333     0.462667  ...   \n",
       "\n",
       "          anticipation   disgust      fear       joy   sadness  surprise  \\\n",
       "album_id                                                                   \n",
       "4             0.008878  0.010771  0.110125  0.012022  0.135939  0.001276   \n",
       "21            0.000000  0.000000  0.499603  0.000000  0.499603  0.000000   \n",
       "\n",
       "             trust  sentiment  datelen  year  \n",
       "album_id                                      \n",
       "4         0.012614  -0.083888       10  2001  \n",
       "21        0.000000  -0.499603       10  2001  \n",
       "\n",
       "[2 rows x 31 columns]"
      ]
     },
     "execution_count": 26,
     "metadata": {},
     "output_type": "execute_result"
    }
   ],
   "source": [
    "LIB[LIB.year == '2001']"
   ]
  },
  {
   "cell_type": "code",
   "execution_count": 27,
   "metadata": {},
   "outputs": [
    {
     "data": {
      "text/plain": [
       "157"
      ]
     },
     "execution_count": 27,
     "metadata": {},
     "output_type": "execute_result"
    }
   ],
   "source": [
    "LIB.loc[21].album_term_count"
   ]
  },
  {
   "cell_type": "markdown",
   "metadata": {},
   "source": [
    "It looks like 2001 is a super sad year, but it turns out this is due to there only being two albums in my forpus from this year, and one is mostly instrumental, with two very short, very sad songs. This highlights sensitivity of sentiment analysis to document size."
   ]
  },
  {
   "cell_type": "markdown",
   "metadata": {},
   "source": [
    "## Possible Riff 1\n",
    "Plot sentiment by artist."
   ]
  },
  {
   "cell_type": "code",
   "execution_count": 28,
   "metadata": {},
   "outputs": [],
   "source": [
    "sns.set()"
   ]
  },
  {
   "cell_type": "code",
   "execution_count": 51,
   "metadata": {},
   "outputs": [
    {
     "data": {
      "text/plain": [
       "Text(0.5, 1.0, 'Artist Emotions')"
      ]
     },
     "execution_count": 51,
     "metadata": {},
     "output_type": "execute_result"
    },
    {
     "data": {
      "image/png": "[encoded data removed]",
      "text/plain": [
       "<Figure size 1500x3000 with 1 Axes>"
      ]
     },
     "metadata": {},
     "output_type": "display_data"
    }
   ],
   "source": [
    "plot = LIB.groupby('artist')[emo_cols].mean().plot.barh(figsize=(15,30))\n",
    "plot.set_title(\"Artist Emotions\")"
   ]
  },
  {
   "cell_type": "code",
   "execution_count": 30,
   "metadata": {},
   "outputs": [
    {
     "data": {
      "image/png": "[encoded data removed]",
      "text/plain": [
       "<Figure size 640x480 with 1 Axes>"
      ]
     },
     "metadata": {},
     "output_type": "display_data"
    }
   ],
   "source": [
    "plot = sns.scatterplot(data=LIB.groupby('artist').agg({'anticipation':'mean'}), x='artist', y='anticipation')\n",
    "plot.set_title('Sentiment by Artist')\n",
    "plot.tick_params(axis='x', rotation=90)"
   ]
  },
  {
   "cell_type": "markdown",
   "metadata": {},
   "source": [
    "## Possible Riff 2\n",
    "\n",
    "* Graph sentiment by artist over albums\n",
    "    * Do artists have sentiment arcs over albums?\n",
    "\n",
    "Or\n",
    "\n",
    "* Graph sentiment by song within album\n",
    "    * Do albums have sentiment arcs over songs?"
   ]
  },
  {
   "cell_type": "markdown",
   "metadata": {},
   "source": [
    "## Riff"
   ]
  },
  {
   "cell_type": "markdown",
   "metadata": {},
   "source": [
    "## Merge `VOCAB` with `BOW_SONG`"
   ]
  },
  {
   "cell_type": "code",
   "execution_count": 31,
   "metadata": {},
   "outputs": [],
   "source": [
    "BOW_SENT_SONG = BOW_SONG.join(VOCAB_SENT[['max_pos', 'song_dfidf'] + emo_cols], on='term_str', rsuffix='_v').dropna()"
   ]
  },
  {
   "cell_type": "code",
   "execution_count": 32,
   "metadata": {},
   "outputs": [
    {
     "data": {
      "text/html": [
       "<div>\n",
       "<style scoped>\n",
       "    .dataframe tbody tr th:only-of-type {\n",
       "        vertical-align: middle;\n",
       "    }\n",
       "\n",
       "    .dataframe tbody tr th {\n",
       "        vertical-align: top;\n",
       "    }\n",
       "\n",
       "    .dataframe thead th {\n",
       "        text-align: right;\n",
       "    }\n",
       "</style>\n",
       "<table border=\"1\" class=\"dataframe\">\n",
       "  <thead>\n",
       "    <tr style=\"text-align: right;\">\n",
       "      <th></th>\n",
       "      <th></th>\n",
       "      <th></th>\n",
       "      <th>n</th>\n",
       "      <th>max_pos</th>\n",
       "      <th>song_dfidf</th>\n",
       "      <th>anger</th>\n",
       "      <th>anticipation</th>\n",
       "      <th>disgust</th>\n",
       "      <th>fear</th>\n",
       "      <th>joy</th>\n",
       "      <th>sadness</th>\n",
       "      <th>surprise</th>\n",
       "      <th>trust</th>\n",
       "      <th>sentiment</th>\n",
       "    </tr>\n",
       "    <tr>\n",
       "      <th>album_id</th>\n",
       "      <th>song_num</th>\n",
       "      <th>term_str</th>\n",
       "      <th></th>\n",
       "      <th></th>\n",
       "      <th></th>\n",
       "      <th></th>\n",
       "      <th></th>\n",
       "      <th></th>\n",
       "      <th></th>\n",
       "      <th></th>\n",
       "      <th></th>\n",
       "      <th></th>\n",
       "      <th></th>\n",
       "      <th></th>\n",
       "    </tr>\n",
       "  </thead>\n",
       "  <tbody>\n",
       "    <tr>\n",
       "      <th rowspan=\"5\" valign=\"top\">0</th>\n",
       "      <th rowspan=\"5\" valign=\"top\">0</th>\n",
       "      <th>afraid</th>\n",
       "      <td>2</td>\n",
       "      <td>JJ</td>\n",
       "      <td>153.206219</td>\n",
       "      <td>0.0</td>\n",
       "      <td>0.0</td>\n",
       "      <td>0.0</td>\n",
       "      <td>1.0</td>\n",
       "      <td>0.0</td>\n",
       "      <td>0.0</td>\n",
       "      <td>0.0</td>\n",
       "      <td>0.0</td>\n",
       "      <td>-1.0</td>\n",
       "    </tr>\n",
       "    <tr>\n",
       "      <th>beautiful</th>\n",
       "      <td>2</td>\n",
       "      <td>JJ</td>\n",
       "      <td>127.472878</td>\n",
       "      <td>0.0</td>\n",
       "      <td>0.0</td>\n",
       "      <td>0.0</td>\n",
       "      <td>0.0</td>\n",
       "      <td>1.0</td>\n",
       "      <td>0.0</td>\n",
       "      <td>0.0</td>\n",
       "      <td>0.0</td>\n",
       "      <td>1.0</td>\n",
       "    </tr>\n",
       "    <tr>\n",
       "      <th>favorite</th>\n",
       "      <td>2</td>\n",
       "      <td>JJ</td>\n",
       "      <td>75.736439</td>\n",
       "      <td>0.0</td>\n",
       "      <td>0.0</td>\n",
       "      <td>0.0</td>\n",
       "      <td>0.0</td>\n",
       "      <td>1.0</td>\n",
       "      <td>0.0</td>\n",
       "      <td>0.0</td>\n",
       "      <td>1.0</td>\n",
       "      <td>1.0</td>\n",
       "    </tr>\n",
       "    <tr>\n",
       "      <th>ill</th>\n",
       "      <td>4</td>\n",
       "      <td>NNP</td>\n",
       "      <td>433.764060</td>\n",
       "      <td>1.0</td>\n",
       "      <td>0.0</td>\n",
       "      <td>1.0</td>\n",
       "      <td>1.0</td>\n",
       "      <td>0.0</td>\n",
       "      <td>1.0</td>\n",
       "      <td>0.0</td>\n",
       "      <td>0.0</td>\n",
       "      <td>-1.0</td>\n",
       "    </tr>\n",
       "    <tr>\n",
       "      <th>love</th>\n",
       "      <td>6</td>\n",
       "      <td>NN</td>\n",
       "      <td>480.125144</td>\n",
       "      <td>0.0</td>\n",
       "      <td>0.0</td>\n",
       "      <td>0.0</td>\n",
       "      <td>0.0</td>\n",
       "      <td>1.0</td>\n",
       "      <td>0.0</td>\n",
       "      <td>0.0</td>\n",
       "      <td>0.0</td>\n",
       "      <td>1.0</td>\n",
       "    </tr>\n",
       "    <tr>\n",
       "      <th>...</th>\n",
       "      <th>...</th>\n",
       "      <th>...</th>\n",
       "      <td>...</td>\n",
       "      <td>...</td>\n",
       "      <td>...</td>\n",
       "      <td>...</td>\n",
       "      <td>...</td>\n",
       "      <td>...</td>\n",
       "      <td>...</td>\n",
       "      <td>...</td>\n",
       "      <td>...</td>\n",
       "      <td>...</td>\n",
       "      <td>...</td>\n",
       "      <td>...</td>\n",
       "    </tr>\n",
       "    <tr>\n",
       "      <th rowspan=\"5\" valign=\"top\">88</th>\n",
       "      <th>8</th>\n",
       "      <th>shit</th>\n",
       "      <td>1</td>\n",
       "      <td>NN</td>\n",
       "      <td>131.311905</td>\n",
       "      <td>1.0</td>\n",
       "      <td>0.0</td>\n",
       "      <td>1.0</td>\n",
       "      <td>0.0</td>\n",
       "      <td>0.0</td>\n",
       "      <td>0.0</td>\n",
       "      <td>0.0</td>\n",
       "      <td>0.0</td>\n",
       "      <td>-1.0</td>\n",
       "    </tr>\n",
       "    <tr>\n",
       "      <th rowspan=\"4\" valign=\"top\">9</th>\n",
       "      <th>bad</th>\n",
       "      <td>1</td>\n",
       "      <td>JJ</td>\n",
       "      <td>209.799505</td>\n",
       "      <td>1.0</td>\n",
       "      <td>0.0</td>\n",
       "      <td>1.0</td>\n",
       "      <td>1.0</td>\n",
       "      <td>0.0</td>\n",
       "      <td>1.0</td>\n",
       "      <td>0.0</td>\n",
       "      <td>0.0</td>\n",
       "      <td>-1.0</td>\n",
       "    </tr>\n",
       "    <tr>\n",
       "      <th>black</th>\n",
       "      <td>6</td>\n",
       "      <td>JJ</td>\n",
       "      <td>226.323498</td>\n",
       "      <td>0.0</td>\n",
       "      <td>0.0</td>\n",
       "      <td>0.0</td>\n",
       "      <td>0.0</td>\n",
       "      <td>0.0</td>\n",
       "      <td>1.0</td>\n",
       "      <td>0.0</td>\n",
       "      <td>0.0</td>\n",
       "      <td>-1.0</td>\n",
       "    </tr>\n",
       "    <tr>\n",
       "      <th>fell</th>\n",
       "      <td>1</td>\n",
       "      <td>VBD</td>\n",
       "      <td>103.075333</td>\n",
       "      <td>0.0</td>\n",
       "      <td>0.0</td>\n",
       "      <td>0.0</td>\n",
       "      <td>0.0</td>\n",
       "      <td>0.0</td>\n",
       "      <td>1.0</td>\n",
       "      <td>0.0</td>\n",
       "      <td>0.0</td>\n",
       "      <td>-1.0</td>\n",
       "    </tr>\n",
       "    <tr>\n",
       "      <th>friend</th>\n",
       "      <td>1</td>\n",
       "      <td>NN</td>\n",
       "      <td>170.150666</td>\n",
       "      <td>0.0</td>\n",
       "      <td>0.0</td>\n",
       "      <td>0.0</td>\n",
       "      <td>0.0</td>\n",
       "      <td>1.0</td>\n",
       "      <td>0.0</td>\n",
       "      <td>0.0</td>\n",
       "      <td>1.0</td>\n",
       "      <td>1.0</td>\n",
       "    </tr>\n",
       "  </tbody>\n",
       "</table>\n",
       "<p>4255 rows × 12 columns</p>\n",
       "</div>"
      ],
      "text/plain": [
       "                             n max_pos  song_dfidf  anger  anticipation  \\\n",
       "album_id song_num term_str                                                \n",
       "0        0        afraid     2      JJ  153.206219    0.0           0.0   \n",
       "                  beautiful  2      JJ  127.472878    0.0           0.0   \n",
       "                  favorite   2      JJ   75.736439    0.0           0.0   \n",
       "                  ill        4     NNP  433.764060    1.0           0.0   \n",
       "                  love       6      NN  480.125144    0.0           0.0   \n",
       "...                         ..     ...         ...    ...           ...   \n",
       "88       8        shit       1      NN  131.311905    1.0           0.0   \n",
       "         9        bad        1      JJ  209.799505    1.0           0.0   \n",
       "                  black      6      JJ  226.323498    0.0           0.0   \n",
       "                  fell       1     VBD  103.075333    0.0           0.0   \n",
       "                  friend     1      NN  170.150666    0.0           0.0   \n",
       "\n",
       "                             disgust  fear  joy  sadness  surprise  trust  \\\n",
       "album_id song_num term_str                                                  \n",
       "0        0        afraid         0.0   1.0  0.0      0.0       0.0    0.0   \n",
       "                  beautiful      0.0   0.0  1.0      0.0       0.0    0.0   \n",
       "                  favorite       0.0   0.0  1.0      0.0       0.0    1.0   \n",
       "                  ill            1.0   1.0  0.0      1.0       0.0    0.0   \n",
       "                  love           0.0   0.0  1.0      0.0       0.0    0.0   \n",
       "...                              ...   ...  ...      ...       ...    ...   \n",
       "88       8        shit           1.0   0.0  0.0      0.0       0.0    0.0   \n",
       "         9        bad            1.0   1.0  0.0      1.0       0.0    0.0   \n",
       "                  black          0.0   0.0  0.0      1.0       0.0    0.0   \n",
       "                  fell           0.0   0.0  0.0      1.0       0.0    0.0   \n",
       "                  friend         0.0   0.0  1.0      0.0       0.0    1.0   \n",
       "\n",
       "                             sentiment  \n",
       "album_id song_num term_str              \n",
       "0        0        afraid          -1.0  \n",
       "                  beautiful        1.0  \n",
       "                  favorite         1.0  \n",
       "                  ill             -1.0  \n",
       "                  love             1.0  \n",
       "...                                ...  \n",
       "88       8        shit            -1.0  \n",
       "         9        bad             -1.0  \n",
       "                  black           -1.0  \n",
       "                  fell            -1.0  \n",
       "                  friend           1.0  \n",
       "\n",
       "[4255 rows x 12 columns]"
      ]
     },
     "execution_count": 32,
     "metadata": {},
     "output_type": "execute_result"
    }
   ],
   "source": [
    "BOW_SENT_SONG"
   ]
  },
  {
   "cell_type": "markdown",
   "metadata": {},
   "source": [
    "### Add Album TF-IDF to B for weighting emotions"
   ]
  },
  {
   "cell_type": "code",
   "execution_count": 33,
   "metadata": {},
   "outputs": [],
   "source": [
    "tfidf_song = TFIDF_SONG.stack().to_frame()"
   ]
  },
  {
   "cell_type": "code",
   "execution_count": 34,
   "metadata": {},
   "outputs": [],
   "source": [
    "tfidf_song = tfidf_song.reset_index()\\\n",
    "    .rename(columns={'level_2':'term_str', 0:'tfidf'})\\\n",
    "    .set_index(['album_id', 'song_num', 'term_str'])"
   ]
  },
  {
   "cell_type": "code",
   "execution_count": 35,
   "metadata": {},
   "outputs": [],
   "source": [
    "BOW_SENT_SONG = BOW_SENT_SONG.join(tfidf_song, how='inner')"
   ]
  },
  {
   "cell_type": "code",
   "execution_count": 36,
   "metadata": {},
   "outputs": [
    {
     "data": {
      "text/html": [
       "<div>\n",
       "<style scoped>\n",
       "    .dataframe tbody tr th:only-of-type {\n",
       "        vertical-align: middle;\n",
       "    }\n",
       "\n",
       "    .dataframe tbody tr th {\n",
       "        vertical-align: top;\n",
       "    }\n",
       "\n",
       "    .dataframe thead th {\n",
       "        text-align: right;\n",
       "    }\n",
       "</style>\n",
       "<table border=\"1\" class=\"dataframe\">\n",
       "  <thead>\n",
       "    <tr style=\"text-align: right;\">\n",
       "      <th></th>\n",
       "      <th></th>\n",
       "      <th></th>\n",
       "      <th>n</th>\n",
       "      <th>max_pos</th>\n",
       "      <th>song_dfidf</th>\n",
       "      <th>anger</th>\n",
       "      <th>anticipation</th>\n",
       "      <th>disgust</th>\n",
       "      <th>fear</th>\n",
       "      <th>joy</th>\n",
       "      <th>sadness</th>\n",
       "      <th>surprise</th>\n",
       "      <th>trust</th>\n",
       "      <th>sentiment</th>\n",
       "      <th>tfidf</th>\n",
       "    </tr>\n",
       "    <tr>\n",
       "      <th>album_id</th>\n",
       "      <th>song_num</th>\n",
       "      <th>term_str</th>\n",
       "      <th></th>\n",
       "      <th></th>\n",
       "      <th></th>\n",
       "      <th></th>\n",
       "      <th></th>\n",
       "      <th></th>\n",
       "      <th></th>\n",
       "      <th></th>\n",
       "      <th></th>\n",
       "      <th></th>\n",
       "      <th></th>\n",
       "      <th></th>\n",
       "      <th></th>\n",
       "    </tr>\n",
       "  </thead>\n",
       "  <tbody>\n",
       "    <tr>\n",
       "      <th rowspan=\"5\" valign=\"top\">0</th>\n",
       "      <th rowspan=\"5\" valign=\"top\">0</th>\n",
       "      <th>afraid</th>\n",
       "      <td>2</td>\n",
       "      <td>JJ</td>\n",
       "      <td>153.206219</td>\n",
       "      <td>0.0</td>\n",
       "      <td>0.0</td>\n",
       "      <td>0.0</td>\n",
       "      <td>1.0</td>\n",
       "      <td>0.0</td>\n",
       "      <td>0.0</td>\n",
       "      <td>0.0</td>\n",
       "      <td>0.0</td>\n",
       "      <td>-1.0</td>\n",
       "      <td>0.329476</td>\n",
       "    </tr>\n",
       "    <tr>\n",
       "      <th>beautiful</th>\n",
       "      <td>2</td>\n",
       "      <td>JJ</td>\n",
       "      <td>127.472878</td>\n",
       "      <td>0.0</td>\n",
       "      <td>0.0</td>\n",
       "      <td>0.0</td>\n",
       "      <td>0.0</td>\n",
       "      <td>1.0</td>\n",
       "      <td>0.0</td>\n",
       "      <td>0.0</td>\n",
       "      <td>0.0</td>\n",
       "      <td>1.0</td>\n",
       "      <td>0.354091</td>\n",
       "    </tr>\n",
       "    <tr>\n",
       "      <th>favorite</th>\n",
       "      <td>2</td>\n",
       "      <td>JJ</td>\n",
       "      <td>75.736439</td>\n",
       "      <td>0.0</td>\n",
       "      <td>0.0</td>\n",
       "      <td>0.0</td>\n",
       "      <td>0.0</td>\n",
       "      <td>1.0</td>\n",
       "      <td>0.0</td>\n",
       "      <td>0.0</td>\n",
       "      <td>1.0</td>\n",
       "      <td>1.0</td>\n",
       "      <td>0.420758</td>\n",
       "    </tr>\n",
       "    <tr>\n",
       "      <th>ill</th>\n",
       "      <td>4</td>\n",
       "      <td>NNP</td>\n",
       "      <td>433.764060</td>\n",
       "      <td>1.0</td>\n",
       "      <td>0.0</td>\n",
       "      <td>1.0</td>\n",
       "      <td>1.0</td>\n",
       "      <td>0.0</td>\n",
       "      <td>1.0</td>\n",
       "      <td>0.0</td>\n",
       "      <td>0.0</td>\n",
       "      <td>-1.0</td>\n",
       "      <td>0.319532</td>\n",
       "    </tr>\n",
       "    <tr>\n",
       "      <th>love</th>\n",
       "      <td>6</td>\n",
       "      <td>NN</td>\n",
       "      <td>480.125144</td>\n",
       "      <td>0.0</td>\n",
       "      <td>0.0</td>\n",
       "      <td>0.0</td>\n",
       "      <td>0.0</td>\n",
       "      <td>1.0</td>\n",
       "      <td>0.0</td>\n",
       "      <td>0.0</td>\n",
       "      <td>0.0</td>\n",
       "      <td>1.0</td>\n",
       "      <td>0.391939</td>\n",
       "    </tr>\n",
       "  </tbody>\n",
       "</table>\n",
       "</div>"
      ],
      "text/plain": [
       "                             n max_pos  song_dfidf  anger  anticipation  \\\n",
       "album_id song_num term_str                                                \n",
       "0        0        afraid     2      JJ  153.206219    0.0           0.0   \n",
       "                  beautiful  2      JJ  127.472878    0.0           0.0   \n",
       "                  favorite   2      JJ   75.736439    0.0           0.0   \n",
       "                  ill        4     NNP  433.764060    1.0           0.0   \n",
       "                  love       6      NN  480.125144    0.0           0.0   \n",
       "\n",
       "                             disgust  fear  joy  sadness  surprise  trust  \\\n",
       "album_id song_num term_str                                                  \n",
       "0        0        afraid         0.0   1.0  0.0      0.0       0.0    0.0   \n",
       "                  beautiful      0.0   0.0  1.0      0.0       0.0    0.0   \n",
       "                  favorite       0.0   0.0  1.0      0.0       0.0    1.0   \n",
       "                  ill            1.0   1.0  0.0      1.0       0.0    0.0   \n",
       "                  love           0.0   0.0  1.0      0.0       0.0    0.0   \n",
       "\n",
       "                             sentiment     tfidf  \n",
       "album_id song_num term_str                        \n",
       "0        0        afraid          -1.0  0.329476  \n",
       "                  beautiful        1.0  0.354091  \n",
       "                  favorite         1.0  0.420758  \n",
       "                  ill             -1.0  0.319532  \n",
       "                  love             1.0  0.391939  "
      ]
     },
     "execution_count": 36,
     "metadata": {},
     "output_type": "execute_result"
    }
   ],
   "source": [
    "BOW_SENT_SONG.head()"
   ]
  },
  {
   "cell_type": "markdown",
   "metadata": {},
   "source": [
    "## Weight emotions by TFIDF"
   ]
  },
  {
   "cell_type": "code",
   "execution_count": 37,
   "metadata": {},
   "outputs": [],
   "source": [
    "for col in emo_cols:\n",
    "    BOW_SENT_SONG[col] = BOW_SENT_SONG[col] * BOW_SENT_SONG.tfidf"
   ]
  },
  {
   "cell_type": "code",
   "execution_count": 38,
   "metadata": {},
   "outputs": [
    {
     "data": {
      "text/html": [
       "<div>\n",
       "<style scoped>\n",
       "    .dataframe tbody tr th:only-of-type {\n",
       "        vertical-align: middle;\n",
       "    }\n",
       "\n",
       "    .dataframe tbody tr th {\n",
       "        vertical-align: top;\n",
       "    }\n",
       "\n",
       "    .dataframe thead th {\n",
       "        text-align: right;\n",
       "    }\n",
       "</style>\n",
       "<table border=\"1\" class=\"dataframe\">\n",
       "  <thead>\n",
       "    <tr style=\"text-align: right;\">\n",
       "      <th></th>\n",
       "      <th></th>\n",
       "      <th></th>\n",
       "      <th>n</th>\n",
       "      <th>max_pos</th>\n",
       "      <th>song_dfidf</th>\n",
       "      <th>anger</th>\n",
       "      <th>anticipation</th>\n",
       "      <th>disgust</th>\n",
       "      <th>fear</th>\n",
       "      <th>joy</th>\n",
       "      <th>sadness</th>\n",
       "      <th>surprise</th>\n",
       "      <th>trust</th>\n",
       "      <th>sentiment</th>\n",
       "      <th>tfidf</th>\n",
       "    </tr>\n",
       "    <tr>\n",
       "      <th>album_id</th>\n",
       "      <th>song_num</th>\n",
       "      <th>term_str</th>\n",
       "      <th></th>\n",
       "      <th></th>\n",
       "      <th></th>\n",
       "      <th></th>\n",
       "      <th></th>\n",
       "      <th></th>\n",
       "      <th></th>\n",
       "      <th></th>\n",
       "      <th></th>\n",
       "      <th></th>\n",
       "      <th></th>\n",
       "      <th></th>\n",
       "      <th></th>\n",
       "    </tr>\n",
       "  </thead>\n",
       "  <tbody>\n",
       "    <tr>\n",
       "      <th rowspan=\"5\" valign=\"top\">0</th>\n",
       "      <th rowspan=\"5\" valign=\"top\">0</th>\n",
       "      <th>afraid</th>\n",
       "      <td>2</td>\n",
       "      <td>JJ</td>\n",
       "      <td>153.206219</td>\n",
       "      <td>0.000000</td>\n",
       "      <td>0.0</td>\n",
       "      <td>0.000000</td>\n",
       "      <td>0.329476</td>\n",
       "      <td>0.000000</td>\n",
       "      <td>0.000000</td>\n",
       "      <td>0.0</td>\n",
       "      <td>0.000000</td>\n",
       "      <td>-0.329476</td>\n",
       "      <td>0.329476</td>\n",
       "    </tr>\n",
       "    <tr>\n",
       "      <th>beautiful</th>\n",
       "      <td>2</td>\n",
       "      <td>JJ</td>\n",
       "      <td>127.472878</td>\n",
       "      <td>0.000000</td>\n",
       "      <td>0.0</td>\n",
       "      <td>0.000000</td>\n",
       "      <td>0.000000</td>\n",
       "      <td>0.354091</td>\n",
       "      <td>0.000000</td>\n",
       "      <td>0.0</td>\n",
       "      <td>0.000000</td>\n",
       "      <td>0.354091</td>\n",
       "      <td>0.354091</td>\n",
       "    </tr>\n",
       "    <tr>\n",
       "      <th>favorite</th>\n",
       "      <td>2</td>\n",
       "      <td>JJ</td>\n",
       "      <td>75.736439</td>\n",
       "      <td>0.000000</td>\n",
       "      <td>0.0</td>\n",
       "      <td>0.000000</td>\n",
       "      <td>0.000000</td>\n",
       "      <td>0.420758</td>\n",
       "      <td>0.000000</td>\n",
       "      <td>0.0</td>\n",
       "      <td>0.420758</td>\n",
       "      <td>0.420758</td>\n",
       "      <td>0.420758</td>\n",
       "    </tr>\n",
       "    <tr>\n",
       "      <th>ill</th>\n",
       "      <td>4</td>\n",
       "      <td>NNP</td>\n",
       "      <td>433.764060</td>\n",
       "      <td>0.319532</td>\n",
       "      <td>0.0</td>\n",
       "      <td>0.319532</td>\n",
       "      <td>0.319532</td>\n",
       "      <td>0.000000</td>\n",
       "      <td>0.319532</td>\n",
       "      <td>0.0</td>\n",
       "      <td>0.000000</td>\n",
       "      <td>-0.319532</td>\n",
       "      <td>0.319532</td>\n",
       "    </tr>\n",
       "    <tr>\n",
       "      <th>love</th>\n",
       "      <td>6</td>\n",
       "      <td>NN</td>\n",
       "      <td>480.125144</td>\n",
       "      <td>0.000000</td>\n",
       "      <td>0.0</td>\n",
       "      <td>0.000000</td>\n",
       "      <td>0.000000</td>\n",
       "      <td>0.391939</td>\n",
       "      <td>0.000000</td>\n",
       "      <td>0.0</td>\n",
       "      <td>0.000000</td>\n",
       "      <td>0.391939</td>\n",
       "      <td>0.391939</td>\n",
       "    </tr>\n",
       "  </tbody>\n",
       "</table>\n",
       "</div>"
      ],
      "text/plain": [
       "                             n max_pos  song_dfidf     anger  anticipation  \\\n",
       "album_id song_num term_str                                                   \n",
       "0        0        afraid     2      JJ  153.206219  0.000000           0.0   \n",
       "                  beautiful  2      JJ  127.472878  0.000000           0.0   \n",
       "                  favorite   2      JJ   75.736439  0.000000           0.0   \n",
       "                  ill        4     NNP  433.764060  0.319532           0.0   \n",
       "                  love       6      NN  480.125144  0.000000           0.0   \n",
       "\n",
       "                              disgust      fear       joy   sadness  surprise  \\\n",
       "album_id song_num term_str                                                      \n",
       "0        0        afraid     0.000000  0.329476  0.000000  0.000000       0.0   \n",
       "                  beautiful  0.000000  0.000000  0.354091  0.000000       0.0   \n",
       "                  favorite   0.000000  0.000000  0.420758  0.000000       0.0   \n",
       "                  ill        0.319532  0.319532  0.000000  0.319532       0.0   \n",
       "                  love       0.000000  0.000000  0.391939  0.000000       0.0   \n",
       "\n",
       "                                trust  sentiment     tfidf  \n",
       "album_id song_num term_str                                  \n",
       "0        0        afraid     0.000000  -0.329476  0.329476  \n",
       "                  beautiful  0.000000   0.354091  0.354091  \n",
       "                  favorite   0.420758   0.420758  0.420758  \n",
       "                  ill        0.000000  -0.319532  0.319532  \n",
       "                  love       0.000000   0.391939  0.391939  "
      ]
     },
     "execution_count": 38,
     "metadata": {},
     "output_type": "execute_result"
    }
   ],
   "source": [
    "BOW_SENT_SONG.head()"
   ]
  },
  {
   "cell_type": "markdown",
   "metadata": {},
   "source": [
    "## Compute Doc (`SONG`) sentiment "
   ]
  },
  {
   "cell_type": "code",
   "execution_count": 39,
   "metadata": {},
   "outputs": [],
   "source": [
    "SONG_SENT = BOW_SENT_SONG.groupby(['album_id', 'song_num'])[emo_cols].mean()"
   ]
  },
  {
   "cell_type": "code",
   "execution_count": 40,
   "metadata": {},
   "outputs": [
    {
     "data": {
      "text/html": [
       "<div>\n",
       "<style scoped>\n",
       "    .dataframe tbody tr th:only-of-type {\n",
       "        vertical-align: middle;\n",
       "    }\n",
       "\n",
       "    .dataframe tbody tr th {\n",
       "        vertical-align: top;\n",
       "    }\n",
       "\n",
       "    .dataframe thead th {\n",
       "        text-align: right;\n",
       "    }\n",
       "</style>\n",
       "<table border=\"1\" class=\"dataframe\">\n",
       "  <thead>\n",
       "    <tr style=\"text-align: right;\">\n",
       "      <th></th>\n",
       "      <th></th>\n",
       "      <th>anger</th>\n",
       "      <th>anticipation</th>\n",
       "      <th>disgust</th>\n",
       "      <th>fear</th>\n",
       "      <th>joy</th>\n",
       "      <th>sadness</th>\n",
       "      <th>surprise</th>\n",
       "      <th>trust</th>\n",
       "      <th>sentiment</th>\n",
       "    </tr>\n",
       "    <tr>\n",
       "      <th>album_id</th>\n",
       "      <th>song_num</th>\n",
       "      <th></th>\n",
       "      <th></th>\n",
       "      <th></th>\n",
       "      <th></th>\n",
       "      <th></th>\n",
       "      <th></th>\n",
       "      <th></th>\n",
       "      <th></th>\n",
       "      <th></th>\n",
       "    </tr>\n",
       "  </thead>\n",
       "  <tbody>\n",
       "    <tr>\n",
       "      <th rowspan=\"2\" valign=\"top\">0</th>\n",
       "      <th>0</th>\n",
       "      <td>0.063168</td>\n",
       "      <td>0.026820</td>\n",
       "      <td>0.039941</td>\n",
       "      <td>0.104353</td>\n",
       "      <td>0.164909</td>\n",
       "      <td>0.063168</td>\n",
       "      <td>0.050047</td>\n",
       "      <td>0.071655</td>\n",
       "      <td>0.060556</td>\n",
       "    </tr>\n",
       "    <tr>\n",
       "      <th>1</th>\n",
       "      <td>0.329014</td>\n",
       "      <td>1.482722</td>\n",
       "      <td>0.000000</td>\n",
       "      <td>0.000000</td>\n",
       "      <td>1.482722</td>\n",
       "      <td>1.068497</td>\n",
       "      <td>0.000000</td>\n",
       "      <td>0.000000</td>\n",
       "      <td>0.414225</td>\n",
       "    </tr>\n",
       "    <tr>\n",
       "      <th rowspan=\"3\" valign=\"top\">1</th>\n",
       "      <th>0</th>\n",
       "      <td>0.172408</td>\n",
       "      <td>0.238352</td>\n",
       "      <td>0.000000</td>\n",
       "      <td>0.577601</td>\n",
       "      <td>0.238352</td>\n",
       "      <td>0.460761</td>\n",
       "      <td>0.000000</td>\n",
       "      <td>0.238352</td>\n",
       "      <td>-0.339248</td>\n",
       "    </tr>\n",
       "    <tr>\n",
       "      <th>1</th>\n",
       "      <td>0.000000</td>\n",
       "      <td>0.229722</td>\n",
       "      <td>0.000000</td>\n",
       "      <td>0.000000</td>\n",
       "      <td>0.229722</td>\n",
       "      <td>0.055461</td>\n",
       "      <td>0.049868</td>\n",
       "      <td>0.419082</td>\n",
       "      <td>-0.015100</td>\n",
       "    </tr>\n",
       "    <tr>\n",
       "      <th>2</th>\n",
       "      <td>0.276772</td>\n",
       "      <td>0.590442</td>\n",
       "      <td>0.000000</td>\n",
       "      <td>0.276772</td>\n",
       "      <td>1.723091</td>\n",
       "      <td>0.276772</td>\n",
       "      <td>1.314720</td>\n",
       "      <td>0.998813</td>\n",
       "      <td>1.446319</td>\n",
       "    </tr>\n",
       "    <tr>\n",
       "      <th>...</th>\n",
       "      <th>...</th>\n",
       "      <td>...</td>\n",
       "      <td>...</td>\n",
       "      <td>...</td>\n",
       "      <td>...</td>\n",
       "      <td>...</td>\n",
       "      <td>...</td>\n",
       "      <td>...</td>\n",
       "      <td>...</td>\n",
       "      <td>...</td>\n",
       "    </tr>\n",
       "    <tr>\n",
       "      <th rowspan=\"5\" valign=\"top\">88</th>\n",
       "      <th>5</th>\n",
       "      <td>0.077282</td>\n",
       "      <td>0.056283</td>\n",
       "      <td>0.077946</td>\n",
       "      <td>0.111295</td>\n",
       "      <td>0.071024</td>\n",
       "      <td>0.133497</td>\n",
       "      <td>0.054804</td>\n",
       "      <td>0.051200</td>\n",
       "      <td>-0.060304</td>\n",
       "    </tr>\n",
       "    <tr>\n",
       "      <th>6</th>\n",
       "      <td>0.069188</td>\n",
       "      <td>0.020316</td>\n",
       "      <td>0.020316</td>\n",
       "      <td>0.105837</td>\n",
       "      <td>0.039510</td>\n",
       "      <td>0.093503</td>\n",
       "      <td>0.053830</td>\n",
       "      <td>0.021664</td>\n",
       "      <td>-0.092261</td>\n",
       "    </tr>\n",
       "    <tr>\n",
       "      <th>7</th>\n",
       "      <td>0.149995</td>\n",
       "      <td>0.054993</td>\n",
       "      <td>0.064852</td>\n",
       "      <td>0.119708</td>\n",
       "      <td>0.088319</td>\n",
       "      <td>0.087201</td>\n",
       "      <td>0.039360</td>\n",
       "      <td>0.071712</td>\n",
       "      <td>-0.056421</td>\n",
       "    </tr>\n",
       "    <tr>\n",
       "      <th>8</th>\n",
       "      <td>0.174268</td>\n",
       "      <td>0.000000</td>\n",
       "      <td>0.083373</td>\n",
       "      <td>0.000000</td>\n",
       "      <td>0.062213</td>\n",
       "      <td>0.090895</td>\n",
       "      <td>0.000000</td>\n",
       "      <td>0.000000</td>\n",
       "      <td>-0.112055</td>\n",
       "    </tr>\n",
       "    <tr>\n",
       "      <th>9</th>\n",
       "      <td>0.097310</td>\n",
       "      <td>0.000000</td>\n",
       "      <td>0.097310</td>\n",
       "      <td>0.097310</td>\n",
       "      <td>0.107418</td>\n",
       "      <td>0.788588</td>\n",
       "      <td>0.000000</td>\n",
       "      <td>0.107418</td>\n",
       "      <td>-0.681170</td>\n",
       "    </tr>\n",
       "  </tbody>\n",
       "</table>\n",
       "<p>891 rows × 9 columns</p>\n",
       "</div>"
      ],
      "text/plain": [
       "                      anger  anticipation   disgust      fear       joy  \\\n",
       "album_id song_num                                                         \n",
       "0        0         0.063168      0.026820  0.039941  0.104353  0.164909   \n",
       "         1         0.329014      1.482722  0.000000  0.000000  1.482722   \n",
       "1        0         0.172408      0.238352  0.000000  0.577601  0.238352   \n",
       "         1         0.000000      0.229722  0.000000  0.000000  0.229722   \n",
       "         2         0.276772      0.590442  0.000000  0.276772  1.723091   \n",
       "...                     ...           ...       ...       ...       ...   \n",
       "88       5         0.077282      0.056283  0.077946  0.111295  0.071024   \n",
       "         6         0.069188      0.020316  0.020316  0.105837  0.039510   \n",
       "         7         0.149995      0.054993  0.064852  0.119708  0.088319   \n",
       "         8         0.174268      0.000000  0.083373  0.000000  0.062213   \n",
       "         9         0.097310      0.000000  0.097310  0.097310  0.107418   \n",
       "\n",
       "                    sadness  surprise     trust  sentiment  \n",
       "album_id song_num                                           \n",
       "0        0         0.063168  0.050047  0.071655   0.060556  \n",
       "         1         1.068497  0.000000  0.000000   0.414225  \n",
       "1        0         0.460761  0.000000  0.238352  -0.339248  \n",
       "         1         0.055461  0.049868  0.419082  -0.015100  \n",
       "         2         0.276772  1.314720  0.998813   1.446319  \n",
       "...                     ...       ...       ...        ...  \n",
       "88       5         0.133497  0.054804  0.051200  -0.060304  \n",
       "         6         0.093503  0.053830  0.021664  -0.092261  \n",
       "         7         0.087201  0.039360  0.071712  -0.056421  \n",
       "         8         0.090895  0.000000  0.000000  -0.112055  \n",
       "         9         0.788588  0.000000  0.107418  -0.681170  \n",
       "\n",
       "[891 rows x 9 columns]"
      ]
     },
     "execution_count": 40,
     "metadata": {},
     "output_type": "execute_result"
    }
   ],
   "source": [
    "SONG_SENT"
   ]
  },
  {
   "cell_type": "markdown",
   "metadata": {},
   "source": [
    "## Add `SONG_SENT` to `SONG_LIB`"
   ]
  },
  {
   "cell_type": "code",
   "execution_count": 41,
   "metadata": {},
   "outputs": [],
   "source": [
    "SONG_LIB = SONG_LIB.join(SONG_SENT)"
   ]
  },
  {
   "cell_type": "markdown",
   "metadata": {},
   "source": [
    "## Plot song sentiment and danceability"
   ]
  },
  {
   "cell_type": "code",
   "execution_count": 42,
   "metadata": {},
   "outputs": [
    {
     "data": {
      "text/plain": [
       "Index(['title', 'json_path', 'artist', 'album', 'genres', 'release_date',\n",
       "       'label', 'track_number', 'duration_ms', 'audio_information', 'lyrics',\n",
       "       'danceability', 'energy', 'key', 'loudness', 'mode', 'speechiness',\n",
       "       'acousticness', 'instrumentalness', 'liveness', 'valence', 'tempo',\n",
       "       'time_signature', 'album_title', 'genre', 'anger', 'anticipation',\n",
       "       'disgust', 'fear', 'joy', 'sadness', 'surprise', 'trust', 'sentiment'],\n",
       "      dtype='object')"
      ]
     },
     "execution_count": 42,
     "metadata": {},
     "output_type": "execute_result"
    }
   ],
   "source": [
    "SONG_LIB.columns"
   ]
  },
  {
   "cell_type": "code",
   "execution_count": 58,
   "metadata": {},
   "outputs": [
    {
     "data": {
      "application/vnd.plotly.v1+json": {
       "config": {
        "plotlyServerURL": "https://plot.ly"
       },
       "data": [
        {
         "customdata": [
          [
           "45:33"
          ],
          [
           "Freak Out / Starry Eyes"
          ],
          [
           "Daft Punk Is Playing at My House"
          ],
          [
           "Too Much Love"
          ],
          [
           "Tribulations"
          ],
          [
           "Movement"
          ],
          [
           "Never as Tired as When I'm Waking Up"
          ],
          [
           "On Repeat"
          ],
          [
           "Thrills"
          ],
          [
           "Disco Infiltrator"
          ],
          [
           "Great Release"
          ],
          [
           "Losing My Edge"
          ],
          [
           "Beat Connection"
          ],
          [
           "Give It Up"
          ],
          [
           "Tired"
          ],
          [
           "Yeah"
          ],
          [
           "Yeah - Pretentious Mix"
          ],
          [
           "Yr City's a Sucker"
          ],
          [
           "Get Innocuous!"
          ],
          [
           "Time to Get Away"
          ],
          [
           "North American Scum"
          ],
          [
           "Someone Great"
          ],
          [
           "All My Friends"
          ],
          [
           "Us V Them"
          ],
          [
           "Watch the Tapes"
          ],
          [
           "Sound of Silver"
          ],
          [
           "New York, I Love You but You're Bringing Me Down"
          ],
          [
           "Dance Yrself Clean"
          ],
          [
           "Drunk Girls"
          ],
          [
           "One Touch"
          ],
          [
           "All I Want"
          ],
          [
           "I Can Change"
          ],
          [
           "You Wanted a Hit"
          ],
          [
           "Pow Pow"
          ],
          [
           "Somebody's Calling Me"
          ],
          [
           "Home"
          ],
          [
           "oh baby"
          ],
          [
           "other voices"
          ],
          [
           "i used to"
          ],
          [
           "change yr mind"
          ],
          [
           "how do you sleep?"
          ],
          [
           "tonite"
          ],
          [
           "call the police"
          ],
          [
           "american dream"
          ],
          [
           "emotional haircut"
          ],
          [
           "black screen"
          ]
         ],
         "hovertemplate": "artist=LCD Soundsystem<br>danceability=%{x}<br>sentiment=%{y}<br>title=%{customdata[0]}<extra></extra>",
         "legendgroup": "LCD Soundsystem",
         "marker": {
          "color": "#636efa",
          "symbol": "circle"
         },
         "mode": "markers",
         "name": "LCD Soundsystem",
         "orientation": "v",
         "showlegend": true,
         "type": "scatter",
         "x": [
          0.478,
          0.772,
          0.92,
          0.696,
          0.694,
          0.588,
          0.647,
          0.827,
          0.682,
          0.828,
          0.602,
          0.769,
          0.745,
          0.742,
          0.189,
          0.705,
          0.648,
          0.765,
          0.696,
          0.911,
          0.882,
          0.722,
          0.701,
          0.72,
          0.828,
          0.865,
          0.39,
          0.739,
          0.599,
          0.696,
          0.53,
          0.644,
          0.968,
          0.79,
          0.716,
          0.752,
          0.581,
          0.722,
          0.625,
          0.762,
          0.64,
          0.766,
          0.38,
          0.291,
          0.626,
          0.584
         ],
         "xaxis": "x",
         "y": [
          0.06055595061602623,
          0.41422475294330185,
          -0.666679536489763,
          0.9815112516859081,
          -0.5047889177608004,
          -0.9357860769569603,
          0.07334543178144497,
          -0.7360990747677438,
          0.5102576103511196,
          -0.47440885565668217,
          0.4202105810481531,
          -0.21415080355741253,
          -0.22259286501256265,
          -0.5410642813653033,
          0.2061185283018342,
          null,
          null,
          -3.876005006342604,
          0.439304616503767,
          -0.14041134208411246,
          0.025777180691309562,
          -0.10539345984418229,
          -0.0015400276121034322,
          0.09377695688758014,
          -0.07486114325908602,
          null,
          -0.06315364393911888,
          0.47586510387348513,
          -0.020149733404523276,
          -0.859026490645888,
          -0.14167238625029738,
          -0.01537759107028174,
          -0.24080525496618227,
          -0.03631592157747576,
          0.043614784339432666,
          -0.18316014782509196,
          0.2192258225701439,
          0.738479999855452,
          -0.22631588349523685,
          -0.1893926381353892,
          0.018726805965788726,
          -0.06030380623282936,
          -0.09226112971311584,
          -0.05642081787507918,
          -0.11205547121885877,
          -0.6811695159569642
         ],
         "yaxis": "y"
        },
        {
         "customdata": [
          [
           "Burn the Witch"
          ],
          [
           "Daydreaming"
          ],
          [
           "Decks Dark"
          ],
          [
           "Desert Island Disk"
          ],
          [
           "Ful Stop"
          ],
          [
           "Glass Eyes"
          ],
          [
           "Identikit"
          ],
          [
           "The Numbers"
          ],
          [
           "Present Tense"
          ],
          [
           "Tinker Tailor Soldier Sailor Rich Man Poor Man Beggar Man Thief"
          ],
          [
           "True Love Waits"
          ],
          [
           "Packt Like Sardines In a Crushd Tin Box"
          ],
          [
           "Pyramid Song"
          ],
          [
           "Pulk/Pull Revolving Doors"
          ],
          [
           "You And Whose Army?"
          ],
          [
           "I Might Be Wrong"
          ],
          [
           "Knives Out"
          ],
          [
           "Morning Bell/Amnesiac"
          ],
          [
           "Dollars and Cents"
          ],
          [
           "Like Spinning Plates"
          ],
          [
           "Life In a Glasshouse"
          ],
          [
           "2 + 2 = 5"
          ],
          [
           "Sit Down. Stand Up"
          ],
          [
           "Sail To The Moon"
          ],
          [
           "Backdrifts"
          ],
          [
           "Go To Sleep"
          ],
          [
           "Where I End and You Begin"
          ],
          [
           "We Suck Young Blood"
          ],
          [
           "The Gloaming"
          ],
          [
           "There, There"
          ],
          [
           "I Will"
          ],
          [
           "A Punch Up at a Wedding"
          ],
          [
           "Myxomatosis"
          ],
          [
           "Scatterbrain"
          ],
          [
           "A Wolf At the Door"
          ],
          [
           "15 Step"
          ],
          [
           "Bodysnatchers"
          ],
          [
           "Nude"
          ],
          [
           "Weird Fishes/ Arpeggi"
          ],
          [
           "All I Need"
          ],
          [
           "Faust Arp"
          ],
          [
           "Reckoner"
          ],
          [
           "House Of Cards"
          ],
          [
           "Jigsaw Falling Into Place"
          ],
          [
           "Videotape"
          ],
          [
           "Everything In Its Right Place"
          ],
          [
           "Kid A"
          ],
          [
           "The National Anthem"
          ],
          [
           "How to Disappear Completely"
          ],
          [
           "Optimistic"
          ],
          [
           "In Limbo"
          ],
          [
           "Idioteque"
          ],
          [
           "Morning Bell"
          ],
          [
           "Motion Picture Soundtrack"
          ],
          [
           "Airbag"
          ],
          [
           "Paranoid Android"
          ],
          [
           "Subterranean Homesick Alien"
          ],
          [
           "Exit Music (For A Film)"
          ],
          [
           "Let Down"
          ],
          [
           "Karma Police"
          ],
          [
           "Fitter Happier"
          ],
          [
           "Electioneering"
          ],
          [
           "Climbing Up the Walls"
          ],
          [
           "No Surprises"
          ],
          [
           "Lucky"
          ],
          [
           "The Tourist"
          ],
          [
           "You"
          ],
          [
           "Creep"
          ],
          [
           "How Do You?"
          ],
          [
           "Stop Whispering"
          ],
          [
           "Thinking About You"
          ],
          [
           "Anyone Can Play Guitar"
          ],
          [
           "Ripcord"
          ],
          [
           "Vegetable"
          ],
          [
           "Prove Yourself"
          ],
          [
           "I Can't"
          ],
          [
           "Lurgee"
          ],
          [
           "Blow Out"
          ],
          [
           "Planet Telex"
          ],
          [
           "The Bends"
          ],
          [
           "High and Dry"
          ],
          [
           "Fake Plastic Trees"
          ],
          [
           "Bones"
          ],
          [
           "(Nice Dream)"
          ],
          [
           "Just"
          ],
          [
           "My Iron Lung"
          ],
          [
           "Bullet Proof ... I Wish I Was"
          ],
          [
           "Black Star"
          ],
          [
           "Sulk"
          ],
          [
           "Street Spirit (Fade Out)"
          ],
          [
           "Bloom"
          ],
          [
           "Morning Mr Magpie"
          ],
          [
           "Little By Little"
          ],
          [
           "Feral"
          ],
          [
           "Lotus Flower"
          ],
          [
           "Codex"
          ],
          [
           "Give Up The Ghost"
          ],
          [
           "Separator"
          ]
         ],
         "hovertemplate": "artist=Radiohead<br>danceability=%{x}<br>sentiment=%{y}<br>title=%{customdata[0]}<extra></extra>",
         "legendgroup": "Radiohead",
         "marker": {
          "color": "#EF553B",
          "symbol": "circle"
         },
         "mode": "markers",
         "name": "Radiohead",
         "orientation": "v",
         "showlegend": true,
         "type": "scatter",
         "x": [
          0.54,
          0.214,
          0.557,
          0.56,
          0.425,
          0.237,
          0.692,
          0.282,
          0.462,
          0.355,
          0.401,
          0.666,
          0.12,
          0.58,
          0.295,
          0.602,
          0.432,
          0.319,
          0.327,
          0.492,
          0.252,
          0.442,
          0.484,
          0.371,
          0.718,
          0.288,
          0.298,
          0.164,
          0.345,
          0.614,
          0.27,
          0.604,
          0.498,
          0.491,
          0.423,
          0.598,
          0.342,
          0.516,
          0.531,
          0.67,
          0.337,
          0.523,
          0.708,
          0.462,
          0.596,
          0.296,
          0.63,
          0.488,
          0.167,
          0.402,
          0.366,
          0.615,
          0.646,
          0.112,
          0.305,
          0.251,
          0.312,
          0.293,
          0.351,
          0.36,
          0.432,
          0.201,
          0.243,
          0.255,
          0.213,
          0.241,
          0.222,
          0.515,
          0.185,
          0.212,
          0.365,
          0.293,
          0.255,
          0.382,
          0.25,
          0.27,
          0.42,
          0.271,
          0.429,
          0.23,
          0.419,
          0.463,
          0.336,
          0.263,
          0.291,
          0.242,
          0.45,
          0.289,
          0.105,
          0.488,
          0.519,
          0.648,
          0.618,
          0.49,
          0.721,
          0.346,
          0.305,
          0.694
         ],
         "xaxis": "x",
         "y": [
          -0.33924839842696797,
          -0.015099755335488352,
          1.4463193933903762,
          0.9633238855407541,
          -0.1070691390832702,
          0.3266157441512285,
          -0.8690235475113323,
          0.10550214190193316,
          0.25482185594792617,
          0.018341588982907275,
          -0.7288172362658742,
          -6.238300184030057,
          null,
          null,
          -0.5280790511508731,
          0.63917853715377,
          1.0277694324318822,
          null,
          0.2515971588279042,
          2.5979463428844247,
          -0.32547815898094873,
          -0.1398210289882307,
          -0.1940775313820595,
          null,
          -1.7636604149013357,
          0.6494865857211062,
          0.7302093914010396,
          0.9004708424528233,
          -1.8278424757971965,
          0.009177586770579449,
          0.10326742071517812,
          -0.030558625731775573,
          -0.1333917512583307,
          -0.7892280594110433,
          -0.027287399590893605,
          null,
          0.15596416233653354,
          -0.5039838355372119,
          -1.042961377576438,
          -1.1792664807819884,
          0.18335394985149425,
          -0.6494865857211062,
          -0.02339757570902936,
          -0.12234029024227598,
          0.14923343382113444,
          null,
          -0.013151720291689761,
          null,
          -0.2396486516826736,
          0.14339493462890182,
          -0.18560364321928463,
          0.4267232608936863,
          0.2954004626542268,
          -1.560955272458936,
          0.7363918421041286,
          0.15979628319710593,
          0.055792933266781586,
          -0.2853832655465134,
          -0.9484988130762467,
          -1.518871940252777,
          -0.09687634548235513,
          -3.158532961563977,
          -0.18543497973958747,
          0.2453291679415959,
          -0.5270056816643955,
          -0.4043281903792907,
          0.5699202583287747,
          0.07565881938265229,
          -0.16959955532880824,
          0.40833231195082137,
          0.06004382349316184,
          -0.5850631456241348,
          -1.3852283171981308,
          -0.1321929428101693,
          -0.033022252174731315,
          -0.25740597324133474,
          null,
          -1.578922802722298,
          -0.7747357807370902,
          -0.10790011055449811,
          -0.4338813593203863,
          0.03984660337371593,
          -0.7389339839716782,
          0.28423066096738253,
          -0.021453004396396892,
          -0.35571684058576686,
          0.8854372218323454,
          -0.9258204954278124,
          0.8686975645898286,
          -0.03377606293286062,
          -0.09072008603730175,
          0.63917853715377,
          -0.550684121025562,
          null,
          -0.23452472647199085,
          1.1639212378985984,
          -1.8708809229919117,
          0.034304496510854494
         ],
         "yaxis": "y"
        },
        {
         "customdata": [
          [
           "The Strangers"
          ],
          [
           "Save Me from What I Want"
          ],
          [
           "The Neighbors"
          ],
          [
           "Actor Out of Work"
          ],
          [
           "Black Rainbow"
          ],
          [
           "Laughing with a Mouth of Blood"
          ],
          [
           "Marrow"
          ],
          [
           "The Bed"
          ],
          [
           "The Party"
          ],
          [
           "Just the Same But Brand New"
          ],
          [
           "The Sequel"
          ],
          [
           "Pay Your Way In Pain"
          ],
          [
           "Down And Out Downtown"
          ],
          [
           "Daddy's Home"
          ],
          [
           "Live In The Dream"
          ],
          [
           "The Melting Of The Sun"
          ],
          [
           "Humming - Interlude 1"
          ],
          [
           "The Laughing Man"
          ],
          [
           "Down"
          ],
          [
           "Somebody Like Me"
          ],
          [
           "My Baby Wants A Baby"
          ],
          [
           "…At The Holiday Party"
          ],
          [
           "Candy Darling"
          ],
          [
           "Humming - Interlude 3"
          ],
          [
           "Who"
          ],
          [
           "Weekend in the Dust"
          ],
          [
           "Dinner for Two"
          ],
          [
           "Ice Age"
          ],
          [
           "I Am an Ape"
          ],
          [
           "The Forest Awakes"
          ],
          [
           "I Should Watch TV"
          ],
          [
           "Lazarus"
          ],
          [
           "Optimist"
          ],
          [
           "Lightning"
          ],
          [
           "The One Who Broke Your Heart"
          ],
          [
           "Outside of Space and Time"
          ],
          [
           "Hang On Me"
          ],
          [
           "Pills"
          ],
          [
           "Masseduction"
          ],
          [
           "Sugarboy"
          ],
          [
           "Los Ageless"
          ],
          [
           "Happy Birthday, Johnny"
          ],
          [
           "Savior"
          ],
          [
           "New York"
          ],
          [
           "Fear The Future"
          ],
          [
           "Young Lover"
          ],
          [
           "Slow Disco"
          ],
          [
           "Smoking Section"
          ],
          [
           "Now, Now"
          ],
          [
           "Jesus Saves, I Spend"
          ],
          [
           "Your Lips Are Red"
          ],
          [
           "Marry Me"
          ],
          [
           "Paris Is Burning"
          ],
          [
           "All My Stars Aligned"
          ],
          [
           "The Apocalypse Song"
          ],
          [
           "Landmines"
          ],
          [
           "Human Racing"
          ],
          [
           "What Me Worry"
          ],
          [
           "Rattlesnake"
          ],
          [
           "Birth In Reverse"
          ],
          [
           "Prince Johnny"
          ],
          [
           "Huey Newton"
          ],
          [
           "Digital Witness"
          ],
          [
           "I Prefer Your Love"
          ],
          [
           "Regret"
          ],
          [
           "Bring Me Your Loves"
          ],
          [
           "Psychopath"
          ],
          [
           "Every Tear Disappears"
          ],
          [
           "Severed Crossed Fingers"
          ],
          [
           "Bad Believer"
          ],
          [
           "Pieta"
          ],
          [
           "Sparrow"
          ],
          [
           "Del Rio"
          ],
          [
           "Digital Witness - DARKSIDE Remix"
          ],
          [
           "Chloe In The Afternoon"
          ],
          [
           "Cruel"
          ],
          [
           "Cheerleader"
          ],
          [
           "Surgeon"
          ],
          [
           "Northern Lights"
          ],
          [
           "Strange Mercy"
          ],
          [
           "Neutered Fruit"
          ],
          [
           "Champagne Year"
          ],
          [
           "Dilettante"
          ],
          [
           "Hysterical Strength"
          ],
          [
           "Year Of The Tiger"
          ]
         ],
         "hovertemplate": "artist=St. Vincent<br>danceability=%{x}<br>sentiment=%{y}<br>title=%{customdata[0]}<extra></extra>",
         "legendgroup": "St. Vincent",
         "marker": {
          "color": "#00cc96",
          "symbol": "circle"
         },
         "mode": "markers",
         "name": "St. Vincent",
         "orientation": "v",
         "showlegend": true,
         "type": "scatter",
         "x": [
          0.529,
          0.665,
          0.439,
          0.556,
          0.465,
          0.658,
          0.64,
          0.352,
          0.465,
          0.339,
          0.217,
          0.677,
          0.61,
          0.774,
          0.426,
          0.52,
          0.422,
          0.641,
          0.713,
          0.525,
          0.532,
          0.604,
          0.39,
          0.347,
          0.687,
          0.83,
          0.716,
          0.763,
          0.663,
          0.753,
          0.659,
          0.848,
          0.611,
          0.722,
          0.706,
          0.287,
          0.539,
          0.549,
          0.696,
          0.625,
          0.527,
          0.506,
          0.658,
          0.373,
          0.472,
          0.447,
          0.26,
          0.593,
          0.48,
          0.602,
          0.521,
          0.495,
          0.586,
          0.442,
          0.52,
          0.437,
          0.677,
          0.442,
          0.698,
          0.571,
          0.524,
          0.643,
          0.782,
          0.607,
          0.458,
          0.241,
          0.768,
          0.684,
          0.488,
          0.518,
          0.709,
          0.497,
          0.583,
          0.768,
          0.515,
          0.57,
          0.447,
          0.496,
          0.4,
          0.642,
          0.575,
          0.172,
          0.626,
          0.53,
          0.519
         ],
         "xaxis": "x",
         "y": [
          -0.667571553420326,
          1.5248014363408597,
          0.5213645885387796,
          -0.047809063860178636,
          -0.5437120796877857,
          0.2661217911330478,
          null,
          -0.8106710445582825,
          -0.021815081502375544,
          null,
          null,
          0.20531280710462513,
          -0.37908270469350686,
          0.15407055349138207,
          0.04258938631442825,
          0.08986397038714988,
          null,
          0.3332938596709227,
          -0.3039296339780484,
          0.5562541724076341,
          0.4805176304105616,
          0.1681601850616907,
          0.7772673768137301,
          -1.1982432584133682,
          0.05331855165837292,
          -0.021561610729487042,
          -0.4404872313816122,
          -0.6661166745392777,
          -0.4309101428331653,
          -0.020392439689177064,
          0.07499055200281833,
          0.5796510046008374,
          1.3163308187740275,
          0.1867634579513368,
          0.03722995060933996,
          -0.07929049443315384,
          -0.3949909105223136,
          0.023245318998129857,
          -0.9816462201491774,
          -0.09212180082396575,
          0.03555305301322198,
          0.18050917971039782,
          0.01620766006204862,
          0.4729435635053359,
          0.4930297873035643,
          1.1365849103500094,
          -0.23445435274016702,
          -0.0740072557052576,
          0.028118460546950247,
          -0.6054194648811602,
          -0.728510135026518,
          -0.7344098266302275,
          0.013872583926756773,
          -0.05732280480914864,
          -0.5675302865687653,
          0.5687561567840946,
          0.2548481521234966,
          0.3146625125111796,
          0.3579004626542268,
          0.6923502735308229,
          0.7150592171220925,
          0.19274143061371496,
          0,
          0.48741123600610275,
          -0.24837713091926344,
          0.5879083394722113,
          -0.3994144194711227,
          -0.6191636935841092,
          0.02004583653525476,
          -0.5044984822974579,
          0.16507442490534777,
          -0.5453059601424876,
          0.5163243904807374,
          0,
          0.043452356069883236,
          -2.3155875726745085,
          -0.25304412320153546,
          -0.24537186950276052,
          0.6565595267669021,
          -0.36971142462154327,
          0,
          -0.0017491191885172785,
          -2.7089615931634663,
          -0.12810309347678386,
          0.2020183159282775
         ],
         "yaxis": "y"
        },
        {
         "customdata": [
          [
           "Secret Meeting"
          ],
          [
           "Karen"
          ],
          [
           "Lit Up"
          ],
          [
           "Looking for Astronauts"
          ],
          [
           "Daughters of the Soho Riots"
          ],
          [
           "Baby We'll Be Fine"
          ],
          [
           "Friend of Mine"
          ],
          [
           "Val Jester"
          ],
          [
           "All the Wine"
          ],
          [
           "Abel"
          ],
          [
           "The Geese of Beverly Road"
          ],
          [
           "City Middle"
          ],
          [
           "Mr. November"
          ],
          [
           "Fake Empire"
          ],
          [
           "Mistaken for Strangers"
          ],
          [
           "Brainy"
          ],
          [
           "Squalor Victoria"
          ],
          [
           "Green Gloves"
          ],
          [
           "Slow Show"
          ],
          [
           "Apartment Story"
          ],
          [
           "Start a War"
          ],
          [
           "Guest Room"
          ],
          [
           "Racing Like a Pro"
          ],
          [
           "Ada"
          ],
          [
           "Gospel"
          ],
          [
           "Terrible Love"
          ],
          [
           "Sorrow"
          ],
          [
           "Anyone's Ghost"
          ],
          [
           "Little Faith"
          ],
          [
           "Afraid of Everyone"
          ],
          [
           "Bloodbuzz Ohio"
          ],
          [
           "Lemonworld"
          ],
          [
           "Runaway"
          ],
          [
           "Conversation 16"
          ],
          [
           "England"
          ],
          [
           "Vanderlyle Crybaby Geeks"
          ],
          [
           "Nobody Else Will Be There"
          ],
          [
           "Day I Die"
          ],
          [
           "Walk It Back"
          ],
          [
           "The System Only Dreams in Total Darkness"
          ],
          [
           "Born to Beg"
          ],
          [
           "Turtleneck"
          ],
          [
           "Empire Line"
          ],
          [
           "I'll Still Destroy You"
          ],
          [
           "Guilty Party"
          ],
          [
           "Carin at the Liquor Store"
          ],
          [
           "Dark Side of the Gym"
          ],
          [
           "Sleep Well Beast"
          ],
          [
           "I Should Live in Salt"
          ],
          [
           "Demons"
          ],
          [
           "Don't Swallow the Cap"
          ],
          [
           "Fireproof"
          ],
          [
           "Sea of Love"
          ],
          [
           "Heavenfaced"
          ],
          [
           "This is the Last Time"
          ],
          [
           "Graceless"
          ],
          [
           "Slipped"
          ],
          [
           "I Need My Girl"
          ],
          [
           "Humiliation"
          ],
          [
           "Pink Rabbits"
          ],
          [
           "Hard to Find"
          ]
         ],
         "hovertemplate": "artist=The National<br>danceability=%{x}<br>sentiment=%{y}<br>title=%{customdata[0]}<extra></extra>",
         "legendgroup": "The National",
         "marker": {
          "color": "#ab63fa",
          "symbol": "circle"
         },
         "mode": "markers",
         "name": "The National",
         "orientation": "v",
         "showlegend": true,
         "type": "scatter",
         "x": [
          0.622,
          0.659,
          0.428,
          0.499,
          0.563,
          0.46,
          0.655,
          0.473,
          0.604,
          0.342,
          0.538,
          0.529,
          0.416,
          0.325,
          0.539,
          0.505,
          0.553,
          0.534,
          0.575,
          0.55,
          0.655,
          0.576,
          0.353,
          0.557,
          0.575,
          0.304,
          0.55,
          0.745,
          0.419,
          0.527,
          0.402,
          0.648,
          0.583,
          0.554,
          0.49,
          0.464,
          0.657,
          0.432,
          0.727,
          0.596,
          0.528,
          0.427,
          0.593,
          0.536,
          0.368,
          0.54,
          0.642,
          0.451,
          0.519,
          0.54,
          0.45,
          0.483,
          0.459,
          0.505,
          0.503,
          0.441,
          0.452,
          0.52,
          0.47,
          0.502,
          0.488
         ],
         "xaxis": "x",
         "y": [
          -0.2152202550489715,
          -0.31962374076418143,
          -0.33174539429586286,
          -0.8616614243223117,
          0.45785635667555136,
          0.3026455488058211,
          -0.25697727022026107,
          0.2799563521296244,
          0.42966919165057754,
          -0.43372559346630246,
          -0.4119228323159126,
          -0.6955489849402157,
          0.21105122183811484,
          -0.5678316047336875,
          -0.15652032488411624,
          0.1922795995528388,
          1.6580722731982431,
          0.13410740165685478,
          -0.15581776399829175,
          -0.44294646909688556,
          -0.4284764568720834,
          -0.055660142045058016,
          1.9785461265455453,
          -0.36786698450705085,
          0.35175998683697557,
          -0.554056715525947,
          0.5730545497219383,
          0.18090598134301264,
          -0.8804488523041466,
          -0.18666474015702153,
          0.9552648869739769,
          -0.08014953621214235,
          -0.3995640290770857,
          -0.6469024968345813,
          -0.11019991532985836,
          0.10568445558247372,
          -0.0862662219954749,
          -0.3646398236453723,
          -0.062008715420522525,
          0.6233897985563106,
          -0.7719085238378115,
          -0.24810819514000718,
          -0.26872055507148596,
          -0.04924842619549364,
          -0.19874223683481596,
          -0.16609503218394472,
          1.1527614499455126,
          -0.5911161821637131,
          -0.4445109149523068,
          0.011888247267031415,
          -0.10090182061384714,
          -0.43792495356763195,
          0.05760732849506503,
          -0.13841459439272838,
          -0.005385932197488508,
          0.0579408018865214,
          -0.14557933966967862,
          -0.024291401976507882,
          -0.0035349272518832653,
          -0.026915963680429044,
          0.3569969323812955
         ],
         "yaxis": "y"
        },
        {
         "customdata": [
          [
           "Dark Saturday"
          ],
          [
           "Love You Back"
          ],
          [
           "Die Happy"
          ],
          [
           "Now or Never Now"
          ],
          [
           "Art of Doubt"
          ],
          [
           "Underline the Black"
          ],
          [
           "Dressed to Suppress"
          ],
          [
           "Risk"
          ],
          [
           "Seven Rules"
          ],
          [
           "Holding Out"
          ],
          [
           "Anticipate"
          ],
          [
           "No Lights on the Horizon"
          ],
          [
           "Help I'm Alive"
          ],
          [
           "Sick Muse"
          ],
          [
           "Satellite Mind"
          ],
          [
           "Twilight Galaxy"
          ],
          [
           "Gold Guns Girls"
          ],
          [
           "Gimme Sympathy"
          ],
          [
           "Collect Call"
          ],
          [
           "Front Row"
          ],
          [
           "Blindness"
          ],
          [
           "Stadium Love"
          ],
          [
           "Doomscroller"
          ],
          [
           "All Comes Crashing"
          ],
          [
           "What Feels Like Eternity"
          ],
          [
           "Formentera"
          ],
          [
           "Enemies of the Ocean"
          ],
          [
           "I Will Never Settle"
          ],
          [
           "False Dichotomy"
          ],
          [
           "Oh Please"
          ],
          [
           "Paths in the Sky"
          ],
          [
           "Detour Up"
          ],
          [
           "Just The Once"
          ],
          [
           "Stone Window"
          ],
          [
           "Days Of Oblivion"
          ],
          [
           "Who Would You Be For Me"
          ],
          [
           "Suckers"
          ],
          [
           "Nothing Is Perfect"
          ],
          [
           "Descendants"
          ],
          [
           "Go Ahead And Cry"
          ],
          [
           "Grow Up and Blow Away"
          ],
          [
           "Hardwire"
          ],
          [
           "Rock Me Now"
          ],
          [
           "The Twist"
          ],
          [
           "On the Sly"
          ],
          [
           "Soft Rock Star"
          ],
          [
           "Raw Sugar"
          ],
          [
           "White Gold"
          ],
          [
           "London Halflife"
          ],
          [
           "Soft Rock Star [Jimmy vs. Joe Mix]"
          ],
          [
           "Empty"
          ],
          [
           "Glass Ceiling"
          ],
          [
           "Handshakes"
          ],
          [
           "Too Little Too Late"
          ],
          [
           "Poster Of A Girl"
          ],
          [
           "Monster Hospital"
          ],
          [
           "Patriarch On a Vespa"
          ],
          [
           "The Police and the Private"
          ],
          [
           "Ending Start"
          ],
          [
           "Live It Out"
          ],
          [
           "IOU"
          ],
          [
           "Hustle Rose"
          ],
          [
           "Succexy"
          ],
          [
           "Combat Baby"
          ],
          [
           "Calculation Theme"
          ],
          [
           "Wet Blanket"
          ],
          [
           "On a Slow Night"
          ],
          [
           "The List"
          ],
          [
           "Dead Disco"
          ],
          [
           "Love Is A Place"
          ],
          [
           "Lie Lie Lie"
          ],
          [
           "Fortunes"
          ],
          [
           "The Shade"
          ],
          [
           "Celebrate"
          ],
          [
           "Cascades"
          ],
          [
           "For Kicks"
          ],
          [
           "Too Bad, So Sad"
          ],
          [
           "Other Side"
          ],
          [
           "Blind Valentine"
          ],
          [
           "The Governess"
          ],
          [
           "The Face Part I"
          ],
          [
           "The Shade - Acoustic"
          ],
          [
           "Artificial Nocturne"
          ],
          [
           "Youth Without Youth"
          ],
          [
           "Speed The Collapse"
          ],
          [
           "Breathing Underwater"
          ],
          [
           "Dreams So Real"
          ],
          [
           "Lost Kitten"
          ],
          [
           "The Void"
          ],
          [
           "Synthetica"
          ],
          [
           "Clone"
          ],
          [
           "The Wanderlust"
          ],
          [
           "Nothing But Time"
          ]
         ],
         "hovertemplate": "artist=Metric<br>danceability=%{x}<br>sentiment=%{y}<br>title=%{customdata[0]}<extra></extra>",
         "legendgroup": "Metric",
         "marker": {
          "color": "#FFA15A",
          "symbol": "circle"
         },
         "mode": "markers",
         "name": "Metric",
         "orientation": "v",
         "showlegend": true,
         "type": "scatter",
         "x": [
          0.512,
          0.573,
          0.539,
          0.531,
          0.388,
          0.55,
          0.393,
          0.527,
          0.572,
          0.566,
          0.27,
          0.612,
          0.57,
          0.429,
          0.498,
          0.382,
          0.494,
          0.452,
          0.568,
          0.456,
          0.386,
          0.407,
          0.389,
          0.7,
          0.53,
          0.428,
          0.592,
          0.382,
          0.549,
          0.617,
          0.549,
          0.682,
          0.688,
          0.62,
          0.505,
          0.547,
          0.35,
          0.554,
          0.493,
          0.465,
          0.427,
          0.613,
          0.794,
          0.703,
          0.609,
          0.47,
          0.735,
          0.575,
          0.542,
          0.6,
          0.6,
          0.592,
          0.416,
          0.803,
          0.571,
          0.43,
          0.433,
          0.519,
          0.42,
          0.426,
          0.52,
          0.618,
          0.651,
          0.649,
          0.397,
          0.582,
          0.548,
          0.475,
          0.52,
          0.583,
          0.355,
          0.565,
          0.597,
          0.585,
          0.68,
          0.622,
          0.581,
          0.578,
          0.604,
          0.627,
          0.606,
          0.584,
          0.228,
          0.52,
          0.474,
          0.415,
          0.306,
          0.68,
          0.718,
          0.375,
          0.638,
          0.557,
          0.441
         ],
         "xaxis": "x",
         "y": [
          -0.03242475918657129,
          -0.1478823200055676,
          -0.34868666283151356,
          -0.2869700273391882,
          0.5603193540945774,
          -0.3291516839176534,
          -0.8092478588047551,
          -0.08524294615124604,
          0.1313221674639347,
          0.4300805825405168,
          -1.1270282995469767,
          -0.32798147795314814,
          0.7015845471173139,
          -0.05310638489084187,
          -0.2152202550489715,
          -0.4801159673152764,
          0.006010605982066153,
          0.7197247802718149,
          -0.005339443165404717,
          0.25584621180252043,
          -1.1100457322117985,
          -0.2555658464611725,
          -0.026242641506148013,
          -0.1939136768869247,
          -0.42278304988970106,
          0.17990637506355392,
          null,
          -0.30696857761918794,
          -1.2874348750948799,
          -0.06844318168781238,
          0.5791746678609343,
          -0.14649841321187446,
          0.07883101406891935,
          0.10432064173972755,
          -0.501263115460235,
          -0.09391186112114136,
          -0.12419228854813918,
          0.18578254529492083,
          -0.14390302436660593,
          -1.1240443491452117,
          0.5074346064164631,
          -0.25728440220100113,
          -0.022959449681075245,
          -0.06877112426308966,
          -0.6641973864394243,
          0.5241272046667863,
          0.2004479279264754,
          0.11185481561383837,
          -0.560812779388886,
          0.30069323540341086,
          1.1070033586021641,
          -0.11939346871326097,
          0.1648751166142892,
          -0.05011542073223756,
          -0.20263832944991977,
          -1.1341466673108813,
          0.00777825486033934,
          -0.008691807157223069,
          -0.4808617426326496,
          0.4260123069517194,
          -0.5127608658374542,
          -0.9445978956882313,
          -0.572640740246763,
          -0.6054566523480623,
          1.2655866935488669,
          -0.6352987766028475,
          0.4366782024399531,
          -0.5259892182370968,
          -0.4329910571474041,
          0.5949136273208795,
          -1.241252838463204,
          -0.0970116591840556,
          0.08015215286036091,
          -0.3295119515058496,
          -1.2355340233807666,
          -0.186157502599771,
          -0.09032182738672483,
          -0.3351004039708668,
          0.5717941335059344,
          -0.28219421256442845,
          null,
          0.0785163946387209,
          0.21174820052964796,
          0.8213959931261646,
          -0.5255146842644198,
          -0.24845880409892063,
          -1.0111207442626848,
          -0.17889967209903704,
          0.2294876617739821,
          -0.6261561860094528,
          -0.6488537052989394,
          -0.2067944358373223,
          0.06841468810225468
         ],
         "yaxis": "y"
        },
        {
         "customdata": [
          [
           "Market Fresh"
          ],
          [
           "Backyards"
          ],
          [
           "Da Da Da Da"
          ],
          [
           "Time = Cause"
          ],
          [
           "Lover's Spit"
          ],
          [
           "Ibi Dreams Of Pavement (A Better Day)"
          ],
          [
           "7/4 (Shoreline)"
          ],
          [
           "Major Label Debut"
          ],
          [
           "Fire Eye'd Boy"
          ],
          [
           "Windsurfing Nation"
          ],
          [
           "Swimmers"
          ],
          [
           "Hotel"
          ],
          [
           "Handjobs For The Holidays"
          ],
          [
           "Superconnected"
          ],
          [
           "Bandwitch"
          ],
          [
           "It's All Gonna Break"
          ],
          [
           "Canada Vs. America"
          ],
          [
           "All My Friends"
          ],
          [
           "Major Label Debut (Fast)"
          ],
          [
           "Passport Radio"
          ],
          [
           "Stomach Song"
          ],
          [
           "Cranley's Gonna Make It"
          ],
          [
           "World Sick"
          ],
          [
           "Chase Scene"
          ],
          [
           "Texico Bitches"
          ],
          [
           "Forced To Love"
          ],
          [
           "All To All"
          ],
          [
           "Art House Director"
          ],
          [
           "Highway Slipper Jam"
          ],
          [
           "Ungrateful Little Father"
          ],
          [
           "Sentimental X's"
          ],
          [
           "Sweetest Kill"
          ],
          [
           "Romance To The Grave"
          ],
          [
           "Water In Hell"
          ],
          [
           "Me And My Hand"
          ],
          [
           "Halfway Home"
          ],
          [
           "Protest Song"
          ],
          [
           "Skyline"
          ],
          [
           "Stay Happy"
          ],
          [
           "Vanity Pail Kids"
          ],
          [
           "Hug Of Thunder"
          ],
          [
           "Towers And Masons"
          ],
          [
           "Victim Lover"
          ],
          [
           "Please Take Me With You"
          ],
          [
           "Gonna Get Better"
          ],
          [
           "Mouth Guards Of The Apocalypse"
          ],
          [
           "KC Accidental"
          ],
          [
           "Stars And Sons"
          ],
          [
           "Almost Crimes - Radio Kills Remix"
          ],
          [
           "Looks Just Like The Sun"
          ],
          [
           "Anthems For A Seventeen Year-Old Girl"
          ],
          [
           "Cause = Time"
          ],
          [
           "Shampoo Suicide"
          ],
          [
           "Lover's Spit"
          ],
          [
           "I'm Still Your Fag"
          ]
         ],
         "hovertemplate": "artist=Broken Social Scene<br>danceability=%{x}<br>sentiment=%{y}<br>title=%{customdata[0]}<extra></extra>",
         "legendgroup": "Broken Social Scene",
         "marker": {
          "color": "#19d3f3",
          "symbol": "circle"
         },
         "mode": "markers",
         "name": "Broken Social Scene",
         "orientation": "v",
         "showlegend": true,
         "type": "scatter",
         "x": [
          0.476,
          0.276,
          0.139,
          0.13,
          0.38,
          0.0899,
          0.464,
          0.502,
          0.431,
          0.483,
          0.625,
          0.733,
          0.467,
          0.232,
          0.482,
          0.209,
          0.308,
          0.405,
          0.407,
          0.424,
          0.494,
          0.538,
          0.572,
          0.573,
          0.605,
          0.476,
          0.631,
          0.464,
          0.675,
          0.43,
          0.622,
          0.708,
          0.514,
          0.362,
          0.26,
          0.434,
          0.475,
          0.422,
          0.446,
          0.509,
          0.695,
          0.518,
          0.382,
          0.455,
          0.507,
          0.204,
          0.0629,
          0.466,
          0.211,
          0.527,
          0.466,
          0.378,
          0.581,
          0.327,
          0.498
         ],
         "xaxis": "x",
         "y": [
          null,
          0.7731465943169704,
          null,
          1.6335246934824876,
          0.18376096504587686,
          0.15708657948254307,
          -0.18295556141820174,
          -0.10316874486477322,
          -2.0583813174671377,
          0.1702517638201777,
          -0.3160878021890339,
          0.1787951872902177,
          0.17484575802162872,
          -0.17680003623460236,
          0.2559485129550478,
          0.03578064800456313,
          -0.026024320877520823,
          0.14724877714627438,
          -0.10316874486477322,
          null,
          -1.48264082805692,
          null,
          0.2437508170421306,
          -0.21397700704228942,
          0.27771044365534286,
          -0.9100616185242425,
          -0.15252552253786372,
          0.1687272637946703,
          null,
          -0.8317046956654178,
          0.6682372182010762,
          -0.829713464178454,
          -0.027479348177134228,
          -0.3504073409867604,
          0.830401908301225,
          0.19834547615462184,
          -0.07408459378679534,
          -0.8936010772556449,
          0.09835063879863651,
          -0.16508980553521116,
          -0.10079821118520575,
          -1.309694705093985,
          -0.14327779696460105,
          -0.05509284876918524,
          -3.155684951594393,
          -0.12691883246000976,
          1.1893263301111001,
          -0.40634423897452,
          -0.4557417809770344,
          0.2294336545681011,
          null,
          0.045534150320232725,
          0.04386612868346165,
          0.18376096504587686,
          -0.16569120158976086
         ],
         "yaxis": "y"
        },
        {
         "customdata": [
          [
           "Cannibal Resource"
          ],
          [
           "Temecula Sunrise"
          ],
          [
           "The Bride"
          ],
          [
           "Stillness Is The Move"
          ],
          [
           "Two Doves"
          ],
          [
           "Useful Chamber"
          ],
          [
           "No Intention"
          ],
          [
           "Remade Horizon"
          ],
          [
           "Fluorescent Half Dome"
          ],
          [
           "Keep Your Name"
          ],
          [
           "Death Spiral"
          ],
          [
           "Up In Hudson"
          ],
          [
           "Work Together"
          ],
          [
           "Little Bubble"
          ],
          [
           "Winner Take Nothing"
          ],
          [
           "Ascent Through Clouds"
          ],
          [
           "Cool Your Heart"
          ],
          [
           "I See You"
          ],
          [
           "Right Now"
          ],
          [
           "Break-Thru"
          ],
          [
           "That’s A Lifestyle"
          ],
          [
           "I Feel Energy"
          ],
          [
           "Zombie Conqueror"
          ],
          [
           "Blue Bird"
          ],
          [
           "I Found It In U"
          ],
          [
           "What Is The Time"
          ],
          [
           "You're The One"
          ],
          [
           "(I Wanna) Feel It All"
          ],
          [
           "My Brother Had A Birthday"
          ],
          [
           "The Enterprising Catalyst"
          ],
          [
           "Grandfather's Jacket"
          ],
          [
           "After Santa Monica Boulevard"
          ],
          [
           "Dahlonegabhama"
          ],
          [
           "Further On Down The Strip"
          ],
          [
           "Katydids Calling"
          ],
          [
           "Twenty-Foot Stalks"
          ],
          [
           "We Could Cling"
          ],
          [
           "The Love-Prayer Book"
          ],
          [
           "To Give It Weight"
          ],
          [
           "Here Comes The Summer King"
          ],
          [
           "Her Freezings And Thawings"
          ],
          [
           "We Two Feared The Storm"
          ],
          [
           "I Am Going To See It"
          ],
          [
           "Fake Folks"
          ],
          [
           "Like Once-Heated Milk"
          ],
          [
           "O! You Hungering Infants"
          ],
          [
           "Morning Better Last!"
          ],
          [
           "On and Ever Onward"
          ],
          [
           "When the World Comes to an End"
          ],
          [
           "Beautiful Mother"
          ],
          [
           "Sharing Orb"
          ],
          [
           "No Embrace"
          ],
          [
           "All We Are"
          ],
          [
           "What I See"
          ],
          [
           "No More"
          ],
          [
           "Depression"
          ],
          [
           "Six Pack"
          ],
          [
           "Thirsty and Miserable"
          ],
          [
           "Police Story"
          ],
          [
           "Gimmie Gimmie Gimmie"
          ],
          [
           "Spray Paint (The Walls)"
          ],
          [
           "Room 13"
          ],
          [
           "Rise Above"
          ],
          [
           "Untitled"
          ],
          [
           "Somberly, Kimberly"
          ],
          [
           "On the Beach"
          ],
          [
           "(Throw On) The Hazard Lights"
          ],
          [
           "Slaves' Graves"
          ],
          [
           "Grandfather's Hanging"
          ],
          [
           "We Are Swaddled"
          ],
          [
           "A Labor More Restful"
          ],
          [
           "Unmoved"
          ],
          [
           "Ladies, You Have Exiled Me"
          ],
          [
           "Because Your Light Is Turning Green"
          ],
          [
           "Obscure Wisdom"
          ],
          [
           "This Weather"
          ],
          [
           "Since I Opened"
          ],
          [
           "Offspring Are Blank"
          ],
          [
           "About to Die"
          ],
          [
           "Gun Has No Trigger"
          ],
          [
           "Swing Lo Magellan"
          ],
          [
           "Just From Chevron"
          ],
          [
           "Dance For You"
          ],
          [
           "Maybe That Was It"
          ],
          [
           "Impregnable Question"
          ],
          [
           "See What She Seeing"
          ],
          [
           "The Socialites"
          ],
          [
           "Unto Caesar"
          ],
          [
           "Irresponsible Tune"
          ],
          [
           "I Sit On the Ridge At Dusk"
          ],
          [
           "But In the Headlights"
          ],
          [
           "Warholian Wigs"
          ],
          [
           "I Will Truck"
          ],
          [
           "D. Henley's Dream"
          ],
          [
           "Gilt Gold Scabs"
          ],
          [
           "Ponds & Puddles"
          ],
          [
           "Not Having Found"
          ],
          [
           "Tour Along the Potomac"
          ],
          [
           "Jolly Jolly Jolly Ego"
          ],
          [
           "Time Birthed Spilled Blood"
          ],
          [
           "Drilling Profitably"
          ],
          [
           "Finches' Song At Oceanic Parking Lot"
          ],
          [
           "The Glad Fact"
          ],
          [
           "My Offwhite Flag"
          ],
          [
           "Like Fake Blood In Crisp October"
          ],
          [
           "Boredome Is a Product"
          ],
          [
           "Two Brown Finches"
          ],
          [
           "Three Brown Finches"
          ],
          [
           "Off Science Hill"
          ],
          [
           "Winter Is Here"
          ],
          [
           "Ground Underfoot"
          ],
          [
           "Spirit-Future Medley"
          ],
          [
           "Naked We Made It"
          ],
          [
           "Lit from Below"
          ],
          [
           "Imaginary Love"
          ],
          [
           "The Highway Is a Foggy Knife"
          ],
          [
           "The Minutes"
          ]
         ],
         "hovertemplate": "artist=Dirty Projectors<br>danceability=%{x}<br>sentiment=%{y}<br>title=%{customdata[0]}<extra></extra>",
         "legendgroup": "Dirty Projectors",
         "marker": {
          "color": "#FF6692",
          "symbol": "circle"
         },
         "mode": "markers",
         "name": "Dirty Projectors",
         "orientation": "v",
         "showlegend": true,
         "type": "scatter",
         "x": [
          0.557,
          0.404,
          0.394,
          0.569,
          0.435,
          0.338,
          0.578,
          0.288,
          0.51,
          0.54,
          0.555,
          0.677,
          0.377,
          0.342,
          0.725,
          0.445,
          0.61,
          0.484,
          0.481,
          0.8,
          0.519,
          0.723,
          0.416,
          0.53,
          0.452,
          0.757,
          0.409,
          0.286,
          0.636,
          0.311,
          0.699,
          0.471,
          0.705,
          0.719,
          0.624,
          0.46,
          0.31,
          0.579,
          0.51,
          0.475,
          0.425,
          0.164,
          0.335,
          0.364,
          0.428,
          0.444,
          0.55,
          0.719,
          0.44,
          0.86,
          0.496,
          0.362,
          0.32,
          0.427,
          0.318,
          0.482,
          0.371,
          0.434,
          0.277,
          0.348,
          0.323,
          0.234,
          0.541,
          0.0604,
          0.545,
          0.244,
          0.341,
          0.342,
          0.226,
          0.202,
          0.48,
          0.381,
          0.234,
          0.345,
          0.809,
          0.342,
          0.442,
          0.345,
          0.725,
          0.681,
          0.738,
          0.44,
          0.603,
          0.31,
          0.65,
          0.455,
          0.709,
          0.529,
          0.248,
          0.436,
          0.552,
          0.579,
          0.775,
          0.267,
          0.294,
          0.527,
          0.676,
          0.768,
          0.705,
          0.491,
          0.328,
          0.197,
          0.336,
          0.569,
          0.423,
          0.311,
          0.355,
          0.431,
          0.411,
          0.47,
          0.35,
          0.49,
          0.476,
          0.327,
          0.256,
          0.361,
          0.74
         ],
         "xaxis": "x",
         "y": [
          0.40980426006761733,
          0.037817745458072906,
          -0.005639426716868123,
          0.3409094966541039,
          0.20391408832549623,
          0.0888442244396215,
          0.25533776726058804,
          null,
          -0.15810353700389118,
          0.05192332026324339,
          -0.41410990852883955,
          0.15317238002391376,
          -0.3192486529607672,
          -0.21515109383333403,
          0.2763546258152639,
          -0.05289792366650551,
          -0.053034202696741896,
          0.06701627019588022,
          -0.014920668563042515,
          0.20565357811342466,
          0.10341507247016797,
          0.035249190120118006,
          -0.0852778388121521,
          0.9696934795229177,
          0.8172002108041932,
          -0.09056099281742622,
          0.43436103219444006,
          -0.023466734198751615,
          0.0732779252062157,
          2.103789967729595,
          null,
          null,
          null,
          null,
          -1.429761723609032,
          null,
          0.21752210447000586,
          null,
          null,
          null,
          -0.014475330859749225,
          null,
          null,
          -0.7747929181762975,
          2.1991849786466533,
          -1.2989731714422124,
          -0.3994144194711227,
          0.7591046764985133,
          0.07219350111301968,
          1.2824824327785456,
          0.9367439215955362,
          -0.11287565239854554,
          0.4354876588683047,
          -0.0733474251187181,
          0.3530097209659333,
          -2.9815994037805993,
          -0.6394135944182218,
          -0.032400315777648014,
          -1.3068570446875678,
          -0.05528099125923369,
          -1.360935859837428,
          0.24009195563658464,
          -2.7704566343962616,
          0.8760037452827953,
          null,
          0.5699202583287747,
          null,
          0.22827804898348925,
          0.012229474050783756,
          null,
          0.5907140410648979,
          0.23122397977212739,
          null,
          0.6484412229946074,
          1.770456634396262,
          null,
          null,
          0.36262737914397764,
          -0.31062031504084225,
          -0.7767001121818063,
          0.20374591511329582,
          0.19876826184823157,
          0.5015214774848955,
          1.4177954963704675,
          0.6066995170598086,
          -0.16511007863947363,
          0.5452190059726006,
          -0.028420370432699314,
          0.2538088372074349,
          0.16193198544077136,
          null,
          1.90880246748921,
          -1.433826816852537,
          -1.005734514376428,
          -2.6863852239264645,
          1.3592251963181612,
          4.470457883201913,
          -2.2451227854887534,
          0.3266157441512285,
          null,
          null,
          null,
          0.14248006458219364,
          0.27201846688388565,
          -0.016083700955276947,
          null,
          null,
          null,
          0.7012633225765318,
          -0.3230547832488209,
          -0.7528545947157785,
          -0.3971560343358421,
          -0.3204724990448598,
          null,
          0.653231488302457,
          -0.949020266355519,
          0.4889041119522814
         ],
         "yaxis": "y"
        },
        {
         "customdata": [
          [
           "Pretty Things"
          ],
          [
           "Shark Smile"
          ],
          [
           "Capacity"
          ],
          [
           "Watering"
          ],
          [
           "Coma"
          ],
          [
           "Great White Shark"
          ],
          [
           "Mythological Beauty"
          ],
          [
           "Objects"
          ],
          [
           "Haley"
          ],
          [
           "Mary"
          ],
          [
           "Black Diamonds"
          ],
          [
           "Change"
          ],
          [
           "Time Escaping"
          ],
          [
           "Spud Infinity"
          ],
          [
           "Certainty"
          ],
          [
           "Dragon New Warm Mountain I Believe in You"
          ],
          [
           "Sparrow"
          ],
          [
           "Little Things"
          ],
          [
           "Heavy Bend"
          ],
          [
           "Flower of Blood"
          ],
          [
           "Blurred View"
          ],
          [
           "Red Moon"
          ],
          [
           "Dried Roses"
          ],
          [
           "No Reason"
          ],
          [
           "Wake Me up to Drive"
          ],
          [
           "Promise Is a Pendulum"
          ],
          [
           "12,000 Lines"
          ],
          [
           "Simulation Swarm"
          ],
          [
           "Love Love Love"
          ],
          [
           "The Only Place"
          ],
          [
           "Blue Lightning"
          ],
          [
           "Little Arrow - 2023 Remaster"
          ],
          [
           "Masterpiece - 2023 Remaster"
          ],
          [
           "Vegas - 2023 Remaster"
          ],
          [
           "Real Love - 2023 Remaster"
          ],
          [
           "Interstate - 2023 Remaster"
          ],
          [
           "Lorraine - 2023 Remaster"
          ],
          [
           "Paul - 2023 Remaster"
          ],
          [
           "Humans - 2023 Remaster"
          ],
          [
           "Velvet Ring - 2023 Remaster"
          ],
          [
           "Animals - 2023 Remaster"
          ],
          [
           "Randy - 2023 Remaster"
          ],
          [
           "Parallels - 2023 Remaster"
          ],
          [
           "Rock and Sing"
          ],
          [
           "Forgotten Eyes"
          ],
          [
           "The Toy"
          ],
          [
           "Two Hands"
          ],
          [
           "Those Girls"
          ],
          [
           "Shoulders"
          ],
          [
           "Not"
          ],
          [
           "Wolf"
          ],
          [
           "Replaced"
          ],
          [
           "Cut My Hair"
          ],
          [
           "Contact"
          ],
          [
           "UFOF"
          ],
          [
           "Cattails"
          ],
          [
           "From"
          ],
          [
           "Open Desert"
          ],
          [
           "Orange"
          ],
          [
           "Century"
          ],
          [
           "Strange"
          ],
          [
           "Betsy"
          ],
          [
           "Terminal Paradise"
          ],
          [
           "Jenni"
          ],
          [
           "Magic Dealer"
          ]
         ],
         "hovertemplate": "artist=Big Thief<br>danceability=%{x}<br>sentiment=%{y}<br>title=%{customdata[0]}<extra></extra>",
         "legendgroup": "Big Thief",
         "marker": {
          "color": "#B6E880",
          "symbol": "circle"
         },
         "mode": "markers",
         "name": "Big Thief",
         "orientation": "v",
         "showlegend": true,
         "type": "scatter",
         "x": [
          0.467,
          0.618,
          0.448,
          0.633,
          0.385,
          0.391,
          0.63,
          0.677,
          0.535,
          0.4,
          0.761,
          0.633,
          0.672,
          0.562,
          0.611,
          0.312,
          0.564,
          0.34,
          0.682,
          0.254,
          0.438,
          0.434,
          0.56,
          0.455,
          0.683,
          0.473,
          0.675,
          0.703,
          0.426,
          0.45,
          0.6,
          0.222,
          0.369,
          0.624,
          0.311,
          0.404,
          0.45,
          0.473,
          0.44,
          0.318,
          0.4,
          0.376,
          0.355,
          0.692,
          0.428,
          0.327,
          0.518,
          0.579,
          0.459,
          0.423,
          0.439,
          0.627,
          0.528,
          0.451,
          0.623,
          0.555,
          0.6,
          0.589,
          0.443,
          0.673,
          0.733,
          0.578,
          0.598,
          0.393,
          0.414
         ],
         "xaxis": "x",
         "y": [
          -0.21168511703992826,
          0.5660719408170664,
          -0.363006603745952,
          -1.0275003594005465,
          null,
          0.08542143562020296,
          0.04547394650411382,
          -0.32514953079295345,
          0.1775495936538249,
          0.04111838580319766,
          -0.41586250191411245,
          -0.07732424831234101,
          -0.13214663940919105,
          0.6184301772869297,
          0.17418011820930093,
          -0.3715454568365308,
          -0.1736056071236774,
          0.04260205358494285,
          -0.22808531473875868,
          -0.2628344996251555,
          0.16002957572192622,
          0.05935951857126221,
          -0.0033535905190542614,
          0,
          0.2195560531262465,
          0.015619520106194523,
          0.12254291686172378,
          -0.010589388618344062,
          0.3309369065715003,
          -0.6162230380943977,
          -0.07930871640454784,
          0.1369133355212436,
          -0.1141184055631779,
          0.011881291050515025,
          0.3382295112668671,
          0.2044871850899993,
          -0.3638627577990861,
          -0.061408276558959175,
          -0.2517262677626783,
          -0.06721444375479534,
          -0.16689878935770286,
          0.23376748131376474,
          0.07276747383491165,
          0.35831950496509357,
          -0.5041773719869147,
          0.19682740489846043,
          -1.3539607963467668,
          -1.2111675664040928,
          0.22621440100597395,
          -0.08739560478801245,
          -0.0268521204724251,
          -0.2148519416521612,
          0.012588104597555614,
          0.9534098773929952,
          0.021361276195301197,
          -0.3094042966018059,
          -0.2802451665426531,
          0.036724281500041665,
          -0.1785170800838698,
          -0.12341594847506429,
          0.16636318024666807,
          null,
          -0.04382086061702223,
          -0.5364083987727204,
          -0.8605293997073408
         ],
         "yaxis": "y"
        },
        {
         "customdata": [
          [
           "It's Working"
          ],
          [
           "Song for Dan Treacy"
          ],
          [
           "Someone's Missing"
          ],
          [
           "Flash Delirium"
          ],
          [
           "I Found a Whistle"
          ],
          [
           "Siberian Breaks"
          ],
          [
           "Brian Eno"
          ],
          [
           "Congratulations"
          ],
          [
           "She Works Out Too Much"
          ],
          [
           "Little Dark Age"
          ],
          [
           "When You Die"
          ],
          [
           "Me and Michael"
          ],
          [
           "TSLAMP"
          ],
          [
           "James"
          ],
          [
           "Days That Got Away"
          ],
          [
           "One Thing Left to Try"
          ],
          [
           "When You're Small"
          ],
          [
           "Hand It Over"
          ],
          [
           "Loss Of Life (part 2)"
          ],
          [
           "Mother Nature"
          ],
          [
           "People In The Streets"
          ],
          [
           "Bubblegum Dog"
          ],
          [
           "Nothing To Declare"
          ],
          [
           "Nothing Changes"
          ],
          [
           "Phradie’s Song"
          ],
          [
           "I Wish I Was Joking"
          ],
          [
           "Loss Of Life"
          ],
          [
           "Alien Days"
          ],
          [
           "Cool Song No. 2"
          ],
          [
           "Mystery Disease"
          ],
          [
           "Introspection"
          ],
          [
           "Your Life Is a Lie"
          ],
          [
           "A Good Sadness"
          ],
          [
           "Astro-Mancy"
          ],
          [
           "I Love You Too, Death"
          ],
          [
           "Plenty Of Girls In The Sea"
          ],
          [
           "An Orphan Of Fortune"
          ],
          [
           "Time to Pretend"
          ],
          [
           "Weekend Wars"
          ],
          [
           "The Youth"
          ],
          [
           "Electric Feel"
          ],
          [
           "Kids"
          ],
          [
           "4th Dimensional Transition"
          ],
          [
           "Pieces of What"
          ],
          [
           "Of Moons, Birds & Monsters"
          ],
          [
           "The Handshake"
          ],
          [
           "Future Reflections"
          ]
         ],
         "hovertemplate": "artist=MGMT<br>danceability=%{x}<br>sentiment=%{y}<br>title=%{customdata[0]}<extra></extra>",
         "legendgroup": "MGMT",
         "marker": {
          "color": "#FF97FF",
          "symbol": "circle"
         },
         "mode": "markers",
         "name": "MGMT",
         "orientation": "v",
         "showlegend": true,
         "type": "scatter",
         "x": [
          0.381,
          0.453,
          0.308,
          0.575,
          0.166,
          0.305,
          0.374,
          0.761,
          0.633,
          0.705,
          0.645,
          0.628,
          0.602,
          0.515,
          0.667,
          0.576,
          0.465,
          0.378,
          0.241,
          0.425,
          0.585,
          0.482,
          0.474,
          0.529,
          0.168,
          0.48,
          0.288,
          0.492,
          0.543,
          0.253,
          0.519,
          0.527,
          0.209,
          0.525,
          0.212,
          0.544,
          0.423,
          0.438,
          0.549,
          0.485,
          0.763,
          0.451,
          0.381,
          0.572,
          0.598,
          0.565,
          0.512
         ],
         "xaxis": "x",
         "y": [
          0.5671784048650703,
          -0.2331066949342249,
          -1.1012747789190693,
          0.06417487966396387,
          0.3117976759651533,
          -0.06075175420431784,
          -0.003120403369439726,
          -0.22300344317107637,
          0.026789918031331864,
          -0.057805825426186674,
          -0.140974803568028,
          -0.005249132213626197,
          -0.18299441471357816,
          0.4136447003266175,
          null,
          0.4386962517521367,
          -0.3500289896960789,
          0.00031453106896732014,
          0.041995482563760095,
          -0.02047078198401809,
          0.03356688894317847,
          0.06967503595674326,
          -0.1654464053052441,
          -0.18634156632516805,
          1.047013108939353,
          0.02370197587955547,
          0.1438592030704295,
          -0.324075618355004,
          0.005751553226037358,
          0.0037558205515818345,
          -0.20062962176094024,
          -0.402644312189767,
          0.01052160773622196,
          0.39773694784188174,
          -0.10915800330283376,
          0.23609589441715434,
          null,
          -0.1235037859180431,
          -0.2212736145520558,
          0.3934841937220135,
          1.4204937404420412,
          -0.911259572353172,
          0.08097402368988929,
          -0.2648173854200144,
          -0.3199274935250746,
          -0.025167415281708683,
          0.07360847974760827
         ],
         "yaxis": "y"
        },
        {
         "customdata": [
          [
           "Spitting Off the Edge of the World"
          ],
          [
           "Lovebomb"
          ],
          [
           "Wolf"
          ],
          [
           "Fleez"
          ],
          [
           "Burning"
          ],
          [
           "Blacktop"
          ],
          [
           "Different Today"
          ],
          [
           "Mars"
          ],
          [
           "Rich"
          ],
          [
           "Date With The Night"
          ],
          [
           "Man"
          ],
          [
           "Tick"
          ],
          [
           "Black Tongue"
          ],
          [
           "Pin"
          ],
          [
           "Cold Light"
          ],
          [
           "No No No"
          ],
          [
           "Maps"
          ],
          [
           "Y Control"
          ],
          [
           "Modern Romance"
          ],
          [
           "Poor Song"
          ],
          [
           "Zero"
          ],
          [
           "Heads Will Roll"
          ],
          [
           "Soft Shock"
          ],
          [
           "Skeletons"
          ],
          [
           "Dull Life"
          ],
          [
           "Shame And Fortune"
          ],
          [
           "Runaway"
          ],
          [
           "Dragon Queen"
          ],
          [
           "Hysteric"
          ],
          [
           "Little Shadow"
          ],
          [
           "Sacrilege"
          ],
          [
           "Subway"
          ],
          [
           "Mosquito"
          ],
          [
           "Under The Earth"
          ],
          [
           "Slave"
          ],
          [
           "These Paths"
          ],
          [
           "Area 52"
          ],
          [
           "Buried Alive"
          ],
          [
           "Always"
          ],
          [
           "Despair"
          ],
          [
           "Wedding Song"
          ],
          [
           "Subway - NOLA Demo"
          ],
          [
           "Gold Lion"
          ],
          [
           "Way Out"
          ],
          [
           "Fancy"
          ],
          [
           "Phenomena"
          ],
          [
           "Honeybear"
          ],
          [
           "Cheated Hearts"
          ],
          [
           "Dudley"
          ],
          [
           "Mysteries"
          ],
          [
           "Sweets"
          ],
          [
           "Warrior"
          ],
          [
           "Turn Into"
          ]
         ],
         "hovertemplate": "artist=Yeah Yeah Yeahs<br>danceability=%{x}<br>sentiment=%{y}<br>title=%{customdata[0]}<extra></extra>",
         "legendgroup": "Yeah Yeah Yeahs",
         "marker": {
          "color": "#FECB52",
          "symbol": "circle"
         },
         "mode": "markers",
         "name": "Yeah Yeah Yeahs",
         "orientation": "v",
         "showlegend": true,
         "type": "scatter",
         "x": [
          0.413,
          0.243,
          0.576,
          0.698,
          0.528,
          0.683,
          0.46,
          0.574,
          0.547,
          0.473,
          0.231,
          0.533,
          0.52,
          0.68,
          0.283,
          0.352,
          0.502,
          0.427,
          0.324,
          0.555,
          0.504,
          0.562,
          0.598,
          0.234,
          0.386,
          0.5,
          0.425,
          0.633,
          0.573,
          0.38,
          0.527,
          0.378,
          0.53,
          0.448,
          0.464,
          0.35,
          0.37,
          0.501,
          0.498,
          0.524,
          0.255,
          0.575,
          0.521,
          0.674,
          0.504,
          0.501,
          0.623,
          0.582,
          0.499,
          0.215,
          0.366,
          0.442,
          0.493
         ],
         "xaxis": "x",
         "y": [
          -0.09554171680632506,
          -0.05382366147050695,
          -2.053655258583275,
          0.12158658749377889,
          -0.2482091261701772,
          0.08539211252673584,
          -0.2421608863956944,
          0.8409768637838946,
          -1.0254530935059345,
          -1.758345055605432,
          -0.33228648339208106,
          -0.017138196069719752,
          -0.23868366531313034,
          -0.03957505764627833,
          0.1457524961153397,
          -0.6626547608587009,
          0.0009960476147139463,
          -0.07417144958320188,
          3.2222624917510623,
          -0.14854060949296424,
          -0.5582582259911382,
          1.4556871663962228,
          -2.3038890238102505,
          -0.6104342442543199,
          -0.7069030811921545,
          null,
          -1.1671182055105793,
          0.78122515138882,
          -0.9189619602199639,
          -0.8311369903188786,
          0.25741690820015717,
          -0.1210613934650464,
          -0.7592378577425549,
          1.1256117983007612,
          -0.47715061949204934,
          -1.6123549497610314,
          -3.765031390223964,
          -0.07090436319296238,
          -0.1476870308719237,
          1.0222898208554072,
          -0.04965383954184903,
          0.27534797212168194,
          -0.1729513633876373,
          -1.335832351722126,
          -1.6736855810767242,
          -0.37074153774746527,
          0.10469916586319655,
          -0.3098530116685888,
          0.15426761836343927,
          -0.318133744581535,
          -1.023108263378557,
          -0.017049352964694252,
          0.08994565413950312
         ],
         "yaxis": "y"
        },
        {
         "customdata": [
          [
           "Abducted"
          ],
          [
           "Go Outside"
          ],
          [
           "You Know What I Mean"
          ],
          [
           "Most Wanted"
          ],
          [
           "Walk At Night"
          ],
          [
           "Never Heal Myself"
          ],
          [
           "Oh My God"
          ],
          [
           "Never Saw The Point"
          ],
          [
           "Bad Things"
          ],
          [
           "Bumper"
          ],
          [
           "Rave On"
          ],
          [
           "Bad Things - Slowed Down"
          ],
          [
           "Trials"
          ],
          [
           "8th Avenue"
          ],
          [
           "Spit You Out"
          ],
          [
           "A Low"
          ],
          [
           "No Risk"
          ],
          [
           "Working It Over"
          ],
          [
           "A Purgatory"
          ],
          [
           "Like I Do"
          ],
          [
           "Masquerading"
          ],
          [
           "Honest Love"
          ],
          [
           "Shoulders To My Feet"
          ],
          [
           "Monolithic"
          ],
          [
           "Offering"
          ],
          [
           "I Took Your Picture"
          ],
          [
           "With My Eyes Closed"
          ],
          [
           "Recovery"
          ],
          [
           "Right Words"
          ],
          [
           "Good Religion"
          ],
          [
           "Natural State"
          ],
          [
           "Nothing Is Written"
          ],
          [
           "Talk in Circles"
          ],
          [
           "Clear from Far Away"
          ],
          [
           "Gilded Lily"
          ],
          [
           "I Know"
          ],
          [
           "I Can Hardly Make You Mine"
          ],
          [
           "Always Forever"
          ],
          [
           "High Road"
          ],
          [
           "Were Before"
          ],
          [
           "So Far"
          ],
          [
           "Keep Your Head Up"
          ],
          [
           "TV Dream"
          ],
          [
           "We've Got It"
          ],
          [
           "Shine a Light"
          ],
          [
           "No Hope"
          ]
         ],
         "hovertemplate": "artist=Cults<br>danceability=%{x}<br>sentiment=%{y}<br>title=%{customdata[0]}<extra></extra>",
         "legendgroup": "Cults",
         "marker": {
          "color": "#636efa",
          "symbol": "circle"
         },
         "mode": "markers",
         "name": "Cults",
         "orientation": "v",
         "showlegend": true,
         "type": "scatter",
         "x": [
          0.374,
          0.375,
          0.317,
          0.654,
          0.628,
          0.52,
          0.392,
          0.523,
          0.346,
          0.649,
          0.436,
          0.167,
          0.691,
          0.524,
          0.558,
          0.498,
          0.616,
          0.549,
          0.331,
          0.602,
          0.506,
          0.401,
          0.454,
          0.443,
          0.399,
          0.516,
          0.355,
          0.532,
          0.564,
          0.43,
          0.446,
          0.519,
          0.28,
          0.553,
          0.4,
          0.102,
          0.438,
          0.174,
          0.582,
          0.507,
          0.358,
          0.328,
          0.179,
          0.436,
          0.385,
          0.383
         ],
         "xaxis": "x",
         "y": [
          -0.31402652745566156,
          -0.12986407408599,
          -0.17822907000703175,
          -0.5357014352228135,
          -0.140969795107455,
          -0.5639848250108793,
          -0.3585616701594798,
          -0.2738067235971671,
          -0.09968355037045713,
          -0.16703044235968065,
          -0.06329986243627124,
          0.15229494894910045,
          -0.2186385223926464,
          -0.21214585396236676,
          1.4309536544194543,
          -0.10056573852217991,
          1.2169998359841074,
          -0.09711676234382738,
          0.049457921341957034,
          -0.1720063918389281,
          0.6784182249297828,
          0.3723116364582767,
          0.3080576715631798,
          -0.6478469483321669,
          -0.17047939250764646,
          -0.11770200524091548,
          0.1115091339303928,
          -0.3580406690019118,
          -0.2133917514121321,
          0.44632135328150546,
          -0.3200326855282988,
          0.0987065688324762,
          -0.18502434350059438,
          0.7578930816994077,
          -0.473545532085286,
          -1.7418011024044555,
          -0.5536188131426664,
          -0.0052860888158188235,
          -0.012166318344660865,
          0.30209952243514543,
          -0.352873133605243,
          0.4293363241179673,
          2.323096346918369,
          -0.05291795013641018,
          -0.98597795228281,
          0.6041151853769331
         ],
         "yaxis": "y"
        },
        {
         "customdata": [
          [
           "Welcome To My Island"
          ],
          [
           "Pretty In Possible"
          ],
          [
           "Bunny Is A Rider"
          ],
          [
           "Sunset"
          ],
          [
           "Crude Drawing Of An Angel"
          ],
          [
           "I Believe"
          ],
          [
           "Blood And Butter"
          ],
          [
           "Hopedrunk Everasking"
          ],
          [
           "Butterfly Net"
          ],
          [
           "Smoke"
          ],
          [
           "Billions"
          ],
          [
           "The Gate"
          ],
          [
           "Pang"
          ],
          [
           "New Normal"
          ],
          [
           "Hit Me Where It Hurts"
          ],
          [
           "I Give Up"
          ],
          [
           "Look At Me Now"
          ],
          [
           "Insomnia"
          ],
          [
           "Ocean of Tears"
          ],
          [
           "Hey Big Eyes"
          ],
          [
           "Go As a Dream"
          ],
          [
           "Caroline Shut Up"
          ],
          [
           "So Hot You're Hurting My Feelings"
          ],
          [
           "Door"
          ],
          [
           "Parachute"
          ]
         ],
         "hovertemplate": "artist=Caroline Polachek<br>danceability=%{x}<br>sentiment=%{y}<br>title=%{customdata[0]}<extra></extra>",
         "legendgroup": "Caroline Polachek",
         "marker": {
          "color": "#EF553B",
          "symbol": "circle"
         },
         "mode": "markers",
         "name": "Caroline Polachek",
         "orientation": "v",
         "showlegend": true,
         "type": "scatter",
         "x": [
          0.692,
          0.706,
          0.796,
          0.643,
          0.591,
          0.67,
          0.589,
          0.257,
          0.57,
          0.657,
          0.579,
          0.176,
          0.707,
          0.688,
          0.732,
          0.788,
          0.564,
          0.231,
          0.572,
          0.537,
          0.63,
          0.548,
          0.795,
          0.684,
          0.2
         ],
         "xaxis": "x",
         "y": [
          0.005598760736822722,
          0.07341971921714992,
          0.6137321894018635,
          -0.4626683423011155,
          -0.12945657973845665,
          0.46908648213845766,
          0.16259020227993218,
          0.7815079939526005,
          -0.5457621092606336,
          0.04050195228870172,
          0.18070761434481825,
          0.6031141101454175,
          -1.8517488115800367,
          -0.2842690481241937,
          -0.6362179316573405,
          -0.2574392670781178,
          -0.014361199519269535,
          0.08665347520299448,
          0.3422422142464202,
          1.076715657373956,
          -0.2496129085636904,
          0.0753332328863697,
          -0.018470796034175303,
          -0.03123271635434982,
          -0.4831930805127313
         ],
         "yaxis": "y"
        },
        {
         "customdata": [
          [
           "Daydream"
          ],
          [
           "Sears Roebuck M&Ms"
          ],
          [
           "Crown"
          ],
          [
           "Aquarium"
          ],
          [
           "Plain Speech"
          ],
          [
           "Electric Balloon"
          ],
          [
           "PRPL"
          ],
          [
           "Hold U"
          ],
          [
           "Judy"
          ],
          [
           "Genesee"
          ],
          [
           "Ab Ovo"
          ],
          [
           "Ice Level"
          ],
          [
           "Wrenning Day"
          ],
          [
           "Sequential Holdings"
          ],
          [
           "Down Right"
          ],
          [
           "Company"
          ],
          [
           "Tenderize"
          ],
          [
           "Steve Polyester"
          ],
          [
           "Roses and Cherries"
          ],
          [
           "Coat Of Shellac"
          ],
          [
           "Black Dog"
          ],
          [
           "Best Hexagon"
          ],
          [
           "Billz"
          ],
          [
           "Victoria"
          ],
          [
           "Carbon"
          ],
          [
           "Accessible"
          ],
          [
           "Centerline"
          ],
          [
           "Childish"
          ],
          [
           "Leaf"
          ],
          [
           "Mine"
          ],
          [
           "Moon 2"
          ],
          [
           "Deli Run"
          ],
          [
           "Set It Off"
          ],
          [
           "Walking with an Enemy"
          ],
          [
           "Unless"
          ],
          [
           "On Its Side the Fallen"
          ]
         ],
         "hovertemplate": "artist=Ava Luna<br>danceability=%{x}<br>sentiment=%{y}<br>title=%{customdata[0]}<extra></extra>",
         "legendgroup": "Ava Luna",
         "marker": {
          "color": "#00cc96",
          "symbol": "circle"
         },
         "mode": "markers",
         "name": "Ava Luna",
         "orientation": "v",
         "showlegend": true,
         "type": "scatter",
         "x": [
          0.688,
          0.835,
          0.545,
          0.588,
          0.6,
          0.887,
          0.677,
          0.705,
          0.408,
          0.645,
          0.723,
          0.462,
          0.665,
          0.631,
          0.659,
          0.546,
          0.784,
          0.619,
          0.753,
          0.714,
          0.317,
          0.512,
          0.618,
          0.437,
          0.671,
          0.842,
          0.787,
          0.845,
          0.947,
          0.721,
          0.829,
          0.768,
          0.764,
          0.646,
          0.816,
          0.593
         ],
         "xaxis": "x",
         "y": [
          1.4622739806377574,
          0.4128509862106702,
          1.067190472088034,
          -0.6870213089441876,
          -0.18284647899881498,
          -0.255495647119717,
          -0.5304871079930725,
          0.06076328116980058,
          -0.8416004787802865,
          null,
          null,
          -0.08703966067206137,
          -0.5144452962945453,
          -0.10851073797673176,
          -0.1412723759226838,
          0.6692284543229592,
          -0.22860959391029345,
          0.17938934444282464,
          -1.1982432584133682,
          -0.5746943669924951,
          0.14218794046874195,
          0.6534863298603685,
          0.5962217742102368,
          1.309169303843773,
          -0.2913819894223396,
          null,
          -0.03160344581395889,
          -1.5754691341558766,
          -0.12993705509874773,
          -0.6358439009847207,
          1.597946342884425,
          -0.019698541261965002,
          -0.09132534387637359,
          -0.05571855707963318,
          -0.45331152379700795,
          -0.1998333168337711
         ],
         "yaxis": "y"
        },
        {
         "customdata": [
          [
           "Never Ending Circles"
          ],
          [
           "Leave a Trace"
          ],
          [
           "Keep You On My Side"
          ],
          [
           "Make Them Gold"
          ],
          [
           "Clearest Blue"
          ],
          [
           "High Enough to Carry You Over"
          ],
          [
           "Empty Threat"
          ],
          [
           "Down Side of Me"
          ],
          [
           "Playing Dead"
          ],
          [
           "Bury It"
          ],
          [
           "Afterglow"
          ],
          [
           "Graffiti"
          ],
          [
           "Get Out"
          ],
          [
           "Deliverance"
          ],
          [
           "My Enemy"
          ],
          [
           "Forever"
          ],
          [
           "Never Say Die"
          ],
          [
           "Miracle"
          ],
          [
           "Graves"
          ],
          [
           "Heaven/Hell"
          ],
          [
           "God's Plan"
          ],
          [
           "Really Gone"
          ],
          [
           "ii"
          ],
          [
           "Wonderland"
          ],
          [
           "The Mother We Share"
          ],
          [
           "We Sink"
          ],
          [
           "Gun"
          ],
          [
           "Tether"
          ],
          [
           "Lies"
          ],
          [
           "Under the Tide"
          ],
          [
           "Recover"
          ],
          [
           "Night Sky"
          ],
          [
           "Science/Visions"
          ],
          [
           "Lungs"
          ],
          [
           "By the Throat"
          ],
          [
           "You Caught the Light"
          ],
          [
           "Strong Hand"
          ],
          [
           "Broken Bones"
          ],
          [
           "Gun - KDA Remix"
          ]
         ],
         "hovertemplate": "artist=CHVRCHES<br>danceability=%{x}<br>sentiment=%{y}<br>title=%{customdata[0]}<extra></extra>",
         "legendgroup": "CHVRCHES",
         "marker": {
          "color": "#ab63fa",
          "symbol": "circle"
         },
         "mode": "markers",
         "name": "CHVRCHES",
         "orientation": "v",
         "showlegend": true,
         "type": "scatter",
         "x": [
          0.512,
          0.6,
          0.665,
          0.613,
          0.643,
          0.642,
          0.675,
          0.587,
          0.562,
          0.63,
          0.235,
          0.472,
          0.486,
          0.565,
          0.56,
          0.437,
          0.534,
          0.573,
          0.549,
          0.611,
          0.502,
          0.537,
          0.486,
          0.49,
          0.45,
          0.61,
          0.659,
          0.47,
          0.537,
          0.477,
          0.416,
          0.616,
          0.438,
          0.704,
          0.637,
          0.479,
          0.548,
          0.658,
          0.79
         ],
         "xaxis": "x",
         "y": [
          -0.16617825068134368,
          -0.1683184608485685,
          -0.02558343000349117,
          -0.4367465528542366,
          0.27631040991320854,
          -0.27284490021836966,
          0.09694176581024572,
          -0.07609445790761808,
          -0.2386089644276797,
          null,
          -0.2962489621201356,
          0.0686831485924092,
          0.09817364379049115,
          -0.18061397766963963,
          -0.025244705783461024,
          -0.13010650984024674,
          -0.095184205090026,
          1.105542828460426,
          0.2570242311277014,
          -0.16407259171584498,
          -0.33375231962642615,
          -1.1171842979791156,
          0.6396595250180016,
          -0.35724730476530636,
          -0.375768186529714,
          -0.2105560156615993,
          -0.2603721031983417,
          0.28734718349624755,
          -0.04453433154995263,
          -0.20920272832380374,
          -0.19661194709708588,
          0.03802321376428173,
          1.1081826537585049,
          0.11139548333039077,
          0.0016518566022393599,
          0.16670386513258642,
          0.17821650248791254,
          -0.12375022937829727,
          -0.29842876585217026
         ],
         "yaxis": "y"
        },
        {
         "customdata": [
          [
           "Sunday Morning"
          ],
          [
           "Casings"
          ],
          [
           "Lilies"
          ],
          [
           "Head in the Wall"
          ],
          [
           "Knuckle Velvet"
          ],
          [
           "Golden Age"
          ],
          [
           "Crush"
          ],
          [
           "Unpunishable"
          ],
          [
           "Inbred"
          ],
          [
           "Two-Headed Mother"
          ],
          [
           "Family Tree (Intro)"
          ],
          [
           "American Teenager"
          ],
          [
           "A House In Nebraska"
          ],
          [
           "Western Nights"
          ],
          [
           "Family Tree"
          ],
          [
           "Hard Times"
          ],
          [
           "Thoroughfare"
          ],
          [
           "Gibson Girl"
          ],
          [
           "Ptolemaea"
          ],
          [
           "Sun Bleached Flies"
          ],
          [
           "Strangers"
          ]
         ],
         "hovertemplate": "artist=Ethel Cain<br>danceability=%{x}<br>sentiment=%{y}<br>title=%{customdata[0]}<extra></extra>",
         "legendgroup": "Ethel Cain",
         "marker": {
          "color": "#FFA15A",
          "symbol": "circle"
         },
         "mode": "markers",
         "name": "Ethel Cain",
         "orientation": "v",
         "showlegend": true,
         "type": "scatter",
         "x": [
          0.355,
          0.367,
          0.435,
          0.272,
          0.472,
          0.261,
          0.529,
          0.413,
          0.23,
          0.394,
          0.256,
          0.415,
          0.245,
          0.423,
          0.239,
          0.492,
          0.549,
          0.287,
          0.281,
          0.269,
          0.373
         ],
         "xaxis": "x",
         "y": [
          -0.012874651724677277,
          -0.10844110208303444,
          0.48184453392353316,
          -0.22798723803779256,
          -0.09344235851567517,
          -0.09560604431680078,
          -0.0643316921198944,
          -0.020688161778798852,
          0.03431825230127329,
          0.09441568502916076,
          -0.7785460873022337,
          -0.17145742556322624,
          -0.019257325598922497,
          -0.0850865069055959,
          0.061994889006697716,
          -0.00013410607800709825,
          -0.014240014906967486,
          0.05357726474901314,
          0.19236646920189582,
          -0.016920575523865923,
          0.04076871961258818
         ],
         "yaxis": "y"
        },
        {
         "customdata": [
          [
           "Daniel"
          ],
          [
           "Stop"
          ],
          [
           "Bad Street"
          ],
          [
           "Space Babe"
          ],
          [
           "Kimmi In a Rice Field"
          ],
          [
           "Luna's Theme"
          ],
          [
           "Spain"
          ],
          [
           "Gene Ciampi"
          ],
          [
           "Saturday Sunday"
          ],
          [
           "Eastern Green"
          ],
          [
           "Sensitive"
          ],
          [
           "Rude Boy"
          ],
          [
           "In the House of Yes"
          ],
          [
           "Blush"
          ],
          [
           "Out of the Dark"
          ],
          [
           "Twelve Angels"
          ],
          [
           "Crime Scene"
          ]
         ],
         "hovertemplate": "artist=Mr. Twin Sister<br>danceability=%{x}<br>sentiment=%{y}<br>title=%{customdata[0]}<extra></extra>",
         "legendgroup": "Mr. Twin Sister",
         "marker": {
          "color": "#19d3f3",
          "symbol": "circle"
         },
         "mode": "markers",
         "name": "Mr. Twin Sister",
         "orientation": "v",
         "showlegend": true,
         "type": "scatter",
         "x": [
          0.557,
          0.66,
          0.792,
          0.605,
          0.5,
          0.277,
          0.33,
          0.666,
          0.621,
          0.291,
          0.465,
          0.752,
          0.695,
          0.295,
          0.866,
          0.379,
          0.334
         ],
         "xaxis": "x",
         "y": [
          -0.48454576016355944,
          null,
          -2.169645384256567,
          -0.6203833075119672,
          0.2778200807548509,
          1.121490760945362,
          -0.6675739312793212,
          0.5335972396431731,
          0.16228181786389134,
          0.7191669083705361,
          -1.2091213726735581,
          -0.4891803900667068,
          0.22559762826688215,
          0.3116133492372408,
          0.21260525813671546,
          -1.1225672973229142,
          0.48520118876861307
         ],
         "yaxis": "y"
        },
        {
         "customdata": [
          [
           "Pendulum"
          ],
          [
           "Dream the Dare"
          ],
          [
           "Evergreener"
          ],
          [
           "Twins"
          ],
          [
           "Only Lonely Lovers"
          ],
          [
           "Scotty"
          ],
          [
           "Temples of the Moon"
          ],
          [
           "Thin Growing Thing"
          ],
          [
           "Devotion"
          ],
          [
           "Veil"
          ],
          [
           "Black Starling"
          ],
          [
           "Ad Victoriam"
          ],
          [
           "All Night"
          ],
          [
           "Moonrise"
          ],
          [
           "Remember"
          ],
          [
           "Joyous Lake"
          ],
          [
           "Violet a Voyager"
          ],
          [
           "The Tower"
          ],
          [
           "Pray for Rain"
          ],
          [
           "Palest Pearl"
          ],
          [
           "Clover"
          ],
          [
           "Darling, Save Us"
          ],
          [
           "Singer"
          ],
          [
           "She Shakes"
          ],
          [
           "Maximilian's Ring"
          ],
          [
           "I Trace Your Symbol"
          ],
          [
           "In the Night, in the Peaceful Night"
          ]
         ],
         "hovertemplate": "artist=Pure Bathing Culture<br>danceability=%{x}<br>sentiment=%{y}<br>title=%{customdata[0]}<extra></extra>",
         "legendgroup": "Pure Bathing Culture",
         "marker": {
          "color": "#FF6692",
          "symbol": "circle"
         },
         "mode": "markers",
         "name": "Pure Bathing Culture",
         "orientation": "v",
         "showlegend": true,
         "type": "scatter",
         "x": [
          0.582,
          0.388,
          0.343,
          0.599,
          0.534,
          0.511,
          0.373,
          0.43,
          0.554,
          0.174,
          0.502,
          0.457,
          0.445,
          0.613,
          0.538,
          0.559,
          0.522,
          0.688,
          0.561,
          0.684,
          0.6,
          0.623,
          0.644,
          0.613,
          0.587,
          0.598,
          0.688
         ],
         "xaxis": "x",
         "y": [
          null,
          0.07911233867952136,
          0.4792194198797602,
          0.10380449660029711,
          -0.06804870494676026,
          0.6625269227338841,
          null,
          0.12051011957059547,
          0.8241449298867014,
          0.11747068252889321,
          -0.1360331426646689,
          -0.022948078376208443,
          -0.6633256616585811,
          0.3320899940889755,
          -0.02753397391205718,
          -0.3327388815310771,
          -0.3658911520637119,
          0.4824159502480338,
          0.006807163937076949,
          0,
          0.7774486756022612,
          0.7042564078216003,
          0.01852793863565394,
          0.1562318703258261,
          -0.4777161568670733,
          null,
          0
         ],
         "yaxis": "y"
        },
        {
         "customdata": [
          [
           "Barbie Nation"
          ],
          [
           "Nasty Girls"
          ],
          [
           "Happy With Me"
          ],
          [
           "Tell Me How It Is"
          ],
          [
           "Running Behind"
          ],
          [
           "Money All Around"
          ],
          [
           "Monumental Glow"
          ],
          [
           "Plastered Smile"
          ],
          [
           "Best Friends"
          ],
          [
           "Diamonds On the Rebound"
          ],
          [
           "Regret You"
          ],
          [
           "U Make Me Sick"
          ],
          [
           "Over You"
          ],
          [
           "Number One"
          ],
          [
           "Hundred Thousand Hearts"
          ],
          [
           "Raining Romance"
          ],
          [
           "Haunt Me In The Night"
          ],
          [
           "Carmelo"
          ],
          [
           "Fight For Me"
          ],
          [
           "Patron Saint"
          ],
          [
           "Saturday"
          ],
          [
           "Wishing You Away"
          ]
         ],
         "hovertemplate": "artist=Holychild<br>danceability=%{x}<br>sentiment=%{y}<br>title=%{customdata[0]}<extra></extra>",
         "legendgroup": "Holychild",
         "marker": {
          "color": "#B6E880",
          "symbol": "circle"
         },
         "mode": "markers",
         "name": "Holychild",
         "orientation": "v",
         "showlegend": true,
         "type": "scatter",
         "x": [
          0.534,
          0.718,
          0.817,
          0.683,
          0.739,
          0.668,
          0.73,
          0.71,
          0.635,
          0.66,
          0.712,
          0.819,
          0.485,
          0.659,
          0.604,
          0.577,
          0.487,
          0.836,
          0.458,
          0.675,
          0.457,
          0.697
         ],
         "xaxis": "x",
         "y": [
          0.08334380481348627,
          0.2590848097905978,
          0.709726473052343,
          -0.08662887745709688,
          -0.022103992248263146,
          0.06723811306164953,
          0.004679587257566784,
          -0.16021569264120064,
          -0.027593667766699203,
          0.0675756712037024,
          -0.0781898008430499,
          -0.35058356570802973,
          -0.24312442535688095,
          -0.07420625110170961,
          -0.02998010641038797,
          0.3723229208039463,
          -0.0100182747119336,
          -0.33588842498789917,
          -0.2543863038690794,
          -0.08839777274088577,
          0.09138424964342956,
          0.025934159879778422
         ],
         "yaxis": "y"
        }
       ],
       "layout": {
        "legend": {
         "title": {
          "text": "artist"
         },
         "tracegroupgap": 0
        },
        "template": {
         "data": {
          "bar": [
           {
            "error_x": {
             "color": "#2a3f5f"
            },
            "error_y": {
             "color": "#2a3f5f"
            },
            "marker": {
             "line": {
              "color": "#E5ECF6",
              "width": 0.5
             },
             "pattern": {
              "fillmode": "overlay",
              "size": 10,
              "solidity": 0.2
             }
            },
            "type": "bar"
           }
          ],
          "barpolar": [
           {
            "marker": {
             "line": {
              "color": "#E5ECF6",
              "width": 0.5
             },
             "pattern": {
              "fillmode": "overlay",
              "size": 10,
              "solidity": 0.2
             }
            },
            "type": "barpolar"
           }
          ],
          "carpet": [
           {
            "aaxis": {
             "endlinecolor": "#2a3f5f",
             "gridcolor": "white",
             "linecolor": "white",
             "minorgridcolor": "white",
             "startlinecolor": "#2a3f5f"
            },
            "baxis": {
             "endlinecolor": "#2a3f5f",
             "gridcolor": "white",
             "linecolor": "white",
             "minorgridcolor": "white",
             "startlinecolor": "#2a3f5f"
            },
            "type": "carpet"
           }
          ],
          "choropleth": [
           {
            "colorbar": {
             "outlinewidth": 0,
             "ticks": ""
            },
            "type": "choropleth"
           }
          ],
          "contour": [
           {
            "colorbar": {
             "outlinewidth": 0,
             "ticks": ""
            },
            "colorscale": [
             [
              0,
              "#0d0887"
             ],
             [
              0.1111111111111111,
              "#46039f"
             ],
             [
              0.2222222222222222,
              "#7201a8"
             ],
             [
              0.3333333333333333,
              "#9c179e"
             ],
             [
              0.4444444444444444,
              "#bd3786"
             ],
             [
              0.5555555555555556,
              "#d8576b"
             ],
             [
              0.6666666666666666,
              "#ed7953"
             ],
             [
              0.7777777777777778,
              "#fb9f3a"
             ],
             [
              0.8888888888888888,
              "#fdca26"
             ],
             [
              1,
              "#f0f921"
             ]
            ],
            "type": "contour"
           }
          ],
          "contourcarpet": [
           {
            "colorbar": {
             "outlinewidth": 0,
             "ticks": ""
            },
            "type": "contourcarpet"
           }
          ],
          "heatmap": [
           {
            "colorbar": {
             "outlinewidth": 0,
             "ticks": ""
            },
            "colorscale": [
             [
              0,
              "#0d0887"
             ],
             [
              0.1111111111111111,
              "#46039f"
             ],
             [
              0.2222222222222222,
              "#7201a8"
             ],
             [
              0.3333333333333333,
              "#9c179e"
             ],
             [
              0.4444444444444444,
              "#bd3786"
             ],
             [
              0.5555555555555556,
              "#d8576b"
             ],
             [
              0.6666666666666666,
              "#ed7953"
             ],
             [
              0.7777777777777778,
              "#fb9f3a"
             ],
             [
              0.8888888888888888,
              "#fdca26"
             ],
             [
              1,
              "#f0f921"
             ]
            ],
            "type": "heatmap"
           }
          ],
          "heatmapgl": [
           {
            "colorbar": {
             "outlinewidth": 0,
             "ticks": ""
            },
            "colorscale": [
             [
              0,
              "#0d0887"
             ],
             [
              0.1111111111111111,
              "#46039f"
             ],
             [
              0.2222222222222222,
              "#7201a8"
             ],
             [
              0.3333333333333333,
              "#9c179e"
             ],
             [
              0.4444444444444444,
              "#bd3786"
             ],
             [
              0.5555555555555556,
              "#d8576b"
             ],
             [
              0.6666666666666666,
              "#ed7953"
             ],
             [
              0.7777777777777778,
              "#fb9f3a"
             ],
             [
              0.8888888888888888,
              "#fdca26"
             ],
             [
              1,
              "#f0f921"
             ]
            ],
            "type": "heatmapgl"
           }
          ],
          "histogram": [
           {
            "marker": {
             "pattern": {
              "fillmode": "overlay",
              "size": 10,
              "solidity": 0.2
             }
            },
            "type": "histogram"
           }
          ],
          "histogram2d": [
           {
            "colorbar": {
             "outlinewidth": 0,
             "ticks": ""
            },
            "colorscale": [
             [
              0,
              "#0d0887"
             ],
             [
              0.1111111111111111,
              "#46039f"
             ],
             [
              0.2222222222222222,
              "#7201a8"
             ],
             [
              0.3333333333333333,
              "#9c179e"
             ],
             [
              0.4444444444444444,
              "#bd3786"
             ],
             [
              0.5555555555555556,
              "#d8576b"
             ],
             [
              0.6666666666666666,
              "#ed7953"
             ],
             [
              0.7777777777777778,
              "#fb9f3a"
             ],
             [
              0.8888888888888888,
              "#fdca26"
             ],
             [
              1,
              "#f0f921"
             ]
            ],
            "type": "histogram2d"
           }
          ],
          "histogram2dcontour": [
           {
            "colorbar": {
             "outlinewidth": 0,
             "ticks": ""
            },
            "colorscale": [
             [
              0,
              "#0d0887"
             ],
             [
              0.1111111111111111,
              "#46039f"
             ],
             [
              0.2222222222222222,
              "#7201a8"
             ],
             [
              0.3333333333333333,
              "#9c179e"
             ],
             [
              0.4444444444444444,
              "#bd3786"
             ],
             [
              0.5555555555555556,
              "#d8576b"
             ],
             [
              0.6666666666666666,
              "#ed7953"
             ],
             [
              0.7777777777777778,
              "#fb9f3a"
             ],
             [
              0.8888888888888888,
              "#fdca26"
             ],
             [
              1,
              "#f0f921"
             ]
            ],
            "type": "histogram2dcontour"
           }
          ],
          "mesh3d": [
           {
            "colorbar": {
             "outlinewidth": 0,
             "ticks": ""
            },
            "type": "mesh3d"
           }
          ],
          "parcoords": [
           {
            "line": {
             "colorbar": {
              "outlinewidth": 0,
              "ticks": ""
             }
            },
            "type": "parcoords"
           }
          ],
          "pie": [
           {
            "automargin": true,
            "type": "pie"
           }
          ],
          "scatter": [
           {
            "fillpattern": {
             "fillmode": "overlay",
             "size": 10,
             "solidity": 0.2
            },
            "type": "scatter"
           }
          ],
          "scatter3d": [
           {
            "line": {
             "colorbar": {
              "outlinewidth": 0,
              "ticks": ""
             }
            },
            "marker": {
             "colorbar": {
              "outlinewidth": 0,
              "ticks": ""
             }
            },
            "type": "scatter3d"
           }
          ],
          "scattercarpet": [
           {
            "marker": {
             "colorbar": {
              "outlinewidth": 0,
              "ticks": ""
             }
            },
            "type": "scattercarpet"
           }
          ],
          "scattergeo": [
           {
            "marker": {
             "colorbar": {
              "outlinewidth": 0,
              "ticks": ""
             }
            },
            "type": "scattergeo"
           }
          ],
          "scattergl": [
           {
            "marker": {
             "colorbar": {
              "outlinewidth": 0,
              "ticks": ""
             }
            },
            "type": "scattergl"
           }
          ],
          "scattermapbox": [
           {
            "marker": {
             "colorbar": {
              "outlinewidth": 0,
              "ticks": ""
             }
            },
            "type": "scattermapbox"
           }
          ],
          "scatterpolar": [
           {
            "marker": {
             "colorbar": {
              "outlinewidth": 0,
              "ticks": ""
             }
            },
            "type": "scatterpolar"
           }
          ],
          "scatterpolargl": [
           {
            "marker": {
             "colorbar": {
              "outlinewidth": 0,
              "ticks": ""
             }
            },
            "type": "scatterpolargl"
           }
          ],
          "scatterternary": [
           {
            "marker": {
             "colorbar": {
              "outlinewidth": 0,
              "ticks": ""
             }
            },
            "type": "scatterternary"
           }
          ],
          "surface": [
           {
            "colorbar": {
             "outlinewidth": 0,
             "ticks": ""
            },
            "colorscale": [
             [
              0,
              "#0d0887"
             ],
             [
              0.1111111111111111,
              "#46039f"
             ],
             [
              0.2222222222222222,
              "#7201a8"
             ],
             [
              0.3333333333333333,
              "#9c179e"
             ],
             [
              0.4444444444444444,
              "#bd3786"
             ],
             [
              0.5555555555555556,
              "#d8576b"
             ],
             [
              0.6666666666666666,
              "#ed7953"
             ],
             [
              0.7777777777777778,
              "#fb9f3a"
             ],
             [
              0.8888888888888888,
              "#fdca26"
             ],
             [
              1,
              "#f0f921"
             ]
            ],
            "type": "surface"
           }
          ],
          "table": [
           {
            "cells": {
             "fill": {
              "color": "#EBF0F8"
             },
             "line": {
              "color": "white"
             }
            },
            "header": {
             "fill": {
              "color": "#C8D4E3"
             },
             "line": {
              "color": "white"
             }
            },
            "type": "table"
           }
          ]
         },
         "layout": {
          "annotationdefaults": {
           "arrowcolor": "#2a3f5f",
           "arrowhead": 0,
           "arrowwidth": 1
          },
          "autotypenumbers": "strict",
          "coloraxis": {
           "colorbar": {
            "outlinewidth": 0,
            "ticks": ""
           }
          },
          "colorscale": {
           "diverging": [
            [
             0,
             "#8e0152"
            ],
            [
             0.1,
             "#c51b7d"
            ],
            [
             0.2,
             "#de77ae"
            ],
            [
             0.3,
             "#f1b6da"
            ],
            [
             0.4,
             "#fde0ef"
            ],
            [
             0.5,
             "#f7f7f7"
            ],
            [
             0.6,
             "#e6f5d0"
            ],
            [
             0.7,
             "#b8e186"
            ],
            [
             0.8,
             "#7fbc41"
            ],
            [
             0.9,
             "#4d9221"
            ],
            [
             1,
             "#276419"
            ]
           ],
           "sequential": [
            [
             0,
             "#0d0887"
            ],
            [
             0.1111111111111111,
             "#46039f"
            ],
            [
             0.2222222222222222,
             "#7201a8"
            ],
            [
             0.3333333333333333,
             "#9c179e"
            ],
            [
             0.4444444444444444,
             "#bd3786"
            ],
            [
             0.5555555555555556,
             "#d8576b"
            ],
            [
             0.6666666666666666,
             "#ed7953"
            ],
            [
             0.7777777777777778,
             "#fb9f3a"
            ],
            [
             0.8888888888888888,
             "#fdca26"
            ],
            [
             1,
             "#f0f921"
            ]
           ],
           "sequentialminus": [
            [
             0,
             "#0d0887"
            ],
            [
             0.1111111111111111,
             "#46039f"
            ],
            [
             0.2222222222222222,
             "#7201a8"
            ],
            [
             0.3333333333333333,
             "#9c179e"
            ],
            [
             0.4444444444444444,
             "#bd3786"
            ],
            [
             0.5555555555555556,
             "#d8576b"
            ],
            [
             0.6666666666666666,
             "#ed7953"
            ],
            [
             0.7777777777777778,
             "#fb9f3a"
            ],
            [
             0.8888888888888888,
             "#fdca26"
            ],
            [
             1,
             "#f0f921"
            ]
           ]
          },
          "colorway": [
           "#636efa",
           "#EF553B",
           "#00cc96",
           "#ab63fa",
           "#FFA15A",
           "#19d3f3",
           "#FF6692",
           "#B6E880",
           "#FF97FF",
           "#FECB52"
          ],
          "font": {
           "color": "#2a3f5f"
          },
          "geo": {
           "bgcolor": "white",
           "lakecolor": "white",
           "landcolor": "#E5ECF6",
           "showlakes": true,
           "showland": true,
           "subunitcolor": "white"
          },
          "hoverlabel": {
           "align": "left"
          },
          "hovermode": "closest",
          "mapbox": {
           "style": "light"
          },
          "paper_bgcolor": "white",
          "plot_bgcolor": "#E5ECF6",
          "polar": {
           "angularaxis": {
            "gridcolor": "white",
            "linecolor": "white",
            "ticks": ""
           },
           "bgcolor": "#E5ECF6",
           "radialaxis": {
            "gridcolor": "white",
            "linecolor": "white",
            "ticks": ""
           }
          },
          "scene": {
           "xaxis": {
            "backgroundcolor": "#E5ECF6",
            "gridcolor": "white",
            "gridwidth": 2,
            "linecolor": "white",
            "showbackground": true,
            "ticks": "",
            "zerolinecolor": "white"
           },
           "yaxis": {
            "backgroundcolor": "#E5ECF6",
            "gridcolor": "white",
            "gridwidth": 2,
            "linecolor": "white",
            "showbackground": true,
            "ticks": "",
            "zerolinecolor": "white"
           },
           "zaxis": {
            "backgroundcolor": "#E5ECF6",
            "gridcolor": "white",
            "gridwidth": 2,
            "linecolor": "white",
            "showbackground": true,
            "ticks": "",
            "zerolinecolor": "white"
           }
          },
          "shapedefaults": {
           "line": {
            "color": "#2a3f5f"
           }
          },
          "ternary": {
           "aaxis": {
            "gridcolor": "white",
            "linecolor": "white",
            "ticks": ""
           },
           "baxis": {
            "gridcolor": "white",
            "linecolor": "white",
            "ticks": ""
           },
           "bgcolor": "#E5ECF6",
           "caxis": {
            "gridcolor": "white",
            "linecolor": "white",
            "ticks": ""
           }
          },
          "title": {
           "x": 0.05
          },
          "xaxis": {
           "automargin": true,
           "gridcolor": "white",
           "linecolor": "white",
           "ticks": "",
           "title": {
            "standoff": 15
           },
           "zerolinecolor": "white",
           "zerolinewidth": 2
          },
          "yaxis": {
           "automargin": true,
           "gridcolor": "white",
           "linecolor": "white",
           "ticks": "",
           "title": {
            "standoff": 15
           },
           "zerolinecolor": "white",
           "zerolinewidth": 2
          }
         }
        },
        "title": {
         "text": "Song Sentiment vs. Danceability"
        },
        "xaxis": {
         "anchor": "y",
         "domain": [
          0,
          1
         ],
         "title": {
          "text": "danceability"
         }
        },
        "yaxis": {
         "anchor": "x",
         "domain": [
          0,
          1
         ],
         "title": {
          "text": "sentiment"
         }
        }
       }
      }
     },
     "metadata": {},
     "output_type": "display_data"
    }
   ],
   "source": [
    "px.scatter(SONG_LIB, x='danceability', y='sentiment', color='artist', title='Song Sentiment vs. Danceability', hover_data='title')"
   ]
  },
  {
   "cell_type": "code",
   "execution_count": 54,
   "metadata": {},
   "outputs": [
    {
     "data": {
      "application/vnd.plotly.v1+json": {
       "config": {
        "plotlyServerURL": "https://plot.ly"
       },
       "data": [
        {
         "customdata": [
          [
           "45:33"
          ],
          [
           "Freak Out / Starry Eyes"
          ],
          [
           "Daft Punk Is Playing at My House"
          ],
          [
           "Too Much Love"
          ],
          [
           "Tribulations"
          ],
          [
           "Movement"
          ],
          [
           "Never as Tired as When I'm Waking Up"
          ],
          [
           "On Repeat"
          ],
          [
           "Thrills"
          ],
          [
           "Disco Infiltrator"
          ],
          [
           "Great Release"
          ],
          [
           "Losing My Edge"
          ],
          [
           "Beat Connection"
          ],
          [
           "Give It Up"
          ],
          [
           "Tired"
          ],
          [
           "Yeah"
          ],
          [
           "Yeah - Pretentious Mix"
          ],
          [
           "Yr City's a Sucker"
          ],
          [
           "Get Innocuous!"
          ],
          [
           "Time to Get Away"
          ],
          [
           "North American Scum"
          ],
          [
           "Someone Great"
          ],
          [
           "All My Friends"
          ],
          [
           "Us V Them"
          ],
          [
           "Watch the Tapes"
          ],
          [
           "Sound of Silver"
          ],
          [
           "New York, I Love You but You're Bringing Me Down"
          ],
          [
           "Dance Yrself Clean"
          ],
          [
           "Drunk Girls"
          ],
          [
           "One Touch"
          ],
          [
           "All I Want"
          ],
          [
           "I Can Change"
          ],
          [
           "You Wanted a Hit"
          ],
          [
           "Pow Pow"
          ],
          [
           "Somebody's Calling Me"
          ],
          [
           "Home"
          ],
          [
           "oh baby"
          ],
          [
           "other voices"
          ],
          [
           "i used to"
          ],
          [
           "change yr mind"
          ],
          [
           "how do you sleep?"
          ],
          [
           "tonite"
          ],
          [
           "call the police"
          ],
          [
           "american dream"
          ],
          [
           "emotional haircut"
          ],
          [
           "black screen"
          ]
         ],
         "hovertemplate": "artist=LCD Soundsystem<br>danceability=%{x}<br>joy=%{y}<br>title=%{customdata[0]}<extra></extra>",
         "legendgroup": "LCD Soundsystem",
         "marker": {
          "color": "#636efa",
          "symbol": "circle"
         },
         "mode": "markers",
         "name": "LCD Soundsystem",
         "orientation": "v",
         "showlegend": true,
         "type": "scatter",
         "x": [
          0.478,
          0.772,
          0.92,
          0.696,
          0.694,
          0.588,
          0.647,
          0.827,
          0.682,
          0.828,
          0.602,
          0.769,
          0.745,
          0.742,
          0.189,
          0.705,
          0.648,
          0.765,
          0.696,
          0.911,
          0.882,
          0.722,
          0.701,
          0.72,
          0.828,
          0.865,
          0.39,
          0.739,
          0.599,
          0.696,
          0.53,
          0.644,
          0.968,
          0.79,
          0.716,
          0.752,
          0.581,
          0.722,
          0.625,
          0.762,
          0.64,
          0.766,
          0.38,
          0.291,
          0.626,
          0.584
         ],
         "xaxis": "x",
         "y": [
          0.16490854463009147,
          1.4827220673183235,
          0,
          0.9815112516859081,
          0.04993582321513827,
          0.03575525490950185,
          0.19674944524082144,
          0.07513535599034267,
          0.5102576103511196,
          0,
          0.7058464089229571,
          0.06348126187481984,
          0.1730920962970221,
          0.08571105574870683,
          0.2061185283018342,
          null,
          null,
          0,
          0.5778241681169668,
          0.1246002567060717,
          0.07744997576834103,
          0.08293314209754173,
          0.11658158406275977,
          0.1960336511853956,
          0.03226505189046673,
          null,
          0.1952697937869736,
          0.6300367705261732,
          0.034855048932980325,
          0,
          0.08754127023558694,
          0.09003353477688043,
          0.037840957109330664,
          0.017086596538715273,
          0.3527369685112187,
          0.07726038456546043,
          0.545784222425514,
          0.8707254685431792,
          0.17012837178497878,
          0.16735229479763522,
          0.11739140532064098,
          0.07102389438726013,
          0.03950996905055184,
          0.08831926348869298,
          0.062212522695472096,
          0.1074183500560825
         ],
         "yaxis": "y"
        },
        {
         "customdata": [
          [
           "Burn the Witch"
          ],
          [
           "Daydreaming"
          ],
          [
           "Decks Dark"
          ],
          [
           "Desert Island Disk"
          ],
          [
           "Ful Stop"
          ],
          [
           "Glass Eyes"
          ],
          [
           "Identikit"
          ],
          [
           "The Numbers"
          ],
          [
           "Present Tense"
          ],
          [
           "Tinker Tailor Soldier Sailor Rich Man Poor Man Beggar Man Thief"
          ],
          [
           "True Love Waits"
          ],
          [
           "Packt Like Sardines In a Crushd Tin Box"
          ],
          [
           "Pyramid Song"
          ],
          [
           "Pulk/Pull Revolving Doors"
          ],
          [
           "You And Whose Army?"
          ],
          [
           "I Might Be Wrong"
          ],
          [
           "Knives Out"
          ],
          [
           "Morning Bell/Amnesiac"
          ],
          [
           "Dollars and Cents"
          ],
          [
           "Like Spinning Plates"
          ],
          [
           "Life In a Glasshouse"
          ],
          [
           "2 + 2 = 5"
          ],
          [
           "Sit Down. Stand Up"
          ],
          [
           "Sail To The Moon"
          ],
          [
           "Backdrifts"
          ],
          [
           "Go To Sleep"
          ],
          [
           "Where I End and You Begin"
          ],
          [
           "We Suck Young Blood"
          ],
          [
           "The Gloaming"
          ],
          [
           "There, There"
          ],
          [
           "I Will"
          ],
          [
           "A Punch Up at a Wedding"
          ],
          [
           "Myxomatosis"
          ],
          [
           "Scatterbrain"
          ],
          [
           "A Wolf At the Door"
          ],
          [
           "15 Step"
          ],
          [
           "Bodysnatchers"
          ],
          [
           "Nude"
          ],
          [
           "Weird Fishes/ Arpeggi"
          ],
          [
           "All I Need"
          ],
          [
           "Faust Arp"
          ],
          [
           "Reckoner"
          ],
          [
           "House Of Cards"
          ],
          [
           "Jigsaw Falling Into Place"
          ],
          [
           "Videotape"
          ],
          [
           "Everything In Its Right Place"
          ],
          [
           "Kid A"
          ],
          [
           "The National Anthem"
          ],
          [
           "How to Disappear Completely"
          ],
          [
           "Optimistic"
          ],
          [
           "In Limbo"
          ],
          [
           "Idioteque"
          ],
          [
           "Morning Bell"
          ],
          [
           "Motion Picture Soundtrack"
          ],
          [
           "Airbag"
          ],
          [
           "Paranoid Android"
          ],
          [
           "Subterranean Homesick Alien"
          ],
          [
           "Exit Music (For A Film)"
          ],
          [
           "Let Down"
          ],
          [
           "Karma Police"
          ],
          [
           "Fitter Happier"
          ],
          [
           "Electioneering"
          ],
          [
           "Climbing Up the Walls"
          ],
          [
           "No Surprises"
          ],
          [
           "Lucky"
          ],
          [
           "The Tourist"
          ],
          [
           "You"
          ],
          [
           "Creep"
          ],
          [
           "How Do You?"
          ],
          [
           "Stop Whispering"
          ],
          [
           "Thinking About You"
          ],
          [
           "Anyone Can Play Guitar"
          ],
          [
           "Ripcord"
          ],
          [
           "Vegetable"
          ],
          [
           "Prove Yourself"
          ],
          [
           "I Can't"
          ],
          [
           "Lurgee"
          ],
          [
           "Blow Out"
          ],
          [
           "Planet Telex"
          ],
          [
           "The Bends"
          ],
          [
           "High and Dry"
          ],
          [
           "Fake Plastic Trees"
          ],
          [
           "Bones"
          ],
          [
           "(Nice Dream)"
          ],
          [
           "Just"
          ],
          [
           "My Iron Lung"
          ],
          [
           "Bullet Proof ... I Wish I Was"
          ],
          [
           "Black Star"
          ],
          [
           "Sulk"
          ],
          [
           "Street Spirit (Fade Out)"
          ],
          [
           "Bloom"
          ],
          [
           "Morning Mr Magpie"
          ],
          [
           "Little By Little"
          ],
          [
           "Feral"
          ],
          [
           "Lotus Flower"
          ],
          [
           "Codex"
          ],
          [
           "Give Up The Ghost"
          ],
          [
           "Separator"
          ]
         ],
         "hovertemplate": "artist=Radiohead<br>danceability=%{x}<br>joy=%{y}<br>title=%{customdata[0]}<extra></extra>",
         "legendgroup": "Radiohead",
         "marker": {
          "color": "#EF553B",
          "symbol": "circle"
         },
         "mode": "markers",
         "name": "Radiohead",
         "orientation": "v",
         "showlegend": true,
         "type": "scatter",
         "x": [
          0.54,
          0.214,
          0.557,
          0.56,
          0.425,
          0.237,
          0.692,
          0.282,
          0.462,
          0.355,
          0.401,
          0.666,
          0.12,
          0.58,
          0.295,
          0.602,
          0.432,
          0.319,
          0.327,
          0.492,
          0.252,
          0.442,
          0.484,
          0.371,
          0.718,
          0.288,
          0.298,
          0.164,
          0.345,
          0.614,
          0.27,
          0.604,
          0.498,
          0.491,
          0.423,
          0.598,
          0.342,
          0.516,
          0.531,
          0.67,
          0.337,
          0.523,
          0.708,
          0.462,
          0.596,
          0.296,
          0.63,
          0.488,
          0.167,
          0.402,
          0.366,
          0.615,
          0.646,
          0.112,
          0.305,
          0.251,
          0.312,
          0.293,
          0.351,
          0.36,
          0.432,
          0.201,
          0.243,
          0.255,
          0.213,
          0.241,
          0.222,
          0.515,
          0.185,
          0.212,
          0.365,
          0.293,
          0.255,
          0.382,
          0.25,
          0.27,
          0.42,
          0.271,
          0.429,
          0.23,
          0.419,
          0.463,
          0.336,
          0.263,
          0.291,
          0.242,
          0.45,
          0.289,
          0.105,
          0.488,
          0.519,
          0.648,
          0.618,
          0.49,
          0.721,
          0.346,
          0.305,
          0.694
         ],
         "xaxis": "x",
         "y": [
          0.2383524693482488,
          0.2297216122059842,
          1.723091097110937,
          0.9633238855407541,
          0.17976896357449781,
          0.3266157441512285,
          0.691651008338057,
          0.14433035238246802,
          0.8051284051500204,
          0.26483607705360973,
          0.26255991738081974,
          0,
          null,
          null,
          0,
          0.63917853715377,
          0.6580277003258285,
          null,
          0.02920012484275983,
          2.5979463428844247,
          0.1390119824255185,
          0.04413934617560161,
          0,
          null,
          0,
          0.6494865857211062,
          0.7807355315148043,
          1.1630255640029097,
          0,
          0.3180610926157711,
          0.1501338327043727,
          0.007537482749454825,
          0.06272433403901283,
          0,
          0.02695298150603859,
          null,
          0,
          0.6005353308174908,
          0,
          0,
          0.11008595616424954,
          0,
          0.31129751799801275,
          0.20401385016291426,
          0.4165915132739212,
          null,
          0.22520074905655904,
          null,
          0,
          0.2577332811103911,
          0.1562167618584937,
          0.4909148640229739,
          0.2954004626542268,
          0.37533458176093176,
          0.6776895272626043,
          0.2649027411332879,
          0.154731806792426,
          0.7018209672798514,
          0.13179029582728177,
          0,
          0.17083371654459686,
          0,
          0.0730514978253312,
          0.1924404698432907,
          0.1224809040567107,
          0,
          0.5699202583287747,
          0.24903128978081157,
          0.1460006242137992,
          0.13804816339154913,
          0.21452841802655054,
          0.4942136093523067,
          0,
          0.07675386354075611,
          0.21213679952645006,
          0,
          null,
          0,
          0.12672143829546323,
          0.07844660465909628,
          0.04472241969172638,
          0.15541828956258585,
          0,
          0.22235448544592382,
          0.08968543203290173,
          0.03979148647072133,
          0.8854372218323454,
          0.2045145500881296,
          0.928270969740205,
          0.05993999242210081,
          0.7945082311608292,
          0.63917853715377,
          0.04082696801890355,
          null,
          0.11128028190704413,
          0,
          0,
          0.21208916305435666
         ],
         "yaxis": "y"
        },
        {
         "customdata": [
          [
           "The Strangers"
          ],
          [
           "Save Me from What I Want"
          ],
          [
           "The Neighbors"
          ],
          [
           "Actor Out of Work"
          ],
          [
           "Black Rainbow"
          ],
          [
           "Laughing with a Mouth of Blood"
          ],
          [
           "Marrow"
          ],
          [
           "The Bed"
          ],
          [
           "The Party"
          ],
          [
           "Just the Same But Brand New"
          ],
          [
           "The Sequel"
          ],
          [
           "Pay Your Way In Pain"
          ],
          [
           "Down And Out Downtown"
          ],
          [
           "Daddy's Home"
          ],
          [
           "Live In The Dream"
          ],
          [
           "The Melting Of The Sun"
          ],
          [
           "Humming - Interlude 1"
          ],
          [
           "The Laughing Man"
          ],
          [
           "Down"
          ],
          [
           "Somebody Like Me"
          ],
          [
           "My Baby Wants A Baby"
          ],
          [
           "…At The Holiday Party"
          ],
          [
           "Candy Darling"
          ],
          [
           "Humming - Interlude 3"
          ],
          [
           "Who"
          ],
          [
           "Weekend in the Dust"
          ],
          [
           "Dinner for Two"
          ],
          [
           "Ice Age"
          ],
          [
           "I Am an Ape"
          ],
          [
           "The Forest Awakes"
          ],
          [
           "I Should Watch TV"
          ],
          [
           "Lazarus"
          ],
          [
           "Optimist"
          ],
          [
           "Lightning"
          ],
          [
           "The One Who Broke Your Heart"
          ],
          [
           "Outside of Space and Time"
          ],
          [
           "Hang On Me"
          ],
          [
           "Pills"
          ],
          [
           "Masseduction"
          ],
          [
           "Sugarboy"
          ],
          [
           "Los Ageless"
          ],
          [
           "Happy Birthday, Johnny"
          ],
          [
           "Savior"
          ],
          [
           "New York"
          ],
          [
           "Fear The Future"
          ],
          [
           "Young Lover"
          ],
          [
           "Slow Disco"
          ],
          [
           "Smoking Section"
          ],
          [
           "Now, Now"
          ],
          [
           "Jesus Saves, I Spend"
          ],
          [
           "Your Lips Are Red"
          ],
          [
           "Marry Me"
          ],
          [
           "Paris Is Burning"
          ],
          [
           "All My Stars Aligned"
          ],
          [
           "The Apocalypse Song"
          ],
          [
           "Landmines"
          ],
          [
           "Human Racing"
          ],
          [
           "What Me Worry"
          ],
          [
           "Rattlesnake"
          ],
          [
           "Birth In Reverse"
          ],
          [
           "Prince Johnny"
          ],
          [
           "Huey Newton"
          ],
          [
           "Digital Witness"
          ],
          [
           "I Prefer Your Love"
          ],
          [
           "Regret"
          ],
          [
           "Bring Me Your Loves"
          ],
          [
           "Psychopath"
          ],
          [
           "Every Tear Disappears"
          ],
          [
           "Severed Crossed Fingers"
          ],
          [
           "Bad Believer"
          ],
          [
           "Pieta"
          ],
          [
           "Sparrow"
          ],
          [
           "Del Rio"
          ],
          [
           "Digital Witness - DARKSIDE Remix"
          ],
          [
           "Chloe In The Afternoon"
          ],
          [
           "Cruel"
          ],
          [
           "Cheerleader"
          ],
          [
           "Surgeon"
          ],
          [
           "Northern Lights"
          ],
          [
           "Strange Mercy"
          ],
          [
           "Neutered Fruit"
          ],
          [
           "Champagne Year"
          ],
          [
           "Dilettante"
          ],
          [
           "Hysterical Strength"
          ],
          [
           "Year Of The Tiger"
          ]
         ],
         "hovertemplate": "artist=St. Vincent<br>danceability=%{x}<br>joy=%{y}<br>title=%{customdata[0]}<extra></extra>",
         "legendgroup": "St. Vincent",
         "marker": {
          "color": "#00cc96",
          "symbol": "circle"
         },
         "mode": "markers",
         "name": "St. Vincent",
         "orientation": "v",
         "showlegend": true,
         "type": "scatter",
         "x": [
          0.529,
          0.665,
          0.439,
          0.556,
          0.465,
          0.658,
          0.64,
          0.352,
          0.465,
          0.339,
          0.217,
          0.677,
          0.61,
          0.774,
          0.426,
          0.52,
          0.422,
          0.641,
          0.713,
          0.525,
          0.532,
          0.604,
          0.39,
          0.347,
          0.687,
          0.83,
          0.716,
          0.763,
          0.663,
          0.753,
          0.659,
          0.848,
          0.611,
          0.722,
          0.706,
          0.287,
          0.539,
          0.549,
          0.696,
          0.625,
          0.527,
          0.506,
          0.658,
          0.373,
          0.472,
          0.447,
          0.26,
          0.593,
          0.48,
          0.602,
          0.521,
          0.495,
          0.586,
          0.442,
          0.52,
          0.437,
          0.677,
          0.442,
          0.698,
          0.571,
          0.524,
          0.643,
          0.782,
          0.607,
          0.458,
          0.241,
          0.768,
          0.684,
          0.488,
          0.518,
          0.709,
          0.497,
          0.583,
          0.768,
          0.515,
          0.57,
          0.447,
          0.496,
          0.4,
          0.642,
          0.575,
          0.172,
          0.626,
          0.53,
          0.519
         ],
         "xaxis": "x",
         "y": [
          0.1914152650458693,
          1.5248014363408597,
          0.5213645885387796,
          0.08165393603780713,
          0,
          0.20296591606174458,
          null,
          0.21020023132711343,
          0.4504029680468989,
          null,
          null,
          0.35282352104272763,
          0.2363203701233815,
          0.13515184873263364,
          0.183582049557066,
          0.22210739281069775,
          null,
          0.3332938596709227,
          0.0114510293501019,
          0.5476075578393249,
          0.5152963207545855,
          0.1681601850616907,
          1.0874590305697138,
          0,
          0.2682722776792109,
          0.015632369684926227,
          0,
          0,
          0.10103137104766957,
          0.0970194027672607,
          0.14840658353409542,
          0,
          0,
          0.3167908399541521,
          0.3731918199042156,
          0.30628729580151703,
          0,
          0.047847997886667576,
          0.04578767157921367,
          0.108247764286851,
          0.08723406668502279,
          0.34747935189974244,
          0.27065698712790814,
          1.0364293221790069,
          0,
          1.1663643669354131,
          0.5139364194199945,
          0.14697708486805286,
          0.11687722042942195,
          0.1452021949762211,
          0,
          0.32193028030650317,
          0.6433194323021537,
          0.21455023877485058,
          0,
          0.5687561567840946,
          0.34128049299948104,
          0.5795432078720966,
          0.3579004626542268,
          0.9666789038306204,
          0.6665741986984353,
          0.49550260524645146,
          0,
          0.5468782160032518,
          0.11494465687986866,
          0.5879083394722113,
          0,
          0,
          0.20910290741827858,
          0.01633078720756142,
          0.4357791752314229,
          0,
          0,
          0,
          0.15013383270437272,
          0.1098252465227348,
          0.16389193260353077,
          0,
          0.6565595267669021,
          0.17517270497888535,
          0,
          0.5036972294862121,
          0,
          0.06150140875876615,
          0.2020183159282775
         ],
         "yaxis": "y"
        },
        {
         "customdata": [
          [
           "Secret Meeting"
          ],
          [
           "Karen"
          ],
          [
           "Lit Up"
          ],
          [
           "Looking for Astronauts"
          ],
          [
           "Daughters of the Soho Riots"
          ],
          [
           "Baby We'll Be Fine"
          ],
          [
           "Friend of Mine"
          ],
          [
           "Val Jester"
          ],
          [
           "All the Wine"
          ],
          [
           "Abel"
          ],
          [
           "The Geese of Beverly Road"
          ],
          [
           "City Middle"
          ],
          [
           "Mr. November"
          ],
          [
           "Fake Empire"
          ],
          [
           "Mistaken for Strangers"
          ],
          [
           "Brainy"
          ],
          [
           "Squalor Victoria"
          ],
          [
           "Green Gloves"
          ],
          [
           "Slow Show"
          ],
          [
           "Apartment Story"
          ],
          [
           "Start a War"
          ],
          [
           "Guest Room"
          ],
          [
           "Racing Like a Pro"
          ],
          [
           "Ada"
          ],
          [
           "Gospel"
          ],
          [
           "Terrible Love"
          ],
          [
           "Sorrow"
          ],
          [
           "Anyone's Ghost"
          ],
          [
           "Little Faith"
          ],
          [
           "Afraid of Everyone"
          ],
          [
           "Bloodbuzz Ohio"
          ],
          [
           "Lemonworld"
          ],
          [
           "Runaway"
          ],
          [
           "Conversation 16"
          ],
          [
           "England"
          ],
          [
           "Vanderlyle Crybaby Geeks"
          ],
          [
           "Nobody Else Will Be There"
          ],
          [
           "Day I Die"
          ],
          [
           "Walk It Back"
          ],
          [
           "The System Only Dreams in Total Darkness"
          ],
          [
           "Born to Beg"
          ],
          [
           "Turtleneck"
          ],
          [
           "Empire Line"
          ],
          [
           "I'll Still Destroy You"
          ],
          [
           "Guilty Party"
          ],
          [
           "Carin at the Liquor Store"
          ],
          [
           "Dark Side of the Gym"
          ],
          [
           "Sleep Well Beast"
          ],
          [
           "I Should Live in Salt"
          ],
          [
           "Demons"
          ],
          [
           "Don't Swallow the Cap"
          ],
          [
           "Fireproof"
          ],
          [
           "Sea of Love"
          ],
          [
           "Heavenfaced"
          ],
          [
           "This is the Last Time"
          ],
          [
           "Graceless"
          ],
          [
           "Slipped"
          ],
          [
           "I Need My Girl"
          ],
          [
           "Humiliation"
          ],
          [
           "Pink Rabbits"
          ],
          [
           "Hard to Find"
          ]
         ],
         "hovertemplate": "artist=The National<br>danceability=%{x}<br>joy=%{y}<br>title=%{customdata[0]}<extra></extra>",
         "legendgroup": "The National",
         "marker": {
          "color": "#ab63fa",
          "symbol": "circle"
         },
         "mode": "markers",
         "name": "The National",
         "orientation": "v",
         "showlegend": true,
         "type": "scatter",
         "x": [
          0.622,
          0.659,
          0.428,
          0.499,
          0.563,
          0.46,
          0.655,
          0.473,
          0.604,
          0.342,
          0.538,
          0.529,
          0.416,
          0.325,
          0.539,
          0.505,
          0.553,
          0.534,
          0.575,
          0.55,
          0.655,
          0.576,
          0.353,
          0.557,
          0.575,
          0.304,
          0.55,
          0.745,
          0.419,
          0.527,
          0.402,
          0.648,
          0.583,
          0.554,
          0.49,
          0.464,
          0.657,
          0.432,
          0.727,
          0.596,
          0.528,
          0.427,
          0.593,
          0.536,
          0.368,
          0.54,
          0.642,
          0.451,
          0.519,
          0.54,
          0.45,
          0.483,
          0.459,
          0.505,
          0.503,
          0.441,
          0.452,
          0.52,
          0.47,
          0.502,
          0.488
         ],
         "xaxis": "x",
         "y": [
          0,
          0.14730522646037203,
          0.7449272274908154,
          0,
          0.6169232289663189,
          0.33887119410665717,
          0.07716583514232864,
          0.2799563521296244,
          0.5211130292146949,
          0.0380463414972482,
          0.08907702113215323,
          0.060874146395597135,
          0.3130489410397848,
          0,
          0.16378701121972059,
          0.1922795995528388,
          1.6580722731982431,
          0.3616012452688992,
          0.09944180350787071,
          0.09074911830759731,
          0.5359785579097671,
          0.47749783764865605,
          1.9785461265455453,
          0.13977289218917857,
          1.1294217555016282,
          0.4199345281944367,
          0.2710136443129555,
          0.18090598134301264,
          0.49433226537957564,
          0.026262381070676074,
          0.9552648869739769,
          0.01497616998037292,
          0.12664894629528325,
          0,
          0.2905337298139514,
          0.1959694464907371,
          0.1460006242137992,
          0.08206294635753074,
          0.11134586350832608,
          0.4181376685907964,
          0.1507457280697978,
          0.08360202989258987,
          0.1251115272536439,
          0.11050421813664649,
          0.34250020599650294,
          0.12405927797487065,
          1.1527614499455126,
          0.052380324264626035,
          0,
          0.0797007365625887,
          0.10173906528988672,
          0,
          0.23194121142724544,
          0.2068199599233266,
          0.11506589203224936,
          0.3036623203259865,
          0.08005859863060746,
          0.1695536784248938,
          0.2542231734051544,
          0.10234875374890114,
          0.4431990820872168
         ],
         "yaxis": "y"
        },
        {
         "customdata": [
          [
           "Dark Saturday"
          ],
          [
           "Love You Back"
          ],
          [
           "Die Happy"
          ],
          [
           "Now or Never Now"
          ],
          [
           "Art of Doubt"
          ],
          [
           "Underline the Black"
          ],
          [
           "Dressed to Suppress"
          ],
          [
           "Risk"
          ],
          [
           "Seven Rules"
          ],
          [
           "Holding Out"
          ],
          [
           "Anticipate"
          ],
          [
           "No Lights on the Horizon"
          ],
          [
           "Help I'm Alive"
          ],
          [
           "Sick Muse"
          ],
          [
           "Satellite Mind"
          ],
          [
           "Twilight Galaxy"
          ],
          [
           "Gold Guns Girls"
          ],
          [
           "Gimme Sympathy"
          ],
          [
           "Collect Call"
          ],
          [
           "Front Row"
          ],
          [
           "Blindness"
          ],
          [
           "Stadium Love"
          ],
          [
           "Doomscroller"
          ],
          [
           "All Comes Crashing"
          ],
          [
           "What Feels Like Eternity"
          ],
          [
           "Formentera"
          ],
          [
           "Enemies of the Ocean"
          ],
          [
           "I Will Never Settle"
          ],
          [
           "False Dichotomy"
          ],
          [
           "Oh Please"
          ],
          [
           "Paths in the Sky"
          ],
          [
           "Detour Up"
          ],
          [
           "Just The Once"
          ],
          [
           "Stone Window"
          ],
          [
           "Days Of Oblivion"
          ],
          [
           "Who Would You Be For Me"
          ],
          [
           "Suckers"
          ],
          [
           "Nothing Is Perfect"
          ],
          [
           "Descendants"
          ],
          [
           "Go Ahead And Cry"
          ],
          [
           "Grow Up and Blow Away"
          ],
          [
           "Hardwire"
          ],
          [
           "Rock Me Now"
          ],
          [
           "The Twist"
          ],
          [
           "On the Sly"
          ],
          [
           "Soft Rock Star"
          ],
          [
           "Raw Sugar"
          ],
          [
           "White Gold"
          ],
          [
           "London Halflife"
          ],
          [
           "Soft Rock Star [Jimmy vs. Joe Mix]"
          ],
          [
           "Empty"
          ],
          [
           "Glass Ceiling"
          ],
          [
           "Handshakes"
          ],
          [
           "Too Little Too Late"
          ],
          [
           "Poster Of A Girl"
          ],
          [
           "Monster Hospital"
          ],
          [
           "Patriarch On a Vespa"
          ],
          [
           "The Police and the Private"
          ],
          [
           "Ending Start"
          ],
          [
           "Live It Out"
          ],
          [
           "IOU"
          ],
          [
           "Hustle Rose"
          ],
          [
           "Succexy"
          ],
          [
           "Combat Baby"
          ],
          [
           "Calculation Theme"
          ],
          [
           "Wet Blanket"
          ],
          [
           "On a Slow Night"
          ],
          [
           "The List"
          ],
          [
           "Dead Disco"
          ],
          [
           "Love Is A Place"
          ],
          [
           "Lie Lie Lie"
          ],
          [
           "Fortunes"
          ],
          [
           "The Shade"
          ],
          [
           "Celebrate"
          ],
          [
           "Cascades"
          ],
          [
           "For Kicks"
          ],
          [
           "Too Bad, So Sad"
          ],
          [
           "Other Side"
          ],
          [
           "Blind Valentine"
          ],
          [
           "The Governess"
          ],
          [
           "The Face Part I"
          ],
          [
           "The Shade - Acoustic"
          ],
          [
           "Artificial Nocturne"
          ],
          [
           "Youth Without Youth"
          ],
          [
           "Speed The Collapse"
          ],
          [
           "Breathing Underwater"
          ],
          [
           "Dreams So Real"
          ],
          [
           "Lost Kitten"
          ],
          [
           "The Void"
          ],
          [
           "Synthetica"
          ],
          [
           "Clone"
          ],
          [
           "The Wanderlust"
          ],
          [
           "Nothing But Time"
          ]
         ],
         "hovertemplate": "artist=Metric<br>danceability=%{x}<br>joy=%{y}<br>title=%{customdata[0]}<extra></extra>",
         "legendgroup": "Metric",
         "marker": {
          "color": "#FFA15A",
          "symbol": "circle"
         },
         "mode": "markers",
         "name": "Metric",
         "orientation": "v",
         "showlegend": true,
         "type": "scatter",
         "x": [
          0.512,
          0.573,
          0.539,
          0.531,
          0.388,
          0.55,
          0.393,
          0.527,
          0.572,
          0.566,
          0.27,
          0.612,
          0.57,
          0.429,
          0.498,
          0.382,
          0.494,
          0.452,
          0.568,
          0.456,
          0.386,
          0.407,
          0.389,
          0.7,
          0.53,
          0.428,
          0.592,
          0.382,
          0.549,
          0.617,
          0.549,
          0.682,
          0.688,
          0.62,
          0.505,
          0.547,
          0.35,
          0.554,
          0.493,
          0.465,
          0.427,
          0.613,
          0.794,
          0.703,
          0.609,
          0.47,
          0.735,
          0.575,
          0.542,
          0.6,
          0.6,
          0.592,
          0.416,
          0.803,
          0.571,
          0.43,
          0.433,
          0.519,
          0.42,
          0.426,
          0.52,
          0.618,
          0.651,
          0.649,
          0.397,
          0.582,
          0.548,
          0.475,
          0.52,
          0.583,
          0.355,
          0.565,
          0.597,
          0.585,
          0.68,
          0.622,
          0.581,
          0.578,
          0.604,
          0.627,
          0.606,
          0.584,
          0.228,
          0.52,
          0.474,
          0.415,
          0.306,
          0.68,
          0.718,
          0.375,
          0.638,
          0.557,
          0.441
         ],
         "xaxis": "x",
         "y": [
          0.03639767438993881,
          0.10730485333479259,
          0.4118446744602555,
          0,
          0.6770410477420267,
          0.05449269607561149,
          0.11389899624367537,
          0.2471068046761533,
          0.19006748470246507,
          0.4300805825405168,
          0,
          0.22265351549909254,
          0.9363847010109774,
          0.1855259934809555,
          0.23008027231924855,
          0.24076919948717768,
          0.0638703703036166,
          0.5952761703823656,
          0.145089310542807,
          0.25584621180252043,
          0,
          0.38475245896099025,
          0.05900839289242303,
          0.03266157441512285,
          0.1685317184814063,
          0.5397061597202258,
          null,
          0,
          0.6532314883024571,
          0.13834655264451878,
          0.05264221602606628,
          0,
          0.16212440863862262,
          0.677655535607559,
          0.024120797512401686,
          0,
          0.05030909540139807,
          0.23233601936661316,
          0.015937802785830266,
          0.15256410576571386,
          0.6855733555260096,
          0.06177670116903833,
          0.14183501376751634,
          0.10676837146774015,
          0.10867986843085305,
          1.1821549049926148,
          0.5055337893431833,
          0.06824265122926033,
          0,
          0.7218309636119411,
          1.1070033586021641,
          0,
          0.2615520932662127,
          0.2780173819522,
          0.0778669995806929,
          0.20770542197463635,
          0.7422703836812642,
          0.22372577366440263,
          0,
          0.700932459671048,
          0.2502230545072878,
          0,
          0,
          0.5708733389120364,
          1.2655866935488669,
          0.3530097209659333,
          0.6081353978726731,
          0,
          0,
          0.5949136273208795,
          0.027019105030219502,
          0.05827081274982823,
          0.11584989190567915,
          0.2370428653714475,
          0,
          0,
          0.43336812608772507,
          0,
          0.6214386377979148,
          0.04261190247691798,
          null,
          0.1134856083974,
          0.36400529097568307,
          0.8725143496931014,
          0,
          0,
          0.11065310466730045,
          0.047707833710374965,
          0.5688340531168179,
          0,
          0.0586779400949745,
          0,
          0.3448643567105748
         ],
         "yaxis": "y"
        },
        {
         "customdata": [
          [
           "Market Fresh"
          ],
          [
           "Backyards"
          ],
          [
           "Da Da Da Da"
          ],
          [
           "Time = Cause"
          ],
          [
           "Lover's Spit"
          ],
          [
           "Ibi Dreams Of Pavement (A Better Day)"
          ],
          [
           "7/4 (Shoreline)"
          ],
          [
           "Major Label Debut"
          ],
          [
           "Fire Eye'd Boy"
          ],
          [
           "Windsurfing Nation"
          ],
          [
           "Swimmers"
          ],
          [
           "Hotel"
          ],
          [
           "Handjobs For The Holidays"
          ],
          [
           "Superconnected"
          ],
          [
           "Bandwitch"
          ],
          [
           "It's All Gonna Break"
          ],
          [
           "Canada Vs. America"
          ],
          [
           "All My Friends"
          ],
          [
           "Major Label Debut (Fast)"
          ],
          [
           "Passport Radio"
          ],
          [
           "Stomach Song"
          ],
          [
           "Cranley's Gonna Make It"
          ],
          [
           "World Sick"
          ],
          [
           "Chase Scene"
          ],
          [
           "Texico Bitches"
          ],
          [
           "Forced To Love"
          ],
          [
           "All To All"
          ],
          [
           "Art House Director"
          ],
          [
           "Highway Slipper Jam"
          ],
          [
           "Ungrateful Little Father"
          ],
          [
           "Sentimental X's"
          ],
          [
           "Sweetest Kill"
          ],
          [
           "Romance To The Grave"
          ],
          [
           "Water In Hell"
          ],
          [
           "Me And My Hand"
          ],
          [
           "Halfway Home"
          ],
          [
           "Protest Song"
          ],
          [
           "Skyline"
          ],
          [
           "Stay Happy"
          ],
          [
           "Vanity Pail Kids"
          ],
          [
           "Hug Of Thunder"
          ],
          [
           "Towers And Masons"
          ],
          [
           "Victim Lover"
          ],
          [
           "Please Take Me With You"
          ],
          [
           "Gonna Get Better"
          ],
          [
           "Mouth Guards Of The Apocalypse"
          ],
          [
           "KC Accidental"
          ],
          [
           "Stars And Sons"
          ],
          [
           "Almost Crimes - Radio Kills Remix"
          ],
          [
           "Looks Just Like The Sun"
          ],
          [
           "Anthems For A Seventeen Year-Old Girl"
          ],
          [
           "Cause = Time"
          ],
          [
           "Shampoo Suicide"
          ],
          [
           "Lover's Spit"
          ],
          [
           "I'm Still Your Fag"
          ]
         ],
         "hovertemplate": "artist=Broken Social Scene<br>danceability=%{x}<br>joy=%{y}<br>title=%{customdata[0]}<extra></extra>",
         "legendgroup": "Broken Social Scene",
         "marker": {
          "color": "#19d3f3",
          "symbol": "circle"
         },
         "mode": "markers",
         "name": "Broken Social Scene",
         "orientation": "v",
         "showlegend": true,
         "type": "scatter",
         "x": [
          0.476,
          0.276,
          0.139,
          0.13,
          0.38,
          0.0899,
          0.464,
          0.502,
          0.431,
          0.483,
          0.625,
          0.733,
          0.467,
          0.232,
          0.482,
          0.209,
          0.308,
          0.405,
          0.407,
          0.424,
          0.494,
          0.538,
          0.572,
          0.573,
          0.605,
          0.476,
          0.631,
          0.464,
          0.675,
          0.43,
          0.622,
          0.708,
          0.514,
          0.362,
          0.26,
          0.434,
          0.475,
          0.422,
          0.446,
          0.509,
          0.695,
          0.518,
          0.382,
          0.455,
          0.507,
          0.204,
          0.0629,
          0.466,
          0.211,
          0.527,
          0.466,
          0.378,
          0.581,
          0.327,
          0.498
         ],
         "xaxis": "x",
         "y": [
          null,
          0.07101983746152998,
          null,
          1.6335246934824876,
          0.6486898049247319,
          0.2804904788876031,
          0.008907702113215319,
          0.09331878404320813,
          0,
          0.1702517638201777,
          0.09987164643027654,
          0.3575154027413467,
          0.3964112249901884,
          0.027217978679269023,
          0.3528531422398138,
          0.25344739385786735,
          0.051860340289801576,
          0.457440430902258,
          0.09331878404320813,
          null,
          0,
          null,
          0.34789048267410966,
          0.02934587985164156,
          0.24441945351296449,
          0.26786612626077655,
          0.06429734753631007,
          0.15456562369663276,
          null,
          0,
          0.7288202834612231,
          0,
          0.22584141809535777,
          0.02429316915473849,
          0.830401908301225,
          0.24294938561553023,
          0.0163307872075614,
          0,
          0.1396571340283015,
          0.09514152920166112,
          0.10061062423174032,
          0.18016059924524727,
          0.1199271430186853,
          0.3363669575271484,
          0,
          0.14669914037764306,
          1.362522752970062,
          0,
          0.11265773453379169,
          0.3762241191429121,
          null,
          0.20752351965516336,
          0.30552065957844754,
          0.6486898049247319,
          0.10887191471707615
         ],
         "yaxis": "y"
        },
        {
         "customdata": [
          [
           "Cannibal Resource"
          ],
          [
           "Temecula Sunrise"
          ],
          [
           "The Bride"
          ],
          [
           "Stillness Is The Move"
          ],
          [
           "Two Doves"
          ],
          [
           "Useful Chamber"
          ],
          [
           "No Intention"
          ],
          [
           "Remade Horizon"
          ],
          [
           "Fluorescent Half Dome"
          ],
          [
           "Keep Your Name"
          ],
          [
           "Death Spiral"
          ],
          [
           "Up In Hudson"
          ],
          [
           "Work Together"
          ],
          [
           "Little Bubble"
          ],
          [
           "Winner Take Nothing"
          ],
          [
           "Ascent Through Clouds"
          ],
          [
           "Cool Your Heart"
          ],
          [
           "I See You"
          ],
          [
           "Right Now"
          ],
          [
           "Break-Thru"
          ],
          [
           "That’s A Lifestyle"
          ],
          [
           "I Feel Energy"
          ],
          [
           "Zombie Conqueror"
          ],
          [
           "Blue Bird"
          ],
          [
           "I Found It In U"
          ],
          [
           "What Is The Time"
          ],
          [
           "You're The One"
          ],
          [
           "(I Wanna) Feel It All"
          ],
          [
           "My Brother Had A Birthday"
          ],
          [
           "The Enterprising Catalyst"
          ],
          [
           "Grandfather's Jacket"
          ],
          [
           "After Santa Monica Boulevard"
          ],
          [
           "Dahlonegabhama"
          ],
          [
           "Further On Down The Strip"
          ],
          [
           "Katydids Calling"
          ],
          [
           "Twenty-Foot Stalks"
          ],
          [
           "We Could Cling"
          ],
          [
           "The Love-Prayer Book"
          ],
          [
           "To Give It Weight"
          ],
          [
           "Here Comes The Summer King"
          ],
          [
           "Her Freezings And Thawings"
          ],
          [
           "We Two Feared The Storm"
          ],
          [
           "I Am Going To See It"
          ],
          [
           "Fake Folks"
          ],
          [
           "Like Once-Heated Milk"
          ],
          [
           "O! You Hungering Infants"
          ],
          [
           "Morning Better Last!"
          ],
          [
           "On and Ever Onward"
          ],
          [
           "When the World Comes to an End"
          ],
          [
           "Beautiful Mother"
          ],
          [
           "Sharing Orb"
          ],
          [
           "No Embrace"
          ],
          [
           "All We Are"
          ],
          [
           "What I See"
          ],
          [
           "No More"
          ],
          [
           "Depression"
          ],
          [
           "Six Pack"
          ],
          [
           "Thirsty and Miserable"
          ],
          [
           "Police Story"
          ],
          [
           "Gimmie Gimmie Gimmie"
          ],
          [
           "Spray Paint (The Walls)"
          ],
          [
           "Room 13"
          ],
          [
           "Rise Above"
          ],
          [
           "Untitled"
          ],
          [
           "Somberly, Kimberly"
          ],
          [
           "On the Beach"
          ],
          [
           "(Throw On) The Hazard Lights"
          ],
          [
           "Slaves' Graves"
          ],
          [
           "Grandfather's Hanging"
          ],
          [
           "We Are Swaddled"
          ],
          [
           "A Labor More Restful"
          ],
          [
           "Unmoved"
          ],
          [
           "Ladies, You Have Exiled Me"
          ],
          [
           "Because Your Light Is Turning Green"
          ],
          [
           "Obscure Wisdom"
          ],
          [
           "This Weather"
          ],
          [
           "Since I Opened"
          ],
          [
           "Offspring Are Blank"
          ],
          [
           "About to Die"
          ],
          [
           "Gun Has No Trigger"
          ],
          [
           "Swing Lo Magellan"
          ],
          [
           "Just From Chevron"
          ],
          [
           "Dance For You"
          ],
          [
           "Maybe That Was It"
          ],
          [
           "Impregnable Question"
          ],
          [
           "See What She Seeing"
          ],
          [
           "The Socialites"
          ],
          [
           "Unto Caesar"
          ],
          [
           "Irresponsible Tune"
          ],
          [
           "I Sit On the Ridge At Dusk"
          ],
          [
           "But In the Headlights"
          ],
          [
           "Warholian Wigs"
          ],
          [
           "I Will Truck"
          ],
          [
           "D. Henley's Dream"
          ],
          [
           "Gilt Gold Scabs"
          ],
          [
           "Ponds & Puddles"
          ],
          [
           "Not Having Found"
          ],
          [
           "Tour Along the Potomac"
          ],
          [
           "Jolly Jolly Jolly Ego"
          ],
          [
           "Time Birthed Spilled Blood"
          ],
          [
           "Drilling Profitably"
          ],
          [
           "Finches' Song At Oceanic Parking Lot"
          ],
          [
           "The Glad Fact"
          ],
          [
           "My Offwhite Flag"
          ],
          [
           "Like Fake Blood In Crisp October"
          ],
          [
           "Boredome Is a Product"
          ],
          [
           "Two Brown Finches"
          ],
          [
           "Three Brown Finches"
          ],
          [
           "Off Science Hill"
          ],
          [
           "Winter Is Here"
          ],
          [
           "Ground Underfoot"
          ],
          [
           "Spirit-Future Medley"
          ],
          [
           "Naked We Made It"
          ],
          [
           "Lit from Below"
          ],
          [
           "Imaginary Love"
          ],
          [
           "The Highway Is a Foggy Knife"
          ],
          [
           "The Minutes"
          ]
         ],
         "hovertemplate": "artist=Dirty Projectors<br>danceability=%{x}<br>joy=%{y}<br>title=%{customdata[0]}<extra></extra>",
         "legendgroup": "Dirty Projectors",
         "marker": {
          "color": "#FF6692",
          "symbol": "circle"
         },
         "mode": "markers",
         "name": "Dirty Projectors",
         "orientation": "v",
         "showlegend": true,
         "type": "scatter",
         "x": [
          0.557,
          0.404,
          0.394,
          0.569,
          0.435,
          0.338,
          0.578,
          0.288,
          0.51,
          0.54,
          0.555,
          0.677,
          0.377,
          0.342,
          0.725,
          0.445,
          0.61,
          0.484,
          0.481,
          0.8,
          0.519,
          0.723,
          0.416,
          0.53,
          0.452,
          0.757,
          0.409,
          0.286,
          0.636,
          0.311,
          0.699,
          0.471,
          0.705,
          0.719,
          0.624,
          0.46,
          0.31,
          0.579,
          0.51,
          0.475,
          0.425,
          0.164,
          0.335,
          0.364,
          0.428,
          0.444,
          0.55,
          0.719,
          0.44,
          0.86,
          0.496,
          0.362,
          0.32,
          0.427,
          0.318,
          0.482,
          0.371,
          0.434,
          0.277,
          0.348,
          0.323,
          0.234,
          0.541,
          0.0604,
          0.545,
          0.244,
          0.341,
          0.342,
          0.226,
          0.202,
          0.48,
          0.381,
          0.234,
          0.345,
          0.809,
          0.342,
          0.442,
          0.345,
          0.725,
          0.681,
          0.738,
          0.44,
          0.603,
          0.31,
          0.65,
          0.455,
          0.709,
          0.529,
          0.248,
          0.436,
          0.552,
          0.579,
          0.775,
          0.267,
          0.294,
          0.527,
          0.676,
          0.768,
          0.705,
          0.491,
          0.328,
          0.197,
          0.336,
          0.569,
          0.423,
          0.311,
          0.355,
          0.431,
          0.411,
          0.47,
          0.35,
          0.49,
          0.476,
          0.327,
          0.256,
          0.361,
          0.74
         ],
         "xaxis": "x",
         "y": [
          0.40980426006761733,
          0.16994036173570595,
          0.7989731714422125,
          0.33791842319857307,
          0.15685978541887355,
          0.13117174933280065,
          0.4267743445166799,
          null,
          0.13974730667954546,
          0.11018285070590669,
          0.13399393407212917,
          0.28415940152802055,
          0.5359899498462647,
          0.0445385105660766,
          0.5806319390879588,
          0.2071588904917966,
          0.1220227873330769,
          0.23143891007809264,
          0.032203471515306274,
          0.23467304754714258,
          0.2061806769791871,
          0.045775482921498654,
          0.09165730065727613,
          0.9696934795229177,
          0.9599261919270706,
          0.13458456469015223,
          0.4842878346283304,
          0.3736893001370905,
          0.09592323137044904,
          0,
          null,
          null,
          null,
          null,
          0,
          null,
          1.0512044943393544,
          null,
          null,
          null,
          0.3218450392636323,
          null,
          null,
          0,
          0,
          0,
          0,
          0.7591046764985133,
          0.19095266718605075,
          1.2824824327785456,
          0.8292159377667672,
          0,
          0.4354876588683047,
          0.05449269607561145,
          0.3530097209659333,
          0,
          0,
          0,
          0.08528207060084014,
          0.0303664614434231,
          0.4565560979669786,
          0.46564691982361184,
          0,
          0.8760037452827953,
          null,
          0.5699202583287747,
          null,
          0.5240955419653802,
          0.22214435530528415,
          null,
          0.4604511676478122,
          0.19528662659504134,
          null,
          0.9289747159213695,
          1.770456634396262,
          null,
          null,
          0.6532314883024571,
          0.13840738764207736,
          0,
          0,
          0.07706353534136262,
          0.5171464774848955,
          1.4177954963704675,
          0.6066995170598086,
          0.15142088968171574,
          0.2574881919661538,
          0,
          0.22700235176023695,
          0.8046125981590806,
          null,
          1.90880246748921,
          0,
          0.21774382943415235,
          0,
          1.3592251963181612,
          2.2520074905655907,
          0,
          0.3266157441512285,
          null,
          null,
          null,
          0.29038881107313913,
          0.5901522114654206,
          0,
          null,
          null,
          null,
          0,
          0,
          0,
          0,
          0,
          null,
          0.653231488302457,
          0,
          0
         ],
         "yaxis": "y"
        },
        {
         "customdata": [
          [
           "Pretty Things"
          ],
          [
           "Shark Smile"
          ],
          [
           "Capacity"
          ],
          [
           "Watering"
          ],
          [
           "Coma"
          ],
          [
           "Great White Shark"
          ],
          [
           "Mythological Beauty"
          ],
          [
           "Objects"
          ],
          [
           "Haley"
          ],
          [
           "Mary"
          ],
          [
           "Black Diamonds"
          ],
          [
           "Change"
          ],
          [
           "Time Escaping"
          ],
          [
           "Spud Infinity"
          ],
          [
           "Certainty"
          ],
          [
           "Dragon New Warm Mountain I Believe in You"
          ],
          [
           "Sparrow"
          ],
          [
           "Little Things"
          ],
          [
           "Heavy Bend"
          ],
          [
           "Flower of Blood"
          ],
          [
           "Blurred View"
          ],
          [
           "Red Moon"
          ],
          [
           "Dried Roses"
          ],
          [
           "No Reason"
          ],
          [
           "Wake Me up to Drive"
          ],
          [
           "Promise Is a Pendulum"
          ],
          [
           "12,000 Lines"
          ],
          [
           "Simulation Swarm"
          ],
          [
           "Love Love Love"
          ],
          [
           "The Only Place"
          ],
          [
           "Blue Lightning"
          ],
          [
           "Little Arrow - 2023 Remaster"
          ],
          [
           "Masterpiece - 2023 Remaster"
          ],
          [
           "Vegas - 2023 Remaster"
          ],
          [
           "Real Love - 2023 Remaster"
          ],
          [
           "Interstate - 2023 Remaster"
          ],
          [
           "Lorraine - 2023 Remaster"
          ],
          [
           "Paul - 2023 Remaster"
          ],
          [
           "Humans - 2023 Remaster"
          ],
          [
           "Velvet Ring - 2023 Remaster"
          ],
          [
           "Animals - 2023 Remaster"
          ],
          [
           "Randy - 2023 Remaster"
          ],
          [
           "Parallels - 2023 Remaster"
          ],
          [
           "Rock and Sing"
          ],
          [
           "Forgotten Eyes"
          ],
          [
           "The Toy"
          ],
          [
           "Two Hands"
          ],
          [
           "Those Girls"
          ],
          [
           "Shoulders"
          ],
          [
           "Not"
          ],
          [
           "Wolf"
          ],
          [
           "Replaced"
          ],
          [
           "Cut My Hair"
          ],
          [
           "Contact"
          ],
          [
           "UFOF"
          ],
          [
           "Cattails"
          ],
          [
           "From"
          ],
          [
           "Open Desert"
          ],
          [
           "Orange"
          ],
          [
           "Century"
          ],
          [
           "Strange"
          ],
          [
           "Betsy"
          ],
          [
           "Terminal Paradise"
          ],
          [
           "Jenni"
          ],
          [
           "Magic Dealer"
          ]
         ],
         "hovertemplate": "artist=Big Thief<br>danceability=%{x}<br>joy=%{y}<br>title=%{customdata[0]}<extra></extra>",
         "legendgroup": "Big Thief",
         "marker": {
          "color": "#B6E880",
          "symbol": "circle"
         },
         "mode": "markers",
         "name": "Big Thief",
         "orientation": "v",
         "showlegend": true,
         "type": "scatter",
         "x": [
          0.467,
          0.618,
          0.448,
          0.633,
          0.385,
          0.391,
          0.63,
          0.677,
          0.535,
          0.4,
          0.761,
          0.633,
          0.672,
          0.562,
          0.611,
          0.312,
          0.564,
          0.34,
          0.682,
          0.254,
          0.438,
          0.434,
          0.56,
          0.455,
          0.683,
          0.473,
          0.675,
          0.703,
          0.426,
          0.45,
          0.6,
          0.222,
          0.369,
          0.624,
          0.311,
          0.404,
          0.45,
          0.473,
          0.44,
          0.318,
          0.4,
          0.376,
          0.355,
          0.692,
          0.428,
          0.327,
          0.518,
          0.579,
          0.459,
          0.423,
          0.439,
          0.627,
          0.528,
          0.451,
          0.623,
          0.555,
          0.6,
          0.589,
          0.443,
          0.673,
          0.733,
          0.578,
          0.598,
          0.393,
          0.414
         ],
         "xaxis": "x",
         "y": [
          0.20377580029894274,
          0.6811081751390207,
          0.5300385105147505,
          0.18969178225674235,
          null,
          0.38264109303409266,
          0.10714399702820139,
          0.03014914561395956,
          0.1775495936538249,
          0.1176392689143381,
          0.024589675477725854,
          0.10672554643817453,
          0.12498304596530814,
          0.7583523157645246,
          0.23443971082825393,
          0.08165393603780713,
          0.03882771535457915,
          0.49275910812260304,
          0,
          0.2726529800712438,
          0.15865734706751108,
          0.17379753680051138,
          0.24233226104058747,
          1.183269971927564,
          0.08827869235120323,
          0.09655330910217061,
          0.4272109680295785,
          0.10140613329473762,
          0.39193889298147433,
          0.14322446674144332,
          0.15199772030126824,
          0.3923330541845747,
          0,
          0.1867151053940008,
          0.28193152172483277,
          0.2044871850899993,
          0.2984872471029405,
          0.20290088233394912,
          0.0699890880324061,
          0.20115604232137144,
          0.0738785520055819,
          0.2751727882233933,
          0.1080099226117754,
          0.5296721541072195,
          0.17782617335754283,
          0.0669118404599158,
          0.14976169980372928,
          0,
          0.3691280456068723,
          0.008351210539605008,
          0.2730548046256906,
          0,
          0.28941424607257277,
          0.9534098773929952,
          0.16195444677825843,
          0.0240292683140515,
          0,
          0.31834839829816625,
          0.04899236162268428,
          0.04899236162268425,
          0.38673358686963777,
          null,
          0.8896332403909941,
          0,
          0
         ],
         "yaxis": "y"
        },
        {
         "customdata": [
          [
           "It's Working"
          ],
          [
           "Song for Dan Treacy"
          ],
          [
           "Someone's Missing"
          ],
          [
           "Flash Delirium"
          ],
          [
           "I Found a Whistle"
          ],
          [
           "Siberian Breaks"
          ],
          [
           "Brian Eno"
          ],
          [
           "Congratulations"
          ],
          [
           "She Works Out Too Much"
          ],
          [
           "Little Dark Age"
          ],
          [
           "When You Die"
          ],
          [
           "Me and Michael"
          ],
          [
           "TSLAMP"
          ],
          [
           "James"
          ],
          [
           "Days That Got Away"
          ],
          [
           "One Thing Left to Try"
          ],
          [
           "When You're Small"
          ],
          [
           "Hand It Over"
          ],
          [
           "Loss Of Life (part 2)"
          ],
          [
           "Mother Nature"
          ],
          [
           "People In The Streets"
          ],
          [
           "Bubblegum Dog"
          ],
          [
           "Nothing To Declare"
          ],
          [
           "Nothing Changes"
          ],
          [
           "Phradie’s Song"
          ],
          [
           "I Wish I Was Joking"
          ],
          [
           "Loss Of Life"
          ],
          [
           "Alien Days"
          ],
          [
           "Cool Song No. 2"
          ],
          [
           "Mystery Disease"
          ],
          [
           "Introspection"
          ],
          [
           "Your Life Is a Lie"
          ],
          [
           "A Good Sadness"
          ],
          [
           "Astro-Mancy"
          ],
          [
           "I Love You Too, Death"
          ],
          [
           "Plenty Of Girls In The Sea"
          ],
          [
           "An Orphan Of Fortune"
          ],
          [
           "Time to Pretend"
          ],
          [
           "Weekend Wars"
          ],
          [
           "The Youth"
          ],
          [
           "Electric Feel"
          ],
          [
           "Kids"
          ],
          [
           "4th Dimensional Transition"
          ],
          [
           "Pieces of What"
          ],
          [
           "Of Moons, Birds & Monsters"
          ],
          [
           "The Handshake"
          ],
          [
           "Future Reflections"
          ]
         ],
         "hovertemplate": "artist=MGMT<br>danceability=%{x}<br>joy=%{y}<br>title=%{customdata[0]}<extra></extra>",
         "legendgroup": "MGMT",
         "marker": {
          "color": "#FF97FF",
          "symbol": "circle"
         },
         "mode": "markers",
         "name": "MGMT",
         "orientation": "v",
         "showlegend": true,
         "type": "scatter",
         "x": [
          0.381,
          0.453,
          0.308,
          0.575,
          0.166,
          0.305,
          0.374,
          0.761,
          0.633,
          0.705,
          0.645,
          0.628,
          0.602,
          0.515,
          0.667,
          0.576,
          0.465,
          0.378,
          0.241,
          0.425,
          0.585,
          0.482,
          0.474,
          0.529,
          0.168,
          0.48,
          0.288,
          0.492,
          0.543,
          0.253,
          0.519,
          0.527,
          0.209,
          0.525,
          0.212,
          0.544,
          0.423,
          0.438,
          0.549,
          0.485,
          0.763,
          0.451,
          0.381,
          0.572,
          0.598,
          0.565,
          0.512
         ],
         "xaxis": "x",
         "y": [
          0.3768643201744945,
          0,
          0.0733392213379227,
          0.11732651457912965,
          0.3701525348872438,
          0.03490879286264474,
          0.12402988670642859,
          0.1507147690435683,
          0.08049429289384957,
          0.04686879038280992,
          0.3488360895630371,
          0.06567336692518005,
          0.04665939202160407,
          0.5225759056369237,
          null,
          0.5818394463573011,
          0,
          0.14152615652785527,
          0.21044971696141923,
          0.08392713621000758,
          0.05559114051349845,
          0.2721768680941178,
          0.0687061761006114,
          0.10165342908939067,
          1.047013108939353,
          0.08638511771007158,
          0.20503707685150085,
          0.049758233528155636,
          0.1811231020512765,
          0.15430619782481936,
          0.06902408169577456,
          0.04269093707157518,
          0.313110175034381,
          0.4179630656406418,
          0.057912171356424715,
          0.23609589441715434,
          null,
          0.11579819024387593,
          0.04162007495478915,
          0.3934841937220135,
          2.051694099527256,
          0.14692308140533278,
          0.2764954266744872,
          0.10887191471707615,
          0,
          0.07678462262591314,
          0.11861304770984185
         ],
         "yaxis": "y"
        },
        {
         "customdata": [
          [
           "Spitting Off the Edge of the World"
          ],
          [
           "Lovebomb"
          ],
          [
           "Wolf"
          ],
          [
           "Fleez"
          ],
          [
           "Burning"
          ],
          [
           "Blacktop"
          ],
          [
           "Different Today"
          ],
          [
           "Mars"
          ],
          [
           "Rich"
          ],
          [
           "Date With The Night"
          ],
          [
           "Man"
          ],
          [
           "Tick"
          ],
          [
           "Black Tongue"
          ],
          [
           "Pin"
          ],
          [
           "Cold Light"
          ],
          [
           "No No No"
          ],
          [
           "Maps"
          ],
          [
           "Y Control"
          ],
          [
           "Modern Romance"
          ],
          [
           "Poor Song"
          ],
          [
           "Zero"
          ],
          [
           "Heads Will Roll"
          ],
          [
           "Soft Shock"
          ],
          [
           "Skeletons"
          ],
          [
           "Dull Life"
          ],
          [
           "Shame And Fortune"
          ],
          [
           "Runaway"
          ],
          [
           "Dragon Queen"
          ],
          [
           "Hysteric"
          ],
          [
           "Little Shadow"
          ],
          [
           "Sacrilege"
          ],
          [
           "Subway"
          ],
          [
           "Mosquito"
          ],
          [
           "Under The Earth"
          ],
          [
           "Slave"
          ],
          [
           "These Paths"
          ],
          [
           "Area 52"
          ],
          [
           "Buried Alive"
          ],
          [
           "Always"
          ],
          [
           "Despair"
          ],
          [
           "Wedding Song"
          ],
          [
           "Subway - NOLA Demo"
          ],
          [
           "Gold Lion"
          ],
          [
           "Way Out"
          ],
          [
           "Fancy"
          ],
          [
           "Phenomena"
          ],
          [
           "Honeybear"
          ],
          [
           "Cheated Hearts"
          ],
          [
           "Dudley"
          ],
          [
           "Mysteries"
          ],
          [
           "Sweets"
          ],
          [
           "Warrior"
          ],
          [
           "Turn Into"
          ]
         ],
         "hovertemplate": "artist=Yeah Yeah Yeahs<br>danceability=%{x}<br>joy=%{y}<br>title=%{customdata[0]}<extra></extra>",
         "legendgroup": "Yeah Yeah Yeahs",
         "marker": {
          "color": "#FECB52",
          "symbol": "circle"
         },
         "mode": "markers",
         "name": "Yeah Yeah Yeahs",
         "orientation": "v",
         "showlegend": true,
         "type": "scatter",
         "x": [
          0.413,
          0.243,
          0.576,
          0.698,
          0.528,
          0.683,
          0.46,
          0.574,
          0.547,
          0.473,
          0.231,
          0.533,
          0.52,
          0.68,
          0.283,
          0.352,
          0.502,
          0.427,
          0.324,
          0.555,
          0.504,
          0.562,
          0.598,
          0.234,
          0.386,
          0.5,
          0.425,
          0.633,
          0.573,
          0.38,
          0.527,
          0.378,
          0.53,
          0.448,
          0.464,
          0.35,
          0.37,
          0.501,
          0.498,
          0.524,
          0.255,
          0.575,
          0.521,
          0.674,
          0.504,
          0.501,
          0.623,
          0.582,
          0.499,
          0.215,
          0.366,
          0.442,
          0.493
         ],
         "xaxis": "x",
         "y": [
          0.11398405166575494,
          0.0653231488302457,
          0,
          0.16415654060433407,
          0.046720199748415736,
          0.2903807795693147,
          0,
          1.1940021694380418,
          0,
          0,
          0,
          0.0266324390480737,
          0.19640081825626482,
          0.018910707313910834,
          0.21058330013964077,
          0,
          0.5319694859177364,
          0.08760037452827953,
          3.2222624917510623,
          0.3703507744748025,
          0.30645755487102994,
          2.448166201954971,
          0,
          0.5806502118244062,
          0.045837013336201674,
          null,
          0.1725602042394364,
          0.78122515138882,
          0,
          0,
          0.33827652676957426,
          0,
          0.03783372529337282,
          1.1256117983007612,
          0.13997817606481222,
          0.4772006168723026,
          0,
          0.28709605686752304,
          0,
          1.3298139361004746,
          0.13192635234917288,
          0.37478824896509266,
          0,
          0.05763807249727562,
          0.2984872471029405,
          0.5005735687330258,
          0.20664256014402355,
          0.6064327925249422,
          0.19637592913389024,
          0,
          0.1817491957804406,
          0.1165793429502367,
          0.11126909905573622
         ],
         "yaxis": "y"
        },
        {
         "customdata": [
          [
           "Abducted"
          ],
          [
           "Go Outside"
          ],
          [
           "You Know What I Mean"
          ],
          [
           "Most Wanted"
          ],
          [
           "Walk At Night"
          ],
          [
           "Never Heal Myself"
          ],
          [
           "Oh My God"
          ],
          [
           "Never Saw The Point"
          ],
          [
           "Bad Things"
          ],
          [
           "Bumper"
          ],
          [
           "Rave On"
          ],
          [
           "Bad Things - Slowed Down"
          ],
          [
           "Trials"
          ],
          [
           "8th Avenue"
          ],
          [
           "Spit You Out"
          ],
          [
           "A Low"
          ],
          [
           "No Risk"
          ],
          [
           "Working It Over"
          ],
          [
           "A Purgatory"
          ],
          [
           "Like I Do"
          ],
          [
           "Masquerading"
          ],
          [
           "Honest Love"
          ],
          [
           "Shoulders To My Feet"
          ],
          [
           "Monolithic"
          ],
          [
           "Offering"
          ],
          [
           "I Took Your Picture"
          ],
          [
           "With My Eyes Closed"
          ],
          [
           "Recovery"
          ],
          [
           "Right Words"
          ],
          [
           "Good Religion"
          ],
          [
           "Natural State"
          ],
          [
           "Nothing Is Written"
          ],
          [
           "Talk in Circles"
          ],
          [
           "Clear from Far Away"
          ],
          [
           "Gilded Lily"
          ],
          [
           "I Know"
          ],
          [
           "I Can Hardly Make You Mine"
          ],
          [
           "Always Forever"
          ],
          [
           "High Road"
          ],
          [
           "Were Before"
          ],
          [
           "So Far"
          ],
          [
           "Keep Your Head Up"
          ],
          [
           "TV Dream"
          ],
          [
           "We've Got It"
          ],
          [
           "Shine a Light"
          ],
          [
           "No Hope"
          ]
         ],
         "hovertemplate": "artist=Cults<br>danceability=%{x}<br>joy=%{y}<br>title=%{customdata[0]}<extra></extra>",
         "legendgroup": "Cults",
         "marker": {
          "color": "#636efa",
          "symbol": "circle"
         },
         "mode": "markers",
         "name": "Cults",
         "orientation": "v",
         "showlegend": true,
         "type": "scatter",
         "x": [
          0.374,
          0.375,
          0.317,
          0.654,
          0.628,
          0.52,
          0.392,
          0.523,
          0.346,
          0.649,
          0.436,
          0.167,
          0.691,
          0.524,
          0.558,
          0.498,
          0.616,
          0.549,
          0.331,
          0.602,
          0.506,
          0.401,
          0.454,
          0.443,
          0.399,
          0.516,
          0.355,
          0.532,
          0.564,
          0.43,
          0.446,
          0.519,
          0.28,
          0.553,
          0.4,
          0.102,
          0.438,
          0.174,
          0.582,
          0.507,
          0.358,
          0.328,
          0.179,
          0.436,
          0.385,
          0.383
         ],
         "xaxis": "x",
         "y": [
          0.15557378033166547,
          0.13316219524036874,
          0.14376826636096962,
          0.12324697425768638,
          0,
          0,
          0.1874751615312397,
          0.0622815500228484,
          0.07838777859629485,
          0.03499454401620305,
          0.9788529249653497,
          0.40564893514511374,
          0,
          0.05326487809614748,
          1.4309536544194543,
          0.06114447989596102,
          0,
          0.08570175038537589,
          0.6610151414676438,
          0,
          0.25540593989582855,
          0.2910376046082101,
          0,
          0,
          0.050248576023265934,
          0.09148808618045158,
          0.5147324739229511,
          0,
          0.052579359873822736,
          0.737509479668478,
          0.06649069680502372,
          0.08165393603780713,
          0.0597229044341247,
          0,
          0,
          0,
          0.024496180811342125,
          0.29947209041507117,
          0.16446420507023507,
          0.192404471136547,
          0.05326487809614748,
          0.2952342244247872,
          2.323096346918369,
          0.0852041071698857,
          0,
          0.7358545033298461
         ],
         "yaxis": "y"
        },
        {
         "customdata": [
          [
           "Welcome To My Island"
          ],
          [
           "Pretty In Possible"
          ],
          [
           "Bunny Is A Rider"
          ],
          [
           "Sunset"
          ],
          [
           "Crude Drawing Of An Angel"
          ],
          [
           "I Believe"
          ],
          [
           "Blood And Butter"
          ],
          [
           "Hopedrunk Everasking"
          ],
          [
           "Butterfly Net"
          ],
          [
           "Smoke"
          ],
          [
           "Billions"
          ],
          [
           "The Gate"
          ],
          [
           "Pang"
          ],
          [
           "New Normal"
          ],
          [
           "Hit Me Where It Hurts"
          ],
          [
           "I Give Up"
          ],
          [
           "Look At Me Now"
          ],
          [
           "Insomnia"
          ],
          [
           "Ocean of Tears"
          ],
          [
           "Hey Big Eyes"
          ],
          [
           "Go As a Dream"
          ],
          [
           "Caroline Shut Up"
          ],
          [
           "So Hot You're Hurting My Feelings"
          ],
          [
           "Door"
          ],
          [
           "Parachute"
          ]
         ],
         "hovertemplate": "artist=Caroline Polachek<br>danceability=%{x}<br>joy=%{y}<br>title=%{customdata[0]}<extra></extra>",
         "legendgroup": "Caroline Polachek",
         "marker": {
          "color": "#EF553B",
          "symbol": "circle"
         },
         "mode": "markers",
         "name": "Caroline Polachek",
         "orientation": "v",
         "showlegend": true,
         "type": "scatter",
         "x": [
          0.692,
          0.706,
          0.796,
          0.643,
          0.591,
          0.67,
          0.589,
          0.257,
          0.57,
          0.657,
          0.579,
          0.176,
          0.707,
          0.688,
          0.732,
          0.788,
          0.564,
          0.231,
          0.572,
          0.537,
          0.63,
          0.548,
          0.795,
          0.684,
          0.2
         ],
         "xaxis": "x",
         "y": [
          0.049721785967636725,
          0.08310389607228816,
          0,
          0.12493629851008367,
          0.2948166201954971,
          0.6794866018335292,
          0.31468894276257087,
          0.42571076747997016,
          0.1790923482617643,
          0.07592188864638222,
          0.18070761434481825,
          0.9417343092908509,
          0.30145231033281417,
          0.16765132954024425,
          0.11795265823328022,
          0.12614438556036298,
          0.16276341656337895,
          0.20132045397656073,
          0.39350651466244707,
          1.076715657373956,
          0.0840917393817871,
          0.14233701020352812,
          0.23314224880805257,
          0.051506923043640275,
          0
         ],
         "yaxis": "y"
        },
        {
         "customdata": [
          [
           "Daydream"
          ],
          [
           "Sears Roebuck M&Ms"
          ],
          [
           "Crown"
          ],
          [
           "Aquarium"
          ],
          [
           "Plain Speech"
          ],
          [
           "Electric Balloon"
          ],
          [
           "PRPL"
          ],
          [
           "Hold U"
          ],
          [
           "Judy"
          ],
          [
           "Genesee"
          ],
          [
           "Ab Ovo"
          ],
          [
           "Ice Level"
          ],
          [
           "Wrenning Day"
          ],
          [
           "Sequential Holdings"
          ],
          [
           "Down Right"
          ],
          [
           "Company"
          ],
          [
           "Tenderize"
          ],
          [
           "Steve Polyester"
          ],
          [
           "Roses and Cherries"
          ],
          [
           "Coat Of Shellac"
          ],
          [
           "Black Dog"
          ],
          [
           "Best Hexagon"
          ],
          [
           "Billz"
          ],
          [
           "Victoria"
          ],
          [
           "Carbon"
          ],
          [
           "Accessible"
          ],
          [
           "Centerline"
          ],
          [
           "Childish"
          ],
          [
           "Leaf"
          ],
          [
           "Mine"
          ],
          [
           "Moon 2"
          ],
          [
           "Deli Run"
          ],
          [
           "Set It Off"
          ],
          [
           "Walking with an Enemy"
          ],
          [
           "Unless"
          ],
          [
           "On Its Side the Fallen"
          ]
         ],
         "hovertemplate": "artist=Ava Luna<br>danceability=%{x}<br>joy=%{y}<br>title=%{customdata[0]}<extra></extra>",
         "legendgroup": "Ava Luna",
         "marker": {
          "color": "#00cc96",
          "symbol": "circle"
         },
         "mode": "markers",
         "name": "Ava Luna",
         "orientation": "v",
         "showlegend": true,
         "type": "scatter",
         "x": [
          0.688,
          0.835,
          0.545,
          0.588,
          0.6,
          0.887,
          0.677,
          0.705,
          0.408,
          0.645,
          0.723,
          0.462,
          0.665,
          0.631,
          0.659,
          0.546,
          0.784,
          0.619,
          0.753,
          0.714,
          0.317,
          0.512,
          0.618,
          0.437,
          0.671,
          0.842,
          0.787,
          0.845,
          0.947,
          0.721,
          0.829,
          0.768,
          0.764,
          0.646,
          0.816,
          0.593
         ],
         "xaxis": "x",
         "y": [
          1.4622739806377574,
          1.2989731714422124,
          1.067190472088034,
          0.29200124842759845,
          0.06218957108510038,
          2.08896282948251,
          0,
          0.24982234378247958,
          0,
          null,
          null,
          0.04558024803121365,
          0.0246514577484909,
          0.025584621180252037,
          0.41714464061085493,
          1.126447642143546,
          0.4601605446384971,
          0.28819318737117205,
          0,
          0.3451204084788728,
          0,
          0.6534863298603685,
          0.7559875419986859,
          1.309169303843773,
          0.20592233723012776,
          null,
          0.12110444604184897,
          0,
          0.1662267420125593,
          0,
          1.597946342884425,
          0.2165755807249669,
          0.3327561129446545,
          0.1341445324459951,
          0,
          0.20459601738418676
         ],
         "yaxis": "y"
        },
        {
         "customdata": [
          [
           "Never Ending Circles"
          ],
          [
           "Leave a Trace"
          ],
          [
           "Keep You On My Side"
          ],
          [
           "Make Them Gold"
          ],
          [
           "Clearest Blue"
          ],
          [
           "High Enough to Carry You Over"
          ],
          [
           "Empty Threat"
          ],
          [
           "Down Side of Me"
          ],
          [
           "Playing Dead"
          ],
          [
           "Bury It"
          ],
          [
           "Afterglow"
          ],
          [
           "Graffiti"
          ],
          [
           "Get Out"
          ],
          [
           "Deliverance"
          ],
          [
           "My Enemy"
          ],
          [
           "Forever"
          ],
          [
           "Never Say Die"
          ],
          [
           "Miracle"
          ],
          [
           "Graves"
          ],
          [
           "Heaven/Hell"
          ],
          [
           "God's Plan"
          ],
          [
           "Really Gone"
          ],
          [
           "ii"
          ],
          [
           "Wonderland"
          ],
          [
           "The Mother We Share"
          ],
          [
           "We Sink"
          ],
          [
           "Gun"
          ],
          [
           "Tether"
          ],
          [
           "Lies"
          ],
          [
           "Under the Tide"
          ],
          [
           "Recover"
          ],
          [
           "Night Sky"
          ],
          [
           "Science/Visions"
          ],
          [
           "Lungs"
          ],
          [
           "By the Throat"
          ],
          [
           "You Caught the Light"
          ],
          [
           "Strong Hand"
          ],
          [
           "Broken Bones"
          ],
          [
           "Gun - KDA Remix"
          ]
         ],
         "hovertemplate": "artist=CHVRCHES<br>danceability=%{x}<br>joy=%{y}<br>title=%{customdata[0]}<extra></extra>",
         "legendgroup": "CHVRCHES",
         "marker": {
          "color": "#ab63fa",
          "symbol": "circle"
         },
         "mode": "markers",
         "name": "CHVRCHES",
         "orientation": "v",
         "showlegend": true,
         "type": "scatter",
         "x": [
          0.512,
          0.6,
          0.665,
          0.613,
          0.643,
          0.642,
          0.675,
          0.587,
          0.562,
          0.63,
          0.235,
          0.472,
          0.486,
          0.565,
          0.56,
          0.437,
          0.534,
          0.573,
          0.549,
          0.611,
          0.502,
          0.537,
          0.486,
          0.49,
          0.45,
          0.61,
          0.659,
          0.47,
          0.537,
          0.477,
          0.416,
          0.616,
          0.438,
          0.704,
          0.637,
          0.479,
          0.548,
          0.658,
          0.79
         ],
         "xaxis": "x",
         "y": [
          0.02859002693139111,
          0,
          0.17232010139507134,
          0,
          0.27631040991320854,
          0,
          0.2076419608152466,
          0.03534625972592783,
          0,
          null,
          0.05774378180937412,
          0.20602283903732616,
          0.1331621952403687,
          0.03129216849260244,
          0.1088075401922573,
          0,
          0.12474896159907183,
          1.2146275005854374,
          0.1378223647337636,
          0.08012539344868827,
          0.1688002643738439,
          0,
          0.19596944649073714,
          0,
          0,
          0.06421992225459497,
          0.16222363796793599,
          2.070722450873237,
          0.1326857979068333,
          0.1526179330626157,
          0.05178000747878706,
          0,
          0,
          0.12355340233807666,
          0.00976867354155076,
          0.3652818823005075,
          0.25751874930493185,
          0.08037906978845054,
          0.1831088436338014
         ],
         "yaxis": "y"
        },
        {
         "customdata": [
          [
           "Sunday Morning"
          ],
          [
           "Casings"
          ],
          [
           "Lilies"
          ],
          [
           "Head in the Wall"
          ],
          [
           "Knuckle Velvet"
          ],
          [
           "Golden Age"
          ],
          [
           "Crush"
          ],
          [
           "Unpunishable"
          ],
          [
           "Inbred"
          ],
          [
           "Two-Headed Mother"
          ],
          [
           "Family Tree (Intro)"
          ],
          [
           "American Teenager"
          ],
          [
           "A House In Nebraska"
          ],
          [
           "Western Nights"
          ],
          [
           "Family Tree"
          ],
          [
           "Hard Times"
          ],
          [
           "Thoroughfare"
          ],
          [
           "Gibson Girl"
          ],
          [
           "Ptolemaea"
          ],
          [
           "Sun Bleached Flies"
          ],
          [
           "Strangers"
          ]
         ],
         "hovertemplate": "artist=Ethel Cain<br>danceability=%{x}<br>joy=%{y}<br>title=%{customdata[0]}<extra></extra>",
         "legendgroup": "Ethel Cain",
         "marker": {
          "color": "#FFA15A",
          "symbol": "circle"
         },
         "mode": "markers",
         "name": "Ethel Cain",
         "orientation": "v",
         "showlegend": true,
         "type": "scatter",
         "x": [
          0.355,
          0.367,
          0.435,
          0.272,
          0.472,
          0.261,
          0.529,
          0.413,
          0.23,
          0.394,
          0.256,
          0.415,
          0.245,
          0.423,
          0.239,
          0.492,
          0.549,
          0.287,
          0.281,
          0.269,
          0.373
         ],
         "xaxis": "x",
         "y": [
          0.15535549405178625,
          0.10698799841374443,
          0.5802032358344366,
          0.057239009552103245,
          0.1642172667388904,
          0.22603694480263561,
          0.10186816991545489,
          0.2210350265976761,
          0.09530839953803485,
          0.22536908272986042,
          0.5311369903188786,
          0.1712391409657782,
          0.10246268582262968,
          0.1543769994766214,
          0.25758754789020966,
          0.19020945843355372,
          0.14236324150361915,
          0.21804701514569233,
          0.22019339502918153,
          0.11488130794647938,
          0.10537126694258747
         ],
         "yaxis": "y"
        },
        {
         "customdata": [
          [
           "Daniel"
          ],
          [
           "Stop"
          ],
          [
           "Bad Street"
          ],
          [
           "Space Babe"
          ],
          [
           "Kimmi In a Rice Field"
          ],
          [
           "Luna's Theme"
          ],
          [
           "Spain"
          ],
          [
           "Gene Ciampi"
          ],
          [
           "Saturday Sunday"
          ],
          [
           "Eastern Green"
          ],
          [
           "Sensitive"
          ],
          [
           "Rude Boy"
          ],
          [
           "In the House of Yes"
          ],
          [
           "Blush"
          ],
          [
           "Out of the Dark"
          ],
          [
           "Twelve Angels"
          ],
          [
           "Crime Scene"
          ]
         ],
         "hovertemplate": "artist=Mr. Twin Sister<br>danceability=%{x}<br>joy=%{y}<br>title=%{customdata[0]}<extra></extra>",
         "legendgroup": "Mr. Twin Sister",
         "marker": {
          "color": "#19d3f3",
          "symbol": "circle"
         },
         "mode": "markers",
         "name": "Mr. Twin Sister",
         "orientation": "v",
         "showlegend": true,
         "type": "scatter",
         "x": [
          0.557,
          0.66,
          0.792,
          0.605,
          0.5,
          0.277,
          0.33,
          0.666,
          0.621,
          0.291,
          0.465,
          0.752,
          0.695,
          0.295,
          0.866,
          0.379,
          0.334
         ],
         "xaxis": "x",
         "y": [
          0.585859879785124,
          null,
          0,
          0,
          0.595881173370622,
          1.5587678057306549,
          0,
          0.6373270532620946,
          0.28037331557749623,
          1.1399671477606794,
          0.4061872168438215,
          0,
          0.13316219524036874,
          0.09109938433026933,
          0.5080258807614617,
          0,
          0.479649623149176
         ],
         "yaxis": "y"
        },
        {
         "customdata": [
          [
           "Pendulum"
          ],
          [
           "Dream the Dare"
          ],
          [
           "Evergreener"
          ],
          [
           "Twins"
          ],
          [
           "Only Lonely Lovers"
          ],
          [
           "Scotty"
          ],
          [
           "Temples of the Moon"
          ],
          [
           "Thin Growing Thing"
          ],
          [
           "Devotion"
          ],
          [
           "Veil"
          ],
          [
           "Black Starling"
          ],
          [
           "Ad Victoriam"
          ],
          [
           "All Night"
          ],
          [
           "Moonrise"
          ],
          [
           "Remember"
          ],
          [
           "Joyous Lake"
          ],
          [
           "Violet a Voyager"
          ],
          [
           "The Tower"
          ],
          [
           "Pray for Rain"
          ],
          [
           "Palest Pearl"
          ],
          [
           "Clover"
          ],
          [
           "Darling, Save Us"
          ],
          [
           "Singer"
          ],
          [
           "She Shakes"
          ],
          [
           "Maximilian's Ring"
          ],
          [
           "I Trace Your Symbol"
          ],
          [
           "In the Night, in the Peaceful Night"
          ]
         ],
         "hovertemplate": "artist=Pure Bathing Culture<br>danceability=%{x}<br>joy=%{y}<br>title=%{customdata[0]}<extra></extra>",
         "legendgroup": "Pure Bathing Culture",
         "marker": {
          "color": "#FF6692",
          "symbol": "circle"
         },
         "mode": "markers",
         "name": "Pure Bathing Culture",
         "orientation": "v",
         "showlegend": true,
         "type": "scatter",
         "x": [
          0.582,
          0.388,
          0.343,
          0.599,
          0.534,
          0.511,
          0.373,
          0.43,
          0.554,
          0.174,
          0.502,
          0.457,
          0.445,
          0.613,
          0.538,
          0.559,
          0.522,
          0.688,
          0.561,
          0.684,
          0.6,
          0.623,
          0.644,
          0.613,
          0.587,
          0.598,
          0.688
         ],
         "xaxis": "x",
         "y": [
          null,
          0.2327583378909027,
          0.7311369903188787,
          1.030118263121795,
          1.0553096685553651,
          0.6625269227338841,
          null,
          0.15782102545846302,
          0.8241449298867014,
          0.2832040969346015,
          0.37844562413492017,
          0.060446088004567,
          0.10590853957954807,
          0.5202248519497964,
          0.1113927806865942,
          0,
          0,
          0.4824159502480338,
          0.0536500606561022,
          0,
          1.5724978479391574,
          0.7042564078216003,
          0.2967532677559249,
          0.4367653632525883,
          0.08968991802496462,
          null,
          0.2436144059850866
         ],
         "yaxis": "y"
        },
        {
         "customdata": [
          [
           "Barbie Nation"
          ],
          [
           "Nasty Girls"
          ],
          [
           "Happy With Me"
          ],
          [
           "Tell Me How It Is"
          ],
          [
           "Running Behind"
          ],
          [
           "Money All Around"
          ],
          [
           "Monumental Glow"
          ],
          [
           "Plastered Smile"
          ],
          [
           "Best Friends"
          ],
          [
           "Diamonds On the Rebound"
          ],
          [
           "Regret You"
          ],
          [
           "U Make Me Sick"
          ],
          [
           "Over You"
          ],
          [
           "Number One"
          ],
          [
           "Hundred Thousand Hearts"
          ],
          [
           "Raining Romance"
          ],
          [
           "Haunt Me In The Night"
          ],
          [
           "Carmelo"
          ],
          [
           "Fight For Me"
          ],
          [
           "Patron Saint"
          ],
          [
           "Saturday"
          ],
          [
           "Wishing You Away"
          ]
         ],
         "hovertemplate": "artist=Holychild<br>danceability=%{x}<br>joy=%{y}<br>title=%{customdata[0]}<extra></extra>",
         "legendgroup": "Holychild",
         "marker": {
          "color": "#B6E880",
          "symbol": "circle"
         },
         "mode": "markers",
         "name": "Holychild",
         "orientation": "v",
         "showlegend": true,
         "type": "scatter",
         "x": [
          0.534,
          0.718,
          0.817,
          0.683,
          0.739,
          0.668,
          0.73,
          0.71,
          0.635,
          0.66,
          0.712,
          0.819,
          0.485,
          0.659,
          0.604,
          0.577,
          0.487,
          0.836,
          0.458,
          0.675,
          0.457,
          0.697
         ],
         "xaxis": "x",
         "y": [
          0.12213200461619222,
          0.45769552070670966,
          0.7754414742026889,
          0.04192861799256799,
          0.025163112573545574,
          0.38621148633347185,
          0.12449470831581333,
          0.26440620355721345,
          0.0985975794061491,
          0.0675756712037024,
          0.07423479259510161,
          0,
          0.23959414694931697,
          0.14164625314777557,
          0.08136137176992278,
          0.3885638812029521,
          0.05230136817933134,
          0.07806090807339497,
          0.10812666576916047,
          0.08760037452827953,
          0.18988246409273363,
          0.019691993803561462
         ],
         "yaxis": "y"
        }
       ],
       "layout": {
        "legend": {
         "title": {
          "text": "artist"
         },
         "tracegroupgap": 0
        },
        "template": {
         "data": {
          "bar": [
           {
            "error_x": {
             "color": "#2a3f5f"
            },
            "error_y": {
             "color": "#2a3f5f"
            },
            "marker": {
             "line": {
              "color": "#E5ECF6",
              "width": 0.5
             },
             "pattern": {
              "fillmode": "overlay",
              "size": 10,
              "solidity": 0.2
             }
            },
            "type": "bar"
           }
          ],
          "barpolar": [
           {
            "marker": {
             "line": {
              "color": "#E5ECF6",
              "width": 0.5
             },
             "pattern": {
              "fillmode": "overlay",
              "size": 10,
              "solidity": 0.2
             }
            },
            "type": "barpolar"
           }
          ],
          "carpet": [
           {
            "aaxis": {
             "endlinecolor": "#2a3f5f",
             "gridcolor": "white",
             "linecolor": "white",
             "minorgridcolor": "white",
             "startlinecolor": "#2a3f5f"
            },
            "baxis": {
             "endlinecolor": "#2a3f5f",
             "gridcolor": "white",
             "linecolor": "white",
             "minorgridcolor": "white",
             "startlinecolor": "#2a3f5f"
            },
            "type": "carpet"
           }
          ],
          "choropleth": [
           {
            "colorbar": {
             "outlinewidth": 0,
             "ticks": ""
            },
            "type": "choropleth"
           }
          ],
          "contour": [
           {
            "colorbar": {
             "outlinewidth": 0,
             "ticks": ""
            },
            "colorscale": [
             [
              0,
              "#0d0887"
             ],
             [
              0.1111111111111111,
              "#46039f"
             ],
             [
              0.2222222222222222,
              "#7201a8"
             ],
             [
              0.3333333333333333,
              "#9c179e"
             ],
             [
              0.4444444444444444,
              "#bd3786"
             ],
             [
              0.5555555555555556,
              "#d8576b"
             ],
             [
              0.6666666666666666,
              "#ed7953"
             ],
             [
              0.7777777777777778,
              "#fb9f3a"
             ],
             [
              0.8888888888888888,
              "#fdca26"
             ],
             [
              1,
              "#f0f921"
             ]
            ],
            "type": "contour"
           }
          ],
          "contourcarpet": [
           {
            "colorbar": {
             "outlinewidth": 0,
             "ticks": ""
            },
            "type": "contourcarpet"
           }
          ],
          "heatmap": [
           {
            "colorbar": {
             "outlinewidth": 0,
             "ticks": ""
            },
            "colorscale": [
             [
              0,
              "#0d0887"
             ],
             [
              0.1111111111111111,
              "#46039f"
             ],
             [
              0.2222222222222222,
              "#7201a8"
             ],
             [
              0.3333333333333333,
              "#9c179e"
             ],
             [
              0.4444444444444444,
              "#bd3786"
             ],
             [
              0.5555555555555556,
              "#d8576b"
             ],
             [
              0.6666666666666666,
              "#ed7953"
             ],
             [
              0.7777777777777778,
              "#fb9f3a"
             ],
             [
              0.8888888888888888,
              "#fdca26"
             ],
             [
              1,
              "#f0f921"
             ]
            ],
            "type": "heatmap"
           }
          ],
          "heatmapgl": [
           {
            "colorbar": {
             "outlinewidth": 0,
             "ticks": ""
            },
            "colorscale": [
             [
              0,
              "#0d0887"
             ],
             [
              0.1111111111111111,
              "#46039f"
             ],
             [
              0.2222222222222222,
              "#7201a8"
             ],
             [
              0.3333333333333333,
              "#9c179e"
             ],
             [
              0.4444444444444444,
              "#bd3786"
             ],
             [
              0.5555555555555556,
              "#d8576b"
             ],
             [
              0.6666666666666666,
              "#ed7953"
             ],
             [
              0.7777777777777778,
              "#fb9f3a"
             ],
             [
              0.8888888888888888,
              "#fdca26"
             ],
             [
              1,
              "#f0f921"
             ]
            ],
            "type": "heatmapgl"
           }
          ],
          "histogram": [
           {
            "marker": {
             "pattern": {
              "fillmode": "overlay",
              "size": 10,
              "solidity": 0.2
             }
            },
            "type": "histogram"
           }
          ],
          "histogram2d": [
           {
            "colorbar": {
             "outlinewidth": 0,
             "ticks": ""
            },
            "colorscale": [
             [
              0,
              "#0d0887"
             ],
             [
              0.1111111111111111,
              "#46039f"
             ],
             [
              0.2222222222222222,
              "#7201a8"
             ],
             [
              0.3333333333333333,
              "#9c179e"
             ],
             [
              0.4444444444444444,
              "#bd3786"
             ],
             [
              0.5555555555555556,
              "#d8576b"
             ],
             [
              0.6666666666666666,
              "#ed7953"
             ],
             [
              0.7777777777777778,
              "#fb9f3a"
             ],
             [
              0.8888888888888888,
              "#fdca26"
             ],
             [
              1,
              "#f0f921"
             ]
            ],
            "type": "histogram2d"
           }
          ],
          "histogram2dcontour": [
           {
            "colorbar": {
             "outlinewidth": 0,
             "ticks": ""
            },
            "colorscale": [
             [
              0,
              "#0d0887"
             ],
             [
              0.1111111111111111,
              "#46039f"
             ],
             [
              0.2222222222222222,
              "#7201a8"
             ],
             [
              0.3333333333333333,
              "#9c179e"
             ],
             [
              0.4444444444444444,
              "#bd3786"
             ],
             [
              0.5555555555555556,
              "#d8576b"
             ],
             [
              0.6666666666666666,
              "#ed7953"
             ],
             [
              0.7777777777777778,
              "#fb9f3a"
             ],
             [
              0.8888888888888888,
              "#fdca26"
             ],
             [
              1,
              "#f0f921"
             ]
            ],
            "type": "histogram2dcontour"
           }
          ],
          "mesh3d": [
           {
            "colorbar": {
             "outlinewidth": 0,
             "ticks": ""
            },
            "type": "mesh3d"
           }
          ],
          "parcoords": [
           {
            "line": {
             "colorbar": {
              "outlinewidth": 0,
              "ticks": ""
             }
            },
            "type": "parcoords"
           }
          ],
          "pie": [
           {
            "automargin": true,
            "type": "pie"
           }
          ],
          "scatter": [
           {
            "fillpattern": {
             "fillmode": "overlay",
             "size": 10,
             "solidity": 0.2
            },
            "type": "scatter"
           }
          ],
          "scatter3d": [
           {
            "line": {
             "colorbar": {
              "outlinewidth": 0,
              "ticks": ""
             }
            },
            "marker": {
             "colorbar": {
              "outlinewidth": 0,
              "ticks": ""
             }
            },
            "type": "scatter3d"
           }
          ],
          "scattercarpet": [
           {
            "marker": {
             "colorbar": {
              "outlinewidth": 0,
              "ticks": ""
             }
            },
            "type": "scattercarpet"
           }
          ],
          "scattergeo": [
           {
            "marker": {
             "colorbar": {
              "outlinewidth": 0,
              "ticks": ""
             }
            },
            "type": "scattergeo"
           }
          ],
          "scattergl": [
           {
            "marker": {
             "colorbar": {
              "outlinewidth": 0,
              "ticks": ""
             }
            },
            "type": "scattergl"
           }
          ],
          "scattermapbox": [
           {
            "marker": {
             "colorbar": {
              "outlinewidth": 0,
              "ticks": ""
             }
            },
            "type": "scattermapbox"
           }
          ],
          "scatterpolar": [
           {
            "marker": {
             "colorbar": {
              "outlinewidth": 0,
              "ticks": ""
             }
            },
            "type": "scatterpolar"
           }
          ],
          "scatterpolargl": [
           {
            "marker": {
             "colorbar": {
              "outlinewidth": 0,
              "ticks": ""
             }
            },
            "type": "scatterpolargl"
           }
          ],
          "scatterternary": [
           {
            "marker": {
             "colorbar": {
              "outlinewidth": 0,
              "ticks": ""
             }
            },
            "type": "scatterternary"
           }
          ],
          "surface": [
           {
            "colorbar": {
             "outlinewidth": 0,
             "ticks": ""
            },
            "colorscale": [
             [
              0,
              "#0d0887"
             ],
             [
              0.1111111111111111,
              "#46039f"
             ],
             [
              0.2222222222222222,
              "#7201a8"
             ],
             [
              0.3333333333333333,
              "#9c179e"
             ],
             [
              0.4444444444444444,
              "#bd3786"
             ],
             [
              0.5555555555555556,
              "#d8576b"
             ],
             [
              0.6666666666666666,
              "#ed7953"
             ],
             [
              0.7777777777777778,
              "#fb9f3a"
             ],
             [
              0.8888888888888888,
              "#fdca26"
             ],
             [
              1,
              "#f0f921"
             ]
            ],
            "type": "surface"
           }
          ],
          "table": [
           {
            "cells": {
             "fill": {
              "color": "#EBF0F8"
             },
             "line": {
              "color": "white"
             }
            },
            "header": {
             "fill": {
              "color": "#C8D4E3"
             },
             "line": {
              "color": "white"
             }
            },
            "type": "table"
           }
          ]
         },
         "layout": {
          "annotationdefaults": {
           "arrowcolor": "#2a3f5f",
           "arrowhead": 0,
           "arrowwidth": 1
          },
          "autotypenumbers": "strict",
          "coloraxis": {
           "colorbar": {
            "outlinewidth": 0,
            "ticks": ""
           }
          },
          "colorscale": {
           "diverging": [
            [
             0,
             "#8e0152"
            ],
            [
             0.1,
             "#c51b7d"
            ],
            [
             0.2,
             "#de77ae"
            ],
            [
             0.3,
             "#f1b6da"
            ],
            [
             0.4,
             "#fde0ef"
            ],
            [
             0.5,
             "#f7f7f7"
            ],
            [
             0.6,
             "#e6f5d0"
            ],
            [
             0.7,
             "#b8e186"
            ],
            [
             0.8,
             "#7fbc41"
            ],
            [
             0.9,
             "#4d9221"
            ],
            [
             1,
             "#276419"
            ]
           ],
           "sequential": [
            [
             0,
             "#0d0887"
            ],
            [
             0.1111111111111111,
             "#46039f"
            ],
            [
             0.2222222222222222,
             "#7201a8"
            ],
            [
             0.3333333333333333,
             "#9c179e"
            ],
            [
             0.4444444444444444,
             "#bd3786"
            ],
            [
             0.5555555555555556,
             "#d8576b"
            ],
            [
             0.6666666666666666,
             "#ed7953"
            ],
            [
             0.7777777777777778,
             "#fb9f3a"
            ],
            [
             0.8888888888888888,
             "#fdca26"
            ],
            [
             1,
             "#f0f921"
            ]
           ],
           "sequentialminus": [
            [
             0,
             "#0d0887"
            ],
            [
             0.1111111111111111,
             "#46039f"
            ],
            [
             0.2222222222222222,
             "#7201a8"
            ],
            [
             0.3333333333333333,
             "#9c179e"
            ],
            [
             0.4444444444444444,
             "#bd3786"
            ],
            [
             0.5555555555555556,
             "#d8576b"
            ],
            [
             0.6666666666666666,
             "#ed7953"
            ],
            [
             0.7777777777777778,
             "#fb9f3a"
            ],
            [
             0.8888888888888888,
             "#fdca26"
            ],
            [
             1,
             "#f0f921"
            ]
           ]
          },
          "colorway": [
           "#636efa",
           "#EF553B",
           "#00cc96",
           "#ab63fa",
           "#FFA15A",
           "#19d3f3",
           "#FF6692",
           "#B6E880",
           "#FF97FF",
           "#FECB52"
          ],
          "font": {
           "color": "#2a3f5f"
          },
          "geo": {
           "bgcolor": "white",
           "lakecolor": "white",
           "landcolor": "#E5ECF6",
           "showlakes": true,
           "showland": true,
           "subunitcolor": "white"
          },
          "hoverlabel": {
           "align": "left"
          },
          "hovermode": "closest",
          "mapbox": {
           "style": "light"
          },
          "paper_bgcolor": "white",
          "plot_bgcolor": "#E5ECF6",
          "polar": {
           "angularaxis": {
            "gridcolor": "white",
            "linecolor": "white",
            "ticks": ""
           },
           "bgcolor": "#E5ECF6",
           "radialaxis": {
            "gridcolor": "white",
            "linecolor": "white",
            "ticks": ""
           }
          },
          "scene": {
           "xaxis": {
            "backgroundcolor": "#E5ECF6",
            "gridcolor": "white",
            "gridwidth": 2,
            "linecolor": "white",
            "showbackground": true,
            "ticks": "",
            "zerolinecolor": "white"
           },
           "yaxis": {
            "backgroundcolor": "#E5ECF6",
            "gridcolor": "white",
            "gridwidth": 2,
            "linecolor": "white",
            "showbackground": true,
            "ticks": "",
            "zerolinecolor": "white"
           },
           "zaxis": {
            "backgroundcolor": "#E5ECF6",
            "gridcolor": "white",
            "gridwidth": 2,
            "linecolor": "white",
            "showbackground": true,
            "ticks": "",
            "zerolinecolor": "white"
           }
          },
          "shapedefaults": {
           "line": {
            "color": "#2a3f5f"
           }
          },
          "ternary": {
           "aaxis": {
            "gridcolor": "white",
            "linecolor": "white",
            "ticks": ""
           },
           "baxis": {
            "gridcolor": "white",
            "linecolor": "white",
            "ticks": ""
           },
           "bgcolor": "#E5ECF6",
           "caxis": {
            "gridcolor": "white",
            "linecolor": "white",
            "ticks": ""
           }
          },
          "title": {
           "x": 0.05
          },
          "xaxis": {
           "automargin": true,
           "gridcolor": "white",
           "linecolor": "white",
           "ticks": "",
           "title": {
            "standoff": 15
           },
           "zerolinecolor": "white",
           "zerolinewidth": 2
          },
          "yaxis": {
           "automargin": true,
           "gridcolor": "white",
           "linecolor": "white",
           "ticks": "",
           "title": {
            "standoff": 15
           },
           "zerolinecolor": "white",
           "zerolinewidth": 2
          }
         }
        },
        "title": {
         "text": "Song Joy vs. Danceability"
        },
        "xaxis": {
         "anchor": "y",
         "domain": [
          0,
          1
         ],
         "title": {
          "text": "danceability"
         }
        },
        "yaxis": {
         "anchor": "x",
         "domain": [
          0,
          1
         ],
         "title": {
          "text": "joy"
         }
        }
       }
      }
     },
     "metadata": {},
     "output_type": "display_data"
    }
   ],
   "source": [
    "px.scatter(SONG_LIB, x='danceability', y='joy', color='artist', title='Song Joy vs. Danceability', hover_data='title')"
   ]
  },
  {
   "cell_type": "code",
   "execution_count": 55,
   "metadata": {},
   "outputs": [
    {
     "data": {
      "application/vnd.plotly.v1+json": {
       "config": {
        "plotlyServerURL": "https://plot.ly"
       },
       "data": [
        {
         "customdata": [
          [
           "45:33"
          ],
          [
           "Freak Out / Starry Eyes"
          ],
          [
           "Daft Punk Is Playing at My House"
          ],
          [
           "Too Much Love"
          ],
          [
           "Tribulations"
          ],
          [
           "Movement"
          ],
          [
           "Never as Tired as When I'm Waking Up"
          ],
          [
           "On Repeat"
          ],
          [
           "Thrills"
          ],
          [
           "Disco Infiltrator"
          ],
          [
           "Great Release"
          ],
          [
           "Losing My Edge"
          ],
          [
           "Beat Connection"
          ],
          [
           "Give It Up"
          ],
          [
           "Tired"
          ],
          [
           "Yeah"
          ],
          [
           "Yeah - Pretentious Mix"
          ],
          [
           "Yr City's a Sucker"
          ],
          [
           "Get Innocuous!"
          ],
          [
           "Time to Get Away"
          ],
          [
           "North American Scum"
          ],
          [
           "Someone Great"
          ],
          [
           "All My Friends"
          ],
          [
           "Us V Them"
          ],
          [
           "Watch the Tapes"
          ],
          [
           "Sound of Silver"
          ],
          [
           "New York, I Love You but You're Bringing Me Down"
          ],
          [
           "Dance Yrself Clean"
          ],
          [
           "Drunk Girls"
          ],
          [
           "One Touch"
          ],
          [
           "All I Want"
          ],
          [
           "I Can Change"
          ],
          [
           "You Wanted a Hit"
          ],
          [
           "Pow Pow"
          ],
          [
           "Somebody's Calling Me"
          ],
          [
           "Home"
          ],
          [
           "oh baby"
          ],
          [
           "other voices"
          ],
          [
           "i used to"
          ],
          [
           "change yr mind"
          ],
          [
           "how do you sleep?"
          ],
          [
           "tonite"
          ],
          [
           "call the police"
          ],
          [
           "american dream"
          ],
          [
           "emotional haircut"
          ],
          [
           "black screen"
          ]
         ],
         "hovertemplate": "artist=LCD Soundsystem<br>danceability=%{x}<br>sadness=%{y}<br>title=%{customdata[0]}<extra></extra>",
         "legendgroup": "LCD Soundsystem",
         "marker": {
          "color": "#636efa",
          "symbol": "circle"
         },
         "mode": "markers",
         "name": "LCD Soundsystem",
         "orientation": "v",
         "showlegend": true,
         "type": "scatter",
         "x": [
          0.478,
          0.772,
          0.92,
          0.696,
          0.694,
          0.588,
          0.647,
          0.827,
          0.682,
          0.828,
          0.602,
          0.769,
          0.745,
          0.742,
          0.189,
          0.705,
          0.648,
          0.765,
          0.696,
          0.911,
          0.882,
          0.722,
          0.701,
          0.72,
          0.828,
          0.865,
          0.39,
          0.739,
          0.599,
          0.696,
          0.53,
          0.644,
          0.968,
          0.79,
          0.716,
          0.752,
          0.581,
          0.722,
          0.625,
          0.762,
          0.64,
          0.766,
          0.38,
          0.291,
          0.626,
          0.584
         ],
         "xaxis": "x",
         "y": [
          0.06316812656803969,
          1.0684973143750216,
          0.059172506588314466,
          0,
          0.13865314953977015,
          0.16114964089612124,
          0.02178624106206124,
          0.8608583825360239,
          0,
          0.5437354304265672,
          0.28563582787480407,
          0.2395498832251483,
          0.11156171737119254,
          0.6646699911989805,
          0,
          null,
          null,
          0.12222374968710925,
          0.20167730842148382,
          0.19545375572023277,
          0.039645265711825806,
          0.10083865421074191,
          0.04687378142509341,
          0,
          0.048618187046329656,
          null,
          0.20095400102684297,
          0.13588485547930293,
          0.03391625728773971,
          0,
          0.07394834642121074,
          0.07324202459006231,
          0.16873254803486143,
          0.045065254284230374,
          0.309122184171786,
          0.10109524508555638,
          0.27446298460222657,
          0.1322454686877273,
          0.32872021545112895,
          0.2665734530637079,
          0,
          0.13349697639140348,
          0.09350272043318356,
          0.08720077878943831,
          0.09089535559472427,
          0.7885878660130468
         ],
         "yaxis": "y"
        },
        {
         "customdata": [
          [
           "Burn the Witch"
          ],
          [
           "Daydreaming"
          ],
          [
           "Decks Dark"
          ],
          [
           "Desert Island Disk"
          ],
          [
           "Ful Stop"
          ],
          [
           "Glass Eyes"
          ],
          [
           "Identikit"
          ],
          [
           "The Numbers"
          ],
          [
           "Present Tense"
          ],
          [
           "Tinker Tailor Soldier Sailor Rich Man Poor Man Beggar Man Thief"
          ],
          [
           "True Love Waits"
          ],
          [
           "Packt Like Sardines In a Crushd Tin Box"
          ],
          [
           "Pyramid Song"
          ],
          [
           "Pulk/Pull Revolving Doors"
          ],
          [
           "You And Whose Army?"
          ],
          [
           "I Might Be Wrong"
          ],
          [
           "Knives Out"
          ],
          [
           "Morning Bell/Amnesiac"
          ],
          [
           "Dollars and Cents"
          ],
          [
           "Like Spinning Plates"
          ],
          [
           "Life In a Glasshouse"
          ],
          [
           "2 + 2 = 5"
          ],
          [
           "Sit Down. Stand Up"
          ],
          [
           "Sail To The Moon"
          ],
          [
           "Backdrifts"
          ],
          [
           "Go To Sleep"
          ],
          [
           "Where I End and You Begin"
          ],
          [
           "We Suck Young Blood"
          ],
          [
           "The Gloaming"
          ],
          [
           "There, There"
          ],
          [
           "I Will"
          ],
          [
           "A Punch Up at a Wedding"
          ],
          [
           "Myxomatosis"
          ],
          [
           "Scatterbrain"
          ],
          [
           "A Wolf At the Door"
          ],
          [
           "15 Step"
          ],
          [
           "Bodysnatchers"
          ],
          [
           "Nude"
          ],
          [
           "Weird Fishes/ Arpeggi"
          ],
          [
           "All I Need"
          ],
          [
           "Faust Arp"
          ],
          [
           "Reckoner"
          ],
          [
           "House Of Cards"
          ],
          [
           "Jigsaw Falling Into Place"
          ],
          [
           "Videotape"
          ],
          [
           "Everything In Its Right Place"
          ],
          [
           "Kid A"
          ],
          [
           "The National Anthem"
          ],
          [
           "How to Disappear Completely"
          ],
          [
           "Optimistic"
          ],
          [
           "In Limbo"
          ],
          [
           "Idioteque"
          ],
          [
           "Morning Bell"
          ],
          [
           "Motion Picture Soundtrack"
          ],
          [
           "Airbag"
          ],
          [
           "Paranoid Android"
          ],
          [
           "Subterranean Homesick Alien"
          ],
          [
           "Exit Music (For A Film)"
          ],
          [
           "Let Down"
          ],
          [
           "Karma Police"
          ],
          [
           "Fitter Happier"
          ],
          [
           "Electioneering"
          ],
          [
           "Climbing Up the Walls"
          ],
          [
           "No Surprises"
          ],
          [
           "Lucky"
          ],
          [
           "The Tourist"
          ],
          [
           "You"
          ],
          [
           "Creep"
          ],
          [
           "How Do You?"
          ],
          [
           "Stop Whispering"
          ],
          [
           "Thinking About You"
          ],
          [
           "Anyone Can Play Guitar"
          ],
          [
           "Ripcord"
          ],
          [
           "Vegetable"
          ],
          [
           "Prove Yourself"
          ],
          [
           "I Can't"
          ],
          [
           "Lurgee"
          ],
          [
           "Blow Out"
          ],
          [
           "Planet Telex"
          ],
          [
           "The Bends"
          ],
          [
           "High and Dry"
          ],
          [
           "Fake Plastic Trees"
          ],
          [
           "Bones"
          ],
          [
           "(Nice Dream)"
          ],
          [
           "Just"
          ],
          [
           "My Iron Lung"
          ],
          [
           "Bullet Proof ... I Wish I Was"
          ],
          [
           "Black Star"
          ],
          [
           "Sulk"
          ],
          [
           "Street Spirit (Fade Out)"
          ],
          [
           "Bloom"
          ],
          [
           "Morning Mr Magpie"
          ],
          [
           "Little By Little"
          ],
          [
           "Feral"
          ],
          [
           "Lotus Flower"
          ],
          [
           "Codex"
          ],
          [
           "Give Up The Ghost"
          ],
          [
           "Separator"
          ]
         ],
         "hovertemplate": "artist=Radiohead<br>danceability=%{x}<br>sadness=%{y}<br>title=%{customdata[0]}<extra></extra>",
         "legendgroup": "Radiohead",
         "marker": {
          "color": "#EF553B",
          "symbol": "circle"
         },
         "mode": "markers",
         "name": "Radiohead",
         "orientation": "v",
         "showlegend": true,
         "type": "scatter",
         "x": [
          0.54,
          0.214,
          0.557,
          0.56,
          0.425,
          0.237,
          0.692,
          0.282,
          0.462,
          0.355,
          0.401,
          0.666,
          0.12,
          0.58,
          0.295,
          0.602,
          0.432,
          0.319,
          0.327,
          0.492,
          0.252,
          0.442,
          0.484,
          0.371,
          0.718,
          0.288,
          0.298,
          0.164,
          0.345,
          0.614,
          0.27,
          0.604,
          0.498,
          0.491,
          0.423,
          0.598,
          0.342,
          0.516,
          0.531,
          0.67,
          0.337,
          0.523,
          0.708,
          0.462,
          0.596,
          0.296,
          0.63,
          0.488,
          0.167,
          0.402,
          0.366,
          0.615,
          0.646,
          0.112,
          0.305,
          0.251,
          0.312,
          0.293,
          0.351,
          0.36,
          0.432,
          0.201,
          0.243,
          0.255,
          0.213,
          0.241,
          0.222,
          0.515,
          0.185,
          0.212,
          0.365,
          0.293,
          0.255,
          0.382,
          0.25,
          0.27,
          0.42,
          0.271,
          0.429,
          0.23,
          0.419,
          0.463,
          0.336,
          0.263,
          0.291,
          0.242,
          0.45,
          0.289,
          0.105,
          0.488,
          0.519,
          0.648,
          0.618,
          0.49,
          0.721,
          0.346,
          0.305,
          0.694
         ],
         "xaxis": "x",
         "y": [
          0.46076077944599736,
          0.05546125981590806,
          0.2767717037205608,
          0,
          0,
          0,
          1.5606745558493893,
          0.26969959668022336,
          0.5503065492020943,
          0.24649448807070246,
          0.991377153646694,
          6.238300184030057,
          null,
          null,
          0.5280790511508731,
          0,
          0,
          null,
          0.5177543364479079,
          0,
          0.4644901414064672,
          0.17264192681812449,
          0.1940775313820595,
          null,
          1.7636604149013357,
          0,
          0.050526140113764724,
          0,
          0,
          0.30888350584519164,
          0.18581347696741932,
          0.026948921211259573,
          0.14264973806385411,
          0.2978670257518816,
          0.021404400053819436,
          null,
          0.26483607705360973,
          0.7052230458012746,
          0.6927962966340901,
          0,
          0.0549908355234243,
          0,
          0.3346950937070421,
          0.2961994655901447,
          0,
          null,
          0.2383524693482488,
          null,
          0.2396486516826736,
          0,
          0.34182040507777833,
          0.06419160312928758,
          0,
          1.9362898542198677,
          0,
          0,
          0.09893887352564441,
          1.0865177617214685,
          0.6370160474001267,
          1.1129401081292878,
          0.18345706774878437,
          0,
          0.16402146916398633,
          0.14164745798077685,
          0.6494865857211062,
          0.4043281903792907,
          0,
          0.1733724703981593,
          0,
          0.13804816339154913,
          0,
          0.15976576778844911,
          1.3852283171981308,
          0.1464786570958836,
          0.14060326736901513,
          0.1494363325536081,
          null,
          0.7635131758880488,
          0.7603286297727795,
          0.07505773375496792,
          0.45237944972605737,
          0.1261608471565214,
          0.318133744581535,
          0,
          0.20082386846220035,
          0.14364863302046438,
          0,
          0.5215754667091257,
          0.05957340515037632,
          0.0327165675894959,
          0.885228317198131,
          0,
          0.5915110890444655,
          null,
          0.5845539272033631,
          0.6639212378985982,
          1.8708809229919117,
          0.17778466654350214
         ],
         "yaxis": "y"
        },
        {
         "customdata": [
          [
           "The Strangers"
          ],
          [
           "Save Me from What I Want"
          ],
          [
           "The Neighbors"
          ],
          [
           "Actor Out of Work"
          ],
          [
           "Black Rainbow"
          ],
          [
           "Laughing with a Mouth of Blood"
          ],
          [
           "Marrow"
          ],
          [
           "The Bed"
          ],
          [
           "The Party"
          ],
          [
           "Just the Same But Brand New"
          ],
          [
           "The Sequel"
          ],
          [
           "Pay Your Way In Pain"
          ],
          [
           "Down And Out Downtown"
          ],
          [
           "Daddy's Home"
          ],
          [
           "Live In The Dream"
          ],
          [
           "The Melting Of The Sun"
          ],
          [
           "Humming - Interlude 1"
          ],
          [
           "The Laughing Man"
          ],
          [
           "Down"
          ],
          [
           "Somebody Like Me"
          ],
          [
           "My Baby Wants A Baby"
          ],
          [
           "…At The Holiday Party"
          ],
          [
           "Candy Darling"
          ],
          [
           "Humming - Interlude 3"
          ],
          [
           "Who"
          ],
          [
           "Weekend in the Dust"
          ],
          [
           "Dinner for Two"
          ],
          [
           "Ice Age"
          ],
          [
           "I Am an Ape"
          ],
          [
           "The Forest Awakes"
          ],
          [
           "I Should Watch TV"
          ],
          [
           "Lazarus"
          ],
          [
           "Optimist"
          ],
          [
           "Lightning"
          ],
          [
           "The One Who Broke Your Heart"
          ],
          [
           "Outside of Space and Time"
          ],
          [
           "Hang On Me"
          ],
          [
           "Pills"
          ],
          [
           "Masseduction"
          ],
          [
           "Sugarboy"
          ],
          [
           "Los Ageless"
          ],
          [
           "Happy Birthday, Johnny"
          ],
          [
           "Savior"
          ],
          [
           "New York"
          ],
          [
           "Fear The Future"
          ],
          [
           "Young Lover"
          ],
          [
           "Slow Disco"
          ],
          [
           "Smoking Section"
          ],
          [
           "Now, Now"
          ],
          [
           "Jesus Saves, I Spend"
          ],
          [
           "Your Lips Are Red"
          ],
          [
           "Marry Me"
          ],
          [
           "Paris Is Burning"
          ],
          [
           "All My Stars Aligned"
          ],
          [
           "The Apocalypse Song"
          ],
          [
           "Landmines"
          ],
          [
           "Human Racing"
          ],
          [
           "What Me Worry"
          ],
          [
           "Rattlesnake"
          ],
          [
           "Birth In Reverse"
          ],
          [
           "Prince Johnny"
          ],
          [
           "Huey Newton"
          ],
          [
           "Digital Witness"
          ],
          [
           "I Prefer Your Love"
          ],
          [
           "Regret"
          ],
          [
           "Bring Me Your Loves"
          ],
          [
           "Psychopath"
          ],
          [
           "Every Tear Disappears"
          ],
          [
           "Severed Crossed Fingers"
          ],
          [
           "Bad Believer"
          ],
          [
           "Pieta"
          ],
          [
           "Sparrow"
          ],
          [
           "Del Rio"
          ],
          [
           "Digital Witness - DARKSIDE Remix"
          ],
          [
           "Chloe In The Afternoon"
          ],
          [
           "Cruel"
          ],
          [
           "Cheerleader"
          ],
          [
           "Surgeon"
          ],
          [
           "Northern Lights"
          ],
          [
           "Strange Mercy"
          ],
          [
           "Neutered Fruit"
          ],
          [
           "Champagne Year"
          ],
          [
           "Dilettante"
          ],
          [
           "Hysterical Strength"
          ],
          [
           "Year Of The Tiger"
          ]
         ],
         "hovertemplate": "artist=St. Vincent<br>danceability=%{x}<br>sadness=%{y}<br>title=%{customdata[0]}<extra></extra>",
         "legendgroup": "St. Vincent",
         "marker": {
          "color": "#00cc96",
          "symbol": "circle"
         },
         "mode": "markers",
         "name": "St. Vincent",
         "orientation": "v",
         "showlegend": true,
         "type": "scatter",
         "x": [
          0.529,
          0.665,
          0.439,
          0.556,
          0.465,
          0.658,
          0.64,
          0.352,
          0.465,
          0.339,
          0.217,
          0.677,
          0.61,
          0.774,
          0.426,
          0.52,
          0.422,
          0.641,
          0.713,
          0.525,
          0.532,
          0.604,
          0.39,
          0.347,
          0.687,
          0.83,
          0.716,
          0.763,
          0.663,
          0.753,
          0.659,
          0.848,
          0.611,
          0.722,
          0.706,
          0.287,
          0.539,
          0.549,
          0.696,
          0.625,
          0.527,
          0.506,
          0.658,
          0.373,
          0.472,
          0.447,
          0.26,
          0.593,
          0.48,
          0.602,
          0.521,
          0.495,
          0.586,
          0.442,
          0.52,
          0.437,
          0.677,
          0.442,
          0.698,
          0.571,
          0.524,
          0.643,
          0.782,
          0.607,
          0.458,
          0.241,
          0.768,
          0.684,
          0.488,
          0.518,
          0.709,
          0.497,
          0.583,
          0.768,
          0.515,
          0.57,
          0.447,
          0.496,
          0.4,
          0.642,
          0.575,
          0.172,
          0.626,
          0.53,
          0.519
         ],
         "xaxis": "x",
         "y": [
          0.7594835047300348,
          0,
          0,
          0.19108662191566136,
          0.0762031979700978,
          0.14722312170165636,
          null,
          0,
          0.4722180495492744,
          null,
          null,
          0.1475107139381025,
          0.27169630760535257,
          0.0373226021888576,
          0.15518388380567,
          0.126980264528811,
          null,
          0,
          0.2181807577059695,
          0,
          0.14453417558863918,
          0,
          0.3101916537559836,
          1.1982432584133682,
          0.2745418433579002,
          0.0336095801212401,
          0.30797903599212956,
          0.6661166745392777,
          0.09758469825043423,
          0.04608394638514766,
          0.08236527211732753,
          0.1089312053103062,
          0.672640740246763,
          0,
          0.5203231857546925,
          0.24266367425569635,
          0.3949909105223136,
          0.011440673093482026,
          0.0354739025033214,
          0.20036956511081674,
          0.0516810136718008,
          0,
          0.09383197706667305,
          0.5634857586736709,
          0.15380587833558787,
          0,
          0.5814477104530146,
          0.0599121629206684,
          0.0887587598824717,
          0.6153110491495516,
          0.5383896807720429,
          0.21857897219634898,
          0.559313668859282,
          0.35127136642869905,
          0.08746868147775416,
          0,
          0.08225236205175566,
          0.33108971462431935,
          0,
          0.178888506925337,
          0,
          0,
          0,
          0.05946697999714908,
          0.10873174074736315,
          0,
          0.3994144194711227,
          0.6191636935841092,
          0.020138542158207855,
          0.35340473024195074,
          0.18661301094428803,
          0.5453059601424876,
          0,
          0,
          0.24562854161271422,
          2.4254128191972435,
          0.1097851938408906,
          0.06656906991185375,
          0,
          0.27868671589814326,
          0,
          0.3464158023668438,
          0,
          0.045442163345207294,
          0
         ],
         "yaxis": "y"
        },
        {
         "customdata": [
          [
           "Secret Meeting"
          ],
          [
           "Karen"
          ],
          [
           "Lit Up"
          ],
          [
           "Looking for Astronauts"
          ],
          [
           "Daughters of the Soho Riots"
          ],
          [
           "Baby We'll Be Fine"
          ],
          [
           "Friend of Mine"
          ],
          [
           "Val Jester"
          ],
          [
           "All the Wine"
          ],
          [
           "Abel"
          ],
          [
           "The Geese of Beverly Road"
          ],
          [
           "City Middle"
          ],
          [
           "Mr. November"
          ],
          [
           "Fake Empire"
          ],
          [
           "Mistaken for Strangers"
          ],
          [
           "Brainy"
          ],
          [
           "Squalor Victoria"
          ],
          [
           "Green Gloves"
          ],
          [
           "Slow Show"
          ],
          [
           "Apartment Story"
          ],
          [
           "Start a War"
          ],
          [
           "Guest Room"
          ],
          [
           "Racing Like a Pro"
          ],
          [
           "Ada"
          ],
          [
           "Gospel"
          ],
          [
           "Terrible Love"
          ],
          [
           "Sorrow"
          ],
          [
           "Anyone's Ghost"
          ],
          [
           "Little Faith"
          ],
          [
           "Afraid of Everyone"
          ],
          [
           "Bloodbuzz Ohio"
          ],
          [
           "Lemonworld"
          ],
          [
           "Runaway"
          ],
          [
           "Conversation 16"
          ],
          [
           "England"
          ],
          [
           "Vanderlyle Crybaby Geeks"
          ],
          [
           "Nobody Else Will Be There"
          ],
          [
           "Day I Die"
          ],
          [
           "Walk It Back"
          ],
          [
           "The System Only Dreams in Total Darkness"
          ],
          [
           "Born to Beg"
          ],
          [
           "Turtleneck"
          ],
          [
           "Empire Line"
          ],
          [
           "I'll Still Destroy You"
          ],
          [
           "Guilty Party"
          ],
          [
           "Carin at the Liquor Store"
          ],
          [
           "Dark Side of the Gym"
          ],
          [
           "Sleep Well Beast"
          ],
          [
           "I Should Live in Salt"
          ],
          [
           "Demons"
          ],
          [
           "Don't Swallow the Cap"
          ],
          [
           "Fireproof"
          ],
          [
           "Sea of Love"
          ],
          [
           "Heavenfaced"
          ],
          [
           "This is the Last Time"
          ],
          [
           "Graceless"
          ],
          [
           "Slipped"
          ],
          [
           "I Need My Girl"
          ],
          [
           "Humiliation"
          ],
          [
           "Pink Rabbits"
          ],
          [
           "Hard to Find"
          ]
         ],
         "hovertemplate": "artist=The National<br>danceability=%{x}<br>sadness=%{y}<br>title=%{customdata[0]}<extra></extra>",
         "legendgroup": "The National",
         "marker": {
          "color": "#ab63fa",
          "symbol": "circle"
         },
         "mode": "markers",
         "name": "The National",
         "orientation": "v",
         "showlegend": true,
         "type": "scatter",
         "x": [
          0.622,
          0.659,
          0.428,
          0.499,
          0.563,
          0.46,
          0.655,
          0.473,
          0.604,
          0.342,
          0.538,
          0.529,
          0.416,
          0.325,
          0.539,
          0.505,
          0.553,
          0.534,
          0.575,
          0.55,
          0.655,
          0.576,
          0.353,
          0.557,
          0.575,
          0.304,
          0.55,
          0.745,
          0.419,
          0.527,
          0.402,
          0.648,
          0.583,
          0.554,
          0.49,
          0.464,
          0.657,
          0.432,
          0.727,
          0.596,
          0.528,
          0.427,
          0.593,
          0.536,
          0.368,
          0.54,
          0.642,
          0.451,
          0.519,
          0.54,
          0.45,
          0.483,
          0.459,
          0.505,
          0.503,
          0.441,
          0.452,
          0.52,
          0.47,
          0.502,
          0.488
         ],
         "xaxis": "x",
         "y": [
          0.2152202550489715,
          0.29761886765183676,
          0.305830182842481,
          0.8006072146876194,
          0.1590668722907675,
          0.04468361202045848,
          0.0691930668182906,
          0,
          0.09144383756411738,
          0.4717719349635507,
          0.06296492350900594,
          0,
          0.10199771920167,
          0.5678316047336875,
          0.09928900858396054,
          0,
          0,
          0.13084340739216604,
          0.0515889144317557,
          0.4105609695334162,
          0.5826945212840084,
          0.37894654084970386,
          0,
          0.41436385719817237,
          0.604134271620179,
          2.2871102972541877,
          0.8190269950022888,
          0,
          0.3877395671949795,
          0.05311369903188785,
          0,
          0.07777295648806792,
          0.0760789370421186,
          0.505698608448208,
          0.1824374418615868,
          0.5011852602221747,
          0.2322668462092741,
          0.48501765562952587,
          0.17335457892884862,
          0.4016159600981086,
          1.1246725678358869,
          0.15946972469815276,
          0,
          0.15246540168283895,
          0.5412424428313188,
          0.0654668905734776,
          0,
          0.22308291910404643,
          0.4445109149523068,
          0.04530578737904476,
          0.16568205769409367,
          0.2965644679606226,
          0.1743338829321804,
          0.08920781892181671,
          0.12045182422973787,
          0.21489987721402018,
          0.1967718678237925,
          0.11705328142673264,
          0.25775810065703764,
          0.14790518525450053,
          0.08007627860080511
         ],
         "yaxis": "y"
        },
        {
         "customdata": [
          [
           "Dark Saturday"
          ],
          [
           "Love You Back"
          ],
          [
           "Die Happy"
          ],
          [
           "Now or Never Now"
          ],
          [
           "Art of Doubt"
          ],
          [
           "Underline the Black"
          ],
          [
           "Dressed to Suppress"
          ],
          [
           "Risk"
          ],
          [
           "Seven Rules"
          ],
          [
           "Holding Out"
          ],
          [
           "Anticipate"
          ],
          [
           "No Lights on the Horizon"
          ],
          [
           "Help I'm Alive"
          ],
          [
           "Sick Muse"
          ],
          [
           "Satellite Mind"
          ],
          [
           "Twilight Galaxy"
          ],
          [
           "Gold Guns Girls"
          ],
          [
           "Gimme Sympathy"
          ],
          [
           "Collect Call"
          ],
          [
           "Front Row"
          ],
          [
           "Blindness"
          ],
          [
           "Stadium Love"
          ],
          [
           "Doomscroller"
          ],
          [
           "All Comes Crashing"
          ],
          [
           "What Feels Like Eternity"
          ],
          [
           "Formentera"
          ],
          [
           "Enemies of the Ocean"
          ],
          [
           "I Will Never Settle"
          ],
          [
           "False Dichotomy"
          ],
          [
           "Oh Please"
          ],
          [
           "Paths in the Sky"
          ],
          [
           "Detour Up"
          ],
          [
           "Just The Once"
          ],
          [
           "Stone Window"
          ],
          [
           "Days Of Oblivion"
          ],
          [
           "Who Would You Be For Me"
          ],
          [
           "Suckers"
          ],
          [
           "Nothing Is Perfect"
          ],
          [
           "Descendants"
          ],
          [
           "Go Ahead And Cry"
          ],
          [
           "Grow Up and Blow Away"
          ],
          [
           "Hardwire"
          ],
          [
           "Rock Me Now"
          ],
          [
           "The Twist"
          ],
          [
           "On the Sly"
          ],
          [
           "Soft Rock Star"
          ],
          [
           "Raw Sugar"
          ],
          [
           "White Gold"
          ],
          [
           "London Halflife"
          ],
          [
           "Soft Rock Star [Jimmy vs. Joe Mix]"
          ],
          [
           "Empty"
          ],
          [
           "Glass Ceiling"
          ],
          [
           "Handshakes"
          ],
          [
           "Too Little Too Late"
          ],
          [
           "Poster Of A Girl"
          ],
          [
           "Monster Hospital"
          ],
          [
           "Patriarch On a Vespa"
          ],
          [
           "The Police and the Private"
          ],
          [
           "Ending Start"
          ],
          [
           "Live It Out"
          ],
          [
           "IOU"
          ],
          [
           "Hustle Rose"
          ],
          [
           "Succexy"
          ],
          [
           "Combat Baby"
          ],
          [
           "Calculation Theme"
          ],
          [
           "Wet Blanket"
          ],
          [
           "On a Slow Night"
          ],
          [
           "The List"
          ],
          [
           "Dead Disco"
          ],
          [
           "Love Is A Place"
          ],
          [
           "Lie Lie Lie"
          ],
          [
           "Fortunes"
          ],
          [
           "The Shade"
          ],
          [
           "Celebrate"
          ],
          [
           "Cascades"
          ],
          [
           "For Kicks"
          ],
          [
           "Too Bad, So Sad"
          ],
          [
           "Other Side"
          ],
          [
           "Blind Valentine"
          ],
          [
           "The Governess"
          ],
          [
           "The Face Part I"
          ],
          [
           "The Shade - Acoustic"
          ],
          [
           "Artificial Nocturne"
          ],
          [
           "Youth Without Youth"
          ],
          [
           "Speed The Collapse"
          ],
          [
           "Breathing Underwater"
          ],
          [
           "Dreams So Real"
          ],
          [
           "Lost Kitten"
          ],
          [
           "The Void"
          ],
          [
           "Synthetica"
          ],
          [
           "Clone"
          ],
          [
           "The Wanderlust"
          ],
          [
           "Nothing But Time"
          ]
         ],
         "hovertemplate": "artist=Metric<br>danceability=%{x}<br>sadness=%{y}<br>title=%{customdata[0]}<extra></extra>",
         "legendgroup": "Metric",
         "marker": {
          "color": "#FFA15A",
          "symbol": "circle"
         },
         "mode": "markers",
         "name": "Metric",
         "orientation": "v",
         "showlegend": true,
         "type": "scatter",
         "x": [
          0.512,
          0.573,
          0.539,
          0.531,
          0.388,
          0.55,
          0.393,
          0.527,
          0.572,
          0.566,
          0.27,
          0.612,
          0.57,
          0.429,
          0.498,
          0.382,
          0.494,
          0.452,
          0.568,
          0.456,
          0.386,
          0.407,
          0.389,
          0.7,
          0.53,
          0.428,
          0.592,
          0.382,
          0.549,
          0.617,
          0.549,
          0.682,
          0.688,
          0.62,
          0.505,
          0.547,
          0.35,
          0.554,
          0.493,
          0.465,
          0.427,
          0.613,
          0.794,
          0.703,
          0.609,
          0.47,
          0.735,
          0.575,
          0.542,
          0.6,
          0.6,
          0.592,
          0.416,
          0.803,
          0.571,
          0.43,
          0.433,
          0.519,
          0.42,
          0.426,
          0.52,
          0.618,
          0.651,
          0.649,
          0.397,
          0.582,
          0.548,
          0.475,
          0.52,
          0.583,
          0.355,
          0.565,
          0.597,
          0.585,
          0.68,
          0.622,
          0.581,
          0.578,
          0.604,
          0.627,
          0.606,
          0.584,
          0.228,
          0.52,
          0.474,
          0.415,
          0.306,
          0.68,
          0.718,
          0.375,
          0.638,
          0.557,
          0.441
         ],
         "xaxis": "x",
         "y": [
          0.022327053355166528,
          0.24248891587240648,
          0.3265877067008354,
          0.2869700273391882,
          0.3366401915121146,
          0.2895912300510509,
          0.9108333932613238,
          0.25947024336318386,
          0.028029082068148956,
          0,
          0.8520212520616012,
          0.5506349934522407,
          0.23480015389366354,
          0.23863237837179735,
          0.44530052736822,
          0.7208851668024541,
          0.05785976432155045,
          0.2213304776885258,
          0.15042875370821174,
          0,
          0.5686846985526366,
          0.030037011000189743,
          0.03491421639636559,
          0.1864486209588431,
          0.5283862054429799,
          0,
          null,
          0.25653929484872934,
          1.9406663633973371,
          0.20678973433233117,
          0.27688499610839695,
          0.14649841321187446,
          0.06551075582707017,
          0,
          0.4441464696038724,
          0.12182184320921614,
          0.14459103393472686,
          0.06965283357952087,
          0.08173008835992979,
          1.2766084549109256,
          0.7005881736481786,
          0.31906110337003946,
          0.06920263287396707,
          0.0868255674474594,
          0.7344833971247553,
          0,
          0.16913522942176068,
          0.3699880967683056,
          0.22253625261931176,
          0,
          0,
          0.27826251193810325,
          0.0495474113198803,
          0.12997493465180485,
          0.11803044229308413,
          0.08920046999572362,
          0.7344921288209248,
          0.26322303250274487,
          0.11078273348427985,
          0.2749201527193286,
          0.7629839203447419,
          0,
          0,
          0.1381317100575988,
          0,
          0.5533815345793281,
          0.1714571954327201,
          0.22610035751255306,
          0,
          0,
          1.2682719434934235,
          0.11732883154824057,
          0.03569773904531824,
          0.2671432723697561,
          0,
          0.186157502599771,
          0.5236899534744498,
          0.3351004039708668,
          0.04964450429198027,
          0.11906703267014784,
          null,
          0.0349692137586791,
          0.21180583257955998,
          0.06651196351453867,
          0.2913232426547146,
          0.09217255833948985,
          0.4282595342845574,
          0.20007984816226446,
          0.7433612928846723,
          0.3764386882063321,
          0.6555091601989342,
          0.2067944358373223,
          0.34169820956821195
         ],
         "yaxis": "y"
        },
        {
         "customdata": [
          [
           "Market Fresh"
          ],
          [
           "Backyards"
          ],
          [
           "Da Da Da Da"
          ],
          [
           "Time = Cause"
          ],
          [
           "Lover's Spit"
          ],
          [
           "Ibi Dreams Of Pavement (A Better Day)"
          ],
          [
           "7/4 (Shoreline)"
          ],
          [
           "Major Label Debut"
          ],
          [
           "Fire Eye'd Boy"
          ],
          [
           "Windsurfing Nation"
          ],
          [
           "Swimmers"
          ],
          [
           "Hotel"
          ],
          [
           "Handjobs For The Holidays"
          ],
          [
           "Superconnected"
          ],
          [
           "Bandwitch"
          ],
          [
           "It's All Gonna Break"
          ],
          [
           "Canada Vs. America"
          ],
          [
           "All My Friends"
          ],
          [
           "Major Label Debut (Fast)"
          ],
          [
           "Passport Radio"
          ],
          [
           "Stomach Song"
          ],
          [
           "Cranley's Gonna Make It"
          ],
          [
           "World Sick"
          ],
          [
           "Chase Scene"
          ],
          [
           "Texico Bitches"
          ],
          [
           "Forced To Love"
          ],
          [
           "All To All"
          ],
          [
           "Art House Director"
          ],
          [
           "Highway Slipper Jam"
          ],
          [
           "Ungrateful Little Father"
          ],
          [
           "Sentimental X's"
          ],
          [
           "Sweetest Kill"
          ],
          [
           "Romance To The Grave"
          ],
          [
           "Water In Hell"
          ],
          [
           "Me And My Hand"
          ],
          [
           "Halfway Home"
          ],
          [
           "Protest Song"
          ],
          [
           "Skyline"
          ],
          [
           "Stay Happy"
          ],
          [
           "Vanity Pail Kids"
          ],
          [
           "Hug Of Thunder"
          ],
          [
           "Towers And Masons"
          ],
          [
           "Victim Lover"
          ],
          [
           "Please Take Me With You"
          ],
          [
           "Gonna Get Better"
          ],
          [
           "Mouth Guards Of The Apocalypse"
          ],
          [
           "KC Accidental"
          ],
          [
           "Stars And Sons"
          ],
          [
           "Almost Crimes - Radio Kills Remix"
          ],
          [
           "Looks Just Like The Sun"
          ],
          [
           "Anthems For A Seventeen Year-Old Girl"
          ],
          [
           "Cause = Time"
          ],
          [
           "Shampoo Suicide"
          ],
          [
           "Lover's Spit"
          ],
          [
           "I'm Still Your Fag"
          ]
         ],
         "hovertemplate": "artist=Broken Social Scene<br>danceability=%{x}<br>sadness=%{y}<br>title=%{customdata[0]}<extra></extra>",
         "legendgroup": "Broken Social Scene",
         "marker": {
          "color": "#19d3f3",
          "symbol": "circle"
         },
         "mode": "markers",
         "name": "Broken Social Scene",
         "orientation": "v",
         "showlegend": true,
         "type": "scatter",
         "x": [
          0.476,
          0.276,
          0.139,
          0.13,
          0.38,
          0.0899,
          0.464,
          0.502,
          0.431,
          0.483,
          0.625,
          0.733,
          0.467,
          0.232,
          0.482,
          0.209,
          0.308,
          0.405,
          0.407,
          0.424,
          0.494,
          0.538,
          0.572,
          0.573,
          0.605,
          0.476,
          0.631,
          0.464,
          0.675,
          0.43,
          0.622,
          0.708,
          0.514,
          0.362,
          0.26,
          0.434,
          0.475,
          0.422,
          0.446,
          0.509,
          0.695,
          0.518,
          0.382,
          0.455,
          0.507,
          0.204,
          0.0629,
          0.466,
          0.211,
          0.527,
          0.466,
          0.378,
          0.581,
          0.327,
          0.498
         ],
         "xaxis": "x",
         "y": [
          null,
          0.3974657324678864,
          null,
          0,
          0,
          0.07261086953324504,
          0.19186326353141706,
          0,
          0.21772513780055694,
          0.1702517638201777,
          0.41595944861931045,
          0.17872021545112898,
          0.2215654669685597,
          0.2040180149138714,
          0,
          0.13539817373755364,
          0.0778846611673224,
          0.3101916537559836,
          0,
          null,
          1.48264082805692,
          null,
          0.19502399232239365,
          0.0742016801242248,
          0.06915320907928099,
          0.12892368620011,
          0.13922232070367105,
          0.24200802054425022,
          null,
          0.3799952406537635,
          0,
          0.5469360721861946,
          0.2926134298063509,
          0.32155052539455126,
          0,
          0.04460390946090834,
          0.09041538099435675,
          0.8936010772556449,
          0,
          0.16596770179027437,
          0.19567754546008442,
          0.9212208138855228,
          0.08800198505737786,
          0,
          3.155684951594393,
          0.15725843602503412,
          0.17319642285896164,
          0,
          0.19957755087044018,
          0.10148295803087229,
          null,
          0.10715372764111158,
          0.20692173403855774,
          0,
          0.274563116306837
         ],
         "yaxis": "y"
        },
        {
         "customdata": [
          [
           "Cannibal Resource"
          ],
          [
           "Temecula Sunrise"
          ],
          [
           "The Bride"
          ],
          [
           "Stillness Is The Move"
          ],
          [
           "Two Doves"
          ],
          [
           "Useful Chamber"
          ],
          [
           "No Intention"
          ],
          [
           "Remade Horizon"
          ],
          [
           "Fluorescent Half Dome"
          ],
          [
           "Keep Your Name"
          ],
          [
           "Death Spiral"
          ],
          [
           "Up In Hudson"
          ],
          [
           "Work Together"
          ],
          [
           "Little Bubble"
          ],
          [
           "Winner Take Nothing"
          ],
          [
           "Ascent Through Clouds"
          ],
          [
           "Cool Your Heart"
          ],
          [
           "I See You"
          ],
          [
           "Right Now"
          ],
          [
           "Break-Thru"
          ],
          [
           "That’s A Lifestyle"
          ],
          [
           "I Feel Energy"
          ],
          [
           "Zombie Conqueror"
          ],
          [
           "Blue Bird"
          ],
          [
           "I Found It In U"
          ],
          [
           "What Is The Time"
          ],
          [
           "You're The One"
          ],
          [
           "(I Wanna) Feel It All"
          ],
          [
           "My Brother Had A Birthday"
          ],
          [
           "The Enterprising Catalyst"
          ],
          [
           "Grandfather's Jacket"
          ],
          [
           "After Santa Monica Boulevard"
          ],
          [
           "Dahlonegabhama"
          ],
          [
           "Further On Down The Strip"
          ],
          [
           "Katydids Calling"
          ],
          [
           "Twenty-Foot Stalks"
          ],
          [
           "We Could Cling"
          ],
          [
           "The Love-Prayer Book"
          ],
          [
           "To Give It Weight"
          ],
          [
           "Here Comes The Summer King"
          ],
          [
           "Her Freezings And Thawings"
          ],
          [
           "We Two Feared The Storm"
          ],
          [
           "I Am Going To See It"
          ],
          [
           "Fake Folks"
          ],
          [
           "Like Once-Heated Milk"
          ],
          [
           "O! You Hungering Infants"
          ],
          [
           "Morning Better Last!"
          ],
          [
           "On and Ever Onward"
          ],
          [
           "When the World Comes to an End"
          ],
          [
           "Beautiful Mother"
          ],
          [
           "Sharing Orb"
          ],
          [
           "No Embrace"
          ],
          [
           "All We Are"
          ],
          [
           "What I See"
          ],
          [
           "No More"
          ],
          [
           "Depression"
          ],
          [
           "Six Pack"
          ],
          [
           "Thirsty and Miserable"
          ],
          [
           "Police Story"
          ],
          [
           "Gimmie Gimmie Gimmie"
          ],
          [
           "Spray Paint (The Walls)"
          ],
          [
           "Room 13"
          ],
          [
           "Rise Above"
          ],
          [
           "Untitled"
          ],
          [
           "Somberly, Kimberly"
          ],
          [
           "On the Beach"
          ],
          [
           "(Throw On) The Hazard Lights"
          ],
          [
           "Slaves' Graves"
          ],
          [
           "Grandfather's Hanging"
          ],
          [
           "We Are Swaddled"
          ],
          [
           "A Labor More Restful"
          ],
          [
           "Unmoved"
          ],
          [
           "Ladies, You Have Exiled Me"
          ],
          [
           "Because Your Light Is Turning Green"
          ],
          [
           "Obscure Wisdom"
          ],
          [
           "This Weather"
          ],
          [
           "Since I Opened"
          ],
          [
           "Offspring Are Blank"
          ],
          [
           "About to Die"
          ],
          [
           "Gun Has No Trigger"
          ],
          [
           "Swing Lo Magellan"
          ],
          [
           "Just From Chevron"
          ],
          [
           "Dance For You"
          ],
          [
           "Maybe That Was It"
          ],
          [
           "Impregnable Question"
          ],
          [
           "See What She Seeing"
          ],
          [
           "The Socialites"
          ],
          [
           "Unto Caesar"
          ],
          [
           "Irresponsible Tune"
          ],
          [
           "I Sit On the Ridge At Dusk"
          ],
          [
           "But In the Headlights"
          ],
          [
           "Warholian Wigs"
          ],
          [
           "I Will Truck"
          ],
          [
           "D. Henley's Dream"
          ],
          [
           "Gilt Gold Scabs"
          ],
          [
           "Ponds & Puddles"
          ],
          [
           "Not Having Found"
          ],
          [
           "Tour Along the Potomac"
          ],
          [
           "Jolly Jolly Jolly Ego"
          ],
          [
           "Time Birthed Spilled Blood"
          ],
          [
           "Drilling Profitably"
          ],
          [
           "Finches' Song At Oceanic Parking Lot"
          ],
          [
           "The Glad Fact"
          ],
          [
           "My Offwhite Flag"
          ],
          [
           "Like Fake Blood In Crisp October"
          ],
          [
           "Boredome Is a Product"
          ],
          [
           "Two Brown Finches"
          ],
          [
           "Three Brown Finches"
          ],
          [
           "Off Science Hill"
          ],
          [
           "Winter Is Here"
          ],
          [
           "Ground Underfoot"
          ],
          [
           "Spirit-Future Medley"
          ],
          [
           "Naked We Made It"
          ],
          [
           "Lit from Below"
          ],
          [
           "Imaginary Love"
          ],
          [
           "The Highway Is a Foggy Knife"
          ],
          [
           "The Minutes"
          ]
         ],
         "hovertemplate": "artist=Dirty Projectors<br>danceability=%{x}<br>sadness=%{y}<br>title=%{customdata[0]}<extra></extra>",
         "legendgroup": "Dirty Projectors",
         "marker": {
          "color": "#FF6692",
          "symbol": "circle"
         },
         "mode": "markers",
         "name": "Dirty Projectors",
         "orientation": "v",
         "showlegend": true,
         "type": "scatter",
         "x": [
          0.557,
          0.404,
          0.394,
          0.569,
          0.435,
          0.338,
          0.578,
          0.288,
          0.51,
          0.54,
          0.555,
          0.677,
          0.377,
          0.342,
          0.725,
          0.445,
          0.61,
          0.484,
          0.481,
          0.8,
          0.519,
          0.723,
          0.416,
          0.53,
          0.452,
          0.757,
          0.409,
          0.286,
          0.636,
          0.311,
          0.699,
          0.471,
          0.705,
          0.719,
          0.624,
          0.46,
          0.31,
          0.579,
          0.51,
          0.475,
          0.425,
          0.164,
          0.335,
          0.364,
          0.428,
          0.444,
          0.55,
          0.719,
          0.44,
          0.86,
          0.496,
          0.362,
          0.32,
          0.427,
          0.318,
          0.482,
          0.371,
          0.434,
          0.277,
          0.348,
          0.323,
          0.234,
          0.541,
          0.0604,
          0.545,
          0.244,
          0.341,
          0.342,
          0.226,
          0.202,
          0.48,
          0.381,
          0.234,
          0.345,
          0.809,
          0.342,
          0.442,
          0.345,
          0.725,
          0.681,
          0.738,
          0.44,
          0.603,
          0.31,
          0.65,
          0.455,
          0.709,
          0.529,
          0.248,
          0.436,
          0.552,
          0.579,
          0.775,
          0.267,
          0.294,
          0.527,
          0.676,
          0.768,
          0.705,
          0.491,
          0.328,
          0.197,
          0.336,
          0.569,
          0.423,
          0.311,
          0.355,
          0.431,
          0.411,
          0.47,
          0.35,
          0.49,
          0.476,
          0.327,
          0.256,
          0.361,
          0.74
         ],
         "xaxis": "x",
         "y": [
          0.14445604202924167,
          0.06048758707937028,
          0,
          0.03457660453964049,
          0,
          0,
          0.3451204084788728,
          null,
          0.2978508436834367,
          0.08829876991004112,
          0.4907809966332524,
          0.1544626870346499,
          0,
          0.2502569339612551,
          0.21844159686934309,
          0.20522117246448307,
          0.17505699002981878,
          0.22397313289011894,
          0.056715788744274284,
          0.11075303706796776,
          0.07393271105904048,
          0.010526292801380649,
          0.08302372792120259,
          0.1986270577902073,
          0.07943153932062445,
          0.22514555750757842,
          0.04992680243389033,
          0.3971560343358421,
          0.07003811320272223,
          0,
          null,
          null,
          null,
          null,
          1.429761723609032,
          null,
          0.8336823898693485,
          null,
          null,
          null,
          0.3363203701233815,
          null,
          null,
          0.7747929181762975,
          0,
          1.2989731714422124,
          0.3994144194711227,
          0,
          0.11875916607303107,
          0.3972541155804146,
          0.4177196375847526,
          0.14753805286635516,
          0,
          0.12784012119432955,
          0,
          3.1684440538491447,
          0.1198243258413368,
          0,
          0.5058447526846462,
          0,
          0,
          0.2255549641870272,
          2.7704566343962616,
          0,
          null,
          0,
          null,
          0.295817492981891,
          0.2099148812545004,
          null,
          0,
          0.23226684620927415,
          null,
          0,
          0,
          null,
          null,
          0.16913826338478713,
          0.3076208605546544,
          0,
          0.7571694280963654,
          0.12692631067120527,
          0.1183500673284778,
          0,
          0,
          0.16685516003141476,
          0.6900629911250444,
          0.1251134127601196,
          0.4114768560879268,
          0.6426806127183092,
          null,
          0,
          1.433826816852537,
          0.4572191878205869,
          0,
          0,
          0,
          1.0957340515037632,
          0,
          null,
          null,
          null,
          0.1479087464909455,
          0.318133744581535,
          0.3736893001370905,
          null,
          null,
          null,
          0,
          0.3230547832488209,
          0.15976576778844911,
          0.3971560343358421,
          0.3204724990448598,
          null,
          0,
          1.2294160392507425,
          0
         ],
         "yaxis": "y"
        },
        {
         "customdata": [
          [
           "Pretty Things"
          ],
          [
           "Shark Smile"
          ],
          [
           "Capacity"
          ],
          [
           "Watering"
          ],
          [
           "Coma"
          ],
          [
           "Great White Shark"
          ],
          [
           "Mythological Beauty"
          ],
          [
           "Objects"
          ],
          [
           "Haley"
          ],
          [
           "Mary"
          ],
          [
           "Black Diamonds"
          ],
          [
           "Change"
          ],
          [
           "Time Escaping"
          ],
          [
           "Spud Infinity"
          ],
          [
           "Certainty"
          ],
          [
           "Dragon New Warm Mountain I Believe in You"
          ],
          [
           "Sparrow"
          ],
          [
           "Little Things"
          ],
          [
           "Heavy Bend"
          ],
          [
           "Flower of Blood"
          ],
          [
           "Blurred View"
          ],
          [
           "Red Moon"
          ],
          [
           "Dried Roses"
          ],
          [
           "No Reason"
          ],
          [
           "Wake Me up to Drive"
          ],
          [
           "Promise Is a Pendulum"
          ],
          [
           "12,000 Lines"
          ],
          [
           "Simulation Swarm"
          ],
          [
           "Love Love Love"
          ],
          [
           "The Only Place"
          ],
          [
           "Blue Lightning"
          ],
          [
           "Little Arrow - 2023 Remaster"
          ],
          [
           "Masterpiece - 2023 Remaster"
          ],
          [
           "Vegas - 2023 Remaster"
          ],
          [
           "Real Love - 2023 Remaster"
          ],
          [
           "Interstate - 2023 Remaster"
          ],
          [
           "Lorraine - 2023 Remaster"
          ],
          [
           "Paul - 2023 Remaster"
          ],
          [
           "Humans - 2023 Remaster"
          ],
          [
           "Velvet Ring - 2023 Remaster"
          ],
          [
           "Animals - 2023 Remaster"
          ],
          [
           "Randy - 2023 Remaster"
          ],
          [
           "Parallels - 2023 Remaster"
          ],
          [
           "Rock and Sing"
          ],
          [
           "Forgotten Eyes"
          ],
          [
           "The Toy"
          ],
          [
           "Two Hands"
          ],
          [
           "Those Girls"
          ],
          [
           "Shoulders"
          ],
          [
           "Not"
          ],
          [
           "Wolf"
          ],
          [
           "Replaced"
          ],
          [
           "Cut My Hair"
          ],
          [
           "Contact"
          ],
          [
           "UFOF"
          ],
          [
           "Cattails"
          ],
          [
           "From"
          ],
          [
           "Open Desert"
          ],
          [
           "Orange"
          ],
          [
           "Century"
          ],
          [
           "Strange"
          ],
          [
           "Betsy"
          ],
          [
           "Terminal Paradise"
          ],
          [
           "Jenni"
          ],
          [
           "Magic Dealer"
          ]
         ],
         "hovertemplate": "artist=Big Thief<br>danceability=%{x}<br>sadness=%{y}<br>title=%{customdata[0]}<extra></extra>",
         "legendgroup": "Big Thief",
         "marker": {
          "color": "#B6E880",
          "symbol": "circle"
         },
         "mode": "markers",
         "name": "Big Thief",
         "orientation": "v",
         "showlegend": true,
         "type": "scatter",
         "x": [
          0.467,
          0.618,
          0.448,
          0.633,
          0.385,
          0.391,
          0.63,
          0.677,
          0.535,
          0.4,
          0.761,
          0.633,
          0.672,
          0.562,
          0.611,
          0.312,
          0.564,
          0.34,
          0.682,
          0.254,
          0.438,
          0.434,
          0.56,
          0.455,
          0.683,
          0.473,
          0.675,
          0.703,
          0.426,
          0.45,
          0.6,
          0.222,
          0.369,
          0.624,
          0.311,
          0.404,
          0.45,
          0.473,
          0.44,
          0.318,
          0.4,
          0.376,
          0.355,
          0.692,
          0.428,
          0.327,
          0.518,
          0.579,
          0.459,
          0.423,
          0.439,
          0.627,
          0.528,
          0.451,
          0.623,
          0.555,
          0.6,
          0.589,
          0.443,
          0.673,
          0.733,
          0.578,
          0.598,
          0.393,
          0.414
         ],
         "xaxis": "x",
         "y": [
          0.13258537497936052,
          0.27420218020483966,
          0.8930451142607024,
          0.11078273348427985,
          null,
          0.14433035238246802,
          0.08343339501784199,
          0.2199633420936972,
          0,
          0.08498298746044063,
          0.4609933847310635,
          0.2187785270223159,
          0,
          0,
          0.10684245290269392,
          0.22386543532720538,
          0,
          0.4501570545376602,
          0.17116378455958656,
          0.3454053222532044,
          0.19496299952880822,
          0.06731785636024606,
          0.24568585155964173,
          1.183269971927564,
          0.08827869235120323,
          0.0809337889959761,
          0.30466805116785467,
          0.02127921861221315,
          0.036014726707957204,
          0.6269393094463583,
          0.1637863309562785,
          0,
          0.1141184055631779,
          0.1513262677793233,
          0.2512781864328061,
          0.1436735917481238,
          0.318133744581535,
          0.28183386164608026,
          0.15291509142124046,
          0.09131117095864694,
          0.280267161660019,
          0.08772099523570344,
          0.03524244877686375,
          1.2846332714865916,
          0.6249612424082535,
          0.10210794426662587,
          0,
          1.2111675664040928,
          0.14291364460089837,
          0.05118173636633213,
          0.3540779408590813,
          0.16019231105399961,
          0.05539136674213992,
          0.9534098773929952,
          0.19186741654590395,
          0.3334335649158574,
          0.1327239121195852,
          0.2816241167981246,
          0.30495810027866466,
          0,
          0.22037040662296972,
          null,
          0.6236594667195738,
          0,
          0.6639849862436761
         ],
         "yaxis": "y"
        },
        {
         "customdata": [
          [
           "It's Working"
          ],
          [
           "Song for Dan Treacy"
          ],
          [
           "Someone's Missing"
          ],
          [
           "Flash Delirium"
          ],
          [
           "I Found a Whistle"
          ],
          [
           "Siberian Breaks"
          ],
          [
           "Brian Eno"
          ],
          [
           "Congratulations"
          ],
          [
           "She Works Out Too Much"
          ],
          [
           "Little Dark Age"
          ],
          [
           "When You Die"
          ],
          [
           "Me and Michael"
          ],
          [
           "TSLAMP"
          ],
          [
           "James"
          ],
          [
           "Days That Got Away"
          ],
          [
           "One Thing Left to Try"
          ],
          [
           "When You're Small"
          ],
          [
           "Hand It Over"
          ],
          [
           "Loss Of Life (part 2)"
          ],
          [
           "Mother Nature"
          ],
          [
           "People In The Streets"
          ],
          [
           "Bubblegum Dog"
          ],
          [
           "Nothing To Declare"
          ],
          [
           "Nothing Changes"
          ],
          [
           "Phradie’s Song"
          ],
          [
           "I Wish I Was Joking"
          ],
          [
           "Loss Of Life"
          ],
          [
           "Alien Days"
          ],
          [
           "Cool Song No. 2"
          ],
          [
           "Mystery Disease"
          ],
          [
           "Introspection"
          ],
          [
           "Your Life Is a Lie"
          ],
          [
           "A Good Sadness"
          ],
          [
           "Astro-Mancy"
          ],
          [
           "I Love You Too, Death"
          ],
          [
           "Plenty Of Girls In The Sea"
          ],
          [
           "An Orphan Of Fortune"
          ],
          [
           "Time to Pretend"
          ],
          [
           "Weekend Wars"
          ],
          [
           "The Youth"
          ],
          [
           "Electric Feel"
          ],
          [
           "Kids"
          ],
          [
           "4th Dimensional Transition"
          ],
          [
           "Pieces of What"
          ],
          [
           "Of Moons, Birds & Monsters"
          ],
          [
           "The Handshake"
          ],
          [
           "Future Reflections"
          ]
         ],
         "hovertemplate": "artist=MGMT<br>danceability=%{x}<br>sadness=%{y}<br>title=%{customdata[0]}<extra></extra>",
         "legendgroup": "MGMT",
         "marker": {
          "color": "#FF97FF",
          "symbol": "circle"
         },
         "mode": "markers",
         "name": "MGMT",
         "orientation": "v",
         "showlegend": true,
         "type": "scatter",
         "x": [
          0.381,
          0.453,
          0.308,
          0.575,
          0.166,
          0.305,
          0.374,
          0.761,
          0.633,
          0.705,
          0.645,
          0.628,
          0.602,
          0.515,
          0.667,
          0.576,
          0.465,
          0.378,
          0.241,
          0.425,
          0.585,
          0.482,
          0.474,
          0.529,
          0.168,
          0.48,
          0.288,
          0.492,
          0.543,
          0.253,
          0.519,
          0.527,
          0.209,
          0.525,
          0.212,
          0.544,
          0.423,
          0.438,
          0.549,
          0.485,
          0.763,
          0.451,
          0.381,
          0.572,
          0.598,
          0.565,
          0.512
         ],
         "xaxis": "x",
         "y": [
          0,
          0,
          1.1746140002569923,
          0.03346887472945999,
          0.0330963361946535,
          0.08250163248038274,
          0.04283854741586854,
          0.16988768486714076,
          0,
          0,
          0.33080105866368587,
          0.07092249913880624,
          0.22965380673518224,
          0.1089312053103062,
          null,
          0.14314319460516445,
          0.15867453950377436,
          0.14121162545888793,
          0.15531051207083835,
          0.031569943275323926,
          0.03590742836015757,
          0.16713257778697083,
          0.23415258140585551,
          0.2879949954145587,
          0.8667362521754501,
          0.04205204957002689,
          0.27127692234648004,
          0.06452354817861271,
          0.15752505280205034,
          0.1505503772732375,
          0.1547148300582158,
          0.4395359973387221,
          0.3025885672981591,
          0,
          0.13712296561775136,
          0,
          null,
          0.19422790816250768,
          0.09354653426386503,
          0,
          0,
          1.0581826537585048,
          0.15503474302885759,
          0.3736893001370905,
          0.33126362597018116,
          0.13194092398007617,
          0.12456855776885112
         ],
         "yaxis": "y"
        },
        {
         "customdata": [
          [
           "Spitting Off the Edge of the World"
          ],
          [
           "Lovebomb"
          ],
          [
           "Wolf"
          ],
          [
           "Fleez"
          ],
          [
           "Burning"
          ],
          [
           "Blacktop"
          ],
          [
           "Different Today"
          ],
          [
           "Mars"
          ],
          [
           "Rich"
          ],
          [
           "Date With The Night"
          ],
          [
           "Man"
          ],
          [
           "Tick"
          ],
          [
           "Black Tongue"
          ],
          [
           "Pin"
          ],
          [
           "Cold Light"
          ],
          [
           "No No No"
          ],
          [
           "Maps"
          ],
          [
           "Y Control"
          ],
          [
           "Modern Romance"
          ],
          [
           "Poor Song"
          ],
          [
           "Zero"
          ],
          [
           "Heads Will Roll"
          ],
          [
           "Soft Shock"
          ],
          [
           "Skeletons"
          ],
          [
           "Dull Life"
          ],
          [
           "Shame And Fortune"
          ],
          [
           "Runaway"
          ],
          [
           "Dragon Queen"
          ],
          [
           "Hysteric"
          ],
          [
           "Little Shadow"
          ],
          [
           "Sacrilege"
          ],
          [
           "Subway"
          ],
          [
           "Mosquito"
          ],
          [
           "Under The Earth"
          ],
          [
           "Slave"
          ],
          [
           "These Paths"
          ],
          [
           "Area 52"
          ],
          [
           "Buried Alive"
          ],
          [
           "Always"
          ],
          [
           "Despair"
          ],
          [
           "Wedding Song"
          ],
          [
           "Subway - NOLA Demo"
          ],
          [
           "Gold Lion"
          ],
          [
           "Way Out"
          ],
          [
           "Fancy"
          ],
          [
           "Phenomena"
          ],
          [
           "Honeybear"
          ],
          [
           "Cheated Hearts"
          ],
          [
           "Dudley"
          ],
          [
           "Mysteries"
          ],
          [
           "Sweets"
          ],
          [
           "Warrior"
          ],
          [
           "Turn Into"
          ]
         ],
         "hovertemplate": "artist=Yeah Yeah Yeahs<br>danceability=%{x}<br>sadness=%{y}<br>title=%{customdata[0]}<extra></extra>",
         "legendgroup": "Yeah Yeah Yeahs",
         "marker": {
          "color": "#FECB52",
          "symbol": "circle"
         },
         "mode": "markers",
         "name": "Yeah Yeah Yeahs",
         "orientation": "v",
         "showlegend": true,
         "type": "scatter",
         "x": [
          0.413,
          0.243,
          0.576,
          0.698,
          0.528,
          0.683,
          0.46,
          0.574,
          0.547,
          0.473,
          0.231,
          0.533,
          0.52,
          0.68,
          0.283,
          0.352,
          0.502,
          0.427,
          0.324,
          0.555,
          0.504,
          0.562,
          0.598,
          0.234,
          0.386,
          0.5,
          0.425,
          0.633,
          0.573,
          0.38,
          0.527,
          0.378,
          0.53,
          0.448,
          0.464,
          0.35,
          0.37,
          0.501,
          0.498,
          0.524,
          0.255,
          0.575,
          0.521,
          0.674,
          0.504,
          0.501,
          0.623,
          0.582,
          0.499,
          0.215,
          0.366,
          0.442,
          0.493
         ],
         "xaxis": "x",
         "y": [
          0.20952576847208002,
          0.11914681030075265,
          0.9771407912683568,
          0,
          0.29492932591859294,
          0.20498866704257887,
          0.04220294608924943,
          0.35302530565414725,
          0.686187928049112,
          1.7110767574350951,
          0.48034797817944674,
          0,
          0.16625436381724445,
          0.05848576496018917,
          0.13996616001464376,
          0.6626547608587009,
          0.02304313958487245,
          0.0258493044796653,
          3.2222624917510623,
          0,
          0,
          0.9924790355587482,
          1.357088485182428,
          1.1910844560787262,
          0.3437606244214906,
          null,
          1.3396784097500156,
          0,
          0.4572191878205869,
          0.8311369903188786,
          0.08085961856941713,
          0.1210613934650464,
          0.24583790333466113,
          0,
          0.6171287955568616,
          1.8707023910443665,
          0.2205426492977949,
          0.3790383197377814,
          0,
          0.0615048230490135,
          0.18158019189102192,
          0.08136006396367396,
          0.09599423465440783,
          0.07724229726669435,
          1.8278424757971965,
          0.8713151064804912,
          0.101943394280827,
          0.37900875940823814,
          0.04210831077045095,
          0.318133744581535,
          0.2490216905606976,
          0.13362869591493096,
          0.13763070619378814
         ],
         "yaxis": "y"
        },
        {
         "customdata": [
          [
           "Abducted"
          ],
          [
           "Go Outside"
          ],
          [
           "You Know What I Mean"
          ],
          [
           "Most Wanted"
          ],
          [
           "Walk At Night"
          ],
          [
           "Never Heal Myself"
          ],
          [
           "Oh My God"
          ],
          [
           "Never Saw The Point"
          ],
          [
           "Bad Things"
          ],
          [
           "Bumper"
          ],
          [
           "Rave On"
          ],
          [
           "Bad Things - Slowed Down"
          ],
          [
           "Trials"
          ],
          [
           "8th Avenue"
          ],
          [
           "Spit You Out"
          ],
          [
           "A Low"
          ],
          [
           "No Risk"
          ],
          [
           "Working It Over"
          ],
          [
           "A Purgatory"
          ],
          [
           "Like I Do"
          ],
          [
           "Masquerading"
          ],
          [
           "Honest Love"
          ],
          [
           "Shoulders To My Feet"
          ],
          [
           "Monolithic"
          ],
          [
           "Offering"
          ],
          [
           "I Took Your Picture"
          ],
          [
           "With My Eyes Closed"
          ],
          [
           "Recovery"
          ],
          [
           "Right Words"
          ],
          [
           "Good Religion"
          ],
          [
           "Natural State"
          ],
          [
           "Nothing Is Written"
          ],
          [
           "Talk in Circles"
          ],
          [
           "Clear from Far Away"
          ],
          [
           "Gilded Lily"
          ],
          [
           "I Know"
          ],
          [
           "I Can Hardly Make You Mine"
          ],
          [
           "Always Forever"
          ],
          [
           "High Road"
          ],
          [
           "Were Before"
          ],
          [
           "So Far"
          ],
          [
           "Keep Your Head Up"
          ],
          [
           "TV Dream"
          ],
          [
           "We've Got It"
          ],
          [
           "Shine a Light"
          ],
          [
           "No Hope"
          ]
         ],
         "hovertemplate": "artist=Cults<br>danceability=%{x}<br>sadness=%{y}<br>title=%{customdata[0]}<extra></extra>",
         "legendgroup": "Cults",
         "marker": {
          "color": "#636efa",
          "symbol": "circle"
         },
         "mode": "markers",
         "name": "Cults",
         "orientation": "v",
         "showlegend": true,
         "type": "scatter",
         "x": [
          0.374,
          0.375,
          0.317,
          0.654,
          0.628,
          0.52,
          0.392,
          0.523,
          0.346,
          0.649,
          0.436,
          0.167,
          0.691,
          0.524,
          0.558,
          0.498,
          0.616,
          0.549,
          0.331,
          0.602,
          0.506,
          0.401,
          0.454,
          0.443,
          0.399,
          0.516,
          0.355,
          0.532,
          0.564,
          0.43,
          0.446,
          0.519,
          0.28,
          0.553,
          0.4,
          0.102,
          0.438,
          0.174,
          0.582,
          0.507,
          0.358,
          0.328,
          0.179,
          0.436,
          0.385,
          0.383
         ],
         "xaxis": "x",
         "y": [
          0.46960030778732703,
          0.1943854902496495,
          0.16592988078306245,
          0.9121261766895119,
          0.140969795107455,
          0.5639848250108793,
          0.38366409884132385,
          0.33608827362001553,
          0.7161839211641624,
          0.21382791579452087,
          0.1123579936278382,
          0.25335398619601324,
          0,
          0.17586455792763211,
          0,
          0.11793958330034748,
          0,
          0.14899086005224585,
          0,
          0.1720063918389281,
          0.07747929181762973,
          0.1463568197611179,
          0.9040522240064857,
          0.2767117564915348,
          0.4344926838820274,
          0.2535590992740935,
          0.40322333999255827,
          0.3083350629410691,
          0.06492419414329144,
          0.3338506339376711,
          0.09544012337446049,
          0.13063439807725463,
          0.12671158297192744,
          0,
          0.15907447054342247,
          1.7418011024044555,
          0.03877395671949795,
          0,
          0.2641717936504829,
          0,
          0.24371233010629284,
          0.1341020996931801,
          0,
          0.07902530964028888,
          0.98597795228281,
          0.20357611382697494
         ],
         "yaxis": "y"
        },
        {
         "customdata": [
          [
           "Welcome To My Island"
          ],
          [
           "Pretty In Possible"
          ],
          [
           "Bunny Is A Rider"
          ],
          [
           "Sunset"
          ],
          [
           "Crude Drawing Of An Angel"
          ],
          [
           "I Believe"
          ],
          [
           "Blood And Butter"
          ],
          [
           "Hopedrunk Everasking"
          ],
          [
           "Butterfly Net"
          ],
          [
           "Smoke"
          ],
          [
           "Billions"
          ],
          [
           "The Gate"
          ],
          [
           "Pang"
          ],
          [
           "New Normal"
          ],
          [
           "Hit Me Where It Hurts"
          ],
          [
           "I Give Up"
          ],
          [
           "Look At Me Now"
          ],
          [
           "Insomnia"
          ],
          [
           "Ocean of Tears"
          ],
          [
           "Hey Big Eyes"
          ],
          [
           "Go As a Dream"
          ],
          [
           "Caroline Shut Up"
          ],
          [
           "So Hot You're Hurting My Feelings"
          ],
          [
           "Door"
          ],
          [
           "Parachute"
          ]
         ],
         "hovertemplate": "artist=Caroline Polachek<br>danceability=%{x}<br>sadness=%{y}<br>title=%{customdata[0]}<extra></extra>",
         "legendgroup": "Caroline Polachek",
         "marker": {
          "color": "#EF553B",
          "symbol": "circle"
         },
         "mode": "markers",
         "name": "Caroline Polachek",
         "orientation": "v",
         "showlegend": true,
         "type": "scatter",
         "x": [
          0.692,
          0.706,
          0.796,
          0.643,
          0.591,
          0.67,
          0.589,
          0.257,
          0.57,
          0.657,
          0.579,
          0.176,
          0.707,
          0.688,
          0.732,
          0.788,
          0.564,
          0.231,
          0.572,
          0.537,
          0.63,
          0.548,
          0.795,
          0.684,
          0.2
         ],
         "xaxis": "x",
         "y": [
          0.022061512615407,
          0.00968417685513824,
          0.720686507407246,
          0.11757064829672234,
          0.42427319993395374,
          0.21040011969507164,
          0.09429156005214907,
          0.2070722450873237,
          0.7248544575223979,
          0.0354199363576805,
          0,
          0,
          0,
          0.25153858673997287,
          0.2704776637972008,
          0.27147686259735365,
          0.12058042183984474,
          0.28734718349624755,
          0.1815271738331126,
          0,
          0.11930448221383985,
          0,
          0.18566787422980013,
          0.09859750073056321,
          0.18684465006854525
         ],
         "yaxis": "y"
        },
        {
         "customdata": [
          [
           "Daydream"
          ],
          [
           "Sears Roebuck M&Ms"
          ],
          [
           "Crown"
          ],
          [
           "Aquarium"
          ],
          [
           "Plain Speech"
          ],
          [
           "Electric Balloon"
          ],
          [
           "PRPL"
          ],
          [
           "Hold U"
          ],
          [
           "Judy"
          ],
          [
           "Genesee"
          ],
          [
           "Ab Ovo"
          ],
          [
           "Ice Level"
          ],
          [
           "Wrenning Day"
          ],
          [
           "Sequential Holdings"
          ],
          [
           "Down Right"
          ],
          [
           "Company"
          ],
          [
           "Tenderize"
          ],
          [
           "Steve Polyester"
          ],
          [
           "Roses and Cherries"
          ],
          [
           "Coat Of Shellac"
          ],
          [
           "Black Dog"
          ],
          [
           "Best Hexagon"
          ],
          [
           "Billz"
          ],
          [
           "Victoria"
          ],
          [
           "Carbon"
          ],
          [
           "Accessible"
          ],
          [
           "Centerline"
          ],
          [
           "Childish"
          ],
          [
           "Leaf"
          ],
          [
           "Mine"
          ],
          [
           "Moon 2"
          ],
          [
           "Deli Run"
          ],
          [
           "Set It Off"
          ],
          [
           "Walking with an Enemy"
          ],
          [
           "Unless"
          ],
          [
           "On Its Side the Fallen"
          ]
         ],
         "hovertemplate": "artist=Ava Luna<br>danceability=%{x}<br>sadness=%{y}<br>title=%{customdata[0]}<extra></extra>",
         "legendgroup": "Ava Luna",
         "marker": {
          "color": "#00cc96",
          "symbol": "circle"
         },
         "mode": "markers",
         "name": "Ava Luna",
         "orientation": "v",
         "showlegend": true,
         "type": "scatter",
         "x": [
          0.688,
          0.835,
          0.545,
          0.588,
          0.6,
          0.887,
          0.677,
          0.705,
          0.408,
          0.645,
          0.723,
          0.462,
          0.665,
          0.631,
          0.659,
          0.546,
          0.784,
          0.619,
          0.753,
          0.714,
          0.317,
          0.512,
          0.618,
          0.437,
          0.671,
          0.842,
          0.787,
          0.845,
          0.947,
          0.721,
          0.829,
          0.768,
          0.764,
          0.646,
          0.816,
          0.593
         ],
         "xaxis": "x",
         "y": [
          0,
          0,
          0,
          0.979022557371786,
          0.32808039091534674,
          0,
          0.5304871079930725,
          0.19805848570069678,
          0.8416004787802865,
          null,
          null,
          0.0897939454229294,
          0.0246514577484909,
          0.07610509742505678,
          0.5584170165335387,
          0.4572191878205869,
          0.6887701385487905,
          0.053342717479953485,
          1.1982432584133682,
          0.9198147754713679,
          1.1709311130650621,
          0,
          0.1597657677884491,
          0,
          0.4973043266524674,
          null,
          0.07982372697659788,
          0,
          0.12685369753859035,
          0.4853460346978615,
          0,
          0.23627412198693193,
          0,
          0,
          0.21663056418318663,
          0.40442933421795785
         ],
         "yaxis": "y"
        },
        {
         "customdata": [
          [
           "Never Ending Circles"
          ],
          [
           "Leave a Trace"
          ],
          [
           "Keep You On My Side"
          ],
          [
           "Make Them Gold"
          ],
          [
           "Clearest Blue"
          ],
          [
           "High Enough to Carry You Over"
          ],
          [
           "Empty Threat"
          ],
          [
           "Down Side of Me"
          ],
          [
           "Playing Dead"
          ],
          [
           "Bury It"
          ],
          [
           "Afterglow"
          ],
          [
           "Graffiti"
          ],
          [
           "Get Out"
          ],
          [
           "Deliverance"
          ],
          [
           "My Enemy"
          ],
          [
           "Forever"
          ],
          [
           "Never Say Die"
          ],
          [
           "Miracle"
          ],
          [
           "Graves"
          ],
          [
           "Heaven/Hell"
          ],
          [
           "God's Plan"
          ],
          [
           "Really Gone"
          ],
          [
           "ii"
          ],
          [
           "Wonderland"
          ],
          [
           "The Mother We Share"
          ],
          [
           "We Sink"
          ],
          [
           "Gun"
          ],
          [
           "Tether"
          ],
          [
           "Lies"
          ],
          [
           "Under the Tide"
          ],
          [
           "Recover"
          ],
          [
           "Night Sky"
          ],
          [
           "Science/Visions"
          ],
          [
           "Lungs"
          ],
          [
           "By the Throat"
          ],
          [
           "You Caught the Light"
          ],
          [
           "Strong Hand"
          ],
          [
           "Broken Bones"
          ],
          [
           "Gun - KDA Remix"
          ]
         ],
         "hovertemplate": "artist=CHVRCHES<br>danceability=%{x}<br>sadness=%{y}<br>title=%{customdata[0]}<extra></extra>",
         "legendgroup": "CHVRCHES",
         "marker": {
          "color": "#ab63fa",
          "symbol": "circle"
         },
         "mode": "markers",
         "name": "CHVRCHES",
         "orientation": "v",
         "showlegend": true,
         "type": "scatter",
         "x": [
          0.512,
          0.6,
          0.665,
          0.613,
          0.643,
          0.642,
          0.675,
          0.587,
          0.562,
          0.63,
          0.235,
          0.472,
          0.486,
          0.565,
          0.56,
          0.437,
          0.534,
          0.573,
          0.549,
          0.611,
          0.502,
          0.537,
          0.486,
          0.49,
          0.45,
          0.61,
          0.659,
          0.47,
          0.537,
          0.477,
          0.416,
          0.616,
          0.438,
          0.704,
          0.637,
          0.479,
          0.548,
          0.658,
          0.79
         ],
         "xaxis": "x",
         "y": [
          0.2857766479984437,
          0.1683184608485685,
          0.1979035313985625,
          0.39257870079178875,
          0,
          0.0833039649499371,
          0.07793049831350737,
          0.0644216805598585,
          0.2386089644276797,
          null,
          0.19374075383536446,
          0.08659821142948082,
          0.03498855144987755,
          0.12788643945189693,
          0,
          0.14685628638365358,
          0.2199331666890978,
          0.04042091209101178,
          0,
          0.3210369552941238,
          0.13996616001464376,
          0.665690699118538,
          0,
          0.1119633646396082,
          0.44971653295092473,
          0.2517116292728142,
          0.1597657677884491,
          2.070722450873237,
          0.09422159501045758,
          0.36182066138641944,
          0.24839195457587296,
          0.12864220110050056,
          0,
          0.09836207405656015,
          0.030853609390293617,
          0.1985780171679211,
          0.030927932653386,
          0.18662522124096131,
          0.20969257022233942
         ],
         "yaxis": "y"
        },
        {
         "customdata": [
          [
           "Sunday Morning"
          ],
          [
           "Casings"
          ],
          [
           "Lilies"
          ],
          [
           "Head in the Wall"
          ],
          [
           "Knuckle Velvet"
          ],
          [
           "Golden Age"
          ],
          [
           "Crush"
          ],
          [
           "Unpunishable"
          ],
          [
           "Inbred"
          ],
          [
           "Two-Headed Mother"
          ],
          [
           "Family Tree (Intro)"
          ],
          [
           "American Teenager"
          ],
          [
           "A House In Nebraska"
          ],
          [
           "Western Nights"
          ],
          [
           "Family Tree"
          ],
          [
           "Hard Times"
          ],
          [
           "Thoroughfare"
          ],
          [
           "Gibson Girl"
          ],
          [
           "Ptolemaea"
          ],
          [
           "Sun Bleached Flies"
          ],
          [
           "Strangers"
          ]
         ],
         "hovertemplate": "artist=Ethel Cain<br>danceability=%{x}<br>sadness=%{y}<br>title=%{customdata[0]}<extra></extra>",
         "legendgroup": "Ethel Cain",
         "marker": {
          "color": "#FFA15A",
          "symbol": "circle"
         },
         "mode": "markers",
         "name": "Ethel Cain",
         "orientation": "v",
         "showlegend": true,
         "type": "scatter",
         "x": [
          0.355,
          0.367,
          0.435,
          0.272,
          0.472,
          0.261,
          0.529,
          0.413,
          0.23,
          0.394,
          0.256,
          0.415,
          0.245,
          0.423,
          0.239,
          0.492,
          0.549,
          0.287,
          0.281,
          0.269,
          0.373
         ],
         "xaxis": "x",
         "y": [
          0.0744359276669061,
          0.21542910049677885,
          0.09835870191090344,
          0.2019625153175864,
          0.2576596252545656,
          0.1730768662411146,
          0.13841016683441085,
          0.1335621815324294,
          0.13158140868731794,
          0.13095339770069964,
          1.0102109872060412,
          0.12378322336439848,
          0.0840983936232075,
          0.166425481903253,
          0.10364156016471271,
          0.2156066672348744,
          0.11671525294730702,
          0.16446975039667922,
          0.012145095821269141,
          0.028388468008485473,
          0.04600414613135283
         ],
         "yaxis": "y"
        },
        {
         "customdata": [
          [
           "Daniel"
          ],
          [
           "Stop"
          ],
          [
           "Bad Street"
          ],
          [
           "Space Babe"
          ],
          [
           "Kimmi In a Rice Field"
          ],
          [
           "Luna's Theme"
          ],
          [
           "Spain"
          ],
          [
           "Gene Ciampi"
          ],
          [
           "Saturday Sunday"
          ],
          [
           "Eastern Green"
          ],
          [
           "Sensitive"
          ],
          [
           "Rude Boy"
          ],
          [
           "In the House of Yes"
          ],
          [
           "Blush"
          ],
          [
           "Out of the Dark"
          ],
          [
           "Twelve Angels"
          ],
          [
           "Crime Scene"
          ]
         ],
         "hovertemplate": "artist=Mr. Twin Sister<br>danceability=%{x}<br>sadness=%{y}<br>title=%{customdata[0]}<extra></extra>",
         "legendgroup": "Mr. Twin Sister",
         "marker": {
          "color": "#19d3f3",
          "symbol": "circle"
         },
         "mode": "markers",
         "name": "Mr. Twin Sister",
         "orientation": "v",
         "showlegend": true,
         "type": "scatter",
         "x": [
          0.557,
          0.66,
          0.792,
          0.605,
          0.5,
          0.277,
          0.33,
          0.666,
          0.621,
          0.291,
          0.465,
          0.752,
          0.695,
          0.295,
          0.866,
          0.379,
          0.334
         ],
         "xaxis": "x",
         "y": [
          1.0704056399486834,
          null,
          1.9878961884761264,
          0.6203833075119672,
          0,
          0,
          0.32895373213388784,
          0.31544457913351637,
          0.04872288119701732,
          0,
          1.1210679004112716,
          0.066192672389307,
          0,
          0.12685369753859035,
          0.2954206226247463,
          0.2605257468341714,
          0.5196960557940844
         ],
         "yaxis": "y"
        },
        {
         "customdata": [
          [
           "Pendulum"
          ],
          [
           "Dream the Dare"
          ],
          [
           "Evergreener"
          ],
          [
           "Twins"
          ],
          [
           "Only Lonely Lovers"
          ],
          [
           "Scotty"
          ],
          [
           "Temples of the Moon"
          ],
          [
           "Thin Growing Thing"
          ],
          [
           "Devotion"
          ],
          [
           "Veil"
          ],
          [
           "Black Starling"
          ],
          [
           "Ad Victoriam"
          ],
          [
           "All Night"
          ],
          [
           "Moonrise"
          ],
          [
           "Remember"
          ],
          [
           "Joyous Lake"
          ],
          [
           "Violet a Voyager"
          ],
          [
           "The Tower"
          ],
          [
           "Pray for Rain"
          ],
          [
           "Palest Pearl"
          ],
          [
           "Clover"
          ],
          [
           "Darling, Save Us"
          ],
          [
           "Singer"
          ],
          [
           "She Shakes"
          ],
          [
           "Maximilian's Ring"
          ],
          [
           "I Trace Your Symbol"
          ],
          [
           "In the Night, in the Peaceful Night"
          ]
         ],
         "hovertemplate": "artist=Pure Bathing Culture<br>danceability=%{x}<br>sadness=%{y}<br>title=%{customdata[0]}<extra></extra>",
         "legendgroup": "Pure Bathing Culture",
         "marker": {
          "color": "#FF6692",
          "symbol": "circle"
         },
         "mode": "markers",
         "name": "Pure Bathing Culture",
         "orientation": "v",
         "showlegend": true,
         "type": "scatter",
         "x": [
          0.582,
          0.388,
          0.343,
          0.599,
          0.534,
          0.511,
          0.373,
          0.43,
          0.554,
          0.174,
          0.502,
          0.457,
          0.445,
          0.613,
          0.538,
          0.559,
          0.522,
          0.688,
          0.561,
          0.684,
          0.6,
          0.623,
          0.644,
          0.613,
          0.587,
          0.598,
          0.688
         ],
         "xaxis": "x",
         "y": [
          null,
          0.08789005262712678,
          0.2519175704391185,
          0.9263137665214981,
          1.1233583735021255,
          0,
          null,
          0.04789119724937457,
          0,
          0.15667808734927083,
          0.5423596367086974,
          0,
          0.7692342012381291,
          0.32635791612753706,
          0.13892675459865136,
          0,
          0.22860959391029345,
          0,
          0.029533449501840434,
          0,
          0,
          0,
          0.3434738700801628,
          0,
          0.270172103339879,
          null,
          0.2436144059850866
         ],
         "yaxis": "y"
        },
        {
         "customdata": [
          [
           "Barbie Nation"
          ],
          [
           "Nasty Girls"
          ],
          [
           "Happy With Me"
          ],
          [
           "Tell Me How It Is"
          ],
          [
           "Running Behind"
          ],
          [
           "Money All Around"
          ],
          [
           "Monumental Glow"
          ],
          [
           "Plastered Smile"
          ],
          [
           "Best Friends"
          ],
          [
           "Diamonds On the Rebound"
          ],
          [
           "Regret You"
          ],
          [
           "U Make Me Sick"
          ],
          [
           "Over You"
          ],
          [
           "Number One"
          ],
          [
           "Hundred Thousand Hearts"
          ],
          [
           "Raining Romance"
          ],
          [
           "Haunt Me In The Night"
          ],
          [
           "Carmelo"
          ],
          [
           "Fight For Me"
          ],
          [
           "Patron Saint"
          ],
          [
           "Saturday"
          ],
          [
           "Wishing You Away"
          ]
         ],
         "hovertemplate": "artist=Holychild<br>danceability=%{x}<br>sadness=%{y}<br>title=%{customdata[0]}<extra></extra>",
         "legendgroup": "Holychild",
         "marker": {
          "color": "#B6E880",
          "symbol": "circle"
         },
         "mode": "markers",
         "name": "Holychild",
         "orientation": "v",
         "showlegend": true,
         "type": "scatter",
         "x": [
          0.534,
          0.718,
          0.817,
          0.683,
          0.739,
          0.668,
          0.73,
          0.71,
          0.635,
          0.66,
          0.712,
          0.819,
          0.485,
          0.659,
          0.604,
          0.577,
          0.487,
          0.836,
          0.458,
          0.675,
          0.457,
          0.697
         ],
         "xaxis": "x",
         "y": [
          0.0831572076554324,
          0.1986107109161119,
          0,
          0.027916008507696752,
          0.03789689634692753,
          0.13776609672267695,
          0.05920052911077182,
          0.12281521530766952,
          0.03423552166895338,
          0,
          0.1501584401303431,
          0.2616202416689303,
          0.5494234592663962,
          0.22793422329496577,
          0.07420584162612794,
          0.3745903709300522,
          0.06231964289126494,
          0.43961024296338164,
          0.18746084362092028,
          0,
          0.08883223023447981,
          0.0167899076495404
         ],
         "yaxis": "y"
        }
       ],
       "layout": {
        "legend": {
         "title": {
          "text": "artist"
         },
         "tracegroupgap": 0
        },
        "template": {
         "data": {
          "bar": [
           {
            "error_x": {
             "color": "#2a3f5f"
            },
            "error_y": {
             "color": "#2a3f5f"
            },
            "marker": {
             "line": {
              "color": "#E5ECF6",
              "width": 0.5
             },
             "pattern": {
              "fillmode": "overlay",
              "size": 10,
              "solidity": 0.2
             }
            },
            "type": "bar"
           }
          ],
          "barpolar": [
           {
            "marker": {
             "line": {
              "color": "#E5ECF6",
              "width": 0.5
             },
             "pattern": {
              "fillmode": "overlay",
              "size": 10,
              "solidity": 0.2
             }
            },
            "type": "barpolar"
           }
          ],
          "carpet": [
           {
            "aaxis": {
             "endlinecolor": "#2a3f5f",
             "gridcolor": "white",
             "linecolor": "white",
             "minorgridcolor": "white",
             "startlinecolor": "#2a3f5f"
            },
            "baxis": {
             "endlinecolor": "#2a3f5f",
             "gridcolor": "white",
             "linecolor": "white",
             "minorgridcolor": "white",
             "startlinecolor": "#2a3f5f"
            },
            "type": "carpet"
           }
          ],
          "choropleth": [
           {
            "colorbar": {
             "outlinewidth": 0,
             "ticks": ""
            },
            "type": "choropleth"
           }
          ],
          "contour": [
           {
            "colorbar": {
             "outlinewidth": 0,
             "ticks": ""
            },
            "colorscale": [
             [
              0,
              "#0d0887"
             ],
             [
              0.1111111111111111,
              "#46039f"
             ],
             [
              0.2222222222222222,
              "#7201a8"
             ],
             [
              0.3333333333333333,
              "#9c179e"
             ],
             [
              0.4444444444444444,
              "#bd3786"
             ],
             [
              0.5555555555555556,
              "#d8576b"
             ],
             [
              0.6666666666666666,
              "#ed7953"
             ],
             [
              0.7777777777777778,
              "#fb9f3a"
             ],
             [
              0.8888888888888888,
              "#fdca26"
             ],
             [
              1,
              "#f0f921"
             ]
            ],
            "type": "contour"
           }
          ],
          "contourcarpet": [
           {
            "colorbar": {
             "outlinewidth": 0,
             "ticks": ""
            },
            "type": "contourcarpet"
           }
          ],
          "heatmap": [
           {
            "colorbar": {
             "outlinewidth": 0,
             "ticks": ""
            },
            "colorscale": [
             [
              0,
              "#0d0887"
             ],
             [
              0.1111111111111111,
              "#46039f"
             ],
             [
              0.2222222222222222,
              "#7201a8"
             ],
             [
              0.3333333333333333,
              "#9c179e"
             ],
             [
              0.4444444444444444,
              "#bd3786"
             ],
             [
              0.5555555555555556,
              "#d8576b"
             ],
             [
              0.6666666666666666,
              "#ed7953"
             ],
             [
              0.7777777777777778,
              "#fb9f3a"
             ],
             [
              0.8888888888888888,
              "#fdca26"
             ],
             [
              1,
              "#f0f921"
             ]
            ],
            "type": "heatmap"
           }
          ],
          "heatmapgl": [
           {
            "colorbar": {
             "outlinewidth": 0,
             "ticks": ""
            },
            "colorscale": [
             [
              0,
              "#0d0887"
             ],
             [
              0.1111111111111111,
              "#46039f"
             ],
             [
              0.2222222222222222,
              "#7201a8"
             ],
             [
              0.3333333333333333,
              "#9c179e"
             ],
             [
              0.4444444444444444,
              "#bd3786"
             ],
             [
              0.5555555555555556,
              "#d8576b"
             ],
             [
              0.6666666666666666,
              "#ed7953"
             ],
             [
              0.7777777777777778,
              "#fb9f3a"
             ],
             [
              0.8888888888888888,
              "#fdca26"
             ],
             [
              1,
              "#f0f921"
             ]
            ],
            "type": "heatmapgl"
           }
          ],
          "histogram": [
           {
            "marker": {
             "pattern": {
              "fillmode": "overlay",
              "size": 10,
              "solidity": 0.2
             }
            },
            "type": "histogram"
           }
          ],
          "histogram2d": [
           {
            "colorbar": {
             "outlinewidth": 0,
             "ticks": ""
            },
            "colorscale": [
             [
              0,
              "#0d0887"
             ],
             [
              0.1111111111111111,
              "#46039f"
             ],
             [
              0.2222222222222222,
              "#7201a8"
             ],
             [
              0.3333333333333333,
              "#9c179e"
             ],
             [
              0.4444444444444444,
              "#bd3786"
             ],
             [
              0.5555555555555556,
              "#d8576b"
             ],
             [
              0.6666666666666666,
              "#ed7953"
             ],
             [
              0.7777777777777778,
              "#fb9f3a"
             ],
             [
              0.8888888888888888,
              "#fdca26"
             ],
             [
              1,
              "#f0f921"
             ]
            ],
            "type": "histogram2d"
           }
          ],
          "histogram2dcontour": [
           {
            "colorbar": {
             "outlinewidth": 0,
             "ticks": ""
            },
            "colorscale": [
             [
              0,
              "#0d0887"
             ],
             [
              0.1111111111111111,
              "#46039f"
             ],
             [
              0.2222222222222222,
              "#7201a8"
             ],
             [
              0.3333333333333333,
              "#9c179e"
             ],
             [
              0.4444444444444444,
              "#bd3786"
             ],
             [
              0.5555555555555556,
              "#d8576b"
             ],
             [
              0.6666666666666666,
              "#ed7953"
             ],
             [
              0.7777777777777778,
              "#fb9f3a"
             ],
             [
              0.8888888888888888,
              "#fdca26"
             ],
             [
              1,
              "#f0f921"
             ]
            ],
            "type": "histogram2dcontour"
           }
          ],
          "mesh3d": [
           {
            "colorbar": {
             "outlinewidth": 0,
             "ticks": ""
            },
            "type": "mesh3d"
           }
          ],
          "parcoords": [
           {
            "line": {
             "colorbar": {
              "outlinewidth": 0,
              "ticks": ""
             }
            },
            "type": "parcoords"
           }
          ],
          "pie": [
           {
            "automargin": true,
            "type": "pie"
           }
          ],
          "scatter": [
           {
            "fillpattern": {
             "fillmode": "overlay",
             "size": 10,
             "solidity": 0.2
            },
            "type": "scatter"
           }
          ],
          "scatter3d": [
           {
            "line": {
             "colorbar": {
              "outlinewidth": 0,
              "ticks": ""
             }
            },
            "marker": {
             "colorbar": {
              "outlinewidth": 0,
              "ticks": ""
             }
            },
            "type": "scatter3d"
           }
          ],
          "scattercarpet": [
           {
            "marker": {
             "colorbar": {
              "outlinewidth": 0,
              "ticks": ""
             }
            },
            "type": "scattercarpet"
           }
          ],
          "scattergeo": [
           {
            "marker": {
             "colorbar": {
              "outlinewidth": 0,
              "ticks": ""
             }
            },
            "type": "scattergeo"
           }
          ],
          "scattergl": [
           {
            "marker": {
             "colorbar": {
              "outlinewidth": 0,
              "ticks": ""
             }
            },
            "type": "scattergl"
           }
          ],
          "scattermapbox": [
           {
            "marker": {
             "colorbar": {
              "outlinewidth": 0,
              "ticks": ""
             }
            },
            "type": "scattermapbox"
           }
          ],
          "scatterpolar": [
           {
            "marker": {
             "colorbar": {
              "outlinewidth": 0,
              "ticks": ""
             }
            },
            "type": "scatterpolar"
           }
          ],
          "scatterpolargl": [
           {
            "marker": {
             "colorbar": {
              "outlinewidth": 0,
              "ticks": ""
             }
            },
            "type": "scatterpolargl"
           }
          ],
          "scatterternary": [
           {
            "marker": {
             "colorbar": {
              "outlinewidth": 0,
              "ticks": ""
             }
            },
            "type": "scatterternary"
           }
          ],
          "surface": [
           {
            "colorbar": {
             "outlinewidth": 0,
             "ticks": ""
            },
            "colorscale": [
             [
              0,
              "#0d0887"
             ],
             [
              0.1111111111111111,
              "#46039f"
             ],
             [
              0.2222222222222222,
              "#7201a8"
             ],
             [
              0.3333333333333333,
              "#9c179e"
             ],
             [
              0.4444444444444444,
              "#bd3786"
             ],
             [
              0.5555555555555556,
              "#d8576b"
             ],
             [
              0.6666666666666666,
              "#ed7953"
             ],
             [
              0.7777777777777778,
              "#fb9f3a"
             ],
             [
              0.8888888888888888,
              "#fdca26"
             ],
             [
              1,
              "#f0f921"
             ]
            ],
            "type": "surface"
           }
          ],
          "table": [
           {
            "cells": {
             "fill": {
              "color": "#EBF0F8"
             },
             "line": {
              "color": "white"
             }
            },
            "header": {
             "fill": {
              "color": "#C8D4E3"
             },
             "line": {
              "color": "white"
             }
            },
            "type": "table"
           }
          ]
         },
         "layout": {
          "annotationdefaults": {
           "arrowcolor": "#2a3f5f",
           "arrowhead": 0,
           "arrowwidth": 1
          },
          "autotypenumbers": "strict",
          "coloraxis": {
           "colorbar": {
            "outlinewidth": 0,
            "ticks": ""
           }
          },
          "colorscale": {
           "diverging": [
            [
             0,
             "#8e0152"
            ],
            [
             0.1,
             "#c51b7d"
            ],
            [
             0.2,
             "#de77ae"
            ],
            [
             0.3,
             "#f1b6da"
            ],
            [
             0.4,
             "#fde0ef"
            ],
            [
             0.5,
             "#f7f7f7"
            ],
            [
             0.6,
             "#e6f5d0"
            ],
            [
             0.7,
             "#b8e186"
            ],
            [
             0.8,
             "#7fbc41"
            ],
            [
             0.9,
             "#4d9221"
            ],
            [
             1,
             "#276419"
            ]
           ],
           "sequential": [
            [
             0,
             "#0d0887"
            ],
            [
             0.1111111111111111,
             "#46039f"
            ],
            [
             0.2222222222222222,
             "#7201a8"
            ],
            [
             0.3333333333333333,
             "#9c179e"
            ],
            [
             0.4444444444444444,
             "#bd3786"
            ],
            [
             0.5555555555555556,
             "#d8576b"
            ],
            [
             0.6666666666666666,
             "#ed7953"
            ],
            [
             0.7777777777777778,
             "#fb9f3a"
            ],
            [
             0.8888888888888888,
             "#fdca26"
            ],
            [
             1,
             "#f0f921"
            ]
           ],
           "sequentialminus": [
            [
             0,
             "#0d0887"
            ],
            [
             0.1111111111111111,
             "#46039f"
            ],
            [
             0.2222222222222222,
             "#7201a8"
            ],
            [
             0.3333333333333333,
             "#9c179e"
            ],
            [
             0.4444444444444444,
             "#bd3786"
            ],
            [
             0.5555555555555556,
             "#d8576b"
            ],
            [
             0.6666666666666666,
             "#ed7953"
            ],
            [
             0.7777777777777778,
             "#fb9f3a"
            ],
            [
             0.8888888888888888,
             "#fdca26"
            ],
            [
             1,
             "#f0f921"
            ]
           ]
          },
          "colorway": [
           "#636efa",
           "#EF553B",
           "#00cc96",
           "#ab63fa",
           "#FFA15A",
           "#19d3f3",
           "#FF6692",
           "#B6E880",
           "#FF97FF",
           "#FECB52"
          ],
          "font": {
           "color": "#2a3f5f"
          },
          "geo": {
           "bgcolor": "white",
           "lakecolor": "white",
           "landcolor": "#E5ECF6",
           "showlakes": true,
           "showland": true,
           "subunitcolor": "white"
          },
          "hoverlabel": {
           "align": "left"
          },
          "hovermode": "closest",
          "mapbox": {
           "style": "light"
          },
          "paper_bgcolor": "white",
          "plot_bgcolor": "#E5ECF6",
          "polar": {
           "angularaxis": {
            "gridcolor": "white",
            "linecolor": "white",
            "ticks": ""
           },
           "bgcolor": "#E5ECF6",
           "radialaxis": {
            "gridcolor": "white",
            "linecolor": "white",
            "ticks": ""
           }
          },
          "scene": {
           "xaxis": {
            "backgroundcolor": "#E5ECF6",
            "gridcolor": "white",
            "gridwidth": 2,
            "linecolor": "white",
            "showbackground": true,
            "ticks": "",
            "zerolinecolor": "white"
           },
           "yaxis": {
            "backgroundcolor": "#E5ECF6",
            "gridcolor": "white",
            "gridwidth": 2,
            "linecolor": "white",
            "showbackground": true,
            "ticks": "",
            "zerolinecolor": "white"
           },
           "zaxis": {
            "backgroundcolor": "#E5ECF6",
            "gridcolor": "white",
            "gridwidth": 2,
            "linecolor": "white",
            "showbackground": true,
            "ticks": "",
            "zerolinecolor": "white"
           }
          },
          "shapedefaults": {
           "line": {
            "color": "#2a3f5f"
           }
          },
          "ternary": {
           "aaxis": {
            "gridcolor": "white",
            "linecolor": "white",
            "ticks": ""
           },
           "baxis": {
            "gridcolor": "white",
            "linecolor": "white",
            "ticks": ""
           },
           "bgcolor": "#E5ECF6",
           "caxis": {
            "gridcolor": "white",
            "linecolor": "white",
            "ticks": ""
           }
          },
          "title": {
           "x": 0.05
          },
          "xaxis": {
           "automargin": true,
           "gridcolor": "white",
           "linecolor": "white",
           "ticks": "",
           "title": {
            "standoff": 15
           },
           "zerolinecolor": "white",
           "zerolinewidth": 2
          },
          "yaxis": {
           "automargin": true,
           "gridcolor": "white",
           "linecolor": "white",
           "ticks": "",
           "title": {
            "standoff": 15
           },
           "zerolinecolor": "white",
           "zerolinewidth": 2
          }
         }
        },
        "title": {
         "text": "Song Sadness vs. Danceability"
        },
        "xaxis": {
         "anchor": "y",
         "domain": [
          0,
          1
         ],
         "title": {
          "text": "danceability"
         }
        },
        "yaxis": {
         "anchor": "x",
         "domain": [
          0,
          1
         ],
         "title": {
          "text": "sadness"
         }
        }
       }
      }
     },
     "metadata": {},
     "output_type": "display_data"
    }
   ],
   "source": [
    "px.scatter(SONG_LIB, x='danceability', y='sadness', color='artist', title='Song Sadness vs. Danceability', hover_data='title')"
   ]
  },
  {
   "cell_type": "markdown",
   "metadata": {},
   "source": [
    "Danceability describes how suitable a track is for dancing based on a combination of musical elements including tempo, rhythm stability, beat strength, and overall regularity. A value of 0.0 is least danceable and 1.0 is most danceable."
   ]
  },
  {
   "cell_type": "markdown",
   "metadata": {},
   "source": [
    "## Riff\n",
    "Graph sentiment over albums"
   ]
  },
  {
   "cell_type": "code",
   "execution_count": 44,
   "metadata": {},
   "outputs": [
    {
     "data": {
      "application/vnd.plotly.v1+json": {
       "config": {
        "plotlyServerURL": "https://plot.ly"
       },
       "data": [
        {
         "hovertemplate": "album=Actor<br>track_number=%{x}<br>sentiment=%{y}<extra></extra>",
         "legendgroup": "Actor",
         "line": {
          "color": "#636efa",
          "dash": "solid"
         },
         "marker": {
          "symbol": "circle"
         },
         "mode": "lines",
         "name": "Actor",
         "orientation": "v",
         "showlegend": true,
         "type": "scatter",
         "x": [
          1,
          2,
          3,
          4,
          5,
          6,
          7,
          8,
          9,
          10,
          11
         ],
         "xaxis": "x",
         "y": [
          -0.667571553420326,
          1.5248014363408597,
          0.5213645885387796,
          -0.047809063860178636,
          -0.5437120796877857,
          0.2661217911330478,
          null,
          -0.8106710445582825,
          -0.021815081502375544,
          null,
          null
         ],
         "yaxis": "y"
        },
        {
         "hovertemplate": "album=Daddy's Home<br>track_number=%{x}<br>sentiment=%{y}<extra></extra>",
         "legendgroup": "Daddy's Home",
         "line": {
          "color": "#EF553B",
          "dash": "solid"
         },
         "marker": {
          "symbol": "circle"
         },
         "mode": "lines",
         "name": "Daddy's Home",
         "orientation": "v",
         "showlegend": true,
         "type": "scatter",
         "x": [
          1,
          2,
          3,
          4,
          5,
          6,
          7,
          8,
          10,
          11,
          12,
          13,
          14
         ],
         "xaxis": "x",
         "y": [
          0.20531280710462513,
          -0.37908270469350686,
          0.15407055349138207,
          0.04258938631442825,
          0.08986397038714988,
          null,
          0.3332938596709227,
          -0.3039296339780484,
          0.5562541724076341,
          0.4805176304105616,
          0.1681601850616907,
          0.7772673768137301,
          -1.1982432584133682
         ],
         "yaxis": "y"
        },
        {
         "hovertemplate": "album=Love This Giant<br>track_number=%{x}<br>sentiment=%{y}<extra></extra>",
         "legendgroup": "Love This Giant",
         "line": {
          "color": "#00cc96",
          "dash": "solid"
         },
         "marker": {
          "symbol": "circle"
         },
         "mode": "lines",
         "name": "Love This Giant",
         "orientation": "v",
         "showlegend": true,
         "type": "scatter",
         "x": [
          1,
          2,
          3,
          4,
          5,
          6,
          7,
          8,
          9,
          10,
          11,
          12
         ],
         "xaxis": "x",
         "y": [
          0.05331855165837292,
          -0.021561610729487042,
          -0.4404872313816122,
          -0.6661166745392777,
          -0.4309101428331653,
          -0.020392439689177064,
          0.07499055200281833,
          0.5796510046008374,
          1.3163308187740275,
          0.1867634579513368,
          0.03722995060933996,
          -0.07929049443315384
         ],
         "yaxis": "y"
        },
        {
         "hovertemplate": "album=MASSEDUCTION<br>track_number=%{x}<br>sentiment=%{y}<extra></extra>",
         "legendgroup": "MASSEDUCTION",
         "line": {
          "color": "#ab63fa",
          "dash": "solid"
         },
         "marker": {
          "symbol": "circle"
         },
         "mode": "lines",
         "name": "MASSEDUCTION",
         "orientation": "v",
         "showlegend": true,
         "type": "scatter",
         "x": [
          1,
          2,
          3,
          4,
          5,
          6,
          7,
          8,
          9,
          10,
          12,
          13
         ],
         "xaxis": "x",
         "y": [
          -0.3949909105223136,
          0.023245318998129857,
          -0.9816462201491774,
          -0.09212180082396575,
          0.03555305301322198,
          0.18050917971039782,
          0.01620766006204862,
          0.4729435635053359,
          0.4930297873035643,
          1.1365849103500094,
          -0.23445435274016702,
          -0.0740072557052576
         ],
         "yaxis": "y"
        },
        {
         "hovertemplate": "album=Marry Me<br>track_number=%{x}<br>sentiment=%{y}<extra></extra>",
         "legendgroup": "Marry Me",
         "line": {
          "color": "#FFA15A",
          "dash": "solid"
         },
         "marker": {
          "symbol": "circle"
         },
         "mode": "lines",
         "name": "Marry Me",
         "orientation": "v",
         "showlegend": true,
         "type": "scatter",
         "x": [
          1,
          2,
          3,
          4,
          5,
          6,
          7,
          9,
          10,
          11
         ],
         "xaxis": "x",
         "y": [
          0.028118460546950247,
          -0.6054194648811602,
          -0.728510135026518,
          -0.7344098266302275,
          0.013872583926756773,
          -0.05732280480914864,
          -0.5675302865687653,
          0.5687561567840946,
          0.2548481521234966,
          0.3146625125111796
         ],
         "yaxis": "y"
        },
        {
         "hovertemplate": "album=St. Vincent (Deluxe Edition)<br>track_number=%{x}<br>sentiment=%{y}<extra></extra>",
         "legendgroup": "St. Vincent (Deluxe Edition)",
         "line": {
          "color": "#19d3f3",
          "dash": "solid"
         },
         "marker": {
          "symbol": "circle"
         },
         "mode": "lines",
         "name": "St. Vincent (Deluxe Edition)",
         "orientation": "v",
         "showlegend": true,
         "type": "scatter",
         "x": [
          1,
          2,
          3,
          4,
          5,
          6,
          7,
          8,
          9,
          10,
          11,
          12,
          13,
          14,
          15,
          16
         ],
         "xaxis": "x",
         "y": [
          0.3579004626542268,
          0.6923502735308229,
          0.7150592171220925,
          0.19274143061371496,
          0,
          0.48741123600610275,
          -0.24837713091926344,
          0.5879083394722113,
          -0.3994144194711227,
          -0.6191636935841092,
          0.02004583653525476,
          -0.5044984822974579,
          0.16507442490534777,
          -0.5453059601424876,
          0.5163243904807374,
          0
         ],
         "yaxis": "y"
        },
        {
         "hovertemplate": "album=Strange Mercy<br>track_number=%{x}<br>sentiment=%{y}<extra></extra>",
         "legendgroup": "Strange Mercy",
         "line": {
          "color": "#FF6692",
          "dash": "solid"
         },
         "marker": {
          "symbol": "circle"
         },
         "mode": "lines",
         "name": "Strange Mercy",
         "orientation": "v",
         "showlegend": true,
         "type": "scatter",
         "x": [
          1,
          2,
          3,
          4,
          5,
          6,
          7,
          8,
          9,
          10,
          11
         ],
         "xaxis": "x",
         "y": [
          0.043452356069883236,
          -2.3155875726745085,
          -0.25304412320153546,
          -0.24537186950276052,
          0.6565595267669021,
          -0.36971142462154327,
          0,
          -0.0017491191885172785,
          -2.7089615931634663,
          -0.12810309347678386,
          0.2020183159282775
         ],
         "yaxis": "y"
        }
       ],
       "layout": {
        "legend": {
         "title": {
          "text": "album"
         },
         "tracegroupgap": 0
        },
        "template": {
         "data": {
          "bar": [
           {
            "error_x": {
             "color": "#2a3f5f"
            },
            "error_y": {
             "color": "#2a3f5f"
            },
            "marker": {
             "line": {
              "color": "#E5ECF6",
              "width": 0.5
             },
             "pattern": {
              "fillmode": "overlay",
              "size": 10,
              "solidity": 0.2
             }
            },
            "type": "bar"
           }
          ],
          "barpolar": [
           {
            "marker": {
             "line": {
              "color": "#E5ECF6",
              "width": 0.5
             },
             "pattern": {
              "fillmode": "overlay",
              "size": 10,
              "solidity": 0.2
             }
            },
            "type": "barpolar"
           }
          ],
          "carpet": [
           {
            "aaxis": {
             "endlinecolor": "#2a3f5f",
             "gridcolor": "white",
             "linecolor": "white",
             "minorgridcolor": "white",
             "startlinecolor": "#2a3f5f"
            },
            "baxis": {
             "endlinecolor": "#2a3f5f",
             "gridcolor": "white",
             "linecolor": "white",
             "minorgridcolor": "white",
             "startlinecolor": "#2a3f5f"
            },
            "type": "carpet"
           }
          ],
          "choropleth": [
           {
            "colorbar": {
             "outlinewidth": 0,
             "ticks": ""
            },
            "type": "choropleth"
           }
          ],
          "contour": [
           {
            "colorbar": {
             "outlinewidth": 0,
             "ticks": ""
            },
            "colorscale": [
             [
              0,
              "#0d0887"
             ],
             [
              0.1111111111111111,
              "#46039f"
             ],
             [
              0.2222222222222222,
              "#7201a8"
             ],
             [
              0.3333333333333333,
              "#9c179e"
             ],
             [
              0.4444444444444444,
              "#bd3786"
             ],
             [
              0.5555555555555556,
              "#d8576b"
             ],
             [
              0.6666666666666666,
              "#ed7953"
             ],
             [
              0.7777777777777778,
              "#fb9f3a"
             ],
             [
              0.8888888888888888,
              "#fdca26"
             ],
             [
              1,
              "#f0f921"
             ]
            ],
            "type": "contour"
           }
          ],
          "contourcarpet": [
           {
            "colorbar": {
             "outlinewidth": 0,
             "ticks": ""
            },
            "type": "contourcarpet"
           }
          ],
          "heatmap": [
           {
            "colorbar": {
             "outlinewidth": 0,
             "ticks": ""
            },
            "colorscale": [
             [
              0,
              "#0d0887"
             ],
             [
              0.1111111111111111,
              "#46039f"
             ],
             [
              0.2222222222222222,
              "#7201a8"
             ],
             [
              0.3333333333333333,
              "#9c179e"
             ],
             [
              0.4444444444444444,
              "#bd3786"
             ],
             [
              0.5555555555555556,
              "#d8576b"
             ],
             [
              0.6666666666666666,
              "#ed7953"
             ],
             [
              0.7777777777777778,
              "#fb9f3a"
             ],
             [
              0.8888888888888888,
              "#fdca26"
             ],
             [
              1,
              "#f0f921"
             ]
            ],
            "type": "heatmap"
           }
          ],
          "heatmapgl": [
           {
            "colorbar": {
             "outlinewidth": 0,
             "ticks": ""
            },
            "colorscale": [
             [
              0,
              "#0d0887"
             ],
             [
              0.1111111111111111,
              "#46039f"
             ],
             [
              0.2222222222222222,
              "#7201a8"
             ],
             [
              0.3333333333333333,
              "#9c179e"
             ],
             [
              0.4444444444444444,
              "#bd3786"
             ],
             [
              0.5555555555555556,
              "#d8576b"
             ],
             [
              0.6666666666666666,
              "#ed7953"
             ],
             [
              0.7777777777777778,
              "#fb9f3a"
             ],
             [
              0.8888888888888888,
              "#fdca26"
             ],
             [
              1,
              "#f0f921"
             ]
            ],
            "type": "heatmapgl"
           }
          ],
          "histogram": [
           {
            "marker": {
             "pattern": {
              "fillmode": "overlay",
              "size": 10,
              "solidity": 0.2
             }
            },
            "type": "histogram"
           }
          ],
          "histogram2d": [
           {
            "colorbar": {
             "outlinewidth": 0,
             "ticks": ""
            },
            "colorscale": [
             [
              0,
              "#0d0887"
             ],
             [
              0.1111111111111111,
              "#46039f"
             ],
             [
              0.2222222222222222,
              "#7201a8"
             ],
             [
              0.3333333333333333,
              "#9c179e"
             ],
             [
              0.4444444444444444,
              "#bd3786"
             ],
             [
              0.5555555555555556,
              "#d8576b"
             ],
             [
              0.6666666666666666,
              "#ed7953"
             ],
             [
              0.7777777777777778,
              "#fb9f3a"
             ],
             [
              0.8888888888888888,
              "#fdca26"
             ],
             [
              1,
              "#f0f921"
             ]
            ],
            "type": "histogram2d"
           }
          ],
          "histogram2dcontour": [
           {
            "colorbar": {
             "outlinewidth": 0,
             "ticks": ""
            },
            "colorscale": [
             [
              0,
              "#0d0887"
             ],
             [
              0.1111111111111111,
              "#46039f"
             ],
             [
              0.2222222222222222,
              "#7201a8"
             ],
             [
              0.3333333333333333,
              "#9c179e"
             ],
             [
              0.4444444444444444,
              "#bd3786"
             ],
             [
              0.5555555555555556,
              "#d8576b"
             ],
             [
              0.6666666666666666,
              "#ed7953"
             ],
             [
              0.7777777777777778,
              "#fb9f3a"
             ],
             [
              0.8888888888888888,
              "#fdca26"
             ],
             [
              1,
              "#f0f921"
             ]
            ],
            "type": "histogram2dcontour"
           }
          ],
          "mesh3d": [
           {
            "colorbar": {
             "outlinewidth": 0,
             "ticks": ""
            },
            "type": "mesh3d"
           }
          ],
          "parcoords": [
           {
            "line": {
             "colorbar": {
              "outlinewidth": 0,
              "ticks": ""
             }
            },
            "type": "parcoords"
           }
          ],
          "pie": [
           {
            "automargin": true,
            "type": "pie"
           }
          ],
          "scatter": [
           {
            "fillpattern": {
             "fillmode": "overlay",
             "size": 10,
             "solidity": 0.2
            },
            "type": "scatter"
           }
          ],
          "scatter3d": [
           {
            "line": {
             "colorbar": {
              "outlinewidth": 0,
              "ticks": ""
             }
            },
            "marker": {
             "colorbar": {
              "outlinewidth": 0,
              "ticks": ""
             }
            },
            "type": "scatter3d"
           }
          ],
          "scattercarpet": [
           {
            "marker": {
             "colorbar": {
              "outlinewidth": 0,
              "ticks": ""
             }
            },
            "type": "scattercarpet"
           }
          ],
          "scattergeo": [
           {
            "marker": {
             "colorbar": {
              "outlinewidth": 0,
              "ticks": ""
             }
            },
            "type": "scattergeo"
           }
          ],
          "scattergl": [
           {
            "marker": {
             "colorbar": {
              "outlinewidth": 0,
              "ticks": ""
             }
            },
            "type": "scattergl"
           }
          ],
          "scattermapbox": [
           {
            "marker": {
             "colorbar": {
              "outlinewidth": 0,
              "ticks": ""
             }
            },
            "type": "scattermapbox"
           }
          ],
          "scatterpolar": [
           {
            "marker": {
             "colorbar": {
              "outlinewidth": 0,
              "ticks": ""
             }
            },
            "type": "scatterpolar"
           }
          ],
          "scatterpolargl": [
           {
            "marker": {
             "colorbar": {
              "outlinewidth": 0,
              "ticks": ""
             }
            },
            "type": "scatterpolargl"
           }
          ],
          "scatterternary": [
           {
            "marker": {
             "colorbar": {
              "outlinewidth": 0,
              "ticks": ""
             }
            },
            "type": "scatterternary"
           }
          ],
          "surface": [
           {
            "colorbar": {
             "outlinewidth": 0,
             "ticks": ""
            },
            "colorscale": [
             [
              0,
              "#0d0887"
             ],
             [
              0.1111111111111111,
              "#46039f"
             ],
             [
              0.2222222222222222,
              "#7201a8"
             ],
             [
              0.3333333333333333,
              "#9c179e"
             ],
             [
              0.4444444444444444,
              "#bd3786"
             ],
             [
              0.5555555555555556,
              "#d8576b"
             ],
             [
              0.6666666666666666,
              "#ed7953"
             ],
             [
              0.7777777777777778,
              "#fb9f3a"
             ],
             [
              0.8888888888888888,
              "#fdca26"
             ],
             [
              1,
              "#f0f921"
             ]
            ],
            "type": "surface"
           }
          ],
          "table": [
           {
            "cells": {
             "fill": {
              "color": "#EBF0F8"
             },
             "line": {
              "color": "white"
             }
            },
            "header": {
             "fill": {
              "color": "#C8D4E3"
             },
             "line": {
              "color": "white"
             }
            },
            "type": "table"
           }
          ]
         },
         "layout": {
          "annotationdefaults": {
           "arrowcolor": "#2a3f5f",
           "arrowhead": 0,
           "arrowwidth": 1
          },
          "autotypenumbers": "strict",
          "coloraxis": {
           "colorbar": {
            "outlinewidth": 0,
            "ticks": ""
           }
          },
          "colorscale": {
           "diverging": [
            [
             0,
             "#8e0152"
            ],
            [
             0.1,
             "#c51b7d"
            ],
            [
             0.2,
             "#de77ae"
            ],
            [
             0.3,
             "#f1b6da"
            ],
            [
             0.4,
             "#fde0ef"
            ],
            [
             0.5,
             "#f7f7f7"
            ],
            [
             0.6,
             "#e6f5d0"
            ],
            [
             0.7,
             "#b8e186"
            ],
            [
             0.8,
             "#7fbc41"
            ],
            [
             0.9,
             "#4d9221"
            ],
            [
             1,
             "#276419"
            ]
           ],
           "sequential": [
            [
             0,
             "#0d0887"
            ],
            [
             0.1111111111111111,
             "#46039f"
            ],
            [
             0.2222222222222222,
             "#7201a8"
            ],
            [
             0.3333333333333333,
             "#9c179e"
            ],
            [
             0.4444444444444444,
             "#bd3786"
            ],
            [
             0.5555555555555556,
             "#d8576b"
            ],
            [
             0.6666666666666666,
             "#ed7953"
            ],
            [
             0.7777777777777778,
             "#fb9f3a"
            ],
            [
             0.8888888888888888,
             "#fdca26"
            ],
            [
             1,
             "#f0f921"
            ]
           ],
           "sequentialminus": [
            [
             0,
             "#0d0887"
            ],
            [
             0.1111111111111111,
             "#46039f"
            ],
            [
             0.2222222222222222,
             "#7201a8"
            ],
            [
             0.3333333333333333,
             "#9c179e"
            ],
            [
             0.4444444444444444,
             "#bd3786"
            ],
            [
             0.5555555555555556,
             "#d8576b"
            ],
            [
             0.6666666666666666,
             "#ed7953"
            ],
            [
             0.7777777777777778,
             "#fb9f3a"
            ],
            [
             0.8888888888888888,
             "#fdca26"
            ],
            [
             1,
             "#f0f921"
            ]
           ]
          },
          "colorway": [
           "#636efa",
           "#EF553B",
           "#00cc96",
           "#ab63fa",
           "#FFA15A",
           "#19d3f3",
           "#FF6692",
           "#B6E880",
           "#FF97FF",
           "#FECB52"
          ],
          "font": {
           "color": "#2a3f5f"
          },
          "geo": {
           "bgcolor": "white",
           "lakecolor": "white",
           "landcolor": "#E5ECF6",
           "showlakes": true,
           "showland": true,
           "subunitcolor": "white"
          },
          "hoverlabel": {
           "align": "left"
          },
          "hovermode": "closest",
          "mapbox": {
           "style": "light"
          },
          "paper_bgcolor": "white",
          "plot_bgcolor": "#E5ECF6",
          "polar": {
           "angularaxis": {
            "gridcolor": "white",
            "linecolor": "white",
            "ticks": ""
           },
           "bgcolor": "#E5ECF6",
           "radialaxis": {
            "gridcolor": "white",
            "linecolor": "white",
            "ticks": ""
           }
          },
          "scene": {
           "xaxis": {
            "backgroundcolor": "#E5ECF6",
            "gridcolor": "white",
            "gridwidth": 2,
            "linecolor": "white",
            "showbackground": true,
            "ticks": "",
            "zerolinecolor": "white"
           },
           "yaxis": {
            "backgroundcolor": "#E5ECF6",
            "gridcolor": "white",
            "gridwidth": 2,
            "linecolor": "white",
            "showbackground": true,
            "ticks": "",
            "zerolinecolor": "white"
           },
           "zaxis": {
            "backgroundcolor": "#E5ECF6",
            "gridcolor": "white",
            "gridwidth": 2,
            "linecolor": "white",
            "showbackground": true,
            "ticks": "",
            "zerolinecolor": "white"
           }
          },
          "shapedefaults": {
           "line": {
            "color": "#2a3f5f"
           }
          },
          "ternary": {
           "aaxis": {
            "gridcolor": "white",
            "linecolor": "white",
            "ticks": ""
           },
           "baxis": {
            "gridcolor": "white",
            "linecolor": "white",
            "ticks": ""
           },
           "bgcolor": "#E5ECF6",
           "caxis": {
            "gridcolor": "white",
            "linecolor": "white",
            "ticks": ""
           }
          },
          "title": {
           "x": 0.05
          },
          "xaxis": {
           "automargin": true,
           "gridcolor": "white",
           "linecolor": "white",
           "ticks": "",
           "title": {
            "standoff": 15
           },
           "zerolinecolor": "white",
           "zerolinewidth": 2
          },
          "yaxis": {
           "automargin": true,
           "gridcolor": "white",
           "linecolor": "white",
           "ticks": "",
           "title": {
            "standoff": 15
           },
           "zerolinecolor": "white",
           "zerolinewidth": 2
          }
         }
        },
        "title": {
         "text": "Sentiment Over Songs for St. Vincent"
        },
        "xaxis": {
         "anchor": "y",
         "domain": [
          0,
          1
         ],
         "title": {
          "text": "track_number"
         }
        },
        "yaxis": {
         "anchor": "x",
         "domain": [
          0,
          1
         ],
         "title": {
          "text": "sentiment"
         }
        }
       }
      }
     },
     "metadata": {},
     "output_type": "display_data"
    }
   ],
   "source": [
    "px.line(SONG_LIB.query(f'artist == \"St. Vincent\"'), x='track_number', y='sentiment', color='album',\n",
    "        title=f'Sentiment Over Songs for St. Vincent')"
   ]
  },
  {
   "cell_type": "code",
   "execution_count": 45,
   "metadata": {},
   "outputs": [
    {
     "data": {
      "application/vnd.plotly.v1+json": {
       "config": {
        "plotlyServerURL": "https://plot.ly"
       },
       "data": [
        {
         "hovertemplate": "album=A Moon Shaped Pool<br>track_number=%{x}<br>sentiment=%{y}<extra></extra>",
         "legendgroup": "A Moon Shaped Pool",
         "line": {
          "color": "#636efa",
          "dash": "solid"
         },
         "marker": {
          "symbol": "circle"
         },
         "mode": "lines",
         "name": "A Moon Shaped Pool",
         "orientation": "v",
         "showlegend": true,
         "type": "scatter",
         "x": [
          1,
          2,
          3,
          4,
          5,
          6,
          7,
          8,
          9,
          10,
          11
         ],
         "xaxis": "x",
         "y": [
          -0.33924839842696797,
          -0.015099755335488352,
          1.4463193933903762,
          0.9633238855407541,
          -0.1070691390832702,
          0.3266157441512285,
          -0.8690235475113323,
          0.10550214190193316,
          0.25482185594792617,
          0.018341588982907275,
          -0.7288172362658742
         ],
         "yaxis": "y"
        },
        {
         "hovertemplate": "album=Amnesiac<br>track_number=%{x}<br>sentiment=%{y}<extra></extra>",
         "legendgroup": "Amnesiac",
         "line": {
          "color": "#EF553B",
          "dash": "solid"
         },
         "marker": {
          "symbol": "circle"
         },
         "mode": "lines",
         "name": "Amnesiac",
         "orientation": "v",
         "showlegend": true,
         "type": "scatter",
         "x": [
          1,
          2,
          3,
          4,
          5,
          6,
          7,
          8,
          10,
          11
         ],
         "xaxis": "x",
         "y": [
          -6.238300184030057,
          null,
          null,
          -0.5280790511508731,
          0.63917853715377,
          1.0277694324318822,
          null,
          0.2515971588279042,
          2.5979463428844247,
          -0.32547815898094873
         ],
         "yaxis": "y"
        },
        {
         "hovertemplate": "album=Hail To the Thief<br>track_number=%{x}<br>sentiment=%{y}<extra></extra>",
         "legendgroup": "Hail To the Thief",
         "line": {
          "color": "#00cc96",
          "dash": "solid"
         },
         "marker": {
          "symbol": "circle"
         },
         "mode": "lines",
         "name": "Hail To the Thief",
         "orientation": "v",
         "showlegend": true,
         "type": "scatter",
         "x": [
          1,
          2,
          3,
          4,
          5,
          6,
          7,
          8,
          9,
          10,
          11,
          12,
          13,
          14
         ],
         "xaxis": "x",
         "y": [
          -0.1398210289882307,
          -0.1940775313820595,
          null,
          -1.7636604149013357,
          0.6494865857211062,
          0.7302093914010396,
          0.9004708424528233,
          -1.8278424757971965,
          0.009177586770579449,
          0.10326742071517812,
          -0.030558625731775573,
          -0.1333917512583307,
          -0.7892280594110433,
          -0.027287399590893605
         ],
         "yaxis": "y"
        },
        {
         "hovertemplate": "album=In Rainbows<br>track_number=%{x}<br>sentiment=%{y}<extra></extra>",
         "legendgroup": "In Rainbows",
         "line": {
          "color": "#ab63fa",
          "dash": "solid"
         },
         "marker": {
          "symbol": "circle"
         },
         "mode": "lines",
         "name": "In Rainbows",
         "orientation": "v",
         "showlegend": true,
         "type": "scatter",
         "x": [
          1,
          2,
          3,
          4,
          5,
          6,
          7,
          8,
          9,
          10
         ],
         "xaxis": "x",
         "y": [
          null,
          0.15596416233653354,
          -0.5039838355372119,
          -1.042961377576438,
          -1.1792664807819884,
          0.18335394985149425,
          -0.6494865857211062,
          -0.02339757570902936,
          -0.12234029024227598,
          0.14923343382113444
         ],
         "yaxis": "y"
        },
        {
         "hovertemplate": "album=Kid A<br>track_number=%{x}<br>sentiment=%{y}<extra></extra>",
         "legendgroup": "Kid A",
         "line": {
          "color": "#FFA15A",
          "dash": "solid"
         },
         "marker": {
          "symbol": "circle"
         },
         "mode": "lines",
         "name": "Kid A",
         "orientation": "v",
         "showlegend": true,
         "type": "scatter",
         "x": [
          1,
          2,
          3,
          4,
          6,
          7,
          8,
          9,
          10
         ],
         "xaxis": "x",
         "y": [
          null,
          -0.013151720291689761,
          null,
          -0.2396486516826736,
          0.14339493462890182,
          -0.18560364321928463,
          0.4267232608936863,
          0.2954004626542268,
          -1.560955272458936
         ],
         "yaxis": "y"
        },
        {
         "hovertemplate": "album=OK Computer<br>track_number=%{x}<br>sentiment=%{y}<extra></extra>",
         "legendgroup": "OK Computer",
         "line": {
          "color": "#19d3f3",
          "dash": "solid"
         },
         "marker": {
          "symbol": "circle"
         },
         "mode": "lines",
         "name": "OK Computer",
         "orientation": "v",
         "showlegend": true,
         "type": "scatter",
         "x": [
          1,
          2,
          3,
          4,
          5,
          6,
          7,
          8,
          9,
          10,
          11,
          12
         ],
         "xaxis": "x",
         "y": [
          0.7363918421041286,
          0.15979628319710593,
          0.055792933266781586,
          -0.2853832655465134,
          -0.9484988130762467,
          -1.518871940252777,
          -0.09687634548235513,
          -3.158532961563977,
          -0.18543497973958747,
          0.2453291679415959,
          -0.5270056816643955,
          -0.4043281903792907
         ],
         "yaxis": "y"
        },
        {
         "hovertemplate": "album=Pablo Honey<br>track_number=%{x}<br>sentiment=%{y}<extra></extra>",
         "legendgroup": "Pablo Honey",
         "line": {
          "color": "#FF6692",
          "dash": "solid"
         },
         "marker": {
          "symbol": "circle"
         },
         "mode": "lines",
         "name": "Pablo Honey",
         "orientation": "v",
         "showlegend": true,
         "type": "scatter",
         "x": [
          1,
          2,
          3,
          4,
          5,
          6,
          7,
          8,
          9,
          10,
          11,
          12
         ],
         "xaxis": "x",
         "y": [
          0.5699202583287747,
          0.07565881938265229,
          -0.16959955532880824,
          0.40833231195082137,
          0.06004382349316184,
          -0.5850631456241348,
          -1.3852283171981308,
          -0.1321929428101693,
          -0.033022252174731315,
          -0.25740597324133474,
          null,
          -1.578922802722298
         ],
         "yaxis": "y"
        },
        {
         "hovertemplate": "album=The Bends<br>track_number=%{x}<br>sentiment=%{y}<extra></extra>",
         "legendgroup": "The Bends",
         "line": {
          "color": "#B6E880",
          "dash": "solid"
         },
         "marker": {
          "symbol": "circle"
         },
         "mode": "lines",
         "name": "The Bends",
         "orientation": "v",
         "showlegend": true,
         "type": "scatter",
         "x": [
          1,
          2,
          3,
          4,
          5,
          6,
          7,
          8,
          9,
          10,
          11,
          12
         ],
         "xaxis": "x",
         "y": [
          -0.7747357807370902,
          -0.10790011055449811,
          -0.4338813593203863,
          0.03984660337371593,
          -0.7389339839716782,
          0.28423066096738253,
          -0.021453004396396892,
          -0.35571684058576686,
          0.8854372218323454,
          -0.9258204954278124,
          0.8686975645898286,
          -0.03377606293286062
         ],
         "yaxis": "y"
        },
        {
         "hovertemplate": "album=The King Of Limbs<br>track_number=%{x}<br>sentiment=%{y}<extra></extra>",
         "legendgroup": "The King Of Limbs",
         "line": {
          "color": "#FF97FF",
          "dash": "solid"
         },
         "marker": {
          "symbol": "circle"
         },
         "mode": "lines",
         "name": "The King Of Limbs",
         "orientation": "v",
         "showlegend": true,
         "type": "scatter",
         "x": [
          1,
          2,
          3,
          4,
          5,
          6,
          7,
          8
         ],
         "xaxis": "x",
         "y": [
          -0.09072008603730175,
          0.63917853715377,
          -0.550684121025562,
          null,
          -0.23452472647199085,
          1.1639212378985984,
          -1.8708809229919117,
          0.034304496510854494
         ],
         "yaxis": "y"
        }
       ],
       "layout": {
        "legend": {
         "title": {
          "text": "album"
         },
         "tracegroupgap": 0
        },
        "template": {
         "data": {
          "bar": [
           {
            "error_x": {
             "color": "#2a3f5f"
            },
            "error_y": {
             "color": "#2a3f5f"
            },
            "marker": {
             "line": {
              "color": "#E5ECF6",
              "width": 0.5
             },
             "pattern": {
              "fillmode": "overlay",
              "size": 10,
              "solidity": 0.2
             }
            },
            "type": "bar"
           }
          ],
          "barpolar": [
           {
            "marker": {
             "line": {
              "color": "#E5ECF6",
              "width": 0.5
             },
             "pattern": {
              "fillmode": "overlay",
              "size": 10,
              "solidity": 0.2
             }
            },
            "type": "barpolar"
           }
          ],
          "carpet": [
           {
            "aaxis": {
             "endlinecolor": "#2a3f5f",
             "gridcolor": "white",
             "linecolor": "white",
             "minorgridcolor": "white",
             "startlinecolor": "#2a3f5f"
            },
            "baxis": {
             "endlinecolor": "#2a3f5f",
             "gridcolor": "white",
             "linecolor": "white",
             "minorgridcolor": "white",
             "startlinecolor": "#2a3f5f"
            },
            "type": "carpet"
           }
          ],
          "choropleth": [
           {
            "colorbar": {
             "outlinewidth": 0,
             "ticks": ""
            },
            "type": "choropleth"
           }
          ],
          "contour": [
           {
            "colorbar": {
             "outlinewidth": 0,
             "ticks": ""
            },
            "colorscale": [
             [
              0,
              "#0d0887"
             ],
             [
              0.1111111111111111,
              "#46039f"
             ],
             [
              0.2222222222222222,
              "#7201a8"
             ],
             [
              0.3333333333333333,
              "#9c179e"
             ],
             [
              0.4444444444444444,
              "#bd3786"
             ],
             [
              0.5555555555555556,
              "#d8576b"
             ],
             [
              0.6666666666666666,
              "#ed7953"
             ],
             [
              0.7777777777777778,
              "#fb9f3a"
             ],
             [
              0.8888888888888888,
              "#fdca26"
             ],
             [
              1,
              "#f0f921"
             ]
            ],
            "type": "contour"
           }
          ],
          "contourcarpet": [
           {
            "colorbar": {
             "outlinewidth": 0,
             "ticks": ""
            },
            "type": "contourcarpet"
           }
          ],
          "heatmap": [
           {
            "colorbar": {
             "outlinewidth": 0,
             "ticks": ""
            },
            "colorscale": [
             [
              0,
              "#0d0887"
             ],
             [
              0.1111111111111111,
              "#46039f"
             ],
             [
              0.2222222222222222,
              "#7201a8"
             ],
             [
              0.3333333333333333,
              "#9c179e"
             ],
             [
              0.4444444444444444,
              "#bd3786"
             ],
             [
              0.5555555555555556,
              "#d8576b"
             ],
             [
              0.6666666666666666,
              "#ed7953"
             ],
             [
              0.7777777777777778,
              "#fb9f3a"
             ],
             [
              0.8888888888888888,
              "#fdca26"
             ],
             [
              1,
              "#f0f921"
             ]
            ],
            "type": "heatmap"
           }
          ],
          "heatmapgl": [
           {
            "colorbar": {
             "outlinewidth": 0,
             "ticks": ""
            },
            "colorscale": [
             [
              0,
              "#0d0887"
             ],
             [
              0.1111111111111111,
              "#46039f"
             ],
             [
              0.2222222222222222,
              "#7201a8"
             ],
             [
              0.3333333333333333,
              "#9c179e"
             ],
             [
              0.4444444444444444,
              "#bd3786"
             ],
             [
              0.5555555555555556,
              "#d8576b"
             ],
             [
              0.6666666666666666,
              "#ed7953"
             ],
             [
              0.7777777777777778,
              "#fb9f3a"
             ],
             [
              0.8888888888888888,
              "#fdca26"
             ],
             [
              1,
              "#f0f921"
             ]
            ],
            "type": "heatmapgl"
           }
          ],
          "histogram": [
           {
            "marker": {
             "pattern": {
              "fillmode": "overlay",
              "size": 10,
              "solidity": 0.2
             }
            },
            "type": "histogram"
           }
          ],
          "histogram2d": [
           {
            "colorbar": {
             "outlinewidth": 0,
             "ticks": ""
            },
            "colorscale": [
             [
              0,
              "#0d0887"
             ],
             [
              0.1111111111111111,
              "#46039f"
             ],
             [
              0.2222222222222222,
              "#7201a8"
             ],
             [
              0.3333333333333333,
              "#9c179e"
             ],
             [
              0.4444444444444444,
              "#bd3786"
             ],
             [
              0.5555555555555556,
              "#d8576b"
             ],
             [
              0.6666666666666666,
              "#ed7953"
             ],
             [
              0.7777777777777778,
              "#fb9f3a"
             ],
             [
              0.8888888888888888,
              "#fdca26"
             ],
             [
              1,
              "#f0f921"
             ]
            ],
            "type": "histogram2d"
           }
          ],
          "histogram2dcontour": [
           {
            "colorbar": {
             "outlinewidth": 0,
             "ticks": ""
            },
            "colorscale": [
             [
              0,
              "#0d0887"
             ],
             [
              0.1111111111111111,
              "#46039f"
             ],
             [
              0.2222222222222222,
              "#7201a8"
             ],
             [
              0.3333333333333333,
              "#9c179e"
             ],
             [
              0.4444444444444444,
              "#bd3786"
             ],
             [
              0.5555555555555556,
              "#d8576b"
             ],
             [
              0.6666666666666666,
              "#ed7953"
             ],
             [
              0.7777777777777778,
              "#fb9f3a"
             ],
             [
              0.8888888888888888,
              "#fdca26"
             ],
             [
              1,
              "#f0f921"
             ]
            ],
            "type": "histogram2dcontour"
           }
          ],
          "mesh3d": [
           {
            "colorbar": {
             "outlinewidth": 0,
             "ticks": ""
            },
            "type": "mesh3d"
           }
          ],
          "parcoords": [
           {
            "line": {
             "colorbar": {
              "outlinewidth": 0,
              "ticks": ""
             }
            },
            "type": "parcoords"
           }
          ],
          "pie": [
           {
            "automargin": true,
            "type": "pie"
           }
          ],
          "scatter": [
           {
            "fillpattern": {
             "fillmode": "overlay",
             "size": 10,
             "solidity": 0.2
            },
            "type": "scatter"
           }
          ],
          "scatter3d": [
           {
            "line": {
             "colorbar": {
              "outlinewidth": 0,
              "ticks": ""
             }
            },
            "marker": {
             "colorbar": {
              "outlinewidth": 0,
              "ticks": ""
             }
            },
            "type": "scatter3d"
           }
          ],
          "scattercarpet": [
           {
            "marker": {
             "colorbar": {
              "outlinewidth": 0,
              "ticks": ""
             }
            },
            "type": "scattercarpet"
           }
          ],
          "scattergeo": [
           {
            "marker": {
             "colorbar": {
              "outlinewidth": 0,
              "ticks": ""
             }
            },
            "type": "scattergeo"
           }
          ],
          "scattergl": [
           {
            "marker": {
             "colorbar": {
              "outlinewidth": 0,
              "ticks": ""
             }
            },
            "type": "scattergl"
           }
          ],
          "scattermapbox": [
           {
            "marker": {
             "colorbar": {
              "outlinewidth": 0,
              "ticks": ""
             }
            },
            "type": "scattermapbox"
           }
          ],
          "scatterpolar": [
           {
            "marker": {
             "colorbar": {
              "outlinewidth": 0,
              "ticks": ""
             }
            },
            "type": "scatterpolar"
           }
          ],
          "scatterpolargl": [
           {
            "marker": {
             "colorbar": {
              "outlinewidth": 0,
              "ticks": ""
             }
            },
            "type": "scatterpolargl"
           }
          ],
          "scatterternary": [
           {
            "marker": {
             "colorbar": {
              "outlinewidth": 0,
              "ticks": ""
             }
            },
            "type": "scatterternary"
           }
          ],
          "surface": [
           {
            "colorbar": {
             "outlinewidth": 0,
             "ticks": ""
            },
            "colorscale": [
             [
              0,
              "#0d0887"
             ],
             [
              0.1111111111111111,
              "#46039f"
             ],
             [
              0.2222222222222222,
              "#7201a8"
             ],
             [
              0.3333333333333333,
              "#9c179e"
             ],
             [
              0.4444444444444444,
              "#bd3786"
             ],
             [
              0.5555555555555556,
              "#d8576b"
             ],
             [
              0.6666666666666666,
              "#ed7953"
             ],
             [
              0.7777777777777778,
              "#fb9f3a"
             ],
             [
              0.8888888888888888,
              "#fdca26"
             ],
             [
              1,
              "#f0f921"
             ]
            ],
            "type": "surface"
           }
          ],
          "table": [
           {
            "cells": {
             "fill": {
              "color": "#EBF0F8"
             },
             "line": {
              "color": "white"
             }
            },
            "header": {
             "fill": {
              "color": "#C8D4E3"
             },
             "line": {
              "color": "white"
             }
            },
            "type": "table"
           }
          ]
         },
         "layout": {
          "annotationdefaults": {
           "arrowcolor": "#2a3f5f",
           "arrowhead": 0,
           "arrowwidth": 1
          },
          "autotypenumbers": "strict",
          "coloraxis": {
           "colorbar": {
            "outlinewidth": 0,
            "ticks": ""
           }
          },
          "colorscale": {
           "diverging": [
            [
             0,
             "#8e0152"
            ],
            [
             0.1,
             "#c51b7d"
            ],
            [
             0.2,
             "#de77ae"
            ],
            [
             0.3,
             "#f1b6da"
            ],
            [
             0.4,
             "#fde0ef"
            ],
            [
             0.5,
             "#f7f7f7"
            ],
            [
             0.6,
             "#e6f5d0"
            ],
            [
             0.7,
             "#b8e186"
            ],
            [
             0.8,
             "#7fbc41"
            ],
            [
             0.9,
             "#4d9221"
            ],
            [
             1,
             "#276419"
            ]
           ],
           "sequential": [
            [
             0,
             "#0d0887"
            ],
            [
             0.1111111111111111,
             "#46039f"
            ],
            [
             0.2222222222222222,
             "#7201a8"
            ],
            [
             0.3333333333333333,
             "#9c179e"
            ],
            [
             0.4444444444444444,
             "#bd3786"
            ],
            [
             0.5555555555555556,
             "#d8576b"
            ],
            [
             0.6666666666666666,
             "#ed7953"
            ],
            [
             0.7777777777777778,
             "#fb9f3a"
            ],
            [
             0.8888888888888888,
             "#fdca26"
            ],
            [
             1,
             "#f0f921"
            ]
           ],
           "sequentialminus": [
            [
             0,
             "#0d0887"
            ],
            [
             0.1111111111111111,
             "#46039f"
            ],
            [
             0.2222222222222222,
             "#7201a8"
            ],
            [
             0.3333333333333333,
             "#9c179e"
            ],
            [
             0.4444444444444444,
             "#bd3786"
            ],
            [
             0.5555555555555556,
             "#d8576b"
            ],
            [
             0.6666666666666666,
             "#ed7953"
            ],
            [
             0.7777777777777778,
             "#fb9f3a"
            ],
            [
             0.8888888888888888,
             "#fdca26"
            ],
            [
             1,
             "#f0f921"
            ]
           ]
          },
          "colorway": [
           "#636efa",
           "#EF553B",
           "#00cc96",
           "#ab63fa",
           "#FFA15A",
           "#19d3f3",
           "#FF6692",
           "#B6E880",
           "#FF97FF",
           "#FECB52"
          ],
          "font": {
           "color": "#2a3f5f"
          },
          "geo": {
           "bgcolor": "white",
           "lakecolor": "white",
           "landcolor": "#E5ECF6",
           "showlakes": true,
           "showland": true,
           "subunitcolor": "white"
          },
          "hoverlabel": {
           "align": "left"
          },
          "hovermode": "closest",
          "mapbox": {
           "style": "light"
          },
          "paper_bgcolor": "white",
          "plot_bgcolor": "#E5ECF6",
          "polar": {
           "angularaxis": {
            "gridcolor": "white",
            "linecolor": "white",
            "ticks": ""
           },
           "bgcolor": "#E5ECF6",
           "radialaxis": {
            "gridcolor": "white",
            "linecolor": "white",
            "ticks": ""
           }
          },
          "scene": {
           "xaxis": {
            "backgroundcolor": "#E5ECF6",
            "gridcolor": "white",
            "gridwidth": 2,
            "linecolor": "white",
            "showbackground": true,
            "ticks": "",
            "zerolinecolor": "white"
           },
           "yaxis": {
            "backgroundcolor": "#E5ECF6",
            "gridcolor": "white",
            "gridwidth": 2,
            "linecolor": "white",
            "showbackground": true,
            "ticks": "",
            "zerolinecolor": "white"
           },
           "zaxis": {
            "backgroundcolor": "#E5ECF6",
            "gridcolor": "white",
            "gridwidth": 2,
            "linecolor": "white",
            "showbackground": true,
            "ticks": "",
            "zerolinecolor": "white"
           }
          },
          "shapedefaults": {
           "line": {
            "color": "#2a3f5f"
           }
          },
          "ternary": {
           "aaxis": {
            "gridcolor": "white",
            "linecolor": "white",
            "ticks": ""
           },
           "baxis": {
            "gridcolor": "white",
            "linecolor": "white",
            "ticks": ""
           },
           "bgcolor": "#E5ECF6",
           "caxis": {
            "gridcolor": "white",
            "linecolor": "white",
            "ticks": ""
           }
          },
          "title": {
           "x": 0.05
          },
          "xaxis": {
           "automargin": true,
           "gridcolor": "white",
           "linecolor": "white",
           "ticks": "",
           "title": {
            "standoff": 15
           },
           "zerolinecolor": "white",
           "zerolinewidth": 2
          },
          "yaxis": {
           "automargin": true,
           "gridcolor": "white",
           "linecolor": "white",
           "ticks": "",
           "title": {
            "standoff": 15
           },
           "zerolinecolor": "white",
           "zerolinewidth": 2
          }
         }
        },
        "title": {
         "text": "Sentiment Over Songs for Radiohead"
        },
        "xaxis": {
         "anchor": "y",
         "domain": [
          0,
          1
         ],
         "title": {
          "text": "track_number"
         }
        },
        "yaxis": {
         "anchor": "x",
         "domain": [
          0,
          1
         ],
         "title": {
          "text": "sentiment"
         }
        }
       }
      }
     },
     "metadata": {},
     "output_type": "display_data"
    }
   ],
   "source": [
    "px.line(SONG_LIB.query(f'artist == \"Radiohead\"'), x='track_number', y='sentiment', color='album',\n",
    "        title=f'Sentiment Over Songs for Radiohead')"
   ]
  },
  {
   "cell_type": "code",
   "execution_count": 46,
   "metadata": {},
   "outputs": [
    {
     "data": {
      "application/vnd.plotly.v1+json": {
       "config": {
        "plotlyServerURL": "https://plot.ly"
       },
       "data": [
        {
         "hovertemplate": "album=Alligator<br>track_number=%{x}<br>sentiment=%{y}<extra></extra>",
         "legendgroup": "Alligator",
         "line": {
          "color": "#636efa",
          "dash": "solid"
         },
         "marker": {
          "symbol": "circle"
         },
         "mode": "lines",
         "name": "Alligator",
         "orientation": "v",
         "showlegend": true,
         "type": "scatter",
         "x": [
          1,
          2,
          3,
          4,
          5,
          6,
          7,
          8,
          9,
          10,
          11,
          12,
          13
         ],
         "xaxis": "x",
         "y": [
          -0.2152202550489715,
          -0.31962374076418143,
          -0.33174539429586286,
          -0.8616614243223117,
          0.45785635667555136,
          0.3026455488058211,
          -0.25697727022026107,
          0.2799563521296244,
          0.42966919165057754,
          -0.43372559346630246,
          -0.4119228323159126,
          -0.6955489849402157,
          0.21105122183811484
         ],
         "yaxis": "y"
        },
        {
         "hovertemplate": "album=Boxer<br>track_number=%{x}<br>sentiment=%{y}<extra></extra>",
         "legendgroup": "Boxer",
         "line": {
          "color": "#EF553B",
          "dash": "solid"
         },
         "marker": {
          "symbol": "circle"
         },
         "mode": "lines",
         "name": "Boxer",
         "orientation": "v",
         "showlegend": true,
         "type": "scatter",
         "x": [
          1,
          2,
          3,
          4,
          5,
          6,
          7,
          8,
          9,
          10,
          11,
          12
         ],
         "xaxis": "x",
         "y": [
          -0.5678316047336875,
          -0.15652032488411624,
          0.1922795995528388,
          1.6580722731982431,
          0.13410740165685478,
          -0.15581776399829175,
          -0.44294646909688556,
          -0.4284764568720834,
          -0.055660142045058016,
          1.9785461265455453,
          -0.36786698450705085,
          0.35175998683697557
         ],
         "yaxis": "y"
        },
        {
         "hovertemplate": "album=High Violet<br>track_number=%{x}<br>sentiment=%{y}<extra></extra>",
         "legendgroup": "High Violet",
         "line": {
          "color": "#00cc96",
          "dash": "solid"
         },
         "marker": {
          "symbol": "circle"
         },
         "mode": "lines",
         "name": "High Violet",
         "orientation": "v",
         "showlegend": true,
         "type": "scatter",
         "x": [
          1,
          2,
          3,
          4,
          5,
          6,
          7,
          8,
          9,
          10,
          11
         ],
         "xaxis": "x",
         "y": [
          -0.554056715525947,
          0.5730545497219383,
          0.18090598134301264,
          -0.8804488523041466,
          -0.18666474015702153,
          0.9552648869739769,
          -0.08014953621214235,
          -0.3995640290770857,
          -0.6469024968345813,
          -0.11019991532985836,
          0.10568445558247372
         ],
         "yaxis": "y"
        },
        {
         "hovertemplate": "album=Sleep Well Beast<br>track_number=%{x}<br>sentiment=%{y}<extra></extra>",
         "legendgroup": "Sleep Well Beast",
         "line": {
          "color": "#ab63fa",
          "dash": "solid"
         },
         "marker": {
          "symbol": "circle"
         },
         "mode": "lines",
         "name": "Sleep Well Beast",
         "orientation": "v",
         "showlegend": true,
         "type": "scatter",
         "x": [
          1,
          2,
          3,
          4,
          5,
          6,
          7,
          8,
          9,
          10,
          11,
          12
         ],
         "xaxis": "x",
         "y": [
          -0.0862662219954749,
          -0.3646398236453723,
          -0.062008715420522525,
          0.6233897985563106,
          -0.7719085238378115,
          -0.24810819514000718,
          -0.26872055507148596,
          -0.04924842619549364,
          -0.19874223683481596,
          -0.16609503218394472,
          1.1527614499455126,
          -0.5911161821637131
         ],
         "yaxis": "y"
        },
        {
         "hovertemplate": "album=Trouble Will Find Me<br>track_number=%{x}<br>sentiment=%{y}<extra></extra>",
         "legendgroup": "Trouble Will Find Me",
         "line": {
          "color": "#FFA15A",
          "dash": "solid"
         },
         "marker": {
          "symbol": "circle"
         },
         "mode": "lines",
         "name": "Trouble Will Find Me",
         "orientation": "v",
         "showlegend": true,
         "type": "scatter",
         "x": [
          1,
          2,
          3,
          4,
          5,
          6,
          7,
          8,
          9,
          10,
          11,
          12,
          13
         ],
         "xaxis": "x",
         "y": [
          -0.4445109149523068,
          0.011888247267031415,
          -0.10090182061384714,
          -0.43792495356763195,
          0.05760732849506503,
          -0.13841459439272838,
          -0.005385932197488508,
          0.0579408018865214,
          -0.14557933966967862,
          -0.024291401976507882,
          -0.0035349272518832653,
          -0.026915963680429044,
          0.3569969323812955
         ],
         "yaxis": "y"
        }
       ],
       "layout": {
        "legend": {
         "title": {
          "text": "album"
         },
         "tracegroupgap": 0
        },
        "template": {
         "data": {
          "bar": [
           {
            "error_x": {
             "color": "#2a3f5f"
            },
            "error_y": {
             "color": "#2a3f5f"
            },
            "marker": {
             "line": {
              "color": "#E5ECF6",
              "width": 0.5
             },
             "pattern": {
              "fillmode": "overlay",
              "size": 10,
              "solidity": 0.2
             }
            },
            "type": "bar"
           }
          ],
          "barpolar": [
           {
            "marker": {
             "line": {
              "color": "#E5ECF6",
              "width": 0.5
             },
             "pattern": {
              "fillmode": "overlay",
              "size": 10,
              "solidity": 0.2
             }
            },
            "type": "barpolar"
           }
          ],
          "carpet": [
           {
            "aaxis": {
             "endlinecolor": "#2a3f5f",
             "gridcolor": "white",
             "linecolor": "white",
             "minorgridcolor": "white",
             "startlinecolor": "#2a3f5f"
            },
            "baxis": {
             "endlinecolor": "#2a3f5f",
             "gridcolor": "white",
             "linecolor": "white",
             "minorgridcolor": "white",
             "startlinecolor": "#2a3f5f"
            },
            "type": "carpet"
           }
          ],
          "choropleth": [
           {
            "colorbar": {
             "outlinewidth": 0,
             "ticks": ""
            },
            "type": "choropleth"
           }
          ],
          "contour": [
           {
            "colorbar": {
             "outlinewidth": 0,
             "ticks": ""
            },
            "colorscale": [
             [
              0,
              "#0d0887"
             ],
             [
              0.1111111111111111,
              "#46039f"
             ],
             [
              0.2222222222222222,
              "#7201a8"
             ],
             [
              0.3333333333333333,
              "#9c179e"
             ],
             [
              0.4444444444444444,
              "#bd3786"
             ],
             [
              0.5555555555555556,
              "#d8576b"
             ],
             [
              0.6666666666666666,
              "#ed7953"
             ],
             [
              0.7777777777777778,
              "#fb9f3a"
             ],
             [
              0.8888888888888888,
              "#fdca26"
             ],
             [
              1,
              "#f0f921"
             ]
            ],
            "type": "contour"
           }
          ],
          "contourcarpet": [
           {
            "colorbar": {
             "outlinewidth": 0,
             "ticks": ""
            },
            "type": "contourcarpet"
           }
          ],
          "heatmap": [
           {
            "colorbar": {
             "outlinewidth": 0,
             "ticks": ""
            },
            "colorscale": [
             [
              0,
              "#0d0887"
             ],
             [
              0.1111111111111111,
              "#46039f"
             ],
             [
              0.2222222222222222,
              "#7201a8"
             ],
             [
              0.3333333333333333,
              "#9c179e"
             ],
             [
              0.4444444444444444,
              "#bd3786"
             ],
             [
              0.5555555555555556,
              "#d8576b"
             ],
             [
              0.6666666666666666,
              "#ed7953"
             ],
             [
              0.7777777777777778,
              "#fb9f3a"
             ],
             [
              0.8888888888888888,
              "#fdca26"
             ],
             [
              1,
              "#f0f921"
             ]
            ],
            "type": "heatmap"
           }
          ],
          "heatmapgl": [
           {
            "colorbar": {
             "outlinewidth": 0,
             "ticks": ""
            },
            "colorscale": [
             [
              0,
              "#0d0887"
             ],
             [
              0.1111111111111111,
              "#46039f"
             ],
             [
              0.2222222222222222,
              "#7201a8"
             ],
             [
              0.3333333333333333,
              "#9c179e"
             ],
             [
              0.4444444444444444,
              "#bd3786"
             ],
             [
              0.5555555555555556,
              "#d8576b"
             ],
             [
              0.6666666666666666,
              "#ed7953"
             ],
             [
              0.7777777777777778,
              "#fb9f3a"
             ],
             [
              0.8888888888888888,
              "#fdca26"
             ],
             [
              1,
              "#f0f921"
             ]
            ],
            "type": "heatmapgl"
           }
          ],
          "histogram": [
           {
            "marker": {
             "pattern": {
              "fillmode": "overlay",
              "size": 10,
              "solidity": 0.2
             }
            },
            "type": "histogram"
           }
          ],
          "histogram2d": [
           {
            "colorbar": {
             "outlinewidth": 0,
             "ticks": ""
            },
            "colorscale": [
             [
              0,
              "#0d0887"
             ],
             [
              0.1111111111111111,
              "#46039f"
             ],
             [
              0.2222222222222222,
              "#7201a8"
             ],
             [
              0.3333333333333333,
              "#9c179e"
             ],
             [
              0.4444444444444444,
              "#bd3786"
             ],
             [
              0.5555555555555556,
              "#d8576b"
             ],
             [
              0.6666666666666666,
              "#ed7953"
             ],
             [
              0.7777777777777778,
              "#fb9f3a"
             ],
             [
              0.8888888888888888,
              "#fdca26"
             ],
             [
              1,
              "#f0f921"
             ]
            ],
            "type": "histogram2d"
           }
          ],
          "histogram2dcontour": [
           {
            "colorbar": {
             "outlinewidth": 0,
             "ticks": ""
            },
            "colorscale": [
             [
              0,
              "#0d0887"
             ],
             [
              0.1111111111111111,
              "#46039f"
             ],
             [
              0.2222222222222222,
              "#7201a8"
             ],
             [
              0.3333333333333333,
              "#9c179e"
             ],
             [
              0.4444444444444444,
              "#bd3786"
             ],
             [
              0.5555555555555556,
              "#d8576b"
             ],
             [
              0.6666666666666666,
              "#ed7953"
             ],
             [
              0.7777777777777778,
              "#fb9f3a"
             ],
             [
              0.8888888888888888,
              "#fdca26"
             ],
             [
              1,
              "#f0f921"
             ]
            ],
            "type": "histogram2dcontour"
           }
          ],
          "mesh3d": [
           {
            "colorbar": {
             "outlinewidth": 0,
             "ticks": ""
            },
            "type": "mesh3d"
           }
          ],
          "parcoords": [
           {
            "line": {
             "colorbar": {
              "outlinewidth": 0,
              "ticks": ""
             }
            },
            "type": "parcoords"
           }
          ],
          "pie": [
           {
            "automargin": true,
            "type": "pie"
           }
          ],
          "scatter": [
           {
            "fillpattern": {
             "fillmode": "overlay",
             "size": 10,
             "solidity": 0.2
            },
            "type": "scatter"
           }
          ],
          "scatter3d": [
           {
            "line": {
             "colorbar": {
              "outlinewidth": 0,
              "ticks": ""
             }
            },
            "marker": {
             "colorbar": {
              "outlinewidth": 0,
              "ticks": ""
             }
            },
            "type": "scatter3d"
           }
          ],
          "scattercarpet": [
           {
            "marker": {
             "colorbar": {
              "outlinewidth": 0,
              "ticks": ""
             }
            },
            "type": "scattercarpet"
           }
          ],
          "scattergeo": [
           {
            "marker": {
             "colorbar": {
              "outlinewidth": 0,
              "ticks": ""
             }
            },
            "type": "scattergeo"
           }
          ],
          "scattergl": [
           {
            "marker": {
             "colorbar": {
              "outlinewidth": 0,
              "ticks": ""
             }
            },
            "type": "scattergl"
           }
          ],
          "scattermapbox": [
           {
            "marker": {
             "colorbar": {
              "outlinewidth": 0,
              "ticks": ""
             }
            },
            "type": "scattermapbox"
           }
          ],
          "scatterpolar": [
           {
            "marker": {
             "colorbar": {
              "outlinewidth": 0,
              "ticks": ""
             }
            },
            "type": "scatterpolar"
           }
          ],
          "scatterpolargl": [
           {
            "marker": {
             "colorbar": {
              "outlinewidth": 0,
              "ticks": ""
             }
            },
            "type": "scatterpolargl"
           }
          ],
          "scatterternary": [
           {
            "marker": {
             "colorbar": {
              "outlinewidth": 0,
              "ticks": ""
             }
            },
            "type": "scatterternary"
           }
          ],
          "surface": [
           {
            "colorbar": {
             "outlinewidth": 0,
             "ticks": ""
            },
            "colorscale": [
             [
              0,
              "#0d0887"
             ],
             [
              0.1111111111111111,
              "#46039f"
             ],
             [
              0.2222222222222222,
              "#7201a8"
             ],
             [
              0.3333333333333333,
              "#9c179e"
             ],
             [
              0.4444444444444444,
              "#bd3786"
             ],
             [
              0.5555555555555556,
              "#d8576b"
             ],
             [
              0.6666666666666666,
              "#ed7953"
             ],
             [
              0.7777777777777778,
              "#fb9f3a"
             ],
             [
              0.8888888888888888,
              "#fdca26"
             ],
             [
              1,
              "#f0f921"
             ]
            ],
            "type": "surface"
           }
          ],
          "table": [
           {
            "cells": {
             "fill": {
              "color": "#EBF0F8"
             },
             "line": {
              "color": "white"
             }
            },
            "header": {
             "fill": {
              "color": "#C8D4E3"
             },
             "line": {
              "color": "white"
             }
            },
            "type": "table"
           }
          ]
         },
         "layout": {
          "annotationdefaults": {
           "arrowcolor": "#2a3f5f",
           "arrowhead": 0,
           "arrowwidth": 1
          },
          "autotypenumbers": "strict",
          "coloraxis": {
           "colorbar": {
            "outlinewidth": 0,
            "ticks": ""
           }
          },
          "colorscale": {
           "diverging": [
            [
             0,
             "#8e0152"
            ],
            [
             0.1,
             "#c51b7d"
            ],
            [
             0.2,
             "#de77ae"
            ],
            [
             0.3,
             "#f1b6da"
            ],
            [
             0.4,
             "#fde0ef"
            ],
            [
             0.5,
             "#f7f7f7"
            ],
            [
             0.6,
             "#e6f5d0"
            ],
            [
             0.7,
             "#b8e186"
            ],
            [
             0.8,
             "#7fbc41"
            ],
            [
             0.9,
             "#4d9221"
            ],
            [
             1,
             "#276419"
            ]
           ],
           "sequential": [
            [
             0,
             "#0d0887"
            ],
            [
             0.1111111111111111,
             "#46039f"
            ],
            [
             0.2222222222222222,
             "#7201a8"
            ],
            [
             0.3333333333333333,
             "#9c179e"
            ],
            [
             0.4444444444444444,
             "#bd3786"
            ],
            [
             0.5555555555555556,
             "#d8576b"
            ],
            [
             0.6666666666666666,
             "#ed7953"
            ],
            [
             0.7777777777777778,
             "#fb9f3a"
            ],
            [
             0.8888888888888888,
             "#fdca26"
            ],
            [
             1,
             "#f0f921"
            ]
           ],
           "sequentialminus": [
            [
             0,
             "#0d0887"
            ],
            [
             0.1111111111111111,
             "#46039f"
            ],
            [
             0.2222222222222222,
             "#7201a8"
            ],
            [
             0.3333333333333333,
             "#9c179e"
            ],
            [
             0.4444444444444444,
             "#bd3786"
            ],
            [
             0.5555555555555556,
             "#d8576b"
            ],
            [
             0.6666666666666666,
             "#ed7953"
            ],
            [
             0.7777777777777778,
             "#fb9f3a"
            ],
            [
             0.8888888888888888,
             "#fdca26"
            ],
            [
             1,
             "#f0f921"
            ]
           ]
          },
          "colorway": [
           "#636efa",
           "#EF553B",
           "#00cc96",
           "#ab63fa",
           "#FFA15A",
           "#19d3f3",
           "#FF6692",
           "#B6E880",
           "#FF97FF",
           "#FECB52"
          ],
          "font": {
           "color": "#2a3f5f"
          },
          "geo": {
           "bgcolor": "white",
           "lakecolor": "white",
           "landcolor": "#E5ECF6",
           "showlakes": true,
           "showland": true,
           "subunitcolor": "white"
          },
          "hoverlabel": {
           "align": "left"
          },
          "hovermode": "closest",
          "mapbox": {
           "style": "light"
          },
          "paper_bgcolor": "white",
          "plot_bgcolor": "#E5ECF6",
          "polar": {
           "angularaxis": {
            "gridcolor": "white",
            "linecolor": "white",
            "ticks": ""
           },
           "bgcolor": "#E5ECF6",
           "radialaxis": {
            "gridcolor": "white",
            "linecolor": "white",
            "ticks": ""
           }
          },
          "scene": {
           "xaxis": {
            "backgroundcolor": "#E5ECF6",
            "gridcolor": "white",
            "gridwidth": 2,
            "linecolor": "white",
            "showbackground": true,
            "ticks": "",
            "zerolinecolor": "white"
           },
           "yaxis": {
            "backgroundcolor": "#E5ECF6",
            "gridcolor": "white",
            "gridwidth": 2,
            "linecolor": "white",
            "showbackground": true,
            "ticks": "",
            "zerolinecolor": "white"
           },
           "zaxis": {
            "backgroundcolor": "#E5ECF6",
            "gridcolor": "white",
            "gridwidth": 2,
            "linecolor": "white",
            "showbackground": true,
            "ticks": "",
            "zerolinecolor": "white"
           }
          },
          "shapedefaults": {
           "line": {
            "color": "#2a3f5f"
           }
          },
          "ternary": {
           "aaxis": {
            "gridcolor": "white",
            "linecolor": "white",
            "ticks": ""
           },
           "baxis": {
            "gridcolor": "white",
            "linecolor": "white",
            "ticks": ""
           },
           "bgcolor": "#E5ECF6",
           "caxis": {
            "gridcolor": "white",
            "linecolor": "white",
            "ticks": ""
           }
          },
          "title": {
           "x": 0.05
          },
          "xaxis": {
           "automargin": true,
           "gridcolor": "white",
           "linecolor": "white",
           "ticks": "",
           "title": {
            "standoff": 15
           },
           "zerolinecolor": "white",
           "zerolinewidth": 2
          },
          "yaxis": {
           "automargin": true,
           "gridcolor": "white",
           "linecolor": "white",
           "ticks": "",
           "title": {
            "standoff": 15
           },
           "zerolinecolor": "white",
           "zerolinewidth": 2
          }
         }
        },
        "title": {
         "text": "Sentiment Over Songs for The National"
        },
        "xaxis": {
         "anchor": "y",
         "domain": [
          0,
          1
         ],
         "title": {
          "text": "track_number"
         }
        },
        "yaxis": {
         "anchor": "x",
         "domain": [
          0,
          1
         ],
         "title": {
          "text": "sentiment"
         }
        }
       }
      }
     },
     "metadata": {},
     "output_type": "display_data"
    }
   ],
   "source": [
    "px.line(SONG_LIB.query(f'artist == \"The National\"'), x='track_number', y='sentiment', color='album',\n",
    "        title=f'Sentiment Over Songs for The National')"
   ]
  },
  {
   "cell_type": "markdown",
   "metadata": {},
   "source": [
    "## Save tables"
   ]
  },
  {
   "cell_type": "code",
   "execution_count": 47,
   "metadata": {},
   "outputs": [],
   "source": [
    "VOCAB_SENT.to_csv('../tables/VOCAB_SENT.csv', sep='|')\n",
    "BOW_SENT_ALBUM.to_csv('../tables/BOW_SENT_ALBUM.csv', sep='|')\n",
    "ALBUM_SENT.to_csv('../tables/ALBUM_SENT.csv', sep='|')\n",
    "BOW_SENT_SONG.to_csv('../tables/BOW_SENT_SONG.csv', sep='|')\n",
    "SONG_SENT.to_csv('../tables/SONG_SENT.csv', sep='|')"
   ]
  }
 ],
 "metadata": {
  "kernelspec": {
   "display_name": "ds-6001",
   "language": "python",
   "name": "python3"
  },
  "language_info": {
   "codemirror_mode": {
    "name": "ipython",
    "version": 3
   },
   "file_extension": ".py",
   "mimetype": "text/x-python",
   "name": "python",
   "nbconvert_exporter": "python",
   "pygments_lexer": "ipython3",
   "version": "3.10.12"
  }
 },
 "nbformat": 4,
 "nbformat_minor": 2
}

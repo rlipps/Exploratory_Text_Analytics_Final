{
 "cells": [
  {
   "cell_type": "markdown",
   "metadata": {},
   "source": [
    "# Sentiment Analysis"
   ]
  },
  {
   "cell_type": "code",
   "execution_count": 1,
   "metadata": {},
   "outputs": [],
   "source": [
    "import numpy as np\n",
    "import pandas as pd\n",
    "import plotly_express as px\n",
    "import seaborn as sns\n",
    "\n",
    "OHCO = ['album_id', 'song_num', 'stanza_num', 'line_num', 'token_num']\n",
    "colors = 'YlGnBu'\n",
    "salex_csv = '../../lexicons/salex_nrc.csv'\n",
    "emo_cols = \"anger anticipation disgust fear joy sadness surprise trust sentiment\".split()"
   ]
  },
  {
   "cell_type": "markdown",
   "metadata": {},
   "source": [
    "## Read Data"
   ]
  },
  {
   "cell_type": "code",
   "execution_count": 2,
   "metadata": {},
   "outputs": [],
   "source": [
    "LIB = pd.read_csv('../tables/LIB.csv', sep='|').set_index('album_id')\n",
    "SONG_LIB = pd.read_csv('../tables/SONG_LIB', sep='|').set_index(['album_id', 'song_num'])\n",
    "CORPUS = pd.read_csv('../tables/CORPUS.csv', sep='|').set_index(OHCO)\n",
    "VOCAB = pd.read_csv('../tables/VOCAB.csv', sep='|').set_index('term_str')\n",
    "BOW_SONG = pd.read_csv('../tables/BOW_SONG.csv', sep='|').set_index(['album_id', 'song_num', 'term_str'])\n",
    "BOW_ALBUM = pd.read_csv('../tables/BOW_ALBUM.csv', sep='|').set_index(['album_id', 'term_str'])\n",
    "TFIDF_ALBUM = pd.read_csv('../tables/TFIDF_ALBUM.csv', sep='|').set_index(OHCO[:1])\n",
    "TFIDF_SONG = pd.read_csv('../tables/TFIDF_SONG.csv', sep='|').set_index(OHCO[:2])"
   ]
  },
  {
   "cell_type": "code",
   "execution_count": 3,
   "metadata": {},
   "outputs": [],
   "source": [
    "VOCAB = VOCAB.drop_duplicates()"
   ]
  },
  {
   "cell_type": "markdown",
   "metadata": {},
   "source": [
    "## Setup"
   ]
  },
  {
   "cell_type": "code",
   "execution_count": 4,
   "metadata": {},
   "outputs": [],
   "source": [
    "SALEX = pd.read_csv(salex_csv).set_index('term_str')\n",
    "SALEX.columns = [col.replace('nrc_','') for col in SALEX.columns]"
   ]
  },
  {
   "cell_type": "code",
   "execution_count": 5,
   "metadata": {},
   "outputs": [
    {
     "data": {
      "text/html": [
       "<div>\n",
       "<style scoped>\n",
       "    .dataframe tbody tr th:only-of-type {\n",
       "        vertical-align: middle;\n",
       "    }\n",
       "\n",
       "    .dataframe tbody tr th {\n",
       "        vertical-align: top;\n",
       "    }\n",
       "\n",
       "    .dataframe thead th {\n",
       "        text-align: right;\n",
       "    }\n",
       "</style>\n",
       "<table border=\"1\" class=\"dataframe\">\n",
       "  <thead>\n",
       "    <tr style=\"text-align: right;\">\n",
       "      <th></th>\n",
       "      <th>anger</th>\n",
       "      <th>anticipation</th>\n",
       "      <th>disgust</th>\n",
       "      <th>fear</th>\n",
       "      <th>joy</th>\n",
       "      <th>negative</th>\n",
       "      <th>positive</th>\n",
       "      <th>sadness</th>\n",
       "      <th>surprise</th>\n",
       "      <th>trust</th>\n",
       "      <th>sentiment</th>\n",
       "    </tr>\n",
       "    <tr>\n",
       "      <th>term_str</th>\n",
       "      <th></th>\n",
       "      <th></th>\n",
       "      <th></th>\n",
       "      <th></th>\n",
       "      <th></th>\n",
       "      <th></th>\n",
       "      <th></th>\n",
       "      <th></th>\n",
       "      <th></th>\n",
       "      <th></th>\n",
       "      <th></th>\n",
       "    </tr>\n",
       "  </thead>\n",
       "  <tbody>\n",
       "    <tr>\n",
       "      <th>abandon</th>\n",
       "      <td>0</td>\n",
       "      <td>0</td>\n",
       "      <td>0</td>\n",
       "      <td>1</td>\n",
       "      <td>0</td>\n",
       "      <td>1</td>\n",
       "      <td>0</td>\n",
       "      <td>1</td>\n",
       "      <td>0</td>\n",
       "      <td>0</td>\n",
       "      <td>-1</td>\n",
       "    </tr>\n",
       "    <tr>\n",
       "      <th>abandoned</th>\n",
       "      <td>1</td>\n",
       "      <td>0</td>\n",
       "      <td>0</td>\n",
       "      <td>1</td>\n",
       "      <td>0</td>\n",
       "      <td>1</td>\n",
       "      <td>0</td>\n",
       "      <td>1</td>\n",
       "      <td>0</td>\n",
       "      <td>0</td>\n",
       "      <td>-1</td>\n",
       "    </tr>\n",
       "    <tr>\n",
       "      <th>abandonment</th>\n",
       "      <td>1</td>\n",
       "      <td>0</td>\n",
       "      <td>0</td>\n",
       "      <td>1</td>\n",
       "      <td>0</td>\n",
       "      <td>1</td>\n",
       "      <td>0</td>\n",
       "      <td>1</td>\n",
       "      <td>1</td>\n",
       "      <td>0</td>\n",
       "      <td>-1</td>\n",
       "    </tr>\n",
       "    <tr>\n",
       "      <th>abduction</th>\n",
       "      <td>0</td>\n",
       "      <td>0</td>\n",
       "      <td>0</td>\n",
       "      <td>1</td>\n",
       "      <td>0</td>\n",
       "      <td>1</td>\n",
       "      <td>0</td>\n",
       "      <td>1</td>\n",
       "      <td>1</td>\n",
       "      <td>0</td>\n",
       "      <td>-1</td>\n",
       "    </tr>\n",
       "    <tr>\n",
       "      <th>aberration</th>\n",
       "      <td>0</td>\n",
       "      <td>0</td>\n",
       "      <td>1</td>\n",
       "      <td>0</td>\n",
       "      <td>0</td>\n",
       "      <td>1</td>\n",
       "      <td>0</td>\n",
       "      <td>0</td>\n",
       "      <td>0</td>\n",
       "      <td>0</td>\n",
       "      <td>-1</td>\n",
       "    </tr>\n",
       "    <tr>\n",
       "      <th>...</th>\n",
       "      <td>...</td>\n",
       "      <td>...</td>\n",
       "      <td>...</td>\n",
       "      <td>...</td>\n",
       "      <td>...</td>\n",
       "      <td>...</td>\n",
       "      <td>...</td>\n",
       "      <td>...</td>\n",
       "      <td>...</td>\n",
       "      <td>...</td>\n",
       "      <td>...</td>\n",
       "    </tr>\n",
       "    <tr>\n",
       "      <th>young</th>\n",
       "      <td>0</td>\n",
       "      <td>1</td>\n",
       "      <td>0</td>\n",
       "      <td>0</td>\n",
       "      <td>1</td>\n",
       "      <td>0</td>\n",
       "      <td>1</td>\n",
       "      <td>0</td>\n",
       "      <td>1</td>\n",
       "      <td>0</td>\n",
       "      <td>1</td>\n",
       "    </tr>\n",
       "    <tr>\n",
       "      <th>youth</th>\n",
       "      <td>1</td>\n",
       "      <td>1</td>\n",
       "      <td>0</td>\n",
       "      <td>1</td>\n",
       "      <td>1</td>\n",
       "      <td>0</td>\n",
       "      <td>1</td>\n",
       "      <td>0</td>\n",
       "      <td>1</td>\n",
       "      <td>0</td>\n",
       "      <td>1</td>\n",
       "    </tr>\n",
       "    <tr>\n",
       "      <th>zeal</th>\n",
       "      <td>0</td>\n",
       "      <td>1</td>\n",
       "      <td>0</td>\n",
       "      <td>0</td>\n",
       "      <td>1</td>\n",
       "      <td>0</td>\n",
       "      <td>1</td>\n",
       "      <td>0</td>\n",
       "      <td>1</td>\n",
       "      <td>1</td>\n",
       "      <td>1</td>\n",
       "    </tr>\n",
       "    <tr>\n",
       "      <th>zealous</th>\n",
       "      <td>0</td>\n",
       "      <td>0</td>\n",
       "      <td>0</td>\n",
       "      <td>0</td>\n",
       "      <td>1</td>\n",
       "      <td>0</td>\n",
       "      <td>1</td>\n",
       "      <td>0</td>\n",
       "      <td>0</td>\n",
       "      <td>1</td>\n",
       "      <td>1</td>\n",
       "    </tr>\n",
       "    <tr>\n",
       "      <th>zest</th>\n",
       "      <td>0</td>\n",
       "      <td>1</td>\n",
       "      <td>0</td>\n",
       "      <td>0</td>\n",
       "      <td>1</td>\n",
       "      <td>0</td>\n",
       "      <td>1</td>\n",
       "      <td>0</td>\n",
       "      <td>0</td>\n",
       "      <td>1</td>\n",
       "      <td>1</td>\n",
       "    </tr>\n",
       "  </tbody>\n",
       "</table>\n",
       "<p>3688 rows × 11 columns</p>\n",
       "</div>"
      ],
      "text/plain": [
       "             anger  anticipation  disgust  fear  joy  negative  positive  \\\n",
       "term_str                                                                   \n",
       "abandon          0             0        0     1    0         1         0   \n",
       "abandoned        1             0        0     1    0         1         0   \n",
       "abandonment      1             0        0     1    0         1         0   \n",
       "abduction        0             0        0     1    0         1         0   \n",
       "aberration       0             0        1     0    0         1         0   \n",
       "...            ...           ...      ...   ...  ...       ...       ...   \n",
       "young            0             1        0     0    1         0         1   \n",
       "youth            1             1        0     1    1         0         1   \n",
       "zeal             0             1        0     0    1         0         1   \n",
       "zealous          0             0        0     0    1         0         1   \n",
       "zest             0             1        0     0    1         0         1   \n",
       "\n",
       "             sadness  surprise  trust  sentiment  \n",
       "term_str                                          \n",
       "abandon            1         0      0         -1  \n",
       "abandoned          1         0      0         -1  \n",
       "abandonment        1         1      0         -1  \n",
       "abduction          1         1      0         -1  \n",
       "aberration         0         0      0         -1  \n",
       "...              ...       ...    ...        ...  \n",
       "young              0         1      0          1  \n",
       "youth              0         1      0          1  \n",
       "zeal               0         1      1          1  \n",
       "zealous            0         0      1          1  \n",
       "zest               0         0      1          1  \n",
       "\n",
       "[3688 rows x 11 columns]"
      ]
     },
     "execution_count": 5,
     "metadata": {},
     "output_type": "execute_result"
    }
   ],
   "source": [
    "SALEX"
   ]
  },
  {
   "cell_type": "markdown",
   "metadata": {},
   "source": [
    "## Combine `SALEX` with `VOCAB`"
   ]
  },
  {
   "cell_type": "code",
   "execution_count": 6,
   "metadata": {},
   "outputs": [],
   "source": [
    "VOCAB_SENT = VOCAB.join(SALEX, how='inner')"
   ]
  },
  {
   "cell_type": "code",
   "execution_count": 7,
   "metadata": {},
   "outputs": [
    {
     "data": {
      "text/html": [
       "<div>\n",
       "<style scoped>\n",
       "    .dataframe tbody tr th:only-of-type {\n",
       "        vertical-align: middle;\n",
       "    }\n",
       "\n",
       "    .dataframe tbody tr th {\n",
       "        vertical-align: top;\n",
       "    }\n",
       "\n",
       "    .dataframe thead th {\n",
       "        text-align: right;\n",
       "    }\n",
       "</style>\n",
       "<table border=\"1\" class=\"dataframe\">\n",
       "  <thead>\n",
       "    <tr style=\"text-align: right;\">\n",
       "      <th></th>\n",
       "      <th>n</th>\n",
       "      <th>n_chars</th>\n",
       "      <th>p</th>\n",
       "      <th>i</th>\n",
       "      <th>max_pos</th>\n",
       "      <th>max_pos_group</th>\n",
       "      <th>stop</th>\n",
       "      <th>porter_stem</th>\n",
       "      <th>song_dfidf</th>\n",
       "      <th>album_dfidf</th>\n",
       "      <th>...</th>\n",
       "      <th>anticipation</th>\n",
       "      <th>disgust</th>\n",
       "      <th>fear</th>\n",
       "      <th>joy</th>\n",
       "      <th>negative</th>\n",
       "      <th>positive</th>\n",
       "      <th>sadness</th>\n",
       "      <th>surprise</th>\n",
       "      <th>trust</th>\n",
       "      <th>sentiment</th>\n",
       "    </tr>\n",
       "    <tr>\n",
       "      <th>term_str</th>\n",
       "      <th></th>\n",
       "      <th></th>\n",
       "      <th></th>\n",
       "      <th></th>\n",
       "      <th></th>\n",
       "      <th></th>\n",
       "      <th></th>\n",
       "      <th></th>\n",
       "      <th></th>\n",
       "      <th></th>\n",
       "      <th></th>\n",
       "      <th></th>\n",
       "      <th></th>\n",
       "      <th></th>\n",
       "      <th></th>\n",
       "      <th></th>\n",
       "      <th></th>\n",
       "      <th></th>\n",
       "      <th></th>\n",
       "      <th></th>\n",
       "      <th></th>\n",
       "    </tr>\n",
       "  </thead>\n",
       "  <tbody>\n",
       "    <tr>\n",
       "      <th>abandon</th>\n",
       "      <td>2</td>\n",
       "      <td>7</td>\n",
       "      <td>0.000010</td>\n",
       "      <td>16.555301</td>\n",
       "      <td>NNP</td>\n",
       "      <td>NN</td>\n",
       "      <td>0</td>\n",
       "      <td>abandon</td>\n",
       "      <td>17.792665</td>\n",
       "      <td>10.951467</td>\n",
       "      <td>...</td>\n",
       "      <td>0</td>\n",
       "      <td>0</td>\n",
       "      <td>1</td>\n",
       "      <td>0</td>\n",
       "      <td>1</td>\n",
       "      <td>0</td>\n",
       "      <td>1</td>\n",
       "      <td>0</td>\n",
       "      <td>0</td>\n",
       "      <td>-1</td>\n",
       "    </tr>\n",
       "    <tr>\n",
       "      <th>abandoned</th>\n",
       "      <td>1</td>\n",
       "      <td>9</td>\n",
       "      <td>0.000005</td>\n",
       "      <td>17.555301</td>\n",
       "      <td>VBD</td>\n",
       "      <td>VB</td>\n",
       "      <td>0</td>\n",
       "      <td>abandon</td>\n",
       "      <td>9.896332</td>\n",
       "      <td>6.475733</td>\n",
       "      <td>...</td>\n",
       "      <td>0</td>\n",
       "      <td>0</td>\n",
       "      <td>1</td>\n",
       "      <td>0</td>\n",
       "      <td>1</td>\n",
       "      <td>0</td>\n",
       "      <td>1</td>\n",
       "      <td>0</td>\n",
       "      <td>0</td>\n",
       "      <td>-1</td>\n",
       "    </tr>\n",
       "    <tr>\n",
       "      <th>absence</th>\n",
       "      <td>6</td>\n",
       "      <td>7</td>\n",
       "      <td>0.000031</td>\n",
       "      <td>14.970338</td>\n",
       "      <td>NN</td>\n",
       "      <td>NN</td>\n",
       "      <td>0</td>\n",
       "      <td>absenc</td>\n",
       "      <td>37.872022</td>\n",
       "      <td>20.769027</td>\n",
       "      <td>...</td>\n",
       "      <td>0</td>\n",
       "      <td>0</td>\n",
       "      <td>1</td>\n",
       "      <td>0</td>\n",
       "      <td>1</td>\n",
       "      <td>0</td>\n",
       "      <td>1</td>\n",
       "      <td>0</td>\n",
       "      <td>0</td>\n",
       "      <td>-1</td>\n",
       "    </tr>\n",
       "    <tr>\n",
       "      <th>absentee</th>\n",
       "      <td>2</td>\n",
       "      <td>8</td>\n",
       "      <td>0.000010</td>\n",
       "      <td>16.555301</td>\n",
       "      <td>NN</td>\n",
       "      <td>NN</td>\n",
       "      <td>0</td>\n",
       "      <td>absente</td>\n",
       "      <td>9.896332</td>\n",
       "      <td>6.475733</td>\n",
       "      <td>...</td>\n",
       "      <td>0</td>\n",
       "      <td>0</td>\n",
       "      <td>0</td>\n",
       "      <td>0</td>\n",
       "      <td>1</td>\n",
       "      <td>0</td>\n",
       "      <td>1</td>\n",
       "      <td>0</td>\n",
       "      <td>0</td>\n",
       "      <td>-1</td>\n",
       "    </tr>\n",
       "    <tr>\n",
       "      <th>abundance</th>\n",
       "      <td>1</td>\n",
       "      <td>9</td>\n",
       "      <td>0.000005</td>\n",
       "      <td>17.555301</td>\n",
       "      <td>NN</td>\n",
       "      <td>NN</td>\n",
       "      <td>0</td>\n",
       "      <td>abund</td>\n",
       "      <td>9.896332</td>\n",
       "      <td>6.475733</td>\n",
       "      <td>...</td>\n",
       "      <td>1</td>\n",
       "      <td>1</td>\n",
       "      <td>0</td>\n",
       "      <td>1</td>\n",
       "      <td>1</td>\n",
       "      <td>1</td>\n",
       "      <td>0</td>\n",
       "      <td>0</td>\n",
       "      <td>1</td>\n",
       "      <td>0</td>\n",
       "    </tr>\n",
       "    <tr>\n",
       "      <th>...</th>\n",
       "      <td>...</td>\n",
       "      <td>...</td>\n",
       "      <td>...</td>\n",
       "      <td>...</td>\n",
       "      <td>...</td>\n",
       "      <td>...</td>\n",
       "      <td>...</td>\n",
       "      <td>...</td>\n",
       "      <td>...</td>\n",
       "      <td>...</td>\n",
       "      <td>...</td>\n",
       "      <td>...</td>\n",
       "      <td>...</td>\n",
       "      <td>...</td>\n",
       "      <td>...</td>\n",
       "      <td>...</td>\n",
       "      <td>...</td>\n",
       "      <td>...</td>\n",
       "      <td>...</td>\n",
       "      <td>...</td>\n",
       "      <td>...</td>\n",
       "    </tr>\n",
       "    <tr>\n",
       "      <th>wretched</th>\n",
       "      <td>2</td>\n",
       "      <td>8</td>\n",
       "      <td>0.000010</td>\n",
       "      <td>16.555301</td>\n",
       "      <td>JJ</td>\n",
       "      <td>JJ</td>\n",
       "      <td>0</td>\n",
       "      <td>wretch</td>\n",
       "      <td>9.896332</td>\n",
       "      <td>6.475733</td>\n",
       "      <td>...</td>\n",
       "      <td>0</td>\n",
       "      <td>1</td>\n",
       "      <td>0</td>\n",
       "      <td>0</td>\n",
       "      <td>1</td>\n",
       "      <td>0</td>\n",
       "      <td>1</td>\n",
       "      <td>0</td>\n",
       "      <td>0</td>\n",
       "      <td>-1</td>\n",
       "    </tr>\n",
       "    <tr>\n",
       "      <th>yearning</th>\n",
       "      <td>2</td>\n",
       "      <td>8</td>\n",
       "      <td>0.000010</td>\n",
       "      <td>16.555301</td>\n",
       "      <td>NN</td>\n",
       "      <td>NN</td>\n",
       "      <td>0</td>\n",
       "      <td>yearn</td>\n",
       "      <td>17.792665</td>\n",
       "      <td>10.951467</td>\n",
       "      <td>...</td>\n",
       "      <td>1</td>\n",
       "      <td>0</td>\n",
       "      <td>0</td>\n",
       "      <td>1</td>\n",
       "      <td>1</td>\n",
       "      <td>1</td>\n",
       "      <td>0</td>\n",
       "      <td>0</td>\n",
       "      <td>1</td>\n",
       "      <td>0</td>\n",
       "    </tr>\n",
       "    <tr>\n",
       "      <th>yell</th>\n",
       "      <td>1</td>\n",
       "      <td>4</td>\n",
       "      <td>0.000005</td>\n",
       "      <td>17.555301</td>\n",
       "      <td>VB</td>\n",
       "      <td>VB</td>\n",
       "      <td>0</td>\n",
       "      <td>yell</td>\n",
       "      <td>9.896332</td>\n",
       "      <td>6.475733</td>\n",
       "      <td>...</td>\n",
       "      <td>0</td>\n",
       "      <td>0</td>\n",
       "      <td>1</td>\n",
       "      <td>0</td>\n",
       "      <td>1</td>\n",
       "      <td>0</td>\n",
       "      <td>0</td>\n",
       "      <td>1</td>\n",
       "      <td>0</td>\n",
       "      <td>-1</td>\n",
       "    </tr>\n",
       "    <tr>\n",
       "      <th>young</th>\n",
       "      <td>59</td>\n",
       "      <td>5</td>\n",
       "      <td>0.000306</td>\n",
       "      <td>11.672658</td>\n",
       "      <td>JJ</td>\n",
       "      <td>JJ</td>\n",
       "      <td>0</td>\n",
       "      <td>young</td>\n",
       "      <td>131.311905</td>\n",
       "      <td>42.328312</td>\n",
       "      <td>...</td>\n",
       "      <td>1</td>\n",
       "      <td>0</td>\n",
       "      <td>0</td>\n",
       "      <td>1</td>\n",
       "      <td>0</td>\n",
       "      <td>1</td>\n",
       "      <td>0</td>\n",
       "      <td>1</td>\n",
       "      <td>0</td>\n",
       "      <td>1</td>\n",
       "    </tr>\n",
       "    <tr>\n",
       "      <th>youth</th>\n",
       "      <td>44</td>\n",
       "      <td>5</td>\n",
       "      <td>0.000228</td>\n",
       "      <td>12.095869</td>\n",
       "      <td>NN</td>\n",
       "      <td>NN</td>\n",
       "      <td>0</td>\n",
       "      <td>youth</td>\n",
       "      <td>60.537667</td>\n",
       "      <td>29.752276</td>\n",
       "      <td>...</td>\n",
       "      <td>1</td>\n",
       "      <td>0</td>\n",
       "      <td>1</td>\n",
       "      <td>1</td>\n",
       "      <td>0</td>\n",
       "      <td>1</td>\n",
       "      <td>0</td>\n",
       "      <td>1</td>\n",
       "      <td>0</td>\n",
       "      <td>1</td>\n",
       "    </tr>\n",
       "  </tbody>\n",
       "</table>\n",
       "<p>1190 rows × 21 columns</p>\n",
       "</div>"
      ],
      "text/plain": [
       "            n  n_chars         p          i max_pos max_pos_group  stop  \\\n",
       "term_str                                                                  \n",
       "abandon     2        7  0.000010  16.555301     NNP            NN     0   \n",
       "abandoned   1        9  0.000005  17.555301     VBD            VB     0   \n",
       "absence     6        7  0.000031  14.970338      NN            NN     0   \n",
       "absentee    2        8  0.000010  16.555301      NN            NN     0   \n",
       "abundance   1        9  0.000005  17.555301      NN            NN     0   \n",
       "...        ..      ...       ...        ...     ...           ...   ...   \n",
       "wretched    2        8  0.000010  16.555301      JJ            JJ     0   \n",
       "yearning    2        8  0.000010  16.555301      NN            NN     0   \n",
       "yell        1        4  0.000005  17.555301      VB            VB     0   \n",
       "young      59        5  0.000306  11.672658      JJ            JJ     0   \n",
       "youth      44        5  0.000228  12.095869      NN            NN     0   \n",
       "\n",
       "          porter_stem  song_dfidf  album_dfidf  ...  anticipation  disgust  \\\n",
       "term_str                                        ...                          \n",
       "abandon       abandon   17.792665    10.951467  ...             0        0   \n",
       "abandoned     abandon    9.896332     6.475733  ...             0        0   \n",
       "absence        absenc   37.872022    20.769027  ...             0        0   \n",
       "absentee      absente    9.896332     6.475733  ...             0        0   \n",
       "abundance       abund    9.896332     6.475733  ...             1        1   \n",
       "...               ...         ...          ...  ...           ...      ...   \n",
       "wretched       wretch    9.896332     6.475733  ...             0        1   \n",
       "yearning        yearn   17.792665    10.951467  ...             1        0   \n",
       "yell             yell    9.896332     6.475733  ...             0        0   \n",
       "young           young  131.311905    42.328312  ...             1        0   \n",
       "youth           youth   60.537667    29.752276  ...             1        0   \n",
       "\n",
       "           fear  joy  negative  positive  sadness  surprise  trust  sentiment  \n",
       "term_str                                                                       \n",
       "abandon       1    0         1         0        1         0      0         -1  \n",
       "abandoned     1    0         1         0        1         0      0         -1  \n",
       "absence       1    0         1         0        1         0      0         -1  \n",
       "absentee      0    0         1         0        1         0      0         -1  \n",
       "abundance     0    1         1         1        0         0      1          0  \n",
       "...         ...  ...       ...       ...      ...       ...    ...        ...  \n",
       "wretched      0    0         1         0        1         0      0         -1  \n",
       "yearning      0    1         1         1        0         0      1          0  \n",
       "yell          1    0         1         0        0         1      0         -1  \n",
       "young         0    1         0         1        0         1      0          1  \n",
       "youth         1    1         0         1        0         1      0          1  \n",
       "\n",
       "[1190 rows x 21 columns]"
      ]
     },
     "execution_count": 7,
     "metadata": {},
     "output_type": "execute_result"
    }
   ],
   "source": [
    "VOCAB_SENT"
   ]
  },
  {
   "cell_type": "markdown",
   "metadata": {},
   "source": [
    "## Merge `VOCAB` with `BOW_ALBUM`"
   ]
  },
  {
   "cell_type": "code",
   "execution_count": 8,
   "metadata": {},
   "outputs": [],
   "source": [
    "BOW_SENT_ALBUM = BOW_ALBUM.join(VOCAB_SENT[['max_pos', 'album_dfidf'] + emo_cols], on='term_str', rsuffix='_v').dropna()"
   ]
  },
  {
   "cell_type": "code",
   "execution_count": 9,
   "metadata": {},
   "outputs": [
    {
     "data": {
      "text/html": [
       "<div>\n",
       "<style scoped>\n",
       "    .dataframe tbody tr th:only-of-type {\n",
       "        vertical-align: middle;\n",
       "    }\n",
       "\n",
       "    .dataframe tbody tr th {\n",
       "        vertical-align: top;\n",
       "    }\n",
       "\n",
       "    .dataframe thead th {\n",
       "        text-align: right;\n",
       "    }\n",
       "</style>\n",
       "<table border=\"1\" class=\"dataframe\">\n",
       "  <thead>\n",
       "    <tr style=\"text-align: right;\">\n",
       "      <th></th>\n",
       "      <th></th>\n",
       "      <th>n</th>\n",
       "      <th>max_pos</th>\n",
       "      <th>album_dfidf</th>\n",
       "      <th>anger</th>\n",
       "      <th>anticipation</th>\n",
       "      <th>disgust</th>\n",
       "      <th>fear</th>\n",
       "      <th>joy</th>\n",
       "      <th>sadness</th>\n",
       "      <th>surprise</th>\n",
       "      <th>trust</th>\n",
       "      <th>sentiment</th>\n",
       "    </tr>\n",
       "    <tr>\n",
       "      <th>album_id</th>\n",
       "      <th>term_str</th>\n",
       "      <th></th>\n",
       "      <th></th>\n",
       "      <th></th>\n",
       "      <th></th>\n",
       "      <th></th>\n",
       "      <th></th>\n",
       "      <th></th>\n",
       "      <th></th>\n",
       "      <th></th>\n",
       "      <th></th>\n",
       "      <th></th>\n",
       "      <th></th>\n",
       "    </tr>\n",
       "  </thead>\n",
       "  <tbody>\n",
       "    <tr>\n",
       "      <th rowspan=\"5\" valign=\"top\">0</th>\n",
       "      <th>afraid</th>\n",
       "      <td>2</td>\n",
       "      <td>JJ</td>\n",
       "      <td>44.899944</td>\n",
       "      <td>0.0</td>\n",
       "      <td>0.0</td>\n",
       "      <td>0.0</td>\n",
       "      <td>1.0</td>\n",
       "      <td>0.0</td>\n",
       "      <td>0.0</td>\n",
       "      <td>0.0</td>\n",
       "      <td>0.0</td>\n",
       "      <td>-1.0</td>\n",
       "    </tr>\n",
       "    <tr>\n",
       "      <th>beautiful</th>\n",
       "      <td>2</td>\n",
       "      <td>JJ</td>\n",
       "      <td>43.076107</td>\n",
       "      <td>0.0</td>\n",
       "      <td>0.0</td>\n",
       "      <td>0.0</td>\n",
       "      <td>0.0</td>\n",
       "      <td>1.0</td>\n",
       "      <td>0.0</td>\n",
       "      <td>0.0</td>\n",
       "      <td>0.0</td>\n",
       "      <td>1.0</td>\n",
       "    </tr>\n",
       "    <tr>\n",
       "      <th>faith</th>\n",
       "      <td>1</td>\n",
       "      <td>NN</td>\n",
       "      <td>27.805867</td>\n",
       "      <td>0.0</td>\n",
       "      <td>1.0</td>\n",
       "      <td>0.0</td>\n",
       "      <td>0.0</td>\n",
       "      <td>1.0</td>\n",
       "      <td>0.0</td>\n",
       "      <td>0.0</td>\n",
       "      <td>1.0</td>\n",
       "      <td>1.0</td>\n",
       "    </tr>\n",
       "    <tr>\n",
       "      <th>favorite</th>\n",
       "      <td>2</td>\n",
       "      <td>JJ</td>\n",
       "      <td>33.179320</td>\n",
       "      <td>0.0</td>\n",
       "      <td>0.0</td>\n",
       "      <td>0.0</td>\n",
       "      <td>0.0</td>\n",
       "      <td>1.0</td>\n",
       "      <td>0.0</td>\n",
       "      <td>0.0</td>\n",
       "      <td>1.0</td>\n",
       "      <td>1.0</td>\n",
       "    </tr>\n",
       "    <tr>\n",
       "      <th>friendship</th>\n",
       "      <td>1</td>\n",
       "      <td>NN</td>\n",
       "      <td>6.475733</td>\n",
       "      <td>0.0</td>\n",
       "      <td>0.0</td>\n",
       "      <td>0.0</td>\n",
       "      <td>0.0</td>\n",
       "      <td>1.0</td>\n",
       "      <td>0.0</td>\n",
       "      <td>0.0</td>\n",
       "      <td>1.0</td>\n",
       "      <td>1.0</td>\n",
       "    </tr>\n",
       "    <tr>\n",
       "      <th>...</th>\n",
       "      <th>...</th>\n",
       "      <td>...</td>\n",
       "      <td>...</td>\n",
       "      <td>...</td>\n",
       "      <td>...</td>\n",
       "      <td>...</td>\n",
       "      <td>...</td>\n",
       "      <td>...</td>\n",
       "      <td>...</td>\n",
       "      <td>...</td>\n",
       "      <td>...</td>\n",
       "      <td>...</td>\n",
       "      <td>...</td>\n",
       "    </tr>\n",
       "    <tr>\n",
       "      <th rowspan=\"5\" valign=\"top\">88</th>\n",
       "      <th>weird</th>\n",
       "      <td>1</td>\n",
       "      <td>JJ</td>\n",
       "      <td>33.179320</td>\n",
       "      <td>0.0</td>\n",
       "      <td>0.0</td>\n",
       "      <td>1.0</td>\n",
       "      <td>0.0</td>\n",
       "      <td>0.0</td>\n",
       "      <td>0.0</td>\n",
       "      <td>0.0</td>\n",
       "      <td>0.0</td>\n",
       "      <td>-1.0</td>\n",
       "    </tr>\n",
       "    <tr>\n",
       "      <th>wild</th>\n",
       "      <td>1</td>\n",
       "      <td>JJ</td>\n",
       "      <td>44.358640</td>\n",
       "      <td>0.0</td>\n",
       "      <td>0.0</td>\n",
       "      <td>0.0</td>\n",
       "      <td>0.0</td>\n",
       "      <td>0.0</td>\n",
       "      <td>0.0</td>\n",
       "      <td>1.0</td>\n",
       "      <td>0.0</td>\n",
       "      <td>-1.0</td>\n",
       "    </tr>\n",
       "    <tr>\n",
       "      <th>winner</th>\n",
       "      <td>1</td>\n",
       "      <td>NNP</td>\n",
       "      <td>20.769027</td>\n",
       "      <td>0.0</td>\n",
       "      <td>1.0</td>\n",
       "      <td>0.0</td>\n",
       "      <td>0.0</td>\n",
       "      <td>1.0</td>\n",
       "      <td>0.0</td>\n",
       "      <td>1.0</td>\n",
       "      <td>0.0</td>\n",
       "      <td>1.0</td>\n",
       "    </tr>\n",
       "    <tr>\n",
       "      <th>worse</th>\n",
       "      <td>1</td>\n",
       "      <td>JJR</td>\n",
       "      <td>33.179320</td>\n",
       "      <td>0.0</td>\n",
       "      <td>0.0</td>\n",
       "      <td>0.0</td>\n",
       "      <td>1.0</td>\n",
       "      <td>0.0</td>\n",
       "      <td>1.0</td>\n",
       "      <td>0.0</td>\n",
       "      <td>0.0</td>\n",
       "      <td>-1.0</td>\n",
       "    </tr>\n",
       "    <tr>\n",
       "      <th>youth</th>\n",
       "      <td>1</td>\n",
       "      <td>NN</td>\n",
       "      <td>29.752276</td>\n",
       "      <td>1.0</td>\n",
       "      <td>1.0</td>\n",
       "      <td>0.0</td>\n",
       "      <td>1.0</td>\n",
       "      <td>1.0</td>\n",
       "      <td>0.0</td>\n",
       "      <td>1.0</td>\n",
       "      <td>0.0</td>\n",
       "      <td>1.0</td>\n",
       "    </tr>\n",
       "  </tbody>\n",
       "</table>\n",
       "<p>5441 rows × 12 columns</p>\n",
       "</div>"
      ],
      "text/plain": [
       "                     n max_pos  album_dfidf  anger  anticipation  disgust  \\\n",
       "album_id term_str                                                           \n",
       "0        afraid      2      JJ    44.899944    0.0           0.0      0.0   \n",
       "         beautiful   2      JJ    43.076107    0.0           0.0      0.0   \n",
       "         faith       1      NN    27.805867    0.0           1.0      0.0   \n",
       "         favorite    2      JJ    33.179320    0.0           0.0      0.0   \n",
       "         friendship  1      NN     6.475733    0.0           0.0      0.0   \n",
       "...                 ..     ...          ...    ...           ...      ...   \n",
       "88       weird       1      JJ    33.179320    0.0           0.0      1.0   \n",
       "         wild        1      JJ    44.358640    0.0           0.0      0.0   \n",
       "         winner      1     NNP    20.769027    0.0           1.0      0.0   \n",
       "         worse       1     JJR    33.179320    0.0           0.0      0.0   \n",
       "         youth       1      NN    29.752276    1.0           1.0      0.0   \n",
       "\n",
       "                     fear  joy  sadness  surprise  trust  sentiment  \n",
       "album_id term_str                                                    \n",
       "0        afraid       1.0  0.0      0.0       0.0    0.0       -1.0  \n",
       "         beautiful    0.0  1.0      0.0       0.0    0.0        1.0  \n",
       "         faith        0.0  1.0      0.0       0.0    1.0        1.0  \n",
       "         favorite     0.0  1.0      0.0       0.0    1.0        1.0  \n",
       "         friendship   0.0  1.0      0.0       0.0    1.0        1.0  \n",
       "...                   ...  ...      ...       ...    ...        ...  \n",
       "88       weird        0.0  0.0      0.0       0.0    0.0       -1.0  \n",
       "         wild         0.0  0.0      0.0       1.0    0.0       -1.0  \n",
       "         winner       0.0  1.0      0.0       1.0    0.0        1.0  \n",
       "         worse        1.0  0.0      1.0       0.0    0.0       -1.0  \n",
       "         youth        1.0  1.0      0.0       1.0    0.0        1.0  \n",
       "\n",
       "[5441 rows x 12 columns]"
      ]
     },
     "execution_count": 9,
     "metadata": {},
     "output_type": "execute_result"
    }
   ],
   "source": [
    "BOW_SENT_ALBUM"
   ]
  },
  {
   "cell_type": "markdown",
   "metadata": {},
   "source": [
    "### Add Album TF-IDF to B for weighting emotions"
   ]
  },
  {
   "cell_type": "code",
   "execution_count": 10,
   "metadata": {},
   "outputs": [],
   "source": [
    "tfidf = TFIDF_ALBUM.stack().to_frame()"
   ]
  },
  {
   "cell_type": "code",
   "execution_count": 11,
   "metadata": {},
   "outputs": [],
   "source": [
    "tfidf.columns = ['tfidf']\n",
    "tfidf.index = tfidf.index.rename(['album_id', 'term_str'])"
   ]
  },
  {
   "cell_type": "code",
   "execution_count": 12,
   "metadata": {},
   "outputs": [],
   "source": [
    "BOW_SENT_ALBUM = BOW_SENT_ALBUM.join(tfidf, how='inner')"
   ]
  },
  {
   "cell_type": "code",
   "execution_count": 13,
   "metadata": {},
   "outputs": [
    {
     "data": {
      "text/html": [
       "<div>\n",
       "<style scoped>\n",
       "    .dataframe tbody tr th:only-of-type {\n",
       "        vertical-align: middle;\n",
       "    }\n",
       "\n",
       "    .dataframe tbody tr th {\n",
       "        vertical-align: top;\n",
       "    }\n",
       "\n",
       "    .dataframe thead th {\n",
       "        text-align: right;\n",
       "    }\n",
       "</style>\n",
       "<table border=\"1\" class=\"dataframe\">\n",
       "  <thead>\n",
       "    <tr style=\"text-align: right;\">\n",
       "      <th></th>\n",
       "      <th></th>\n",
       "      <th>n</th>\n",
       "      <th>max_pos</th>\n",
       "      <th>album_dfidf</th>\n",
       "      <th>anger</th>\n",
       "      <th>anticipation</th>\n",
       "      <th>disgust</th>\n",
       "      <th>fear</th>\n",
       "      <th>joy</th>\n",
       "      <th>sadness</th>\n",
       "      <th>surprise</th>\n",
       "      <th>trust</th>\n",
       "      <th>sentiment</th>\n",
       "      <th>tfidf</th>\n",
       "    </tr>\n",
       "    <tr>\n",
       "      <th>album_id</th>\n",
       "      <th>term_str</th>\n",
       "      <th></th>\n",
       "      <th></th>\n",
       "      <th></th>\n",
       "      <th></th>\n",
       "      <th></th>\n",
       "      <th></th>\n",
       "      <th></th>\n",
       "      <th></th>\n",
       "      <th></th>\n",
       "      <th></th>\n",
       "      <th></th>\n",
       "      <th></th>\n",
       "      <th></th>\n",
       "    </tr>\n",
       "  </thead>\n",
       "  <tbody>\n",
       "    <tr>\n",
       "      <th rowspan=\"5\" valign=\"top\">0</th>\n",
       "      <th>afraid</th>\n",
       "      <td>2</td>\n",
       "      <td>JJ</td>\n",
       "      <td>44.899944</td>\n",
       "      <td>0.0</td>\n",
       "      <td>0.0</td>\n",
       "      <td>0.0</td>\n",
       "      <td>1.0</td>\n",
       "      <td>0.0</td>\n",
       "      <td>0.0</td>\n",
       "      <td>0.0</td>\n",
       "      <td>0.0</td>\n",
       "      <td>-1.0</td>\n",
       "      <td>0.108454</td>\n",
       "    </tr>\n",
       "    <tr>\n",
       "      <th>beautiful</th>\n",
       "      <td>2</td>\n",
       "      <td>JJ</td>\n",
       "      <td>43.076107</td>\n",
       "      <td>0.0</td>\n",
       "      <td>0.0</td>\n",
       "      <td>0.0</td>\n",
       "      <td>0.0</td>\n",
       "      <td>1.0</td>\n",
       "      <td>0.0</td>\n",
       "      <td>0.0</td>\n",
       "      <td>0.0</td>\n",
       "      <td>1.0</td>\n",
       "      <td>0.119656</td>\n",
       "    </tr>\n",
       "    <tr>\n",
       "      <th>faith</th>\n",
       "      <td>1</td>\n",
       "      <td>NN</td>\n",
       "      <td>27.805867</td>\n",
       "      <td>0.0</td>\n",
       "      <td>1.0</td>\n",
       "      <td>0.0</td>\n",
       "      <td>0.0</td>\n",
       "      <td>1.0</td>\n",
       "      <td>0.0</td>\n",
       "      <td>0.0</td>\n",
       "      <td>1.0</td>\n",
       "      <td>1.0</td>\n",
       "      <td>0.096548</td>\n",
       "    </tr>\n",
       "    <tr>\n",
       "      <th>favorite</th>\n",
       "      <td>2</td>\n",
       "      <td>JJ</td>\n",
       "      <td>33.179320</td>\n",
       "      <td>0.0</td>\n",
       "      <td>0.0</td>\n",
       "      <td>0.0</td>\n",
       "      <td>0.0</td>\n",
       "      <td>1.0</td>\n",
       "      <td>0.0</td>\n",
       "      <td>0.0</td>\n",
       "      <td>1.0</td>\n",
       "      <td>1.0</td>\n",
       "      <td>0.167572</td>\n",
       "    </tr>\n",
       "    <tr>\n",
       "      <th>friendship</th>\n",
       "      <td>1</td>\n",
       "      <td>NN</td>\n",
       "      <td>6.475733</td>\n",
       "      <td>0.0</td>\n",
       "      <td>0.0</td>\n",
       "      <td>0.0</td>\n",
       "      <td>0.0</td>\n",
       "      <td>1.0</td>\n",
       "      <td>0.0</td>\n",
       "      <td>0.0</td>\n",
       "      <td>1.0</td>\n",
       "      <td>1.0</td>\n",
       "      <td>0.179881</td>\n",
       "    </tr>\n",
       "  </tbody>\n",
       "</table>\n",
       "</div>"
      ],
      "text/plain": [
       "                     n max_pos  album_dfidf  anger  anticipation  disgust  \\\n",
       "album_id term_str                                                           \n",
       "0        afraid      2      JJ    44.899944    0.0           0.0      0.0   \n",
       "         beautiful   2      JJ    43.076107    0.0           0.0      0.0   \n",
       "         faith       1      NN    27.805867    0.0           1.0      0.0   \n",
       "         favorite    2      JJ    33.179320    0.0           0.0      0.0   \n",
       "         friendship  1      NN     6.475733    0.0           0.0      0.0   \n",
       "\n",
       "                     fear  joy  sadness  surprise  trust  sentiment     tfidf  \n",
       "album_id term_str                                                              \n",
       "0        afraid       1.0  0.0      0.0       0.0    0.0       -1.0  0.108454  \n",
       "         beautiful    0.0  1.0      0.0       0.0    0.0        1.0  0.119656  \n",
       "         faith        0.0  1.0      0.0       0.0    1.0        1.0  0.096548  \n",
       "         favorite     0.0  1.0      0.0       0.0    1.0        1.0  0.167572  \n",
       "         friendship   0.0  1.0      0.0       0.0    1.0        1.0  0.179881  "
      ]
     },
     "execution_count": 13,
     "metadata": {},
     "output_type": "execute_result"
    }
   ],
   "source": [
    "BOW_SENT_ALBUM.head()"
   ]
  },
  {
   "cell_type": "markdown",
   "metadata": {},
   "source": [
    "## Weight emotions by TFIDF"
   ]
  },
  {
   "cell_type": "code",
   "execution_count": 14,
   "metadata": {},
   "outputs": [],
   "source": [
    "for col in emo_cols:\n",
    "    BOW_SENT_ALBUM[col] = BOW_SENT_ALBUM[col] * BOW_SENT_ALBUM.tfidf"
   ]
  },
  {
   "cell_type": "code",
   "execution_count": 15,
   "metadata": {},
   "outputs": [
    {
     "data": {
      "text/html": [
       "<div>\n",
       "<style scoped>\n",
       "    .dataframe tbody tr th:only-of-type {\n",
       "        vertical-align: middle;\n",
       "    }\n",
       "\n",
       "    .dataframe tbody tr th {\n",
       "        vertical-align: top;\n",
       "    }\n",
       "\n",
       "    .dataframe thead th {\n",
       "        text-align: right;\n",
       "    }\n",
       "</style>\n",
       "<table border=\"1\" class=\"dataframe\">\n",
       "  <thead>\n",
       "    <tr style=\"text-align: right;\">\n",
       "      <th></th>\n",
       "      <th></th>\n",
       "      <th>n</th>\n",
       "      <th>max_pos</th>\n",
       "      <th>album_dfidf</th>\n",
       "      <th>anger</th>\n",
       "      <th>anticipation</th>\n",
       "      <th>disgust</th>\n",
       "      <th>fear</th>\n",
       "      <th>joy</th>\n",
       "      <th>sadness</th>\n",
       "      <th>surprise</th>\n",
       "      <th>trust</th>\n",
       "      <th>sentiment</th>\n",
       "      <th>tfidf</th>\n",
       "    </tr>\n",
       "    <tr>\n",
       "      <th>album_id</th>\n",
       "      <th>term_str</th>\n",
       "      <th></th>\n",
       "      <th></th>\n",
       "      <th></th>\n",
       "      <th></th>\n",
       "      <th></th>\n",
       "      <th></th>\n",
       "      <th></th>\n",
       "      <th></th>\n",
       "      <th></th>\n",
       "      <th></th>\n",
       "      <th></th>\n",
       "      <th></th>\n",
       "      <th></th>\n",
       "    </tr>\n",
       "  </thead>\n",
       "  <tbody>\n",
       "    <tr>\n",
       "      <th rowspan=\"5\" valign=\"top\">0</th>\n",
       "      <th>afraid</th>\n",
       "      <td>2</td>\n",
       "      <td>JJ</td>\n",
       "      <td>44.899944</td>\n",
       "      <td>0.0</td>\n",
       "      <td>0.000000</td>\n",
       "      <td>0.0</td>\n",
       "      <td>0.108454</td>\n",
       "      <td>0.000000</td>\n",
       "      <td>0.0</td>\n",
       "      <td>0.0</td>\n",
       "      <td>0.000000</td>\n",
       "      <td>-0.108454</td>\n",
       "      <td>0.108454</td>\n",
       "    </tr>\n",
       "    <tr>\n",
       "      <th>beautiful</th>\n",
       "      <td>2</td>\n",
       "      <td>JJ</td>\n",
       "      <td>43.076107</td>\n",
       "      <td>0.0</td>\n",
       "      <td>0.000000</td>\n",
       "      <td>0.0</td>\n",
       "      <td>0.000000</td>\n",
       "      <td>0.119656</td>\n",
       "      <td>0.0</td>\n",
       "      <td>0.0</td>\n",
       "      <td>0.000000</td>\n",
       "      <td>0.119656</td>\n",
       "      <td>0.119656</td>\n",
       "    </tr>\n",
       "    <tr>\n",
       "      <th>faith</th>\n",
       "      <td>1</td>\n",
       "      <td>NN</td>\n",
       "      <td>27.805867</td>\n",
       "      <td>0.0</td>\n",
       "      <td>0.096548</td>\n",
       "      <td>0.0</td>\n",
       "      <td>0.000000</td>\n",
       "      <td>0.096548</td>\n",
       "      <td>0.0</td>\n",
       "      <td>0.0</td>\n",
       "      <td>0.096548</td>\n",
       "      <td>0.096548</td>\n",
       "      <td>0.096548</td>\n",
       "    </tr>\n",
       "    <tr>\n",
       "      <th>favorite</th>\n",
       "      <td>2</td>\n",
       "      <td>JJ</td>\n",
       "      <td>33.179320</td>\n",
       "      <td>0.0</td>\n",
       "      <td>0.000000</td>\n",
       "      <td>0.0</td>\n",
       "      <td>0.000000</td>\n",
       "      <td>0.167572</td>\n",
       "      <td>0.0</td>\n",
       "      <td>0.0</td>\n",
       "      <td>0.167572</td>\n",
       "      <td>0.167572</td>\n",
       "      <td>0.167572</td>\n",
       "    </tr>\n",
       "    <tr>\n",
       "      <th>friendship</th>\n",
       "      <td>1</td>\n",
       "      <td>NN</td>\n",
       "      <td>6.475733</td>\n",
       "      <td>0.0</td>\n",
       "      <td>0.000000</td>\n",
       "      <td>0.0</td>\n",
       "      <td>0.000000</td>\n",
       "      <td>0.179881</td>\n",
       "      <td>0.0</td>\n",
       "      <td>0.0</td>\n",
       "      <td>0.179881</td>\n",
       "      <td>0.179881</td>\n",
       "      <td>0.179881</td>\n",
       "    </tr>\n",
       "  </tbody>\n",
       "</table>\n",
       "</div>"
      ],
      "text/plain": [
       "                     n max_pos  album_dfidf  anger  anticipation  disgust  \\\n",
       "album_id term_str                                                           \n",
       "0        afraid      2      JJ    44.899944    0.0      0.000000      0.0   \n",
       "         beautiful   2      JJ    43.076107    0.0      0.000000      0.0   \n",
       "         faith       1      NN    27.805867    0.0      0.096548      0.0   \n",
       "         favorite    2      JJ    33.179320    0.0      0.000000      0.0   \n",
       "         friendship  1      NN     6.475733    0.0      0.000000      0.0   \n",
       "\n",
       "                         fear       joy  sadness  surprise     trust  \\\n",
       "album_id term_str                                                      \n",
       "0        afraid      0.108454  0.000000      0.0       0.0  0.000000   \n",
       "         beautiful   0.000000  0.119656      0.0       0.0  0.000000   \n",
       "         faith       0.000000  0.096548      0.0       0.0  0.096548   \n",
       "         favorite    0.000000  0.167572      0.0       0.0  0.167572   \n",
       "         friendship  0.000000  0.179881      0.0       0.0  0.179881   \n",
       "\n",
       "                     sentiment     tfidf  \n",
       "album_id term_str                         \n",
       "0        afraid      -0.108454  0.108454  \n",
       "         beautiful    0.119656  0.119656  \n",
       "         faith        0.096548  0.096548  \n",
       "         favorite     0.167572  0.167572  \n",
       "         friendship   0.179881  0.179881  "
      ]
     },
     "execution_count": 15,
     "metadata": {},
     "output_type": "execute_result"
    }
   ],
   "source": [
    "BOW_SENT_ALBUM.head()"
   ]
  },
  {
   "cell_type": "markdown",
   "metadata": {},
   "source": [
    "## Compute Doc (`ALBUM`) sentiment "
   ]
  },
  {
   "cell_type": "code",
   "execution_count": 16,
   "metadata": {},
   "outputs": [],
   "source": [
    "ALBUM_SENT = BOW_SENT_ALBUM.groupby('album_id').agg({\n",
    "    'anger':'mean',\n",
    "    'anticipation':'mean',\n",
    "    'disgust':'mean',\n",
    "    'fear':'mean',\n",
    "    'joy':'mean',\n",
    "    'sadness':'mean',\n",
    "    'surprise':'mean',\n",
    "    'trust':'mean',\n",
    "    'sentiment':'mean'\n",
    "})"
   ]
  },
  {
   "cell_type": "code",
   "execution_count": 17,
   "metadata": {},
   "outputs": [
    {
     "data": {
      "text/html": [
       "<div>\n",
       "<style scoped>\n",
       "    .dataframe tbody tr th:only-of-type {\n",
       "        vertical-align: middle;\n",
       "    }\n",
       "\n",
       "    .dataframe tbody tr th {\n",
       "        vertical-align: top;\n",
       "    }\n",
       "\n",
       "    .dataframe thead th {\n",
       "        text-align: right;\n",
       "    }\n",
       "</style>\n",
       "<table border=\"1\" class=\"dataframe\">\n",
       "  <thead>\n",
       "    <tr style=\"text-align: right;\">\n",
       "      <th></th>\n",
       "      <th>anger</th>\n",
       "      <th>anticipation</th>\n",
       "      <th>disgust</th>\n",
       "      <th>fear</th>\n",
       "      <th>joy</th>\n",
       "      <th>sadness</th>\n",
       "      <th>surprise</th>\n",
       "      <th>trust</th>\n",
       "      <th>sentiment</th>\n",
       "    </tr>\n",
       "    <tr>\n",
       "      <th>album_id</th>\n",
       "      <th></th>\n",
       "      <th></th>\n",
       "      <th></th>\n",
       "      <th></th>\n",
       "      <th></th>\n",
       "      <th></th>\n",
       "      <th></th>\n",
       "      <th></th>\n",
       "      <th></th>\n",
       "    </tr>\n",
       "  </thead>\n",
       "  <tbody>\n",
       "    <tr>\n",
       "      <th>0</th>\n",
       "      <td>0.020018</td>\n",
       "      <td>0.046307</td>\n",
       "      <td>0.029055</td>\n",
       "      <td>0.052652</td>\n",
       "      <td>0.078762</td>\n",
       "      <td>0.051305</td>\n",
       "      <td>0.014813</td>\n",
       "      <td>0.034162</td>\n",
       "      <td>0.015823</td>\n",
       "    </tr>\n",
       "    <tr>\n",
       "      <th>1</th>\n",
       "      <td>0.029324</td>\n",
       "      <td>0.016176</td>\n",
       "      <td>0.027757</td>\n",
       "      <td>0.041690</td>\n",
       "      <td>0.029160</td>\n",
       "      <td>0.025601</td>\n",
       "      <td>0.013447</td>\n",
       "      <td>0.031395</td>\n",
       "      <td>-0.026267</td>\n",
       "    </tr>\n",
       "    <tr>\n",
       "      <th>2</th>\n",
       "      <td>0.016617</td>\n",
       "      <td>0.021864</td>\n",
       "      <td>0.007593</td>\n",
       "      <td>0.017183</td>\n",
       "      <td>0.029052</td>\n",
       "      <td>0.012295</td>\n",
       "      <td>0.009189</td>\n",
       "      <td>0.033763</td>\n",
       "      <td>0.011930</td>\n",
       "    </tr>\n",
       "    <tr>\n",
       "      <th>3</th>\n",
       "      <td>0.011425</td>\n",
       "      <td>0.011072</td>\n",
       "      <td>0.012779</td>\n",
       "      <td>0.016213</td>\n",
       "      <td>0.014134</td>\n",
       "      <td>0.017504</td>\n",
       "      <td>0.004888</td>\n",
       "      <td>0.016325</td>\n",
       "      <td>-0.030101</td>\n",
       "    </tr>\n",
       "    <tr>\n",
       "      <th>4</th>\n",
       "      <td>0.015838</td>\n",
       "      <td>0.009816</td>\n",
       "      <td>0.013306</td>\n",
       "      <td>0.062170</td>\n",
       "      <td>0.012721</td>\n",
       "      <td>0.073089</td>\n",
       "      <td>0.001620</td>\n",
       "      <td>0.023182</td>\n",
       "      <td>-0.060353</td>\n",
       "    </tr>\n",
       "    <tr>\n",
       "      <th>...</th>\n",
       "      <td>...</td>\n",
       "      <td>...</td>\n",
       "      <td>...</td>\n",
       "      <td>...</td>\n",
       "      <td>...</td>\n",
       "      <td>...</td>\n",
       "      <td>...</td>\n",
       "      <td>...</td>\n",
       "      <td>...</td>\n",
       "    </tr>\n",
       "    <tr>\n",
       "      <th>84</th>\n",
       "      <td>0.004495</td>\n",
       "      <td>0.004237</td>\n",
       "      <td>0.004292</td>\n",
       "      <td>0.008692</td>\n",
       "      <td>0.007992</td>\n",
       "      <td>0.008996</td>\n",
       "      <td>0.005163</td>\n",
       "      <td>0.007021</td>\n",
       "      <td>-0.003867</td>\n",
       "    </tr>\n",
       "    <tr>\n",
       "      <th>85</th>\n",
       "      <td>0.009014</td>\n",
       "      <td>0.008448</td>\n",
       "      <td>0.008399</td>\n",
       "      <td>0.012080</td>\n",
       "      <td>0.009030</td>\n",
       "      <td>0.015282</td>\n",
       "      <td>0.007121</td>\n",
       "      <td>0.010404</td>\n",
       "      <td>-0.008339</td>\n",
       "    </tr>\n",
       "    <tr>\n",
       "      <th>86</th>\n",
       "      <td>0.008974</td>\n",
       "      <td>0.011029</td>\n",
       "      <td>0.006773</td>\n",
       "      <td>0.016942</td>\n",
       "      <td>0.010613</td>\n",
       "      <td>0.022236</td>\n",
       "      <td>0.005707</td>\n",
       "      <td>0.009429</td>\n",
       "      <td>-0.012763</td>\n",
       "    </tr>\n",
       "    <tr>\n",
       "      <th>87</th>\n",
       "      <td>0.016864</td>\n",
       "      <td>0.017628</td>\n",
       "      <td>0.013908</td>\n",
       "      <td>0.013587</td>\n",
       "      <td>0.028877</td>\n",
       "      <td>0.019328</td>\n",
       "      <td>0.008488</td>\n",
       "      <td>0.028845</td>\n",
       "      <td>0.002614</td>\n",
       "    </tr>\n",
       "    <tr>\n",
       "      <th>88</th>\n",
       "      <td>0.011571</td>\n",
       "      <td>0.007074</td>\n",
       "      <td>0.007979</td>\n",
       "      <td>0.016269</td>\n",
       "      <td>0.010086</td>\n",
       "      <td>0.013814</td>\n",
       "      <td>0.005842</td>\n",
       "      <td>0.009260</td>\n",
       "      <td>-0.009325</td>\n",
       "    </tr>\n",
       "  </tbody>\n",
       "</table>\n",
       "<p>89 rows × 9 columns</p>\n",
       "</div>"
      ],
      "text/plain": [
       "             anger  anticipation   disgust      fear       joy   sadness  \\\n",
       "album_id                                                                   \n",
       "0         0.020018      0.046307  0.029055  0.052652  0.078762  0.051305   \n",
       "1         0.029324      0.016176  0.027757  0.041690  0.029160  0.025601   \n",
       "2         0.016617      0.021864  0.007593  0.017183  0.029052  0.012295   \n",
       "3         0.011425      0.011072  0.012779  0.016213  0.014134  0.017504   \n",
       "4         0.015838      0.009816  0.013306  0.062170  0.012721  0.073089   \n",
       "...            ...           ...       ...       ...       ...       ...   \n",
       "84        0.004495      0.004237  0.004292  0.008692  0.007992  0.008996   \n",
       "85        0.009014      0.008448  0.008399  0.012080  0.009030  0.015282   \n",
       "86        0.008974      0.011029  0.006773  0.016942  0.010613  0.022236   \n",
       "87        0.016864      0.017628  0.013908  0.013587  0.028877  0.019328   \n",
       "88        0.011571      0.007074  0.007979  0.016269  0.010086  0.013814   \n",
       "\n",
       "          surprise     trust  sentiment  \n",
       "album_id                                 \n",
       "0         0.014813  0.034162   0.015823  \n",
       "1         0.013447  0.031395  -0.026267  \n",
       "2         0.009189  0.033763   0.011930  \n",
       "3         0.004888  0.016325  -0.030101  \n",
       "4         0.001620  0.023182  -0.060353  \n",
       "...            ...       ...        ...  \n",
       "84        0.005163  0.007021  -0.003867  \n",
       "85        0.007121  0.010404  -0.008339  \n",
       "86        0.005707  0.009429  -0.012763  \n",
       "87        0.008488  0.028845   0.002614  \n",
       "88        0.005842  0.009260  -0.009325  \n",
       "\n",
       "[89 rows x 9 columns]"
      ]
     },
     "execution_count": 17,
     "metadata": {},
     "output_type": "execute_result"
    }
   ],
   "source": [
    "ALBUM_SENT"
   ]
  },
  {
   "cell_type": "markdown",
   "metadata": {},
   "source": [
    "## Add `ALBUM_SENT` to `LIB`"
   ]
  },
  {
   "cell_type": "code",
   "execution_count": 18,
   "metadata": {},
   "outputs": [],
   "source": [
    "LIB = LIB.join(ALBUM_SENT)"
   ]
  },
  {
   "cell_type": "code",
   "execution_count": 19,
   "metadata": {},
   "outputs": [],
   "source": [
    "LIB['datelen'] = LIB.release_date.apply(lambda x: len(x))"
   ]
  },
  {
   "cell_type": "code",
   "execution_count": 20,
   "metadata": {},
   "outputs": [],
   "source": [
    "LIB['year'] = LIB.release_date.apply(lambda x: x[:4])"
   ]
  },
  {
   "cell_type": "code",
   "execution_count": 21,
   "metadata": {},
   "outputs": [
    {
     "data": {
      "text/html": [
       "<div>\n",
       "<style scoped>\n",
       "    .dataframe tbody tr th:only-of-type {\n",
       "        vertical-align: middle;\n",
       "    }\n",
       "\n",
       "    .dataframe tbody tr th {\n",
       "        vertical-align: top;\n",
       "    }\n",
       "\n",
       "    .dataframe thead th {\n",
       "        text-align: right;\n",
       "    }\n",
       "</style>\n",
       "<table border=\"1\" class=\"dataframe\">\n",
       "  <thead>\n",
       "    <tr style=\"text-align: right;\">\n",
       "      <th></th>\n",
       "      <th>album_name</th>\n",
       "      <th>album_title</th>\n",
       "      <th>artist</th>\n",
       "      <th>source_file_path</th>\n",
       "      <th>song_regex</th>\n",
       "      <th>genres</th>\n",
       "      <th>release_date</th>\n",
       "      <th>label</th>\n",
       "      <th>mean_danceability</th>\n",
       "      <th>mean_energy</th>\n",
       "      <th>...</th>\n",
       "      <th>anticipation</th>\n",
       "      <th>disgust</th>\n",
       "      <th>fear</th>\n",
       "      <th>joy</th>\n",
       "      <th>sadness</th>\n",
       "      <th>surprise</th>\n",
       "      <th>trust</th>\n",
       "      <th>sentiment</th>\n",
       "      <th>datelen</th>\n",
       "      <th>year</th>\n",
       "    </tr>\n",
       "    <tr>\n",
       "      <th>album_id</th>\n",
       "      <th></th>\n",
       "      <th></th>\n",
       "      <th></th>\n",
       "      <th></th>\n",
       "      <th></th>\n",
       "      <th></th>\n",
       "      <th></th>\n",
       "      <th></th>\n",
       "      <th></th>\n",
       "      <th></th>\n",
       "      <th></th>\n",
       "      <th></th>\n",
       "      <th></th>\n",
       "      <th></th>\n",
       "      <th></th>\n",
       "      <th></th>\n",
       "      <th></th>\n",
       "      <th></th>\n",
       "      <th></th>\n",
       "      <th></th>\n",
       "      <th></th>\n",
       "    </tr>\n",
       "  </thead>\n",
       "  <tbody>\n",
       "    <tr>\n",
       "      <th>23</th>\n",
       "      <td>Forgiveness_Rock_Record</td>\n",
       "      <td>Forgiveness Rock Record</td>\n",
       "      <td>Broken Social Scene</td>\n",
       "      <td>../data/albums/Forgiveness_Rock_Record.txt</td>\n",
       "      <td>\\[Trackname:\\s[^\\]]+\\]</td>\n",
       "      <td>['alternative rock', 'baroque pop', 'canadian ...</td>\n",
       "      <td>2010</td>\n",
       "      <td>Arts &amp; Crafts Productions Inc.</td>\n",
       "      <td>0.530154</td>\n",
       "      <td>0.604846</td>\n",
       "      <td>...</td>\n",
       "      <td>0.004636</td>\n",
       "      <td>0.009113</td>\n",
       "      <td>0.014493</td>\n",
       "      <td>0.008251</td>\n",
       "      <td>0.012199</td>\n",
       "      <td>0.004235</td>\n",
       "      <td>0.010143</td>\n",
       "      <td>-0.011373</td>\n",
       "      <td>4</td>\n",
       "      <td>2010</td>\n",
       "    </tr>\n",
       "    <tr>\n",
       "      <th>27</th>\n",
       "      <td>Grow_Up_And_Blow_Away</td>\n",
       "      <td>Grow Up And Blow Away</td>\n",
       "      <td>Metric</td>\n",
       "      <td>../data/albums/Grow_Up_And_Blow_Away.txt</td>\n",
       "      <td>\\[Trackname:\\s[^\\]]+\\]</td>\n",
       "      <td>['canadian indie', 'canadian rock', 'indie roc...</td>\n",
       "      <td>2007</td>\n",
       "      <td>Last Gang</td>\n",
       "      <td>0.606800</td>\n",
       "      <td>0.632500</td>\n",
       "      <td>...</td>\n",
       "      <td>0.014559</td>\n",
       "      <td>0.023334</td>\n",
       "      <td>0.023664</td>\n",
       "      <td>0.015234</td>\n",
       "      <td>0.016956</td>\n",
       "      <td>0.005901</td>\n",
       "      <td>0.012237</td>\n",
       "      <td>-0.015533</td>\n",
       "      <td>4</td>\n",
       "      <td>2007</td>\n",
       "    </tr>\n",
       "    <tr>\n",
       "      <th>42</th>\n",
       "      <td>Live_It_Out</td>\n",
       "      <td>Live It Out</td>\n",
       "      <td>Metric</td>\n",
       "      <td>../data/albums/Live_It_Out.txt</td>\n",
       "      <td>\\[Trackname:\\s[^\\]]+\\]</td>\n",
       "      <td>['canadian indie', 'canadian rock', 'indie roc...</td>\n",
       "      <td>2005</td>\n",
       "      <td>Last Gang</td>\n",
       "      <td>0.521000</td>\n",
       "      <td>0.811400</td>\n",
       "      <td>...</td>\n",
       "      <td>0.014171</td>\n",
       "      <td>0.017588</td>\n",
       "      <td>0.027316</td>\n",
       "      <td>0.015626</td>\n",
       "      <td>0.014493</td>\n",
       "      <td>0.007220</td>\n",
       "      <td>0.030673</td>\n",
       "      <td>-0.008450</td>\n",
       "      <td>4</td>\n",
       "      <td>2005</td>\n",
       "    </tr>\n",
       "    <tr>\n",
       "      <th>49</th>\n",
       "      <td>Masterpiece_(2023_Remaster)</td>\n",
       "      <td>Masterpiece (2023 Remaster)</td>\n",
       "      <td>Big Thief</td>\n",
       "      <td>../data/albums/Masterpiece_(2023_Remaster).txt</td>\n",
       "      <td>\\[Trackname:\\s[^\\]]+\\]</td>\n",
       "      <td>['art pop', 'brooklyn indie', 'chamber pop', '...</td>\n",
       "      <td>2016</td>\n",
       "      <td>4AD</td>\n",
       "      <td>0.395167</td>\n",
       "      <td>0.509225</td>\n",
       "      <td>...</td>\n",
       "      <td>0.008060</td>\n",
       "      <td>0.006705</td>\n",
       "      <td>0.016418</td>\n",
       "      <td>0.015089</td>\n",
       "      <td>0.011399</td>\n",
       "      <td>0.004542</td>\n",
       "      <td>0.013123</td>\n",
       "      <td>0.000850</td>\n",
       "      <td>4</td>\n",
       "      <td>2016</td>\n",
       "    </tr>\n",
       "    <tr>\n",
       "      <th>52</th>\n",
       "      <td>Morning_Better_Last!</td>\n",
       "      <td>Morning Better Last!</td>\n",
       "      <td>Dirty Projectors</td>\n",
       "      <td>../data/albums/Morning_Better_Last!.txt</td>\n",
       "      <td>\\[Trackname:\\s[^\\]]+\\]</td>\n",
       "      <td>['art pop', 'brooklyn indie', 'indie rock', 'i...</td>\n",
       "      <td>2003</td>\n",
       "      <td>States Rights Records</td>\n",
       "      <td>0.484684</td>\n",
       "      <td>0.341511</td>\n",
       "      <td>...</td>\n",
       "      <td>0.013918</td>\n",
       "      <td>0.012186</td>\n",
       "      <td>0.023365</td>\n",
       "      <td>0.020722</td>\n",
       "      <td>0.020159</td>\n",
       "      <td>0.011507</td>\n",
       "      <td>0.028757</td>\n",
       "      <td>0.002470</td>\n",
       "      <td>4</td>\n",
       "      <td>2003</td>\n",
       "    </tr>\n",
       "  </tbody>\n",
       "</table>\n",
       "<p>5 rows × 31 columns</p>\n",
       "</div>"
      ],
      "text/plain": [
       "                           album_name                  album_title  \\\n",
       "album_id                                                             \n",
       "23            Forgiveness_Rock_Record      Forgiveness Rock Record   \n",
       "27              Grow_Up_And_Blow_Away        Grow Up And Blow Away   \n",
       "42                        Live_It_Out                  Live It Out   \n",
       "49        Masterpiece_(2023_Remaster)  Masterpiece (2023 Remaster)   \n",
       "52               Morning_Better_Last!         Morning Better Last!   \n",
       "\n",
       "                       artist                                source_file_path  \\\n",
       "album_id                                                                        \n",
       "23        Broken Social Scene      ../data/albums/Forgiveness_Rock_Record.txt   \n",
       "27                     Metric        ../data/albums/Grow_Up_And_Blow_Away.txt   \n",
       "42                     Metric                  ../data/albums/Live_It_Out.txt   \n",
       "49                  Big Thief  ../data/albums/Masterpiece_(2023_Remaster).txt   \n",
       "52           Dirty Projectors         ../data/albums/Morning_Better_Last!.txt   \n",
       "\n",
       "                      song_regex  \\\n",
       "album_id                           \n",
       "23        \\[Trackname:\\s[^\\]]+\\]   \n",
       "27        \\[Trackname:\\s[^\\]]+\\]   \n",
       "42        \\[Trackname:\\s[^\\]]+\\]   \n",
       "49        \\[Trackname:\\s[^\\]]+\\]   \n",
       "52        \\[Trackname:\\s[^\\]]+\\]   \n",
       "\n",
       "                                                     genres release_date  \\\n",
       "album_id                                                                   \n",
       "23        ['alternative rock', 'baroque pop', 'canadian ...         2010   \n",
       "27        ['canadian indie', 'canadian rock', 'indie roc...         2007   \n",
       "42        ['canadian indie', 'canadian rock', 'indie roc...         2005   \n",
       "49        ['art pop', 'brooklyn indie', 'chamber pop', '...         2016   \n",
       "52        ['art pop', 'brooklyn indie', 'indie rock', 'i...         2003   \n",
       "\n",
       "                                   label  mean_danceability  mean_energy  ...  \\\n",
       "album_id                                                                  ...   \n",
       "23        Arts & Crafts Productions Inc.           0.530154     0.604846  ...   \n",
       "27                             Last Gang           0.606800     0.632500  ...   \n",
       "42                             Last Gang           0.521000     0.811400  ...   \n",
       "49                                   4AD           0.395167     0.509225  ...   \n",
       "52                 States Rights Records           0.484684     0.341511  ...   \n",
       "\n",
       "          anticipation   disgust      fear       joy   sadness  surprise  \\\n",
       "album_id                                                                   \n",
       "23            0.004636  0.009113  0.014493  0.008251  0.012199  0.004235   \n",
       "27            0.014559  0.023334  0.023664  0.015234  0.016956  0.005901   \n",
       "42            0.014171  0.017588  0.027316  0.015626  0.014493  0.007220   \n",
       "49            0.008060  0.006705  0.016418  0.015089  0.011399  0.004542   \n",
       "52            0.013918  0.012186  0.023365  0.020722  0.020159  0.011507   \n",
       "\n",
       "             trust  sentiment  datelen  year  \n",
       "album_id                                      \n",
       "23        0.010143  -0.011373        4  2010  \n",
       "27        0.012237  -0.015533        4  2007  \n",
       "42        0.030673  -0.008450        4  2005  \n",
       "49        0.013123   0.000850        4  2016  \n",
       "52        0.028757   0.002470        4  2003  \n",
       "\n",
       "[5 rows x 31 columns]"
      ]
     },
     "execution_count": 21,
     "metadata": {},
     "output_type": "execute_result"
    }
   ],
   "source": [
    "LIB[LIB.datelen == 4]"
   ]
  },
  {
   "cell_type": "markdown",
   "metadata": {},
   "source": [
    "### Manual date editing"
   ]
  },
  {
   "cell_type": "code",
   "execution_count": 22,
   "metadata": {},
   "outputs": [],
   "source": [
    "LIB.loc[23, 'release_date'] = '2010-05-04'\n",
    "LIB.loc[27, 'release_date'] = '2007-06-26'\n",
    "LIB.loc[42, 'release_date'] = '2005-09-27'\n",
    "LIB.loc[49, 'release_date'] = '2016-05-27'\n",
    "LIB.loc[52, 'release_date'] = '2003-09-01'"
   ]
  },
  {
   "cell_type": "markdown",
   "metadata": {},
   "source": [
    "### Convert `release_date` to datetime"
   ]
  },
  {
   "cell_type": "code",
   "execution_count": 23,
   "metadata": {},
   "outputs": [],
   "source": [
    "LIB.release_date = LIB.release_date.astype('datetime64[ns]')"
   ]
  },
  {
   "cell_type": "markdown",
   "metadata": {},
   "source": [
    "## Plot sentiment over time"
   ]
  },
  {
   "cell_type": "markdown",
   "metadata": {},
   "source": [
    "#### Mean sentiment by year"
   ]
  },
  {
   "cell_type": "code",
   "execution_count": 24,
   "metadata": {},
   "outputs": [
    {
     "data": {
      "image/png": "[encoded data removed]",
      "text/plain": [
       "<Figure size 640x480 with 1 Axes>"
      ]
     },
     "metadata": {},
     "output_type": "display_data"
    }
   ],
   "source": [
    "plot = sns.lineplot(data=LIB.groupby('year').agg({'sentiment':'mean'}), x='year', y='sentiment')\n",
    "plot.tick_params(axis='x', rotation=90)"
   ]
  },
  {
   "cell_type": "code",
   "execution_count": 25,
   "metadata": {},
   "outputs": [
    {
     "data": {
      "text/html": [
       "<div>\n",
       "<style scoped>\n",
       "    .dataframe tbody tr th:only-of-type {\n",
       "        vertical-align: middle;\n",
       "    }\n",
       "\n",
       "    .dataframe tbody tr th {\n",
       "        vertical-align: top;\n",
       "    }\n",
       "\n",
       "    .dataframe thead th {\n",
       "        text-align: right;\n",
       "    }\n",
       "</style>\n",
       "<table border=\"1\" class=\"dataframe\">\n",
       "  <thead>\n",
       "    <tr style=\"text-align: right;\">\n",
       "      <th></th>\n",
       "      <th>album_name</th>\n",
       "      <th>album_title</th>\n",
       "      <th>artist</th>\n",
       "      <th>source_file_path</th>\n",
       "      <th>song_regex</th>\n",
       "      <th>genres</th>\n",
       "      <th>release_date</th>\n",
       "      <th>label</th>\n",
       "      <th>mean_danceability</th>\n",
       "      <th>mean_energy</th>\n",
       "      <th>...</th>\n",
       "      <th>anticipation</th>\n",
       "      <th>disgust</th>\n",
       "      <th>fear</th>\n",
       "      <th>joy</th>\n",
       "      <th>sadness</th>\n",
       "      <th>surprise</th>\n",
       "      <th>trust</th>\n",
       "      <th>sentiment</th>\n",
       "      <th>datelen</th>\n",
       "      <th>year</th>\n",
       "    </tr>\n",
       "    <tr>\n",
       "      <th>album_id</th>\n",
       "      <th></th>\n",
       "      <th></th>\n",
       "      <th></th>\n",
       "      <th></th>\n",
       "      <th></th>\n",
       "      <th></th>\n",
       "      <th></th>\n",
       "      <th></th>\n",
       "      <th></th>\n",
       "      <th></th>\n",
       "      <th></th>\n",
       "      <th></th>\n",
       "      <th></th>\n",
       "      <th></th>\n",
       "      <th></th>\n",
       "      <th></th>\n",
       "      <th></th>\n",
       "      <th></th>\n",
       "      <th></th>\n",
       "      <th></th>\n",
       "      <th></th>\n",
       "    </tr>\n",
       "  </thead>\n",
       "  <tbody>\n",
       "    <tr>\n",
       "      <th>4</th>\n",
       "      <td>Amnesiac</td>\n",
       "      <td>Amnesiac</td>\n",
       "      <td>Radiohead</td>\n",
       "      <td>../data/albums/Amnesiac.txt</td>\n",
       "      <td>\\[Trackname:\\s[^\\]]+\\]</td>\n",
       "      <td>['alternative rock', 'art rock', 'melancholia'...</td>\n",
       "      <td>2001-03-12</td>\n",
       "      <td>XL Recordings</td>\n",
       "      <td>0.408500</td>\n",
       "      <td>0.495100</td>\n",
       "      <td>...</td>\n",
       "      <td>0.009816</td>\n",
       "      <td>0.013306</td>\n",
       "      <td>0.062170</td>\n",
       "      <td>0.012721</td>\n",
       "      <td>0.073089</td>\n",
       "      <td>0.00162</td>\n",
       "      <td>0.023182</td>\n",
       "      <td>-0.060353</td>\n",
       "      <td>10</td>\n",
       "      <td>2001</td>\n",
       "    </tr>\n",
       "    <tr>\n",
       "      <th>21</th>\n",
       "      <td>Feel_Good_Lost</td>\n",
       "      <td>Feel Good Lost</td>\n",
       "      <td>Broken Social Scene</td>\n",
       "      <td>../data/albums/Feel_Good_Lost.txt</td>\n",
       "      <td>\\[Trackname:\\s[^\\]]+\\]</td>\n",
       "      <td>['alternative rock', 'baroque pop', 'canadian ...</td>\n",
       "      <td>2001-03-06</td>\n",
       "      <td>Arts &amp; Crafts Productions Inc.</td>\n",
       "      <td>0.485333</td>\n",
       "      <td>0.462667</td>\n",
       "      <td>...</td>\n",
       "      <td>0.000000</td>\n",
       "      <td>0.000000</td>\n",
       "      <td>0.499603</td>\n",
       "      <td>0.000000</td>\n",
       "      <td>0.499603</td>\n",
       "      <td>0.00000</td>\n",
       "      <td>0.000000</td>\n",
       "      <td>-0.499603</td>\n",
       "      <td>10</td>\n",
       "      <td>2001</td>\n",
       "    </tr>\n",
       "  </tbody>\n",
       "</table>\n",
       "<p>2 rows × 31 columns</p>\n",
       "</div>"
      ],
      "text/plain": [
       "              album_name     album_title               artist  \\\n",
       "album_id                                                        \n",
       "4               Amnesiac        Amnesiac            Radiohead   \n",
       "21        Feel_Good_Lost  Feel Good Lost  Broken Social Scene   \n",
       "\n",
       "                           source_file_path              song_regex  \\\n",
       "album_id                                                              \n",
       "4               ../data/albums/Amnesiac.txt  \\[Trackname:\\s[^\\]]+\\]   \n",
       "21        ../data/albums/Feel_Good_Lost.txt  \\[Trackname:\\s[^\\]]+\\]   \n",
       "\n",
       "                                                     genres release_date  \\\n",
       "album_id                                                                   \n",
       "4         ['alternative rock', 'art rock', 'melancholia'...   2001-03-12   \n",
       "21        ['alternative rock', 'baroque pop', 'canadian ...   2001-03-06   \n",
       "\n",
       "                                   label  mean_danceability  mean_energy  ...  \\\n",
       "album_id                                                                  ...   \n",
       "4                          XL Recordings           0.408500     0.495100  ...   \n",
       "21        Arts & Crafts Productions Inc.           0.485333     0.462667  ...   \n",
       "\n",
       "          anticipation   disgust      fear       joy   sadness  surprise  \\\n",
       "album_id                                                                   \n",
       "4             0.009816  0.013306  0.062170  0.012721  0.073089   0.00162   \n",
       "21            0.000000  0.000000  0.499603  0.000000  0.499603   0.00000   \n",
       "\n",
       "             trust  sentiment  datelen  year  \n",
       "album_id                                      \n",
       "4         0.023182  -0.060353       10  2001  \n",
       "21        0.000000  -0.499603       10  2001  \n",
       "\n",
       "[2 rows x 31 columns]"
      ]
     },
     "execution_count": 25,
     "metadata": {},
     "output_type": "execute_result"
    }
   ],
   "source": [
    "LIB[LIB.year == '2001']"
   ]
  },
  {
   "cell_type": "code",
   "execution_count": 26,
   "metadata": {},
   "outputs": [
    {
     "data": {
      "text/plain": [
       "157"
      ]
     },
     "execution_count": 26,
     "metadata": {},
     "output_type": "execute_result"
    }
   ],
   "source": [
    "LIB.loc[21].album_term_count"
   ]
  },
  {
   "cell_type": "markdown",
   "metadata": {},
   "source": [
    "It looks like 2001 is a super sad year, but it turns out this is due to there only being two albums in my forpus from this year, and one is mostly instrumental, with two very short, very sad songs. This highlights sensitivity of sentiment analysis to document size."
   ]
  },
  {
   "cell_type": "markdown",
   "metadata": {},
   "source": [
    "## Possible Riff 1\n",
    "Plot sentiment by artist. Who is the saddest??"
   ]
  },
  {
   "cell_type": "code",
   "execution_count": 91,
   "metadata": {},
   "outputs": [
    {
     "data": {
      "image/png": "[encoded data removed]",
      "text/plain": [
       "<Figure size 640x480 with 1 Axes>"
      ]
     },
     "metadata": {},
     "output_type": "display_data"
    }
   ],
   "source": [
    "plot = sns.scatterplot(data=LIB.groupby('artist').agg({'sentiment':'mean'}), x='artist', y='sentiment')\n",
    "plot.set_title('Sentiment by Artist')\n",
    "plot.tick_params(axis='x', rotation=90)"
   ]
  },
  {
   "cell_type": "markdown",
   "metadata": {},
   "source": [
    "## Possible Riff 2\n",
    "\n",
    "* Graph sentiment by artist over albums\n",
    "    * Do artists have sentiment arcs over albums?\n",
    "\n",
    "Or\n",
    "\n",
    "* Graph sentiment by song within album\n",
    "    * Do albums have sentiment arcs over songs?"
   ]
  },
  {
   "cell_type": "markdown",
   "metadata": {},
   "source": [
    "## Merge `VOCAB` with `BOW_SONG`"
   ]
  },
  {
   "cell_type": "code",
   "execution_count": 29,
   "metadata": {},
   "outputs": [],
   "source": [
    "BOW_SENT_SONG = BOW_SONG.join(VOCAB_SENT[['max_pos', 'song_dfidf'] + emo_cols], on='term_str', rsuffix='_v').dropna()"
   ]
  },
  {
   "cell_type": "code",
   "execution_count": 30,
   "metadata": {},
   "outputs": [
    {
     "data": {
      "text/html": [
       "<div>\n",
       "<style scoped>\n",
       "    .dataframe tbody tr th:only-of-type {\n",
       "        vertical-align: middle;\n",
       "    }\n",
       "\n",
       "    .dataframe tbody tr th {\n",
       "        vertical-align: top;\n",
       "    }\n",
       "\n",
       "    .dataframe thead th {\n",
       "        text-align: right;\n",
       "    }\n",
       "</style>\n",
       "<table border=\"1\" class=\"dataframe\">\n",
       "  <thead>\n",
       "    <tr style=\"text-align: right;\">\n",
       "      <th></th>\n",
       "      <th></th>\n",
       "      <th></th>\n",
       "      <th>n</th>\n",
       "      <th>max_pos</th>\n",
       "      <th>song_dfidf</th>\n",
       "      <th>anger</th>\n",
       "      <th>anticipation</th>\n",
       "      <th>disgust</th>\n",
       "      <th>fear</th>\n",
       "      <th>joy</th>\n",
       "      <th>sadness</th>\n",
       "      <th>surprise</th>\n",
       "      <th>trust</th>\n",
       "      <th>sentiment</th>\n",
       "    </tr>\n",
       "    <tr>\n",
       "      <th>album_id</th>\n",
       "      <th>song_num</th>\n",
       "      <th>term_str</th>\n",
       "      <th></th>\n",
       "      <th></th>\n",
       "      <th></th>\n",
       "      <th></th>\n",
       "      <th></th>\n",
       "      <th></th>\n",
       "      <th></th>\n",
       "      <th></th>\n",
       "      <th></th>\n",
       "      <th></th>\n",
       "      <th></th>\n",
       "      <th></th>\n",
       "    </tr>\n",
       "  </thead>\n",
       "  <tbody>\n",
       "    <tr>\n",
       "      <th rowspan=\"5\" valign=\"top\">0</th>\n",
       "      <th rowspan=\"5\" valign=\"top\">0</th>\n",
       "      <th>afraid</th>\n",
       "      <td>2</td>\n",
       "      <td>JJ</td>\n",
       "      <td>153.206219</td>\n",
       "      <td>0.0</td>\n",
       "      <td>0.0</td>\n",
       "      <td>0.0</td>\n",
       "      <td>1.0</td>\n",
       "      <td>0.0</td>\n",
       "      <td>0.0</td>\n",
       "      <td>0.0</td>\n",
       "      <td>0.0</td>\n",
       "      <td>-1.0</td>\n",
       "    </tr>\n",
       "    <tr>\n",
       "      <th>beautiful</th>\n",
       "      <td>2</td>\n",
       "      <td>JJ</td>\n",
       "      <td>127.472878</td>\n",
       "      <td>0.0</td>\n",
       "      <td>0.0</td>\n",
       "      <td>0.0</td>\n",
       "      <td>0.0</td>\n",
       "      <td>1.0</td>\n",
       "      <td>0.0</td>\n",
       "      <td>0.0</td>\n",
       "      <td>0.0</td>\n",
       "      <td>1.0</td>\n",
       "    </tr>\n",
       "    <tr>\n",
       "      <th>faith</th>\n",
       "      <td>1</td>\n",
       "      <td>NN</td>\n",
       "      <td>60.537667</td>\n",
       "      <td>0.0</td>\n",
       "      <td>1.0</td>\n",
       "      <td>0.0</td>\n",
       "      <td>0.0</td>\n",
       "      <td>1.0</td>\n",
       "      <td>0.0</td>\n",
       "      <td>0.0</td>\n",
       "      <td>1.0</td>\n",
       "      <td>1.0</td>\n",
       "    </tr>\n",
       "    <tr>\n",
       "      <th>favorite</th>\n",
       "      <td>2</td>\n",
       "      <td>JJ</td>\n",
       "      <td>75.736439</td>\n",
       "      <td>0.0</td>\n",
       "      <td>0.0</td>\n",
       "      <td>0.0</td>\n",
       "      <td>0.0</td>\n",
       "      <td>1.0</td>\n",
       "      <td>0.0</td>\n",
       "      <td>0.0</td>\n",
       "      <td>1.0</td>\n",
       "      <td>1.0</td>\n",
       "    </tr>\n",
       "    <tr>\n",
       "      <th>friendship</th>\n",
       "      <td>1</td>\n",
       "      <td>NN</td>\n",
       "      <td>9.896332</td>\n",
       "      <td>0.0</td>\n",
       "      <td>0.0</td>\n",
       "      <td>0.0</td>\n",
       "      <td>0.0</td>\n",
       "      <td>1.0</td>\n",
       "      <td>0.0</td>\n",
       "      <td>0.0</td>\n",
       "      <td>1.0</td>\n",
       "      <td>1.0</td>\n",
       "    </tr>\n",
       "    <tr>\n",
       "      <th>...</th>\n",
       "      <th>...</th>\n",
       "      <th>...</th>\n",
       "      <td>...</td>\n",
       "      <td>...</td>\n",
       "      <td>...</td>\n",
       "      <td>...</td>\n",
       "      <td>...</td>\n",
       "      <td>...</td>\n",
       "      <td>...</td>\n",
       "      <td>...</td>\n",
       "      <td>...</td>\n",
       "      <td>...</td>\n",
       "      <td>...</td>\n",
       "      <td>...</td>\n",
       "    </tr>\n",
       "    <tr>\n",
       "      <th rowspan=\"5\" valign=\"top\">88</th>\n",
       "      <th rowspan=\"5\" valign=\"top\">9</th>\n",
       "      <th>friend</th>\n",
       "      <td>1</td>\n",
       "      <td>NN</td>\n",
       "      <td>170.150666</td>\n",
       "      <td>0.0</td>\n",
       "      <td>0.0</td>\n",
       "      <td>0.0</td>\n",
       "      <td>0.0</td>\n",
       "      <td>1.0</td>\n",
       "      <td>0.0</td>\n",
       "      <td>0.0</td>\n",
       "      <td>1.0</td>\n",
       "      <td>1.0</td>\n",
       "    </tr>\n",
       "    <tr>\n",
       "      <th>interrupt</th>\n",
       "      <td>1</td>\n",
       "      <td>NNP</td>\n",
       "      <td>17.792665</td>\n",
       "      <td>1.0</td>\n",
       "      <td>0.0</td>\n",
       "      <td>0.0</td>\n",
       "      <td>0.0</td>\n",
       "      <td>0.0</td>\n",
       "      <td>0.0</td>\n",
       "      <td>1.0</td>\n",
       "      <td>0.0</td>\n",
       "      <td>-1.0</td>\n",
       "    </tr>\n",
       "    <tr>\n",
       "      <th>landslide</th>\n",
       "      <td>1</td>\n",
       "      <td>NN</td>\n",
       "      <td>9.896332</td>\n",
       "      <td>0.0</td>\n",
       "      <td>0.0</td>\n",
       "      <td>0.0</td>\n",
       "      <td>1.0</td>\n",
       "      <td>0.0</td>\n",
       "      <td>1.0</td>\n",
       "      <td>0.0</td>\n",
       "      <td>0.0</td>\n",
       "      <td>-1.0</td>\n",
       "    </tr>\n",
       "    <tr>\n",
       "      <th>sick</th>\n",
       "      <td>1</td>\n",
       "      <td>JJ</td>\n",
       "      <td>107.319693</td>\n",
       "      <td>0.0</td>\n",
       "      <td>0.0</td>\n",
       "      <td>1.0</td>\n",
       "      <td>0.0</td>\n",
       "      <td>0.0</td>\n",
       "      <td>1.0</td>\n",
       "      <td>0.0</td>\n",
       "      <td>0.0</td>\n",
       "      <td>-1.0</td>\n",
       "    </tr>\n",
       "    <tr>\n",
       "      <th>sneak</th>\n",
       "      <td>1</td>\n",
       "      <td>VB</td>\n",
       "      <td>17.792665</td>\n",
       "      <td>1.0</td>\n",
       "      <td>0.0</td>\n",
       "      <td>0.0</td>\n",
       "      <td>1.0</td>\n",
       "      <td>0.0</td>\n",
       "      <td>0.0</td>\n",
       "      <td>1.0</td>\n",
       "      <td>0.0</td>\n",
       "      <td>-1.0</td>\n",
       "    </tr>\n",
       "  </tbody>\n",
       "</table>\n",
       "<p>6635 rows × 12 columns</p>\n",
       "</div>"
      ],
      "text/plain": [
       "                              n max_pos  song_dfidf  anger  anticipation  \\\n",
       "album_id song_num term_str                                                 \n",
       "0        0        afraid      2      JJ  153.206219    0.0           0.0   \n",
       "                  beautiful   2      JJ  127.472878    0.0           0.0   \n",
       "                  faith       1      NN   60.537667    0.0           1.0   \n",
       "                  favorite    2      JJ   75.736439    0.0           0.0   \n",
       "                  friendship  1      NN    9.896332    0.0           0.0   \n",
       "...                          ..     ...         ...    ...           ...   \n",
       "88       9        friend      1      NN  170.150666    0.0           0.0   \n",
       "                  interrupt   1     NNP   17.792665    1.0           0.0   \n",
       "                  landslide   1      NN    9.896332    0.0           0.0   \n",
       "                  sick        1      JJ  107.319693    0.0           0.0   \n",
       "                  sneak       1      VB   17.792665    1.0           0.0   \n",
       "\n",
       "                              disgust  fear  joy  sadness  surprise  trust  \\\n",
       "album_id song_num term_str                                                   \n",
       "0        0        afraid          0.0   1.0  0.0      0.0       0.0    0.0   \n",
       "                  beautiful       0.0   0.0  1.0      0.0       0.0    0.0   \n",
       "                  faith           0.0   0.0  1.0      0.0       0.0    1.0   \n",
       "                  favorite        0.0   0.0  1.0      0.0       0.0    1.0   \n",
       "                  friendship      0.0   0.0  1.0      0.0       0.0    1.0   \n",
       "...                               ...   ...  ...      ...       ...    ...   \n",
       "88       9        friend          0.0   0.0  1.0      0.0       0.0    1.0   \n",
       "                  interrupt       0.0   0.0  0.0      0.0       1.0    0.0   \n",
       "                  landslide       0.0   1.0  0.0      1.0       0.0    0.0   \n",
       "                  sick            1.0   0.0  0.0      1.0       0.0    0.0   \n",
       "                  sneak           0.0   1.0  0.0      0.0       1.0    0.0   \n",
       "\n",
       "                              sentiment  \n",
       "album_id song_num term_str               \n",
       "0        0        afraid           -1.0  \n",
       "                  beautiful         1.0  \n",
       "                  faith             1.0  \n",
       "                  favorite          1.0  \n",
       "                  friendship        1.0  \n",
       "...                                 ...  \n",
       "88       9        friend            1.0  \n",
       "                  interrupt        -1.0  \n",
       "                  landslide        -1.0  \n",
       "                  sick             -1.0  \n",
       "                  sneak            -1.0  \n",
       "\n",
       "[6635 rows x 12 columns]"
      ]
     },
     "execution_count": 30,
     "metadata": {},
     "output_type": "execute_result"
    }
   ],
   "source": [
    "BOW_SENT_SONG"
   ]
  },
  {
   "cell_type": "markdown",
   "metadata": {},
   "source": [
    "### Add Album TF-IDF to B for weighting emotions"
   ]
  },
  {
   "cell_type": "code",
   "execution_count": 56,
   "metadata": {},
   "outputs": [],
   "source": [
    "tfidf_song = TFIDF_SONG.stack().to_frame()"
   ]
  },
  {
   "cell_type": "code",
   "execution_count": 61,
   "metadata": {},
   "outputs": [],
   "source": [
    "tfidf_song = tfidf_song.reset_index()\\\n",
    "    .rename(columns={'level_2':'term_str', 0:'tfidf'})\\\n",
    "    .set_index(['album_id', 'song_num', 'term_str'])"
   ]
  },
  {
   "cell_type": "code",
   "execution_count": 62,
   "metadata": {},
   "outputs": [],
   "source": [
    "BOW_SENT_SONG = BOW_SENT_SONG.join(tfidf_song, how='inner')"
   ]
  },
  {
   "cell_type": "code",
   "execution_count": 63,
   "metadata": {},
   "outputs": [
    {
     "data": {
      "text/html": [
       "<div>\n",
       "<style scoped>\n",
       "    .dataframe tbody tr th:only-of-type {\n",
       "        vertical-align: middle;\n",
       "    }\n",
       "\n",
       "    .dataframe tbody tr th {\n",
       "        vertical-align: top;\n",
       "    }\n",
       "\n",
       "    .dataframe thead th {\n",
       "        text-align: right;\n",
       "    }\n",
       "</style>\n",
       "<table border=\"1\" class=\"dataframe\">\n",
       "  <thead>\n",
       "    <tr style=\"text-align: right;\">\n",
       "      <th></th>\n",
       "      <th></th>\n",
       "      <th></th>\n",
       "      <th>n</th>\n",
       "      <th>max_pos</th>\n",
       "      <th>song_dfidf</th>\n",
       "      <th>anger</th>\n",
       "      <th>anticipation</th>\n",
       "      <th>disgust</th>\n",
       "      <th>fear</th>\n",
       "      <th>joy</th>\n",
       "      <th>sadness</th>\n",
       "      <th>surprise</th>\n",
       "      <th>trust</th>\n",
       "      <th>sentiment</th>\n",
       "      <th>tfidf</th>\n",
       "    </tr>\n",
       "    <tr>\n",
       "      <th>album_id</th>\n",
       "      <th>song_num</th>\n",
       "      <th>term_str</th>\n",
       "      <th></th>\n",
       "      <th></th>\n",
       "      <th></th>\n",
       "      <th></th>\n",
       "      <th></th>\n",
       "      <th></th>\n",
       "      <th></th>\n",
       "      <th></th>\n",
       "      <th></th>\n",
       "      <th></th>\n",
       "      <th></th>\n",
       "      <th></th>\n",
       "      <th></th>\n",
       "    </tr>\n",
       "  </thead>\n",
       "  <tbody>\n",
       "    <tr>\n",
       "      <th rowspan=\"5\" valign=\"top\">0</th>\n",
       "      <th rowspan=\"5\" valign=\"top\">0</th>\n",
       "      <th>afraid</th>\n",
       "      <td>2</td>\n",
       "      <td>JJ</td>\n",
       "      <td>153.206219</td>\n",
       "      <td>0.0</td>\n",
       "      <td>0.0</td>\n",
       "      <td>0.0</td>\n",
       "      <td>1.0</td>\n",
       "      <td>0.0</td>\n",
       "      <td>0.0</td>\n",
       "      <td>0.0</td>\n",
       "      <td>0.0</td>\n",
       "      <td>-1.0</td>\n",
       "      <td>0.329476</td>\n",
       "    </tr>\n",
       "    <tr>\n",
       "      <th>beautiful</th>\n",
       "      <td>2</td>\n",
       "      <td>JJ</td>\n",
       "      <td>127.472878</td>\n",
       "      <td>0.0</td>\n",
       "      <td>0.0</td>\n",
       "      <td>0.0</td>\n",
       "      <td>0.0</td>\n",
       "      <td>1.0</td>\n",
       "      <td>0.0</td>\n",
       "      <td>0.0</td>\n",
       "      <td>0.0</td>\n",
       "      <td>1.0</td>\n",
       "      <td>0.354091</td>\n",
       "    </tr>\n",
       "    <tr>\n",
       "      <th>faith</th>\n",
       "      <td>1</td>\n",
       "      <td>NN</td>\n",
       "      <td>60.537667</td>\n",
       "      <td>0.0</td>\n",
       "      <td>1.0</td>\n",
       "      <td>0.0</td>\n",
       "      <td>0.0</td>\n",
       "      <td>1.0</td>\n",
       "      <td>0.0</td>\n",
       "      <td>0.0</td>\n",
       "      <td>1.0</td>\n",
       "      <td>1.0</td>\n",
       "      <td>0.224214</td>\n",
       "    </tr>\n",
       "    <tr>\n",
       "      <th>favorite</th>\n",
       "      <td>2</td>\n",
       "      <td>JJ</td>\n",
       "      <td>75.736439</td>\n",
       "      <td>0.0</td>\n",
       "      <td>0.0</td>\n",
       "      <td>0.0</td>\n",
       "      <td>0.0</td>\n",
       "      <td>1.0</td>\n",
       "      <td>0.0</td>\n",
       "      <td>0.0</td>\n",
       "      <td>1.0</td>\n",
       "      <td>1.0</td>\n",
       "      <td>0.420758</td>\n",
       "    </tr>\n",
       "    <tr>\n",
       "      <th>friendship</th>\n",
       "      <td>1</td>\n",
       "      <td>NN</td>\n",
       "      <td>9.896332</td>\n",
       "      <td>0.0</td>\n",
       "      <td>0.0</td>\n",
       "      <td>0.0</td>\n",
       "      <td>0.0</td>\n",
       "      <td>1.0</td>\n",
       "      <td>0.0</td>\n",
       "      <td>0.0</td>\n",
       "      <td>1.0</td>\n",
       "      <td>1.0</td>\n",
       "      <td>0.329878</td>\n",
       "    </tr>\n",
       "  </tbody>\n",
       "</table>\n",
       "</div>"
      ],
      "text/plain": [
       "                              n max_pos  song_dfidf  anger  anticipation  \\\n",
       "album_id song_num term_str                                                 \n",
       "0        0        afraid      2      JJ  153.206219    0.0           0.0   \n",
       "                  beautiful   2      JJ  127.472878    0.0           0.0   \n",
       "                  faith       1      NN   60.537667    0.0           1.0   \n",
       "                  favorite    2      JJ   75.736439    0.0           0.0   \n",
       "                  friendship  1      NN    9.896332    0.0           0.0   \n",
       "\n",
       "                              disgust  fear  joy  sadness  surprise  trust  \\\n",
       "album_id song_num term_str                                                   \n",
       "0        0        afraid          0.0   1.0  0.0      0.0       0.0    0.0   \n",
       "                  beautiful       0.0   0.0  1.0      0.0       0.0    0.0   \n",
       "                  faith           0.0   0.0  1.0      0.0       0.0    1.0   \n",
       "                  favorite        0.0   0.0  1.0      0.0       0.0    1.0   \n",
       "                  friendship      0.0   0.0  1.0      0.0       0.0    1.0   \n",
       "\n",
       "                              sentiment     tfidf  \n",
       "album_id song_num term_str                         \n",
       "0        0        afraid           -1.0  0.329476  \n",
       "                  beautiful         1.0  0.354091  \n",
       "                  faith             1.0  0.224214  \n",
       "                  favorite          1.0  0.420758  \n",
       "                  friendship        1.0  0.329878  "
      ]
     },
     "execution_count": 63,
     "metadata": {},
     "output_type": "execute_result"
    }
   ],
   "source": [
    "BOW_SENT_SONG.head()"
   ]
  },
  {
   "cell_type": "markdown",
   "metadata": {},
   "source": [
    "## Weight emotions by TFIDF"
   ]
  },
  {
   "cell_type": "code",
   "execution_count": 64,
   "metadata": {},
   "outputs": [],
   "source": [
    "for col in emo_cols:\n",
    "    BOW_SENT_SONG[col] = BOW_SENT_SONG[col] * BOW_SENT_SONG.tfidf"
   ]
  },
  {
   "cell_type": "code",
   "execution_count": 65,
   "metadata": {},
   "outputs": [
    {
     "data": {
      "text/html": [
       "<div>\n",
       "<style scoped>\n",
       "    .dataframe tbody tr th:only-of-type {\n",
       "        vertical-align: middle;\n",
       "    }\n",
       "\n",
       "    .dataframe tbody tr th {\n",
       "        vertical-align: top;\n",
       "    }\n",
       "\n",
       "    .dataframe thead th {\n",
       "        text-align: right;\n",
       "    }\n",
       "</style>\n",
       "<table border=\"1\" class=\"dataframe\">\n",
       "  <thead>\n",
       "    <tr style=\"text-align: right;\">\n",
       "      <th></th>\n",
       "      <th></th>\n",
       "      <th></th>\n",
       "      <th>n</th>\n",
       "      <th>max_pos</th>\n",
       "      <th>song_dfidf</th>\n",
       "      <th>anger</th>\n",
       "      <th>anticipation</th>\n",
       "      <th>disgust</th>\n",
       "      <th>fear</th>\n",
       "      <th>joy</th>\n",
       "      <th>sadness</th>\n",
       "      <th>surprise</th>\n",
       "      <th>trust</th>\n",
       "      <th>sentiment</th>\n",
       "      <th>tfidf</th>\n",
       "    </tr>\n",
       "    <tr>\n",
       "      <th>album_id</th>\n",
       "      <th>song_num</th>\n",
       "      <th>term_str</th>\n",
       "      <th></th>\n",
       "      <th></th>\n",
       "      <th></th>\n",
       "      <th></th>\n",
       "      <th></th>\n",
       "      <th></th>\n",
       "      <th></th>\n",
       "      <th></th>\n",
       "      <th></th>\n",
       "      <th></th>\n",
       "      <th></th>\n",
       "      <th></th>\n",
       "      <th></th>\n",
       "    </tr>\n",
       "  </thead>\n",
       "  <tbody>\n",
       "    <tr>\n",
       "      <th rowspan=\"5\" valign=\"top\">0</th>\n",
       "      <th rowspan=\"5\" valign=\"top\">0</th>\n",
       "      <th>afraid</th>\n",
       "      <td>2</td>\n",
       "      <td>JJ</td>\n",
       "      <td>153.206219</td>\n",
       "      <td>0.0</td>\n",
       "      <td>0.000000</td>\n",
       "      <td>0.0</td>\n",
       "      <td>0.329476</td>\n",
       "      <td>0.000000</td>\n",
       "      <td>0.0</td>\n",
       "      <td>0.0</td>\n",
       "      <td>0.000000</td>\n",
       "      <td>-0.329476</td>\n",
       "      <td>0.329476</td>\n",
       "    </tr>\n",
       "    <tr>\n",
       "      <th>beautiful</th>\n",
       "      <td>2</td>\n",
       "      <td>JJ</td>\n",
       "      <td>127.472878</td>\n",
       "      <td>0.0</td>\n",
       "      <td>0.000000</td>\n",
       "      <td>0.0</td>\n",
       "      <td>0.000000</td>\n",
       "      <td>0.354091</td>\n",
       "      <td>0.0</td>\n",
       "      <td>0.0</td>\n",
       "      <td>0.000000</td>\n",
       "      <td>0.354091</td>\n",
       "      <td>0.354091</td>\n",
       "    </tr>\n",
       "    <tr>\n",
       "      <th>faith</th>\n",
       "      <td>1</td>\n",
       "      <td>NN</td>\n",
       "      <td>60.537667</td>\n",
       "      <td>0.0</td>\n",
       "      <td>0.224214</td>\n",
       "      <td>0.0</td>\n",
       "      <td>0.000000</td>\n",
       "      <td>0.224214</td>\n",
       "      <td>0.0</td>\n",
       "      <td>0.0</td>\n",
       "      <td>0.224214</td>\n",
       "      <td>0.224214</td>\n",
       "      <td>0.224214</td>\n",
       "    </tr>\n",
       "    <tr>\n",
       "      <th>favorite</th>\n",
       "      <td>2</td>\n",
       "      <td>JJ</td>\n",
       "      <td>75.736439</td>\n",
       "      <td>0.0</td>\n",
       "      <td>0.000000</td>\n",
       "      <td>0.0</td>\n",
       "      <td>0.000000</td>\n",
       "      <td>0.420758</td>\n",
       "      <td>0.0</td>\n",
       "      <td>0.0</td>\n",
       "      <td>0.420758</td>\n",
       "      <td>0.420758</td>\n",
       "      <td>0.420758</td>\n",
       "    </tr>\n",
       "    <tr>\n",
       "      <th>friendship</th>\n",
       "      <td>1</td>\n",
       "      <td>NN</td>\n",
       "      <td>9.896332</td>\n",
       "      <td>0.0</td>\n",
       "      <td>0.000000</td>\n",
       "      <td>0.0</td>\n",
       "      <td>0.000000</td>\n",
       "      <td>0.329878</td>\n",
       "      <td>0.0</td>\n",
       "      <td>0.0</td>\n",
       "      <td>0.329878</td>\n",
       "      <td>0.329878</td>\n",
       "      <td>0.329878</td>\n",
       "    </tr>\n",
       "  </tbody>\n",
       "</table>\n",
       "</div>"
      ],
      "text/plain": [
       "                              n max_pos  song_dfidf  anger  anticipation  \\\n",
       "album_id song_num term_str                                                 \n",
       "0        0        afraid      2      JJ  153.206219    0.0      0.000000   \n",
       "                  beautiful   2      JJ  127.472878    0.0      0.000000   \n",
       "                  faith       1      NN   60.537667    0.0      0.224214   \n",
       "                  favorite    2      JJ   75.736439    0.0      0.000000   \n",
       "                  friendship  1      NN    9.896332    0.0      0.000000   \n",
       "\n",
       "                              disgust      fear       joy  sadness  surprise  \\\n",
       "album_id song_num term_str                                                     \n",
       "0        0        afraid          0.0  0.329476  0.000000      0.0       0.0   \n",
       "                  beautiful       0.0  0.000000  0.354091      0.0       0.0   \n",
       "                  faith           0.0  0.000000  0.224214      0.0       0.0   \n",
       "                  favorite        0.0  0.000000  0.420758      0.0       0.0   \n",
       "                  friendship      0.0  0.000000  0.329878      0.0       0.0   \n",
       "\n",
       "                                 trust  sentiment     tfidf  \n",
       "album_id song_num term_str                                   \n",
       "0        0        afraid      0.000000  -0.329476  0.329476  \n",
       "                  beautiful   0.000000   0.354091  0.354091  \n",
       "                  faith       0.224214   0.224214  0.224214  \n",
       "                  favorite    0.420758   0.420758  0.420758  \n",
       "                  friendship  0.329878   0.329878  0.329878  "
      ]
     },
     "execution_count": 65,
     "metadata": {},
     "output_type": "execute_result"
    }
   ],
   "source": [
    "BOW_SENT_SONG.head()"
   ]
  },
  {
   "cell_type": "markdown",
   "metadata": {},
   "source": [
    "## Compute Doc (`SONG`) sentiment "
   ]
  },
  {
   "cell_type": "code",
   "execution_count": 66,
   "metadata": {},
   "outputs": [],
   "source": [
    "SONG_SENT = BOW_SENT_SONG.groupby('album_id')[emo_cols].mean()"
   ]
  },
  {
   "cell_type": "code",
   "execution_count": 67,
   "metadata": {},
   "outputs": [
    {
     "data": {
      "text/html": [
       "<div>\n",
       "<style scoped>\n",
       "    .dataframe tbody tr th:only-of-type {\n",
       "        vertical-align: middle;\n",
       "    }\n",
       "\n",
       "    .dataframe tbody tr th {\n",
       "        vertical-align: top;\n",
       "    }\n",
       "\n",
       "    .dataframe thead th {\n",
       "        text-align: right;\n",
       "    }\n",
       "</style>\n",
       "<table border=\"1\" class=\"dataframe\">\n",
       "  <thead>\n",
       "    <tr style=\"text-align: right;\">\n",
       "      <th></th>\n",
       "      <th>anger</th>\n",
       "      <th>anticipation</th>\n",
       "      <th>disgust</th>\n",
       "      <th>fear</th>\n",
       "      <th>joy</th>\n",
       "      <th>sadness</th>\n",
       "      <th>surprise</th>\n",
       "      <th>trust</th>\n",
       "      <th>sentiment</th>\n",
       "    </tr>\n",
       "    <tr>\n",
       "      <th>album_id</th>\n",
       "      <th></th>\n",
       "      <th></th>\n",
       "      <th></th>\n",
       "      <th></th>\n",
       "      <th></th>\n",
       "      <th></th>\n",
       "      <th></th>\n",
       "      <th></th>\n",
       "      <th></th>\n",
       "    </tr>\n",
       "  </thead>\n",
       "  <tbody>\n",
       "    <tr>\n",
       "      <th>0</th>\n",
       "      <td>0.102745</td>\n",
       "      <td>0.248420</td>\n",
       "      <td>0.095220</td>\n",
       "      <td>0.148659</td>\n",
       "      <td>0.340362</td>\n",
       "      <td>0.296749</td>\n",
       "      <td>0.033187</td>\n",
       "      <td>0.077311</td>\n",
       "      <td>0.014731</td>\n",
       "    </tr>\n",
       "    <tr>\n",
       "      <th>1</th>\n",
       "      <td>0.315588</td>\n",
       "      <td>0.218176</td>\n",
       "      <td>0.172673</td>\n",
       "      <td>0.486359</td>\n",
       "      <td>0.435123</td>\n",
       "      <td>0.390608</td>\n",
       "      <td>0.216545</td>\n",
       "      <td>0.368867</td>\n",
       "      <td>-0.170018</td>\n",
       "    </tr>\n",
       "    <tr>\n",
       "      <th>2</th>\n",
       "      <td>0.232749</td>\n",
       "      <td>0.274122</td>\n",
       "      <td>0.105528</td>\n",
       "      <td>0.254390</td>\n",
       "      <td>0.367599</td>\n",
       "      <td>0.187898</td>\n",
       "      <td>0.149837</td>\n",
       "      <td>0.457807</td>\n",
       "      <td>0.104692</td>\n",
       "    </tr>\n",
       "    <tr>\n",
       "      <th>3</th>\n",
       "      <td>0.113461</td>\n",
       "      <td>0.157461</td>\n",
       "      <td>0.116223</td>\n",
       "      <td>0.188642</td>\n",
       "      <td>0.222211</td>\n",
       "      <td>0.210035</td>\n",
       "      <td>0.074945</td>\n",
       "      <td>0.249865</td>\n",
       "      <td>-0.181565</td>\n",
       "    </tr>\n",
       "    <tr>\n",
       "      <th>4</th>\n",
       "      <td>0.176213</td>\n",
       "      <td>0.193665</td>\n",
       "      <td>0.278463</td>\n",
       "      <td>0.407633</td>\n",
       "      <td>0.220694</td>\n",
       "      <td>0.439065</td>\n",
       "      <td>0.032065</td>\n",
       "      <td>0.318602</td>\n",
       "      <td>-0.422665</td>\n",
       "    </tr>\n",
       "    <tr>\n",
       "      <th>...</th>\n",
       "      <td>...</td>\n",
       "      <td>...</td>\n",
       "      <td>...</td>\n",
       "      <td>...</td>\n",
       "      <td>...</td>\n",
       "      <td>...</td>\n",
       "      <td>...</td>\n",
       "      <td>...</td>\n",
       "      <td>...</td>\n",
       "    </tr>\n",
       "    <tr>\n",
       "      <th>84</th>\n",
       "      <td>0.089176</td>\n",
       "      <td>0.095325</td>\n",
       "      <td>0.079890</td>\n",
       "      <td>0.147874</td>\n",
       "      <td>0.163711</td>\n",
       "      <td>0.170934</td>\n",
       "      <td>0.098866</td>\n",
       "      <td>0.112357</td>\n",
       "      <td>-0.060790</td>\n",
       "    </tr>\n",
       "    <tr>\n",
       "      <th>85</th>\n",
       "      <td>0.200033</td>\n",
       "      <td>0.124101</td>\n",
       "      <td>0.148407</td>\n",
       "      <td>0.245918</td>\n",
       "      <td>0.163970</td>\n",
       "      <td>0.315950</td>\n",
       "      <td>0.113668</td>\n",
       "      <td>0.169758</td>\n",
       "      <td>-0.202028</td>\n",
       "    </tr>\n",
       "    <tr>\n",
       "      <th>86</th>\n",
       "      <td>0.171884</td>\n",
       "      <td>0.193713</td>\n",
       "      <td>0.135059</td>\n",
       "      <td>0.297919</td>\n",
       "      <td>0.207085</td>\n",
       "      <td>0.372300</td>\n",
       "      <td>0.127438</td>\n",
       "      <td>0.138004</td>\n",
       "      <td>-0.197788</td>\n",
       "    </tr>\n",
       "    <tr>\n",
       "      <th>87</th>\n",
       "      <td>0.153523</td>\n",
       "      <td>0.187994</td>\n",
       "      <td>0.102472</td>\n",
       "      <td>0.138784</td>\n",
       "      <td>0.364204</td>\n",
       "      <td>0.162483</td>\n",
       "      <td>0.116797</td>\n",
       "      <td>0.335159</td>\n",
       "      <td>0.106341</td>\n",
       "    </tr>\n",
       "    <tr>\n",
       "      <th>88</th>\n",
       "      <td>0.118771</td>\n",
       "      <td>0.068699</td>\n",
       "      <td>0.084771</td>\n",
       "      <td>0.161563</td>\n",
       "      <td>0.134563</td>\n",
       "      <td>0.164745</td>\n",
       "      <td>0.062113</td>\n",
       "      <td>0.096505</td>\n",
       "      <td>-0.094103</td>\n",
       "    </tr>\n",
       "  </tbody>\n",
       "</table>\n",
       "<p>89 rows × 9 columns</p>\n",
       "</div>"
      ],
      "text/plain": [
       "             anger  anticipation   disgust      fear       joy   sadness  \\\n",
       "album_id                                                                   \n",
       "0         0.102745      0.248420  0.095220  0.148659  0.340362  0.296749   \n",
       "1         0.315588      0.218176  0.172673  0.486359  0.435123  0.390608   \n",
       "2         0.232749      0.274122  0.105528  0.254390  0.367599  0.187898   \n",
       "3         0.113461      0.157461  0.116223  0.188642  0.222211  0.210035   \n",
       "4         0.176213      0.193665  0.278463  0.407633  0.220694  0.439065   \n",
       "...            ...           ...       ...       ...       ...       ...   \n",
       "84        0.089176      0.095325  0.079890  0.147874  0.163711  0.170934   \n",
       "85        0.200033      0.124101  0.148407  0.245918  0.163970  0.315950   \n",
       "86        0.171884      0.193713  0.135059  0.297919  0.207085  0.372300   \n",
       "87        0.153523      0.187994  0.102472  0.138784  0.364204  0.162483   \n",
       "88        0.118771      0.068699  0.084771  0.161563  0.134563  0.164745   \n",
       "\n",
       "          surprise     trust  sentiment  \n",
       "album_id                                 \n",
       "0         0.033187  0.077311   0.014731  \n",
       "1         0.216545  0.368867  -0.170018  \n",
       "2         0.149837  0.457807   0.104692  \n",
       "3         0.074945  0.249865  -0.181565  \n",
       "4         0.032065  0.318602  -0.422665  \n",
       "...            ...       ...        ...  \n",
       "84        0.098866  0.112357  -0.060790  \n",
       "85        0.113668  0.169758  -0.202028  \n",
       "86        0.127438  0.138004  -0.197788  \n",
       "87        0.116797  0.335159   0.106341  \n",
       "88        0.062113  0.096505  -0.094103  \n",
       "\n",
       "[89 rows x 9 columns]"
      ]
     },
     "execution_count": 67,
     "metadata": {},
     "output_type": "execute_result"
    }
   ],
   "source": [
    "SONG_SENT"
   ]
  },
  {
   "cell_type": "markdown",
   "metadata": {},
   "source": [
    "## Add `SONG_SENT` to `SONG_LIB`"
   ]
  },
  {
   "cell_type": "code",
   "execution_count": 68,
   "metadata": {},
   "outputs": [],
   "source": [
    "SONG_LIB = SONG_LIB.join(SONG_SENT)"
   ]
  },
  {
   "cell_type": "markdown",
   "metadata": {},
   "source": [
    "## Plot song sentiment and danceability"
   ]
  },
  {
   "cell_type": "code",
   "execution_count": 69,
   "metadata": {},
   "outputs": [
    {
     "data": {
      "text/plain": [
       "Index(['title', 'json_path', 'artist', 'album', 'genres', 'release_date',\n",
       "       'label', 'track_number', 'duration_ms', 'audio_information', 'lyrics',\n",
       "       'danceability', 'energy', 'key', 'loudness', 'mode', 'speechiness',\n",
       "       'acousticness', 'instrumentalness', 'liveness', 'valence', 'tempo',\n",
       "       'time_signature', 'album_title', 'genre', 'anger', 'anticipation',\n",
       "       'disgust', 'fear', 'joy', 'sadness', 'surprise', 'trust', 'sentiment'],\n",
       "      dtype='object')"
      ]
     },
     "execution_count": 69,
     "metadata": {},
     "output_type": "execute_result"
    }
   ],
   "source": [
    "SONG_LIB.columns"
   ]
  },
  {
   "cell_type": "code",
   "execution_count": 97,
   "metadata": {},
   "outputs": [
    {
     "data": {
      "application/vnd.plotly.v1+json": {
       "config": {
        "plotlyServerURL": "https://plot.ly"
       },
       "data": [
        {
         "customdata": [
          [
           "45:33"
          ],
          [
           "Freak Out / Starry Eyes"
          ],
          [
           "Daft Punk Is Playing at My House"
          ],
          [
           "Too Much Love"
          ],
          [
           "Tribulations"
          ],
          [
           "Movement"
          ],
          [
           "Never as Tired as When I'm Waking Up"
          ],
          [
           "On Repeat"
          ],
          [
           "Thrills"
          ],
          [
           "Disco Infiltrator"
          ],
          [
           "Great Release"
          ],
          [
           "Losing My Edge"
          ],
          [
           "Beat Connection"
          ],
          [
           "Give It Up"
          ],
          [
           "Tired"
          ],
          [
           "Yeah"
          ],
          [
           "Yeah - Pretentious Mix"
          ],
          [
           "Yr City's a Sucker"
          ],
          [
           "Get Innocuous!"
          ],
          [
           "Time to Get Away"
          ],
          [
           "North American Scum"
          ],
          [
           "Someone Great"
          ],
          [
           "All My Friends"
          ],
          [
           "Us V Them"
          ],
          [
           "Watch the Tapes"
          ],
          [
           "Sound of Silver"
          ],
          [
           "New York, I Love You but You're Bringing Me Down"
          ],
          [
           "Dance Yrself Clean"
          ],
          [
           "Drunk Girls"
          ],
          [
           "One Touch"
          ],
          [
           "All I Want"
          ],
          [
           "I Can Change"
          ],
          [
           "You Wanted a Hit"
          ],
          [
           "Pow Pow"
          ],
          [
           "Somebody's Calling Me"
          ],
          [
           "Home"
          ],
          [
           "oh baby"
          ],
          [
           "other voices"
          ],
          [
           "i used to"
          ],
          [
           "change yr mind"
          ],
          [
           "how do you sleep?"
          ],
          [
           "tonite"
          ],
          [
           "call the police"
          ],
          [
           "american dream"
          ],
          [
           "emotional haircut"
          ],
          [
           "black screen"
          ]
         ],
         "hovertemplate": "artist=LCD Soundsystem<br>danceability=%{x}<br>sentiment=%{y}<br>title=%{customdata[0]}<extra></extra>",
         "legendgroup": "LCD Soundsystem",
         "marker": {
          "color": "#636efa",
          "symbol": "circle"
         },
         "mode": "markers",
         "name": "LCD Soundsystem",
         "orientation": "v",
         "showlegend": true,
         "type": "scatter",
         "x": [
          0.478,
          0.772,
          0.92,
          0.696,
          0.694,
          0.588,
          0.647,
          0.827,
          0.682,
          0.828,
          0.602,
          0.769,
          0.745,
          0.742,
          0.189,
          0.705,
          0.648,
          0.765,
          0.696,
          0.911,
          0.882,
          0.722,
          0.701,
          0.72,
          0.828,
          0.865,
          0.39,
          0.739,
          0.599,
          0.696,
          0.53,
          0.644,
          0.968,
          0.79,
          0.716,
          0.752,
          0.581,
          0.722,
          0.625,
          0.762,
          0.64,
          0.766,
          0.38,
          0.291,
          0.626,
          0.584
         ],
         "xaxis": "x",
         "y": [
          0.014730873064019937,
          0.014730873064019937,
          -0.3148874368524653,
          -0.3148874368524653,
          -0.3148874368524653,
          -0.3148874368524653,
          -0.3148874368524653,
          -0.3148874368524653,
          -0.3148874368524653,
          -0.3148874368524653,
          -0.3148874368524653,
          -0.3148874368524653,
          -0.3148874368524653,
          -0.3148874368524653,
          -0.3148874368524653,
          -0.3148874368524653,
          -0.3148874368524653,
          -0.3148874368524653,
          -0.06615025470376079,
          -0.06615025470376079,
          -0.06615025470376079,
          -0.06615025470376079,
          -0.06615025470376079,
          -0.06615025470376079,
          -0.06615025470376079,
          -0.06615025470376079,
          -0.06615025470376079,
          -0.008428001795970369,
          -0.008428001795970369,
          -0.008428001795970369,
          -0.008428001795970369,
          -0.008428001795970369,
          -0.008428001795970369,
          -0.008428001795970369,
          -0.008428001795970369,
          -0.008428001795970369,
          -0.09410276350575696,
          -0.09410276350575696,
          -0.09410276350575696,
          -0.09410276350575696,
          -0.09410276350575696,
          -0.09410276350575696,
          -0.09410276350575696,
          -0.09410276350575696,
          -0.09410276350575696,
          -0.09410276350575696
         ],
         "yaxis": "y"
        },
        {
         "customdata": [
          [
           "Burn the Witch"
          ],
          [
           "Daydreaming"
          ],
          [
           "Decks Dark"
          ],
          [
           "Desert Island Disk"
          ],
          [
           "Ful Stop"
          ],
          [
           "Glass Eyes"
          ],
          [
           "Identikit"
          ],
          [
           "The Numbers"
          ],
          [
           "Present Tense"
          ],
          [
           "Tinker Tailor Soldier Sailor Rich Man Poor Man Beggar Man Thief"
          ],
          [
           "True Love Waits"
          ],
          [
           "Packt Like Sardines In a Crushd Tin Box"
          ],
          [
           "Pyramid Song"
          ],
          [
           "Pulk/Pull Revolving Doors"
          ],
          [
           "You And Whose Army?"
          ],
          [
           "I Might Be Wrong"
          ],
          [
           "Knives Out"
          ],
          [
           "Morning Bell/Amnesiac"
          ],
          [
           "Dollars and Cents"
          ],
          [
           "Like Spinning Plates"
          ],
          [
           "Life In a Glasshouse"
          ],
          [
           "2 + 2 = 5"
          ],
          [
           "Sit Down. Stand Up"
          ],
          [
           "Sail To The Moon"
          ],
          [
           "Backdrifts"
          ],
          [
           "Go To Sleep"
          ],
          [
           "Where I End and You Begin"
          ],
          [
           "We Suck Young Blood"
          ],
          [
           "The Gloaming"
          ],
          [
           "There, There"
          ],
          [
           "I Will"
          ],
          [
           "A Punch Up at a Wedding"
          ],
          [
           "Myxomatosis"
          ],
          [
           "Scatterbrain"
          ],
          [
           "A Wolf At the Door"
          ],
          [
           "15 Step"
          ],
          [
           "Bodysnatchers"
          ],
          [
           "Nude"
          ],
          [
           "Weird Fishes/ Arpeggi"
          ],
          [
           "All I Need"
          ],
          [
           "Faust Arp"
          ],
          [
           "Reckoner"
          ],
          [
           "House Of Cards"
          ],
          [
           "Jigsaw Falling Into Place"
          ],
          [
           "Videotape"
          ],
          [
           "Everything In Its Right Place"
          ],
          [
           "Kid A"
          ],
          [
           "The National Anthem"
          ],
          [
           "How to Disappear Completely"
          ],
          [
           "Optimistic"
          ],
          [
           "In Limbo"
          ],
          [
           "Idioteque"
          ],
          [
           "Morning Bell"
          ],
          [
           "Motion Picture Soundtrack"
          ],
          [
           "Airbag"
          ],
          [
           "Paranoid Android"
          ],
          [
           "Subterranean Homesick Alien"
          ],
          [
           "Exit Music (For A Film)"
          ],
          [
           "Let Down"
          ],
          [
           "Karma Police"
          ],
          [
           "Fitter Happier"
          ],
          [
           "Electioneering"
          ],
          [
           "Climbing Up the Walls"
          ],
          [
           "No Surprises"
          ],
          [
           "Lucky"
          ],
          [
           "The Tourist"
          ],
          [
           "You"
          ],
          [
           "Creep"
          ],
          [
           "How Do You?"
          ],
          [
           "Stop Whispering"
          ],
          [
           "Thinking About You"
          ],
          [
           "Anyone Can Play Guitar"
          ],
          [
           "Ripcord"
          ],
          [
           "Vegetable"
          ],
          [
           "Prove Yourself"
          ],
          [
           "I Can't"
          ],
          [
           "Lurgee"
          ],
          [
           "Blow Out"
          ],
          [
           "Planet Telex"
          ],
          [
           "The Bends"
          ],
          [
           "High and Dry"
          ],
          [
           "Fake Plastic Trees"
          ],
          [
           "Bones"
          ],
          [
           "(Nice Dream)"
          ],
          [
           "Just"
          ],
          [
           "My Iron Lung"
          ],
          [
           "Bullet Proof ... I Wish I Was"
          ],
          [
           "Black Star"
          ],
          [
           "Sulk"
          ],
          [
           "Street Spirit (Fade Out)"
          ],
          [
           "Bloom"
          ],
          [
           "Morning Mr Magpie"
          ],
          [
           "Little By Little"
          ],
          [
           "Feral"
          ],
          [
           "Lotus Flower"
          ],
          [
           "Codex"
          ],
          [
           "Give Up The Ghost"
          ],
          [
           "Separator"
          ]
         ],
         "hovertemplate": "artist=Radiohead<br>danceability=%{x}<br>sentiment=%{y}<br>title=%{customdata[0]}<extra></extra>",
         "legendgroup": "Radiohead",
         "marker": {
          "color": "#EF553B",
          "symbol": "circle"
         },
         "mode": "markers",
         "name": "Radiohead",
         "orientation": "v",
         "showlegend": true,
         "type": "scatter",
         "x": [
          0.54,
          0.214,
          0.557,
          0.56,
          0.425,
          0.237,
          0.692,
          0.282,
          0.462,
          0.355,
          0.401,
          0.666,
          0.12,
          0.58,
          0.295,
          0.602,
          0.432,
          0.319,
          0.327,
          0.492,
          0.252,
          0.442,
          0.484,
          0.371,
          0.718,
          0.288,
          0.298,
          0.164,
          0.345,
          0.614,
          0.27,
          0.604,
          0.498,
          0.491,
          0.423,
          0.598,
          0.342,
          0.516,
          0.531,
          0.67,
          0.337,
          0.523,
          0.708,
          0.462,
          0.596,
          0.296,
          0.63,
          0.488,
          0.167,
          0.402,
          0.366,
          0.615,
          0.646,
          0.112,
          0.305,
          0.251,
          0.312,
          0.293,
          0.351,
          0.36,
          0.432,
          0.201,
          0.243,
          0.255,
          0.213,
          0.241,
          0.222,
          0.515,
          0.185,
          0.212,
          0.365,
          0.293,
          0.255,
          0.382,
          0.25,
          0.27,
          0.42,
          0.271,
          0.429,
          0.23,
          0.419,
          0.463,
          0.336,
          0.263,
          0.291,
          0.242,
          0.45,
          0.289,
          0.105,
          0.488,
          0.519,
          0.648,
          0.618,
          0.49,
          0.721,
          0.346,
          0.305,
          0.694
         ],
         "xaxis": "x",
         "y": [
          -0.1700181870256268,
          -0.1700181870256268,
          -0.1700181870256268,
          -0.1700181870256268,
          -0.1700181870256268,
          -0.1700181870256268,
          -0.1700181870256268,
          -0.1700181870256268,
          -0.1700181870256268,
          -0.1700181870256268,
          -0.1700181870256268,
          -0.4226654143641286,
          -0.4226654143641286,
          -0.4226654143641286,
          -0.4226654143641286,
          -0.4226654143641286,
          -0.4226654143641286,
          -0.4226654143641286,
          -0.4226654143641286,
          -0.4226654143641286,
          -0.4226654143641286,
          -0.10625775883043921,
          -0.10625775883043921,
          -0.10625775883043921,
          -0.10625775883043921,
          -0.10625775883043921,
          -0.10625775883043921,
          -0.10625775883043921,
          -0.10625775883043921,
          -0.10625775883043921,
          -0.10625775883043921,
          -0.10625775883043921,
          -0.10625775883043921,
          -0.10625775883043921,
          -0.10625775883043921,
          -0.30719475359294274,
          -0.30719475359294274,
          -0.30719475359294274,
          -0.30719475359294274,
          -0.30719475359294274,
          -0.30719475359294274,
          -0.30719475359294274,
          -0.30719475359294274,
          -0.30719475359294274,
          -0.30719475359294274,
          -0.21478928808617395,
          -0.21478928808617395,
          -0.21478928808617395,
          -0.21478928808617395,
          -0.21478928808617395,
          -0.21478928808617395,
          -0.21478928808617395,
          -0.21478928808617395,
          -0.21478928808617395,
          -0.2072511762826398,
          -0.2072511762826398,
          -0.2072511762826398,
          -0.2072511762826398,
          -0.2072511762826398,
          -0.2072511762826398,
          -0.2072511762826398,
          -0.2072511762826398,
          -0.2072511762826398,
          -0.2072511762826398,
          -0.2072511762826398,
          -0.2072511762826398,
          -0.21680001579815797,
          -0.21680001579815797,
          -0.21680001579815797,
          -0.21680001579815797,
          -0.21680001579815797,
          -0.21680001579815797,
          -0.21680001579815797,
          -0.21680001579815797,
          -0.21680001579815797,
          -0.21680001579815797,
          -0.21680001579815797,
          -0.21680001579815797,
          -0.12535447976001535,
          -0.12535447976001535,
          -0.12535447976001535,
          -0.12535447976001535,
          -0.12535447976001535,
          -0.12535447976001535,
          -0.12535447976001535,
          -0.12535447976001535,
          -0.12535447976001535,
          -0.12535447976001535,
          -0.12535447976001535,
          -0.12535447976001535,
          -0.3199083633007762,
          -0.3199083633007762,
          -0.3199083633007762,
          -0.3199083633007762,
          -0.3199083633007762,
          -0.3199083633007762,
          -0.3199083633007762,
          -0.3199083633007762
         ],
         "yaxis": "y"
        },
        {
         "customdata": [
          [
           "The Strangers"
          ],
          [
           "Save Me from What I Want"
          ],
          [
           "The Neighbors"
          ],
          [
           "Actor Out of Work"
          ],
          [
           "Black Rainbow"
          ],
          [
           "Laughing with a Mouth of Blood"
          ],
          [
           "Marrow"
          ],
          [
           "The Bed"
          ],
          [
           "The Party"
          ],
          [
           "Just the Same But Brand New"
          ],
          [
           "The Sequel"
          ],
          [
           "Pay Your Way In Pain"
          ],
          [
           "Down And Out Downtown"
          ],
          [
           "Daddy's Home"
          ],
          [
           "Live In The Dream"
          ],
          [
           "The Melting Of The Sun"
          ],
          [
           "Humming - Interlude 1"
          ],
          [
           "The Laughing Man"
          ],
          [
           "Down"
          ],
          [
           "Somebody Like Me"
          ],
          [
           "My Baby Wants A Baby"
          ],
          [
           "…At The Holiday Party"
          ],
          [
           "Candy Darling"
          ],
          [
           "Humming - Interlude 3"
          ],
          [
           "Who"
          ],
          [
           "Weekend in the Dust"
          ],
          [
           "Dinner for Two"
          ],
          [
           "Ice Age"
          ],
          [
           "I Am an Ape"
          ],
          [
           "The Forest Awakes"
          ],
          [
           "I Should Watch TV"
          ],
          [
           "Lazarus"
          ],
          [
           "Optimist"
          ],
          [
           "Lightning"
          ],
          [
           "The One Who Broke Your Heart"
          ],
          [
           "Outside of Space and Time"
          ],
          [
           "Hang On Me"
          ],
          [
           "Pills"
          ],
          [
           "Masseduction"
          ],
          [
           "Sugarboy"
          ],
          [
           "Los Ageless"
          ],
          [
           "Happy Birthday, Johnny"
          ],
          [
           "Savior"
          ],
          [
           "New York"
          ],
          [
           "Fear The Future"
          ],
          [
           "Young Lover"
          ],
          [
           "Slow Disco"
          ],
          [
           "Smoking Section"
          ],
          [
           "Now, Now"
          ],
          [
           "Jesus Saves, I Spend"
          ],
          [
           "Your Lips Are Red"
          ],
          [
           "Marry Me"
          ],
          [
           "Paris Is Burning"
          ],
          [
           "All My Stars Aligned"
          ],
          [
           "The Apocalypse Song"
          ],
          [
           "Landmines"
          ],
          [
           "Human Racing"
          ],
          [
           "What Me Worry"
          ],
          [
           "Rattlesnake"
          ],
          [
           "Birth In Reverse"
          ],
          [
           "Prince Johnny"
          ],
          [
           "Huey Newton"
          ],
          [
           "Digital Witness"
          ],
          [
           "I Prefer Your Love"
          ],
          [
           "Regret"
          ],
          [
           "Bring Me Your Loves"
          ],
          [
           "Psychopath"
          ],
          [
           "Every Tear Disappears"
          ],
          [
           "Severed Crossed Fingers"
          ],
          [
           "Bad Believer"
          ],
          [
           "Pieta"
          ],
          [
           "Sparrow"
          ],
          [
           "Del Rio"
          ],
          [
           "Digital Witness - DARKSIDE Remix"
          ],
          [
           "Chloe In The Afternoon"
          ],
          [
           "Cruel"
          ],
          [
           "Cheerleader"
          ],
          [
           "Surgeon"
          ],
          [
           "Northern Lights"
          ],
          [
           "Strange Mercy"
          ],
          [
           "Neutered Fruit"
          ],
          [
           "Champagne Year"
          ],
          [
           "Dilettante"
          ],
          [
           "Hysterical Strength"
          ],
          [
           "Year Of The Tiger"
          ]
         ],
         "hovertemplate": "artist=St. Vincent<br>danceability=%{x}<br>sentiment=%{y}<br>title=%{customdata[0]}<extra></extra>",
         "legendgroup": "St. Vincent",
         "marker": {
          "color": "#00cc96",
          "symbol": "circle"
         },
         "mode": "markers",
         "name": "St. Vincent",
         "orientation": "v",
         "showlegend": true,
         "type": "scatter",
         "x": [
          0.529,
          0.665,
          0.439,
          0.556,
          0.465,
          0.658,
          0.64,
          0.352,
          0.465,
          0.339,
          0.217,
          0.677,
          0.61,
          0.774,
          0.426,
          0.52,
          0.422,
          0.641,
          0.713,
          0.525,
          0.532,
          0.604,
          0.39,
          0.347,
          0.687,
          0.83,
          0.716,
          0.763,
          0.663,
          0.753,
          0.659,
          0.848,
          0.611,
          0.722,
          0.706,
          0.287,
          0.539,
          0.549,
          0.696,
          0.625,
          0.527,
          0.506,
          0.658,
          0.373,
          0.472,
          0.447,
          0.26,
          0.593,
          0.48,
          0.602,
          0.521,
          0.495,
          0.586,
          0.442,
          0.52,
          0.437,
          0.677,
          0.442,
          0.698,
          0.571,
          0.524,
          0.643,
          0.782,
          0.607,
          0.458,
          0.241,
          0.768,
          0.684,
          0.488,
          0.518,
          0.709,
          0.497,
          0.583,
          0.768,
          0.515,
          0.57,
          0.447,
          0.496,
          0.4,
          0.642,
          0.575,
          0.172,
          0.626,
          0.53,
          0.519
         ],
         "xaxis": "x",
         "y": [
          0.10469182666926907,
          0.10469182666926907,
          0.10469182666926907,
          0.10469182666926907,
          0.10469182666926907,
          0.10469182666926907,
          0.10469182666926907,
          0.10469182666926907,
          0.10469182666926907,
          0.10469182666926907,
          0.10469182666926907,
          0.09496593222723965,
          0.09496593222723965,
          0.09496593222723965,
          0.09496593222723965,
          0.09496593222723965,
          0.09496593222723965,
          0.09496593222723965,
          0.09496593222723965,
          0.09496593222723965,
          0.09496593222723965,
          0.09496593222723965,
          0.09496593222723965,
          0.09496593222723965,
          0.0755040720328462,
          0.0755040720328462,
          0.0755040720328462,
          0.0755040720328462,
          0.0755040720328462,
          0.0755040720328462,
          0.0755040720328462,
          0.0755040720328462,
          0.0755040720328462,
          0.0755040720328462,
          0.0755040720328462,
          0.0755040720328462,
          -0.010551374006105403,
          -0.010551374006105403,
          -0.010551374006105403,
          -0.010551374006105403,
          -0.010551374006105403,
          -0.010551374006105403,
          -0.010551374006105403,
          -0.010551374006105403,
          -0.010551374006105403,
          -0.010551374006105403,
          -0.010551374006105403,
          -0.010551374006105403,
          0.015885112952659906,
          0.015885112952659906,
          0.015885112952659906,
          0.015885112952659906,
          0.015885112952659906,
          0.015885112952659906,
          0.015885112952659906,
          0.015885112952659906,
          0.015885112952659906,
          0.015885112952659906,
          -0.0337658758508201,
          -0.0337658758508201,
          -0.0337658758508201,
          -0.0337658758508201,
          -0.0337658758508201,
          -0.0337658758508201,
          -0.0337658758508201,
          -0.0337658758508201,
          -0.0337658758508201,
          -0.0337658758508201,
          -0.0337658758508201,
          -0.0337658758508201,
          -0.0337658758508201,
          -0.0337658758508201,
          -0.0337658758508201,
          -0.0337658758508201,
          -0.17743647162525772,
          -0.17743647162525772,
          -0.17743647162525772,
          -0.17743647162525772,
          -0.17743647162525772,
          -0.17743647162525772,
          -0.17743647162525772,
          -0.17743647162525772,
          -0.17743647162525772,
          -0.17743647162525772,
          -0.17743647162525772
         ],
         "yaxis": "y"
        },
        {
         "customdata": [
          [
           "Secret Meeting"
          ],
          [
           "Karen"
          ],
          [
           "Lit Up"
          ],
          [
           "Looking for Astronauts"
          ],
          [
           "Daughters of the Soho Riots"
          ],
          [
           "Baby We'll Be Fine"
          ],
          [
           "Friend of Mine"
          ],
          [
           "Val Jester"
          ],
          [
           "All the Wine"
          ],
          [
           "Abel"
          ],
          [
           "The Geese of Beverly Road"
          ],
          [
           "City Middle"
          ],
          [
           "Mr. November"
          ],
          [
           "Fake Empire"
          ],
          [
           "Mistaken for Strangers"
          ],
          [
           "Brainy"
          ],
          [
           "Squalor Victoria"
          ],
          [
           "Green Gloves"
          ],
          [
           "Slow Show"
          ],
          [
           "Apartment Story"
          ],
          [
           "Start a War"
          ],
          [
           "Guest Room"
          ],
          [
           "Racing Like a Pro"
          ],
          [
           "Ada"
          ],
          [
           "Gospel"
          ],
          [
           "Terrible Love"
          ],
          [
           "Sorrow"
          ],
          [
           "Anyone's Ghost"
          ],
          [
           "Little Faith"
          ],
          [
           "Afraid of Everyone"
          ],
          [
           "Bloodbuzz Ohio"
          ],
          [
           "Lemonworld"
          ],
          [
           "Runaway"
          ],
          [
           "Conversation 16"
          ],
          [
           "England"
          ],
          [
           "Vanderlyle Crybaby Geeks"
          ],
          [
           "Nobody Else Will Be There"
          ],
          [
           "Day I Die"
          ],
          [
           "Walk It Back"
          ],
          [
           "The System Only Dreams in Total Darkness"
          ],
          [
           "Born to Beg"
          ],
          [
           "Turtleneck"
          ],
          [
           "Empire Line"
          ],
          [
           "I'll Still Destroy You"
          ],
          [
           "Guilty Party"
          ],
          [
           "Carin at the Liquor Store"
          ],
          [
           "Dark Side of the Gym"
          ],
          [
           "Sleep Well Beast"
          ],
          [
           "I Should Live in Salt"
          ],
          [
           "Demons"
          ],
          [
           "Don't Swallow the Cap"
          ],
          [
           "Fireproof"
          ],
          [
           "Sea of Love"
          ],
          [
           "Heavenfaced"
          ],
          [
           "This is the Last Time"
          ],
          [
           "Graceless"
          ],
          [
           "Slipped"
          ],
          [
           "I Need My Girl"
          ],
          [
           "Humiliation"
          ],
          [
           "Pink Rabbits"
          ],
          [
           "Hard to Find"
          ]
         ],
         "hovertemplate": "artist=The National<br>danceability=%{x}<br>sentiment=%{y}<br>title=%{customdata[0]}<extra></extra>",
         "legendgroup": "The National",
         "marker": {
          "color": "#ab63fa",
          "symbol": "circle"
         },
         "mode": "markers",
         "name": "The National",
         "orientation": "v",
         "showlegend": true,
         "type": "scatter",
         "x": [
          0.622,
          0.659,
          0.428,
          0.499,
          0.563,
          0.46,
          0.655,
          0.473,
          0.604,
          0.342,
          0.538,
          0.529,
          0.416,
          0.325,
          0.539,
          0.505,
          0.553,
          0.534,
          0.575,
          0.55,
          0.655,
          0.576,
          0.353,
          0.557,
          0.575,
          0.304,
          0.55,
          0.745,
          0.419,
          0.527,
          0.402,
          0.648,
          0.583,
          0.554,
          0.49,
          0.464,
          0.657,
          0.432,
          0.727,
          0.596,
          0.528,
          0.427,
          0.593,
          0.536,
          0.368,
          0.54,
          0.642,
          0.451,
          0.519,
          0.54,
          0.45,
          0.483,
          0.459,
          0.505,
          0.503,
          0.441,
          0.452,
          0.52,
          0.47,
          0.502,
          0.488
         ],
         "xaxis": "x",
         "y": [
          -0.18156456252832162,
          -0.18156456252832162,
          -0.18156456252832162,
          -0.18156456252832162,
          -0.18156456252832162,
          -0.18156456252832162,
          -0.18156456252832162,
          -0.18156456252832162,
          -0.18156456252832162,
          -0.18156456252832162,
          -0.18156456252832162,
          -0.18156456252832162,
          -0.18156456252832162,
          0.19677794918399147,
          0.19677794918399147,
          0.19677794918399147,
          0.19677794918399147,
          0.19677794918399147,
          0.19677794918399147,
          0.19677794918399147,
          0.19677794918399147,
          0.19677794918399147,
          0.19677794918399147,
          0.19677794918399147,
          0.19677794918399147,
          -0.22518692740422142,
          -0.22518692740422142,
          -0.22518692740422142,
          -0.22518692740422142,
          -0.22518692740422142,
          -0.22518692740422142,
          -0.22518692740422142,
          -0.22518692740422142,
          -0.22518692740422142,
          -0.22518692740422142,
          -0.22518692740422142,
          -0.1645066005012163,
          -0.1645066005012163,
          -0.1645066005012163,
          -0.1645066005012163,
          -0.1645066005012163,
          -0.1645066005012163,
          -0.1645066005012163,
          -0.1645066005012163,
          -0.1645066005012163,
          -0.1645066005012163,
          -0.1645066005012163,
          -0.1645066005012163,
          -0.06078991109621775,
          -0.06078991109621775,
          -0.06078991109621775,
          -0.06078991109621775,
          -0.06078991109621775,
          -0.06078991109621775,
          -0.06078991109621775,
          -0.06078991109621775,
          -0.06078991109621775,
          -0.06078991109621775,
          -0.06078991109621775,
          -0.06078991109621775,
          -0.06078991109621775
         ],
         "yaxis": "y"
        },
        {
         "customdata": [
          [
           "Dark Saturday"
          ],
          [
           "Love You Back"
          ],
          [
           "Die Happy"
          ],
          [
           "Now or Never Now"
          ],
          [
           "Art of Doubt"
          ],
          [
           "Underline the Black"
          ],
          [
           "Dressed to Suppress"
          ],
          [
           "Risk"
          ],
          [
           "Seven Rules"
          ],
          [
           "Holding Out"
          ],
          [
           "Anticipate"
          ],
          [
           "No Lights on the Horizon"
          ],
          [
           "Help I'm Alive"
          ],
          [
           "Sick Muse"
          ],
          [
           "Satellite Mind"
          ],
          [
           "Twilight Galaxy"
          ],
          [
           "Gold Guns Girls"
          ],
          [
           "Gimme Sympathy"
          ],
          [
           "Collect Call"
          ],
          [
           "Front Row"
          ],
          [
           "Blindness"
          ],
          [
           "Stadium Love"
          ],
          [
           "Doomscroller"
          ],
          [
           "All Comes Crashing"
          ],
          [
           "What Feels Like Eternity"
          ],
          [
           "Formentera"
          ],
          [
           "Enemies of the Ocean"
          ],
          [
           "I Will Never Settle"
          ],
          [
           "False Dichotomy"
          ],
          [
           "Oh Please"
          ],
          [
           "Paths in the Sky"
          ],
          [
           "Detour Up"
          ],
          [
           "Just The Once"
          ],
          [
           "Stone Window"
          ],
          [
           "Days Of Oblivion"
          ],
          [
           "Who Would You Be For Me"
          ],
          [
           "Suckers"
          ],
          [
           "Nothing Is Perfect"
          ],
          [
           "Descendants"
          ],
          [
           "Go Ahead And Cry"
          ],
          [
           "Grow Up and Blow Away"
          ],
          [
           "Hardwire"
          ],
          [
           "Rock Me Now"
          ],
          [
           "The Twist"
          ],
          [
           "On the Sly"
          ],
          [
           "Soft Rock Star"
          ],
          [
           "Raw Sugar"
          ],
          [
           "White Gold"
          ],
          [
           "London Halflife"
          ],
          [
           "Soft Rock Star [Jimmy vs. Joe Mix]"
          ],
          [
           "Empty"
          ],
          [
           "Glass Ceiling"
          ],
          [
           "Handshakes"
          ],
          [
           "Too Little Too Late"
          ],
          [
           "Poster Of A Girl"
          ],
          [
           "Monster Hospital"
          ],
          [
           "Patriarch On a Vespa"
          ],
          [
           "The Police and the Private"
          ],
          [
           "Ending Start"
          ],
          [
           "Live It Out"
          ],
          [
           "IOU"
          ],
          [
           "Hustle Rose"
          ],
          [
           "Succexy"
          ],
          [
           "Combat Baby"
          ],
          [
           "Calculation Theme"
          ],
          [
           "Wet Blanket"
          ],
          [
           "On a Slow Night"
          ],
          [
           "The List"
          ],
          [
           "Dead Disco"
          ],
          [
           "Love Is A Place"
          ],
          [
           "Lie Lie Lie"
          ],
          [
           "Fortunes"
          ],
          [
           "The Shade"
          ],
          [
           "Celebrate"
          ],
          [
           "Cascades"
          ],
          [
           "For Kicks"
          ],
          [
           "Too Bad, So Sad"
          ],
          [
           "Other Side"
          ],
          [
           "Blind Valentine"
          ],
          [
           "The Governess"
          ],
          [
           "The Face Part I"
          ],
          [
           "The Shade - Acoustic"
          ],
          [
           "Artificial Nocturne"
          ],
          [
           "Youth Without Youth"
          ],
          [
           "Speed The Collapse"
          ],
          [
           "Breathing Underwater"
          ],
          [
           "Dreams So Real"
          ],
          [
           "Lost Kitten"
          ],
          [
           "The Void"
          ],
          [
           "Synthetica"
          ],
          [
           "Clone"
          ],
          [
           "The Wanderlust"
          ],
          [
           "Nothing But Time"
          ]
         ],
         "hovertemplate": "artist=Metric<br>danceability=%{x}<br>sentiment=%{y}<br>title=%{customdata[0]}<extra></extra>",
         "legendgroup": "Metric",
         "marker": {
          "color": "#FFA15A",
          "symbol": "circle"
         },
         "mode": "markers",
         "name": "Metric",
         "orientation": "v",
         "showlegend": true,
         "type": "scatter",
         "x": [
          0.512,
          0.573,
          0.539,
          0.531,
          0.388,
          0.55,
          0.393,
          0.527,
          0.572,
          0.566,
          0.27,
          0.612,
          0.57,
          0.429,
          0.498,
          0.382,
          0.494,
          0.452,
          0.568,
          0.456,
          0.386,
          0.407,
          0.389,
          0.7,
          0.53,
          0.428,
          0.592,
          0.382,
          0.549,
          0.617,
          0.549,
          0.682,
          0.688,
          0.62,
          0.505,
          0.547,
          0.35,
          0.554,
          0.493,
          0.465,
          0.427,
          0.613,
          0.794,
          0.703,
          0.609,
          0.47,
          0.735,
          0.575,
          0.542,
          0.6,
          0.6,
          0.592,
          0.416,
          0.803,
          0.571,
          0.43,
          0.433,
          0.519,
          0.42,
          0.426,
          0.52,
          0.618,
          0.651,
          0.649,
          0.397,
          0.582,
          0.548,
          0.475,
          0.52,
          0.583,
          0.355,
          0.565,
          0.597,
          0.585,
          0.68,
          0.622,
          0.581,
          0.578,
          0.604,
          0.627,
          0.606,
          0.584,
          0.228,
          0.52,
          0.474,
          0.415,
          0.306,
          0.68,
          0.718,
          0.375,
          0.638,
          0.557,
          0.441
         ],
         "xaxis": "x",
         "y": [
          -0.2415943255152977,
          -0.2415943255152977,
          -0.2415943255152977,
          -0.2415943255152977,
          -0.2415943255152977,
          -0.2415943255152977,
          -0.2415943255152977,
          -0.2415943255152977,
          -0.2415943255152977,
          -0.2415943255152977,
          -0.2415943255152977,
          -0.2415943255152977,
          -0.12263056285525142,
          -0.12263056285525142,
          -0.12263056285525142,
          -0.12263056285525142,
          -0.12263056285525142,
          -0.12263056285525142,
          -0.12263056285525142,
          -0.12263056285525142,
          -0.12263056285525142,
          -0.12263056285525142,
          -0.19406273635192506,
          -0.19406273635192506,
          -0.19406273635192506,
          -0.19406273635192506,
          -0.19406273635192506,
          -0.19406273635192506,
          -0.19406273635192506,
          -0.19406273635192506,
          -0.19406273635192506,
          -0.2034600873648297,
          -0.2034600873648297,
          -0.2034600873648297,
          -0.2034600873648297,
          -0.2034600873648297,
          -0.2034600873648297,
          -0.2034600873648297,
          -0.2034600873648297,
          -0.2034600873648297,
          -0.16086615038635255,
          -0.16086615038635255,
          -0.16086615038635255,
          -0.16086615038635255,
          -0.16086615038635255,
          -0.16086615038635255,
          -0.16086615038635255,
          -0.16086615038635255,
          -0.16086615038635255,
          -0.16086615038635255,
          -0.010636474280457801,
          -0.010636474280457801,
          -0.010636474280457801,
          -0.010636474280457801,
          -0.010636474280457801,
          -0.010636474280457801,
          -0.010636474280457801,
          -0.010636474280457801,
          -0.010636474280457801,
          -0.010636474280457801,
          -0.3505611218559824,
          -0.3505611218559824,
          -0.3505611218559824,
          -0.3505611218559824,
          -0.3505611218559824,
          -0.3505611218559824,
          -0.3505611218559824,
          -0.3505611218559824,
          -0.3505611218559824,
          -0.3505611218559824,
          -0.1868961006030207,
          -0.1868961006030207,
          -0.1868961006030207,
          -0.1868961006030207,
          -0.1868961006030207,
          -0.1868961006030207,
          -0.1868961006030207,
          -0.1868961006030207,
          -0.1868961006030207,
          -0.1868961006030207,
          -0.1868961006030207,
          -0.1868961006030207,
          -0.22304287318466445,
          -0.22304287318466445,
          -0.22304287318466445,
          -0.22304287318466445,
          -0.22304287318466445,
          -0.22304287318466445,
          -0.22304287318466445,
          -0.22304287318466445,
          -0.22304287318466445,
          -0.22304287318466445,
          -0.22304287318466445
         ],
         "yaxis": "y"
        },
        {
         "customdata": [
          [
           "Market Fresh"
          ],
          [
           "Backyards"
          ],
          [
           "Da Da Da Da"
          ],
          [
           "Time = Cause"
          ],
          [
           "Lover's Spit"
          ],
          [
           "Ibi Dreams Of Pavement (A Better Day)"
          ],
          [
           "7/4 (Shoreline)"
          ],
          [
           "Major Label Debut"
          ],
          [
           "Fire Eye'd Boy"
          ],
          [
           "Windsurfing Nation"
          ],
          [
           "Swimmers"
          ],
          [
           "Hotel"
          ],
          [
           "Handjobs For The Holidays"
          ],
          [
           "Superconnected"
          ],
          [
           "Bandwitch"
          ],
          [
           "It's All Gonna Break"
          ],
          [
           "Canada Vs. America"
          ],
          [
           "All My Friends"
          ],
          [
           "Major Label Debut (Fast)"
          ],
          [
           "Passport Radio"
          ],
          [
           "Stomach Song"
          ],
          [
           "Cranley's Gonna Make It"
          ],
          [
           "World Sick"
          ],
          [
           "Chase Scene"
          ],
          [
           "Texico Bitches"
          ],
          [
           "Forced To Love"
          ],
          [
           "All To All"
          ],
          [
           "Art House Director"
          ],
          [
           "Highway Slipper Jam"
          ],
          [
           "Ungrateful Little Father"
          ],
          [
           "Sentimental X's"
          ],
          [
           "Sweetest Kill"
          ],
          [
           "Romance To The Grave"
          ],
          [
           "Water In Hell"
          ],
          [
           "Me And My Hand"
          ],
          [
           "Halfway Home"
          ],
          [
           "Protest Song"
          ],
          [
           "Skyline"
          ],
          [
           "Stay Happy"
          ],
          [
           "Vanity Pail Kids"
          ],
          [
           "Hug Of Thunder"
          ],
          [
           "Towers And Masons"
          ],
          [
           "Victim Lover"
          ],
          [
           "Please Take Me With You"
          ],
          [
           "Gonna Get Better"
          ],
          [
           "Mouth Guards Of The Apocalypse"
          ],
          [
           "KC Accidental"
          ],
          [
           "Stars And Sons"
          ],
          [
           "Almost Crimes - Radio Kills Remix"
          ],
          [
           "Looks Just Like The Sun"
          ],
          [
           "Anthems For A Seventeen Year-Old Girl"
          ],
          [
           "Cause = Time"
          ],
          [
           "Shampoo Suicide"
          ],
          [
           "Lover's Spit"
          ],
          [
           "I'm Still Your Fag"
          ]
         ],
         "hovertemplate": "artist=Broken Social Scene<br>danceability=%{x}<br>sentiment=%{y}<br>title=%{customdata[0]}<extra></extra>",
         "legendgroup": "Broken Social Scene",
         "marker": {
          "color": "#19d3f3",
          "symbol": "circle"
         },
         "mode": "markers",
         "name": "Broken Social Scene",
         "orientation": "v",
         "showlegend": true,
         "type": "scatter",
         "x": [
          0.476,
          0.276,
          0.139,
          0.13,
          0.38,
          0.0899,
          0.464,
          0.502,
          0.431,
          0.483,
          0.625,
          0.733,
          0.467,
          0.232,
          0.482,
          0.209,
          0.308,
          0.405,
          0.407,
          0.424,
          0.494,
          0.538,
          0.572,
          0.573,
          0.605,
          0.476,
          0.631,
          0.464,
          0.675,
          0.43,
          0.622,
          0.708,
          0.514,
          0.362,
          0.26,
          0.434,
          0.475,
          0.422,
          0.446,
          0.509,
          0.695,
          0.518,
          0.382,
          0.455,
          0.507,
          0.204,
          0.0629,
          0.466,
          0.211,
          0.527,
          0.466,
          0.378,
          0.581,
          0.327,
          0.498
         ],
         "xaxis": "x",
         "y": [
          0.13614290016647174,
          0.13614290016647174,
          0.13614290016647174,
          0.13614290016647174,
          0.13614290016647174,
          -0.14627020522670642,
          -0.14627020522670642,
          -0.14627020522670642,
          -0.14627020522670642,
          -0.14627020522670642,
          -0.14627020522670642,
          -0.14627020522670642,
          -0.14627020522670642,
          -0.14627020522670642,
          -0.14627020522670642,
          -0.14627020522670642,
          -0.14627020522670642,
          -0.14627020522670642,
          -0.14627020522670642,
          -1.48264082805692,
          -1.48264082805692,
          -1.48264082805692,
          -0.18094279820178938,
          -0.18094279820178938,
          -0.18094279820178938,
          -0.18094279820178938,
          -0.18094279820178938,
          -0.18094279820178938,
          -0.18094279820178938,
          -0.18094279820178938,
          -0.18094279820178938,
          -0.18094279820178938,
          -0.18094279820178938,
          -0.18094279820178938,
          -0.18094279820178938,
          -0.1390885744276082,
          -0.1390885744276082,
          -0.1390885744276082,
          -0.1390885744276082,
          -0.1390885744276082,
          -0.1390885744276082,
          -0.1390885744276082,
          -0.1390885744276082,
          -0.1390885744276082,
          -0.1390885744276082,
          -0.1390885744276082,
          0.10634073151249863,
          0.10634073151249863,
          0.10634073151249863,
          0.10634073151249863,
          0.10634073151249863,
          0.10634073151249863,
          0.10634073151249863,
          0.10634073151249863,
          0.10634073151249863
         ],
         "yaxis": "y"
        },
        {
         "customdata": [
          [
           "Cannibal Resource"
          ],
          [
           "Temecula Sunrise"
          ],
          [
           "The Bride"
          ],
          [
           "Stillness Is The Move"
          ],
          [
           "Two Doves"
          ],
          [
           "Useful Chamber"
          ],
          [
           "No Intention"
          ],
          [
           "Remade Horizon"
          ],
          [
           "Fluorescent Half Dome"
          ],
          [
           "Keep Your Name"
          ],
          [
           "Death Spiral"
          ],
          [
           "Up In Hudson"
          ],
          [
           "Work Together"
          ],
          [
           "Little Bubble"
          ],
          [
           "Winner Take Nothing"
          ],
          [
           "Ascent Through Clouds"
          ],
          [
           "Cool Your Heart"
          ],
          [
           "I See You"
          ],
          [
           "Right Now"
          ],
          [
           "Break-Thru"
          ],
          [
           "That’s A Lifestyle"
          ],
          [
           "I Feel Energy"
          ],
          [
           "Zombie Conqueror"
          ],
          [
           "Blue Bird"
          ],
          [
           "I Found It In U"
          ],
          [
           "What Is The Time"
          ],
          [
           "You're The One"
          ],
          [
           "(I Wanna) Feel It All"
          ],
          [
           "My Brother Had A Birthday"
          ],
          [
           "The Enterprising Catalyst"
          ],
          [
           "Grandfather's Jacket"
          ],
          [
           "After Santa Monica Boulevard"
          ],
          [
           "Dahlonegabhama"
          ],
          [
           "Further On Down The Strip"
          ],
          [
           "Katydids Calling"
          ],
          [
           "Twenty-Foot Stalks"
          ],
          [
           "We Could Cling"
          ],
          [
           "The Love-Prayer Book"
          ],
          [
           "To Give It Weight"
          ],
          [
           "Here Comes The Summer King"
          ],
          [
           "Her Freezings And Thawings"
          ],
          [
           "We Two Feared The Storm"
          ],
          [
           "I Am Going To See It"
          ],
          [
           "Fake Folks"
          ],
          [
           "Like Once-Heated Milk"
          ],
          [
           "O! You Hungering Infants"
          ],
          [
           "Morning Better Last!"
          ],
          [
           "On and Ever Onward"
          ],
          [
           "When the World Comes to an End"
          ],
          [
           "Beautiful Mother"
          ],
          [
           "Sharing Orb"
          ],
          [
           "No Embrace"
          ],
          [
           "All We Are"
          ],
          [
           "What I See"
          ],
          [
           "No More"
          ],
          [
           "Depression"
          ],
          [
           "Six Pack"
          ],
          [
           "Thirsty and Miserable"
          ],
          [
           "Police Story"
          ],
          [
           "Gimmie Gimmie Gimmie"
          ],
          [
           "Spray Paint (The Walls)"
          ],
          [
           "Room 13"
          ],
          [
           "Rise Above"
          ],
          [
           "Untitled"
          ],
          [
           "Somberly, Kimberly"
          ],
          [
           "On the Beach"
          ],
          [
           "(Throw On) The Hazard Lights"
          ],
          [
           "Slaves' Graves"
          ],
          [
           "Grandfather's Hanging"
          ],
          [
           "We Are Swaddled"
          ],
          [
           "A Labor More Restful"
          ],
          [
           "Unmoved"
          ],
          [
           "Ladies, You Have Exiled Me"
          ],
          [
           "Because Your Light Is Turning Green"
          ],
          [
           "Obscure Wisdom"
          ],
          [
           "This Weather"
          ],
          [
           "Since I Opened"
          ],
          [
           "Offspring Are Blank"
          ],
          [
           "About to Die"
          ],
          [
           "Gun Has No Trigger"
          ],
          [
           "Swing Lo Magellan"
          ],
          [
           "Just From Chevron"
          ],
          [
           "Dance For You"
          ],
          [
           "Maybe That Was It"
          ],
          [
           "Impregnable Question"
          ],
          [
           "See What She Seeing"
          ],
          [
           "The Socialites"
          ],
          [
           "Unto Caesar"
          ],
          [
           "Irresponsible Tune"
          ],
          [
           "I Sit On the Ridge At Dusk"
          ],
          [
           "But In the Headlights"
          ],
          [
           "Warholian Wigs"
          ],
          [
           "I Will Truck"
          ],
          [
           "D. Henley's Dream"
          ],
          [
           "Gilt Gold Scabs"
          ],
          [
           "Ponds & Puddles"
          ],
          [
           "Not Having Found"
          ],
          [
           "Tour Along the Potomac"
          ],
          [
           "Jolly Jolly Jolly Ego"
          ],
          [
           "Time Birthed Spilled Blood"
          ],
          [
           "Drilling Profitably"
          ],
          [
           "Finches' Song At Oceanic Parking Lot"
          ],
          [
           "The Glad Fact"
          ],
          [
           "My Offwhite Flag"
          ],
          [
           "Like Fake Blood In Crisp October"
          ],
          [
           "Boredome Is a Product"
          ],
          [
           "Two Brown Finches"
          ],
          [
           "Three Brown Finches"
          ],
          [
           "Off Science Hill"
          ],
          [
           "Winter Is Here"
          ],
          [
           "Ground Underfoot"
          ],
          [
           "Spirit-Future Medley"
          ],
          [
           "Naked We Made It"
          ],
          [
           "Lit from Below"
          ],
          [
           "Imaginary Love"
          ],
          [
           "The Highway Is a Foggy Knife"
          ],
          [
           "The Minutes"
          ]
         ],
         "hovertemplate": "artist=Dirty Projectors<br>danceability=%{x}<br>sentiment=%{y}<br>title=%{customdata[0]}<extra></extra>",
         "legendgroup": "Dirty Projectors",
         "marker": {
          "color": "#FF6692",
          "symbol": "circle"
         },
         "mode": "markers",
         "name": "Dirty Projectors",
         "orientation": "v",
         "showlegend": true,
         "type": "scatter",
         "x": [
          0.557,
          0.404,
          0.394,
          0.569,
          0.435,
          0.338,
          0.578,
          0.288,
          0.51,
          0.54,
          0.555,
          0.677,
          0.377,
          0.342,
          0.725,
          0.445,
          0.61,
          0.484,
          0.481,
          0.8,
          0.519,
          0.723,
          0.416,
          0.53,
          0.452,
          0.757,
          0.409,
          0.286,
          0.636,
          0.311,
          0.699,
          0.471,
          0.705,
          0.719,
          0.624,
          0.46,
          0.31,
          0.579,
          0.51,
          0.475,
          0.425,
          0.164,
          0.335,
          0.364,
          0.428,
          0.444,
          0.55,
          0.719,
          0.44,
          0.86,
          0.496,
          0.362,
          0.32,
          0.427,
          0.318,
          0.482,
          0.371,
          0.434,
          0.277,
          0.348,
          0.323,
          0.234,
          0.541,
          0.0604,
          0.545,
          0.244,
          0.341,
          0.342,
          0.226,
          0.202,
          0.48,
          0.381,
          0.234,
          0.345,
          0.809,
          0.342,
          0.442,
          0.345,
          0.725,
          0.681,
          0.738,
          0.44,
          0.603,
          0.31,
          0.65,
          0.455,
          0.709,
          0.529,
          0.248,
          0.436,
          0.552,
          0.579,
          0.775,
          0.267,
          0.294,
          0.527,
          0.676,
          0.768,
          0.705,
          0.491,
          0.328,
          0.197,
          0.336,
          0.569,
          0.423,
          0.311,
          0.355,
          0.431,
          0.411,
          0.47,
          0.35,
          0.49,
          0.476,
          0.327,
          0.256,
          0.361,
          0.74
         ],
         "xaxis": "x",
         "y": [
          0.2560736650751503,
          0.2560736650751503,
          0.2560736650751503,
          0.2560736650751503,
          0.2560736650751503,
          0.2560736650751503,
          0.2560736650751503,
          0.2560736650751503,
          0.2560736650751503,
          -0.0247426036087749,
          -0.0247426036087749,
          -0.0247426036087749,
          -0.0247426036087749,
          -0.0247426036087749,
          -0.0247426036087749,
          -0.0247426036087749,
          -0.0247426036087749,
          -0.0247426036087749,
          0.09350421018913226,
          0.09350421018913226,
          0.09350421018913226,
          0.09350421018913226,
          0.09350421018913226,
          0.09350421018913226,
          0.09350421018913226,
          0.09350421018913226,
          0.09350421018913226,
          0.09350421018913226,
          -0.01636805816294009,
          -0.01636805816294009,
          -0.01636805816294009,
          -0.01636805816294009,
          -0.01636805816294009,
          -0.01636805816294009,
          -0.01636805816294009,
          -0.01636805816294009,
          -0.01636805816294009,
          -0.01636805816294009,
          -0.01636805816294009,
          -0.01636805816294009,
          -0.01636805816294009,
          -0.01636805816294009,
          -0.01636805816294009,
          -0.01636805816294009,
          -0.01636805816294009,
          -0.01636805816294009,
          -0.01636805816294009,
          0.29409135929162966,
          0.29409135929162966,
          0.29409135929162966,
          0.29409135929162966,
          0.29409135929162966,
          0.29409135929162966,
          -0.81749272689105,
          -0.81749272689105,
          -0.81749272689105,
          -0.81749272689105,
          -0.81749272689105,
          -0.81749272689105,
          -0.81749272689105,
          -0.81749272689105,
          -0.81749272689105,
          -0.81749272689105,
          -0.81749272689105,
          -0.21990883389386717,
          -0.21990883389386717,
          -0.21990883389386717,
          -0.21990883389386717,
          -0.21990883389386717,
          -0.21990883389386717,
          -0.21990883389386717,
          -0.21990883389386717,
          -0.21990883389386717,
          -0.21990883389386717,
          -0.21990883389386717,
          -0.21990883389386717,
          -0.21990883389386717,
          -0.0721852590301481,
          -0.0721852590301481,
          -0.0721852590301481,
          -0.0721852590301481,
          -0.0721852590301481,
          -0.0721852590301481,
          -0.0721852590301481,
          -0.0721852590301481,
          -0.0721852590301481,
          -0.0721852590301481,
          -0.0721852590301481,
          -0.0721852590301481,
          0.07614310022977097,
          0.07614310022977097,
          0.07614310022977097,
          0.07614310022977097,
          0.07614310022977097,
          0.07614310022977097,
          0.07614310022977097,
          0.07614310022977097,
          0.07614310022977097,
          0.07614310022977097,
          0.07614310022977097,
          0.07614310022977097,
          0.07614310022977097,
          -0.36330369092027576,
          -0.36330369092027576,
          -0.36330369092027576,
          -0.36330369092027576,
          -0.36330369092027576,
          -0.36330369092027576,
          -0.36330369092027576,
          -0.36330369092027576,
          -0.36330369092027576,
          -0.36330369092027576,
          -0.36330369092027576,
          -0.36330369092027576,
          -0.36330369092027576,
          -0.36330369092027576,
          -0.36330369092027576
         ],
         "yaxis": "y"
        },
        {
         "customdata": [
          [
           "Pretty Things"
          ],
          [
           "Shark Smile"
          ],
          [
           "Capacity"
          ],
          [
           "Watering"
          ],
          [
           "Coma"
          ],
          [
           "Great White Shark"
          ],
          [
           "Mythological Beauty"
          ],
          [
           "Objects"
          ],
          [
           "Haley"
          ],
          [
           "Mary"
          ],
          [
           "Black Diamonds"
          ],
          [
           "Change"
          ],
          [
           "Time Escaping"
          ],
          [
           "Spud Infinity"
          ],
          [
           "Certainty"
          ],
          [
           "Dragon New Warm Mountain I Believe in You"
          ],
          [
           "Sparrow"
          ],
          [
           "Little Things"
          ],
          [
           "Heavy Bend"
          ],
          [
           "Flower of Blood"
          ],
          [
           "Blurred View"
          ],
          [
           "Red Moon"
          ],
          [
           "Dried Roses"
          ],
          [
           "No Reason"
          ],
          [
           "Wake Me up to Drive"
          ],
          [
           "Promise Is a Pendulum"
          ],
          [
           "12,000 Lines"
          ],
          [
           "Simulation Swarm"
          ],
          [
           "Love Love Love"
          ],
          [
           "The Only Place"
          ],
          [
           "Blue Lightning"
          ],
          [
           "Little Arrow - 2023 Remaster"
          ],
          [
           "Masterpiece - 2023 Remaster"
          ],
          [
           "Vegas - 2023 Remaster"
          ],
          [
           "Real Love - 2023 Remaster"
          ],
          [
           "Interstate - 2023 Remaster"
          ],
          [
           "Lorraine - 2023 Remaster"
          ],
          [
           "Paul - 2023 Remaster"
          ],
          [
           "Humans - 2023 Remaster"
          ],
          [
           "Velvet Ring - 2023 Remaster"
          ],
          [
           "Animals - 2023 Remaster"
          ],
          [
           "Randy - 2023 Remaster"
          ],
          [
           "Parallels - 2023 Remaster"
          ],
          [
           "Rock and Sing"
          ],
          [
           "Forgotten Eyes"
          ],
          [
           "The Toy"
          ],
          [
           "Two Hands"
          ],
          [
           "Those Girls"
          ],
          [
           "Shoulders"
          ],
          [
           "Not"
          ],
          [
           "Wolf"
          ],
          [
           "Replaced"
          ],
          [
           "Cut My Hair"
          ],
          [
           "Contact"
          ],
          [
           "UFOF"
          ],
          [
           "Cattails"
          ],
          [
           "From"
          ],
          [
           "Open Desert"
          ],
          [
           "Orange"
          ],
          [
           "Century"
          ],
          [
           "Strange"
          ],
          [
           "Betsy"
          ],
          [
           "Terminal Paradise"
          ],
          [
           "Jenni"
          ],
          [
           "Magic Dealer"
          ]
         ],
         "hovertemplate": "artist=Big Thief<br>danceability=%{x}<br>sentiment=%{y}<br>title=%{customdata[0]}<extra></extra>",
         "legendgroup": "Big Thief",
         "marker": {
          "color": "#B6E880",
          "symbol": "circle"
         },
         "mode": "markers",
         "name": "Big Thief",
         "orientation": "v",
         "showlegend": true,
         "type": "scatter",
         "x": [
          0.467,
          0.618,
          0.448,
          0.633,
          0.385,
          0.391,
          0.63,
          0.677,
          0.535,
          0.4,
          0.761,
          0.633,
          0.672,
          0.562,
          0.611,
          0.312,
          0.564,
          0.34,
          0.682,
          0.254,
          0.438,
          0.434,
          0.56,
          0.455,
          0.683,
          0.473,
          0.675,
          0.703,
          0.426,
          0.45,
          0.6,
          0.222,
          0.369,
          0.624,
          0.311,
          0.404,
          0.45,
          0.473,
          0.44,
          0.318,
          0.4,
          0.376,
          0.355,
          0.692,
          0.428,
          0.327,
          0.518,
          0.579,
          0.459,
          0.423,
          0.439,
          0.627,
          0.528,
          0.451,
          0.623,
          0.555,
          0.6,
          0.589,
          0.443,
          0.673,
          0.733,
          0.578,
          0.598,
          0.393,
          0.414
         ],
         "xaxis": "x",
         "y": [
          -0.11891147862814073,
          -0.11891147862814073,
          -0.11891147862814073,
          -0.11891147862814073,
          -0.11891147862814073,
          -0.11891147862814073,
          -0.11891147862814073,
          -0.11891147862814073,
          -0.11891147862814073,
          -0.11891147862814073,
          -0.11891147862814073,
          0.03840385067165216,
          0.03840385067165216,
          0.03840385067165216,
          0.03840385067165216,
          0.03840385067165216,
          0.03840385067165216,
          0.03840385067165216,
          0.03840385067165216,
          0.03840385067165216,
          0.03840385067165216,
          0.03840385067165216,
          0.03840385067165216,
          0.03840385067165216,
          0.03840385067165216,
          0.03840385067165216,
          0.03840385067165216,
          0.03840385067165216,
          0.03840385067165216,
          0.03840385067165216,
          0.03840385067165216,
          0.03277967549267661,
          0.03277967549267661,
          0.03277967549267661,
          0.03277967549267661,
          0.03277967549267661,
          0.03277967549267661,
          0.03277967549267661,
          0.03277967549267661,
          0.03277967549267661,
          0.03277967549267661,
          0.03277967549267661,
          0.03277967549267661,
          -0.2020279121759374,
          -0.2020279121759374,
          -0.2020279121759374,
          -0.2020279121759374,
          -0.2020279121759374,
          -0.2020279121759374,
          -0.2020279121759374,
          -0.2020279121759374,
          -0.2020279121759374,
          -0.2020279121759374,
          -0.19778790069906868,
          -0.19778790069906868,
          -0.19778790069906868,
          -0.19778790069906868,
          -0.19778790069906868,
          -0.19778790069906868,
          -0.19778790069906868,
          -0.19778790069906868,
          -0.19778790069906868,
          -0.19778790069906868,
          -0.19778790069906868,
          -0.19778790069906868
         ],
         "yaxis": "y"
        },
        {
         "customdata": [
          [
           "It's Working"
          ],
          [
           "Song for Dan Treacy"
          ],
          [
           "Someone's Missing"
          ],
          [
           "Flash Delirium"
          ],
          [
           "I Found a Whistle"
          ],
          [
           "Siberian Breaks"
          ],
          [
           "Brian Eno"
          ],
          [
           "Congratulations"
          ],
          [
           "She Works Out Too Much"
          ],
          [
           "Little Dark Age"
          ],
          [
           "When You Die"
          ],
          [
           "Me and Michael"
          ],
          [
           "TSLAMP"
          ],
          [
           "James"
          ],
          [
           "Days That Got Away"
          ],
          [
           "One Thing Left to Try"
          ],
          [
           "When You're Small"
          ],
          [
           "Hand It Over"
          ],
          [
           "Loss Of Life (part 2)"
          ],
          [
           "Mother Nature"
          ],
          [
           "People In The Streets"
          ],
          [
           "Bubblegum Dog"
          ],
          [
           "Nothing To Declare"
          ],
          [
           "Nothing Changes"
          ],
          [
           "Phradie’s Song"
          ],
          [
           "I Wish I Was Joking"
          ],
          [
           "Loss Of Life"
          ],
          [
           "Alien Days"
          ],
          [
           "Cool Song No. 2"
          ],
          [
           "Mystery Disease"
          ],
          [
           "Introspection"
          ],
          [
           "Your Life Is a Lie"
          ],
          [
           "A Good Sadness"
          ],
          [
           "Astro-Mancy"
          ],
          [
           "I Love You Too, Death"
          ],
          [
           "Plenty Of Girls In The Sea"
          ],
          [
           "An Orphan Of Fortune"
          ],
          [
           "Time to Pretend"
          ],
          [
           "Weekend Wars"
          ],
          [
           "The Youth"
          ],
          [
           "Electric Feel"
          ],
          [
           "Kids"
          ],
          [
           "4th Dimensional Transition"
          ],
          [
           "Pieces of What"
          ],
          [
           "Of Moons, Birds & Monsters"
          ],
          [
           "The Handshake"
          ],
          [
           "Future Reflections"
          ]
         ],
         "hovertemplate": "artist=MGMT<br>danceability=%{x}<br>sentiment=%{y}<br>title=%{customdata[0]}<extra></extra>",
         "legendgroup": "MGMT",
         "marker": {
          "color": "#FF97FF",
          "symbol": "circle"
         },
         "mode": "markers",
         "name": "MGMT",
         "orientation": "v",
         "showlegend": true,
         "type": "scatter",
         "x": [
          0.381,
          0.453,
          0.308,
          0.575,
          0.166,
          0.305,
          0.374,
          0.761,
          0.633,
          0.705,
          0.645,
          0.628,
          0.602,
          0.515,
          0.667,
          0.576,
          0.465,
          0.378,
          0.241,
          0.425,
          0.585,
          0.482,
          0.474,
          0.529,
          0.168,
          0.48,
          0.288,
          0.492,
          0.543,
          0.253,
          0.519,
          0.527,
          0.209,
          0.525,
          0.212,
          0.544,
          0.423,
          0.438,
          0.549,
          0.485,
          0.763,
          0.451,
          0.381,
          0.572,
          0.598,
          0.565,
          0.512
         ],
         "xaxis": "x",
         "y": [
          -0.0588074696375415,
          -0.0588074696375415,
          -0.0588074696375415,
          -0.0588074696375415,
          -0.0588074696375415,
          -0.0588074696375415,
          -0.0588074696375415,
          -0.0588074696375415,
          -0.0464964661864701,
          -0.0464964661864701,
          -0.0464964661864701,
          -0.0464964661864701,
          -0.0464964661864701,
          -0.0464964661864701,
          -0.0464964661864701,
          -0.0464964661864701,
          -0.0464964661864701,
          -0.0464964661864701,
          -0.0026198338027633213,
          -0.0026198338027633213,
          -0.0026198338027633213,
          -0.0026198338027633213,
          -0.0026198338027633213,
          -0.0026198338027633213,
          -0.0026198338027633213,
          -0.0026198338027633213,
          -0.0026198338027633213,
          -0.17805070789243452,
          -0.17805070789243452,
          -0.17805070789243452,
          -0.17805070789243452,
          -0.17805070789243452,
          -0.17805070789243452,
          -0.17805070789243452,
          -0.17805070789243452,
          -0.17805070789243452,
          -0.17805070789243452,
          -0.07729573056582104,
          -0.07729573056582104,
          -0.07729573056582104,
          -0.07729573056582104,
          -0.07729573056582104,
          -0.07729573056582104,
          -0.07729573056582104,
          -0.07729573056582104,
          -0.07729573056582104,
          -0.07729573056582104
         ],
         "yaxis": "y"
        },
        {
         "customdata": [
          [
           "Spitting Off the Edge of the World"
          ],
          [
           "Lovebomb"
          ],
          [
           "Wolf"
          ],
          [
           "Fleez"
          ],
          [
           "Burning"
          ],
          [
           "Blacktop"
          ],
          [
           "Different Today"
          ],
          [
           "Mars"
          ],
          [
           "Rich"
          ],
          [
           "Date With The Night"
          ],
          [
           "Man"
          ],
          [
           "Tick"
          ],
          [
           "Black Tongue"
          ],
          [
           "Pin"
          ],
          [
           "Cold Light"
          ],
          [
           "No No No"
          ],
          [
           "Maps"
          ],
          [
           "Y Control"
          ],
          [
           "Modern Romance"
          ],
          [
           "Poor Song"
          ],
          [
           "Zero"
          ],
          [
           "Heads Will Roll"
          ],
          [
           "Soft Shock"
          ],
          [
           "Skeletons"
          ],
          [
           "Dull Life"
          ],
          [
           "Shame And Fortune"
          ],
          [
           "Runaway"
          ],
          [
           "Dragon Queen"
          ],
          [
           "Hysteric"
          ],
          [
           "Little Shadow"
          ],
          [
           "Sacrilege"
          ],
          [
           "Subway"
          ],
          [
           "Mosquito"
          ],
          [
           "Under The Earth"
          ],
          [
           "Slave"
          ],
          [
           "These Paths"
          ],
          [
           "Area 52"
          ],
          [
           "Buried Alive"
          ],
          [
           "Always"
          ],
          [
           "Despair"
          ],
          [
           "Wedding Song"
          ],
          [
           "Subway - NOLA Demo"
          ],
          [
           "Gold Lion"
          ],
          [
           "Way Out"
          ],
          [
           "Fancy"
          ],
          [
           "Phenomena"
          ],
          [
           "Honeybear"
          ],
          [
           "Cheated Hearts"
          ],
          [
           "Dudley"
          ],
          [
           "Mysteries"
          ],
          [
           "Sweets"
          ],
          [
           "Warrior"
          ],
          [
           "Turn Into"
          ]
         ],
         "hovertemplate": "artist=Yeah Yeah Yeahs<br>danceability=%{x}<br>sentiment=%{y}<br>title=%{customdata[0]}<extra></extra>",
         "legendgroup": "Yeah Yeah Yeahs",
         "marker": {
          "color": "#FECB52",
          "symbol": "circle"
         },
         "mode": "markers",
         "name": "Yeah Yeah Yeahs",
         "orientation": "v",
         "showlegend": true,
         "type": "scatter",
         "x": [
          0.413,
          0.243,
          0.576,
          0.698,
          0.528,
          0.683,
          0.46,
          0.574,
          0.547,
          0.473,
          0.231,
          0.533,
          0.52,
          0.68,
          0.283,
          0.352,
          0.502,
          0.427,
          0.324,
          0.555,
          0.504,
          0.562,
          0.598,
          0.234,
          0.386,
          0.5,
          0.425,
          0.633,
          0.573,
          0.38,
          0.527,
          0.378,
          0.53,
          0.448,
          0.464,
          0.35,
          0.37,
          0.501,
          0.498,
          0.524,
          0.255,
          0.575,
          0.521,
          0.674,
          0.504,
          0.501,
          0.623,
          0.582,
          0.499,
          0.215,
          0.366,
          0.442,
          0.493
         ],
         "xaxis": "x",
         "y": [
          -0.24914790618902874,
          -0.24914790618902874,
          -0.24914790618902874,
          -0.24914790618902874,
          -0.24914790618902874,
          -0.24914790618902874,
          -0.24914790618902874,
          -0.24914790618902874,
          -0.36306824970079304,
          -0.36306824970079304,
          -0.36306824970079304,
          -0.36306824970079304,
          -0.36306824970079304,
          -0.36306824970079304,
          -0.36306824970079304,
          -0.36306824970079304,
          -0.36306824970079304,
          -0.36306824970079304,
          -0.36306824970079304,
          -0.36306824970079304,
          -0.5058484209470344,
          -0.5058484209470344,
          -0.5058484209470344,
          -0.5058484209470344,
          -0.5058484209470344,
          -0.5058484209470344,
          -0.5058484209470344,
          -0.5058484209470344,
          -0.5058484209470344,
          -0.5058484209470344,
          -0.23473969003984874,
          -0.23473969003984874,
          -0.23473969003984874,
          -0.23473969003984874,
          -0.23473969003984874,
          -0.23473969003984874,
          -0.23473969003984874,
          -0.23473969003984874,
          -0.23473969003984874,
          -0.23473969003984874,
          -0.23473969003984874,
          -0.23473969003984874,
          -0.20757531268436274,
          -0.20757531268436274,
          -0.20757531268436274,
          -0.20757531268436274,
          -0.20757531268436274,
          -0.20757531268436274,
          -0.20757531268436274,
          -0.20757531268436274,
          -0.20757531268436274,
          -0.20757531268436274,
          -0.20757531268436274
         ],
         "yaxis": "y"
        },
        {
         "customdata": [
          [
           "Abducted"
          ],
          [
           "Go Outside"
          ],
          [
           "You Know What I Mean"
          ],
          [
           "Most Wanted"
          ],
          [
           "Walk At Night"
          ],
          [
           "Never Heal Myself"
          ],
          [
           "Oh My God"
          ],
          [
           "Never Saw The Point"
          ],
          [
           "Bad Things"
          ],
          [
           "Bumper"
          ],
          [
           "Rave On"
          ],
          [
           "Bad Things - Slowed Down"
          ],
          [
           "Trials"
          ],
          [
           "8th Avenue"
          ],
          [
           "Spit You Out"
          ],
          [
           "A Low"
          ],
          [
           "No Risk"
          ],
          [
           "Working It Over"
          ],
          [
           "A Purgatory"
          ],
          [
           "Like I Do"
          ],
          [
           "Masquerading"
          ],
          [
           "Honest Love"
          ],
          [
           "Shoulders To My Feet"
          ],
          [
           "Monolithic"
          ],
          [
           "Offering"
          ],
          [
           "I Took Your Picture"
          ],
          [
           "With My Eyes Closed"
          ],
          [
           "Recovery"
          ],
          [
           "Right Words"
          ],
          [
           "Good Religion"
          ],
          [
           "Natural State"
          ],
          [
           "Nothing Is Written"
          ],
          [
           "Talk in Circles"
          ],
          [
           "Clear from Far Away"
          ],
          [
           "Gilded Lily"
          ],
          [
           "I Know"
          ],
          [
           "I Can Hardly Make You Mine"
          ],
          [
           "Always Forever"
          ],
          [
           "High Road"
          ],
          [
           "Were Before"
          ],
          [
           "So Far"
          ],
          [
           "Keep Your Head Up"
          ],
          [
           "TV Dream"
          ],
          [
           "We've Got It"
          ],
          [
           "Shine a Light"
          ],
          [
           "No Hope"
          ]
         ],
         "hovertemplate": "artist=Cults<br>danceability=%{x}<br>sentiment=%{y}<br>title=%{customdata[0]}<extra></extra>",
         "legendgroup": "Cults",
         "marker": {
          "color": "#636efa",
          "symbol": "circle"
         },
         "mode": "markers",
         "name": "Cults",
         "orientation": "v",
         "showlegend": true,
         "type": "scatter",
         "x": [
          0.374,
          0.375,
          0.317,
          0.654,
          0.628,
          0.52,
          0.392,
          0.523,
          0.346,
          0.649,
          0.436,
          0.167,
          0.691,
          0.524,
          0.558,
          0.498,
          0.616,
          0.549,
          0.331,
          0.602,
          0.506,
          0.401,
          0.454,
          0.443,
          0.399,
          0.516,
          0.355,
          0.532,
          0.564,
          0.43,
          0.446,
          0.519,
          0.28,
          0.553,
          0.4,
          0.102,
          0.438,
          0.174,
          0.582,
          0.507,
          0.358,
          0.328,
          0.179,
          0.436,
          0.385,
          0.383
         ],
         "xaxis": "x",
         "y": [
          -0.11882545265914214,
          -0.11882545265914214,
          -0.11882545265914214,
          -0.11882545265914214,
          -0.11882545265914214,
          -0.11882545265914214,
          -0.11882545265914214,
          -0.11882545265914214,
          -0.11882545265914214,
          -0.11882545265914214,
          -0.11882545265914214,
          -0.11882545265914214,
          -0.03934625813769379,
          -0.03934625813769379,
          -0.03934625813769379,
          -0.03934625813769379,
          -0.03934625813769379,
          -0.03934625813769379,
          -0.03934625813769379,
          -0.03934625813769379,
          -0.03934625813769379,
          -0.03934625813769379,
          -0.03934625813769379,
          -0.03934625813769379,
          -0.08760383907009042,
          -0.08760383907009042,
          -0.08760383907009042,
          -0.08760383907009042,
          -0.08760383907009042,
          -0.08760383907009042,
          -0.08760383907009042,
          -0.08760383907009042,
          -0.08760383907009042,
          -0.08760383907009042,
          -0.08760383907009042,
          0.018138324432411177,
          0.018138324432411177,
          0.018138324432411177,
          0.018138324432411177,
          0.018138324432411177,
          0.018138324432411177,
          0.018138324432411177,
          0.018138324432411177,
          0.018138324432411177,
          0.018138324432411177,
          0.018138324432411177
         ],
         "yaxis": "y"
        },
        {
         "customdata": [
          [
           "Welcome To My Island"
          ],
          [
           "Pretty In Possible"
          ],
          [
           "Bunny Is A Rider"
          ],
          [
           "Sunset"
          ],
          [
           "Crude Drawing Of An Angel"
          ],
          [
           "I Believe"
          ],
          [
           "Blood And Butter"
          ],
          [
           "Hopedrunk Everasking"
          ],
          [
           "Butterfly Net"
          ],
          [
           "Smoke"
          ],
          [
           "Billions"
          ],
          [
           "The Gate"
          ],
          [
           "Pang"
          ],
          [
           "New Normal"
          ],
          [
           "Hit Me Where It Hurts"
          ],
          [
           "I Give Up"
          ],
          [
           "Look At Me Now"
          ],
          [
           "Insomnia"
          ],
          [
           "Ocean of Tears"
          ],
          [
           "Hey Big Eyes"
          ],
          [
           "Go As a Dream"
          ],
          [
           "Caroline Shut Up"
          ],
          [
           "So Hot You're Hurting My Feelings"
          ],
          [
           "Door"
          ],
          [
           "Parachute"
          ]
         ],
         "hovertemplate": "artist=Caroline Polachek<br>danceability=%{x}<br>sentiment=%{y}<br>title=%{customdata[0]}<extra></extra>",
         "legendgroup": "Caroline Polachek",
         "marker": {
          "color": "#EF553B",
          "symbol": "circle"
         },
         "mode": "markers",
         "name": "Caroline Polachek",
         "orientation": "v",
         "showlegend": true,
         "type": "scatter",
         "x": [
          0.692,
          0.706,
          0.796,
          0.643,
          0.591,
          0.67,
          0.589,
          0.257,
          0.57,
          0.657,
          0.579,
          0.176,
          0.707,
          0.688,
          0.732,
          0.788,
          0.564,
          0.231,
          0.572,
          0.537,
          0.63,
          0.548,
          0.795,
          0.684,
          0.2
         ],
         "xaxis": "x",
         "y": [
          0.16261860212995474,
          0.16261860212995474,
          0.16261860212995474,
          0.16261860212995474,
          0.16261860212995474,
          0.16261860212995474,
          0.16261860212995474,
          0.16261860212995474,
          0.16261860212995474,
          0.16261860212995474,
          0.16261860212995474,
          -0.15120888614777647,
          -0.15120888614777647,
          -0.15120888614777647,
          -0.15120888614777647,
          -0.15120888614777647,
          -0.15120888614777647,
          -0.15120888614777647,
          -0.15120888614777647,
          -0.15120888614777647,
          -0.15120888614777647,
          -0.15120888614777647,
          -0.15120888614777647,
          -0.15120888614777647,
          -0.15120888614777647
         ],
         "yaxis": "y"
        },
        {
         "customdata": [
          [
           "Daydream"
          ],
          [
           "Sears Roebuck M&Ms"
          ],
          [
           "Crown"
          ],
          [
           "Aquarium"
          ],
          [
           "Plain Speech"
          ],
          [
           "Electric Balloon"
          ],
          [
           "PRPL"
          ],
          [
           "Hold U"
          ],
          [
           "Judy"
          ],
          [
           "Genesee"
          ],
          [
           "Ab Ovo"
          ],
          [
           "Ice Level"
          ],
          [
           "Wrenning Day"
          ],
          [
           "Sequential Holdings"
          ],
          [
           "Down Right"
          ],
          [
           "Company"
          ],
          [
           "Tenderize"
          ],
          [
           "Steve Polyester"
          ],
          [
           "Roses and Cherries"
          ],
          [
           "Coat Of Shellac"
          ],
          [
           "Black Dog"
          ],
          [
           "Best Hexagon"
          ],
          [
           "Billz"
          ],
          [
           "Victoria"
          ],
          [
           "Carbon"
          ],
          [
           "Accessible"
          ],
          [
           "Centerline"
          ],
          [
           "Childish"
          ],
          [
           "Leaf"
          ],
          [
           "Mine"
          ],
          [
           "Moon 2"
          ],
          [
           "Deli Run"
          ],
          [
           "Set It Off"
          ],
          [
           "Walking with an Enemy"
          ],
          [
           "Unless"
          ],
          [
           "On Its Side the Fallen"
          ]
         ],
         "hovertemplate": "artist=Ava Luna<br>danceability=%{x}<br>sentiment=%{y}<br>title=%{customdata[0]}<extra></extra>",
         "legendgroup": "Ava Luna",
         "marker": {
          "color": "#00cc96",
          "symbol": "circle"
         },
         "mode": "markers",
         "name": "Ava Luna",
         "orientation": "v",
         "showlegend": true,
         "type": "scatter",
         "x": [
          0.688,
          0.835,
          0.545,
          0.588,
          0.6,
          0.887,
          0.677,
          0.705,
          0.408,
          0.645,
          0.723,
          0.462,
          0.665,
          0.631,
          0.659,
          0.546,
          0.784,
          0.619,
          0.753,
          0.714,
          0.317,
          0.512,
          0.618,
          0.437,
          0.671,
          0.842,
          0.787,
          0.845,
          0.947,
          0.721,
          0.829,
          0.768,
          0.764,
          0.646,
          0.816,
          0.593
         ],
         "xaxis": "x",
         "y": [
          0.13787551987429236,
          0.13787551987429236,
          0.13787551987429236,
          0.13787551987429236,
          0.13787551987429236,
          0.13787551987429236,
          0.13787551987429236,
          0.13787551987429236,
          0.13787551987429236,
          0.13787551987429236,
          0.13787551987429236,
          -0.09152655390136838,
          -0.09152655390136838,
          -0.09152655390136838,
          -0.09152655390136838,
          0.12246742234005809,
          0.12246742234005809,
          0.12246742234005809,
          0.12246742234005809,
          0.12246742234005809,
          0.12246742234005809,
          0.12246742234005809,
          0.12246742234005809,
          0.12246742234005809,
          0.12246742234005809,
          -0.18314088440208084,
          -0.18314088440208084,
          -0.18314088440208084,
          -0.18314088440208084,
          -0.18314088440208084,
          -0.18314088440208084,
          -0.18314088440208084,
          -0.18314088440208084,
          -0.18314088440208084,
          -0.18314088440208084,
          -0.18314088440208084
         ],
         "yaxis": "y"
        },
        {
         "customdata": [
          [
           "Never Ending Circles"
          ],
          [
           "Leave a Trace"
          ],
          [
           "Keep You On My Side"
          ],
          [
           "Make Them Gold"
          ],
          [
           "Clearest Blue"
          ],
          [
           "High Enough to Carry You Over"
          ],
          [
           "Empty Threat"
          ],
          [
           "Down Side of Me"
          ],
          [
           "Playing Dead"
          ],
          [
           "Bury It"
          ],
          [
           "Afterglow"
          ],
          [
           "Graffiti"
          ],
          [
           "Get Out"
          ],
          [
           "Deliverance"
          ],
          [
           "My Enemy"
          ],
          [
           "Forever"
          ],
          [
           "Never Say Die"
          ],
          [
           "Miracle"
          ],
          [
           "Graves"
          ],
          [
           "Heaven/Hell"
          ],
          [
           "God's Plan"
          ],
          [
           "Really Gone"
          ],
          [
           "ii"
          ],
          [
           "Wonderland"
          ],
          [
           "The Mother We Share"
          ],
          [
           "We Sink"
          ],
          [
           "Gun"
          ],
          [
           "Tether"
          ],
          [
           "Lies"
          ],
          [
           "Under the Tide"
          ],
          [
           "Recover"
          ],
          [
           "Night Sky"
          ],
          [
           "Science/Visions"
          ],
          [
           "Lungs"
          ],
          [
           "By the Throat"
          ],
          [
           "You Caught the Light"
          ],
          [
           "Strong Hand"
          ],
          [
           "Broken Bones"
          ],
          [
           "Gun - KDA Remix"
          ]
         ],
         "hovertemplate": "artist=CHVRCHES<br>danceability=%{x}<br>sentiment=%{y}<br>title=%{customdata[0]}<extra></extra>",
         "legendgroup": "CHVRCHES",
         "marker": {
          "color": "#ab63fa",
          "symbol": "circle"
         },
         "mode": "markers",
         "name": "CHVRCHES",
         "orientation": "v",
         "showlegend": true,
         "type": "scatter",
         "x": [
          0.512,
          0.6,
          0.665,
          0.613,
          0.643,
          0.642,
          0.675,
          0.587,
          0.562,
          0.63,
          0.235,
          0.472,
          0.486,
          0.565,
          0.56,
          0.437,
          0.534,
          0.573,
          0.549,
          0.611,
          0.502,
          0.537,
          0.486,
          0.49,
          0.45,
          0.61,
          0.659,
          0.47,
          0.537,
          0.477,
          0.416,
          0.616,
          0.438,
          0.704,
          0.637,
          0.479,
          0.548,
          0.658,
          0.79
         ],
         "xaxis": "x",
         "y": [
          -0.17244388655976908,
          -0.17244388655976908,
          -0.17244388655976908,
          -0.17244388655976908,
          -0.17244388655976908,
          -0.17244388655976908,
          -0.17244388655976908,
          -0.17244388655976908,
          -0.17244388655976908,
          -0.17244388655976908,
          -0.17244388655976908,
          -0.03324564196719104,
          -0.03324564196719104,
          -0.03324564196719104,
          -0.03324564196719104,
          -0.03324564196719104,
          -0.03324564196719104,
          -0.03324564196719104,
          -0.03324564196719104,
          -0.03324564196719104,
          -0.03324564196719104,
          -0.03324564196719104,
          -0.03324564196719104,
          -0.03324564196719104,
          0.031512355029548314,
          0.031512355029548314,
          0.031512355029548314,
          0.031512355029548314,
          0.031512355029548314,
          0.031512355029548314,
          0.031512355029548314,
          0.031512355029548314,
          0.031512355029548314,
          0.031512355029548314,
          0.031512355029548314,
          0.031512355029548314,
          0.031512355029548314,
          0.031512355029548314,
          0.031512355029548314
         ],
         "yaxis": "y"
        },
        {
         "customdata": [
          [
           "Sunday Morning"
          ],
          [
           "Casings"
          ],
          [
           "Lilies"
          ],
          [
           "Head in the Wall"
          ],
          [
           "Knuckle Velvet"
          ],
          [
           "Golden Age"
          ],
          [
           "Crush"
          ],
          [
           "Unpunishable"
          ],
          [
           "Inbred"
          ],
          [
           "Two-Headed Mother"
          ],
          [
           "Family Tree (Intro)"
          ],
          [
           "American Teenager"
          ],
          [
           "A House In Nebraska"
          ],
          [
           "Western Nights"
          ],
          [
           "Family Tree"
          ],
          [
           "Hard Times"
          ],
          [
           "Thoroughfare"
          ],
          [
           "Gibson Girl"
          ],
          [
           "Ptolemaea"
          ],
          [
           "Sun Bleached Flies"
          ],
          [
           "Strangers"
          ]
         ],
         "hovertemplate": "artist=Ethel Cain<br>danceability=%{x}<br>sentiment=%{y}<br>title=%{customdata[0]}<extra></extra>",
         "legendgroup": "Ethel Cain",
         "marker": {
          "color": "#FFA15A",
          "symbol": "circle"
         },
         "mode": "markers",
         "name": "Ethel Cain",
         "orientation": "v",
         "showlegend": true,
         "type": "scatter",
         "x": [
          0.355,
          0.367,
          0.435,
          0.272,
          0.472,
          0.261,
          0.529,
          0.413,
          0.23,
          0.394,
          0.256,
          0.415,
          0.245,
          0.423,
          0.239,
          0.492,
          0.549,
          0.287,
          0.281,
          0.269,
          0.373
         ],
         "xaxis": "x",
         "y": [
          -0.0895596939081652,
          -0.0895596939081652,
          -0.0895596939081652,
          -0.0895596939081652,
          -0.0895596939081652,
          -0.0895596939081652,
          -0.07384986996172777,
          -0.07384986996172777,
          -0.07384986996172777,
          -0.07384986996172777,
          -0.05283135940336932,
          -0.05283135940336932,
          -0.05283135940336932,
          -0.05283135940336932,
          -0.05283135940336932,
          -0.05283135940336932,
          -0.05283135940336932,
          -0.05283135940336932,
          -0.05283135940336932,
          -0.05283135940336932,
          -0.05283135940336932
         ],
         "yaxis": "y"
        },
        {
         "customdata": [
          [
           "Daniel"
          ],
          [
           "Stop"
          ],
          [
           "Bad Street"
          ],
          [
           "Space Babe"
          ],
          [
           "Kimmi In a Rice Field"
          ],
          [
           "Luna's Theme"
          ],
          [
           "Spain"
          ],
          [
           "Gene Ciampi"
          ],
          [
           "Saturday Sunday"
          ],
          [
           "Eastern Green"
          ],
          [
           "Sensitive"
          ],
          [
           "Rude Boy"
          ],
          [
           "In the House of Yes"
          ],
          [
           "Blush"
          ],
          [
           "Out of the Dark"
          ],
          [
           "Twelve Angels"
          ],
          [
           "Crime Scene"
          ]
         ],
         "hovertemplate": "artist=Mr. Twin Sister<br>danceability=%{x}<br>sentiment=%{y}<br>title=%{customdata[0]}<extra></extra>",
         "legendgroup": "Mr. Twin Sister",
         "marker": {
          "color": "#19d3f3",
          "symbol": "circle"
         },
         "mode": "markers",
         "name": "Mr. Twin Sister",
         "orientation": "v",
         "showlegend": true,
         "type": "scatter",
         "x": [
          0.557,
          0.66,
          0.792,
          0.605,
          0.5,
          0.277,
          0.33,
          0.666,
          0.621,
          0.291,
          0.465,
          0.752,
          0.695,
          0.295,
          0.866,
          0.379,
          0.334
         ],
         "xaxis": "x",
         "y": [
          0.09737158555942411,
          0.09737158555942411,
          0.09737158555942411,
          0.09737158555942411,
          0.09737158555942411,
          0.09737158555942411,
          0.09737158555942411,
          0.09737158555942411,
          0.09737158555942411,
          0.09737158555942411,
          0.05081393453529192,
          0.05081393453529192,
          0.05081393453529192,
          0.05081393453529192,
          0.05081393453529192,
          0.05081393453529192,
          0.05081393453529192
         ],
         "yaxis": "y"
        },
        {
         "customdata": [
          [
           "Pendulum"
          ],
          [
           "Dream the Dare"
          ],
          [
           "Evergreener"
          ],
          [
           "Twins"
          ],
          [
           "Only Lonely Lovers"
          ],
          [
           "Scotty"
          ],
          [
           "Temples of the Moon"
          ],
          [
           "Thin Growing Thing"
          ],
          [
           "Devotion"
          ],
          [
           "Veil"
          ],
          [
           "Black Starling"
          ],
          [
           "Ad Victoriam"
          ],
          [
           "All Night"
          ],
          [
           "Moonrise"
          ],
          [
           "Remember"
          ],
          [
           "Joyous Lake"
          ],
          [
           "Violet a Voyager"
          ],
          [
           "The Tower"
          ],
          [
           "Pray for Rain"
          ],
          [
           "Palest Pearl"
          ],
          [
           "Clover"
          ],
          [
           "Darling, Save Us"
          ],
          [
           "Singer"
          ],
          [
           "She Shakes"
          ],
          [
           "Maximilian's Ring"
          ],
          [
           "I Trace Your Symbol"
          ],
          [
           "In the Night, in the Peaceful Night"
          ]
         ],
         "hovertemplate": "artist=Pure Bathing Culture<br>danceability=%{x}<br>sentiment=%{y}<br>title=%{customdata[0]}<extra></extra>",
         "legendgroup": "Pure Bathing Culture",
         "marker": {
          "color": "#FF6692",
          "symbol": "circle"
         },
         "mode": "markers",
         "name": "Pure Bathing Culture",
         "orientation": "v",
         "showlegend": true,
         "type": "scatter",
         "x": [
          0.582,
          0.388,
          0.343,
          0.599,
          0.534,
          0.511,
          0.373,
          0.43,
          0.554,
          0.174,
          0.502,
          0.457,
          0.445,
          0.613,
          0.538,
          0.559,
          0.522,
          0.688,
          0.561,
          0.684,
          0.6,
          0.623,
          0.644,
          0.613,
          0.587,
          0.598,
          0.688
         ],
         "xaxis": "x",
         "y": [
          -0.38993547840953724,
          -0.38993547840953724,
          -0.38993547840953724,
          -0.38993547840953724,
          -0.38993547840953724,
          -0.38993547840953724,
          -0.38993547840953724,
          -0.07214322261537438,
          -0.07214322261537438,
          -0.07214322261537438,
          -0.07214322261537438,
          -0.07214322261537438,
          -0.07214322261537438,
          -0.07214322261537438,
          -0.07214322261537438,
          -0.07214322261537438,
          -0.07214322261537438,
          -0.06843654202773479,
          -0.06843654202773479,
          -0.06843654202773479,
          -0.06843654202773479,
          -0.06843654202773479,
          -0.06843654202773479,
          -0.06843654202773479,
          -0.06843654202773479,
          -0.06843654202773479,
          -0.06843654202773479
         ],
         "yaxis": "y"
        },
        {
         "customdata": [
          [
           "Barbie Nation"
          ],
          [
           "Nasty Girls"
          ],
          [
           "Happy With Me"
          ],
          [
           "Tell Me How It Is"
          ],
          [
           "Running Behind"
          ],
          [
           "Money All Around"
          ],
          [
           "Monumental Glow"
          ],
          [
           "Plastered Smile"
          ],
          [
           "Best Friends"
          ],
          [
           "Diamonds On the Rebound"
          ],
          [
           "Regret You"
          ],
          [
           "U Make Me Sick"
          ],
          [
           "Over You"
          ],
          [
           "Number One"
          ],
          [
           "Hundred Thousand Hearts"
          ],
          [
           "Raining Romance"
          ],
          [
           "Haunt Me In The Night"
          ],
          [
           "Carmelo"
          ],
          [
           "Fight For Me"
          ],
          [
           "Patron Saint"
          ],
          [
           "Saturday"
          ],
          [
           "Wishing You Away"
          ]
         ],
         "hovertemplate": "artist=Holychild<br>danceability=%{x}<br>sentiment=%{y}<br>title=%{customdata[0]}<extra></extra>",
         "legendgroup": "Holychild",
         "marker": {
          "color": "#B6E880",
          "symbol": "circle"
         },
         "mode": "markers",
         "name": "Holychild",
         "orientation": "v",
         "showlegend": true,
         "type": "scatter",
         "x": [
          0.534,
          0.718,
          0.817,
          0.683,
          0.739,
          0.668,
          0.73,
          0.71,
          0.635,
          0.66,
          0.712,
          0.819,
          0.485,
          0.659,
          0.604,
          0.577,
          0.487,
          0.836,
          0.458,
          0.675,
          0.457,
          0.697
         ],
         "xaxis": "x",
         "y": [
          -0.03697223969538118,
          -0.03697223969538118,
          -0.03697223969538118,
          -0.03697223969538118,
          -0.03697223969538118,
          -0.03697223969538118,
          -0.03697223969538118,
          -0.03697223969538118,
          -0.03697223969538118,
          -0.03697223969538118,
          -0.03697223969538118,
          -0.03697223969538118,
          -0.05155631115046843,
          -0.05155631115046843,
          -0.05155631115046843,
          -0.05155631115046843,
          -0.05155631115046843,
          -0.05155631115046843,
          -0.05155631115046843,
          -0.05155631115046843,
          -0.05155631115046843,
          -0.05155631115046843
         ],
         "yaxis": "y"
        }
       ],
       "layout": {
        "legend": {
         "title": {
          "text": "artist"
         },
         "tracegroupgap": 0
        },
        "template": {
         "data": {
          "bar": [
           {
            "error_x": {
             "color": "#2a3f5f"
            },
            "error_y": {
             "color": "#2a3f5f"
            },
            "marker": {
             "line": {
              "color": "#E5ECF6",
              "width": 0.5
             },
             "pattern": {
              "fillmode": "overlay",
              "size": 10,
              "solidity": 0.2
             }
            },
            "type": "bar"
           }
          ],
          "barpolar": [
           {
            "marker": {
             "line": {
              "color": "#E5ECF6",
              "width": 0.5
             },
             "pattern": {
              "fillmode": "overlay",
              "size": 10,
              "solidity": 0.2
             }
            },
            "type": "barpolar"
           }
          ],
          "carpet": [
           {
            "aaxis": {
             "endlinecolor": "#2a3f5f",
             "gridcolor": "white",
             "linecolor": "white",
             "minorgridcolor": "white",
             "startlinecolor": "#2a3f5f"
            },
            "baxis": {
             "endlinecolor": "#2a3f5f",
             "gridcolor": "white",
             "linecolor": "white",
             "minorgridcolor": "white",
             "startlinecolor": "#2a3f5f"
            },
            "type": "carpet"
           }
          ],
          "choropleth": [
           {
            "colorbar": {
             "outlinewidth": 0,
             "ticks": ""
            },
            "type": "choropleth"
           }
          ],
          "contour": [
           {
            "colorbar": {
             "outlinewidth": 0,
             "ticks": ""
            },
            "colorscale": [
             [
              0,
              "#0d0887"
             ],
             [
              0.1111111111111111,
              "#46039f"
             ],
             [
              0.2222222222222222,
              "#7201a8"
             ],
             [
              0.3333333333333333,
              "#9c179e"
             ],
             [
              0.4444444444444444,
              "#bd3786"
             ],
             [
              0.5555555555555556,
              "#d8576b"
             ],
             [
              0.6666666666666666,
              "#ed7953"
             ],
             [
              0.7777777777777778,
              "#fb9f3a"
             ],
             [
              0.8888888888888888,
              "#fdca26"
             ],
             [
              1,
              "#f0f921"
             ]
            ],
            "type": "contour"
           }
          ],
          "contourcarpet": [
           {
            "colorbar": {
             "outlinewidth": 0,
             "ticks": ""
            },
            "type": "contourcarpet"
           }
          ],
          "heatmap": [
           {
            "colorbar": {
             "outlinewidth": 0,
             "ticks": ""
            },
            "colorscale": [
             [
              0,
              "#0d0887"
             ],
             [
              0.1111111111111111,
              "#46039f"
             ],
             [
              0.2222222222222222,
              "#7201a8"
             ],
             [
              0.3333333333333333,
              "#9c179e"
             ],
             [
              0.4444444444444444,
              "#bd3786"
             ],
             [
              0.5555555555555556,
              "#d8576b"
             ],
             [
              0.6666666666666666,
              "#ed7953"
             ],
             [
              0.7777777777777778,
              "#fb9f3a"
             ],
             [
              0.8888888888888888,
              "#fdca26"
             ],
             [
              1,
              "#f0f921"
             ]
            ],
            "type": "heatmap"
           }
          ],
          "heatmapgl": [
           {
            "colorbar": {
             "outlinewidth": 0,
             "ticks": ""
            },
            "colorscale": [
             [
              0,
              "#0d0887"
             ],
             [
              0.1111111111111111,
              "#46039f"
             ],
             [
              0.2222222222222222,
              "#7201a8"
             ],
             [
              0.3333333333333333,
              "#9c179e"
             ],
             [
              0.4444444444444444,
              "#bd3786"
             ],
             [
              0.5555555555555556,
              "#d8576b"
             ],
             [
              0.6666666666666666,
              "#ed7953"
             ],
             [
              0.7777777777777778,
              "#fb9f3a"
             ],
             [
              0.8888888888888888,
              "#fdca26"
             ],
             [
              1,
              "#f0f921"
             ]
            ],
            "type": "heatmapgl"
           }
          ],
          "histogram": [
           {
            "marker": {
             "pattern": {
              "fillmode": "overlay",
              "size": 10,
              "solidity": 0.2
             }
            },
            "type": "histogram"
           }
          ],
          "histogram2d": [
           {
            "colorbar": {
             "outlinewidth": 0,
             "ticks": ""
            },
            "colorscale": [
             [
              0,
              "#0d0887"
             ],
             [
              0.1111111111111111,
              "#46039f"
             ],
             [
              0.2222222222222222,
              "#7201a8"
             ],
             [
              0.3333333333333333,
              "#9c179e"
             ],
             [
              0.4444444444444444,
              "#bd3786"
             ],
             [
              0.5555555555555556,
              "#d8576b"
             ],
             [
              0.6666666666666666,
              "#ed7953"
             ],
             [
              0.7777777777777778,
              "#fb9f3a"
             ],
             [
              0.8888888888888888,
              "#fdca26"
             ],
             [
              1,
              "#f0f921"
             ]
            ],
            "type": "histogram2d"
           }
          ],
          "histogram2dcontour": [
           {
            "colorbar": {
             "outlinewidth": 0,
             "ticks": ""
            },
            "colorscale": [
             [
              0,
              "#0d0887"
             ],
             [
              0.1111111111111111,
              "#46039f"
             ],
             [
              0.2222222222222222,
              "#7201a8"
             ],
             [
              0.3333333333333333,
              "#9c179e"
             ],
             [
              0.4444444444444444,
              "#bd3786"
             ],
             [
              0.5555555555555556,
              "#d8576b"
             ],
             [
              0.6666666666666666,
              "#ed7953"
             ],
             [
              0.7777777777777778,
              "#fb9f3a"
             ],
             [
              0.8888888888888888,
              "#fdca26"
             ],
             [
              1,
              "#f0f921"
             ]
            ],
            "type": "histogram2dcontour"
           }
          ],
          "mesh3d": [
           {
            "colorbar": {
             "outlinewidth": 0,
             "ticks": ""
            },
            "type": "mesh3d"
           }
          ],
          "parcoords": [
           {
            "line": {
             "colorbar": {
              "outlinewidth": 0,
              "ticks": ""
             }
            },
            "type": "parcoords"
           }
          ],
          "pie": [
           {
            "automargin": true,
            "type": "pie"
           }
          ],
          "scatter": [
           {
            "fillpattern": {
             "fillmode": "overlay",
             "size": 10,
             "solidity": 0.2
            },
            "type": "scatter"
           }
          ],
          "scatter3d": [
           {
            "line": {
             "colorbar": {
              "outlinewidth": 0,
              "ticks": ""
             }
            },
            "marker": {
             "colorbar": {
              "outlinewidth": 0,
              "ticks": ""
             }
            },
            "type": "scatter3d"
           }
          ],
          "scattercarpet": [
           {
            "marker": {
             "colorbar": {
              "outlinewidth": 0,
              "ticks": ""
             }
            },
            "type": "scattercarpet"
           }
          ],
          "scattergeo": [
           {
            "marker": {
             "colorbar": {
              "outlinewidth": 0,
              "ticks": ""
             }
            },
            "type": "scattergeo"
           }
          ],
          "scattergl": [
           {
            "marker": {
             "colorbar": {
              "outlinewidth": 0,
              "ticks": ""
             }
            },
            "type": "scattergl"
           }
          ],
          "scattermapbox": [
           {
            "marker": {
             "colorbar": {
              "outlinewidth": 0,
              "ticks": ""
             }
            },
            "type": "scattermapbox"
           }
          ],
          "scatterpolar": [
           {
            "marker": {
             "colorbar": {
              "outlinewidth": 0,
              "ticks": ""
             }
            },
            "type": "scatterpolar"
           }
          ],
          "scatterpolargl": [
           {
            "marker": {
             "colorbar": {
              "outlinewidth": 0,
              "ticks": ""
             }
            },
            "type": "scatterpolargl"
           }
          ],
          "scatterternary": [
           {
            "marker": {
             "colorbar": {
              "outlinewidth": 0,
              "ticks": ""
             }
            },
            "type": "scatterternary"
           }
          ],
          "surface": [
           {
            "colorbar": {
             "outlinewidth": 0,
             "ticks": ""
            },
            "colorscale": [
             [
              0,
              "#0d0887"
             ],
             [
              0.1111111111111111,
              "#46039f"
             ],
             [
              0.2222222222222222,
              "#7201a8"
             ],
             [
              0.3333333333333333,
              "#9c179e"
             ],
             [
              0.4444444444444444,
              "#bd3786"
             ],
             [
              0.5555555555555556,
              "#d8576b"
             ],
             [
              0.6666666666666666,
              "#ed7953"
             ],
             [
              0.7777777777777778,
              "#fb9f3a"
             ],
             [
              0.8888888888888888,
              "#fdca26"
             ],
             [
              1,
              "#f0f921"
             ]
            ],
            "type": "surface"
           }
          ],
          "table": [
           {
            "cells": {
             "fill": {
              "color": "#EBF0F8"
             },
             "line": {
              "color": "white"
             }
            },
            "header": {
             "fill": {
              "color": "#C8D4E3"
             },
             "line": {
              "color": "white"
             }
            },
            "type": "table"
           }
          ]
         },
         "layout": {
          "annotationdefaults": {
           "arrowcolor": "#2a3f5f",
           "arrowhead": 0,
           "arrowwidth": 1
          },
          "autotypenumbers": "strict",
          "coloraxis": {
           "colorbar": {
            "outlinewidth": 0,
            "ticks": ""
           }
          },
          "colorscale": {
           "diverging": [
            [
             0,
             "#8e0152"
            ],
            [
             0.1,
             "#c51b7d"
            ],
            [
             0.2,
             "#de77ae"
            ],
            [
             0.3,
             "#f1b6da"
            ],
            [
             0.4,
             "#fde0ef"
            ],
            [
             0.5,
             "#f7f7f7"
            ],
            [
             0.6,
             "#e6f5d0"
            ],
            [
             0.7,
             "#b8e186"
            ],
            [
             0.8,
             "#7fbc41"
            ],
            [
             0.9,
             "#4d9221"
            ],
            [
             1,
             "#276419"
            ]
           ],
           "sequential": [
            [
             0,
             "#0d0887"
            ],
            [
             0.1111111111111111,
             "#46039f"
            ],
            [
             0.2222222222222222,
             "#7201a8"
            ],
            [
             0.3333333333333333,
             "#9c179e"
            ],
            [
             0.4444444444444444,
             "#bd3786"
            ],
            [
             0.5555555555555556,
             "#d8576b"
            ],
            [
             0.6666666666666666,
             "#ed7953"
            ],
            [
             0.7777777777777778,
             "#fb9f3a"
            ],
            [
             0.8888888888888888,
             "#fdca26"
            ],
            [
             1,
             "#f0f921"
            ]
           ],
           "sequentialminus": [
            [
             0,
             "#0d0887"
            ],
            [
             0.1111111111111111,
             "#46039f"
            ],
            [
             0.2222222222222222,
             "#7201a8"
            ],
            [
             0.3333333333333333,
             "#9c179e"
            ],
            [
             0.4444444444444444,
             "#bd3786"
            ],
            [
             0.5555555555555556,
             "#d8576b"
            ],
            [
             0.6666666666666666,
             "#ed7953"
            ],
            [
             0.7777777777777778,
             "#fb9f3a"
            ],
            [
             0.8888888888888888,
             "#fdca26"
            ],
            [
             1,
             "#f0f921"
            ]
           ]
          },
          "colorway": [
           "#636efa",
           "#EF553B",
           "#00cc96",
           "#ab63fa",
           "#FFA15A",
           "#19d3f3",
           "#FF6692",
           "#B6E880",
           "#FF97FF",
           "#FECB52"
          ],
          "font": {
           "color": "#2a3f5f"
          },
          "geo": {
           "bgcolor": "white",
           "lakecolor": "white",
           "landcolor": "#E5ECF6",
           "showlakes": true,
           "showland": true,
           "subunitcolor": "white"
          },
          "hoverlabel": {
           "align": "left"
          },
          "hovermode": "closest",
          "mapbox": {
           "style": "light"
          },
          "paper_bgcolor": "white",
          "plot_bgcolor": "#E5ECF6",
          "polar": {
           "angularaxis": {
            "gridcolor": "white",
            "linecolor": "white",
            "ticks": ""
           },
           "bgcolor": "#E5ECF6",
           "radialaxis": {
            "gridcolor": "white",
            "linecolor": "white",
            "ticks": ""
           }
          },
          "scene": {
           "xaxis": {
            "backgroundcolor": "#E5ECF6",
            "gridcolor": "white",
            "gridwidth": 2,
            "linecolor": "white",
            "showbackground": true,
            "ticks": "",
            "zerolinecolor": "white"
           },
           "yaxis": {
            "backgroundcolor": "#E5ECF6",
            "gridcolor": "white",
            "gridwidth": 2,
            "linecolor": "white",
            "showbackground": true,
            "ticks": "",
            "zerolinecolor": "white"
           },
           "zaxis": {
            "backgroundcolor": "#E5ECF6",
            "gridcolor": "white",
            "gridwidth": 2,
            "linecolor": "white",
            "showbackground": true,
            "ticks": "",
            "zerolinecolor": "white"
           }
          },
          "shapedefaults": {
           "line": {
            "color": "#2a3f5f"
           }
          },
          "ternary": {
           "aaxis": {
            "gridcolor": "white",
            "linecolor": "white",
            "ticks": ""
           },
           "baxis": {
            "gridcolor": "white",
            "linecolor": "white",
            "ticks": ""
           },
           "bgcolor": "#E5ECF6",
           "caxis": {
            "gridcolor": "white",
            "linecolor": "white",
            "ticks": ""
           }
          },
          "title": {
           "x": 0.05
          },
          "xaxis": {
           "automargin": true,
           "gridcolor": "white",
           "linecolor": "white",
           "ticks": "",
           "title": {
            "standoff": 15
           },
           "zerolinecolor": "white",
           "zerolinewidth": 2
          },
          "yaxis": {
           "automargin": true,
           "gridcolor": "white",
           "linecolor": "white",
           "ticks": "",
           "title": {
            "standoff": 15
           },
           "zerolinecolor": "white",
           "zerolinewidth": 2
          }
         }
        },
        "title": {
         "text": "Song Sentiment vs. Danceability"
        },
        "xaxis": {
         "anchor": "y",
         "domain": [
          0,
          1
         ],
         "title": {
          "text": "danceability"
         }
        },
        "yaxis": {
         "anchor": "x",
         "domain": [
          0,
          1
         ],
         "title": {
          "text": "sentiment"
         }
        }
       }
      }
     },
     "metadata": {},
     "output_type": "display_data"
    }
   ],
   "source": [
    "px.scatter(SONG_LIB, x='danceability', y='sentiment', color='artist', title='Song Sentiment vs. Danceability', hover_data='title')\n",
    "# plot.set_title('Song Sentiment vs. Danceability')\n",
    "# sns.move_legend(plot, 'upper left', bbox_to_anchor=(1, 1))"
   ]
  },
  {
   "cell_type": "markdown",
   "metadata": {},
   "source": [
    "Danceability describes how suitable a track is for dancing based on a combination of musical elements including tempo, rhythm stability, beat strength, and overall regularity. A value of 0.0 is least danceable and 1.0 is most danceable."
   ]
  },
  {
   "cell_type": "markdown",
   "metadata": {},
   "source": [
    "## Save tables"
   ]
  },
  {
   "cell_type": "code",
   "execution_count": 98,
   "metadata": {},
   "outputs": [],
   "source": [
    "VOCAB_SENT.to_csv('../tables/VOCAB_SENT.csv', sep='|')\n",
    "BOW_SENT_ALBUM.to_csv('../tables/BOW_SENT_ALBUM.csv', sep='|')\n",
    "ALBUM_SENT.to_csv('../tables/ALBUM_SENT.csv', sep='|')\n",
    "BOW_SENT_SONG.to_csv('../tables/BOW_SENT_SONG.csv', sep='|')\n",
    "SONG_SENT.to_csv('../tables/SONG_SENT.csv', sep='|')"
   ]
  }
 ],
 "metadata": {
  "kernelspec": {
   "display_name": "ds-6001",
   "language": "python",
   "name": "python3"
  },
  "language_info": {
   "codemirror_mode": {
    "name": "ipython",
    "version": 3
   },
   "file_extension": ".py",
   "mimetype": "text/x-python",
   "name": "python",
   "nbconvert_exporter": "python",
   "pygments_lexer": "ipython3",
   "version": "3.10.12"
  }
 },
 "nbformat": 4,
 "nbformat_minor": 2
}

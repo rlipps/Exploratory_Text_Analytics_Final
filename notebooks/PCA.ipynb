{
 "cells": [
  {
   "cell_type": "markdown",
   "metadata": {},
   "source": [
    "# PCA Notebook\n",
    "Note we're using song as the bag for these tables"
   ]
  },
  {
   "cell_type": "markdown",
   "metadata": {},
   "source": [
    "## Setup"
   ]
  },
  {
   "cell_type": "code",
   "execution_count": 1,
   "metadata": {},
   "outputs": [],
   "source": [
    "import numpy as np\n",
    "import pandas as pd\n",
    "import plotly_express as px\n",
    "from sklearn.decomposition import PCA\n",
    "from scipy.linalg import norm, eigh\n",
    "\n",
    "OHCO = ['album_id', 'song_num', 'stanza_num', 'line_num', 'token_num']\n",
    "colors = 'YlGnBu'"
   ]
  },
  {
   "cell_type": "markdown",
   "metadata": {},
   "source": [
    "## Functions"
   ]
  },
  {
   "cell_type": "code",
   "execution_count": 2,
   "metadata": {},
   "outputs": [],
   "source": [
    "def get_PCA(X:pd.DataFrame, k:int, norm_docs=True, center_by_mean=False, center_by_variance=False) -> tuple:\n",
    "    '''\n",
    "    Function to compute PCA on a given document-term count matrix.\n",
    "\n",
    "    PARAMETERS:\n",
    "\n",
    "    X - pandas `DataFrame` representing document-term count matrix to perform PCA on\n",
    "\n",
    "    k - int number of principal components to return\n",
    "\n",
    "    norm_docs - bool (defaults to True) of whether to normalize document length. Uses L2 norm\n",
    "\n",
    "    center_by_mean - bool (defaults to False) of whether to center term vectors by column mean. Uses pandas `.cov()` method\n",
    "\n",
    "    center_by_variance - bool (defaults to False) of whether to center term vectors by column variance. Uses pandas `.cov()` method\n",
    "\n",
    "    \n",
    "    OUTPUTS:\n",
    "\n",
    "    LOADINGS - pandas `DataFrame` representing term-component matrix\n",
    "\n",
    "    DCM - pandas `DataFrame` representing document-component matrix\n",
    "\n",
    "    COMPINF - pandas `DataFrame` representing component information\n",
    "    '''\n",
    "\n",
    "    # Input handling to ensure only one centering method is used\n",
    "    if (center_by_mean and center_by_variance):\n",
    "        raise SyntaxError('Cannot center by both mean and variance')\n",
    "    \n",
    "    # Normalize docs\n",
    "    if (norm_docs):\n",
    "        tfidf = (X.T/norm(X, 2, axis=1)).T\n",
    "    else:\n",
    "        tfidf = X\n",
    "    \n",
    "    # Center by mean\n",
    "    if (center_by_mean):\n",
    "        tfidf = tfidf - tfidf.mean()\n",
    "\n",
    "    # Center by variance\n",
    "    if (center_by_variance):\n",
    "        tfidf = tfidf - tfidf.var()\n",
    "    \n",
    "    # Compute variance-covariange matrix\n",
    "    COV = tfidf.cov()\n",
    "\n",
    "    # Eigendecomposition\n",
    "    eig_vals, eig_vecs = eigh(COV)\n",
    "\n",
    "    # Convernt eigenvalues and eigenvectors into DataFrames\n",
    "    EIG_VECS = pd.DataFrame(eig_vecs, index=COV.index, columns=COV.index)\n",
    "    EIG_VALS = pd.DataFrame(eig_vals, index=COV.index, columns=['eig_val'])\n",
    "    EIG_PAIRS = EIG_VALS.join(EIG_VECS.T)\\\n",
    "        .sort_values('eig_val', ascending=False)\n",
    "    \n",
    "    EIG_PAIRS['exp_var'] = np.round((EIG_PAIRS.eig_val / EIG_PAIRS.eig_val.sum()) * 100, 2)\n",
    "\n",
    "    # Select top k components\n",
    "    COMPS = EIG_PAIRS.sort_values('exp_var', ascending=False).head(k).reset_index(drop=True)\n",
    "    COMPS.index.name = 'comp_id'\n",
    "    COMPS.index = [\"PC{}\".format(i) for i in COMPS.index.tolist()]\n",
    "    COMPS.index.name = 'pc_id'\n",
    "\n",
    "    # Create LOADINGS\n",
    "    LOADINGS = COMPS[COV.index].T\n",
    "    LOADINGS.index.name = 'term_str'\n",
    "\n",
    "    # Create DCM\n",
    "    DCM = tfidf.dot(COMPS[COV.index].T)\n",
    "\n",
    "    # Create COMPINF\n",
    "    top_terms = []\n",
    "    for i in range(k):\n",
    "        for j in [0, 1]:\n",
    "            comp_str = ' '.join(LOADINGS.sort_values(f'PC{i}', ascending=bool(j)).head(10).index.to_list())\n",
    "            top_terms.append((f\"PC{i}\", j, comp_str))\n",
    "    COMPINF = pd.DataFrame(top_terms).set_index([0,1]).unstack()\n",
    "    COMPINF.index.name = 'comp_id'\n",
    "    COMPINF.columns = COMPINF.columns.droplevel(0) \n",
    "    COMPINF = COMPINF.rename(columns={0:'pos', 1:'neg'})\n",
    "\n",
    "    return (LOADINGS, DCM, COMPINF)"
   ]
  },
  {
   "cell_type": "code",
   "execution_count": 3,
   "metadata": {},
   "outputs": [],
   "source": [
    "def vis_pcs(M, a, b, label='artist', hover_name='title', symbol=None, size=None):\n",
    "    return px.scatter(M, f\"PC{a}\", f\"PC{b}\", color=label, hover_data=['artist', 'title', 'album', 'track_number'],\n",
    "                     symbol=symbol, size=size,\n",
    "                     marginal_x='box', height=800)"
   ]
  },
  {
   "cell_type": "code",
   "execution_count": 4,
   "metadata": {},
   "outputs": [],
   "source": [
    "def vis_loadings(a=0, b=1, hover_name='term_str'):\n",
    "    X = LOADINGS.join(VOCAB)\n",
    "    #X = LOADINGS.join(VSHORT)\n",
    "    return px.scatter(X.reset_index(), f\"PC{a}\", f\"PC{b}\", \n",
    "                      text='term_str', size='i', color='max_pos', \n",
    "                      marginal_x='box', height=800)"
   ]
  },
  {
   "cell_type": "markdown",
   "metadata": {},
   "source": [
    "## Read Data"
   ]
  },
  {
   "cell_type": "code",
   "execution_count": 5,
   "metadata": {},
   "outputs": [],
   "source": [
    "LIB = pd.read_csv('../tables/LIB.csv', sep='|').set_index('album_id')\n",
    "SONG_LIB = pd.read_csv('../tables/SONG_LIB', sep='|').set_index(['album_id', 'song_num'])\n",
    "CORPUS = pd.read_csv('../tables/CORPUS.csv', sep='|').set_index(OHCO)\n",
    "VOCAB = pd.read_csv('../tables/VOCAB.csv', sep='|').set_index('term_str')\n",
    "BOW = pd.read_csv('../tables/BOW_SONG.csv', sep='|').set_index(['album_id', 'song_num', 'term_str'])\n",
    "DTCM = pd.read_csv('../tables/DTCM_SONG.csv', sep='|').set_index(OHCO[:2])\n",
    "TFIDF = pd.read_csv('../tables/TFIDF_SONG.csv', sep='|').set_index(OHCO[:2])\n",
    "TFIDF_L2 = pd.read_csv('../tables/TFIDF_L2_SONG.csv', sep='|').set_index(['album_id', 'song_num'])"
   ]
  },
  {
   "cell_type": "markdown",
   "metadata": {},
   "source": [
    "### Set column indices where relevant"
   ]
  },
  {
   "cell_type": "code",
   "execution_count": 6,
   "metadata": {},
   "outputs": [],
   "source": [
    "DTCM.columns.name = 'term_str'\n",
    "TFIDF.columns.name = 'term_str'\n",
    "TFIDF_L2.columns.name = 'term_str'"
   ]
  },
  {
   "cell_type": "code",
   "execution_count": 7,
   "metadata": {},
   "outputs": [
    {
     "data": {
      "text/html": [
       "<div>\n",
       "<style scoped>\n",
       "    .dataframe tbody tr th:only-of-type {\n",
       "        vertical-align: middle;\n",
       "    }\n",
       "\n",
       "    .dataframe tbody tr th {\n",
       "        vertical-align: top;\n",
       "    }\n",
       "\n",
       "    .dataframe thead th {\n",
       "        text-align: right;\n",
       "    }\n",
       "</style>\n",
       "<table border=\"1\" class=\"dataframe\">\n",
       "  <thead>\n",
       "    <tr style=\"text-align: right;\">\n",
       "      <th></th>\n",
       "      <th>term_str</th>\n",
       "      <th>admit</th>\n",
       "      <th>afraid</th>\n",
       "      <th>again</th>\n",
       "      <th>ahead</th>\n",
       "      <th>aint</th>\n",
       "      <th>alien</th>\n",
       "      <th>alive</th>\n",
       "      <th>almost</th>\n",
       "      <th>alone</th>\n",
       "      <th>already</th>\n",
       "      <th>...</th>\n",
       "      <th>year</th>\n",
       "      <th>years</th>\n",
       "      <th>yellow</th>\n",
       "      <th>youd</th>\n",
       "      <th>youll</th>\n",
       "      <th>young</th>\n",
       "      <th>youre</th>\n",
       "      <th>yours</th>\n",
       "      <th>youth</th>\n",
       "      <th>youve</th>\n",
       "    </tr>\n",
       "    <tr>\n",
       "      <th>album_id</th>\n",
       "      <th>song_num</th>\n",
       "      <th></th>\n",
       "      <th></th>\n",
       "      <th></th>\n",
       "      <th></th>\n",
       "      <th></th>\n",
       "      <th></th>\n",
       "      <th></th>\n",
       "      <th></th>\n",
       "      <th></th>\n",
       "      <th></th>\n",
       "      <th></th>\n",
       "      <th></th>\n",
       "      <th></th>\n",
       "      <th></th>\n",
       "      <th></th>\n",
       "      <th></th>\n",
       "      <th></th>\n",
       "      <th></th>\n",
       "      <th></th>\n",
       "      <th></th>\n",
       "      <th></th>\n",
       "    </tr>\n",
       "  </thead>\n",
       "  <tbody>\n",
       "    <tr>\n",
       "      <th rowspan=\"2\" valign=\"top\">0</th>\n",
       "      <th>0</th>\n",
       "      <td>0.080607</td>\n",
       "      <td>0.116604</td>\n",
       "      <td>0.000000</td>\n",
       "      <td>0.0</td>\n",
       "      <td>0.000000</td>\n",
       "      <td>0.0</td>\n",
       "      <td>0.0</td>\n",
       "      <td>0.0</td>\n",
       "      <td>0.0</td>\n",
       "      <td>0.059938</td>\n",
       "      <td>...</td>\n",
       "      <td>0.0</td>\n",
       "      <td>0.057292</td>\n",
       "      <td>0.0</td>\n",
       "      <td>0.000000</td>\n",
       "      <td>0.000000</td>\n",
       "      <td>0.0</td>\n",
       "      <td>0.087363</td>\n",
       "      <td>0.0</td>\n",
       "      <td>0.000000</td>\n",
       "      <td>0.000000</td>\n",
       "    </tr>\n",
       "    <tr>\n",
       "      <th>1</th>\n",
       "      <td>0.000000</td>\n",
       "      <td>0.000000</td>\n",
       "      <td>0.549158</td>\n",
       "      <td>0.0</td>\n",
       "      <td>0.000000</td>\n",
       "      <td>0.0</td>\n",
       "      <td>0.0</td>\n",
       "      <td>0.0</td>\n",
       "      <td>0.0</td>\n",
       "      <td>0.000000</td>\n",
       "      <td>...</td>\n",
       "      <td>0.0</td>\n",
       "      <td>0.000000</td>\n",
       "      <td>0.0</td>\n",
       "      <td>0.000000</td>\n",
       "      <td>0.000000</td>\n",
       "      <td>0.0</td>\n",
       "      <td>0.000000</td>\n",
       "      <td>0.0</td>\n",
       "      <td>0.000000</td>\n",
       "      <td>0.000000</td>\n",
       "    </tr>\n",
       "    <tr>\n",
       "      <th rowspan=\"3\" valign=\"top\">1</th>\n",
       "      <th>0</th>\n",
       "      <td>0.000000</td>\n",
       "      <td>0.000000</td>\n",
       "      <td>0.000000</td>\n",
       "      <td>0.0</td>\n",
       "      <td>0.000000</td>\n",
       "      <td>0.0</td>\n",
       "      <td>0.0</td>\n",
       "      <td>0.0</td>\n",
       "      <td>0.0</td>\n",
       "      <td>0.000000</td>\n",
       "      <td>...</td>\n",
       "      <td>0.0</td>\n",
       "      <td>0.000000</td>\n",
       "      <td>0.0</td>\n",
       "      <td>0.000000</td>\n",
       "      <td>0.000000</td>\n",
       "      <td>0.0</td>\n",
       "      <td>0.000000</td>\n",
       "      <td>0.0</td>\n",
       "      <td>0.000000</td>\n",
       "      <td>0.000000</td>\n",
       "    </tr>\n",
       "    <tr>\n",
       "      <th>1</th>\n",
       "      <td>0.000000</td>\n",
       "      <td>0.000000</td>\n",
       "      <td>0.000000</td>\n",
       "      <td>0.0</td>\n",
       "      <td>0.000000</td>\n",
       "      <td>0.0</td>\n",
       "      <td>0.0</td>\n",
       "      <td>0.0</td>\n",
       "      <td>0.0</td>\n",
       "      <td>0.000000</td>\n",
       "      <td>...</td>\n",
       "      <td>0.0</td>\n",
       "      <td>0.000000</td>\n",
       "      <td>0.0</td>\n",
       "      <td>0.000000</td>\n",
       "      <td>0.000000</td>\n",
       "      <td>0.0</td>\n",
       "      <td>0.000000</td>\n",
       "      <td>0.0</td>\n",
       "      <td>0.000000</td>\n",
       "      <td>0.000000</td>\n",
       "    </tr>\n",
       "    <tr>\n",
       "      <th>2</th>\n",
       "      <td>0.000000</td>\n",
       "      <td>0.000000</td>\n",
       "      <td>0.000000</td>\n",
       "      <td>0.0</td>\n",
       "      <td>0.000000</td>\n",
       "      <td>0.0</td>\n",
       "      <td>0.0</td>\n",
       "      <td>0.0</td>\n",
       "      <td>0.0</td>\n",
       "      <td>0.000000</td>\n",
       "      <td>...</td>\n",
       "      <td>0.0</td>\n",
       "      <td>0.000000</td>\n",
       "      <td>0.0</td>\n",
       "      <td>0.000000</td>\n",
       "      <td>0.000000</td>\n",
       "      <td>0.0</td>\n",
       "      <td>0.000000</td>\n",
       "      <td>0.0</td>\n",
       "      <td>0.000000</td>\n",
       "      <td>0.395009</td>\n",
       "    </tr>\n",
       "    <tr>\n",
       "      <th>...</th>\n",
       "      <th>...</th>\n",
       "      <td>...</td>\n",
       "      <td>...</td>\n",
       "      <td>...</td>\n",
       "      <td>...</td>\n",
       "      <td>...</td>\n",
       "      <td>...</td>\n",
       "      <td>...</td>\n",
       "      <td>...</td>\n",
       "      <td>...</td>\n",
       "      <td>...</td>\n",
       "      <td>...</td>\n",
       "      <td>...</td>\n",
       "      <td>...</td>\n",
       "      <td>...</td>\n",
       "      <td>...</td>\n",
       "      <td>...</td>\n",
       "      <td>...</td>\n",
       "      <td>...</td>\n",
       "      <td>...</td>\n",
       "      <td>...</td>\n",
       "      <td>...</td>\n",
       "    </tr>\n",
       "    <tr>\n",
       "      <th rowspan=\"5\" valign=\"top\">91</th>\n",
       "      <th>5</th>\n",
       "      <td>0.000000</td>\n",
       "      <td>0.000000</td>\n",
       "      <td>0.034126</td>\n",
       "      <td>0.0</td>\n",
       "      <td>0.000000</td>\n",
       "      <td>0.0</td>\n",
       "      <td>0.0</td>\n",
       "      <td>0.0</td>\n",
       "      <td>0.0</td>\n",
       "      <td>0.000000</td>\n",
       "      <td>...</td>\n",
       "      <td>0.0</td>\n",
       "      <td>0.000000</td>\n",
       "      <td>0.0</td>\n",
       "      <td>0.000000</td>\n",
       "      <td>0.038554</td>\n",
       "      <td>0.0</td>\n",
       "      <td>0.172312</td>\n",
       "      <td>0.0</td>\n",
       "      <td>0.069075</td>\n",
       "      <td>0.038753</td>\n",
       "    </tr>\n",
       "    <tr>\n",
       "      <th>6</th>\n",
       "      <td>0.000000</td>\n",
       "      <td>0.000000</td>\n",
       "      <td>0.000000</td>\n",
       "      <td>0.0</td>\n",
       "      <td>0.000000</td>\n",
       "      <td>0.0</td>\n",
       "      <td>0.0</td>\n",
       "      <td>0.0</td>\n",
       "      <td>0.0</td>\n",
       "      <td>0.000000</td>\n",
       "      <td>...</td>\n",
       "      <td>0.0</td>\n",
       "      <td>0.052607</td>\n",
       "      <td>0.0</td>\n",
       "      <td>0.000000</td>\n",
       "      <td>0.000000</td>\n",
       "      <td>0.0</td>\n",
       "      <td>0.060164</td>\n",
       "      <td>0.0</td>\n",
       "      <td>0.000000</td>\n",
       "      <td>0.040593</td>\n",
       "    </tr>\n",
       "    <tr>\n",
       "      <th>7</th>\n",
       "      <td>0.000000</td>\n",
       "      <td>0.000000</td>\n",
       "      <td>0.000000</td>\n",
       "      <td>0.0</td>\n",
       "      <td>0.000000</td>\n",
       "      <td>0.0</td>\n",
       "      <td>0.0</td>\n",
       "      <td>0.0</td>\n",
       "      <td>0.0</td>\n",
       "      <td>0.105323</td>\n",
       "      <td>...</td>\n",
       "      <td>0.0</td>\n",
       "      <td>0.000000</td>\n",
       "      <td>0.0</td>\n",
       "      <td>0.000000</td>\n",
       "      <td>0.000000</td>\n",
       "      <td>0.0</td>\n",
       "      <td>0.076757</td>\n",
       "      <td>0.0</td>\n",
       "      <td>0.000000</td>\n",
       "      <td>0.000000</td>\n",
       "    </tr>\n",
       "    <tr>\n",
       "      <th>8</th>\n",
       "      <td>0.000000</td>\n",
       "      <td>0.000000</td>\n",
       "      <td>0.000000</td>\n",
       "      <td>0.0</td>\n",
       "      <td>0.143172</td>\n",
       "      <td>0.0</td>\n",
       "      <td>0.0</td>\n",
       "      <td>0.0</td>\n",
       "      <td>0.0</td>\n",
       "      <td>0.000000</td>\n",
       "      <td>...</td>\n",
       "      <td>0.0</td>\n",
       "      <td>0.000000</td>\n",
       "      <td>0.0</td>\n",
       "      <td>0.068694</td>\n",
       "      <td>0.000000</td>\n",
       "      <td>0.0</td>\n",
       "      <td>0.049581</td>\n",
       "      <td>0.0</td>\n",
       "      <td>0.000000</td>\n",
       "      <td>0.100358</td>\n",
       "    </tr>\n",
       "    <tr>\n",
       "      <th>9</th>\n",
       "      <td>0.000000</td>\n",
       "      <td>0.000000</td>\n",
       "      <td>0.000000</td>\n",
       "      <td>0.0</td>\n",
       "      <td>0.000000</td>\n",
       "      <td>0.0</td>\n",
       "      <td>0.0</td>\n",
       "      <td>0.0</td>\n",
       "      <td>0.0</td>\n",
       "      <td>0.000000</td>\n",
       "      <td>...</td>\n",
       "      <td>0.0</td>\n",
       "      <td>0.000000</td>\n",
       "      <td>0.0</td>\n",
       "      <td>0.000000</td>\n",
       "      <td>0.000000</td>\n",
       "      <td>0.0</td>\n",
       "      <td>0.000000</td>\n",
       "      <td>0.0</td>\n",
       "      <td>0.000000</td>\n",
       "      <td>0.000000</td>\n",
       "    </tr>\n",
       "  </tbody>\n",
       "</table>\n",
       "<p>985 rows × 1000 columns</p>\n",
       "</div>"
      ],
      "text/plain": [
       "term_str              admit    afraid     again  ahead      aint  alien  \\\n",
       "album_id song_num                                                         \n",
       "0        0         0.080607  0.116604  0.000000    0.0  0.000000    0.0   \n",
       "         1         0.000000  0.000000  0.549158    0.0  0.000000    0.0   \n",
       "1        0         0.000000  0.000000  0.000000    0.0  0.000000    0.0   \n",
       "         1         0.000000  0.000000  0.000000    0.0  0.000000    0.0   \n",
       "         2         0.000000  0.000000  0.000000    0.0  0.000000    0.0   \n",
       "...                     ...       ...       ...    ...       ...    ...   \n",
       "91       5         0.000000  0.000000  0.034126    0.0  0.000000    0.0   \n",
       "         6         0.000000  0.000000  0.000000    0.0  0.000000    0.0   \n",
       "         7         0.000000  0.000000  0.000000    0.0  0.000000    0.0   \n",
       "         8         0.000000  0.000000  0.000000    0.0  0.143172    0.0   \n",
       "         9         0.000000  0.000000  0.000000    0.0  0.000000    0.0   \n",
       "\n",
       "term_str           alive  almost  alone   already  ...  year     years  \\\n",
       "album_id song_num                                  ...                   \n",
       "0        0           0.0     0.0    0.0  0.059938  ...   0.0  0.057292   \n",
       "         1           0.0     0.0    0.0  0.000000  ...   0.0  0.000000   \n",
       "1        0           0.0     0.0    0.0  0.000000  ...   0.0  0.000000   \n",
       "         1           0.0     0.0    0.0  0.000000  ...   0.0  0.000000   \n",
       "         2           0.0     0.0    0.0  0.000000  ...   0.0  0.000000   \n",
       "...                  ...     ...    ...       ...  ...   ...       ...   \n",
       "91       5           0.0     0.0    0.0  0.000000  ...   0.0  0.000000   \n",
       "         6           0.0     0.0    0.0  0.000000  ...   0.0  0.052607   \n",
       "         7           0.0     0.0    0.0  0.105323  ...   0.0  0.000000   \n",
       "         8           0.0     0.0    0.0  0.000000  ...   0.0  0.000000   \n",
       "         9           0.0     0.0    0.0  0.000000  ...   0.0  0.000000   \n",
       "\n",
       "term_str           yellow      youd     youll  young     youre  yours  \\\n",
       "album_id song_num                                                       \n",
       "0        0            0.0  0.000000  0.000000    0.0  0.087363    0.0   \n",
       "         1            0.0  0.000000  0.000000    0.0  0.000000    0.0   \n",
       "1        0            0.0  0.000000  0.000000    0.0  0.000000    0.0   \n",
       "         1            0.0  0.000000  0.000000    0.0  0.000000    0.0   \n",
       "         2            0.0  0.000000  0.000000    0.0  0.000000    0.0   \n",
       "...                   ...       ...       ...    ...       ...    ...   \n",
       "91       5            0.0  0.000000  0.038554    0.0  0.172312    0.0   \n",
       "         6            0.0  0.000000  0.000000    0.0  0.060164    0.0   \n",
       "         7            0.0  0.000000  0.000000    0.0  0.076757    0.0   \n",
       "         8            0.0  0.068694  0.000000    0.0  0.049581    0.0   \n",
       "         9            0.0  0.000000  0.000000    0.0  0.000000    0.0   \n",
       "\n",
       "term_str              youth     youve  \n",
       "album_id song_num                      \n",
       "0        0         0.000000  0.000000  \n",
       "         1         0.000000  0.000000  \n",
       "1        0         0.000000  0.000000  \n",
       "         1         0.000000  0.000000  \n",
       "         2         0.000000  0.395009  \n",
       "...                     ...       ...  \n",
       "91       5         0.069075  0.038753  \n",
       "         6         0.000000  0.040593  \n",
       "         7         0.000000  0.000000  \n",
       "         8         0.000000  0.100358  \n",
       "         9         0.000000  0.000000  \n",
       "\n",
       "[985 rows x 1000 columns]"
      ]
     },
     "execution_count": 7,
     "metadata": {},
     "output_type": "execute_result"
    }
   ],
   "source": [
    "TFIDF_L2"
   ]
  },
  {
   "cell_type": "markdown",
   "metadata": {},
   "source": [
    "### Remove NULLs from `TFIDF_L2`"
   ]
  },
  {
   "cell_type": "code",
   "execution_count": 8,
   "metadata": {},
   "outputs": [
    {
     "data": {
      "text/plain": [
       "8"
      ]
     },
     "execution_count": 8,
     "metadata": {},
     "output_type": "execute_result"
    }
   ],
   "source": [
    "a = len(TFIDF_L2)\n",
    "TFIDF_L2 = TFIDF_L2.dropna()\n",
    "b = len(TFIDF_L2)\n",
    "bag_loss = a - b\n",
    "bag_loss"
   ]
  },
  {
   "cell_type": "markdown",
   "metadata": {},
   "source": [
    "## Generate `LOADINGS`, `DCM`, and `COMPINF`"
   ]
  },
  {
   "cell_type": "code",
   "execution_count": 9,
   "metadata": {},
   "outputs": [],
   "source": [
    "LOADINGS, DCM, COMPINF = get_PCA(TFIDF_L2, k=10, norm_docs=False, center_by_mean=False, center_by_variance=False)"
   ]
  },
  {
   "cell_type": "code",
   "execution_count": 10,
   "metadata": {},
   "outputs": [
    {
     "data": {
      "text/html": [
       "<style type=\"text/css\">\n",
       "#T_a9ef8_row0_col0 {\n",
       "  background-color: #21308b;\n",
       "  color: #f1f1f1;\n",
       "}\n",
       "#T_a9ef8_row0_col1 {\n",
       "  background-color: #40b5c4;\n",
       "  color: #f1f1f1;\n",
       "}\n",
       "#T_a9ef8_row0_col2 {\n",
       "  background-color: #35aac3;\n",
       "  color: #f1f1f1;\n",
       "}\n",
       "#T_a9ef8_row0_col3 {\n",
       "  background-color: #aedfb6;\n",
       "  color: #000000;\n",
       "}\n",
       "#T_a9ef8_row0_col4 {\n",
       "  background-color: #24439b;\n",
       "  color: #f1f1f1;\n",
       "}\n",
       "#T_a9ef8_row0_col5 {\n",
       "  background-color: #24419a;\n",
       "  color: #f1f1f1;\n",
       "}\n",
       "#T_a9ef8_row0_col6, #T_a9ef8_row9_col4 {\n",
       "  background-color: #36abc3;\n",
       "  color: #f1f1f1;\n",
       "}\n",
       "#T_a9ef8_row0_col7 {\n",
       "  background-color: #1f7db6;\n",
       "  color: #f1f1f1;\n",
       "}\n",
       "#T_a9ef8_row0_col8 {\n",
       "  background-color: #1f7ab5;\n",
       "  color: #f1f1f1;\n",
       "}\n",
       "#T_a9ef8_row0_col9, #T_a9ef8_row1_col1, #T_a9ef8_row4_col9 {\n",
       "  background-color: #73c8bd;\n",
       "  color: #000000;\n",
       "}\n",
       "#T_a9ef8_row1_col0, #T_a9ef8_row1_col5, #T_a9ef8_row5_col4, #T_a9ef8_row6_col1, #T_a9ef8_row6_col2, #T_a9ef8_row7_col7, #T_a9ef8_row7_col8, #T_a9ef8_row8_col2, #T_a9ef8_row8_col3, #T_a9ef8_row8_col6, #T_a9ef8_row8_col9 {\n",
       "  background-color: #081d58;\n",
       "  color: #f1f1f1;\n",
       "}\n",
       "#T_a9ef8_row1_col2 {\n",
       "  background-color: #2fa4c2;\n",
       "  color: #f1f1f1;\n",
       "}\n",
       "#T_a9ef8_row1_col3, #T_a9ef8_row6_col4, #T_a9ef8_row8_col5 {\n",
       "  background-color: #216bae;\n",
       "  color: #f1f1f1;\n",
       "}\n",
       "#T_a9ef8_row1_col4, #T_a9ef8_row2_col1, #T_a9ef8_row2_col2, #T_a9ef8_row2_col3, #T_a9ef8_row2_col5, #T_a9ef8_row2_col6, #T_a9ef8_row2_col7, #T_a9ef8_row2_col9, #T_a9ef8_row6_col8, #T_a9ef8_row8_col0 {\n",
       "  background-color: #ffffd9;\n",
       "  color: #000000;\n",
       "}\n",
       "#T_a9ef8_row1_col6 {\n",
       "  background-color: #2075b3;\n",
       "  color: #f1f1f1;\n",
       "}\n",
       "#T_a9ef8_row1_col7 {\n",
       "  background-color: #234b9f;\n",
       "  color: #f1f1f1;\n",
       "}\n",
       "#T_a9ef8_row1_col8, #T_a9ef8_row5_col2 {\n",
       "  background-color: #289cc1;\n",
       "  color: #f1f1f1;\n",
       "}\n",
       "#T_a9ef8_row1_col9 {\n",
       "  background-color: #55bec1;\n",
       "  color: #000000;\n",
       "}\n",
       "#T_a9ef8_row2_col0 {\n",
       "  background-color: #c6e9b4;\n",
       "  color: #000000;\n",
       "}\n",
       "#T_a9ef8_row2_col4 {\n",
       "  background-color: #46b8c3;\n",
       "  color: #f1f1f1;\n",
       "}\n",
       "#T_a9ef8_row2_col8 {\n",
       "  background-color: #243f99;\n",
       "  color: #f1f1f1;\n",
       "}\n",
       "#T_a9ef8_row3_col0, #T_a9ef8_row6_col5 {\n",
       "  background-color: #11246b;\n",
       "  color: #f1f1f1;\n",
       "}\n",
       "#T_a9ef8_row3_col1 {\n",
       "  background-color: #216aad;\n",
       "  color: #f1f1f1;\n",
       "}\n",
       "#T_a9ef8_row3_col2 {\n",
       "  background-color: #42b6c4;\n",
       "  color: #f1f1f1;\n",
       "}\n",
       "#T_a9ef8_row3_col3 {\n",
       "  background-color: #daf0b3;\n",
       "  color: #000000;\n",
       "}\n",
       "#T_a9ef8_row3_col4 {\n",
       "  background-color: #0d2163;\n",
       "  color: #f1f1f1;\n",
       "}\n",
       "#T_a9ef8_row3_col5 {\n",
       "  background-color: #24489d;\n",
       "  color: #f1f1f1;\n",
       "}\n",
       "#T_a9ef8_row3_col6 {\n",
       "  background-color: #269bc1;\n",
       "  color: #f1f1f1;\n",
       "}\n",
       "#T_a9ef8_row3_col7 {\n",
       "  background-color: #2397c1;\n",
       "  color: #f1f1f1;\n",
       "}\n",
       "#T_a9ef8_row3_col8 {\n",
       "  background-color: #253b97;\n",
       "  color: #f1f1f1;\n",
       "}\n",
       "#T_a9ef8_row3_col9 {\n",
       "  background-color: #6dc6be;\n",
       "  color: #000000;\n",
       "}\n",
       "#T_a9ef8_row4_col0 {\n",
       "  background-color: #203089;\n",
       "  color: #f1f1f1;\n",
       "}\n",
       "#T_a9ef8_row4_col1 {\n",
       "  background-color: #37acc3;\n",
       "  color: #f1f1f1;\n",
       "}\n",
       "#T_a9ef8_row4_col2 {\n",
       "  background-color: #57bec1;\n",
       "  color: #000000;\n",
       "}\n",
       "#T_a9ef8_row4_col3 {\n",
       "  background-color: #6bc6be;\n",
       "  color: #000000;\n",
       "}\n",
       "#T_a9ef8_row4_col4, #T_a9ef8_row8_col4 {\n",
       "  background-color: #1f2f87;\n",
       "  color: #f1f1f1;\n",
       "}\n",
       "#T_a9ef8_row4_col5, #T_a9ef8_row7_col0 {\n",
       "  background-color: #1c2d81;\n",
       "  color: #f1f1f1;\n",
       "}\n",
       "#T_a9ef8_row4_col6 {\n",
       "  background-color: #ecf7b1;\n",
       "  color: #000000;\n",
       "}\n",
       "#T_a9ef8_row4_col7 {\n",
       "  background-color: #99d7b8;\n",
       "  color: #000000;\n",
       "}\n",
       "#T_a9ef8_row4_col8, #T_a9ef8_row5_col1 {\n",
       "  background-color: #b0e0b6;\n",
       "  color: #000000;\n",
       "}\n",
       "#T_a9ef8_row5_col0 {\n",
       "  background-color: #206eb0;\n",
       "  color: #f1f1f1;\n",
       "}\n",
       "#T_a9ef8_row5_col3 {\n",
       "  background-color: #d9f0b3;\n",
       "  color: #000000;\n",
       "}\n",
       "#T_a9ef8_row5_col5 {\n",
       "  background-color: #2354a3;\n",
       "  color: #f1f1f1;\n",
       "}\n",
       "#T_a9ef8_row5_col6 {\n",
       "  background-color: #d0edb3;\n",
       "  color: #000000;\n",
       "}\n",
       "#T_a9ef8_row5_col7 {\n",
       "  background-color: #1d90c0;\n",
       "  color: #f1f1f1;\n",
       "}\n",
       "#T_a9ef8_row5_col8, #T_a9ef8_row7_col4 {\n",
       "  background-color: #2259a6;\n",
       "  color: #f1f1f1;\n",
       "}\n",
       "#T_a9ef8_row5_col9, #T_a9ef8_row6_col7 {\n",
       "  background-color: #7acbbc;\n",
       "  color: #000000;\n",
       "}\n",
       "#T_a9ef8_row6_col0 {\n",
       "  background-color: #1f82b9;\n",
       "  color: #f1f1f1;\n",
       "}\n",
       "#T_a9ef8_row6_col3 {\n",
       "  background-color: #d1edb3;\n",
       "  color: #000000;\n",
       "}\n",
       "#T_a9ef8_row6_col6 {\n",
       "  background-color: #5bc0c0;\n",
       "  color: #000000;\n",
       "}\n",
       "#T_a9ef8_row6_col9 {\n",
       "  background-color: #1e8abd;\n",
       "  color: #f1f1f1;\n",
       "}\n",
       "#T_a9ef8_row7_col1 {\n",
       "  background-color: #75c9bd;\n",
       "  color: #000000;\n",
       "}\n",
       "#T_a9ef8_row7_col2 {\n",
       "  background-color: #d6efb3;\n",
       "  color: #000000;\n",
       "}\n",
       "#T_a9ef8_row7_col3 {\n",
       "  background-color: #b7e3b6;\n",
       "  color: #000000;\n",
       "}\n",
       "#T_a9ef8_row7_col5 {\n",
       "  background-color: #1e2e85;\n",
       "  color: #f1f1f1;\n",
       "}\n",
       "#T_a9ef8_row7_col6 {\n",
       "  background-color: #69c5be;\n",
       "  color: #000000;\n",
       "}\n",
       "#T_a9ef8_row7_col9 {\n",
       "  background-color: #87d0ba;\n",
       "  color: #000000;\n",
       "}\n",
       "#T_a9ef8_row8_col1 {\n",
       "  background-color: #f8fcc9;\n",
       "  color: #000000;\n",
       "}\n",
       "#T_a9ef8_row8_col7 {\n",
       "  background-color: #32a6c2;\n",
       "  color: #f1f1f1;\n",
       "}\n",
       "#T_a9ef8_row8_col8 {\n",
       "  background-color: #1e8bbd;\n",
       "  color: #f1f1f1;\n",
       "}\n",
       "#T_a9ef8_row9_col0 {\n",
       "  background-color: #2355a4;\n",
       "  color: #f1f1f1;\n",
       "}\n",
       "#T_a9ef8_row9_col1 {\n",
       "  background-color: #e2f4b2;\n",
       "  color: #000000;\n",
       "}\n",
       "#T_a9ef8_row9_col2 {\n",
       "  background-color: #c0e6b5;\n",
       "  color: #000000;\n",
       "}\n",
       "#T_a9ef8_row9_col3 {\n",
       "  background-color: #92d5b9;\n",
       "  color: #000000;\n",
       "}\n",
       "#T_a9ef8_row9_col5 {\n",
       "  background-color: #1a2b7e;\n",
       "  color: #f1f1f1;\n",
       "}\n",
       "#T_a9ef8_row9_col6 {\n",
       "  background-color: #c9eab4;\n",
       "  color: #000000;\n",
       "}\n",
       "#T_a9ef8_row9_col7 {\n",
       "  background-color: #3aaec3;\n",
       "  color: #f1f1f1;\n",
       "}\n",
       "#T_a9ef8_row9_col8 {\n",
       "  background-color: #172976;\n",
       "  color: #f1f1f1;\n",
       "}\n",
       "#T_a9ef8_row9_col9 {\n",
       "  background-color: #80cebb;\n",
       "  color: #000000;\n",
       "}\n",
       "</style>\n",
       "<table id=\"T_a9ef8\">\n",
       "  <thead>\n",
       "    <tr>\n",
       "      <th class=\"index_name level0\" >pc_id</th>\n",
       "      <th id=\"T_a9ef8_level0_col0\" class=\"col_heading level0 col0\" >PC0</th>\n",
       "      <th id=\"T_a9ef8_level0_col1\" class=\"col_heading level0 col1\" >PC1</th>\n",
       "      <th id=\"T_a9ef8_level0_col2\" class=\"col_heading level0 col2\" >PC2</th>\n",
       "      <th id=\"T_a9ef8_level0_col3\" class=\"col_heading level0 col3\" >PC3</th>\n",
       "      <th id=\"T_a9ef8_level0_col4\" class=\"col_heading level0 col4\" >PC4</th>\n",
       "      <th id=\"T_a9ef8_level0_col5\" class=\"col_heading level0 col5\" >PC5</th>\n",
       "      <th id=\"T_a9ef8_level0_col6\" class=\"col_heading level0 col6\" >PC6</th>\n",
       "      <th id=\"T_a9ef8_level0_col7\" class=\"col_heading level0 col7\" >PC7</th>\n",
       "      <th id=\"T_a9ef8_level0_col8\" class=\"col_heading level0 col8\" >PC8</th>\n",
       "      <th id=\"T_a9ef8_level0_col9\" class=\"col_heading level0 col9\" >PC9</th>\n",
       "    </tr>\n",
       "    <tr>\n",
       "      <th class=\"index_name level0\" >term_str</th>\n",
       "      <th class=\"blank col0\" >&nbsp;</th>\n",
       "      <th class=\"blank col1\" >&nbsp;</th>\n",
       "      <th class=\"blank col2\" >&nbsp;</th>\n",
       "      <th class=\"blank col3\" >&nbsp;</th>\n",
       "      <th class=\"blank col4\" >&nbsp;</th>\n",
       "      <th class=\"blank col5\" >&nbsp;</th>\n",
       "      <th class=\"blank col6\" >&nbsp;</th>\n",
       "      <th class=\"blank col7\" >&nbsp;</th>\n",
       "      <th class=\"blank col8\" >&nbsp;</th>\n",
       "      <th class=\"blank col9\" >&nbsp;</th>\n",
       "    </tr>\n",
       "  </thead>\n",
       "  <tbody>\n",
       "    <tr>\n",
       "      <th id=\"T_a9ef8_level0_row0\" class=\"row_heading level0 row0\" >admit</th>\n",
       "      <td id=\"T_a9ef8_row0_col0\" class=\"data row0 col0\" >0.002451</td>\n",
       "      <td id=\"T_a9ef8_row0_col1\" class=\"data row0 col1\" >-0.000686</td>\n",
       "      <td id=\"T_a9ef8_row0_col2\" class=\"data row0 col2\" >-0.002238</td>\n",
       "      <td id=\"T_a9ef8_row0_col3\" class=\"data row0 col3\" >0.004360</td>\n",
       "      <td id=\"T_a9ef8_row0_col4\" class=\"data row0 col4\" >0.000151</td>\n",
       "      <td id=\"T_a9ef8_row0_col5\" class=\"data row0 col5\" >0.002594</td>\n",
       "      <td id=\"T_a9ef8_row0_col6\" class=\"data row0 col6\" >0.000301</td>\n",
       "      <td id=\"T_a9ef8_row0_col7\" class=\"data row0 col7\" >0.004247</td>\n",
       "      <td id=\"T_a9ef8_row0_col8\" class=\"data row0 col8\" >-0.003283</td>\n",
       "      <td id=\"T_a9ef8_row0_col9\" class=\"data row0 col9\" >-0.000771</td>\n",
       "    </tr>\n",
       "    <tr>\n",
       "      <th id=\"T_a9ef8_level0_row1\" class=\"row_heading level0 row1\" >afraid</th>\n",
       "      <td id=\"T_a9ef8_row1_col0\" class=\"data row1 col0\" >0.007607</td>\n",
       "      <td id=\"T_a9ef8_row1_col1\" class=\"data row1 col1\" >-0.007014</td>\n",
       "      <td id=\"T_a9ef8_row1_col2\" class=\"data row1 col2\" >-0.001308</td>\n",
       "      <td id=\"T_a9ef8_row1_col3\" class=\"data row1 col3\" >0.041637</td>\n",
       "      <td id=\"T_a9ef8_row1_col4\" class=\"data row1 col4\" >-0.043310</td>\n",
       "      <td id=\"T_a9ef8_row1_col5\" class=\"data row1 col5\" >0.027658</td>\n",
       "      <td id=\"T_a9ef8_row1_col6\" class=\"data row1 col6\" >0.013895</td>\n",
       "      <td id=\"T_a9ef8_row1_col7\" class=\"data row1 col7\" >0.020932</td>\n",
       "      <td id=\"T_a9ef8_row1_col8\" class=\"data row1 col8\" >-0.015388</td>\n",
       "      <td id=\"T_a9ef8_row1_col9\" class=\"data row1 col9\" >0.004629</td>\n",
       "    </tr>\n",
       "    <tr>\n",
       "      <th id=\"T_a9ef8_level0_row2\" class=\"row_heading level0 row2\" >again</th>\n",
       "      <td id=\"T_a9ef8_row2_col0\" class=\"data row2 col0\" >-0.028124</td>\n",
       "      <td id=\"T_a9ef8_row2_col1\" class=\"data row2 col1\" >-0.032547</td>\n",
       "      <td id=\"T_a9ef8_row2_col2\" class=\"data row2 col2\" >-0.030773</td>\n",
       "      <td id=\"T_a9ef8_row2_col3\" class=\"data row2 col3\" >-0.022023</td>\n",
       "      <td id=\"T_a9ef8_row2_col4\" class=\"data row2 col4\" >-0.017743</td>\n",
       "      <td id=\"T_a9ef8_row2_col5\" class=\"data row2 col5\" >-0.124288</td>\n",
       "      <td id=\"T_a9ef8_row2_col6\" class=\"data row2 col6\" >-0.046008</td>\n",
       "      <td id=\"T_a9ef8_row2_col7\" class=\"data row2 col7\" >-0.081565</td>\n",
       "      <td id=\"T_a9ef8_row2_col8\" class=\"data row2 col8\" >0.018272</td>\n",
       "      <td id=\"T_a9ef8_row2_col9\" class=\"data row2 col9\" >-0.037316</td>\n",
       "    </tr>\n",
       "    <tr>\n",
       "      <th id=\"T_a9ef8_level0_row3\" class=\"row_heading level0 row3\" >ahead</th>\n",
       "      <td id=\"T_a9ef8_row3_col0\" class=\"data row3 col0\" >0.005677</td>\n",
       "      <td id=\"T_a9ef8_row3_col1\" class=\"data row3 col1\" >0.013225</td>\n",
       "      <td id=\"T_a9ef8_row3_col2\" class=\"data row3 col2\" >-0.004436</td>\n",
       "      <td id=\"T_a9ef8_row3_col3\" class=\"data row3 col3\" >-0.005088</td>\n",
       "      <td id=\"T_a9ef8_row3_col4\" class=\"data row3 col4\" >0.007706</td>\n",
       "      <td id=\"T_a9ef8_row3_col5\" class=\"data row3 col5\" >-0.000516</td>\n",
       "      <td id=\"T_a9ef8_row3_col6\" class=\"data row3 col6\" >0.005099</td>\n",
       "      <td id=\"T_a9ef8_row3_col7\" class=\"data row3 col7\" >-0.004896</td>\n",
       "      <td id=\"T_a9ef8_row3_col8\" class=\"data row3 col8\" >0.019412</td>\n",
       "      <td id=\"T_a9ef8_row3_col9\" class=\"data row3 col9\" >0.000356</td>\n",
       "    </tr>\n",
       "    <tr>\n",
       "      <th id=\"T_a9ef8_level0_row4\" class=\"row_heading level0 row4\" >aint</th>\n",
       "      <td id=\"T_a9ef8_row4_col0\" class=\"data row4 col0\" >0.002635</td>\n",
       "      <td id=\"T_a9ef8_row4_col1\" class=\"data row4 col1\" >0.001359</td>\n",
       "      <td id=\"T_a9ef8_row4_col2\" class=\"data row4 col2\" >-0.006889</td>\n",
       "      <td id=\"T_a9ef8_row4_col3\" class=\"data row4 col3\" >0.015119</td>\n",
       "      <td id=\"T_a9ef8_row4_col4\" class=\"data row4 col4\" >0.003780</td>\n",
       "      <td id=\"T_a9ef8_row4_col5\" class=\"data row4 col5\" >0.014053</td>\n",
       "      <td id=\"T_a9ef8_row4_col6\" class=\"data row4 col6\" >-0.034688</td>\n",
       "      <td id=\"T_a9ef8_row4_col7\" class=\"data row4 col7\" >-0.039753</td>\n",
       "      <td id=\"T_a9ef8_row4_col8\" class=\"data row4 col8\" >-0.054490</td>\n",
       "      <td id=\"T_a9ef8_row4_col9\" class=\"data row4 col9\" >-0.000657</td>\n",
       "    </tr>\n",
       "    <tr>\n",
       "      <th id=\"T_a9ef8_level0_row5\" class=\"row_heading level0 row5\" >alien</th>\n",
       "      <td id=\"T_a9ef8_row5_col0\" class=\"data row5 col0\" >-0.006210</td>\n",
       "      <td id=\"T_a9ef8_row5_col1\" class=\"data row5 col1\" >-0.014133</td>\n",
       "      <td id=\"T_a9ef8_row5_col2\" class=\"data row5 col2\" >0.000295</td>\n",
       "      <td id=\"T_a9ef8_row5_col3\" class=\"data row5 col3\" >-0.004746</td>\n",
       "      <td id=\"T_a9ef8_row5_col4\" class=\"data row5 col4\" >0.008999</td>\n",
       "      <td id=\"T_a9ef8_row5_col5\" class=\"data row5 col5\" >-0.006129</td>\n",
       "      <td id=\"T_a9ef8_row5_col6\" class=\"data row5 col6\" >-0.027080</td>\n",
       "      <td id=\"T_a9ef8_row5_col7\" class=\"data row5 col7\" >-0.001546</td>\n",
       "      <td id=\"T_a9ef8_row5_col8\" class=\"data row5 col8\" >0.007760</td>\n",
       "      <td id=\"T_a9ef8_row5_col9\" class=\"data row5 col9\" >-0.002238</td>\n",
       "    </tr>\n",
       "    <tr>\n",
       "      <th id=\"T_a9ef8_level0_row6\" class=\"row_heading level0 row6\" >alive</th>\n",
       "      <td id=\"T_a9ef8_row6_col0\" class=\"data row6 col0\" >-0.008496</td>\n",
       "      <td id=\"T_a9ef8_row6_col1\" class=\"data row6 col1\" >0.031024</td>\n",
       "      <td id=\"T_a9ef8_row6_col2\" class=\"data row6 col2\" >0.021922</td>\n",
       "      <td id=\"T_a9ef8_row6_col3\" class=\"data row6 col3\" >-0.002677</td>\n",
       "      <td id=\"T_a9ef8_row6_col4\" class=\"data row6 col4\" >-0.005897</td>\n",
       "      <td id=\"T_a9ef8_row6_col5\" class=\"data row6 col5\" >0.021213</td>\n",
       "      <td id=\"T_a9ef8_row6_col6\" class=\"data row6 col6\" >-0.007178</td>\n",
       "      <td id=\"T_a9ef8_row6_col7\" class=\"data row6 col7\" >-0.032587</td>\n",
       "      <td id=\"T_a9ef8_row6_col8\" class=\"data row6 col8\" >-0.093107</td>\n",
       "      <td id=\"T_a9ef8_row6_col9\" class=\"data row6 col9\" >0.021352</td>\n",
       "    </tr>\n",
       "    <tr>\n",
       "      <th id=\"T_a9ef8_level0_row7\" class=\"row_heading level0 row7\" >almost</th>\n",
       "      <td id=\"T_a9ef8_row7_col0\" class=\"data row7 col0\" >0.003419</td>\n",
       "      <td id=\"T_a9ef8_row7_col1\" class=\"data row7 col1\" >-0.007330</td>\n",
       "      <td id=\"T_a9ef8_row7_col2\" class=\"data row7 col2\" >-0.020146</td>\n",
       "      <td id=\"T_a9ef8_row7_col3\" class=\"data row7 col3\" >0.002769</td>\n",
       "      <td id=\"T_a9ef8_row7_col4\" class=\"data row7 col4\" >-0.003448</td>\n",
       "      <td id=\"T_a9ef8_row7_col5\" class=\"data row7 col5\" >0.013014</td>\n",
       "      <td id=\"T_a9ef8_row7_col6\" class=\"data row7 col6\" >-0.009655</td>\n",
       "      <td id=\"T_a9ef8_row7_col7\" class=\"data row7 col7\" >0.045796</td>\n",
       "      <td id=\"T_a9ef8_row7_col8\" class=\"data row7 col8\" >0.039020</td>\n",
       "      <td id=\"T_a9ef8_row7_col9\" class=\"data row7 col9\" >-0.004275</td>\n",
       "    </tr>\n",
       "    <tr>\n",
       "      <th id=\"T_a9ef8_level0_row8\" class=\"row_heading level0 row8\" >alone</th>\n",
       "      <td id=\"T_a9ef8_row8_col0\" class=\"data row8 col0\" >-0.040164</td>\n",
       "      <td id=\"T_a9ef8_row8_col1\" class=\"data row8 col1\" >-0.029219</td>\n",
       "      <td id=\"T_a9ef8_row8_col2\" class=\"data row8 col2\" >0.021885</td>\n",
       "      <td id=\"T_a9ef8_row8_col3\" class=\"data row8 col3\" >0.066907</td>\n",
       "      <td id=\"T_a9ef8_row8_col4\" class=\"data row8 col4\" >0.003694</td>\n",
       "      <td id=\"T_a9ef8_row8_col5\" class=\"data row8 col5\" >-0.015398</td>\n",
       "      <td id=\"T_a9ef8_row8_col6\" class=\"data row8 col6\" >0.040454</td>\n",
       "      <td id=\"T_a9ef8_row8_col7\" class=\"data row8 col7\" >-0.011203</td>\n",
       "      <td id=\"T_a9ef8_row8_col8\" class=\"data row8 col8\" >-0.008539</td>\n",
       "      <td id=\"T_a9ef8_row8_col9\" class=\"data row8 col9\" >0.054039</td>\n",
       "    </tr>\n",
       "    <tr>\n",
       "      <th id=\"T_a9ef8_level0_row9\" class=\"row_heading level0 row9\" >already</th>\n",
       "      <td id=\"T_a9ef8_row9_col0\" class=\"data row9 col0\" >-0.003187</td>\n",
       "      <td id=\"T_a9ef8_row9_col1\" class=\"data row9 col1\" >-0.022285</td>\n",
       "      <td id=\"T_a9ef8_row9_col2\" class=\"data row9 col2\" >-0.016907</td>\n",
       "      <td id=\"T_a9ef8_row9_col3\" class=\"data row9 col3\" >0.008515</td>\n",
       "      <td id=\"T_a9ef8_row9_col4\" class=\"data row9 col4\" >-0.015219</td>\n",
       "      <td id=\"T_a9ef8_row9_col5\" class=\"data row9 col5\" >0.015505</td>\n",
       "      <td id=\"T_a9ef8_row9_col6\" class=\"data row9 col6\" >-0.024813</td>\n",
       "      <td id=\"T_a9ef8_row9_col7\" class=\"data row9 col7\" >-0.014756</td>\n",
       "      <td id=\"T_a9ef8_row9_col8\" class=\"data row9 col8\" >0.030650</td>\n",
       "      <td id=\"T_a9ef8_row9_col9\" class=\"data row9 col9\" >-0.003399</td>\n",
       "    </tr>\n",
       "  </tbody>\n",
       "</table>\n"
      ],
      "text/plain": [
       "<pandas.io.formats.style.Styler at 0x14aa790f0>"
      ]
     },
     "execution_count": 10,
     "metadata": {},
     "output_type": "execute_result"
    }
   ],
   "source": [
    "LOADINGS.head(10).style.background_gradient(cmap=colors)"
   ]
  },
  {
   "cell_type": "code",
   "execution_count": 11,
   "metadata": {},
   "outputs": [
    {
     "data": {
      "text/html": [
       "<div>\n",
       "<style scoped>\n",
       "    .dataframe tbody tr th:only-of-type {\n",
       "        vertical-align: middle;\n",
       "    }\n",
       "\n",
       "    .dataframe tbody tr th {\n",
       "        vertical-align: top;\n",
       "    }\n",
       "\n",
       "    .dataframe thead th {\n",
       "        text-align: right;\n",
       "    }\n",
       "</style>\n",
       "<table border=\"1\" class=\"dataframe\">\n",
       "  <thead>\n",
       "    <tr style=\"text-align: right;\">\n",
       "      <th></th>\n",
       "      <th>pc_id</th>\n",
       "      <th>PC0</th>\n",
       "      <th>PC1</th>\n",
       "      <th>PC2</th>\n",
       "      <th>PC3</th>\n",
       "      <th>PC4</th>\n",
       "      <th>PC5</th>\n",
       "      <th>PC6</th>\n",
       "      <th>PC7</th>\n",
       "      <th>PC8</th>\n",
       "      <th>PC9</th>\n",
       "    </tr>\n",
       "    <tr>\n",
       "      <th>album_id</th>\n",
       "      <th>song_num</th>\n",
       "      <th></th>\n",
       "      <th></th>\n",
       "      <th></th>\n",
       "      <th></th>\n",
       "      <th></th>\n",
       "      <th></th>\n",
       "      <th></th>\n",
       "      <th></th>\n",
       "      <th></th>\n",
       "      <th></th>\n",
       "    </tr>\n",
       "  </thead>\n",
       "  <tbody>\n",
       "    <tr>\n",
       "      <th rowspan=\"2\" valign=\"top\">0</th>\n",
       "      <th>0</th>\n",
       "      <td>-0.156579</td>\n",
       "      <td>-0.108964</td>\n",
       "      <td>-0.148501</td>\n",
       "      <td>0.061985</td>\n",
       "      <td>-0.110232</td>\n",
       "      <td>0.015552</td>\n",
       "      <td>-0.018331</td>\n",
       "      <td>-0.026064</td>\n",
       "      <td>0.049509</td>\n",
       "      <td>0.051488</td>\n",
       "    </tr>\n",
       "    <tr>\n",
       "      <th>1</th>\n",
       "      <td>-0.149733</td>\n",
       "      <td>-0.057213</td>\n",
       "      <td>-0.032084</td>\n",
       "      <td>0.028575</td>\n",
       "      <td>-0.050405</td>\n",
       "      <td>-0.119869</td>\n",
       "      <td>-0.133881</td>\n",
       "      <td>-0.209176</td>\n",
       "      <td>-0.144738</td>\n",
       "      <td>-0.148798</td>\n",
       "    </tr>\n",
       "    <tr>\n",
       "      <th rowspan=\"3\" valign=\"top\">1</th>\n",
       "      <th>0</th>\n",
       "      <td>-0.009232</td>\n",
       "      <td>-0.032631</td>\n",
       "      <td>0.021213</td>\n",
       "      <td>0.064602</td>\n",
       "      <td>0.025031</td>\n",
       "      <td>-0.014246</td>\n",
       "      <td>0.036429</td>\n",
       "      <td>0.028644</td>\n",
       "      <td>0.025909</td>\n",
       "      <td>0.092896</td>\n",
       "    </tr>\n",
       "    <tr>\n",
       "      <th>1</th>\n",
       "      <td>-0.017147</td>\n",
       "      <td>0.001126</td>\n",
       "      <td>-0.020606</td>\n",
       "      <td>0.064183</td>\n",
       "      <td>-0.057723</td>\n",
       "      <td>-0.014021</td>\n",
       "      <td>0.031238</td>\n",
       "      <td>-0.055770</td>\n",
       "      <td>0.049639</td>\n",
       "      <td>0.000454</td>\n",
       "    </tr>\n",
       "    <tr>\n",
       "      <th>2</th>\n",
       "      <td>-0.043525</td>\n",
       "      <td>0.004738</td>\n",
       "      <td>-0.054372</td>\n",
       "      <td>0.035539</td>\n",
       "      <td>-0.006521</td>\n",
       "      <td>0.021488</td>\n",
       "      <td>0.036492</td>\n",
       "      <td>-0.051879</td>\n",
       "      <td>0.003264</td>\n",
       "      <td>-0.051876</td>\n",
       "    </tr>\n",
       "  </tbody>\n",
       "</table>\n",
       "</div>"
      ],
      "text/plain": [
       "pc_id                   PC0       PC1       PC2       PC3       PC4       PC5  \\\n",
       "album_id song_num                                                               \n",
       "0        0        -0.156579 -0.108964 -0.148501  0.061985 -0.110232  0.015552   \n",
       "         1        -0.149733 -0.057213 -0.032084  0.028575 -0.050405 -0.119869   \n",
       "1        0        -0.009232 -0.032631  0.021213  0.064602  0.025031 -0.014246   \n",
       "         1        -0.017147  0.001126 -0.020606  0.064183 -0.057723 -0.014021   \n",
       "         2        -0.043525  0.004738 -0.054372  0.035539 -0.006521  0.021488   \n",
       "\n",
       "pc_id                   PC6       PC7       PC8       PC9  \n",
       "album_id song_num                                          \n",
       "0        0        -0.018331 -0.026064  0.049509  0.051488  \n",
       "         1        -0.133881 -0.209176 -0.144738 -0.148798  \n",
       "1        0         0.036429  0.028644  0.025909  0.092896  \n",
       "         1         0.031238 -0.055770  0.049639  0.000454  \n",
       "         2         0.036492 -0.051879  0.003264 -0.051876  "
      ]
     },
     "execution_count": 11,
     "metadata": {},
     "output_type": "execute_result"
    }
   ],
   "source": [
    "DCM.head()"
   ]
  },
  {
   "cell_type": "code",
   "execution_count": 12,
   "metadata": {},
   "outputs": [
    {
     "data": {
      "text/html": [
       "<div>\n",
       "<style scoped>\n",
       "    .dataframe tbody tr th:only-of-type {\n",
       "        vertical-align: middle;\n",
       "    }\n",
       "\n",
       "    .dataframe tbody tr th {\n",
       "        vertical-align: top;\n",
       "    }\n",
       "\n",
       "    .dataframe thead th {\n",
       "        text-align: right;\n",
       "    }\n",
       "</style>\n",
       "<table border=\"1\" class=\"dataframe\">\n",
       "  <thead>\n",
       "    <tr style=\"text-align: right;\">\n",
       "      <th></th>\n",
       "      <th>pc_id</th>\n",
       "      <th>PC0</th>\n",
       "      <th>PC1</th>\n",
       "      <th>PC2</th>\n",
       "      <th>PC3</th>\n",
       "      <th>PC4</th>\n",
       "      <th>PC5</th>\n",
       "      <th>PC6</th>\n",
       "      <th>PC7</th>\n",
       "      <th>PC8</th>\n",
       "      <th>PC9</th>\n",
       "    </tr>\n",
       "    <tr>\n",
       "      <th>album_id</th>\n",
       "      <th>song_num</th>\n",
       "      <th></th>\n",
       "      <th></th>\n",
       "      <th></th>\n",
       "      <th></th>\n",
       "      <th></th>\n",
       "      <th></th>\n",
       "      <th></th>\n",
       "      <th></th>\n",
       "      <th></th>\n",
       "      <th></th>\n",
       "    </tr>\n",
       "  </thead>\n",
       "  <tbody>\n",
       "    <tr>\n",
       "      <th rowspan=\"5\" valign=\"top\">91</th>\n",
       "      <th>5</th>\n",
       "      <td>-0.116757</td>\n",
       "      <td>-0.171783</td>\n",
       "      <td>-0.136821</td>\n",
       "      <td>0.071665</td>\n",
       "      <td>-0.113748</td>\n",
       "      <td>-0.014061</td>\n",
       "      <td>-0.110583</td>\n",
       "      <td>0.060438</td>\n",
       "      <td>0.027360</td>\n",
       "      <td>0.010152</td>\n",
       "    </tr>\n",
       "    <tr>\n",
       "      <th>6</th>\n",
       "      <td>-0.068450</td>\n",
       "      <td>-0.148711</td>\n",
       "      <td>0.059569</td>\n",
       "      <td>-0.026940</td>\n",
       "      <td>-0.222486</td>\n",
       "      <td>0.015800</td>\n",
       "      <td>0.056047</td>\n",
       "      <td>-0.001361</td>\n",
       "      <td>-0.029336</td>\n",
       "      <td>0.012611</td>\n",
       "    </tr>\n",
       "    <tr>\n",
       "      <th>7</th>\n",
       "      <td>-0.126655</td>\n",
       "      <td>-0.145567</td>\n",
       "      <td>-0.107183</td>\n",
       "      <td>0.077105</td>\n",
       "      <td>-0.054665</td>\n",
       "      <td>0.006685</td>\n",
       "      <td>0.024628</td>\n",
       "      <td>0.009780</td>\n",
       "      <td>0.039644</td>\n",
       "      <td>0.059879</td>\n",
       "    </tr>\n",
       "    <tr>\n",
       "      <th>8</th>\n",
       "      <td>-0.064518</td>\n",
       "      <td>-0.094885</td>\n",
       "      <td>-0.011958</td>\n",
       "      <td>0.045270</td>\n",
       "      <td>-0.092617</td>\n",
       "      <td>0.016906</td>\n",
       "      <td>-0.003498</td>\n",
       "      <td>-0.002390</td>\n",
       "      <td>-0.038139</td>\n",
       "      <td>-0.038723</td>\n",
       "    </tr>\n",
       "    <tr>\n",
       "      <th>9</th>\n",
       "      <td>0.013646</td>\n",
       "      <td>-0.020556</td>\n",
       "      <td>-0.021711</td>\n",
       "      <td>0.023240</td>\n",
       "      <td>-0.005267</td>\n",
       "      <td>0.017130</td>\n",
       "      <td>0.038854</td>\n",
       "      <td>-0.033734</td>\n",
       "      <td>-0.001290</td>\n",
       "      <td>-0.034217</td>\n",
       "    </tr>\n",
       "  </tbody>\n",
       "</table>\n",
       "</div>"
      ],
      "text/plain": [
       "pc_id                   PC0       PC1       PC2       PC3       PC4       PC5  \\\n",
       "album_id song_num                                                               \n",
       "91       5        -0.116757 -0.171783 -0.136821  0.071665 -0.113748 -0.014061   \n",
       "         6        -0.068450 -0.148711  0.059569 -0.026940 -0.222486  0.015800   \n",
       "         7        -0.126655 -0.145567 -0.107183  0.077105 -0.054665  0.006685   \n",
       "         8        -0.064518 -0.094885 -0.011958  0.045270 -0.092617  0.016906   \n",
       "         9         0.013646 -0.020556 -0.021711  0.023240 -0.005267  0.017130   \n",
       "\n",
       "pc_id                   PC6       PC7       PC8       PC9  \n",
       "album_id song_num                                          \n",
       "91       5        -0.110583  0.060438  0.027360  0.010152  \n",
       "         6         0.056047 -0.001361 -0.029336  0.012611  \n",
       "         7         0.024628  0.009780  0.039644  0.059879  \n",
       "         8        -0.003498 -0.002390 -0.038139 -0.038723  \n",
       "         9         0.038854 -0.033734 -0.001290 -0.034217  "
      ]
     },
     "execution_count": 12,
     "metadata": {},
     "output_type": "execute_result"
    }
   ],
   "source": [
    "DCM.tail()"
   ]
  },
  {
   "cell_type": "code",
   "execution_count": 13,
   "metadata": {},
   "outputs": [
    {
     "data": {
      "text/html": [
       "<div>\n",
       "<style scoped>\n",
       "    .dataframe tbody tr th:only-of-type {\n",
       "        vertical-align: middle;\n",
       "    }\n",
       "\n",
       "    .dataframe tbody tr th {\n",
       "        vertical-align: top;\n",
       "    }\n",
       "\n",
       "    .dataframe thead th {\n",
       "        text-align: right;\n",
       "    }\n",
       "</style>\n",
       "<table border=\"1\" class=\"dataframe\">\n",
       "  <thead>\n",
       "    <tr style=\"text-align: right;\">\n",
       "      <th>1</th>\n",
       "      <th>pos</th>\n",
       "      <th>neg</th>\n",
       "    </tr>\n",
       "    <tr>\n",
       "      <th>comp_id</th>\n",
       "      <th></th>\n",
       "      <th></th>\n",
       "    </tr>\n",
       "  </thead>\n",
       "  <tbody>\n",
       "    <tr>\n",
       "      <th>PC0</th>\n",
       "      <td>light blue black blood leaves girls round noth...</td>\n",
       "      <td>want wanna dont love really youre need know ma...</td>\n",
       "    </tr>\n",
       "    <tr>\n",
       "      <th>PC1</th>\n",
       "      <td>want really stars moon sing free room girls ev...</td>\n",
       "      <td>love wanna youre know dont gonna live just wer...</td>\n",
       "    </tr>\n",
       "    <tr>\n",
       "      <th>PC2</th>\n",
       "      <td>yeah wanna live feel gonna dead everybody figh...</td>\n",
       "      <td>youre never time away know need come tell noth...</td>\n",
       "    </tr>\n",
       "    <tr>\n",
       "      <th>PC3</th>\n",
       "      <td>know live never away take cant need yeah wanna...</td>\n",
       "      <td>love want release stop come mother gonna wont ...</td>\n",
       "    </tr>\n",
       "    <tr>\n",
       "      <th>PC4</th>\n",
       "      <td>wanna dont live leave more wish little right f...</td>\n",
       "      <td>yeah gonna were youre know love come time away...</td>\n",
       "    </tr>\n",
       "  </tbody>\n",
       "</table>\n",
       "</div>"
      ],
      "text/plain": [
       "1                                                      pos  \\\n",
       "comp_id                                                      \n",
       "PC0      light blue black blood leaves girls round noth...   \n",
       "PC1      want really stars moon sing free room girls ev...   \n",
       "PC2      yeah wanna live feel gonna dead everybody figh...   \n",
       "PC3      know live never away take cant need yeah wanna...   \n",
       "PC4      wanna dont live leave more wish little right f...   \n",
       "\n",
       "1                                                      neg  \n",
       "comp_id                                                     \n",
       "PC0      want wanna dont love really youre need know ma...  \n",
       "PC1      love wanna youre know dont gonna live just wer...  \n",
       "PC2      youre never time away know need come tell noth...  \n",
       "PC3      love want release stop come mother gonna wont ...  \n",
       "PC4      yeah gonna were youre know love come time away...  "
      ]
     },
     "execution_count": 13,
     "metadata": {},
     "output_type": "execute_result"
    }
   ],
   "source": [
    "COMPINF.head()"
   ]
  },
  {
   "cell_type": "markdown",
   "metadata": {},
   "source": [
    "## Project DOC (`SONG_LIB`) onto components"
   ]
  },
  {
   "cell_type": "code",
   "execution_count": 14,
   "metadata": {},
   "outputs": [
    {
     "data": {
      "text/html": [
       "<div>\n",
       "<style scoped>\n",
       "    .dataframe tbody tr th:only-of-type {\n",
       "        vertical-align: middle;\n",
       "    }\n",
       "\n",
       "    .dataframe tbody tr th {\n",
       "        vertical-align: top;\n",
       "    }\n",
       "\n",
       "    .dataframe thead th {\n",
       "        text-align: right;\n",
       "    }\n",
       "</style>\n",
       "<table border=\"1\" class=\"dataframe\">\n",
       "  <thead>\n",
       "    <tr style=\"text-align: right;\">\n",
       "      <th></th>\n",
       "      <th></th>\n",
       "      <th>PC0</th>\n",
       "      <th>PC1</th>\n",
       "      <th>PC2</th>\n",
       "      <th>PC3</th>\n",
       "      <th>PC4</th>\n",
       "      <th>PC5</th>\n",
       "      <th>PC6</th>\n",
       "      <th>PC7</th>\n",
       "      <th>PC8</th>\n",
       "      <th>PC9</th>\n",
       "      <th>...</th>\n",
       "      <th>loudness</th>\n",
       "      <th>mode</th>\n",
       "      <th>speechiness</th>\n",
       "      <th>acousticness</th>\n",
       "      <th>instrumentalness</th>\n",
       "      <th>liveness</th>\n",
       "      <th>valence</th>\n",
       "      <th>tempo</th>\n",
       "      <th>time_signature</th>\n",
       "      <th>album_title</th>\n",
       "    </tr>\n",
       "    <tr>\n",
       "      <th>album_id</th>\n",
       "      <th>song_num</th>\n",
       "      <th></th>\n",
       "      <th></th>\n",
       "      <th></th>\n",
       "      <th></th>\n",
       "      <th></th>\n",
       "      <th></th>\n",
       "      <th></th>\n",
       "      <th></th>\n",
       "      <th></th>\n",
       "      <th></th>\n",
       "      <th></th>\n",
       "      <th></th>\n",
       "      <th></th>\n",
       "      <th></th>\n",
       "      <th></th>\n",
       "      <th></th>\n",
       "      <th></th>\n",
       "      <th></th>\n",
       "      <th></th>\n",
       "      <th></th>\n",
       "      <th></th>\n",
       "    </tr>\n",
       "  </thead>\n",
       "  <tbody>\n",
       "    <tr>\n",
       "      <th rowspan=\"2\" valign=\"top\">0</th>\n",
       "      <th>0</th>\n",
       "      <td>-0.156579</td>\n",
       "      <td>-0.108964</td>\n",
       "      <td>-0.148501</td>\n",
       "      <td>0.061985</td>\n",
       "      <td>-0.110232</td>\n",
       "      <td>0.015552</td>\n",
       "      <td>-0.018331</td>\n",
       "      <td>-0.026064</td>\n",
       "      <td>0.049509</td>\n",
       "      <td>0.051488</td>\n",
       "      <td>...</td>\n",
       "      <td>-6.554</td>\n",
       "      <td>1</td>\n",
       "      <td>0.0471</td>\n",
       "      <td>0.138</td>\n",
       "      <td>0.657</td>\n",
       "      <td>0.100</td>\n",
       "      <td>0.186</td>\n",
       "      <td>113.018</td>\n",
       "      <td>4</td>\n",
       "      <td>45:33</td>\n",
       "    </tr>\n",
       "    <tr>\n",
       "      <th>1</th>\n",
       "      <td>-0.149733</td>\n",
       "      <td>-0.057213</td>\n",
       "      <td>-0.032084</td>\n",
       "      <td>0.028575</td>\n",
       "      <td>-0.050405</td>\n",
       "      <td>-0.119869</td>\n",
       "      <td>-0.133881</td>\n",
       "      <td>-0.209176</td>\n",
       "      <td>-0.144738</td>\n",
       "      <td>-0.148798</td>\n",
       "      <td>...</td>\n",
       "      <td>-5.066</td>\n",
       "      <td>0</td>\n",
       "      <td>0.1010</td>\n",
       "      <td>0.216</td>\n",
       "      <td>0.688</td>\n",
       "      <td>0.110</td>\n",
       "      <td>0.726</td>\n",
       "      <td>94.999</td>\n",
       "      <td>4</td>\n",
       "      <td>45:33</td>\n",
       "    </tr>\n",
       "    <tr>\n",
       "      <th rowspan=\"3\" valign=\"top\">1</th>\n",
       "      <th>0</th>\n",
       "      <td>-0.009232</td>\n",
       "      <td>-0.032631</td>\n",
       "      <td>0.021213</td>\n",
       "      <td>0.064602</td>\n",
       "      <td>0.025031</td>\n",
       "      <td>-0.014246</td>\n",
       "      <td>0.036429</td>\n",
       "      <td>0.028644</td>\n",
       "      <td>0.025909</td>\n",
       "      <td>0.092896</td>\n",
       "      <td>...</td>\n",
       "      <td>-6.520</td>\n",
       "      <td>1</td>\n",
       "      <td>0.0297</td>\n",
       "      <td>0.303</td>\n",
       "      <td>0.272</td>\n",
       "      <td>0.109</td>\n",
       "      <td>0.620</td>\n",
       "      <td>148.936</td>\n",
       "      <td>4</td>\n",
       "      <td>A Moon Shaped Pool</td>\n",
       "    </tr>\n",
       "    <tr>\n",
       "      <th>1</th>\n",
       "      <td>-0.017147</td>\n",
       "      <td>0.001126</td>\n",
       "      <td>-0.020606</td>\n",
       "      <td>0.064183</td>\n",
       "      <td>-0.057723</td>\n",
       "      <td>-0.014021</td>\n",
       "      <td>0.031238</td>\n",
       "      <td>-0.055770</td>\n",
       "      <td>0.049639</td>\n",
       "      <td>0.000454</td>\n",
       "      <td>...</td>\n",
       "      <td>-13.207</td>\n",
       "      <td>0</td>\n",
       "      <td>0.0336</td>\n",
       "      <td>0.968</td>\n",
       "      <td>0.853</td>\n",
       "      <td>0.126</td>\n",
       "      <td>0.113</td>\n",
       "      <td>137.561</td>\n",
       "      <td>3</td>\n",
       "      <td>A Moon Shaped Pool</td>\n",
       "    </tr>\n",
       "    <tr>\n",
       "      <th>2</th>\n",
       "      <td>-0.043525</td>\n",
       "      <td>0.004738</td>\n",
       "      <td>-0.054372</td>\n",
       "      <td>0.035539</td>\n",
       "      <td>-0.006521</td>\n",
       "      <td>0.021488</td>\n",
       "      <td>0.036492</td>\n",
       "      <td>-0.051879</td>\n",
       "      <td>0.003264</td>\n",
       "      <td>-0.051876</td>\n",
       "      <td>...</td>\n",
       "      <td>-10.827</td>\n",
       "      <td>0</td>\n",
       "      <td>0.0269</td>\n",
       "      <td>0.666</td>\n",
       "      <td>0.837</td>\n",
       "      <td>0.117</td>\n",
       "      <td>0.271</td>\n",
       "      <td>139.149</td>\n",
       "      <td>4</td>\n",
       "      <td>A Moon Shaped Pool</td>\n",
       "    </tr>\n",
       "  </tbody>\n",
       "</table>\n",
       "<p>5 rows × 34 columns</p>\n",
       "</div>"
      ],
      "text/plain": [
       "                        PC0       PC1       PC2       PC3       PC4       PC5  \\\n",
       "album_id song_num                                                               \n",
       "0        0        -0.156579 -0.108964 -0.148501  0.061985 -0.110232  0.015552   \n",
       "         1        -0.149733 -0.057213 -0.032084  0.028575 -0.050405 -0.119869   \n",
       "1        0        -0.009232 -0.032631  0.021213  0.064602  0.025031 -0.014246   \n",
       "         1        -0.017147  0.001126 -0.020606  0.064183 -0.057723 -0.014021   \n",
       "         2        -0.043525  0.004738 -0.054372  0.035539 -0.006521  0.021488   \n",
       "\n",
       "                        PC6       PC7       PC8       PC9  ... loudness mode  \\\n",
       "album_id song_num                                          ...                 \n",
       "0        0        -0.018331 -0.026064  0.049509  0.051488  ...   -6.554    1   \n",
       "         1        -0.133881 -0.209176 -0.144738 -0.148798  ...   -5.066    0   \n",
       "1        0         0.036429  0.028644  0.025909  0.092896  ...   -6.520    1   \n",
       "         1         0.031238 -0.055770  0.049639  0.000454  ...  -13.207    0   \n",
       "         2         0.036492 -0.051879  0.003264 -0.051876  ...  -10.827    0   \n",
       "\n",
       "                  speechiness acousticness instrumentalness liveness valence  \\\n",
       "album_id song_num                                                              \n",
       "0        0             0.0471        0.138            0.657    0.100   0.186   \n",
       "         1             0.1010        0.216            0.688    0.110   0.726   \n",
       "1        0             0.0297        0.303            0.272    0.109   0.620   \n",
       "         1             0.0336        0.968            0.853    0.126   0.113   \n",
       "         2             0.0269        0.666            0.837    0.117   0.271   \n",
       "\n",
       "                     tempo  time_signature         album_title  \n",
       "album_id song_num                                               \n",
       "0        0         113.018               4               45:33  \n",
       "         1          94.999               4               45:33  \n",
       "1        0         148.936               4  A Moon Shaped Pool  \n",
       "         1         137.561               3  A Moon Shaped Pool  \n",
       "         2         139.149               4  A Moon Shaped Pool  \n",
       "\n",
       "[5 rows x 34 columns]"
      ]
     },
     "execution_count": 14,
     "metadata": {},
     "output_type": "execute_result"
    }
   ],
   "source": [
    "DCM = DCM.join(SONG_LIB)\n",
    "DCM.head()"
   ]
  },
  {
   "cell_type": "code",
   "execution_count": 15,
   "metadata": {},
   "outputs": [
    {
     "data": {
      "application/vnd.plotly.v1+json": {
       "config": {
        "plotlyServerURL": "https://plot.ly"
       },
       "data": [
        {
         "customdata": [
          [
           "LCD Soundsystem",
           "45:33",
           "45:33",
           1
          ],
          [
           "LCD Soundsystem",
           "Freak Out / Starry Eyes",
           "45:33",
           2
          ],
          [
           "LCD Soundsystem",
           "Daft Punk Is Playing at My House",
           "LCD Soundsystem",
           1
          ],
          [
           "LCD Soundsystem",
           "Too Much Love",
           "LCD Soundsystem",
           2
          ],
          [
           "LCD Soundsystem",
           "Tribulations",
           "LCD Soundsystem",
           3
          ],
          [
           "LCD Soundsystem",
           "Movement",
           "LCD Soundsystem",
           4
          ],
          [
           "LCD Soundsystem",
           "Never as Tired as When I'm Waking Up",
           "LCD Soundsystem",
           5
          ],
          [
           "LCD Soundsystem",
           "On Repeat",
           "LCD Soundsystem",
           6
          ],
          [
           "LCD Soundsystem",
           "Thrills",
           "LCD Soundsystem",
           7
          ],
          [
           "LCD Soundsystem",
           "Disco Infiltrator",
           "LCD Soundsystem",
           8
          ],
          [
           "LCD Soundsystem",
           "Great Release",
           "LCD Soundsystem",
           9
          ],
          [
           "LCD Soundsystem",
           "Losing My Edge",
           "LCD Soundsystem",
           1
          ],
          [
           "LCD Soundsystem",
           "Beat Connection",
           "LCD Soundsystem",
           2
          ],
          [
           "LCD Soundsystem",
           "Give It Up",
           "LCD Soundsystem",
           3
          ],
          [
           "LCD Soundsystem",
           "Tired",
           "LCD Soundsystem",
           4
          ],
          [
           "LCD Soundsystem",
           "Yeah",
           "LCD Soundsystem",
           5
          ],
          [
           "LCD Soundsystem",
           "Yr City's a Sucker",
           "LCD Soundsystem",
           7
          ],
          [
           "LCD Soundsystem",
           "Get Innocuous!",
           "Sound of Silver",
           1
          ],
          [
           "LCD Soundsystem",
           "Time to Get Away",
           "Sound of Silver",
           2
          ],
          [
           "LCD Soundsystem",
           "North American Scum",
           "Sound of Silver",
           3
          ],
          [
           "LCD Soundsystem",
           "Someone Great",
           "Sound of Silver",
           4
          ],
          [
           "LCD Soundsystem",
           "All My Friends",
           "Sound of Silver",
           5
          ],
          [
           "LCD Soundsystem",
           "Us V Them",
           "Sound of Silver",
           6
          ],
          [
           "LCD Soundsystem",
           "Watch the Tapes",
           "Sound of Silver",
           7
          ],
          [
           "LCD Soundsystem",
           "Sound of Silver",
           "Sound of Silver",
           8
          ],
          [
           "LCD Soundsystem",
           "New York, I Love You but You're Bringing Me Down",
           "Sound of Silver",
           9
          ],
          [
           "LCD Soundsystem",
           "Dance Yrself Clean",
           "This Is Happening",
           1
          ],
          [
           "LCD Soundsystem",
           "Drunk Girls",
           "This Is Happening",
           2
          ],
          [
           "LCD Soundsystem",
           "One Touch",
           "This Is Happening",
           3
          ],
          [
           "LCD Soundsystem",
           "All I Want",
           "This Is Happening",
           4
          ],
          [
           "LCD Soundsystem",
           "I Can Change",
           "This Is Happening",
           5
          ],
          [
           "LCD Soundsystem",
           "You Wanted a Hit",
           "This Is Happening",
           6
          ],
          [
           "LCD Soundsystem",
           "Pow Pow",
           "This Is Happening",
           7
          ],
          [
           "LCD Soundsystem",
           "Somebody's Calling Me",
           "This Is Happening",
           8
          ],
          [
           "LCD Soundsystem",
           "Home",
           "This Is Happening",
           9
          ],
          [
           "LCD Soundsystem",
           "oh baby",
           "american dream",
           1
          ],
          [
           "LCD Soundsystem",
           "other voices",
           "american dream",
           2
          ],
          [
           "LCD Soundsystem",
           "i used to",
           "american dream",
           3
          ],
          [
           "LCD Soundsystem",
           "change yr mind",
           "american dream",
           4
          ],
          [
           "LCD Soundsystem",
           "how do you sleep?",
           "american dream",
           5
          ],
          [
           "LCD Soundsystem",
           "tonite",
           "american dream",
           6
          ],
          [
           "LCD Soundsystem",
           "call the police",
           "american dream",
           7
          ],
          [
           "LCD Soundsystem",
           "american dream",
           "american dream",
           8
          ],
          [
           "LCD Soundsystem",
           "emotional haircut",
           "american dream",
           9
          ],
          [
           "LCD Soundsystem",
           "black screen",
           "american dream",
           10
          ]
         ],
         "hovertemplate": "artist=%{customdata[0]}<br>PC1=%{x}<br>PC0=%{y}<br>title=%{customdata[1]}<br>album=%{customdata[2]}<br>track_number=%{customdata[3]}<extra></extra>",
         "legendgroup": "LCD Soundsystem",
         "marker": {
          "color": "#636efa",
          "symbol": "circle"
         },
         "mode": "markers",
         "name": "LCD Soundsystem",
         "orientation": "v",
         "showlegend": true,
         "type": "scatter",
         "x": [
          -0.10896377120274682,
          -0.057213443070389496,
          -0.03196202603354688,
          -0.14109041399091413,
          -0.06888615593169335,
          -0.1165892872470828,
          -0.14158220003379557,
          -0.013871662116608351,
          0.033160278792585846,
          -0.007307597131149125,
          -0.08263311781231403,
          0.08952846707468319,
          -0.013475192667088902,
          -0.1964806264583333,
          -0.0829629879263939,
          -0.04486609574883678,
          0.4731411030324332,
          -0.042906834218519076,
          -0.09808668156580075,
          -0.39251365359393514,
          -0.024331797963317206,
          -0.1762125660302218,
          -0.09636245137570391,
          -0.08237880638041656,
          0.08666663316446856,
          -0.2741304662735158,
          -0.11905738168632848,
          0.01667138131319156,
          -0.055096334155759784,
          0.22380064007389838,
          -0.1252866833853254,
          -0.054829113315718964,
          -0.07129788009235268,
          -0.12157500649794903,
          -0.19808741788513373,
          -0.24868694921697398,
          -0.22473713718310415,
          -0.08529678268076663,
          -0.06450784602467224,
          -0.040945117390016064,
          -0.17178282573962478,
          -0.14871085644912477,
          -0.14556724898345544,
          -0.0948846045296908,
          -0.02055595038045792
         ],
         "xaxis": "x",
         "y": [
          -0.15657928890659734,
          -0.14973255148149403,
          -0.029260838543779623,
          -0.10959303482017564,
          -0.05077132603833843,
          -0.07329243745161196,
          -0.0954682350790955,
          -0.07936696736064301,
          -0.49731056050855693,
          -0.20771950704090353,
          -0.01401660948976304,
          -0.3367581577220049,
          0.012684911460325129,
          -0.14684466801017834,
          -0.08912760144667711,
          -0.011617960385089872,
          -0.7040744682906126,
          -0.11067233751089468,
          -0.10438426086895611,
          -0.2472935472954171,
          0.018870669936044762,
          -0.08662049566478561,
          -0.13271317414557698,
          -0.05041929032157646,
          -0.17686851957552552,
          -0.1378948008607221,
          -0.12485365243861105,
          0.023807101873607107,
          -0.08120279803791602,
          -0.39682805598538107,
          -0.07084502929203791,
          -0.14446090645173887,
          -0.10948441795125197,
          -0.054389538878498844,
          -0.1460056714785904,
          -0.10041776108527367,
          -0.1449325296714278,
          -0.062087382630070936,
          -0.14093434509835134,
          -0.046485074996179036,
          -0.1167574947604283,
          -0.06845032563175153,
          -0.12665506823634556,
          -0.06451818869143337,
          0.01364558209665628
         ],
         "yaxis": "y"
        },
        {
         "alignmentgroup": "True",
         "customdata": [
          [
           "LCD Soundsystem",
           "45:33",
           "45:33",
           1
          ],
          [
           "LCD Soundsystem",
           "Freak Out / Starry Eyes",
           "45:33",
           2
          ],
          [
           "LCD Soundsystem",
           "Daft Punk Is Playing at My House",
           "LCD Soundsystem",
           1
          ],
          [
           "LCD Soundsystem",
           "Too Much Love",
           "LCD Soundsystem",
           2
          ],
          [
           "LCD Soundsystem",
           "Tribulations",
           "LCD Soundsystem",
           3
          ],
          [
           "LCD Soundsystem",
           "Movement",
           "LCD Soundsystem",
           4
          ],
          [
           "LCD Soundsystem",
           "Never as Tired as When I'm Waking Up",
           "LCD Soundsystem",
           5
          ],
          [
           "LCD Soundsystem",
           "On Repeat",
           "LCD Soundsystem",
           6
          ],
          [
           "LCD Soundsystem",
           "Thrills",
           "LCD Soundsystem",
           7
          ],
          [
           "LCD Soundsystem",
           "Disco Infiltrator",
           "LCD Soundsystem",
           8
          ],
          [
           "LCD Soundsystem",
           "Great Release",
           "LCD Soundsystem",
           9
          ],
          [
           "LCD Soundsystem",
           "Losing My Edge",
           "LCD Soundsystem",
           1
          ],
          [
           "LCD Soundsystem",
           "Beat Connection",
           "LCD Soundsystem",
           2
          ],
          [
           "LCD Soundsystem",
           "Give It Up",
           "LCD Soundsystem",
           3
          ],
          [
           "LCD Soundsystem",
           "Tired",
           "LCD Soundsystem",
           4
          ],
          [
           "LCD Soundsystem",
           "Yeah",
           "LCD Soundsystem",
           5
          ],
          [
           "LCD Soundsystem",
           "Yr City's a Sucker",
           "LCD Soundsystem",
           7
          ],
          [
           "LCD Soundsystem",
           "Get Innocuous!",
           "Sound of Silver",
           1
          ],
          [
           "LCD Soundsystem",
           "Time to Get Away",
           "Sound of Silver",
           2
          ],
          [
           "LCD Soundsystem",
           "North American Scum",
           "Sound of Silver",
           3
          ],
          [
           "LCD Soundsystem",
           "Someone Great",
           "Sound of Silver",
           4
          ],
          [
           "LCD Soundsystem",
           "All My Friends",
           "Sound of Silver",
           5
          ],
          [
           "LCD Soundsystem",
           "Us V Them",
           "Sound of Silver",
           6
          ],
          [
           "LCD Soundsystem",
           "Watch the Tapes",
           "Sound of Silver",
           7
          ],
          [
           "LCD Soundsystem",
           "Sound of Silver",
           "Sound of Silver",
           8
          ],
          [
           "LCD Soundsystem",
           "New York, I Love You but You're Bringing Me Down",
           "Sound of Silver",
           9
          ],
          [
           "LCD Soundsystem",
           "Dance Yrself Clean",
           "This Is Happening",
           1
          ],
          [
           "LCD Soundsystem",
           "Drunk Girls",
           "This Is Happening",
           2
          ],
          [
           "LCD Soundsystem",
           "One Touch",
           "This Is Happening",
           3
          ],
          [
           "LCD Soundsystem",
           "All I Want",
           "This Is Happening",
           4
          ],
          [
           "LCD Soundsystem",
           "I Can Change",
           "This Is Happening",
           5
          ],
          [
           "LCD Soundsystem",
           "You Wanted a Hit",
           "This Is Happening",
           6
          ],
          [
           "LCD Soundsystem",
           "Pow Pow",
           "This Is Happening",
           7
          ],
          [
           "LCD Soundsystem",
           "Somebody's Calling Me",
           "This Is Happening",
           8
          ],
          [
           "LCD Soundsystem",
           "Home",
           "This Is Happening",
           9
          ],
          [
           "LCD Soundsystem",
           "oh baby",
           "american dream",
           1
          ],
          [
           "LCD Soundsystem",
           "other voices",
           "american dream",
           2
          ],
          [
           "LCD Soundsystem",
           "i used to",
           "american dream",
           3
          ],
          [
           "LCD Soundsystem",
           "change yr mind",
           "american dream",
           4
          ],
          [
           "LCD Soundsystem",
           "how do you sleep?",
           "american dream",
           5
          ],
          [
           "LCD Soundsystem",
           "tonite",
           "american dream",
           6
          ],
          [
           "LCD Soundsystem",
           "call the police",
           "american dream",
           7
          ],
          [
           "LCD Soundsystem",
           "american dream",
           "american dream",
           8
          ],
          [
           "LCD Soundsystem",
           "emotional haircut",
           "american dream",
           9
          ],
          [
           "LCD Soundsystem",
           "black screen",
           "american dream",
           10
          ]
         ],
         "hovertemplate": "artist=%{customdata[0]}<br>PC1=%{x}<br>title=%{customdata[1]}<br>album=%{customdata[2]}<br>track_number=%{customdata[3]}<extra></extra>",
         "legendgroup": "LCD Soundsystem",
         "marker": {
          "color": "#636efa",
          "symbol": "circle"
         },
         "name": "LCD Soundsystem",
         "notched": true,
         "offsetgroup": "LCD Soundsystem",
         "showlegend": false,
         "type": "box",
         "x": [
          -0.10896377120274682,
          -0.057213443070389496,
          -0.03196202603354688,
          -0.14109041399091413,
          -0.06888615593169335,
          -0.1165892872470828,
          -0.14158220003379557,
          -0.013871662116608351,
          0.033160278792585846,
          -0.007307597131149125,
          -0.08263311781231403,
          0.08952846707468319,
          -0.013475192667088902,
          -0.1964806264583333,
          -0.0829629879263939,
          -0.04486609574883678,
          0.4731411030324332,
          -0.042906834218519076,
          -0.09808668156580075,
          -0.39251365359393514,
          -0.024331797963317206,
          -0.1762125660302218,
          -0.09636245137570391,
          -0.08237880638041656,
          0.08666663316446856,
          -0.2741304662735158,
          -0.11905738168632848,
          0.01667138131319156,
          -0.055096334155759784,
          0.22380064007389838,
          -0.1252866833853254,
          -0.054829113315718964,
          -0.07129788009235268,
          -0.12157500649794903,
          -0.19808741788513373,
          -0.24868694921697398,
          -0.22473713718310415,
          -0.08529678268076663,
          -0.06450784602467224,
          -0.040945117390016064,
          -0.17178282573962478,
          -0.14871085644912477,
          -0.14556724898345544,
          -0.0948846045296908,
          -0.02055595038045792
         ],
         "xaxis": "x2",
         "yaxis": "y2"
        },
        {
         "customdata": [
          [
           "Radiohead",
           "Burn the Witch",
           "A Moon Shaped Pool",
           1
          ],
          [
           "Radiohead",
           "Daydreaming",
           "A Moon Shaped Pool",
           2
          ],
          [
           "Radiohead",
           "Decks Dark",
           "A Moon Shaped Pool",
           3
          ],
          [
           "Radiohead",
           "Desert Island Disk",
           "A Moon Shaped Pool",
           4
          ],
          [
           "Radiohead",
           "Ful Stop",
           "A Moon Shaped Pool",
           5
          ],
          [
           "Radiohead",
           "Glass Eyes",
           "A Moon Shaped Pool",
           6
          ],
          [
           "Radiohead",
           "Identikit",
           "A Moon Shaped Pool",
           7
          ],
          [
           "Radiohead",
           "The Numbers",
           "A Moon Shaped Pool",
           8
          ],
          [
           "Radiohead",
           "Present Tense",
           "A Moon Shaped Pool",
           9
          ],
          [
           "Radiohead",
           "Tinker Tailor Soldier Sailor Rich Man Poor Man Beggar Man Thief",
           "A Moon Shaped Pool",
           10
          ],
          [
           "Radiohead",
           "True Love Waits",
           "A Moon Shaped Pool",
           11
          ],
          [
           "Radiohead",
           "Packt Like Sardines In a Crushd Tin Box",
           "Amnesiac",
           1
          ],
          [
           "Radiohead",
           "Pyramid Song",
           "Amnesiac",
           2
          ],
          [
           "Radiohead",
           "Pulk/Pull Revolving Doors",
           "Amnesiac",
           3
          ],
          [
           "Radiohead",
           "You And Whose Army?",
           "Amnesiac",
           4
          ],
          [
           "Radiohead",
           "I Might Be Wrong",
           "Amnesiac",
           5
          ],
          [
           "Radiohead",
           "Knives Out",
           "Amnesiac",
           6
          ],
          [
           "Radiohead",
           "Morning Bell/Amnesiac",
           "Amnesiac",
           7
          ],
          [
           "Radiohead",
           "Dollars and Cents",
           "Amnesiac",
           8
          ],
          [
           "Radiohead",
           "Like Spinning Plates",
           "Amnesiac",
           10
          ],
          [
           "Radiohead",
           "Life In a Glasshouse",
           "Amnesiac",
           11
          ],
          [
           "Radiohead",
           "2 + 2 = 5",
           "Hail To the Thief",
           1
          ],
          [
           "Radiohead",
           "Sit Down. Stand Up",
           "Hail To the Thief",
           2
          ],
          [
           "Radiohead",
           "Sail To The Moon",
           "Hail To the Thief",
           3
          ],
          [
           "Radiohead",
           "Backdrifts",
           "Hail To the Thief",
           4
          ],
          [
           "Radiohead",
           "Go To Sleep",
           "Hail To the Thief",
           5
          ],
          [
           "Radiohead",
           "Where I End and You Begin",
           "Hail To the Thief",
           6
          ],
          [
           "Radiohead",
           "We Suck Young Blood",
           "Hail To the Thief",
           7
          ],
          [
           "Radiohead",
           "The Gloaming",
           "Hail To the Thief",
           8
          ],
          [
           "Radiohead",
           "There, There",
           "Hail To the Thief",
           9
          ],
          [
           "Radiohead",
           "I Will",
           "Hail To the Thief",
           10
          ],
          [
           "Radiohead",
           "A Punch Up at a Wedding",
           "Hail To the Thief",
           11
          ],
          [
           "Radiohead",
           "Myxomatosis",
           "Hail To the Thief",
           12
          ],
          [
           "Radiohead",
           "Scatterbrain",
           "Hail To the Thief",
           13
          ],
          [
           "Radiohead",
           "A Wolf At the Door",
           "Hail To the Thief",
           14
          ],
          [
           "Radiohead",
           "15 Step",
           "In Rainbows",
           1
          ],
          [
           "Radiohead",
           "Bodysnatchers",
           "In Rainbows",
           2
          ],
          [
           "Radiohead",
           "Nude",
           "In Rainbows",
           3
          ],
          [
           "Radiohead",
           "Weird Fishes/ Arpeggi",
           "In Rainbows",
           4
          ],
          [
           "Radiohead",
           "All I Need",
           "In Rainbows",
           5
          ],
          [
           "Radiohead",
           "Faust Arp",
           "In Rainbows",
           6
          ],
          [
           "Radiohead",
           "Reckoner",
           "In Rainbows",
           7
          ],
          [
           "Radiohead",
           "House Of Cards",
           "In Rainbows",
           8
          ],
          [
           "Radiohead",
           "Jigsaw Falling Into Place",
           "In Rainbows",
           9
          ],
          [
           "Radiohead",
           "Videotape",
           "In Rainbows",
           10
          ],
          [
           "Radiohead",
           "Everything In Its Right Place",
           "Kid A",
           1
          ],
          [
           "Radiohead",
           "Kid A",
           "Kid A",
           2
          ],
          [
           "Radiohead",
           "The National Anthem",
           "Kid A",
           3
          ],
          [
           "Radiohead",
           "How to Disappear Completely",
           "Kid A",
           4
          ],
          [
           "Radiohead",
           "Optimistic",
           "Kid A",
           6
          ],
          [
           "Radiohead",
           "In Limbo",
           "Kid A",
           7
          ],
          [
           "Radiohead",
           "Idioteque",
           "Kid A",
           8
          ],
          [
           "Radiohead",
           "Morning Bell",
           "Kid A",
           9
          ],
          [
           "Radiohead",
           "Motion Picture Soundtrack",
           "Kid A",
           10
          ],
          [
           "Radiohead",
           "Airbag",
           "OK Computer",
           1
          ],
          [
           "Radiohead",
           "Paranoid Android",
           "OK Computer",
           2
          ],
          [
           "Radiohead",
           "Subterranean Homesick Alien",
           "OK Computer",
           3
          ],
          [
           "Radiohead",
           "Exit Music (For A Film)",
           "OK Computer",
           4
          ],
          [
           "Radiohead",
           "Let Down",
           "OK Computer",
           5
          ],
          [
           "Radiohead",
           "Karma Police",
           "OK Computer",
           6
          ],
          [
           "Radiohead",
           "Fitter Happier",
           "OK Computer",
           7
          ],
          [
           "Radiohead",
           "Electioneering",
           "OK Computer",
           8
          ],
          [
           "Radiohead",
           "Climbing Up the Walls",
           "OK Computer",
           9
          ],
          [
           "Radiohead",
           "No Surprises",
           "OK Computer",
           10
          ],
          [
           "Radiohead",
           "Lucky",
           "OK Computer",
           11
          ],
          [
           "Radiohead",
           "The Tourist",
           "OK Computer",
           12
          ],
          [
           "Radiohead",
           "You",
           "Pablo Honey",
           1
          ],
          [
           "Radiohead",
           "Creep",
           "Pablo Honey",
           2
          ],
          [
           "Radiohead",
           "How Do You?",
           "Pablo Honey",
           3
          ],
          [
           "Radiohead",
           "Stop Whispering",
           "Pablo Honey",
           4
          ],
          [
           "Radiohead",
           "Thinking About You",
           "Pablo Honey",
           5
          ],
          [
           "Radiohead",
           "Anyone Can Play Guitar",
           "Pablo Honey",
           6
          ],
          [
           "Radiohead",
           "Ripcord",
           "Pablo Honey",
           7
          ],
          [
           "Radiohead",
           "Vegetable",
           "Pablo Honey",
           8
          ],
          [
           "Radiohead",
           "Prove Yourself",
           "Pablo Honey",
           9
          ],
          [
           "Radiohead",
           "I Can't",
           "Pablo Honey",
           10
          ],
          [
           "Radiohead",
           "Lurgee",
           "Pablo Honey",
           11
          ],
          [
           "Radiohead",
           "Blow Out",
           "Pablo Honey",
           12
          ],
          [
           "Radiohead",
           "Planet Telex",
           "The Bends",
           1
          ],
          [
           "Radiohead",
           "The Bends",
           "The Bends",
           2
          ],
          [
           "Radiohead",
           "High and Dry",
           "The Bends",
           3
          ],
          [
           "Radiohead",
           "Fake Plastic Trees",
           "The Bends",
           4
          ],
          [
           "Radiohead",
           "Bones",
           "The Bends",
           5
          ],
          [
           "Radiohead",
           "(Nice Dream)",
           "The Bends",
           6
          ],
          [
           "Radiohead",
           "Just",
           "The Bends",
           7
          ],
          [
           "Radiohead",
           "My Iron Lung",
           "The Bends",
           8
          ],
          [
           "Radiohead",
           "Bullet Proof ... I Wish I Was",
           "The Bends",
           9
          ],
          [
           "Radiohead",
           "Black Star",
           "The Bends",
           10
          ],
          [
           "Radiohead",
           "Sulk",
           "The Bends",
           11
          ],
          [
           "Radiohead",
           "Street Spirit (Fade Out)",
           "The Bends",
           12
          ],
          [
           "Radiohead",
           "Bloom",
           "The King Of Limbs",
           1
          ],
          [
           "Radiohead",
           "Morning Mr Magpie",
           "The King Of Limbs",
           2
          ],
          [
           "Radiohead",
           "Little By Little",
           "The King Of Limbs",
           3
          ],
          [
           "Radiohead",
           "Feral",
           "The King Of Limbs",
           4
          ],
          [
           "Radiohead",
           "Lotus Flower",
           "The King Of Limbs",
           5
          ],
          [
           "Radiohead",
           "Codex",
           "The King Of Limbs",
           6
          ],
          [
           "Radiohead",
           "Give Up The Ghost",
           "The King Of Limbs",
           7
          ],
          [
           "Radiohead",
           "Separator",
           "The King Of Limbs",
           8
          ]
         ],
         "hovertemplate": "artist=%{customdata[0]}<br>PC1=%{x}<br>PC0=%{y}<br>title=%{customdata[1]}<br>album=%{customdata[2]}<br>track_number=%{customdata[3]}<extra></extra>",
         "legendgroup": "Radiohead",
         "marker": {
          "color": "#EF553B",
          "symbol": "circle"
         },
         "mode": "markers",
         "name": "Radiohead",
         "orientation": "v",
         "showlegend": true,
         "type": "scatter",
         "x": [
          -0.03263099112890138,
          0.0011257698605253719,
          0.004737554330770499,
          -0.11826880972062255,
          0.013160140282198963,
          -0.09172501620906562,
          -0.005365481822780904,
          -0.008246628465371388,
          -0.08218380256688985,
          -0.00420052602574222,
          -0.23762410649582258,
          -0.05878383344399252,
          -0.005168568478571428,
          -0.007882887145868827,
          -0.03545148774594644,
          -0.08992943635338219,
          -0.0002535396490769143,
          -0.0011794566386723066,
          -0.06114628736232891,
          -0.012419840073166107,
          -0.04213076958362631,
          -0.0073270511377150176,
          0.00476530200495375,
          -0.0050508438231703714,
          -0.05968998832728578,
          0.0123826238462958,
          0.010218686958957956,
          0.1264713741798674,
          0.02519532397668016,
          -0.07677226878968027,
          -0.0425156275699168,
          -0.07420291031053589,
          -0.08677885642013837,
          0.01196124555083557,
          -0.16241559270507683,
          -0.033275439935295345,
          0.022706387373786344,
          -0.08592839569417281,
          0.010774640399786201,
          -0.07232944161794905,
          -0.029900716977636372,
          0.018222912456518615,
          0.02033599764762708,
          -0.0718797158018539,
          -0.03472847329520862,
          -0.016455343225440417,
          -0.007607874650720983,
          -0.005535013021845701,
          -0.05176306924734812,
          -0.01063226003676616,
          -0.04142809834223943,
          0.005835531344758223,
          0.007554591593306826,
          -0.09681039326802857,
          -0.03837174828685514,
          -0.0342867102194697,
          -0.10988957298042586,
          0.0000031629261386947275,
          -0.08676747361586688,
          0.008687711117582054,
          -0.08994667191795952,
          -0.005493331619825804,
          -0.05389457686064063,
          -0.06459873401110827,
          -0.07423232926879934,
          0.019424612979665218,
          -0.021205712354383878,
          -0.0041745573012349525,
          -0.046070506633479544,
          -0.003920609536967233,
          -0.11864318873844057,
          -0.10247833434592353,
          -0.033919965954023676,
          -0.06481289060707447,
          -0.02829537238546559,
          -0.020871338549975,
          -0.09350142728677381,
          0.03190888890577151,
          -0.005160670527998363,
          -0.11474553105928435,
          -0.1876869803754493,
          -0.04918389446807788,
          0.0352413896796207,
          -0.04517463713047893,
          -0.0012831355303573996,
          0.14653744828807838,
          -0.02320865939621515,
          -0.061856533890986956,
          -0.07469801987588343,
          -0.06162421891143392,
          -0.024808441862149515,
          -0.06625583578143376,
          -0.08730223673631556,
          -0.18153075900218352,
          0.1817475903321099,
          -0.014988981232433547,
          -0.0754534912132143,
          -0.0598124985230694
         ],
         "xaxis": "x",
         "y": [
          -0.009231991833931155,
          -0.01714702322328029,
          -0.04352511035057379,
          -0.026906142041720014,
          -0.061082953333930975,
          -0.10371375640989657,
          -0.19584161914467377,
          -0.020717836469611083,
          -0.06265524338012649,
          -0.007000043795215641,
          -0.1452946457842804,
          -0.010237841206216538,
          0.03038817579014827,
          0.005770734860994138,
          -0.014832236052752124,
          -0.07338851180604193,
          -0.1959569583011736,
          0.02999605817891681,
          -0.18194603616289715,
          -0.021160009145244248,
          -0.024748812205413626,
          -0.015286525561510233,
          -0.0035647927687504537,
          -0.04349452517512065,
          -0.0025473112568078346,
          -0.14185998501849265,
          -0.029949911996106957,
          -0.15241476447329053,
          0.03619437807043086,
          -0.06044317958403017,
          0.029226901088840268,
          -0.05059849636094003,
          -0.08800614330370903,
          0.02265330819130376,
          -0.09239427554464244,
          -0.013990276352719036,
          -0.0016894562028501071,
          -0.10065092397511727,
          0.021063859739059002,
          -0.0724870956826722,
          -0.04667047139096333,
          -0.001416743479900979,
          -0.09383691318597578,
          -0.03876910064511613,
          -0.029140893848151043,
          -0.03559631089162911,
          0.012529363775312248,
          0.014766790371235418,
          -0.016208752488416245,
          -0.020769057505285165,
          -0.03705682720389049,
          -0.0491056692201252,
          0.04209688073599371,
          -0.06222225933663181,
          -0.004201882459037419,
          -0.025838619809789933,
          -0.06218874710495435,
          -0.026638171691399936,
          -0.045900745316533355,
          0.0034576307913416803,
          -0.0660743352667769,
          0.0013724886911214316,
          0.013900483528560069,
          -0.04067935910782042,
          -0.057626658714055264,
          0.006626403655029381,
          -0.04988950509570712,
          -0.2409900394734765,
          -0.04063825181010118,
          -0.1601606839505376,
          -0.11817651666383164,
          -0.06244979084803012,
          -0.04602345422724049,
          -0.04605236894889436,
          -0.05006316642315008,
          -0.07918651874772441,
          -0.09805083226026104,
          0.012645856752383899,
          -0.023600790987395738,
          -0.09978739052890152,
          -0.146275900043745,
          -0.026927061269975464,
          -0.08800922288929115,
          -0.01644247224170868,
          -0.08388177839593632,
          -0.36399203060198004,
          -0.009434212361462774,
          -0.02555826629427048,
          -0.03923003278909051,
          -0.024518235927678465,
          0.009449078815122745,
          -0.09068907019833235,
          -0.06001428679808405,
          -0.10259757407596719,
          -0.23305871057175953,
          -0.005340629259200642,
          -0.0486572926873182,
          -0.06407975729848271
         ],
         "yaxis": "y"
        },
        {
         "alignmentgroup": "True",
         "customdata": [
          [
           "Radiohead",
           "Burn the Witch",
           "A Moon Shaped Pool",
           1
          ],
          [
           "Radiohead",
           "Daydreaming",
           "A Moon Shaped Pool",
           2
          ],
          [
           "Radiohead",
           "Decks Dark",
           "A Moon Shaped Pool",
           3
          ],
          [
           "Radiohead",
           "Desert Island Disk",
           "A Moon Shaped Pool",
           4
          ],
          [
           "Radiohead",
           "Ful Stop",
           "A Moon Shaped Pool",
           5
          ],
          [
           "Radiohead",
           "Glass Eyes",
           "A Moon Shaped Pool",
           6
          ],
          [
           "Radiohead",
           "Identikit",
           "A Moon Shaped Pool",
           7
          ],
          [
           "Radiohead",
           "The Numbers",
           "A Moon Shaped Pool",
           8
          ],
          [
           "Radiohead",
           "Present Tense",
           "A Moon Shaped Pool",
           9
          ],
          [
           "Radiohead",
           "Tinker Tailor Soldier Sailor Rich Man Poor Man Beggar Man Thief",
           "A Moon Shaped Pool",
           10
          ],
          [
           "Radiohead",
           "True Love Waits",
           "A Moon Shaped Pool",
           11
          ],
          [
           "Radiohead",
           "Packt Like Sardines In a Crushd Tin Box",
           "Amnesiac",
           1
          ],
          [
           "Radiohead",
           "Pyramid Song",
           "Amnesiac",
           2
          ],
          [
           "Radiohead",
           "Pulk/Pull Revolving Doors",
           "Amnesiac",
           3
          ],
          [
           "Radiohead",
           "You And Whose Army?",
           "Amnesiac",
           4
          ],
          [
           "Radiohead",
           "I Might Be Wrong",
           "Amnesiac",
           5
          ],
          [
           "Radiohead",
           "Knives Out",
           "Amnesiac",
           6
          ],
          [
           "Radiohead",
           "Morning Bell/Amnesiac",
           "Amnesiac",
           7
          ],
          [
           "Radiohead",
           "Dollars and Cents",
           "Amnesiac",
           8
          ],
          [
           "Radiohead",
           "Like Spinning Plates",
           "Amnesiac",
           10
          ],
          [
           "Radiohead",
           "Life In a Glasshouse",
           "Amnesiac",
           11
          ],
          [
           "Radiohead",
           "2 + 2 = 5",
           "Hail To the Thief",
           1
          ],
          [
           "Radiohead",
           "Sit Down. Stand Up",
           "Hail To the Thief",
           2
          ],
          [
           "Radiohead",
           "Sail To The Moon",
           "Hail To the Thief",
           3
          ],
          [
           "Radiohead",
           "Backdrifts",
           "Hail To the Thief",
           4
          ],
          [
           "Radiohead",
           "Go To Sleep",
           "Hail To the Thief",
           5
          ],
          [
           "Radiohead",
           "Where I End and You Begin",
           "Hail To the Thief",
           6
          ],
          [
           "Radiohead",
           "We Suck Young Blood",
           "Hail To the Thief",
           7
          ],
          [
           "Radiohead",
           "The Gloaming",
           "Hail To the Thief",
           8
          ],
          [
           "Radiohead",
           "There, There",
           "Hail To the Thief",
           9
          ],
          [
           "Radiohead",
           "I Will",
           "Hail To the Thief",
           10
          ],
          [
           "Radiohead",
           "A Punch Up at a Wedding",
           "Hail To the Thief",
           11
          ],
          [
           "Radiohead",
           "Myxomatosis",
           "Hail To the Thief",
           12
          ],
          [
           "Radiohead",
           "Scatterbrain",
           "Hail To the Thief",
           13
          ],
          [
           "Radiohead",
           "A Wolf At the Door",
           "Hail To the Thief",
           14
          ],
          [
           "Radiohead",
           "15 Step",
           "In Rainbows",
           1
          ],
          [
           "Radiohead",
           "Bodysnatchers",
           "In Rainbows",
           2
          ],
          [
           "Radiohead",
           "Nude",
           "In Rainbows",
           3
          ],
          [
           "Radiohead",
           "Weird Fishes/ Arpeggi",
           "In Rainbows",
           4
          ],
          [
           "Radiohead",
           "All I Need",
           "In Rainbows",
           5
          ],
          [
           "Radiohead",
           "Faust Arp",
           "In Rainbows",
           6
          ],
          [
           "Radiohead",
           "Reckoner",
           "In Rainbows",
           7
          ],
          [
           "Radiohead",
           "House Of Cards",
           "In Rainbows",
           8
          ],
          [
           "Radiohead",
           "Jigsaw Falling Into Place",
           "In Rainbows",
           9
          ],
          [
           "Radiohead",
           "Videotape",
           "In Rainbows",
           10
          ],
          [
           "Radiohead",
           "Everything In Its Right Place",
           "Kid A",
           1
          ],
          [
           "Radiohead",
           "Kid A",
           "Kid A",
           2
          ],
          [
           "Radiohead",
           "The National Anthem",
           "Kid A",
           3
          ],
          [
           "Radiohead",
           "How to Disappear Completely",
           "Kid A",
           4
          ],
          [
           "Radiohead",
           "Optimistic",
           "Kid A",
           6
          ],
          [
           "Radiohead",
           "In Limbo",
           "Kid A",
           7
          ],
          [
           "Radiohead",
           "Idioteque",
           "Kid A",
           8
          ],
          [
           "Radiohead",
           "Morning Bell",
           "Kid A",
           9
          ],
          [
           "Radiohead",
           "Motion Picture Soundtrack",
           "Kid A",
           10
          ],
          [
           "Radiohead",
           "Airbag",
           "OK Computer",
           1
          ],
          [
           "Radiohead",
           "Paranoid Android",
           "OK Computer",
           2
          ],
          [
           "Radiohead",
           "Subterranean Homesick Alien",
           "OK Computer",
           3
          ],
          [
           "Radiohead",
           "Exit Music (For A Film)",
           "OK Computer",
           4
          ],
          [
           "Radiohead",
           "Let Down",
           "OK Computer",
           5
          ],
          [
           "Radiohead",
           "Karma Police",
           "OK Computer",
           6
          ],
          [
           "Radiohead",
           "Fitter Happier",
           "OK Computer",
           7
          ],
          [
           "Radiohead",
           "Electioneering",
           "OK Computer",
           8
          ],
          [
           "Radiohead",
           "Climbing Up the Walls",
           "OK Computer",
           9
          ],
          [
           "Radiohead",
           "No Surprises",
           "OK Computer",
           10
          ],
          [
           "Radiohead",
           "Lucky",
           "OK Computer",
           11
          ],
          [
           "Radiohead",
           "The Tourist",
           "OK Computer",
           12
          ],
          [
           "Radiohead",
           "You",
           "Pablo Honey",
           1
          ],
          [
           "Radiohead",
           "Creep",
           "Pablo Honey",
           2
          ],
          [
           "Radiohead",
           "How Do You?",
           "Pablo Honey",
           3
          ],
          [
           "Radiohead",
           "Stop Whispering",
           "Pablo Honey",
           4
          ],
          [
           "Radiohead",
           "Thinking About You",
           "Pablo Honey",
           5
          ],
          [
           "Radiohead",
           "Anyone Can Play Guitar",
           "Pablo Honey",
           6
          ],
          [
           "Radiohead",
           "Ripcord",
           "Pablo Honey",
           7
          ],
          [
           "Radiohead",
           "Vegetable",
           "Pablo Honey",
           8
          ],
          [
           "Radiohead",
           "Prove Yourself",
           "Pablo Honey",
           9
          ],
          [
           "Radiohead",
           "I Can't",
           "Pablo Honey",
           10
          ],
          [
           "Radiohead",
           "Lurgee",
           "Pablo Honey",
           11
          ],
          [
           "Radiohead",
           "Blow Out",
           "Pablo Honey",
           12
          ],
          [
           "Radiohead",
           "Planet Telex",
           "The Bends",
           1
          ],
          [
           "Radiohead",
           "The Bends",
           "The Bends",
           2
          ],
          [
           "Radiohead",
           "High and Dry",
           "The Bends",
           3
          ],
          [
           "Radiohead",
           "Fake Plastic Trees",
           "The Bends",
           4
          ],
          [
           "Radiohead",
           "Bones",
           "The Bends",
           5
          ],
          [
           "Radiohead",
           "(Nice Dream)",
           "The Bends",
           6
          ],
          [
           "Radiohead",
           "Just",
           "The Bends",
           7
          ],
          [
           "Radiohead",
           "My Iron Lung",
           "The Bends",
           8
          ],
          [
           "Radiohead",
           "Bullet Proof ... I Wish I Was",
           "The Bends",
           9
          ],
          [
           "Radiohead",
           "Black Star",
           "The Bends",
           10
          ],
          [
           "Radiohead",
           "Sulk",
           "The Bends",
           11
          ],
          [
           "Radiohead",
           "Street Spirit (Fade Out)",
           "The Bends",
           12
          ],
          [
           "Radiohead",
           "Bloom",
           "The King Of Limbs",
           1
          ],
          [
           "Radiohead",
           "Morning Mr Magpie",
           "The King Of Limbs",
           2
          ],
          [
           "Radiohead",
           "Little By Little",
           "The King Of Limbs",
           3
          ],
          [
           "Radiohead",
           "Feral",
           "The King Of Limbs",
           4
          ],
          [
           "Radiohead",
           "Lotus Flower",
           "The King Of Limbs",
           5
          ],
          [
           "Radiohead",
           "Codex",
           "The King Of Limbs",
           6
          ],
          [
           "Radiohead",
           "Give Up The Ghost",
           "The King Of Limbs",
           7
          ],
          [
           "Radiohead",
           "Separator",
           "The King Of Limbs",
           8
          ]
         ],
         "hovertemplate": "artist=%{customdata[0]}<br>PC1=%{x}<br>title=%{customdata[1]}<br>album=%{customdata[2]}<br>track_number=%{customdata[3]}<extra></extra>",
         "legendgroup": "Radiohead",
         "marker": {
          "color": "#EF553B",
          "symbol": "circle"
         },
         "name": "Radiohead",
         "notched": true,
         "offsetgroup": "Radiohead",
         "showlegend": false,
         "type": "box",
         "x": [
          -0.03263099112890138,
          0.0011257698605253719,
          0.004737554330770499,
          -0.11826880972062255,
          0.013160140282198963,
          -0.09172501620906562,
          -0.005365481822780904,
          -0.008246628465371388,
          -0.08218380256688985,
          -0.00420052602574222,
          -0.23762410649582258,
          -0.05878383344399252,
          -0.005168568478571428,
          -0.007882887145868827,
          -0.03545148774594644,
          -0.08992943635338219,
          -0.0002535396490769143,
          -0.0011794566386723066,
          -0.06114628736232891,
          -0.012419840073166107,
          -0.04213076958362631,
          -0.0073270511377150176,
          0.00476530200495375,
          -0.0050508438231703714,
          -0.05968998832728578,
          0.0123826238462958,
          0.010218686958957956,
          0.1264713741798674,
          0.02519532397668016,
          -0.07677226878968027,
          -0.0425156275699168,
          -0.07420291031053589,
          -0.08677885642013837,
          0.01196124555083557,
          -0.16241559270507683,
          -0.033275439935295345,
          0.022706387373786344,
          -0.08592839569417281,
          0.010774640399786201,
          -0.07232944161794905,
          -0.029900716977636372,
          0.018222912456518615,
          0.02033599764762708,
          -0.0718797158018539,
          -0.03472847329520862,
          -0.016455343225440417,
          -0.007607874650720983,
          -0.005535013021845701,
          -0.05176306924734812,
          -0.01063226003676616,
          -0.04142809834223943,
          0.005835531344758223,
          0.007554591593306826,
          -0.09681039326802857,
          -0.03837174828685514,
          -0.0342867102194697,
          -0.10988957298042586,
          0.0000031629261386947275,
          -0.08676747361586688,
          0.008687711117582054,
          -0.08994667191795952,
          -0.005493331619825804,
          -0.05389457686064063,
          -0.06459873401110827,
          -0.07423232926879934,
          0.019424612979665218,
          -0.021205712354383878,
          -0.0041745573012349525,
          -0.046070506633479544,
          -0.003920609536967233,
          -0.11864318873844057,
          -0.10247833434592353,
          -0.033919965954023676,
          -0.06481289060707447,
          -0.02829537238546559,
          -0.020871338549975,
          -0.09350142728677381,
          0.03190888890577151,
          -0.005160670527998363,
          -0.11474553105928435,
          -0.1876869803754493,
          -0.04918389446807788,
          0.0352413896796207,
          -0.04517463713047893,
          -0.0012831355303573996,
          0.14653744828807838,
          -0.02320865939621515,
          -0.061856533890986956,
          -0.07469801987588343,
          -0.06162421891143392,
          -0.024808441862149515,
          -0.06625583578143376,
          -0.08730223673631556,
          -0.18153075900218352,
          0.1817475903321099,
          -0.014988981232433547,
          -0.0754534912132143,
          -0.0598124985230694
         ],
         "xaxis": "x2",
         "yaxis": "y2"
        },
        {
         "customdata": [
          [
           "St. Vincent",
           "The Strangers",
           "Actor",
           1
          ],
          [
           "St. Vincent",
           "Save Me from What I Want",
           "Actor",
           2
          ],
          [
           "St. Vincent",
           "The Neighbors",
           "Actor",
           3
          ],
          [
           "St. Vincent",
           "Actor Out of Work",
           "Actor",
           4
          ],
          [
           "St. Vincent",
           "Black Rainbow",
           "Actor",
           5
          ],
          [
           "St. Vincent",
           "Laughing with a Mouth of Blood",
           "Actor",
           6
          ],
          [
           "St. Vincent",
           "Marrow",
           "Actor",
           7
          ],
          [
           "St. Vincent",
           "The Bed",
           "Actor",
           8
          ],
          [
           "St. Vincent",
           "The Party",
           "Actor",
           9
          ],
          [
           "St. Vincent",
           "Just the Same But Brand New",
           "Actor",
           10
          ],
          [
           "St. Vincent",
           "The Sequel",
           "Actor",
           11
          ],
          [
           "St. Vincent",
           "Pay Your Way In Pain",
           "Daddy's Home",
           1
          ],
          [
           "St. Vincent",
           "Down And Out Downtown",
           "Daddy's Home",
           2
          ],
          [
           "St. Vincent",
           "Daddy's Home",
           "Daddy's Home",
           3
          ],
          [
           "St. Vincent",
           "Live In The Dream",
           "Daddy's Home",
           4
          ],
          [
           "St. Vincent",
           "The Melting Of The Sun",
           "Daddy's Home",
           5
          ],
          [
           "St. Vincent",
           "Humming - Interlude 1",
           "Daddy's Home",
           6
          ],
          [
           "St. Vincent",
           "The Laughing Man",
           "Daddy's Home",
           7
          ],
          [
           "St. Vincent",
           "Down",
           "Daddy's Home",
           8
          ],
          [
           "St. Vincent",
           "Somebody Like Me",
           "Daddy's Home",
           10
          ],
          [
           "St. Vincent",
           "My Baby Wants A Baby",
           "Daddy's Home",
           11
          ],
          [
           "St. Vincent",
           "…At The Holiday Party",
           "Daddy's Home",
           12
          ],
          [
           "St. Vincent",
           "Candy Darling",
           "Daddy's Home",
           13
          ],
          [
           "St. Vincent",
           "Humming - Interlude 3",
           "Daddy's Home",
           14
          ],
          [
           "St. Vincent",
           "Who",
           "Love This Giant",
           1
          ],
          [
           "St. Vincent",
           "Weekend in the Dust",
           "Love This Giant",
           2
          ],
          [
           "St. Vincent",
           "Dinner for Two",
           "Love This Giant",
           3
          ],
          [
           "St. Vincent",
           "Ice Age",
           "Love This Giant",
           4
          ],
          [
           "St. Vincent",
           "I Am an Ape",
           "Love This Giant",
           5
          ],
          [
           "St. Vincent",
           "The Forest Awakes",
           "Love This Giant",
           6
          ],
          [
           "St. Vincent",
           "I Should Watch TV",
           "Love This Giant",
           7
          ],
          [
           "St. Vincent",
           "Lazarus",
           "Love This Giant",
           8
          ],
          [
           "St. Vincent",
           "Optimist",
           "Love This Giant",
           9
          ],
          [
           "St. Vincent",
           "Lightning",
           "Love This Giant",
           10
          ],
          [
           "St. Vincent",
           "The One Who Broke Your Heart",
           "Love This Giant",
           11
          ],
          [
           "St. Vincent",
           "Outside of Space and Time",
           "Love This Giant",
           12
          ],
          [
           "St. Vincent",
           "Hang On Me",
           "MASSEDUCTION",
           1
          ],
          [
           "St. Vincent",
           "Pills",
           "MASSEDUCTION",
           2
          ],
          [
           "St. Vincent",
           "Masseduction",
           "MASSEDUCTION",
           3
          ],
          [
           "St. Vincent",
           "Sugarboy",
           "MASSEDUCTION",
           4
          ],
          [
           "St. Vincent",
           "Los Ageless",
           "MASSEDUCTION",
           5
          ],
          [
           "St. Vincent",
           "Happy Birthday, Johnny",
           "MASSEDUCTION",
           6
          ],
          [
           "St. Vincent",
           "Savior",
           "MASSEDUCTION",
           7
          ],
          [
           "St. Vincent",
           "New York",
           "MASSEDUCTION",
           8
          ],
          [
           "St. Vincent",
           "Fear The Future",
           "MASSEDUCTION",
           9
          ],
          [
           "St. Vincent",
           "Young Lover",
           "MASSEDUCTION",
           10
          ],
          [
           "St. Vincent",
           "Slow Disco",
           "MASSEDUCTION",
           12
          ],
          [
           "St. Vincent",
           "Smoking Section",
           "MASSEDUCTION",
           13
          ],
          [
           "St. Vincent",
           "Now, Now",
           "Marry Me",
           1
          ],
          [
           "St. Vincent",
           "Jesus Saves, I Spend",
           "Marry Me",
           2
          ],
          [
           "St. Vincent",
           "Your Lips Are Red",
           "Marry Me",
           3
          ],
          [
           "St. Vincent",
           "Marry Me",
           "Marry Me",
           4
          ],
          [
           "St. Vincent",
           "Paris Is Burning",
           "Marry Me",
           5
          ],
          [
           "St. Vincent",
           "All My Stars Aligned",
           "Marry Me",
           6
          ],
          [
           "St. Vincent",
           "The Apocalypse Song",
           "Marry Me",
           7
          ],
          [
           "St. Vincent",
           "Landmines",
           "Marry Me",
           9
          ],
          [
           "St. Vincent",
           "Human Racing",
           "Marry Me",
           10
          ],
          [
           "St. Vincent",
           "What Me Worry",
           "Marry Me",
           11
          ],
          [
           "St. Vincent",
           "Rattlesnake",
           "St. Vincent (Deluxe Edition)",
           1
          ],
          [
           "St. Vincent",
           "Birth In Reverse",
           "St. Vincent (Deluxe Edition)",
           2
          ],
          [
           "St. Vincent",
           "Prince Johnny",
           "St. Vincent (Deluxe Edition)",
           3
          ],
          [
           "St. Vincent",
           "Huey Newton",
           "St. Vincent (Deluxe Edition)",
           4
          ],
          [
           "St. Vincent",
           "Digital Witness",
           "St. Vincent (Deluxe Edition)",
           5
          ],
          [
           "St. Vincent",
           "I Prefer Your Love",
           "St. Vincent (Deluxe Edition)",
           6
          ],
          [
           "St. Vincent",
           "Regret",
           "St. Vincent (Deluxe Edition)",
           7
          ],
          [
           "St. Vincent",
           "Bring Me Your Loves",
           "St. Vincent (Deluxe Edition)",
           8
          ],
          [
           "St. Vincent",
           "Psychopath",
           "St. Vincent (Deluxe Edition)",
           9
          ],
          [
           "St. Vincent",
           "Every Tear Disappears",
           "St. Vincent (Deluxe Edition)",
           10
          ],
          [
           "St. Vincent",
           "Severed Crossed Fingers",
           "St. Vincent (Deluxe Edition)",
           11
          ],
          [
           "St. Vincent",
           "Bad Believer",
           "St. Vincent (Deluxe Edition)",
           12
          ],
          [
           "St. Vincent",
           "Pieta",
           "St. Vincent (Deluxe Edition)",
           13
          ],
          [
           "St. Vincent",
           "Sparrow",
           "St. Vincent (Deluxe Edition)",
           14
          ],
          [
           "St. Vincent",
           "Del Rio",
           "St. Vincent (Deluxe Edition)",
           15
          ],
          [
           "St. Vincent",
           "Digital Witness - DARKSIDE Remix",
           "St. Vincent (Deluxe Edition)",
           16
          ],
          [
           "St. Vincent",
           "Chloe In The Afternoon",
           "Strange Mercy",
           1
          ],
          [
           "St. Vincent",
           "Cruel",
           "Strange Mercy",
           2
          ],
          [
           "St. Vincent",
           "Cheerleader",
           "Strange Mercy",
           3
          ],
          [
           "St. Vincent",
           "Surgeon",
           "Strange Mercy",
           4
          ],
          [
           "St. Vincent",
           "Northern Lights",
           "Strange Mercy",
           5
          ],
          [
           "St. Vincent",
           "Strange Mercy",
           "Strange Mercy",
           6
          ],
          [
           "St. Vincent",
           "Neutered Fruit",
           "Strange Mercy",
           7
          ],
          [
           "St. Vincent",
           "Champagne Year",
           "Strange Mercy",
           8
          ],
          [
           "St. Vincent",
           "Dilettante",
           "Strange Mercy",
           9
          ],
          [
           "St. Vincent",
           "Hysterical Strength",
           "Strange Mercy",
           10
          ],
          [
           "St. Vincent",
           "Year Of The Tiger",
           "Strange Mercy",
           11
          ]
         ],
         "hovertemplate": "artist=%{customdata[0]}<br>PC1=%{x}<br>PC0=%{y}<br>title=%{customdata[1]}<br>album=%{customdata[2]}<br>track_number=%{customdata[3]}<extra></extra>",
         "legendgroup": "St. Vincent",
         "marker": {
          "color": "#00cc96",
          "symbol": "circle"
         },
         "mode": "markers",
         "name": "St. Vincent",
         "orientation": "v",
         "showlegend": true,
         "type": "scatter",
         "x": [
          0.003997893139615109,
          0.06755207032983815,
          -0.05483928498958953,
          -0.27543560595747424,
          0.03889977488026782,
          -0.06766062315740624,
          0.014640965843433613,
          -0.10918206819536971,
          0.007668147886684991,
          -0.04603916469910098,
          -0.01834010749219913,
          0.20738071017185955,
          -0.07285637952108516,
          -0.05320336242082811,
          -0.136318315727658,
          -0.07735518239752096,
          -0.007774516055724571,
          -0.13416534087066168,
          -0.13930100840923582,
          -0.03604311770798212,
          -0.19273419529046176,
          0.034196401920326094,
          -0.16000796422559038,
          -0.015389124593109104,
          -0.025248109278367136,
          -0.2426209134421129,
          -0.08806639588420317,
          -0.04538300411735194,
          -0.010257307793169624,
          -0.015427439629941168,
          -0.09621801312208787,
          -0.04886696256831022,
          0.018620092909231237,
          -0.022728520338835476,
          -0.07230603477877356,
          -0.04625175179132407,
          -0.077418712298567,
          0.00857994675624953,
          0.019240487233038384,
          0.013294841986265632,
          -0.05851051985035878,
          -0.03940613987067158,
          -0.08583170329768347,
          -0.10952959558227575,
          -0.04341693065193604,
          -0.030554156167829243,
          -0.031179438367840963,
          -0.11140147396617744,
          -0.11475363167342736,
          -0.056343181855129786,
          -0.0034301171427745525,
          -0.11028947153947187,
          -0.017932428600655453,
          -0.11014464076353762,
          -0.057709012950720714,
          -0.21240632094092185,
          -0.0471302295497667,
          -0.06380213324296627,
          0.005926239484630107,
          0.08619149941102862,
          -0.13502684635032053,
          -0.09137191123259115,
          0.054758858292680374,
          -0.17195821422038543,
          -0.0024245012942417828,
          -0.16285962895447456,
          -0.036831441093916464,
          -0.10554912341953693,
          -0.006129469231000018,
          -0.2261037356026202,
          -0.02403700422910877,
          -0.018431965923130716,
          -0.04891569424133214,
          0.04502499884081663,
          -0.040979311609151796,
          0.006649429919427921,
          -0.3276263095838449,
          -0.04285155456113242,
          -0.002107360580756506,
          -0.05646169657904249,
          0.01717927549563055,
          0.050580053474940156,
          -0.105692430988399,
          -0.008028113229608958,
          0.0009370377706356915
         ],
         "xaxis": "x",
         "y": [
          0.0006595951635619028,
          -0.08599274737094179,
          -0.04004591654390169,
          -0.15021239540881975,
          -0.061207717892100985,
          -0.026925322116032442,
          -0.04496641953571687,
          -0.10351060898866425,
          -0.03440250805256071,
          -0.05559377851281739,
          -0.022462491141478625,
          -0.5279919485123071,
          -0.03900246846509262,
          -0.027784132746935718,
          -0.11282118253877166,
          -0.056801763133106364,
          0.01219513289690456,
          -0.09749139979548745,
          -0.11269977404718243,
          -0.05875904124609714,
          -0.15875723787615642,
          -0.06495368888999974,
          -0.09898810424365014,
          -0.022569935029529985,
          -0.012980363795043684,
          -0.21439879292928893,
          -0.061042700733998846,
          -0.04563778811198667,
          -0.008923903266864824,
          0.01049204779833286,
          -0.10200551568093803,
          0.00571202666308452,
          -0.004300913365945398,
          -0.040106539356451115,
          -0.043126756835551776,
          -0.01707864349019459,
          -0.027413435581567808,
          -0.0009846768132326402,
          -0.0020893416257723625,
          0.006491279677450421,
          -0.0568686557899607,
          -0.029569458313394928,
          -0.03383389932235863,
          -0.07066424549145484,
          -0.008474840231254334,
          -0.011623465138965854,
          -0.012533338192370048,
          -0.08520103106700627,
          -0.08521122056127527,
          -0.010955520808551101,
          0.016217037976260347,
          -0.1651018385815956,
          0.02453734078724975,
          -0.05149085911421384,
          -0.012387934255671066,
          -0.10270857324442352,
          -0.19081588914415407,
          -0.03919747510463433,
          0.002797487401409163,
          -0.08773831480121615,
          -0.11120889522239756,
          -0.03592075093336418,
          -0.17910143586180316,
          -0.07779007221098333,
          -0.024976004001767384,
          -0.07938071903633231,
          -0.03906478474949458,
          -0.04818584399970863,
          -0.03692093936878361,
          -0.14180255816003218,
          0.0008475875411272952,
          0.018123320707358427,
          -0.02761303028791164,
          -0.12947453430320782,
          0.00218628303750496,
          -0.15850331877301943,
          -0.27619590207272643,
          0.03040241039795633,
          -0.033489954517411345,
          -0.05321809779233025,
          -0.12280667313190577,
          -0.13849914085617343,
          -0.08585328801956635,
          -0.0140333800808302,
          0.003044258871741842
         ],
         "yaxis": "y"
        },
        {
         "alignmentgroup": "True",
         "customdata": [
          [
           "St. Vincent",
           "The Strangers",
           "Actor",
           1
          ],
          [
           "St. Vincent",
           "Save Me from What I Want",
           "Actor",
           2
          ],
          [
           "St. Vincent",
           "The Neighbors",
           "Actor",
           3
          ],
          [
           "St. Vincent",
           "Actor Out of Work",
           "Actor",
           4
          ],
          [
           "St. Vincent",
           "Black Rainbow",
           "Actor",
           5
          ],
          [
           "St. Vincent",
           "Laughing with a Mouth of Blood",
           "Actor",
           6
          ],
          [
           "St. Vincent",
           "Marrow",
           "Actor",
           7
          ],
          [
           "St. Vincent",
           "The Bed",
           "Actor",
           8
          ],
          [
           "St. Vincent",
           "The Party",
           "Actor",
           9
          ],
          [
           "St. Vincent",
           "Just the Same But Brand New",
           "Actor",
           10
          ],
          [
           "St. Vincent",
           "The Sequel",
           "Actor",
           11
          ],
          [
           "St. Vincent",
           "Pay Your Way In Pain",
           "Daddy's Home",
           1
          ],
          [
           "St. Vincent",
           "Down And Out Downtown",
           "Daddy's Home",
           2
          ],
          [
           "St. Vincent",
           "Daddy's Home",
           "Daddy's Home",
           3
          ],
          [
           "St. Vincent",
           "Live In The Dream",
           "Daddy's Home",
           4
          ],
          [
           "St. Vincent",
           "The Melting Of The Sun",
           "Daddy's Home",
           5
          ],
          [
           "St. Vincent",
           "Humming - Interlude 1",
           "Daddy's Home",
           6
          ],
          [
           "St. Vincent",
           "The Laughing Man",
           "Daddy's Home",
           7
          ],
          [
           "St. Vincent",
           "Down",
           "Daddy's Home",
           8
          ],
          [
           "St. Vincent",
           "Somebody Like Me",
           "Daddy's Home",
           10
          ],
          [
           "St. Vincent",
           "My Baby Wants A Baby",
           "Daddy's Home",
           11
          ],
          [
           "St. Vincent",
           "…At The Holiday Party",
           "Daddy's Home",
           12
          ],
          [
           "St. Vincent",
           "Candy Darling",
           "Daddy's Home",
           13
          ],
          [
           "St. Vincent",
           "Humming - Interlude 3",
           "Daddy's Home",
           14
          ],
          [
           "St. Vincent",
           "Who",
           "Love This Giant",
           1
          ],
          [
           "St. Vincent",
           "Weekend in the Dust",
           "Love This Giant",
           2
          ],
          [
           "St. Vincent",
           "Dinner for Two",
           "Love This Giant",
           3
          ],
          [
           "St. Vincent",
           "Ice Age",
           "Love This Giant",
           4
          ],
          [
           "St. Vincent",
           "I Am an Ape",
           "Love This Giant",
           5
          ],
          [
           "St. Vincent",
           "The Forest Awakes",
           "Love This Giant",
           6
          ],
          [
           "St. Vincent",
           "I Should Watch TV",
           "Love This Giant",
           7
          ],
          [
           "St. Vincent",
           "Lazarus",
           "Love This Giant",
           8
          ],
          [
           "St. Vincent",
           "Optimist",
           "Love This Giant",
           9
          ],
          [
           "St. Vincent",
           "Lightning",
           "Love This Giant",
           10
          ],
          [
           "St. Vincent",
           "The One Who Broke Your Heart",
           "Love This Giant",
           11
          ],
          [
           "St. Vincent",
           "Outside of Space and Time",
           "Love This Giant",
           12
          ],
          [
           "St. Vincent",
           "Hang On Me",
           "MASSEDUCTION",
           1
          ],
          [
           "St. Vincent",
           "Pills",
           "MASSEDUCTION",
           2
          ],
          [
           "St. Vincent",
           "Masseduction",
           "MASSEDUCTION",
           3
          ],
          [
           "St. Vincent",
           "Sugarboy",
           "MASSEDUCTION",
           4
          ],
          [
           "St. Vincent",
           "Los Ageless",
           "MASSEDUCTION",
           5
          ],
          [
           "St. Vincent",
           "Happy Birthday, Johnny",
           "MASSEDUCTION",
           6
          ],
          [
           "St. Vincent",
           "Savior",
           "MASSEDUCTION",
           7
          ],
          [
           "St. Vincent",
           "New York",
           "MASSEDUCTION",
           8
          ],
          [
           "St. Vincent",
           "Fear The Future",
           "MASSEDUCTION",
           9
          ],
          [
           "St. Vincent",
           "Young Lover",
           "MASSEDUCTION",
           10
          ],
          [
           "St. Vincent",
           "Slow Disco",
           "MASSEDUCTION",
           12
          ],
          [
           "St. Vincent",
           "Smoking Section",
           "MASSEDUCTION",
           13
          ],
          [
           "St. Vincent",
           "Now, Now",
           "Marry Me",
           1
          ],
          [
           "St. Vincent",
           "Jesus Saves, I Spend",
           "Marry Me",
           2
          ],
          [
           "St. Vincent",
           "Your Lips Are Red",
           "Marry Me",
           3
          ],
          [
           "St. Vincent",
           "Marry Me",
           "Marry Me",
           4
          ],
          [
           "St. Vincent",
           "Paris Is Burning",
           "Marry Me",
           5
          ],
          [
           "St. Vincent",
           "All My Stars Aligned",
           "Marry Me",
           6
          ],
          [
           "St. Vincent",
           "The Apocalypse Song",
           "Marry Me",
           7
          ],
          [
           "St. Vincent",
           "Landmines",
           "Marry Me",
           9
          ],
          [
           "St. Vincent",
           "Human Racing",
           "Marry Me",
           10
          ],
          [
           "St. Vincent",
           "What Me Worry",
           "Marry Me",
           11
          ],
          [
           "St. Vincent",
           "Rattlesnake",
           "St. Vincent (Deluxe Edition)",
           1
          ],
          [
           "St. Vincent",
           "Birth In Reverse",
           "St. Vincent (Deluxe Edition)",
           2
          ],
          [
           "St. Vincent",
           "Prince Johnny",
           "St. Vincent (Deluxe Edition)",
           3
          ],
          [
           "St. Vincent",
           "Huey Newton",
           "St. Vincent (Deluxe Edition)",
           4
          ],
          [
           "St. Vincent",
           "Digital Witness",
           "St. Vincent (Deluxe Edition)",
           5
          ],
          [
           "St. Vincent",
           "I Prefer Your Love",
           "St. Vincent (Deluxe Edition)",
           6
          ],
          [
           "St. Vincent",
           "Regret",
           "St. Vincent (Deluxe Edition)",
           7
          ],
          [
           "St. Vincent",
           "Bring Me Your Loves",
           "St. Vincent (Deluxe Edition)",
           8
          ],
          [
           "St. Vincent",
           "Psychopath",
           "St. Vincent (Deluxe Edition)",
           9
          ],
          [
           "St. Vincent",
           "Every Tear Disappears",
           "St. Vincent (Deluxe Edition)",
           10
          ],
          [
           "St. Vincent",
           "Severed Crossed Fingers",
           "St. Vincent (Deluxe Edition)",
           11
          ],
          [
           "St. Vincent",
           "Bad Believer",
           "St. Vincent (Deluxe Edition)",
           12
          ],
          [
           "St. Vincent",
           "Pieta",
           "St. Vincent (Deluxe Edition)",
           13
          ],
          [
           "St. Vincent",
           "Sparrow",
           "St. Vincent (Deluxe Edition)",
           14
          ],
          [
           "St. Vincent",
           "Del Rio",
           "St. Vincent (Deluxe Edition)",
           15
          ],
          [
           "St. Vincent",
           "Digital Witness - DARKSIDE Remix",
           "St. Vincent (Deluxe Edition)",
           16
          ],
          [
           "St. Vincent",
           "Chloe In The Afternoon",
           "Strange Mercy",
           1
          ],
          [
           "St. Vincent",
           "Cruel",
           "Strange Mercy",
           2
          ],
          [
           "St. Vincent",
           "Cheerleader",
           "Strange Mercy",
           3
          ],
          [
           "St. Vincent",
           "Surgeon",
           "Strange Mercy",
           4
          ],
          [
           "St. Vincent",
           "Northern Lights",
           "Strange Mercy",
           5
          ],
          [
           "St. Vincent",
           "Strange Mercy",
           "Strange Mercy",
           6
          ],
          [
           "St. Vincent",
           "Neutered Fruit",
           "Strange Mercy",
           7
          ],
          [
           "St. Vincent",
           "Champagne Year",
           "Strange Mercy",
           8
          ],
          [
           "St. Vincent",
           "Dilettante",
           "Strange Mercy",
           9
          ],
          [
           "St. Vincent",
           "Hysterical Strength",
           "Strange Mercy",
           10
          ],
          [
           "St. Vincent",
           "Year Of The Tiger",
           "Strange Mercy",
           11
          ]
         ],
         "hovertemplate": "artist=%{customdata[0]}<br>PC1=%{x}<br>title=%{customdata[1]}<br>album=%{customdata[2]}<br>track_number=%{customdata[3]}<extra></extra>",
         "legendgroup": "St. Vincent",
         "marker": {
          "color": "#00cc96",
          "symbol": "circle"
         },
         "name": "St. Vincent",
         "notched": true,
         "offsetgroup": "St. Vincent",
         "showlegend": false,
         "type": "box",
         "x": [
          0.003997893139615109,
          0.06755207032983815,
          -0.05483928498958953,
          -0.27543560595747424,
          0.03889977488026782,
          -0.06766062315740624,
          0.014640965843433613,
          -0.10918206819536971,
          0.007668147886684991,
          -0.04603916469910098,
          -0.01834010749219913,
          0.20738071017185955,
          -0.07285637952108516,
          -0.05320336242082811,
          -0.136318315727658,
          -0.07735518239752096,
          -0.007774516055724571,
          -0.13416534087066168,
          -0.13930100840923582,
          -0.03604311770798212,
          -0.19273419529046176,
          0.034196401920326094,
          -0.16000796422559038,
          -0.015389124593109104,
          -0.025248109278367136,
          -0.2426209134421129,
          -0.08806639588420317,
          -0.04538300411735194,
          -0.010257307793169624,
          -0.015427439629941168,
          -0.09621801312208787,
          -0.04886696256831022,
          0.018620092909231237,
          -0.022728520338835476,
          -0.07230603477877356,
          -0.04625175179132407,
          -0.077418712298567,
          0.00857994675624953,
          0.019240487233038384,
          0.013294841986265632,
          -0.05851051985035878,
          -0.03940613987067158,
          -0.08583170329768347,
          -0.10952959558227575,
          -0.04341693065193604,
          -0.030554156167829243,
          -0.031179438367840963,
          -0.11140147396617744,
          -0.11475363167342736,
          -0.056343181855129786,
          -0.0034301171427745525,
          -0.11028947153947187,
          -0.017932428600655453,
          -0.11014464076353762,
          -0.057709012950720714,
          -0.21240632094092185,
          -0.0471302295497667,
          -0.06380213324296627,
          0.005926239484630107,
          0.08619149941102862,
          -0.13502684635032053,
          -0.09137191123259115,
          0.054758858292680374,
          -0.17195821422038543,
          -0.0024245012942417828,
          -0.16285962895447456,
          -0.036831441093916464,
          -0.10554912341953693,
          -0.006129469231000018,
          -0.2261037356026202,
          -0.02403700422910877,
          -0.018431965923130716,
          -0.04891569424133214,
          0.04502499884081663,
          -0.040979311609151796,
          0.006649429919427921,
          -0.3276263095838449,
          -0.04285155456113242,
          -0.002107360580756506,
          -0.05646169657904249,
          0.01717927549563055,
          0.050580053474940156,
          -0.105692430988399,
          -0.008028113229608958,
          0.0009370377706356915
         ],
         "xaxis": "x2",
         "yaxis": "y2"
        },
        {
         "customdata": [
          [
           "Mr. Twin Sister",
           "Fantasy",
           "Al Mundo Azul",
           1
          ],
          [
           "Mr. Twin Sister",
           "Expressions",
           "Al Mundo Azul",
           2
          ],
          [
           "Mr. Twin Sister",
           "Youth Obsessed",
           "Al Mundo Azul",
           3
          ],
          [
           "Mr. Twin Sister",
           "Beezle",
           "Al Mundo Azul",
           5
          ],
          [
           "Mr. Twin Sister",
           "Ballarino",
           "Al Mundo Azul",
           6
          ],
          [
           "Mr. Twin Sister",
           "Diary",
           "Al Mundo Azul",
           8
          ],
          [
           "Mr. Twin Sister",
           "Despoil",
           "Al Mundo Azul",
           10
          ],
          [
           "Mr. Twin Sister",
           "Al Mundo Azul",
           "Al Mundo Azul",
           11
          ],
          [
           "Mr. Twin Sister",
           "Daniel",
           "In Heaven",
           1
          ],
          [
           "Mr. Twin Sister",
           "Stop",
           "In Heaven",
           2
          ],
          [
           "Mr. Twin Sister",
           "Bad Street",
           "In Heaven",
           3
          ],
          [
           "Mr. Twin Sister",
           "Space Babe",
           "In Heaven",
           4
          ],
          [
           "Mr. Twin Sister",
           "Kimmi In a Rice Field",
           "In Heaven",
           5
          ],
          [
           "Mr. Twin Sister",
           "Luna's Theme",
           "In Heaven",
           6
          ],
          [
           "Mr. Twin Sister",
           "Spain",
           "In Heaven",
           7
          ],
          [
           "Mr. Twin Sister",
           "Gene Ciampi",
           "In Heaven",
           8
          ],
          [
           "Mr. Twin Sister",
           "Saturday Sunday",
           "In Heaven",
           9
          ],
          [
           "Mr. Twin Sister",
           "Eastern Green",
           "In Heaven",
           10
          ],
          [
           "Mr. Twin Sister",
           "Sensitive",
           "Mr Twin Sister",
           1
          ],
          [
           "Mr. Twin Sister",
           "Rude Boy",
           "Mr Twin Sister",
           2
          ],
          [
           "Mr. Twin Sister",
           "In the House of Yes",
           "Mr Twin Sister",
           3
          ],
          [
           "Mr. Twin Sister",
           "Blush",
           "Mr Twin Sister",
           4
          ],
          [
           "Mr. Twin Sister",
           "Out of the Dark",
           "Mr Twin Sister",
           5
          ],
          [
           "Mr. Twin Sister",
           "Twelve Angels",
           "Mr Twin Sister",
           6
          ],
          [
           "Mr. Twin Sister",
           "Crime Scene",
           "Mr Twin Sister",
           8
          ],
          [
           "Mr. Twin Sister",
           "Keep on Mixing",
           "Salt",
           1
          ],
          [
           "Mr. Twin Sister",
           "Alien FM",
           "Salt",
           2
          ],
          [
           "Mr. Twin Sister",
           "Koh-I-Noor",
           "Salt",
           3
          ],
          [
           "Mr. Twin Sister",
           "Buy to Return",
           "Salt",
           4
          ],
          [
           "Mr. Twin Sister",
           "Tops and Bottoms",
           "Salt",
           5
          ],
          [
           "Mr. Twin Sister",
           "Taste in Movies",
           "Salt",
           7
          ],
          [
           "Mr. Twin Sister",
           "Jaipur",
           "Salt",
           8
          ],
          [
           "Mr. Twin Sister",
           "Set Me Free",
           "Salt",
           9
          ]
         ],
         "hovertemplate": "artist=%{customdata[0]}<br>PC1=%{x}<br>PC0=%{y}<br>title=%{customdata[1]}<br>album=%{customdata[2]}<br>track_number=%{customdata[3]}<extra></extra>",
         "legendgroup": "Mr. Twin Sister",
         "marker": {
          "color": "#ab63fa",
          "symbol": "circle"
         },
         "mode": "markers",
         "name": "Mr. Twin Sister",
         "orientation": "v",
         "showlegend": true,
         "type": "scatter",
         "x": [
          0.06488903420114156,
          -0.14933654338161512,
          0.012197037265692247,
          -0.06686522707577056,
          -0.24935271452458566,
          -0.034902579698342096,
          -0.09317076208195836,
          0.018365622708528612,
          -0.12969002725743972,
          -0.06181832971680373,
          0.06781376398270933,
          -0.20450018271258558,
          0.0420297665155324,
          0.07061691757212543,
          -0.024056780544483736,
          -0.1105111180081898,
          -0.14024556535225635,
          -0.04289145609682183,
          -0.01673040579037137,
          0.15011285889228795,
          -0.0829243059130011,
          -0.10630528986550643,
          -0.004352200452561628,
          -0.06085798370453481,
          -0.06505734681474282,
          -0.1366978101054346,
          -0.34591815076722643,
          -0.1026634781883377,
          -0.08964687069675141,
          0.09175650798773173,
          -0.05098226368475382,
          -0.03464985410855852,
          0.018971496686934177
         ],
         "xaxis": "x",
         "y": [
          -0.21444509300475867,
          -0.06840906042964079,
          -0.15378788912745167,
          -0.031191892011883503,
          -0.17915496030442243,
          -0.04220850011934107,
          -0.07349394017214761,
          0.04682837767594225,
          -0.08507169871853015,
          -0.12938731535576198,
          -0.1882281353336862,
          -0.09234601251589632,
          0.02916468687873055,
          -0.0475496993122862,
          -0.14704928978748297,
          -0.025842299872016715,
          -0.07446108850895153,
          -0.0052580176686629,
          -0.13397280509478482,
          -0.4665851588088777,
          -0.052789238299993275,
          -0.11632333355621204,
          -0.11977476806432172,
          -0.04780472809827871,
          -0.033631302750123916,
          -0.10735431123096607,
          -0.18773987047048907,
          -0.08218071251950325,
          -0.0703690699052743,
          -0.3022016640584826,
          -0.030874728259728253,
          -0.1699870165599188,
          -0.01697593899450761
         ],
         "yaxis": "y"
        },
        {
         "alignmentgroup": "True",
         "customdata": [
          [
           "Mr. Twin Sister",
           "Fantasy",
           "Al Mundo Azul",
           1
          ],
          [
           "Mr. Twin Sister",
           "Expressions",
           "Al Mundo Azul",
           2
          ],
          [
           "Mr. Twin Sister",
           "Youth Obsessed",
           "Al Mundo Azul",
           3
          ],
          [
           "Mr. Twin Sister",
           "Beezle",
           "Al Mundo Azul",
           5
          ],
          [
           "Mr. Twin Sister",
           "Ballarino",
           "Al Mundo Azul",
           6
          ],
          [
           "Mr. Twin Sister",
           "Diary",
           "Al Mundo Azul",
           8
          ],
          [
           "Mr. Twin Sister",
           "Despoil",
           "Al Mundo Azul",
           10
          ],
          [
           "Mr. Twin Sister",
           "Al Mundo Azul",
           "Al Mundo Azul",
           11
          ],
          [
           "Mr. Twin Sister",
           "Daniel",
           "In Heaven",
           1
          ],
          [
           "Mr. Twin Sister",
           "Stop",
           "In Heaven",
           2
          ],
          [
           "Mr. Twin Sister",
           "Bad Street",
           "In Heaven",
           3
          ],
          [
           "Mr. Twin Sister",
           "Space Babe",
           "In Heaven",
           4
          ],
          [
           "Mr. Twin Sister",
           "Kimmi In a Rice Field",
           "In Heaven",
           5
          ],
          [
           "Mr. Twin Sister",
           "Luna's Theme",
           "In Heaven",
           6
          ],
          [
           "Mr. Twin Sister",
           "Spain",
           "In Heaven",
           7
          ],
          [
           "Mr. Twin Sister",
           "Gene Ciampi",
           "In Heaven",
           8
          ],
          [
           "Mr. Twin Sister",
           "Saturday Sunday",
           "In Heaven",
           9
          ],
          [
           "Mr. Twin Sister",
           "Eastern Green",
           "In Heaven",
           10
          ],
          [
           "Mr. Twin Sister",
           "Sensitive",
           "Mr Twin Sister",
           1
          ],
          [
           "Mr. Twin Sister",
           "Rude Boy",
           "Mr Twin Sister",
           2
          ],
          [
           "Mr. Twin Sister",
           "In the House of Yes",
           "Mr Twin Sister",
           3
          ],
          [
           "Mr. Twin Sister",
           "Blush",
           "Mr Twin Sister",
           4
          ],
          [
           "Mr. Twin Sister",
           "Out of the Dark",
           "Mr Twin Sister",
           5
          ],
          [
           "Mr. Twin Sister",
           "Twelve Angels",
           "Mr Twin Sister",
           6
          ],
          [
           "Mr. Twin Sister",
           "Crime Scene",
           "Mr Twin Sister",
           8
          ],
          [
           "Mr. Twin Sister",
           "Keep on Mixing",
           "Salt",
           1
          ],
          [
           "Mr. Twin Sister",
           "Alien FM",
           "Salt",
           2
          ],
          [
           "Mr. Twin Sister",
           "Koh-I-Noor",
           "Salt",
           3
          ],
          [
           "Mr. Twin Sister",
           "Buy to Return",
           "Salt",
           4
          ],
          [
           "Mr. Twin Sister",
           "Tops and Bottoms",
           "Salt",
           5
          ],
          [
           "Mr. Twin Sister",
           "Taste in Movies",
           "Salt",
           7
          ],
          [
           "Mr. Twin Sister",
           "Jaipur",
           "Salt",
           8
          ],
          [
           "Mr. Twin Sister",
           "Set Me Free",
           "Salt",
           9
          ]
         ],
         "hovertemplate": "artist=%{customdata[0]}<br>PC1=%{x}<br>title=%{customdata[1]}<br>album=%{customdata[2]}<br>track_number=%{customdata[3]}<extra></extra>",
         "legendgroup": "Mr. Twin Sister",
         "marker": {
          "color": "#ab63fa",
          "symbol": "circle"
         },
         "name": "Mr. Twin Sister",
         "notched": true,
         "offsetgroup": "Mr. Twin Sister",
         "showlegend": false,
         "type": "box",
         "x": [
          0.06488903420114156,
          -0.14933654338161512,
          0.012197037265692247,
          -0.06686522707577056,
          -0.24935271452458566,
          -0.034902579698342096,
          -0.09317076208195836,
          0.018365622708528612,
          -0.12969002725743972,
          -0.06181832971680373,
          0.06781376398270933,
          -0.20450018271258558,
          0.0420297665155324,
          0.07061691757212543,
          -0.024056780544483736,
          -0.1105111180081898,
          -0.14024556535225635,
          -0.04289145609682183,
          -0.01673040579037137,
          0.15011285889228795,
          -0.0829243059130011,
          -0.10630528986550643,
          -0.004352200452561628,
          -0.06085798370453481,
          -0.06505734681474282,
          -0.1366978101054346,
          -0.34591815076722643,
          -0.1026634781883377,
          -0.08964687069675141,
          0.09175650798773173,
          -0.05098226368475382,
          -0.03464985410855852,
          0.018971496686934177
         ],
         "xaxis": "x2",
         "yaxis": "y2"
        },
        {
         "customdata": [
          [
           "The National",
           "Secret Meeting",
           "Alligator",
           1
          ],
          [
           "The National",
           "Karen",
           "Alligator",
           2
          ],
          [
           "The National",
           "Lit Up",
           "Alligator",
           3
          ],
          [
           "The National",
           "Looking for Astronauts",
           "Alligator",
           4
          ],
          [
           "The National",
           "Daughters of the Soho Riots",
           "Alligator",
           5
          ],
          [
           "The National",
           "Baby We'll Be Fine",
           "Alligator",
           6
          ],
          [
           "The National",
           "Friend of Mine",
           "Alligator",
           7
          ],
          [
           "The National",
           "Val Jester",
           "Alligator",
           8
          ],
          [
           "The National",
           "All the Wine",
           "Alligator",
           9
          ],
          [
           "The National",
           "Abel",
           "Alligator",
           10
          ],
          [
           "The National",
           "The Geese of Beverly Road",
           "Alligator",
           11
          ],
          [
           "The National",
           "City Middle",
           "Alligator",
           12
          ],
          [
           "The National",
           "Mr. November",
           "Alligator",
           13
          ],
          [
           "The National",
           "Fake Empire",
           "Boxer",
           1
          ],
          [
           "The National",
           "Mistaken for Strangers",
           "Boxer",
           2
          ],
          [
           "The National",
           "Brainy",
           "Boxer",
           3
          ],
          [
           "The National",
           "Squalor Victoria",
           "Boxer",
           4
          ],
          [
           "The National",
           "Green Gloves",
           "Boxer",
           5
          ],
          [
           "The National",
           "Slow Show",
           "Boxer",
           6
          ],
          [
           "The National",
           "Apartment Story",
           "Boxer",
           7
          ],
          [
           "The National",
           "Start a War",
           "Boxer",
           8
          ],
          [
           "The National",
           "Guest Room",
           "Boxer",
           9
          ],
          [
           "The National",
           "Racing Like a Pro",
           "Boxer",
           10
          ],
          [
           "The National",
           "Ada",
           "Boxer",
           11
          ],
          [
           "The National",
           "Gospel",
           "Boxer",
           12
          ],
          [
           "The National",
           "Terrible Love",
           "High Violet",
           1
          ],
          [
           "The National",
           "Sorrow",
           "High Violet",
           2
          ],
          [
           "The National",
           "Anyone's Ghost",
           "High Violet",
           3
          ],
          [
           "The National",
           "Little Faith",
           "High Violet",
           4
          ],
          [
           "The National",
           "Afraid of Everyone",
           "High Violet",
           5
          ],
          [
           "The National",
           "Bloodbuzz Ohio",
           "High Violet",
           6
          ],
          [
           "The National",
           "Lemonworld",
           "High Violet",
           7
          ],
          [
           "The National",
           "Runaway",
           "High Violet",
           8
          ],
          [
           "The National",
           "Conversation 16",
           "High Violet",
           9
          ],
          [
           "The National",
           "England",
           "High Violet",
           10
          ],
          [
           "The National",
           "Vanderlyle Crybaby Geeks",
           "High Violet",
           11
          ],
          [
           "The National",
           "Nobody Else Will Be There",
           "Sleep Well Beast",
           1
          ],
          [
           "The National",
           "Day I Die",
           "Sleep Well Beast",
           2
          ],
          [
           "The National",
           "Walk It Back",
           "Sleep Well Beast",
           3
          ],
          [
           "The National",
           "The System Only Dreams in Total Darkness",
           "Sleep Well Beast",
           4
          ],
          [
           "The National",
           "Born to Beg",
           "Sleep Well Beast",
           5
          ],
          [
           "The National",
           "Turtleneck",
           "Sleep Well Beast",
           6
          ],
          [
           "The National",
           "Empire Line",
           "Sleep Well Beast",
           7
          ],
          [
           "The National",
           "I'll Still Destroy You",
           "Sleep Well Beast",
           8
          ],
          [
           "The National",
           "Guilty Party",
           "Sleep Well Beast",
           9
          ],
          [
           "The National",
           "Carin at the Liquor Store",
           "Sleep Well Beast",
           10
          ],
          [
           "The National",
           "Dark Side of the Gym",
           "Sleep Well Beast",
           11
          ],
          [
           "The National",
           "Sleep Well Beast",
           "Sleep Well Beast",
           12
          ],
          [
           "The National",
           "I Should Live in Salt",
           "Trouble Will Find Me",
           1
          ],
          [
           "The National",
           "Demons",
           "Trouble Will Find Me",
           2
          ],
          [
           "The National",
           "Don't Swallow the Cap",
           "Trouble Will Find Me",
           3
          ],
          [
           "The National",
           "Fireproof",
           "Trouble Will Find Me",
           4
          ],
          [
           "The National",
           "Sea of Love",
           "Trouble Will Find Me",
           5
          ],
          [
           "The National",
           "Heavenfaced",
           "Trouble Will Find Me",
           6
          ],
          [
           "The National",
           "This is the Last Time",
           "Trouble Will Find Me",
           7
          ],
          [
           "The National",
           "Graceless",
           "Trouble Will Find Me",
           8
          ],
          [
           "The National",
           "Slipped",
           "Trouble Will Find Me",
           9
          ],
          [
           "The National",
           "I Need My Girl",
           "Trouble Will Find Me",
           10
          ],
          [
           "The National",
           "Humiliation",
           "Trouble Will Find Me",
           11
          ],
          [
           "The National",
           "Pink Rabbits",
           "Trouble Will Find Me",
           12
          ],
          [
           "The National",
           "Hard to Find",
           "Trouble Will Find Me",
           13
          ]
         ],
         "hovertemplate": "artist=%{customdata[0]}<br>PC1=%{x}<br>PC0=%{y}<br>title=%{customdata[1]}<br>album=%{customdata[2]}<br>track_number=%{customdata[3]}<extra></extra>",
         "legendgroup": "The National",
         "marker": {
          "color": "#FFA15A",
          "symbol": "circle"
         },
         "mode": "markers",
         "name": "The National",
         "orientation": "v",
         "showlegend": true,
         "type": "scatter",
         "x": [
          -0.028949545203181118,
          -0.035569721023509665,
          -0.04925107012170951,
          -0.047593915273041285,
          -0.18083883708819634,
          -0.029057560697890738,
          -0.07046307556608392,
          -0.04044220070801247,
          -0.014267700361560567,
          -0.033166692283612596,
          -0.18938325605900014,
          0.04864946875837297,
          -0.05393442190318942,
          -0.01597733344535853,
          -0.02716844430240778,
          -0.18639709120245337,
          -0.0712301122399685,
          -0.0884286761761624,
          -0.05169574544028265,
          -0.04295309983834293,
          -0.13497000559428296,
          -0.02484298071603311,
          -0.20235601075787324,
          -0.2106942114690717,
          0.012955098708247214,
          -0.12980720815199226,
          -0.20309772074554341,
          -0.08385194941906102,
          -0.04924219780245075,
          0.0024785184765379964,
          -0.084616328852291,
          -0.0453628722420959,
          -0.06580851469373016,
          0.010780583421466986,
          -0.04088854479391695,
          -0.09881680702637839,
          -0.024586884130093294,
          -0.15692807756081836,
          -0.1488677685849006,
          -0.0475098667424278,
          -0.10555244709729972,
          -0.041860494547485624,
          0.1635239327145089,
          -0.068580364285277,
          -0.05583079704402897,
          -0.09773964368088547,
          -0.2714305966546954,
          -0.10674965324632857,
          -0.2054881655392651,
          -0.0839880804227445,
          -0.12253624102373588,
          -0.1852322818829375,
          -0.16600386942295733,
          -0.11376870110188111,
          -0.09920612496708794,
          -0.07026396529534303,
          0.07061005748518395,
          -0.05716817958951392,
          -0.037236456525809536,
          -0.06308022939917661,
          -0.06471480935203713
         ],
         "xaxis": "x",
         "y": [
          -0.024793602631348135,
          -0.04192724234157213,
          -0.012404081993858573,
          -0.0818080604655132,
          -0.10255631278465684,
          -0.06746933753427294,
          -0.06503459136917722,
          -0.050008323464359614,
          0.016524247468234325,
          -0.034278353194858814,
          -0.060661730060296216,
          -0.09668259238305124,
          -0.04436918847455876,
          0.01392694842872082,
          -0.13676058337770866,
          -0.1684148518512398,
          -0.0656082177492873,
          -0.01642440515263168,
          -0.14413794247891848,
          -0.03667350275560188,
          -0.11846390820236546,
          -0.04511791972546507,
          -0.1285374103115337,
          -0.14665330300427934,
          0.028620965512539558,
          -0.0930660988132922,
          -0.16434675475675828,
          -0.22850543568816503,
          -0.05542055181482771,
          0.013706031652529245,
          -0.0314804883053382,
          -0.22309876973713058,
          -0.08390687432737738,
          -0.11901896821816703,
          -0.061321887098269995,
          -0.03817839268924784,
          -0.05100574979246923,
          -0.1584111922108144,
          -0.12107372827458258,
          -0.02602938559370579,
          -0.06839771742557542,
          -0.026637137461476834,
          -0.39562084294733557,
          -0.06526436073228875,
          -0.02395437317216735,
          -0.10860571965038653,
          -0.14852700959737453,
          -0.07395986521402291,
          -0.12377986279402528,
          -0.0736257408910891,
          -0.1723185499770568,
          -0.09248241618130035,
          -0.11063546094923765,
          -0.07618217384691889,
          -0.13780898953110335,
          -0.06727433598046265,
          -0.2727496957504111,
          -0.12543808613673568,
          -0.012276485108346008,
          -0.08468342970704731,
          -0.07691332348757031
         ],
         "yaxis": "y"
        },
        {
         "alignmentgroup": "True",
         "customdata": [
          [
           "The National",
           "Secret Meeting",
           "Alligator",
           1
          ],
          [
           "The National",
           "Karen",
           "Alligator",
           2
          ],
          [
           "The National",
           "Lit Up",
           "Alligator",
           3
          ],
          [
           "The National",
           "Looking for Astronauts",
           "Alligator",
           4
          ],
          [
           "The National",
           "Daughters of the Soho Riots",
           "Alligator",
           5
          ],
          [
           "The National",
           "Baby We'll Be Fine",
           "Alligator",
           6
          ],
          [
           "The National",
           "Friend of Mine",
           "Alligator",
           7
          ],
          [
           "The National",
           "Val Jester",
           "Alligator",
           8
          ],
          [
           "The National",
           "All the Wine",
           "Alligator",
           9
          ],
          [
           "The National",
           "Abel",
           "Alligator",
           10
          ],
          [
           "The National",
           "The Geese of Beverly Road",
           "Alligator",
           11
          ],
          [
           "The National",
           "City Middle",
           "Alligator",
           12
          ],
          [
           "The National",
           "Mr. November",
           "Alligator",
           13
          ],
          [
           "The National",
           "Fake Empire",
           "Boxer",
           1
          ],
          [
           "The National",
           "Mistaken for Strangers",
           "Boxer",
           2
          ],
          [
           "The National",
           "Brainy",
           "Boxer",
           3
          ],
          [
           "The National",
           "Squalor Victoria",
           "Boxer",
           4
          ],
          [
           "The National",
           "Green Gloves",
           "Boxer",
           5
          ],
          [
           "The National",
           "Slow Show",
           "Boxer",
           6
          ],
          [
           "The National",
           "Apartment Story",
           "Boxer",
           7
          ],
          [
           "The National",
           "Start a War",
           "Boxer",
           8
          ],
          [
           "The National",
           "Guest Room",
           "Boxer",
           9
          ],
          [
           "The National",
           "Racing Like a Pro",
           "Boxer",
           10
          ],
          [
           "The National",
           "Ada",
           "Boxer",
           11
          ],
          [
           "The National",
           "Gospel",
           "Boxer",
           12
          ],
          [
           "The National",
           "Terrible Love",
           "High Violet",
           1
          ],
          [
           "The National",
           "Sorrow",
           "High Violet",
           2
          ],
          [
           "The National",
           "Anyone's Ghost",
           "High Violet",
           3
          ],
          [
           "The National",
           "Little Faith",
           "High Violet",
           4
          ],
          [
           "The National",
           "Afraid of Everyone",
           "High Violet",
           5
          ],
          [
           "The National",
           "Bloodbuzz Ohio",
           "High Violet",
           6
          ],
          [
           "The National",
           "Lemonworld",
           "High Violet",
           7
          ],
          [
           "The National",
           "Runaway",
           "High Violet",
           8
          ],
          [
           "The National",
           "Conversation 16",
           "High Violet",
           9
          ],
          [
           "The National",
           "England",
           "High Violet",
           10
          ],
          [
           "The National",
           "Vanderlyle Crybaby Geeks",
           "High Violet",
           11
          ],
          [
           "The National",
           "Nobody Else Will Be There",
           "Sleep Well Beast",
           1
          ],
          [
           "The National",
           "Day I Die",
           "Sleep Well Beast",
           2
          ],
          [
           "The National",
           "Walk It Back",
           "Sleep Well Beast",
           3
          ],
          [
           "The National",
           "The System Only Dreams in Total Darkness",
           "Sleep Well Beast",
           4
          ],
          [
           "The National",
           "Born to Beg",
           "Sleep Well Beast",
           5
          ],
          [
           "The National",
           "Turtleneck",
           "Sleep Well Beast",
           6
          ],
          [
           "The National",
           "Empire Line",
           "Sleep Well Beast",
           7
          ],
          [
           "The National",
           "I'll Still Destroy You",
           "Sleep Well Beast",
           8
          ],
          [
           "The National",
           "Guilty Party",
           "Sleep Well Beast",
           9
          ],
          [
           "The National",
           "Carin at the Liquor Store",
           "Sleep Well Beast",
           10
          ],
          [
           "The National",
           "Dark Side of the Gym",
           "Sleep Well Beast",
           11
          ],
          [
           "The National",
           "Sleep Well Beast",
           "Sleep Well Beast",
           12
          ],
          [
           "The National",
           "I Should Live in Salt",
           "Trouble Will Find Me",
           1
          ],
          [
           "The National",
           "Demons",
           "Trouble Will Find Me",
           2
          ],
          [
           "The National",
           "Don't Swallow the Cap",
           "Trouble Will Find Me",
           3
          ],
          [
           "The National",
           "Fireproof",
           "Trouble Will Find Me",
           4
          ],
          [
           "The National",
           "Sea of Love",
           "Trouble Will Find Me",
           5
          ],
          [
           "The National",
           "Heavenfaced",
           "Trouble Will Find Me",
           6
          ],
          [
           "The National",
           "This is the Last Time",
           "Trouble Will Find Me",
           7
          ],
          [
           "The National",
           "Graceless",
           "Trouble Will Find Me",
           8
          ],
          [
           "The National",
           "Slipped",
           "Trouble Will Find Me",
           9
          ],
          [
           "The National",
           "I Need My Girl",
           "Trouble Will Find Me",
           10
          ],
          [
           "The National",
           "Humiliation",
           "Trouble Will Find Me",
           11
          ],
          [
           "The National",
           "Pink Rabbits",
           "Trouble Will Find Me",
           12
          ],
          [
           "The National",
           "Hard to Find",
           "Trouble Will Find Me",
           13
          ]
         ],
         "hovertemplate": "artist=%{customdata[0]}<br>PC1=%{x}<br>title=%{customdata[1]}<br>album=%{customdata[2]}<br>track_number=%{customdata[3]}<extra></extra>",
         "legendgroup": "The National",
         "marker": {
          "color": "#FFA15A",
          "symbol": "circle"
         },
         "name": "The National",
         "notched": true,
         "offsetgroup": "The National",
         "showlegend": false,
         "type": "box",
         "x": [
          -0.028949545203181118,
          -0.035569721023509665,
          -0.04925107012170951,
          -0.047593915273041285,
          -0.18083883708819634,
          -0.029057560697890738,
          -0.07046307556608392,
          -0.04044220070801247,
          -0.014267700361560567,
          -0.033166692283612596,
          -0.18938325605900014,
          0.04864946875837297,
          -0.05393442190318942,
          -0.01597733344535853,
          -0.02716844430240778,
          -0.18639709120245337,
          -0.0712301122399685,
          -0.0884286761761624,
          -0.05169574544028265,
          -0.04295309983834293,
          -0.13497000559428296,
          -0.02484298071603311,
          -0.20235601075787324,
          -0.2106942114690717,
          0.012955098708247214,
          -0.12980720815199226,
          -0.20309772074554341,
          -0.08385194941906102,
          -0.04924219780245075,
          0.0024785184765379964,
          -0.084616328852291,
          -0.0453628722420959,
          -0.06580851469373016,
          0.010780583421466986,
          -0.04088854479391695,
          -0.09881680702637839,
          -0.024586884130093294,
          -0.15692807756081836,
          -0.1488677685849006,
          -0.0475098667424278,
          -0.10555244709729972,
          -0.041860494547485624,
          0.1635239327145089,
          -0.068580364285277,
          -0.05583079704402897,
          -0.09773964368088547,
          -0.2714305966546954,
          -0.10674965324632857,
          -0.2054881655392651,
          -0.0839880804227445,
          -0.12253624102373588,
          -0.1852322818829375,
          -0.16600386942295733,
          -0.11376870110188111,
          -0.09920612496708794,
          -0.07026396529534303,
          0.07061005748518395,
          -0.05716817958951392,
          -0.037236456525809536,
          -0.06308022939917661,
          -0.06471480935203713
         ],
         "xaxis": "x2",
         "yaxis": "y2"
        },
        {
         "customdata": [
          [
           "Metric",
           "Dark Saturday",
           "Art of Doubt",
           1
          ],
          [
           "Metric",
           "Love You Back",
           "Art of Doubt",
           2
          ],
          [
           "Metric",
           "Die Happy",
           "Art of Doubt",
           3
          ],
          [
           "Metric",
           "Now or Never Now",
           "Art of Doubt",
           4
          ],
          [
           "Metric",
           "Art of Doubt",
           "Art of Doubt",
           5
          ],
          [
           "Metric",
           "Underline the Black",
           "Art of Doubt",
           6
          ],
          [
           "Metric",
           "Dressed to Suppress",
           "Art of Doubt",
           7
          ],
          [
           "Metric",
           "Risk",
           "Art of Doubt",
           8
          ],
          [
           "Metric",
           "Seven Rules",
           "Art of Doubt",
           9
          ],
          [
           "Metric",
           "Holding Out",
           "Art of Doubt",
           10
          ],
          [
           "Metric",
           "Anticipate",
           "Art of Doubt",
           11
          ],
          [
           "Metric",
           "No Lights on the Horizon",
           "Art of Doubt",
           12
          ],
          [
           "Metric",
           "Help I'm Alive",
           "Fantasies",
           1
          ],
          [
           "Metric",
           "Sick Muse",
           "Fantasies",
           2
          ],
          [
           "Metric",
           "Satellite Mind",
           "Fantasies",
           3
          ],
          [
           "Metric",
           "Twilight Galaxy",
           "Fantasies",
           4
          ],
          [
           "Metric",
           "Gold Guns Girls",
           "Fantasies",
           5
          ],
          [
           "Metric",
           "Gimme Sympathy",
           "Fantasies",
           6
          ],
          [
           "Metric",
           "Collect Call",
           "Fantasies",
           7
          ],
          [
           "Metric",
           "Front Row",
           "Fantasies",
           8
          ],
          [
           "Metric",
           "Blindness",
           "Fantasies",
           9
          ],
          [
           "Metric",
           "Stadium Love",
           "Fantasies",
           10
          ],
          [
           "Metric",
           "Doomscroller",
           "Formentera",
           1
          ],
          [
           "Metric",
           "All Comes Crashing",
           "Formentera",
           2
          ],
          [
           "Metric",
           "What Feels Like Eternity",
           "Formentera",
           3
          ],
          [
           "Metric",
           "Formentera",
           "Formentera",
           4
          ],
          [
           "Metric",
           "Enemies of the Ocean",
           "Formentera",
           5
          ],
          [
           "Metric",
           "I Will Never Settle",
           "Formentera",
           6
          ],
          [
           "Metric",
           "False Dichotomy",
           "Formentera",
           7
          ],
          [
           "Metric",
           "Oh Please",
           "Formentera",
           8
          ],
          [
           "Metric",
           "Paths in the Sky",
           "Formentera",
           9
          ],
          [
           "Metric",
           "Detour Up",
           "Formentera II",
           1
          ],
          [
           "Metric",
           "Just The Once",
           "Formentera II",
           2
          ],
          [
           "Metric",
           "Stone Window",
           "Formentera II",
           3
          ],
          [
           "Metric",
           "Days Of Oblivion",
           "Formentera II",
           4
          ],
          [
           "Metric",
           "Who Would You Be For Me",
           "Formentera II",
           5
          ],
          [
           "Metric",
           "Suckers",
           "Formentera II",
           6
          ],
          [
           "Metric",
           "Nothing Is Perfect",
           "Formentera II",
           7
          ],
          [
           "Metric",
           "Descendants",
           "Formentera II",
           8
          ],
          [
           "Metric",
           "Go Ahead And Cry",
           "Formentera II",
           9
          ],
          [
           "Metric",
           "Grow Up and Blow Away",
           "Grow Up And Blow Away",
           1
          ],
          [
           "Metric",
           "Hardwire",
           "Grow Up And Blow Away",
           2
          ],
          [
           "Metric",
           "Rock Me Now",
           "Grow Up And Blow Away",
           3
          ],
          [
           "Metric",
           "The Twist",
           "Grow Up And Blow Away",
           4
          ],
          [
           "Metric",
           "On the Sly",
           "Grow Up And Blow Away",
           5
          ],
          [
           "Metric",
           "Soft Rock Star",
           "Grow Up And Blow Away",
           6
          ],
          [
           "Metric",
           "Raw Sugar",
           "Grow Up And Blow Away",
           7
          ],
          [
           "Metric",
           "White Gold",
           "Grow Up And Blow Away",
           8
          ],
          [
           "Metric",
           "London Halflife",
           "Grow Up And Blow Away",
           9
          ],
          [
           "Metric",
           "Soft Rock Star [Jimmy vs. Joe Mix]",
           "Grow Up And Blow Away",
           10
          ],
          [
           "Metric",
           "Empty",
           "Live It Out",
           1
          ],
          [
           "Metric",
           "Glass Ceiling",
           "Live It Out",
           2
          ],
          [
           "Metric",
           "Handshakes",
           "Live It Out",
           3
          ],
          [
           "Metric",
           "Too Little Too Late",
           "Live It Out",
           4
          ],
          [
           "Metric",
           "Poster Of A Girl",
           "Live It Out",
           5
          ],
          [
           "Metric",
           "Monster Hospital",
           "Live It Out",
           6
          ],
          [
           "Metric",
           "Patriarch On a Vespa",
           "Live It Out",
           7
          ],
          [
           "Metric",
           "The Police and the Private",
           "Live It Out",
           8
          ],
          [
           "Metric",
           "Ending Start",
           "Live It Out",
           9
          ],
          [
           "Metric",
           "Live It Out",
           "Live It Out",
           10
          ],
          [
           "Metric",
           "IOU",
           "Old World Underground, Where Are You Now?",
           1
          ],
          [
           "Metric",
           "Hustle Rose",
           "Old World Underground, Where Are You Now?",
           2
          ],
          [
           "Metric",
           "Succexy",
           "Old World Underground, Where Are You Now?",
           3
          ],
          [
           "Metric",
           "Combat Baby",
           "Old World Underground, Where Are You Now?",
           4
          ],
          [
           "Metric",
           "Calculation Theme",
           "Old World Underground, Where Are You Now?",
           5
          ],
          [
           "Metric",
           "Wet Blanket",
           "Old World Underground, Where Are You Now?",
           6
          ],
          [
           "Metric",
           "On a Slow Night",
           "Old World Underground, Where Are You Now?",
           7
          ],
          [
           "Metric",
           "The List",
           "Old World Underground, Where Are You Now?",
           8
          ],
          [
           "Metric",
           "Dead Disco",
           "Old World Underground, Where Are You Now?",
           9
          ],
          [
           "Metric",
           "Love Is A Place",
           "Old World Underground, Where Are You Now?",
           10
          ],
          [
           "Metric",
           "Lie Lie Lie",
           "Pagans in Vegas",
           1
          ],
          [
           "Metric",
           "Fortunes",
           "Pagans in Vegas",
           2
          ],
          [
           "Metric",
           "The Shade",
           "Pagans in Vegas",
           3
          ],
          [
           "Metric",
           "Celebrate",
           "Pagans in Vegas",
           4
          ],
          [
           "Metric",
           "Cascades",
           "Pagans in Vegas",
           5
          ],
          [
           "Metric",
           "For Kicks",
           "Pagans in Vegas",
           6
          ],
          [
           "Metric",
           "Too Bad, So Sad",
           "Pagans in Vegas",
           7
          ],
          [
           "Metric",
           "Other Side",
           "Pagans in Vegas",
           8
          ],
          [
           "Metric",
           "Blind Valentine",
           "Pagans in Vegas",
           9
          ],
          [
           "Metric",
           "The Governess",
           "Pagans in Vegas",
           10
          ],
          [
           "Metric",
           "The Shade - Acoustic",
           "Pagans in Vegas",
           13
          ],
          [
           "Metric",
           "Artificial Nocturne",
           "Synthetica",
           1
          ],
          [
           "Metric",
           "Youth Without Youth",
           "Synthetica",
           2
          ],
          [
           "Metric",
           "Speed The Collapse",
           "Synthetica",
           3
          ],
          [
           "Metric",
           "Breathing Underwater",
           "Synthetica",
           4
          ],
          [
           "Metric",
           "Dreams So Real",
           "Synthetica",
           5
          ],
          [
           "Metric",
           "Lost Kitten",
           "Synthetica",
           6
          ],
          [
           "Metric",
           "The Void",
           "Synthetica",
           7
          ],
          [
           "Metric",
           "Synthetica",
           "Synthetica",
           8
          ],
          [
           "Metric",
           "Clone",
           "Synthetica",
           9
          ],
          [
           "Metric",
           "The Wanderlust",
           "Synthetica",
           10
          ],
          [
           "Metric",
           "Nothing But Time",
           "Synthetica",
           11
          ]
         ],
         "hovertemplate": "artist=%{customdata[0]}<br>PC1=%{x}<br>PC0=%{y}<br>title=%{customdata[1]}<br>album=%{customdata[2]}<br>track_number=%{customdata[3]}<extra></extra>",
         "legendgroup": "Metric",
         "marker": {
          "color": "#19d3f3",
          "symbol": "circle"
         },
         "mode": "markers",
         "name": "Metric",
         "orientation": "v",
         "showlegend": true,
         "type": "scatter",
         "x": [
          -0.02627202931778159,
          -0.4303834692373363,
          -0.014265702753349782,
          -0.03685637964621504,
          -0.10359239352985138,
          -0.07386587442096183,
          -0.06521065852132298,
          -0.027427804834009424,
          -0.08213988198757002,
          -0.15968021733229085,
          0.003959651251068534,
          -0.043565391176173966,
          -0.031925130484559035,
          -0.17008951610246156,
          0.006877258739437678,
          0.04203273641351857,
          -0.11711509306748785,
          -0.12614801906011008,
          -0.009285986053370332,
          0.021673340129558853,
          -0.1856271242578557,
          -0.3919583577343542,
          -0.1555999538525901,
          -0.08841081229598043,
          -0.0226968848971321,
          -0.013989307542426603,
          -0.05641811780796918,
          -0.027705840351043908,
          -0.11782988887547563,
          -0.08232180421762612,
          -0.01014887246034434,
          -0.046622387644859396,
          -0.054976266939819905,
          -0.020279637955914788,
          -0.15775862755633738,
          -0.02487650638524542,
          -0.06458648665814301,
          -0.03612341273258532,
          -0.061626677069577813,
          0.0006069016903394297,
          0.00048245257932500374,
          -0.005551421397711362,
          -0.012779204385914435,
          0.1538045886839584,
          0.14362190819366588,
          -0.03422163843674938,
          0.00996449891675781,
          -0.09700793989361003,
          -0.08986936817870031,
          -0.033876724471365555,
          -0.031618510389506124,
          -0.10686676145811656,
          -0.10484558023920948,
          -0.06373401633037915,
          -0.019969286387490084,
          -0.17888266929698474,
          -0.004884907999224556,
          -0.11513844892802177,
          -0.044023391991635394,
          -0.2829643920025257,
          -0.0791460650645169,
          -0.20507655696329585,
          0.001869928095090674,
          -0.12438587821796039,
          -0.11259299865984253,
          -0.05316185629579617,
          -0.03146911047732478,
          -0.07034301988559243,
          -0.05066201137121892,
          -0.05789483222367668,
          -0.04593023740708317,
          -0.05656167219548619,
          0.399359038796877,
          -0.08982290104919163,
          -0.07833780334513242,
          0.003319294345151956,
          -0.06240257108046984,
          0.01392783060590791,
          -0.08975117311716928,
          -0.026720943521262766,
          0.40141678037970846,
          -0.020079596445971695,
          0.009657617268344857,
          -0.04125547518758233,
          -0.05294796278356565,
          -0.0008360682476137413,
          0.038273030943488086,
          -0.053226407421988066,
          -0.0848928320948984,
          -0.04063098950020142,
          -0.04880591810664093,
          -0.09666619226999658
         ],
         "xaxis": "x",
         "y": [
          0.0074366296005236796,
          -0.3430137875681205,
          -0.03373137051285496,
          -0.054936773196540806,
          -0.08382354302013195,
          -0.03091751679924347,
          -0.04053879972909559,
          -0.020979099037284517,
          -0.055906816770638454,
          -0.09804505859288731,
          -0.05123795330284621,
          -0.03356244027287796,
          -0.03566678019989715,
          -0.08609801198567549,
          -0.09589194121625752,
          -0.18151868124776463,
          -0.1362562926277701,
          -0.07307968399374212,
          -0.06625717887484414,
          -0.017531797973394637,
          -0.10823009101295906,
          -0.21901708677608345,
          -0.15230846531912642,
          -0.019407644007325385,
          -0.035023041000844614,
          0.01397299311005586,
          0.0019581652059524036,
          -0.06010274200607979,
          -0.19889359545276797,
          -0.032383803165145,
          -0.041380906427512076,
          -0.010738149957188891,
          -0.02781806705682118,
          0.015952282493407893,
          -0.10506929031283443,
          -0.019935300514745475,
          -0.043129373797465245,
          0.027602172882322817,
          -0.04500527484638185,
          -0.008222616038136342,
          -0.016441332163653153,
          0.017711882665189353,
          0.013304762538009,
          -0.3204084654568599,
          -0.3977669197096658,
          -0.007117237333782206,
          -0.12024645812858853,
          -0.04227082146299403,
          -0.07021672533748316,
          -0.012224836454816678,
          -0.013313444457538024,
          -0.05995560657905024,
          -0.06228837919521951,
          -0.054517562800823774,
          -0.05031686609750197,
          -0.13486843011220415,
          0.004034197307445394,
          -0.07272347957102399,
          -0.016609853963168848,
          -0.19174851428762388,
          -0.06291320122905329,
          -0.17755245681501552,
          0.01846552765554627,
          -0.15538369566865762,
          -0.030678546267860634,
          -0.2115592537938643,
          0.0061931679873466995,
          -0.04430484163878788,
          -0.05105169330539823,
          -0.0102595938882695,
          -0.030684371207638436,
          -0.03555790939796953,
          -0.6595029826707769,
          -0.11081946256531683,
          -0.028108363207902123,
          -0.08014884161576667,
          -0.0437684142013589,
          -0.0771491903132255,
          -0.08673482903727386,
          -0.05144701789387576,
          -0.6615418264620855,
          -0.03109523092141246,
          0.0036468314381600106,
          -0.02803241755822037,
          -0.013497186535775049,
          0.0011339136804573945,
          -0.13594618868930924,
          -0.03788915518071052,
          -0.06455158456104572,
          -0.024887029945821156,
          -0.017432985708886038,
          -0.050814181381872374
         ],
         "yaxis": "y"
        },
        {
         "alignmentgroup": "True",
         "customdata": [
          [
           "Metric",
           "Dark Saturday",
           "Art of Doubt",
           1
          ],
          [
           "Metric",
           "Love You Back",
           "Art of Doubt",
           2
          ],
          [
           "Metric",
           "Die Happy",
           "Art of Doubt",
           3
          ],
          [
           "Metric",
           "Now or Never Now",
           "Art of Doubt",
           4
          ],
          [
           "Metric",
           "Art of Doubt",
           "Art of Doubt",
           5
          ],
          [
           "Metric",
           "Underline the Black",
           "Art of Doubt",
           6
          ],
          [
           "Metric",
           "Dressed to Suppress",
           "Art of Doubt",
           7
          ],
          [
           "Metric",
           "Risk",
           "Art of Doubt",
           8
          ],
          [
           "Metric",
           "Seven Rules",
           "Art of Doubt",
           9
          ],
          [
           "Metric",
           "Holding Out",
           "Art of Doubt",
           10
          ],
          [
           "Metric",
           "Anticipate",
           "Art of Doubt",
           11
          ],
          [
           "Metric",
           "No Lights on the Horizon",
           "Art of Doubt",
           12
          ],
          [
           "Metric",
           "Help I'm Alive",
           "Fantasies",
           1
          ],
          [
           "Metric",
           "Sick Muse",
           "Fantasies",
           2
          ],
          [
           "Metric",
           "Satellite Mind",
           "Fantasies",
           3
          ],
          [
           "Metric",
           "Twilight Galaxy",
           "Fantasies",
           4
          ],
          [
           "Metric",
           "Gold Guns Girls",
           "Fantasies",
           5
          ],
          [
           "Metric",
           "Gimme Sympathy",
           "Fantasies",
           6
          ],
          [
           "Metric",
           "Collect Call",
           "Fantasies",
           7
          ],
          [
           "Metric",
           "Front Row",
           "Fantasies",
           8
          ],
          [
           "Metric",
           "Blindness",
           "Fantasies",
           9
          ],
          [
           "Metric",
           "Stadium Love",
           "Fantasies",
           10
          ],
          [
           "Metric",
           "Doomscroller",
           "Formentera",
           1
          ],
          [
           "Metric",
           "All Comes Crashing",
           "Formentera",
           2
          ],
          [
           "Metric",
           "What Feels Like Eternity",
           "Formentera",
           3
          ],
          [
           "Metric",
           "Formentera",
           "Formentera",
           4
          ],
          [
           "Metric",
           "Enemies of the Ocean",
           "Formentera",
           5
          ],
          [
           "Metric",
           "I Will Never Settle",
           "Formentera",
           6
          ],
          [
           "Metric",
           "False Dichotomy",
           "Formentera",
           7
          ],
          [
           "Metric",
           "Oh Please",
           "Formentera",
           8
          ],
          [
           "Metric",
           "Paths in the Sky",
           "Formentera",
           9
          ],
          [
           "Metric",
           "Detour Up",
           "Formentera II",
           1
          ],
          [
           "Metric",
           "Just The Once",
           "Formentera II",
           2
          ],
          [
           "Metric",
           "Stone Window",
           "Formentera II",
           3
          ],
          [
           "Metric",
           "Days Of Oblivion",
           "Formentera II",
           4
          ],
          [
           "Metric",
           "Who Would You Be For Me",
           "Formentera II",
           5
          ],
          [
           "Metric",
           "Suckers",
           "Formentera II",
           6
          ],
          [
           "Metric",
           "Nothing Is Perfect",
           "Formentera II",
           7
          ],
          [
           "Metric",
           "Descendants",
           "Formentera II",
           8
          ],
          [
           "Metric",
           "Go Ahead And Cry",
           "Formentera II",
           9
          ],
          [
           "Metric",
           "Grow Up and Blow Away",
           "Grow Up And Blow Away",
           1
          ],
          [
           "Metric",
           "Hardwire",
           "Grow Up And Blow Away",
           2
          ],
          [
           "Metric",
           "Rock Me Now",
           "Grow Up And Blow Away",
           3
          ],
          [
           "Metric",
           "The Twist",
           "Grow Up And Blow Away",
           4
          ],
          [
           "Metric",
           "On the Sly",
           "Grow Up And Blow Away",
           5
          ],
          [
           "Metric",
           "Soft Rock Star",
           "Grow Up And Blow Away",
           6
          ],
          [
           "Metric",
           "Raw Sugar",
           "Grow Up And Blow Away",
           7
          ],
          [
           "Metric",
           "White Gold",
           "Grow Up And Blow Away",
           8
          ],
          [
           "Metric",
           "London Halflife",
           "Grow Up And Blow Away",
           9
          ],
          [
           "Metric",
           "Soft Rock Star [Jimmy vs. Joe Mix]",
           "Grow Up And Blow Away",
           10
          ],
          [
           "Metric",
           "Empty",
           "Live It Out",
           1
          ],
          [
           "Metric",
           "Glass Ceiling",
           "Live It Out",
           2
          ],
          [
           "Metric",
           "Handshakes",
           "Live It Out",
           3
          ],
          [
           "Metric",
           "Too Little Too Late",
           "Live It Out",
           4
          ],
          [
           "Metric",
           "Poster Of A Girl",
           "Live It Out",
           5
          ],
          [
           "Metric",
           "Monster Hospital",
           "Live It Out",
           6
          ],
          [
           "Metric",
           "Patriarch On a Vespa",
           "Live It Out",
           7
          ],
          [
           "Metric",
           "The Police and the Private",
           "Live It Out",
           8
          ],
          [
           "Metric",
           "Ending Start",
           "Live It Out",
           9
          ],
          [
           "Metric",
           "Live It Out",
           "Live It Out",
           10
          ],
          [
           "Metric",
           "IOU",
           "Old World Underground, Where Are You Now?",
           1
          ],
          [
           "Metric",
           "Hustle Rose",
           "Old World Underground, Where Are You Now?",
           2
          ],
          [
           "Metric",
           "Succexy",
           "Old World Underground, Where Are You Now?",
           3
          ],
          [
           "Metric",
           "Combat Baby",
           "Old World Underground, Where Are You Now?",
           4
          ],
          [
           "Metric",
           "Calculation Theme",
           "Old World Underground, Where Are You Now?",
           5
          ],
          [
           "Metric",
           "Wet Blanket",
           "Old World Underground, Where Are You Now?",
           6
          ],
          [
           "Metric",
           "On a Slow Night",
           "Old World Underground, Where Are You Now?",
           7
          ],
          [
           "Metric",
           "The List",
           "Old World Underground, Where Are You Now?",
           8
          ],
          [
           "Metric",
           "Dead Disco",
           "Old World Underground, Where Are You Now?",
           9
          ],
          [
           "Metric",
           "Love Is A Place",
           "Old World Underground, Where Are You Now?",
           10
          ],
          [
           "Metric",
           "Lie Lie Lie",
           "Pagans in Vegas",
           1
          ],
          [
           "Metric",
           "Fortunes",
           "Pagans in Vegas",
           2
          ],
          [
           "Metric",
           "The Shade",
           "Pagans in Vegas",
           3
          ],
          [
           "Metric",
           "Celebrate",
           "Pagans in Vegas",
           4
          ],
          [
           "Metric",
           "Cascades",
           "Pagans in Vegas",
           5
          ],
          [
           "Metric",
           "For Kicks",
           "Pagans in Vegas",
           6
          ],
          [
           "Metric",
           "Too Bad, So Sad",
           "Pagans in Vegas",
           7
          ],
          [
           "Metric",
           "Other Side",
           "Pagans in Vegas",
           8
          ],
          [
           "Metric",
           "Blind Valentine",
           "Pagans in Vegas",
           9
          ],
          [
           "Metric",
           "The Governess",
           "Pagans in Vegas",
           10
          ],
          [
           "Metric",
           "The Shade - Acoustic",
           "Pagans in Vegas",
           13
          ],
          [
           "Metric",
           "Artificial Nocturne",
           "Synthetica",
           1
          ],
          [
           "Metric",
           "Youth Without Youth",
           "Synthetica",
           2
          ],
          [
           "Metric",
           "Speed The Collapse",
           "Synthetica",
           3
          ],
          [
           "Metric",
           "Breathing Underwater",
           "Synthetica",
           4
          ],
          [
           "Metric",
           "Dreams So Real",
           "Synthetica",
           5
          ],
          [
           "Metric",
           "Lost Kitten",
           "Synthetica",
           6
          ],
          [
           "Metric",
           "The Void",
           "Synthetica",
           7
          ],
          [
           "Metric",
           "Synthetica",
           "Synthetica",
           8
          ],
          [
           "Metric",
           "Clone",
           "Synthetica",
           9
          ],
          [
           "Metric",
           "The Wanderlust",
           "Synthetica",
           10
          ],
          [
           "Metric",
           "Nothing But Time",
           "Synthetica",
           11
          ]
         ],
         "hovertemplate": "artist=%{customdata[0]}<br>PC1=%{x}<br>title=%{customdata[1]}<br>album=%{customdata[2]}<br>track_number=%{customdata[3]}<extra></extra>",
         "legendgroup": "Metric",
         "marker": {
          "color": "#19d3f3",
          "symbol": "circle"
         },
         "name": "Metric",
         "notched": true,
         "offsetgroup": "Metric",
         "showlegend": false,
         "type": "box",
         "x": [
          -0.02627202931778159,
          -0.4303834692373363,
          -0.014265702753349782,
          -0.03685637964621504,
          -0.10359239352985138,
          -0.07386587442096183,
          -0.06521065852132298,
          -0.027427804834009424,
          -0.08213988198757002,
          -0.15968021733229085,
          0.003959651251068534,
          -0.043565391176173966,
          -0.031925130484559035,
          -0.17008951610246156,
          0.006877258739437678,
          0.04203273641351857,
          -0.11711509306748785,
          -0.12614801906011008,
          -0.009285986053370332,
          0.021673340129558853,
          -0.1856271242578557,
          -0.3919583577343542,
          -0.1555999538525901,
          -0.08841081229598043,
          -0.0226968848971321,
          -0.013989307542426603,
          -0.05641811780796918,
          -0.027705840351043908,
          -0.11782988887547563,
          -0.08232180421762612,
          -0.01014887246034434,
          -0.046622387644859396,
          -0.054976266939819905,
          -0.020279637955914788,
          -0.15775862755633738,
          -0.02487650638524542,
          -0.06458648665814301,
          -0.03612341273258532,
          -0.061626677069577813,
          0.0006069016903394297,
          0.00048245257932500374,
          -0.005551421397711362,
          -0.012779204385914435,
          0.1538045886839584,
          0.14362190819366588,
          -0.03422163843674938,
          0.00996449891675781,
          -0.09700793989361003,
          -0.08986936817870031,
          -0.033876724471365555,
          -0.031618510389506124,
          -0.10686676145811656,
          -0.10484558023920948,
          -0.06373401633037915,
          -0.019969286387490084,
          -0.17888266929698474,
          -0.004884907999224556,
          -0.11513844892802177,
          -0.044023391991635394,
          -0.2829643920025257,
          -0.0791460650645169,
          -0.20507655696329585,
          0.001869928095090674,
          -0.12438587821796039,
          -0.11259299865984253,
          -0.05316185629579617,
          -0.03146911047732478,
          -0.07034301988559243,
          -0.05066201137121892,
          -0.05789483222367668,
          -0.04593023740708317,
          -0.05656167219548619,
          0.399359038796877,
          -0.08982290104919163,
          -0.07833780334513242,
          0.003319294345151956,
          -0.06240257108046984,
          0.01392783060590791,
          -0.08975117311716928,
          -0.026720943521262766,
          0.40141678037970846,
          -0.020079596445971695,
          0.009657617268344857,
          -0.04125547518758233,
          -0.05294796278356565,
          -0.0008360682476137413,
          0.038273030943488086,
          -0.053226407421988066,
          -0.0848928320948984,
          -0.04063098950020142,
          -0.04880591810664093,
          -0.09666619226999658
         ],
         "xaxis": "x2",
         "yaxis": "y2"
        },
        {
         "customdata": [
          [
           "Broken Social Scene",
           "Market Fresh",
           "Bee Hives",
           2
          ],
          [
           "Broken Social Scene",
           "Backyards",
           "Bee Hives",
           5
          ],
          [
           "Broken Social Scene",
           "Da Da Da Da",
           "Bee Hives",
           6
          ],
          [
           "Broken Social Scene",
           "Time = Cause",
           "Bee Hives",
           8
          ],
          [
           "Broken Social Scene",
           "Lover's Spit",
           "Bee Hives",
           9
          ],
          [
           "Broken Social Scene",
           "Ibi Dreams Of Pavement (A Better Day)",
           "Broken Social Scene",
           2
          ],
          [
           "Broken Social Scene",
           "7/4 (Shoreline)",
           "Broken Social Scene",
           3
          ],
          [
           "Broken Social Scene",
           "Major Label Debut",
           "Broken Social Scene",
           5
          ],
          [
           "Broken Social Scene",
           "Fire Eye'd Boy",
           "Broken Social Scene",
           6
          ],
          [
           "Broken Social Scene",
           "Windsurfing Nation",
           "Broken Social Scene",
           7
          ],
          [
           "Broken Social Scene",
           "Swimmers",
           "Broken Social Scene",
           8
          ],
          [
           "Broken Social Scene",
           "Hotel",
           "Broken Social Scene",
           9
          ],
          [
           "Broken Social Scene",
           "Handjobs For The Holidays",
           "Broken Social Scene",
           10
          ],
          [
           "Broken Social Scene",
           "Superconnected",
           "Broken Social Scene",
           11
          ],
          [
           "Broken Social Scene",
           "Bandwitch",
           "Broken Social Scene",
           12
          ],
          [
           "Broken Social Scene",
           "It's All Gonna Break",
           "Broken Social Scene",
           14
          ],
          [
           "Broken Social Scene",
           "Canada Vs. America",
           "Broken Social Scene",
           2
          ],
          [
           "Broken Social Scene",
           "All My Friends",
           "Broken Social Scene",
           5
          ],
          [
           "Broken Social Scene",
           "Major Label Debut (Fast)",
           "Broken Social Scene",
           6
          ],
          [
           "Broken Social Scene",
           "Passport Radio",
           "Feel Good Lost",
           4
          ],
          [
           "Broken Social Scene",
           "Stomach Song",
           "Feel Good Lost",
           8
          ],
          [
           "Broken Social Scene",
           "Cranley's Gonna Make It",
           "Feel Good Lost",
           12
          ],
          [
           "Broken Social Scene",
           "World Sick",
           "Forgiveness Rock Record",
           1
          ],
          [
           "Broken Social Scene",
           "Chase Scene",
           "Forgiveness Rock Record",
           2
          ],
          [
           "Broken Social Scene",
           "Texico Bitches",
           "Forgiveness Rock Record",
           3
          ],
          [
           "Broken Social Scene",
           "Forced To Love",
           "Forgiveness Rock Record",
           4
          ],
          [
           "Broken Social Scene",
           "All To All",
           "Forgiveness Rock Record",
           5
          ],
          [
           "Broken Social Scene",
           "Art House Director",
           "Forgiveness Rock Record",
           6
          ],
          [
           "Broken Social Scene",
           "Highway Slipper Jam",
           "Forgiveness Rock Record",
           7
          ],
          [
           "Broken Social Scene",
           "Ungrateful Little Father",
           "Forgiveness Rock Record",
           8
          ],
          [
           "Broken Social Scene",
           "Sentimental X's",
           "Forgiveness Rock Record",
           10
          ],
          [
           "Broken Social Scene",
           "Sweetest Kill",
           "Forgiveness Rock Record",
           11
          ],
          [
           "Broken Social Scene",
           "Romance To The Grave",
           "Forgiveness Rock Record",
           12
          ],
          [
           "Broken Social Scene",
           "Water In Hell",
           "Forgiveness Rock Record",
           13
          ],
          [
           "Broken Social Scene",
           "Me And My Hand",
           "Forgiveness Rock Record",
           14
          ],
          [
           "Broken Social Scene",
           "Halfway Home",
           "Hug Of Thunder",
           2
          ],
          [
           "Broken Social Scene",
           "Protest Song",
           "Hug Of Thunder",
           3
          ],
          [
           "Broken Social Scene",
           "Skyline",
           "Hug Of Thunder",
           4
          ],
          [
           "Broken Social Scene",
           "Stay Happy",
           "Hug Of Thunder",
           5
          ],
          [
           "Broken Social Scene",
           "Vanity Pail Kids",
           "Hug Of Thunder",
           6
          ],
          [
           "Broken Social Scene",
           "Hug Of Thunder",
           "Hug Of Thunder",
           7
          ],
          [
           "Broken Social Scene",
           "Towers And Masons",
           "Hug Of Thunder",
           8
          ],
          [
           "Broken Social Scene",
           "Victim Lover",
           "Hug Of Thunder",
           9
          ],
          [
           "Broken Social Scene",
           "Please Take Me With You",
           "Hug Of Thunder",
           10
          ],
          [
           "Broken Social Scene",
           "Gonna Get Better",
           "Hug Of Thunder",
           11
          ],
          [
           "Broken Social Scene",
           "Mouth Guards Of The Apocalypse",
           "Hug Of Thunder",
           12
          ],
          [
           "Broken Social Scene",
           "KC Accidental",
           "You Forgot It In People",
           2
          ],
          [
           "Broken Social Scene",
           "Stars And Sons",
           "You Forgot It In People",
           3
          ],
          [
           "Broken Social Scene",
           "Almost Crimes - Radio Kills Remix",
           "You Forgot It In People",
           4
          ],
          [
           "Broken Social Scene",
           "Looks Just Like The Sun",
           "You Forgot It In People",
           5
          ],
          [
           "Broken Social Scene",
           "Anthems For A Seventeen Year-Old Girl",
           "You Forgot It In People",
           7
          ],
          [
           "Broken Social Scene",
           "Cause = Time",
           "You Forgot It In People",
           8
          ],
          [
           "Broken Social Scene",
           "Shampoo Suicide",
           "You Forgot It In People",
           10
          ],
          [
           "Broken Social Scene",
           "Lover's Spit",
           "You Forgot It In People",
           11
          ],
          [
           "Broken Social Scene",
           "I'm Still Your Fag",
           "You Forgot It In People",
           12
          ]
         ],
         "hovertemplate": "artist=%{customdata[0]}<br>PC1=%{x}<br>PC0=%{y}<br>title=%{customdata[1]}<br>album=%{customdata[2]}<br>track_number=%{customdata[3]}<extra></extra>",
         "legendgroup": "Broken Social Scene",
         "marker": {
          "color": "#FF6692",
          "symbol": "circle"
         },
         "mode": "markers",
         "name": "Broken Social Scene",
         "orientation": "v",
         "showlegend": true,
         "type": "scatter",
         "x": [
          -0.0004456985159983903,
          -0.04189513308777777,
          -0.04249611694958747,
          0.021067258526073634,
          -0.0068021970274412145,
          -0.1743972248296047,
          -0.017984719665517384,
          -0.17016731703250967,
          -0.05793765287599678,
          0.3586660548576741,
          -0.112849230941729,
          -0.08288120504662407,
          -0.07195944114294417,
          0.11658282129062011,
          -0.038624409433872214,
          -0.18018508834762992,
          0.007406439702274217,
          -0.025494902195651,
          -0.17016731703250967,
          -0.08647149317140124,
          0.0667572280230089,
          -0.10817739726624462,
          -0.10017259575996192,
          -0.054761844075547676,
          -0.15547814216378594,
          -0.3327865533760952,
          -0.07003034149953424,
          -0.014971695892136008,
          -0.15200302419366973,
          -0.0781731614850951,
          0.05587886611428717,
          -0.08721698555484128,
          -0.09624301547133415,
          -0.0031387102820050533,
          -0.14002172010855246,
          -0.1456933027805228,
          -0.1658825202187467,
          -0.15611080171305036,
          -0.07886337950750344,
          -0.2788623854139646,
          -0.09820998003635135,
          -0.04476821890436114,
          -0.02909223626692847,
          -0.03384674293600157,
          -0.014160616297660078,
          -0.11160655830998345,
          -0.01922289029376972,
          -0.2843871575398385,
          -0.08539009226788545,
          -0.047302534610668495,
          -0.03878055312487046,
          0.04681175311559432,
          -0.106548203967646,
          -0.0068021970274412145,
          -0.13266148780478204
         ],
         "xaxis": "x",
         "y": [
          0.0023806095899515777,
          -0.02564428943388707,
          -0.039869128874812074,
          -0.24759585942418166,
          -0.0011309728067291794,
          -0.06658763267379429,
          -0.02033732080021828,
          -0.04716005738990342,
          -0.029502544565921288,
          -0.6195348339112591,
          -0.14719218640073267,
          -0.060160397619584714,
          -0.10100706466853937,
          -0.47400853266341214,
          -0.078126615976015,
          -0.2337739263472187,
          0.023788064095494495,
          -0.03900718188418513,
          -0.04716005738990342,
          -0.04380511266586215,
          -0.12656258277046387,
          -0.03968110980664255,
          -0.03328447607532616,
          -0.011506023069696688,
          -0.09665770545968236,
          -0.1804141743338381,
          -0.030875613893457218,
          -0.06486575069039813,
          -0.10125194409354088,
          -0.02976167298892298,
          -0.10203041186493345,
          -0.050888800360267744,
          -0.11263583195136656,
          -0.033543301893219475,
          -0.042910843640552046,
          -0.11295018981324832,
          -0.07313229267489178,
          -0.0687818866472514,
          -0.017804723839329403,
          -0.21214361658531236,
          -0.07415996845820354,
          -0.02867331423261938,
          -0.13375896060203174,
          -0.035212636274265754,
          -0.1601143924084657,
          -0.18568309036624392,
          -0.00036579577186744705,
          -0.18271527672322782,
          -0.16058755840834524,
          -0.023747440042615506,
          0.005647634473361102,
          -0.41458459421224914,
          -0.17067500851893613,
          -0.0011309728067291794,
          -0.04856736660013947
         ],
         "yaxis": "y"
        },
        {
         "alignmentgroup": "True",
         "customdata": [
          [
           "Broken Social Scene",
           "Market Fresh",
           "Bee Hives",
           2
          ],
          [
           "Broken Social Scene",
           "Backyards",
           "Bee Hives",
           5
          ],
          [
           "Broken Social Scene",
           "Da Da Da Da",
           "Bee Hives",
           6
          ],
          [
           "Broken Social Scene",
           "Time = Cause",
           "Bee Hives",
           8
          ],
          [
           "Broken Social Scene",
           "Lover's Spit",
           "Bee Hives",
           9
          ],
          [
           "Broken Social Scene",
           "Ibi Dreams Of Pavement (A Better Day)",
           "Broken Social Scene",
           2
          ],
          [
           "Broken Social Scene",
           "7/4 (Shoreline)",
           "Broken Social Scene",
           3
          ],
          [
           "Broken Social Scene",
           "Major Label Debut",
           "Broken Social Scene",
           5
          ],
          [
           "Broken Social Scene",
           "Fire Eye'd Boy",
           "Broken Social Scene",
           6
          ],
          [
           "Broken Social Scene",
           "Windsurfing Nation",
           "Broken Social Scene",
           7
          ],
          [
           "Broken Social Scene",
           "Swimmers",
           "Broken Social Scene",
           8
          ],
          [
           "Broken Social Scene",
           "Hotel",
           "Broken Social Scene",
           9
          ],
          [
           "Broken Social Scene",
           "Handjobs For The Holidays",
           "Broken Social Scene",
           10
          ],
          [
           "Broken Social Scene",
           "Superconnected",
           "Broken Social Scene",
           11
          ],
          [
           "Broken Social Scene",
           "Bandwitch",
           "Broken Social Scene",
           12
          ],
          [
           "Broken Social Scene",
           "It's All Gonna Break",
           "Broken Social Scene",
           14
          ],
          [
           "Broken Social Scene",
           "Canada Vs. America",
           "Broken Social Scene",
           2
          ],
          [
           "Broken Social Scene",
           "All My Friends",
           "Broken Social Scene",
           5
          ],
          [
           "Broken Social Scene",
           "Major Label Debut (Fast)",
           "Broken Social Scene",
           6
          ],
          [
           "Broken Social Scene",
           "Passport Radio",
           "Feel Good Lost",
           4
          ],
          [
           "Broken Social Scene",
           "Stomach Song",
           "Feel Good Lost",
           8
          ],
          [
           "Broken Social Scene",
           "Cranley's Gonna Make It",
           "Feel Good Lost",
           12
          ],
          [
           "Broken Social Scene",
           "World Sick",
           "Forgiveness Rock Record",
           1
          ],
          [
           "Broken Social Scene",
           "Chase Scene",
           "Forgiveness Rock Record",
           2
          ],
          [
           "Broken Social Scene",
           "Texico Bitches",
           "Forgiveness Rock Record",
           3
          ],
          [
           "Broken Social Scene",
           "Forced To Love",
           "Forgiveness Rock Record",
           4
          ],
          [
           "Broken Social Scene",
           "All To All",
           "Forgiveness Rock Record",
           5
          ],
          [
           "Broken Social Scene",
           "Art House Director",
           "Forgiveness Rock Record",
           6
          ],
          [
           "Broken Social Scene",
           "Highway Slipper Jam",
           "Forgiveness Rock Record",
           7
          ],
          [
           "Broken Social Scene",
           "Ungrateful Little Father",
           "Forgiveness Rock Record",
           8
          ],
          [
           "Broken Social Scene",
           "Sentimental X's",
           "Forgiveness Rock Record",
           10
          ],
          [
           "Broken Social Scene",
           "Sweetest Kill",
           "Forgiveness Rock Record",
           11
          ],
          [
           "Broken Social Scene",
           "Romance To The Grave",
           "Forgiveness Rock Record",
           12
          ],
          [
           "Broken Social Scene",
           "Water In Hell",
           "Forgiveness Rock Record",
           13
          ],
          [
           "Broken Social Scene",
           "Me And My Hand",
           "Forgiveness Rock Record",
           14
          ],
          [
           "Broken Social Scene",
           "Halfway Home",
           "Hug Of Thunder",
           2
          ],
          [
           "Broken Social Scene",
           "Protest Song",
           "Hug Of Thunder",
           3
          ],
          [
           "Broken Social Scene",
           "Skyline",
           "Hug Of Thunder",
           4
          ],
          [
           "Broken Social Scene",
           "Stay Happy",
           "Hug Of Thunder",
           5
          ],
          [
           "Broken Social Scene",
           "Vanity Pail Kids",
           "Hug Of Thunder",
           6
          ],
          [
           "Broken Social Scene",
           "Hug Of Thunder",
           "Hug Of Thunder",
           7
          ],
          [
           "Broken Social Scene",
           "Towers And Masons",
           "Hug Of Thunder",
           8
          ],
          [
           "Broken Social Scene",
           "Victim Lover",
           "Hug Of Thunder",
           9
          ],
          [
           "Broken Social Scene",
           "Please Take Me With You",
           "Hug Of Thunder",
           10
          ],
          [
           "Broken Social Scene",
           "Gonna Get Better",
           "Hug Of Thunder",
           11
          ],
          [
           "Broken Social Scene",
           "Mouth Guards Of The Apocalypse",
           "Hug Of Thunder",
           12
          ],
          [
           "Broken Social Scene",
           "KC Accidental",
           "You Forgot It In People",
           2
          ],
          [
           "Broken Social Scene",
           "Stars And Sons",
           "You Forgot It In People",
           3
          ],
          [
           "Broken Social Scene",
           "Almost Crimes - Radio Kills Remix",
           "You Forgot It In People",
           4
          ],
          [
           "Broken Social Scene",
           "Looks Just Like The Sun",
           "You Forgot It In People",
           5
          ],
          [
           "Broken Social Scene",
           "Anthems For A Seventeen Year-Old Girl",
           "You Forgot It In People",
           7
          ],
          [
           "Broken Social Scene",
           "Cause = Time",
           "You Forgot It In People",
           8
          ],
          [
           "Broken Social Scene",
           "Shampoo Suicide",
           "You Forgot It In People",
           10
          ],
          [
           "Broken Social Scene",
           "Lover's Spit",
           "You Forgot It In People",
           11
          ],
          [
           "Broken Social Scene",
           "I'm Still Your Fag",
           "You Forgot It In People",
           12
          ]
         ],
         "hovertemplate": "artist=%{customdata[0]}<br>PC1=%{x}<br>title=%{customdata[1]}<br>album=%{customdata[2]}<br>track_number=%{customdata[3]}<extra></extra>",
         "legendgroup": "Broken Social Scene",
         "marker": {
          "color": "#FF6692",
          "symbol": "circle"
         },
         "name": "Broken Social Scene",
         "notched": true,
         "offsetgroup": "Broken Social Scene",
         "showlegend": false,
         "type": "box",
         "x": [
          -0.0004456985159983903,
          -0.04189513308777777,
          -0.04249611694958747,
          0.021067258526073634,
          -0.0068021970274412145,
          -0.1743972248296047,
          -0.017984719665517384,
          -0.17016731703250967,
          -0.05793765287599678,
          0.3586660548576741,
          -0.112849230941729,
          -0.08288120504662407,
          -0.07195944114294417,
          0.11658282129062011,
          -0.038624409433872214,
          -0.18018508834762992,
          0.007406439702274217,
          -0.025494902195651,
          -0.17016731703250967,
          -0.08647149317140124,
          0.0667572280230089,
          -0.10817739726624462,
          -0.10017259575996192,
          -0.054761844075547676,
          -0.15547814216378594,
          -0.3327865533760952,
          -0.07003034149953424,
          -0.014971695892136008,
          -0.15200302419366973,
          -0.0781731614850951,
          0.05587886611428717,
          -0.08721698555484128,
          -0.09624301547133415,
          -0.0031387102820050533,
          -0.14002172010855246,
          -0.1456933027805228,
          -0.1658825202187467,
          -0.15611080171305036,
          -0.07886337950750344,
          -0.2788623854139646,
          -0.09820998003635135,
          -0.04476821890436114,
          -0.02909223626692847,
          -0.03384674293600157,
          -0.014160616297660078,
          -0.11160655830998345,
          -0.01922289029376972,
          -0.2843871575398385,
          -0.08539009226788545,
          -0.047302534610668495,
          -0.03878055312487046,
          0.04681175311559432,
          -0.106548203967646,
          -0.0068021970274412145,
          -0.13266148780478204
         ],
         "xaxis": "x2",
         "yaxis": "y2"
        },
        {
         "customdata": [
          [
           "Dirty Projectors",
           "Cannibal Resource",
           "Bitte Orca",
           1
          ],
          [
           "Dirty Projectors",
           "Temecula Sunrise",
           "Bitte Orca",
           2
          ],
          [
           "Dirty Projectors",
           "The Bride",
           "Bitte Orca",
           3
          ],
          [
           "Dirty Projectors",
           "Stillness Is The Move",
           "Bitte Orca",
           4
          ],
          [
           "Dirty Projectors",
           "Two Doves",
           "Bitte Orca",
           5
          ],
          [
           "Dirty Projectors",
           "Useful Chamber",
           "Bitte Orca",
           6
          ],
          [
           "Dirty Projectors",
           "No Intention",
           "Bitte Orca",
           7
          ],
          [
           "Dirty Projectors",
           "Remade Horizon",
           "Bitte Orca",
           8
          ],
          [
           "Dirty Projectors",
           "Fluorescent Half Dome",
           "Bitte Orca",
           9
          ],
          [
           "Dirty Projectors",
           "Keep Your Name",
           "Dirty Projectors",
           1
          ],
          [
           "Dirty Projectors",
           "Death Spiral",
           "Dirty Projectors",
           2
          ],
          [
           "Dirty Projectors",
           "Up In Hudson",
           "Dirty Projectors",
           3
          ],
          [
           "Dirty Projectors",
           "Work Together",
           "Dirty Projectors",
           4
          ],
          [
           "Dirty Projectors",
           "Little Bubble",
           "Dirty Projectors",
           5
          ],
          [
           "Dirty Projectors",
           "Winner Take Nothing",
           "Dirty Projectors",
           6
          ],
          [
           "Dirty Projectors",
           "Ascent Through Clouds",
           "Dirty Projectors",
           7
          ],
          [
           "Dirty Projectors",
           "Cool Your Heart",
           "Dirty Projectors",
           8
          ],
          [
           "Dirty Projectors",
           "I See You",
           "Dirty Projectors",
           9
          ],
          [
           "Dirty Projectors",
           "Right Now",
           "Lamp Lit Prose",
           1
          ],
          [
           "Dirty Projectors",
           "Break-Thru",
           "Lamp Lit Prose",
           2
          ],
          [
           "Dirty Projectors",
           "That’s A Lifestyle",
           "Lamp Lit Prose",
           3
          ],
          [
           "Dirty Projectors",
           "I Feel Energy",
           "Lamp Lit Prose",
           4
          ],
          [
           "Dirty Projectors",
           "Zombie Conqueror",
           "Lamp Lit Prose",
           5
          ],
          [
           "Dirty Projectors",
           "Blue Bird",
           "Lamp Lit Prose",
           6
          ],
          [
           "Dirty Projectors",
           "I Found It In U",
           "Lamp Lit Prose",
           7
          ],
          [
           "Dirty Projectors",
           "What Is The Time",
           "Lamp Lit Prose",
           8
          ],
          [
           "Dirty Projectors",
           "You're The One",
           "Lamp Lit Prose",
           9
          ],
          [
           "Dirty Projectors",
           "(I Wanna) Feel It All",
           "Lamp Lit Prose",
           10
          ],
          [
           "Dirty Projectors",
           "My Brother Had A Birthday",
           "Morning Better Last!",
           2
          ],
          [
           "Dirty Projectors",
           "The Enterprising Catalyst",
           "Morning Better Last!",
           3
          ],
          [
           "Dirty Projectors",
           "Grandfather's Jacket",
           "Morning Better Last!",
           4
          ],
          [
           "Dirty Projectors",
           "After Santa Monica Boulevard",
           "Morning Better Last!",
           5
          ],
          [
           "Dirty Projectors",
           "Further On Down The Strip",
           "Morning Better Last!",
           7
          ],
          [
           "Dirty Projectors",
           "Katydids Calling",
           "Morning Better Last!",
           8
          ],
          [
           "Dirty Projectors",
           "Twenty-Foot Stalks",
           "Morning Better Last!",
           9
          ],
          [
           "Dirty Projectors",
           "We Could Cling",
           "Morning Better Last!",
           10
          ],
          [
           "Dirty Projectors",
           "To Give It Weight",
           "Morning Better Last!",
           12
          ],
          [
           "Dirty Projectors",
           "Here Comes The Summer King",
           "Morning Better Last!",
           13
          ],
          [
           "Dirty Projectors",
           "Her Freezings And Thawings",
           "Morning Better Last!",
           14
          ],
          [
           "Dirty Projectors",
           "We Two Feared The Storm",
           "Morning Better Last!",
           16
          ],
          [
           "Dirty Projectors",
           "I Am Going To See It",
           "Morning Better Last!",
           18
          ],
          [
           "Dirty Projectors",
           "Fake Folks",
           "Morning Better Last!",
           19
          ],
          [
           "Dirty Projectors",
           "Like Once-Heated Milk",
           "Morning Better Last!",
           21
          ],
          [
           "Dirty Projectors",
           "O! You Hungering Infants",
           "Morning Better Last!",
           22
          ],
          [
           "Dirty Projectors",
           "Morning Better Last!",
           "Morning Better Last!",
           23
          ],
          [
           "Dirty Projectors",
           "On and Ever Onward",
           "Mount Wittenberg Orca",
           2
          ],
          [
           "Dirty Projectors",
           "When the World Comes to an End",
           "Mount Wittenberg Orca",
           3
          ],
          [
           "Dirty Projectors",
           "Beautiful Mother",
           "Mount Wittenberg Orca",
           4
          ],
          [
           "Dirty Projectors",
           "Sharing Orb",
           "Mount Wittenberg Orca",
           5
          ],
          [
           "Dirty Projectors",
           "No Embrace",
           "Mount Wittenberg Orca",
           6
          ],
          [
           "Dirty Projectors",
           "All We Are",
           "Mount Wittenberg Orca",
           7
          ],
          [
           "Dirty Projectors",
           "What I See",
           "Rise Above",
           1
          ],
          [
           "Dirty Projectors",
           "No More",
           "Rise Above",
           2
          ],
          [
           "Dirty Projectors",
           "Depression",
           "Rise Above",
           3
          ],
          [
           "Dirty Projectors",
           "Six Pack",
           "Rise Above",
           4
          ],
          [
           "Dirty Projectors",
           "Thirsty and Miserable",
           "Rise Above",
           5
          ],
          [
           "Dirty Projectors",
           "Police Story",
           "Rise Above",
           6
          ],
          [
           "Dirty Projectors",
           "Gimmie Gimmie Gimmie",
           "Rise Above",
           7
          ],
          [
           "Dirty Projectors",
           "Spray Paint (The Walls)",
           "Rise Above",
           8
          ],
          [
           "Dirty Projectors",
           "Room 13",
           "Rise Above",
           9
          ],
          [
           "Dirty Projectors",
           "Rise Above",
           "Rise Above",
           10
          ],
          [
           "Dirty Projectors",
           "Untitled",
           "Rise Above",
           11
          ],
          [
           "Dirty Projectors",
           "Somberly, Kimberly",
           "Slaves' Graves and Ballads",
           1
          ],
          [
           "Dirty Projectors",
           "On the Beach",
           "Slaves' Graves and Ballads",
           2
          ],
          [
           "Dirty Projectors",
           "(Throw On) The Hazard Lights",
           "Slaves' Graves and Ballads",
           3
          ],
          [
           "Dirty Projectors",
           "Slaves' Graves",
           "Slaves' Graves and Ballads",
           4
          ],
          [
           "Dirty Projectors",
           "Grandfather's Hanging",
           "Slaves' Graves and Ballads",
           5
          ],
          [
           "Dirty Projectors",
           "We Are Swaddled",
           "Slaves' Graves and Ballads",
           6
          ],
          [
           "Dirty Projectors",
           "A Labor More Restful",
           "Slaves' Graves and Ballads",
           8
          ],
          [
           "Dirty Projectors",
           "Unmoved",
           "Slaves' Graves and Ballads",
           9
          ],
          [
           "Dirty Projectors",
           "Ladies, You Have Exiled Me",
           "Slaves' Graves and Ballads",
           10
          ],
          [
           "Dirty Projectors",
           "Because Your Light Is Turning Green",
           "Slaves' Graves and Ballads",
           11
          ],
          [
           "Dirty Projectors",
           "Obscure Wisdom",
           "Slaves' Graves and Ballads",
           12
          ],
          [
           "Dirty Projectors",
           "This Weather",
           "Slaves' Graves and Ballads",
           13
          ],
          [
           "Dirty Projectors",
           "Since I Opened",
           "Slaves' Graves and Ballads",
           14
          ],
          [
           "Dirty Projectors",
           "Offspring Are Blank",
           "Swing Lo Magellan",
           1
          ],
          [
           "Dirty Projectors",
           "About to Die",
           "Swing Lo Magellan",
           2
          ],
          [
           "Dirty Projectors",
           "Gun Has No Trigger",
           "Swing Lo Magellan",
           3
          ],
          [
           "Dirty Projectors",
           "Swing Lo Magellan",
           "Swing Lo Magellan",
           4
          ],
          [
           "Dirty Projectors",
           "Just From Chevron",
           "Swing Lo Magellan",
           5
          ],
          [
           "Dirty Projectors",
           "Dance For You",
           "Swing Lo Magellan",
           6
          ],
          [
           "Dirty Projectors",
           "Maybe That Was It",
           "Swing Lo Magellan",
           7
          ],
          [
           "Dirty Projectors",
           "Impregnable Question",
           "Swing Lo Magellan",
           8
          ],
          [
           "Dirty Projectors",
           "See What She Seeing",
           "Swing Lo Magellan",
           9
          ],
          [
           "Dirty Projectors",
           "The Socialites",
           "Swing Lo Magellan",
           10
          ],
          [
           "Dirty Projectors",
           "Unto Caesar",
           "Swing Lo Magellan",
           11
          ],
          [
           "Dirty Projectors",
           "Irresponsible Tune",
           "Swing Lo Magellan",
           12
          ],
          [
           "Dirty Projectors",
           "I Sit On the Ridge At Dusk",
           "The Getty Address",
           1
          ],
          [
           "Dirty Projectors",
           "But In the Headlights",
           "The Getty Address",
           2
          ],
          [
           "Dirty Projectors",
           "Warholian Wigs",
           "The Getty Address",
           3
          ],
          [
           "Dirty Projectors",
           "I Will Truck",
           "The Getty Address",
           4
          ],
          [
           "Dirty Projectors",
           "D. Henley's Dream",
           "The Getty Address",
           5
          ],
          [
           "Dirty Projectors",
           "Gilt Gold Scabs",
           "The Getty Address",
           6
          ],
          [
           "Dirty Projectors",
           "Ponds & Puddles",
           "The Getty Address",
           7
          ],
          [
           "Dirty Projectors",
           "Not Having Found",
           "The Getty Address",
           8
          ],
          [
           "Dirty Projectors",
           "Tour Along the Potomac",
           "The Getty Address",
           9
          ],
          [
           "Dirty Projectors",
           "Jolly Jolly Jolly Ego",
           "The Getty Address",
           10
          ],
          [
           "Dirty Projectors",
           "Time Birthed Spilled Blood",
           "The Getty Address",
           11
          ],
          [
           "Dirty Projectors",
           "Drilling Profitably",
           "The Getty Address",
           12
          ],
          [
           "Dirty Projectors",
           "Finches' Song At Oceanic Parking Lot",
           "The Getty Address",
           13
          ],
          [
           "Dirty Projectors",
           "The Glad Fact",
           "The Glad Fact",
           1
          ],
          [
           "Dirty Projectors",
           "My Offwhite Flag",
           "The Glad Fact",
           2
          ],
          [
           "Dirty Projectors",
           "Like Fake Blood In Crisp October",
           "The Glad Fact",
           3
          ],
          [
           "Dirty Projectors",
           "Boredome Is a Product",
           "The Glad Fact",
           4
          ],
          [
           "Dirty Projectors",
           "Two Brown Finches",
           "The Glad Fact",
           5
          ],
          [
           "Dirty Projectors",
           "Three Brown Finches",
           "The Glad Fact",
           6
          ],
          [
           "Dirty Projectors",
           "Off Science Hill",
           "The Glad Fact",
           7
          ],
          [
           "Dirty Projectors",
           "Winter Is Here",
           "The Glad Fact",
           8
          ],
          [
           "Dirty Projectors",
           "Ground Underfoot",
           "The Glad Fact",
           9
          ],
          [
           "Dirty Projectors",
           "Spirit-Future Medley",
           "The Glad Fact",
           10
          ],
          [
           "Dirty Projectors",
           "Naked We Made It",
           "The Glad Fact",
           11
          ],
          [
           "Dirty Projectors",
           "Lit from Below",
           "The Glad Fact",
           12
          ],
          [
           "Dirty Projectors",
           "Imaginary Love",
           "The Glad Fact",
           13
          ],
          [
           "Dirty Projectors",
           "The Highway Is a Foggy Knife",
           "The Glad Fact",
           14
          ],
          [
           "Dirty Projectors",
           "The Minutes",
           "The Glad Fact",
           15
          ]
         ],
         "hovertemplate": "artist=%{customdata[0]}<br>PC1=%{x}<br>PC0=%{y}<br>title=%{customdata[1]}<br>album=%{customdata[2]}<br>track_number=%{customdata[3]}<extra></extra>",
         "legendgroup": "Dirty Projectors",
         "marker": {
          "color": "#B6E880",
          "symbol": "circle"
         },
         "mode": "markers",
         "name": "Dirty Projectors",
         "orientation": "v",
         "showlegend": true,
         "type": "scatter",
         "x": [
          -0.07169030161153465,
          -0.12323853068550868,
          -0.018281824628454818,
          -0.17494063803329415,
          -0.06947352872644688,
          -0.09923934903785632,
          -0.07892347865916789,
          0.12508419305759116,
          -0.027132676239272693,
          -0.04024532944044515,
          -0.15483427885442494,
          -0.27708070219678316,
          -0.09750847104147499,
          0.0065522947364868925,
          -0.04717642049874305,
          -0.034441872203093055,
          -0.2408083191465638,
          -0.16859920572211803,
          -0.12225517976195502,
          0.0003048852804839368,
          -0.03918561984121891,
          -0.01991314189996396,
          -0.01088999527962884,
          0.022736079808468954,
          -0.03168293533988555,
          -0.14798809234212834,
          -0.18210763424406362,
          -0.1849930292801611,
          -0.1065220853451626,
          -0.053149366603870665,
          -0.005328884912695074,
          -0.03385445858871672,
          0.004258757207832476,
          0.0007104591589186179,
          -0.04038129218244258,
          -0.14760208597839067,
          -0.029188743843022003,
          -0.01064223629635054,
          -0.027694635733786027,
          -0.1099776884117625,
          -0.014195979131220601,
          -0.07439227309947485,
          -0.07394977747248759,
          -0.005353269960246591,
          0.012552488118362392,
          -0.1940875880663762,
          -0.12702998104653568,
          0.016357824087290293,
          -0.15010787440711493,
          -0.00005682101965308892,
          -0.07897543233191183,
          -0.2134657314583323,
          -0.0719634256403584,
          -0.1541292630048023,
          -0.06139559539564945,
          -0.05365710608207288,
          -0.011012566119197782,
          -0.17975142889842818,
          -0.0637851903103156,
          -0.06030035450051536,
          -0.051290686985471734,
          -0.056301673362464805,
          -0.005135356311001873,
          -0.011183311630004623,
          -0.0017976255039043425,
          -0.016333835627386488,
          0.010042134514075162,
          0.02410913321790311,
          -0.0004414802725328775,
          -0.0012733304146248991,
          -0.039173237455959284,
          -0.0828630865388661,
          -0.009205595977316433,
          -0.0037639767724964887,
          -0.027520690315056294,
          -0.2557310264858938,
          -0.17209770986077239,
          -0.013084473674106024,
          -0.0034547745630947404,
          -0.1325365684630453,
          -0.0361422453122372,
          -0.016468931574843703,
          -0.18062154423512652,
          -0.04319281252064719,
          -0.09998372705886421,
          -0.03086736177081186,
          -0.02745408992014042,
          0.024286876672870654,
          0.005274339295136536,
          0.007467213722182585,
          0.012338554345227508,
          -0.05313288959941158,
          0.008894237064785713,
          -0.022389344589573416,
          -0.01054739128187599,
          0.009974514479453186,
          -0.05914325727949608,
          -0.0352583476702412,
          0.13270104408957978,
          -0.0936981240446278,
          -0.0455756672925946,
          -0.023966282824473214,
          0.005831036281847342,
          0.012136323068614653,
          -0.0017631666108261584,
          -0.0073831037940658316,
          0.003728117042818651,
          -0.05120553711834302,
          -0.05490258938228201,
          -0.008062021435744877,
          -0.008443342634056404,
          0.0087579915431402,
          -0.14503238098283003,
          0.0959047449682296,
          -0.04072134822236561
         ],
         "xaxis": "x",
         "y": [
          -0.03616227657762755,
          -0.04392928915844723,
          -0.058435030572546516,
          -0.12929638195059795,
          0.0031857939353400395,
          -0.14003292544217932,
          -0.027144959017729894,
          -0.2729608951722772,
          0.016419050056508608,
          -0.10948086548853861,
          -0.0760190377599142,
          -0.13133553058858388,
          -0.03578229510551513,
          -0.10813835866831185,
          -0.05605351174249503,
          -0.1758889963794568,
          -0.18325868748569657,
          -0.09287852056274358,
          -0.06398072003380709,
          0.015642724327316306,
          -0.007259057002417086,
          -0.10004249062009335,
          -0.015025936717199241,
          0.019790137394022505,
          0.00016953379414753,
          -0.08484318587278848,
          -0.13265948499604008,
          -0.19776314455334543,
          -0.08347144568910933,
          -0.010301802586817356,
          -0.003323231309894796,
          -0.05217499993528217,
          0.016661905082766906,
          -0.003949992582941491,
          -0.03162974508881303,
          -0.10327677538973688,
          -0.0358960371923101,
          0.0019220591450597505,
          0.0008226439769770072,
          -0.08200967406302347,
          -0.006154045047193098,
          -0.06420487867555695,
          -0.04102643750954906,
          -0.0044503619943826265,
          0.007072123553088321,
          -0.09029357643106667,
          -0.07324512126320941,
          0.022055760909524002,
          -0.03169951590515219,
          -0.08623153025192451,
          -0.015589541553617208,
          -0.1272657372645748,
          -0.11581128434965929,
          -0.10838520341639529,
          -0.03281671184892372,
          -0.06113382322623166,
          -0.08625674695988304,
          -0.24334672489646855,
          -0.13911109051587037,
          -0.14518843909673432,
          -0.04254340624361758,
          -0.0336781604659485,
          0.005225236248555392,
          0.012513797107437368,
          -0.004406791067946399,
          -0.003749894189113809,
          0.038001327396769466,
          0.01976529030127334,
          -0.0007258692432937169,
          0.020662423877153578,
          -0.015175918171093618,
          -0.01690283546578139,
          -0.01099859404999452,
          -0.02052452844665899,
          -0.024146539996659586,
          -0.10892416522690795,
          -0.10271826147008352,
          -0.034659140315668115,
          0.003163190658177145,
          -0.06886073643091471,
          -0.006365123654209789,
          0.001902097072577904,
          -0.2852994808372023,
          -0.011147167828590293,
          -0.0894618498763786,
          -0.002675865494123476,
          -0.004142045942918766,
          0.04741782733212113,
          0.039712077112063565,
          0.011943433833298253,
          0.023715301645159878,
          0.020948014009348752,
          0.02355355293204562,
          0.0012747559277157595,
          0.004658508964975057,
          0.03709853773042386,
          -0.00969049450093033,
          -0.014001480360938854,
          -0.2086737661709463,
          -0.06921122452256337,
          -0.05626285633245295,
          -0.017933182536412788,
          0.03299737010668713,
          0.01315388298397141,
          -0.013530758043302536,
          0.012541863377551381,
          0.017792513345298033,
          -0.007678992920218547,
          -0.026492178636944672,
          -0.001289869661975106,
          -0.016265831474623682,
          -0.02460983029216742,
          -0.1050472896601011,
          -0.0884601579135187,
          -0.021147314864701193
         ],
         "yaxis": "y"
        },
        {
         "alignmentgroup": "True",
         "customdata": [
          [
           "Dirty Projectors",
           "Cannibal Resource",
           "Bitte Orca",
           1
          ],
          [
           "Dirty Projectors",
           "Temecula Sunrise",
           "Bitte Orca",
           2
          ],
          [
           "Dirty Projectors",
           "The Bride",
           "Bitte Orca",
           3
          ],
          [
           "Dirty Projectors",
           "Stillness Is The Move",
           "Bitte Orca",
           4
          ],
          [
           "Dirty Projectors",
           "Two Doves",
           "Bitte Orca",
           5
          ],
          [
           "Dirty Projectors",
           "Useful Chamber",
           "Bitte Orca",
           6
          ],
          [
           "Dirty Projectors",
           "No Intention",
           "Bitte Orca",
           7
          ],
          [
           "Dirty Projectors",
           "Remade Horizon",
           "Bitte Orca",
           8
          ],
          [
           "Dirty Projectors",
           "Fluorescent Half Dome",
           "Bitte Orca",
           9
          ],
          [
           "Dirty Projectors",
           "Keep Your Name",
           "Dirty Projectors",
           1
          ],
          [
           "Dirty Projectors",
           "Death Spiral",
           "Dirty Projectors",
           2
          ],
          [
           "Dirty Projectors",
           "Up In Hudson",
           "Dirty Projectors",
           3
          ],
          [
           "Dirty Projectors",
           "Work Together",
           "Dirty Projectors",
           4
          ],
          [
           "Dirty Projectors",
           "Little Bubble",
           "Dirty Projectors",
           5
          ],
          [
           "Dirty Projectors",
           "Winner Take Nothing",
           "Dirty Projectors",
           6
          ],
          [
           "Dirty Projectors",
           "Ascent Through Clouds",
           "Dirty Projectors",
           7
          ],
          [
           "Dirty Projectors",
           "Cool Your Heart",
           "Dirty Projectors",
           8
          ],
          [
           "Dirty Projectors",
           "I See You",
           "Dirty Projectors",
           9
          ],
          [
           "Dirty Projectors",
           "Right Now",
           "Lamp Lit Prose",
           1
          ],
          [
           "Dirty Projectors",
           "Break-Thru",
           "Lamp Lit Prose",
           2
          ],
          [
           "Dirty Projectors",
           "That’s A Lifestyle",
           "Lamp Lit Prose",
           3
          ],
          [
           "Dirty Projectors",
           "I Feel Energy",
           "Lamp Lit Prose",
           4
          ],
          [
           "Dirty Projectors",
           "Zombie Conqueror",
           "Lamp Lit Prose",
           5
          ],
          [
           "Dirty Projectors",
           "Blue Bird",
           "Lamp Lit Prose",
           6
          ],
          [
           "Dirty Projectors",
           "I Found It In U",
           "Lamp Lit Prose",
           7
          ],
          [
           "Dirty Projectors",
           "What Is The Time",
           "Lamp Lit Prose",
           8
          ],
          [
           "Dirty Projectors",
           "You're The One",
           "Lamp Lit Prose",
           9
          ],
          [
           "Dirty Projectors",
           "(I Wanna) Feel It All",
           "Lamp Lit Prose",
           10
          ],
          [
           "Dirty Projectors",
           "My Brother Had A Birthday",
           "Morning Better Last!",
           2
          ],
          [
           "Dirty Projectors",
           "The Enterprising Catalyst",
           "Morning Better Last!",
           3
          ],
          [
           "Dirty Projectors",
           "Grandfather's Jacket",
           "Morning Better Last!",
           4
          ],
          [
           "Dirty Projectors",
           "After Santa Monica Boulevard",
           "Morning Better Last!",
           5
          ],
          [
           "Dirty Projectors",
           "Further On Down The Strip",
           "Morning Better Last!",
           7
          ],
          [
           "Dirty Projectors",
           "Katydids Calling",
           "Morning Better Last!",
           8
          ],
          [
           "Dirty Projectors",
           "Twenty-Foot Stalks",
           "Morning Better Last!",
           9
          ],
          [
           "Dirty Projectors",
           "We Could Cling",
           "Morning Better Last!",
           10
          ],
          [
           "Dirty Projectors",
           "To Give It Weight",
           "Morning Better Last!",
           12
          ],
          [
           "Dirty Projectors",
           "Here Comes The Summer King",
           "Morning Better Last!",
           13
          ],
          [
           "Dirty Projectors",
           "Her Freezings And Thawings",
           "Morning Better Last!",
           14
          ],
          [
           "Dirty Projectors",
           "We Two Feared The Storm",
           "Morning Better Last!",
           16
          ],
          [
           "Dirty Projectors",
           "I Am Going To See It",
           "Morning Better Last!",
           18
          ],
          [
           "Dirty Projectors",
           "Fake Folks",
           "Morning Better Last!",
           19
          ],
          [
           "Dirty Projectors",
           "Like Once-Heated Milk",
           "Morning Better Last!",
           21
          ],
          [
           "Dirty Projectors",
           "O! You Hungering Infants",
           "Morning Better Last!",
           22
          ],
          [
           "Dirty Projectors",
           "Morning Better Last!",
           "Morning Better Last!",
           23
          ],
          [
           "Dirty Projectors",
           "On and Ever Onward",
           "Mount Wittenberg Orca",
           2
          ],
          [
           "Dirty Projectors",
           "When the World Comes to an End",
           "Mount Wittenberg Orca",
           3
          ],
          [
           "Dirty Projectors",
           "Beautiful Mother",
           "Mount Wittenberg Orca",
           4
          ],
          [
           "Dirty Projectors",
           "Sharing Orb",
           "Mount Wittenberg Orca",
           5
          ],
          [
           "Dirty Projectors",
           "No Embrace",
           "Mount Wittenberg Orca",
           6
          ],
          [
           "Dirty Projectors",
           "All We Are",
           "Mount Wittenberg Orca",
           7
          ],
          [
           "Dirty Projectors",
           "What I See",
           "Rise Above",
           1
          ],
          [
           "Dirty Projectors",
           "No More",
           "Rise Above",
           2
          ],
          [
           "Dirty Projectors",
           "Depression",
           "Rise Above",
           3
          ],
          [
           "Dirty Projectors",
           "Six Pack",
           "Rise Above",
           4
          ],
          [
           "Dirty Projectors",
           "Thirsty and Miserable",
           "Rise Above",
           5
          ],
          [
           "Dirty Projectors",
           "Police Story",
           "Rise Above",
           6
          ],
          [
           "Dirty Projectors",
           "Gimmie Gimmie Gimmie",
           "Rise Above",
           7
          ],
          [
           "Dirty Projectors",
           "Spray Paint (The Walls)",
           "Rise Above",
           8
          ],
          [
           "Dirty Projectors",
           "Room 13",
           "Rise Above",
           9
          ],
          [
           "Dirty Projectors",
           "Rise Above",
           "Rise Above",
           10
          ],
          [
           "Dirty Projectors",
           "Untitled",
           "Rise Above",
           11
          ],
          [
           "Dirty Projectors",
           "Somberly, Kimberly",
           "Slaves' Graves and Ballads",
           1
          ],
          [
           "Dirty Projectors",
           "On the Beach",
           "Slaves' Graves and Ballads",
           2
          ],
          [
           "Dirty Projectors",
           "(Throw On) The Hazard Lights",
           "Slaves' Graves and Ballads",
           3
          ],
          [
           "Dirty Projectors",
           "Slaves' Graves",
           "Slaves' Graves and Ballads",
           4
          ],
          [
           "Dirty Projectors",
           "Grandfather's Hanging",
           "Slaves' Graves and Ballads",
           5
          ],
          [
           "Dirty Projectors",
           "We Are Swaddled",
           "Slaves' Graves and Ballads",
           6
          ],
          [
           "Dirty Projectors",
           "A Labor More Restful",
           "Slaves' Graves and Ballads",
           8
          ],
          [
           "Dirty Projectors",
           "Unmoved",
           "Slaves' Graves and Ballads",
           9
          ],
          [
           "Dirty Projectors",
           "Ladies, You Have Exiled Me",
           "Slaves' Graves and Ballads",
           10
          ],
          [
           "Dirty Projectors",
           "Because Your Light Is Turning Green",
           "Slaves' Graves and Ballads",
           11
          ],
          [
           "Dirty Projectors",
           "Obscure Wisdom",
           "Slaves' Graves and Ballads",
           12
          ],
          [
           "Dirty Projectors",
           "This Weather",
           "Slaves' Graves and Ballads",
           13
          ],
          [
           "Dirty Projectors",
           "Since I Opened",
           "Slaves' Graves and Ballads",
           14
          ],
          [
           "Dirty Projectors",
           "Offspring Are Blank",
           "Swing Lo Magellan",
           1
          ],
          [
           "Dirty Projectors",
           "About to Die",
           "Swing Lo Magellan",
           2
          ],
          [
           "Dirty Projectors",
           "Gun Has No Trigger",
           "Swing Lo Magellan",
           3
          ],
          [
           "Dirty Projectors",
           "Swing Lo Magellan",
           "Swing Lo Magellan",
           4
          ],
          [
           "Dirty Projectors",
           "Just From Chevron",
           "Swing Lo Magellan",
           5
          ],
          [
           "Dirty Projectors",
           "Dance For You",
           "Swing Lo Magellan",
           6
          ],
          [
           "Dirty Projectors",
           "Maybe That Was It",
           "Swing Lo Magellan",
           7
          ],
          [
           "Dirty Projectors",
           "Impregnable Question",
           "Swing Lo Magellan",
           8
          ],
          [
           "Dirty Projectors",
           "See What She Seeing",
           "Swing Lo Magellan",
           9
          ],
          [
           "Dirty Projectors",
           "The Socialites",
           "Swing Lo Magellan",
           10
          ],
          [
           "Dirty Projectors",
           "Unto Caesar",
           "Swing Lo Magellan",
           11
          ],
          [
           "Dirty Projectors",
           "Irresponsible Tune",
           "Swing Lo Magellan",
           12
          ],
          [
           "Dirty Projectors",
           "I Sit On the Ridge At Dusk",
           "The Getty Address",
           1
          ],
          [
           "Dirty Projectors",
           "But In the Headlights",
           "The Getty Address",
           2
          ],
          [
           "Dirty Projectors",
           "Warholian Wigs",
           "The Getty Address",
           3
          ],
          [
           "Dirty Projectors",
           "I Will Truck",
           "The Getty Address",
           4
          ],
          [
           "Dirty Projectors",
           "D. Henley's Dream",
           "The Getty Address",
           5
          ],
          [
           "Dirty Projectors",
           "Gilt Gold Scabs",
           "The Getty Address",
           6
          ],
          [
           "Dirty Projectors",
           "Ponds & Puddles",
           "The Getty Address",
           7
          ],
          [
           "Dirty Projectors",
           "Not Having Found",
           "The Getty Address",
           8
          ],
          [
           "Dirty Projectors",
           "Tour Along the Potomac",
           "The Getty Address",
           9
          ],
          [
           "Dirty Projectors",
           "Jolly Jolly Jolly Ego",
           "The Getty Address",
           10
          ],
          [
           "Dirty Projectors",
           "Time Birthed Spilled Blood",
           "The Getty Address",
           11
          ],
          [
           "Dirty Projectors",
           "Drilling Profitably",
           "The Getty Address",
           12
          ],
          [
           "Dirty Projectors",
           "Finches' Song At Oceanic Parking Lot",
           "The Getty Address",
           13
          ],
          [
           "Dirty Projectors",
           "The Glad Fact",
           "The Glad Fact",
           1
          ],
          [
           "Dirty Projectors",
           "My Offwhite Flag",
           "The Glad Fact",
           2
          ],
          [
           "Dirty Projectors",
           "Like Fake Blood In Crisp October",
           "The Glad Fact",
           3
          ],
          [
           "Dirty Projectors",
           "Boredome Is a Product",
           "The Glad Fact",
           4
          ],
          [
           "Dirty Projectors",
           "Two Brown Finches",
           "The Glad Fact",
           5
          ],
          [
           "Dirty Projectors",
           "Three Brown Finches",
           "The Glad Fact",
           6
          ],
          [
           "Dirty Projectors",
           "Off Science Hill",
           "The Glad Fact",
           7
          ],
          [
           "Dirty Projectors",
           "Winter Is Here",
           "The Glad Fact",
           8
          ],
          [
           "Dirty Projectors",
           "Ground Underfoot",
           "The Glad Fact",
           9
          ],
          [
           "Dirty Projectors",
           "Spirit-Future Medley",
           "The Glad Fact",
           10
          ],
          [
           "Dirty Projectors",
           "Naked We Made It",
           "The Glad Fact",
           11
          ],
          [
           "Dirty Projectors",
           "Lit from Below",
           "The Glad Fact",
           12
          ],
          [
           "Dirty Projectors",
           "Imaginary Love",
           "The Glad Fact",
           13
          ],
          [
           "Dirty Projectors",
           "The Highway Is a Foggy Knife",
           "The Glad Fact",
           14
          ],
          [
           "Dirty Projectors",
           "The Minutes",
           "The Glad Fact",
           15
          ]
         ],
         "hovertemplate": "artist=%{customdata[0]}<br>PC1=%{x}<br>title=%{customdata[1]}<br>album=%{customdata[2]}<br>track_number=%{customdata[3]}<extra></extra>",
         "legendgroup": "Dirty Projectors",
         "marker": {
          "color": "#B6E880",
          "symbol": "circle"
         },
         "name": "Dirty Projectors",
         "notched": true,
         "offsetgroup": "Dirty Projectors",
         "showlegend": false,
         "type": "box",
         "x": [
          -0.07169030161153465,
          -0.12323853068550868,
          -0.018281824628454818,
          -0.17494063803329415,
          -0.06947352872644688,
          -0.09923934903785632,
          -0.07892347865916789,
          0.12508419305759116,
          -0.027132676239272693,
          -0.04024532944044515,
          -0.15483427885442494,
          -0.27708070219678316,
          -0.09750847104147499,
          0.0065522947364868925,
          -0.04717642049874305,
          -0.034441872203093055,
          -0.2408083191465638,
          -0.16859920572211803,
          -0.12225517976195502,
          0.0003048852804839368,
          -0.03918561984121891,
          -0.01991314189996396,
          -0.01088999527962884,
          0.022736079808468954,
          -0.03168293533988555,
          -0.14798809234212834,
          -0.18210763424406362,
          -0.1849930292801611,
          -0.1065220853451626,
          -0.053149366603870665,
          -0.005328884912695074,
          -0.03385445858871672,
          0.004258757207832476,
          0.0007104591589186179,
          -0.04038129218244258,
          -0.14760208597839067,
          -0.029188743843022003,
          -0.01064223629635054,
          -0.027694635733786027,
          -0.1099776884117625,
          -0.014195979131220601,
          -0.07439227309947485,
          -0.07394977747248759,
          -0.005353269960246591,
          0.012552488118362392,
          -0.1940875880663762,
          -0.12702998104653568,
          0.016357824087290293,
          -0.15010787440711493,
          -0.00005682101965308892,
          -0.07897543233191183,
          -0.2134657314583323,
          -0.0719634256403584,
          -0.1541292630048023,
          -0.06139559539564945,
          -0.05365710608207288,
          -0.011012566119197782,
          -0.17975142889842818,
          -0.0637851903103156,
          -0.06030035450051536,
          -0.051290686985471734,
          -0.056301673362464805,
          -0.005135356311001873,
          -0.011183311630004623,
          -0.0017976255039043425,
          -0.016333835627386488,
          0.010042134514075162,
          0.02410913321790311,
          -0.0004414802725328775,
          -0.0012733304146248991,
          -0.039173237455959284,
          -0.0828630865388661,
          -0.009205595977316433,
          -0.0037639767724964887,
          -0.027520690315056294,
          -0.2557310264858938,
          -0.17209770986077239,
          -0.013084473674106024,
          -0.0034547745630947404,
          -0.1325365684630453,
          -0.0361422453122372,
          -0.016468931574843703,
          -0.18062154423512652,
          -0.04319281252064719,
          -0.09998372705886421,
          -0.03086736177081186,
          -0.02745408992014042,
          0.024286876672870654,
          0.005274339295136536,
          0.007467213722182585,
          0.012338554345227508,
          -0.05313288959941158,
          0.008894237064785713,
          -0.022389344589573416,
          -0.01054739128187599,
          0.009974514479453186,
          -0.05914325727949608,
          -0.0352583476702412,
          0.13270104408957978,
          -0.0936981240446278,
          -0.0455756672925946,
          -0.023966282824473214,
          0.005831036281847342,
          0.012136323068614653,
          -0.0017631666108261584,
          -0.0073831037940658316,
          0.003728117042818651,
          -0.05120553711834302,
          -0.05490258938228201,
          -0.008062021435744877,
          -0.008443342634056404,
          0.0087579915431402,
          -0.14503238098283003,
          0.0959047449682296,
          -0.04072134822236561
         ],
         "xaxis": "x2",
         "yaxis": "y2"
        },
        {
         "customdata": [
          [
           "The Marias",
           "Calling U Back",
           "CINEMA",
           2
          ],
          [
           "The Marias",
           "Hush",
           "CINEMA",
           3
          ],
          [
           "The Marias",
           "All I Really Want Is You",
           "CINEMA",
           4
          ],
          [
           "The Marias",
           "Little by Little",
           "CINEMA",
           6
          ],
          [
           "The Marias",
           "Heavy",
           "CINEMA",
           7
          ],
          [
           "The Marias",
           "Un Millón",
           "CINEMA",
           8
          ],
          [
           "The Marias",
           "Spin Me Around",
           "CINEMA",
           9
          ],
          [
           "The Marias",
           "The Mice Inside This Room",
           "CINEMA",
           10
          ],
          [
           "The Marias",
           "To Say Hello",
           "CINEMA",
           11
          ],
          [
           "The Marias",
           "Talk to Her",
           "CINEMA",
           13
          ]
         ],
         "hovertemplate": "artist=%{customdata[0]}<br>PC1=%{x}<br>PC0=%{y}<br>title=%{customdata[1]}<br>album=%{customdata[2]}<br>track_number=%{customdata[3]}<extra></extra>",
         "legendgroup": "The Marias",
         "marker": {
          "color": "#FF97FF",
          "symbol": "circle"
         },
         "mode": "markers",
         "name": "The Marias",
         "orientation": "v",
         "showlegend": true,
         "type": "scatter",
         "x": [
          -0.08694461033123738,
          -0.161931513766443,
          0.2490964700924665,
          -0.10123542470811081,
          -0.1959451376751889,
          0.015137568702763135,
          -0.09123002681493277,
          -0.09104401429227442,
          -0.06460104217016518,
          -0.0667635576112082
         ],
         "xaxis": "x",
         "y": [
          -0.27914967655678835,
          -0.13373883139012885,
          -0.39144415446895076,
          -0.06442421828010467,
          -0.21498565652630897,
          0.010148606760284036,
          -0.05648457728315727,
          -0.05273771671748432,
          -0.044088122869794334,
          -0.08264581131202757
         ],
         "yaxis": "y"
        },
        {
         "alignmentgroup": "True",
         "customdata": [
          [
           "The Marias",
           "Calling U Back",
           "CINEMA",
           2
          ],
          [
           "The Marias",
           "Hush",
           "CINEMA",
           3
          ],
          [
           "The Marias",
           "All I Really Want Is You",
           "CINEMA",
           4
          ],
          [
           "The Marias",
           "Little by Little",
           "CINEMA",
           6
          ],
          [
           "The Marias",
           "Heavy",
           "CINEMA",
           7
          ],
          [
           "The Marias",
           "Un Millón",
           "CINEMA",
           8
          ],
          [
           "The Marias",
           "Spin Me Around",
           "CINEMA",
           9
          ],
          [
           "The Marias",
           "The Mice Inside This Room",
           "CINEMA",
           10
          ],
          [
           "The Marias",
           "To Say Hello",
           "CINEMA",
           11
          ],
          [
           "The Marias",
           "Talk to Her",
           "CINEMA",
           13
          ]
         ],
         "hovertemplate": "artist=%{customdata[0]}<br>PC1=%{x}<br>title=%{customdata[1]}<br>album=%{customdata[2]}<br>track_number=%{customdata[3]}<extra></extra>",
         "legendgroup": "The Marias",
         "marker": {
          "color": "#FF97FF",
          "symbol": "circle"
         },
         "name": "The Marias",
         "notched": true,
         "offsetgroup": "The Marias",
         "showlegend": false,
         "type": "box",
         "x": [
          -0.08694461033123738,
          -0.161931513766443,
          0.2490964700924665,
          -0.10123542470811081,
          -0.1959451376751889,
          0.015137568702763135,
          -0.09123002681493277,
          -0.09104401429227442,
          -0.06460104217016518,
          -0.0667635576112082
         ],
         "xaxis": "x2",
         "yaxis": "y2"
        },
        {
         "customdata": [
          [
           "Big Thief",
           "Pretty Things",
           "Capacity",
           1
          ],
          [
           "Big Thief",
           "Shark Smile",
           "Capacity",
           2
          ],
          [
           "Big Thief",
           "Capacity",
           "Capacity",
           3
          ],
          [
           "Big Thief",
           "Watering",
           "Capacity",
           4
          ],
          [
           "Big Thief",
           "Coma",
           "Capacity",
           5
          ],
          [
           "Big Thief",
           "Great White Shark",
           "Capacity",
           6
          ],
          [
           "Big Thief",
           "Mythological Beauty",
           "Capacity",
           7
          ],
          [
           "Big Thief",
           "Objects",
           "Capacity",
           8
          ],
          [
           "Big Thief",
           "Haley",
           "Capacity",
           9
          ],
          [
           "Big Thief",
           "Mary",
           "Capacity",
           10
          ],
          [
           "Big Thief",
           "Black Diamonds",
           "Capacity",
           11
          ],
          [
           "Big Thief",
           "Change",
           "Dragon New Warm Mountain I Believe In You",
           1
          ],
          [
           "Big Thief",
           "Time Escaping",
           "Dragon New Warm Mountain I Believe In You",
           2
          ],
          [
           "Big Thief",
           "Spud Infinity",
           "Dragon New Warm Mountain I Believe In You",
           3
          ],
          [
           "Big Thief",
           "Certainty",
           "Dragon New Warm Mountain I Believe In You",
           4
          ],
          [
           "Big Thief",
           "Dragon New Warm Mountain I Believe in You",
           "Dragon New Warm Mountain I Believe In You",
           5
          ],
          [
           "Big Thief",
           "Sparrow",
           "Dragon New Warm Mountain I Believe In You",
           6
          ],
          [
           "Big Thief",
           "Little Things",
           "Dragon New Warm Mountain I Believe In You",
           7
          ],
          [
           "Big Thief",
           "Heavy Bend",
           "Dragon New Warm Mountain I Believe In You",
           8
          ],
          [
           "Big Thief",
           "Flower of Blood",
           "Dragon New Warm Mountain I Believe In You",
           9
          ],
          [
           "Big Thief",
           "Blurred View",
           "Dragon New Warm Mountain I Believe In You",
           10
          ],
          [
           "Big Thief",
           "Red Moon",
           "Dragon New Warm Mountain I Believe In You",
           11
          ],
          [
           "Big Thief",
           "Dried Roses",
           "Dragon New Warm Mountain I Believe In You",
           12
          ],
          [
           "Big Thief",
           "No Reason",
           "Dragon New Warm Mountain I Believe In You",
           13
          ],
          [
           "Big Thief",
           "Wake Me up to Drive",
           "Dragon New Warm Mountain I Believe In You",
           14
          ],
          [
           "Big Thief",
           "Promise Is a Pendulum",
           "Dragon New Warm Mountain I Believe In You",
           15
          ],
          [
           "Big Thief",
           "12,000 Lines",
           "Dragon New Warm Mountain I Believe In You",
           16
          ],
          [
           "Big Thief",
           "Simulation Swarm",
           "Dragon New Warm Mountain I Believe In You",
           17
          ],
          [
           "Big Thief",
           "Love Love Love",
           "Dragon New Warm Mountain I Believe In You",
           18
          ],
          [
           "Big Thief",
           "The Only Place",
           "Dragon New Warm Mountain I Believe In You",
           19
          ],
          [
           "Big Thief",
           "Blue Lightning",
           "Dragon New Warm Mountain I Believe In You",
           20
          ],
          [
           "Big Thief",
           "Little Arrow - 2023 Remaster",
           "Masterpiece (2023 Remaster)",
           1
          ],
          [
           "Big Thief",
           "Masterpiece - 2023 Remaster",
           "Masterpiece (2023 Remaster)",
           2
          ],
          [
           "Big Thief",
           "Vegas - 2023 Remaster",
           "Masterpiece (2023 Remaster)",
           3
          ],
          [
           "Big Thief",
           "Real Love - 2023 Remaster",
           "Masterpiece (2023 Remaster)",
           4
          ],
          [
           "Big Thief",
           "Interstate - 2023 Remaster",
           "Masterpiece (2023 Remaster)",
           5
          ],
          [
           "Big Thief",
           "Lorraine - 2023 Remaster",
           "Masterpiece (2023 Remaster)",
           6
          ],
          [
           "Big Thief",
           "Paul - 2023 Remaster",
           "Masterpiece (2023 Remaster)",
           7
          ],
          [
           "Big Thief",
           "Humans - 2023 Remaster",
           "Masterpiece (2023 Remaster)",
           8
          ],
          [
           "Big Thief",
           "Velvet Ring - 2023 Remaster",
           "Masterpiece (2023 Remaster)",
           9
          ],
          [
           "Big Thief",
           "Animals - 2023 Remaster",
           "Masterpiece (2023 Remaster)",
           10
          ],
          [
           "Big Thief",
           "Randy - 2023 Remaster",
           "Masterpiece (2023 Remaster)",
           11
          ],
          [
           "Big Thief",
           "Parallels - 2023 Remaster",
           "Masterpiece (2023 Remaster)",
           12
          ],
          [
           "Big Thief",
           "Rock and Sing",
           "Two Hands",
           1
          ],
          [
           "Big Thief",
           "Forgotten Eyes",
           "Two Hands",
           2
          ],
          [
           "Big Thief",
           "The Toy",
           "Two Hands",
           3
          ],
          [
           "Big Thief",
           "Two Hands",
           "Two Hands",
           4
          ],
          [
           "Big Thief",
           "Those Girls",
           "Two Hands",
           5
          ],
          [
           "Big Thief",
           "Shoulders",
           "Two Hands",
           6
          ],
          [
           "Big Thief",
           "Not",
           "Two Hands",
           7
          ],
          [
           "Big Thief",
           "Wolf",
           "Two Hands",
           8
          ],
          [
           "Big Thief",
           "Replaced",
           "Two Hands",
           9
          ],
          [
           "Big Thief",
           "Cut My Hair",
           "Two Hands",
           10
          ],
          [
           "Big Thief",
           "Contact",
           "U.F.O.F.",
           1
          ],
          [
           "Big Thief",
           "UFOF",
           "U.F.O.F.",
           2
          ],
          [
           "Big Thief",
           "Cattails",
           "U.F.O.F.",
           3
          ],
          [
           "Big Thief",
           "From",
           "U.F.O.F.",
           4
          ],
          [
           "Big Thief",
           "Open Desert",
           "U.F.O.F.",
           5
          ],
          [
           "Big Thief",
           "Orange",
           "U.F.O.F.",
           6
          ],
          [
           "Big Thief",
           "Century",
           "U.F.O.F.",
           7
          ],
          [
           "Big Thief",
           "Strange",
           "U.F.O.F.",
           8
          ],
          [
           "Big Thief",
           "Betsy",
           "U.F.O.F.",
           9
          ],
          [
           "Big Thief",
           "Terminal Paradise",
           "U.F.O.F.",
           10
          ],
          [
           "Big Thief",
           "Jenni",
           "U.F.O.F.",
           11
          ],
          [
           "Big Thief",
           "Magic Dealer",
           "U.F.O.F.",
           12
          ]
         ],
         "hovertemplate": "artist=%{customdata[0]}<br>PC1=%{x}<br>PC0=%{y}<br>title=%{customdata[1]}<br>album=%{customdata[2]}<br>track_number=%{customdata[3]}<extra></extra>",
         "legendgroup": "Big Thief",
         "marker": {
          "color": "#FECB52",
          "symbol": "circle"
         },
         "mode": "markers",
         "name": "Big Thief",
         "orientation": "v",
         "showlegend": true,
         "type": "scatter",
         "x": [
          0.007814821779741417,
          -0.05633635592978443,
          0.08655280707561125,
          -0.07453928058422736,
          0.001235989974119717,
          -0.024517715795569828,
          -0.28164257274883264,
          0.001234823032924038,
          -0.16444040219718914,
          -0.06256869435023757,
          -0.10044142153480928,
          -0.06789401279648442,
          0.01982538817099682,
          -0.10821979122181048,
          -0.11560455938365272,
          -0.01722542281252123,
          0.01373764006182116,
          -0.022599872289192784,
          -0.20758280683940744,
          0.030042409433753258,
          0.05380430693940988,
          -0.00911646538442016,
          0.0013683488426598578,
          0.0010092808849015448,
          -0.08882658460377868,
          -0.034638710669219294,
          0.0038346841464225578,
          -0.10381410629032792,
          -0.3649894582194547,
          0.015656615764776782,
          -0.2966426439742944,
          -0.032064272497950005,
          -0.06641044782647088,
          -0.03830003460493958,
          -0.16198881840434312,
          -0.10260549696045376,
          -0.015076047589250574,
          -0.1096342940888537,
          -0.01687252744755341,
          -0.12314783909445791,
          -0.12931419878834352,
          -0.11399478447556932,
          -0.061200504680778936,
          0.1289850902366627,
          -0.08188272469805932,
          -0.009793468406144168,
          -0.046479824605574226,
          -0.011853575399310312,
          -0.028364971052712178,
          0.03806496769028136,
          0.032847906309446805,
          0.04684050941687711,
          -0.045672615585465134,
          -0.005012516591379631,
          -0.08203823305100505,
          -0.11103501786333135,
          -0.012246104087084625,
          0.005595785741521975,
          -0.006443229874137506,
          -0.014356929543855486,
          -0.032166203704899775,
          0.03164940526106344,
          0.0006379319249265169,
          0.03708987451463283,
          -0.050152924668343056
         ],
         "xaxis": "x",
         "y": [
          -0.1389228645154986,
          -0.0479711347075805,
          -0.1372914498021971,
          0.01249391112340998,
          -0.024006484033742576,
          0.009914247713241876,
          -0.15189415375735227,
          0.015302290148308112,
          -0.08733082695626829,
          -0.014214395792874673,
          -0.042900417013607854,
          -0.05791621960577142,
          -0.02894143945162731,
          -0.07722104958172797,
          -0.058676684228144566,
          -0.01999313657456955,
          0.03943620405646699,
          -0.0340334791153795,
          -0.14245962017734745,
          -0.03737651066869029,
          0.006328687143967028,
          0.010018954782605088,
          0.01336749302732838,
          0.008367020130058559,
          -0.08922735348641486,
          -0.04492266585461641,
          0.03484068337478269,
          -0.043196713824361084,
          -0.16520309791970045,
          -0.04869533706816491,
          -0.20103355830962594,
          0.013393676585492512,
          -0.01536931686467614,
          -0.006239999579381766,
          -0.06561941847238695,
          -0.08761080188532419,
          0.006760620374243739,
          -0.05980304362907164,
          -0.0879608688804486,
          -0.07575607358824667,
          -0.09669741083729155,
          -0.05633033788538669,
          -0.0820282470668993,
          -0.2540591349927124,
          -0.02595617474612278,
          0.0013265958526801494,
          -0.029528748371013634,
          -0.0008989748144711098,
          -0.004924617276133445,
          0.014967572942124927,
          0.003099496218122045,
          0.025409225321751914,
          -0.018131768947755315,
          -0.08884032126571867,
          -0.044778064317816606,
          -0.11304633389706836,
          0.028695532588749222,
          0.023752122030083037,
          0.018457731618865224,
          -0.0537749006121646,
          -0.01460951798215913,
          0.04053048202501519,
          0.0216255403073104,
          0.02349270273875454,
          -0.031999540005598855
         ],
         "yaxis": "y"
        },
        {
         "alignmentgroup": "True",
         "customdata": [
          [
           "Big Thief",
           "Pretty Things",
           "Capacity",
           1
          ],
          [
           "Big Thief",
           "Shark Smile",
           "Capacity",
           2
          ],
          [
           "Big Thief",
           "Capacity",
           "Capacity",
           3
          ],
          [
           "Big Thief",
           "Watering",
           "Capacity",
           4
          ],
          [
           "Big Thief",
           "Coma",
           "Capacity",
           5
          ],
          [
           "Big Thief",
           "Great White Shark",
           "Capacity",
           6
          ],
          [
           "Big Thief",
           "Mythological Beauty",
           "Capacity",
           7
          ],
          [
           "Big Thief",
           "Objects",
           "Capacity",
           8
          ],
          [
           "Big Thief",
           "Haley",
           "Capacity",
           9
          ],
          [
           "Big Thief",
           "Mary",
           "Capacity",
           10
          ],
          [
           "Big Thief",
           "Black Diamonds",
           "Capacity",
           11
          ],
          [
           "Big Thief",
           "Change",
           "Dragon New Warm Mountain I Believe In You",
           1
          ],
          [
           "Big Thief",
           "Time Escaping",
           "Dragon New Warm Mountain I Believe In You",
           2
          ],
          [
           "Big Thief",
           "Spud Infinity",
           "Dragon New Warm Mountain I Believe In You",
           3
          ],
          [
           "Big Thief",
           "Certainty",
           "Dragon New Warm Mountain I Believe In You",
           4
          ],
          [
           "Big Thief",
           "Dragon New Warm Mountain I Believe in You",
           "Dragon New Warm Mountain I Believe In You",
           5
          ],
          [
           "Big Thief",
           "Sparrow",
           "Dragon New Warm Mountain I Believe In You",
           6
          ],
          [
           "Big Thief",
           "Little Things",
           "Dragon New Warm Mountain I Believe In You",
           7
          ],
          [
           "Big Thief",
           "Heavy Bend",
           "Dragon New Warm Mountain I Believe In You",
           8
          ],
          [
           "Big Thief",
           "Flower of Blood",
           "Dragon New Warm Mountain I Believe In You",
           9
          ],
          [
           "Big Thief",
           "Blurred View",
           "Dragon New Warm Mountain I Believe In You",
           10
          ],
          [
           "Big Thief",
           "Red Moon",
           "Dragon New Warm Mountain I Believe In You",
           11
          ],
          [
           "Big Thief",
           "Dried Roses",
           "Dragon New Warm Mountain I Believe In You",
           12
          ],
          [
           "Big Thief",
           "No Reason",
           "Dragon New Warm Mountain I Believe In You",
           13
          ],
          [
           "Big Thief",
           "Wake Me up to Drive",
           "Dragon New Warm Mountain I Believe In You",
           14
          ],
          [
           "Big Thief",
           "Promise Is a Pendulum",
           "Dragon New Warm Mountain I Believe In You",
           15
          ],
          [
           "Big Thief",
           "12,000 Lines",
           "Dragon New Warm Mountain I Believe In You",
           16
          ],
          [
           "Big Thief",
           "Simulation Swarm",
           "Dragon New Warm Mountain I Believe In You",
           17
          ],
          [
           "Big Thief",
           "Love Love Love",
           "Dragon New Warm Mountain I Believe In You",
           18
          ],
          [
           "Big Thief",
           "The Only Place",
           "Dragon New Warm Mountain I Believe In You",
           19
          ],
          [
           "Big Thief",
           "Blue Lightning",
           "Dragon New Warm Mountain I Believe In You",
           20
          ],
          [
           "Big Thief",
           "Little Arrow - 2023 Remaster",
           "Masterpiece (2023 Remaster)",
           1
          ],
          [
           "Big Thief",
           "Masterpiece - 2023 Remaster",
           "Masterpiece (2023 Remaster)",
           2
          ],
          [
           "Big Thief",
           "Vegas - 2023 Remaster",
           "Masterpiece (2023 Remaster)",
           3
          ],
          [
           "Big Thief",
           "Real Love - 2023 Remaster",
           "Masterpiece (2023 Remaster)",
           4
          ],
          [
           "Big Thief",
           "Interstate - 2023 Remaster",
           "Masterpiece (2023 Remaster)",
           5
          ],
          [
           "Big Thief",
           "Lorraine - 2023 Remaster",
           "Masterpiece (2023 Remaster)",
           6
          ],
          [
           "Big Thief",
           "Paul - 2023 Remaster",
           "Masterpiece (2023 Remaster)",
           7
          ],
          [
           "Big Thief",
           "Humans - 2023 Remaster",
           "Masterpiece (2023 Remaster)",
           8
          ],
          [
           "Big Thief",
           "Velvet Ring - 2023 Remaster",
           "Masterpiece (2023 Remaster)",
           9
          ],
          [
           "Big Thief",
           "Animals - 2023 Remaster",
           "Masterpiece (2023 Remaster)",
           10
          ],
          [
           "Big Thief",
           "Randy - 2023 Remaster",
           "Masterpiece (2023 Remaster)",
           11
          ],
          [
           "Big Thief",
           "Parallels - 2023 Remaster",
           "Masterpiece (2023 Remaster)",
           12
          ],
          [
           "Big Thief",
           "Rock and Sing",
           "Two Hands",
           1
          ],
          [
           "Big Thief",
           "Forgotten Eyes",
           "Two Hands",
           2
          ],
          [
           "Big Thief",
           "The Toy",
           "Two Hands",
           3
          ],
          [
           "Big Thief",
           "Two Hands",
           "Two Hands",
           4
          ],
          [
           "Big Thief",
           "Those Girls",
           "Two Hands",
           5
          ],
          [
           "Big Thief",
           "Shoulders",
           "Two Hands",
           6
          ],
          [
           "Big Thief",
           "Not",
           "Two Hands",
           7
          ],
          [
           "Big Thief",
           "Wolf",
           "Two Hands",
           8
          ],
          [
           "Big Thief",
           "Replaced",
           "Two Hands",
           9
          ],
          [
           "Big Thief",
           "Cut My Hair",
           "Two Hands",
           10
          ],
          [
           "Big Thief",
           "Contact",
           "U.F.O.F.",
           1
          ],
          [
           "Big Thief",
           "UFOF",
           "U.F.O.F.",
           2
          ],
          [
           "Big Thief",
           "Cattails",
           "U.F.O.F.",
           3
          ],
          [
           "Big Thief",
           "From",
           "U.F.O.F.",
           4
          ],
          [
           "Big Thief",
           "Open Desert",
           "U.F.O.F.",
           5
          ],
          [
           "Big Thief",
           "Orange",
           "U.F.O.F.",
           6
          ],
          [
           "Big Thief",
           "Century",
           "U.F.O.F.",
           7
          ],
          [
           "Big Thief",
           "Strange",
           "U.F.O.F.",
           8
          ],
          [
           "Big Thief",
           "Betsy",
           "U.F.O.F.",
           9
          ],
          [
           "Big Thief",
           "Terminal Paradise",
           "U.F.O.F.",
           10
          ],
          [
           "Big Thief",
           "Jenni",
           "U.F.O.F.",
           11
          ],
          [
           "Big Thief",
           "Magic Dealer",
           "U.F.O.F.",
           12
          ]
         ],
         "hovertemplate": "artist=%{customdata[0]}<br>PC1=%{x}<br>title=%{customdata[1]}<br>album=%{customdata[2]}<br>track_number=%{customdata[3]}<extra></extra>",
         "legendgroup": "Big Thief",
         "marker": {
          "color": "#FECB52",
          "symbol": "circle"
         },
         "name": "Big Thief",
         "notched": true,
         "offsetgroup": "Big Thief",
         "showlegend": false,
         "type": "box",
         "x": [
          0.007814821779741417,
          -0.05633635592978443,
          0.08655280707561125,
          -0.07453928058422736,
          0.001235989974119717,
          -0.024517715795569828,
          -0.28164257274883264,
          0.001234823032924038,
          -0.16444040219718914,
          -0.06256869435023757,
          -0.10044142153480928,
          -0.06789401279648442,
          0.01982538817099682,
          -0.10821979122181048,
          -0.11560455938365272,
          -0.01722542281252123,
          0.01373764006182116,
          -0.022599872289192784,
          -0.20758280683940744,
          0.030042409433753258,
          0.05380430693940988,
          -0.00911646538442016,
          0.0013683488426598578,
          0.0010092808849015448,
          -0.08882658460377868,
          -0.034638710669219294,
          0.0038346841464225578,
          -0.10381410629032792,
          -0.3649894582194547,
          0.015656615764776782,
          -0.2966426439742944,
          -0.032064272497950005,
          -0.06641044782647088,
          -0.03830003460493958,
          -0.16198881840434312,
          -0.10260549696045376,
          -0.015076047589250574,
          -0.1096342940888537,
          -0.01687252744755341,
          -0.12314783909445791,
          -0.12931419878834352,
          -0.11399478447556932,
          -0.061200504680778936,
          0.1289850902366627,
          -0.08188272469805932,
          -0.009793468406144168,
          -0.046479824605574226,
          -0.011853575399310312,
          -0.028364971052712178,
          0.03806496769028136,
          0.032847906309446805,
          0.04684050941687711,
          -0.045672615585465134,
          -0.005012516591379631,
          -0.08203823305100505,
          -0.11103501786333135,
          -0.012246104087084625,
          0.005595785741521975,
          -0.006443229874137506,
          -0.014356929543855486,
          -0.032166203704899775,
          0.03164940526106344,
          0.0006379319249265169,
          0.03708987451463283,
          -0.050152924668343056
         ],
         "xaxis": "x2",
         "yaxis": "y2"
        },
        {
         "customdata": [
          [
           "MGMT",
           "It's Working",
           "Congratulations",
           1
          ],
          [
           "MGMT",
           "Song for Dan Treacy",
           "Congratulations",
           2
          ],
          [
           "MGMT",
           "Someone's Missing",
           "Congratulations",
           3
          ],
          [
           "MGMT",
           "Flash Delirium",
           "Congratulations",
           4
          ],
          [
           "MGMT",
           "I Found a Whistle",
           "Congratulations",
           5
          ],
          [
           "MGMT",
           "Siberian Breaks",
           "Congratulations",
           6
          ],
          [
           "MGMT",
           "Brian Eno",
           "Congratulations",
           7
          ],
          [
           "MGMT",
           "Congratulations",
           "Congratulations",
           9
          ],
          [
           "MGMT",
           "She Works Out Too Much",
           "Little Dark Age",
           1
          ],
          [
           "MGMT",
           "Little Dark Age",
           "Little Dark Age",
           2
          ],
          [
           "MGMT",
           "When You Die",
           "Little Dark Age",
           3
          ],
          [
           "MGMT",
           "Me and Michael",
           "Little Dark Age",
           4
          ],
          [
           "MGMT",
           "TSLAMP",
           "Little Dark Age",
           5
          ],
          [
           "MGMT",
           "James",
           "Little Dark Age",
           6
          ],
          [
           "MGMT",
           "Days That Got Away",
           "Little Dark Age",
           7
          ],
          [
           "MGMT",
           "One Thing Left to Try",
           "Little Dark Age",
           8
          ],
          [
           "MGMT",
           "When You're Small",
           "Little Dark Age",
           9
          ],
          [
           "MGMT",
           "Hand It Over",
           "Little Dark Age",
           10
          ],
          [
           "MGMT",
           "Loss Of Life (part 2)",
           "Loss Of Life",
           1
          ],
          [
           "MGMT",
           "Mother Nature",
           "Loss Of Life",
           2
          ],
          [
           "MGMT",
           "People In The Streets",
           "Loss Of Life",
           4
          ],
          [
           "MGMT",
           "Bubblegum Dog",
           "Loss Of Life",
           5
          ],
          [
           "MGMT",
           "Nothing To Declare",
           "Loss Of Life",
           6
          ],
          [
           "MGMT",
           "Nothing Changes",
           "Loss Of Life",
           7
          ],
          [
           "MGMT",
           "Phradie’s Song",
           "Loss Of Life",
           8
          ],
          [
           "MGMT",
           "I Wish I Was Joking",
           "Loss Of Life",
           9
          ],
          [
           "MGMT",
           "Loss Of Life",
           "Loss Of Life",
           10
          ],
          [
           "MGMT",
           "Alien Days",
           "MGMT",
           1
          ],
          [
           "MGMT",
           "Cool Song No. 2",
           "MGMT",
           2
          ],
          [
           "MGMT",
           "Mystery Disease",
           "MGMT",
           3
          ],
          [
           "MGMT",
           "Introspection",
           "MGMT",
           4
          ],
          [
           "MGMT",
           "Your Life Is a Lie",
           "MGMT",
           5
          ],
          [
           "MGMT",
           "A Good Sadness",
           "MGMT",
           6
          ],
          [
           "MGMT",
           "Astro-Mancy",
           "MGMT",
           7
          ],
          [
           "MGMT",
           "I Love You Too, Death",
           "MGMT",
           8
          ],
          [
           "MGMT",
           "Plenty Of Girls In The Sea",
           "MGMT",
           9
          ],
          [
           "MGMT",
           "An Orphan Of Fortune",
           "MGMT",
           10
          ],
          [
           "MGMT",
           "Time to Pretend",
           "Oracular Spectacular",
           1
          ],
          [
           "MGMT",
           "Weekend Wars",
           "Oracular Spectacular",
           2
          ],
          [
           "MGMT",
           "The Youth",
           "Oracular Spectacular",
           3
          ],
          [
           "MGMT",
           "Electric Feel",
           "Oracular Spectacular",
           4
          ],
          [
           "MGMT",
           "Kids",
           "Oracular Spectacular",
           5
          ],
          [
           "MGMT",
           "4th Dimensional Transition",
           "Oracular Spectacular",
           6
          ],
          [
           "MGMT",
           "Pieces of What",
           "Oracular Spectacular",
           7
          ],
          [
           "MGMT",
           "Of Moons, Birds & Monsters",
           "Oracular Spectacular",
           8
          ],
          [
           "MGMT",
           "The Handshake",
           "Oracular Spectacular",
           9
          ],
          [
           "MGMT",
           "Future Reflections",
           "Oracular Spectacular",
           10
          ]
         ],
         "hovertemplate": "artist=%{customdata[0]}<br>PC1=%{x}<br>PC0=%{y}<br>title=%{customdata[1]}<br>album=%{customdata[2]}<br>track_number=%{customdata[3]}<extra></extra>",
         "legendgroup": "MGMT",
         "marker": {
          "color": "#636efa",
          "symbol": "circle"
         },
         "mode": "markers",
         "name": "MGMT",
         "orientation": "v",
         "showlegend": true,
         "type": "scatter",
         "x": [
          -0.0922563926963715,
          -0.1190048194296023,
          -0.01017581369779759,
          -0.06686628356288084,
          -0.04577906746248675,
          -0.04062392257306027,
          -0.09946435696056101,
          -0.026134052471306225,
          -0.046915195555431194,
          -0.04618421567755385,
          -0.0770405913282434,
          -0.03134564474363989,
          -0.025974408447671557,
          -0.1820162017288946,
          -0.04333180841907405,
          0.09975852974704183,
          -0.1566711368775825,
          -0.04888493989193682,
          -0.0125941028356581,
          -0.05224020952842592,
          -0.029055145882910343,
          -0.02638765396295541,
          -0.2062579804758431,
          -0.08538937960580426,
          0.1596063345691236,
          -0.10682574308784143,
          -0.10656234935244921,
          -0.07464252982697896,
          -0.06281336024426995,
          0.03130770407099327,
          0.05062646180035101,
          -0.09886123231431358,
          -0.05437632800754991,
          -0.02777999636209711,
          -0.10108552079883486,
          0.0493004252936024,
          -0.015232871099626706,
          -0.08336582350917955,
          -0.1250582375222836,
          -0.018243042452583163,
          -0.014785876654303068,
          -0.025627538202309962,
          -0.06912319331798167,
          -0.02911825564958707,
          0.0017783355176968427,
          -0.0229508986398907,
          -0.029899273699511304
         ],
         "xaxis": "x",
         "y": [
          -0.0327591843304452,
          -0.07323447401070551,
          0.009729522355295658,
          -0.0388776421941887,
          -0.005619435385227802,
          -0.07293617099622189,
          -0.054447481768083936,
          -0.03759902682448978,
          -0.04898837745550244,
          -0.01573446535459618,
          -0.05895637031839633,
          -0.013107917623096089,
          -0.05501668582725615,
          -0.10771348431334825,
          -0.030592606125158784,
          -0.3511794291617961,
          -0.1376660814198044,
          -0.06254005718271398,
          -0.005270581782189568,
          -0.12013205408925223,
          -0.01609763120188694,
          -0.032331724953532315,
          -0.12493573368250785,
          -0.0797753742317814,
          -0.2515115910368805,
          -0.04886487371459484,
          -0.04670043904182202,
          -0.04125952326336637,
          -0.07807286971270411,
          -0.045786037653736136,
          -0.0548576736536735,
          -0.04777342485846703,
          -0.028255243878829092,
          0.01061321031834888,
          -0.06927722520173799,
          -0.03970423826438314,
          -0.08558575707275717,
          -0.05218225345431271,
          -0.09975345230482488,
          0.016399260443367782,
          -0.07812335276266875,
          -0.04993177603780414,
          -0.024168746784634043,
          -0.013785559074231618,
          -0.06655869160691576,
          -0.10849354224391933,
          -0.011405801772770674
         ],
         "yaxis": "y"
        },
        {
         "alignmentgroup": "True",
         "customdata": [
          [
           "MGMT",
           "It's Working",
           "Congratulations",
           1
          ],
          [
           "MGMT",
           "Song for Dan Treacy",
           "Congratulations",
           2
          ],
          [
           "MGMT",
           "Someone's Missing",
           "Congratulations",
           3
          ],
          [
           "MGMT",
           "Flash Delirium",
           "Congratulations",
           4
          ],
          [
           "MGMT",
           "I Found a Whistle",
           "Congratulations",
           5
          ],
          [
           "MGMT",
           "Siberian Breaks",
           "Congratulations",
           6
          ],
          [
           "MGMT",
           "Brian Eno",
           "Congratulations",
           7
          ],
          [
           "MGMT",
           "Congratulations",
           "Congratulations",
           9
          ],
          [
           "MGMT",
           "She Works Out Too Much",
           "Little Dark Age",
           1
          ],
          [
           "MGMT",
           "Little Dark Age",
           "Little Dark Age",
           2
          ],
          [
           "MGMT",
           "When You Die",
           "Little Dark Age",
           3
          ],
          [
           "MGMT",
           "Me and Michael",
           "Little Dark Age",
           4
          ],
          [
           "MGMT",
           "TSLAMP",
           "Little Dark Age",
           5
          ],
          [
           "MGMT",
           "James",
           "Little Dark Age",
           6
          ],
          [
           "MGMT",
           "Days That Got Away",
           "Little Dark Age",
           7
          ],
          [
           "MGMT",
           "One Thing Left to Try",
           "Little Dark Age",
           8
          ],
          [
           "MGMT",
           "When You're Small",
           "Little Dark Age",
           9
          ],
          [
           "MGMT",
           "Hand It Over",
           "Little Dark Age",
           10
          ],
          [
           "MGMT",
           "Loss Of Life (part 2)",
           "Loss Of Life",
           1
          ],
          [
           "MGMT",
           "Mother Nature",
           "Loss Of Life",
           2
          ],
          [
           "MGMT",
           "People In The Streets",
           "Loss Of Life",
           4
          ],
          [
           "MGMT",
           "Bubblegum Dog",
           "Loss Of Life",
           5
          ],
          [
           "MGMT",
           "Nothing To Declare",
           "Loss Of Life",
           6
          ],
          [
           "MGMT",
           "Nothing Changes",
           "Loss Of Life",
           7
          ],
          [
           "MGMT",
           "Phradie’s Song",
           "Loss Of Life",
           8
          ],
          [
           "MGMT",
           "I Wish I Was Joking",
           "Loss Of Life",
           9
          ],
          [
           "MGMT",
           "Loss Of Life",
           "Loss Of Life",
           10
          ],
          [
           "MGMT",
           "Alien Days",
           "MGMT",
           1
          ],
          [
           "MGMT",
           "Cool Song No. 2",
           "MGMT",
           2
          ],
          [
           "MGMT",
           "Mystery Disease",
           "MGMT",
           3
          ],
          [
           "MGMT",
           "Introspection",
           "MGMT",
           4
          ],
          [
           "MGMT",
           "Your Life Is a Lie",
           "MGMT",
           5
          ],
          [
           "MGMT",
           "A Good Sadness",
           "MGMT",
           6
          ],
          [
           "MGMT",
           "Astro-Mancy",
           "MGMT",
           7
          ],
          [
           "MGMT",
           "I Love You Too, Death",
           "MGMT",
           8
          ],
          [
           "MGMT",
           "Plenty Of Girls In The Sea",
           "MGMT",
           9
          ],
          [
           "MGMT",
           "An Orphan Of Fortune",
           "MGMT",
           10
          ],
          [
           "MGMT",
           "Time to Pretend",
           "Oracular Spectacular",
           1
          ],
          [
           "MGMT",
           "Weekend Wars",
           "Oracular Spectacular",
           2
          ],
          [
           "MGMT",
           "The Youth",
           "Oracular Spectacular",
           3
          ],
          [
           "MGMT",
           "Electric Feel",
           "Oracular Spectacular",
           4
          ],
          [
           "MGMT",
           "Kids",
           "Oracular Spectacular",
           5
          ],
          [
           "MGMT",
           "4th Dimensional Transition",
           "Oracular Spectacular",
           6
          ],
          [
           "MGMT",
           "Pieces of What",
           "Oracular Spectacular",
           7
          ],
          [
           "MGMT",
           "Of Moons, Birds & Monsters",
           "Oracular Spectacular",
           8
          ],
          [
           "MGMT",
           "The Handshake",
           "Oracular Spectacular",
           9
          ],
          [
           "MGMT",
           "Future Reflections",
           "Oracular Spectacular",
           10
          ]
         ],
         "hovertemplate": "artist=%{customdata[0]}<br>PC1=%{x}<br>title=%{customdata[1]}<br>album=%{customdata[2]}<br>track_number=%{customdata[3]}<extra></extra>",
         "legendgroup": "MGMT",
         "marker": {
          "color": "#636efa",
          "symbol": "circle"
         },
         "name": "MGMT",
         "notched": true,
         "offsetgroup": "MGMT",
         "showlegend": false,
         "type": "box",
         "x": [
          -0.0922563926963715,
          -0.1190048194296023,
          -0.01017581369779759,
          -0.06686628356288084,
          -0.04577906746248675,
          -0.04062392257306027,
          -0.09946435696056101,
          -0.026134052471306225,
          -0.046915195555431194,
          -0.04618421567755385,
          -0.0770405913282434,
          -0.03134564474363989,
          -0.025974408447671557,
          -0.1820162017288946,
          -0.04333180841907405,
          0.09975852974704183,
          -0.1566711368775825,
          -0.04888493989193682,
          -0.0125941028356581,
          -0.05224020952842592,
          -0.029055145882910343,
          -0.02638765396295541,
          -0.2062579804758431,
          -0.08538937960580426,
          0.1596063345691236,
          -0.10682574308784143,
          -0.10656234935244921,
          -0.07464252982697896,
          -0.06281336024426995,
          0.03130770407099327,
          0.05062646180035101,
          -0.09886123231431358,
          -0.05437632800754991,
          -0.02777999636209711,
          -0.10108552079883486,
          0.0493004252936024,
          -0.015232871099626706,
          -0.08336582350917955,
          -0.1250582375222836,
          -0.018243042452583163,
          -0.014785876654303068,
          -0.025627538202309962,
          -0.06912319331798167,
          -0.02911825564958707,
          0.0017783355176968427,
          -0.0229508986398907,
          -0.029899273699511304
         ],
         "xaxis": "x2",
         "yaxis": "y2"
        },
        {
         "customdata": [
          [
           "Yeah Yeah Yeahs",
           "Spitting Off the Edge of the World",
           "Cool It Down",
           1
          ],
          [
           "Yeah Yeah Yeahs",
           "Lovebomb",
           "Cool It Down",
           2
          ],
          [
           "Yeah Yeah Yeahs",
           "Wolf",
           "Cool It Down",
           3
          ],
          [
           "Yeah Yeah Yeahs",
           "Fleez",
           "Cool It Down",
           4
          ],
          [
           "Yeah Yeah Yeahs",
           "Burning",
           "Cool It Down",
           5
          ],
          [
           "Yeah Yeah Yeahs",
           "Blacktop",
           "Cool It Down",
           6
          ],
          [
           "Yeah Yeah Yeahs",
           "Different Today",
           "Cool It Down",
           7
          ],
          [
           "Yeah Yeah Yeahs",
           "Mars",
           "Cool It Down",
           8
          ],
          [
           "Yeah Yeah Yeahs",
           "Rich",
           "Fever To Tell",
           1
          ],
          [
           "Yeah Yeah Yeahs",
           "Date With The Night",
           "Fever To Tell",
           2
          ],
          [
           "Yeah Yeah Yeahs",
           "Man",
           "Fever To Tell",
           3
          ],
          [
           "Yeah Yeah Yeahs",
           "Tick",
           "Fever To Tell",
           4
          ],
          [
           "Yeah Yeah Yeahs",
           "Black Tongue",
           "Fever To Tell",
           5
          ],
          [
           "Yeah Yeah Yeahs",
           "Pin",
           "Fever To Tell",
           6
          ],
          [
           "Yeah Yeah Yeahs",
           "Cold Light",
           "Fever To Tell",
           7
          ],
          [
           "Yeah Yeah Yeahs",
           "No No No",
           "Fever To Tell",
           8
          ],
          [
           "Yeah Yeah Yeahs",
           "Maps",
           "Fever To Tell",
           9
          ],
          [
           "Yeah Yeah Yeahs",
           "Y Control",
           "Fever To Tell",
           10
          ],
          [
           "Yeah Yeah Yeahs",
           "Modern Romance",
           "Fever To Tell",
           11
          ],
          [
           "Yeah Yeah Yeahs",
           "Poor Song",
           "Fever To Tell",
           12
          ],
          [
           "Yeah Yeah Yeahs",
           "Zero",
           "It's Blitz!",
           1
          ],
          [
           "Yeah Yeah Yeahs",
           "Heads Will Roll",
           "It's Blitz!",
           2
          ],
          [
           "Yeah Yeah Yeahs",
           "Soft Shock",
           "It's Blitz!",
           3
          ],
          [
           "Yeah Yeah Yeahs",
           "Skeletons",
           "It's Blitz!",
           4
          ],
          [
           "Yeah Yeah Yeahs",
           "Dull Life",
           "It's Blitz!",
           5
          ],
          [
           "Yeah Yeah Yeahs",
           "Shame And Fortune",
           "It's Blitz!",
           6
          ],
          [
           "Yeah Yeah Yeahs",
           "Runaway",
           "It's Blitz!",
           7
          ],
          [
           "Yeah Yeah Yeahs",
           "Dragon Queen",
           "It's Blitz!",
           8
          ],
          [
           "Yeah Yeah Yeahs",
           "Hysteric",
           "It's Blitz!",
           9
          ],
          [
           "Yeah Yeah Yeahs",
           "Little Shadow",
           "It's Blitz!",
           10
          ],
          [
           "Yeah Yeah Yeahs",
           "Sacrilege",
           "Mosquito (Deluxe)",
           1
          ],
          [
           "Yeah Yeah Yeahs",
           "Subway",
           "Mosquito (Deluxe)",
           2
          ],
          [
           "Yeah Yeah Yeahs",
           "Mosquito",
           "Mosquito (Deluxe)",
           3
          ],
          [
           "Yeah Yeah Yeahs",
           "Under The Earth",
           "Mosquito (Deluxe)",
           4
          ],
          [
           "Yeah Yeah Yeahs",
           "Slave",
           "Mosquito (Deluxe)",
           5
          ],
          [
           "Yeah Yeah Yeahs",
           "These Paths",
           "Mosquito (Deluxe)",
           6
          ],
          [
           "Yeah Yeah Yeahs",
           "Area 52",
           "Mosquito (Deluxe)",
           7
          ],
          [
           "Yeah Yeah Yeahs",
           "Buried Alive",
           "Mosquito (Deluxe)",
           8
          ],
          [
           "Yeah Yeah Yeahs",
           "Always",
           "Mosquito (Deluxe)",
           9
          ],
          [
           "Yeah Yeah Yeahs",
           "Despair",
           "Mosquito (Deluxe)",
           10
          ],
          [
           "Yeah Yeah Yeahs",
           "Wedding Song",
           "Mosquito (Deluxe)",
           11
          ],
          [
           "Yeah Yeah Yeahs",
           "Subway - NOLA Demo",
           "Mosquito (Deluxe)",
           12
          ],
          [
           "Yeah Yeah Yeahs",
           "Gold Lion",
           "Show Your Bones",
           1
          ],
          [
           "Yeah Yeah Yeahs",
           "Way Out",
           "Show Your Bones",
           2
          ],
          [
           "Yeah Yeah Yeahs",
           "Fancy",
           "Show Your Bones",
           3
          ],
          [
           "Yeah Yeah Yeahs",
           "Phenomena",
           "Show Your Bones",
           4
          ],
          [
           "Yeah Yeah Yeahs",
           "Honeybear",
           "Show Your Bones",
           5
          ],
          [
           "Yeah Yeah Yeahs",
           "Cheated Hearts",
           "Show Your Bones",
           6
          ],
          [
           "Yeah Yeah Yeahs",
           "Dudley",
           "Show Your Bones",
           7
          ],
          [
           "Yeah Yeah Yeahs",
           "Mysteries",
           "Show Your Bones",
           8
          ],
          [
           "Yeah Yeah Yeahs",
           "Sweets",
           "Show Your Bones",
           9
          ],
          [
           "Yeah Yeah Yeahs",
           "Warrior",
           "Show Your Bones",
           10
          ],
          [
           "Yeah Yeah Yeahs",
           "Turn Into",
           "Show Your Bones",
           11
          ]
         ],
         "hovertemplate": "artist=%{customdata[0]}<br>PC1=%{x}<br>PC0=%{y}<br>title=%{customdata[1]}<br>album=%{customdata[2]}<br>track_number=%{customdata[3]}<extra></extra>",
         "legendgroup": "Yeah Yeah Yeahs",
         "marker": {
          "color": "#EF553B",
          "symbol": "circle"
         },
         "mode": "markers",
         "name": "Yeah Yeah Yeahs",
         "orientation": "v",
         "showlegend": true,
         "type": "scatter",
         "x": [
          -0.025138110679371658,
          -0.04738850605861201,
          -0.004013187137266657,
          -0.05778605251587336,
          -0.08804010452932334,
          -0.08867984753969547,
          0.025560105332218388,
          -0.02983863396866494,
          -0.0255011127033025,
          -0.12631439863682428,
          0.03984351603702754,
          0.03757692666588379,
          -0.05593633147253352,
          -0.22482386007696795,
          0.00030567255957961083,
          -0.07622819197181074,
          -0.36839636302501105,
          -0.03194615004088006,
          -0.10790989606853825,
          -0.1641104771582094,
          -0.07563669238408743,
          -0.04247536749719012,
          -0.014400468688028053,
          -0.3017855934071254,
          -0.0005548699900083595,
          -0.0009387641308717908,
          0.108084499018607,
          -0.2413752275390006,
          0.007882648404790756,
          0.011535881531767562,
          0.019212118061357766,
          -0.00919523782044413,
          0.030737832252293814,
          -0.059773899710309386,
          -0.0723276486556107,
          -0.006317968351750507,
          -0.06036516915543369,
          0.028448524137158673,
          -0.07504970699607097,
          -0.08036497476346749,
          -0.04906671013540252,
          -0.08961357058393443,
          -0.05911703156074514,
          -0.028842858653376574,
          -0.05611500611882472,
          -0.12373712425118796,
          0.11584209418403602,
          -0.04266762828493106,
          0.11974155064829871,
          -0.04226003321805677,
          0.023198900415665035,
          -0.1317358285860098,
          -0.11623568933382396
         ],
         "xaxis": "x",
         "y": [
          0.0012593719981701332,
          -0.03412641299324606,
          -0.002069436896986746,
          -0.01180286052704616,
          -0.03897125032694494,
          -0.03306611983378603,
          -0.036728544300386176,
          -0.01745398899877564,
          0.006630629742164985,
          -0.06913024397726206,
          -0.24295920913614436,
          -0.2802118002326163,
          -0.26257364789563986,
          -0.10973810998936885,
          0.0075015697041879974,
          -0.07918170182511959,
          -0.19201119239632478,
          -0.0001563350034778123,
          -0.10847882591737554,
          -0.1451901537866083,
          -0.13004622406555122,
          0.0035718393716617364,
          -0.008219059541526826,
          -0.1591274889682608,
          -0.027243845625252668,
          0.016118499517515785,
          -0.19291295687206111,
          -0.1234252609137029,
          0.024067454981138867,
          0.02809902915486225,
          -0.001953882616483058,
          0.0057120597466739165,
          0.0033246613209824286,
          -0.018189453946934254,
          -0.04496587882185229,
          -0.0204594328858215,
          -0.13414966528998581,
          0.0112883872505759,
          -0.019431046459527285,
          -0.043033862039666484,
          -0.01780763259515534,
          -0.03794714868370255,
          -0.022053813784963943,
          -0.10789716324997015,
          -0.03555705117743949,
          -0.11374940654925106,
          -0.3279811976724494,
          -0.029084657436087465,
          -0.4895269159780647,
          -0.02706603406845621,
          -0.043465565218725626,
          -0.19375437760951247,
          -0.08686482097460543
         ],
         "yaxis": "y"
        },
        {
         "alignmentgroup": "True",
         "customdata": [
          [
           "Yeah Yeah Yeahs",
           "Spitting Off the Edge of the World",
           "Cool It Down",
           1
          ],
          [
           "Yeah Yeah Yeahs",
           "Lovebomb",
           "Cool It Down",
           2
          ],
          [
           "Yeah Yeah Yeahs",
           "Wolf",
           "Cool It Down",
           3
          ],
          [
           "Yeah Yeah Yeahs",
           "Fleez",
           "Cool It Down",
           4
          ],
          [
           "Yeah Yeah Yeahs",
           "Burning",
           "Cool It Down",
           5
          ],
          [
           "Yeah Yeah Yeahs",
           "Blacktop",
           "Cool It Down",
           6
          ],
          [
           "Yeah Yeah Yeahs",
           "Different Today",
           "Cool It Down",
           7
          ],
          [
           "Yeah Yeah Yeahs",
           "Mars",
           "Cool It Down",
           8
          ],
          [
           "Yeah Yeah Yeahs",
           "Rich",
           "Fever To Tell",
           1
          ],
          [
           "Yeah Yeah Yeahs",
           "Date With The Night",
           "Fever To Tell",
           2
          ],
          [
           "Yeah Yeah Yeahs",
           "Man",
           "Fever To Tell",
           3
          ],
          [
           "Yeah Yeah Yeahs",
           "Tick",
           "Fever To Tell",
           4
          ],
          [
           "Yeah Yeah Yeahs",
           "Black Tongue",
           "Fever To Tell",
           5
          ],
          [
           "Yeah Yeah Yeahs",
           "Pin",
           "Fever To Tell",
           6
          ],
          [
           "Yeah Yeah Yeahs",
           "Cold Light",
           "Fever To Tell",
           7
          ],
          [
           "Yeah Yeah Yeahs",
           "No No No",
           "Fever To Tell",
           8
          ],
          [
           "Yeah Yeah Yeahs",
           "Maps",
           "Fever To Tell",
           9
          ],
          [
           "Yeah Yeah Yeahs",
           "Y Control",
           "Fever To Tell",
           10
          ],
          [
           "Yeah Yeah Yeahs",
           "Modern Romance",
           "Fever To Tell",
           11
          ],
          [
           "Yeah Yeah Yeahs",
           "Poor Song",
           "Fever To Tell",
           12
          ],
          [
           "Yeah Yeah Yeahs",
           "Zero",
           "It's Blitz!",
           1
          ],
          [
           "Yeah Yeah Yeahs",
           "Heads Will Roll",
           "It's Blitz!",
           2
          ],
          [
           "Yeah Yeah Yeahs",
           "Soft Shock",
           "It's Blitz!",
           3
          ],
          [
           "Yeah Yeah Yeahs",
           "Skeletons",
           "It's Blitz!",
           4
          ],
          [
           "Yeah Yeah Yeahs",
           "Dull Life",
           "It's Blitz!",
           5
          ],
          [
           "Yeah Yeah Yeahs",
           "Shame And Fortune",
           "It's Blitz!",
           6
          ],
          [
           "Yeah Yeah Yeahs",
           "Runaway",
           "It's Blitz!",
           7
          ],
          [
           "Yeah Yeah Yeahs",
           "Dragon Queen",
           "It's Blitz!",
           8
          ],
          [
           "Yeah Yeah Yeahs",
           "Hysteric",
           "It's Blitz!",
           9
          ],
          [
           "Yeah Yeah Yeahs",
           "Little Shadow",
           "It's Blitz!",
           10
          ],
          [
           "Yeah Yeah Yeahs",
           "Sacrilege",
           "Mosquito (Deluxe)",
           1
          ],
          [
           "Yeah Yeah Yeahs",
           "Subway",
           "Mosquito (Deluxe)",
           2
          ],
          [
           "Yeah Yeah Yeahs",
           "Mosquito",
           "Mosquito (Deluxe)",
           3
          ],
          [
           "Yeah Yeah Yeahs",
           "Under The Earth",
           "Mosquito (Deluxe)",
           4
          ],
          [
           "Yeah Yeah Yeahs",
           "Slave",
           "Mosquito (Deluxe)",
           5
          ],
          [
           "Yeah Yeah Yeahs",
           "These Paths",
           "Mosquito (Deluxe)",
           6
          ],
          [
           "Yeah Yeah Yeahs",
           "Area 52",
           "Mosquito (Deluxe)",
           7
          ],
          [
           "Yeah Yeah Yeahs",
           "Buried Alive",
           "Mosquito (Deluxe)",
           8
          ],
          [
           "Yeah Yeah Yeahs",
           "Always",
           "Mosquito (Deluxe)",
           9
          ],
          [
           "Yeah Yeah Yeahs",
           "Despair",
           "Mosquito (Deluxe)",
           10
          ],
          [
           "Yeah Yeah Yeahs",
           "Wedding Song",
           "Mosquito (Deluxe)",
           11
          ],
          [
           "Yeah Yeah Yeahs",
           "Subway - NOLA Demo",
           "Mosquito (Deluxe)",
           12
          ],
          [
           "Yeah Yeah Yeahs",
           "Gold Lion",
           "Show Your Bones",
           1
          ],
          [
           "Yeah Yeah Yeahs",
           "Way Out",
           "Show Your Bones",
           2
          ],
          [
           "Yeah Yeah Yeahs",
           "Fancy",
           "Show Your Bones",
           3
          ],
          [
           "Yeah Yeah Yeahs",
           "Phenomena",
           "Show Your Bones",
           4
          ],
          [
           "Yeah Yeah Yeahs",
           "Honeybear",
           "Show Your Bones",
           5
          ],
          [
           "Yeah Yeah Yeahs",
           "Cheated Hearts",
           "Show Your Bones",
           6
          ],
          [
           "Yeah Yeah Yeahs",
           "Dudley",
           "Show Your Bones",
           7
          ],
          [
           "Yeah Yeah Yeahs",
           "Mysteries",
           "Show Your Bones",
           8
          ],
          [
           "Yeah Yeah Yeahs",
           "Sweets",
           "Show Your Bones",
           9
          ],
          [
           "Yeah Yeah Yeahs",
           "Warrior",
           "Show Your Bones",
           10
          ],
          [
           "Yeah Yeah Yeahs",
           "Turn Into",
           "Show Your Bones",
           11
          ]
         ],
         "hovertemplate": "artist=%{customdata[0]}<br>PC1=%{x}<br>title=%{customdata[1]}<br>album=%{customdata[2]}<br>track_number=%{customdata[3]}<extra></extra>",
         "legendgroup": "Yeah Yeah Yeahs",
         "marker": {
          "color": "#EF553B",
          "symbol": "circle"
         },
         "name": "Yeah Yeah Yeahs",
         "notched": true,
         "offsetgroup": "Yeah Yeah Yeahs",
         "showlegend": false,
         "type": "box",
         "x": [
          -0.025138110679371658,
          -0.04738850605861201,
          -0.004013187137266657,
          -0.05778605251587336,
          -0.08804010452932334,
          -0.08867984753969547,
          0.025560105332218388,
          -0.02983863396866494,
          -0.0255011127033025,
          -0.12631439863682428,
          0.03984351603702754,
          0.03757692666588379,
          -0.05593633147253352,
          -0.22482386007696795,
          0.00030567255957961083,
          -0.07622819197181074,
          -0.36839636302501105,
          -0.03194615004088006,
          -0.10790989606853825,
          -0.1641104771582094,
          -0.07563669238408743,
          -0.04247536749719012,
          -0.014400468688028053,
          -0.3017855934071254,
          -0.0005548699900083595,
          -0.0009387641308717908,
          0.108084499018607,
          -0.2413752275390006,
          0.007882648404790756,
          0.011535881531767562,
          0.019212118061357766,
          -0.00919523782044413,
          0.030737832252293814,
          -0.059773899710309386,
          -0.0723276486556107,
          -0.006317968351750507,
          -0.06036516915543369,
          0.028448524137158673,
          -0.07504970699607097,
          -0.08036497476346749,
          -0.04906671013540252,
          -0.08961357058393443,
          -0.05911703156074514,
          -0.028842858653376574,
          -0.05611500611882472,
          -0.12373712425118796,
          0.11584209418403602,
          -0.04266762828493106,
          0.11974155064829871,
          -0.04226003321805677,
          0.023198900415665035,
          -0.1317358285860098,
          -0.11623568933382396
         ],
         "xaxis": "x2",
         "yaxis": "y2"
        },
        {
         "customdata": [
          [
           "Cults",
           "Abducted",
           "Cults",
           1
          ],
          [
           "Cults",
           "Go Outside",
           "Cults",
           2
          ],
          [
           "Cults",
           "You Know What I Mean",
           "Cults",
           3
          ],
          [
           "Cults",
           "Most Wanted",
           "Cults",
           4
          ],
          [
           "Cults",
           "Walk At Night",
           "Cults",
           5
          ],
          [
           "Cults",
           "Never Heal Myself",
           "Cults",
           6
          ],
          [
           "Cults",
           "Oh My God",
           "Cults",
           7
          ],
          [
           "Cults",
           "Never Saw The Point",
           "Cults",
           8
          ],
          [
           "Cults",
           "Bad Things",
           "Cults",
           9
          ],
          [
           "Cults",
           "Bumper",
           "Cults",
           10
          ],
          [
           "Cults",
           "Rave On",
           "Cults",
           11
          ],
          [
           "Cults",
           "Bad Things - Slowed Down",
           "Cults",
           13
          ],
          [
           "Cults",
           "Trials",
           "Host",
           1
          ],
          [
           "Cults",
           "8th Avenue",
           "Host",
           2
          ],
          [
           "Cults",
           "Spit You Out",
           "Host",
           3
          ],
          [
           "Cults",
           "A Low",
           "Host",
           4
          ],
          [
           "Cults",
           "No Risk",
           "Host",
           5
          ],
          [
           "Cults",
           "Working It Over",
           "Host",
           6
          ],
          [
           "Cults",
           "A Purgatory",
           "Host",
           7
          ],
          [
           "Cults",
           "Like I Do",
           "Host",
           8
          ],
          [
           "Cults",
           "Masquerading",
           "Host",
           9
          ],
          [
           "Cults",
           "Honest Love",
           "Host",
           10
          ],
          [
           "Cults",
           "Shoulders To My Feet",
           "Host",
           11
          ],
          [
           "Cults",
           "Monolithic",
           "Host",
           12
          ],
          [
           "Cults",
           "Offering",
           "Offering",
           1
          ],
          [
           "Cults",
           "I Took Your Picture",
           "Offering",
           2
          ],
          [
           "Cults",
           "With My Eyes Closed",
           "Offering",
           3
          ],
          [
           "Cults",
           "Recovery",
           "Offering",
           4
          ],
          [
           "Cults",
           "Right Words",
           "Offering",
           5
          ],
          [
           "Cults",
           "Good Religion",
           "Offering",
           6
          ],
          [
           "Cults",
           "Natural State",
           "Offering",
           7
          ],
          [
           "Cults",
           "Nothing Is Written",
           "Offering",
           8
          ],
          [
           "Cults",
           "Talk in Circles",
           "Offering",
           9
          ],
          [
           "Cults",
           "Clear from Far Away",
           "Offering",
           10
          ],
          [
           "Cults",
           "Gilded Lily",
           "Offering",
           11
          ],
          [
           "Cults",
           "I Know",
           "Static",
           1
          ],
          [
           "Cults",
           "I Can Hardly Make You Mine",
           "Static",
           2
          ],
          [
           "Cults",
           "Always Forever",
           "Static",
           3
          ],
          [
           "Cults",
           "High Road",
           "Static",
           4
          ],
          [
           "Cults",
           "Were Before",
           "Static",
           5
          ],
          [
           "Cults",
           "So Far",
           "Static",
           6
          ],
          [
           "Cults",
           "Keep Your Head Up",
           "Static",
           7
          ],
          [
           "Cults",
           "TV Dream",
           "Static",
           8
          ],
          [
           "Cults",
           "We've Got It",
           "Static",
           9
          ],
          [
           "Cults",
           "Shine a Light",
           "Static",
           10
          ],
          [
           "Cults",
           "No Hope",
           "Static",
           11
          ]
         ],
         "hovertemplate": "artist=%{customdata[0]}<br>PC1=%{x}<br>PC0=%{y}<br>title=%{customdata[1]}<br>album=%{customdata[2]}<br>track_number=%{customdata[3]}<extra></extra>",
         "legendgroup": "Cults",
         "marker": {
          "color": "#00cc96",
          "symbol": "circle"
         },
         "mode": "markers",
         "name": "Cults",
         "orientation": "v",
         "showlegend": true,
         "type": "scatter",
         "x": [
          -0.03316591495855714,
          0.2219082711811797,
          -0.0999386789870107,
          0.03223361325501724,
          -0.10346294539616716,
          -0.1332708004580166,
          -0.17851949388234312,
          0.001404259150013784,
          -0.1254025175187463,
          -0.1500782456412026,
          -0.06524490785552596,
          -0.040591027783048315,
          -0.16018499979671924,
          -0.05959608930373383,
          0.02724119306627993,
          -0.12265102357223853,
          0.010506502195326598,
          -0.059036364543490635,
          -0.1638896882549833,
          0.007689994940962055,
          -0.028674303835899046,
          -0.0529686171844545,
          -0.07214328889942447,
          0.020613261005389558,
          -0.13701744328296467,
          -0.008955074287361826,
          -0.09531997665795892,
          -0.04166136679642587,
          -0.07511895551346123,
          -0.03290755321357959,
          -0.09482608343758134,
          -0.06179643745061318,
          -0.1258050625368219,
          -0.028136974246250713,
          -0.015311564694030003,
          -0.20482671981752723,
          -0.2074426899026501,
          -0.14405044736073785,
          -0.04027926466149448,
          -0.18585407411012472,
          -0.1464457571286445,
          -0.06241021966056816,
          -0.21062867785991757,
          -0.10574571084065561,
          -0.07267407689405297,
          -0.04159770185471639
         ],
         "xaxis": "x",
         "y": [
          -0.06625606356409662,
          -0.5047509736575745,
          -0.07384411825513507,
          -0.2302045978530562,
          -0.09582770718589641,
          -0.0966001848918447,
          -0.11737650518182709,
          -0.27668616010005914,
          -0.12682652586619328,
          -0.12169449466104436,
          -0.07151253034035625,
          -0.04293072771264072,
          -0.09865124715437412,
          -0.11191044267411343,
          -0.10945544146715394,
          -0.04952275148219358,
          -0.03929619580543757,
          -0.0886647276354331,
          -0.05772105326006914,
          -0.011959258377813496,
          -0.06622743595751365,
          -0.29997186644597285,
          -0.09561493247661731,
          0.005272950264688465,
          -0.12396814998946971,
          0.007568316114928041,
          -0.032645447836989354,
          -0.06844918559744292,
          -0.12237749744960216,
          -0.05016961332986193,
          -0.03251068159538584,
          -0.021146970690174627,
          -0.08001672518897157,
          -0.05684090382278027,
          -0.017788864209998922,
          -0.12156538830330493,
          -0.15307971980328838,
          -0.09386953555278962,
          -0.04905652554686846,
          -0.18245065089100587,
          -0.09313227817516173,
          -0.18925793467476634,
          -0.09308597592664453,
          -0.14295986140069472,
          -0.1798949204442288,
          -0.08879577948244653
         ],
         "yaxis": "y"
        },
        {
         "alignmentgroup": "True",
         "customdata": [
          [
           "Cults",
           "Abducted",
           "Cults",
           1
          ],
          [
           "Cults",
           "Go Outside",
           "Cults",
           2
          ],
          [
           "Cults",
           "You Know What I Mean",
           "Cults",
           3
          ],
          [
           "Cults",
           "Most Wanted",
           "Cults",
           4
          ],
          [
           "Cults",
           "Walk At Night",
           "Cults",
           5
          ],
          [
           "Cults",
           "Never Heal Myself",
           "Cults",
           6
          ],
          [
           "Cults",
           "Oh My God",
           "Cults",
           7
          ],
          [
           "Cults",
           "Never Saw The Point",
           "Cults",
           8
          ],
          [
           "Cults",
           "Bad Things",
           "Cults",
           9
          ],
          [
           "Cults",
           "Bumper",
           "Cults",
           10
          ],
          [
           "Cults",
           "Rave On",
           "Cults",
           11
          ],
          [
           "Cults",
           "Bad Things - Slowed Down",
           "Cults",
           13
          ],
          [
           "Cults",
           "Trials",
           "Host",
           1
          ],
          [
           "Cults",
           "8th Avenue",
           "Host",
           2
          ],
          [
           "Cults",
           "Spit You Out",
           "Host",
           3
          ],
          [
           "Cults",
           "A Low",
           "Host",
           4
          ],
          [
           "Cults",
           "No Risk",
           "Host",
           5
          ],
          [
           "Cults",
           "Working It Over",
           "Host",
           6
          ],
          [
           "Cults",
           "A Purgatory",
           "Host",
           7
          ],
          [
           "Cults",
           "Like I Do",
           "Host",
           8
          ],
          [
           "Cults",
           "Masquerading",
           "Host",
           9
          ],
          [
           "Cults",
           "Honest Love",
           "Host",
           10
          ],
          [
           "Cults",
           "Shoulders To My Feet",
           "Host",
           11
          ],
          [
           "Cults",
           "Monolithic",
           "Host",
           12
          ],
          [
           "Cults",
           "Offering",
           "Offering",
           1
          ],
          [
           "Cults",
           "I Took Your Picture",
           "Offering",
           2
          ],
          [
           "Cults",
           "With My Eyes Closed",
           "Offering",
           3
          ],
          [
           "Cults",
           "Recovery",
           "Offering",
           4
          ],
          [
           "Cults",
           "Right Words",
           "Offering",
           5
          ],
          [
           "Cults",
           "Good Religion",
           "Offering",
           6
          ],
          [
           "Cults",
           "Natural State",
           "Offering",
           7
          ],
          [
           "Cults",
           "Nothing Is Written",
           "Offering",
           8
          ],
          [
           "Cults",
           "Talk in Circles",
           "Offering",
           9
          ],
          [
           "Cults",
           "Clear from Far Away",
           "Offering",
           10
          ],
          [
           "Cults",
           "Gilded Lily",
           "Offering",
           11
          ],
          [
           "Cults",
           "I Know",
           "Static",
           1
          ],
          [
           "Cults",
           "I Can Hardly Make You Mine",
           "Static",
           2
          ],
          [
           "Cults",
           "Always Forever",
           "Static",
           3
          ],
          [
           "Cults",
           "High Road",
           "Static",
           4
          ],
          [
           "Cults",
           "Were Before",
           "Static",
           5
          ],
          [
           "Cults",
           "So Far",
           "Static",
           6
          ],
          [
           "Cults",
           "Keep Your Head Up",
           "Static",
           7
          ],
          [
           "Cults",
           "TV Dream",
           "Static",
           8
          ],
          [
           "Cults",
           "We've Got It",
           "Static",
           9
          ],
          [
           "Cults",
           "Shine a Light",
           "Static",
           10
          ],
          [
           "Cults",
           "No Hope",
           "Static",
           11
          ]
         ],
         "hovertemplate": "artist=%{customdata[0]}<br>PC1=%{x}<br>title=%{customdata[1]}<br>album=%{customdata[2]}<br>track_number=%{customdata[3]}<extra></extra>",
         "legendgroup": "Cults",
         "marker": {
          "color": "#00cc96",
          "symbol": "circle"
         },
         "name": "Cults",
         "notched": true,
         "offsetgroup": "Cults",
         "showlegend": false,
         "type": "box",
         "x": [
          -0.03316591495855714,
          0.2219082711811797,
          -0.0999386789870107,
          0.03223361325501724,
          -0.10346294539616716,
          -0.1332708004580166,
          -0.17851949388234312,
          0.001404259150013784,
          -0.1254025175187463,
          -0.1500782456412026,
          -0.06524490785552596,
          -0.040591027783048315,
          -0.16018499979671924,
          -0.05959608930373383,
          0.02724119306627993,
          -0.12265102357223853,
          0.010506502195326598,
          -0.059036364543490635,
          -0.1638896882549833,
          0.007689994940962055,
          -0.028674303835899046,
          -0.0529686171844545,
          -0.07214328889942447,
          0.020613261005389558,
          -0.13701744328296467,
          -0.008955074287361826,
          -0.09531997665795892,
          -0.04166136679642587,
          -0.07511895551346123,
          -0.03290755321357959,
          -0.09482608343758134,
          -0.06179643745061318,
          -0.1258050625368219,
          -0.028136974246250713,
          -0.015311564694030003,
          -0.20482671981752723,
          -0.2074426899026501,
          -0.14405044736073785,
          -0.04027926466149448,
          -0.18585407411012472,
          -0.1464457571286445,
          -0.06241021966056816,
          -0.21062867785991757,
          -0.10574571084065561,
          -0.07267407689405297,
          -0.04159770185471639
         ],
         "xaxis": "x2",
         "yaxis": "y2"
        },
        {
         "customdata": [
          [
           "Caroline Polachek",
           "Welcome To My Island",
           "Desire, I Want To Turn Into You",
           1
          ],
          [
           "Caroline Polachek",
           "Pretty In Possible",
           "Desire, I Want To Turn Into You",
           2
          ],
          [
           "Caroline Polachek",
           "Bunny Is A Rider",
           "Desire, I Want To Turn Into You",
           3
          ],
          [
           "Caroline Polachek",
           "Sunset",
           "Desire, I Want To Turn Into You",
           4
          ],
          [
           "Caroline Polachek",
           "Crude Drawing Of An Angel",
           "Desire, I Want To Turn Into You",
           5
          ],
          [
           "Caroline Polachek",
           "I Believe",
           "Desire, I Want To Turn Into You",
           6
          ],
          [
           "Caroline Polachek",
           "Fly To You (feat. Grimes and Dido)",
           "Desire, I Want To Turn Into You",
           7
          ],
          [
           "Caroline Polachek",
           "Blood And Butter",
           "Desire, I Want To Turn Into You",
           8
          ],
          [
           "Caroline Polachek",
           "Hopedrunk Everasking",
           "Desire, I Want To Turn Into You",
           9
          ],
          [
           "Caroline Polachek",
           "Butterfly Net",
           "Desire, I Want To Turn Into You",
           10
          ],
          [
           "Caroline Polachek",
           "Smoke",
           "Desire, I Want To Turn Into You",
           11
          ],
          [
           "Caroline Polachek",
           "Billions",
           "Desire, I Want To Turn Into You",
           12
          ],
          [
           "Caroline Polachek",
           "The Gate",
           "Pang",
           1
          ],
          [
           "Caroline Polachek",
           "Pang",
           "Pang",
           2
          ],
          [
           "Caroline Polachek",
           "New Normal",
           "Pang",
           3
          ],
          [
           "Caroline Polachek",
           "Hit Me Where It Hurts",
           "Pang",
           4
          ],
          [
           "Caroline Polachek",
           "I Give Up",
           "Pang",
           5
          ],
          [
           "Caroline Polachek",
           "Look At Me Now",
           "Pang",
           6
          ],
          [
           "Caroline Polachek",
           "Insomnia",
           "Pang",
           7
          ],
          [
           "Caroline Polachek",
           "Ocean of Tears",
           "Pang",
           8
          ],
          [
           "Caroline Polachek",
           "Hey Big Eyes",
           "Pang",
           9
          ],
          [
           "Caroline Polachek",
           "Go As a Dream",
           "Pang",
           10
          ],
          [
           "Caroline Polachek",
           "Caroline Shut Up",
           "Pang",
           11
          ],
          [
           "Caroline Polachek",
           "So Hot You're Hurting My Feelings",
           "Pang",
           12
          ],
          [
           "Caroline Polachek",
           "Door",
           "Pang",
           13
          ],
          [
           "Caroline Polachek",
           "Parachute",
           "Pang",
           14
          ]
         ],
         "hovertemplate": "artist=%{customdata[0]}<br>PC1=%{x}<br>PC0=%{y}<br>title=%{customdata[1]}<br>album=%{customdata[2]}<br>track_number=%{customdata[3]}<extra></extra>",
         "legendgroup": "Caroline Polachek",
         "marker": {
          "color": "#ab63fa",
          "symbol": "circle"
         },
         "mode": "markers",
         "name": "Caroline Polachek",
         "orientation": "v",
         "showlegend": true,
         "type": "scatter",
         "x": [
          -0.06781652968776195,
          -0.03079577369719131,
          0.009000252391133523,
          -0.09947301243792257,
          -0.017482346387875037,
          -0.1428847013190088,
          -0.028563226068080153,
          -0.04767608090941559,
          -0.045765429291869456,
          -0.03294195874486597,
          -0.05574656882952349,
          -0.025402816277282837,
          -0.057550055401025486,
          -0.09758103427666723,
          -0.0806366347112764,
          -0.032363046297189,
          -0.13054876565867393,
          -0.052887199513775206,
          -0.02028266491214544,
          -0.19563046815071505,
          0.004082820011099346,
          -0.1356333634464192,
          -0.11864548571387422,
          -0.12756534286738852,
          -0.00880069121897233,
          0.002116511944421859
         ],
         "xaxis": "x",
         "y": [
          -0.023553863224812403,
          -0.02651382844540449,
          -0.041099294532408695,
          -0.06261385853246722,
          -0.03129569491565599,
          -0.11877546303541384,
          0.024742366830551667,
          -0.13379829284514394,
          -0.05351953154689788,
          -0.00641176263288237,
          -0.06091360080839356,
          -0.007368381457980888,
          -0.049799337615126504,
          -0.025517172464410105,
          -0.04074266809388386,
          -0.046593579894281555,
          -0.1350519161349997,
          -0.12778682642258743,
          0.01600879937560254,
          -0.1229961015403402,
          0.015092288450944655,
          -0.08533740092101497,
          -0.12729759838421345,
          -0.07869197145646681,
          0.0006220876617250015,
          0.004893035621699524
         ],
         "yaxis": "y"
        },
        {
         "alignmentgroup": "True",
         "customdata": [
          [
           "Caroline Polachek",
           "Welcome To My Island",
           "Desire, I Want To Turn Into You",
           1
          ],
          [
           "Caroline Polachek",
           "Pretty In Possible",
           "Desire, I Want To Turn Into You",
           2
          ],
          [
           "Caroline Polachek",
           "Bunny Is A Rider",
           "Desire, I Want To Turn Into You",
           3
          ],
          [
           "Caroline Polachek",
           "Sunset",
           "Desire, I Want To Turn Into You",
           4
          ],
          [
           "Caroline Polachek",
           "Crude Drawing Of An Angel",
           "Desire, I Want To Turn Into You",
           5
          ],
          [
           "Caroline Polachek",
           "I Believe",
           "Desire, I Want To Turn Into You",
           6
          ],
          [
           "Caroline Polachek",
           "Fly To You (feat. Grimes and Dido)",
           "Desire, I Want To Turn Into You",
           7
          ],
          [
           "Caroline Polachek",
           "Blood And Butter",
           "Desire, I Want To Turn Into You",
           8
          ],
          [
           "Caroline Polachek",
           "Hopedrunk Everasking",
           "Desire, I Want To Turn Into You",
           9
          ],
          [
           "Caroline Polachek",
           "Butterfly Net",
           "Desire, I Want To Turn Into You",
           10
          ],
          [
           "Caroline Polachek",
           "Smoke",
           "Desire, I Want To Turn Into You",
           11
          ],
          [
           "Caroline Polachek",
           "Billions",
           "Desire, I Want To Turn Into You",
           12
          ],
          [
           "Caroline Polachek",
           "The Gate",
           "Pang",
           1
          ],
          [
           "Caroline Polachek",
           "Pang",
           "Pang",
           2
          ],
          [
           "Caroline Polachek",
           "New Normal",
           "Pang",
           3
          ],
          [
           "Caroline Polachek",
           "Hit Me Where It Hurts",
           "Pang",
           4
          ],
          [
           "Caroline Polachek",
           "I Give Up",
           "Pang",
           5
          ],
          [
           "Caroline Polachek",
           "Look At Me Now",
           "Pang",
           6
          ],
          [
           "Caroline Polachek",
           "Insomnia",
           "Pang",
           7
          ],
          [
           "Caroline Polachek",
           "Ocean of Tears",
           "Pang",
           8
          ],
          [
           "Caroline Polachek",
           "Hey Big Eyes",
           "Pang",
           9
          ],
          [
           "Caroline Polachek",
           "Go As a Dream",
           "Pang",
           10
          ],
          [
           "Caroline Polachek",
           "Caroline Shut Up",
           "Pang",
           11
          ],
          [
           "Caroline Polachek",
           "So Hot You're Hurting My Feelings",
           "Pang",
           12
          ],
          [
           "Caroline Polachek",
           "Door",
           "Pang",
           13
          ],
          [
           "Caroline Polachek",
           "Parachute",
           "Pang",
           14
          ]
         ],
         "hovertemplate": "artist=%{customdata[0]}<br>PC1=%{x}<br>title=%{customdata[1]}<br>album=%{customdata[2]}<br>track_number=%{customdata[3]}<extra></extra>",
         "legendgroup": "Caroline Polachek",
         "marker": {
          "color": "#ab63fa",
          "symbol": "circle"
         },
         "name": "Caroline Polachek",
         "notched": true,
         "offsetgroup": "Caroline Polachek",
         "showlegend": false,
         "type": "box",
         "x": [
          -0.06781652968776195,
          -0.03079577369719131,
          0.009000252391133523,
          -0.09947301243792257,
          -0.017482346387875037,
          -0.1428847013190088,
          -0.028563226068080153,
          -0.04767608090941559,
          -0.045765429291869456,
          -0.03294195874486597,
          -0.05574656882952349,
          -0.025402816277282837,
          -0.057550055401025486,
          -0.09758103427666723,
          -0.0806366347112764,
          -0.032363046297189,
          -0.13054876565867393,
          -0.052887199513775206,
          -0.02028266491214544,
          -0.19563046815071505,
          0.004082820011099346,
          -0.1356333634464192,
          -0.11864548571387422,
          -0.12756534286738852,
          -0.00880069121897233,
          0.002116511944421859
         ],
         "xaxis": "x2",
         "yaxis": "y2"
        },
        {
         "customdata": [
          [
           "Ava Luna",
           "Daydream",
           "Electric Balloon",
           1
          ],
          [
           "Ava Luna",
           "Sears Roebuck M&Ms",
           "Electric Balloon",
           2
          ],
          [
           "Ava Luna",
           "Crown",
           "Electric Balloon",
           3
          ],
          [
           "Ava Luna",
           "Aquarium",
           "Electric Balloon",
           4
          ],
          [
           "Ava Luna",
           "Plain Speech",
           "Electric Balloon",
           5
          ],
          [
           "Ava Luna",
           "Electric Balloon",
           "Electric Balloon",
           6
          ],
          [
           "Ava Luna",
           "PRPL",
           "Electric Balloon",
           7
          ],
          [
           "Ava Luna",
           "Hold U",
           "Electric Balloon",
           8
          ],
          [
           "Ava Luna",
           "Judy",
           "Electric Balloon",
           9
          ],
          [
           "Ava Luna",
           "Genesee",
           "Electric Balloon",
           10
          ],
          [
           "Ava Luna",
           "Ab Ovo",
           "Electric Balloon",
           11
          ],
          [
           "Ava Luna",
           "No F",
           "Ice Level",
           1
          ],
          [
           "Ava Luna",
           "Ice Level",
           "Ice Level",
           2
          ],
          [
           "Ava Luna",
           "Wrenning Day",
           "Ice Level",
           4
          ],
          [
           "Ava Luna",
           "Sequential Holdings",
           "Ice Level",
           5
          ],
          [
           "Ava Luna",
           "Down Right",
           "Ice Level",
           6
          ],
          [
           "Ava Luna",
           "Company",
           "Infinite House",
           1
          ],
          [
           "Ava Luna",
           "Tenderize",
           "Infinite House",
           2
          ],
          [
           "Ava Luna",
           "Steve Polyester",
           "Infinite House",
           3
          ],
          [
           "Ava Luna",
           "Roses and Cherries",
           "Infinite House",
           4
          ],
          [
           "Ava Luna",
           "Coat Of Shellac",
           "Infinite House",
           5
          ],
          [
           "Ava Luna",
           "Black Dog",
           "Infinite House",
           7
          ],
          [
           "Ava Luna",
           "Best Hexagon",
           "Infinite House",
           8
          ],
          [
           "Ava Luna",
           "Billz",
           "Infinite House",
           9
          ],
          [
           "Ava Luna",
           "Victoria",
           "Infinite House",
           10
          ],
          [
           "Ava Luna",
           "Carbon",
           "Infinite House",
           11
          ],
          [
           "Ava Luna",
           "Accessible",
           "Moon 2",
           1
          ],
          [
           "Ava Luna",
           "Centerline",
           "Moon 2",
           2
          ],
          [
           "Ava Luna",
           "Childish",
           "Moon 2",
           3
          ],
          [
           "Ava Luna",
           "Leaf",
           "Moon 2",
           4
          ],
          [
           "Ava Luna",
           "Mine",
           "Moon 2",
           5
          ],
          [
           "Ava Luna",
           "Moon 2",
           "Moon 2",
           6
          ],
          [
           "Ava Luna",
           "Deli Run",
           "Moon 2",
           7
          ],
          [
           "Ava Luna",
           "Set It Off",
           "Moon 2",
           8
          ],
          [
           "Ava Luna",
           "Walking with an Enemy",
           "Moon 2",
           9
          ],
          [
           "Ava Luna",
           "Unless",
           "Moon 2",
           10
          ],
          [
           "Ava Luna",
           "On Its Side the Fallen",
           "Moon 2",
           11
          ]
         ],
         "hovertemplate": "artist=%{customdata[0]}<br>PC1=%{x}<br>PC0=%{y}<br>title=%{customdata[1]}<br>album=%{customdata[2]}<br>track_number=%{customdata[3]}<extra></extra>",
         "legendgroup": "Ava Luna",
         "marker": {
          "color": "#FFA15A",
          "symbol": "circle"
         },
         "mode": "markers",
         "name": "Ava Luna",
         "orientation": "v",
         "showlegend": true,
         "type": "scatter",
         "x": [
          -0.02045073819323903,
          -0.07779986635928027,
          -0.1291965800258953,
          -0.07001448570017327,
          -0.0417092107635575,
          0.014047241548968642,
          -0.09265512319848529,
          -0.023556773034634992,
          -0.05901974926341365,
          -0.0592322095322019,
          -0.03829840858300615,
          -0.021674689663710195,
          -0.07728523443397949,
          -0.04833423579457815,
          -0.05965458099553858,
          -0.06241337348012463,
          0.02335577883462146,
          -0.012691872819286684,
          -0.028904165065720373,
          -0.037275519065760175,
          -0.10669692394510304,
          0.10696102978185665,
          0.028742270824872088,
          -0.23232012921348028,
          -0.11398083608041928,
          -0.020272213359989515,
          0.006608951739160948,
          -0.12872127655889046,
          -0.09086628037452546,
          0.049282024150243416,
          0.13577199576063606,
          -0.029956974211468614,
          -0.020268414431133443,
          0.0007192532904685229,
          -0.06236247538090657,
          -0.011850878374972493,
          -0.07953588621274287
         ],
         "xaxis": "x",
         "y": [
          -0.012272485737082055,
          -0.056985199054959766,
          -0.10113335439862498,
          -0.009867027482719911,
          -0.027287134747421435,
          0.014774152298256767,
          -0.05865213199393903,
          -0.026365659367673346,
          -0.18299108602083497,
          -0.020868020722889364,
          -0.07698996089912905,
          0.030837459512111504,
          -0.3021408045350149,
          -0.027474442831480553,
          -0.03421045715645817,
          -0.09197603713250214,
          0.01520524570511709,
          -0.015294671893184696,
          -0.010955835106731624,
          -0.047581740735472666,
          -0.09069851372951236,
          -0.07365920572139487,
          -0.012107805344089163,
          -0.15712902063447545,
          -0.29622860387657984,
          -0.01485562454625753,
          0.025629124917171446,
          -0.09484383844361943,
          -0.04324872564702975,
          -0.08452498552110477,
          -0.2999554134486364,
          -0.02841306167770187,
          -0.01998298745997113,
          -0.01205131424136062,
          -0.044713148835000625,
          -0.00801778494296118,
          -0.05188720648599614
         ],
         "yaxis": "y"
        },
        {
         "alignmentgroup": "True",
         "customdata": [
          [
           "Ava Luna",
           "Daydream",
           "Electric Balloon",
           1
          ],
          [
           "Ava Luna",
           "Sears Roebuck M&Ms",
           "Electric Balloon",
           2
          ],
          [
           "Ava Luna",
           "Crown",
           "Electric Balloon",
           3
          ],
          [
           "Ava Luna",
           "Aquarium",
           "Electric Balloon",
           4
          ],
          [
           "Ava Luna",
           "Plain Speech",
           "Electric Balloon",
           5
          ],
          [
           "Ava Luna",
           "Electric Balloon",
           "Electric Balloon",
           6
          ],
          [
           "Ava Luna",
           "PRPL",
           "Electric Balloon",
           7
          ],
          [
           "Ava Luna",
           "Hold U",
           "Electric Balloon",
           8
          ],
          [
           "Ava Luna",
           "Judy",
           "Electric Balloon",
           9
          ],
          [
           "Ava Luna",
           "Genesee",
           "Electric Balloon",
           10
          ],
          [
           "Ava Luna",
           "Ab Ovo",
           "Electric Balloon",
           11
          ],
          [
           "Ava Luna",
           "No F",
           "Ice Level",
           1
          ],
          [
           "Ava Luna",
           "Ice Level",
           "Ice Level",
           2
          ],
          [
           "Ava Luna",
           "Wrenning Day",
           "Ice Level",
           4
          ],
          [
           "Ava Luna",
           "Sequential Holdings",
           "Ice Level",
           5
          ],
          [
           "Ava Luna",
           "Down Right",
           "Ice Level",
           6
          ],
          [
           "Ava Luna",
           "Company",
           "Infinite House",
           1
          ],
          [
           "Ava Luna",
           "Tenderize",
           "Infinite House",
           2
          ],
          [
           "Ava Luna",
           "Steve Polyester",
           "Infinite House",
           3
          ],
          [
           "Ava Luna",
           "Roses and Cherries",
           "Infinite House",
           4
          ],
          [
           "Ava Luna",
           "Coat Of Shellac",
           "Infinite House",
           5
          ],
          [
           "Ava Luna",
           "Black Dog",
           "Infinite House",
           7
          ],
          [
           "Ava Luna",
           "Best Hexagon",
           "Infinite House",
           8
          ],
          [
           "Ava Luna",
           "Billz",
           "Infinite House",
           9
          ],
          [
           "Ava Luna",
           "Victoria",
           "Infinite House",
           10
          ],
          [
           "Ava Luna",
           "Carbon",
           "Infinite House",
           11
          ],
          [
           "Ava Luna",
           "Accessible",
           "Moon 2",
           1
          ],
          [
           "Ava Luna",
           "Centerline",
           "Moon 2",
           2
          ],
          [
           "Ava Luna",
           "Childish",
           "Moon 2",
           3
          ],
          [
           "Ava Luna",
           "Leaf",
           "Moon 2",
           4
          ],
          [
           "Ava Luna",
           "Mine",
           "Moon 2",
           5
          ],
          [
           "Ava Luna",
           "Moon 2",
           "Moon 2",
           6
          ],
          [
           "Ava Luna",
           "Deli Run",
           "Moon 2",
           7
          ],
          [
           "Ava Luna",
           "Set It Off",
           "Moon 2",
           8
          ],
          [
           "Ava Luna",
           "Walking with an Enemy",
           "Moon 2",
           9
          ],
          [
           "Ava Luna",
           "Unless",
           "Moon 2",
           10
          ],
          [
           "Ava Luna",
           "On Its Side the Fallen",
           "Moon 2",
           11
          ]
         ],
         "hovertemplate": "artist=%{customdata[0]}<br>PC1=%{x}<br>title=%{customdata[1]}<br>album=%{customdata[2]}<br>track_number=%{customdata[3]}<extra></extra>",
         "legendgroup": "Ava Luna",
         "marker": {
          "color": "#FFA15A",
          "symbol": "circle"
         },
         "name": "Ava Luna",
         "notched": true,
         "offsetgroup": "Ava Luna",
         "showlegend": false,
         "type": "box",
         "x": [
          -0.02045073819323903,
          -0.07779986635928027,
          -0.1291965800258953,
          -0.07001448570017327,
          -0.0417092107635575,
          0.014047241548968642,
          -0.09265512319848529,
          -0.023556773034634992,
          -0.05901974926341365,
          -0.0592322095322019,
          -0.03829840858300615,
          -0.021674689663710195,
          -0.07728523443397949,
          -0.04833423579457815,
          -0.05965458099553858,
          -0.06241337348012463,
          0.02335577883462146,
          -0.012691872819286684,
          -0.028904165065720373,
          -0.037275519065760175,
          -0.10669692394510304,
          0.10696102978185665,
          0.028742270824872088,
          -0.23232012921348028,
          -0.11398083608041928,
          -0.020272213359989515,
          0.006608951739160948,
          -0.12872127655889046,
          -0.09086628037452546,
          0.049282024150243416,
          0.13577199576063606,
          -0.029956974211468614,
          -0.020268414431133443,
          0.0007192532904685229,
          -0.06236247538090657,
          -0.011850878374972493,
          -0.07953588621274287
         ],
         "xaxis": "x2",
         "yaxis": "y2"
        },
        {
         "customdata": [
          [
           "CHVRCHES",
           "Never Ending Circles",
           "Every Open Eye",
           1
          ],
          [
           "CHVRCHES",
           "Leave a Trace",
           "Every Open Eye",
           2
          ],
          [
           "CHVRCHES",
           "Keep You On My Side",
           "Every Open Eye",
           3
          ],
          [
           "CHVRCHES",
           "Make Them Gold",
           "Every Open Eye",
           4
          ],
          [
           "CHVRCHES",
           "Clearest Blue",
           "Every Open Eye",
           5
          ],
          [
           "CHVRCHES",
           "High Enough to Carry You Over",
           "Every Open Eye",
           6
          ],
          [
           "CHVRCHES",
           "Empty Threat",
           "Every Open Eye",
           7
          ],
          [
           "CHVRCHES",
           "Down Side of Me",
           "Every Open Eye",
           8
          ],
          [
           "CHVRCHES",
           "Playing Dead",
           "Every Open Eye",
           9
          ],
          [
           "CHVRCHES",
           "Bury It",
           "Every Open Eye",
           10
          ],
          [
           "CHVRCHES",
           "Afterglow",
           "Every Open Eye",
           11
          ],
          [
           "CHVRCHES",
           "Graffiti",
           "Love Is Dead",
           1
          ],
          [
           "CHVRCHES",
           "Get Out",
           "Love Is Dead",
           2
          ],
          [
           "CHVRCHES",
           "Deliverance",
           "Love Is Dead",
           3
          ],
          [
           "CHVRCHES",
           "My Enemy",
           "Love Is Dead",
           4
          ],
          [
           "CHVRCHES",
           "Forever",
           "Love Is Dead",
           5
          ],
          [
           "CHVRCHES",
           "Never Say Die",
           "Love Is Dead",
           6
          ],
          [
           "CHVRCHES",
           "Miracle",
           "Love Is Dead",
           7
          ],
          [
           "CHVRCHES",
           "Graves",
           "Love Is Dead",
           8
          ],
          [
           "CHVRCHES",
           "Heaven/Hell",
           "Love Is Dead",
           9
          ],
          [
           "CHVRCHES",
           "God's Plan",
           "Love Is Dead",
           10
          ],
          [
           "CHVRCHES",
           "Really Gone",
           "Love Is Dead",
           11
          ],
          [
           "CHVRCHES",
           "ii",
           "Love Is Dead",
           12
          ],
          [
           "CHVRCHES",
           "Wonderland",
           "Love Is Dead",
           13
          ],
          [
           "CHVRCHES",
           "The Mother We Share",
           "The Bones of What You Believe (Special Edition)",
           1
          ],
          [
           "CHVRCHES",
           "We Sink",
           "The Bones of What You Believe (Special Edition)",
           2
          ],
          [
           "CHVRCHES",
           "Gun",
           "The Bones of What You Believe (Special Edition)",
           3
          ],
          [
           "CHVRCHES",
           "Tether",
           "The Bones of What You Believe (Special Edition)",
           4
          ],
          [
           "CHVRCHES",
           "Lies",
           "The Bones of What You Believe (Special Edition)",
           5
          ],
          [
           "CHVRCHES",
           "Under the Tide",
           "The Bones of What You Believe (Special Edition)",
           6
          ],
          [
           "CHVRCHES",
           "Recover",
           "The Bones of What You Believe (Special Edition)",
           7
          ],
          [
           "CHVRCHES",
           "Night Sky",
           "The Bones of What You Believe (Special Edition)",
           8
          ],
          [
           "CHVRCHES",
           "Science/Visions",
           "The Bones of What You Believe (Special Edition)",
           9
          ],
          [
           "CHVRCHES",
           "Lungs",
           "The Bones of What You Believe (Special Edition)",
           10
          ],
          [
           "CHVRCHES",
           "By the Throat",
           "The Bones of What You Believe (Special Edition)",
           11
          ],
          [
           "CHVRCHES",
           "You Caught the Light",
           "The Bones of What You Believe (Special Edition)",
           12
          ],
          [
           "CHVRCHES",
           "Strong Hand",
           "The Bones of What You Believe (Special Edition)",
           13
          ],
          [
           "CHVRCHES",
           "Broken Bones",
           "The Bones of What You Believe (Special Edition)",
           14
          ],
          [
           "CHVRCHES",
           "Gun - KDA Remix",
           "The Bones of What You Believe (Special Edition)",
           15
          ]
         ],
         "hovertemplate": "artist=%{customdata[0]}<br>PC1=%{x}<br>PC0=%{y}<br>title=%{customdata[1]}<br>album=%{customdata[2]}<br>track_number=%{customdata[3]}<extra></extra>",
         "legendgroup": "CHVRCHES",
         "marker": {
          "color": "#19d3f3",
          "symbol": "circle"
         },
         "mode": "markers",
         "name": "CHVRCHES",
         "orientation": "v",
         "showlegend": true,
         "type": "scatter",
         "x": [
          0.04103562422393689,
          -0.16452872967923046,
          -0.04972214098657087,
          -0.0723084303118775,
          -0.0616155164676607,
          -0.01547917899337383,
          -0.11025699733289429,
          -0.08303015195177757,
          -0.09141766325862213,
          -0.000026750602855673232,
          -0.023460425814695485,
          -0.12987956575001075,
          0.09503263995492564,
          -0.13900631759981405,
          -0.055061661325518645,
          -0.04548046672619224,
          -0.06163720146616794,
          -0.05048927911690635,
          -0.07857334980076033,
          -0.0330316160449276,
          -0.027916053934473134,
          0.015931680880056892,
          -0.1193104140745626,
          -0.131875514145094,
          -0.057480894819847556,
          -0.10379953587938998,
          -0.06552976667251403,
          0.0021618430589775786,
          -0.0017782524500307637,
          -0.02043162259431991,
          -0.13342635101608813,
          -0.00883983230835552,
          0.01045068287058985,
          -0.0837804951139817,
          -0.24121762149852488,
          -0.09707475470159901,
          -0.10353374276924711,
          -0.1275426471685628,
          -0.0034180959270909434
         ],
         "xaxis": "x",
         "y": [
          -0.30956792349637724,
          -0.19467218936305145,
          -0.04888277353047022,
          -0.04539321929924861,
          -0.045359162846594775,
          -0.004317167293227975,
          -0.0827923712391103,
          -0.07105653102257643,
          -0.18462858959097295,
          -0.004914687449138922,
          -0.021760076293720353,
          -0.0792972490104049,
          -0.31685917482825865,
          -0.10600098758134528,
          -0.20257978465062879,
          -0.02577375586409659,
          -0.08444017874619802,
          -0.06471172040422903,
          -0.09842984945009933,
          -0.06564561673474278,
          -0.03645007335855835,
          -0.1896663619880491,
          -0.02602585700529678,
          -0.09910953649269123,
          -0.04636453670775647,
          -0.05257764608071123,
          -0.070623667778438,
          -0.011995940053601377,
          -0.1628120279745187,
          -0.05675157391045522,
          -0.14129332695795005,
          -0.1863341604212129,
          -0.016838746711021296,
          -0.18298797164347075,
          -0.1323966609776091,
          -0.004071683610567141,
          -0.0761780799956501,
          -0.0733461355598386,
          -0.009527827749784458
         ],
         "yaxis": "y"
        },
        {
         "alignmentgroup": "True",
         "customdata": [
          [
           "CHVRCHES",
           "Never Ending Circles",
           "Every Open Eye",
           1
          ],
          [
           "CHVRCHES",
           "Leave a Trace",
           "Every Open Eye",
           2
          ],
          [
           "CHVRCHES",
           "Keep You On My Side",
           "Every Open Eye",
           3
          ],
          [
           "CHVRCHES",
           "Make Them Gold",
           "Every Open Eye",
           4
          ],
          [
           "CHVRCHES",
           "Clearest Blue",
           "Every Open Eye",
           5
          ],
          [
           "CHVRCHES",
           "High Enough to Carry You Over",
           "Every Open Eye",
           6
          ],
          [
           "CHVRCHES",
           "Empty Threat",
           "Every Open Eye",
           7
          ],
          [
           "CHVRCHES",
           "Down Side of Me",
           "Every Open Eye",
           8
          ],
          [
           "CHVRCHES",
           "Playing Dead",
           "Every Open Eye",
           9
          ],
          [
           "CHVRCHES",
           "Bury It",
           "Every Open Eye",
           10
          ],
          [
           "CHVRCHES",
           "Afterglow",
           "Every Open Eye",
           11
          ],
          [
           "CHVRCHES",
           "Graffiti",
           "Love Is Dead",
           1
          ],
          [
           "CHVRCHES",
           "Get Out",
           "Love Is Dead",
           2
          ],
          [
           "CHVRCHES",
           "Deliverance",
           "Love Is Dead",
           3
          ],
          [
           "CHVRCHES",
           "My Enemy",
           "Love Is Dead",
           4
          ],
          [
           "CHVRCHES",
           "Forever",
           "Love Is Dead",
           5
          ],
          [
           "CHVRCHES",
           "Never Say Die",
           "Love Is Dead",
           6
          ],
          [
           "CHVRCHES",
           "Miracle",
           "Love Is Dead",
           7
          ],
          [
           "CHVRCHES",
           "Graves",
           "Love Is Dead",
           8
          ],
          [
           "CHVRCHES",
           "Heaven/Hell",
           "Love Is Dead",
           9
          ],
          [
           "CHVRCHES",
           "God's Plan",
           "Love Is Dead",
           10
          ],
          [
           "CHVRCHES",
           "Really Gone",
           "Love Is Dead",
           11
          ],
          [
           "CHVRCHES",
           "ii",
           "Love Is Dead",
           12
          ],
          [
           "CHVRCHES",
           "Wonderland",
           "Love Is Dead",
           13
          ],
          [
           "CHVRCHES",
           "The Mother We Share",
           "The Bones of What You Believe (Special Edition)",
           1
          ],
          [
           "CHVRCHES",
           "We Sink",
           "The Bones of What You Believe (Special Edition)",
           2
          ],
          [
           "CHVRCHES",
           "Gun",
           "The Bones of What You Believe (Special Edition)",
           3
          ],
          [
           "CHVRCHES",
           "Tether",
           "The Bones of What You Believe (Special Edition)",
           4
          ],
          [
           "CHVRCHES",
           "Lies",
           "The Bones of What You Believe (Special Edition)",
           5
          ],
          [
           "CHVRCHES",
           "Under the Tide",
           "The Bones of What You Believe (Special Edition)",
           6
          ],
          [
           "CHVRCHES",
           "Recover",
           "The Bones of What You Believe (Special Edition)",
           7
          ],
          [
           "CHVRCHES",
           "Night Sky",
           "The Bones of What You Believe (Special Edition)",
           8
          ],
          [
           "CHVRCHES",
           "Science/Visions",
           "The Bones of What You Believe (Special Edition)",
           9
          ],
          [
           "CHVRCHES",
           "Lungs",
           "The Bones of What You Believe (Special Edition)",
           10
          ],
          [
           "CHVRCHES",
           "By the Throat",
           "The Bones of What You Believe (Special Edition)",
           11
          ],
          [
           "CHVRCHES",
           "You Caught the Light",
           "The Bones of What You Believe (Special Edition)",
           12
          ],
          [
           "CHVRCHES",
           "Strong Hand",
           "The Bones of What You Believe (Special Edition)",
           13
          ],
          [
           "CHVRCHES",
           "Broken Bones",
           "The Bones of What You Believe (Special Edition)",
           14
          ],
          [
           "CHVRCHES",
           "Gun - KDA Remix",
           "The Bones of What You Believe (Special Edition)",
           15
          ]
         ],
         "hovertemplate": "artist=%{customdata[0]}<br>PC1=%{x}<br>title=%{customdata[1]}<br>album=%{customdata[2]}<br>track_number=%{customdata[3]}<extra></extra>",
         "legendgroup": "CHVRCHES",
         "marker": {
          "color": "#19d3f3",
          "symbol": "circle"
         },
         "name": "CHVRCHES",
         "notched": true,
         "offsetgroup": "CHVRCHES",
         "showlegend": false,
         "type": "box",
         "x": [
          0.04103562422393689,
          -0.16452872967923046,
          -0.04972214098657087,
          -0.0723084303118775,
          -0.0616155164676607,
          -0.01547917899337383,
          -0.11025699733289429,
          -0.08303015195177757,
          -0.09141766325862213,
          -0.000026750602855673232,
          -0.023460425814695485,
          -0.12987956575001075,
          0.09503263995492564,
          -0.13900631759981405,
          -0.055061661325518645,
          -0.04548046672619224,
          -0.06163720146616794,
          -0.05048927911690635,
          -0.07857334980076033,
          -0.0330316160449276,
          -0.027916053934473134,
          0.015931680880056892,
          -0.1193104140745626,
          -0.131875514145094,
          -0.057480894819847556,
          -0.10379953587938998,
          -0.06552976667251403,
          0.0021618430589775786,
          -0.0017782524500307637,
          -0.02043162259431991,
          -0.13342635101608813,
          -0.00883983230835552,
          0.01045068287058985,
          -0.0837804951139817,
          -0.24121762149852488,
          -0.09707475470159901,
          -0.10353374276924711,
          -0.1275426471685628,
          -0.0034180959270909434
         ],
         "xaxis": "x2",
         "yaxis": "y2"
        },
        {
         "customdata": [
          [
           "Ethel Cain",
           "Sunday Morning",
           "Golden Age",
           1
          ],
          [
           "Ethel Cain",
           "Casings",
           "Golden Age",
           2
          ],
          [
           "Ethel Cain",
           "Lilies",
           "Golden Age",
           3
          ],
          [
           "Ethel Cain",
           "Head in the Wall",
           "Golden Age",
           4
          ],
          [
           "Ethel Cain",
           "Knuckle Velvet",
           "Golden Age",
           5
          ],
          [
           "Ethel Cain",
           "Golden Age",
           "Golden Age",
           6
          ],
          [
           "Ethel Cain",
           "Crush",
           "Inbred",
           2
          ],
          [
           "Ethel Cain",
           "Unpunishable",
           "Inbred",
           4
          ],
          [
           "Ethel Cain",
           "Inbred",
           "Inbred",
           5
          ],
          [
           "Ethel Cain",
           "Two-Headed Mother",
           "Inbred",
           6
          ],
          [
           "Ethel Cain",
           "Family Tree (Intro)",
           "Preacher’s Daughter",
           1
          ],
          [
           "Ethel Cain",
           "American Teenager",
           "Preacher’s Daughter",
           2
          ],
          [
           "Ethel Cain",
           "A House In Nebraska",
           "Preacher’s Daughter",
           3
          ],
          [
           "Ethel Cain",
           "Western Nights",
           "Preacher’s Daughter",
           4
          ],
          [
           "Ethel Cain",
           "Family Tree",
           "Preacher’s Daughter",
           5
          ],
          [
           "Ethel Cain",
           "Hard Times",
           "Preacher’s Daughter",
           6
          ],
          [
           "Ethel Cain",
           "Thoroughfare",
           "Preacher’s Daughter",
           7
          ],
          [
           "Ethel Cain",
           "Gibson Girl",
           "Preacher’s Daughter",
           8
          ],
          [
           "Ethel Cain",
           "Ptolemaea",
           "Preacher’s Daughter",
           9
          ],
          [
           "Ethel Cain",
           "Sun Bleached Flies",
           "Preacher’s Daughter",
           12
          ],
          [
           "Ethel Cain",
           "Strangers",
           "Preacher’s Daughter",
           13
          ]
         ],
         "hovertemplate": "artist=%{customdata[0]}<br>PC1=%{x}<br>PC0=%{y}<br>title=%{customdata[1]}<br>album=%{customdata[2]}<br>track_number=%{customdata[3]}<extra></extra>",
         "legendgroup": "Ethel Cain",
         "marker": {
          "color": "#FF6692",
          "symbol": "circle"
         },
         "mode": "markers",
         "name": "Ethel Cain",
         "orientation": "v",
         "showlegend": true,
         "type": "scatter",
         "x": [
          -0.05553233585762586,
          -0.2682720265327129,
          -0.07965866606846825,
          -0.18571467141166187,
          -0.2464742383347917,
          -0.13828452396215526,
          -0.1598985231449545,
          -0.11323973201903685,
          -0.11711804965813352,
          -0.40186977533240864,
          -0.012877731758395149,
          0.007604481481159983,
          -0.135247654929655,
          -0.19606909523001947,
          -0.04254969707183612,
          -0.09783955125011629,
          -0.24609324794392773,
          -0.3152408733322965,
          -0.29803333429240997,
          -0.07946218924457488,
          -0.11840033333918257
         ],
         "xaxis": "x",
         "y": [
          -0.08574621888688519,
          -0.33243654956948665,
          -0.3713283414230405,
          -0.22472528044493323,
          -0.13486841460603355,
          -0.17241223209084183,
          -0.1449865777403147,
          -0.17810587894380991,
          -0.17526520744686566,
          -0.24966643108686395,
          -0.013962438255288954,
          -0.28667440460616156,
          -0.12395924930324627,
          -0.1635513375180992,
          -0.04961589227271649,
          -0.08162197802824006,
          -0.1593598663001216,
          -0.38198951364360667,
          -0.18213155775790016,
          -0.08794556909725375,
          -0.10572065929055068
         ],
         "yaxis": "y"
        },
        {
         "alignmentgroup": "True",
         "customdata": [
          [
           "Ethel Cain",
           "Sunday Morning",
           "Golden Age",
           1
          ],
          [
           "Ethel Cain",
           "Casings",
           "Golden Age",
           2
          ],
          [
           "Ethel Cain",
           "Lilies",
           "Golden Age",
           3
          ],
          [
           "Ethel Cain",
           "Head in the Wall",
           "Golden Age",
           4
          ],
          [
           "Ethel Cain",
           "Knuckle Velvet",
           "Golden Age",
           5
          ],
          [
           "Ethel Cain",
           "Golden Age",
           "Golden Age",
           6
          ],
          [
           "Ethel Cain",
           "Crush",
           "Inbred",
           2
          ],
          [
           "Ethel Cain",
           "Unpunishable",
           "Inbred",
           4
          ],
          [
           "Ethel Cain",
           "Inbred",
           "Inbred",
           5
          ],
          [
           "Ethel Cain",
           "Two-Headed Mother",
           "Inbred",
           6
          ],
          [
           "Ethel Cain",
           "Family Tree (Intro)",
           "Preacher’s Daughter",
           1
          ],
          [
           "Ethel Cain",
           "American Teenager",
           "Preacher’s Daughter",
           2
          ],
          [
           "Ethel Cain",
           "A House In Nebraska",
           "Preacher’s Daughter",
           3
          ],
          [
           "Ethel Cain",
           "Western Nights",
           "Preacher’s Daughter",
           4
          ],
          [
           "Ethel Cain",
           "Family Tree",
           "Preacher’s Daughter",
           5
          ],
          [
           "Ethel Cain",
           "Hard Times",
           "Preacher’s Daughter",
           6
          ],
          [
           "Ethel Cain",
           "Thoroughfare",
           "Preacher’s Daughter",
           7
          ],
          [
           "Ethel Cain",
           "Gibson Girl",
           "Preacher’s Daughter",
           8
          ],
          [
           "Ethel Cain",
           "Ptolemaea",
           "Preacher’s Daughter",
           9
          ],
          [
           "Ethel Cain",
           "Sun Bleached Flies",
           "Preacher’s Daughter",
           12
          ],
          [
           "Ethel Cain",
           "Strangers",
           "Preacher’s Daughter",
           13
          ]
         ],
         "hovertemplate": "artist=%{customdata[0]}<br>PC1=%{x}<br>title=%{customdata[1]}<br>album=%{customdata[2]}<br>track_number=%{customdata[3]}<extra></extra>",
         "legendgroup": "Ethel Cain",
         "marker": {
          "color": "#FF6692",
          "symbol": "circle"
         },
         "name": "Ethel Cain",
         "notched": true,
         "offsetgroup": "Ethel Cain",
         "showlegend": false,
         "type": "box",
         "x": [
          -0.05553233585762586,
          -0.2682720265327129,
          -0.07965866606846825,
          -0.18571467141166187,
          -0.2464742383347917,
          -0.13828452396215526,
          -0.1598985231449545,
          -0.11323973201903685,
          -0.11711804965813352,
          -0.40186977533240864,
          -0.012877731758395149,
          0.007604481481159983,
          -0.135247654929655,
          -0.19606909523001947,
          -0.04254969707183612,
          -0.09783955125011629,
          -0.24609324794392773,
          -0.3152408733322965,
          -0.29803333429240997,
          -0.07946218924457488,
          -0.11840033333918257
         ],
         "xaxis": "x2",
         "yaxis": "y2"
        },
        {
         "customdata": [
          [
           "Pure Bathing Culture",
           "Pendulum",
           "Moon Tides",
           1
          ],
          [
           "Pure Bathing Culture",
           "Dream the Dare",
           "Moon Tides",
           2
          ],
          [
           "Pure Bathing Culture",
           "Evergreener",
           "Moon Tides",
           3
          ],
          [
           "Pure Bathing Culture",
           "Twins",
           "Moon Tides",
           4
          ],
          [
           "Pure Bathing Culture",
           "Only Lonely Lovers",
           "Moon Tides",
           5
          ],
          [
           "Pure Bathing Culture",
           "Scotty",
           "Moon Tides",
           6
          ],
          [
           "Pure Bathing Culture",
           "Temples of the Moon",
           "Moon Tides",
           9
          ],
          [
           "Pure Bathing Culture",
           "Thin Growing Thing",
           "Night Pass",
           1
          ],
          [
           "Pure Bathing Culture",
           "Devotion",
           "Night Pass",
           2
          ],
          [
           "Pure Bathing Culture",
           "Veil",
           "Night Pass",
           3
          ],
          [
           "Pure Bathing Culture",
           "Black Starling",
           "Night Pass",
           4
          ],
          [
           "Pure Bathing Culture",
           "Ad Victoriam",
           "Night Pass",
           5
          ],
          [
           "Pure Bathing Culture",
           "All Night",
           "Night Pass",
           6
          ],
          [
           "Pure Bathing Culture",
           "Moonrise",
           "Night Pass",
           7
          ],
          [
           "Pure Bathing Culture",
           "Remember",
           "Night Pass",
           8
          ],
          [
           "Pure Bathing Culture",
           "Joyous Lake",
           "Night Pass",
           9
          ],
          [
           "Pure Bathing Culture",
           "Violet a Voyager",
           "Night Pass",
           10
          ],
          [
           "Pure Bathing Culture",
           "The Tower",
           "Pray for Rain",
           1
          ],
          [
           "Pure Bathing Culture",
           "Pray for Rain",
           "Pray for Rain",
           2
          ],
          [
           "Pure Bathing Culture",
           "Palest Pearl",
           "Pray for Rain",
           3
          ],
          [
           "Pure Bathing Culture",
           "Clover",
           "Pray for Rain",
           4
          ],
          [
           "Pure Bathing Culture",
           "Darling, Save Us",
           "Pray for Rain",
           5
          ],
          [
           "Pure Bathing Culture",
           "Singer",
           "Pray for Rain",
           6
          ],
          [
           "Pure Bathing Culture",
           "She Shakes",
           "Pray for Rain",
           7
          ],
          [
           "Pure Bathing Culture",
           "Maximilian's Ring",
           "Pray for Rain",
           8
          ],
          [
           "Pure Bathing Culture",
           "I Trace Your Symbol",
           "Pray for Rain",
           9
          ],
          [
           "Pure Bathing Culture",
           "In the Night, in the Peaceful Night",
           "Pray for Rain",
           10
          ]
         ],
         "hovertemplate": "artist=%{customdata[0]}<br>PC1=%{x}<br>PC0=%{y}<br>title=%{customdata[1]}<br>album=%{customdata[2]}<br>track_number=%{customdata[3]}<extra></extra>",
         "legendgroup": "Pure Bathing Culture",
         "marker": {
          "color": "#B6E880",
          "symbol": "circle"
         },
         "mode": "markers",
         "name": "Pure Bathing Culture",
         "orientation": "v",
         "showlegend": true,
         "type": "scatter",
         "x": [
          -0.1543533737042191,
          -0.005344485998952195,
          -0.043471172818797026,
          -0.00007877361852432277,
          -0.06380617934321214,
          -0.05063921104073035,
          0.011247159510410956,
          -0.10612322197986856,
          0.01827553142343611,
          -0.19900565430487593,
          -0.022388466649100554,
          -0.0015589534720701435,
          -0.0025176679856821205,
          0.010663840248692186,
          0.052789439322962754,
          -0.00524806825360545,
          -0.0017751895669238535,
          -0.04044549004595661,
          -0.03464920564526645,
          0.11342386246795585,
          0.003456601771393123,
          -0.06374118015040402,
          0.012216469878235795,
          -0.009017766271765261,
          0.0023175098438875516,
          -0.009240912138642525,
          -0.0009712114442648877
         ],
         "xaxis": "x",
         "y": [
          -0.07742602076663416,
          -0.29131107028926834,
          0.00051417993286284,
          0.004992252155085242,
          -0.004478933983120553,
          -0.02333155504999214,
          0.0142696000318294,
          -0.12102648179465589,
          0.012631856330820621,
          -0.08811541568904568,
          0.0135603719327427,
          0.04426854203690136,
          0.036965968622854915,
          -0.08917021767520633,
          -0.17426445868659568,
          0.010030618942108018,
          0.014450129342506973,
          -0.07064986134362758,
          -0.008481433887692354,
          -0.22899208282994715,
          0.03125670129580944,
          -0.0923614266783704,
          0.03532695410330049,
          -0.0062509204983150855,
          -0.00741240273927951,
          -0.02526756247220498,
          -0.016025353959987717
         ],
         "yaxis": "y"
        },
        {
         "alignmentgroup": "True",
         "customdata": [
          [
           "Pure Bathing Culture",
           "Pendulum",
           "Moon Tides",
           1
          ],
          [
           "Pure Bathing Culture",
           "Dream the Dare",
           "Moon Tides",
           2
          ],
          [
           "Pure Bathing Culture",
           "Evergreener",
           "Moon Tides",
           3
          ],
          [
           "Pure Bathing Culture",
           "Twins",
           "Moon Tides",
           4
          ],
          [
           "Pure Bathing Culture",
           "Only Lonely Lovers",
           "Moon Tides",
           5
          ],
          [
           "Pure Bathing Culture",
           "Scotty",
           "Moon Tides",
           6
          ],
          [
           "Pure Bathing Culture",
           "Temples of the Moon",
           "Moon Tides",
           9
          ],
          [
           "Pure Bathing Culture",
           "Thin Growing Thing",
           "Night Pass",
           1
          ],
          [
           "Pure Bathing Culture",
           "Devotion",
           "Night Pass",
           2
          ],
          [
           "Pure Bathing Culture",
           "Veil",
           "Night Pass",
           3
          ],
          [
           "Pure Bathing Culture",
           "Black Starling",
           "Night Pass",
           4
          ],
          [
           "Pure Bathing Culture",
           "Ad Victoriam",
           "Night Pass",
           5
          ],
          [
           "Pure Bathing Culture",
           "All Night",
           "Night Pass",
           6
          ],
          [
           "Pure Bathing Culture",
           "Moonrise",
           "Night Pass",
           7
          ],
          [
           "Pure Bathing Culture",
           "Remember",
           "Night Pass",
           8
          ],
          [
           "Pure Bathing Culture",
           "Joyous Lake",
           "Night Pass",
           9
          ],
          [
           "Pure Bathing Culture",
           "Violet a Voyager",
           "Night Pass",
           10
          ],
          [
           "Pure Bathing Culture",
           "The Tower",
           "Pray for Rain",
           1
          ],
          [
           "Pure Bathing Culture",
           "Pray for Rain",
           "Pray for Rain",
           2
          ],
          [
           "Pure Bathing Culture",
           "Palest Pearl",
           "Pray for Rain",
           3
          ],
          [
           "Pure Bathing Culture",
           "Clover",
           "Pray for Rain",
           4
          ],
          [
           "Pure Bathing Culture",
           "Darling, Save Us",
           "Pray for Rain",
           5
          ],
          [
           "Pure Bathing Culture",
           "Singer",
           "Pray for Rain",
           6
          ],
          [
           "Pure Bathing Culture",
           "She Shakes",
           "Pray for Rain",
           7
          ],
          [
           "Pure Bathing Culture",
           "Maximilian's Ring",
           "Pray for Rain",
           8
          ],
          [
           "Pure Bathing Culture",
           "I Trace Your Symbol",
           "Pray for Rain",
           9
          ],
          [
           "Pure Bathing Culture",
           "In the Night, in the Peaceful Night",
           "Pray for Rain",
           10
          ]
         ],
         "hovertemplate": "artist=%{customdata[0]}<br>PC1=%{x}<br>title=%{customdata[1]}<br>album=%{customdata[2]}<br>track_number=%{customdata[3]}<extra></extra>",
         "legendgroup": "Pure Bathing Culture",
         "marker": {
          "color": "#B6E880",
          "symbol": "circle"
         },
         "name": "Pure Bathing Culture",
         "notched": true,
         "offsetgroup": "Pure Bathing Culture",
         "showlegend": false,
         "type": "box",
         "x": [
          -0.1543533737042191,
          -0.005344485998952195,
          -0.043471172818797026,
          -0.00007877361852432277,
          -0.06380617934321214,
          -0.05063921104073035,
          0.011247159510410956,
          -0.10612322197986856,
          0.01827553142343611,
          -0.19900565430487593,
          -0.022388466649100554,
          -0.0015589534720701435,
          -0.0025176679856821205,
          0.010663840248692186,
          0.052789439322962754,
          -0.00524806825360545,
          -0.0017751895669238535,
          -0.04044549004595661,
          -0.03464920564526645,
          0.11342386246795585,
          0.003456601771393123,
          -0.06374118015040402,
          0.012216469878235795,
          -0.009017766271765261,
          0.0023175098438875516,
          -0.009240912138642525,
          -0.0009712114442648877
         ],
         "xaxis": "x2",
         "yaxis": "y2"
        },
        {
         "customdata": [
          [
           "Holychild",
           "Barbie Nation",
           "The Shape of Brat Pop to Come",
           1
          ],
          [
           "Holychild",
           "Nasty Girls",
           "The Shape of Brat Pop to Come",
           2
          ],
          [
           "Holychild",
           "Happy With Me",
           "The Shape of Brat Pop to Come",
           3
          ],
          [
           "Holychild",
           "Tell Me How It Is",
           "The Shape of Brat Pop to Come",
           4
          ],
          [
           "Holychild",
           "Running Behind",
           "The Shape of Brat Pop to Come",
           5
          ],
          [
           "Holychild",
           "Money All Around",
           "The Shape of Brat Pop to Come",
           6
          ],
          [
           "Holychild",
           "Monumental Glow",
           "The Shape of Brat Pop to Come",
           7
          ],
          [
           "Holychild",
           "Plastered Smile",
           "The Shape of Brat Pop to Come",
           8
          ],
          [
           "Holychild",
           "Best Friends",
           "The Shape of Brat Pop to Come",
           9
          ],
          [
           "Holychild",
           "Diamonds On the Rebound",
           "The Shape of Brat Pop to Come",
           10
          ],
          [
           "Holychild",
           "Regret You",
           "The Shape of Brat Pop to Come",
           11
          ],
          [
           "Holychild",
           "U Make Me Sick",
           "The Shape of Brat Pop to Come",
           12
          ],
          [
           "Holychild",
           "Over You",
           "The Theatrical Death of Julie Delicious",
           1
          ],
          [
           "Holychild",
           "Number One",
           "The Theatrical Death of Julie Delicious",
           2
          ],
          [
           "Holychild",
           "Hundred Thousand Hearts",
           "The Theatrical Death of Julie Delicious",
           3
          ],
          [
           "Holychild",
           "Raining Romance",
           "The Theatrical Death of Julie Delicious",
           4
          ],
          [
           "Holychild",
           "Haunt Me In The Night",
           "The Theatrical Death of Julie Delicious",
           5
          ],
          [
           "Holychild",
           "Carmelo",
           "The Theatrical Death of Julie Delicious",
           6
          ],
          [
           "Holychild",
           "Fight For Me",
           "The Theatrical Death of Julie Delicious",
           7
          ],
          [
           "Holychild",
           "Patron Saint",
           "The Theatrical Death of Julie Delicious",
           8
          ],
          [
           "Holychild",
           "Saturday",
           "The Theatrical Death of Julie Delicious",
           9
          ],
          [
           "Holychild",
           "Wishing You Away",
           "The Theatrical Death of Julie Delicious",
           10
          ]
         ],
         "hovertemplate": "artist=%{customdata[0]}<br>PC1=%{x}<br>PC0=%{y}<br>title=%{customdata[1]}<br>album=%{customdata[2]}<br>track_number=%{customdata[3]}<extra></extra>",
         "legendgroup": "Holychild",
         "marker": {
          "color": "#FF97FF",
          "symbol": "circle"
         },
         "mode": "markers",
         "name": "Holychild",
         "orientation": "v",
         "showlegend": true,
         "type": "scatter",
         "x": [
          -0.1681654983213713,
          -0.14225063638799645,
          0.003957323674098481,
          -0.14678959413455836,
          0.0055352336064351925,
          -0.10159062817149281,
          -0.14951715224028986,
          -0.10280416677604477,
          -0.06247148647582734,
          -0.030031669953854142,
          -0.1858176946138661,
          -0.13691285391238844,
          -0.09361394606237984,
          -0.1000571998275845,
          -0.31639750140112916,
          -0.22817116083967487,
          -0.4288307274642527,
          -0.03449900650715901,
          -0.11887279107722142,
          -0.08862239355041616,
          -0.183159494008741,
          -0.00003059802203690502
         ],
         "xaxis": "x",
         "y": [
          -0.1051419823837815,
          -0.144332745267111,
          -0.025459254776607328,
          -0.14848932712552687,
          -0.012975327770805617,
          -0.10252407661217547,
          -0.09640962664110142,
          -0.0568754442539966,
          -0.12471758493744221,
          -0.028583786715106245,
          -0.11059797732196963,
          -0.13964269891342462,
          -0.16778783562215444,
          -0.0980644533682796,
          -0.3010181914050921,
          -0.2304752753489357,
          -0.3115195827513795,
          -0.1145392044276983,
          -0.10874838348266416,
          -0.23952521043587893,
          -0.11886730413595831,
          -0.03425680829645595
         ],
         "yaxis": "y"
        },
        {
         "alignmentgroup": "True",
         "customdata": [
          [
           "Holychild",
           "Barbie Nation",
           "The Shape of Brat Pop to Come",
           1
          ],
          [
           "Holychild",
           "Nasty Girls",
           "The Shape of Brat Pop to Come",
           2
          ],
          [
           "Holychild",
           "Happy With Me",
           "The Shape of Brat Pop to Come",
           3
          ],
          [
           "Holychild",
           "Tell Me How It Is",
           "The Shape of Brat Pop to Come",
           4
          ],
          [
           "Holychild",
           "Running Behind",
           "The Shape of Brat Pop to Come",
           5
          ],
          [
           "Holychild",
           "Money All Around",
           "The Shape of Brat Pop to Come",
           6
          ],
          [
           "Holychild",
           "Monumental Glow",
           "The Shape of Brat Pop to Come",
           7
          ],
          [
           "Holychild",
           "Plastered Smile",
           "The Shape of Brat Pop to Come",
           8
          ],
          [
           "Holychild",
           "Best Friends",
           "The Shape of Brat Pop to Come",
           9
          ],
          [
           "Holychild",
           "Diamonds On the Rebound",
           "The Shape of Brat Pop to Come",
           10
          ],
          [
           "Holychild",
           "Regret You",
           "The Shape of Brat Pop to Come",
           11
          ],
          [
           "Holychild",
           "U Make Me Sick",
           "The Shape of Brat Pop to Come",
           12
          ],
          [
           "Holychild",
           "Over You",
           "The Theatrical Death of Julie Delicious",
           1
          ],
          [
           "Holychild",
           "Number One",
           "The Theatrical Death of Julie Delicious",
           2
          ],
          [
           "Holychild",
           "Hundred Thousand Hearts",
           "The Theatrical Death of Julie Delicious",
           3
          ],
          [
           "Holychild",
           "Raining Romance",
           "The Theatrical Death of Julie Delicious",
           4
          ],
          [
           "Holychild",
           "Haunt Me In The Night",
           "The Theatrical Death of Julie Delicious",
           5
          ],
          [
           "Holychild",
           "Carmelo",
           "The Theatrical Death of Julie Delicious",
           6
          ],
          [
           "Holychild",
           "Fight For Me",
           "The Theatrical Death of Julie Delicious",
           7
          ],
          [
           "Holychild",
           "Patron Saint",
           "The Theatrical Death of Julie Delicious",
           8
          ],
          [
           "Holychild",
           "Saturday",
           "The Theatrical Death of Julie Delicious",
           9
          ],
          [
           "Holychild",
           "Wishing You Away",
           "The Theatrical Death of Julie Delicious",
           10
          ]
         ],
         "hovertemplate": "artist=%{customdata[0]}<br>PC1=%{x}<br>title=%{customdata[1]}<br>album=%{customdata[2]}<br>track_number=%{customdata[3]}<extra></extra>",
         "legendgroup": "Holychild",
         "marker": {
          "color": "#FF97FF",
          "symbol": "circle"
         },
         "name": "Holychild",
         "notched": true,
         "offsetgroup": "Holychild",
         "showlegend": false,
         "type": "box",
         "x": [
          -0.1681654983213713,
          -0.14225063638799645,
          0.003957323674098481,
          -0.14678959413455836,
          0.0055352336064351925,
          -0.10159062817149281,
          -0.14951715224028986,
          -0.10280416677604477,
          -0.06247148647582734,
          -0.030031669953854142,
          -0.1858176946138661,
          -0.13691285391238844,
          -0.09361394606237984,
          -0.1000571998275845,
          -0.31639750140112916,
          -0.22817116083967487,
          -0.4288307274642527,
          -0.03449900650715901,
          -0.11887279107722142,
          -0.08862239355041616,
          -0.183159494008741,
          -0.00003059802203690502
         ],
         "xaxis": "x2",
         "yaxis": "y2"
        }
       ],
       "layout": {
        "height": 800,
        "legend": {
         "title": {
          "text": "artist"
         },
         "tracegroupgap": 0
        },
        "margin": {
         "t": 60
        },
        "template": {
         "data": {
          "bar": [
           {
            "error_x": {
             "color": "#2a3f5f"
            },
            "error_y": {
             "color": "#2a3f5f"
            },
            "marker": {
             "line": {
              "color": "#E5ECF6",
              "width": 0.5
             },
             "pattern": {
              "fillmode": "overlay",
              "size": 10,
              "solidity": 0.2
             }
            },
            "type": "bar"
           }
          ],
          "barpolar": [
           {
            "marker": {
             "line": {
              "color": "#E5ECF6",
              "width": 0.5
             },
             "pattern": {
              "fillmode": "overlay",
              "size": 10,
              "solidity": 0.2
             }
            },
            "type": "barpolar"
           }
          ],
          "carpet": [
           {
            "aaxis": {
             "endlinecolor": "#2a3f5f",
             "gridcolor": "white",
             "linecolor": "white",
             "minorgridcolor": "white",
             "startlinecolor": "#2a3f5f"
            },
            "baxis": {
             "endlinecolor": "#2a3f5f",
             "gridcolor": "white",
             "linecolor": "white",
             "minorgridcolor": "white",
             "startlinecolor": "#2a3f5f"
            },
            "type": "carpet"
           }
          ],
          "choropleth": [
           {
            "colorbar": {
             "outlinewidth": 0,
             "ticks": ""
            },
            "type": "choropleth"
           }
          ],
          "contour": [
           {
            "colorbar": {
             "outlinewidth": 0,
             "ticks": ""
            },
            "colorscale": [
             [
              0,
              "#0d0887"
             ],
             [
              0.1111111111111111,
              "#46039f"
             ],
             [
              0.2222222222222222,
              "#7201a8"
             ],
             [
              0.3333333333333333,
              "#9c179e"
             ],
             [
              0.4444444444444444,
              "#bd3786"
             ],
             [
              0.5555555555555556,
              "#d8576b"
             ],
             [
              0.6666666666666666,
              "#ed7953"
             ],
             [
              0.7777777777777778,
              "#fb9f3a"
             ],
             [
              0.8888888888888888,
              "#fdca26"
             ],
             [
              1,
              "#f0f921"
             ]
            ],
            "type": "contour"
           }
          ],
          "contourcarpet": [
           {
            "colorbar": {
             "outlinewidth": 0,
             "ticks": ""
            },
            "type": "contourcarpet"
           }
          ],
          "heatmap": [
           {
            "colorbar": {
             "outlinewidth": 0,
             "ticks": ""
            },
            "colorscale": [
             [
              0,
              "#0d0887"
             ],
             [
              0.1111111111111111,
              "#46039f"
             ],
             [
              0.2222222222222222,
              "#7201a8"
             ],
             [
              0.3333333333333333,
              "#9c179e"
             ],
             [
              0.4444444444444444,
              "#bd3786"
             ],
             [
              0.5555555555555556,
              "#d8576b"
             ],
             [
              0.6666666666666666,
              "#ed7953"
             ],
             [
              0.7777777777777778,
              "#fb9f3a"
             ],
             [
              0.8888888888888888,
              "#fdca26"
             ],
             [
              1,
              "#f0f921"
             ]
            ],
            "type": "heatmap"
           }
          ],
          "heatmapgl": [
           {
            "colorbar": {
             "outlinewidth": 0,
             "ticks": ""
            },
            "colorscale": [
             [
              0,
              "#0d0887"
             ],
             [
              0.1111111111111111,
              "#46039f"
             ],
             [
              0.2222222222222222,
              "#7201a8"
             ],
             [
              0.3333333333333333,
              "#9c179e"
             ],
             [
              0.4444444444444444,
              "#bd3786"
             ],
             [
              0.5555555555555556,
              "#d8576b"
             ],
             [
              0.6666666666666666,
              "#ed7953"
             ],
             [
              0.7777777777777778,
              "#fb9f3a"
             ],
             [
              0.8888888888888888,
              "#fdca26"
             ],
             [
              1,
              "#f0f921"
             ]
            ],
            "type": "heatmapgl"
           }
          ],
          "histogram": [
           {
            "marker": {
             "pattern": {
              "fillmode": "overlay",
              "size": 10,
              "solidity": 0.2
             }
            },
            "type": "histogram"
           }
          ],
          "histogram2d": [
           {
            "colorbar": {
             "outlinewidth": 0,
             "ticks": ""
            },
            "colorscale": [
             [
              0,
              "#0d0887"
             ],
             [
              0.1111111111111111,
              "#46039f"
             ],
             [
              0.2222222222222222,
              "#7201a8"
             ],
             [
              0.3333333333333333,
              "#9c179e"
             ],
             [
              0.4444444444444444,
              "#bd3786"
             ],
             [
              0.5555555555555556,
              "#d8576b"
             ],
             [
              0.6666666666666666,
              "#ed7953"
             ],
             [
              0.7777777777777778,
              "#fb9f3a"
             ],
             [
              0.8888888888888888,
              "#fdca26"
             ],
             [
              1,
              "#f0f921"
             ]
            ],
            "type": "histogram2d"
           }
          ],
          "histogram2dcontour": [
           {
            "colorbar": {
             "outlinewidth": 0,
             "ticks": ""
            },
            "colorscale": [
             [
              0,
              "#0d0887"
             ],
             [
              0.1111111111111111,
              "#46039f"
             ],
             [
              0.2222222222222222,
              "#7201a8"
             ],
             [
              0.3333333333333333,
              "#9c179e"
             ],
             [
              0.4444444444444444,
              "#bd3786"
             ],
             [
              0.5555555555555556,
              "#d8576b"
             ],
             [
              0.6666666666666666,
              "#ed7953"
             ],
             [
              0.7777777777777778,
              "#fb9f3a"
             ],
             [
              0.8888888888888888,
              "#fdca26"
             ],
             [
              1,
              "#f0f921"
             ]
            ],
            "type": "histogram2dcontour"
           }
          ],
          "mesh3d": [
           {
            "colorbar": {
             "outlinewidth": 0,
             "ticks": ""
            },
            "type": "mesh3d"
           }
          ],
          "parcoords": [
           {
            "line": {
             "colorbar": {
              "outlinewidth": 0,
              "ticks": ""
             }
            },
            "type": "parcoords"
           }
          ],
          "pie": [
           {
            "automargin": true,
            "type": "pie"
           }
          ],
          "scatter": [
           {
            "fillpattern": {
             "fillmode": "overlay",
             "size": 10,
             "solidity": 0.2
            },
            "type": "scatter"
           }
          ],
          "scatter3d": [
           {
            "line": {
             "colorbar": {
              "outlinewidth": 0,
              "ticks": ""
             }
            },
            "marker": {
             "colorbar": {
              "outlinewidth": 0,
              "ticks": ""
             }
            },
            "type": "scatter3d"
           }
          ],
          "scattercarpet": [
           {
            "marker": {
             "colorbar": {
              "outlinewidth": 0,
              "ticks": ""
             }
            },
            "type": "scattercarpet"
           }
          ],
          "scattergeo": [
           {
            "marker": {
             "colorbar": {
              "outlinewidth": 0,
              "ticks": ""
             }
            },
            "type": "scattergeo"
           }
          ],
          "scattergl": [
           {
            "marker": {
             "colorbar": {
              "outlinewidth": 0,
              "ticks": ""
             }
            },
            "type": "scattergl"
           }
          ],
          "scattermapbox": [
           {
            "marker": {
             "colorbar": {
              "outlinewidth": 0,
              "ticks": ""
             }
            },
            "type": "scattermapbox"
           }
          ],
          "scatterpolar": [
           {
            "marker": {
             "colorbar": {
              "outlinewidth": 0,
              "ticks": ""
             }
            },
            "type": "scatterpolar"
           }
          ],
          "scatterpolargl": [
           {
            "marker": {
             "colorbar": {
              "outlinewidth": 0,
              "ticks": ""
             }
            },
            "type": "scatterpolargl"
           }
          ],
          "scatterternary": [
           {
            "marker": {
             "colorbar": {
              "outlinewidth": 0,
              "ticks": ""
             }
            },
            "type": "scatterternary"
           }
          ],
          "surface": [
           {
            "colorbar": {
             "outlinewidth": 0,
             "ticks": ""
            },
            "colorscale": [
             [
              0,
              "#0d0887"
             ],
             [
              0.1111111111111111,
              "#46039f"
             ],
             [
              0.2222222222222222,
              "#7201a8"
             ],
             [
              0.3333333333333333,
              "#9c179e"
             ],
             [
              0.4444444444444444,
              "#bd3786"
             ],
             [
              0.5555555555555556,
              "#d8576b"
             ],
             [
              0.6666666666666666,
              "#ed7953"
             ],
             [
              0.7777777777777778,
              "#fb9f3a"
             ],
             [
              0.8888888888888888,
              "#fdca26"
             ],
             [
              1,
              "#f0f921"
             ]
            ],
            "type": "surface"
           }
          ],
          "table": [
           {
            "cells": {
             "fill": {
              "color": "#EBF0F8"
             },
             "line": {
              "color": "white"
             }
            },
            "header": {
             "fill": {
              "color": "#C8D4E3"
             },
             "line": {
              "color": "white"
             }
            },
            "type": "table"
           }
          ]
         },
         "layout": {
          "annotationdefaults": {
           "arrowcolor": "#2a3f5f",
           "arrowhead": 0,
           "arrowwidth": 1
          },
          "autotypenumbers": "strict",
          "coloraxis": {
           "colorbar": {
            "outlinewidth": 0,
            "ticks": ""
           }
          },
          "colorscale": {
           "diverging": [
            [
             0,
             "#8e0152"
            ],
            [
             0.1,
             "#c51b7d"
            ],
            [
             0.2,
             "#de77ae"
            ],
            [
             0.3,
             "#f1b6da"
            ],
            [
             0.4,
             "#fde0ef"
            ],
            [
             0.5,
             "#f7f7f7"
            ],
            [
             0.6,
             "#e6f5d0"
            ],
            [
             0.7,
             "#b8e186"
            ],
            [
             0.8,
             "#7fbc41"
            ],
            [
             0.9,
             "#4d9221"
            ],
            [
             1,
             "#276419"
            ]
           ],
           "sequential": [
            [
             0,
             "#0d0887"
            ],
            [
             0.1111111111111111,
             "#46039f"
            ],
            [
             0.2222222222222222,
             "#7201a8"
            ],
            [
             0.3333333333333333,
             "#9c179e"
            ],
            [
             0.4444444444444444,
             "#bd3786"
            ],
            [
             0.5555555555555556,
             "#d8576b"
            ],
            [
             0.6666666666666666,
             "#ed7953"
            ],
            [
             0.7777777777777778,
             "#fb9f3a"
            ],
            [
             0.8888888888888888,
             "#fdca26"
            ],
            [
             1,
             "#f0f921"
            ]
           ],
           "sequentialminus": [
            [
             0,
             "#0d0887"
            ],
            [
             0.1111111111111111,
             "#46039f"
            ],
            [
             0.2222222222222222,
             "#7201a8"
            ],
            [
             0.3333333333333333,
             "#9c179e"
            ],
            [
             0.4444444444444444,
             "#bd3786"
            ],
            [
             0.5555555555555556,
             "#d8576b"
            ],
            [
             0.6666666666666666,
             "#ed7953"
            ],
            [
             0.7777777777777778,
             "#fb9f3a"
            ],
            [
             0.8888888888888888,
             "#fdca26"
            ],
            [
             1,
             "#f0f921"
            ]
           ]
          },
          "colorway": [
           "#636efa",
           "#EF553B",
           "#00cc96",
           "#ab63fa",
           "#FFA15A",
           "#19d3f3",
           "#FF6692",
           "#B6E880",
           "#FF97FF",
           "#FECB52"
          ],
          "font": {
           "color": "#2a3f5f"
          },
          "geo": {
           "bgcolor": "white",
           "lakecolor": "white",
           "landcolor": "#E5ECF6",
           "showlakes": true,
           "showland": true,
           "subunitcolor": "white"
          },
          "hoverlabel": {
           "align": "left"
          },
          "hovermode": "closest",
          "mapbox": {
           "style": "light"
          },
          "paper_bgcolor": "white",
          "plot_bgcolor": "#E5ECF6",
          "polar": {
           "angularaxis": {
            "gridcolor": "white",
            "linecolor": "white",
            "ticks": ""
           },
           "bgcolor": "#E5ECF6",
           "radialaxis": {
            "gridcolor": "white",
            "linecolor": "white",
            "ticks": ""
           }
          },
          "scene": {
           "xaxis": {
            "backgroundcolor": "#E5ECF6",
            "gridcolor": "white",
            "gridwidth": 2,
            "linecolor": "white",
            "showbackground": true,
            "ticks": "",
            "zerolinecolor": "white"
           },
           "yaxis": {
            "backgroundcolor": "#E5ECF6",
            "gridcolor": "white",
            "gridwidth": 2,
            "linecolor": "white",
            "showbackground": true,
            "ticks": "",
            "zerolinecolor": "white"
           },
           "zaxis": {
            "backgroundcolor": "#E5ECF6",
            "gridcolor": "white",
            "gridwidth": 2,
            "linecolor": "white",
            "showbackground": true,
            "ticks": "",
            "zerolinecolor": "white"
           }
          },
          "shapedefaults": {
           "line": {
            "color": "#2a3f5f"
           }
          },
          "ternary": {
           "aaxis": {
            "gridcolor": "white",
            "linecolor": "white",
            "ticks": ""
           },
           "baxis": {
            "gridcolor": "white",
            "linecolor": "white",
            "ticks": ""
           },
           "bgcolor": "#E5ECF6",
           "caxis": {
            "gridcolor": "white",
            "linecolor": "white",
            "ticks": ""
           }
          },
          "title": {
           "x": 0.05
          },
          "xaxis": {
           "automargin": true,
           "gridcolor": "white",
           "linecolor": "white",
           "ticks": "",
           "title": {
            "standoff": 15
           },
           "zerolinecolor": "white",
           "zerolinewidth": 2
          },
          "yaxis": {
           "automargin": true,
           "gridcolor": "white",
           "linecolor": "white",
           "ticks": "",
           "title": {
            "standoff": 15
           },
           "zerolinecolor": "white",
           "zerolinewidth": 2
          }
         }
        },
        "xaxis": {
         "anchor": "y",
         "domain": [
          0,
          1
         ],
         "title": {
          "text": "PC1"
         }
        },
        "xaxis2": {
         "anchor": "y2",
         "domain": [
          0,
          1
         ],
         "matches": "x",
         "showgrid": true,
         "showticklabels": false
        },
        "yaxis": {
         "anchor": "x",
         "domain": [
          0,
          0.7326
         ],
         "title": {
          "text": "PC0"
         }
        },
        "yaxis2": {
         "anchor": "x2",
         "domain": [
          0.7426,
          1
         ],
         "matches": "y2",
         "showgrid": false,
         "showline": false,
         "showticklabels": false,
         "ticks": ""
        }
       }
      }
     },
     "metadata": {},
     "output_type": "display_data"
    }
   ],
   "source": [
    "vis_pcs(DCM, 1, 0, label='artist')"
   ]
  },
  {
   "cell_type": "code",
   "execution_count": 16,
   "metadata": {},
   "outputs": [
    {
     "data": {
      "application/vnd.plotly.v1+json": {
       "config": {
        "plotlyServerURL": "https://plot.ly"
       },
       "data": [
        {
         "hovertemplate": "max_pos=NN<br>PC0=%{x}<br>PC1=%{y}<br>i=%{marker.size}<br>term_str=%{text}<extra></extra>",
         "legendgroup": "NN",
         "marker": {
          "color": "#636efa",
          "size": [
           13.434157618726967,
           13.080520664112267,
           11.39462925454033,
           12.903642902028189,
           12.746101625041709,
           12.246530615551196,
           11.989372776054072,
           11.537993429711507,
           12.849195118005811,
           12.697192024560762,
           13.019120119448123,
           12.649886309782405,
           9.85588977057982,
           13.796727698111676,
           13.144651001531985,
           13.697192024560762,
           14.60408262016928,
           14.282154525281918,
           11.60408262016928,
           14.434157618726967,
           14.144651001531985,
           13.60408262016928,
           14.019120119448123,
           14.144651001531985,
           13.144651001531985,
           12.849195118005811,
           13.60408262016928,
           10.495558163391111,
           11.161139124320552,
           13.60408262016928,
           14.019120119448123,
           13.080520664112267,
           14.60408262016928,
           13.080520664112267,
           11.771192606004538,
           14.144651001531985,
           13.356155106725694,
           13.434157618726967,
           11.849195118005811,
           14.282154525281918,
           13.51661977891894,
           12.282154525281918,
           12.796727698111676,
           13.144651001531985,
           14.60408262016928,
           13.144651001531985,
           12.39462925454033,
           11.39462925454033,
           13.434157618726967,
           14.019120119448123,
           13.60408262016928,
           13.796727698111676,
           11.989372776054072,
           13.080520664112267,
           13.51661977891894,
           13.796727698111676,
           12.960226430394556,
           13.144651001531985,
           13.21176519739052,
           13.903642902028189,
           10.960226430394556,
           10.495558163391111,
           13.21176519739052,
           13.903642902028189,
           13.697192024560762,
           13.019120119448123,
           11.414258061289264,
           13.434157618726967,
           14.282154525281918,
           14.434157618726967,
           13.796727698111676,
           13.356155106725694,
           13.60408262016928,
           13.356155106725694,
           13.282154525281918,
           13.796727698111676,
           10.783903657754092,
           13.60408262016928,
           10.615397933397114,
           14.144651001531985,
           12.746101625041709,
           11.87616216560608,
           13.60408262016928,
           13.282154525281918,
           12.21176519739052,
           14.282154525281918,
           12.246530615551196,
           13.51661977891894,
           12.796727698111676,
           14.434157618726967,
           11.064923809061249,
           13.144651001531985,
           11.080520664112267,
           9.746101625041709,
           10.615397933397114,
           14.019120119448123,
           12.960226430394556,
           10.3752639296734,
           12.796727698111676,
           13.697192024560762,
           13.697192024560762,
           13.796727698111676,
           12.559688500810829,
           11.82272290664462,
           14.60408262016928,
           11.034227011838333,
           13.356155106725694,
           13.356155106725694,
           13.903642902028189,
           11.034227011838333,
           13.796727698111676,
           13.796727698111676,
           13.60408262016928,
           11.3752639296734,
           13.796727698111676,
           12.796727698111676,
           14.60408262016928,
           14.144651001531985,
           13.796727698111676,
           11.51661977891894,
           12.177817865467182,
           14.144651001531985,
           12.39462925454033,
           13.282154525281918,
           13.019120119448123,
           12.177817865467182,
           11.004169777982153,
           12.903642902028189,
           13.697192024560762,
           11.931657278197784,
           9.182017853996468,
           13.51661977891894,
           13.282154525281918,
           11.82272290664462,
           13.434157618726967,
           12.282154525281918,
           11.82272290664462,
           10.57065961863183,
           13.356155106725694,
           10.169454392532556,
           9.592855364746026,
           13.144651001531985,
           12.474799603224314,
           12.177817865467182,
           11.414258061289264,
           13.434157618726967,
           14.434157618726967,
           13.60408262016928,
           13.080520664112267,
           12.649886309782405,
           13.51661977891894,
           13.697192024560762,
           9.85588977057982,
           12.746101625041709,
           12.080520664112267,
           11.300301871992176,
           13.434157618726967,
           10.960226430394556,
           13.282154525281918,
           13.144651001531985,
           13.60408262016928,
           14.144651001531985,
           11.60408262016928,
           14.144651001531985,
           14.796727698111676,
           13.282154525281918,
           13.697192024560762,
           14.019120119448123,
           14.019120119448123,
           12.746101625041709,
           12.282154525281918,
           14.434157618726967,
           12.474799603224314,
           13.697192024560762,
           9.816180060777848,
           9.469656299948356,
           13.51661977891894,
           11.004169777982153,
           13.356155106725694,
           13.903642902028189,
           9.8425313877248,
           14.144651001531985,
           13.51661977891894,
           7.673345282606394,
           11.960226430394556,
           13.60408262016928,
           13.697192024560762,
           13.282154525281918,
           12.356155106725694,
           13.903642902028189,
           12.796727698111676,
           12.697192024560762,
           13.796727698111676,
           13.903642902028189,
           9.903642902028189,
           12.21176519739052,
           10.771192606004538,
           13.60408262016928,
           12.246530615551196,
           12.246530615551196,
           11.559688500810829,
           11.82272290664462,
           11.60408262016928,
           11.82272290664462,
           13.796727698111676,
           13.697192024560762,
           11.903642902028189,
           13.697192024560762,
           12.746101625041709,
           11.112229523839606,
           13.60408262016928,
           13.51661977891894,
           13.697192024560762,
           13.903642902028189,
           9.464531267770488,
           11.72143957080744,
           14.144651001531985,
           13.60408262016928,
           9.449264511117176,
           12.960226430394556,
           12.177817865467182,
           13.434157618726967,
           11.989372776054072,
           13.434157618726967,
           12.282154525281918,
           12.903642902028189,
           12.796727698111676,
           11.72143957080744,
           13.019120119448123,
           13.434157618726967,
           11.989372776054072,
           13.282154525281918,
           12.697192024560762,
           10.581714807140823,
           12.903642902028189,
           13.60408262016928,
           14.019120119448123,
           12.246530615551196,
           13.282154525281918,
           13.282154525281918,
           14.019120119448123,
           12.697192024560762,
           13.903642902028189,
           13.144651001531985,
           13.080520664112267,
           13.51661977891894,
           13.697192024560762,
           11.474799603224314,
           11.989372776054072,
           14.019120119448123,
           12.849195118005811,
           12.112229523839606,
           13.51661977891894,
           11.454335500664598,
           12.60408262016928,
           12.51661977891894,
           11.903642902028189,
           12.849195118005811,
           10.82272290664462,
           11.51661977891894,
           13.697192024560762,
           13.697192024560762,
           13.356155106725694,
           13.144651001531985,
           12.60408262016928,
           12.849195118005811,
           13.356155106725694,
           14.282154525281918,
           13.434157618726967,
           13.080520664112267,
           12.796727698111676,
           12.960226430394556,
           14.282154525281918,
           13.434157618726967,
           12.474799603224314,
           13.144651001531985,
           14.019120119448123,
           13.796727698111676,
           10.57065961863183,
           13.019120119448123,
           12.903642902028189,
           12.697192024560762,
           12.080520664112267,
           12.849195118005811,
           11.82272290664462,
           12.697192024560762,
           12.246530615551196,
           12.903642902028189,
           12.903642902028189,
           13.282154525281918,
           11.264232617284655,
           12.434157618726967,
           10.019120119448123,
           11.649886309782405,
           11.51661977891894,
           11.177817865467182,
           11.51661977891894,
           12.282154525281918,
           14.144651001531985,
           13.434157618726967,
           13.60408262016928,
           13.796727698111676,
           12.434157618726967,
           13.51661977891894,
           11.474799603224314,
           13.60408262016928,
           12.049493768491644,
           14.019120119448123,
           13.080520664112267,
           13.080520664112267,
           11.72143957080744,
           13.144651001531985,
           14.434157618726967,
           13.697192024560762,
           12.246530615551196,
           14.019120119448123,
           13.434157618726967,
           13.21176519739052,
           13.356155106725694,
           11.019120119448123,
           12.51661977891894,
           13.903642902028189,
           14.144651001531985,
           9.790301428952244,
           10.974726000089673,
           13.796727698111676,
           8.108227593282109,
           11.581714807140823,
           13.60408262016928,
           12.282154525281918,
           11.019120119448123,
           11.096287979970583,
           12.434157618726967,
           13.282154525281918,
           14.434157618726967,
           13.903642902028189,
           13.019120119448123,
           13.796727698111676,
           13.60408262016928,
           13.21176519739052,
           11.3752639296734,
           13.434157618726967,
           12.903642902028189,
           13.356155106725694,
           13.796727698111676,
           13.356155106725694,
           12.903642902028189,
           13.903642902028189,
           11.649886309782405,
           14.434157618726967,
           12.559688500810829,
           10.931657278197784,
           13.21176519739052,
           13.697192024560762,
           13.697192024560762,
           13.019120119448123,
           12.903642902028189,
           13.697192024560762,
           14.019120119448123,
           14.144651001531985,
           12.39462925454033,
           11.771192606004538,
           13.796727698111676,
           12.697192024560762,
           12.474799603224314,
           12.60408262016928,
           11.049493768491644,
           10.064923809061249,
           13.903642902028189,
           8.60408262016928,
           12.960226430394556,
           12.019120119448123,
           10.54880018466809,
           7.83921102943319,
           12.080520664112267,
           10.414258061289264
          ],
          "sizemode": "area",
          "sizeref": 0.03699181924527919,
          "symbol": "circle"
         },
         "mode": "markers+text",
         "name": "NN",
         "orientation": "v",
         "showlegend": true,
         "text": [
          "admit",
          "alien",
          "alright",
          "angel",
          "answer",
          "anybody",
          "anyone",
          "anything",
          "asleep",
          "attention",
          "awake",
          "babe",
          "baby",
          "ball",
          "band",
          "basement",
          "bath",
          "battle",
          "beat",
          "beauty",
          "bedroom",
          "beginning",
          "believing",
          "bell",
          "bend",
          "bird",
          "blade",
          "blood",
          "body",
          "bone",
          "book",
          "bottom",
          "bound",
          "brain",
          "breath",
          "breeze",
          "brother",
          "building",
          "bury",
          "cake",
          "ceiling",
          "chance",
          "chances",
          "check",
          "cheek",
          "chest",
          "child",
          "city",
          "clouds",
          "coffee",
          "comfort",
          "confusion",
          "control",
          "corner",
          "count",
          "couple",
          "crime",
          "crowd",
          "daddy",
          "damn",
          "dance",
          "dark",
          "darkness",
          "dawn",
          "deal",
          "dear",
          "death",
          "decision",
          "deeper",
          "design",
          "diamond",
          "difference",
          "direction",
          "dirt",
          "dirty",
          "distance",
          "door",
          "doubt",
          "dream",
          "dress",
          "drink",
          "drop",
          "drown",
          "dust",
          "earth",
          "echo",
          "edge",
          "embrace",
          "escape",
          "evening",
          "everybody",
          "everybodys",
          "everyone",
          "everything",
          "face",
          "faith",
          "fake",
          "fall",
          "family",
          "farther",
          "fate",
          "father",
          "fault",
          "fear",
          "feather",
          "feeling",
          "fever",
          "field",
          "finger",
          "fire",
          "fist",
          "flame",
          "float",
          "floor",
          "flower",
          "fool",
          "force",
          "forest",
          "form",
          "friend",
          "front",
          "fruit",
          "future",
          "game",
          "garden",
          "ghost",
          "girl",
          "glass",
          "glow",
          "gold",
          "gonna",
          "grace",
          "grass",
          "ground",
          "guitar",
          "hair",
          "half",
          "hand",
          "harder",
          "head",
          "heart",
          "heat",
          "heaven",
          "heavy",
          "hell",
          "hello",
          "highway",
          "hill",
          "history",
          "hole",
          "holiday",
          "hollow",
          "home",
          "honest",
          "honey",
          "hope",
          "hour",
          "house",
          "island",
          "itll",
          "joke",
          "kick",
          "kind",
          "king",
          "kingdom",
          "kitchen",
          "knife",
          "lady",
          "lake",
          "land",
          "laugh",
          "lawn",
          "lead",
          "leather",
          "life",
          "light",
          "lightning",
          "line",
          "list",
          "lock",
          "look",
          "loss",
          "loud",
          "love",
          "lover",
          "loving",
          "luck",
          "magic",
          "matter",
          "meaning",
          "memory",
          "middle",
          "midnight",
          "milk",
          "mind",
          "minds",
          "mine",
          "minute",
          "mirror",
          "moment",
          "money",
          "moon",
          "morning",
          "mother",
          "mothers",
          "mountain",
          "mouth",
          "movie",
          "mystery",
          "name",
          "nature",
          "neck",
          "needle",
          "news",
          "night",
          "nobody",
          "noise",
          "none",
          "nothing",
          "number",
          "ocean",
          "okay",
          "pain",
          "paper",
          "part",
          "party",
          "pass",
          "past",
          "path",
          "peace",
          "phone",
          "picture",
          "piece",
          "place",
          "plan",
          "plane",
          "pocket",
          "point",
          "poison",
          "police",
          "pool",
          "power",
          "problem",
          "promise",
          "question",
          "race",
          "radio",
          "rain",
          "reason",
          "reflection",
          "repeat",
          "rest",
          "rhythm",
          "ride",
          "ring",
          "river",
          "road",
          "rock",
          "room",
          "round",
          "ruin",
          "rush",
          "salt",
          "sand",
          "scene",
          "scream",
          "screen",
          "seat",
          "sense",
          "shade",
          "shadow",
          "shame",
          "shape",
          "share",
          "shit",
          "shore",
          "shot",
          "shoulder",
          "side",
          "sight",
          "sign",
          "silence",
          "silver",
          "sink",
          "skin",
          "slip",
          "smile",
          "smoke",
          "somebody",
          "someday",
          "someone",
          "someones",
          "something",
          "song",
          "sorry",
          "soul",
          "sound",
          "space",
          "spirit",
          "spit",
          "spot",
          "stage",
          "star",
          "state",
          "step",
          "stick",
          "stone",
          "store",
          "storm",
          "story",
          "street",
          "string",
          "stuff",
          "style",
          "summer",
          "surface",
          "surprise",
          "sympathy",
          "table",
          "talk",
          "taste",
          "tear",
          "tender",
          "thats",
          "thing",
          "tide",
          "time",
          "today",
          "tomorrow",
          "tongue",
          "tonight",
          "touch",
          "town",
          "trace",
          "trade",
          "trail",
          "train",
          "tree",
          "trick",
          "trouble",
          "truth",
          "tune",
          "undone",
          "view",
          "violent",
          "vision",
          "voice",
          "void",
          "wall",
          "warning",
          "waste",
          "water",
          "waters",
          "wave",
          "weather",
          "week",
          "weight",
          "west",
          "wheel",
          "whisper",
          "wind",
          "window",
          "wine",
          "winter",
          "woman",
          "word",
          "work",
          "world",
          "worlds",
          "yeah",
          "year",
          "youd",
          "youll",
          "youre",
          "youth",
          "youve"
         ],
         "type": "scatter",
         "x": [
          0.002450959474382616,
          -0.006210404356212729,
          0.0009942532689826387,
          -0.022431130428536936,
          0.0159916549983732,
          -0.011392289764662436,
          -0.019211342754411682,
          -0.040895044676033436,
          -0.0062449103693751175,
          0.00280818460713914,
          0.011213204096783645,
          -0.009984743948701124,
          -0.07229882567156388,
          0.0060746532098596125,
          -0.001299441652610386,
          0.007321819324948288,
          0.01009172294163864,
          0.0101186233763354,
          0.012698212553753698,
          -0.00045631878236247856,
          0.006654542020407371,
          0.006818549968791255,
          0.003054506615862337,
          0.008461777946102146,
          0.004214737137769843,
          0.006751218943696878,
          -0.03816987745945741,
          0.03481895759697509,
          -0.012948032451980748,
          -0.006089283737652495,
          0.0042642080826959215,
          0.015454643458227352,
          0.0016103515679179111,
          -0.00047149664098375106,
          0.00192236505496423,
          0.0041620651192409855,
          -0.0035551813886814535,
          -0.00695912577945659,
          -0.0056160747669590505,
          0.001147538508756256,
          0.0000765709357049107,
          -0.00409862936412749,
          0.009481594203513622,
          -0.01669463674379113,
          0.0034264465515585502,
          -0.012650113266242638,
          -0.003363718363502499,
          -0.008187358289494217,
          0.0033545494723220136,
          0.007349701960749439,
          -0.007804420721512434,
          0.006203242903311151,
          0.008823242724674812,
          0.005979777506032993,
          0.002218851612319952,
          0.0011082881630631682,
          -0.006740541379789834,
          -0.0033331371469671224,
          -0.002150057094809471,
          -0.007490917101642132,
          0.025655077355710345,
          0.017371195651963416,
          -0.0009773175854290697,
          0.006804574433531873,
          -0.01165764857356288,
          -0.011475440032479727,
          -0.008092063859688827,
          -0.002293819847772559,
          0.008077795135478388,
          -0.008294473525997844,
          0.006639565617516659,
          0.003428688133013081,
          0.0016770015210931263,
          -0.00018305887918838124,
          -0.0029259462046070817,
          -0.0033326626627877116,
          -0.007063151400699926,
          0.007993210018668378,
          0.0012987837249231618,
          -0.0008610673154495776,
          -0.0010367739724100285,
          0.0038788636182708926,
          -0.004445213710783792,
          0.004511385754526295,
          0.010839443047198034,
          -0.015720512349360543,
          -0.0077062778861871056,
          0.003932519299955233,
          0.005453101562303856,
          -0.003971136737996249,
          0.002656217303808635,
          0.0025049483612135676,
          0.015500603223263002,
          -0.061133887129829145,
          -0.0071539974938754506,
          -0.006907686818406791,
          0.009519697998831336,
          -0.0032389630670102234,
          -0.005912813273160911,
          0.008590985596233561,
          -0.0002565646420074599,
          0.007293550999175708,
          -0.0016151419295407801,
          0.016466703721244466,
          -0.011501747684630215,
          0.009288783813379163,
          0.0003918954252038932,
          0.02669523788252326,
          -0.004913504463676513,
          -0.01350265415520989,
          -0.0020805170307980994,
          -0.00689132961234632,
          0.009299402318088713,
          0.015334145540369942,
          -0.000051777217180211724,
          0.0005000150139754103,
          0.003779681222250719,
          0.0064458814660045055,
          0.003535934288793324,
          0.0036016577788974815,
          -0.0020217710345109352,
          0.006756905225540598,
          0.005962850150518766,
          0.006864858427167742,
          0.013567832643894039,
          -0.002990674250948781,
          -0.01641136583684176,
          0.010258268404613614,
          0.004402579507641566,
          0.019104518175208078,
          -0.08864100613347539,
          0.006380458414539247,
          -0.03375225128365058,
          0.005850840541435719,
          0.0044070928414508374,
          0.018561609536725053,
          0.024102405820782092,
          -0.000948365469427272,
          0.00007432759756568618,
          -0.007533619772390143,
          -0.015136510436901028,
          0.003483060146440334,
          0.00386397885572848,
          0.004862016238674928,
          0.0007421023129587062,
          0.009163089541522451,
          0.006765269566887364,
          0.014505009328108087,
          0.0009596894997480773,
          -0.0028478530268485347,
          0.006894461358521243,
          0.007831283979648522,
          -0.014660666279188397,
          -0.017946189786918032,
          -0.009278599311107203,
          -0.02649878505233245,
          0.013092504356809087,
          -0.0049341141905864215,
          0.02018493255233222,
          -0.016291288518090623,
          -0.007259628803836264,
          -0.008270458688656945,
          -0.006481041714984783,
          0.0020044075554113885,
          0.001276929060541815,
          0.014219824810876322,
          0.0036835846667607392,
          0.0081865628364922,
          0.011423660495491667,
          -0.002527192728841634,
          0.010055977210007904,
          0.0028325396749719163,
          -0.003065033244562686,
          -0.01014654162463435,
          -0.012577561043658307,
          0.045849420039396696,
          0.014774152298256767,
          0.014585658411666117,
          0.003719195493374045,
          0.0031817946897880777,
          -0.04032885287170286,
          0.001817663548830683,
          0.01030827970840778,
          -0.17995569158834468,
          0.009483371412584117,
          -0.015947468515321216,
          -0.00660229498624782,
          0.008342644116067097,
          0.0008629963764505049,
          -0.002563057500937459,
          -0.008197080469224825,
          -0.023032899841875617,
          0.008564187664403847,
          0.0028854527411792444,
          -0.03233152667589609,
          -0.011708529483265112,
          -0.029119217413369536,
          0.005975211716638475,
          0.007974280064005862,
          0.007149640267831826,
          0.001205801505218727,
          0.0002879414716811565,
          0.0050730818263507865,
          0.011278262228713505,
          -0.007231167210978304,
          0.003574229260660659,
          -0.0054094313472495435,
          -0.006176534824843026,
          0.02354895899076691,
          0.00013196076331516965,
          0.012998328203016767,
          -0.007614149998116914,
          0.0017257891632828021,
          -0.001094072005936589,
          0.01426848559549939,
          0.0000035269896450667486,
          0.0019619994637695578,
          0.000027745565935492425,
          0.030804395384461333,
          -0.0035814156900980075,
          0.015305845381880586,
          -0.018103970733928176,
          -0.04073587656120602,
          0.0019623253730288595,
          0.0037735907832381994,
          0.010148606760284036,
          -0.014504205639597662,
          0.0026676506712552885,
          0.00872248673076932,
          -0.00004005782563120724,
          0.013630461000624273,
          -0.0028295652325753306,
          0.0071147771476345245,
          0.0070846734701570215,
          -0.003915094850306694,
          0.004869950169545286,
          0.005793452677440242,
          -0.01888684116838179,
          0.0215666183634733,
          0.008157220443302284,
          0.005617393843554835,
          0.0016022897250558155,
          0.005327466803618029,
          -0.00607142725405227,
          -0.0013982014945783199,
          0.0009078159817772961,
          0.0037135111490516166,
          -0.012559255653914934,
          0.011696682954845128,
          0.00725414332414167,
          0.0011748866083690537,
          0.002322833282345927,
          0.008691888492907302,
          -0.002052291190967984,
          -0.005149382173332983,
          0.014805260683477118,
          0.01140692452715558,
          -0.0024741027032737528,
          0.02479432907055165,
          0.03197934769270404,
          0.004943704034764426,
          -0.0020008797552752266,
          0.001357312706999001,
          -0.028776993391191528,
          0.0028206901178138085,
          0.007552325235285183,
          0.01184379789870115,
          0.0020902795425439095,
          0.00025963848421566677,
          0.0000459438328782486,
          0.018749804087465002,
          -0.017361038741345088,
          -0.0030288135419814237,
          -0.006181686292924228,
          -0.017124376771101214,
          0.014389399119010212,
          0.0035599754260262637,
          0.001918586887132557,
          0.008422967993583243,
          0.008812067625598477,
          0.0025873292651216132,
          0.006323434598246806,
          0.006643695988549935,
          -0.0026398772708695647,
          0.004385007283768519,
          0.009066942904643228,
          0.0019994234762389365,
          0.00566956360645209,
          -0.00042896550152182977,
          0.0021488272073616056,
          -0.02348821908457219,
          0.012447007078306042,
          -0.02819075410169772,
          -0.0018459818244790142,
          0.0054424760305877605,
          0.018837066370407933,
          0.0015278038312692567,
          -0.0108225177055675,
          0.006445692983915858,
          0.0028191998862149748,
          0.007219293311212301,
          0.0070066888523051905,
          0.012087573822963136,
          0.008204160304344843,
          0.013327865362416513,
          -0.007816890435138028,
          0.026698504012789167,
          -0.011290327336267525,
          -0.00586334015963506,
          -0.001515796338282321,
          0.006827866613614984,
          0.010085943070608108,
          -0.004210140681250095,
          0.009341770488840849,
          0.013102548987120136,
          0.011375559769086285,
          -0.00309315172429766,
          -0.0005296647691389426,
          -0.008372884374793147,
          -0.006196122648810919,
          0.005928901216841973,
          0.0017964019410403658,
          0.0030237644566355557,
          0.0007247607097407505,
          -0.040340364424251665,
          0.009831222730886673,
          -0.06327013326603188,
          -0.008441192831815662,
          0.011399912412165234,
          0.011842884771600158,
          -0.014605057988154705,
          0.0018548620824849697,
          0.0034250134752090012,
          0.00858584275275997,
          -0.00010266614386622099,
          0.006936937428971373,
          0.0012728158350242087,
          0.007799427705059009,
          -0.004225220652414099,
          -0.0071223405353356105,
          -0.0062774684621733955,
          0.012395175283178633,
          -0.0010286195730141727,
          0.00534560227851673,
          0.003190469062535873,
          0.010051982204151714,
          0.0012610384358388677,
          0.003863683515661075,
          0.0077705715633165015,
          0.0008064922397513865,
          -0.010814146098260362,
          0.020961254453833664,
          0.006446464495327203,
          0.013123886953080187,
          0.004710232083213602,
          0.008608657912381834,
          0.0018664424627640255,
          -0.005283641681915363,
          -0.0050929874517244575,
          -0.009734704666938912,
          0.02524329468352142,
          -0.018142929259511862,
          0.01038084153098804,
          0.0057827855704142605,
          0.023539288421140142,
          0.008254832885523339,
          0.00007892110274743186,
          0.014374397394294275,
          -0.0023699979476614,
          -0.01560708606242775,
          0.0039020598444718057,
          -0.004819099781598306,
          -0.04219221007239008,
          -0.13743825578137964,
          0.007826934138243778,
          -0.03974775756888176
         ],
         "xaxis": "x",
         "y": [
          -0.0006860647391837293,
          -0.014132609281802669,
          -0.0234934459663384,
          -0.0019744890485415834,
          0.0014943499250135717,
          0.007854789825642472,
          0.0069795307887748695,
          0.015299017624516248,
          -0.012956469233123444,
          0.016720927513010936,
          0.0009675741300700728,
          -0.022828572577699054,
          -0.08522087393601936,
          0.00010729137741839303,
          -0.0017400180045844718,
          0.00036453970560271394,
          0.00593197794215248,
          -0.002304838383481343,
          0.005627030038406632,
          -0.007366748134125704,
          -0.0007771658757446196,
          0.006273451909149228,
          -0.007780362142439,
          0.0066494119034503,
          -0.00685110750571167,
          0.013560302648677981,
          0.031571129306307635,
          0.013827233554645664,
          0.01752256393190082,
          -0.003082267035403898,
          0.000479336160771587,
          0.012630644984205274,
          -0.0021135880209439363,
          0.0029066260725913334,
          -0.006059974500111167,
          0.014557456662682135,
          -0.007043399650728638,
          0.002198515427353255,
          -0.0015440063820471495,
          -0.005030402446425982,
          -0.003240456022429885,
          -0.009567247964404089,
          0.002951455451537034,
          0.009259986080952442,
          -0.004638707034629855,
          0.0021054032836781223,
          -0.02475289572861773,
          0.024542490161980228,
          0.002921952347584234,
          0.0033719616922364285,
          -0.01655325230974976,
          0.0023797984522624235,
          0.0065570476600069726,
          0.0011433117282555732,
          0.0006986280756693719,
          -0.004642462638930332,
          -0.003995806429887403,
          -0.0056796876151652765,
          -0.004535991082596473,
          -0.01165137527052525,
          -0.007673797365846687,
          -0.011077095090463701,
          0.0036813922685737513,
          -0.0009952554602815444,
          -0.012535503139606025,
          -0.008395432982552346,
          -0.006452384784530277,
          -0.003524299700550645,
          0.0044320201048448065,
          0.010457563611914527,
          0.003324570778947678,
          -0.0030990183519326864,
          -0.0004995747463622559,
          -0.010888122167162968,
          0.002510826807268871,
          -0.005881010952648818,
          -0.017979194114641977,
          0.0017264094159933656,
          -0.017963162780375356,
          -0.0061282457476809025,
          0.003135184309750446,
          -0.014923569048978038,
          -0.0043265907571900675,
          0.009453309021119977,
          0.001692888923358641,
          0.012761971184224079,
          0.016474562389943836,
          0.0000027302255929033736,
          0.012091783225958731,
          0.010141241346467694,
          -0.011619552752864422,
          -0.00962888155167121,
          0.000507634131340412,
          0.03668167399986754,
          -0.008630400835093163,
          0.004166676997873696,
          0.003271268548495572,
          -0.018635922510379595,
          0.0010756712907148494,
          0.0008279338640329015,
          -0.005498291849793752,
          -0.000010831130472556623,
          0.00007163298538794743,
          0.0047019336457175195,
          0.008900484118887143,
          0.005943927680756851,
          0.008181891959905093,
          0.019658096004492188,
          0.004442634108682947,
          0.001479828479901069,
          -0.00017996104879405164,
          -0.012404616537588524,
          0.00241410993185833,
          -0.00683131124597145,
          0.010887485031759136,
          -0.008727899275127987,
          0.005794052860689125,
          0.014296203512250485,
          0.00539868572426392,
          0.001382272771217528,
          0.0032575473626011175,
          0.001954963071964,
          -0.004958776519343933,
          0.0012177627635982847,
          0.009466305720063585,
          -0.0011148026871879693,
          -0.003951753368051347,
          0.004155246387933673,
          -0.004323387559638856,
          -0.003167718344161409,
          -0.15932699011032941,
          -0.0076806229039219276,
          0.028692165900946982,
          -0.010750298509066617,
          -0.001007521828307981,
          -0.003377993676594477,
          0.002551560243585598,
          0.025569752941620942,
          -0.0029243061082474936,
          0.012059642819963075,
          -0.015235921335925872,
          0.02198293540217819,
          -0.005135713049428442,
          -0.012082195950242404,
          0.018617119164385725,
          -0.001795935670420052,
          0.008608692746692535,
          0.011652874214642674,
          -0.007632599084408153,
          0.020102251427855128,
          0.0048679132690329745,
          -0.0022831790407157604,
          -0.03851940585993797,
          -0.0049644763978666795,
          0.009923592155928444,
          -0.013220359576219011,
          0.008719060066855602,
          0.010792907073778281,
          0.0072380784980434305,
          -0.006625954922894094,
          -0.0049259551712809106,
          0.0060181099555245456,
          -0.01231884290596591,
          -0.0010808761189519856,
          -0.0007751669917256949,
          0.010921491635082832,
          0.003081083668850825,
          -0.00023462605818890016,
          -0.0017221354223466896,
          -0.0061856765227914215,
          0.012183246447627926,
          0.0017370780572835626,
          -0.02241714308983901,
          -0.008297355213768091,
          -0.044223466988139164,
          0.009069673022738848,
          0.014047241548968642,
          0.0073599377893646175,
          -0.01689919008413103,
          0.0018225931119835866,
          -0.02442683453768702,
          -0.006707314574907289,
          0.0022815365284834977,
          -0.4178862463760393,
          -0.010772610341490631,
          -0.002407959645283403,
          -0.012624294906366112,
          0.0014532864684185503,
          -0.0011229492898401387,
          -0.0057576812255436234,
          -0.0012533507377658266,
          0.010924519544583646,
          0.007767398858802187,
          -0.0056848224124297145,
          -0.003837813361729619,
          0.002793654819174058,
          -0.032748908672415374,
          0.0016385989896045424,
          -0.007090663667915589,
          0.00019025252233431035,
          -0.010382999550161368,
          0.05027377958975776,
          0.0272526253027085,
          -0.024924429392901112,
          -0.0021106864183832587,
          -0.004840040507125356,
          -0.013968366061957465,
          -0.011335518880760459,
          0.024269305113903964,
          0.009268294860807783,
          0.007225924421393308,
          -0.023071412463238763,
          0.007668700666043906,
          0.0054950621152644865,
          0.00012493635139188802,
          0.0033320010413260682,
          -0.004479687523157606,
          -0.0028758443795212454,
          -0.028183468915060288,
          0.0015629541503195982,
          -0.009476016701365624,
          -0.007158251333613237,
          0.00462442292233856,
          -0.0012279623143112563,
          -0.003069326120920792,
          0.015137568702763135,
          0.007610495574598882,
          -0.008146410582192235,
          0.005315003405881596,
          -0.004370260537256256,
          -0.0007512239987665437,
          0.007416932771095671,
          0.005978010824065784,
          -0.02088776354943538,
          0.007425576743817463,
          -0.0030083887306431036,
          0.002380523157788168,
          0.013632335600456874,
          0.010070893197307402,
          -0.0035065075201372144,
          0.0021691092498601736,
          0.014209710472180982,
          0.0008115685872690884,
          -0.0017571986292264322,
          -0.011094485726029989,
          -0.002698886499338832,
          0.0023369161063742255,
          0.0011730942930778074,
          0.015983812962348805,
          0.007538882272329423,
          -0.0011466609045786705,
          -0.00873679970210187,
          0.010979811288997457,
          0.0137233904969704,
          -0.024070858063585242,
          0.0011485045688219538,
          -0.001735135742848835,
          0.006761700145754157,
          0.03898682420198395,
          0.018116693621822933,
          -0.0008006519309538122,
          0.01399437998725905,
          -0.007575915747837032,
          0.035769534257128116,
          -0.019484944331408172,
          0.0026667945920520785,
          0.0017894084171721344,
          -0.005455305626992806,
          0.004913104299041345,
          0.02097086278236647,
          0.011272133766852068,
          0.009265380919146722,
          0.004382769011980306,
          0.0025528477594569305,
          -0.0007927122828885713,
          0.009812511173224223,
          -0.005473704707837057,
          -0.007027411705345127,
          0.022681920152286417,
          0.0007355855758000714,
          -0.012282774556165747,
          0.014588513639417074,
          0.021698402778478895,
          0.0029996057963906277,
          0.0006049888805897891,
          0.005723814664981642,
          -0.01667139115387261,
          0.00013418936451566057,
          0.005179946265100229,
          -0.002571348085504074,
          -0.03378594453734387,
          0.010552405134571652,
          -0.026416385962736932,
          0.0018419764950176384,
          -0.008608602441156021,
          0.009540006535771377,
          -0.0014281357420056092,
          0.017009625227964273,
          -0.0020606731787585057,
          0.0035769602553909884,
          -0.001212581691177187,
          -0.003567154923334501,
          0.007504695605995955,
          -0.0037925121525308565,
          0.019898847037550342,
          0.010651764109891325,
          0.007693959578473149,
          -0.0015884283725980173,
          -0.009330631277183947,
          -0.012158393520139723,
          0.0033296739030020065,
          -0.0006855835768797484,
          0.00013351285351212823,
          0.0012840953136596762,
          0.01820987499516745,
          0.004023673240814092,
          -0.00409428059171859,
          -0.0047351886594880765,
          0.007274641915030669,
          -0.006609361997653263,
          0.002727850582149847,
          -0.005676847139446426,
          0.003323758403831948,
          -0.02409123462061061,
          -0.02371733150531267,
          0.0027472299410774685,
          -0.046100564867325215,
          0.02179707879798977,
          0.005205274298201622,
          0.005241942332770959,
          -0.04169630382061103,
          0.005156992401956191,
          -0.027651316242367472,
          0.0052697360547678835,
          -0.003983314750260954,
          -0.0014854978569116585,
          -0.013635669059094283,
          -0.00007480951072649889,
          -0.002192073593654484,
          0.0030587906463397287,
          -0.002899887409324277,
          0.007322925298078049,
          -0.007195877468154279,
          0.002838677711668101,
          -0.00577966950774165,
          0.00339598960951527,
          0.00865350045407922,
          -0.00006938227876401538,
          -0.007391110638913259,
          -0.003807838997157358,
          0.00027744612907618793,
          -0.006933245055877604,
          -0.004666765453092999,
          0.0015940458967299345,
          0.0037871105200755293,
          -0.000768215826872117,
          -0.000053106251917386165,
          -0.001995292624221043,
          -0.00581892814183617,
          0.011458315913131137,
          0.009686406455818877,
          0.02159851220784206,
          0.001102226806585318,
          0.0003352192247263618,
          0.012056893175878557,
          -0.0054054643457901765,
          -0.0223574955852826,
          -0.04137980672731778,
          -0.009832315161893914,
          -0.049625009543026316,
          0.008798098752178138,
          -0.008335440324099743,
          -0.02525845986633539,
          -0.249350239799797,
          0.011193008413165582,
          0.011057111284019145
         ],
         "yaxis": "y"
        },
        {
         "alignmentgroup": "True",
         "hovertemplate": "max_pos=NN<br>PC0=%{x}<extra></extra>",
         "legendgroup": "NN",
         "marker": {
          "color": "#636efa",
          "symbol": "circle"
         },
         "name": "NN",
         "notched": true,
         "offsetgroup": "NN",
         "showlegend": false,
         "type": "box",
         "x": [
          0.002450959474382616,
          -0.006210404356212729,
          0.0009942532689826387,
          -0.022431130428536936,
          0.0159916549983732,
          -0.011392289764662436,
          -0.019211342754411682,
          -0.040895044676033436,
          -0.0062449103693751175,
          0.00280818460713914,
          0.011213204096783645,
          -0.009984743948701124,
          -0.07229882567156388,
          0.0060746532098596125,
          -0.001299441652610386,
          0.007321819324948288,
          0.01009172294163864,
          0.0101186233763354,
          0.012698212553753698,
          -0.00045631878236247856,
          0.006654542020407371,
          0.006818549968791255,
          0.003054506615862337,
          0.008461777946102146,
          0.004214737137769843,
          0.006751218943696878,
          -0.03816987745945741,
          0.03481895759697509,
          -0.012948032451980748,
          -0.006089283737652495,
          0.0042642080826959215,
          0.015454643458227352,
          0.0016103515679179111,
          -0.00047149664098375106,
          0.00192236505496423,
          0.0041620651192409855,
          -0.0035551813886814535,
          -0.00695912577945659,
          -0.0056160747669590505,
          0.001147538508756256,
          0.0000765709357049107,
          -0.00409862936412749,
          0.009481594203513622,
          -0.01669463674379113,
          0.0034264465515585502,
          -0.012650113266242638,
          -0.003363718363502499,
          -0.008187358289494217,
          0.0033545494723220136,
          0.007349701960749439,
          -0.007804420721512434,
          0.006203242903311151,
          0.008823242724674812,
          0.005979777506032993,
          0.002218851612319952,
          0.0011082881630631682,
          -0.006740541379789834,
          -0.0033331371469671224,
          -0.002150057094809471,
          -0.007490917101642132,
          0.025655077355710345,
          0.017371195651963416,
          -0.0009773175854290697,
          0.006804574433531873,
          -0.01165764857356288,
          -0.011475440032479727,
          -0.008092063859688827,
          -0.002293819847772559,
          0.008077795135478388,
          -0.008294473525997844,
          0.006639565617516659,
          0.003428688133013081,
          0.0016770015210931263,
          -0.00018305887918838124,
          -0.0029259462046070817,
          -0.0033326626627877116,
          -0.007063151400699926,
          0.007993210018668378,
          0.0012987837249231618,
          -0.0008610673154495776,
          -0.0010367739724100285,
          0.0038788636182708926,
          -0.004445213710783792,
          0.004511385754526295,
          0.010839443047198034,
          -0.015720512349360543,
          -0.0077062778861871056,
          0.003932519299955233,
          0.005453101562303856,
          -0.003971136737996249,
          0.002656217303808635,
          0.0025049483612135676,
          0.015500603223263002,
          -0.061133887129829145,
          -0.0071539974938754506,
          -0.006907686818406791,
          0.009519697998831336,
          -0.0032389630670102234,
          -0.005912813273160911,
          0.008590985596233561,
          -0.0002565646420074599,
          0.007293550999175708,
          -0.0016151419295407801,
          0.016466703721244466,
          -0.011501747684630215,
          0.009288783813379163,
          0.0003918954252038932,
          0.02669523788252326,
          -0.004913504463676513,
          -0.01350265415520989,
          -0.0020805170307980994,
          -0.00689132961234632,
          0.009299402318088713,
          0.015334145540369942,
          -0.000051777217180211724,
          0.0005000150139754103,
          0.003779681222250719,
          0.0064458814660045055,
          0.003535934288793324,
          0.0036016577788974815,
          -0.0020217710345109352,
          0.006756905225540598,
          0.005962850150518766,
          0.006864858427167742,
          0.013567832643894039,
          -0.002990674250948781,
          -0.01641136583684176,
          0.010258268404613614,
          0.004402579507641566,
          0.019104518175208078,
          -0.08864100613347539,
          0.006380458414539247,
          -0.03375225128365058,
          0.005850840541435719,
          0.0044070928414508374,
          0.018561609536725053,
          0.024102405820782092,
          -0.000948365469427272,
          0.00007432759756568618,
          -0.007533619772390143,
          -0.015136510436901028,
          0.003483060146440334,
          0.00386397885572848,
          0.004862016238674928,
          0.0007421023129587062,
          0.009163089541522451,
          0.006765269566887364,
          0.014505009328108087,
          0.0009596894997480773,
          -0.0028478530268485347,
          0.006894461358521243,
          0.007831283979648522,
          -0.014660666279188397,
          -0.017946189786918032,
          -0.009278599311107203,
          -0.02649878505233245,
          0.013092504356809087,
          -0.0049341141905864215,
          0.02018493255233222,
          -0.016291288518090623,
          -0.007259628803836264,
          -0.008270458688656945,
          -0.006481041714984783,
          0.0020044075554113885,
          0.001276929060541815,
          0.014219824810876322,
          0.0036835846667607392,
          0.0081865628364922,
          0.011423660495491667,
          -0.002527192728841634,
          0.010055977210007904,
          0.0028325396749719163,
          -0.003065033244562686,
          -0.01014654162463435,
          -0.012577561043658307,
          0.045849420039396696,
          0.014774152298256767,
          0.014585658411666117,
          0.003719195493374045,
          0.0031817946897880777,
          -0.04032885287170286,
          0.001817663548830683,
          0.01030827970840778,
          -0.17995569158834468,
          0.009483371412584117,
          -0.015947468515321216,
          -0.00660229498624782,
          0.008342644116067097,
          0.0008629963764505049,
          -0.002563057500937459,
          -0.008197080469224825,
          -0.023032899841875617,
          0.008564187664403847,
          0.0028854527411792444,
          -0.03233152667589609,
          -0.011708529483265112,
          -0.029119217413369536,
          0.005975211716638475,
          0.007974280064005862,
          0.007149640267831826,
          0.001205801505218727,
          0.0002879414716811565,
          0.0050730818263507865,
          0.011278262228713505,
          -0.007231167210978304,
          0.003574229260660659,
          -0.0054094313472495435,
          -0.006176534824843026,
          0.02354895899076691,
          0.00013196076331516965,
          0.012998328203016767,
          -0.007614149998116914,
          0.0017257891632828021,
          -0.001094072005936589,
          0.01426848559549939,
          0.0000035269896450667486,
          0.0019619994637695578,
          0.000027745565935492425,
          0.030804395384461333,
          -0.0035814156900980075,
          0.015305845381880586,
          -0.018103970733928176,
          -0.04073587656120602,
          0.0019623253730288595,
          0.0037735907832381994,
          0.010148606760284036,
          -0.014504205639597662,
          0.0026676506712552885,
          0.00872248673076932,
          -0.00004005782563120724,
          0.013630461000624273,
          -0.0028295652325753306,
          0.0071147771476345245,
          0.0070846734701570215,
          -0.003915094850306694,
          0.004869950169545286,
          0.005793452677440242,
          -0.01888684116838179,
          0.0215666183634733,
          0.008157220443302284,
          0.005617393843554835,
          0.0016022897250558155,
          0.005327466803618029,
          -0.00607142725405227,
          -0.0013982014945783199,
          0.0009078159817772961,
          0.0037135111490516166,
          -0.012559255653914934,
          0.011696682954845128,
          0.00725414332414167,
          0.0011748866083690537,
          0.002322833282345927,
          0.008691888492907302,
          -0.002052291190967984,
          -0.005149382173332983,
          0.014805260683477118,
          0.01140692452715558,
          -0.0024741027032737528,
          0.02479432907055165,
          0.03197934769270404,
          0.004943704034764426,
          -0.0020008797552752266,
          0.001357312706999001,
          -0.028776993391191528,
          0.0028206901178138085,
          0.007552325235285183,
          0.01184379789870115,
          0.0020902795425439095,
          0.00025963848421566677,
          0.0000459438328782486,
          0.018749804087465002,
          -0.017361038741345088,
          -0.0030288135419814237,
          -0.006181686292924228,
          -0.017124376771101214,
          0.014389399119010212,
          0.0035599754260262637,
          0.001918586887132557,
          0.008422967993583243,
          0.008812067625598477,
          0.0025873292651216132,
          0.006323434598246806,
          0.006643695988549935,
          -0.0026398772708695647,
          0.004385007283768519,
          0.009066942904643228,
          0.0019994234762389365,
          0.00566956360645209,
          -0.00042896550152182977,
          0.0021488272073616056,
          -0.02348821908457219,
          0.012447007078306042,
          -0.02819075410169772,
          -0.0018459818244790142,
          0.0054424760305877605,
          0.018837066370407933,
          0.0015278038312692567,
          -0.0108225177055675,
          0.006445692983915858,
          0.0028191998862149748,
          0.007219293311212301,
          0.0070066888523051905,
          0.012087573822963136,
          0.008204160304344843,
          0.013327865362416513,
          -0.007816890435138028,
          0.026698504012789167,
          -0.011290327336267525,
          -0.00586334015963506,
          -0.001515796338282321,
          0.006827866613614984,
          0.010085943070608108,
          -0.004210140681250095,
          0.009341770488840849,
          0.013102548987120136,
          0.011375559769086285,
          -0.00309315172429766,
          -0.0005296647691389426,
          -0.008372884374793147,
          -0.006196122648810919,
          0.005928901216841973,
          0.0017964019410403658,
          0.0030237644566355557,
          0.0007247607097407505,
          -0.040340364424251665,
          0.009831222730886673,
          -0.06327013326603188,
          -0.008441192831815662,
          0.011399912412165234,
          0.011842884771600158,
          -0.014605057988154705,
          0.0018548620824849697,
          0.0034250134752090012,
          0.00858584275275997,
          -0.00010266614386622099,
          0.006936937428971373,
          0.0012728158350242087,
          0.007799427705059009,
          -0.004225220652414099,
          -0.0071223405353356105,
          -0.0062774684621733955,
          0.012395175283178633,
          -0.0010286195730141727,
          0.00534560227851673,
          0.003190469062535873,
          0.010051982204151714,
          0.0012610384358388677,
          0.003863683515661075,
          0.0077705715633165015,
          0.0008064922397513865,
          -0.010814146098260362,
          0.020961254453833664,
          0.006446464495327203,
          0.013123886953080187,
          0.004710232083213602,
          0.008608657912381834,
          0.0018664424627640255,
          -0.005283641681915363,
          -0.0050929874517244575,
          -0.009734704666938912,
          0.02524329468352142,
          -0.018142929259511862,
          0.01038084153098804,
          0.0057827855704142605,
          0.023539288421140142,
          0.008254832885523339,
          0.00007892110274743186,
          0.014374397394294275,
          -0.0023699979476614,
          -0.01560708606242775,
          0.0039020598444718057,
          -0.004819099781598306,
          -0.04219221007239008,
          -0.13743825578137964,
          0.007826934138243778,
          -0.03974775756888176
         ],
         "xaxis": "x2",
         "yaxis": "y2"
        },
        {
         "hovertemplate": "max_pos=JJ<br>PC0=%{x}<br>PC1=%{y}<br>i=%{marker.size}<br>term_str=%{text}<extra></extra>",
         "legendgroup": "JJ",
         "marker": {
          "color": "#EF553B",
          "size": [
           11.300301871992176,
           10.796727698111676,
           12.39462925454033,
           13.903642902028189,
           10.485141547445773,
           10.746101625041709,
           12.049493768491644,
           11.673345282606396,
           14.282154525281918,
           14.144651001531985,
           14.144651001531985,
           12.434157618726967,
           12.960226430394556,
           11.246530615551196,
           12.849195118005811,
           13.144651001531985,
           10.697192024560762,
           12.21176519739052,
           11.989372776054072,
           13.697192024560762,
           14.019120119448123,
           14.796727698111676,
           11.673345282606396,
           11.649886309782405,
           13.796727698111676,
           12.112229523839606,
           13.356155106725694,
           13.697192024560762,
           14.019120119448123,
           12.144651001531985,
           11.177817865467182,
           10.66156811483004,
           13.356155106725694,
           11.626802696669364,
           12.112229523839606,
           13.697192024560762,
           14.434157618726967,
           13.697192024560762,
           13.080520664112267,
           9.739896475515,
           12.080520664112267,
           12.080520664112267,
           11.51661977891894,
           10.974726000089673,
           10.39462925454033,
           12.960226430394556,
           13.356155106725694,
           14.144651001531985,
           11.080520664112267,
           11.049493768491644,
           9.57065961863183,
           11.649886309782405,
           10.136477070086285,
           14.144651001531985,
           12.559688500810829,
           10.169454392532556,
           13.60408262016928,
           14.144651001531985,
           11.849195118005811,
           12.282154525281918,
           12.559688500810829,
           14.144651001531985,
           10.796727698111676,
           10.673345282606396,
           12.474799603224314,
           13.51661977891894,
           14.019120119448123,
           13.796727698111676,
           12.21176519739052,
           11.849195118005811,
           10.809666753819174,
           14.60408262016928,
           12.434157618726967,
           10.282154525281918,
           12.649886309782405,
           12.903642902028189,
           12.112229523839606,
           13.60408262016928,
           13.356155106725694,
           14.282154525281918,
           11.673345282606396,
           12.51661977891894,
           12.39462925454033,
           14.60408262016928,
           13.51661977891894,
           12.746101625041709,
           12.356155106725694,
           13.282154525281918,
           11.796727698111676,
           12.21176519739052,
           13.60408262016928,
           12.177817865467182,
           14.282154525281918,
           13.282154525281918,
           12.746101625041709,
           13.903642902028189,
           13.51661977891894,
           11.282154525281918,
           13.60408262016928,
           13.796727698111676,
           12.019120119448123,
           13.51661977891894,
           12.559688500810829,
           11.356155106725694,
           12.960226430394556,
           13.144651001531985,
           11.771192606004538,
           10.849195118005811,
           13.434157618726967,
           11.673345282606396
          ],
          "sizemode": "area",
          "sizeref": 0.03699181924527919,
          "symbol": "circle"
         },
         "mode": "markers+text",
         "name": "JJ",
         "orientation": "v",
         "showlegend": true,
         "text": [
          "afraid",
          "alive",
          "beautiful",
          "bitter",
          "black",
          "blue",
          "bright",
          "broken",
          "brown",
          "careful",
          "cheap",
          "clean",
          "clear",
          "cold",
          "common",
          "crazy",
          "dead",
          "deep",
          "different",
          "double",
          "dumb",
          "early",
          "easy",
          "empty",
          "evil",
          "fair",
          "famous",
          "favorite",
          "fifteen",
          "fine",
          "first",
          "free",
          "frozen",
          "fuck",
          "full",
          "funny",
          "gentle",
          "glad",
          "golden",
          "good",
          "great",
          "green",
          "happy",
          "hard",
          "high",
          "human",
          "hundred",
          "hungry",
          "last",
          "late",
          "little",
          "lonely",
          "long",
          "loose",
          "many",
          "much",
          "naked",
          "nervous",
          "next",
          "nice",
          "nobodys",
          "nothings",
          "open",
          "other",
          "perfect",
          "poor",
          "pure",
          "quick",
          "quiet",
          "ready",
          "real",
          "rough",
          "safe",
          "same",
          "second",
          "secret",
          "sick",
          "silent",
          "simple",
          "single",
          "slow",
          "small",
          "soft",
          "steady",
          "straight",
          "strange",
          "strong",
          "stupid",
          "such",
          "sure",
          "survive",
          "sweet",
          "tall",
          "thin",
          "tight",
          "tiny",
          "tough",
          "true",
          "unknown",
          "vacant",
          "warm",
          "weak",
          "weird",
          "white",
          "whole",
          "wide",
          "wild",
          "wrong",
          "yellow",
          "young"
         ],
         "type": "scatter",
         "x": [
          0.007606517711292483,
          -0.008495581320272227,
          -0.0002942400706358428,
          -0.018891508714316912,
          0.041248035434615755,
          0.041993129439941046,
          -0.000712454770733268,
          0.00032592700384295476,
          0.013385853516046303,
          -0.0022929589197049666,
          -0.0024306887483876638,
          0.013338592277640464,
          0.008194124619156291,
          -0.012665194193504573,
          -0.009246965639273765,
          -0.0016698604982230854,
          -0.004088545221998188,
          0.007734439853888011,
          0.0001028208554768863,
          0.00654005652950224,
          -0.012385759339112717,
          0.0015344869756702176,
          -0.003868202531991704,
          0.013190326348477908,
          -0.0044335832033490395,
          0.013182375428439173,
          -0.004453060971121948,
          -0.0017179790155110886,
          0.007096258692094661,
          -0.003682000224753338,
          -0.010061860917349457,
          0.004345691367312304,
          0.008944817000624867,
          -0.03867995955061562,
          0.010946020049875913,
          0.0036421622219702183,
          0.00537822397268658,
          0.0071140196918159215,
          0.007413351914202309,
          -0.08476421916873386,
          0.01857867602820037,
          0.028993129045269732,
          -0.0076762564432260065,
          -0.0032590178534287946,
          -0.008983188857961908,
          0.007043484369574332,
          -0.0014419630839476217,
          -0.0011429242891308328,
          0.005984378877376822,
          -0.0012718724197587302,
          0.012961975614189464,
          0.010083488978081149,
          0.008998204704797539,
          0.0045452289938855625,
          -0.0010769737231282122,
          -0.03680359796940675,
          -0.0007042523821129252,
          -0.001897112764609694,
          -0.022318564055202522,
          0.006017738726102727,
          0.016016298905007,
          0.0018205820481296596,
          0.029724970307413563,
          0.013476960424484954,
          0.0038739014779606102,
          0.00736328324516218,
          0.009132730334661616,
          0.005208385087601976,
          -0.010299912439835216,
          0.013872966453233616,
          -0.001073739888036778,
          0.00425002040375623,
          0.01359004658505264,
          -0.021579817283141012,
          0.00009950583582756125,
          -0.0011837386659734103,
          0.0002092777422417601,
          0.01028125164799625,
          0.008246173714469082,
          0.0007431554495479339,
          0.018042543944782788,
          -0.004390993443317681,
          0.019193572862576766,
          0.003258834781284267,
          0.003719278402835901,
          0.006358823905968379,
          -0.008408204159172414,
          -0.01614673572550722,
          -0.006221368581165125,
          -0.007431058782006748,
          0.0037031111240167355,
          0.007739702454087868,
          -0.010923202357560724,
          -0.002190699345748172,
          -0.011051091963925818,
          -0.0034853003381128344,
          0.006486009823399285,
          -0.01808664752702044,
          0.0012409308140201682,
          -0.004606311702659444,
          0.016841720785785334,
          -0.0005719682238242883,
          0.000007031924876734104,
          0.014258424342671862,
          0.003869167322486913,
          0.006681852690587613,
          0.017126597638139326,
          -0.024868536225584232,
          0.00487427790416424,
          -0.0007846276156960343
         ],
         "xaxis": "x",
         "y": [
          -0.007014141867631822,
          0.031024233457080247,
          -0.00024499800546226553,
          0.025368291278695058,
          0.01956442520048997,
          0.018333072825120422,
          0.011703490510439656,
          0.005830297720411602,
          0.0070071454672088855,
          -0.006168870457782651,
          0.002617610754658021,
          0.0036335678040101045,
          0.0002538408791203587,
          -0.0033839126238541777,
          0.007062405544275141,
          -0.01734497698462241,
          -0.008239145261926368,
          0.008391457723300619,
          0.004379053570869431,
          0.002356344040464945,
          -0.0015490135725387403,
          -0.00035180606472580244,
          0.01350718355955298,
          0.026758906471845485,
          -0.007245296041143006,
          -0.00462425012358413,
          -0.005062182069880732,
          -0.0026409978786887645,
          -0.0006009563366929939,
          -0.018184902030174768,
          -0.007060753779143476,
          0.0444216200813117,
          0.007593987750694594,
          -0.024787137069026376,
          -0.0005800564416150719,
          0.000984534396521183,
          -0.0005207550042654812,
          0.0034882832291967805,
          -0.003911692954880814,
          -0.04307197413546352,
          0.004511484091921061,
          0.006024621310952003,
          0.00583971699701848,
          -0.013214773349125056,
          -0.021673145505912764,
          0.00724727798717453,
          -0.007778273530285724,
          0.011219643481432688,
          0.0009143097557150092,
          0.0011747464737224527,
          -0.013799065775535326,
          0.0005923011270637617,
          -0.0041524345064016515,
          0.001749345926533873,
          0.0015013979427135795,
          -0.0026779097851849934,
          0.008378745008070745,
          0.0025212208303313846,
          -0.02422980950560214,
          -0.004595725163188433,
          0.0066074927441932526,
          -0.0028956212828904525,
          -0.012085422830704275,
          0.010295819113270111,
          0.008579045046880372,
          0.005675902487140926,
          -0.00245012313678813,
          0.0029462814666175157,
          0.003770825450335771,
          -0.004005447435311478,
          -0.02408631278327289,
          0.0002998298277837185,
          -0.00487138646503422,
          -0.01603242512709634,
          -0.005752112341169312,
          -0.0008114296979160488,
          -0.014625709937101739,
          0.002045646413924194,
          0.006930088225591445,
          -0.0035639505565083305,
          0.027524839842909998,
          -0.020443262429156842,
          0.03158199396165871,
          0.0016808415160592528,
          -0.007193293598483183,
          0.003182204293073565,
          0.012240043316028449,
          0.002679600300501204,
          -0.014287624935829652,
          -0.0318719305285649,
          -0.004473165436071225,
          0.015237242415187443,
          -0.014846009320811279,
          -0.00360268068902557,
          -0.011090449381740378,
          -0.007407707732343437,
          0.0022180917822791995,
          -0.035726174429950096,
          0.004643889647036018,
          0.0009018791893872042,
          0.015583515391283189,
          -0.0014743214304052783,
          0.005421411244363629,
          0.012128550372734144,
          -0.007416254106920707,
          -0.0028748054355332846,
          0.00878472492707055,
          -0.029819830646804088,
          0.0052813358602910926,
          0.01618222246097625
         ],
         "yaxis": "y"
        },
        {
         "alignmentgroup": "True",
         "hovertemplate": "max_pos=JJ<br>PC0=%{x}<extra></extra>",
         "legendgroup": "JJ",
         "marker": {
          "color": "#EF553B",
          "symbol": "circle"
         },
         "name": "JJ",
         "notched": true,
         "offsetgroup": "JJ",
         "showlegend": false,
         "type": "box",
         "x": [
          0.007606517711292483,
          -0.008495581320272227,
          -0.0002942400706358428,
          -0.018891508714316912,
          0.041248035434615755,
          0.041993129439941046,
          -0.000712454770733268,
          0.00032592700384295476,
          0.013385853516046303,
          -0.0022929589197049666,
          -0.0024306887483876638,
          0.013338592277640464,
          0.008194124619156291,
          -0.012665194193504573,
          -0.009246965639273765,
          -0.0016698604982230854,
          -0.004088545221998188,
          0.007734439853888011,
          0.0001028208554768863,
          0.00654005652950224,
          -0.012385759339112717,
          0.0015344869756702176,
          -0.003868202531991704,
          0.013190326348477908,
          -0.0044335832033490395,
          0.013182375428439173,
          -0.004453060971121948,
          -0.0017179790155110886,
          0.007096258692094661,
          -0.003682000224753338,
          -0.010061860917349457,
          0.004345691367312304,
          0.008944817000624867,
          -0.03867995955061562,
          0.010946020049875913,
          0.0036421622219702183,
          0.00537822397268658,
          0.0071140196918159215,
          0.007413351914202309,
          -0.08476421916873386,
          0.01857867602820037,
          0.028993129045269732,
          -0.0076762564432260065,
          -0.0032590178534287946,
          -0.008983188857961908,
          0.007043484369574332,
          -0.0014419630839476217,
          -0.0011429242891308328,
          0.005984378877376822,
          -0.0012718724197587302,
          0.012961975614189464,
          0.010083488978081149,
          0.008998204704797539,
          0.0045452289938855625,
          -0.0010769737231282122,
          -0.03680359796940675,
          -0.0007042523821129252,
          -0.001897112764609694,
          -0.022318564055202522,
          0.006017738726102727,
          0.016016298905007,
          0.0018205820481296596,
          0.029724970307413563,
          0.013476960424484954,
          0.0038739014779606102,
          0.00736328324516218,
          0.009132730334661616,
          0.005208385087601976,
          -0.010299912439835216,
          0.013872966453233616,
          -0.001073739888036778,
          0.00425002040375623,
          0.01359004658505264,
          -0.021579817283141012,
          0.00009950583582756125,
          -0.0011837386659734103,
          0.0002092777422417601,
          0.01028125164799625,
          0.008246173714469082,
          0.0007431554495479339,
          0.018042543944782788,
          -0.004390993443317681,
          0.019193572862576766,
          0.003258834781284267,
          0.003719278402835901,
          0.006358823905968379,
          -0.008408204159172414,
          -0.01614673572550722,
          -0.006221368581165125,
          -0.007431058782006748,
          0.0037031111240167355,
          0.007739702454087868,
          -0.010923202357560724,
          -0.002190699345748172,
          -0.011051091963925818,
          -0.0034853003381128344,
          0.006486009823399285,
          -0.01808664752702044,
          0.0012409308140201682,
          -0.004606311702659444,
          0.016841720785785334,
          -0.0005719682238242883,
          0.000007031924876734104,
          0.014258424342671862,
          0.003869167322486913,
          0.006681852690587613,
          0.017126597638139326,
          -0.024868536225584232,
          0.00487427790416424,
          -0.0007846276156960343
         ],
         "xaxis": "x2",
         "yaxis": "y2"
        },
        {
         "hovertemplate": "max_pos=RB<br>PC0=%{x}<br>PC1=%{y}<br>i=%{marker.size}<br>term_str=%{text}<extra></extra>",
         "legendgroup": "RB",
         "marker": {
          "color": "#00cc96",
          "size": [
           9.803182720248977,
           12.474799603224314,
           13.434157618726967,
           10.0116255829012,
           11.903642902028189,
           9.282154525281918,
           11.537993429711507,
           12.903642902028189,
           12.960226430394556,
           12.474799603224314,
           8.803182720248975,
           8.718386246829885,
           13.697192024560762,
           10.82272290664462,
           11.177817865467182,
           9.777534132878364,
           10.33729607947438,
           9.697192024560762,
           13.080520664112267,
           14.282154525281918,
           12.746101625041709,
           12.746101625041709,
           10.44421128339089,
           13.21176519739052,
           8.993057822861928,
           13.60408262016928,
           7.910595662669955,
           13.903642902028189,
           10.346694777476628,
           8.013495570254246,
           12.697192024560762,
           10.960226430394556,
           9.229043188822356,
           12.559688500810829,
           13.434157618726967,
           12.697192024560762,
           9.924602520663834,
           9.108227593282107,
           13.144651001531985,
           12.019120119448123,
           12.474799603224314,
           12.60408262016928,
           9.356155106725694,
           13.697192024560762,
           9.609729183310424,
           10.255354465938202,
           13.080520664112267,
           12.112229523839606
          ],
          "sizemode": "area",
          "sizeref": 0.03699181924527919,
          "symbol": "circle"
         },
         "mode": "markers+text",
         "name": "RB",
         "orientation": "v",
         "showlegend": true,
         "text": [
          "again",
          "ahead",
          "almost",
          "alone",
          "already",
          "always",
          "anymore",
          "anyway",
          "anywhere",
          "apart",
          "away",
          "back",
          "barely",
          "close",
          "else",
          "enough",
          "even",
          "ever",
          "everyday",
          "exactly",
          "fast",
          "finally",
          "forever",
          "forward",
          "here",
          "instead",
          "just",
          "lately",
          "maybe",
          "never",
          "nowhere",
          "once",
          "only",
          "pretty",
          "probably",
          "rather",
          "really",
          "right",
          "slowly",
          "sometimes",
          "somewhere",
          "soon",
          "still",
          "suddenly",
          "then",
          "together",
          "twice",
          "very"
         ],
         "type": "scatter",
         "x": [
          -0.028123540230958977,
          0.005677360249608299,
          0.003418701023795309,
          -0.04016421738955113,
          -0.003186903035845283,
          -0.014743271805586728,
          -0.04390750389927662,
          -0.023959244345747043,
          -0.012007145185280638,
          0.0027340874231276294,
          -0.05737542685666241,
          -0.02074986747327597,
          -0.0037785009886074487,
          -0.007699588436470245,
          -0.02617272985263313,
          -0.03235350052953708,
          -0.045595341495748835,
          -0.0385797240490434,
          0.0038079746079033843,
          -0.010997752227694356,
          0.004848592776745924,
          0.007936387541528757,
          -0.007144684743720407,
          -0.0027356255601737886,
          -0.036961366041240354,
          0.001299463391022058,
          -0.07082377306530598,
          -0.005549089386108648,
          -0.011025821458036171,
          -0.048955828964916515,
          0.0023379152498660565,
          0.0019710462922545133,
          -0.0013857754800395553,
          0.0027116933700695868,
          0.008476906430705623,
          -0.0012896446074634467,
          -0.13853207297045025,
          -0.03395519927078455,
          0.0013654499717952327,
          -0.014662027343865876,
          0.018658601852361397,
          -0.01035131449789591,
          -0.02397316221020889,
          0.0074642094328607085,
          -0.043806193334846116,
          0.023138602809886003,
          0.0050138629022001575,
          0.001803081260599911
         ],
         "xaxis": "x",
         "y": [
          -0.03254740952616747,
          0.013224950330429072,
          -0.00732977333664761,
          -0.02921947940682562,
          -0.022285025002781345,
          -0.0680438351386583,
          -0.0009810398867640333,
          -0.026876147012218753,
          -0.0028846601447936556,
          -0.012038455604906425,
          -0.022708390339824823,
          -0.04681882693494439,
          -0.0005735952740314826,
          -0.008691624961946575,
          0.0169284225539667,
          0.006936496915100276,
          -0.005240015103505434,
          -0.017750807034526007,
          0.002898690969988699,
          0.0025429056987617367,
          0.003985168351472226,
          0.0004464231926553603,
          -0.03603911229126322,
          -0.006021792424442215,
          -0.04306500973621091,
          -0.004582622196196024,
          -0.11377457445543576,
          0.0052341732366925926,
          -0.034619832350086005,
          -0.0771751199011435,
          0.0110791070359927,
          -0.01379136686115682,
          -0.023055022037819818,
          0.0022608178755867078,
          0.007117636255138596,
          -0.00981008713990201,
          0.10339478064014405,
          -0.08287657096651813,
          0.008538077035518893,
          -0.027174980746467372,
          0.0066929196921426005,
          -0.005688427267900475,
          -0.044175937640950194,
          0.006359206815847111,
          -0.005772677011355669,
          -0.00902490005117435,
          -0.009314188005937737,
          -0.009436387422485471
         ],
         "yaxis": "y"
        },
        {
         "alignmentgroup": "True",
         "hovertemplate": "max_pos=RB<br>PC0=%{x}<extra></extra>",
         "legendgroup": "RB",
         "marker": {
          "color": "#00cc96",
          "symbol": "circle"
         },
         "name": "RB",
         "notched": true,
         "offsetgroup": "RB",
         "showlegend": false,
         "type": "box",
         "x": [
          -0.028123540230958977,
          0.005677360249608299,
          0.003418701023795309,
          -0.04016421738955113,
          -0.003186903035845283,
          -0.014743271805586728,
          -0.04390750389927662,
          -0.023959244345747043,
          -0.012007145185280638,
          0.0027340874231276294,
          -0.05737542685666241,
          -0.02074986747327597,
          -0.0037785009886074487,
          -0.007699588436470245,
          -0.02617272985263313,
          -0.03235350052953708,
          -0.045595341495748835,
          -0.0385797240490434,
          0.0038079746079033843,
          -0.010997752227694356,
          0.004848592776745924,
          0.007936387541528757,
          -0.007144684743720407,
          -0.0027356255601737886,
          -0.036961366041240354,
          0.001299463391022058,
          -0.07082377306530598,
          -0.005549089386108648,
          -0.011025821458036171,
          -0.048955828964916515,
          0.0023379152498660565,
          0.0019710462922545133,
          -0.0013857754800395553,
          0.0027116933700695868,
          0.008476906430705623,
          -0.0012896446074634467,
          -0.13853207297045025,
          -0.03395519927078455,
          0.0013654499717952327,
          -0.014662027343865876,
          0.018658601852361397,
          -0.01035131449789591,
          -0.02397316221020889,
          0.0074642094328607085,
          -0.043806193334846116,
          0.023138602809886003,
          0.0050138629022001575,
          0.001803081260599911
         ],
         "xaxis": "x2",
         "yaxis": "y2"
        },
        {
         "hovertemplate": "max_pos=VBZ<br>PC0=%{x}<br>PC1=%{y}<br>i=%{marker.size}<br>term_str=%{text}<extra></extra>",
         "legendgroup": "VBZ",
         "marker": {
          "color": "#ab63fa",
          "size": [
           11.21176519739052,
           12.960226430394556,
           14.282154525281918,
           14.282154525281918,
           13.697192024560762,
           10.796727698111676,
           11.300301871992176,
           11.771192606004538,
           14.019120119448123,
           13.080520664112267,
           11.51661977891894,
           12.318680401307033,
           11.649886309782405,
           14.60408262016928,
           12.356155106725694,
           11.960226430394556,
           11.626802696669364,
           11.960226430394556,
           11.649886309782405,
           11.474799603224314,
           13.080520664112267,
           14.60408262016928,
           13.51661977891894,
           14.019120119448123,
           14.434157618726967,
           12.796727698111676,
           13.144651001531985,
           14.144651001531985,
           13.697192024560762,
           13.51661977891894,
           11.989372776054072,
           13.697192024560762,
           12.049493768491644,
           11.989372776054072,
           12.112229523839606
          ],
          "sizemode": "area",
          "sizeref": 0.03699181924527919,
          "symbol": "circle"
         },
         "mode": "markers+text",
         "name": "VBZ",
         "orientation": "v",
         "showlegend": true,
         "text": [
          "aint",
          "becomes",
          "begins",
          "brings",
          "calls",
          "comes",
          "does",
          "doesnt",
          "ends",
          "faces",
          "feels",
          "gets",
          "goes",
          "happens",
          "hurts",
          "isnt",
          "keeps",
          "knows",
          "looks",
          "makes",
          "means",
          "moves",
          "needs",
          "remains",
          "runs",
          "says",
          "seems",
          "sees",
          "sounds",
          "starts",
          "takes",
          "tells",
          "turns",
          "wants",
          "wasnt"
         ],
         "type": "scatter",
         "x": [
          0.0026348236469787567,
          0.006305627892292663,
          0.007951249123936643,
          0.002693026992547805,
          0.000030559563413762717,
          0.012104228121680367,
          -0.014504880297118175,
          -0.004196426239516366,
          -0.001343091893058674,
          0.006575873449516228,
          0.0050771640231458475,
          -0.00833939770292429,
          0.013839950495008234,
          0.0014547194246358635,
          -0.008569149671747208,
          -0.0025539510898029633,
          0.026834484028019353,
          -0.010539387864599271,
          0.009146468181201248,
          -0.030987654390706318,
          0.004684490693250577,
          -0.0004512540032138649,
          -0.006572697239910355,
          0.0007737426197708305,
          -0.0003343575677227826,
          -0.015094041216623274,
          0.0016312806967394061,
          -0.001493345597935415,
          -0.0019219975645716739,
          -0.001644358021524349,
          -0.020040399422733283,
          0.005962036010070608,
          0.024436380219686686,
          -0.00851602015922029,
          -0.00012225318024245387
         ],
         "xaxis": "x",
         "y": [
          0.0013593235189909986,
          0.012765449152970645,
          0.004318995013178499,
          -0.0021786556027106226,
          -0.005560726597159722,
          -0.002929239569358431,
          0.009139424289956705,
          -0.002106586654955351,
          0.000034218632035375036,
          0.0032952456734839193,
          -0.013332570115627282,
          -0.025552152262346035,
          0.010258351787667971,
          -0.0018814249248537652,
          0.00023664771327491966,
          -0.005751363840076644,
          0.009590491680099823,
          -0.025402323387680194,
          0.0030280501020155917,
          0.009256805389403282,
          -0.00807064180037369,
          -0.00512512815485117,
          0.0003558081803241463,
          0.001597178788990081,
          0.010568799917998813,
          -0.005674478142260543,
          -0.006881494331323652,
          0.00037664111518256443,
          0.0050433291837041015,
          -0.0036126264177831846,
          -0.03753771973557317,
          0.0005810853580764892,
          0.012777874238748042,
          -0.002767741834377748,
          -0.0008894780326750365
         ],
         "yaxis": "y"
        },
        {
         "alignmentgroup": "True",
         "hovertemplate": "max_pos=VBZ<br>PC0=%{x}<extra></extra>",
         "legendgroup": "VBZ",
         "marker": {
          "color": "#ab63fa",
          "symbol": "circle"
         },
         "name": "VBZ",
         "notched": true,
         "offsetgroup": "VBZ",
         "showlegend": false,
         "type": "box",
         "x": [
          0.0026348236469787567,
          0.006305627892292663,
          0.007951249123936643,
          0.002693026992547805,
          0.000030559563413762717,
          0.012104228121680367,
          -0.014504880297118175,
          -0.004196426239516366,
          -0.001343091893058674,
          0.006575873449516228,
          0.0050771640231458475,
          -0.00833939770292429,
          0.013839950495008234,
          0.0014547194246358635,
          -0.008569149671747208,
          -0.0025539510898029633,
          0.026834484028019353,
          -0.010539387864599271,
          0.009146468181201248,
          -0.030987654390706318,
          0.004684490693250577,
          -0.0004512540032138649,
          -0.006572697239910355,
          0.0007737426197708305,
          -0.0003343575677227826,
          -0.015094041216623274,
          0.0016312806967394061,
          -0.001493345597935415,
          -0.0019219975645716739,
          -0.001644358021524349,
          -0.020040399422733283,
          0.005962036010070608,
          0.024436380219686686,
          -0.00851602015922029,
          -0.00012225318024245387
         ],
         "xaxis": "x2",
         "yaxis": "y2"
        },
        {
         "hovertemplate": "max_pos=NNS<br>PC0=%{x}<br>PC1=%{y}<br>i=%{marker.size}<br>term_str=%{text}<extra></extra>",
         "legendgroup": "NNS",
         "marker": {
          "color": "#FFA15A",
          "size": [
           13.51661977891894,
           10.626802696669364,
           13.144651001531985,
           13.282154525281918,
           13.434157618726967,
           12.746101625041709,
           12.51661977891894,
           11.849195118005811,
           13.697192024560762,
           14.144651001531985,
           13.697192024560762,
           12.282154525281918,
           13.282154525281918,
           12.474799603224314,
           14.282154525281918,
           14.144651001531985,
           14.434157618726967,
           14.282154525281918,
           14.144651001531985,
           10.474799603224314,
           14.60408262016928,
           13.080520664112267,
           11.960226430394556,
           14.019120119448123,
           12.849195118005811,
           9.370462943409578,
           14.144651001531985,
           12.356155106725694,
           11.673345282606396,
           12.697192024560762,
           13.51661977891894,
           13.51661977891894,
           10.862615633768131,
           10.60408262016928,
           10.989372776054072,
           12.796727698111676,
           12.356155106725694,
           14.282154525281918,
           14.434157618726967,
           14.144651001531985,
           13.21176519739052,
           14.60408262016928,
           11.82272290664462,
           12.849195118005811,
           12.796727698111676,
           11.080520664112267,
           11.128349189202885,
           12.960226430394556,
           12.049493768491644,
           12.21176519739052,
           12.559688500810829,
           11.33729607947438,
           12.51661977891894,
           13.903642902028189,
           13.080520664112267,
           12.246530615551196,
           11.495558163391111,
           10.309461871277652,
           12.960226430394556,
           10.697192024560762,
           13.51661977891894,
           14.019120119448123,
           13.356155106725694,
           12.903642902028189,
           14.019120119448123,
           12.796727698111676,
           13.796727698111676,
           14.019120119448123,
           12.746101625041709,
           13.51661977891894,
           13.434157618726967,
           14.144651001531985,
           13.356155106725694,
           14.796727698111676,
           13.903642902028189,
           10.989372776054072,
           12.903642902028189,
           13.796727698111676,
           13.60408262016928,
           12.697192024560762,
           12.049493768491644,
           12.559688500810829,
           10.0116255829012,
           13.21176519739052,
           11.626802696669364,
           12.60408262016928,
           13.903642902028189,
           12.39462925454033,
           12.474799603224314,
           12.356155106725694,
           13.080520664112267,
           13.356155106725694,
           11.434157618726967,
           11.87616216560608,
           12.39462925454033
          ],
          "sizemode": "area",
          "sizeref": 0.03699181924527919,
          "symbol": "circle"
         },
         "mode": "markers+text",
         "name": "NNS",
         "orientation": "v",
         "showlegend": true,
         "text": [
          "angels",
          "arms",
          "ashes",
          "beats",
          "birds",
          "bodies",
          "bones",
          "boys",
          "breaks",
          "burns",
          "cards",
          "children",
          "circles",
          "clothes",
          "colors",
          "cops",
          "cracks",
          "creatures",
          "cries",
          "days",
          "dogs",
          "doors",
          "dreams",
          "ears",
          "enemies",
          "eyes",
          "feathers",
          "feelings",
          "feet",
          "fingers",
          "flies",
          "flowers",
          "friends",
          "girls",
          "hands",
          "heads",
          "hearts",
          "heels",
          "hits",
          "holes",
          "hours",
          "houses",
          "kids",
          "knees",
          "leaves",
          "lies",
          "lights",
          "lines",
          "lips",
          "lives",
          "lovers",
          "loves",
          "memories",
          "miles",
          "mistakes",
          "nights",
          "ones",
          "people",
          "pieces",
          "pills",
          "places",
          "planets",
          "plans",
          "rings",
          "rivers",
          "roses",
          "rules",
          "secrets",
          "shadows",
          "shoes",
          "shoulders",
          "signs",
          "skies",
          "smells",
          "songs",
          "stars",
          "steps",
          "stones",
          "strangers",
          "streets",
          "tears",
          "teeth",
          "things",
          "thoughts",
          "times",
          "trees",
          "visions",
          "walls",
          "waves",
          "ways",
          "windows",
          "wings",
          "words",
          "years",
          "yours"
         ],
         "type": "scatter",
         "x": [
          0.0008999222672507307,
          0.015487385842730255,
          0.005230782247325758,
          0.004988040028686837,
          0.008341121640408527,
          0.002807761130685466,
          0.0015301703739608627,
          0.009944810390688221,
          0.0052945301701642624,
          0.0007682784715882154,
          0.00036773166951027436,
          -0.00018621526544717676,
          -0.007223935821302649,
          -0.004794572600762719,
          0.004411941360215423,
          -0.005893588130194221,
          0.0024580375128813283,
          -0.003265841829923492,
          0.00262089021683656,
          0.002127204363690633,
          0.005908237534826845,
          0.010427204306077673,
          -0.006176519083212071,
          -0.0003144355712547508,
          0.01517823555312857,
          0.025836891234248097,
          0.012287122368684822,
          0.011396211554897484,
          -0.0006010234041087303,
          0.012710857081856828,
          0.006288468459541237,
          -0.009609156602027047,
          -0.020186775475592417,
          0.032533735395639536,
          0.0007978979994044041,
          0.0011999514020536685,
          -0.004952707376955893,
          0.004596252648874919,
          -0.003799532444431043,
          0.0017441253418307638,
          0.014240590655409028,
          0.002897482355903784,
          -0.017324709162943246,
          -0.01774394667544111,
          0.03381363704015747,
          0.01629133624603766,
          0.014100569325546465,
          0.013281397727833598,
          0.011034545441199426,
          -0.0021532785485700776,
          0.01850270758373071,
          -0.00680841724636673,
          -0.0015447951966386275,
          0.0001727162272959052,
          -0.002537210764283653,
          0.00858940429272496,
          0.0031610897770447065,
          -0.012438629112432452,
          0.002623558299307332,
          0.003046158101653303,
          0.005963183822356582,
          0.0018629720902721377,
          0.011644729218303545,
          0.02625436853350606,
          0.003861967640882876,
          0.01729711535798162,
          0.0036801215640961333,
          0.0018065946362318562,
          0.016910395924299517,
          -0.001112906792666525,
          0.009142801850379951,
          0.00416857493024505,
          0.007287139838179607,
          0.0033247721858234683,
          0.005425501412567248,
          0.0019582473875119485,
          0.010807067021023057,
          -0.0001266735917080908,
          -0.019578487102580897,
          0.012026047371903116,
          -0.016750269774235008,
          0.0074898335438270125,
          -0.050098160356518574,
          -0.003137858208694662,
          -0.0047398662423699224,
          0.005320453054918853,
          0.009680087072944458,
          0.016407558467210676,
          0.014674125696982907,
          -0.0030335449792412636,
          0.005257714785703353,
          0.009758154600104048,
          0.003185987775299199,
          0.0014396389701840753,
          -0.016941446618615404
         ],
         "xaxis": "x",
         "y": [
          -0.0036046070293570265,
          -0.017946739998413893,
          0.0011308689506247527,
          -0.0020591025445329384,
          0.004190345850457629,
          0.0070874656152052655,
          0.005974277473554069,
          0.014596607062288366,
          -0.007474647728516454,
          -0.002491959408228211,
          0.0006753922654258671,
          0.0071197926398936205,
          -0.00020474117398001945,
          -0.018993087027846738,
          0.0019344611764963188,
          -0.01738199673740369,
          0.0008618864579849868,
          0.0011623948326305738,
          -0.00006734620980308749,
          -0.036963858637697224,
          0.006559146698071119,
          0.0012663372245165104,
          -0.026818385919165477,
          -0.0042593045675848136,
          0.001068516909553562,
          -0.041413405374537526,
          0.00965696046815626,
          0.007133984622800698,
          -0.0165381925500002,
          0.008629813551446174,
          0.0015906720258465454,
          0.008232245577813446,
          -0.045806108702535056,
          0.03868994176276358,
          -0.004205280462428299,
          -0.012357358258502786,
          0.0010786185350546585,
          0.00622519067623799,
          -0.001990704837076129,
          -0.00021974539585755253,
          -0.00041474274330130636,
          -0.0011073900978050878,
          -0.01707141108370566,
          -0.0014121709090100256,
          0.0345232935186926,
          0.01937883784314448,
          0.022314793362298815,
          0.008994798082537671,
          0.009821472923195997,
          -0.014740544974215205,
          0.0038664721438940097,
          -0.04213321234666264,
          -0.00041080545391198215,
          0.004870087848033634,
          -0.012703028697181297,
          -0.013021067087284323,
          -0.011954012160347926,
          0.012464612738338446,
          -0.004644011043840133,
          0.016735277717282535,
          0.00019630619685841115,
          -0.004873596849286085,
          -0.0002896870811407459,
          0.015065033667289222,
          0.0034729926538690065,
          -0.00035258000686898294,
          -0.004749711078990744,
          -0.006898489845765765,
          0.004374064750897997,
          0.001901150876036785,
          0.004283407197086607,
          0.0017667972944686063,
          -0.0010939666176292338,
          -0.00217025393851766,
          0.0064229212258885525,
          0.0523671220574423,
          0.007775308441734195,
          -0.012827678357243261,
          -0.004083228764672938,
          0.0010185566735704556,
          0.011095393634451882,
          -0.0021845261678891887,
          -0.008046963263038064,
          0.0006457204747429279,
          -0.00349793477742069,
          0.01659579313315622,
          0.004377564598805597,
          -0.00017719999044765028,
          0.0029098283681132,
          -0.02472771803449662,
          -0.0015614227293984711,
          0.005471980162297173,
          0.00919760774921298,
          -0.021311575306946665,
          -0.027769961808352287
         ],
         "yaxis": "y"
        },
        {
         "alignmentgroup": "True",
         "hovertemplate": "max_pos=NNS<br>PC0=%{x}<extra></extra>",
         "legendgroup": "NNS",
         "marker": {
          "color": "#FFA15A",
          "symbol": "circle"
         },
         "name": "NNS",
         "notched": true,
         "offsetgroup": "NNS",
         "showlegend": false,
         "type": "box",
         "x": [
          0.0008999222672507307,
          0.015487385842730255,
          0.005230782247325758,
          0.004988040028686837,
          0.008341121640408527,
          0.002807761130685466,
          0.0015301703739608627,
          0.009944810390688221,
          0.0052945301701642624,
          0.0007682784715882154,
          0.00036773166951027436,
          -0.00018621526544717676,
          -0.007223935821302649,
          -0.004794572600762719,
          0.004411941360215423,
          -0.005893588130194221,
          0.0024580375128813283,
          -0.003265841829923492,
          0.00262089021683656,
          0.002127204363690633,
          0.005908237534826845,
          0.010427204306077673,
          -0.006176519083212071,
          -0.0003144355712547508,
          0.01517823555312857,
          0.025836891234248097,
          0.012287122368684822,
          0.011396211554897484,
          -0.0006010234041087303,
          0.012710857081856828,
          0.006288468459541237,
          -0.009609156602027047,
          -0.020186775475592417,
          0.032533735395639536,
          0.0007978979994044041,
          0.0011999514020536685,
          -0.004952707376955893,
          0.004596252648874919,
          -0.003799532444431043,
          0.0017441253418307638,
          0.014240590655409028,
          0.002897482355903784,
          -0.017324709162943246,
          -0.01774394667544111,
          0.03381363704015747,
          0.01629133624603766,
          0.014100569325546465,
          0.013281397727833598,
          0.011034545441199426,
          -0.0021532785485700776,
          0.01850270758373071,
          -0.00680841724636673,
          -0.0015447951966386275,
          0.0001727162272959052,
          -0.002537210764283653,
          0.00858940429272496,
          0.0031610897770447065,
          -0.012438629112432452,
          0.002623558299307332,
          0.003046158101653303,
          0.005963183822356582,
          0.0018629720902721377,
          0.011644729218303545,
          0.02625436853350606,
          0.003861967640882876,
          0.01729711535798162,
          0.0036801215640961333,
          0.0018065946362318562,
          0.016910395924299517,
          -0.001112906792666525,
          0.009142801850379951,
          0.00416857493024505,
          0.007287139838179607,
          0.0033247721858234683,
          0.005425501412567248,
          0.0019582473875119485,
          0.010807067021023057,
          -0.0001266735917080908,
          -0.019578487102580897,
          0.012026047371903116,
          -0.016750269774235008,
          0.0074898335438270125,
          -0.050098160356518574,
          -0.003137858208694662,
          -0.0047398662423699224,
          0.005320453054918853,
          0.009680087072944458,
          0.016407558467210676,
          0.014674125696982907,
          -0.0030335449792412636,
          0.005257714785703353,
          0.009758154600104048,
          0.003185987775299199,
          0.0014396389701840753,
          -0.016941446618615404
         ],
         "xaxis": "x2",
         "yaxis": "y2"
        },
        {
         "hovertemplate": "max_pos=VBP<br>PC0=%{x}<br>PC1=%{y}<br>i=%{marker.size}<br>term_str=%{text}<extra></extra>",
         "legendgroup": "VBP",
         "marker": {
          "color": "#19d3f3",
          "size": [
           13.60408262016928,
           14.144651001531985,
           10.112229523839606,
           12.559688500810829,
           12.177817865467182,
           8.454335500664598,
           8.626802696669364,
           11.771192606004538,
           12.177817865467182,
           10.38491409970712,
           7.223621555080308,
           14.60408262016928,
           13.796727698111676,
           11.673345282606396,
           11.771192606004538,
           8.629668030363753,
           12.282154525281918,
           14.434157618726967,
           7.293469838509752,
           10.783903657754092,
           11.771192606004538,
           9.327958214895045,
           12.60408262016928,
           13.434157618726967,
           13.903642902028189,
           13.080520664112267,
           12.356155106725694,
           13.080520664112267,
           13.903642902028189,
           12.559688500810829,
           11.495558163391111,
           13.282154525281918,
           9.404410275332916,
           8.739896475515,
           8.020999852666346,
           12.849195118005811,
           12.177817865467182,
           10.697192024560762,
           12.21176519739052,
           9.203203183887096,
           12.144651001531985,
           12.849195118005811
          ],
          "sizemode": "area",
          "sizeref": 0.03699181924527919,
          "symbol": "circle"
         },
         "mode": "markers+text",
         "name": "VBP",
         "orientation": "v",
         "showlegend": true,
         "text": [
          "arent",
          "become",
          "believe",
          "belong",
          "cannot",
          "cant",
          "come",
          "couldnt",
          "cover",
          "didnt",
          "dont",
          "flip",
          "forgive",
          "gotta",
          "guess",
          "have",
          "havent",
          "ignore",
          "know",
          "mean",
          "miss",
          "need",
          "pray",
          "protect",
          "scare",
          "seem",
          "shine",
          "shouldnt",
          "slide",
          "speak",
          "stand",
          "swear",
          "think",
          "wanna",
          "want",
          "wash",
          "wear",
          "wish",
          "wonder",
          "wont",
          "wouldnt",
          "write"
         ],
         "type": "scatter",
         "x": [
          0.00736891655688127,
          0.009225326385220013,
          -0.03199410828828133,
          -0.014366597727028385,
          -0.021002123710551622,
          -0.08401904034670554,
          0.02975559512578934,
          -0.0016780443099814707,
          -0.017599452434249416,
          -0.021573628369981137,
          -0.2071890291471193,
          0.003951974512882927,
          -0.0009845354052261017,
          -0.03394105161343255,
          -0.0011702337761271024,
          -0.05146498530345391,
          0.01084111941289691,
          -0.005218038081945962,
          -0.13053516501685347,
          -0.013960219138900457,
          0.004786479572335794,
          -0.13357652500662995,
          -0.011395103621426091,
          0.005780450001606289,
          -0.0031040447201263286,
          -0.022097893808193762,
          0.011218343618276663,
          0.0027898231247232438,
          0.004989658387229233,
          -0.003299032281315173,
          -0.005643080635397684,
          0.006349576049324232,
          -0.06323064078735814,
          -0.23589598200019038,
          -0.7361350919792655,
          -0.006959752644787466,
          -0.009402837447602536,
          -0.0027669017092139593,
          -0.002228357119503456,
          -0.06874008826719938,
          -0.012401875101972836,
          0.0025107964740274666
         ],
         "xaxis": "x",
         "y": [
          -0.003851373058254314,
          0.008158256200812746,
          -0.001095890130169874,
          0.004261968636470493,
          0.006021038845323883,
          0.02992671531932313,
          -0.02275364196218685,
          0.0031709636859001797,
          0.0123866725171599,
          -0.023465280144360463,
          -0.212956293339011,
          -0.0012215580696258962,
          -0.0055016268904310335,
          0.0015786997336004335,
          -0.011738269218583766,
          -0.02760855420779868,
          0.005394269165176183,
          -0.00007728407518559729,
          -0.23263325469328622,
          -0.028207141551217924,
          -0.008446204410772862,
          -0.05082051676358106,
          0.013512664465939265,
          0.0022101627513012013,
          -0.009657346827583289,
          0.010493445213221165,
          0.0111822808560635,
          -0.00671467581516748,
          0.0019742204710466453,
          0.01566189256703393,
          0.006005805851028824,
          -0.0061759522512137895,
          -0.057827703391923856,
          -0.31596467238066295,
          0.50682732324484,
          -0.0022176462151618052,
          -0.0023511679444418107,
          -0.023170241978677984,
          -0.013347723407344048,
          -0.03868241667765308,
          -0.0048237296235407925,
          -0.011294697424857027
         ],
         "yaxis": "y"
        },
        {
         "alignmentgroup": "True",
         "hovertemplate": "max_pos=VBP<br>PC0=%{x}<extra></extra>",
         "legendgroup": "VBP",
         "marker": {
          "color": "#19d3f3",
          "symbol": "circle"
         },
         "name": "VBP",
         "notched": true,
         "offsetgroup": "VBP",
         "showlegend": false,
         "type": "box",
         "x": [
          0.00736891655688127,
          0.009225326385220013,
          -0.03199410828828133,
          -0.014366597727028385,
          -0.021002123710551622,
          -0.08401904034670554,
          0.02975559512578934,
          -0.0016780443099814707,
          -0.017599452434249416,
          -0.021573628369981137,
          -0.2071890291471193,
          0.003951974512882927,
          -0.0009845354052261017,
          -0.03394105161343255,
          -0.0011702337761271024,
          -0.05146498530345391,
          0.01084111941289691,
          -0.005218038081945962,
          -0.13053516501685347,
          -0.013960219138900457,
          0.004786479572335794,
          -0.13357652500662995,
          -0.011395103621426091,
          0.005780450001606289,
          -0.0031040447201263286,
          -0.022097893808193762,
          0.011218343618276663,
          0.0027898231247232438,
          0.004989658387229233,
          -0.003299032281315173,
          -0.005643080635397684,
          0.006349576049324232,
          -0.06323064078735814,
          -0.23589598200019038,
          -0.7361350919792655,
          -0.006959752644787466,
          -0.009402837447602536,
          -0.0027669017092139593,
          -0.002228357119503456,
          -0.06874008826719938,
          -0.012401875101972836,
          0.0025107964740274666
         ],
         "xaxis": "x2",
         "yaxis": "y2"
        },
        {
         "hovertemplate": "max_pos=VBD<br>PC0=%{x}<br>PC1=%{y}<br>i=%{marker.size}<br>term_str=%{text}<extra></extra>",
         "legendgroup": "VBD",
         "marker": {
          "color": "#FF6692",
          "size": [
           13.51661977891894,
           13.60408262016928,
           13.903642902028189,
           13.434157618726967,
           13.144651001531985,
           13.434157618726967,
           11.697192024560762,
           11.87616216560608,
           12.903642902028189,
           14.019120119448123,
           13.903642902028189,
           12.746101625041709,
           11.537993429711507,
           10.974726000089673,
           13.356155106725694,
           11.414258061289264,
           12.177817865467182,
           13.434157618726967,
           12.049493768491644,
           12.39462925454033,
           13.080520664112267,
           11.495558163391111,
           13.796727698111676,
           10.414258061289264,
           13.282154525281918,
           12.177817865467182,
           12.144651001531985,
           10.404410275332916,
           12.960226430394556,
           13.60408262016928,
           13.144651001531985,
           14.144651001531985,
           13.51661977891894,
           13.697192024560762,
           13.903642902028189,
           9.598458070975402,
           14.796727698111676,
           12.318680401307033,
           12.960226430394556,
           12.474799603224314,
           14.282154525281918,
           13.60408262016928,
           11.989372776054072,
           14.019120119448123,
           10.835898295392354,
           11.282154525281918,
           10.697192024560762,
           11.39462925454033,
           11.796727698111676,
           12.649886309782405,
           10.945871137417486,
           12.474799603224314,
           10.989372776054072,
           14.60408262016928,
           11.697192024560762,
           8.33729607947438,
           14.019120119448123,
           12.849195118005811,
           13.60408262016928
          ],
          "sizemode": "area",
          "sizeref": 0.03699181924527919,
          "symbol": "circle"
         },
         "mode": "markers+text",
         "name": "VBD",
         "orientation": "v",
         "showlegend": true,
         "text": [
          "asked",
          "believed",
          "bought",
          "broke",
          "brought",
          "called",
          "came",
          "caught",
          "changed",
          "closed",
          "died",
          "fell",
          "felt",
          "found",
          "fucked",
          "gave",
          "hang",
          "happened",
          "heard",
          "held",
          "kept",
          "knew",
          "learned",
          "left",
          "lived",
          "looked",
          "loved",
          "made",
          "messed",
          "missed",
          "needed",
          "passed",
          "played",
          "promised",
          "pulled",
          "said",
          "shook",
          "shut",
          "spent",
          "started",
          "stayed",
          "stopped",
          "suck",
          "supposed",
          "thought",
          "tired",
          "told",
          "took",
          "tried",
          "turned",
          "used",
          "waited",
          "wanted",
          "watched",
          "went",
          "were",
          "woke",
          "wrapped",
          "wrote"
         ],
         "type": "scatter",
         "x": [
          0.007044621863655101,
          -0.005859482008699298,
          -0.005340851538681438,
          0.00012986916504734806,
          0.002463344067946419,
          0.0036164198633179077,
          0.009887629427220247,
          0.0027916222360053634,
          -0.01180489270881462,
          0.006657561239100938,
          -0.0015062437332301877,
          0.01489968861907198,
          0.021882431075141047,
          0.020016230493173946,
          -0.0010390089173571363,
          -0.001722019474466257,
          0.012260461530813872,
          0.0009612461628102786,
          0.008890736458806286,
          -0.004847744409801038,
          0.0015244374513582997,
          0.001931032411326265,
          -0.0034792459088808314,
          -0.01294908801364726,
          0.00818915374606559,
          0.0036248346009445168,
          -0.010572624822246277,
          -0.010940912492046,
          0.0003147005555259546,
          -0.0013814831004378735,
          -0.030653644550763824,
          0.004026733563357071,
          0.0023532214024506344,
          -0.0038910653978544473,
          0.00619286314886596,
          -0.005511253288001529,
          0.0030733723363745107,
          0.00832807800268279,
          0.0064767595843931184,
          0.007750843502136894,
          0.002823587228556734,
          0.0049837922400532315,
          -0.0034041896591539356,
          -0.0034473515884407826,
          -0.014609851523533932,
          -0.0053344557835335715,
          -0.03475344035923756,
          0.007709855559801363,
          0.008305867874398486,
          0.013116485057130572,
          -0.02095095548549047,
          0.016620618783877418,
          -0.024379323601434254,
          0.0047158890256392035,
          -0.0100851671320785,
          -0.028468941789863665,
          0.005138933755511707,
          0.022679638107899962,
          0.0006769389276895223
         ],
         "xaxis": "x",
         "y": [
          -0.0012587003674961604,
          -0.0012958843263182116,
          -0.0005289713969016247,
          -0.005256318774986319,
          -0.0014282824763412396,
          -0.0015321424483073164,
          -0.010504728590731968,
          -0.018167306642498122,
          0.0017296996848776144,
          -0.004227891300533121,
          -0.00734760679961935,
          -0.0004794602867050362,
          0.007582143879937947,
          -0.0015297220354383795,
          -0.0035178801086953896,
          -0.021159027434509436,
          0.01810279969454001,
          -0.0000923722628656168,
          0.0012319845454513724,
          -0.025748032436245117,
          -0.00228917526244541,
          -0.01973356955231221,
          -0.0008769236815395104,
          -0.025804386113205083,
          -0.004479565547379649,
          0.009148616738690565,
          -0.004661768075056733,
          -0.055519658223404704,
          0.003481845319456877,
          0.0004685960746434434,
          0.0050004637988310344,
          -0.001247081831702353,
          -0.0006789519963477348,
          0.00006970528551656078,
          -0.0006401749548498396,
          -0.013599816391842053,
          0.0014998783379593557,
          0.0009859154047680164,
          0.0016483105080666268,
          0.00716671676414566,
          0.002742980682664712,
          0.013202270098052428,
          0.03242485149383882,
          -0.009523688199827655,
          -0.033735815811116183,
          -0.023122221916613336,
          -0.02672012166924955,
          -0.004106486870954156,
          -0.0052035402772954995,
          -0.00924081810312646,
          0.0063890216485726755,
          0.005892876833520807,
          -0.010762999786053046,
          0.000029953432669220797,
          0.001515200601284918,
          -0.11197364202936393,
          0.008935302780907753,
          0.02279004941075571,
          -0.0028512688356313043
         ],
         "yaxis": "y"
        },
        {
         "alignmentgroup": "True",
         "hovertemplate": "max_pos=VBD<br>PC0=%{x}<extra></extra>",
         "legendgroup": "VBD",
         "marker": {
          "color": "#FF6692",
          "symbol": "circle"
         },
         "name": "VBD",
         "notched": true,
         "offsetgroup": "VBD",
         "showlegend": false,
         "type": "box",
         "x": [
          0.007044621863655101,
          -0.005859482008699298,
          -0.005340851538681438,
          0.00012986916504734806,
          0.002463344067946419,
          0.0036164198633179077,
          0.009887629427220247,
          0.0027916222360053634,
          -0.01180489270881462,
          0.006657561239100938,
          -0.0015062437332301877,
          0.01489968861907198,
          0.021882431075141047,
          0.020016230493173946,
          -0.0010390089173571363,
          -0.001722019474466257,
          0.012260461530813872,
          0.0009612461628102786,
          0.008890736458806286,
          -0.004847744409801038,
          0.0015244374513582997,
          0.001931032411326265,
          -0.0034792459088808314,
          -0.01294908801364726,
          0.00818915374606559,
          0.0036248346009445168,
          -0.010572624822246277,
          -0.010940912492046,
          0.0003147005555259546,
          -0.0013814831004378735,
          -0.030653644550763824,
          0.004026733563357071,
          0.0023532214024506344,
          -0.0038910653978544473,
          0.00619286314886596,
          -0.005511253288001529,
          0.0030733723363745107,
          0.00832807800268279,
          0.0064767595843931184,
          0.007750843502136894,
          0.002823587228556734,
          0.0049837922400532315,
          -0.0034041896591539356,
          -0.0034473515884407826,
          -0.014609851523533932,
          -0.0053344557835335715,
          -0.03475344035923756,
          0.007709855559801363,
          0.008305867874398486,
          0.013116485057130572,
          -0.02095095548549047,
          0.016620618783877418,
          -0.024379323601434254,
          0.0047158890256392035,
          -0.0100851671320785,
          -0.028468941789863665,
          0.005138933755511707,
          0.022679638107899962,
          0.0006769389276895223
         ],
         "xaxis": "x2",
         "yaxis": "y2"
        },
        {
         "hovertemplate": "max_pos=VBG<br>PC0=%{x}<br>PC1=%{y}<br>i=%{marker.size}<br>term_str=%{text}<extra></extra>",
         "legendgroup": "VBG",
         "marker": {
          "color": "#B6E880",
          "size": [
           12.903642902028189,
           12.960226430394556,
           14.60408262016928,
           14.434157618726967,
           14.144651001531985,
           12.39462925454033,
           12.356155106725694,
           11.931657278197784,
           13.697192024560762,
           14.282154525281918,
           9.835898295392354,
           13.019120119448123,
           12.559688500810829,
           12.746101625041709,
           11.903642902028189,
           13.434157618726967,
           14.144651001531985,
           13.356155106725694,
           11.989372776054072,
           13.903642902028189,
           14.019120119448123,
           11.112229523839606,
           13.080520664112267,
           13.697192024560762,
           12.849195118005811,
           13.697192024560762,
           11.112229523839606,
           12.51661977891894,
           10.82272290664462,
           14.019120119448123,
           12.474799603224314,
           13.434157618726967,
           13.796727698111676,
           12.960226430394556,
           11.537993429711507,
           12.903642902028189,
           13.019120119448123,
           13.282154525281918,
           12.849195118005811,
           13.21176519739052,
           12.356155106725694,
           13.434157618726967,
           12.60408262016928,
           11.19469168403158,
           10.809666753819174,
           12.112229523839606,
           13.282154525281918,
           11.697192024560762,
           12.282154525281918,
           11.581714807140823,
           14.434157618726967,
           14.796727698111676,
           12.960226430394556,
           13.51661977891894,
           14.282154525281918,
           12.849195118005811,
           13.903642902028189,
           13.51661977891894,
           13.697192024560762,
           13.697192024560762,
           9.882983431462096,
           11.82272290664462,
           13.51661977891894,
           13.903642902028189,
           12.356155106725694,
           13.21176519739052,
           14.60408262016928,
           11.264232617284655,
           12.356155106725694,
           13.434157618726967,
           12.177817865467182,
           13.21176519739052,
           13.356155106725694,
           11.960226430394556,
           13.144651001531985,
           12.559688500810829,
           13.434157618726967,
           13.796727698111676,
           12.434157618726967,
           12.318680401307033,
           12.51661977891894,
           12.282154525281918,
           11.112229523839606,
           12.282154525281918,
           10.72143957080744,
           12.474799603224314,
           12.356155106725694,
           13.60408262016928,
           12.434157618726967,
           13.903642902028189,
           11.559688500810829,
           13.903642902028189,
           12.474799603224314
          ],
          "sizemode": "area",
          "sizeref": 0.03699181924527919,
          "symbol": "circle"
         },
         "mode": "markers+text",
         "name": "VBG",
         "orientation": "v",
         "showlegend": true,
         "text": [
          "asking",
          "being",
          "bleeding",
          "blowing",
          "breaking",
          "breathing",
          "burning",
          "calling",
          "catching",
          "changing",
          "coming",
          "crawling",
          "crying",
          "dancing",
          "doing",
          "dreaming",
          "drifting",
          "drinking",
          "dying",
          "ending",
          "fading",
          "falling",
          "fighting",
          "floating",
          "flying",
          "fucking",
          "getting",
          "giving",
          "going",
          "growing",
          "hanging",
          "happening",
          "having",
          "hiding",
          "holding",
          "hoping",
          "keeping",
          "killing",
          "knowing",
          "laughing",
          "leaving",
          "letting",
          "listening",
          "living",
          "looking",
          "losing",
          "lying",
          "making",
          "missing",
          "moving",
          "passing",
          "picking",
          "playing",
          "praying",
          "pulling",
          "pushing",
          "putting",
          "riding",
          "rising",
          "rolling",
          "running",
          "saying",
          "screaming",
          "searching",
          "seeing",
          "shining",
          "showing",
          "sing",
          "singing",
          "sitting",
          "sleeping",
          "smiling",
          "spinning",
          "standing",
          "staring",
          "starting",
          "swimming",
          "swing",
          "taking",
          "talking",
          "telling",
          "thinking",
          "trying",
          "turning",
          "waiting",
          "waking",
          "walking",
          "wanting",
          "watching",
          "wearing",
          "wishing",
          "wondering",
          "working"
         ],
         "type": "scatter",
         "x": [
          0.0005630013261269766,
          -0.005481050026434798,
          0.0009779052122276218,
          -0.002728659925900098,
          -0.004686343163236683,
          0.024449268954291194,
          0.006161515239150149,
          0.00662889955028247,
          0.00522010732387342,
          -0.0007678396487592619,
          0.024808006067320004,
          0.005474057540193495,
          -0.014370582237833454,
          0.009457296016150562,
          -0.030625462925465894,
          -0.011154498034074844,
          -0.002180580653995249,
          0.007611278663763132,
          0.016631800443674887,
          0.0053631059556841455,
          -0.0013306095182022237,
          0.009552375123630167,
          -0.0015094562154869314,
          -0.00409379846336051,
          -0.0053359784638308625,
          -0.020196925645708245,
          -0.014544674387948776,
          -0.0033707885035273557,
          -0.007460539513277484,
          0.0008818723304130308,
          -0.00548140375273764,
          0.005552736329122028,
          -0.0017079108139780859,
          -0.004346044496679314,
          -0.0028849844816161785,
          -0.008862463908530602,
          0.004220691018257407,
          0.0012148028585398931,
          -0.011046445792321802,
          0.0010131307883770979,
          0.014752839153411638,
          -0.0025875528888934496,
          0.0003998550723524361,
          -0.013962797945009245,
          -0.004640719016223733,
          -0.021690652267865713,
          0.002010310039980202,
          -0.005707991074810699,
          0.005377396644466753,
          0.007977021620172772,
          0.001394980007727044,
          0.0074308782226689355,
          -0.0066453157105447625,
          -0.005495361229073963,
          0.009878225220283554,
          0.0026698443055891245,
          0.002291644421318424,
          -0.006733293904110358,
          0.015901112844783374,
          0.002549716673460828,
          0.017067408512835277,
          0.002330661173673772,
          0.0100101337701525,
          0.007366714373293867,
          0.004499369951244123,
          0.006493839811729479,
          0.0006463816714344317,
          -0.0056277951673274216,
          0.000016113905877412033,
          0.003753030698436644,
          -0.016881779770934455,
          0.00486794407782138,
          0.007198746194846478,
          0.004215024773316023,
          0.0003601298743482349,
          0.005631816692196947,
          0.0021304107815481622,
          0.002323299567351923,
          -0.013717117206774918,
          -0.0054434212299069975,
          -0.016964359964264562,
          -0.01907007629648422,
          -0.0032375199606225723,
          0.010580510225047062,
          -0.00962165657072351,
          0.015303397440045559,
          0.011964852008783604,
          0.0024902897000277117,
          -0.0044750303605111934,
          -0.008315493764419162,
          -0.006933642842176421,
          -0.0015681501223935186,
          0.008446105649071407
         ],
         "xaxis": "x",
         "y": [
          -0.0027860371766108296,
          0.019022147874952364,
          -0.00434654656035879,
          -0.0017120181298532274,
          0.002224762713948154,
          0.014898249278479185,
          0.008423223710929946,
          -0.004135201310446802,
          0.00007942366866098512,
          -0.0016783813110350311,
          0.004746264812373459,
          -0.01173426566404137,
          -0.001388303524450389,
          0.0022715821427497797,
          0.012150277652363347,
          -0.015329158582567429,
          0.0062094469917882335,
          0.003923167992817637,
          -0.0024992602871179723,
          -0.007559774125970368,
          0.002018062208670746,
          0.015040311751083462,
          0.0036686989707004594,
          0.008652827296638039,
          -0.0012455452955698863,
          -0.02152377517339721,
          -0.008036190575219196,
          -0.003386645808904802,
          -0.013657766719105293,
          0.005254398122866624,
          -0.0011583611361468038,
          -0.0017902941699091607,
          -0.0012216145858875086,
          0.005279563255172528,
          0.0008557256466754715,
          -0.015265397459161776,
          -0.0029714460623877256,
          -0.003350859000886799,
          0.002144517197558276,
          -0.014768413183992787,
          -0.0012778925586925114,
          -0.00648489037079833,
          0.0035704778404379365,
          -0.0030447005695083953,
          0.009296310487840215,
          0.01206229772834669,
          -0.008305333604638875,
          -0.001246597911187345,
          -0.0022920651283213998,
          0.002119052465500648,
          -0.0030794896834593745,
          0.005953130318562017,
          -0.0010123066644908499,
          -0.009984543477216883,
          0.002721031617191964,
          -0.009953222564381138,
          0.0072757260029973105,
          -0.013755034301519978,
          0.005035102846255543,
          -0.006293610490364311,
          0.019185358650485353,
          0.008248225052131221,
          -0.006717874878096123,
          0.005291204463200499,
          0.015750671914298783,
          -0.0025651461588734594,
          -0.003622183525437277,
          0.04863542073507376,
          0.0008070348482787291,
          -0.0034520941635003068,
          0.0040457670594414505,
          -0.004214945586270411,
          0.010593353046078603,
          -0.011424400835728389,
          -0.00014170218538342552,
          -0.0028641977337883397,
          -0.001569511390669333,
          -0.007521623015792032,
          -0.015207623801794702,
          -0.0005938128991108402,
          0.004349393339256052,
          -0.0017171661250922872,
          0.0020969744909186986,
          -0.01165235167150205,
          -0.024827592277507533,
          0.0007943432504665327,
          -0.004384898271270708,
          -0.0010371934649613228,
          -0.010914225394051565,
          0.003711080582940239,
          0.017838724698371056,
          -0.011533444421847106,
          -0.005385500370049094
         ],
         "yaxis": "y"
        },
        {
         "alignmentgroup": "True",
         "hovertemplate": "max_pos=VBG<br>PC0=%{x}<extra></extra>",
         "legendgroup": "VBG",
         "marker": {
          "color": "#B6E880",
          "symbol": "circle"
         },
         "name": "VBG",
         "notched": true,
         "offsetgroup": "VBG",
         "showlegend": false,
         "type": "box",
         "x": [
          0.0005630013261269766,
          -0.005481050026434798,
          0.0009779052122276218,
          -0.002728659925900098,
          -0.004686343163236683,
          0.024449268954291194,
          0.006161515239150149,
          0.00662889955028247,
          0.00522010732387342,
          -0.0007678396487592619,
          0.024808006067320004,
          0.005474057540193495,
          -0.014370582237833454,
          0.009457296016150562,
          -0.030625462925465894,
          -0.011154498034074844,
          -0.002180580653995249,
          0.007611278663763132,
          0.016631800443674887,
          0.0053631059556841455,
          -0.0013306095182022237,
          0.009552375123630167,
          -0.0015094562154869314,
          -0.00409379846336051,
          -0.0053359784638308625,
          -0.020196925645708245,
          -0.014544674387948776,
          -0.0033707885035273557,
          -0.007460539513277484,
          0.0008818723304130308,
          -0.00548140375273764,
          0.005552736329122028,
          -0.0017079108139780859,
          -0.004346044496679314,
          -0.0028849844816161785,
          -0.008862463908530602,
          0.004220691018257407,
          0.0012148028585398931,
          -0.011046445792321802,
          0.0010131307883770979,
          0.014752839153411638,
          -0.0025875528888934496,
          0.0003998550723524361,
          -0.013962797945009245,
          -0.004640719016223733,
          -0.021690652267865713,
          0.002010310039980202,
          -0.005707991074810699,
          0.005377396644466753,
          0.007977021620172772,
          0.001394980007727044,
          0.0074308782226689355,
          -0.0066453157105447625,
          -0.005495361229073963,
          0.009878225220283554,
          0.0026698443055891245,
          0.002291644421318424,
          -0.006733293904110358,
          0.015901112844783374,
          0.002549716673460828,
          0.017067408512835277,
          0.002330661173673772,
          0.0100101337701525,
          0.007366714373293867,
          0.004499369951244123,
          0.006493839811729479,
          0.0006463816714344317,
          -0.0056277951673274216,
          0.000016113905877412033,
          0.003753030698436644,
          -0.016881779770934455,
          0.00486794407782138,
          0.007198746194846478,
          0.004215024773316023,
          0.0003601298743482349,
          0.005631816692196947,
          0.0021304107815481622,
          0.002323299567351923,
          -0.013717117206774918,
          -0.0054434212299069975,
          -0.016964359964264562,
          -0.01907007629648422,
          -0.0032375199606225723,
          0.010580510225047062,
          -0.00962165657072351,
          0.015303397440045559,
          0.011964852008783604,
          0.0024902897000277117,
          -0.0044750303605111934,
          -0.008315493764419162,
          -0.006933642842176421,
          -0.0015681501223935186,
          0.008446105649071407
         ],
         "xaxis": "x2",
         "yaxis": "y2"
        },
        {
         "hovertemplate": "max_pos=VBN<br>PC0=%{x}<br>PC1=%{y}<br>i=%{marker.size}<br>term_str=%{text}<extra></extra>",
         "legendgroup": "VBN",
         "marker": {
          "color": "#FF97FF",
          "size": [
           9.434157618726967,
           12.080520664112267,
           13.282154525281918,
           13.019120119448123,
           14.019120119448123,
           11.128349189202885,
           13.080520664112267,
           11.300301871992176,
           10.08838278188524,
           11.3752639296734,
           10.649886309782405,
           12.080520664112267,
           14.282154525281918,
           14.434157618726967,
           12.903642902028189,
           11.454335500664598,
           13.697192024560762,
           12.849195118005811,
           13.21176519739052,
           12.746101625041709
          ],
          "sizemode": "area",
          "sizeref": 0.03699181924527919,
          "symbol": "circle"
         },
         "mode": "markers+text",
         "name": "VBN",
         "orientation": "v",
         "showlegend": true,
         "text": [
          "been",
          "born",
          "built",
          "buried",
          "burned",
          "done",
          "fallen",
          "given",
          "gone",
          "hurt",
          "lost",
          "meant",
          "moved",
          "paid",
          "scared",
          "seen",
          "taken",
          "tied",
          "trapped",
          "wasted"
         ],
         "type": "scatter",
         "x": [
          -0.04188999250534381,
          0.02669444775444746,
          0.0018836061927196834,
          0.010172434772466874,
          0.003552327923912527,
          -0.00954076619167118,
          -0.009306871957415645,
          0.01663655051703247,
          -0.004781936674772113,
          -0.006885245815724823,
          0.008229512686212954,
          0.015159551748456186,
          0.001173444777024642,
          0.0011311089416225107,
          -0.024234719020483173,
          -0.011707510815062577,
          -0.0038561408090681446,
          0.01166675838346605,
          0.008168023340205215,
          -0.005757022367758743
         ],
         "xaxis": "x",
         "y": [
          -0.0317722750329363,
          -0.00960463484961815,
          -0.006515957964706244,
          0.00573248941065343,
          0.000008407955962169863,
          -0.0059518027129746905,
          0.01795001797804113,
          0.009086404162391131,
          -0.020098209439497416,
          -0.01918913805371766,
          0.019801820956400932,
          -0.01255612715966999,
          -0.002669947794885495,
          -0.003227801625842335,
          -0.003200973653770976,
          0.01259290653365858,
          -0.0025302078761577566,
          0.0017816291082025622,
          0.007712246718672483,
          -0.007485810138518931
         ],
         "yaxis": "y"
        },
        {
         "alignmentgroup": "True",
         "hovertemplate": "max_pos=VBN<br>PC0=%{x}<extra></extra>",
         "legendgroup": "VBN",
         "marker": {
          "color": "#FF97FF",
          "symbol": "circle"
         },
         "name": "VBN",
         "notched": true,
         "offsetgroup": "VBN",
         "showlegend": false,
         "type": "box",
         "x": [
          -0.04188999250534381,
          0.02669444775444746,
          0.0018836061927196834,
          0.010172434772466874,
          0.003552327923912527,
          -0.00954076619167118,
          -0.009306871957415645,
          0.01663655051703247,
          -0.004781936674772113,
          -0.006885245815724823,
          0.008229512686212954,
          0.015159551748456186,
          0.001173444777024642,
          0.0011311089416225107,
          -0.024234719020483173,
          -0.011707510815062577,
          -0.0038561408090681446,
          0.01166675838346605,
          0.008168023340205215,
          -0.005757022367758743
         ],
         "xaxis": "x2",
         "yaxis": "y2"
        },
        {
         "hovertemplate": "max_pos=VB<br>PC0=%{x}<br>PC1=%{y}<br>i=%{marker.size}<br>term_str=%{text}<extra></extra>",
         "legendgroup": "VB",
         "marker": {
          "color": "#FECB52",
          "size": [
           13.21176519739052,
           12.177817865467182,
           12.796727698111676,
           12.474799603224314,
           10.945871137417486,
           12.39462925454033,
           12.144651001531985,
           13.080520664112267,
           11.697192024560762,
           10.246530615551196,
           14.019120119448123,
           11.649886309782405,
           11.960226430394556,
           12.080520664112267,
           10.291199664884925,
           14.434157618726967,
           12.849195118005811,
           13.282154525281918,
           13.144651001531985,
           12.697192024560762,
           13.796727698111676,
           13.51661977891894,
           11.87616216560608,
           13.144651001531985,
           13.144651001531985,
           12.434157618726967,
           12.903642902028189,
           8.673345282606395,
           11.33729607947438,
           13.51661977891894,
           9.803182720248977,
           12.144651001531985,
           10.974726000089673,
           9.439175693493592,
           13.434157618726967,
           11.537993429711507,
           12.697192024560762,
           11.264232617284655,
           11.064923809061249,
           11.434157618726967,
           10.581714807140823,
           10.0116255829012,
           14.434157618726967,
           13.796727698111676,
           9.030435432675958,
           12.144651001531985,
           11.903642902028189,
           13.144651001531985,
           9.500794811757258,
           13.144651001531985,
           11.87616216560608,
           9.816180060777848,
           11.246530615551196,
           9.000456275183089,
           11.931657278197784,
           13.796727698111676,
           12.112229523839606,
           11.60408262016928,
           13.356155106725694,
           12.559688500810829,
           13.282154525281918,
           10.960226430394556,
           10.758592569224906,
           12.559688500810829,
           13.019120119448123,
           12.60408262016928,
           12.746101625041709,
           13.60408262016928,
           13.21176519739052,
           12.796727698111676,
           11.796727698111676,
           13.019120119448123,
           13.080520664112267,
           13.080520664112267,
           12.246530615551196,
           10.796727698111676,
           13.434157618726967,
           13.21176519739052,
           11.537993429711507,
           12.697192024560762,
           11.128349189202885,
           12.903642902028189,
           12.697192024560762,
           12.246530615551196,
           14.434157618726967,
           14.144651001531985,
           10.495558163391111,
           10.733717900585876,
           14.434157618726967,
           13.356155106725694,
           13.51661977891894,
           11.246530615551196,
           9.816180060777848,
           12.649886309782405,
           10.057188160281644,
           14.282154525281918,
           14.019120119448123,
           13.21176519739052,
           8.576176623599396,
           13.903642902028189,
           9.19469168403158,
           12.019120119448123,
           12.903642902028189,
           10.186230105283382,
           12.746101625041709,
           10.673345282606396,
           10.673345282606396,
           10.60408262016928,
           10.889837102503158,
           13.903642902028189
          ],
          "sizemode": "area",
          "sizeref": 0.03699181924527919,
          "symbol": "circle"
         },
         "mode": "markers+text",
         "name": "VB",
         "orientation": "v",
         "showlegend": true,
         "text": [
          "begin",
          "blame",
          "bleed",
          "blow",
          "break",
          "breathe",
          "bring",
          "build",
          "burn",
          "call",
          "calm",
          "care",
          "carry",
          "catch",
          "change",
          "chase",
          "choose",
          "crack",
          "crush",
          "decide",
          "disappear",
          "draw",
          "drive",
          "expect",
          "explain",
          "fade",
          "feed",
          "feel",
          "fight",
          "figure",
          "find",
          "follow",
          "forget",
          "give",
          "gray",
          "grow",
          "happen",
          "hate",
          "hear",
          "help",
          "hide",
          "hold",
          "join",
          "jump",
          "keep",
          "kill",
          "kiss",
          "learn",
          "leave",
          "lift",
          "listen",
          "live",
          "lose",
          "make",
          "meet",
          "melt",
          "mess",
          "move",
          "notice",
          "paint",
          "pick",
          "play",
          "please",
          "pretend",
          "prove",
          "pull",
          "push",
          "quit",
          "raise",
          "reach",
          "read",
          "realize",
          "recognize",
          "regret",
          "release",
          "remember",
          "remind",
          "return",
          "rise",
          "roll",
          "save",
          "send",
          "shake",
          "shes",
          "shoot",
          "shout",
          "show",
          "sleep",
          "spend",
          "spin",
          "stare",
          "start",
          "stay",
          "steal",
          "stop",
          "surrender",
          "swallow",
          "swim",
          "take",
          "teach",
          "tell",
          "throw",
          "trust",
          "turn",
          "understand",
          "wait",
          "wake",
          "walk",
          "watch",
          "worry"
         ],
         "type": "scatter",
         "x": [
          -0.009829196488979463,
          0.007213503911155248,
          -0.001311023955093292,
          0.009121446869012732,
          -0.01847403318483644,
          0.0028267509504306732,
          -0.0010578000773155442,
          0.008004562105520639,
          0.015726031242601943,
          0.016122932234629142,
          0.0036083181052256022,
          -0.036831914620251295,
          0.022188310485465587,
          -0.01452486058454229,
          -0.02405004382828835,
          -0.005877189420626966,
          -0.0077228647322767725,
          0.005992846347690805,
          -0.009484304668591783,
          -0.005288368654779065,
          0.0053226390771889485,
          -0.0017787487160906014,
          -0.008959049111613797,
          0.0018927997201315765,
          0.007429911597124335,
          0.013776026963315563,
          -0.0006034902495114511,
          -0.0829820202362773,
          -0.013779821229638233,
          0.004779652591789845,
          -0.0376165851413333,
          0.017956492869660553,
          -0.015616467056806548,
          -0.054866823654517324,
          0.0050367306352831764,
          0.02180825468180293,
          -0.018215831437854203,
          -0.06452587785048618,
          -0.01044651416103895,
          -0.0117672093793755,
          0.013470244826937013,
          -0.05103879980304371,
          0.00426478097164127,
          -0.0070100486849962226,
          -0.03229044252751988,
          -0.017810043867383458,
          0.010512987138575137,
          0.005446723745538254,
          -0.040846061053394354,
          -0.009617555569255545,
          0.011074091511941893,
          -0.06368094915290713,
          -0.01890776754548165,
          -0.0993005846972221,
          0.021313385563379625,
          -0.004529639631531631,
          -0.0019600778699253854,
          -0.003715016854993906,
          -0.005183307236581469,
          -0.002697397728925773,
          -0.003241283931326194,
          0.018172793769758975,
          0.012207228684782412,
          -0.004822289293898506,
          0.0003700707532508446,
          -0.0075111756202151,
          0.003140172603742027,
          -0.0007528632765194854,
          0.0022530300355739145,
          -0.00024300236564574876,
          0.004008081975316786,
          -0.010828779602320591,
          0.0017550375633106914,
          -0.010285488244841831,
          0.02779070056987409,
          -0.0011267063270071595,
          -0.00034875299625416236,
          0.01156126475903399,
          0.019970076028482983,
          0.009953966091703199,
          -0.006815306000212002,
          0.0017227044113555202,
          -0.006599124686783349,
          0.014083393452175822,
          -0.0003079252167474838,
          0.0005138214427575092,
          -0.04187231729371742,
          0.004254673812003741,
          -0.0023011383204213777,
          -0.0059172277172094,
          -0.007610828001756828,
          -0.005637969557054932,
          -0.018017219512648997,
          -0.004201774259388807,
          -0.06433998305363864,
          0.0060424123403177545,
          -0.0000010774972666654008,
          0.01648905155406817,
          -0.03519417026479106,
          -0.0011004009355932204,
          -0.017582378140077945,
          -0.0005118190721979594,
          -0.0042869407937324005,
          0.02001650500245501,
          -0.007883152285173861,
          -0.017070594537675517,
          -0.01991995429014856,
          0.00550099837850078,
          -0.0023573185585848847,
          -0.001768243699312917
         ],
         "xaxis": "x",
         "y": [
          -0.01680089383801459,
          -0.007514457637109681,
          -0.004552949462970083,
          0.0055878850653898055,
          -0.004013859282988683,
          0.005350718608951386,
          -0.015470655852782077,
          0.0031674639996526767,
          0.0074828649094492395,
          -0.014254453563589935,
          0.0002807159441171304,
          -0.02260680348790445,
          0.009119715053161665,
          0.0021588330427164955,
          -0.021887844096498462,
          0.0017229723383677398,
          -0.0010758518748577414,
          0.010510073077216988,
          0.013213273197659388,
          0.0034682611579929905,
          0.0017416719024316032,
          0.011579895489627774,
          -0.000334702548579543,
          -0.0022006810254567924,
          -0.006141863381594227,
          -0.007898376838251968,
          0.020270266514780238,
          0.023131050349940993,
          -0.041151068520842916,
          0.005793257243706887,
          0.032954650154693586,
          0.01741678180383296,
          -0.03008937186350696,
          -0.040574867317489494,
          0.015017399367613392,
          0.005163766535533176,
          -0.001627109874362373,
          0.006396771219776726,
          -0.0020594258784512962,
          0.01066413010281969,
          0.02869514977377377,
          0.006757035782207095,
          -0.0010393310155336444,
          0.002496337835145328,
          -0.01571903291219174,
          -0.016232518114927055,
          0.01083614139427597,
          0.01756291384348123,
          -0.10034651206179747,
          -0.004484384334554681,
          0.008807141147040742,
          -0.1414295264827168,
          -0.012779537425571757,
          -0.055881361080839145,
          0.012496229928431826,
          -0.0015147392866934981,
          -0.0009381843811260131,
          -0.01973492685560343,
          0.007275699823594093,
          0.00040721586670674494,
          -0.0003902895309240511,
          -0.004456090752511441,
          -0.04679377878103039,
          -0.011541975736689032,
          0.0015912981058384143,
          -0.01124325232386118,
          -0.009858608947216256,
          -0.004519790433369514,
          -0.0029111777932297484,
          -0.012104213678194933,
          -0.006484898533541898,
          -0.002043564185893937,
          0.005346951407682182,
          0.0018819984615607336,
          -0.0012918186310173965,
          0.013459903083924776,
          -0.005955858094524833,
          0.008638614960388011,
          0.015996943320530633,
          -0.0004474176960999944,
          0.006187133697764363,
          -0.007965775545465162,
          -0.0025920128920865265,
          0.012079669667036204,
          -0.0045841483961474635,
          -0.0051830728309207475,
          -0.03616976828393258,
          -0.012076000918733256,
          -0.007874865060142316,
          -0.020310164975421593,
          0.015672409140647853,
          -0.005770866277937051,
          0.006891677776769504,
          -0.02367931707075503,
          -0.02570981727571207,
          0.0066882509088425045,
          -0.0044689597695663835,
          0.013794983739455494,
          -0.00031611472669121793,
          -0.0017032029271916776,
          -0.056428249362182464,
          0.009524601161990809,
          -0.0002904832601181232,
          0.03273613548428184,
          0.009240517905415746,
          -0.04302119895969185,
          -0.012667957458080314,
          -0.023437271605068536,
          0.000719517592793762,
          -0.005856520634771733
         ],
         "yaxis": "y"
        },
        {
         "alignmentgroup": "True",
         "hovertemplate": "max_pos=VB<br>PC0=%{x}<extra></extra>",
         "legendgroup": "VB",
         "marker": {
          "color": "#FECB52",
          "symbol": "circle"
         },
         "name": "VB",
         "notched": true,
         "offsetgroup": "VB",
         "showlegend": false,
         "type": "box",
         "x": [
          -0.009829196488979463,
          0.007213503911155248,
          -0.001311023955093292,
          0.009121446869012732,
          -0.01847403318483644,
          0.0028267509504306732,
          -0.0010578000773155442,
          0.008004562105520639,
          0.015726031242601943,
          0.016122932234629142,
          0.0036083181052256022,
          -0.036831914620251295,
          0.022188310485465587,
          -0.01452486058454229,
          -0.02405004382828835,
          -0.005877189420626966,
          -0.0077228647322767725,
          0.005992846347690805,
          -0.009484304668591783,
          -0.005288368654779065,
          0.0053226390771889485,
          -0.0017787487160906014,
          -0.008959049111613797,
          0.0018927997201315765,
          0.007429911597124335,
          0.013776026963315563,
          -0.0006034902495114511,
          -0.0829820202362773,
          -0.013779821229638233,
          0.004779652591789845,
          -0.0376165851413333,
          0.017956492869660553,
          -0.015616467056806548,
          -0.054866823654517324,
          0.0050367306352831764,
          0.02180825468180293,
          -0.018215831437854203,
          -0.06452587785048618,
          -0.01044651416103895,
          -0.0117672093793755,
          0.013470244826937013,
          -0.05103879980304371,
          0.00426478097164127,
          -0.0070100486849962226,
          -0.03229044252751988,
          -0.017810043867383458,
          0.010512987138575137,
          0.005446723745538254,
          -0.040846061053394354,
          -0.009617555569255545,
          0.011074091511941893,
          -0.06368094915290713,
          -0.01890776754548165,
          -0.0993005846972221,
          0.021313385563379625,
          -0.004529639631531631,
          -0.0019600778699253854,
          -0.003715016854993906,
          -0.005183307236581469,
          -0.002697397728925773,
          -0.003241283931326194,
          0.018172793769758975,
          0.012207228684782412,
          -0.004822289293898506,
          0.0003700707532508446,
          -0.0075111756202151,
          0.003140172603742027,
          -0.0007528632765194854,
          0.0022530300355739145,
          -0.00024300236564574876,
          0.004008081975316786,
          -0.010828779602320591,
          0.0017550375633106914,
          -0.010285488244841831,
          0.02779070056987409,
          -0.0011267063270071595,
          -0.00034875299625416236,
          0.01156126475903399,
          0.019970076028482983,
          0.009953966091703199,
          -0.006815306000212002,
          0.0017227044113555202,
          -0.006599124686783349,
          0.014083393452175822,
          -0.0003079252167474838,
          0.0005138214427575092,
          -0.04187231729371742,
          0.004254673812003741,
          -0.0023011383204213777,
          -0.0059172277172094,
          -0.007610828001756828,
          -0.005637969557054932,
          -0.018017219512648997,
          -0.004201774259388807,
          -0.06433998305363864,
          0.0060424123403177545,
          -0.0000010774972666654008,
          0.01648905155406817,
          -0.03519417026479106,
          -0.0011004009355932204,
          -0.017582378140077945,
          -0.0005118190721979594,
          -0.0042869407937324005,
          0.02001650500245501,
          -0.007883152285173861,
          -0.017070594537675517,
          -0.01991995429014856,
          0.00550099837850078,
          -0.0023573185585848847,
          -0.001768243699312917
         ],
         "xaxis": "x2",
         "yaxis": "y2"
        },
        {
         "hovertemplate": "max_pos=JJS<br>PC0=%{x}<br>PC1=%{y}<br>i=%{marker.size}<br>term_str=%{text}<extra></extra>",
         "legendgroup": "JJS",
         "marker": {
          "color": "#636efa",
          "size": [
           10.60408262016928,
           13.60408262016928,
           13.903642902028189
          ],
          "sizemode": "area",
          "sizeref": 0.03699181924527919,
          "symbol": "circle"
         },
         "mode": "markers+text",
         "name": "JJS",
         "orientation": "v",
         "showlegend": true,
         "text": [
          "best",
          "least",
          "worst"
         ],
         "type": "scatter",
         "x": [
          0.014923293954819337,
          -0.01599150586392593,
          -0.005608254104802382
         ],
         "xaxis": "x",
         "y": [
          -0.012839103171658444,
          -0.0019927823244041305,
          -0.014907151657424999
         ],
         "yaxis": "y"
        },
        {
         "alignmentgroup": "True",
         "hovertemplate": "max_pos=JJS<br>PC0=%{x}<extra></extra>",
         "legendgroup": "JJS",
         "marker": {
          "color": "#636efa",
          "symbol": "circle"
         },
         "name": "JJS",
         "notched": true,
         "offsetgroup": "JJS",
         "showlegend": false,
         "type": "box",
         "x": [
          0.014923293954819337,
          -0.01599150586392593,
          -0.005608254104802382
         ],
         "xaxis": "x2",
         "yaxis": "y2"
        },
        {
         "hovertemplate": "max_pos=JJR<br>PC0=%{x}<br>PC1=%{y}<br>i=%{marker.size}<br>term_str=%{text}<extra></extra>",
         "legendgroup": "JJR",
         "marker": {
          "color": "#EF553B",
          "size": [
           9.638298335507193,
           12.21176519739052,
           13.019120119448123,
           13.51661977891894,
           9.049493768491644,
           13.697192024560762,
           12.746101625041709
          ],
          "sizemode": "area",
          "sizeref": 0.03699181924527919,
          "symbol": "circle"
         },
         "mode": "markers+text",
         "name": "JJR",
         "orientation": "v",
         "showlegend": true,
         "text": [
          "better",
          "closer",
          "less",
          "longer",
          "more",
          "older",
          "worse"
         ],
         "type": "scatter",
         "x": [
          -0.031173890724778972,
          -0.0023460797223975294,
          0.005777983275248333,
          -0.010333952425689375,
          -0.08559134259899841,
          -0.003645113817021747,
          -0.009113523806345059
         ],
         "xaxis": "x",
         "y": [
          -0.044084516856773864,
          0.007447047184261496,
          -0.0028005447755120247,
          0.00436768332890674,
          -0.051597996396252156,
          -0.011184437797276497,
          -0.0010638498773385002
         ],
         "yaxis": "y"
        },
        {
         "alignmentgroup": "True",
         "hovertemplate": "max_pos=JJR<br>PC0=%{x}<extra></extra>",
         "legendgroup": "JJR",
         "marker": {
          "color": "#EF553B",
          "symbol": "circle"
         },
         "name": "JJR",
         "notched": true,
         "offsetgroup": "JJR",
         "showlegend": false,
         "type": "box",
         "x": [
          -0.031173890724778972,
          -0.0023460797223975294,
          0.005777983275248333,
          -0.010333952425689375,
          -0.08559134259899841,
          -0.003645113817021747,
          -0.009113523806345059
         ],
         "xaxis": "x2",
         "yaxis": "y2"
        },
        {
         "hovertemplate": "max_pos=RBR<br>PC0=%{x}<br>PC1=%{y}<br>i=%{marker.size}<br>term_str=%{text}<extra></extra>",
         "legendgroup": "RBR",
         "marker": {
          "color": "#00cc96",
          "size": [
           13.282154525281918
          ],
          "sizemode": "area",
          "sizeref": 0.03699181924527919,
          "symbol": "circle"
         },
         "mode": "markers+text",
         "name": "RBR",
         "orientation": "v",
         "showlegend": true,
         "text": [
          "further"
         ],
         "type": "scatter",
         "x": [
          0.016661905082766906
         ],
         "xaxis": "x",
         "y": [
          0.004258757207832476
         ],
         "yaxis": "y"
        },
        {
         "alignmentgroup": "True",
         "hovertemplate": "max_pos=RBR<br>PC0=%{x}<extra></extra>",
         "legendgroup": "RBR",
         "marker": {
          "color": "#00cc96",
          "symbol": "circle"
         },
         "name": "RBR",
         "notched": true,
         "offsetgroup": "RBR",
         "showlegend": false,
         "type": "box",
         "x": [
          0.016661905082766906
         ],
         "xaxis": "x2",
         "yaxis": "y2"
        },
        {
         "hovertemplate": "max_pos=RBS<br>PC0=%{x}<br>PC1=%{y}<br>i=%{marker.size}<br>term_str=%{text}<extra></extra>",
         "legendgroup": "RBS",
         "marker": {
          "color": "#ab63fa",
          "size": [
           12.903642902028189
          ],
          "sizemode": "area",
          "sizeref": 0.03699181924527919,
          "symbol": "circle"
         },
         "mode": "markers+text",
         "name": "RBS",
         "orientation": "v",
         "showlegend": true,
         "text": [
          "most"
         ],
         "type": "scatter",
         "x": [
          -0.006511080567140389
         ],
         "xaxis": "x",
         "y": [
          0.009140128377837202
         ],
         "yaxis": "y"
        },
        {
         "alignmentgroup": "True",
         "hovertemplate": "max_pos=RBS<br>PC0=%{x}<extra></extra>",
         "legendgroup": "RBS",
         "marker": {
          "color": "#ab63fa",
          "symbol": "circle"
         },
         "name": "RBS",
         "notched": true,
         "offsetgroup": "RBS",
         "showlegend": false,
         "type": "box",
         "x": [
          -0.006511080567140389
         ],
         "xaxis": "x2",
         "yaxis": "y2"
        }
       ],
       "layout": {
        "height": 800,
        "legend": {
         "itemsizing": "constant",
         "title": {
          "text": "max_pos"
         },
         "tracegroupgap": 0
        },
        "margin": {
         "t": 60
        },
        "template": {
         "data": {
          "bar": [
           {
            "error_x": {
             "color": "#2a3f5f"
            },
            "error_y": {
             "color": "#2a3f5f"
            },
            "marker": {
             "line": {
              "color": "#E5ECF6",
              "width": 0.5
             },
             "pattern": {
              "fillmode": "overlay",
              "size": 10,
              "solidity": 0.2
             }
            },
            "type": "bar"
           }
          ],
          "barpolar": [
           {
            "marker": {
             "line": {
              "color": "#E5ECF6",
              "width": 0.5
             },
             "pattern": {
              "fillmode": "overlay",
              "size": 10,
              "solidity": 0.2
             }
            },
            "type": "barpolar"
           }
          ],
          "carpet": [
           {
            "aaxis": {
             "endlinecolor": "#2a3f5f",
             "gridcolor": "white",
             "linecolor": "white",
             "minorgridcolor": "white",
             "startlinecolor": "#2a3f5f"
            },
            "baxis": {
             "endlinecolor": "#2a3f5f",
             "gridcolor": "white",
             "linecolor": "white",
             "minorgridcolor": "white",
             "startlinecolor": "#2a3f5f"
            },
            "type": "carpet"
           }
          ],
          "choropleth": [
           {
            "colorbar": {
             "outlinewidth": 0,
             "ticks": ""
            },
            "type": "choropleth"
           }
          ],
          "contour": [
           {
            "colorbar": {
             "outlinewidth": 0,
             "ticks": ""
            },
            "colorscale": [
             [
              0,
              "#0d0887"
             ],
             [
              0.1111111111111111,
              "#46039f"
             ],
             [
              0.2222222222222222,
              "#7201a8"
             ],
             [
              0.3333333333333333,
              "#9c179e"
             ],
             [
              0.4444444444444444,
              "#bd3786"
             ],
             [
              0.5555555555555556,
              "#d8576b"
             ],
             [
              0.6666666666666666,
              "#ed7953"
             ],
             [
              0.7777777777777778,
              "#fb9f3a"
             ],
             [
              0.8888888888888888,
              "#fdca26"
             ],
             [
              1,
              "#f0f921"
             ]
            ],
            "type": "contour"
           }
          ],
          "contourcarpet": [
           {
            "colorbar": {
             "outlinewidth": 0,
             "ticks": ""
            },
            "type": "contourcarpet"
           }
          ],
          "heatmap": [
           {
            "colorbar": {
             "outlinewidth": 0,
             "ticks": ""
            },
            "colorscale": [
             [
              0,
              "#0d0887"
             ],
             [
              0.1111111111111111,
              "#46039f"
             ],
             [
              0.2222222222222222,
              "#7201a8"
             ],
             [
              0.3333333333333333,
              "#9c179e"
             ],
             [
              0.4444444444444444,
              "#bd3786"
             ],
             [
              0.5555555555555556,
              "#d8576b"
             ],
             [
              0.6666666666666666,
              "#ed7953"
             ],
             [
              0.7777777777777778,
              "#fb9f3a"
             ],
             [
              0.8888888888888888,
              "#fdca26"
             ],
             [
              1,
              "#f0f921"
             ]
            ],
            "type": "heatmap"
           }
          ],
          "heatmapgl": [
           {
            "colorbar": {
             "outlinewidth": 0,
             "ticks": ""
            },
            "colorscale": [
             [
              0,
              "#0d0887"
             ],
             [
              0.1111111111111111,
              "#46039f"
             ],
             [
              0.2222222222222222,
              "#7201a8"
             ],
             [
              0.3333333333333333,
              "#9c179e"
             ],
             [
              0.4444444444444444,
              "#bd3786"
             ],
             [
              0.5555555555555556,
              "#d8576b"
             ],
             [
              0.6666666666666666,
              "#ed7953"
             ],
             [
              0.7777777777777778,
              "#fb9f3a"
             ],
             [
              0.8888888888888888,
              "#fdca26"
             ],
             [
              1,
              "#f0f921"
             ]
            ],
            "type": "heatmapgl"
           }
          ],
          "histogram": [
           {
            "marker": {
             "pattern": {
              "fillmode": "overlay",
              "size": 10,
              "solidity": 0.2
             }
            },
            "type": "histogram"
           }
          ],
          "histogram2d": [
           {
            "colorbar": {
             "outlinewidth": 0,
             "ticks": ""
            },
            "colorscale": [
             [
              0,
              "#0d0887"
             ],
             [
              0.1111111111111111,
              "#46039f"
             ],
             [
              0.2222222222222222,
              "#7201a8"
             ],
             [
              0.3333333333333333,
              "#9c179e"
             ],
             [
              0.4444444444444444,
              "#bd3786"
             ],
             [
              0.5555555555555556,
              "#d8576b"
             ],
             [
              0.6666666666666666,
              "#ed7953"
             ],
             [
              0.7777777777777778,
              "#fb9f3a"
             ],
             [
              0.8888888888888888,
              "#fdca26"
             ],
             [
              1,
              "#f0f921"
             ]
            ],
            "type": "histogram2d"
           }
          ],
          "histogram2dcontour": [
           {
            "colorbar": {
             "outlinewidth": 0,
             "ticks": ""
            },
            "colorscale": [
             [
              0,
              "#0d0887"
             ],
             [
              0.1111111111111111,
              "#46039f"
             ],
             [
              0.2222222222222222,
              "#7201a8"
             ],
             [
              0.3333333333333333,
              "#9c179e"
             ],
             [
              0.4444444444444444,
              "#bd3786"
             ],
             [
              0.5555555555555556,
              "#d8576b"
             ],
             [
              0.6666666666666666,
              "#ed7953"
             ],
             [
              0.7777777777777778,
              "#fb9f3a"
             ],
             [
              0.8888888888888888,
              "#fdca26"
             ],
             [
              1,
              "#f0f921"
             ]
            ],
            "type": "histogram2dcontour"
           }
          ],
          "mesh3d": [
           {
            "colorbar": {
             "outlinewidth": 0,
             "ticks": ""
            },
            "type": "mesh3d"
           }
          ],
          "parcoords": [
           {
            "line": {
             "colorbar": {
              "outlinewidth": 0,
              "ticks": ""
             }
            },
            "type": "parcoords"
           }
          ],
          "pie": [
           {
            "automargin": true,
            "type": "pie"
           }
          ],
          "scatter": [
           {
            "fillpattern": {
             "fillmode": "overlay",
             "size": 10,
             "solidity": 0.2
            },
            "type": "scatter"
           }
          ],
          "scatter3d": [
           {
            "line": {
             "colorbar": {
              "outlinewidth": 0,
              "ticks": ""
             }
            },
            "marker": {
             "colorbar": {
              "outlinewidth": 0,
              "ticks": ""
             }
            },
            "type": "scatter3d"
           }
          ],
          "scattercarpet": [
           {
            "marker": {
             "colorbar": {
              "outlinewidth": 0,
              "ticks": ""
             }
            },
            "type": "scattercarpet"
           }
          ],
          "scattergeo": [
           {
            "marker": {
             "colorbar": {
              "outlinewidth": 0,
              "ticks": ""
             }
            },
            "type": "scattergeo"
           }
          ],
          "scattergl": [
           {
            "marker": {
             "colorbar": {
              "outlinewidth": 0,
              "ticks": ""
             }
            },
            "type": "scattergl"
           }
          ],
          "scattermapbox": [
           {
            "marker": {
             "colorbar": {
              "outlinewidth": 0,
              "ticks": ""
             }
            },
            "type": "scattermapbox"
           }
          ],
          "scatterpolar": [
           {
            "marker": {
             "colorbar": {
              "outlinewidth": 0,
              "ticks": ""
             }
            },
            "type": "scatterpolar"
           }
          ],
          "scatterpolargl": [
           {
            "marker": {
             "colorbar": {
              "outlinewidth": 0,
              "ticks": ""
             }
            },
            "type": "scatterpolargl"
           }
          ],
          "scatterternary": [
           {
            "marker": {
             "colorbar": {
              "outlinewidth": 0,
              "ticks": ""
             }
            },
            "type": "scatterternary"
           }
          ],
          "surface": [
           {
            "colorbar": {
             "outlinewidth": 0,
             "ticks": ""
            },
            "colorscale": [
             [
              0,
              "#0d0887"
             ],
             [
              0.1111111111111111,
              "#46039f"
             ],
             [
              0.2222222222222222,
              "#7201a8"
             ],
             [
              0.3333333333333333,
              "#9c179e"
             ],
             [
              0.4444444444444444,
              "#bd3786"
             ],
             [
              0.5555555555555556,
              "#d8576b"
             ],
             [
              0.6666666666666666,
              "#ed7953"
             ],
             [
              0.7777777777777778,
              "#fb9f3a"
             ],
             [
              0.8888888888888888,
              "#fdca26"
             ],
             [
              1,
              "#f0f921"
             ]
            ],
            "type": "surface"
           }
          ],
          "table": [
           {
            "cells": {
             "fill": {
              "color": "#EBF0F8"
             },
             "line": {
              "color": "white"
             }
            },
            "header": {
             "fill": {
              "color": "#C8D4E3"
             },
             "line": {
              "color": "white"
             }
            },
            "type": "table"
           }
          ]
         },
         "layout": {
          "annotationdefaults": {
           "arrowcolor": "#2a3f5f",
           "arrowhead": 0,
           "arrowwidth": 1
          },
          "autotypenumbers": "strict",
          "coloraxis": {
           "colorbar": {
            "outlinewidth": 0,
            "ticks": ""
           }
          },
          "colorscale": {
           "diverging": [
            [
             0,
             "#8e0152"
            ],
            [
             0.1,
             "#c51b7d"
            ],
            [
             0.2,
             "#de77ae"
            ],
            [
             0.3,
             "#f1b6da"
            ],
            [
             0.4,
             "#fde0ef"
            ],
            [
             0.5,
             "#f7f7f7"
            ],
            [
             0.6,
             "#e6f5d0"
            ],
            [
             0.7,
             "#b8e186"
            ],
            [
             0.8,
             "#7fbc41"
            ],
            [
             0.9,
             "#4d9221"
            ],
            [
             1,
             "#276419"
            ]
           ],
           "sequential": [
            [
             0,
             "#0d0887"
            ],
            [
             0.1111111111111111,
             "#46039f"
            ],
            [
             0.2222222222222222,
             "#7201a8"
            ],
            [
             0.3333333333333333,
             "#9c179e"
            ],
            [
             0.4444444444444444,
             "#bd3786"
            ],
            [
             0.5555555555555556,
             "#d8576b"
            ],
            [
             0.6666666666666666,
             "#ed7953"
            ],
            [
             0.7777777777777778,
             "#fb9f3a"
            ],
            [
             0.8888888888888888,
             "#fdca26"
            ],
            [
             1,
             "#f0f921"
            ]
           ],
           "sequentialminus": [
            [
             0,
             "#0d0887"
            ],
            [
             0.1111111111111111,
             "#46039f"
            ],
            [
             0.2222222222222222,
             "#7201a8"
            ],
            [
             0.3333333333333333,
             "#9c179e"
            ],
            [
             0.4444444444444444,
             "#bd3786"
            ],
            [
             0.5555555555555556,
             "#d8576b"
            ],
            [
             0.6666666666666666,
             "#ed7953"
            ],
            [
             0.7777777777777778,
             "#fb9f3a"
            ],
            [
             0.8888888888888888,
             "#fdca26"
            ],
            [
             1,
             "#f0f921"
            ]
           ]
          },
          "colorway": [
           "#636efa",
           "#EF553B",
           "#00cc96",
           "#ab63fa",
           "#FFA15A",
           "#19d3f3",
           "#FF6692",
           "#B6E880",
           "#FF97FF",
           "#FECB52"
          ],
          "font": {
           "color": "#2a3f5f"
          },
          "geo": {
           "bgcolor": "white",
           "lakecolor": "white",
           "landcolor": "#E5ECF6",
           "showlakes": true,
           "showland": true,
           "subunitcolor": "white"
          },
          "hoverlabel": {
           "align": "left"
          },
          "hovermode": "closest",
          "mapbox": {
           "style": "light"
          },
          "paper_bgcolor": "white",
          "plot_bgcolor": "#E5ECF6",
          "polar": {
           "angularaxis": {
            "gridcolor": "white",
            "linecolor": "white",
            "ticks": ""
           },
           "bgcolor": "#E5ECF6",
           "radialaxis": {
            "gridcolor": "white",
            "linecolor": "white",
            "ticks": ""
           }
          },
          "scene": {
           "xaxis": {
            "backgroundcolor": "#E5ECF6",
            "gridcolor": "white",
            "gridwidth": 2,
            "linecolor": "white",
            "showbackground": true,
            "ticks": "",
            "zerolinecolor": "white"
           },
           "yaxis": {
            "backgroundcolor": "#E5ECF6",
            "gridcolor": "white",
            "gridwidth": 2,
            "linecolor": "white",
            "showbackground": true,
            "ticks": "",
            "zerolinecolor": "white"
           },
           "zaxis": {
            "backgroundcolor": "#E5ECF6",
            "gridcolor": "white",
            "gridwidth": 2,
            "linecolor": "white",
            "showbackground": true,
            "ticks": "",
            "zerolinecolor": "white"
           }
          },
          "shapedefaults": {
           "line": {
            "color": "#2a3f5f"
           }
          },
          "ternary": {
           "aaxis": {
            "gridcolor": "white",
            "linecolor": "white",
            "ticks": ""
           },
           "baxis": {
            "gridcolor": "white",
            "linecolor": "white",
            "ticks": ""
           },
           "bgcolor": "#E5ECF6",
           "caxis": {
            "gridcolor": "white",
            "linecolor": "white",
            "ticks": ""
           }
          },
          "title": {
           "x": 0.05
          },
          "xaxis": {
           "automargin": true,
           "gridcolor": "white",
           "linecolor": "white",
           "ticks": "",
           "title": {
            "standoff": 15
           },
           "zerolinecolor": "white",
           "zerolinewidth": 2
          },
          "yaxis": {
           "automargin": true,
           "gridcolor": "white",
           "linecolor": "white",
           "ticks": "",
           "title": {
            "standoff": 15
           },
           "zerolinecolor": "white",
           "zerolinewidth": 2
          }
         }
        },
        "xaxis": {
         "anchor": "y",
         "domain": [
          0,
          1
         ],
         "title": {
          "text": "PC0"
         }
        },
        "xaxis2": {
         "anchor": "y2",
         "domain": [
          0,
          1
         ],
         "matches": "x",
         "showgrid": true,
         "showticklabels": false
        },
        "yaxis": {
         "anchor": "x",
         "domain": [
          0,
          0.7326
         ],
         "title": {
          "text": "PC1"
         }
        },
        "yaxis2": {
         "anchor": "x2",
         "domain": [
          0.7426,
          1
         ],
         "matches": "y2",
         "showgrid": false,
         "showline": false,
         "showticklabels": false,
         "ticks": ""
        }
       }
      }
     },
     "metadata": {},
     "output_type": "display_data"
    }
   ],
   "source": [
    "vis_loadings(0, 1)"
   ]
  },
  {
   "cell_type": "code",
   "execution_count": null,
   "metadata": {},
   "outputs": [],
   "source": []
  }
 ],
 "metadata": {
  "kernelspec": {
   "display_name": "ds-6001",
   "language": "python",
   "name": "python3"
  },
  "language_info": {
   "codemirror_mode": {
    "name": "ipython",
    "version": 3
   },
   "file_extension": ".py",
   "mimetype": "text/x-python",
   "name": "python",
   "nbconvert_exporter": "python",
   "pygments_lexer": "ipython3",
   "version": "3.10.12"
  }
 },
 "nbformat": 4,
 "nbformat_minor": 2
}

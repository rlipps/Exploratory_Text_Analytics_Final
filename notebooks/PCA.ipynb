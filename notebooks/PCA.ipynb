{
 "cells": [
  {
   "cell_type": "markdown",
   "metadata": {},
   "source": [
    "# PCA Notebook\n",
    "Note we're using album as the bag for these tables"
   ]
  },
  {
   "cell_type": "markdown",
   "metadata": {},
   "source": [
    "## Setup"
   ]
  },
  {
   "cell_type": "code",
   "execution_count": 1,
   "metadata": {},
   "outputs": [],
   "source": [
    "import numpy as np\n",
    "import pandas as pd\n",
    "import plotly_express as px\n",
    "from sklearn.decomposition import PCA\n",
    "from scipy.linalg import norm, eigh\n",
    "\n",
    "OHCO = ['album_id', 'song_num', 'stanza_num', 'line_num', 'token_num']\n",
    "colors = 'YlGnBu'"
   ]
  },
  {
   "cell_type": "markdown",
   "metadata": {},
   "source": [
    "## Functions"
   ]
  },
  {
   "cell_type": "code",
   "execution_count": 2,
   "metadata": {},
   "outputs": [],
   "source": [
    "def get_PCA(X:pd.DataFrame, k:int, norm_docs=True, center_by_mean=False, center_by_variance=False) -> tuple:\n",
    "    '''\n",
    "    Function to compute PCA on a given document-term count matrix.\n",
    "\n",
    "    PARAMETERS:\n",
    "\n",
    "    X - pandas `DataFrame` representing document-term count matrix to perform PCA on\n",
    "\n",
    "    k - int number of principal components to return\n",
    "\n",
    "    norm_docs - bool (defaults to True) of whether to normalize document length. Uses L2 norm\n",
    "\n",
    "    center_by_mean - bool (defaults to False) of whether to center term vectors by column mean. Uses pandas `.cov()` method\n",
    "\n",
    "    center_by_variance - bool (defaults to False) of whether to center term vectors by column variance. Uses pandas `.cov()` method\n",
    "\n",
    "    \n",
    "    OUTPUTS:\n",
    "\n",
    "    LOADINGS - pandas `DataFrame` representing term-component matrix\n",
    "\n",
    "    DCM - pandas `DataFrame` representing document-component matrix\n",
    "\n",
    "    COMPINF - pandas `DataFrame` representing component information\n",
    "    '''\n",
    "\n",
    "    # Input handling to ensure only one centering method is used\n",
    "    if (center_by_mean and center_by_variance):\n",
    "        raise SyntaxError('Cannot center by both mean and variance')\n",
    "    \n",
    "    # Normalize docs\n",
    "    if (norm_docs):\n",
    "        tfidf = (X.T/norm(X, 2, axis=1)).T\n",
    "    else:\n",
    "        tfidf = X\n",
    "    \n",
    "    # Center by mean\n",
    "    if (center_by_mean):\n",
    "        tfidf = tfidf - tfidf.mean()\n",
    "\n",
    "    # Center by variance\n",
    "    if (center_by_variance):\n",
    "        tfidf = tfidf - tfidf.var()\n",
    "    \n",
    "    # Compute variance-covariange matrix\n",
    "    COV = tfidf.cov()\n",
    "\n",
    "    # Eigendecomposition\n",
    "    eig_vals, eig_vecs = eigh(COV)\n",
    "\n",
    "    # Convernt eigenvalues and eigenvectors into DataFrames\n",
    "    EIG_VECS = pd.DataFrame(eig_vecs, index=COV.index, columns=COV.index)\n",
    "    EIG_VALS = pd.DataFrame(eig_vals, index=COV.index, columns=['eig_val'])\n",
    "    EIG_PAIRS = EIG_VALS.join(EIG_VECS.T)\\\n",
    "        .sort_values('eig_val', ascending=False)\n",
    "    \n",
    "    EIG_PAIRS['exp_var'] = np.round((EIG_PAIRS.eig_val / EIG_PAIRS.eig_val.sum()) * 100, 2)\n",
    "\n",
    "    # Select top k components\n",
    "    COMPS = EIG_PAIRS.sort_values('exp_var', ascending=False).head(k).reset_index(drop=True)\n",
    "    COMPS.index.name = 'comp_id'\n",
    "    COMPS.index = [\"PC{}\".format(i) for i in COMPS.index.tolist()]\n",
    "    COMPS.index.name = 'pc_id'\n",
    "\n",
    "    # Create LOADINGS\n",
    "    LOADINGS = COMPS[COV.index].T\n",
    "    LOADINGS.index.name = 'term_str'\n",
    "\n",
    "    # Create DCM\n",
    "    DCM = tfidf.dot(COMPS[COV.index].T)\n",
    "\n",
    "    # Create COMPINF\n",
    "    top_terms = []\n",
    "    for i in range(k):\n",
    "        for j in [0, 1]:\n",
    "            comp_str = ' '.join(LOADINGS.sort_values(f'PC{i}', ascending=bool(j)).head(10).index.to_list())\n",
    "            top_terms.append((f\"PC{i}\", j, comp_str))\n",
    "    COMPINF = pd.DataFrame(top_terms).set_index([0,1]).unstack()\n",
    "    COMPINF.index.name = 'comp_id'\n",
    "    COMPINF.columns = COMPINF.columns.droplevel(0) \n",
    "    COMPINF = COMPINF.rename(columns={0:'pos', 1:'neg'})\n",
    "\n",
    "    return (LOADINGS, DCM, COMPINF)"
   ]
  },
  {
   "cell_type": "code",
   "execution_count": 3,
   "metadata": {},
   "outputs": [],
   "source": [
    "def vis_pcs(M, a, b, label='artist', hover_name='album_title', symbol=None, size=None):\n",
    "    return px.scatter(M, f\"PC{a}\", f\"PC{b}\", color=label, hover_data=['artist', 'album_title', 'genre'],\n",
    "                     symbol=symbol, size=size,\n",
    "                     marginal_x='box', marginal_y ='box', height=800)"
   ]
  },
  {
   "cell_type": "code",
   "execution_count": 4,
   "metadata": {},
   "outputs": [],
   "source": [
    "def vis_loadings(a=0, b=1, hover_name='term_str'):\n",
    "    X = LOADINGS.join(VOCAB)\n",
    "    #X = LOADINGS.join(VSHORT)\n",
    "    return px.scatter(X.reset_index(), f\"PC{a}\", f\"PC{b}\", \n",
    "                      text='term_str', size='i', color='max_pos', \n",
    "                      marginal_x='box', marginal_y ='box', height=800)"
   ]
  },
  {
   "cell_type": "markdown",
   "metadata": {},
   "source": [
    "## Read Data"
   ]
  },
  {
   "cell_type": "code",
   "execution_count": 5,
   "metadata": {},
   "outputs": [],
   "source": [
    "LIB = pd.read_csv('../tables/LIB.csv', sep='|').set_index('album_id')\n",
    "SONG_LIB = pd.read_csv('../tables/SONG_LIB', sep='|').set_index(['album_id', 'song_num'])\n",
    "CORPUS = pd.read_csv('../tables/CORPUS.csv', sep='|').set_index(OHCO)\n",
    "VOCAB = pd.read_csv('../tables/VOCAB.csv', sep='|').set_index('term_str')\n",
    "BOW_SONG = pd.read_csv('../tables/BOW_SONG.csv', sep='|').set_index(['album_id', 'song_num', 'term_str'])\n",
    "DTCM_SONG = pd.read_csv('../tables/DTCM_SONG.csv', sep='|').set_index(OHCO[:2])\n",
    "TFIDF_SONG = pd.read_csv('../tables/TFIDF_SONG.csv', sep='|').set_index(OHCO[:2])\n",
    "TFIDF_L2_SONG = pd.read_csv('../tables/TFIDF_L2_SONG.csv', sep='|').set_index(['album_id', 'song_num'])\n",
    "BOW_ALBUM = pd.read_csv('../tables/BOW_ALBUM.csv', sep='|').set_index(['album_id', 'term_str'])\n",
    "DTCM_ALBUM = pd.read_csv('../tables/DTCM_ALBUM.csv', sep='|').set_index(OHCO[:1])\n",
    "TFIDF_ALBUM = pd.read_csv('../tables/TFIDF_ALBUM.csv', sep='|').set_index(OHCO[:1])\n",
    "TFIDF_L2_ALBUM = pd.read_csv('../tables/TFIDF_L2_ALBUM.csv', sep='|').set_index(['album_id'])"
   ]
  },
  {
   "cell_type": "markdown",
   "metadata": {},
   "source": [
    "### Set column indices where relevant"
   ]
  },
  {
   "cell_type": "code",
   "execution_count": 6,
   "metadata": {},
   "outputs": [],
   "source": [
    "DTCM_SONG.columns.name = 'term_str'\n",
    "TFIDF_SONG.columns.name = 'term_str'\n",
    "TFIDF_L2_SONG.columns.name = 'term_str'\n",
    "DTCM_ALBUM.columns.name = 'term_str'\n",
    "TFIDF_ALBUM.columns.name = 'term_str'\n",
    "TFIDF_L2_ALBUM.columns.name = 'term_str'"
   ]
  },
  {
   "cell_type": "markdown",
   "metadata": {},
   "source": [
    "### Remove NULLs from `TFIDF_L2`"
   ]
  },
  {
   "cell_type": "code",
   "execution_count": 7,
   "metadata": {},
   "outputs": [
    {
     "data": {
      "text/plain": [
       "0"
      ]
     },
     "execution_count": 7,
     "metadata": {},
     "output_type": "execute_result"
    }
   ],
   "source": [
    "a = len(TFIDF_L2_ALBUM)\n",
    "TFIDF_L2_ALBUM = TFIDF_L2_ALBUM.dropna()\n",
    "b = len(TFIDF_L2_ALBUM)\n",
    "bag_loss = a - b\n",
    "bag_loss"
   ]
  },
  {
   "cell_type": "markdown",
   "metadata": {},
   "source": [
    "## Generate `LOADINGS`, `DCM`, and `COMPINF`"
   ]
  },
  {
   "cell_type": "code",
   "execution_count": 8,
   "metadata": {},
   "outputs": [],
   "source": [
    "LOADINGS, DCM, COMPINF = get_PCA(TFIDF_L2_ALBUM, k=10, norm_docs=False, center_by_mean=False, center_by_variance=False)"
   ]
  },
  {
   "cell_type": "code",
   "execution_count": 9,
   "metadata": {},
   "outputs": [
    {
     "data": {
      "text/html": [
       "<style type=\"text/css\">\n",
       "#T_61747_row0_col0 {\n",
       "  background-color: #5dc0c0;\n",
       "  color: #000000;\n",
       "}\n",
       "#T_61747_row0_col1 {\n",
       "  background-color: #216bae;\n",
       "  color: #f1f1f1;\n",
       "}\n",
       "#T_61747_row0_col2, #T_61747_row8_col8 {\n",
       "  background-color: #71c8bd;\n",
       "  color: #000000;\n",
       "}\n",
       "#T_61747_row0_col3 {\n",
       "  background-color: #2397c1;\n",
       "  color: #f1f1f1;\n",
       "}\n",
       "#T_61747_row0_col4, #T_61747_row0_col6, #T_61747_row1_col0, #T_61747_row1_col3, #T_61747_row1_col9, #T_61747_row2_col1, #T_61747_row3_col7, #T_61747_row3_col8, #T_61747_row7_col5, #T_61747_row9_col2 {\n",
       "  background-color: #ffffd9;\n",
       "  color: #000000;\n",
       "}\n",
       "#T_61747_row0_col5 {\n",
       "  background-color: #1f78b4;\n",
       "  color: #f1f1f1;\n",
       "}\n",
       "#T_61747_row0_col7, #T_61747_row2_col3, #T_61747_row2_col5, #T_61747_row3_col0, #T_61747_row3_col9, #T_61747_row6_col1, #T_61747_row6_col4, #T_61747_row6_col6, #T_61747_row7_col2, #T_61747_row7_col8 {\n",
       "  background-color: #081d58;\n",
       "  color: #f1f1f1;\n",
       "}\n",
       "#T_61747_row0_col8 {\n",
       "  background-color: #9cd8b8;\n",
       "  color: #000000;\n",
       "}\n",
       "#T_61747_row0_col9 {\n",
       "  background-color: #48b9c3;\n",
       "  color: #f1f1f1;\n",
       "}\n",
       "#T_61747_row1_col1 {\n",
       "  background-color: #2070b0;\n",
       "  color: #f1f1f1;\n",
       "}\n",
       "#T_61747_row1_col2 {\n",
       "  background-color: #73c8bd;\n",
       "  color: #000000;\n",
       "}\n",
       "#T_61747_row1_col4 {\n",
       "  background-color: #cbebb4;\n",
       "  color: #000000;\n",
       "}\n",
       "#T_61747_row1_col5, #T_61747_row7_col0 {\n",
       "  background-color: #2075b3;\n",
       "  color: #f1f1f1;\n",
       "}\n",
       "#T_61747_row1_col6 {\n",
       "  background-color: #269bc1;\n",
       "  color: #f1f1f1;\n",
       "}\n",
       "#T_61747_row1_col7 {\n",
       "  background-color: #225ca7;\n",
       "  color: #f1f1f1;\n",
       "}\n",
       "#T_61747_row1_col8 {\n",
       "  background-color: #f5fbc4;\n",
       "  color: #000000;\n",
       "}\n",
       "#T_61747_row2_col0, #T_61747_row9_col5 {\n",
       "  background-color: #69c5be;\n",
       "  color: #000000;\n",
       "}\n",
       "#T_61747_row2_col2, #T_61747_row9_col8 {\n",
       "  background-color: #1f7db6;\n",
       "  color: #f1f1f1;\n",
       "}\n",
       "#T_61747_row2_col4 {\n",
       "  background-color: #2168ad;\n",
       "  color: #f1f1f1;\n",
       "}\n",
       "#T_61747_row2_col6 {\n",
       "  background-color: #3fb4c4;\n",
       "  color: #f1f1f1;\n",
       "}\n",
       "#T_61747_row2_col7, #T_61747_row8_col7 {\n",
       "  background-color: #1c2d81;\n",
       "  color: #f1f1f1;\n",
       "}\n",
       "#T_61747_row2_col8 {\n",
       "  background-color: #d5efb3;\n",
       "  color: #000000;\n",
       "}\n",
       "#T_61747_row2_col9 {\n",
       "  background-color: #fdfed5;\n",
       "  color: #000000;\n",
       "}\n",
       "#T_61747_row3_col1 {\n",
       "  background-color: #57bec1;\n",
       "  color: #000000;\n",
       "}\n",
       "#T_61747_row3_col2 {\n",
       "  background-color: #234da0;\n",
       "  color: #f1f1f1;\n",
       "}\n",
       "#T_61747_row3_col3 {\n",
       "  background-color: #172976;\n",
       "  color: #f1f1f1;\n",
       "}\n",
       "#T_61747_row3_col4, #T_61747_row5_col8 {\n",
       "  background-color: #8ed3ba;\n",
       "  color: #000000;\n",
       "}\n",
       "#T_61747_row3_col5 {\n",
       "  background-color: #eff9b6;\n",
       "  color: #000000;\n",
       "}\n",
       "#T_61747_row3_col6 {\n",
       "  background-color: #c9eab4;\n",
       "  color: #000000;\n",
       "}\n",
       "#T_61747_row4_col0 {\n",
       "  background-color: #abdeb7;\n",
       "  color: #000000;\n",
       "}\n",
       "#T_61747_row4_col1, #T_61747_row5_col9 {\n",
       "  background-color: #63c3bf;\n",
       "  color: #000000;\n",
       "}\n",
       "#T_61747_row4_col2, #T_61747_row8_col2 {\n",
       "  background-color: #67c4be;\n",
       "  color: #000000;\n",
       "}\n",
       "#T_61747_row4_col3 {\n",
       "  background-color: #299dc1;\n",
       "  color: #f1f1f1;\n",
       "}\n",
       "#T_61747_row4_col4 {\n",
       "  background-color: #31a5c2;\n",
       "  color: #f1f1f1;\n",
       "}\n",
       "#T_61747_row4_col5 {\n",
       "  background-color: #2498c1;\n",
       "  color: #f1f1f1;\n",
       "}\n",
       "#T_61747_row4_col6 {\n",
       "  background-color: #97d6b9;\n",
       "  color: #000000;\n",
       "}\n",
       "#T_61747_row4_col7 {\n",
       "  background-color: #2356a4;\n",
       "  color: #f1f1f1;\n",
       "}\n",
       "#T_61747_row4_col8 {\n",
       "  background-color: #3eb3c4;\n",
       "  color: #f1f1f1;\n",
       "}\n",
       "#T_61747_row4_col9 {\n",
       "  background-color: #e0f3b2;\n",
       "  color: #000000;\n",
       "}\n",
       "#T_61747_row5_col0 {\n",
       "  background-color: #36abc3;\n",
       "  color: #f1f1f1;\n",
       "}\n",
       "#T_61747_row5_col1 {\n",
       "  background-color: #2fa4c2;\n",
       "  color: #f1f1f1;\n",
       "}\n",
       "#T_61747_row5_col2 {\n",
       "  background-color: #6dc6be;\n",
       "  color: #000000;\n",
       "}\n",
       "#T_61747_row5_col3, #T_61747_row6_col7 {\n",
       "  background-color: #50bbc2;\n",
       "  color: #000000;\n",
       "}\n",
       "#T_61747_row5_col4 {\n",
       "  background-color: #59bfc0;\n",
       "  color: #000000;\n",
       "}\n",
       "#T_61747_row5_col5 {\n",
       "  background-color: #32a6c2;\n",
       "  color: #f1f1f1;\n",
       "}\n",
       "#T_61747_row5_col6 {\n",
       "  background-color: #d0edb3;\n",
       "  color: #000000;\n",
       "}\n",
       "#T_61747_row5_col7 {\n",
       "  background-color: #243d98;\n",
       "  color: #f1f1f1;\n",
       "}\n",
       "#T_61747_row6_col0 {\n",
       "  background-color: #1e86bb;\n",
       "  color: #f1f1f1;\n",
       "}\n",
       "#T_61747_row6_col2 {\n",
       "  background-color: #35aac3;\n",
       "  color: #f1f1f1;\n",
       "}\n",
       "#T_61747_row6_col3 {\n",
       "  background-color: #0d2161;\n",
       "  color: #f1f1f1;\n",
       "}\n",
       "#T_61747_row6_col5 {\n",
       "  background-color: #c8e9b4;\n",
       "  color: #000000;\n",
       "}\n",
       "#T_61747_row6_col8 {\n",
       "  background-color: #2355a4;\n",
       "  color: #f1f1f1;\n",
       "}\n",
       "#T_61747_row6_col9 {\n",
       "  background-color: #24479d;\n",
       "  color: #f1f1f1;\n",
       "}\n",
       "#T_61747_row7_col1 {\n",
       "  background-color: #39adc3;\n",
       "  color: #f1f1f1;\n",
       "}\n",
       "#T_61747_row7_col3 {\n",
       "  background-color: #2094c0;\n",
       "  color: #f1f1f1;\n",
       "}\n",
       "#T_61747_row7_col4, #T_61747_row8_col6 {\n",
       "  background-color: #bbe4b5;\n",
       "  color: #000000;\n",
       "}\n",
       "#T_61747_row7_col6 {\n",
       "  background-color: #f1faba;\n",
       "  color: #000000;\n",
       "}\n",
       "#T_61747_row7_col7 {\n",
       "  background-color: #3bb0c3;\n",
       "  color: #f1f1f1;\n",
       "}\n",
       "#T_61747_row7_col9 {\n",
       "  background-color: #1f2f87;\n",
       "  color: #f1f1f1;\n",
       "}\n",
       "#T_61747_row8_col0 {\n",
       "  background-color: #c4e8b4;\n",
       "  color: #000000;\n",
       "}\n",
       "#T_61747_row8_col1 {\n",
       "  background-color: #2260a9;\n",
       "  color: #f1f1f1;\n",
       "}\n",
       "#T_61747_row8_col3 {\n",
       "  background-color: #3cb1c3;\n",
       "  color: #f1f1f1;\n",
       "}\n",
       "#T_61747_row8_col4 {\n",
       "  background-color: #37acc3;\n",
       "  color: #f1f1f1;\n",
       "}\n",
       "#T_61747_row8_col5 {\n",
       "  background-color: #2da2c2;\n",
       "  color: #f1f1f1;\n",
       "}\n",
       "#T_61747_row8_col9 {\n",
       "  background-color: #c0e6b5;\n",
       "  color: #000000;\n",
       "}\n",
       "#T_61747_row9_col0 {\n",
       "  background-color: #78cbbc;\n",
       "  color: #000000;\n",
       "}\n",
       "#T_61747_row9_col1 {\n",
       "  background-color: #2ca1c2;\n",
       "  color: #f1f1f1;\n",
       "}\n",
       "#T_61747_row9_col3 {\n",
       "  background-color: #eaf7b1;\n",
       "  color: #000000;\n",
       "}\n",
       "#T_61747_row9_col4 {\n",
       "  background-color: #95d5b9;\n",
       "  color: #000000;\n",
       "}\n",
       "#T_61747_row9_col6 {\n",
       "  background-color: #d1edb3;\n",
       "  color: #000000;\n",
       "}\n",
       "#T_61747_row9_col7 {\n",
       "  background-color: #2072b1;\n",
       "  color: #f1f1f1;\n",
       "}\n",
       "#T_61747_row9_col9 {\n",
       "  background-color: #1e8abd;\n",
       "  color: #f1f1f1;\n",
       "}\n",
       "</style>\n",
       "<table id=\"T_61747\">\n",
       "  <thead>\n",
       "    <tr>\n",
       "      <th class=\"index_name level0\" >pc_id</th>\n",
       "      <th id=\"T_61747_level0_col0\" class=\"col_heading level0 col0\" >PC0</th>\n",
       "      <th id=\"T_61747_level0_col1\" class=\"col_heading level0 col1\" >PC1</th>\n",
       "      <th id=\"T_61747_level0_col2\" class=\"col_heading level0 col2\" >PC2</th>\n",
       "      <th id=\"T_61747_level0_col3\" class=\"col_heading level0 col3\" >PC3</th>\n",
       "      <th id=\"T_61747_level0_col4\" class=\"col_heading level0 col4\" >PC4</th>\n",
       "      <th id=\"T_61747_level0_col5\" class=\"col_heading level0 col5\" >PC5</th>\n",
       "      <th id=\"T_61747_level0_col6\" class=\"col_heading level0 col6\" >PC6</th>\n",
       "      <th id=\"T_61747_level0_col7\" class=\"col_heading level0 col7\" >PC7</th>\n",
       "      <th id=\"T_61747_level0_col8\" class=\"col_heading level0 col8\" >PC8</th>\n",
       "      <th id=\"T_61747_level0_col9\" class=\"col_heading level0 col9\" >PC9</th>\n",
       "    </tr>\n",
       "    <tr>\n",
       "      <th class=\"index_name level0\" >term_str</th>\n",
       "      <th class=\"blank col0\" >&nbsp;</th>\n",
       "      <th class=\"blank col1\" >&nbsp;</th>\n",
       "      <th class=\"blank col2\" >&nbsp;</th>\n",
       "      <th class=\"blank col3\" >&nbsp;</th>\n",
       "      <th class=\"blank col4\" >&nbsp;</th>\n",
       "      <th class=\"blank col5\" >&nbsp;</th>\n",
       "      <th class=\"blank col6\" >&nbsp;</th>\n",
       "      <th class=\"blank col7\" >&nbsp;</th>\n",
       "      <th class=\"blank col8\" >&nbsp;</th>\n",
       "      <th class=\"blank col9\" >&nbsp;</th>\n",
       "    </tr>\n",
       "  </thead>\n",
       "  <tbody>\n",
       "    <tr>\n",
       "      <th id=\"T_61747_level0_row0\" class=\"row_heading level0 row0\" >60s</th>\n",
       "      <td id=\"T_61747_row0_col0\" class=\"data row0 col0\" >0.001161</td>\n",
       "      <td id=\"T_61747_row0_col1\" class=\"data row0 col1\" >0.001350</td>\n",
       "      <td id=\"T_61747_row0_col2\" class=\"data row0 col2\" >-0.001924</td>\n",
       "      <td id=\"T_61747_row0_col3\" class=\"data row0 col3\" >0.003780</td>\n",
       "      <td id=\"T_61747_row0_col4\" class=\"data row0 col4\" >-0.013955</td>\n",
       "      <td id=\"T_61747_row0_col5\" class=\"data row0 col5\" >0.004874</td>\n",
       "      <td id=\"T_61747_row0_col6\" class=\"data row0 col6\" >-0.010603</td>\n",
       "      <td id=\"T_61747_row0_col7\" class=\"data row0 col7\" >0.006898</td>\n",
       "      <td id=\"T_61747_row0_col8\" class=\"data row0 col8\" >-0.001502</td>\n",
       "      <td id=\"T_61747_row0_col9\" class=\"data row0 col9\" >0.004925</td>\n",
       "    </tr>\n",
       "    <tr>\n",
       "      <th id=\"T_61747_level0_row1\" class=\"row_heading level0 row1\" >aah</th>\n",
       "      <td id=\"T_61747_row1_col0\" class=\"data row1 col0\" >-0.006225</td>\n",
       "      <td id=\"T_61747_row1_col1\" class=\"data row1 col1\" >0.001044</td>\n",
       "      <td id=\"T_61747_row1_col2\" class=\"data row1 col2\" >-0.002063</td>\n",
       "      <td id=\"T_61747_row1_col3\" class=\"data row1 col3\" >-0.015783</td>\n",
       "      <td id=\"T_61747_row1_col4\" class=\"data row1 col4\" >-0.007398</td>\n",
       "      <td id=\"T_61747_row1_col5\" class=\"data row1 col5\" >0.005174</td>\n",
       "      <td id=\"T_61747_row1_col6\" class=\"data row1 col6\" >0.009828</td>\n",
       "      <td id=\"T_61747_row1_col7\" class=\"data row1 col7\" >-0.004204</td>\n",
       "      <td id=\"T_61747_row1_col8\" class=\"data row1 col8\" >-0.008727</td>\n",
       "      <td id=\"T_61747_row1_col9\" class=\"data row1 col9\" >-0.007666</td>\n",
       "    </tr>\n",
       "    <tr>\n",
       "      <th id=\"T_61747_level0_row2\" class=\"row_heading level0 row2\" >aback</th>\n",
       "      <td id=\"T_61747_row2_col0\" class=\"data row2 col0\" >0.000792</td>\n",
       "      <td id=\"T_61747_row2_col1\" class=\"data row2 col1\" >-0.022508</td>\n",
       "      <td id=\"T_61747_row2_col2\" class=\"data row2 col2\" >0.006452</td>\n",
       "      <td id=\"T_61747_row2_col3\" class=\"data row2 col3\" >0.016714</td>\n",
       "      <td id=\"T_61747_row2_col4\" class=\"data row2 col4\" >0.006291</td>\n",
       "      <td id=\"T_61747_row2_col5\" class=\"data row2 col5\" >0.016884</td>\n",
       "      <td id=\"T_61747_row2_col6\" class=\"data row2 col6\" >0.006800</td>\n",
       "      <td id=\"T_61747_row2_col7\" class=\"data row2 col7\" >0.002915</td>\n",
       "      <td id=\"T_61747_row2_col8\" class=\"data row2 col8\" >-0.004847</td>\n",
       "      <td id=\"T_61747_row2_col9\" class=\"data row2 col9\" >-0.007295</td>\n",
       "    </tr>\n",
       "    <tr>\n",
       "      <th id=\"T_61747_level0_row3\" class=\"row_heading level0 row3\" >abilities</th>\n",
       "      <td id=\"T_61747_row3_col0\" class=\"data row3 col0\" >0.010436</td>\n",
       "      <td id=\"T_61747_row3_col1\" class=\"data row3 col1\" >-0.007346</td>\n",
       "      <td id=\"T_61747_row3_col2\" class=\"data row3 col2\" >0.010310</td>\n",
       "      <td id=\"T_61747_row3_col3\" class=\"data row3 col3\" >0.014582</td>\n",
       "      <td id=\"T_61747_row3_col4\" class=\"data row3 col4\" >-0.004165</td>\n",
       "      <td id=\"T_61747_row3_col5\" class=\"data row3 col5\" >-0.016953</td>\n",
       "      <td id=\"T_61747_row3_col6\" class=\"data row3 col6\" >-0.002229</td>\n",
       "      <td id=\"T_61747_row3_col7\" class=\"data row3 col7\" >-0.038231</td>\n",
       "      <td id=\"T_61747_row3_col8\" class=\"data row3 col8\" >-0.010688</td>\n",
       "      <td id=\"T_61747_row3_col9\" class=\"data row3 col9\" >0.018124</td>\n",
       "    </tr>\n",
       "    <tr>\n",
       "      <th id=\"T_61747_level0_row4\" class=\"row_heading level0 row4\" >ability</th>\n",
       "      <td id=\"T_61747_row4_col0\" class=\"data row4 col0\" >-0.001217</td>\n",
       "      <td id=\"T_61747_row4_col1\" class=\"data row4 col1\" >-0.008060</td>\n",
       "      <td id=\"T_61747_row4_col2\" class=\"data row4 col2\" >-0.001272</td>\n",
       "      <td id=\"T_61747_row4_col3\" class=\"data row4 col3\" >0.003197</td>\n",
       "      <td id=\"T_61747_row4_col4\" class=\"data row4 col4\" >0.001544</td>\n",
       "      <td id=\"T_61747_row4_col5\" class=\"data row4 col5\" >0.001552</td>\n",
       "      <td id=\"T_61747_row4_col6\" class=\"data row4 col6\" >0.000925</td>\n",
       "      <td id=\"T_61747_row4_col7\" class=\"data row4 col7\" >-0.003343</td>\n",
       "      <td id=\"T_61747_row4_col8\" class=\"data row4 col8\" >0.003740</td>\n",
       "      <td id=\"T_61747_row4_col9\" class=\"data row4 col9\" >-0.003240</td>\n",
       "    </tr>\n",
       "    <tr>\n",
       "      <th id=\"T_61747_level0_row5\" class=\"row_heading level0 row5\" >aboard</th>\n",
       "      <td id=\"T_61747_row5_col0\" class=\"data row5 col0\" >0.002737</td>\n",
       "      <td id=\"T_61747_row5_col1\" class=\"data row5 col1\" >-0.003798</td>\n",
       "      <td id=\"T_61747_row5_col2\" class=\"data row5 col2\" >-0.001693</td>\n",
       "      <td id=\"T_61747_row5_col3\" class=\"data row5 col3\" >-0.000548</td>\n",
       "      <td id=\"T_61747_row5_col4\" class=\"data row5 col4\" >-0.001427</td>\n",
       "      <td id=\"T_61747_row5_col5\" class=\"data row5 col5\" >-0.000159</td>\n",
       "      <td id=\"T_61747_row5_col6\" class=\"data row5 col6\" >-0.003018</td>\n",
       "      <td id=\"T_61747_row5_col7\" class=\"data row5 col7\" >-0.000085</td>\n",
       "      <td id=\"T_61747_row5_col8\" class=\"data row5 col8\" >-0.000784</td>\n",
       "      <td id=\"T_61747_row5_col9\" class=\"data row5 col9\" >0.003462</td>\n",
       "    </tr>\n",
       "    <tr>\n",
       "      <th id=\"T_61747_level0_row6\" class=\"row_heading level0 row6\" >absence</th>\n",
       "      <td id=\"T_61747_row6_col0\" class=\"data row6 col0\" >0.004602</td>\n",
       "      <td id=\"T_61747_row6_col1\" class=\"data row6 col1\" >0.010851</td>\n",
       "      <td id=\"T_61747_row6_col2\" class=\"data row6 col2\" >0.002380</td>\n",
       "      <td id=\"T_61747_row6_col3\" class=\"data row6 col3\" >0.015988</td>\n",
       "      <td id=\"T_61747_row6_col4\" class=\"data row6 col4\" >0.013918</td>\n",
       "      <td id=\"T_61747_row6_col5\" class=\"data row6 col5\" >-0.011807</td>\n",
       "      <td id=\"T_61747_row6_col6\" class=\"data row6 col6\" >0.023858</td>\n",
       "      <td id=\"T_61747_row6_col7\" class=\"data row6 col7\" >-0.017032</td>\n",
       "      <td id=\"T_61747_row6_col8\" class=\"data row6 col8\" >0.011258</td>\n",
       "      <td id=\"T_61747_row6_col9\" class=\"data row6 col9\" >0.013480</td>\n",
       "    </tr>\n",
       "    <tr>\n",
       "      <th id=\"T_61747_level0_row7\" class=\"row_heading level0 row7\" >absentee</th>\n",
       "      <td id=\"T_61747_row7_col0\" class=\"data row7 col0\" >0.005301</td>\n",
       "      <td id=\"T_61747_row7_col1\" class=\"data row7 col1\" >-0.004833</td>\n",
       "      <td id=\"T_61747_row7_col2\" class=\"data row7 col2\" >0.016498</td>\n",
       "      <td id=\"T_61747_row7_col3\" class=\"data row7 col3\" >0.004272</td>\n",
       "      <td id=\"T_61747_row7_col4\" class=\"data row7 col4\" >-0.006411</td>\n",
       "      <td id=\"T_61747_row7_col5\" class=\"data row7 col5\" >-0.021270</td>\n",
       "      <td id=\"T_61747_row7_col6\" class=\"data row7 col6\" >-0.007195</td>\n",
       "      <td id=\"T_61747_row7_col7\" class=\"data row7 col7\" >-0.014666</td>\n",
       "      <td id=\"T_61747_row7_col8\" class=\"data row7 col8\" >0.017599</td>\n",
       "      <td id=\"T_61747_row7_col9\" class=\"data row7 col9\" >0.015589</td>\n",
       "    </tr>\n",
       "    <tr>\n",
       "      <th id=\"T_61747_level0_row8\" class=\"row_heading level0 row8\" >abundance</th>\n",
       "      <td id=\"T_61747_row8_col0\" class=\"data row8 col0\" >-0.001979</td>\n",
       "      <td id=\"T_61747_row8_col1\" class=\"data row8 col1\" >0.002327</td>\n",
       "      <td id=\"T_61747_row8_col2\" class=\"data row8 col2\" >-0.001318</td>\n",
       "      <td id=\"T_61747_row8_col3\" class=\"data row8 col3\" >0.001002</td>\n",
       "      <td id=\"T_61747_row8_col4\" class=\"data row8 col4\" >0.000855</td>\n",
       "      <td id=\"T_61747_row8_col5\" class=\"data row8 col5\" >0.000366</td>\n",
       "      <td id=\"T_61747_row8_col6\" class=\"data row8 col6\" >-0.001302</td>\n",
       "      <td id=\"T_61747_row8_col7\" class=\"data row8 col7\" >0.002902</td>\n",
       "      <td id=\"T_61747_row8_col8\" class=\"data row8 col8\" >0.000702</td>\n",
       "      <td id=\"T_61747_row8_col9\" class=\"data row8 col9\" >-0.000886</td>\n",
       "    </tr>\n",
       "    <tr>\n",
       "      <th id=\"T_61747_level0_row9\" class=\"row_heading level0 row9\" >abuse</th>\n",
       "      <td id=\"T_61747_row9_col0\" class=\"data row9 col0\" >0.000228</td>\n",
       "      <td id=\"T_61747_row9_col1\" class=\"data row9 col1\" >-0.003410</td>\n",
       "      <td id=\"T_61747_row9_col2\" class=\"data row9 col2\" >-0.014370</td>\n",
       "      <td id=\"T_61747_row9_col3\" class=\"data row9 col3\" >-0.011454</td>\n",
       "      <td id=\"T_61747_row9_col4\" class=\"data row9 col4\" >-0.004496</td>\n",
       "      <td id=\"T_61747_row9_col5\" class=\"data row9 col5\" >-0.005223</td>\n",
       "      <td id=\"T_61747_row9_col6\" class=\"data row9 col6\" >-0.003106</td>\n",
       "      <td id=\"T_61747_row9_col7\" class=\"data row9 col7\" >-0.006624</td>\n",
       "      <td id=\"T_61747_row9_col8\" class=\"data row9 col8\" >0.008319</td>\n",
       "      <td id=\"T_61747_row9_col9\" class=\"data row9 col9\" >0.008884</td>\n",
       "    </tr>\n",
       "  </tbody>\n",
       "</table>\n"
      ],
      "text/plain": [
       "<pandas.io.formats.style.Styler at 0x177063700>"
      ]
     },
     "execution_count": 9,
     "metadata": {},
     "output_type": "execute_result"
    }
   ],
   "source": [
    "LOADINGS.head(10).style.background_gradient(cmap=colors)"
   ]
  },
  {
   "cell_type": "code",
   "execution_count": 10,
   "metadata": {},
   "outputs": [
    {
     "data": {
      "text/html": [
       "<div>\n",
       "<style scoped>\n",
       "    .dataframe tbody tr th:only-of-type {\n",
       "        vertical-align: middle;\n",
       "    }\n",
       "\n",
       "    .dataframe tbody tr th {\n",
       "        vertical-align: top;\n",
       "    }\n",
       "\n",
       "    .dataframe thead th {\n",
       "        text-align: right;\n",
       "    }\n",
       "</style>\n",
       "<table border=\"1\" class=\"dataframe\">\n",
       "  <thead>\n",
       "    <tr style=\"text-align: right;\">\n",
       "      <th>pc_id</th>\n",
       "      <th>PC0</th>\n",
       "      <th>PC1</th>\n",
       "      <th>PC2</th>\n",
       "      <th>PC3</th>\n",
       "      <th>PC4</th>\n",
       "      <th>PC5</th>\n",
       "      <th>PC6</th>\n",
       "      <th>PC7</th>\n",
       "      <th>PC8</th>\n",
       "      <th>PC9</th>\n",
       "    </tr>\n",
       "    <tr>\n",
       "      <th>term_str</th>\n",
       "      <th></th>\n",
       "      <th></th>\n",
       "      <th></th>\n",
       "      <th></th>\n",
       "      <th></th>\n",
       "      <th></th>\n",
       "      <th></th>\n",
       "      <th></th>\n",
       "      <th></th>\n",
       "      <th></th>\n",
       "    </tr>\n",
       "  </thead>\n",
       "  <tbody>\n",
       "    <tr>\n",
       "      <th>mystery</th>\n",
       "      <td>0.212383</td>\n",
       "      <td>0.251620</td>\n",
       "      <td>0.074624</td>\n",
       "      <td>0.029863</td>\n",
       "      <td>0.063679</td>\n",
       "      <td>0.150670</td>\n",
       "      <td>-0.153024</td>\n",
       "      <td>-0.101521</td>\n",
       "      <td>0.038977</td>\n",
       "      <td>-0.026099</td>\n",
       "    </tr>\n",
       "    <tr>\n",
       "      <th>step</th>\n",
       "      <td>0.189536</td>\n",
       "      <td>0.030983</td>\n",
       "      <td>-0.138239</td>\n",
       "      <td>-0.034670</td>\n",
       "      <td>0.214149</td>\n",
       "      <td>0.222779</td>\n",
       "      <td>-0.153678</td>\n",
       "      <td>0.018788</td>\n",
       "      <td>0.033889</td>\n",
       "      <td>0.106309</td>\n",
       "    </tr>\n",
       "    <tr>\n",
       "      <th>hes</th>\n",
       "      <td>0.170210</td>\n",
       "      <td>-0.296107</td>\n",
       "      <td>-0.176265</td>\n",
       "      <td>-0.195835</td>\n",
       "      <td>-0.079508</td>\n",
       "      <td>0.131310</td>\n",
       "      <td>-0.002314</td>\n",
       "      <td>0.111191</td>\n",
       "      <td>0.005660</td>\n",
       "      <td>-0.033078</td>\n",
       "    </tr>\n",
       "    <tr>\n",
       "      <th>lie</th>\n",
       "      <td>0.161953</td>\n",
       "      <td>0.209978</td>\n",
       "      <td>0.193034</td>\n",
       "      <td>0.029838</td>\n",
       "      <td>0.044935</td>\n",
       "      <td>0.104830</td>\n",
       "      <td>0.274256</td>\n",
       "      <td>0.124084</td>\n",
       "      <td>0.257525</td>\n",
       "      <td>-0.348062</td>\n",
       "    </tr>\n",
       "    <tr>\n",
       "      <th>everything</th>\n",
       "      <td>0.137539</td>\n",
       "      <td>0.007595</td>\n",
       "      <td>0.061280</td>\n",
       "      <td>0.178636</td>\n",
       "      <td>-0.095048</td>\n",
       "      <td>0.077513</td>\n",
       "      <td>0.042253</td>\n",
       "      <td>-0.035101</td>\n",
       "      <td>-0.083146</td>\n",
       "      <td>0.078901</td>\n",
       "    </tr>\n",
       "    <tr>\n",
       "      <th>body</th>\n",
       "      <td>0.118054</td>\n",
       "      <td>0.070059</td>\n",
       "      <td>-0.053328</td>\n",
       "      <td>0.001041</td>\n",
       "      <td>0.056890</td>\n",
       "      <td>0.027937</td>\n",
       "      <td>0.020363</td>\n",
       "      <td>0.064475</td>\n",
       "      <td>-0.039161</td>\n",
       "      <td>0.058557</td>\n",
       "    </tr>\n",
       "    <tr>\n",
       "      <th>cry</th>\n",
       "      <td>0.116408</td>\n",
       "      <td>0.061203</td>\n",
       "      <td>0.081829</td>\n",
       "      <td>-0.051656</td>\n",
       "      <td>-0.051733</td>\n",
       "      <td>-0.088338</td>\n",
       "      <td>0.039831</td>\n",
       "      <td>0.076309</td>\n",
       "      <td>0.006443</td>\n",
       "      <td>-0.016588</td>\n",
       "    </tr>\n",
       "    <tr>\n",
       "      <th>touch</th>\n",
       "      <td>0.111292</td>\n",
       "      <td>0.002326</td>\n",
       "      <td>-0.018526</td>\n",
       "      <td>-0.068139</td>\n",
       "      <td>-0.018224</td>\n",
       "      <td>0.012962</td>\n",
       "      <td>-0.000792</td>\n",
       "      <td>0.011040</td>\n",
       "      <td>0.008373</td>\n",
       "      <td>0.024564</td>\n",
       "    </tr>\n",
       "    <tr>\n",
       "      <th>phone</th>\n",
       "      <td>0.107106</td>\n",
       "      <td>-0.083106</td>\n",
       "      <td>-0.051459</td>\n",
       "      <td>-0.075402</td>\n",
       "      <td>0.085081</td>\n",
       "      <td>-0.006152</td>\n",
       "      <td>-0.130728</td>\n",
       "      <td>-0.000468</td>\n",
       "      <td>-0.021086</td>\n",
       "      <td>0.006894</td>\n",
       "    </tr>\n",
       "    <tr>\n",
       "      <th>side</th>\n",
       "      <td>0.102851</td>\n",
       "      <td>-0.003321</td>\n",
       "      <td>0.045866</td>\n",
       "      <td>-0.025523</td>\n",
       "      <td>0.025945</td>\n",
       "      <td>-0.010491</td>\n",
       "      <td>-0.026386</td>\n",
       "      <td>0.039161</td>\n",
       "      <td>0.023473</td>\n",
       "      <td>-0.030606</td>\n",
       "    </tr>\n",
       "  </tbody>\n",
       "</table>\n",
       "</div>"
      ],
      "text/plain": [
       "pc_id            PC0       PC1       PC2       PC3       PC4       PC5  \\\n",
       "term_str                                                                 \n",
       "mystery     0.212383  0.251620  0.074624  0.029863  0.063679  0.150670   \n",
       "step        0.189536  0.030983 -0.138239 -0.034670  0.214149  0.222779   \n",
       "hes         0.170210 -0.296107 -0.176265 -0.195835 -0.079508  0.131310   \n",
       "lie         0.161953  0.209978  0.193034  0.029838  0.044935  0.104830   \n",
       "everything  0.137539  0.007595  0.061280  0.178636 -0.095048  0.077513   \n",
       "body        0.118054  0.070059 -0.053328  0.001041  0.056890  0.027937   \n",
       "cry         0.116408  0.061203  0.081829 -0.051656 -0.051733 -0.088338   \n",
       "touch       0.111292  0.002326 -0.018526 -0.068139 -0.018224  0.012962   \n",
       "phone       0.107106 -0.083106 -0.051459 -0.075402  0.085081 -0.006152   \n",
       "side        0.102851 -0.003321  0.045866 -0.025523  0.025945 -0.010491   \n",
       "\n",
       "pc_id            PC6       PC7       PC8       PC9  \n",
       "term_str                                            \n",
       "mystery    -0.153024 -0.101521  0.038977 -0.026099  \n",
       "step       -0.153678  0.018788  0.033889  0.106309  \n",
       "hes        -0.002314  0.111191  0.005660 -0.033078  \n",
       "lie         0.274256  0.124084  0.257525 -0.348062  \n",
       "everything  0.042253 -0.035101 -0.083146  0.078901  \n",
       "body        0.020363  0.064475 -0.039161  0.058557  \n",
       "cry         0.039831  0.076309  0.006443 -0.016588  \n",
       "touch      -0.000792  0.011040  0.008373  0.024564  \n",
       "phone      -0.130728 -0.000468 -0.021086  0.006894  \n",
       "side       -0.026386  0.039161  0.023473 -0.030606  "
      ]
     },
     "execution_count": 10,
     "metadata": {},
     "output_type": "execute_result"
    }
   ],
   "source": [
    "LOADINGS.sort_values('PC0', ascending=False).head(10)"
   ]
  },
  {
   "cell_type": "code",
   "execution_count": 11,
   "metadata": {},
   "outputs": [
    {
     "data": {
      "text/html": [
       "<div>\n",
       "<style scoped>\n",
       "    .dataframe tbody tr th:only-of-type {\n",
       "        vertical-align: middle;\n",
       "    }\n",
       "\n",
       "    .dataframe tbody tr th {\n",
       "        vertical-align: top;\n",
       "    }\n",
       "\n",
       "    .dataframe thead th {\n",
       "        text-align: right;\n",
       "    }\n",
       "</style>\n",
       "<table border=\"1\" class=\"dataframe\">\n",
       "  <thead>\n",
       "    <tr style=\"text-align: right;\">\n",
       "      <th>pc_id</th>\n",
       "      <th>PC0</th>\n",
       "      <th>PC1</th>\n",
       "      <th>PC2</th>\n",
       "      <th>PC3</th>\n",
       "      <th>PC4</th>\n",
       "      <th>PC5</th>\n",
       "      <th>PC6</th>\n",
       "      <th>PC7</th>\n",
       "      <th>PC8</th>\n",
       "      <th>PC9</th>\n",
       "    </tr>\n",
       "    <tr>\n",
       "      <th>term_str</th>\n",
       "      <th></th>\n",
       "      <th></th>\n",
       "      <th></th>\n",
       "      <th></th>\n",
       "      <th></th>\n",
       "      <th></th>\n",
       "      <th></th>\n",
       "      <th></th>\n",
       "      <th></th>\n",
       "      <th></th>\n",
       "    </tr>\n",
       "  </thead>\n",
       "  <tbody>\n",
       "    <tr>\n",
       "      <th>raindrops</th>\n",
       "      <td>-0.085434</td>\n",
       "      <td>-0.010348</td>\n",
       "      <td>-0.009228</td>\n",
       "      <td>0.032423</td>\n",
       "      <td>-0.017937</td>\n",
       "      <td>-0.024238</td>\n",
       "      <td>-0.028918</td>\n",
       "      <td>0.005162</td>\n",
       "      <td>0.061599</td>\n",
       "      <td>-0.013204</td>\n",
       "    </tr>\n",
       "    <tr>\n",
       "      <th>parallels</th>\n",
       "      <td>-0.085570</td>\n",
       "      <td>0.023075</td>\n",
       "      <td>-0.052370</td>\n",
       "      <td>0.013112</td>\n",
       "      <td>0.015598</td>\n",
       "      <td>-0.030297</td>\n",
       "      <td>-0.001047</td>\n",
       "      <td>0.057175</td>\n",
       "      <td>0.024949</td>\n",
       "      <td>-0.015581</td>\n",
       "    </tr>\n",
       "    <tr>\n",
       "      <th>afternoon</th>\n",
       "      <td>-0.085626</td>\n",
       "      <td>0.080315</td>\n",
       "      <td>-0.027049</td>\n",
       "      <td>-0.034869</td>\n",
       "      <td>0.026357</td>\n",
       "      <td>-0.035132</td>\n",
       "      <td>-0.023869</td>\n",
       "      <td>-0.029921</td>\n",
       "      <td>-0.029412</td>\n",
       "      <td>-0.179206</td>\n",
       "    </tr>\n",
       "    <tr>\n",
       "      <th>depression</th>\n",
       "      <td>-0.090029</td>\n",
       "      <td>-0.015129</td>\n",
       "      <td>-0.058300</td>\n",
       "      <td>0.004757</td>\n",
       "      <td>-0.026404</td>\n",
       "      <td>0.012881</td>\n",
       "      <td>-0.022559</td>\n",
       "      <td>-0.047071</td>\n",
       "      <td>0.051123</td>\n",
       "      <td>-0.032591</td>\n",
       "    </tr>\n",
       "    <tr>\n",
       "      <th>spinnin</th>\n",
       "      <td>-0.101050</td>\n",
       "      <td>0.022568</td>\n",
       "      <td>-0.044268</td>\n",
       "      <td>0.024699</td>\n",
       "      <td>-0.069196</td>\n",
       "      <td>0.019347</td>\n",
       "      <td>-0.040148</td>\n",
       "      <td>-0.005553</td>\n",
       "      <td>0.100516</td>\n",
       "      <td>-0.070569</td>\n",
       "    </tr>\n",
       "    <tr>\n",
       "      <th>pow</th>\n",
       "      <td>-0.106238</td>\n",
       "      <td>0.054639</td>\n",
       "      <td>0.000857</td>\n",
       "      <td>-0.000392</td>\n",
       "      <td>-0.018099</td>\n",
       "      <td>0.054101</td>\n",
       "      <td>-0.014960</td>\n",
       "      <td>-0.024068</td>\n",
       "      <td>0.032423</td>\n",
       "      <td>0.001375</td>\n",
       "    </tr>\n",
       "    <tr>\n",
       "      <th>bam</th>\n",
       "      <td>-0.117028</td>\n",
       "      <td>0.002871</td>\n",
       "      <td>-0.073714</td>\n",
       "      <td>0.014792</td>\n",
       "      <td>-0.021907</td>\n",
       "      <td>0.028203</td>\n",
       "      <td>-0.000110</td>\n",
       "      <td>-0.012301</td>\n",
       "      <td>0.071440</td>\n",
       "      <td>-0.033464</td>\n",
       "    </tr>\n",
       "    <tr>\n",
       "      <th>lovers</th>\n",
       "      <td>-0.117217</td>\n",
       "      <td>-0.047720</td>\n",
       "      <td>0.179191</td>\n",
       "      <td>-0.038904</td>\n",
       "      <td>0.229525</td>\n",
       "      <td>-0.220664</td>\n",
       "      <td>-0.148871</td>\n",
       "      <td>0.237243</td>\n",
       "      <td>-0.050838</td>\n",
       "      <td>0.066961</td>\n",
       "    </tr>\n",
       "    <tr>\n",
       "      <th>boys</th>\n",
       "      <td>-0.120326</td>\n",
       "      <td>0.044924</td>\n",
       "      <td>0.208416</td>\n",
       "      <td>-0.208413</td>\n",
       "      <td>0.042215</td>\n",
       "      <td>0.112461</td>\n",
       "      <td>0.047077</td>\n",
       "      <td>-0.005252</td>\n",
       "      <td>-0.081273</td>\n",
       "      <td>0.120106</td>\n",
       "    </tr>\n",
       "    <tr>\n",
       "      <th>pills</th>\n",
       "      <td>-0.235144</td>\n",
       "      <td>0.100888</td>\n",
       "      <td>0.264997</td>\n",
       "      <td>-0.328988</td>\n",
       "      <td>-0.033903</td>\n",
       "      <td>0.318740</td>\n",
       "      <td>0.090923</td>\n",
       "      <td>-0.062393</td>\n",
       "      <td>-0.122554</td>\n",
       "      <td>0.254395</td>\n",
       "    </tr>\n",
       "  </tbody>\n",
       "</table>\n",
       "</div>"
      ],
      "text/plain": [
       "pc_id            PC0       PC1       PC2       PC3       PC4       PC5  \\\n",
       "term_str                                                                 \n",
       "raindrops  -0.085434 -0.010348 -0.009228  0.032423 -0.017937 -0.024238   \n",
       "parallels  -0.085570  0.023075 -0.052370  0.013112  0.015598 -0.030297   \n",
       "afternoon  -0.085626  0.080315 -0.027049 -0.034869  0.026357 -0.035132   \n",
       "depression -0.090029 -0.015129 -0.058300  0.004757 -0.026404  0.012881   \n",
       "spinnin    -0.101050  0.022568 -0.044268  0.024699 -0.069196  0.019347   \n",
       "pow        -0.106238  0.054639  0.000857 -0.000392 -0.018099  0.054101   \n",
       "bam        -0.117028  0.002871 -0.073714  0.014792 -0.021907  0.028203   \n",
       "lovers     -0.117217 -0.047720  0.179191 -0.038904  0.229525 -0.220664   \n",
       "boys       -0.120326  0.044924  0.208416 -0.208413  0.042215  0.112461   \n",
       "pills      -0.235144  0.100888  0.264997 -0.328988 -0.033903  0.318740   \n",
       "\n",
       "pc_id            PC6       PC7       PC8       PC9  \n",
       "term_str                                            \n",
       "raindrops  -0.028918  0.005162  0.061599 -0.013204  \n",
       "parallels  -0.001047  0.057175  0.024949 -0.015581  \n",
       "afternoon  -0.023869 -0.029921 -0.029412 -0.179206  \n",
       "depression -0.022559 -0.047071  0.051123 -0.032591  \n",
       "spinnin    -0.040148 -0.005553  0.100516 -0.070569  \n",
       "pow        -0.014960 -0.024068  0.032423  0.001375  \n",
       "bam        -0.000110 -0.012301  0.071440 -0.033464  \n",
       "lovers     -0.148871  0.237243 -0.050838  0.066961  \n",
       "boys        0.047077 -0.005252 -0.081273  0.120106  \n",
       "pills       0.090923 -0.062393 -0.122554  0.254395  "
      ]
     },
     "execution_count": 11,
     "metadata": {},
     "output_type": "execute_result"
    }
   ],
   "source": [
    "LOADINGS.sort_values('PC0', ascending=False).tail(10)"
   ]
  },
  {
   "cell_type": "code",
   "execution_count": 12,
   "metadata": {},
   "outputs": [
    {
     "data": {
      "text/html": [
       "<div>\n",
       "<style scoped>\n",
       "    .dataframe tbody tr th:only-of-type {\n",
       "        vertical-align: middle;\n",
       "    }\n",
       "\n",
       "    .dataframe tbody tr th {\n",
       "        vertical-align: top;\n",
       "    }\n",
       "\n",
       "    .dataframe thead th {\n",
       "        text-align: right;\n",
       "    }\n",
       "</style>\n",
       "<table border=\"1\" class=\"dataframe\">\n",
       "  <thead>\n",
       "    <tr style=\"text-align: right;\">\n",
       "      <th>pc_id</th>\n",
       "      <th>PC0</th>\n",
       "      <th>PC1</th>\n",
       "      <th>PC2</th>\n",
       "      <th>PC3</th>\n",
       "      <th>PC4</th>\n",
       "      <th>PC5</th>\n",
       "      <th>PC6</th>\n",
       "      <th>PC7</th>\n",
       "      <th>PC8</th>\n",
       "      <th>PC9</th>\n",
       "    </tr>\n",
       "    <tr>\n",
       "      <th>album_id</th>\n",
       "      <th></th>\n",
       "      <th></th>\n",
       "      <th></th>\n",
       "      <th></th>\n",
       "      <th></th>\n",
       "      <th></th>\n",
       "      <th></th>\n",
       "      <th></th>\n",
       "      <th></th>\n",
       "      <th></th>\n",
       "    </tr>\n",
       "  </thead>\n",
       "  <tbody>\n",
       "    <tr>\n",
       "      <th>0</th>\n",
       "      <td>0.327237</td>\n",
       "      <td>0.155055</td>\n",
       "      <td>-0.075503</td>\n",
       "      <td>0.153114</td>\n",
       "      <td>0.146368</td>\n",
       "      <td>0.099176</td>\n",
       "      <td>-0.144137</td>\n",
       "      <td>-0.302251</td>\n",
       "      <td>-0.092195</td>\n",
       "      <td>0.175566</td>\n",
       "    </tr>\n",
       "    <tr>\n",
       "      <th>1</th>\n",
       "      <td>-0.067423</td>\n",
       "      <td>-0.048358</td>\n",
       "      <td>0.048669</td>\n",
       "      <td>0.048814</td>\n",
       "      <td>0.045173</td>\n",
       "      <td>-0.039395</td>\n",
       "      <td>0.080481</td>\n",
       "      <td>0.014807</td>\n",
       "      <td>0.054727</td>\n",
       "      <td>-0.024895</td>\n",
       "    </tr>\n",
       "    <tr>\n",
       "      <th>2</th>\n",
       "      <td>0.189308</td>\n",
       "      <td>-0.007182</td>\n",
       "      <td>-0.139214</td>\n",
       "      <td>-0.088670</td>\n",
       "      <td>0.185391</td>\n",
       "      <td>0.204796</td>\n",
       "      <td>-0.245296</td>\n",
       "      <td>-0.044979</td>\n",
       "      <td>0.017949</td>\n",
       "      <td>0.182350</td>\n",
       "    </tr>\n",
       "    <tr>\n",
       "      <th>3</th>\n",
       "      <td>0.064594</td>\n",
       "      <td>0.064481</td>\n",
       "      <td>-0.056310</td>\n",
       "      <td>0.150398</td>\n",
       "      <td>-0.056433</td>\n",
       "      <td>-0.023444</td>\n",
       "      <td>0.159831</td>\n",
       "      <td>-0.029175</td>\n",
       "      <td>-0.410531</td>\n",
       "      <td>0.180870</td>\n",
       "    </tr>\n",
       "    <tr>\n",
       "      <th>4</th>\n",
       "      <td>-0.013808</td>\n",
       "      <td>-0.091058</td>\n",
       "      <td>-0.067843</td>\n",
       "      <td>-0.046471</td>\n",
       "      <td>0.085919</td>\n",
       "      <td>0.006540</td>\n",
       "      <td>-0.049530</td>\n",
       "      <td>-0.099912</td>\n",
       "      <td>0.131244</td>\n",
       "      <td>0.139260</td>\n",
       "    </tr>\n",
       "  </tbody>\n",
       "</table>\n",
       "</div>"
      ],
      "text/plain": [
       "pc_id          PC0       PC1       PC2       PC3       PC4       PC5  \\\n",
       "album_id                                                               \n",
       "0         0.327237  0.155055 -0.075503  0.153114  0.146368  0.099176   \n",
       "1        -0.067423 -0.048358  0.048669  0.048814  0.045173 -0.039395   \n",
       "2         0.189308 -0.007182 -0.139214 -0.088670  0.185391  0.204796   \n",
       "3         0.064594  0.064481 -0.056310  0.150398 -0.056433 -0.023444   \n",
       "4        -0.013808 -0.091058 -0.067843 -0.046471  0.085919  0.006540   \n",
       "\n",
       "pc_id          PC6       PC7       PC8       PC9  \n",
       "album_id                                          \n",
       "0        -0.144137 -0.302251 -0.092195  0.175566  \n",
       "1         0.080481  0.014807  0.054727 -0.024895  \n",
       "2        -0.245296 -0.044979  0.017949  0.182350  \n",
       "3         0.159831 -0.029175 -0.410531  0.180870  \n",
       "4        -0.049530 -0.099912  0.131244  0.139260  "
      ]
     },
     "execution_count": 12,
     "metadata": {},
     "output_type": "execute_result"
    }
   ],
   "source": [
    "DCM.head()"
   ]
  },
  {
   "cell_type": "code",
   "execution_count": 13,
   "metadata": {},
   "outputs": [
    {
     "data": {
      "text/html": [
       "<div>\n",
       "<style scoped>\n",
       "    .dataframe tbody tr th:only-of-type {\n",
       "        vertical-align: middle;\n",
       "    }\n",
       "\n",
       "    .dataframe tbody tr th {\n",
       "        vertical-align: top;\n",
       "    }\n",
       "\n",
       "    .dataframe thead th {\n",
       "        text-align: right;\n",
       "    }\n",
       "</style>\n",
       "<table border=\"1\" class=\"dataframe\">\n",
       "  <thead>\n",
       "    <tr style=\"text-align: right;\">\n",
       "      <th>pc_id</th>\n",
       "      <th>PC0</th>\n",
       "      <th>PC1</th>\n",
       "      <th>PC2</th>\n",
       "      <th>PC3</th>\n",
       "      <th>PC4</th>\n",
       "      <th>PC5</th>\n",
       "      <th>PC6</th>\n",
       "      <th>PC7</th>\n",
       "      <th>PC8</th>\n",
       "      <th>PC9</th>\n",
       "    </tr>\n",
       "    <tr>\n",
       "      <th>album_id</th>\n",
       "      <th></th>\n",
       "      <th></th>\n",
       "      <th></th>\n",
       "      <th></th>\n",
       "      <th></th>\n",
       "      <th></th>\n",
       "      <th></th>\n",
       "      <th></th>\n",
       "      <th></th>\n",
       "      <th></th>\n",
       "    </tr>\n",
       "  </thead>\n",
       "  <tbody>\n",
       "    <tr>\n",
       "      <th>84</th>\n",
       "      <td>0.240740</td>\n",
       "      <td>0.133332</td>\n",
       "      <td>0.024988</td>\n",
       "      <td>-0.020805</td>\n",
       "      <td>-0.100225</td>\n",
       "      <td>-0.062403</td>\n",
       "      <td>0.120406</td>\n",
       "      <td>-0.024190</td>\n",
       "      <td>-0.109846</td>\n",
       "      <td>0.055612</td>\n",
       "    </tr>\n",
       "    <tr>\n",
       "      <th>85</th>\n",
       "      <td>0.400553</td>\n",
       "      <td>0.263824</td>\n",
       "      <td>0.054011</td>\n",
       "      <td>-0.039612</td>\n",
       "      <td>0.008537</td>\n",
       "      <td>0.120739</td>\n",
       "      <td>-0.035191</td>\n",
       "      <td>-0.008386</td>\n",
       "      <td>-0.034720</td>\n",
       "      <td>0.120538</td>\n",
       "    </tr>\n",
       "    <tr>\n",
       "      <th>86</th>\n",
       "      <td>0.243886</td>\n",
       "      <td>0.121508</td>\n",
       "      <td>-0.012380</td>\n",
       "      <td>-0.125637</td>\n",
       "      <td>-0.047565</td>\n",
       "      <td>-0.178509</td>\n",
       "      <td>0.014471</td>\n",
       "      <td>0.190492</td>\n",
       "      <td>-0.081725</td>\n",
       "      <td>0.077298</td>\n",
       "    </tr>\n",
       "    <tr>\n",
       "      <th>87</th>\n",
       "      <td>0.192364</td>\n",
       "      <td>-0.108041</td>\n",
       "      <td>0.036009</td>\n",
       "      <td>-0.105215</td>\n",
       "      <td>0.086006</td>\n",
       "      <td>-0.148821</td>\n",
       "      <td>-0.173184</td>\n",
       "      <td>0.093399</td>\n",
       "      <td>-0.036535</td>\n",
       "      <td>0.057289</td>\n",
       "    </tr>\n",
       "    <tr>\n",
       "      <th>88</th>\n",
       "      <td>0.395193</td>\n",
       "      <td>-0.026462</td>\n",
       "      <td>-0.038079</td>\n",
       "      <td>-0.152631</td>\n",
       "      <td>0.028902</td>\n",
       "      <td>-0.146622</td>\n",
       "      <td>-0.013803</td>\n",
       "      <td>-0.064694</td>\n",
       "      <td>0.036675</td>\n",
       "      <td>0.242990</td>\n",
       "    </tr>\n",
       "  </tbody>\n",
       "</table>\n",
       "</div>"
      ],
      "text/plain": [
       "pc_id          PC0       PC1       PC2       PC3       PC4       PC5  \\\n",
       "album_id                                                               \n",
       "84        0.240740  0.133332  0.024988 -0.020805 -0.100225 -0.062403   \n",
       "85        0.400553  0.263824  0.054011 -0.039612  0.008537  0.120739   \n",
       "86        0.243886  0.121508 -0.012380 -0.125637 -0.047565 -0.178509   \n",
       "87        0.192364 -0.108041  0.036009 -0.105215  0.086006 -0.148821   \n",
       "88        0.395193 -0.026462 -0.038079 -0.152631  0.028902 -0.146622   \n",
       "\n",
       "pc_id          PC6       PC7       PC8       PC9  \n",
       "album_id                                          \n",
       "84        0.120406 -0.024190 -0.109846  0.055612  \n",
       "85       -0.035191 -0.008386 -0.034720  0.120538  \n",
       "86        0.014471  0.190492 -0.081725  0.077298  \n",
       "87       -0.173184  0.093399 -0.036535  0.057289  \n",
       "88       -0.013803 -0.064694  0.036675  0.242990  "
      ]
     },
     "execution_count": 13,
     "metadata": {},
     "output_type": "execute_result"
    }
   ],
   "source": [
    "DCM.tail()"
   ]
  },
  {
   "cell_type": "code",
   "execution_count": 14,
   "metadata": {},
   "outputs": [
    {
     "data": {
      "text/html": [
       "<div>\n",
       "<style scoped>\n",
       "    .dataframe tbody tr th:only-of-type {\n",
       "        vertical-align: middle;\n",
       "    }\n",
       "\n",
       "    .dataframe tbody tr th {\n",
       "        vertical-align: top;\n",
       "    }\n",
       "\n",
       "    .dataframe thead th {\n",
       "        text-align: right;\n",
       "    }\n",
       "</style>\n",
       "<table border=\"1\" class=\"dataframe\">\n",
       "  <thead>\n",
       "    <tr style=\"text-align: right;\">\n",
       "      <th>1</th>\n",
       "      <th>pos</th>\n",
       "      <th>neg</th>\n",
       "    </tr>\n",
       "    <tr>\n",
       "      <th>comp_id</th>\n",
       "      <th></th>\n",
       "      <th></th>\n",
       "    </tr>\n",
       "  </thead>\n",
       "  <tbody>\n",
       "    <tr>\n",
       "      <th>PC0</th>\n",
       "      <td>mystery step hes lie everything body cry touch...</td>\n",
       "      <td>pills boys lovers bam pow spinnin depression a...</td>\n",
       "    </tr>\n",
       "    <tr>\n",
       "      <th>PC1</th>\n",
       "      <td>mystery lie girls moment sea pills arms space ...</td>\n",
       "      <td>someones denial hes round hope work matter wor...</td>\n",
       "    </tr>\n",
       "    <tr>\n",
       "      <th>PC2</th>\n",
       "      <td>pills boys mine lie girls lovers days gun hope...</td>\n",
       "      <td>daddys hes step baby guns moment babe arms bro...</td>\n",
       "    </tr>\n",
       "    <tr>\n",
       "      <th>PC3</th>\n",
       "      <td>walkin denial everything moment round discover...</td>\n",
       "      <td>pills daddys boys hes lives cartilage brother ...</td>\n",
       "    </tr>\n",
       "    <tr>\n",
       "      <th>PC4</th>\n",
       "      <td>lovers step moment stone lives denial cards le...</td>\n",
       "      <td>walkin soul beast fits nobody men daddys crime...</td>\n",
       "    </tr>\n",
       "  </tbody>\n",
       "</table>\n",
       "</div>"
      ],
      "text/plain": [
       "1                                                      pos  \\\n",
       "comp_id                                                      \n",
       "PC0      mystery step hes lie everything body cry touch...   \n",
       "PC1      mystery lie girls moment sea pills arms space ...   \n",
       "PC2      pills boys mine lie girls lovers days gun hope...   \n",
       "PC3      walkin denial everything moment round discover...   \n",
       "PC4      lovers step moment stone lives denial cards le...   \n",
       "\n",
       "1                                                      neg  \n",
       "comp_id                                                     \n",
       "PC0      pills boys lovers bam pow spinnin depression a...  \n",
       "PC1      someones denial hes round hope work matter wor...  \n",
       "PC2      daddys hes step baby guns moment babe arms bro...  \n",
       "PC3      pills daddys boys hes lives cartilage brother ...  \n",
       "PC4      walkin soul beast fits nobody men daddys crime...  "
      ]
     },
     "execution_count": 14,
     "metadata": {},
     "output_type": "execute_result"
    }
   ],
   "source": [
    "COMPINF.head()"
   ]
  },
  {
   "cell_type": "markdown",
   "metadata": {},
   "source": [
    "## Project DOC (`SONG_LIB`) onto components"
   ]
  },
  {
   "cell_type": "code",
   "execution_count": 15,
   "metadata": {},
   "outputs": [
    {
     "data": {
      "text/html": [
       "<div>\n",
       "<style scoped>\n",
       "    .dataframe tbody tr th:only-of-type {\n",
       "        vertical-align: middle;\n",
       "    }\n",
       "\n",
       "    .dataframe tbody tr th {\n",
       "        vertical-align: top;\n",
       "    }\n",
       "\n",
       "    .dataframe thead th {\n",
       "        text-align: right;\n",
       "    }\n",
       "</style>\n",
       "<table border=\"1\" class=\"dataframe\">\n",
       "  <thead>\n",
       "    <tr style=\"text-align: right;\">\n",
       "      <th></th>\n",
       "      <th>PC0</th>\n",
       "      <th>PC1</th>\n",
       "      <th>PC2</th>\n",
       "      <th>PC3</th>\n",
       "      <th>PC4</th>\n",
       "      <th>PC5</th>\n",
       "      <th>PC6</th>\n",
       "      <th>PC7</th>\n",
       "      <th>PC8</th>\n",
       "      <th>PC9</th>\n",
       "      <th>...</th>\n",
       "      <th>mean_loudness</th>\n",
       "      <th>mean_speechiness</th>\n",
       "      <th>mean_acousticness</th>\n",
       "      <th>mean_instrumentalness</th>\n",
       "      <th>mean_liveness</th>\n",
       "      <th>mean_valence</th>\n",
       "      <th>mean_tempo</th>\n",
       "      <th>album_term_count</th>\n",
       "      <th>album_character_count</th>\n",
       "      <th>genre</th>\n",
       "    </tr>\n",
       "    <tr>\n",
       "      <th>album_id</th>\n",
       "      <th></th>\n",
       "      <th></th>\n",
       "      <th></th>\n",
       "      <th></th>\n",
       "      <th></th>\n",
       "      <th></th>\n",
       "      <th></th>\n",
       "      <th></th>\n",
       "      <th></th>\n",
       "      <th></th>\n",
       "      <th></th>\n",
       "      <th></th>\n",
       "      <th></th>\n",
       "      <th></th>\n",
       "      <th></th>\n",
       "      <th></th>\n",
       "      <th></th>\n",
       "      <th></th>\n",
       "      <th></th>\n",
       "      <th></th>\n",
       "      <th></th>\n",
       "    </tr>\n",
       "  </thead>\n",
       "  <tbody>\n",
       "    <tr>\n",
       "      <th>0</th>\n",
       "      <td>0.327237</td>\n",
       "      <td>0.155055</td>\n",
       "      <td>-0.075503</td>\n",
       "      <td>0.153114</td>\n",
       "      <td>0.146368</td>\n",
       "      <td>0.099176</td>\n",
       "      <td>-0.144137</td>\n",
       "      <td>-0.302251</td>\n",
       "      <td>-0.092195</td>\n",
       "      <td>0.175566</td>\n",
       "      <td>...</td>\n",
       "      <td>-5.810000</td>\n",
       "      <td>0.074050</td>\n",
       "      <td>0.177000</td>\n",
       "      <td>0.672500</td>\n",
       "      <td>0.105000</td>\n",
       "      <td>0.456000</td>\n",
       "      <td>104.008500</td>\n",
       "      <td>634</td>\n",
       "      <td>2533</td>\n",
       "      <td>alternative dance</td>\n",
       "    </tr>\n",
       "    <tr>\n",
       "      <th>1</th>\n",
       "      <td>-0.067423</td>\n",
       "      <td>-0.048358</td>\n",
       "      <td>0.048669</td>\n",
       "      <td>0.048814</td>\n",
       "      <td>0.045173</td>\n",
       "      <td>-0.039395</td>\n",
       "      <td>0.080481</td>\n",
       "      <td>0.014807</td>\n",
       "      <td>0.054727</td>\n",
       "      <td>-0.024895</td>\n",
       "      <td>...</td>\n",
       "      <td>-11.596818</td>\n",
       "      <td>0.034264</td>\n",
       "      <td>0.673291</td>\n",
       "      <td>0.564455</td>\n",
       "      <td>0.158773</td>\n",
       "      <td>0.203018</td>\n",
       "      <td>125.244000</td>\n",
       "      <td>1661</td>\n",
       "      <td>6626</td>\n",
       "      <td>alternative rock</td>\n",
       "    </tr>\n",
       "    <tr>\n",
       "      <th>2</th>\n",
       "      <td>0.189308</td>\n",
       "      <td>-0.007182</td>\n",
       "      <td>-0.139214</td>\n",
       "      <td>-0.088670</td>\n",
       "      <td>0.185391</td>\n",
       "      <td>0.204796</td>\n",
       "      <td>-0.245296</td>\n",
       "      <td>-0.044979</td>\n",
       "      <td>0.017949</td>\n",
       "      <td>0.182350</td>\n",
       "      <td>...</td>\n",
       "      <td>-10.276273</td>\n",
       "      <td>0.039882</td>\n",
       "      <td>0.324571</td>\n",
       "      <td>0.433091</td>\n",
       "      <td>0.214909</td>\n",
       "      <td>0.329773</td>\n",
       "      <td>119.461091</td>\n",
       "      <td>1646</td>\n",
       "      <td>6795</td>\n",
       "      <td>art pop</td>\n",
       "    </tr>\n",
       "    <tr>\n",
       "      <th>3</th>\n",
       "      <td>0.064594</td>\n",
       "      <td>0.064481</td>\n",
       "      <td>-0.056310</td>\n",
       "      <td>0.150398</td>\n",
       "      <td>-0.056433</td>\n",
       "      <td>-0.023444</td>\n",
       "      <td>0.159831</td>\n",
       "      <td>-0.029175</td>\n",
       "      <td>-0.410531</td>\n",
       "      <td>0.180870</td>\n",
       "      <td>...</td>\n",
       "      <td>-6.816615</td>\n",
       "      <td>0.035585</td>\n",
       "      <td>0.284209</td>\n",
       "      <td>0.239670</td>\n",
       "      <td>0.125769</td>\n",
       "      <td>0.535831</td>\n",
       "      <td>125.053308</td>\n",
       "      <td>3682</td>\n",
       "      <td>14693</td>\n",
       "      <td>chamber pop</td>\n",
       "    </tr>\n",
       "    <tr>\n",
       "      <th>4</th>\n",
       "      <td>-0.013808</td>\n",
       "      <td>-0.091058</td>\n",
       "      <td>-0.067843</td>\n",
       "      <td>-0.046471</td>\n",
       "      <td>0.085919</td>\n",
       "      <td>0.006540</td>\n",
       "      <td>-0.049530</td>\n",
       "      <td>-0.099912</td>\n",
       "      <td>0.131244</td>\n",
       "      <td>0.139260</td>\n",
       "      <td>...</td>\n",
       "      <td>-9.280800</td>\n",
       "      <td>0.041870</td>\n",
       "      <td>0.520905</td>\n",
       "      <td>0.451690</td>\n",
       "      <td>0.122990</td>\n",
       "      <td>0.221380</td>\n",
       "      <td>113.437600</td>\n",
       "      <td>1242</td>\n",
       "      <td>4976</td>\n",
       "      <td>alternative rock</td>\n",
       "    </tr>\n",
       "  </tbody>\n",
       "</table>\n",
       "<p>5 rows × 30 columns</p>\n",
       "</div>"
      ],
      "text/plain": [
       "               PC0       PC1       PC2       PC3       PC4       PC5  \\\n",
       "album_id                                                               \n",
       "0         0.327237  0.155055 -0.075503  0.153114  0.146368  0.099176   \n",
       "1        -0.067423 -0.048358  0.048669  0.048814  0.045173 -0.039395   \n",
       "2         0.189308 -0.007182 -0.139214 -0.088670  0.185391  0.204796   \n",
       "3         0.064594  0.064481 -0.056310  0.150398 -0.056433 -0.023444   \n",
       "4        -0.013808 -0.091058 -0.067843 -0.046471  0.085919  0.006540   \n",
       "\n",
       "               PC6       PC7       PC8       PC9  ... mean_loudness  \\\n",
       "album_id                                          ...                 \n",
       "0        -0.144137 -0.302251 -0.092195  0.175566  ...     -5.810000   \n",
       "1         0.080481  0.014807  0.054727 -0.024895  ...    -11.596818   \n",
       "2        -0.245296 -0.044979  0.017949  0.182350  ...    -10.276273   \n",
       "3         0.159831 -0.029175 -0.410531  0.180870  ...     -6.816615   \n",
       "4        -0.049530 -0.099912  0.131244  0.139260  ...     -9.280800   \n",
       "\n",
       "         mean_speechiness mean_acousticness mean_instrumentalness  \\\n",
       "album_id                                                            \n",
       "0                0.074050          0.177000              0.672500   \n",
       "1                0.034264          0.673291              0.564455   \n",
       "2                0.039882          0.324571              0.433091   \n",
       "3                0.035585          0.284209              0.239670   \n",
       "4                0.041870          0.520905              0.451690   \n",
       "\n",
       "         mean_liveness mean_valence  mean_tempo album_term_count  \\\n",
       "album_id                                                           \n",
       "0             0.105000     0.456000  104.008500              634   \n",
       "1             0.158773     0.203018  125.244000             1661   \n",
       "2             0.214909     0.329773  119.461091             1646   \n",
       "3             0.125769     0.535831  125.053308             3682   \n",
       "4             0.122990     0.221380  113.437600             1242   \n",
       "\n",
       "          album_character_count              genre  \n",
       "album_id                                            \n",
       "0                          2533  alternative dance  \n",
       "1                          6626   alternative rock  \n",
       "2                          6795            art pop  \n",
       "3                         14693        chamber pop  \n",
       "4                          4976   alternative rock  \n",
       "\n",
       "[5 rows x 30 columns]"
      ]
     },
     "execution_count": 15,
     "metadata": {},
     "output_type": "execute_result"
    }
   ],
   "source": [
    "DCM = DCM.join(LIB)\n",
    "DCM.head()"
   ]
  },
  {
   "cell_type": "code",
   "execution_count": 16,
   "metadata": {},
   "outputs": [
    {
     "data": {
      "application/vnd.plotly.v1+json": {
       "config": {
        "plotlyServerURL": "https://plot.ly"
       },
       "data": [
        {
         "customdata": [
          [
           "LCD Soundsystem",
           "45:33",
           "alternative dance"
          ],
          [
           "LCD Soundsystem",
           "LCD Soundsystem",
           "alternative dance"
          ],
          [
           "LCD Soundsystem",
           "Sound of Silver",
           "alternative dance"
          ],
          [
           "LCD Soundsystem",
           "This Is Happening",
           "alternative dance"
          ],
          [
           "LCD Soundsystem",
           "american dream",
           "alternative dance"
          ]
         ],
         "hovertemplate": "artist=%{customdata[0]}<br>PC0=%{x}<br>PC1=%{y}<br>album_title=%{customdata[1]}<br>genre=%{customdata[2]}<extra></extra>",
         "legendgroup": "LCD Soundsystem",
         "marker": {
          "color": "#636efa",
          "symbol": "circle"
         },
         "mode": "markers",
         "name": "LCD Soundsystem",
         "orientation": "v",
         "showlegend": true,
         "type": "scatter",
         "x": [
          0.32723653519350987,
          -0.07434667263853724,
          0.09044752891579208,
          -0.08302917542499162,
          0.3951929062802321
         ],
         "xaxis": "x",
         "y": [
          0.15505511385424275,
          -0.04646075247984685,
          -0.04577183091447425,
          0.08469884662195729,
          -0.026461870000643414
         ],
         "yaxis": "y"
        },
        {
         "alignmentgroup": "True",
         "customdata": [
          [
           "LCD Soundsystem",
           "45:33",
           "alternative dance"
          ],
          [
           "LCD Soundsystem",
           "LCD Soundsystem",
           "alternative dance"
          ],
          [
           "LCD Soundsystem",
           "Sound of Silver",
           "alternative dance"
          ],
          [
           "LCD Soundsystem",
           "This Is Happening",
           "alternative dance"
          ],
          [
           "LCD Soundsystem",
           "american dream",
           "alternative dance"
          ]
         ],
         "hovertemplate": "artist=%{customdata[0]}<br>PC0=%{x}<br>album_title=%{customdata[1]}<br>genre=%{customdata[2]}<extra></extra>",
         "legendgroup": "LCD Soundsystem",
         "marker": {
          "color": "#636efa",
          "symbol": "circle"
         },
         "name": "LCD Soundsystem",
         "notched": true,
         "offsetgroup": "LCD Soundsystem",
         "showlegend": false,
         "type": "box",
         "x": [
          0.32723653519350987,
          -0.07434667263853724,
          0.09044752891579208,
          -0.08302917542499162,
          0.3951929062802321
         ],
         "xaxis": "x3",
         "yaxis": "y3"
        },
        {
         "alignmentgroup": "True",
         "customdata": [
          [
           "LCD Soundsystem",
           "45:33",
           "alternative dance"
          ],
          [
           "LCD Soundsystem",
           "LCD Soundsystem",
           "alternative dance"
          ],
          [
           "LCD Soundsystem",
           "Sound of Silver",
           "alternative dance"
          ],
          [
           "LCD Soundsystem",
           "This Is Happening",
           "alternative dance"
          ],
          [
           "LCD Soundsystem",
           "american dream",
           "alternative dance"
          ]
         ],
         "hovertemplate": "artist=%{customdata[0]}<br>PC1=%{y}<br>album_title=%{customdata[1]}<br>genre=%{customdata[2]}<extra></extra>",
         "legendgroup": "LCD Soundsystem",
         "marker": {
          "color": "#636efa",
          "symbol": "circle"
         },
         "name": "LCD Soundsystem",
         "notched": true,
         "offsetgroup": "LCD Soundsystem",
         "showlegend": false,
         "type": "box",
         "xaxis": "x2",
         "y": [
          0.15505511385424275,
          -0.04646075247984685,
          -0.04577183091447425,
          0.08469884662195729,
          -0.026461870000643414
         ],
         "yaxis": "y2"
        },
        {
         "customdata": [
          [
           "Radiohead",
           "A Moon Shaped Pool",
           "alternative rock"
          ],
          [
           "Radiohead",
           "Amnesiac",
           "alternative rock"
          ],
          [
           "Radiohead",
           "Hail To the Thief",
           "alternative rock"
          ],
          [
           "Radiohead",
           "In Rainbows",
           "alternative rock"
          ],
          [
           "Radiohead",
           "Kid A",
           "alternative rock"
          ],
          [
           "Radiohead",
           "OK Computer",
           "alternative rock"
          ],
          [
           "Radiohead",
           "Pablo Honey",
           "alternative rock"
          ],
          [
           "Radiohead",
           "The Bends",
           "alternative rock"
          ],
          [
           "Radiohead",
           "The King Of Limbs",
           "alternative rock"
          ]
         ],
         "hovertemplate": "artist=%{customdata[0]}<br>PC0=%{x}<br>PC1=%{y}<br>album_title=%{customdata[1]}<br>genre=%{customdata[2]}<extra></extra>",
         "legendgroup": "Radiohead",
         "marker": {
          "color": "#EF553B",
          "symbol": "circle"
         },
         "mode": "markers",
         "name": "Radiohead",
         "orientation": "v",
         "showlegend": true,
         "type": "scatter",
         "x": [
          -0.06742346586932466,
          -0.01380767112863518,
          -0.042612108458678875,
          0.12054442108316085,
          0.09025393260419562,
          0.11797373659557203,
          0.18151451432522672,
          0.17605297577795906,
          0.07744888456972135
         ],
         "xaxis": "x",
         "y": [
          -0.04835803110876477,
          -0.09105833593753555,
          -0.024163483575902416,
          -0.4203325283175656,
          -0.013030074085756654,
          -0.14652856994989205,
          -0.07140084198384358,
          0.005247514487161728,
          0.09967308343267933
         ],
         "yaxis": "y"
        },
        {
         "alignmentgroup": "True",
         "customdata": [
          [
           "Radiohead",
           "A Moon Shaped Pool",
           "alternative rock"
          ],
          [
           "Radiohead",
           "Amnesiac",
           "alternative rock"
          ],
          [
           "Radiohead",
           "Hail To the Thief",
           "alternative rock"
          ],
          [
           "Radiohead",
           "In Rainbows",
           "alternative rock"
          ],
          [
           "Radiohead",
           "Kid A",
           "alternative rock"
          ],
          [
           "Radiohead",
           "OK Computer",
           "alternative rock"
          ],
          [
           "Radiohead",
           "Pablo Honey",
           "alternative rock"
          ],
          [
           "Radiohead",
           "The Bends",
           "alternative rock"
          ],
          [
           "Radiohead",
           "The King Of Limbs",
           "alternative rock"
          ]
         ],
         "hovertemplate": "artist=%{customdata[0]}<br>PC0=%{x}<br>album_title=%{customdata[1]}<br>genre=%{customdata[2]}<extra></extra>",
         "legendgroup": "Radiohead",
         "marker": {
          "color": "#EF553B",
          "symbol": "circle"
         },
         "name": "Radiohead",
         "notched": true,
         "offsetgroup": "Radiohead",
         "showlegend": false,
         "type": "box",
         "x": [
          -0.06742346586932466,
          -0.01380767112863518,
          -0.042612108458678875,
          0.12054442108316085,
          0.09025393260419562,
          0.11797373659557203,
          0.18151451432522672,
          0.17605297577795906,
          0.07744888456972135
         ],
         "xaxis": "x3",
         "yaxis": "y3"
        },
        {
         "alignmentgroup": "True",
         "customdata": [
          [
           "Radiohead",
           "A Moon Shaped Pool",
           "alternative rock"
          ],
          [
           "Radiohead",
           "Amnesiac",
           "alternative rock"
          ],
          [
           "Radiohead",
           "Hail To the Thief",
           "alternative rock"
          ],
          [
           "Radiohead",
           "In Rainbows",
           "alternative rock"
          ],
          [
           "Radiohead",
           "Kid A",
           "alternative rock"
          ],
          [
           "Radiohead",
           "OK Computer",
           "alternative rock"
          ],
          [
           "Radiohead",
           "Pablo Honey",
           "alternative rock"
          ],
          [
           "Radiohead",
           "The Bends",
           "alternative rock"
          ],
          [
           "Radiohead",
           "The King Of Limbs",
           "alternative rock"
          ]
         ],
         "hovertemplate": "artist=%{customdata[0]}<br>PC1=%{y}<br>album_title=%{customdata[1]}<br>genre=%{customdata[2]}<extra></extra>",
         "legendgroup": "Radiohead",
         "marker": {
          "color": "#EF553B",
          "symbol": "circle"
         },
         "name": "Radiohead",
         "notched": true,
         "offsetgroup": "Radiohead",
         "showlegend": false,
         "type": "box",
         "xaxis": "x2",
         "y": [
          -0.04835803110876477,
          -0.09105833593753555,
          -0.024163483575902416,
          -0.4203325283175656,
          -0.013030074085756654,
          -0.14652856994989205,
          -0.07140084198384358,
          0.005247514487161728,
          0.09967308343267933
         ],
         "yaxis": "y2"
        },
        {
         "customdata": [
          [
           "St. Vincent",
           "Actor",
           "art pop"
          ],
          [
           "St. Vincent",
           "Daddy's Home",
           "art pop"
          ],
          [
           "St. Vincent",
           "Love This Giant",
           "art pop"
          ],
          [
           "St. Vincent",
           "MASSEDUCTION",
           "art pop"
          ],
          [
           "St. Vincent",
           "Marry Me",
           "art pop"
          ],
          [
           "St. Vincent",
           "St. Vincent (Deluxe Edition)",
           "art pop"
          ],
          [
           "St. Vincent",
           "Strange Mercy",
           "art pop"
          ]
         ],
         "hovertemplate": "artist=%{customdata[0]}<br>PC0=%{x}<br>PC1=%{y}<br>album_title=%{customdata[1]}<br>genre=%{customdata[2]}<extra></extra>",
         "legendgroup": "St. Vincent",
         "marker": {
          "color": "#00cc96",
          "symbol": "circle"
         },
         "mode": "markers",
         "name": "St. Vincent",
         "orientation": "v",
         "showlegend": true,
         "type": "scatter",
         "x": [
          0.18930806389516586,
          0.03037658762788658,
          0.225499495892035,
          -0.2072918104187875,
          0.20966348913450317,
          0.1270905790229664,
          -0.039048726888063066
         ],
         "xaxis": "x",
         "y": [
          -0.007181743320457459,
          -0.08701181842759925,
          -0.11506805377734201,
          0.11822967921511811,
          -0.06815465069270533,
          -0.20435814076146092,
          0.08726094477431812
         ],
         "yaxis": "y"
        },
        {
         "alignmentgroup": "True",
         "customdata": [
          [
           "St. Vincent",
           "Actor",
           "art pop"
          ],
          [
           "St. Vincent",
           "Daddy's Home",
           "art pop"
          ],
          [
           "St. Vincent",
           "Love This Giant",
           "art pop"
          ],
          [
           "St. Vincent",
           "MASSEDUCTION",
           "art pop"
          ],
          [
           "St. Vincent",
           "Marry Me",
           "art pop"
          ],
          [
           "St. Vincent",
           "St. Vincent (Deluxe Edition)",
           "art pop"
          ],
          [
           "St. Vincent",
           "Strange Mercy",
           "art pop"
          ]
         ],
         "hovertemplate": "artist=%{customdata[0]}<br>PC0=%{x}<br>album_title=%{customdata[1]}<br>genre=%{customdata[2]}<extra></extra>",
         "legendgroup": "St. Vincent",
         "marker": {
          "color": "#00cc96",
          "symbol": "circle"
         },
         "name": "St. Vincent",
         "notched": true,
         "offsetgroup": "St. Vincent",
         "showlegend": false,
         "type": "box",
         "x": [
          0.18930806389516586,
          0.03037658762788658,
          0.225499495892035,
          -0.2072918104187875,
          0.20966348913450317,
          0.1270905790229664,
          -0.039048726888063066
         ],
         "xaxis": "x3",
         "yaxis": "y3"
        },
        {
         "alignmentgroup": "True",
         "customdata": [
          [
           "St. Vincent",
           "Actor",
           "art pop"
          ],
          [
           "St. Vincent",
           "Daddy's Home",
           "art pop"
          ],
          [
           "St. Vincent",
           "Love This Giant",
           "art pop"
          ],
          [
           "St. Vincent",
           "MASSEDUCTION",
           "art pop"
          ],
          [
           "St. Vincent",
           "Marry Me",
           "art pop"
          ],
          [
           "St. Vincent",
           "St. Vincent (Deluxe Edition)",
           "art pop"
          ],
          [
           "St. Vincent",
           "Strange Mercy",
           "art pop"
          ]
         ],
         "hovertemplate": "artist=%{customdata[0]}<br>PC1=%{y}<br>album_title=%{customdata[1]}<br>genre=%{customdata[2]}<extra></extra>",
         "legendgroup": "St. Vincent",
         "marker": {
          "color": "#00cc96",
          "symbol": "circle"
         },
         "name": "St. Vincent",
         "notched": true,
         "offsetgroup": "St. Vincent",
         "showlegend": false,
         "type": "box",
         "xaxis": "x2",
         "y": [
          -0.007181743320457459,
          -0.08701181842759925,
          -0.11506805377734201,
          0.11822967921511811,
          -0.06815465069270533,
          -0.20435814076146092,
          0.08726094477431812
         ],
         "yaxis": "y2"
        },
        {
         "customdata": [
          [
           "The National",
           "Alligator",
           "chamber pop"
          ],
          [
           "The National",
           "Boxer",
           "chamber pop"
          ],
          [
           "The National",
           "High Violet",
           "chamber pop"
          ],
          [
           "The National",
           "Sleep Well Beast",
           "chamber pop"
          ],
          [
           "The National",
           "Trouble Will Find Me",
           "chamber pop"
          ]
         ],
         "hovertemplate": "artist=%{customdata[0]}<br>PC0=%{x}<br>PC1=%{y}<br>album_title=%{customdata[1]}<br>genre=%{customdata[2]}<extra></extra>",
         "legendgroup": "The National",
         "marker": {
          "color": "#ab63fa",
          "symbol": "circle"
         },
         "mode": "markers",
         "name": "The National",
         "orientation": "v",
         "showlegend": true,
         "type": "scatter",
         "x": [
          0.06459428914499864,
          0.0607253877451365,
          0.1277363715279366,
          0.2315645667046176,
          0.24073968935958823
         ],
         "xaxis": "x",
         "y": [
          0.06448069368091597,
          0.01999427716334859,
          -0.015585491158551214,
          0.04794663064700042,
          0.13333166859333487
         ],
         "yaxis": "y"
        },
        {
         "alignmentgroup": "True",
         "customdata": [
          [
           "The National",
           "Alligator",
           "chamber pop"
          ],
          [
           "The National",
           "Boxer",
           "chamber pop"
          ],
          [
           "The National",
           "High Violet",
           "chamber pop"
          ],
          [
           "The National",
           "Sleep Well Beast",
           "chamber pop"
          ],
          [
           "The National",
           "Trouble Will Find Me",
           "chamber pop"
          ]
         ],
         "hovertemplate": "artist=%{customdata[0]}<br>PC0=%{x}<br>album_title=%{customdata[1]}<br>genre=%{customdata[2]}<extra></extra>",
         "legendgroup": "The National",
         "marker": {
          "color": "#ab63fa",
          "symbol": "circle"
         },
         "name": "The National",
         "notched": true,
         "offsetgroup": "The National",
         "showlegend": false,
         "type": "box",
         "x": [
          0.06459428914499864,
          0.0607253877451365,
          0.1277363715279366,
          0.2315645667046176,
          0.24073968935958823
         ],
         "xaxis": "x3",
         "yaxis": "y3"
        },
        {
         "alignmentgroup": "True",
         "customdata": [
          [
           "The National",
           "Alligator",
           "chamber pop"
          ],
          [
           "The National",
           "Boxer",
           "chamber pop"
          ],
          [
           "The National",
           "High Violet",
           "chamber pop"
          ],
          [
           "The National",
           "Sleep Well Beast",
           "chamber pop"
          ],
          [
           "The National",
           "Trouble Will Find Me",
           "chamber pop"
          ]
         ],
         "hovertemplate": "artist=%{customdata[0]}<br>PC1=%{y}<br>album_title=%{customdata[1]}<br>genre=%{customdata[2]}<extra></extra>",
         "legendgroup": "The National",
         "marker": {
          "color": "#ab63fa",
          "symbol": "circle"
         },
         "name": "The National",
         "notched": true,
         "offsetgroup": "The National",
         "showlegend": false,
         "type": "box",
         "xaxis": "x2",
         "y": [
          0.06448069368091597,
          0.01999427716334859,
          -0.015585491158551214,
          0.04794663064700042,
          0.13333166859333487
         ],
         "yaxis": "y2"
        },
        {
         "customdata": [
          [
           "Metric",
           "Art of Doubt",
           "canadian indie"
          ],
          [
           "Metric",
           "Fantasies",
           "canadian indie"
          ],
          [
           "Metric",
           "Formentera",
           "canadian indie"
          ],
          [
           "Metric",
           "Formentera II",
           "canadian indie"
          ],
          [
           "Metric",
           "Grow Up And Blow Away",
           "canadian indie"
          ],
          [
           "Metric",
           "Live It Out",
           "canadian indie"
          ],
          [
           "Metric",
           "Old World Underground, Where Are You Now?",
           "canadian indie"
          ],
          [
           "Metric",
           "Pagans in Vegas",
           "canadian indie"
          ],
          [
           "Metric",
           "Synthetica",
           "canadian indie"
          ]
         ],
         "hovertemplate": "artist=%{customdata[0]}<br>PC0=%{x}<br>PC1=%{y}<br>album_title=%{customdata[1]}<br>genre=%{customdata[2]}<extra></extra>",
         "legendgroup": "Metric",
         "marker": {
          "color": "#FFA15A",
          "symbol": "circle"
         },
         "mode": "markers",
         "name": "Metric",
         "orientation": "v",
         "showlegend": true,
         "type": "scatter",
         "x": [
          0.025531639642516268,
          0.10294145127188278,
          0.10126431781417883,
          0.3633969388072213,
          0.22897353765760436,
          0.021024805380522794,
          0.05654123125054064,
          0.23373174540451952,
          0.04775666861456145
         ],
         "xaxis": "x",
         "y": [
          -0.040797951815640394,
          0.052796950976057314,
          0.019257271612924582,
          0.08408702124411804,
          0.13821357177251853,
          -0.061117823812661565,
          -0.03681230995408641,
          0.23543235210087513,
          0.02929082263207349
         ],
         "yaxis": "y"
        },
        {
         "alignmentgroup": "True",
         "customdata": [
          [
           "Metric",
           "Art of Doubt",
           "canadian indie"
          ],
          [
           "Metric",
           "Fantasies",
           "canadian indie"
          ],
          [
           "Metric",
           "Formentera",
           "canadian indie"
          ],
          [
           "Metric",
           "Formentera II",
           "canadian indie"
          ],
          [
           "Metric",
           "Grow Up And Blow Away",
           "canadian indie"
          ],
          [
           "Metric",
           "Live It Out",
           "canadian indie"
          ],
          [
           "Metric",
           "Old World Underground, Where Are You Now?",
           "canadian indie"
          ],
          [
           "Metric",
           "Pagans in Vegas",
           "canadian indie"
          ],
          [
           "Metric",
           "Synthetica",
           "canadian indie"
          ]
         ],
         "hovertemplate": "artist=%{customdata[0]}<br>PC0=%{x}<br>album_title=%{customdata[1]}<br>genre=%{customdata[2]}<extra></extra>",
         "legendgroup": "Metric",
         "marker": {
          "color": "#FFA15A",
          "symbol": "circle"
         },
         "name": "Metric",
         "notched": true,
         "offsetgroup": "Metric",
         "showlegend": false,
         "type": "box",
         "x": [
          0.025531639642516268,
          0.10294145127188278,
          0.10126431781417883,
          0.3633969388072213,
          0.22897353765760436,
          0.021024805380522794,
          0.05654123125054064,
          0.23373174540451952,
          0.04775666861456145
         ],
         "xaxis": "x3",
         "yaxis": "y3"
        },
        {
         "alignmentgroup": "True",
         "customdata": [
          [
           "Metric",
           "Art of Doubt",
           "canadian indie"
          ],
          [
           "Metric",
           "Fantasies",
           "canadian indie"
          ],
          [
           "Metric",
           "Formentera",
           "canadian indie"
          ],
          [
           "Metric",
           "Formentera II",
           "canadian indie"
          ],
          [
           "Metric",
           "Grow Up And Blow Away",
           "canadian indie"
          ],
          [
           "Metric",
           "Live It Out",
           "canadian indie"
          ],
          [
           "Metric",
           "Old World Underground, Where Are You Now?",
           "canadian indie"
          ],
          [
           "Metric",
           "Pagans in Vegas",
           "canadian indie"
          ],
          [
           "Metric",
           "Synthetica",
           "canadian indie"
          ]
         ],
         "hovertemplate": "artist=%{customdata[0]}<br>PC1=%{y}<br>album_title=%{customdata[1]}<br>genre=%{customdata[2]}<extra></extra>",
         "legendgroup": "Metric",
         "marker": {
          "color": "#FFA15A",
          "symbol": "circle"
         },
         "name": "Metric",
         "notched": true,
         "offsetgroup": "Metric",
         "showlegend": false,
         "type": "box",
         "xaxis": "x2",
         "y": [
          -0.040797951815640394,
          0.052796950976057314,
          0.019257271612924582,
          0.08408702124411804,
          0.13821357177251853,
          -0.061117823812661565,
          -0.03681230995408641,
          0.23543235210087513,
          0.02929082263207349
         ],
         "yaxis": "y2"
        },
        {
         "customdata": [
          [
           "Broken Social Scene",
           "Bee Hives",
           "alternative rock"
          ],
          [
           "Broken Social Scene",
           "Broken Social Scene",
           "alternative rock"
          ],
          [
           "Broken Social Scene",
           "Feel Good Lost",
           "alternative rock"
          ],
          [
           "Broken Social Scene",
           "Forgiveness Rock Record",
           "alternative rock"
          ],
          [
           "Broken Social Scene",
           "Hug Of Thunder",
           "alternative rock"
          ],
          [
           "Broken Social Scene",
           "You Forgot It In People",
           "alternative rock"
          ]
         ],
         "hovertemplate": "artist=%{customdata[0]}<br>PC0=%{x}<br>PC1=%{y}<br>album_title=%{customdata[1]}<br>genre=%{customdata[2]}<extra></extra>",
         "legendgroup": "Broken Social Scene",
         "marker": {
          "color": "#19d3f3",
          "symbol": "circle"
         },
         "mode": "markers",
         "name": "Broken Social Scene",
         "orientation": "v",
         "showlegend": true,
         "type": "scatter",
         "x": [
          -0.08004253664269136,
          0.058798365247639706,
          -0.17300719097539574,
          0.19616497676898964,
          0.19629934035983354,
          0.19236373094428957
         ],
         "xaxis": "x",
         "y": [
          -0.13747507494127603,
          -0.048739470655007985,
          0.10138663193311095,
          0.0029624694875427836,
          -0.04125640941195801,
          -0.10804117491989362
         ],
         "yaxis": "y"
        },
        {
         "alignmentgroup": "True",
         "customdata": [
          [
           "Broken Social Scene",
           "Bee Hives",
           "alternative rock"
          ],
          [
           "Broken Social Scene",
           "Broken Social Scene",
           "alternative rock"
          ],
          [
           "Broken Social Scene",
           "Feel Good Lost",
           "alternative rock"
          ],
          [
           "Broken Social Scene",
           "Forgiveness Rock Record",
           "alternative rock"
          ],
          [
           "Broken Social Scene",
           "Hug Of Thunder",
           "alternative rock"
          ],
          [
           "Broken Social Scene",
           "You Forgot It In People",
           "alternative rock"
          ]
         ],
         "hovertemplate": "artist=%{customdata[0]}<br>PC0=%{x}<br>album_title=%{customdata[1]}<br>genre=%{customdata[2]}<extra></extra>",
         "legendgroup": "Broken Social Scene",
         "marker": {
          "color": "#19d3f3",
          "symbol": "circle"
         },
         "name": "Broken Social Scene",
         "notched": true,
         "offsetgroup": "Broken Social Scene",
         "showlegend": false,
         "type": "box",
         "x": [
          -0.08004253664269136,
          0.058798365247639706,
          -0.17300719097539574,
          0.19616497676898964,
          0.19629934035983354,
          0.19236373094428957
         ],
         "xaxis": "x3",
         "yaxis": "y3"
        },
        {
         "alignmentgroup": "True",
         "customdata": [
          [
           "Broken Social Scene",
           "Bee Hives",
           "alternative rock"
          ],
          [
           "Broken Social Scene",
           "Broken Social Scene",
           "alternative rock"
          ],
          [
           "Broken Social Scene",
           "Feel Good Lost",
           "alternative rock"
          ],
          [
           "Broken Social Scene",
           "Forgiveness Rock Record",
           "alternative rock"
          ],
          [
           "Broken Social Scene",
           "Hug Of Thunder",
           "alternative rock"
          ],
          [
           "Broken Social Scene",
           "You Forgot It In People",
           "alternative rock"
          ]
         ],
         "hovertemplate": "artist=%{customdata[0]}<br>PC1=%{y}<br>album_title=%{customdata[1]}<br>genre=%{customdata[2]}<extra></extra>",
         "legendgroup": "Broken Social Scene",
         "marker": {
          "color": "#19d3f3",
          "symbol": "circle"
         },
         "name": "Broken Social Scene",
         "notched": true,
         "offsetgroup": "Broken Social Scene",
         "showlegend": false,
         "type": "box",
         "xaxis": "x2",
         "y": [
          -0.13747507494127603,
          -0.048739470655007985,
          0.10138663193311095,
          0.0029624694875427836,
          -0.04125640941195801,
          -0.10804117491989362
         ],
         "yaxis": "y2"
        },
        {
         "customdata": [
          [
           "Dirty Projectors",
           "Bitte Orca",
           "art pop"
          ],
          [
           "Dirty Projectors",
           "Dirty Projectors",
           "art pop"
          ],
          [
           "Dirty Projectors",
           "Lamp Lit Prose",
           "art pop"
          ],
          [
           "Dirty Projectors",
           "Morning Better Last!",
           "art pop"
          ],
          [
           "Dirty Projectors",
           "Mount Wittenberg Orca",
           "art pop"
          ],
          [
           "Dirty Projectors",
           "Rise Above",
           "art pop"
          ],
          [
           "Dirty Projectors",
           "Slaves' Graves and Ballads",
           "art pop"
          ],
          [
           "Dirty Projectors",
           "Swing Lo Magellan",
           "art pop"
          ],
          [
           "Dirty Projectors",
           "The Getty Address",
           "art pop"
          ],
          [
           "Dirty Projectors",
           "The Glad Fact",
           "art pop"
          ]
         ],
         "hovertemplate": "artist=%{customdata[0]}<br>PC0=%{x}<br>PC1=%{y}<br>album_title=%{customdata[1]}<br>genre=%{customdata[2]}<extra></extra>",
         "legendgroup": "Dirty Projectors",
         "marker": {
          "color": "#FF6692",
          "symbol": "circle"
         },
         "mode": "markers",
         "name": "Dirty Projectors",
         "orientation": "v",
         "showlegend": true,
         "type": "scatter",
         "x": [
          0.15131882075007325,
          0.179465719932676,
          0.02473233855520003,
          0.020710884981884593,
          0.003958643548888419,
          -0.05805112542923492,
          0.3615411388950258,
          0.19914914086374222,
          -0.04074666881955257,
          -0.006246894687746052
         ],
         "xaxis": "x",
         "y": [
          0.005456170658701574,
          -0.15149413378620105,
          0.10330890008552389,
          0.0029113967442005143,
          0.06026233580194154,
          -0.043246126445349746,
          0.23670548616702777,
          -0.08058474066416078,
          0.08527890882704042,
          0.03489176679180296
         ],
         "yaxis": "y"
        },
        {
         "alignmentgroup": "True",
         "customdata": [
          [
           "Dirty Projectors",
           "Bitte Orca",
           "art pop"
          ],
          [
           "Dirty Projectors",
           "Dirty Projectors",
           "art pop"
          ],
          [
           "Dirty Projectors",
           "Lamp Lit Prose",
           "art pop"
          ],
          [
           "Dirty Projectors",
           "Morning Better Last!",
           "art pop"
          ],
          [
           "Dirty Projectors",
           "Mount Wittenberg Orca",
           "art pop"
          ],
          [
           "Dirty Projectors",
           "Rise Above",
           "art pop"
          ],
          [
           "Dirty Projectors",
           "Slaves' Graves and Ballads",
           "art pop"
          ],
          [
           "Dirty Projectors",
           "Swing Lo Magellan",
           "art pop"
          ],
          [
           "Dirty Projectors",
           "The Getty Address",
           "art pop"
          ],
          [
           "Dirty Projectors",
           "The Glad Fact",
           "art pop"
          ]
         ],
         "hovertemplate": "artist=%{customdata[0]}<br>PC0=%{x}<br>album_title=%{customdata[1]}<br>genre=%{customdata[2]}<extra></extra>",
         "legendgroup": "Dirty Projectors",
         "marker": {
          "color": "#FF6692",
          "symbol": "circle"
         },
         "name": "Dirty Projectors",
         "notched": true,
         "offsetgroup": "Dirty Projectors",
         "showlegend": false,
         "type": "box",
         "x": [
          0.15131882075007325,
          0.179465719932676,
          0.02473233855520003,
          0.020710884981884593,
          0.003958643548888419,
          -0.05805112542923492,
          0.3615411388950258,
          0.19914914086374222,
          -0.04074666881955257,
          -0.006246894687746052
         ],
         "xaxis": "x3",
         "yaxis": "y3"
        },
        {
         "alignmentgroup": "True",
         "customdata": [
          [
           "Dirty Projectors",
           "Bitte Orca",
           "art pop"
          ],
          [
           "Dirty Projectors",
           "Dirty Projectors",
           "art pop"
          ],
          [
           "Dirty Projectors",
           "Lamp Lit Prose",
           "art pop"
          ],
          [
           "Dirty Projectors",
           "Morning Better Last!",
           "art pop"
          ],
          [
           "Dirty Projectors",
           "Mount Wittenberg Orca",
           "art pop"
          ],
          [
           "Dirty Projectors",
           "Rise Above",
           "art pop"
          ],
          [
           "Dirty Projectors",
           "Slaves' Graves and Ballads",
           "art pop"
          ],
          [
           "Dirty Projectors",
           "Swing Lo Magellan",
           "art pop"
          ],
          [
           "Dirty Projectors",
           "The Getty Address",
           "art pop"
          ],
          [
           "Dirty Projectors",
           "The Glad Fact",
           "art pop"
          ]
         ],
         "hovertemplate": "artist=%{customdata[0]}<br>PC1=%{y}<br>album_title=%{customdata[1]}<br>genre=%{customdata[2]}<extra></extra>",
         "legendgroup": "Dirty Projectors",
         "marker": {
          "color": "#FF6692",
          "symbol": "circle"
         },
         "name": "Dirty Projectors",
         "notched": true,
         "offsetgroup": "Dirty Projectors",
         "showlegend": false,
         "type": "box",
         "xaxis": "x2",
         "y": [
          0.005456170658701574,
          -0.15149413378620105,
          0.10330890008552389,
          0.0029113967442005143,
          0.06026233580194154,
          -0.043246126445349746,
          0.23670548616702777,
          -0.08058474066416078,
          0.08527890882704042,
          0.03489176679180296
         ],
         "yaxis": "y2"
        },
        {
         "customdata": [
          [
           "Big Thief",
           "Capacity",
           "art pop"
          ],
          [
           "Big Thief",
           "Dragon New Warm Mountain I Believe In You",
           "art pop"
          ],
          [
           "Big Thief",
           "Masterpiece (2023 Remaster)",
           "art pop"
          ],
          [
           "Big Thief",
           "Two Hands",
           "art pop"
          ],
          [
           "Big Thief",
           "U.F.O.F.",
           "art pop"
          ]
         ],
         "hovertemplate": "artist=%{customdata[0]}<br>PC0=%{x}<br>PC1=%{y}<br>album_title=%{customdata[1]}<br>genre=%{customdata[2]}<extra></extra>",
         "legendgroup": "Big Thief",
         "marker": {
          "color": "#B6E880",
          "symbol": "circle"
         },
         "mode": "markers",
         "name": "Big Thief",
         "orientation": "v",
         "showlegend": true,
         "type": "scatter",
         "x": [
          0.3134291266947839,
          0.49227973666066843,
          -0.03448687695395586,
          0.4005527480702499,
          0.24388604160781285
         ],
         "xaxis": "x",
         "y": [
          0.06592116367735214,
          0.16488063275946083,
          0.026274951555816668,
          0.26382365342385666,
          0.12150815887762209
         ],
         "yaxis": "y"
        },
        {
         "alignmentgroup": "True",
         "customdata": [
          [
           "Big Thief",
           "Capacity",
           "art pop"
          ],
          [
           "Big Thief",
           "Dragon New Warm Mountain I Believe In You",
           "art pop"
          ],
          [
           "Big Thief",
           "Masterpiece (2023 Remaster)",
           "art pop"
          ],
          [
           "Big Thief",
           "Two Hands",
           "art pop"
          ],
          [
           "Big Thief",
           "U.F.O.F.",
           "art pop"
          ]
         ],
         "hovertemplate": "artist=%{customdata[0]}<br>PC0=%{x}<br>album_title=%{customdata[1]}<br>genre=%{customdata[2]}<extra></extra>",
         "legendgroup": "Big Thief",
         "marker": {
          "color": "#B6E880",
          "symbol": "circle"
         },
         "name": "Big Thief",
         "notched": true,
         "offsetgroup": "Big Thief",
         "showlegend": false,
         "type": "box",
         "x": [
          0.3134291266947839,
          0.49227973666066843,
          -0.03448687695395586,
          0.4005527480702499,
          0.24388604160781285
         ],
         "xaxis": "x3",
         "yaxis": "y3"
        },
        {
         "alignmentgroup": "True",
         "customdata": [
          [
           "Big Thief",
           "Capacity",
           "art pop"
          ],
          [
           "Big Thief",
           "Dragon New Warm Mountain I Believe In You",
           "art pop"
          ],
          [
           "Big Thief",
           "Masterpiece (2023 Remaster)",
           "art pop"
          ],
          [
           "Big Thief",
           "Two Hands",
           "art pop"
          ],
          [
           "Big Thief",
           "U.F.O.F.",
           "art pop"
          ]
         ],
         "hovertemplate": "artist=%{customdata[0]}<br>PC1=%{y}<br>album_title=%{customdata[1]}<br>genre=%{customdata[2]}<extra></extra>",
         "legendgroup": "Big Thief",
         "marker": {
          "color": "#B6E880",
          "symbol": "circle"
         },
         "name": "Big Thief",
         "notched": true,
         "offsetgroup": "Big Thief",
         "showlegend": false,
         "type": "box",
         "xaxis": "x2",
         "y": [
          0.06592116367735214,
          0.16488063275946083,
          0.026274951555816668,
          0.26382365342385666,
          0.12150815887762209
         ],
         "yaxis": "y2"
        },
        {
         "customdata": [
          [
           "MGMT",
           "Congratulations",
           "alternative rock"
          ],
          [
           "MGMT",
           "Little Dark Age",
           "alternative rock"
          ],
          [
           "MGMT",
           "Loss Of Life",
           "alternative rock"
          ],
          [
           "MGMT",
           "MGMT",
           "alternative rock"
          ],
          [
           "MGMT",
           "Oracular Spectacular",
           "alternative rock"
          ]
         ],
         "hovertemplate": "artist=%{customdata[0]}<br>PC0=%{x}<br>PC1=%{y}<br>album_title=%{customdata[1]}<br>genre=%{customdata[2]}<extra></extra>",
         "legendgroup": "MGMT",
         "marker": {
          "color": "#FF97FF",
          "symbol": "circle"
         },
         "mode": "markers",
         "name": "MGMT",
         "orientation": "v",
         "showlegend": true,
         "type": "scatter",
         "x": [
          0.3412952834815347,
          0.39387659278862297,
          0.1735776675407569,
          0.3865205458392036,
          0.14361986109858887
         ],
         "xaxis": "x",
         "y": [
          -0.4474032359043424,
          -0.2677651788630262,
          -0.041489550254105556,
          0.3106660770337568,
          0.009649107764087271
         ],
         "yaxis": "y"
        },
        {
         "alignmentgroup": "True",
         "customdata": [
          [
           "MGMT",
           "Congratulations",
           "alternative rock"
          ],
          [
           "MGMT",
           "Little Dark Age",
           "alternative rock"
          ],
          [
           "MGMT",
           "Loss Of Life",
           "alternative rock"
          ],
          [
           "MGMT",
           "MGMT",
           "alternative rock"
          ],
          [
           "MGMT",
           "Oracular Spectacular",
           "alternative rock"
          ]
         ],
         "hovertemplate": "artist=%{customdata[0]}<br>PC0=%{x}<br>album_title=%{customdata[1]}<br>genre=%{customdata[2]}<extra></extra>",
         "legendgroup": "MGMT",
         "marker": {
          "color": "#FF97FF",
          "symbol": "circle"
         },
         "name": "MGMT",
         "notched": true,
         "offsetgroup": "MGMT",
         "showlegend": false,
         "type": "box",
         "x": [
          0.3412952834815347,
          0.39387659278862297,
          0.1735776675407569,
          0.3865205458392036,
          0.14361986109858887
         ],
         "xaxis": "x3",
         "yaxis": "y3"
        },
        {
         "alignmentgroup": "True",
         "customdata": [
          [
           "MGMT",
           "Congratulations",
           "alternative rock"
          ],
          [
           "MGMT",
           "Little Dark Age",
           "alternative rock"
          ],
          [
           "MGMT",
           "Loss Of Life",
           "alternative rock"
          ],
          [
           "MGMT",
           "MGMT",
           "alternative rock"
          ],
          [
           "MGMT",
           "Oracular Spectacular",
           "alternative rock"
          ]
         ],
         "hovertemplate": "artist=%{customdata[0]}<br>PC1=%{y}<br>album_title=%{customdata[1]}<br>genre=%{customdata[2]}<extra></extra>",
         "legendgroup": "MGMT",
         "marker": {
          "color": "#FF97FF",
          "symbol": "circle"
         },
         "name": "MGMT",
         "notched": true,
         "offsetgroup": "MGMT",
         "showlegend": false,
         "type": "box",
         "xaxis": "x2",
         "y": [
          -0.4474032359043424,
          -0.2677651788630262,
          -0.041489550254105556,
          0.3106660770337568,
          0.009649107764087271
         ],
         "yaxis": "y2"
        },
        {
         "customdata": [
          [
           "Yeah Yeah Yeahs",
           "Cool It Down",
           "alternative dance"
          ],
          [
           "Yeah Yeah Yeahs",
           "Fever To Tell",
           "alternative dance"
          ],
          [
           "Yeah Yeah Yeahs",
           "It's Blitz!",
           "alternative dance"
          ],
          [
           "Yeah Yeah Yeahs",
           "Mosquito (Deluxe)",
           "alternative dance"
          ],
          [
           "Yeah Yeah Yeahs",
           "Show Your Bones",
           "alternative dance"
          ]
         ],
         "hovertemplate": "artist=%{customdata[0]}<br>PC0=%{x}<br>PC1=%{y}<br>album_title=%{customdata[1]}<br>genre=%{customdata[2]}<extra></extra>",
         "legendgroup": "Yeah Yeah Yeahs",
         "marker": {
          "color": "#FECB52",
          "symbol": "circle"
         },
         "mode": "markers",
         "name": "Yeah Yeah Yeahs",
         "orientation": "v",
         "showlegend": true,
         "type": "scatter",
         "x": [
          -0.0687545383379666,
          -0.10709389475041436,
          0.3204359107731878,
          -0.07046314867630839,
          0.2201174073465991
         ],
         "xaxis": "x",
         "y": [
          0.023835824484560734,
          -0.009219071715343152,
          0.059228436047826086,
          -0.003196959811176037,
          0.051212188178608564
         ],
         "yaxis": "y"
        },
        {
         "alignmentgroup": "True",
         "customdata": [
          [
           "Yeah Yeah Yeahs",
           "Cool It Down",
           "alternative dance"
          ],
          [
           "Yeah Yeah Yeahs",
           "Fever To Tell",
           "alternative dance"
          ],
          [
           "Yeah Yeah Yeahs",
           "It's Blitz!",
           "alternative dance"
          ],
          [
           "Yeah Yeah Yeahs",
           "Mosquito (Deluxe)",
           "alternative dance"
          ],
          [
           "Yeah Yeah Yeahs",
           "Show Your Bones",
           "alternative dance"
          ]
         ],
         "hovertemplate": "artist=%{customdata[0]}<br>PC0=%{x}<br>album_title=%{customdata[1]}<br>genre=%{customdata[2]}<extra></extra>",
         "legendgroup": "Yeah Yeah Yeahs",
         "marker": {
          "color": "#FECB52",
          "symbol": "circle"
         },
         "name": "Yeah Yeah Yeahs",
         "notched": true,
         "offsetgroup": "Yeah Yeah Yeahs",
         "showlegend": false,
         "type": "box",
         "x": [
          -0.0687545383379666,
          -0.10709389475041436,
          0.3204359107731878,
          -0.07046314867630839,
          0.2201174073465991
         ],
         "xaxis": "x3",
         "yaxis": "y3"
        },
        {
         "alignmentgroup": "True",
         "customdata": [
          [
           "Yeah Yeah Yeahs",
           "Cool It Down",
           "alternative dance"
          ],
          [
           "Yeah Yeah Yeahs",
           "Fever To Tell",
           "alternative dance"
          ],
          [
           "Yeah Yeah Yeahs",
           "It's Blitz!",
           "alternative dance"
          ],
          [
           "Yeah Yeah Yeahs",
           "Mosquito (Deluxe)",
           "alternative dance"
          ],
          [
           "Yeah Yeah Yeahs",
           "Show Your Bones",
           "alternative dance"
          ]
         ],
         "hovertemplate": "artist=%{customdata[0]}<br>PC1=%{y}<br>album_title=%{customdata[1]}<br>genre=%{customdata[2]}<extra></extra>",
         "legendgroup": "Yeah Yeah Yeahs",
         "marker": {
          "color": "#FECB52",
          "symbol": "circle"
         },
         "name": "Yeah Yeah Yeahs",
         "notched": true,
         "offsetgroup": "Yeah Yeah Yeahs",
         "showlegend": false,
         "type": "box",
         "xaxis": "x2",
         "y": [
          0.023835824484560734,
          -0.009219071715343152,
          0.059228436047826086,
          -0.003196959811176037,
          0.051212188178608564
         ],
         "yaxis": "y2"
        },
        {
         "customdata": [
          [
           "Cults",
           "Cults",
           "experimental pop"
          ],
          [
           "Cults",
           "Host",
           "experimental pop"
          ],
          [
           "Cults",
           "Offering",
           "experimental pop"
          ],
          [
           "Cults",
           "Static",
           "experimental pop"
          ]
         ],
         "hovertemplate": "artist=%{customdata[0]}<br>PC0=%{x}<br>PC1=%{y}<br>album_title=%{customdata[1]}<br>genre=%{customdata[2]}<extra></extra>",
         "legendgroup": "Cults",
         "marker": {
          "color": "#636efa",
          "symbol": "circle"
         },
         "mode": "markers",
         "name": "Cults",
         "orientation": "v",
         "showlegend": true,
         "type": "scatter",
         "x": [
          0.06713133368317832,
          0.19159558782502226,
          0.1613529307409062,
          0.26579934760386925
         ],
         "xaxis": "x",
         "y": [
          -0.06111426423102281,
          0.1429171485966548,
          -0.5079261574218361,
          -0.18994318511789185
         ],
         "yaxis": "y"
        },
        {
         "alignmentgroup": "True",
         "customdata": [
          [
           "Cults",
           "Cults",
           "experimental pop"
          ],
          [
           "Cults",
           "Host",
           "experimental pop"
          ],
          [
           "Cults",
           "Offering",
           "experimental pop"
          ],
          [
           "Cults",
           "Static",
           "experimental pop"
          ]
         ],
         "hovertemplate": "artist=%{customdata[0]}<br>PC0=%{x}<br>album_title=%{customdata[1]}<br>genre=%{customdata[2]}<extra></extra>",
         "legendgroup": "Cults",
         "marker": {
          "color": "#636efa",
          "symbol": "circle"
         },
         "name": "Cults",
         "notched": true,
         "offsetgroup": "Cults",
         "showlegend": false,
         "type": "box",
         "x": [
          0.06713133368317832,
          0.19159558782502226,
          0.1613529307409062,
          0.26579934760386925
         ],
         "xaxis": "x3",
         "yaxis": "y3"
        },
        {
         "alignmentgroup": "True",
         "customdata": [
          [
           "Cults",
           "Cults",
           "experimental pop"
          ],
          [
           "Cults",
           "Host",
           "experimental pop"
          ],
          [
           "Cults",
           "Offering",
           "experimental pop"
          ],
          [
           "Cults",
           "Static",
           "experimental pop"
          ]
         ],
         "hovertemplate": "artist=%{customdata[0]}<br>PC1=%{y}<br>album_title=%{customdata[1]}<br>genre=%{customdata[2]}<extra></extra>",
         "legendgroup": "Cults",
         "marker": {
          "color": "#636efa",
          "symbol": "circle"
         },
         "name": "Cults",
         "notched": true,
         "offsetgroup": "Cults",
         "showlegend": false,
         "type": "box",
         "xaxis": "x2",
         "y": [
          -0.06111426423102281,
          0.1429171485966548,
          -0.5079261574218361,
          -0.18994318511789185
         ],
         "yaxis": "y2"
        },
        {
         "customdata": [
          [
           "Caroline Polachek",
           "Desire, I Want To Turn Into You",
           "art pop"
          ],
          [
           "Caroline Polachek",
           "Pang",
           "art pop"
          ]
         ],
         "hovertemplate": "artist=%{customdata[0]}<br>PC0=%{x}<br>PC1=%{y}<br>album_title=%{customdata[1]}<br>genre=%{customdata[2]}<extra></extra>",
         "legendgroup": "Caroline Polachek",
         "marker": {
          "color": "#EF553B",
          "symbol": "circle"
         },
         "mode": "markers",
         "name": "Caroline Polachek",
         "orientation": "v",
         "showlegend": true,
         "type": "scatter",
         "x": [
          0.09863984375788742,
          0.25106389672886453
         ],
         "xaxis": "x",
         "y": [
          0.008029241156288284,
          0.026532629954837128
         ],
         "yaxis": "y"
        },
        {
         "alignmentgroup": "True",
         "customdata": [
          [
           "Caroline Polachek",
           "Desire, I Want To Turn Into You",
           "art pop"
          ],
          [
           "Caroline Polachek",
           "Pang",
           "art pop"
          ]
         ],
         "hovertemplate": "artist=%{customdata[0]}<br>PC0=%{x}<br>album_title=%{customdata[1]}<br>genre=%{customdata[2]}<extra></extra>",
         "legendgroup": "Caroline Polachek",
         "marker": {
          "color": "#EF553B",
          "symbol": "circle"
         },
         "name": "Caroline Polachek",
         "notched": true,
         "offsetgroup": "Caroline Polachek",
         "showlegend": false,
         "type": "box",
         "x": [
          0.09863984375788742,
          0.25106389672886453
         ],
         "xaxis": "x3",
         "yaxis": "y3"
        },
        {
         "alignmentgroup": "True",
         "customdata": [
          [
           "Caroline Polachek",
           "Desire, I Want To Turn Into You",
           "art pop"
          ],
          [
           "Caroline Polachek",
           "Pang",
           "art pop"
          ]
         ],
         "hovertemplate": "artist=%{customdata[0]}<br>PC1=%{y}<br>album_title=%{customdata[1]}<br>genre=%{customdata[2]}<extra></extra>",
         "legendgroup": "Caroline Polachek",
         "marker": {
          "color": "#EF553B",
          "symbol": "circle"
         },
         "name": "Caroline Polachek",
         "notched": true,
         "offsetgroup": "Caroline Polachek",
         "showlegend": false,
         "type": "box",
         "xaxis": "x2",
         "y": [
          0.008029241156288284,
          0.026532629954837128
         ],
         "yaxis": "y2"
        },
        {
         "customdata": [
          [
           "Ava Luna",
           "Electric Balloon",
           "brooklyn indie"
          ],
          [
           "Ava Luna",
           "Ice Level",
           "brooklyn indie"
          ],
          [
           "Ava Luna",
           "Infinite House",
           "brooklyn indie"
          ],
          [
           "Ava Luna",
           "Moon 2",
           "brooklyn indie"
          ]
         ],
         "hovertemplate": "artist=%{customdata[0]}<br>PC0=%{x}<br>PC1=%{y}<br>album_title=%{customdata[1]}<br>genre=%{customdata[2]}<extra></extra>",
         "legendgroup": "Ava Luna",
         "marker": {
          "color": "#00cc96",
          "symbol": "circle"
         },
         "mode": "markers",
         "name": "Ava Luna",
         "orientation": "v",
         "showlegend": true,
         "type": "scatter",
         "x": [
          0.13818211992196114,
          0.28544983188201656,
          0.247921942202415,
          0.27983447268908723
         ],
         "xaxis": "x",
         "y": [
          0.1575892184990837,
          0.13040911457667334,
          0.015879811414931878,
          0.13010238856860082
         ],
         "yaxis": "y"
        },
        {
         "alignmentgroup": "True",
         "customdata": [
          [
           "Ava Luna",
           "Electric Balloon",
           "brooklyn indie"
          ],
          [
           "Ava Luna",
           "Ice Level",
           "brooklyn indie"
          ],
          [
           "Ava Luna",
           "Infinite House",
           "brooklyn indie"
          ],
          [
           "Ava Luna",
           "Moon 2",
           "brooklyn indie"
          ]
         ],
         "hovertemplate": "artist=%{customdata[0]}<br>PC0=%{x}<br>album_title=%{customdata[1]}<br>genre=%{customdata[2]}<extra></extra>",
         "legendgroup": "Ava Luna",
         "marker": {
          "color": "#00cc96",
          "symbol": "circle"
         },
         "name": "Ava Luna",
         "notched": true,
         "offsetgroup": "Ava Luna",
         "showlegend": false,
         "type": "box",
         "x": [
          0.13818211992196114,
          0.28544983188201656,
          0.247921942202415,
          0.27983447268908723
         ],
         "xaxis": "x3",
         "yaxis": "y3"
        },
        {
         "alignmentgroup": "True",
         "customdata": [
          [
           "Ava Luna",
           "Electric Balloon",
           "brooklyn indie"
          ],
          [
           "Ava Luna",
           "Ice Level",
           "brooklyn indie"
          ],
          [
           "Ava Luna",
           "Infinite House",
           "brooklyn indie"
          ],
          [
           "Ava Luna",
           "Moon 2",
           "brooklyn indie"
          ]
         ],
         "hovertemplate": "artist=%{customdata[0]}<br>PC1=%{y}<br>album_title=%{customdata[1]}<br>genre=%{customdata[2]}<extra></extra>",
         "legendgroup": "Ava Luna",
         "marker": {
          "color": "#00cc96",
          "symbol": "circle"
         },
         "name": "Ava Luna",
         "notched": true,
         "offsetgroup": "Ava Luna",
         "showlegend": false,
         "type": "box",
         "xaxis": "x2",
         "y": [
          0.1575892184990837,
          0.13040911457667334,
          0.015879811414931878,
          0.13010238856860082
         ],
         "yaxis": "y2"
        },
        {
         "customdata": [
          [
           "CHVRCHES",
           "Every Open Eye",
           "indietronica"
          ],
          [
           "CHVRCHES",
           "Love Is Dead",
           "indietronica"
          ],
          [
           "CHVRCHES",
           "The Bones of What You Believe (Special Edition)",
           "indietronica"
          ]
         ],
         "hovertemplate": "artist=%{customdata[0]}<br>PC0=%{x}<br>PC1=%{y}<br>album_title=%{customdata[1]}<br>genre=%{customdata[2]}<extra></extra>",
         "legendgroup": "CHVRCHES",
         "marker": {
          "color": "#ab63fa",
          "symbol": "circle"
         },
         "mode": "markers",
         "name": "CHVRCHES",
         "orientation": "v",
         "showlegend": true,
         "type": "scatter",
         "x": [
          -0.012822540374631566,
          0.02822851128754187,
          0.3216761632430989
         ],
         "xaxis": "x",
         "y": [
          -0.0035080283192931334,
          -0.021687104858603486,
          -0.1059091941112312
         ],
         "yaxis": "y"
        },
        {
         "alignmentgroup": "True",
         "customdata": [
          [
           "CHVRCHES",
           "Every Open Eye",
           "indietronica"
          ],
          [
           "CHVRCHES",
           "Love Is Dead",
           "indietronica"
          ],
          [
           "CHVRCHES",
           "The Bones of What You Believe (Special Edition)",
           "indietronica"
          ]
         ],
         "hovertemplate": "artist=%{customdata[0]}<br>PC0=%{x}<br>album_title=%{customdata[1]}<br>genre=%{customdata[2]}<extra></extra>",
         "legendgroup": "CHVRCHES",
         "marker": {
          "color": "#ab63fa",
          "symbol": "circle"
         },
         "name": "CHVRCHES",
         "notched": true,
         "offsetgroup": "CHVRCHES",
         "showlegend": false,
         "type": "box",
         "x": [
          -0.012822540374631566,
          0.02822851128754187,
          0.3216761632430989
         ],
         "xaxis": "x3",
         "yaxis": "y3"
        },
        {
         "alignmentgroup": "True",
         "customdata": [
          [
           "CHVRCHES",
           "Every Open Eye",
           "indietronica"
          ],
          [
           "CHVRCHES",
           "Love Is Dead",
           "indietronica"
          ],
          [
           "CHVRCHES",
           "The Bones of What You Believe (Special Edition)",
           "indietronica"
          ]
         ],
         "hovertemplate": "artist=%{customdata[0]}<br>PC1=%{y}<br>album_title=%{customdata[1]}<br>genre=%{customdata[2]}<extra></extra>",
         "legendgroup": "CHVRCHES",
         "marker": {
          "color": "#ab63fa",
          "symbol": "circle"
         },
         "name": "CHVRCHES",
         "notched": true,
         "offsetgroup": "CHVRCHES",
         "showlegend": false,
         "type": "box",
         "xaxis": "x2",
         "y": [
          -0.0035080283192931334,
          -0.021687104858603486,
          -0.1059091941112312
         ],
         "yaxis": "y2"
        },
        {
         "customdata": [
          [
           "Ethel Cain",
           "Golden Age",
           "countrygaze"
          ],
          [
           "Ethel Cain",
           "Inbred",
           "countrygaze"
          ],
          [
           "Ethel Cain",
           "Preacher’s Daughter",
           "countrygaze"
          ]
         ],
         "hovertemplate": "artist=%{customdata[0]}<br>PC0=%{x}<br>PC1=%{y}<br>album_title=%{customdata[1]}<br>genre=%{customdata[2]}<extra></extra>",
         "legendgroup": "Ethel Cain",
         "marker": {
          "color": "#FFA15A",
          "symbol": "circle"
         },
         "mode": "markers",
         "name": "Ethel Cain",
         "orientation": "v",
         "showlegend": true,
         "type": "scatter",
         "x": [
          0.30492929993017664,
          0.24143214696183446,
          0.3842892807431692
         ],
         "xaxis": "x",
         "y": [
          -0.00043466858219954815,
          -0.26974302987200033,
          -0.15225591389693316
         ],
         "yaxis": "y"
        },
        {
         "alignmentgroup": "True",
         "customdata": [
          [
           "Ethel Cain",
           "Golden Age",
           "countrygaze"
          ],
          [
           "Ethel Cain",
           "Inbred",
           "countrygaze"
          ],
          [
           "Ethel Cain",
           "Preacher’s Daughter",
           "countrygaze"
          ]
         ],
         "hovertemplate": "artist=%{customdata[0]}<br>PC0=%{x}<br>album_title=%{customdata[1]}<br>genre=%{customdata[2]}<extra></extra>",
         "legendgroup": "Ethel Cain",
         "marker": {
          "color": "#FFA15A",
          "symbol": "circle"
         },
         "name": "Ethel Cain",
         "notched": true,
         "offsetgroup": "Ethel Cain",
         "showlegend": false,
         "type": "box",
         "x": [
          0.30492929993017664,
          0.24143214696183446,
          0.3842892807431692
         ],
         "xaxis": "x3",
         "yaxis": "y3"
        },
        {
         "alignmentgroup": "True",
         "customdata": [
          [
           "Ethel Cain",
           "Golden Age",
           "countrygaze"
          ],
          [
           "Ethel Cain",
           "Inbred",
           "countrygaze"
          ],
          [
           "Ethel Cain",
           "Preacher’s Daughter",
           "countrygaze"
          ]
         ],
         "hovertemplate": "artist=%{customdata[0]}<br>PC1=%{y}<br>album_title=%{customdata[1]}<br>genre=%{customdata[2]}<extra></extra>",
         "legendgroup": "Ethel Cain",
         "marker": {
          "color": "#FFA15A",
          "symbol": "circle"
         },
         "name": "Ethel Cain",
         "notched": true,
         "offsetgroup": "Ethel Cain",
         "showlegend": false,
         "type": "box",
         "xaxis": "x2",
         "y": [
          -0.00043466858219954815,
          -0.26974302987200033,
          -0.15225591389693316
         ],
         "yaxis": "y2"
        },
        {
         "customdata": [
          [
           "Mr. Twin Sister",
           "In Heaven",
           "chillwave"
          ],
          [
           "Mr. Twin Sister",
           "Mr Twin Sister",
           "chillwave"
          ]
         ],
         "hovertemplate": "artist=%{customdata[0]}<br>PC0=%{x}<br>PC1=%{y}<br>album_title=%{customdata[1]}<br>genre=%{customdata[2]}<extra></extra>",
         "legendgroup": "Mr. Twin Sister",
         "marker": {
          "color": "#19d3f3",
          "symbol": "circle"
         },
         "mode": "markers",
         "name": "Mr. Twin Sister",
         "orientation": "v",
         "showlegend": true,
         "type": "scatter",
         "x": [
          0.37324810483923104,
          0.25363109666563216
         ],
         "xaxis": "x",
         "y": [
          -0.26626754850982803,
          -0.0825388788607262
         ],
         "yaxis": "y"
        },
        {
         "alignmentgroup": "True",
         "customdata": [
          [
           "Mr. Twin Sister",
           "In Heaven",
           "chillwave"
          ],
          [
           "Mr. Twin Sister",
           "Mr Twin Sister",
           "chillwave"
          ]
         ],
         "hovertemplate": "artist=%{customdata[0]}<br>PC0=%{x}<br>album_title=%{customdata[1]}<br>genre=%{customdata[2]}<extra></extra>",
         "legendgroup": "Mr. Twin Sister",
         "marker": {
          "color": "#19d3f3",
          "symbol": "circle"
         },
         "name": "Mr. Twin Sister",
         "notched": true,
         "offsetgroup": "Mr. Twin Sister",
         "showlegend": false,
         "type": "box",
         "x": [
          0.37324810483923104,
          0.25363109666563216
         ],
         "xaxis": "x3",
         "yaxis": "y3"
        },
        {
         "alignmentgroup": "True",
         "customdata": [
          [
           "Mr. Twin Sister",
           "In Heaven",
           "chillwave"
          ],
          [
           "Mr. Twin Sister",
           "Mr Twin Sister",
           "chillwave"
          ]
         ],
         "hovertemplate": "artist=%{customdata[0]}<br>PC1=%{y}<br>album_title=%{customdata[1]}<br>genre=%{customdata[2]}<extra></extra>",
         "legendgroup": "Mr. Twin Sister",
         "marker": {
          "color": "#19d3f3",
          "symbol": "circle"
         },
         "name": "Mr. Twin Sister",
         "notched": true,
         "offsetgroup": "Mr. Twin Sister",
         "showlegend": false,
         "type": "box",
         "xaxis": "x2",
         "y": [
          -0.26626754850982803,
          -0.0825388788607262
         ],
         "yaxis": "y2"
        },
        {
         "customdata": [
          [
           "Pure Bathing Culture",
           "Moon Tides",
           "chillwave"
          ],
          [
           "Pure Bathing Culture",
           "Night Pass",
           "chillwave"
          ],
          [
           "Pure Bathing Culture",
           "Pray for Rain",
           "chillwave"
          ]
         ],
         "hovertemplate": "artist=%{customdata[0]}<br>PC0=%{x}<br>PC1=%{y}<br>album_title=%{customdata[1]}<br>genre=%{customdata[2]}<extra></extra>",
         "legendgroup": "Pure Bathing Culture",
         "marker": {
          "color": "#FF6692",
          "symbol": "circle"
         },
         "mode": "markers",
         "name": "Pure Bathing Culture",
         "orientation": "v",
         "showlegend": true,
         "type": "scatter",
         "x": [
          -0.008952695604197418,
          0.016214822751128333,
          0.08583636218296166
         ],
         "xaxis": "x",
         "y": [
          -0.07111715196943788,
          0.05913461550687983,
          -0.12564062113709207
         ],
         "yaxis": "y"
        },
        {
         "alignmentgroup": "True",
         "customdata": [
          [
           "Pure Bathing Culture",
           "Moon Tides",
           "chillwave"
          ],
          [
           "Pure Bathing Culture",
           "Night Pass",
           "chillwave"
          ],
          [
           "Pure Bathing Culture",
           "Pray for Rain",
           "chillwave"
          ]
         ],
         "hovertemplate": "artist=%{customdata[0]}<br>PC0=%{x}<br>album_title=%{customdata[1]}<br>genre=%{customdata[2]}<extra></extra>",
         "legendgroup": "Pure Bathing Culture",
         "marker": {
          "color": "#FF6692",
          "symbol": "circle"
         },
         "name": "Pure Bathing Culture",
         "notched": true,
         "offsetgroup": "Pure Bathing Culture",
         "showlegend": false,
         "type": "box",
         "x": [
          -0.008952695604197418,
          0.016214822751128333,
          0.08583636218296166
         ],
         "xaxis": "x3",
         "yaxis": "y3"
        },
        {
         "alignmentgroup": "True",
         "customdata": [
          [
           "Pure Bathing Culture",
           "Moon Tides",
           "chillwave"
          ],
          [
           "Pure Bathing Culture",
           "Night Pass",
           "chillwave"
          ],
          [
           "Pure Bathing Culture",
           "Pray for Rain",
           "chillwave"
          ]
         ],
         "hovertemplate": "artist=%{customdata[0]}<br>PC1=%{y}<br>album_title=%{customdata[1]}<br>genre=%{customdata[2]}<extra></extra>",
         "legendgroup": "Pure Bathing Culture",
         "marker": {
          "color": "#FF6692",
          "symbol": "circle"
         },
         "name": "Pure Bathing Culture",
         "notched": true,
         "offsetgroup": "Pure Bathing Culture",
         "showlegend": false,
         "type": "box",
         "xaxis": "x2",
         "y": [
          -0.07111715196943788,
          0.05913461550687983,
          -0.12564062113709207
         ],
         "yaxis": "y2"
        },
        {
         "customdata": [
          [
           "Holychild",
           "The Shape of Brat Pop to Come",
           "indie poptimism"
          ],
          [
           "Holychild",
           "The Theatrical Death of Julie Delicious",
           "indie poptimism"
          ]
         ],
         "hovertemplate": "artist=%{customdata[0]}<br>PC0=%{x}<br>PC1=%{y}<br>album_title=%{customdata[1]}<br>genre=%{customdata[2]}<extra></extra>",
         "legendgroup": "Holychild",
         "marker": {
          "color": "#B6E880",
          "symbol": "circle"
         },
         "mode": "markers",
         "name": "Holychild",
         "orientation": "v",
         "showlegend": true,
         "type": "scatter",
         "x": [
          0.3137771971825347,
          0.16262345132397016
         ],
         "xaxis": "x",
         "y": [
          -0.09232453025104906,
          -0.16248169265893134
         ],
         "yaxis": "y"
        },
        {
         "alignmentgroup": "True",
         "customdata": [
          [
           "Holychild",
           "The Shape of Brat Pop to Come",
           "indie poptimism"
          ],
          [
           "Holychild",
           "The Theatrical Death of Julie Delicious",
           "indie poptimism"
          ]
         ],
         "hovertemplate": "artist=%{customdata[0]}<br>PC0=%{x}<br>album_title=%{customdata[1]}<br>genre=%{customdata[2]}<extra></extra>",
         "legendgroup": "Holychild",
         "marker": {
          "color": "#B6E880",
          "symbol": "circle"
         },
         "name": "Holychild",
         "notched": true,
         "offsetgroup": "Holychild",
         "showlegend": false,
         "type": "box",
         "x": [
          0.3137771971825347,
          0.16262345132397016
         ],
         "xaxis": "x3",
         "yaxis": "y3"
        },
        {
         "alignmentgroup": "True",
         "customdata": [
          [
           "Holychild",
           "The Shape of Brat Pop to Come",
           "indie poptimism"
          ],
          [
           "Holychild",
           "The Theatrical Death of Julie Delicious",
           "indie poptimism"
          ]
         ],
         "hovertemplate": "artist=%{customdata[0]}<br>PC1=%{y}<br>album_title=%{customdata[1]}<br>genre=%{customdata[2]}<extra></extra>",
         "legendgroup": "Holychild",
         "marker": {
          "color": "#B6E880",
          "symbol": "circle"
         },
         "name": "Holychild",
         "notched": true,
         "offsetgroup": "Holychild",
         "showlegend": false,
         "type": "box",
         "xaxis": "x2",
         "y": [
          -0.09232453025104906,
          -0.16248169265893134
         ],
         "yaxis": "y2"
        }
       ],
       "layout": {
        "height": 800,
        "legend": {
         "title": {
          "text": "artist"
         },
         "tracegroupgap": 0
        },
        "margin": {
         "t": 60
        },
        "template": {
         "data": {
          "bar": [
           {
            "error_x": {
             "color": "#2a3f5f"
            },
            "error_y": {
             "color": "#2a3f5f"
            },
            "marker": {
             "line": {
              "color": "#E5ECF6",
              "width": 0.5
             },
             "pattern": {
              "fillmode": "overlay",
              "size": 10,
              "solidity": 0.2
             }
            },
            "type": "bar"
           }
          ],
          "barpolar": [
           {
            "marker": {
             "line": {
              "color": "#E5ECF6",
              "width": 0.5
             },
             "pattern": {
              "fillmode": "overlay",
              "size": 10,
              "solidity": 0.2
             }
            },
            "type": "barpolar"
           }
          ],
          "carpet": [
           {
            "aaxis": {
             "endlinecolor": "#2a3f5f",
             "gridcolor": "white",
             "linecolor": "white",
             "minorgridcolor": "white",
             "startlinecolor": "#2a3f5f"
            },
            "baxis": {
             "endlinecolor": "#2a3f5f",
             "gridcolor": "white",
             "linecolor": "white",
             "minorgridcolor": "white",
             "startlinecolor": "#2a3f5f"
            },
            "type": "carpet"
           }
          ],
          "choropleth": [
           {
            "colorbar": {
             "outlinewidth": 0,
             "ticks": ""
            },
            "type": "choropleth"
           }
          ],
          "contour": [
           {
            "colorbar": {
             "outlinewidth": 0,
             "ticks": ""
            },
            "colorscale": [
             [
              0,
              "#0d0887"
             ],
             [
              0.1111111111111111,
              "#46039f"
             ],
             [
              0.2222222222222222,
              "#7201a8"
             ],
             [
              0.3333333333333333,
              "#9c179e"
             ],
             [
              0.4444444444444444,
              "#bd3786"
             ],
             [
              0.5555555555555556,
              "#d8576b"
             ],
             [
              0.6666666666666666,
              "#ed7953"
             ],
             [
              0.7777777777777778,
              "#fb9f3a"
             ],
             [
              0.8888888888888888,
              "#fdca26"
             ],
             [
              1,
              "#f0f921"
             ]
            ],
            "type": "contour"
           }
          ],
          "contourcarpet": [
           {
            "colorbar": {
             "outlinewidth": 0,
             "ticks": ""
            },
            "type": "contourcarpet"
           }
          ],
          "heatmap": [
           {
            "colorbar": {
             "outlinewidth": 0,
             "ticks": ""
            },
            "colorscale": [
             [
              0,
              "#0d0887"
             ],
             [
              0.1111111111111111,
              "#46039f"
             ],
             [
              0.2222222222222222,
              "#7201a8"
             ],
             [
              0.3333333333333333,
              "#9c179e"
             ],
             [
              0.4444444444444444,
              "#bd3786"
             ],
             [
              0.5555555555555556,
              "#d8576b"
             ],
             [
              0.6666666666666666,
              "#ed7953"
             ],
             [
              0.7777777777777778,
              "#fb9f3a"
             ],
             [
              0.8888888888888888,
              "#fdca26"
             ],
             [
              1,
              "#f0f921"
             ]
            ],
            "type": "heatmap"
           }
          ],
          "heatmapgl": [
           {
            "colorbar": {
             "outlinewidth": 0,
             "ticks": ""
            },
            "colorscale": [
             [
              0,
              "#0d0887"
             ],
             [
              0.1111111111111111,
              "#46039f"
             ],
             [
              0.2222222222222222,
              "#7201a8"
             ],
             [
              0.3333333333333333,
              "#9c179e"
             ],
             [
              0.4444444444444444,
              "#bd3786"
             ],
             [
              0.5555555555555556,
              "#d8576b"
             ],
             [
              0.6666666666666666,
              "#ed7953"
             ],
             [
              0.7777777777777778,
              "#fb9f3a"
             ],
             [
              0.8888888888888888,
              "#fdca26"
             ],
             [
              1,
              "#f0f921"
             ]
            ],
            "type": "heatmapgl"
           }
          ],
          "histogram": [
           {
            "marker": {
             "pattern": {
              "fillmode": "overlay",
              "size": 10,
              "solidity": 0.2
             }
            },
            "type": "histogram"
           }
          ],
          "histogram2d": [
           {
            "colorbar": {
             "outlinewidth": 0,
             "ticks": ""
            },
            "colorscale": [
             [
              0,
              "#0d0887"
             ],
             [
              0.1111111111111111,
              "#46039f"
             ],
             [
              0.2222222222222222,
              "#7201a8"
             ],
             [
              0.3333333333333333,
              "#9c179e"
             ],
             [
              0.4444444444444444,
              "#bd3786"
             ],
             [
              0.5555555555555556,
              "#d8576b"
             ],
             [
              0.6666666666666666,
              "#ed7953"
             ],
             [
              0.7777777777777778,
              "#fb9f3a"
             ],
             [
              0.8888888888888888,
              "#fdca26"
             ],
             [
              1,
              "#f0f921"
             ]
            ],
            "type": "histogram2d"
           }
          ],
          "histogram2dcontour": [
           {
            "colorbar": {
             "outlinewidth": 0,
             "ticks": ""
            },
            "colorscale": [
             [
              0,
              "#0d0887"
             ],
             [
              0.1111111111111111,
              "#46039f"
             ],
             [
              0.2222222222222222,
              "#7201a8"
             ],
             [
              0.3333333333333333,
              "#9c179e"
             ],
             [
              0.4444444444444444,
              "#bd3786"
             ],
             [
              0.5555555555555556,
              "#d8576b"
             ],
             [
              0.6666666666666666,
              "#ed7953"
             ],
             [
              0.7777777777777778,
              "#fb9f3a"
             ],
             [
              0.8888888888888888,
              "#fdca26"
             ],
             [
              1,
              "#f0f921"
             ]
            ],
            "type": "histogram2dcontour"
           }
          ],
          "mesh3d": [
           {
            "colorbar": {
             "outlinewidth": 0,
             "ticks": ""
            },
            "type": "mesh3d"
           }
          ],
          "parcoords": [
           {
            "line": {
             "colorbar": {
              "outlinewidth": 0,
              "ticks": ""
             }
            },
            "type": "parcoords"
           }
          ],
          "pie": [
           {
            "automargin": true,
            "type": "pie"
           }
          ],
          "scatter": [
           {
            "fillpattern": {
             "fillmode": "overlay",
             "size": 10,
             "solidity": 0.2
            },
            "type": "scatter"
           }
          ],
          "scatter3d": [
           {
            "line": {
             "colorbar": {
              "outlinewidth": 0,
              "ticks": ""
             }
            },
            "marker": {
             "colorbar": {
              "outlinewidth": 0,
              "ticks": ""
             }
            },
            "type": "scatter3d"
           }
          ],
          "scattercarpet": [
           {
            "marker": {
             "colorbar": {
              "outlinewidth": 0,
              "ticks": ""
             }
            },
            "type": "scattercarpet"
           }
          ],
          "scattergeo": [
           {
            "marker": {
             "colorbar": {
              "outlinewidth": 0,
              "ticks": ""
             }
            },
            "type": "scattergeo"
           }
          ],
          "scattergl": [
           {
            "marker": {
             "colorbar": {
              "outlinewidth": 0,
              "ticks": ""
             }
            },
            "type": "scattergl"
           }
          ],
          "scattermapbox": [
           {
            "marker": {
             "colorbar": {
              "outlinewidth": 0,
              "ticks": ""
             }
            },
            "type": "scattermapbox"
           }
          ],
          "scatterpolar": [
           {
            "marker": {
             "colorbar": {
              "outlinewidth": 0,
              "ticks": ""
             }
            },
            "type": "scatterpolar"
           }
          ],
          "scatterpolargl": [
           {
            "marker": {
             "colorbar": {
              "outlinewidth": 0,
              "ticks": ""
             }
            },
            "type": "scatterpolargl"
           }
          ],
          "scatterternary": [
           {
            "marker": {
             "colorbar": {
              "outlinewidth": 0,
              "ticks": ""
             }
            },
            "type": "scatterternary"
           }
          ],
          "surface": [
           {
            "colorbar": {
             "outlinewidth": 0,
             "ticks": ""
            },
            "colorscale": [
             [
              0,
              "#0d0887"
             ],
             [
              0.1111111111111111,
              "#46039f"
             ],
             [
              0.2222222222222222,
              "#7201a8"
             ],
             [
              0.3333333333333333,
              "#9c179e"
             ],
             [
              0.4444444444444444,
              "#bd3786"
             ],
             [
              0.5555555555555556,
              "#d8576b"
             ],
             [
              0.6666666666666666,
              "#ed7953"
             ],
             [
              0.7777777777777778,
              "#fb9f3a"
             ],
             [
              0.8888888888888888,
              "#fdca26"
             ],
             [
              1,
              "#f0f921"
             ]
            ],
            "type": "surface"
           }
          ],
          "table": [
           {
            "cells": {
             "fill": {
              "color": "#EBF0F8"
             },
             "line": {
              "color": "white"
             }
            },
            "header": {
             "fill": {
              "color": "#C8D4E3"
             },
             "line": {
              "color": "white"
             }
            },
            "type": "table"
           }
          ]
         },
         "layout": {
          "annotationdefaults": {
           "arrowcolor": "#2a3f5f",
           "arrowhead": 0,
           "arrowwidth": 1
          },
          "autotypenumbers": "strict",
          "coloraxis": {
           "colorbar": {
            "outlinewidth": 0,
            "ticks": ""
           }
          },
          "colorscale": {
           "diverging": [
            [
             0,
             "#8e0152"
            ],
            [
             0.1,
             "#c51b7d"
            ],
            [
             0.2,
             "#de77ae"
            ],
            [
             0.3,
             "#f1b6da"
            ],
            [
             0.4,
             "#fde0ef"
            ],
            [
             0.5,
             "#f7f7f7"
            ],
            [
             0.6,
             "#e6f5d0"
            ],
            [
             0.7,
             "#b8e186"
            ],
            [
             0.8,
             "#7fbc41"
            ],
            [
             0.9,
             "#4d9221"
            ],
            [
             1,
             "#276419"
            ]
           ],
           "sequential": [
            [
             0,
             "#0d0887"
            ],
            [
             0.1111111111111111,
             "#46039f"
            ],
            [
             0.2222222222222222,
             "#7201a8"
            ],
            [
             0.3333333333333333,
             "#9c179e"
            ],
            [
             0.4444444444444444,
             "#bd3786"
            ],
            [
             0.5555555555555556,
             "#d8576b"
            ],
            [
             0.6666666666666666,
             "#ed7953"
            ],
            [
             0.7777777777777778,
             "#fb9f3a"
            ],
            [
             0.8888888888888888,
             "#fdca26"
            ],
            [
             1,
             "#f0f921"
            ]
           ],
           "sequentialminus": [
            [
             0,
             "#0d0887"
            ],
            [
             0.1111111111111111,
             "#46039f"
            ],
            [
             0.2222222222222222,
             "#7201a8"
            ],
            [
             0.3333333333333333,
             "#9c179e"
            ],
            [
             0.4444444444444444,
             "#bd3786"
            ],
            [
             0.5555555555555556,
             "#d8576b"
            ],
            [
             0.6666666666666666,
             "#ed7953"
            ],
            [
             0.7777777777777778,
             "#fb9f3a"
            ],
            [
             0.8888888888888888,
             "#fdca26"
            ],
            [
             1,
             "#f0f921"
            ]
           ]
          },
          "colorway": [
           "#636efa",
           "#EF553B",
           "#00cc96",
           "#ab63fa",
           "#FFA15A",
           "#19d3f3",
           "#FF6692",
           "#B6E880",
           "#FF97FF",
           "#FECB52"
          ],
          "font": {
           "color": "#2a3f5f"
          },
          "geo": {
           "bgcolor": "white",
           "lakecolor": "white",
           "landcolor": "#E5ECF6",
           "showlakes": true,
           "showland": true,
           "subunitcolor": "white"
          },
          "hoverlabel": {
           "align": "left"
          },
          "hovermode": "closest",
          "mapbox": {
           "style": "light"
          },
          "paper_bgcolor": "white",
          "plot_bgcolor": "#E5ECF6",
          "polar": {
           "angularaxis": {
            "gridcolor": "white",
            "linecolor": "white",
            "ticks": ""
           },
           "bgcolor": "#E5ECF6",
           "radialaxis": {
            "gridcolor": "white",
            "linecolor": "white",
            "ticks": ""
           }
          },
          "scene": {
           "xaxis": {
            "backgroundcolor": "#E5ECF6",
            "gridcolor": "white",
            "gridwidth": 2,
            "linecolor": "white",
            "showbackground": true,
            "ticks": "",
            "zerolinecolor": "white"
           },
           "yaxis": {
            "backgroundcolor": "#E5ECF6",
            "gridcolor": "white",
            "gridwidth": 2,
            "linecolor": "white",
            "showbackground": true,
            "ticks": "",
            "zerolinecolor": "white"
           },
           "zaxis": {
            "backgroundcolor": "#E5ECF6",
            "gridcolor": "white",
            "gridwidth": 2,
            "linecolor": "white",
            "showbackground": true,
            "ticks": "",
            "zerolinecolor": "white"
           }
          },
          "shapedefaults": {
           "line": {
            "color": "#2a3f5f"
           }
          },
          "ternary": {
           "aaxis": {
            "gridcolor": "white",
            "linecolor": "white",
            "ticks": ""
           },
           "baxis": {
            "gridcolor": "white",
            "linecolor": "white",
            "ticks": ""
           },
           "bgcolor": "#E5ECF6",
           "caxis": {
            "gridcolor": "white",
            "linecolor": "white",
            "ticks": ""
           }
          },
          "title": {
           "x": 0.05
          },
          "xaxis": {
           "automargin": true,
           "gridcolor": "white",
           "linecolor": "white",
           "ticks": "",
           "title": {
            "standoff": 15
           },
           "zerolinecolor": "white",
           "zerolinewidth": 2
          },
          "yaxis": {
           "automargin": true,
           "gridcolor": "white",
           "linecolor": "white",
           "ticks": "",
           "title": {
            "standoff": 15
           },
           "zerolinecolor": "white",
           "zerolinewidth": 2
          }
         }
        },
        "xaxis": {
         "anchor": "y",
         "domain": [
          0,
          0.7363
         ],
         "title": {
          "text": "PC0"
         }
        },
        "xaxis2": {
         "anchor": "y2",
         "domain": [
          0.7413,
          1
         ],
         "matches": "x2",
         "showgrid": false,
         "showline": false,
         "showticklabels": false,
         "ticks": ""
        },
        "xaxis3": {
         "anchor": "y3",
         "domain": [
          0,
          0.7363
         ],
         "matches": "x",
         "showgrid": true,
         "showticklabels": false
        },
        "xaxis4": {
         "anchor": "y4",
         "domain": [
          0.7413,
          1
         ],
         "matches": "x2",
         "showgrid": false,
         "showline": false,
         "showticklabels": false,
         "ticks": ""
        },
        "yaxis": {
         "anchor": "x",
         "domain": [
          0,
          0.7326
         ],
         "title": {
          "text": "PC1"
         }
        },
        "yaxis2": {
         "anchor": "x2",
         "domain": [
          0,
          0.7326
         ],
         "matches": "y",
         "showgrid": true,
         "showticklabels": false
        },
        "yaxis3": {
         "anchor": "x3",
         "domain": [
          0.7426,
          1
         ],
         "matches": "y3",
         "showgrid": false,
         "showline": false,
         "showticklabels": false,
         "ticks": ""
        },
        "yaxis4": {
         "anchor": "x4",
         "domain": [
          0.7426,
          1
         ],
         "matches": "y3",
         "showgrid": true,
         "showline": false,
         "showticklabels": false,
         "ticks": ""
        }
       }
      }
     },
     "metadata": {},
     "output_type": "display_data"
    }
   ],
   "source": [
    "vis_pcs(DCM, 0, 1, label='artist')"
   ]
  },
  {
   "cell_type": "code",
   "execution_count": 17,
   "metadata": {},
   "outputs": [
    {
     "data": {
      "application/vnd.plotly.v1+json": {
       "config": {
        "plotlyServerURL": "https://plot.ly"
       },
       "data": [
        {
         "hovertemplate": "max_pos=NN<br>PC0=%{x}<br>PC1=%{y}<br>i=%{marker.size}<br>term_str=%{text}<extra></extra>",
         "legendgroup": "NN",
         "marker": {
          "color": "#636efa",
          "size": [
           15.970338110343397,
           17.555300611064553,
           17.555300611064553,
           17.555300611064553,
           17.555300611064553,
           14.970338110343397,
           16.555300611064553,
           17.555300611064553,
           15.55530061106455,
           16.555300611064553,
           17.555300611064553,
           15.55530061106455,
           17.555300611064553,
           15.970338110343397,
           17.555300611064553,
           13.23337251617719,
           14.38537560962224,
           16.555300611064553,
           16.555300611064553,
           16.555300611064553,
           14.55530061106455,
           13.38537560962224,
           17.555300611064553,
           13.747945689006947,
           15.55530061106455,
           14.970338110343397,
           15.970338110343397,
           16.555300611064553,
           13.23337251617719,
           12.467837769814212,
           14.38537560962224,
           15.23337251617719,
           11.970338110343397,
           15.55530061106455,
           14.970338110343397,
           14.23337251617719,
           13.095868992427254,
           16.555300611064553,
           11.40555349155987,
           15.970338110343397,
           17.555300611064553,
           16.555300611064553,
           17.555300611064553,
           14.747945689006947,
           15.55530061106455,
           12.854860892923458,
           12.697319615936978,
           17.555300611064553,
           12.197748606446469,
           11.970338110343397,
           11.55530061106455,
           16.555300611064553,
           15.23337251617719,
           14.970338110343397,
           15.970338110343397,
           12.800413108901084,
           13.648410015456031,
           15.970338110343397,
           12.854860892923458,
           14.23337251617719,
           13.970338110343397,
           12.648410015456031,
           15.23337251617719,
           14.970338110343397,
           12.970338110343397,
           14.55530061106455,
           15.23337251617719,
           15.23337251617719,
           13.03173865500754,
           9.834201422357363,
           14.55530061106455,
           15.55530061106455,
           15.23337251617719,
           14.55530061106455,
           14.38537560962224,
           15.23337251617719,
           13.747945689006947,
           13.970338110343397,
           11.365476052184531,
           16.555300611064553,
           15.55530061106455,
           13.095868992427254,
           13.970338110343397,
           13.648410015456031,
           14.55530061106455,
           14.23337251617719,
           15.55530061106455,
           14.55530061106455,
           15.23337251617719,
           13.162983188285793,
           11.55530061106455,
           14.55530061106455,
           15.970338110343397,
           11.180261179717624,
           14.095868992427254,
           13.55530061106455,
           14.970338110343397,
           13.467837769814212,
           13.970338110343397,
           14.095868992427254,
           13.095868992427254,
           12.800413108901084,
           14.38537560962224,
           14.970338110343397,
           14.38537560962224,
           13.747945689006947,
           13.55530061106455,
           14.747945689006947,
           10.446776154286384,
           14.095868992427254,
           11.162983188285793,
           13.55530061106455,
           13.970338110343397,
           13.095868992427254,
           16.555300611064553,
           14.747945689006947,
           11.773940897539893,
           13.970338110343397,
           13.648410015456031,
           11.800413108901084,
           14.095868992427254,
           13.307373097620966,
           14.38537560962224,
           13.38537560962224,
           14.970338110343397,
           11.800413108901084,
           14.23337251617719,
           13.03173865500754,
           14.747945689006947,
           14.23337251617719,
           14.747945689006947,
           11.288514070369647,
           14.55530061106455,
           12.648410015456031,
           17.555300611064553,
           13.467837769814212,
           12.269898392202302,
           12.747945689006947,
           14.55530061106455,
           12.345847245435602,
           17.555300611064553,
           13.970338110343397,
           11.365476052184531,
           11.624563273501664,
           13.38537560962224,
           15.970338110343397,
           14.095868992427254,
           12.970338110343397,
           14.747945689006947,
           13.747945689006947,
           14.095868992427254,
           15.55530061106455,
           15.970338110343397,
           11.970338110343397,
           14.55530061106455,
           13.03173865500754,
           15.23337251617719,
           13.467837769814212,
           13.854860892923458,
           12.911444421289826,
           12.747945689006947,
           10.532932798036097,
           14.23337251617719,
           14.747945689006947,
           14.55530061106455,
           15.55530061106455,
           12.648410015456031,
           13.854860892923458,
           10.911444421289826,
           10.48921142060678,
           13.307373097620966,
           9.882875269093056,
           13.648410015456031,
           12.970338110343397,
           11.426017594119584,
           14.55530061106455,
           13.23337251617719,
           13.38537560962224,
           13.854860892923458,
           14.095868992427254,
           13.307373097620966,
           13.38537560962224,
           13.23337251617719,
           13.648410015456031,
           13.03173865500754,
           13.854860892923458,
           15.23337251617719,
           13.747945689006947,
           15.23337251617719,
           10.925943990984942,
           14.23337251617719,
           10.566615924292384,
           11.601104300677676,
           11.882875269093056,
           13.55530061106455,
           12.269898392202302,
           12.970338110343397,
           14.38537560962224,
           16.555300611064553,
           13.307373097620966,
           12.162983188285793,
           12.197748606446469,
           14.747945689006947,
           17.555300611064553,
           14.747945689006947,
           10.38537560962224,
           12.38537560962224,
           12.747945689006947,
           12.970338110343397,
           14.38537560962224,
           11.01614179995652,
           13.095868992427254,
           11.063447514734875,
           9.709810560120175,
           15.55530061106455,
           11.112357115215822,
           10.601104300677676,
           10.345847245435602,
           12.747945689006947,
           13.648410015456031,
           12.510906491706098,
           11.000711759386911,
           13.307373097620966,
           10.985445002733604,
           13.854860892923458,
           13.747945689006947,
           11.345847245435602,
           13.38537560962224,
           13.854860892923458,
           12.747945689006947,
           14.23337251617719,
           14.747945689006947,
           11.510906491706098,
           12.197748606446469,
           12.129035856362451,
           10.955387768877424,
           15.23337251617719,
           15.55530061106455,
           11.773940897539893,
           12.162983188285793,
           12.129035856362451,
           12.23337251617719,
           11.773940897539893,
           10.532932798036097,
           13.307373097620966,
           10.215450608179928,
           14.970338110343397,
           9.606933379479871,
           13.162983188285793,
           12.467837769814212,
           11.40555349155987,
           10.940590766949343,
           15.970338110343397,
           13.162983188285793,
           14.970338110343397,
           13.970338110343397,
           12.601104300677676,
           13.55530061106455,
           9.861813653565228,
           12.03173865500754,
           11.288514070369647,
           16.555300611064553,
           12.970338110343397,
           13.747945689006947,
           14.38537560962224,
           14.095868992427254,
           12.38537560962224,
           11.648410015456031,
           13.23337251617719,
           13.648410015456031,
           12.697319615936978,
           12.23337251617719,
           12.426017594119584,
           10.2979127683719,
           9.820590990838712,
           9.45201280265253,
           13.467837769814212,
           11.03173865500754,
           12.03173865500754,
           15.970338110343397,
           13.854860892923458,
           9.834201422357363,
           11.882875269093056,
           13.467837769814212,
           7.651418765328371,
           11.911444421289826,
           13.55530061106455,
           16.555300611064553,
           15.970338110343397,
           10.224383732949931,
           12.426017594119584,
           13.854860892923458,
           9.933248791608175,
           10.72241059689981,
           13.38537560962224,
           12.345847245435602,
           12.23337251617719,
           11.510906491706098,
           11.578020687564637,
           12.697319615936978,
           11.063447514734875,
           13.648410015456031,
           9.441558445015362,
           11.67265756170271,
           9.410642368232669,
           12.911444421289826,
           12.129035856362451,
           13.854860892923458,
           15.970338110343397,
           17.555300611064553,
           14.23337251617719,
           11.970338110343397,
           13.38537560962224,
           14.970338110343397,
           11.747945689006947,
           11.940590766949343,
           12.697319615936978,
           10.578020687564637,
           12.854860892923458,
           13.55530061106455,
           11.063447514734875,
           13.03173865500754,
           17.555300611064553,
           11.510906491706098,
           11.970338110343397,
           11.940590766949343,
           16.555300611064553,
           12.095868992427254,
           13.467837769814212,
           12.55530061106455,
           12.467837769814212,
           11.854860892923458,
           15.970338110343397,
           12.911444421289826,
           13.095868992427254,
           10.813833624663404,
           11.467837769814212,
           14.095868992427254,
           11.648410015456031,
           13.854860892923458,
           15.970338110343397,
           12.800413108901084,
           11.215450608179928,
           17.555300611064553,
           13.03173865500754,
           12.510906491706098,
           10.55530061106455,
           12.648410015456031,
           12.03173865500754,
           12.800413108901084,
           10.648410015456031,
           12.911444421289826,
           11.345847245435602,
           12.38537560962224,
           13.970338110343397,
           10.000711759386911,
           11.624563273501664,
           11.129035856362451,
           12.269898392202302,
           11.882875269093056,
           15.23337251617719,
           12.467837769814212,
           11.446776154286384,
           13.648410015456031,
           12.000711759386911,
           11.72241059689981,
           15.23337251617719,
           15.23337251617719,
           12.095868992427254,
           13.854860892923458,
           12.197748606446469,
           10.095868992427254,
           14.747945689006947,
           13.162983188285793,
           15.55530061106455,
           11.01614179995652,
           9.754400711144246,
           10.985445002733604,
           8.093821163778395,
           11.55530061106455,
           12.307373097620966,
           11.079567180098152,
           13.747945689006947,
           11.14590967492685,
           12.38537560962224,
           11.32648192056867,
           13.648410015456031,
           12.55530061106455,
           13.162983188285793,
           12.601104300677676,
           11.601104300677676,
           11.426017594119584,
           8.897089128312755,
           13.467837769814212,
           14.095868992427254,
           12.345847245435602,
           12.426017594119584,
           11.03173865500754,
           10.071484833800294,
           13.095868992427254,
           13.55530061106455,
           12.095868992427254
          ],
          "sizemode": "area",
          "sizeref": 0.04388825152766138,
          "symbol": "circle"
         },
         "mode": "markers+text",
         "name": "NN",
         "orientation": "v",
         "showlegend": true,
         "text": [
          "60s",
          "aah",
          "aback",
          "ability",
          "aboard",
          "absence",
          "absentee",
          "abundance",
          "abuse",
          "accelerating",
          "acceptance",
          "accident",
          "accumulation",
          "ache",
          "acid",
          "act",
          "action",
          "actor",
          "actors",
          "actress",
          "ad",
          "ada",
          "adultery",
          "advice",
          "aeroplane",
          "affection",
          "affinity",
          "afterglow",
          "afternoon",
          "age",
          "ahahahah",
          "ahooh",
          "air",
          "ajar",
          "al",
          "alarm",
          "alien",
          "alienation",
          "alright",
          "altar",
          "altercation",
          "alti",
          "ambitiousness",
          "ancient",
          "android",
          "angel",
          "answer",
          "antichristening",
          "anybody",
          "anyone",
          "anything",
          "aon",
          "apartment",
          "apple",
          "arisin",
          "arm",
          "art",
          "ashtray",
          "asleep",
          "ass",
          "astronauts",
          "attention",
          "attraction",
          "avenue",
          "awake",
          "awesome",
          "axe",
          "axis",
          "babe",
          "baby",
          "backbone",
          "background",
          "backyard",
          "bag",
          "bait",
          "balance",
          "ball",
          "balloon",
          "bam",
          "bamchikabamchikaboomboomboom",
          "banana",
          "band",
          "bar",
          "basement",
          "bath",
          "battle",
          "bay",
          "beach",
          "beacon",
          "beast",
          "beat",
          "beauty",
          "beckoning",
          "bed",
          "bedroom",
          "beginning",
          "bein",
          "believer",
          "believing",
          "bell",
          "bend",
          "bird",
          "birth",
          "birthday",
          "bit",
          "bitches",
          "blade",
          "block",
          "blood",
          "bloom",
          "body",
          "bone",
          "book",
          "bottom",
          "bourgeoisie",
          "bow",
          "boy",
          "brand",
          "breakthru",
          "breath",
          "breeze",
          "brother",
          "bubblegum",
          "building",
          "bulletproof",
          "bury",
          "butterfly",
          "bye",
          "cage",
          "cake",
          "camera",
          "car",
          "cartilage",
          "case",
          "cd",
          "ceiling",
          "chance",
          "chances",
          "chase",
          "child",
          "chirpchirpchirpchirping",
          "choice",
          "city",
          "citys",
          "clouds",
          "collection",
          "communication",
          "company",
          "competition",
          "confusion",
          "conqueror",
          "consciousness",
          "consequence",
          "control",
          "conversation",
          "corner",
          "cost",
          "count",
          "course",
          "crime",
          "cross",
          "cry",
          "culture",
          "cupboard",
          "dadadadada",
          "dadadadadada",
          "daddys",
          "damn",
          "dance",
          "dark",
          "darkness",
          "day",
          "deal",
          "dear",
          "death",
          "deliveriveriverance",
          "denial",
          "depression",
          "destruction",
          "devotion",
          "difference",
          "dirt",
          "dirty",
          "discipline",
          "discovery",
          "distance",
          "divided",
          "dodododo",
          "doomscroller",
          "door",
          "downtown",
          "dream",
          "dreamt",
          "drop",
          "drown",
          "duh",
          "duhduh",
          "dumbstruck",
          "dumdumdumdumdum",
          "dust",
          "earth",
          "edge",
          "eh",
          "electricaluhhh",
          "emptiness",
          "end",
          "energy",
          "escape",
          "eternity",
          "evening",
          "everybody",
          "everybodys",
          "everyone",
          "everything",
          "everythings",
          "eye",
          "face",
          "fall",
          "family",
          "farther",
          "fault",
          "feeling",
          "fever",
          "fire",
          "fit",
          "flame",
          "floor",
          "fo",
          "fog",
          "fool",
          "forgiveness",
          "formentera",
          "friend",
          "front",
          "fun",
          "girl",
          "gogogogodowngogogogogo",
          "gogogogodowngogogogogogo",
          "ground",
          "gun",
          "ha",
          "hair",
          "half",
          "hand",
          "harder",
          "head",
          "headshrinkers",
          "heart",
          "heat",
          "heaven",
          "hell",
          "hes",
          "hid",
          "history",
          "hmm",
          "ho",
          "hole",
          "holiday",
          "home",
          "honey",
          "hope",
          "hu",
          "ice",
          "je",
          "kaleidoscope",
          "key",
          "kid",
          "kind",
          "kitchen",
          "knife",
          "land",
          "laugh",
          "lead",
          "lie",
          "life",
          "light",
          "lightning",
          "line",
          "lit",
          "lo",
          "lock",
          "look",
          "lot",
          "loud",
          "love",
          "lover",
          "loving",
          "magnification",
          "makebelieving",
          "man",
          "matter",
          "meaning",
          "mind",
          "mine",
          "miracle",
          "mirror",
          "moment",
          "money",
          "morning",
          "mystery",
          "name",
          "needle",
          "night",
          "nobody",
          "nothing",
          "number",
          "ocean",
          "ok",
          "oohoohoohoohooh",
          "oohoohoohoohoohooh",
          "ow",
          "pain",
          "paper",
          "passionate",
          "past",
          "phone",
          "piece",
          "place",
          "plan",
          "position",
          "pow",
          "question",
          "r",
          "rain",
          "raindrops",
          "reason",
          "reconciliation",
          "rest",
          "rhythm",
          "ring",
          "river",
          "road",
          "roam",
          "rock",
          "romance",
          "room",
          "round",
          "ruin",
          "sacrilege",
          "satellite",
          "scatterbrain",
          "scream",
          "sea",
          "selfpreservation",
          "shade",
          "shit",
          "side",
          "silence",
          "silver",
          "sink",
          "sky",
          "somebody",
          "someone",
          "someones",
          "somethin",
          "something",
          "song",
          "soul",
          "space",
          "spinnin",
          "spoil",
          "star",
          "step",
          "stick",
          "stone",
          "street",
          "strike",
          "struggle",
          "sucker",
          "sugar",
          "summer",
          "sun",
          "surprised",
          "sympathy",
          "takatakatakatakatakin",
          "talk",
          "thats",
          "thing",
          "time",
          "today",
          "tongue",
          "tonight",
          "top",
          "touch",
          "town",
          "truth",
          "tu",
          "tv",
          "versus",
          "walkin",
          "wall",
          "war",
          "way",
          "wet",
          "whispering",
          "wind",
          "woman",
          "work",
          "world",
          "yes",
          "ym",
          "youth"
         ],
         "type": "scatter",
         "x": [
          0.0011607502724469698,
          -0.006225002985690377,
          0.0007917537363033994,
          -0.0012171059307453658,
          0.0027373098920162597,
          0.00460243497801327,
          0.005301229503209937,
          -0.0019786511189054806,
          0.00022778900428516852,
          0.004749713839017393,
          0.001092812972845636,
          0.013067038621472033,
          0.00785305311808155,
          0.016781888457722768,
          0.01308187402356576,
          0.01704247432992097,
          0.010226200569438959,
          0.004446356307762037,
          0.007242240510760511,
          0.000992892182923627,
          -0.05012194292668787,
          -0.030865206665621706,
          -0.002568682747149666,
          -0.027282406288031028,
          0.008054633161158925,
          0.005569473506117293,
          -0.004344340309215692,
          -0.005243410753143593,
          -0.08562599209811236,
          0.0945063621023913,
          0.03079602825352799,
          -0.007171930428881494,
          0.055374664933164126,
          0.026602957816071783,
          -0.030009816909769966,
          0.00415462445726493,
          0.043470568003316314,
          -0.000749044660734501,
          0.044803064794421796,
          -0.004012650007699238,
          0.007853053118081547,
          -0.010003272303256643,
          0.0010928129728456394,
          -0.009990851059250155,
          -0.004868423722983099,
          0.061386949948464754,
          0.037970887111673464,
          0.008829384938693471,
          -0.009447185032690928,
          0.0708489044101366,
          0.05955951263079507,
          -0.04328988687987198,
          0.001339943106689777,
          0.0704734952917231,
          -0.0007690096280010073,
          0.02620654076105674,
          0.006026413076442954,
          0.01032493612809957,
          0.017910465769129583,
          0.004539780228692869,
          -0.018354583628111064,
          0.008583281847772685,
          -0.0033746415427340962,
          -0.0036616543491257694,
          0.019936968689260853,
          -0.0038411473335626493,
          0.0004237067848776066,
          -0.01503810973072421,
          0.02240569812454168,
          0.08840199469814432,
          0.019115641186980642,
          0.010889362356190048,
          -0.0111443128185835,
          0.0031458988927184723,
          0.006270336153143399,
          0.005558082319815644,
          0.02968432012561744,
          0.0043052957496413,
          -0.11702825316997018,
          -0.004734152793999875,
          0.017695174273058733,
          -0.0038048169266094237,
          0.01856602578598358,
          0.0006567467207785878,
          0.028135780901576566,
          -0.019066400831325037,
          -0.014440895262796283,
          0.02221390973108618,
          0.007019471202258502,
          0.04869521061823111,
          -0.0006893738057312647,
          0.02342256514871286,
          -0.0037170539232817324,
          0.048195090467625955,
          0.02364351115572351,
          0.04636996314976364,
          -0.0015380192560020126,
          0.003439995515352802,
          0.038552163073118505,
          0.024727741457649173,
          0.038367781425418225,
          -0.011796898613518535,
          0.010802252329313013,
          -0.0024805355836887517,
          0.029978085033358606,
          0.028855088901911043,
          0.00037199359989435244,
          0.009939012074179535,
          0.06416399672124998,
          0.01903471119508666,
          0.11805361436428492,
          0.014051221751274033,
          0.013284360662374753,
          0.004264611616992805,
          0.0031202352944932846,
          -0.0018023825995222241,
          0.0617607355736742,
          -0.0022192342563885402,
          -0.029679766783582667,
          0.00956434782281568,
          -0.0004981058933960401,
          0.01748865648148298,
          0.016020535995347,
          0.03721947933354995,
          0.0084233654427102,
          -0.06540333164400321,
          0.03089868405312469,
          -0.0299007518157042,
          -0.0002926011577828791,
          0.010894974471219324,
          -0.010962109336682414,
          0.021984343091259056,
          -0.04980002388552296,
          -0.06593498668662191,
          -0.001435057423219022,
          0.047938951980636475,
          0.04995071906334182,
          0.00003764643160979939,
          0.0005546327063569791,
          0.04651051032241616,
          -0.007169137419904077,
          -0.01185864097639232,
          0.03800850340478551,
          -0.03926384090689262,
          0.035784575095345675,
          -0.0027617996357980506,
          -0.01203895824359214,
          0.010522995633651552,
          0.00764969080991952,
          0.03231075821658385,
          -0.02176516230796063,
          0.018709855996711506,
          -0.003115011565718681,
          -0.015319616897939557,
          0.028424449864658512,
          0.04748686956958737,
          0.010010726054955812,
          0.010376581610290519,
          -0.02587042624960212,
          0.06500541289011297,
          -0.0024905478975880287,
          0.1164076483663482,
          -0.0039422000643660315,
          0.02250208577246835,
          -0.010688049287057544,
          -0.0053440246435287695,
          -0.023776334552300903,
          0.05488052657300578,
          0.09098628544017846,
          0.059463007669248426,
          0.003291570810416075,
          0.04228144377415393,
          0.02334954366679144,
          0.06255890977125,
          0.027367442420167684,
          -0.0249458867757793,
          0.0030425763680140697,
          -0.09002945072930994,
          -0.030634380152797562,
          -0.013171831409487626,
          -0.00897622620045021,
          0.04340317745556249,
          0.022828507713583322,
          -0.021525861348285418,
          0.0010929732146685441,
          0.014398356564441953,
          -0.01922548106624123,
          -0.0312605736409837,
          -0.006166953281350415,
          0.09804892992244542,
          -0.004165484857874799,
          0.09366149446902865,
          -0.06173976670710734,
          0.06504984844348259,
          0.0165638554519854,
          -0.052104240274405626,
          -0.03847504213807229,
          -0.015432603332810848,
          -0.0047341527939998755,
          0.044782835286464574,
          0.029516352546149125,
          0.018271011568894924,
          -0.039733497826167787,
          -0.000207073088590592,
          0.007308108950033074,
          0.03217412785322566,
          -0.016416333355097786,
          0.03353599327650538,
          0.007425932067720336,
          0.011373829524193819,
          0.0013785362831068059,
          0.07026060696693583,
          0.06802401250731466,
          0.1375393796599354,
          0.016449659002133656,
          0.06581978530636029,
          0.04995718043193002,
          0.051580490893571466,
          0.0014097329211663074,
          0.05429461828157515,
          0.040320146918155136,
          0.09839403802477634,
          0.011785660828311862,
          0.0692446633136442,
          -0.01943484575190246,
          0.016605330836408354,
          0.09193977161372409,
          -0.06196551695844219,
          0.00214782256766329,
          0.009367739717654455,
          0.015109925533020955,
          -0.008633734593890592,
          0.07304382583853765,
          0.03176837630335337,
          0.09411440920004858,
          0.04904869505002215,
          -0.013108526882858988,
          -0.010486821506287184,
          0.016133627826383855,
          0.0729706845099026,
          -0.04932585857907952,
          0.03266577500592011,
          -0.0028982915960283047,
          0.09174333986034353,
          0.022521606259242165,
          0.04914692148909373,
          0.008423365442710202,
          0.05310325828701981,
          0.055886615564700405,
          0.012160698771196696,
          0.01320373332431708,
          0.17021035925597738,
          -0.02176689409369471,
          0.01980806534457033,
          0.0033108618274587153,
          0.03284771870419762,
          0.0350767731444912,
          0.009731408720455925,
          0.02623027506968444,
          0.048134426148190364,
          0.052208839672256,
          -0.0024371203723811633,
          0.01641497109676241,
          -0.026313065490460027,
          -0.028064122622751722,
          0.012189370559274201,
          0.0052472928563545755,
          0.015442316891756276,
          0.0193214690498813,
          0.018455491760240635,
          -0.01782066943367388,
          -0.009515093065983289,
          0.0324580764928497,
          0.16195322645374388,
          0.07248400268894663,
          0.03868054169109037,
          0.01602698256810027,
          0.016369948284453338,
          -0.037932777471324834,
          0.001381781527860075,
          0.0048244384630678015,
          0.02702203612234372,
          -0.0036078079551553964,
          0.02560207625653581,
          0.07199762004694595,
          -0.01755618440248844,
          0.029852506617671366,
          -0.0024667813125401655,
          0.023559159354244654,
          0.05274725698412259,
          0.0316664234272068,
          0.009436826530660886,
          0.05827646957873204,
          -0.014439462889417661,
          -0.03918534293071845,
          0.026700219303408643,
          0.08318746424461855,
          0.03854806724708954,
          0.04300315553248738,
          0.21238323830769903,
          0.07722388868749794,
          0.046572433859604766,
          0.03272367391720692,
          0.043875935290917475,
          0.08571976610042363,
          0.028312116556885782,
          -0.02586747901578023,
          -0.00967443978316833,
          -0.0011947431769014963,
          -0.005097210034806365,
          -0.016397538939405407,
          0.01645708589763495,
          0.04824678578889165,
          0.06572255566940352,
          0.0409720862982571,
          0.1071057519756507,
          0.013540649321045763,
          0.03530175054187325,
          0.010024115412550036,
          -0.00279928313534517,
          -0.10623767441597405,
          0.051404829608400336,
          -0.0015660156195260553,
          0.007715509572533254,
          -0.08543379744286082,
          0.09991916967229918,
          0.0021856259456912827,
          0.026182460415275655,
          -0.05097221333945348,
          -0.037927450594566516,
          0.054362150168615904,
          0.06550581274964756,
          -0.008061536051304581,
          0.04614523456964842,
          0.0320926612072349,
          0.09598248624908132,
          0.025559004220490636,
          0.00302566217846386,
          -0.08140633064040123,
          -0.007201578112464495,
          -0.006726620820991957,
          0.004077321938055429,
          0.07712597874938536,
          0.013081874023565759,
          0.009933999105370505,
          -0.01460461387299406,
          0.10285069538302156,
          0.0342403285986142,
          0.005284793770856733,
          0.036285583280421585,
          0.03541058942729401,
          0.010875377298172405,
          0.04683021476169413,
          0.07820723841226151,
          -0.0010313837984254732,
          0.051263746439686037,
          0.02415798111700237,
          0.04693031937498108,
          0.06803838427802884,
          -0.10104967687014023,
          0.0019136398056592346,
          0.03850678408617595,
          0.1895363780160762,
          0.00752312356931545,
          0.09259453936152923,
          0.05112236371306759,
          0.021622786514404406,
          -0.0014162727496648754,
          -0.06314252662163722,
          0.07155526871908426,
          0.011057963392469537,
          0.02012139411195061,
          0.014184696844617432,
          -0.01198180332938016,
          0.012658096583925483,
          0.010570239940007985,
          0.053739565932772335,
          0.05506406485726597,
          0.02336094521596633,
          0.008353725179314538,
          0.053739200540547476,
          0.051122669547165184,
          -0.00433335596281833,
          0.11129199128661216,
          0.04441204285597865,
          0.0037715763252278976,
          -0.03550614595499912,
          0.01963119453005768,
          -0.007020219262095599,
          -0.014740454709250148,
          0.05594306038372456,
          -0.012620720794694784,
          0.05145417080083167,
          0.03651472230536264,
          0.04945187040427459,
          0.032716175181880726,
          0.04034886066040093,
          0.06610654063972522,
          0.039480631288847996,
          -0.036561856978856146,
          -0.07041178880972289,
          -0.022420313638307585
         ],
         "xaxis": "x",
         "y": [
          0.0013499080939035084,
          0.0010437912608806423,
          -0.02250776654393078,
          -0.008059569413830306,
          -0.0037975801470626486,
          0.010850529349048073,
          -0.004832750747148423,
          0.0023272479408274482,
          -0.003409732422271272,
          0.0172368587931383,
          -0.004547069432712103,
          0.011594673786234466,
          0.004261109036999694,
          0.009386018477269914,
          -0.0007189051123905957,
          -0.03150389573382778,
          0.003461624947313514,
          0.0007814295336209072,
          0.0044334116679079685,
          0.007142468307305862,
          0.03346182463164169,
          0.015372096593394977,
          -0.001882438952517286,
          0.026500238349655047,
          -0.00385020690474356,
          0.0001594763877693489,
          0.00444908868553261,
          0.0004335547567170069,
          0.08031455593853629,
          -0.059408317321612635,
          0.05315331630236912,
          -0.005149231837408263,
          0.0644293225004827,
          0.031061115567498708,
          -0.005043043254043351,
          0.004152692883395832,
          0.07118125882391378,
          -0.0018770307461648122,
          -0.06903785151191397,
          -0.007156044994148863,
          0.004261109036999621,
          -0.001681014418014444,
          -0.004547069432712278,
          -0.0168854227338894,
          -0.03223827765532128,
          0.003582983850237346,
          0.018920253869542537,
          -0.022212104636876666,
          0.05183395261959519,
          -0.06894358211833859,
          -0.004110278105963756,
          0.027599985646838365,
          -0.0025039405640265907,
          0.04185869568336293,
          -0.00007511815530063864,
          0.034163219933467597,
          -0.017520433759714835,
          0.011016298399842344,
          0.006267155824417972,
          -0.005554502150274315,
          0.022003511030414143,
          -0.003345880957745211,
          0.005169197014185874,
          0.010365256380560645,
          -0.026469555622044203,
          0.00393534420191062,
          -0.0050117092982748124,
          0.02029544989068063,
          -0.055620685667808284,
          -0.01720628245374696,
          -0.025044738902416295,
          -0.01911019600809626,
          -0.007199343752985921,
          -0.0019893808299552705,
          -0.01206898172510219,
          -0.004616861034322765,
          -0.05431437933731586,
          0.056677463773282456,
          0.002871468885811404,
          -0.0021381144207574705,
          0.007675042136541996,
          -0.0037529385187906493,
          -0.0371188271252943,
          0.00045956614010451275,
          0.03238512037536317,
          0.03130457225587111,
          0.016281355386305388,
          0.027083328618944417,
          0.004610618642884456,
          0.03586570813389189,
          -0.02700076228292346,
          -0.005393404775166203,
          0.0026023975015369767,
          0.0001840811490772679,
          0.01344540616588014,
          0.06437433027876324,
          -0.00015023631060127676,
          -0.0652938650231171,
          0.019607629936314843,
          0.027271704913657744,
          0.019524354332587413,
          0.032551048636405205,
          -0.023358579737510335,
          -0.0028481870180824677,
          0.013912981723883486,
          0.009526672949027147,
          0.042667096155769996,
          0.0015634792624033183,
          0.009860499612224388,
          0.014912146290271103,
          0.07005864443128347,
          0.012545723435203613,
          -0.005654848383462429,
          -0.0620842975836103,
          0.004604581014917576,
          -0.06589486949987271,
          -0.03457339577419569,
          0.007933104967868072,
          0.03490871911241237,
          0.002023670415039751,
          0.010145854285466157,
          -0.045525698511503725,
          -0.0046791962367341644,
          0.0034721270299733786,
          0.005532742371461332,
          0.005894940940799875,
          0.019965266242153185,
          0.00800349671258353,
          -0.0030459102137096812,
          0.001543652994508316,
          0.006740419362248847,
          -0.048235719457772046,
          0.008350330087045253,
          -0.05752036215695901,
          -0.0002478138318448353,
          0.04794415757925287,
          -0.08480776797182753,
          0.014905235192788876,
          -0.0291375950449737,
          0.018991335530577427,
          0.0027908887961184763,
          0.017931223610700233,
          0.032294289484824705,
          -0.02783461738723152,
          0.01918380598062109,
          0.01483778594278817,
          -0.0010033762654416108,
          0.014093257888727732,
          -0.031829486028986054,
          0.006652808671973105,
          0.025599727349102427,
          -0.015148556073368813,
          -0.004765545955976384,
          -0.008039753042373374,
          0.0006623080030280021,
          -0.014330764849165454,
          0.007962834084914105,
          0.02444832830874528,
          -0.00822112238525382,
          -0.016172220667577134,
          -0.0217819831621472,
          0.06120309300348994,
          -0.01969458752484463,
          0.02313251362939184,
          -0.002831188087911838,
          -0.00141559404395592,
          -0.08523000603356086,
          -0.03178013702821392,
          -0.006354641680832247,
          -0.06774429669928149,
          -0.0002917640560273299,
          -0.015605484102066818,
          0.021577247738014976,
          -0.040997153806335895,
          -0.047604357664978704,
          -0.0018570200518750564,
          -0.30441777615234,
          -0.015129129762130055,
          0.012201198972648984,
          0.03555007679877138,
          -0.004586513185029629,
          0.02448032261893607,
          -0.020039063283691535,
          -0.0037172074776725336,
          0.06600067541869445,
          -0.014411150374806626,
          0.013477786470627712,
          -0.009602928640333037,
          0.006059301727293752,
          0.050661059722416336,
          -0.015803886498831573,
          0.03795750969693595,
          -0.0004078031257550749,
          -0.029606352655916376,
          -0.015947347768238536,
          -0.013802041928570156,
          0.000944044565198275,
          0.007686048296697489,
          -0.0021381144207574692,
          0.019633397872825857,
          0.03371222347518802,
          -0.06377393988622414,
          0.024376128049617467,
          0.01388026899740988,
          0.00931740844573961,
          -0.03662423164981385,
          0.06790549681485962,
          -0.047244508018360706,
          0.0021318947075135435,
          0.016279545156763622,
          0.06929274524264875,
          -0.08138322473080445,
          0.002917866528681638,
          0.007594503510692267,
          -0.002522454612252157,
          -0.02107685127330133,
          -0.04893625703708456,
          0.00608433745069008,
          0.02731594267353588,
          0.012086817547033855,
          -0.025432507867736074,
          0.006561437865763828,
          0.013438333035943663,
          0.031300080629402316,
          0.0225369063226964,
          0.004880794633881007,
          0.008590434223083766,
          -0.011671555100607415,
          0.006827680715756957,
          -0.060557879533910106,
          -0.005653235130068263,
          0.008483022418211241,
          0.051485566554409175,
          -0.012560895115398037,
          -0.04000358338468388,
          0.015145940108187955,
          0.0010838868917925116,
          0.0008671095134340186,
          -0.041583535655450275,
          -0.0728245562656447,
          -0.03956798720112989,
          -0.000797620755415039,
          -0.003375104779526815,
          0.024349571890333634,
          0.02915465150149279,
          0.0036450656760987354,
          0.005532742371461333,
          -0.04784444516792654,
          0.03718723298626324,
          -0.008662113299061691,
          -0.04242613830840657,
          -0.29610711980740884,
          0.015694404173745145,
          0.00811568801809214,
          0.009970231588569581,
          -0.04557096176475158,
          0.01175213611112503,
          0.006449327322024259,
          -0.014010733815019591,
          -0.018469585529083878,
          -0.143361001058706,
          -0.05577812647351245,
          -0.010587643436577572,
          -0.010705675423191367,
          -0.002089147558359432,
          -0.046442312592305184,
          0.008649103279175696,
          -0.004113438898508285,
          0.029484232831947326,
          0.012187275796378183,
          -0.04726807532946014,
          -0.04062671110929843,
          -0.011538490706311431,
          0.20997780349415654,
          0.0017242978174104363,
          0.017642118476972116,
          0.051493772693751265,
          -0.006877179181169463,
          0.020987317447952892,
          -0.004733658699856612,
          -0.004008050265748823,
          -0.017430662476522855,
          0.043043142436057114,
          0.040752762047397105,
          -0.014887725924514915,
          -0.009126272624359184,
          0.011019415364068004,
          0.002423720690917501,
          0.012783327110998877,
          -0.0009024935495238837,
          -0.10854938340778472,
          -0.028093319058180063,
          -0.0768237826832868,
          -0.019668696794885008,
          0.0005824225401165773,
          0.011321110594625462,
          0.13156255370749553,
          -0.03976426428991983,
          0.04160086790110376,
          0.2516203063427569,
          -0.014643554431194621,
          0.04079607823337615,
          0.0008724255665538789,
          0.04313269171978008,
          0.003497638097377483,
          -0.05660995211641001,
          0.0058645251434208505,
          -0.022718708221001305,
          -0.0007655231311638182,
          0.010617111524760461,
          -0.009419894752248109,
          -0.0012040845793676244,
          0.025781522158619573,
          0.013007866415302702,
          0.02551355275366574,
          -0.08310566686715005,
          -0.015389054353357523,
          -0.006753658030736307,
          0.04248493154911654,
          -0.0033812204535478892,
          0.05463926082245039,
          -0.010822988270436968,
          0.0009629170517498376,
          -0.004941088083798397,
          -0.010348467509688895,
          -0.012339661215186934,
          -0.009094138865424563,
          0.01022875832821643,
          0.020763517712928857,
          -0.01589148794472412,
          0.01409634957412402,
          -0.02500642908412641,
          0.003299074161408204,
          0.05595108857419088,
          -0.0755405529707719,
          0.07280384194511755,
          -0.16373181382179763,
          0.004171630821273701,
          0.005036955051189452,
          0.01656118045902653,
          -0.00041312609370811987,
          -0.003092057966457587,
          0.12011154925931768,
          -0.0007189051123906186,
          0.027189074771601297,
          -0.02246983574726597,
          -0.0033213496126127317,
          0.01224548781734066,
          -0.014852323855748004,
          -0.03376417537225102,
          0.03866237613531618,
          0.014435957970900517,
          -0.026970950956009057,
          -0.3469431459368141,
          0.008912538859614025,
          -0.029259155064969938,
          0.0035100686317972355,
          -0.06451622467629964,
          0.09011390778032055,
          0.022567502906841945,
          -0.007032220818655963,
          -0.011492648385326912,
          0.030983019554698028,
          -0.0048197404650567,
          0.06315568633056112,
          -0.023179109845778843,
          -0.019288376695551522,
          -0.0029428575389116767,
          -0.010903808601172776,
          0.05099703445753153,
          0.03805333427664989,
          -0.010261461626587424,
          0.0017148868854281022,
          -0.0029450804624844016,
          0.01224366649229329,
          0.00048608873254754825,
          -0.0053224244483245425,
          -0.00015940521779037953,
          -0.015413394917971996,
          0.03814235935245152,
          -0.03410880835707452,
          -0.03988505055002235,
          -0.0070901638801265775,
          0.002325876712457549,
          -0.005645334007946041,
          -0.03770004403251753,
          -0.016035858155681048,
          -0.039402783650505604,
          0.023681370300197055,
          0.008015716785864529,
          0.048119020475035315,
          -0.03331674278305417,
          -0.037118658854164294,
          0.021908213161064612,
          -0.0035082718440534247,
          0.02043101249598511,
          0.0498575149951505,
          -0.13928962552914093,
          0.009698077702033297,
          -0.0008674754236216393,
          -0.013307432786429964,
          0.01016186319970948
         ],
         "yaxis": "y"
        },
        {
         "alignmentgroup": "True",
         "hovertemplate": "max_pos=NN<br>PC0=%{x}<extra></extra>",
         "legendgroup": "NN",
         "marker": {
          "color": "#636efa",
          "symbol": "circle"
         },
         "name": "NN",
         "notched": true,
         "offsetgroup": "NN",
         "showlegend": false,
         "type": "box",
         "x": [
          0.0011607502724469698,
          -0.006225002985690377,
          0.0007917537363033994,
          -0.0012171059307453658,
          0.0027373098920162597,
          0.00460243497801327,
          0.005301229503209937,
          -0.0019786511189054806,
          0.00022778900428516852,
          0.004749713839017393,
          0.001092812972845636,
          0.013067038621472033,
          0.00785305311808155,
          0.016781888457722768,
          0.01308187402356576,
          0.01704247432992097,
          0.010226200569438959,
          0.004446356307762037,
          0.007242240510760511,
          0.000992892182923627,
          -0.05012194292668787,
          -0.030865206665621706,
          -0.002568682747149666,
          -0.027282406288031028,
          0.008054633161158925,
          0.005569473506117293,
          -0.004344340309215692,
          -0.005243410753143593,
          -0.08562599209811236,
          0.0945063621023913,
          0.03079602825352799,
          -0.007171930428881494,
          0.055374664933164126,
          0.026602957816071783,
          -0.030009816909769966,
          0.00415462445726493,
          0.043470568003316314,
          -0.000749044660734501,
          0.044803064794421796,
          -0.004012650007699238,
          0.007853053118081547,
          -0.010003272303256643,
          0.0010928129728456394,
          -0.009990851059250155,
          -0.004868423722983099,
          0.061386949948464754,
          0.037970887111673464,
          0.008829384938693471,
          -0.009447185032690928,
          0.0708489044101366,
          0.05955951263079507,
          -0.04328988687987198,
          0.001339943106689777,
          0.0704734952917231,
          -0.0007690096280010073,
          0.02620654076105674,
          0.006026413076442954,
          0.01032493612809957,
          0.017910465769129583,
          0.004539780228692869,
          -0.018354583628111064,
          0.008583281847772685,
          -0.0033746415427340962,
          -0.0036616543491257694,
          0.019936968689260853,
          -0.0038411473335626493,
          0.0004237067848776066,
          -0.01503810973072421,
          0.02240569812454168,
          0.08840199469814432,
          0.019115641186980642,
          0.010889362356190048,
          -0.0111443128185835,
          0.0031458988927184723,
          0.006270336153143399,
          0.005558082319815644,
          0.02968432012561744,
          0.0043052957496413,
          -0.11702825316997018,
          -0.004734152793999875,
          0.017695174273058733,
          -0.0038048169266094237,
          0.01856602578598358,
          0.0006567467207785878,
          0.028135780901576566,
          -0.019066400831325037,
          -0.014440895262796283,
          0.02221390973108618,
          0.007019471202258502,
          0.04869521061823111,
          -0.0006893738057312647,
          0.02342256514871286,
          -0.0037170539232817324,
          0.048195090467625955,
          0.02364351115572351,
          0.04636996314976364,
          -0.0015380192560020126,
          0.003439995515352802,
          0.038552163073118505,
          0.024727741457649173,
          0.038367781425418225,
          -0.011796898613518535,
          0.010802252329313013,
          -0.0024805355836887517,
          0.029978085033358606,
          0.028855088901911043,
          0.00037199359989435244,
          0.009939012074179535,
          0.06416399672124998,
          0.01903471119508666,
          0.11805361436428492,
          0.014051221751274033,
          0.013284360662374753,
          0.004264611616992805,
          0.0031202352944932846,
          -0.0018023825995222241,
          0.0617607355736742,
          -0.0022192342563885402,
          -0.029679766783582667,
          0.00956434782281568,
          -0.0004981058933960401,
          0.01748865648148298,
          0.016020535995347,
          0.03721947933354995,
          0.0084233654427102,
          -0.06540333164400321,
          0.03089868405312469,
          -0.0299007518157042,
          -0.0002926011577828791,
          0.010894974471219324,
          -0.010962109336682414,
          0.021984343091259056,
          -0.04980002388552296,
          -0.06593498668662191,
          -0.001435057423219022,
          0.047938951980636475,
          0.04995071906334182,
          0.00003764643160979939,
          0.0005546327063569791,
          0.04651051032241616,
          -0.007169137419904077,
          -0.01185864097639232,
          0.03800850340478551,
          -0.03926384090689262,
          0.035784575095345675,
          -0.0027617996357980506,
          -0.01203895824359214,
          0.010522995633651552,
          0.00764969080991952,
          0.03231075821658385,
          -0.02176516230796063,
          0.018709855996711506,
          -0.003115011565718681,
          -0.015319616897939557,
          0.028424449864658512,
          0.04748686956958737,
          0.010010726054955812,
          0.010376581610290519,
          -0.02587042624960212,
          0.06500541289011297,
          -0.0024905478975880287,
          0.1164076483663482,
          -0.0039422000643660315,
          0.02250208577246835,
          -0.010688049287057544,
          -0.0053440246435287695,
          -0.023776334552300903,
          0.05488052657300578,
          0.09098628544017846,
          0.059463007669248426,
          0.003291570810416075,
          0.04228144377415393,
          0.02334954366679144,
          0.06255890977125,
          0.027367442420167684,
          -0.0249458867757793,
          0.0030425763680140697,
          -0.09002945072930994,
          -0.030634380152797562,
          -0.013171831409487626,
          -0.00897622620045021,
          0.04340317745556249,
          0.022828507713583322,
          -0.021525861348285418,
          0.0010929732146685441,
          0.014398356564441953,
          -0.01922548106624123,
          -0.0312605736409837,
          -0.006166953281350415,
          0.09804892992244542,
          -0.004165484857874799,
          0.09366149446902865,
          -0.06173976670710734,
          0.06504984844348259,
          0.0165638554519854,
          -0.052104240274405626,
          -0.03847504213807229,
          -0.015432603332810848,
          -0.0047341527939998755,
          0.044782835286464574,
          0.029516352546149125,
          0.018271011568894924,
          -0.039733497826167787,
          -0.000207073088590592,
          0.007308108950033074,
          0.03217412785322566,
          -0.016416333355097786,
          0.03353599327650538,
          0.007425932067720336,
          0.011373829524193819,
          0.0013785362831068059,
          0.07026060696693583,
          0.06802401250731466,
          0.1375393796599354,
          0.016449659002133656,
          0.06581978530636029,
          0.04995718043193002,
          0.051580490893571466,
          0.0014097329211663074,
          0.05429461828157515,
          0.040320146918155136,
          0.09839403802477634,
          0.011785660828311862,
          0.0692446633136442,
          -0.01943484575190246,
          0.016605330836408354,
          0.09193977161372409,
          -0.06196551695844219,
          0.00214782256766329,
          0.009367739717654455,
          0.015109925533020955,
          -0.008633734593890592,
          0.07304382583853765,
          0.03176837630335337,
          0.09411440920004858,
          0.04904869505002215,
          -0.013108526882858988,
          -0.010486821506287184,
          0.016133627826383855,
          0.0729706845099026,
          -0.04932585857907952,
          0.03266577500592011,
          -0.0028982915960283047,
          0.09174333986034353,
          0.022521606259242165,
          0.04914692148909373,
          0.008423365442710202,
          0.05310325828701981,
          0.055886615564700405,
          0.012160698771196696,
          0.01320373332431708,
          0.17021035925597738,
          -0.02176689409369471,
          0.01980806534457033,
          0.0033108618274587153,
          0.03284771870419762,
          0.0350767731444912,
          0.009731408720455925,
          0.02623027506968444,
          0.048134426148190364,
          0.052208839672256,
          -0.0024371203723811633,
          0.01641497109676241,
          -0.026313065490460027,
          -0.028064122622751722,
          0.012189370559274201,
          0.0052472928563545755,
          0.015442316891756276,
          0.0193214690498813,
          0.018455491760240635,
          -0.01782066943367388,
          -0.009515093065983289,
          0.0324580764928497,
          0.16195322645374388,
          0.07248400268894663,
          0.03868054169109037,
          0.01602698256810027,
          0.016369948284453338,
          -0.037932777471324834,
          0.001381781527860075,
          0.0048244384630678015,
          0.02702203612234372,
          -0.0036078079551553964,
          0.02560207625653581,
          0.07199762004694595,
          -0.01755618440248844,
          0.029852506617671366,
          -0.0024667813125401655,
          0.023559159354244654,
          0.05274725698412259,
          0.0316664234272068,
          0.009436826530660886,
          0.05827646957873204,
          -0.014439462889417661,
          -0.03918534293071845,
          0.026700219303408643,
          0.08318746424461855,
          0.03854806724708954,
          0.04300315553248738,
          0.21238323830769903,
          0.07722388868749794,
          0.046572433859604766,
          0.03272367391720692,
          0.043875935290917475,
          0.08571976610042363,
          0.028312116556885782,
          -0.02586747901578023,
          -0.00967443978316833,
          -0.0011947431769014963,
          -0.005097210034806365,
          -0.016397538939405407,
          0.01645708589763495,
          0.04824678578889165,
          0.06572255566940352,
          0.0409720862982571,
          0.1071057519756507,
          0.013540649321045763,
          0.03530175054187325,
          0.010024115412550036,
          -0.00279928313534517,
          -0.10623767441597405,
          0.051404829608400336,
          -0.0015660156195260553,
          0.007715509572533254,
          -0.08543379744286082,
          0.09991916967229918,
          0.0021856259456912827,
          0.026182460415275655,
          -0.05097221333945348,
          -0.037927450594566516,
          0.054362150168615904,
          0.06550581274964756,
          -0.008061536051304581,
          0.04614523456964842,
          0.0320926612072349,
          0.09598248624908132,
          0.025559004220490636,
          0.00302566217846386,
          -0.08140633064040123,
          -0.007201578112464495,
          -0.006726620820991957,
          0.004077321938055429,
          0.07712597874938536,
          0.013081874023565759,
          0.009933999105370505,
          -0.01460461387299406,
          0.10285069538302156,
          0.0342403285986142,
          0.005284793770856733,
          0.036285583280421585,
          0.03541058942729401,
          0.010875377298172405,
          0.04683021476169413,
          0.07820723841226151,
          -0.0010313837984254732,
          0.051263746439686037,
          0.02415798111700237,
          0.04693031937498108,
          0.06803838427802884,
          -0.10104967687014023,
          0.0019136398056592346,
          0.03850678408617595,
          0.1895363780160762,
          0.00752312356931545,
          0.09259453936152923,
          0.05112236371306759,
          0.021622786514404406,
          -0.0014162727496648754,
          -0.06314252662163722,
          0.07155526871908426,
          0.011057963392469537,
          0.02012139411195061,
          0.014184696844617432,
          -0.01198180332938016,
          0.012658096583925483,
          0.010570239940007985,
          0.053739565932772335,
          0.05506406485726597,
          0.02336094521596633,
          0.008353725179314538,
          0.053739200540547476,
          0.051122669547165184,
          -0.00433335596281833,
          0.11129199128661216,
          0.04441204285597865,
          0.0037715763252278976,
          -0.03550614595499912,
          0.01963119453005768,
          -0.007020219262095599,
          -0.014740454709250148,
          0.05594306038372456,
          -0.012620720794694784,
          0.05145417080083167,
          0.03651472230536264,
          0.04945187040427459,
          0.032716175181880726,
          0.04034886066040093,
          0.06610654063972522,
          0.039480631288847996,
          -0.036561856978856146,
          -0.07041178880972289,
          -0.022420313638307585
         ],
         "xaxis": "x3",
         "yaxis": "y3"
        },
        {
         "alignmentgroup": "True",
         "hovertemplate": "max_pos=NN<br>PC1=%{y}<extra></extra>",
         "legendgroup": "NN",
         "marker": {
          "color": "#636efa",
          "symbol": "circle"
         },
         "name": "NN",
         "notched": true,
         "offsetgroup": "NN",
         "showlegend": false,
         "type": "box",
         "xaxis": "x2",
         "y": [
          0.0013499080939035084,
          0.0010437912608806423,
          -0.02250776654393078,
          -0.008059569413830306,
          -0.0037975801470626486,
          0.010850529349048073,
          -0.004832750747148423,
          0.0023272479408274482,
          -0.003409732422271272,
          0.0172368587931383,
          -0.004547069432712103,
          0.011594673786234466,
          0.004261109036999694,
          0.009386018477269914,
          -0.0007189051123905957,
          -0.03150389573382778,
          0.003461624947313514,
          0.0007814295336209072,
          0.0044334116679079685,
          0.007142468307305862,
          0.03346182463164169,
          0.015372096593394977,
          -0.001882438952517286,
          0.026500238349655047,
          -0.00385020690474356,
          0.0001594763877693489,
          0.00444908868553261,
          0.0004335547567170069,
          0.08031455593853629,
          -0.059408317321612635,
          0.05315331630236912,
          -0.005149231837408263,
          0.0644293225004827,
          0.031061115567498708,
          -0.005043043254043351,
          0.004152692883395832,
          0.07118125882391378,
          -0.0018770307461648122,
          -0.06903785151191397,
          -0.007156044994148863,
          0.004261109036999621,
          -0.001681014418014444,
          -0.004547069432712278,
          -0.0168854227338894,
          -0.03223827765532128,
          0.003582983850237346,
          0.018920253869542537,
          -0.022212104636876666,
          0.05183395261959519,
          -0.06894358211833859,
          -0.004110278105963756,
          0.027599985646838365,
          -0.0025039405640265907,
          0.04185869568336293,
          -0.00007511815530063864,
          0.034163219933467597,
          -0.017520433759714835,
          0.011016298399842344,
          0.006267155824417972,
          -0.005554502150274315,
          0.022003511030414143,
          -0.003345880957745211,
          0.005169197014185874,
          0.010365256380560645,
          -0.026469555622044203,
          0.00393534420191062,
          -0.0050117092982748124,
          0.02029544989068063,
          -0.055620685667808284,
          -0.01720628245374696,
          -0.025044738902416295,
          -0.01911019600809626,
          -0.007199343752985921,
          -0.0019893808299552705,
          -0.01206898172510219,
          -0.004616861034322765,
          -0.05431437933731586,
          0.056677463773282456,
          0.002871468885811404,
          -0.0021381144207574705,
          0.007675042136541996,
          -0.0037529385187906493,
          -0.0371188271252943,
          0.00045956614010451275,
          0.03238512037536317,
          0.03130457225587111,
          0.016281355386305388,
          0.027083328618944417,
          0.004610618642884456,
          0.03586570813389189,
          -0.02700076228292346,
          -0.005393404775166203,
          0.0026023975015369767,
          0.0001840811490772679,
          0.01344540616588014,
          0.06437433027876324,
          -0.00015023631060127676,
          -0.0652938650231171,
          0.019607629936314843,
          0.027271704913657744,
          0.019524354332587413,
          0.032551048636405205,
          -0.023358579737510335,
          -0.0028481870180824677,
          0.013912981723883486,
          0.009526672949027147,
          0.042667096155769996,
          0.0015634792624033183,
          0.009860499612224388,
          0.014912146290271103,
          0.07005864443128347,
          0.012545723435203613,
          -0.005654848383462429,
          -0.0620842975836103,
          0.004604581014917576,
          -0.06589486949987271,
          -0.03457339577419569,
          0.007933104967868072,
          0.03490871911241237,
          0.002023670415039751,
          0.010145854285466157,
          -0.045525698511503725,
          -0.0046791962367341644,
          0.0034721270299733786,
          0.005532742371461332,
          0.005894940940799875,
          0.019965266242153185,
          0.00800349671258353,
          -0.0030459102137096812,
          0.001543652994508316,
          0.006740419362248847,
          -0.048235719457772046,
          0.008350330087045253,
          -0.05752036215695901,
          -0.0002478138318448353,
          0.04794415757925287,
          -0.08480776797182753,
          0.014905235192788876,
          -0.0291375950449737,
          0.018991335530577427,
          0.0027908887961184763,
          0.017931223610700233,
          0.032294289484824705,
          -0.02783461738723152,
          0.01918380598062109,
          0.01483778594278817,
          -0.0010033762654416108,
          0.014093257888727732,
          -0.031829486028986054,
          0.006652808671973105,
          0.025599727349102427,
          -0.015148556073368813,
          -0.004765545955976384,
          -0.008039753042373374,
          0.0006623080030280021,
          -0.014330764849165454,
          0.007962834084914105,
          0.02444832830874528,
          -0.00822112238525382,
          -0.016172220667577134,
          -0.0217819831621472,
          0.06120309300348994,
          -0.01969458752484463,
          0.02313251362939184,
          -0.002831188087911838,
          -0.00141559404395592,
          -0.08523000603356086,
          -0.03178013702821392,
          -0.006354641680832247,
          -0.06774429669928149,
          -0.0002917640560273299,
          -0.015605484102066818,
          0.021577247738014976,
          -0.040997153806335895,
          -0.047604357664978704,
          -0.0018570200518750564,
          -0.30441777615234,
          -0.015129129762130055,
          0.012201198972648984,
          0.03555007679877138,
          -0.004586513185029629,
          0.02448032261893607,
          -0.020039063283691535,
          -0.0037172074776725336,
          0.06600067541869445,
          -0.014411150374806626,
          0.013477786470627712,
          -0.009602928640333037,
          0.006059301727293752,
          0.050661059722416336,
          -0.015803886498831573,
          0.03795750969693595,
          -0.0004078031257550749,
          -0.029606352655916376,
          -0.015947347768238536,
          -0.013802041928570156,
          0.000944044565198275,
          0.007686048296697489,
          -0.0021381144207574692,
          0.019633397872825857,
          0.03371222347518802,
          -0.06377393988622414,
          0.024376128049617467,
          0.01388026899740988,
          0.00931740844573961,
          -0.03662423164981385,
          0.06790549681485962,
          -0.047244508018360706,
          0.0021318947075135435,
          0.016279545156763622,
          0.06929274524264875,
          -0.08138322473080445,
          0.002917866528681638,
          0.007594503510692267,
          -0.002522454612252157,
          -0.02107685127330133,
          -0.04893625703708456,
          0.00608433745069008,
          0.02731594267353588,
          0.012086817547033855,
          -0.025432507867736074,
          0.006561437865763828,
          0.013438333035943663,
          0.031300080629402316,
          0.0225369063226964,
          0.004880794633881007,
          0.008590434223083766,
          -0.011671555100607415,
          0.006827680715756957,
          -0.060557879533910106,
          -0.005653235130068263,
          0.008483022418211241,
          0.051485566554409175,
          -0.012560895115398037,
          -0.04000358338468388,
          0.015145940108187955,
          0.0010838868917925116,
          0.0008671095134340186,
          -0.041583535655450275,
          -0.0728245562656447,
          -0.03956798720112989,
          -0.000797620755415039,
          -0.003375104779526815,
          0.024349571890333634,
          0.02915465150149279,
          0.0036450656760987354,
          0.005532742371461333,
          -0.04784444516792654,
          0.03718723298626324,
          -0.008662113299061691,
          -0.04242613830840657,
          -0.29610711980740884,
          0.015694404173745145,
          0.00811568801809214,
          0.009970231588569581,
          -0.04557096176475158,
          0.01175213611112503,
          0.006449327322024259,
          -0.014010733815019591,
          -0.018469585529083878,
          -0.143361001058706,
          -0.05577812647351245,
          -0.010587643436577572,
          -0.010705675423191367,
          -0.002089147558359432,
          -0.046442312592305184,
          0.008649103279175696,
          -0.004113438898508285,
          0.029484232831947326,
          0.012187275796378183,
          -0.04726807532946014,
          -0.04062671110929843,
          -0.011538490706311431,
          0.20997780349415654,
          0.0017242978174104363,
          0.017642118476972116,
          0.051493772693751265,
          -0.006877179181169463,
          0.020987317447952892,
          -0.004733658699856612,
          -0.004008050265748823,
          -0.017430662476522855,
          0.043043142436057114,
          0.040752762047397105,
          -0.014887725924514915,
          -0.009126272624359184,
          0.011019415364068004,
          0.002423720690917501,
          0.012783327110998877,
          -0.0009024935495238837,
          -0.10854938340778472,
          -0.028093319058180063,
          -0.0768237826832868,
          -0.019668696794885008,
          0.0005824225401165773,
          0.011321110594625462,
          0.13156255370749553,
          -0.03976426428991983,
          0.04160086790110376,
          0.2516203063427569,
          -0.014643554431194621,
          0.04079607823337615,
          0.0008724255665538789,
          0.04313269171978008,
          0.003497638097377483,
          -0.05660995211641001,
          0.0058645251434208505,
          -0.022718708221001305,
          -0.0007655231311638182,
          0.010617111524760461,
          -0.009419894752248109,
          -0.0012040845793676244,
          0.025781522158619573,
          0.013007866415302702,
          0.02551355275366574,
          -0.08310566686715005,
          -0.015389054353357523,
          -0.006753658030736307,
          0.04248493154911654,
          -0.0033812204535478892,
          0.05463926082245039,
          -0.010822988270436968,
          0.0009629170517498376,
          -0.004941088083798397,
          -0.010348467509688895,
          -0.012339661215186934,
          -0.009094138865424563,
          0.01022875832821643,
          0.020763517712928857,
          -0.01589148794472412,
          0.01409634957412402,
          -0.02500642908412641,
          0.003299074161408204,
          0.05595108857419088,
          -0.0755405529707719,
          0.07280384194511755,
          -0.16373181382179763,
          0.004171630821273701,
          0.005036955051189452,
          0.01656118045902653,
          -0.00041312609370811987,
          -0.003092057966457587,
          0.12011154925931768,
          -0.0007189051123906186,
          0.027189074771601297,
          -0.02246983574726597,
          -0.0033213496126127317,
          0.01224548781734066,
          -0.014852323855748004,
          -0.03376417537225102,
          0.03866237613531618,
          0.014435957970900517,
          -0.026970950956009057,
          -0.3469431459368141,
          0.008912538859614025,
          -0.029259155064969938,
          0.0035100686317972355,
          -0.06451622467629964,
          0.09011390778032055,
          0.022567502906841945,
          -0.007032220818655963,
          -0.011492648385326912,
          0.030983019554698028,
          -0.0048197404650567,
          0.06315568633056112,
          -0.023179109845778843,
          -0.019288376695551522,
          -0.0029428575389116767,
          -0.010903808601172776,
          0.05099703445753153,
          0.03805333427664989,
          -0.010261461626587424,
          0.0017148868854281022,
          -0.0029450804624844016,
          0.01224366649229329,
          0.00048608873254754825,
          -0.0053224244483245425,
          -0.00015940521779037953,
          -0.015413394917971996,
          0.03814235935245152,
          -0.03410880835707452,
          -0.03988505055002235,
          -0.0070901638801265775,
          0.002325876712457549,
          -0.005645334007946041,
          -0.03770004403251753,
          -0.016035858155681048,
          -0.039402783650505604,
          0.023681370300197055,
          0.008015716785864529,
          0.048119020475035315,
          -0.03331674278305417,
          -0.037118658854164294,
          0.021908213161064612,
          -0.0035082718440534247,
          0.02043101249598511,
          0.0498575149951505,
          -0.13928962552914093,
          0.009698077702033297,
          -0.0008674754236216393,
          -0.013307432786429964,
          0.01016186319970948
         ],
         "yaxis": "y2"
        },
        {
         "hovertemplate": "max_pos=NNS<br>PC0=%{x}<br>PC1=%{y}<br>i=%{marker.size}<br>term_str=%{text}<extra></extra>",
         "legendgroup": "NNS",
         "marker": {
          "color": "#EF553B",
          "size": [
           17.555300611064553,
           16.555300611064553,
           17.555300611064553,
           16.555300611064553,
           16.555300611064553,
           13.747945689006947,
           17.555300611064553,
           17.555300611064553,
           15.55530061106455,
           16.555300611064553,
           15.970338110343397,
           17.555300611064553,
           13.747945689006947,
           15.23337251617719,
           17.555300611064553,
           13.467837769814212,
           15.970338110343397,
           15.55530061106455,
           14.38537560962224,
           16.555300611064553,
           15.970338110343397,
           10.578020687564637,
           14.970338110343397,
           13.095868992427254,
           17.555300611064553,
           13.162983188285793,
           17.555300611064553,
           14.747945689006947,
           15.970338110343397,
           14.55530061106455,
           15.970338110343397,
           15.23337251617719,
           17.555300611064553,
           13.467837769814212,
           14.55530061106455,
           14.970338110343397,
           15.55530061106455,
           14.38537560962224,
           13.38537560962224,
           15.970338110343397,
           16.555300611064553,
           15.55530061106455,
           14.747945689006947,
           12.697319615936978,
           14.970338110343397,
           12.510906491706098,
           11.800413108901084,
           14.747945689006947,
           13.648410015456031,
           14.970338110343397,
           15.55530061106455,
           15.55530061106455,
           14.095868992427254,
           14.747945689006947,
           17.555300611064553,
           13.648410015456031,
           14.970338110343397,
           16.555300611064553,
           14.55530061106455,
           15.55530061106455,
           14.55530061106455,
           14.970338110343397,
           12.23337251617719,
           13.467837769814212,
           12.467837769814212,
           14.23337251617719,
           17.555300611064553,
           16.555300611064553,
           17.555300611064553,
           14.095868992427254,
           13.970338110343397,
           16.555300611064553,
           14.38537560962224,
           14.23337251617719,
           15.23337251617719,
           10.446776154286384,
           13.854860892923458,
           17.555300611064553,
           13.095868992427254,
           14.55530061106455,
           13.03173865500754,
           14.747945689006947,
           11.940590766949343,
           13.854860892923458,
           13.970338110343397,
           13.970338110343397,
           12.800413108901084,
           14.095868992427254,
           9.336132090602389,
           14.095868992427254,
           12.307373097620966,
           11.624563273501664,
           14.23337251617719,
           12.648410015456031,
           15.23337251617719,
           13.307373097620966,
           13.55530061106455,
           10.827380156501352,
           10.55530061106455,
           13.970338110343397,
           12.095868992427254,
           10.955387768877424,
           14.747945689006947,
           12.911444421289826,
           12.307373097620966,
           14.23337251617719,
           14.38537560962224,
           13.162983188285793,
           15.970338110343397,
           11.773940897539893,
           12.854860892923458,
           12.747945689006947,
           14.747945689006947,
           11.047505970865856,
           11.079567180098152,
           12.000711759386911,
           12.162983188285793,
           12.510906491706098,
           12.467837769814212,
           13.23337251617719,
           13.307373097620966,
           14.970338110343397,
           15.55530061106455,
           12.197748606446469,
           13.747945689006947,
           11.446776154286384,
           13.854860892923458,
           12.747945689006947,
           12.697319615936978,
           14.55530061106455,
           10.316895871739472,
           12.911444421289826,
           10.648410015456031,
           13.307373097620966,
           15.23337251617719,
           14.970338110343397,
           12.747945689006947,
           13.747945689006947,
           12.697319615936978,
           13.38537560962224,
           14.970338110343397,
           15.23337251617719,
           16.555300611064553,
           13.55530061106455,
           12.03173865500754,
           12.601104300677676,
           9.970338110343397,
           13.307373097620966,
           13.55530061106455,
           14.747945689006947,
           11.578020687564637,
           14.747945689006947,
           15.23337251617719,
           13.854860892923458,
           12.345847245435602,
           12.467837769814212,
           12.307373097620966,
           13.03173865500754,
           11.38537560962224,
           11.827380156501352
          ],
          "sizemode": "area",
          "sizeref": 0.04388825152766138,
          "symbol": "circle"
         },
         "mode": "markers+text",
         "name": "NNS",
         "orientation": "v",
         "showlegend": true,
         "text": [
          "abilities",
          "accidents",
          "acolytes",
          "actions",
          "adults",
          "advantages",
          "adventists",
          "affairs",
          "ages",
          "airheads",
          "airwaves",
          "aisles",
          "alarms",
          "alleys",
          "alors",
          "angels",
          "angles",
          "animals",
          "answers",
          "ants",
          "arguments",
          "arms",
          "arrows",
          "ashes",
          "axes",
          "babies",
          "backgrounds",
          "backwards",
          "bags",
          "bands",
          "banks",
          "bars",
          "battlefields",
          "beats",
          "beds",
          "beginners",
          "beginnings",
          "billions",
          "birds",
          "blondes",
          "bloodhounds",
          "blows",
          "blues",
          "bodies",
          "bombs",
          "bones",
          "boys",
          "brains",
          "breaks",
          "bridges",
          "brothers",
          "buildings",
          "burns",
          "butterflies",
          "cannonballers",
          "cards",
          "cars",
          "cents",
          "chains",
          "chairs",
          "changes",
          "cheerleaders",
          "children",
          "circles",
          "clothes",
          "colors",
          "congratulations",
          "constellations",
          "contemporaries",
          "cops",
          "corners",
          "courvoisiers",
          "cracks",
          "creatures",
          "daughters",
          "days",
          "demons",
          "den",
          "diamonds",
          "disappears",
          "doors",
          "dreamers",
          "dreams",
          "drugs",
          "dunno",
          "ears",
          "enemies",
          "everyones",
          "eyes",
          "feathers",
          "feelings",
          "feet",
          "finches",
          "fingers",
          "fists",
          "fits",
          "flies",
          "friends",
          "girls",
          "gloves",
          "guns",
          "hands",
          "headlights",
          "heads",
          "hearts",
          "heels",
          "hits",
          "hours",
          "invitations",
          "kids",
          "knees",
          "leaves",
          "letters",
          "lies",
          "lights",
          "lips",
          "lives",
          "lovers",
          "memories",
          "men",
          "minutes",
          "mornings",
          "mе",
          "nights",
          "numbers",
          "ones",
          "pamphlets",
          "parallels",
          "parts",
          "payments",
          "people",
          "pieces",
          "pills",
          "plans",
          "problems",
          "reflections",
          "roses",
          "rules",
          "shadows",
          "shoulders",
          "sings",
          "sleeves",
          "socialites",
          "strangers",
          "tears",
          "teeth",
          "things",
          "thoughts",
          "thrills",
          "ties",
          "times",
          "tribulations",
          "vibrations",
          "visions",
          "walls",
          "waves",
          "ways",
          "windows",
          "words",
          "years"
         ],
         "type": "scatter",
         "x": [
          0.010435848883389859,
          -0.004484413880661304,
          -0.0005916753972617514,
          -0.0030444733435763963,
          -0.0034294674072912934,
          -0.01652586046470707,
          -0.007169137419904078,
          0.0018317269312747412,
          0.01612837377466455,
          -0.0005126730853340027,
          0.02575307415200081,
          -0.0019786511189055084,
          0.011980681145607417,
          -0.012460287035925069,
          -0.0023670763969999347,
          -0.002645440710713183,
          0.0029753399227906725,
          -0.004122180145819369,
          0.015128579290551156,
          0.008902641223303281,
          -0.0035412558138657995,
          0.017912915616649695,
          -0.0027608769671228417,
          0.05918963676386798,
          0.00882938493869347,
          -0.008000769046554033,
          0.002650614751604942,
          -0.00041357744064582694,
          -0.0016208026055379915,
          -0.019383733830518772,
          -0.005789213314017711,
          0.006245198981682215,
          -0.02164494343993599,
          -0.016992580005971654,
          -0.010816578189756818,
          -0.00846830446907675,
          0.015234683871692897,
          -0.0063743620088309765,
          0.014064112073356349,
          -0.008171220052087591,
          0.020871697766779745,
          -0.005602721904127592,
          0.011121779005212173,
          0.015089112504230166,
          0.004565009443255341,
          0.03365011578900312,
          -0.12032633014297328,
          0.016352857955707813,
          0.05351602101049819,
          0.028114640018257822,
          -0.0060957160427761005,
          0.004103628879234445,
          0.013502702176576486,
          0.011073066419907733,
          0.003421780917058662,
          -0.032678043988239217,
          -0.007421566300069356,
          -0.01042167008999662,
          0.007665721413528801,
          -0.0024699508139241965,
          0.006559416702347944,
          -0.009177291814055525,
          0.006590722222719376,
          -0.007712712755307678,
          0.021002685053457655,
          -0.0048786763201708345,
          0.008829384938693471,
          0.006533743741314194,
          -0.0012171059307457771,
          0.02773789934397771,
          0.02315441552733261,
          -0.005137365494299332,
          0.004615932340821777,
          0.015810506823571328,
          0.01327939018330768,
          0.09841171618659134,
          0.04136291152591358,
          0.00983435437186232,
          0.08918227403687749,
          0.007530565587607116,
          0.021930214783706693,
          0.03619007067355346,
          0.038442808996230544,
          0.013713822559547876,
          -0.03082419296579599,
          -0.026504765624641605,
          0.008247415295859956,
          0.009681468041521821,
          0.026302762389346163,
          -0.00822504746825279,
          0.04044263069615728,
          0.07494018060445813,
          -0.0473428081137827,
          0.01948432037770784,
          0.03142892930258088,
          0.04769119624933006,
          0.05427495300909852,
          0.06505603559505028,
          0.036127131744366554,
          0.002285165214769891,
          -0.024572191856577746,
          0.09386997366948162,
          -0.002839367760660097,
          0.03280803480205161,
          -0.032828489187161976,
          -0.0006295338551253867,
          0.00314868589310297,
          0.07786571509889187,
          0.0005496201366919103,
          0.017188310693388786,
          0.02804720981520625,
          0.005830769142445714,
          0.026202691322093633,
          0.06415988144285172,
          0.03662783876968971,
          0.054480963514694156,
          -0.04877626903937033,
          -0.11721692425549067,
          0.010489950145635831,
          0.05829763151540358,
          -0.03698383789614146,
          0.011248843695915318,
          0.023652843346547086,
          0.06137136197686832,
          0.011851376187819354,
          0.04928195457685736,
          -0.01864701911509189,
          -0.0855698849244027,
          -0.01729900420689519,
          -0.01148045938575222,
          -0.01025538042925498,
          0.014938183298982563,
          -0.23514419125487515,
          0.029638996915814238,
          0.0022376988511819797,
          0.03095203378835082,
          0.07135970750353288,
          -0.0010572710229968933,
          0.00009262555045378852,
          0.02275665876967147,
          0.007928540716068426,
          -0.0031239099356749982,
          0.008695344531914272,
          0.040450597772643364,
          0.021249049591033835,
          -0.002882087705435887,
          0.022924745535566938,
          0.023103786893980204,
          -0.022960918771504458,
          0.045098084156218674,
          -0.02376956434369131,
          -0.010045401962533188,
          -0.00623585753119613,
          0.013517923827978518,
          0.013600833368494915,
          -0.018731513887625707,
          0.04867336309462,
          0.05751147969894755,
          0.020356237700257983,
          0.02505008293238975
         ],
         "xaxis": "x",
         "y": [
          -0.007346443650748144,
          -0.0002754173958055828,
          -0.009282327345446938,
          0.00012075109470460754,
          0.0017080107325994351,
          0.008499440572381169,
          0.002790888796118476,
          -0.0017765888722069822,
          -0.01245761004198267,
          -0.000050078770200427305,
          0.006122970324861682,
          0.0023272479408274873,
          -0.0652403909697687,
          0.004015476643308658,
          -0.0010690572103787329,
          -0.028626164912529867,
          0.00819458552112219,
          -0.0040675419478897615,
          0.015150820341083887,
          -0.0009158618381568258,
          0.0018213086940816797,
          0.09544064824881816,
          0.016541064445540966,
          0.027486721531773145,
          -0.022212104636876666,
          -0.0008836641383462029,
          -0.0024163753735742186,
          -0.061213728243721045,
          -0.02148210451404891,
          -0.043331264962038346,
          -0.012112355338541884,
          0.0035397626183347537,
          0.013799992823419179,
          -0.023487654220523943,
          0.009918745361652808,
          0.006848392061619677,
          0.01695424604669567,
          0.013008108104624718,
          -0.002998418217088604,
          0.006675219837805193,
          -0.01469288730149625,
          -0.0031799670974935936,
          -0.011650519374358502,
          0.0029581840560570184,
          -0.010703506205348738,
          0.010728344645417507,
          0.04492387781313707,
          -0.008930691681672612,
          0.055460793305749136,
          -0.026468786848432353,
          0.00011279432090194075,
          -0.005515903033630186,
          -0.003068730187823906,
          -0.014526537048885131,
          0.005905924033596568,
          -0.08937527726879176,
          -0.0038800993450121843,
          -0.005990262628494846,
          -0.0036699810778871257,
          0.0024967623028917018,
          0.017952897147087112,
          0.011001755515207066,
          -0.007535128126610452,
          -0.061888044197844994,
          -0.019970736245719146,
          0.015605404152063499,
          -0.022212104636876666,
          0.0032831937035758957,
          -0.008059569413830318,
          -0.021057182121899998,
          0.02327806703133928,
          -0.0037648779050345684,
          -0.016040867606638615,
          -0.010226927033043731,
          -0.01913636110183522,
          -0.010409455542464252,
          0.06555827017828351,
          -0.029117637179202058,
          0.00102490505202894,
          -0.051516139172266294,
          0.021913579579468736,
          -0.00214430223828761,
          -0.0203914291943039,
          0.00011043127732311421,
          -0.02258926743020745,
          -0.0377546470233671,
          0.01159240352555058,
          -0.029028181146422253,
          0.0041464687947302,
          -0.010567141389428736,
          0.01817263431584984,
          -0.005480603639231805,
          0.019188858819474224,
          -0.024157867576605353,
          -0.016682931258923592,
          0.037222398988085374,
          0.05488627620791695,
          -0.014958154215374674,
          0.16675899439849895,
          0.00639279356002088,
          -0.035283815476150976,
          -0.004877256258977267,
          0.015518436031707338,
          -0.03238750782139994,
          -0.05417467226336618,
          0.006704057644920597,
          -0.001553460596173265,
          0.03747524748997344,
          0.0024511335942146795,
          -0.039922882083884566,
          -0.03413020066676486,
          0.04740572376027755,
          0.018027657297154512,
          0.03108392230316046,
          0.01692711030285755,
          -0.017355463451552994,
          0.011013461099101219,
          -0.047720115849143284,
          0.025395198478667155,
          -0.055020113433618685,
          0.009390881101325802,
          -0.0022745250559114646,
          -0.005333879389749459,
          -0.020626899674882158,
          0.011114942331648682,
          0.009515849683763095,
          -0.013388002777261484,
          0.023074734896380636,
          -0.0064432726857551045,
          -0.00198251065475869,
          -0.04757599797668847,
          0.028971382081081097,
          0.10088767018708124,
          0.02510606153418551,
          -0.004186364192059747,
          0.034877624141402774,
          0.036227836219352196,
          0.0045005089122706525,
          -0.009191103787673141,
          0.050076224125208804,
          0.008000973188711432,
          0.005476752061883287,
          -0.011532073184459793,
          -0.025051630412567347,
          -0.01280162834948228,
          -0.0476884706087404,
          -0.028322019593295774,
          0.011330851666419485,
          -0.003965021309517384,
          0.02908131275198444,
          0.011124635021331217,
          -0.0017346968229138475,
          0.012758464930778179,
          -0.0018931128629274712,
          -0.05340186486509687,
          0.005653915609136099,
          -0.003773842537138602,
          0.004139829753851702,
          -0.1027876401762065,
          0.005346695975320976
         ],
         "yaxis": "y"
        },
        {
         "alignmentgroup": "True",
         "hovertemplate": "max_pos=NNS<br>PC0=%{x}<extra></extra>",
         "legendgroup": "NNS",
         "marker": {
          "color": "#EF553B",
          "symbol": "circle"
         },
         "name": "NNS",
         "notched": true,
         "offsetgroup": "NNS",
         "showlegend": false,
         "type": "box",
         "x": [
          0.010435848883389859,
          -0.004484413880661304,
          -0.0005916753972617514,
          -0.0030444733435763963,
          -0.0034294674072912934,
          -0.01652586046470707,
          -0.007169137419904078,
          0.0018317269312747412,
          0.01612837377466455,
          -0.0005126730853340027,
          0.02575307415200081,
          -0.0019786511189055084,
          0.011980681145607417,
          -0.012460287035925069,
          -0.0023670763969999347,
          -0.002645440710713183,
          0.0029753399227906725,
          -0.004122180145819369,
          0.015128579290551156,
          0.008902641223303281,
          -0.0035412558138657995,
          0.017912915616649695,
          -0.0027608769671228417,
          0.05918963676386798,
          0.00882938493869347,
          -0.008000769046554033,
          0.002650614751604942,
          -0.00041357744064582694,
          -0.0016208026055379915,
          -0.019383733830518772,
          -0.005789213314017711,
          0.006245198981682215,
          -0.02164494343993599,
          -0.016992580005971654,
          -0.010816578189756818,
          -0.00846830446907675,
          0.015234683871692897,
          -0.0063743620088309765,
          0.014064112073356349,
          -0.008171220052087591,
          0.020871697766779745,
          -0.005602721904127592,
          0.011121779005212173,
          0.015089112504230166,
          0.004565009443255341,
          0.03365011578900312,
          -0.12032633014297328,
          0.016352857955707813,
          0.05351602101049819,
          0.028114640018257822,
          -0.0060957160427761005,
          0.004103628879234445,
          0.013502702176576486,
          0.011073066419907733,
          0.003421780917058662,
          -0.032678043988239217,
          -0.007421566300069356,
          -0.01042167008999662,
          0.007665721413528801,
          -0.0024699508139241965,
          0.006559416702347944,
          -0.009177291814055525,
          0.006590722222719376,
          -0.007712712755307678,
          0.021002685053457655,
          -0.0048786763201708345,
          0.008829384938693471,
          0.006533743741314194,
          -0.0012171059307457771,
          0.02773789934397771,
          0.02315441552733261,
          -0.005137365494299332,
          0.004615932340821777,
          0.015810506823571328,
          0.01327939018330768,
          0.09841171618659134,
          0.04136291152591358,
          0.00983435437186232,
          0.08918227403687749,
          0.007530565587607116,
          0.021930214783706693,
          0.03619007067355346,
          0.038442808996230544,
          0.013713822559547876,
          -0.03082419296579599,
          -0.026504765624641605,
          0.008247415295859956,
          0.009681468041521821,
          0.026302762389346163,
          -0.00822504746825279,
          0.04044263069615728,
          0.07494018060445813,
          -0.0473428081137827,
          0.01948432037770784,
          0.03142892930258088,
          0.04769119624933006,
          0.05427495300909852,
          0.06505603559505028,
          0.036127131744366554,
          0.002285165214769891,
          -0.024572191856577746,
          0.09386997366948162,
          -0.002839367760660097,
          0.03280803480205161,
          -0.032828489187161976,
          -0.0006295338551253867,
          0.00314868589310297,
          0.07786571509889187,
          0.0005496201366919103,
          0.017188310693388786,
          0.02804720981520625,
          0.005830769142445714,
          0.026202691322093633,
          0.06415988144285172,
          0.03662783876968971,
          0.054480963514694156,
          -0.04877626903937033,
          -0.11721692425549067,
          0.010489950145635831,
          0.05829763151540358,
          -0.03698383789614146,
          0.011248843695915318,
          0.023652843346547086,
          0.06137136197686832,
          0.011851376187819354,
          0.04928195457685736,
          -0.01864701911509189,
          -0.0855698849244027,
          -0.01729900420689519,
          -0.01148045938575222,
          -0.01025538042925498,
          0.014938183298982563,
          -0.23514419125487515,
          0.029638996915814238,
          0.0022376988511819797,
          0.03095203378835082,
          0.07135970750353288,
          -0.0010572710229968933,
          0.00009262555045378852,
          0.02275665876967147,
          0.007928540716068426,
          -0.0031239099356749982,
          0.008695344531914272,
          0.040450597772643364,
          0.021249049591033835,
          -0.002882087705435887,
          0.022924745535566938,
          0.023103786893980204,
          -0.022960918771504458,
          0.045098084156218674,
          -0.02376956434369131,
          -0.010045401962533188,
          -0.00623585753119613,
          0.013517923827978518,
          0.013600833368494915,
          -0.018731513887625707,
          0.04867336309462,
          0.05751147969894755,
          0.020356237700257983,
          0.02505008293238975
         ],
         "xaxis": "x3",
         "yaxis": "y3"
        },
        {
         "alignmentgroup": "True",
         "hovertemplate": "max_pos=NNS<br>PC1=%{y}<extra></extra>",
         "legendgroup": "NNS",
         "marker": {
          "color": "#EF553B",
          "symbol": "circle"
         },
         "name": "NNS",
         "notched": true,
         "offsetgroup": "NNS",
         "showlegend": false,
         "type": "box",
         "xaxis": "x2",
         "y": [
          -0.007346443650748144,
          -0.0002754173958055828,
          -0.009282327345446938,
          0.00012075109470460754,
          0.0017080107325994351,
          0.008499440572381169,
          0.002790888796118476,
          -0.0017765888722069822,
          -0.01245761004198267,
          -0.000050078770200427305,
          0.006122970324861682,
          0.0023272479408274873,
          -0.0652403909697687,
          0.004015476643308658,
          -0.0010690572103787329,
          -0.028626164912529867,
          0.00819458552112219,
          -0.0040675419478897615,
          0.015150820341083887,
          -0.0009158618381568258,
          0.0018213086940816797,
          0.09544064824881816,
          0.016541064445540966,
          0.027486721531773145,
          -0.022212104636876666,
          -0.0008836641383462029,
          -0.0024163753735742186,
          -0.061213728243721045,
          -0.02148210451404891,
          -0.043331264962038346,
          -0.012112355338541884,
          0.0035397626183347537,
          0.013799992823419179,
          -0.023487654220523943,
          0.009918745361652808,
          0.006848392061619677,
          0.01695424604669567,
          0.013008108104624718,
          -0.002998418217088604,
          0.006675219837805193,
          -0.01469288730149625,
          -0.0031799670974935936,
          -0.011650519374358502,
          0.0029581840560570184,
          -0.010703506205348738,
          0.010728344645417507,
          0.04492387781313707,
          -0.008930691681672612,
          0.055460793305749136,
          -0.026468786848432353,
          0.00011279432090194075,
          -0.005515903033630186,
          -0.003068730187823906,
          -0.014526537048885131,
          0.005905924033596568,
          -0.08937527726879176,
          -0.0038800993450121843,
          -0.005990262628494846,
          -0.0036699810778871257,
          0.0024967623028917018,
          0.017952897147087112,
          0.011001755515207066,
          -0.007535128126610452,
          -0.061888044197844994,
          -0.019970736245719146,
          0.015605404152063499,
          -0.022212104636876666,
          0.0032831937035758957,
          -0.008059569413830318,
          -0.021057182121899998,
          0.02327806703133928,
          -0.0037648779050345684,
          -0.016040867606638615,
          -0.010226927033043731,
          -0.01913636110183522,
          -0.010409455542464252,
          0.06555827017828351,
          -0.029117637179202058,
          0.00102490505202894,
          -0.051516139172266294,
          0.021913579579468736,
          -0.00214430223828761,
          -0.0203914291943039,
          0.00011043127732311421,
          -0.02258926743020745,
          -0.0377546470233671,
          0.01159240352555058,
          -0.029028181146422253,
          0.0041464687947302,
          -0.010567141389428736,
          0.01817263431584984,
          -0.005480603639231805,
          0.019188858819474224,
          -0.024157867576605353,
          -0.016682931258923592,
          0.037222398988085374,
          0.05488627620791695,
          -0.014958154215374674,
          0.16675899439849895,
          0.00639279356002088,
          -0.035283815476150976,
          -0.004877256258977267,
          0.015518436031707338,
          -0.03238750782139994,
          -0.05417467226336618,
          0.006704057644920597,
          -0.001553460596173265,
          0.03747524748997344,
          0.0024511335942146795,
          -0.039922882083884566,
          -0.03413020066676486,
          0.04740572376027755,
          0.018027657297154512,
          0.03108392230316046,
          0.01692711030285755,
          -0.017355463451552994,
          0.011013461099101219,
          -0.047720115849143284,
          0.025395198478667155,
          -0.055020113433618685,
          0.009390881101325802,
          -0.0022745250559114646,
          -0.005333879389749459,
          -0.020626899674882158,
          0.011114942331648682,
          0.009515849683763095,
          -0.013388002777261484,
          0.023074734896380636,
          -0.0064432726857551045,
          -0.00198251065475869,
          -0.04757599797668847,
          0.028971382081081097,
          0.10088767018708124,
          0.02510606153418551,
          -0.004186364192059747,
          0.034877624141402774,
          0.036227836219352196,
          0.0045005089122706525,
          -0.009191103787673141,
          0.050076224125208804,
          0.008000973188711432,
          0.005476752061883287,
          -0.011532073184459793,
          -0.025051630412567347,
          -0.01280162834948228,
          -0.0476884706087404,
          -0.028322019593295774,
          0.011330851666419485,
          -0.003965021309517384,
          0.02908131275198444,
          0.011124635021331217,
          -0.0017346968229138475,
          0.012758464930778179,
          -0.0018931128629274712,
          -0.05340186486509687,
          0.005653915609136099,
          -0.003773842537138602,
          0.004139829753851702,
          -0.1027876401762065,
          0.005346695975320976
         ],
         "yaxis": "y2"
        }
       ],
       "layout": {
        "height": 800,
        "legend": {
         "itemsizing": "constant",
         "title": {
          "text": "max_pos"
         },
         "tracegroupgap": 0
        },
        "margin": {
         "t": 60
        },
        "template": {
         "data": {
          "bar": [
           {
            "error_x": {
             "color": "#2a3f5f"
            },
            "error_y": {
             "color": "#2a3f5f"
            },
            "marker": {
             "line": {
              "color": "#E5ECF6",
              "width": 0.5
             },
             "pattern": {
              "fillmode": "overlay",
              "size": 10,
              "solidity": 0.2
             }
            },
            "type": "bar"
           }
          ],
          "barpolar": [
           {
            "marker": {
             "line": {
              "color": "#E5ECF6",
              "width": 0.5
             },
             "pattern": {
              "fillmode": "overlay",
              "size": 10,
              "solidity": 0.2
             }
            },
            "type": "barpolar"
           }
          ],
          "carpet": [
           {
            "aaxis": {
             "endlinecolor": "#2a3f5f",
             "gridcolor": "white",
             "linecolor": "white",
             "minorgridcolor": "white",
             "startlinecolor": "#2a3f5f"
            },
            "baxis": {
             "endlinecolor": "#2a3f5f",
             "gridcolor": "white",
             "linecolor": "white",
             "minorgridcolor": "white",
             "startlinecolor": "#2a3f5f"
            },
            "type": "carpet"
           }
          ],
          "choropleth": [
           {
            "colorbar": {
             "outlinewidth": 0,
             "ticks": ""
            },
            "type": "choropleth"
           }
          ],
          "contour": [
           {
            "colorbar": {
             "outlinewidth": 0,
             "ticks": ""
            },
            "colorscale": [
             [
              0,
              "#0d0887"
             ],
             [
              0.1111111111111111,
              "#46039f"
             ],
             [
              0.2222222222222222,
              "#7201a8"
             ],
             [
              0.3333333333333333,
              "#9c179e"
             ],
             [
              0.4444444444444444,
              "#bd3786"
             ],
             [
              0.5555555555555556,
              "#d8576b"
             ],
             [
              0.6666666666666666,
              "#ed7953"
             ],
             [
              0.7777777777777778,
              "#fb9f3a"
             ],
             [
              0.8888888888888888,
              "#fdca26"
             ],
             [
              1,
              "#f0f921"
             ]
            ],
            "type": "contour"
           }
          ],
          "contourcarpet": [
           {
            "colorbar": {
             "outlinewidth": 0,
             "ticks": ""
            },
            "type": "contourcarpet"
           }
          ],
          "heatmap": [
           {
            "colorbar": {
             "outlinewidth": 0,
             "ticks": ""
            },
            "colorscale": [
             [
              0,
              "#0d0887"
             ],
             [
              0.1111111111111111,
              "#46039f"
             ],
             [
              0.2222222222222222,
              "#7201a8"
             ],
             [
              0.3333333333333333,
              "#9c179e"
             ],
             [
              0.4444444444444444,
              "#bd3786"
             ],
             [
              0.5555555555555556,
              "#d8576b"
             ],
             [
              0.6666666666666666,
              "#ed7953"
             ],
             [
              0.7777777777777778,
              "#fb9f3a"
             ],
             [
              0.8888888888888888,
              "#fdca26"
             ],
             [
              1,
              "#f0f921"
             ]
            ],
            "type": "heatmap"
           }
          ],
          "heatmapgl": [
           {
            "colorbar": {
             "outlinewidth": 0,
             "ticks": ""
            },
            "colorscale": [
             [
              0,
              "#0d0887"
             ],
             [
              0.1111111111111111,
              "#46039f"
             ],
             [
              0.2222222222222222,
              "#7201a8"
             ],
             [
              0.3333333333333333,
              "#9c179e"
             ],
             [
              0.4444444444444444,
              "#bd3786"
             ],
             [
              0.5555555555555556,
              "#d8576b"
             ],
             [
              0.6666666666666666,
              "#ed7953"
             ],
             [
              0.7777777777777778,
              "#fb9f3a"
             ],
             [
              0.8888888888888888,
              "#fdca26"
             ],
             [
              1,
              "#f0f921"
             ]
            ],
            "type": "heatmapgl"
           }
          ],
          "histogram": [
           {
            "marker": {
             "pattern": {
              "fillmode": "overlay",
              "size": 10,
              "solidity": 0.2
             }
            },
            "type": "histogram"
           }
          ],
          "histogram2d": [
           {
            "colorbar": {
             "outlinewidth": 0,
             "ticks": ""
            },
            "colorscale": [
             [
              0,
              "#0d0887"
             ],
             [
              0.1111111111111111,
              "#46039f"
             ],
             [
              0.2222222222222222,
              "#7201a8"
             ],
             [
              0.3333333333333333,
              "#9c179e"
             ],
             [
              0.4444444444444444,
              "#bd3786"
             ],
             [
              0.5555555555555556,
              "#d8576b"
             ],
             [
              0.6666666666666666,
              "#ed7953"
             ],
             [
              0.7777777777777778,
              "#fb9f3a"
             ],
             [
              0.8888888888888888,
              "#fdca26"
             ],
             [
              1,
              "#f0f921"
             ]
            ],
            "type": "histogram2d"
           }
          ],
          "histogram2dcontour": [
           {
            "colorbar": {
             "outlinewidth": 0,
             "ticks": ""
            },
            "colorscale": [
             [
              0,
              "#0d0887"
             ],
             [
              0.1111111111111111,
              "#46039f"
             ],
             [
              0.2222222222222222,
              "#7201a8"
             ],
             [
              0.3333333333333333,
              "#9c179e"
             ],
             [
              0.4444444444444444,
              "#bd3786"
             ],
             [
              0.5555555555555556,
              "#d8576b"
             ],
             [
              0.6666666666666666,
              "#ed7953"
             ],
             [
              0.7777777777777778,
              "#fb9f3a"
             ],
             [
              0.8888888888888888,
              "#fdca26"
             ],
             [
              1,
              "#f0f921"
             ]
            ],
            "type": "histogram2dcontour"
           }
          ],
          "mesh3d": [
           {
            "colorbar": {
             "outlinewidth": 0,
             "ticks": ""
            },
            "type": "mesh3d"
           }
          ],
          "parcoords": [
           {
            "line": {
             "colorbar": {
              "outlinewidth": 0,
              "ticks": ""
             }
            },
            "type": "parcoords"
           }
          ],
          "pie": [
           {
            "automargin": true,
            "type": "pie"
           }
          ],
          "scatter": [
           {
            "fillpattern": {
             "fillmode": "overlay",
             "size": 10,
             "solidity": 0.2
            },
            "type": "scatter"
           }
          ],
          "scatter3d": [
           {
            "line": {
             "colorbar": {
              "outlinewidth": 0,
              "ticks": ""
             }
            },
            "marker": {
             "colorbar": {
              "outlinewidth": 0,
              "ticks": ""
             }
            },
            "type": "scatter3d"
           }
          ],
          "scattercarpet": [
           {
            "marker": {
             "colorbar": {
              "outlinewidth": 0,
              "ticks": ""
             }
            },
            "type": "scattercarpet"
           }
          ],
          "scattergeo": [
           {
            "marker": {
             "colorbar": {
              "outlinewidth": 0,
              "ticks": ""
             }
            },
            "type": "scattergeo"
           }
          ],
          "scattergl": [
           {
            "marker": {
             "colorbar": {
              "outlinewidth": 0,
              "ticks": ""
             }
            },
            "type": "scattergl"
           }
          ],
          "scattermapbox": [
           {
            "marker": {
             "colorbar": {
              "outlinewidth": 0,
              "ticks": ""
             }
            },
            "type": "scattermapbox"
           }
          ],
          "scatterpolar": [
           {
            "marker": {
             "colorbar": {
              "outlinewidth": 0,
              "ticks": ""
             }
            },
            "type": "scatterpolar"
           }
          ],
          "scatterpolargl": [
           {
            "marker": {
             "colorbar": {
              "outlinewidth": 0,
              "ticks": ""
             }
            },
            "type": "scatterpolargl"
           }
          ],
          "scatterternary": [
           {
            "marker": {
             "colorbar": {
              "outlinewidth": 0,
              "ticks": ""
             }
            },
            "type": "scatterternary"
           }
          ],
          "surface": [
           {
            "colorbar": {
             "outlinewidth": 0,
             "ticks": ""
            },
            "colorscale": [
             [
              0,
              "#0d0887"
             ],
             [
              0.1111111111111111,
              "#46039f"
             ],
             [
              0.2222222222222222,
              "#7201a8"
             ],
             [
              0.3333333333333333,
              "#9c179e"
             ],
             [
              0.4444444444444444,
              "#bd3786"
             ],
             [
              0.5555555555555556,
              "#d8576b"
             ],
             [
              0.6666666666666666,
              "#ed7953"
             ],
             [
              0.7777777777777778,
              "#fb9f3a"
             ],
             [
              0.8888888888888888,
              "#fdca26"
             ],
             [
              1,
              "#f0f921"
             ]
            ],
            "type": "surface"
           }
          ],
          "table": [
           {
            "cells": {
             "fill": {
              "color": "#EBF0F8"
             },
             "line": {
              "color": "white"
             }
            },
            "header": {
             "fill": {
              "color": "#C8D4E3"
             },
             "line": {
              "color": "white"
             }
            },
            "type": "table"
           }
          ]
         },
         "layout": {
          "annotationdefaults": {
           "arrowcolor": "#2a3f5f",
           "arrowhead": 0,
           "arrowwidth": 1
          },
          "autotypenumbers": "strict",
          "coloraxis": {
           "colorbar": {
            "outlinewidth": 0,
            "ticks": ""
           }
          },
          "colorscale": {
           "diverging": [
            [
             0,
             "#8e0152"
            ],
            [
             0.1,
             "#c51b7d"
            ],
            [
             0.2,
             "#de77ae"
            ],
            [
             0.3,
             "#f1b6da"
            ],
            [
             0.4,
             "#fde0ef"
            ],
            [
             0.5,
             "#f7f7f7"
            ],
            [
             0.6,
             "#e6f5d0"
            ],
            [
             0.7,
             "#b8e186"
            ],
            [
             0.8,
             "#7fbc41"
            ],
            [
             0.9,
             "#4d9221"
            ],
            [
             1,
             "#276419"
            ]
           ],
           "sequential": [
            [
             0,
             "#0d0887"
            ],
            [
             0.1111111111111111,
             "#46039f"
            ],
            [
             0.2222222222222222,
             "#7201a8"
            ],
            [
             0.3333333333333333,
             "#9c179e"
            ],
            [
             0.4444444444444444,
             "#bd3786"
            ],
            [
             0.5555555555555556,
             "#d8576b"
            ],
            [
             0.6666666666666666,
             "#ed7953"
            ],
            [
             0.7777777777777778,
             "#fb9f3a"
            ],
            [
             0.8888888888888888,
             "#fdca26"
            ],
            [
             1,
             "#f0f921"
            ]
           ],
           "sequentialminus": [
            [
             0,
             "#0d0887"
            ],
            [
             0.1111111111111111,
             "#46039f"
            ],
            [
             0.2222222222222222,
             "#7201a8"
            ],
            [
             0.3333333333333333,
             "#9c179e"
            ],
            [
             0.4444444444444444,
             "#bd3786"
            ],
            [
             0.5555555555555556,
             "#d8576b"
            ],
            [
             0.6666666666666666,
             "#ed7953"
            ],
            [
             0.7777777777777778,
             "#fb9f3a"
            ],
            [
             0.8888888888888888,
             "#fdca26"
            ],
            [
             1,
             "#f0f921"
            ]
           ]
          },
          "colorway": [
           "#636efa",
           "#EF553B",
           "#00cc96",
           "#ab63fa",
           "#FFA15A",
           "#19d3f3",
           "#FF6692",
           "#B6E880",
           "#FF97FF",
           "#FECB52"
          ],
          "font": {
           "color": "#2a3f5f"
          },
          "geo": {
           "bgcolor": "white",
           "lakecolor": "white",
           "landcolor": "#E5ECF6",
           "showlakes": true,
           "showland": true,
           "subunitcolor": "white"
          },
          "hoverlabel": {
           "align": "left"
          },
          "hovermode": "closest",
          "mapbox": {
           "style": "light"
          },
          "paper_bgcolor": "white",
          "plot_bgcolor": "#E5ECF6",
          "polar": {
           "angularaxis": {
            "gridcolor": "white",
            "linecolor": "white",
            "ticks": ""
           },
           "bgcolor": "#E5ECF6",
           "radialaxis": {
            "gridcolor": "white",
            "linecolor": "white",
            "ticks": ""
           }
          },
          "scene": {
           "xaxis": {
            "backgroundcolor": "#E5ECF6",
            "gridcolor": "white",
            "gridwidth": 2,
            "linecolor": "white",
            "showbackground": true,
            "ticks": "",
            "zerolinecolor": "white"
           },
           "yaxis": {
            "backgroundcolor": "#E5ECF6",
            "gridcolor": "white",
            "gridwidth": 2,
            "linecolor": "white",
            "showbackground": true,
            "ticks": "",
            "zerolinecolor": "white"
           },
           "zaxis": {
            "backgroundcolor": "#E5ECF6",
            "gridcolor": "white",
            "gridwidth": 2,
            "linecolor": "white",
            "showbackground": true,
            "ticks": "",
            "zerolinecolor": "white"
           }
          },
          "shapedefaults": {
           "line": {
            "color": "#2a3f5f"
           }
          },
          "ternary": {
           "aaxis": {
            "gridcolor": "white",
            "linecolor": "white",
            "ticks": ""
           },
           "baxis": {
            "gridcolor": "white",
            "linecolor": "white",
            "ticks": ""
           },
           "bgcolor": "#E5ECF6",
           "caxis": {
            "gridcolor": "white",
            "linecolor": "white",
            "ticks": ""
           }
          },
          "title": {
           "x": 0.05
          },
          "xaxis": {
           "automargin": true,
           "gridcolor": "white",
           "linecolor": "white",
           "ticks": "",
           "title": {
            "standoff": 15
           },
           "zerolinecolor": "white",
           "zerolinewidth": 2
          },
          "yaxis": {
           "automargin": true,
           "gridcolor": "white",
           "linecolor": "white",
           "ticks": "",
           "title": {
            "standoff": 15
           },
           "zerolinecolor": "white",
           "zerolinewidth": 2
          }
         }
        },
        "xaxis": {
         "anchor": "y",
         "domain": [
          0,
          0.7363
         ],
         "title": {
          "text": "PC0"
         }
        },
        "xaxis2": {
         "anchor": "y2",
         "domain": [
          0.7413,
          1
         ],
         "matches": "x2",
         "showgrid": false,
         "showline": false,
         "showticklabels": false,
         "ticks": ""
        },
        "xaxis3": {
         "anchor": "y3",
         "domain": [
          0,
          0.7363
         ],
         "matches": "x",
         "showgrid": true,
         "showticklabels": false
        },
        "xaxis4": {
         "anchor": "y4",
         "domain": [
          0.7413,
          1
         ],
         "matches": "x2",
         "showgrid": false,
         "showline": false,
         "showticklabels": false,
         "ticks": ""
        },
        "yaxis": {
         "anchor": "x",
         "domain": [
          0,
          0.7326
         ],
         "title": {
          "text": "PC1"
         }
        },
        "yaxis2": {
         "anchor": "x2",
         "domain": [
          0,
          0.7326
         ],
         "matches": "y",
         "showgrid": true,
         "showticklabels": false
        },
        "yaxis3": {
         "anchor": "x3",
         "domain": [
          0.7426,
          1
         ],
         "matches": "y3",
         "showgrid": false,
         "showline": false,
         "showticklabels": false,
         "ticks": ""
        },
        "yaxis4": {
         "anchor": "x4",
         "domain": [
          0.7426,
          1
         ],
         "matches": "y3",
         "showgrid": true,
         "showline": false,
         "showticklabels": false,
         "ticks": ""
        }
       }
      }
     },
     "metadata": {},
     "output_type": "display_data"
    }
   ],
   "source": [
    "vis_loadings(0, 1)"
   ]
  },
  {
   "cell_type": "code",
   "execution_count": 18,
   "metadata": {},
   "outputs": [
    {
     "data": {
      "application/vnd.plotly.v1+json": {
       "config": {
        "plotlyServerURL": "https://plot.ly"
       },
       "data": [
        {
         "customdata": [
          [
           "LCD Soundsystem",
           "45:33",
           "alternative dance"
          ],
          [
           "LCD Soundsystem",
           "LCD Soundsystem",
           "alternative dance"
          ],
          [
           "LCD Soundsystem",
           "Sound of Silver",
           "alternative dance"
          ],
          [
           "LCD Soundsystem",
           "This Is Happening",
           "alternative dance"
          ],
          [
           "LCD Soundsystem",
           "american dream",
           "alternative dance"
          ]
         ],
         "hovertemplate": "artist=%{customdata[0]}<br>PC1=%{x}<br>PC2=%{y}<br>album_title=%{customdata[1]}<br>genre=%{customdata[2]}<extra></extra>",
         "legendgroup": "LCD Soundsystem",
         "marker": {
          "color": "#636efa",
          "symbol": "circle"
         },
         "mode": "markers",
         "name": "LCD Soundsystem",
         "orientation": "v",
         "showlegend": true,
         "type": "scatter",
         "x": [
          0.15505511385424275,
          -0.04646075247984685,
          -0.04577183091447425,
          0.08469884662195729,
          -0.026461870000643414
         ],
         "xaxis": "x",
         "y": [
          -0.07550308396111938,
          0.0009351388148222568,
          0.07484110489872986,
          0.04409970574761307,
          -0.0380787778152226
         ],
         "yaxis": "y"
        },
        {
         "alignmentgroup": "True",
         "customdata": [
          [
           "LCD Soundsystem",
           "45:33",
           "alternative dance"
          ],
          [
           "LCD Soundsystem",
           "LCD Soundsystem",
           "alternative dance"
          ],
          [
           "LCD Soundsystem",
           "Sound of Silver",
           "alternative dance"
          ],
          [
           "LCD Soundsystem",
           "This Is Happening",
           "alternative dance"
          ],
          [
           "LCD Soundsystem",
           "american dream",
           "alternative dance"
          ]
         ],
         "hovertemplate": "artist=%{customdata[0]}<br>PC1=%{x}<br>album_title=%{customdata[1]}<br>genre=%{customdata[2]}<extra></extra>",
         "legendgroup": "LCD Soundsystem",
         "marker": {
          "color": "#636efa",
          "symbol": "circle"
         },
         "name": "LCD Soundsystem",
         "notched": true,
         "offsetgroup": "LCD Soundsystem",
         "showlegend": false,
         "type": "box",
         "x": [
          0.15505511385424275,
          -0.04646075247984685,
          -0.04577183091447425,
          0.08469884662195729,
          -0.026461870000643414
         ],
         "xaxis": "x3",
         "yaxis": "y3"
        },
        {
         "alignmentgroup": "True",
         "customdata": [
          [
           "LCD Soundsystem",
           "45:33",
           "alternative dance"
          ],
          [
           "LCD Soundsystem",
           "LCD Soundsystem",
           "alternative dance"
          ],
          [
           "LCD Soundsystem",
           "Sound of Silver",
           "alternative dance"
          ],
          [
           "LCD Soundsystem",
           "This Is Happening",
           "alternative dance"
          ],
          [
           "LCD Soundsystem",
           "american dream",
           "alternative dance"
          ]
         ],
         "hovertemplate": "artist=%{customdata[0]}<br>PC2=%{y}<br>album_title=%{customdata[1]}<br>genre=%{customdata[2]}<extra></extra>",
         "legendgroup": "LCD Soundsystem",
         "marker": {
          "color": "#636efa",
          "symbol": "circle"
         },
         "name": "LCD Soundsystem",
         "notched": true,
         "offsetgroup": "LCD Soundsystem",
         "showlegend": false,
         "type": "box",
         "xaxis": "x2",
         "y": [
          -0.07550308396111938,
          0.0009351388148222568,
          0.07484110489872986,
          0.04409970574761307,
          -0.0380787778152226
         ],
         "yaxis": "y2"
        },
        {
         "customdata": [
          [
           "Radiohead",
           "A Moon Shaped Pool",
           "alternative rock"
          ],
          [
           "Radiohead",
           "Amnesiac",
           "alternative rock"
          ],
          [
           "Radiohead",
           "Hail To the Thief",
           "alternative rock"
          ],
          [
           "Radiohead",
           "In Rainbows",
           "alternative rock"
          ],
          [
           "Radiohead",
           "Kid A",
           "alternative rock"
          ],
          [
           "Radiohead",
           "OK Computer",
           "alternative rock"
          ],
          [
           "Radiohead",
           "Pablo Honey",
           "alternative rock"
          ],
          [
           "Radiohead",
           "The Bends",
           "alternative rock"
          ],
          [
           "Radiohead",
           "The King Of Limbs",
           "alternative rock"
          ]
         ],
         "hovertemplate": "artist=%{customdata[0]}<br>PC1=%{x}<br>PC2=%{y}<br>album_title=%{customdata[1]}<br>genre=%{customdata[2]}<extra></extra>",
         "legendgroup": "Radiohead",
         "marker": {
          "color": "#EF553B",
          "symbol": "circle"
         },
         "mode": "markers",
         "name": "Radiohead",
         "orientation": "v",
         "showlegend": true,
         "type": "scatter",
         "x": [
          -0.04835803110876477,
          -0.09105833593753555,
          -0.024163483575902416,
          -0.4203325283175656,
          -0.013030074085756654,
          -0.14652856994989205,
          -0.07140084198384358,
          0.005247514487161728,
          0.09967308343267933
         ],
         "xaxis": "x",
         "y": [
          0.04866928273742621,
          -0.06784323840511322,
          -0.002495227205416695,
          0.21921488033516606,
          0.15884903958758823,
          0.02271394342000125,
          0.11803897245541017,
          0.022847256703311086,
          -0.09192133188142318
         ],
         "yaxis": "y"
        },
        {
         "alignmentgroup": "True",
         "customdata": [
          [
           "Radiohead",
           "A Moon Shaped Pool",
           "alternative rock"
          ],
          [
           "Radiohead",
           "Amnesiac",
           "alternative rock"
          ],
          [
           "Radiohead",
           "Hail To the Thief",
           "alternative rock"
          ],
          [
           "Radiohead",
           "In Rainbows",
           "alternative rock"
          ],
          [
           "Radiohead",
           "Kid A",
           "alternative rock"
          ],
          [
           "Radiohead",
           "OK Computer",
           "alternative rock"
          ],
          [
           "Radiohead",
           "Pablo Honey",
           "alternative rock"
          ],
          [
           "Radiohead",
           "The Bends",
           "alternative rock"
          ],
          [
           "Radiohead",
           "The King Of Limbs",
           "alternative rock"
          ]
         ],
         "hovertemplate": "artist=%{customdata[0]}<br>PC1=%{x}<br>album_title=%{customdata[1]}<br>genre=%{customdata[2]}<extra></extra>",
         "legendgroup": "Radiohead",
         "marker": {
          "color": "#EF553B",
          "symbol": "circle"
         },
         "name": "Radiohead",
         "notched": true,
         "offsetgroup": "Radiohead",
         "showlegend": false,
         "type": "box",
         "x": [
          -0.04835803110876477,
          -0.09105833593753555,
          -0.024163483575902416,
          -0.4203325283175656,
          -0.013030074085756654,
          -0.14652856994989205,
          -0.07140084198384358,
          0.005247514487161728,
          0.09967308343267933
         ],
         "xaxis": "x3",
         "yaxis": "y3"
        },
        {
         "alignmentgroup": "True",
         "customdata": [
          [
           "Radiohead",
           "A Moon Shaped Pool",
           "alternative rock"
          ],
          [
           "Radiohead",
           "Amnesiac",
           "alternative rock"
          ],
          [
           "Radiohead",
           "Hail To the Thief",
           "alternative rock"
          ],
          [
           "Radiohead",
           "In Rainbows",
           "alternative rock"
          ],
          [
           "Radiohead",
           "Kid A",
           "alternative rock"
          ],
          [
           "Radiohead",
           "OK Computer",
           "alternative rock"
          ],
          [
           "Radiohead",
           "Pablo Honey",
           "alternative rock"
          ],
          [
           "Radiohead",
           "The Bends",
           "alternative rock"
          ],
          [
           "Radiohead",
           "The King Of Limbs",
           "alternative rock"
          ]
         ],
         "hovertemplate": "artist=%{customdata[0]}<br>PC2=%{y}<br>album_title=%{customdata[1]}<br>genre=%{customdata[2]}<extra></extra>",
         "legendgroup": "Radiohead",
         "marker": {
          "color": "#EF553B",
          "symbol": "circle"
         },
         "name": "Radiohead",
         "notched": true,
         "offsetgroup": "Radiohead",
         "showlegend": false,
         "type": "box",
         "xaxis": "x2",
         "y": [
          0.04866928273742621,
          -0.06784323840511322,
          -0.002495227205416695,
          0.21921488033516606,
          0.15884903958758823,
          0.02271394342000125,
          0.11803897245541017,
          0.022847256703311086,
          -0.09192133188142318
         ],
         "yaxis": "y2"
        },
        {
         "customdata": [
          [
           "St. Vincent",
           "Actor",
           "art pop"
          ],
          [
           "St. Vincent",
           "Daddy's Home",
           "art pop"
          ],
          [
           "St. Vincent",
           "Love This Giant",
           "art pop"
          ],
          [
           "St. Vincent",
           "MASSEDUCTION",
           "art pop"
          ],
          [
           "St. Vincent",
           "Marry Me",
           "art pop"
          ],
          [
           "St. Vincent",
           "St. Vincent (Deluxe Edition)",
           "art pop"
          ],
          [
           "St. Vincent",
           "Strange Mercy",
           "art pop"
          ]
         ],
         "hovertemplate": "artist=%{customdata[0]}<br>PC1=%{x}<br>PC2=%{y}<br>album_title=%{customdata[1]}<br>genre=%{customdata[2]}<extra></extra>",
         "legendgroup": "St. Vincent",
         "marker": {
          "color": "#00cc96",
          "symbol": "circle"
         },
         "mode": "markers",
         "name": "St. Vincent",
         "orientation": "v",
         "showlegend": true,
         "type": "scatter",
         "x": [
          -0.007181743320457459,
          -0.08701181842759925,
          -0.11506805377734201,
          0.11822967921511811,
          -0.06815465069270533,
          -0.20435814076146092,
          0.08726094477431812
         ],
         "xaxis": "x",
         "y": [
          -0.13921363481484944,
          -0.20273020267799555,
          -0.00022335406073003194,
          0.3032433365673208,
          0.21766860969645502,
          0.04848264821258085,
          0.006092937596834574
         ],
         "yaxis": "y"
        },
        {
         "alignmentgroup": "True",
         "customdata": [
          [
           "St. Vincent",
           "Actor",
           "art pop"
          ],
          [
           "St. Vincent",
           "Daddy's Home",
           "art pop"
          ],
          [
           "St. Vincent",
           "Love This Giant",
           "art pop"
          ],
          [
           "St. Vincent",
           "MASSEDUCTION",
           "art pop"
          ],
          [
           "St. Vincent",
           "Marry Me",
           "art pop"
          ],
          [
           "St. Vincent",
           "St. Vincent (Deluxe Edition)",
           "art pop"
          ],
          [
           "St. Vincent",
           "Strange Mercy",
           "art pop"
          ]
         ],
         "hovertemplate": "artist=%{customdata[0]}<br>PC1=%{x}<br>album_title=%{customdata[1]}<br>genre=%{customdata[2]}<extra></extra>",
         "legendgroup": "St. Vincent",
         "marker": {
          "color": "#00cc96",
          "symbol": "circle"
         },
         "name": "St. Vincent",
         "notched": true,
         "offsetgroup": "St. Vincent",
         "showlegend": false,
         "type": "box",
         "x": [
          -0.007181743320457459,
          -0.08701181842759925,
          -0.11506805377734201,
          0.11822967921511811,
          -0.06815465069270533,
          -0.20435814076146092,
          0.08726094477431812
         ],
         "xaxis": "x3",
         "yaxis": "y3"
        },
        {
         "alignmentgroup": "True",
         "customdata": [
          [
           "St. Vincent",
           "Actor",
           "art pop"
          ],
          [
           "St. Vincent",
           "Daddy's Home",
           "art pop"
          ],
          [
           "St. Vincent",
           "Love This Giant",
           "art pop"
          ],
          [
           "St. Vincent",
           "MASSEDUCTION",
           "art pop"
          ],
          [
           "St. Vincent",
           "Marry Me",
           "art pop"
          ],
          [
           "St. Vincent",
           "St. Vincent (Deluxe Edition)",
           "art pop"
          ],
          [
           "St. Vincent",
           "Strange Mercy",
           "art pop"
          ]
         ],
         "hovertemplate": "artist=%{customdata[0]}<br>PC2=%{y}<br>album_title=%{customdata[1]}<br>genre=%{customdata[2]}<extra></extra>",
         "legendgroup": "St. Vincent",
         "marker": {
          "color": "#00cc96",
          "symbol": "circle"
         },
         "name": "St. Vincent",
         "notched": true,
         "offsetgroup": "St. Vincent",
         "showlegend": false,
         "type": "box",
         "xaxis": "x2",
         "y": [
          -0.13921363481484944,
          -0.20273020267799555,
          -0.00022335406073003194,
          0.3032433365673208,
          0.21766860969645502,
          0.04848264821258085,
          0.006092937596834574
         ],
         "yaxis": "y2"
        },
        {
         "customdata": [
          [
           "The National",
           "Alligator",
           "chamber pop"
          ],
          [
           "The National",
           "Boxer",
           "chamber pop"
          ],
          [
           "The National",
           "High Violet",
           "chamber pop"
          ],
          [
           "The National",
           "Sleep Well Beast",
           "chamber pop"
          ],
          [
           "The National",
           "Trouble Will Find Me",
           "chamber pop"
          ]
         ],
         "hovertemplate": "artist=%{customdata[0]}<br>PC1=%{x}<br>PC2=%{y}<br>album_title=%{customdata[1]}<br>genre=%{customdata[2]}<extra></extra>",
         "legendgroup": "The National",
         "marker": {
          "color": "#ab63fa",
          "symbol": "circle"
         },
         "mode": "markers",
         "name": "The National",
         "orientation": "v",
         "showlegend": true,
         "type": "scatter",
         "x": [
          0.06448069368091597,
          0.01999427716334859,
          -0.015585491158551214,
          0.04794663064700042,
          0.13333166859333487
         ],
         "xaxis": "x",
         "y": [
          -0.056310027190171384,
          -0.01324278824881808,
          0.1262819722323199,
          0.1270135233159747,
          0.02498833549236768
         ],
         "yaxis": "y"
        },
        {
         "alignmentgroup": "True",
         "customdata": [
          [
           "The National",
           "Alligator",
           "chamber pop"
          ],
          [
           "The National",
           "Boxer",
           "chamber pop"
          ],
          [
           "The National",
           "High Violet",
           "chamber pop"
          ],
          [
           "The National",
           "Sleep Well Beast",
           "chamber pop"
          ],
          [
           "The National",
           "Trouble Will Find Me",
           "chamber pop"
          ]
         ],
         "hovertemplate": "artist=%{customdata[0]}<br>PC1=%{x}<br>album_title=%{customdata[1]}<br>genre=%{customdata[2]}<extra></extra>",
         "legendgroup": "The National",
         "marker": {
          "color": "#ab63fa",
          "symbol": "circle"
         },
         "name": "The National",
         "notched": true,
         "offsetgroup": "The National",
         "showlegend": false,
         "type": "box",
         "x": [
          0.06448069368091597,
          0.01999427716334859,
          -0.015585491158551214,
          0.04794663064700042,
          0.13333166859333487
         ],
         "xaxis": "x3",
         "yaxis": "y3"
        },
        {
         "alignmentgroup": "True",
         "customdata": [
          [
           "The National",
           "Alligator",
           "chamber pop"
          ],
          [
           "The National",
           "Boxer",
           "chamber pop"
          ],
          [
           "The National",
           "High Violet",
           "chamber pop"
          ],
          [
           "The National",
           "Sleep Well Beast",
           "chamber pop"
          ],
          [
           "The National",
           "Trouble Will Find Me",
           "chamber pop"
          ]
         ],
         "hovertemplate": "artist=%{customdata[0]}<br>PC2=%{y}<br>album_title=%{customdata[1]}<br>genre=%{customdata[2]}<extra></extra>",
         "legendgroup": "The National",
         "marker": {
          "color": "#ab63fa",
          "symbol": "circle"
         },
         "name": "The National",
         "notched": true,
         "offsetgroup": "The National",
         "showlegend": false,
         "type": "box",
         "xaxis": "x2",
         "y": [
          -0.056310027190171384,
          -0.01324278824881808,
          0.1262819722323199,
          0.1270135233159747,
          0.02498833549236768
         ],
         "yaxis": "y2"
        },
        {
         "customdata": [
          [
           "Metric",
           "Art of Doubt",
           "canadian indie"
          ],
          [
           "Metric",
           "Fantasies",
           "canadian indie"
          ],
          [
           "Metric",
           "Formentera",
           "canadian indie"
          ],
          [
           "Metric",
           "Formentera II",
           "canadian indie"
          ],
          [
           "Metric",
           "Grow Up And Blow Away",
           "canadian indie"
          ],
          [
           "Metric",
           "Live It Out",
           "canadian indie"
          ],
          [
           "Metric",
           "Old World Underground, Where Are You Now?",
           "canadian indie"
          ],
          [
           "Metric",
           "Pagans in Vegas",
           "canadian indie"
          ],
          [
           "Metric",
           "Synthetica",
           "canadian indie"
          ]
         ],
         "hovertemplate": "artist=%{customdata[0]}<br>PC1=%{x}<br>PC2=%{y}<br>album_title=%{customdata[1]}<br>genre=%{customdata[2]}<extra></extra>",
         "legendgroup": "Metric",
         "marker": {
          "color": "#FFA15A",
          "symbol": "circle"
         },
         "mode": "markers",
         "name": "Metric",
         "orientation": "v",
         "showlegend": true,
         "type": "scatter",
         "x": [
          -0.040797951815640394,
          0.052796950976057314,
          0.019257271612924582,
          0.08408702124411804,
          0.13821357177251853,
          -0.061117823812661565,
          -0.03681230995408641,
          0.23543235210087513,
          0.02929082263207349
         ],
         "xaxis": "x",
         "y": [
          -0.006127674599793485,
          0.02634514350206666,
          0.040811542453019996,
          0.2288823856536637,
          0.17379066642657148,
          -0.09368574599830437,
          -0.059113286524406616,
          0.23465945649716163,
          -0.060325998306842224
         ],
         "yaxis": "y"
        },
        {
         "alignmentgroup": "True",
         "customdata": [
          [
           "Metric",
           "Art of Doubt",
           "canadian indie"
          ],
          [
           "Metric",
           "Fantasies",
           "canadian indie"
          ],
          [
           "Metric",
           "Formentera",
           "canadian indie"
          ],
          [
           "Metric",
           "Formentera II",
           "canadian indie"
          ],
          [
           "Metric",
           "Grow Up And Blow Away",
           "canadian indie"
          ],
          [
           "Metric",
           "Live It Out",
           "canadian indie"
          ],
          [
           "Metric",
           "Old World Underground, Where Are You Now?",
           "canadian indie"
          ],
          [
           "Metric",
           "Pagans in Vegas",
           "canadian indie"
          ],
          [
           "Metric",
           "Synthetica",
           "canadian indie"
          ]
         ],
         "hovertemplate": "artist=%{customdata[0]}<br>PC1=%{x}<br>album_title=%{customdata[1]}<br>genre=%{customdata[2]}<extra></extra>",
         "legendgroup": "Metric",
         "marker": {
          "color": "#FFA15A",
          "symbol": "circle"
         },
         "name": "Metric",
         "notched": true,
         "offsetgroup": "Metric",
         "showlegend": false,
         "type": "box",
         "x": [
          -0.040797951815640394,
          0.052796950976057314,
          0.019257271612924582,
          0.08408702124411804,
          0.13821357177251853,
          -0.061117823812661565,
          -0.03681230995408641,
          0.23543235210087513,
          0.02929082263207349
         ],
         "xaxis": "x3",
         "yaxis": "y3"
        },
        {
         "alignmentgroup": "True",
         "customdata": [
          [
           "Metric",
           "Art of Doubt",
           "canadian indie"
          ],
          [
           "Metric",
           "Fantasies",
           "canadian indie"
          ],
          [
           "Metric",
           "Formentera",
           "canadian indie"
          ],
          [
           "Metric",
           "Formentera II",
           "canadian indie"
          ],
          [
           "Metric",
           "Grow Up And Blow Away",
           "canadian indie"
          ],
          [
           "Metric",
           "Live It Out",
           "canadian indie"
          ],
          [
           "Metric",
           "Old World Underground, Where Are You Now?",
           "canadian indie"
          ],
          [
           "Metric",
           "Pagans in Vegas",
           "canadian indie"
          ],
          [
           "Metric",
           "Synthetica",
           "canadian indie"
          ]
         ],
         "hovertemplate": "artist=%{customdata[0]}<br>PC2=%{y}<br>album_title=%{customdata[1]}<br>genre=%{customdata[2]}<extra></extra>",
         "legendgroup": "Metric",
         "marker": {
          "color": "#FFA15A",
          "symbol": "circle"
         },
         "name": "Metric",
         "notched": true,
         "offsetgroup": "Metric",
         "showlegend": false,
         "type": "box",
         "xaxis": "x2",
         "y": [
          -0.006127674599793485,
          0.02634514350206666,
          0.040811542453019996,
          0.2288823856536637,
          0.17379066642657148,
          -0.09368574599830437,
          -0.059113286524406616,
          0.23465945649716163,
          -0.060325998306842224
         ],
         "yaxis": "y2"
        },
        {
         "customdata": [
          [
           "Broken Social Scene",
           "Bee Hives",
           "alternative rock"
          ],
          [
           "Broken Social Scene",
           "Broken Social Scene",
           "alternative rock"
          ],
          [
           "Broken Social Scene",
           "Feel Good Lost",
           "alternative rock"
          ],
          [
           "Broken Social Scene",
           "Forgiveness Rock Record",
           "alternative rock"
          ],
          [
           "Broken Social Scene",
           "Hug Of Thunder",
           "alternative rock"
          ],
          [
           "Broken Social Scene",
           "You Forgot It In People",
           "alternative rock"
          ]
         ],
         "hovertemplate": "artist=%{customdata[0]}<br>PC1=%{x}<br>PC2=%{y}<br>album_title=%{customdata[1]}<br>genre=%{customdata[2]}<extra></extra>",
         "legendgroup": "Broken Social Scene",
         "marker": {
          "color": "#19d3f3",
          "symbol": "circle"
         },
         "mode": "markers",
         "name": "Broken Social Scene",
         "orientation": "v",
         "showlegend": true,
         "type": "scatter",
         "x": [
          -0.13747507494127603,
          -0.048739470655007985,
          0.10138663193311095,
          0.0029624694875427836,
          -0.04125640941195801,
          -0.10804117491989362
         ],
         "xaxis": "x",
         "y": [
          0.3292237790428834,
          -0.10479675168152022,
          0.4906735028866896,
          -0.0005500254770734615,
          0.09356302599753123,
          0.036009458108291155
         ],
         "yaxis": "y"
        },
        {
         "alignmentgroup": "True",
         "customdata": [
          [
           "Broken Social Scene",
           "Bee Hives",
           "alternative rock"
          ],
          [
           "Broken Social Scene",
           "Broken Social Scene",
           "alternative rock"
          ],
          [
           "Broken Social Scene",
           "Feel Good Lost",
           "alternative rock"
          ],
          [
           "Broken Social Scene",
           "Forgiveness Rock Record",
           "alternative rock"
          ],
          [
           "Broken Social Scene",
           "Hug Of Thunder",
           "alternative rock"
          ],
          [
           "Broken Social Scene",
           "You Forgot It In People",
           "alternative rock"
          ]
         ],
         "hovertemplate": "artist=%{customdata[0]}<br>PC1=%{x}<br>album_title=%{customdata[1]}<br>genre=%{customdata[2]}<extra></extra>",
         "legendgroup": "Broken Social Scene",
         "marker": {
          "color": "#19d3f3",
          "symbol": "circle"
         },
         "name": "Broken Social Scene",
         "notched": true,
         "offsetgroup": "Broken Social Scene",
         "showlegend": false,
         "type": "box",
         "x": [
          -0.13747507494127603,
          -0.048739470655007985,
          0.10138663193311095,
          0.0029624694875427836,
          -0.04125640941195801,
          -0.10804117491989362
         ],
         "xaxis": "x3",
         "yaxis": "y3"
        },
        {
         "alignmentgroup": "True",
         "customdata": [
          [
           "Broken Social Scene",
           "Bee Hives",
           "alternative rock"
          ],
          [
           "Broken Social Scene",
           "Broken Social Scene",
           "alternative rock"
          ],
          [
           "Broken Social Scene",
           "Feel Good Lost",
           "alternative rock"
          ],
          [
           "Broken Social Scene",
           "Forgiveness Rock Record",
           "alternative rock"
          ],
          [
           "Broken Social Scene",
           "Hug Of Thunder",
           "alternative rock"
          ],
          [
           "Broken Social Scene",
           "You Forgot It In People",
           "alternative rock"
          ]
         ],
         "hovertemplate": "artist=%{customdata[0]}<br>PC2=%{y}<br>album_title=%{customdata[1]}<br>genre=%{customdata[2]}<extra></extra>",
         "legendgroup": "Broken Social Scene",
         "marker": {
          "color": "#19d3f3",
          "symbol": "circle"
         },
         "name": "Broken Social Scene",
         "notched": true,
         "offsetgroup": "Broken Social Scene",
         "showlegend": false,
         "type": "box",
         "xaxis": "x2",
         "y": [
          0.3292237790428834,
          -0.10479675168152022,
          0.4906735028866896,
          -0.0005500254770734615,
          0.09356302599753123,
          0.036009458108291155
         ],
         "yaxis": "y2"
        },
        {
         "customdata": [
          [
           "Dirty Projectors",
           "Bitte Orca",
           "art pop"
          ],
          [
           "Dirty Projectors",
           "Dirty Projectors",
           "art pop"
          ],
          [
           "Dirty Projectors",
           "Lamp Lit Prose",
           "art pop"
          ],
          [
           "Dirty Projectors",
           "Morning Better Last!",
           "art pop"
          ],
          [
           "Dirty Projectors",
           "Mount Wittenberg Orca",
           "art pop"
          ],
          [
           "Dirty Projectors",
           "Rise Above",
           "art pop"
          ],
          [
           "Dirty Projectors",
           "Slaves' Graves and Ballads",
           "art pop"
          ],
          [
           "Dirty Projectors",
           "Swing Lo Magellan",
           "art pop"
          ],
          [
           "Dirty Projectors",
           "The Getty Address",
           "art pop"
          ],
          [
           "Dirty Projectors",
           "The Glad Fact",
           "art pop"
          ]
         ],
         "hovertemplate": "artist=%{customdata[0]}<br>PC1=%{x}<br>PC2=%{y}<br>album_title=%{customdata[1]}<br>genre=%{customdata[2]}<extra></extra>",
         "legendgroup": "Dirty Projectors",
         "marker": {
          "color": "#FF6692",
          "symbol": "circle"
         },
         "mode": "markers",
         "name": "Dirty Projectors",
         "orientation": "v",
         "showlegend": true,
         "type": "scatter",
         "x": [
          0.005456170658701574,
          -0.15149413378620105,
          0.10330890008552389,
          0.0029113967442005143,
          0.06026233580194154,
          -0.043246126445349746,
          0.23670548616702777,
          -0.08058474066416078,
          0.08527890882704042,
          0.03489176679180296
         ],
         "xaxis": "x",
         "y": [
          -0.05202978550721917,
          -0.004957826307555583,
          -0.02109189425926028,
          0.009841351569695803,
          -0.02391342996054173,
          -0.06332438571938608,
          0.08816119729918598,
          0.2680694787256791,
          0.0006952438516270205,
          -0.03470113718402597
         ],
         "yaxis": "y"
        },
        {
         "alignmentgroup": "True",
         "customdata": [
          [
           "Dirty Projectors",
           "Bitte Orca",
           "art pop"
          ],
          [
           "Dirty Projectors",
           "Dirty Projectors",
           "art pop"
          ],
          [
           "Dirty Projectors",
           "Lamp Lit Prose",
           "art pop"
          ],
          [
           "Dirty Projectors",
           "Morning Better Last!",
           "art pop"
          ],
          [
           "Dirty Projectors",
           "Mount Wittenberg Orca",
           "art pop"
          ],
          [
           "Dirty Projectors",
           "Rise Above",
           "art pop"
          ],
          [
           "Dirty Projectors",
           "Slaves' Graves and Ballads",
           "art pop"
          ],
          [
           "Dirty Projectors",
           "Swing Lo Magellan",
           "art pop"
          ],
          [
           "Dirty Projectors",
           "The Getty Address",
           "art pop"
          ],
          [
           "Dirty Projectors",
           "The Glad Fact",
           "art pop"
          ]
         ],
         "hovertemplate": "artist=%{customdata[0]}<br>PC1=%{x}<br>album_title=%{customdata[1]}<br>genre=%{customdata[2]}<extra></extra>",
         "legendgroup": "Dirty Projectors",
         "marker": {
          "color": "#FF6692",
          "symbol": "circle"
         },
         "name": "Dirty Projectors",
         "notched": true,
         "offsetgroup": "Dirty Projectors",
         "showlegend": false,
         "type": "box",
         "x": [
          0.005456170658701574,
          -0.15149413378620105,
          0.10330890008552389,
          0.0029113967442005143,
          0.06026233580194154,
          -0.043246126445349746,
          0.23670548616702777,
          -0.08058474066416078,
          0.08527890882704042,
          0.03489176679180296
         ],
         "xaxis": "x3",
         "yaxis": "y3"
        },
        {
         "alignmentgroup": "True",
         "customdata": [
          [
           "Dirty Projectors",
           "Bitte Orca",
           "art pop"
          ],
          [
           "Dirty Projectors",
           "Dirty Projectors",
           "art pop"
          ],
          [
           "Dirty Projectors",
           "Lamp Lit Prose",
           "art pop"
          ],
          [
           "Dirty Projectors",
           "Morning Better Last!",
           "art pop"
          ],
          [
           "Dirty Projectors",
           "Mount Wittenberg Orca",
           "art pop"
          ],
          [
           "Dirty Projectors",
           "Rise Above",
           "art pop"
          ],
          [
           "Dirty Projectors",
           "Slaves' Graves and Ballads",
           "art pop"
          ],
          [
           "Dirty Projectors",
           "Swing Lo Magellan",
           "art pop"
          ],
          [
           "Dirty Projectors",
           "The Getty Address",
           "art pop"
          ],
          [
           "Dirty Projectors",
           "The Glad Fact",
           "art pop"
          ]
         ],
         "hovertemplate": "artist=%{customdata[0]}<br>PC2=%{y}<br>album_title=%{customdata[1]}<br>genre=%{customdata[2]}<extra></extra>",
         "legendgroup": "Dirty Projectors",
         "marker": {
          "color": "#FF6692",
          "symbol": "circle"
         },
         "name": "Dirty Projectors",
         "notched": true,
         "offsetgroup": "Dirty Projectors",
         "showlegend": false,
         "type": "box",
         "xaxis": "x2",
         "y": [
          -0.05202978550721917,
          -0.004957826307555583,
          -0.02109189425926028,
          0.009841351569695803,
          -0.02391342996054173,
          -0.06332438571938608,
          0.08816119729918598,
          0.2680694787256791,
          0.0006952438516270205,
          -0.03470113718402597
         ],
         "yaxis": "y2"
        },
        {
         "customdata": [
          [
           "Big Thief",
           "Capacity",
           "art pop"
          ],
          [
           "Big Thief",
           "Dragon New Warm Mountain I Believe In You",
           "art pop"
          ],
          [
           "Big Thief",
           "Masterpiece (2023 Remaster)",
           "art pop"
          ],
          [
           "Big Thief",
           "Two Hands",
           "art pop"
          ],
          [
           "Big Thief",
           "U.F.O.F.",
           "art pop"
          ]
         ],
         "hovertemplate": "artist=%{customdata[0]}<br>PC1=%{x}<br>PC2=%{y}<br>album_title=%{customdata[1]}<br>genre=%{customdata[2]}<extra></extra>",
         "legendgroup": "Big Thief",
         "marker": {
          "color": "#B6E880",
          "symbol": "circle"
         },
         "mode": "markers",
         "name": "Big Thief",
         "orientation": "v",
         "showlegend": true,
         "type": "scatter",
         "x": [
          0.06592116367735214,
          0.16488063275946083,
          0.026274951555816668,
          0.26382365342385666,
          0.12150815887762209
         ],
         "xaxis": "x",
         "y": [
          -0.10074211279104585,
          -0.037606535334629244,
          -0.045665215898636806,
          0.05401104771783248,
          -0.012380351061044426
         ],
         "yaxis": "y"
        },
        {
         "alignmentgroup": "True",
         "customdata": [
          [
           "Big Thief",
           "Capacity",
           "art pop"
          ],
          [
           "Big Thief",
           "Dragon New Warm Mountain I Believe In You",
           "art pop"
          ],
          [
           "Big Thief",
           "Masterpiece (2023 Remaster)",
           "art pop"
          ],
          [
           "Big Thief",
           "Two Hands",
           "art pop"
          ],
          [
           "Big Thief",
           "U.F.O.F.",
           "art pop"
          ]
         ],
         "hovertemplate": "artist=%{customdata[0]}<br>PC1=%{x}<br>album_title=%{customdata[1]}<br>genre=%{customdata[2]}<extra></extra>",
         "legendgroup": "Big Thief",
         "marker": {
          "color": "#B6E880",
          "symbol": "circle"
         },
         "name": "Big Thief",
         "notched": true,
         "offsetgroup": "Big Thief",
         "showlegend": false,
         "type": "box",
         "x": [
          0.06592116367735214,
          0.16488063275946083,
          0.026274951555816668,
          0.26382365342385666,
          0.12150815887762209
         ],
         "xaxis": "x3",
         "yaxis": "y3"
        },
        {
         "alignmentgroup": "True",
         "customdata": [
          [
           "Big Thief",
           "Capacity",
           "art pop"
          ],
          [
           "Big Thief",
           "Dragon New Warm Mountain I Believe In You",
           "art pop"
          ],
          [
           "Big Thief",
           "Masterpiece (2023 Remaster)",
           "art pop"
          ],
          [
           "Big Thief",
           "Two Hands",
           "art pop"
          ],
          [
           "Big Thief",
           "U.F.O.F.",
           "art pop"
          ]
         ],
         "hovertemplate": "artist=%{customdata[0]}<br>PC2=%{y}<br>album_title=%{customdata[1]}<br>genre=%{customdata[2]}<extra></extra>",
         "legendgroup": "Big Thief",
         "marker": {
          "color": "#B6E880",
          "symbol": "circle"
         },
         "name": "Big Thief",
         "notched": true,
         "offsetgroup": "Big Thief",
         "showlegend": false,
         "type": "box",
         "xaxis": "x2",
         "y": [
          -0.10074211279104585,
          -0.037606535334629244,
          -0.045665215898636806,
          0.05401104771783248,
          -0.012380351061044426
         ],
         "yaxis": "y2"
        },
        {
         "customdata": [
          [
           "MGMT",
           "Congratulations",
           "alternative rock"
          ],
          [
           "MGMT",
           "Little Dark Age",
           "alternative rock"
          ],
          [
           "MGMT",
           "Loss Of Life",
           "alternative rock"
          ],
          [
           "MGMT",
           "MGMT",
           "alternative rock"
          ],
          [
           "MGMT",
           "Oracular Spectacular",
           "alternative rock"
          ]
         ],
         "hovertemplate": "artist=%{customdata[0]}<br>PC1=%{x}<br>PC2=%{y}<br>album_title=%{customdata[1]}<br>genre=%{customdata[2]}<extra></extra>",
         "legendgroup": "MGMT",
         "marker": {
          "color": "#FF97FF",
          "symbol": "circle"
         },
         "mode": "markers",
         "name": "MGMT",
         "orientation": "v",
         "showlegend": true,
         "type": "scatter",
         "x": [
          -0.4474032359043424,
          -0.2677651788630262,
          -0.041489550254105556,
          0.3106660770337568,
          0.009649107764087271
         ],
         "xaxis": "x",
         "y": [
          -0.027582182530738707,
          -0.0763479976994135,
          0.15668174191686296,
          0.30542231942523085,
          -0.07352768614743427
         ],
         "yaxis": "y"
        },
        {
         "alignmentgroup": "True",
         "customdata": [
          [
           "MGMT",
           "Congratulations",
           "alternative rock"
          ],
          [
           "MGMT",
           "Little Dark Age",
           "alternative rock"
          ],
          [
           "MGMT",
           "Loss Of Life",
           "alternative rock"
          ],
          [
           "MGMT",
           "MGMT",
           "alternative rock"
          ],
          [
           "MGMT",
           "Oracular Spectacular",
           "alternative rock"
          ]
         ],
         "hovertemplate": "artist=%{customdata[0]}<br>PC1=%{x}<br>album_title=%{customdata[1]}<br>genre=%{customdata[2]}<extra></extra>",
         "legendgroup": "MGMT",
         "marker": {
          "color": "#FF97FF",
          "symbol": "circle"
         },
         "name": "MGMT",
         "notched": true,
         "offsetgroup": "MGMT",
         "showlegend": false,
         "type": "box",
         "x": [
          -0.4474032359043424,
          -0.2677651788630262,
          -0.041489550254105556,
          0.3106660770337568,
          0.009649107764087271
         ],
         "xaxis": "x3",
         "yaxis": "y3"
        },
        {
         "alignmentgroup": "True",
         "customdata": [
          [
           "MGMT",
           "Congratulations",
           "alternative rock"
          ],
          [
           "MGMT",
           "Little Dark Age",
           "alternative rock"
          ],
          [
           "MGMT",
           "Loss Of Life",
           "alternative rock"
          ],
          [
           "MGMT",
           "MGMT",
           "alternative rock"
          ],
          [
           "MGMT",
           "Oracular Spectacular",
           "alternative rock"
          ]
         ],
         "hovertemplate": "artist=%{customdata[0]}<br>PC2=%{y}<br>album_title=%{customdata[1]}<br>genre=%{customdata[2]}<extra></extra>",
         "legendgroup": "MGMT",
         "marker": {
          "color": "#FF97FF",
          "symbol": "circle"
         },
         "name": "MGMT",
         "notched": true,
         "offsetgroup": "MGMT",
         "showlegend": false,
         "type": "box",
         "xaxis": "x2",
         "y": [
          -0.027582182530738707,
          -0.0763479976994135,
          0.15668174191686296,
          0.30542231942523085,
          -0.07352768614743427
         ],
         "yaxis": "y2"
        },
        {
         "customdata": [
          [
           "Yeah Yeah Yeahs",
           "Cool It Down",
           "alternative dance"
          ],
          [
           "Yeah Yeah Yeahs",
           "Fever To Tell",
           "alternative dance"
          ],
          [
           "Yeah Yeah Yeahs",
           "It's Blitz!",
           "alternative dance"
          ],
          [
           "Yeah Yeah Yeahs",
           "Mosquito (Deluxe)",
           "alternative dance"
          ],
          [
           "Yeah Yeah Yeahs",
           "Show Your Bones",
           "alternative dance"
          ]
         ],
         "hovertemplate": "artist=%{customdata[0]}<br>PC1=%{x}<br>PC2=%{y}<br>album_title=%{customdata[1]}<br>genre=%{customdata[2]}<extra></extra>",
         "legendgroup": "Yeah Yeah Yeahs",
         "marker": {
          "color": "#FECB52",
          "symbol": "circle"
         },
         "mode": "markers",
         "name": "Yeah Yeah Yeahs",
         "orientation": "v",
         "showlegend": true,
         "type": "scatter",
         "x": [
          0.023835824484560734,
          -0.009219071715343152,
          0.059228436047826086,
          -0.003196959811176037,
          0.051212188178608564
         ],
         "xaxis": "x",
         "y": [
          -0.028594294115135824,
          -0.08579742333582815,
          0.20818234522242351,
          -0.02009088449847745,
          0.09968526984862242
         ],
         "yaxis": "y"
        },
        {
         "alignmentgroup": "True",
         "customdata": [
          [
           "Yeah Yeah Yeahs",
           "Cool It Down",
           "alternative dance"
          ],
          [
           "Yeah Yeah Yeahs",
           "Fever To Tell",
           "alternative dance"
          ],
          [
           "Yeah Yeah Yeahs",
           "It's Blitz!",
           "alternative dance"
          ],
          [
           "Yeah Yeah Yeahs",
           "Mosquito (Deluxe)",
           "alternative dance"
          ],
          [
           "Yeah Yeah Yeahs",
           "Show Your Bones",
           "alternative dance"
          ]
         ],
         "hovertemplate": "artist=%{customdata[0]}<br>PC1=%{x}<br>album_title=%{customdata[1]}<br>genre=%{customdata[2]}<extra></extra>",
         "legendgroup": "Yeah Yeah Yeahs",
         "marker": {
          "color": "#FECB52",
          "symbol": "circle"
         },
         "name": "Yeah Yeah Yeahs",
         "notched": true,
         "offsetgroup": "Yeah Yeah Yeahs",
         "showlegend": false,
         "type": "box",
         "x": [
          0.023835824484560734,
          -0.009219071715343152,
          0.059228436047826086,
          -0.003196959811176037,
          0.051212188178608564
         ],
         "xaxis": "x3",
         "yaxis": "y3"
        },
        {
         "alignmentgroup": "True",
         "customdata": [
          [
           "Yeah Yeah Yeahs",
           "Cool It Down",
           "alternative dance"
          ],
          [
           "Yeah Yeah Yeahs",
           "Fever To Tell",
           "alternative dance"
          ],
          [
           "Yeah Yeah Yeahs",
           "It's Blitz!",
           "alternative dance"
          ],
          [
           "Yeah Yeah Yeahs",
           "Mosquito (Deluxe)",
           "alternative dance"
          ],
          [
           "Yeah Yeah Yeahs",
           "Show Your Bones",
           "alternative dance"
          ]
         ],
         "hovertemplate": "artist=%{customdata[0]}<br>PC2=%{y}<br>album_title=%{customdata[1]}<br>genre=%{customdata[2]}<extra></extra>",
         "legendgroup": "Yeah Yeah Yeahs",
         "marker": {
          "color": "#FECB52",
          "symbol": "circle"
         },
         "name": "Yeah Yeah Yeahs",
         "notched": true,
         "offsetgroup": "Yeah Yeah Yeahs",
         "showlegend": false,
         "type": "box",
         "xaxis": "x2",
         "y": [
          -0.028594294115135824,
          -0.08579742333582815,
          0.20818234522242351,
          -0.02009088449847745,
          0.09968526984862242
         ],
         "yaxis": "y2"
        },
        {
         "customdata": [
          [
           "Cults",
           "Cults",
           "experimental pop"
          ],
          [
           "Cults",
           "Host",
           "experimental pop"
          ],
          [
           "Cults",
           "Offering",
           "experimental pop"
          ],
          [
           "Cults",
           "Static",
           "experimental pop"
          ]
         ],
         "hovertemplate": "artist=%{customdata[0]}<br>PC1=%{x}<br>PC2=%{y}<br>album_title=%{customdata[1]}<br>genre=%{customdata[2]}<extra></extra>",
         "legendgroup": "Cults",
         "marker": {
          "color": "#636efa",
          "symbol": "circle"
         },
         "mode": "markers",
         "name": "Cults",
         "orientation": "v",
         "showlegend": true,
         "type": "scatter",
         "x": [
          -0.06111426423102281,
          0.1429171485966548,
          -0.5079261574218361,
          -0.18994318511789185
         ],
         "xaxis": "x",
         "y": [
          0.07786400460672391,
          -0.0219408067983744,
          0.17770127532216468,
          0.37111072305211756
         ],
         "yaxis": "y"
        },
        {
         "alignmentgroup": "True",
         "customdata": [
          [
           "Cults",
           "Cults",
           "experimental pop"
          ],
          [
           "Cults",
           "Host",
           "experimental pop"
          ],
          [
           "Cults",
           "Offering",
           "experimental pop"
          ],
          [
           "Cults",
           "Static",
           "experimental pop"
          ]
         ],
         "hovertemplate": "artist=%{customdata[0]}<br>PC1=%{x}<br>album_title=%{customdata[1]}<br>genre=%{customdata[2]}<extra></extra>",
         "legendgroup": "Cults",
         "marker": {
          "color": "#636efa",
          "symbol": "circle"
         },
         "name": "Cults",
         "notched": true,
         "offsetgroup": "Cults",
         "showlegend": false,
         "type": "box",
         "x": [
          -0.06111426423102281,
          0.1429171485966548,
          -0.5079261574218361,
          -0.18994318511789185
         ],
         "xaxis": "x3",
         "yaxis": "y3"
        },
        {
         "alignmentgroup": "True",
         "customdata": [
          [
           "Cults",
           "Cults",
           "experimental pop"
          ],
          [
           "Cults",
           "Host",
           "experimental pop"
          ],
          [
           "Cults",
           "Offering",
           "experimental pop"
          ],
          [
           "Cults",
           "Static",
           "experimental pop"
          ]
         ],
         "hovertemplate": "artist=%{customdata[0]}<br>PC2=%{y}<br>album_title=%{customdata[1]}<br>genre=%{customdata[2]}<extra></extra>",
         "legendgroup": "Cults",
         "marker": {
          "color": "#636efa",
          "symbol": "circle"
         },
         "name": "Cults",
         "notched": true,
         "offsetgroup": "Cults",
         "showlegend": false,
         "type": "box",
         "xaxis": "x2",
         "y": [
          0.07786400460672391,
          -0.0219408067983744,
          0.17770127532216468,
          0.37111072305211756
         ],
         "yaxis": "y2"
        },
        {
         "customdata": [
          [
           "Caroline Polachek",
           "Desire, I Want To Turn Into You",
           "art pop"
          ],
          [
           "Caroline Polachek",
           "Pang",
           "art pop"
          ]
         ],
         "hovertemplate": "artist=%{customdata[0]}<br>PC1=%{x}<br>PC2=%{y}<br>album_title=%{customdata[1]}<br>genre=%{customdata[2]}<extra></extra>",
         "legendgroup": "Caroline Polachek",
         "marker": {
          "color": "#EF553B",
          "symbol": "circle"
         },
         "mode": "markers",
         "name": "Caroline Polachek",
         "orientation": "v",
         "showlegend": true,
         "type": "scatter",
         "x": [
          0.008029241156288284,
          0.026532629954837128
         ],
         "xaxis": "x",
         "y": [
          -0.004647599634067025,
          -0.052656644531962477
         ],
         "yaxis": "y"
        },
        {
         "alignmentgroup": "True",
         "customdata": [
          [
           "Caroline Polachek",
           "Desire, I Want To Turn Into You",
           "art pop"
          ],
          [
           "Caroline Polachek",
           "Pang",
           "art pop"
          ]
         ],
         "hovertemplate": "artist=%{customdata[0]}<br>PC1=%{x}<br>album_title=%{customdata[1]}<br>genre=%{customdata[2]}<extra></extra>",
         "legendgroup": "Caroline Polachek",
         "marker": {
          "color": "#EF553B",
          "symbol": "circle"
         },
         "name": "Caroline Polachek",
         "notched": true,
         "offsetgroup": "Caroline Polachek",
         "showlegend": false,
         "type": "box",
         "x": [
          0.008029241156288284,
          0.026532629954837128
         ],
         "xaxis": "x3",
         "yaxis": "y3"
        },
        {
         "alignmentgroup": "True",
         "customdata": [
          [
           "Caroline Polachek",
           "Desire, I Want To Turn Into You",
           "art pop"
          ],
          [
           "Caroline Polachek",
           "Pang",
           "art pop"
          ]
         ],
         "hovertemplate": "artist=%{customdata[0]}<br>PC2=%{y}<br>album_title=%{customdata[1]}<br>genre=%{customdata[2]}<extra></extra>",
         "legendgroup": "Caroline Polachek",
         "marker": {
          "color": "#EF553B",
          "symbol": "circle"
         },
         "name": "Caroline Polachek",
         "notched": true,
         "offsetgroup": "Caroline Polachek",
         "showlegend": false,
         "type": "box",
         "xaxis": "x2",
         "y": [
          -0.004647599634067025,
          -0.052656644531962477
         ],
         "yaxis": "y2"
        },
        {
         "customdata": [
          [
           "Ava Luna",
           "Electric Balloon",
           "brooklyn indie"
          ],
          [
           "Ava Luna",
           "Ice Level",
           "brooklyn indie"
          ],
          [
           "Ava Luna",
           "Infinite House",
           "brooklyn indie"
          ],
          [
           "Ava Luna",
           "Moon 2",
           "brooklyn indie"
          ]
         ],
         "hovertemplate": "artist=%{customdata[0]}<br>PC1=%{x}<br>PC2=%{y}<br>album_title=%{customdata[1]}<br>genre=%{customdata[2]}<extra></extra>",
         "legendgroup": "Ava Luna",
         "marker": {
          "color": "#00cc96",
          "symbol": "circle"
         },
         "mode": "markers",
         "name": "Ava Luna",
         "orientation": "v",
         "showlegend": true,
         "type": "scatter",
         "x": [
          0.1575892184990837,
          0.13040911457667334,
          0.015879811414931878,
          0.13010238856860082
         ],
         "xaxis": "x",
         "y": [
          -0.19487491832995393,
          -0.15734182006285954,
          -0.08310634376009322,
          0.04026104851341611
         ],
         "yaxis": "y"
        },
        {
         "alignmentgroup": "True",
         "customdata": [
          [
           "Ava Luna",
           "Electric Balloon",
           "brooklyn indie"
          ],
          [
           "Ava Luna",
           "Ice Level",
           "brooklyn indie"
          ],
          [
           "Ava Luna",
           "Infinite House",
           "brooklyn indie"
          ],
          [
           "Ava Luna",
           "Moon 2",
           "brooklyn indie"
          ]
         ],
         "hovertemplate": "artist=%{customdata[0]}<br>PC1=%{x}<br>album_title=%{customdata[1]}<br>genre=%{customdata[2]}<extra></extra>",
         "legendgroup": "Ava Luna",
         "marker": {
          "color": "#00cc96",
          "symbol": "circle"
         },
         "name": "Ava Luna",
         "notched": true,
         "offsetgroup": "Ava Luna",
         "showlegend": false,
         "type": "box",
         "x": [
          0.1575892184990837,
          0.13040911457667334,
          0.015879811414931878,
          0.13010238856860082
         ],
         "xaxis": "x3",
         "yaxis": "y3"
        },
        {
         "alignmentgroup": "True",
         "customdata": [
          [
           "Ava Luna",
           "Electric Balloon",
           "brooklyn indie"
          ],
          [
           "Ava Luna",
           "Ice Level",
           "brooklyn indie"
          ],
          [
           "Ava Luna",
           "Infinite House",
           "brooklyn indie"
          ],
          [
           "Ava Luna",
           "Moon 2",
           "brooklyn indie"
          ]
         ],
         "hovertemplate": "artist=%{customdata[0]}<br>PC2=%{y}<br>album_title=%{customdata[1]}<br>genre=%{customdata[2]}<extra></extra>",
         "legendgroup": "Ava Luna",
         "marker": {
          "color": "#00cc96",
          "symbol": "circle"
         },
         "name": "Ava Luna",
         "notched": true,
         "offsetgroup": "Ava Luna",
         "showlegend": false,
         "type": "box",
         "xaxis": "x2",
         "y": [
          -0.19487491832995393,
          -0.15734182006285954,
          -0.08310634376009322,
          0.04026104851341611
         ],
         "yaxis": "y2"
        },
        {
         "customdata": [
          [
           "CHVRCHES",
           "Every Open Eye",
           "indietronica"
          ],
          [
           "CHVRCHES",
           "Love Is Dead",
           "indietronica"
          ],
          [
           "CHVRCHES",
           "The Bones of What You Believe (Special Edition)",
           "indietronica"
          ]
         ],
         "hovertemplate": "artist=%{customdata[0]}<br>PC1=%{x}<br>PC2=%{y}<br>album_title=%{customdata[1]}<br>genre=%{customdata[2]}<extra></extra>",
         "legendgroup": "CHVRCHES",
         "marker": {
          "color": "#ab63fa",
          "symbol": "circle"
         },
         "mode": "markers",
         "name": "CHVRCHES",
         "orientation": "v",
         "showlegend": true,
         "type": "scatter",
         "x": [
          -0.0035080283192931334,
          -0.021687104858603486,
          -0.1059091941112312
         ],
         "xaxis": "x",
         "y": [
          0.026446237838663407,
          -0.0037354431657841344,
          0.2572867577758942
         ],
         "yaxis": "y"
        },
        {
         "alignmentgroup": "True",
         "customdata": [
          [
           "CHVRCHES",
           "Every Open Eye",
           "indietronica"
          ],
          [
           "CHVRCHES",
           "Love Is Dead",
           "indietronica"
          ],
          [
           "CHVRCHES",
           "The Bones of What You Believe (Special Edition)",
           "indietronica"
          ]
         ],
         "hovertemplate": "artist=%{customdata[0]}<br>PC1=%{x}<br>album_title=%{customdata[1]}<br>genre=%{customdata[2]}<extra></extra>",
         "legendgroup": "CHVRCHES",
         "marker": {
          "color": "#ab63fa",
          "symbol": "circle"
         },
         "name": "CHVRCHES",
         "notched": true,
         "offsetgroup": "CHVRCHES",
         "showlegend": false,
         "type": "box",
         "x": [
          -0.0035080283192931334,
          -0.021687104858603486,
          -0.1059091941112312
         ],
         "xaxis": "x3",
         "yaxis": "y3"
        },
        {
         "alignmentgroup": "True",
         "customdata": [
          [
           "CHVRCHES",
           "Every Open Eye",
           "indietronica"
          ],
          [
           "CHVRCHES",
           "Love Is Dead",
           "indietronica"
          ],
          [
           "CHVRCHES",
           "The Bones of What You Believe (Special Edition)",
           "indietronica"
          ]
         ],
         "hovertemplate": "artist=%{customdata[0]}<br>PC2=%{y}<br>album_title=%{customdata[1]}<br>genre=%{customdata[2]}<extra></extra>",
         "legendgroup": "CHVRCHES",
         "marker": {
          "color": "#ab63fa",
          "symbol": "circle"
         },
         "name": "CHVRCHES",
         "notched": true,
         "offsetgroup": "CHVRCHES",
         "showlegend": false,
         "type": "box",
         "xaxis": "x2",
         "y": [
          0.026446237838663407,
          -0.0037354431657841344,
          0.2572867577758942
         ],
         "yaxis": "y2"
        },
        {
         "customdata": [
          [
           "Ethel Cain",
           "Golden Age",
           "countrygaze"
          ],
          [
           "Ethel Cain",
           "Inbred",
           "countrygaze"
          ],
          [
           "Ethel Cain",
           "Preacher’s Daughter",
           "countrygaze"
          ]
         ],
         "hovertemplate": "artist=%{customdata[0]}<br>PC1=%{x}<br>PC2=%{y}<br>album_title=%{customdata[1]}<br>genre=%{customdata[2]}<extra></extra>",
         "legendgroup": "Ethel Cain",
         "marker": {
          "color": "#FFA15A",
          "symbol": "circle"
         },
         "mode": "markers",
         "name": "Ethel Cain",
         "orientation": "v",
         "showlegend": true,
         "type": "scatter",
         "x": [
          -0.00043466858219954815,
          -0.26974302987200033,
          -0.15225591389693316
         ],
         "xaxis": "x",
         "y": [
          0.1699835290806963,
          -0.2948888272327204,
          -0.14175819707189666
         ],
         "yaxis": "y"
        },
        {
         "alignmentgroup": "True",
         "customdata": [
          [
           "Ethel Cain",
           "Golden Age",
           "countrygaze"
          ],
          [
           "Ethel Cain",
           "Inbred",
           "countrygaze"
          ],
          [
           "Ethel Cain",
           "Preacher’s Daughter",
           "countrygaze"
          ]
         ],
         "hovertemplate": "artist=%{customdata[0]}<br>PC1=%{x}<br>album_title=%{customdata[1]}<br>genre=%{customdata[2]}<extra></extra>",
         "legendgroup": "Ethel Cain",
         "marker": {
          "color": "#FFA15A",
          "symbol": "circle"
         },
         "name": "Ethel Cain",
         "notched": true,
         "offsetgroup": "Ethel Cain",
         "showlegend": false,
         "type": "box",
         "x": [
          -0.00043466858219954815,
          -0.26974302987200033,
          -0.15225591389693316
         ],
         "xaxis": "x3",
         "yaxis": "y3"
        },
        {
         "alignmentgroup": "True",
         "customdata": [
          [
           "Ethel Cain",
           "Golden Age",
           "countrygaze"
          ],
          [
           "Ethel Cain",
           "Inbred",
           "countrygaze"
          ],
          [
           "Ethel Cain",
           "Preacher’s Daughter",
           "countrygaze"
          ]
         ],
         "hovertemplate": "artist=%{customdata[0]}<br>PC2=%{y}<br>album_title=%{customdata[1]}<br>genre=%{customdata[2]}<extra></extra>",
         "legendgroup": "Ethel Cain",
         "marker": {
          "color": "#FFA15A",
          "symbol": "circle"
         },
         "name": "Ethel Cain",
         "notched": true,
         "offsetgroup": "Ethel Cain",
         "showlegend": false,
         "type": "box",
         "xaxis": "x2",
         "y": [
          0.1699835290806963,
          -0.2948888272327204,
          -0.14175819707189666
         ],
         "yaxis": "y2"
        },
        {
         "customdata": [
          [
           "Mr. Twin Sister",
           "In Heaven",
           "chillwave"
          ],
          [
           "Mr. Twin Sister",
           "Mr Twin Sister",
           "chillwave"
          ]
         ],
         "hovertemplate": "artist=%{customdata[0]}<br>PC1=%{x}<br>PC2=%{y}<br>album_title=%{customdata[1]}<br>genre=%{customdata[2]}<extra></extra>",
         "legendgroup": "Mr. Twin Sister",
         "marker": {
          "color": "#19d3f3",
          "symbol": "circle"
         },
         "mode": "markers",
         "name": "Mr. Twin Sister",
         "orientation": "v",
         "showlegend": true,
         "type": "scatter",
         "x": [
          -0.26626754850982803,
          -0.0825388788607262
         ],
         "xaxis": "x",
         "y": [
          0.08733230957318752,
          0.13385880587645455
         ],
         "yaxis": "y"
        },
        {
         "alignmentgroup": "True",
         "customdata": [
          [
           "Mr. Twin Sister",
           "In Heaven",
           "chillwave"
          ],
          [
           "Mr. Twin Sister",
           "Mr Twin Sister",
           "chillwave"
          ]
         ],
         "hovertemplate": "artist=%{customdata[0]}<br>PC1=%{x}<br>album_title=%{customdata[1]}<br>genre=%{customdata[2]}<extra></extra>",
         "legendgroup": "Mr. Twin Sister",
         "marker": {
          "color": "#19d3f3",
          "symbol": "circle"
         },
         "name": "Mr. Twin Sister",
         "notched": true,
         "offsetgroup": "Mr. Twin Sister",
         "showlegend": false,
         "type": "box",
         "x": [
          -0.26626754850982803,
          -0.0825388788607262
         ],
         "xaxis": "x3",
         "yaxis": "y3"
        },
        {
         "alignmentgroup": "True",
         "customdata": [
          [
           "Mr. Twin Sister",
           "In Heaven",
           "chillwave"
          ],
          [
           "Mr. Twin Sister",
           "Mr Twin Sister",
           "chillwave"
          ]
         ],
         "hovertemplate": "artist=%{customdata[0]}<br>PC2=%{y}<br>album_title=%{customdata[1]}<br>genre=%{customdata[2]}<extra></extra>",
         "legendgroup": "Mr. Twin Sister",
         "marker": {
          "color": "#19d3f3",
          "symbol": "circle"
         },
         "name": "Mr. Twin Sister",
         "notched": true,
         "offsetgroup": "Mr. Twin Sister",
         "showlegend": false,
         "type": "box",
         "xaxis": "x2",
         "y": [
          0.08733230957318752,
          0.13385880587645455
         ],
         "yaxis": "y2"
        },
        {
         "customdata": [
          [
           "Pure Bathing Culture",
           "Moon Tides",
           "chillwave"
          ],
          [
           "Pure Bathing Culture",
           "Night Pass",
           "chillwave"
          ],
          [
           "Pure Bathing Culture",
           "Pray for Rain",
           "chillwave"
          ]
         ],
         "hovertemplate": "artist=%{customdata[0]}<br>PC1=%{x}<br>PC2=%{y}<br>album_title=%{customdata[1]}<br>genre=%{customdata[2]}<extra></extra>",
         "legendgroup": "Pure Bathing Culture",
         "marker": {
          "color": "#FF6692",
          "symbol": "circle"
         },
         "mode": "markers",
         "name": "Pure Bathing Culture",
         "orientation": "v",
         "showlegend": true,
         "type": "scatter",
         "x": [
          -0.07111715196943788,
          0.05913461550687983,
          -0.12564062113709207
         ],
         "xaxis": "x",
         "y": [
          0.22930292565066274,
          0.20333405505180582,
          0.10234035288966789
         ],
         "yaxis": "y"
        },
        {
         "alignmentgroup": "True",
         "customdata": [
          [
           "Pure Bathing Culture",
           "Moon Tides",
           "chillwave"
          ],
          [
           "Pure Bathing Culture",
           "Night Pass",
           "chillwave"
          ],
          [
           "Pure Bathing Culture",
           "Pray for Rain",
           "chillwave"
          ]
         ],
         "hovertemplate": "artist=%{customdata[0]}<br>PC1=%{x}<br>album_title=%{customdata[1]}<br>genre=%{customdata[2]}<extra></extra>",
         "legendgroup": "Pure Bathing Culture",
         "marker": {
          "color": "#FF6692",
          "symbol": "circle"
         },
         "name": "Pure Bathing Culture",
         "notched": true,
         "offsetgroup": "Pure Bathing Culture",
         "showlegend": false,
         "type": "box",
         "x": [
          -0.07111715196943788,
          0.05913461550687983,
          -0.12564062113709207
         ],
         "xaxis": "x3",
         "yaxis": "y3"
        },
        {
         "alignmentgroup": "True",
         "customdata": [
          [
           "Pure Bathing Culture",
           "Moon Tides",
           "chillwave"
          ],
          [
           "Pure Bathing Culture",
           "Night Pass",
           "chillwave"
          ],
          [
           "Pure Bathing Culture",
           "Pray for Rain",
           "chillwave"
          ]
         ],
         "hovertemplate": "artist=%{customdata[0]}<br>PC2=%{y}<br>album_title=%{customdata[1]}<br>genre=%{customdata[2]}<extra></extra>",
         "legendgroup": "Pure Bathing Culture",
         "marker": {
          "color": "#FF6692",
          "symbol": "circle"
         },
         "name": "Pure Bathing Culture",
         "notched": true,
         "offsetgroup": "Pure Bathing Culture",
         "showlegend": false,
         "type": "box",
         "xaxis": "x2",
         "y": [
          0.22930292565066274,
          0.20333405505180582,
          0.10234035288966789
         ],
         "yaxis": "y2"
        },
        {
         "customdata": [
          [
           "Holychild",
           "The Shape of Brat Pop to Come",
           "indie poptimism"
          ],
          [
           "Holychild",
           "The Theatrical Death of Julie Delicious",
           "indie poptimism"
          ]
         ],
         "hovertemplate": "artist=%{customdata[0]}<br>PC1=%{x}<br>PC2=%{y}<br>album_title=%{customdata[1]}<br>genre=%{customdata[2]}<extra></extra>",
         "legendgroup": "Holychild",
         "marker": {
          "color": "#B6E880",
          "symbol": "circle"
         },
         "mode": "markers",
         "name": "Holychild",
         "orientation": "v",
         "showlegend": true,
         "type": "scatter",
         "x": [
          -0.09232453025104906,
          -0.16248169265893134
         ],
         "xaxis": "x",
         "y": [
          0.20195977327585934,
          -0.019271491171019763
         ],
         "yaxis": "y"
        },
        {
         "alignmentgroup": "True",
         "customdata": [
          [
           "Holychild",
           "The Shape of Brat Pop to Come",
           "indie poptimism"
          ],
          [
           "Holychild",
           "The Theatrical Death of Julie Delicious",
           "indie poptimism"
          ]
         ],
         "hovertemplate": "artist=%{customdata[0]}<br>PC1=%{x}<br>album_title=%{customdata[1]}<br>genre=%{customdata[2]}<extra></extra>",
         "legendgroup": "Holychild",
         "marker": {
          "color": "#B6E880",
          "symbol": "circle"
         },
         "name": "Holychild",
         "notched": true,
         "offsetgroup": "Holychild",
         "showlegend": false,
         "type": "box",
         "x": [
          -0.09232453025104906,
          -0.16248169265893134
         ],
         "xaxis": "x3",
         "yaxis": "y3"
        },
        {
         "alignmentgroup": "True",
         "customdata": [
          [
           "Holychild",
           "The Shape of Brat Pop to Come",
           "indie poptimism"
          ],
          [
           "Holychild",
           "The Theatrical Death of Julie Delicious",
           "indie poptimism"
          ]
         ],
         "hovertemplate": "artist=%{customdata[0]}<br>PC2=%{y}<br>album_title=%{customdata[1]}<br>genre=%{customdata[2]}<extra></extra>",
         "legendgroup": "Holychild",
         "marker": {
          "color": "#B6E880",
          "symbol": "circle"
         },
         "name": "Holychild",
         "notched": true,
         "offsetgroup": "Holychild",
         "showlegend": false,
         "type": "box",
         "xaxis": "x2",
         "y": [
          0.20195977327585934,
          -0.019271491171019763
         ],
         "yaxis": "y2"
        }
       ],
       "layout": {
        "height": 800,
        "legend": {
         "title": {
          "text": "artist"
         },
         "tracegroupgap": 0
        },
        "margin": {
         "t": 60
        },
        "template": {
         "data": {
          "bar": [
           {
            "error_x": {
             "color": "#2a3f5f"
            },
            "error_y": {
             "color": "#2a3f5f"
            },
            "marker": {
             "line": {
              "color": "#E5ECF6",
              "width": 0.5
             },
             "pattern": {
              "fillmode": "overlay",
              "size": 10,
              "solidity": 0.2
             }
            },
            "type": "bar"
           }
          ],
          "barpolar": [
           {
            "marker": {
             "line": {
              "color": "#E5ECF6",
              "width": 0.5
             },
             "pattern": {
              "fillmode": "overlay",
              "size": 10,
              "solidity": 0.2
             }
            },
            "type": "barpolar"
           }
          ],
          "carpet": [
           {
            "aaxis": {
             "endlinecolor": "#2a3f5f",
             "gridcolor": "white",
             "linecolor": "white",
             "minorgridcolor": "white",
             "startlinecolor": "#2a3f5f"
            },
            "baxis": {
             "endlinecolor": "#2a3f5f",
             "gridcolor": "white",
             "linecolor": "white",
             "minorgridcolor": "white",
             "startlinecolor": "#2a3f5f"
            },
            "type": "carpet"
           }
          ],
          "choropleth": [
           {
            "colorbar": {
             "outlinewidth": 0,
             "ticks": ""
            },
            "type": "choropleth"
           }
          ],
          "contour": [
           {
            "colorbar": {
             "outlinewidth": 0,
             "ticks": ""
            },
            "colorscale": [
             [
              0,
              "#0d0887"
             ],
             [
              0.1111111111111111,
              "#46039f"
             ],
             [
              0.2222222222222222,
              "#7201a8"
             ],
             [
              0.3333333333333333,
              "#9c179e"
             ],
             [
              0.4444444444444444,
              "#bd3786"
             ],
             [
              0.5555555555555556,
              "#d8576b"
             ],
             [
              0.6666666666666666,
              "#ed7953"
             ],
             [
              0.7777777777777778,
              "#fb9f3a"
             ],
             [
              0.8888888888888888,
              "#fdca26"
             ],
             [
              1,
              "#f0f921"
             ]
            ],
            "type": "contour"
           }
          ],
          "contourcarpet": [
           {
            "colorbar": {
             "outlinewidth": 0,
             "ticks": ""
            },
            "type": "contourcarpet"
           }
          ],
          "heatmap": [
           {
            "colorbar": {
             "outlinewidth": 0,
             "ticks": ""
            },
            "colorscale": [
             [
              0,
              "#0d0887"
             ],
             [
              0.1111111111111111,
              "#46039f"
             ],
             [
              0.2222222222222222,
              "#7201a8"
             ],
             [
              0.3333333333333333,
              "#9c179e"
             ],
             [
              0.4444444444444444,
              "#bd3786"
             ],
             [
              0.5555555555555556,
              "#d8576b"
             ],
             [
              0.6666666666666666,
              "#ed7953"
             ],
             [
              0.7777777777777778,
              "#fb9f3a"
             ],
             [
              0.8888888888888888,
              "#fdca26"
             ],
             [
              1,
              "#f0f921"
             ]
            ],
            "type": "heatmap"
           }
          ],
          "heatmapgl": [
           {
            "colorbar": {
             "outlinewidth": 0,
             "ticks": ""
            },
            "colorscale": [
             [
              0,
              "#0d0887"
             ],
             [
              0.1111111111111111,
              "#46039f"
             ],
             [
              0.2222222222222222,
              "#7201a8"
             ],
             [
              0.3333333333333333,
              "#9c179e"
             ],
             [
              0.4444444444444444,
              "#bd3786"
             ],
             [
              0.5555555555555556,
              "#d8576b"
             ],
             [
              0.6666666666666666,
              "#ed7953"
             ],
             [
              0.7777777777777778,
              "#fb9f3a"
             ],
             [
              0.8888888888888888,
              "#fdca26"
             ],
             [
              1,
              "#f0f921"
             ]
            ],
            "type": "heatmapgl"
           }
          ],
          "histogram": [
           {
            "marker": {
             "pattern": {
              "fillmode": "overlay",
              "size": 10,
              "solidity": 0.2
             }
            },
            "type": "histogram"
           }
          ],
          "histogram2d": [
           {
            "colorbar": {
             "outlinewidth": 0,
             "ticks": ""
            },
            "colorscale": [
             [
              0,
              "#0d0887"
             ],
             [
              0.1111111111111111,
              "#46039f"
             ],
             [
              0.2222222222222222,
              "#7201a8"
             ],
             [
              0.3333333333333333,
              "#9c179e"
             ],
             [
              0.4444444444444444,
              "#bd3786"
             ],
             [
              0.5555555555555556,
              "#d8576b"
             ],
             [
              0.6666666666666666,
              "#ed7953"
             ],
             [
              0.7777777777777778,
              "#fb9f3a"
             ],
             [
              0.8888888888888888,
              "#fdca26"
             ],
             [
              1,
              "#f0f921"
             ]
            ],
            "type": "histogram2d"
           }
          ],
          "histogram2dcontour": [
           {
            "colorbar": {
             "outlinewidth": 0,
             "ticks": ""
            },
            "colorscale": [
             [
              0,
              "#0d0887"
             ],
             [
              0.1111111111111111,
              "#46039f"
             ],
             [
              0.2222222222222222,
              "#7201a8"
             ],
             [
              0.3333333333333333,
              "#9c179e"
             ],
             [
              0.4444444444444444,
              "#bd3786"
             ],
             [
              0.5555555555555556,
              "#d8576b"
             ],
             [
              0.6666666666666666,
              "#ed7953"
             ],
             [
              0.7777777777777778,
              "#fb9f3a"
             ],
             [
              0.8888888888888888,
              "#fdca26"
             ],
             [
              1,
              "#f0f921"
             ]
            ],
            "type": "histogram2dcontour"
           }
          ],
          "mesh3d": [
           {
            "colorbar": {
             "outlinewidth": 0,
             "ticks": ""
            },
            "type": "mesh3d"
           }
          ],
          "parcoords": [
           {
            "line": {
             "colorbar": {
              "outlinewidth": 0,
              "ticks": ""
             }
            },
            "type": "parcoords"
           }
          ],
          "pie": [
           {
            "automargin": true,
            "type": "pie"
           }
          ],
          "scatter": [
           {
            "fillpattern": {
             "fillmode": "overlay",
             "size": 10,
             "solidity": 0.2
            },
            "type": "scatter"
           }
          ],
          "scatter3d": [
           {
            "line": {
             "colorbar": {
              "outlinewidth": 0,
              "ticks": ""
             }
            },
            "marker": {
             "colorbar": {
              "outlinewidth": 0,
              "ticks": ""
             }
            },
            "type": "scatter3d"
           }
          ],
          "scattercarpet": [
           {
            "marker": {
             "colorbar": {
              "outlinewidth": 0,
              "ticks": ""
             }
            },
            "type": "scattercarpet"
           }
          ],
          "scattergeo": [
           {
            "marker": {
             "colorbar": {
              "outlinewidth": 0,
              "ticks": ""
             }
            },
            "type": "scattergeo"
           }
          ],
          "scattergl": [
           {
            "marker": {
             "colorbar": {
              "outlinewidth": 0,
              "ticks": ""
             }
            },
            "type": "scattergl"
           }
          ],
          "scattermapbox": [
           {
            "marker": {
             "colorbar": {
              "outlinewidth": 0,
              "ticks": ""
             }
            },
            "type": "scattermapbox"
           }
          ],
          "scatterpolar": [
           {
            "marker": {
             "colorbar": {
              "outlinewidth": 0,
              "ticks": ""
             }
            },
            "type": "scatterpolar"
           }
          ],
          "scatterpolargl": [
           {
            "marker": {
             "colorbar": {
              "outlinewidth": 0,
              "ticks": ""
             }
            },
            "type": "scatterpolargl"
           }
          ],
          "scatterternary": [
           {
            "marker": {
             "colorbar": {
              "outlinewidth": 0,
              "ticks": ""
             }
            },
            "type": "scatterternary"
           }
          ],
          "surface": [
           {
            "colorbar": {
             "outlinewidth": 0,
             "ticks": ""
            },
            "colorscale": [
             [
              0,
              "#0d0887"
             ],
             [
              0.1111111111111111,
              "#46039f"
             ],
             [
              0.2222222222222222,
              "#7201a8"
             ],
             [
              0.3333333333333333,
              "#9c179e"
             ],
             [
              0.4444444444444444,
              "#bd3786"
             ],
             [
              0.5555555555555556,
              "#d8576b"
             ],
             [
              0.6666666666666666,
              "#ed7953"
             ],
             [
              0.7777777777777778,
              "#fb9f3a"
             ],
             [
              0.8888888888888888,
              "#fdca26"
             ],
             [
              1,
              "#f0f921"
             ]
            ],
            "type": "surface"
           }
          ],
          "table": [
           {
            "cells": {
             "fill": {
              "color": "#EBF0F8"
             },
             "line": {
              "color": "white"
             }
            },
            "header": {
             "fill": {
              "color": "#C8D4E3"
             },
             "line": {
              "color": "white"
             }
            },
            "type": "table"
           }
          ]
         },
         "layout": {
          "annotationdefaults": {
           "arrowcolor": "#2a3f5f",
           "arrowhead": 0,
           "arrowwidth": 1
          },
          "autotypenumbers": "strict",
          "coloraxis": {
           "colorbar": {
            "outlinewidth": 0,
            "ticks": ""
           }
          },
          "colorscale": {
           "diverging": [
            [
             0,
             "#8e0152"
            ],
            [
             0.1,
             "#c51b7d"
            ],
            [
             0.2,
             "#de77ae"
            ],
            [
             0.3,
             "#f1b6da"
            ],
            [
             0.4,
             "#fde0ef"
            ],
            [
             0.5,
             "#f7f7f7"
            ],
            [
             0.6,
             "#e6f5d0"
            ],
            [
             0.7,
             "#b8e186"
            ],
            [
             0.8,
             "#7fbc41"
            ],
            [
             0.9,
             "#4d9221"
            ],
            [
             1,
             "#276419"
            ]
           ],
           "sequential": [
            [
             0,
             "#0d0887"
            ],
            [
             0.1111111111111111,
             "#46039f"
            ],
            [
             0.2222222222222222,
             "#7201a8"
            ],
            [
             0.3333333333333333,
             "#9c179e"
            ],
            [
             0.4444444444444444,
             "#bd3786"
            ],
            [
             0.5555555555555556,
             "#d8576b"
            ],
            [
             0.6666666666666666,
             "#ed7953"
            ],
            [
             0.7777777777777778,
             "#fb9f3a"
            ],
            [
             0.8888888888888888,
             "#fdca26"
            ],
            [
             1,
             "#f0f921"
            ]
           ],
           "sequentialminus": [
            [
             0,
             "#0d0887"
            ],
            [
             0.1111111111111111,
             "#46039f"
            ],
            [
             0.2222222222222222,
             "#7201a8"
            ],
            [
             0.3333333333333333,
             "#9c179e"
            ],
            [
             0.4444444444444444,
             "#bd3786"
            ],
            [
             0.5555555555555556,
             "#d8576b"
            ],
            [
             0.6666666666666666,
             "#ed7953"
            ],
            [
             0.7777777777777778,
             "#fb9f3a"
            ],
            [
             0.8888888888888888,
             "#fdca26"
            ],
            [
             1,
             "#f0f921"
            ]
           ]
          },
          "colorway": [
           "#636efa",
           "#EF553B",
           "#00cc96",
           "#ab63fa",
           "#FFA15A",
           "#19d3f3",
           "#FF6692",
           "#B6E880",
           "#FF97FF",
           "#FECB52"
          ],
          "font": {
           "color": "#2a3f5f"
          },
          "geo": {
           "bgcolor": "white",
           "lakecolor": "white",
           "landcolor": "#E5ECF6",
           "showlakes": true,
           "showland": true,
           "subunitcolor": "white"
          },
          "hoverlabel": {
           "align": "left"
          },
          "hovermode": "closest",
          "mapbox": {
           "style": "light"
          },
          "paper_bgcolor": "white",
          "plot_bgcolor": "#E5ECF6",
          "polar": {
           "angularaxis": {
            "gridcolor": "white",
            "linecolor": "white",
            "ticks": ""
           },
           "bgcolor": "#E5ECF6",
           "radialaxis": {
            "gridcolor": "white",
            "linecolor": "white",
            "ticks": ""
           }
          },
          "scene": {
           "xaxis": {
            "backgroundcolor": "#E5ECF6",
            "gridcolor": "white",
            "gridwidth": 2,
            "linecolor": "white",
            "showbackground": true,
            "ticks": "",
            "zerolinecolor": "white"
           },
           "yaxis": {
            "backgroundcolor": "#E5ECF6",
            "gridcolor": "white",
            "gridwidth": 2,
            "linecolor": "white",
            "showbackground": true,
            "ticks": "",
            "zerolinecolor": "white"
           },
           "zaxis": {
            "backgroundcolor": "#E5ECF6",
            "gridcolor": "white",
            "gridwidth": 2,
            "linecolor": "white",
            "showbackground": true,
            "ticks": "",
            "zerolinecolor": "white"
           }
          },
          "shapedefaults": {
           "line": {
            "color": "#2a3f5f"
           }
          },
          "ternary": {
           "aaxis": {
            "gridcolor": "white",
            "linecolor": "white",
            "ticks": ""
           },
           "baxis": {
            "gridcolor": "white",
            "linecolor": "white",
            "ticks": ""
           },
           "bgcolor": "#E5ECF6",
           "caxis": {
            "gridcolor": "white",
            "linecolor": "white",
            "ticks": ""
           }
          },
          "title": {
           "x": 0.05
          },
          "xaxis": {
           "automargin": true,
           "gridcolor": "white",
           "linecolor": "white",
           "ticks": "",
           "title": {
            "standoff": 15
           },
           "zerolinecolor": "white",
           "zerolinewidth": 2
          },
          "yaxis": {
           "automargin": true,
           "gridcolor": "white",
           "linecolor": "white",
           "ticks": "",
           "title": {
            "standoff": 15
           },
           "zerolinecolor": "white",
           "zerolinewidth": 2
          }
         }
        },
        "xaxis": {
         "anchor": "y",
         "domain": [
          0,
          0.7363
         ],
         "title": {
          "text": "PC1"
         }
        },
        "xaxis2": {
         "anchor": "y2",
         "domain": [
          0.7413,
          1
         ],
         "matches": "x2",
         "showgrid": false,
         "showline": false,
         "showticklabels": false,
         "ticks": ""
        },
        "xaxis3": {
         "anchor": "y3",
         "domain": [
          0,
          0.7363
         ],
         "matches": "x",
         "showgrid": true,
         "showticklabels": false
        },
        "xaxis4": {
         "anchor": "y4",
         "domain": [
          0.7413,
          1
         ],
         "matches": "x2",
         "showgrid": false,
         "showline": false,
         "showticklabels": false,
         "ticks": ""
        },
        "yaxis": {
         "anchor": "x",
         "domain": [
          0,
          0.7326
         ],
         "title": {
          "text": "PC2"
         }
        },
        "yaxis2": {
         "anchor": "x2",
         "domain": [
          0,
          0.7326
         ],
         "matches": "y",
         "showgrid": true,
         "showticklabels": false
        },
        "yaxis3": {
         "anchor": "x3",
         "domain": [
          0.7426,
          1
         ],
         "matches": "y3",
         "showgrid": false,
         "showline": false,
         "showticklabels": false,
         "ticks": ""
        },
        "yaxis4": {
         "anchor": "x4",
         "domain": [
          0.7426,
          1
         ],
         "matches": "y3",
         "showgrid": true,
         "showline": false,
         "showticklabels": false,
         "ticks": ""
        }
       }
      }
     },
     "metadata": {},
     "output_type": "display_data"
    }
   ],
   "source": [
    "vis_pcs(DCM, 1, 2, label='artist')"
   ]
  },
  {
   "cell_type": "code",
   "execution_count": 19,
   "metadata": {},
   "outputs": [
    {
     "data": {
      "application/vnd.plotly.v1+json": {
       "config": {
        "plotlyServerURL": "https://plot.ly"
       },
       "data": [
        {
         "hovertemplate": "max_pos=NN<br>PC1=%{x}<br>PC2=%{y}<br>i=%{marker.size}<br>term_str=%{text}<extra></extra>",
         "legendgroup": "NN",
         "marker": {
          "color": "#636efa",
          "size": [
           15.970338110343397,
           17.555300611064553,
           17.555300611064553,
           17.555300611064553,
           17.555300611064553,
           14.970338110343397,
           16.555300611064553,
           17.555300611064553,
           15.55530061106455,
           16.555300611064553,
           17.555300611064553,
           15.55530061106455,
           17.555300611064553,
           15.970338110343397,
           17.555300611064553,
           13.23337251617719,
           14.38537560962224,
           16.555300611064553,
           16.555300611064553,
           16.555300611064553,
           14.55530061106455,
           13.38537560962224,
           17.555300611064553,
           13.747945689006947,
           15.55530061106455,
           14.970338110343397,
           15.970338110343397,
           16.555300611064553,
           13.23337251617719,
           12.467837769814212,
           14.38537560962224,
           15.23337251617719,
           11.970338110343397,
           15.55530061106455,
           14.970338110343397,
           14.23337251617719,
           13.095868992427254,
           16.555300611064553,
           11.40555349155987,
           15.970338110343397,
           17.555300611064553,
           16.555300611064553,
           17.555300611064553,
           14.747945689006947,
           15.55530061106455,
           12.854860892923458,
           12.697319615936978,
           17.555300611064553,
           12.197748606446469,
           11.970338110343397,
           11.55530061106455,
           16.555300611064553,
           15.23337251617719,
           14.970338110343397,
           15.970338110343397,
           12.800413108901084,
           13.648410015456031,
           15.970338110343397,
           12.854860892923458,
           14.23337251617719,
           13.970338110343397,
           12.648410015456031,
           15.23337251617719,
           14.970338110343397,
           12.970338110343397,
           14.55530061106455,
           15.23337251617719,
           15.23337251617719,
           13.03173865500754,
           9.834201422357363,
           14.55530061106455,
           15.55530061106455,
           15.23337251617719,
           14.55530061106455,
           14.38537560962224,
           15.23337251617719,
           13.747945689006947,
           13.970338110343397,
           11.365476052184531,
           16.555300611064553,
           15.55530061106455,
           13.095868992427254,
           13.970338110343397,
           13.648410015456031,
           14.55530061106455,
           14.23337251617719,
           15.55530061106455,
           14.55530061106455,
           15.23337251617719,
           13.162983188285793,
           11.55530061106455,
           14.55530061106455,
           15.970338110343397,
           11.180261179717624,
           14.095868992427254,
           13.55530061106455,
           14.970338110343397,
           13.467837769814212,
           13.970338110343397,
           14.095868992427254,
           13.095868992427254,
           12.800413108901084,
           14.38537560962224,
           14.970338110343397,
           14.38537560962224,
           13.747945689006947,
           13.55530061106455,
           14.747945689006947,
           10.446776154286384,
           14.095868992427254,
           11.162983188285793,
           13.55530061106455,
           13.970338110343397,
           13.095868992427254,
           16.555300611064553,
           14.747945689006947,
           11.773940897539893,
           13.970338110343397,
           13.648410015456031,
           11.800413108901084,
           14.095868992427254,
           13.307373097620966,
           14.38537560962224,
           13.38537560962224,
           14.970338110343397,
           11.800413108901084,
           14.23337251617719,
           13.03173865500754,
           14.747945689006947,
           14.23337251617719,
           14.747945689006947,
           11.288514070369647,
           14.55530061106455,
           12.648410015456031,
           17.555300611064553,
           13.467837769814212,
           12.269898392202302,
           12.747945689006947,
           14.55530061106455,
           12.345847245435602,
           17.555300611064553,
           13.970338110343397,
           11.365476052184531,
           11.624563273501664,
           13.38537560962224,
           15.970338110343397,
           14.095868992427254,
           12.970338110343397,
           14.747945689006947,
           13.747945689006947,
           14.095868992427254,
           15.55530061106455,
           15.970338110343397,
           11.970338110343397,
           14.55530061106455,
           13.03173865500754,
           15.23337251617719,
           13.467837769814212,
           13.854860892923458,
           12.911444421289826,
           12.747945689006947,
           10.532932798036097,
           14.23337251617719,
           14.747945689006947,
           14.55530061106455,
           15.55530061106455,
           12.648410015456031,
           13.854860892923458,
           10.911444421289826,
           10.48921142060678,
           13.307373097620966,
           9.882875269093056,
           13.648410015456031,
           12.970338110343397,
           11.426017594119584,
           14.55530061106455,
           13.23337251617719,
           13.38537560962224,
           13.854860892923458,
           14.095868992427254,
           13.307373097620966,
           13.38537560962224,
           13.23337251617719,
           13.648410015456031,
           13.03173865500754,
           13.854860892923458,
           15.23337251617719,
           13.747945689006947,
           15.23337251617719,
           10.925943990984942,
           14.23337251617719,
           10.566615924292384,
           11.601104300677676,
           11.882875269093056,
           13.55530061106455,
           12.269898392202302,
           12.970338110343397,
           14.38537560962224,
           16.555300611064553,
           13.307373097620966,
           12.162983188285793,
           12.197748606446469,
           14.747945689006947,
           17.555300611064553,
           14.747945689006947,
           10.38537560962224,
           12.38537560962224,
           12.747945689006947,
           12.970338110343397,
           14.38537560962224,
           11.01614179995652,
           13.095868992427254,
           11.063447514734875,
           9.709810560120175,
           15.55530061106455,
           11.112357115215822,
           10.601104300677676,
           10.345847245435602,
           12.747945689006947,
           13.648410015456031,
           12.510906491706098,
           11.000711759386911,
           13.307373097620966,
           10.985445002733604,
           13.854860892923458,
           13.747945689006947,
           11.345847245435602,
           13.38537560962224,
           13.854860892923458,
           12.747945689006947,
           14.23337251617719,
           14.747945689006947,
           11.510906491706098,
           12.197748606446469,
           12.129035856362451,
           10.955387768877424,
           15.23337251617719,
           15.55530061106455,
           11.773940897539893,
           12.162983188285793,
           12.129035856362451,
           12.23337251617719,
           11.773940897539893,
           10.532932798036097,
           13.307373097620966,
           10.215450608179928,
           14.970338110343397,
           9.606933379479871,
           13.162983188285793,
           12.467837769814212,
           11.40555349155987,
           10.940590766949343,
           15.970338110343397,
           13.162983188285793,
           14.970338110343397,
           13.970338110343397,
           12.601104300677676,
           13.55530061106455,
           9.861813653565228,
           12.03173865500754,
           11.288514070369647,
           16.555300611064553,
           12.970338110343397,
           13.747945689006947,
           14.38537560962224,
           14.095868992427254,
           12.38537560962224,
           11.648410015456031,
           13.23337251617719,
           13.648410015456031,
           12.697319615936978,
           12.23337251617719,
           12.426017594119584,
           10.2979127683719,
           9.820590990838712,
           9.45201280265253,
           13.467837769814212,
           11.03173865500754,
           12.03173865500754,
           15.970338110343397,
           13.854860892923458,
           9.834201422357363,
           11.882875269093056,
           13.467837769814212,
           7.651418765328371,
           11.911444421289826,
           13.55530061106455,
           16.555300611064553,
           15.970338110343397,
           10.224383732949931,
           12.426017594119584,
           13.854860892923458,
           9.933248791608175,
           10.72241059689981,
           13.38537560962224,
           12.345847245435602,
           12.23337251617719,
           11.510906491706098,
           11.578020687564637,
           12.697319615936978,
           11.063447514734875,
           13.648410015456031,
           9.441558445015362,
           11.67265756170271,
           9.410642368232669,
           12.911444421289826,
           12.129035856362451,
           13.854860892923458,
           15.970338110343397,
           17.555300611064553,
           14.23337251617719,
           11.970338110343397,
           13.38537560962224,
           14.970338110343397,
           11.747945689006947,
           11.940590766949343,
           12.697319615936978,
           10.578020687564637,
           12.854860892923458,
           13.55530061106455,
           11.063447514734875,
           13.03173865500754,
           17.555300611064553,
           11.510906491706098,
           11.970338110343397,
           11.940590766949343,
           16.555300611064553,
           12.095868992427254,
           13.467837769814212,
           12.55530061106455,
           12.467837769814212,
           11.854860892923458,
           15.970338110343397,
           12.911444421289826,
           13.095868992427254,
           10.813833624663404,
           11.467837769814212,
           14.095868992427254,
           11.648410015456031,
           13.854860892923458,
           15.970338110343397,
           12.800413108901084,
           11.215450608179928,
           17.555300611064553,
           13.03173865500754,
           12.510906491706098,
           10.55530061106455,
           12.648410015456031,
           12.03173865500754,
           12.800413108901084,
           10.648410015456031,
           12.911444421289826,
           11.345847245435602,
           12.38537560962224,
           13.970338110343397,
           10.000711759386911,
           11.624563273501664,
           11.129035856362451,
           12.269898392202302,
           11.882875269093056,
           15.23337251617719,
           12.467837769814212,
           11.446776154286384,
           13.648410015456031,
           12.000711759386911,
           11.72241059689981,
           15.23337251617719,
           15.23337251617719,
           12.095868992427254,
           13.854860892923458,
           12.197748606446469,
           10.095868992427254,
           14.747945689006947,
           13.162983188285793,
           15.55530061106455,
           11.01614179995652,
           9.754400711144246,
           10.985445002733604,
           8.093821163778395,
           11.55530061106455,
           12.307373097620966,
           11.079567180098152,
           13.747945689006947,
           11.14590967492685,
           12.38537560962224,
           11.32648192056867,
           13.648410015456031,
           12.55530061106455,
           13.162983188285793,
           12.601104300677676,
           11.601104300677676,
           11.426017594119584,
           8.897089128312755,
           13.467837769814212,
           14.095868992427254,
           12.345847245435602,
           12.426017594119584,
           11.03173865500754,
           10.071484833800294,
           13.095868992427254,
           13.55530061106455,
           12.095868992427254
          ],
          "sizemode": "area",
          "sizeref": 0.04388825152766138,
          "symbol": "circle"
         },
         "mode": "markers+text",
         "name": "NN",
         "orientation": "v",
         "showlegend": true,
         "text": [
          "60s",
          "aah",
          "aback",
          "ability",
          "aboard",
          "absence",
          "absentee",
          "abundance",
          "abuse",
          "accelerating",
          "acceptance",
          "accident",
          "accumulation",
          "ache",
          "acid",
          "act",
          "action",
          "actor",
          "actors",
          "actress",
          "ad",
          "ada",
          "adultery",
          "advice",
          "aeroplane",
          "affection",
          "affinity",
          "afterglow",
          "afternoon",
          "age",
          "ahahahah",
          "ahooh",
          "air",
          "ajar",
          "al",
          "alarm",
          "alien",
          "alienation",
          "alright",
          "altar",
          "altercation",
          "alti",
          "ambitiousness",
          "ancient",
          "android",
          "angel",
          "answer",
          "antichristening",
          "anybody",
          "anyone",
          "anything",
          "aon",
          "apartment",
          "apple",
          "arisin",
          "arm",
          "art",
          "ashtray",
          "asleep",
          "ass",
          "astronauts",
          "attention",
          "attraction",
          "avenue",
          "awake",
          "awesome",
          "axe",
          "axis",
          "babe",
          "baby",
          "backbone",
          "background",
          "backyard",
          "bag",
          "bait",
          "balance",
          "ball",
          "balloon",
          "bam",
          "bamchikabamchikaboomboomboom",
          "banana",
          "band",
          "bar",
          "basement",
          "bath",
          "battle",
          "bay",
          "beach",
          "beacon",
          "beast",
          "beat",
          "beauty",
          "beckoning",
          "bed",
          "bedroom",
          "beginning",
          "bein",
          "believer",
          "believing",
          "bell",
          "bend",
          "bird",
          "birth",
          "birthday",
          "bit",
          "bitches",
          "blade",
          "block",
          "blood",
          "bloom",
          "body",
          "bone",
          "book",
          "bottom",
          "bourgeoisie",
          "bow",
          "boy",
          "brand",
          "breakthru",
          "breath",
          "breeze",
          "brother",
          "bubblegum",
          "building",
          "bulletproof",
          "bury",
          "butterfly",
          "bye",
          "cage",
          "cake",
          "camera",
          "car",
          "cartilage",
          "case",
          "cd",
          "ceiling",
          "chance",
          "chances",
          "chase",
          "child",
          "chirpchirpchirpchirping",
          "choice",
          "city",
          "citys",
          "clouds",
          "collection",
          "communication",
          "company",
          "competition",
          "confusion",
          "conqueror",
          "consciousness",
          "consequence",
          "control",
          "conversation",
          "corner",
          "cost",
          "count",
          "course",
          "crime",
          "cross",
          "cry",
          "culture",
          "cupboard",
          "dadadadada",
          "dadadadadada",
          "daddys",
          "damn",
          "dance",
          "dark",
          "darkness",
          "day",
          "deal",
          "dear",
          "death",
          "deliveriveriverance",
          "denial",
          "depression",
          "destruction",
          "devotion",
          "difference",
          "dirt",
          "dirty",
          "discipline",
          "discovery",
          "distance",
          "divided",
          "dodododo",
          "doomscroller",
          "door",
          "downtown",
          "dream",
          "dreamt",
          "drop",
          "drown",
          "duh",
          "duhduh",
          "dumbstruck",
          "dumdumdumdumdum",
          "dust",
          "earth",
          "edge",
          "eh",
          "electricaluhhh",
          "emptiness",
          "end",
          "energy",
          "escape",
          "eternity",
          "evening",
          "everybody",
          "everybodys",
          "everyone",
          "everything",
          "everythings",
          "eye",
          "face",
          "fall",
          "family",
          "farther",
          "fault",
          "feeling",
          "fever",
          "fire",
          "fit",
          "flame",
          "floor",
          "fo",
          "fog",
          "fool",
          "forgiveness",
          "formentera",
          "friend",
          "front",
          "fun",
          "girl",
          "gogogogodowngogogogogo",
          "gogogogodowngogogogogogo",
          "ground",
          "gun",
          "ha",
          "hair",
          "half",
          "hand",
          "harder",
          "head",
          "headshrinkers",
          "heart",
          "heat",
          "heaven",
          "hell",
          "hes",
          "hid",
          "history",
          "hmm",
          "ho",
          "hole",
          "holiday",
          "home",
          "honey",
          "hope",
          "hu",
          "ice",
          "je",
          "kaleidoscope",
          "key",
          "kid",
          "kind",
          "kitchen",
          "knife",
          "land",
          "laugh",
          "lead",
          "lie",
          "life",
          "light",
          "lightning",
          "line",
          "lit",
          "lo",
          "lock",
          "look",
          "lot",
          "loud",
          "love",
          "lover",
          "loving",
          "magnification",
          "makebelieving",
          "man",
          "matter",
          "meaning",
          "mind",
          "mine",
          "miracle",
          "mirror",
          "moment",
          "money",
          "morning",
          "mystery",
          "name",
          "needle",
          "night",
          "nobody",
          "nothing",
          "number",
          "ocean",
          "ok",
          "oohoohoohoohooh",
          "oohoohoohoohoohooh",
          "ow",
          "pain",
          "paper",
          "passionate",
          "past",
          "phone",
          "piece",
          "place",
          "plan",
          "position",
          "pow",
          "question",
          "r",
          "rain",
          "raindrops",
          "reason",
          "reconciliation",
          "rest",
          "rhythm",
          "ring",
          "river",
          "road",
          "roam",
          "rock",
          "romance",
          "room",
          "round",
          "ruin",
          "sacrilege",
          "satellite",
          "scatterbrain",
          "scream",
          "sea",
          "selfpreservation",
          "shade",
          "shit",
          "side",
          "silence",
          "silver",
          "sink",
          "sky",
          "somebody",
          "someone",
          "someones",
          "somethin",
          "something",
          "song",
          "soul",
          "space",
          "spinnin",
          "spoil",
          "star",
          "step",
          "stick",
          "stone",
          "street",
          "strike",
          "struggle",
          "sucker",
          "sugar",
          "summer",
          "sun",
          "surprised",
          "sympathy",
          "takatakatakatakatakin",
          "talk",
          "thats",
          "thing",
          "time",
          "today",
          "tongue",
          "tonight",
          "top",
          "touch",
          "town",
          "truth",
          "tu",
          "tv",
          "versus",
          "walkin",
          "wall",
          "war",
          "way",
          "wet",
          "whispering",
          "wind",
          "woman",
          "work",
          "world",
          "yes",
          "ym",
          "youth"
         ],
         "type": "scatter",
         "x": [
          0.0013499080939035084,
          0.0010437912608806423,
          -0.02250776654393078,
          -0.008059569413830306,
          -0.0037975801470626486,
          0.010850529349048073,
          -0.004832750747148423,
          0.0023272479408274482,
          -0.003409732422271272,
          0.0172368587931383,
          -0.004547069432712103,
          0.011594673786234466,
          0.004261109036999694,
          0.009386018477269914,
          -0.0007189051123905957,
          -0.03150389573382778,
          0.003461624947313514,
          0.0007814295336209072,
          0.0044334116679079685,
          0.007142468307305862,
          0.03346182463164169,
          0.015372096593394977,
          -0.001882438952517286,
          0.026500238349655047,
          -0.00385020690474356,
          0.0001594763877693489,
          0.00444908868553261,
          0.0004335547567170069,
          0.08031455593853629,
          -0.059408317321612635,
          0.05315331630236912,
          -0.005149231837408263,
          0.0644293225004827,
          0.031061115567498708,
          -0.005043043254043351,
          0.004152692883395832,
          0.07118125882391378,
          -0.0018770307461648122,
          -0.06903785151191397,
          -0.007156044994148863,
          0.004261109036999621,
          -0.001681014418014444,
          -0.004547069432712278,
          -0.0168854227338894,
          -0.03223827765532128,
          0.003582983850237346,
          0.018920253869542537,
          -0.022212104636876666,
          0.05183395261959519,
          -0.06894358211833859,
          -0.004110278105963756,
          0.027599985646838365,
          -0.0025039405640265907,
          0.04185869568336293,
          -0.00007511815530063864,
          0.034163219933467597,
          -0.017520433759714835,
          0.011016298399842344,
          0.006267155824417972,
          -0.005554502150274315,
          0.022003511030414143,
          -0.003345880957745211,
          0.005169197014185874,
          0.010365256380560645,
          -0.026469555622044203,
          0.00393534420191062,
          -0.0050117092982748124,
          0.02029544989068063,
          -0.055620685667808284,
          -0.01720628245374696,
          -0.025044738902416295,
          -0.01911019600809626,
          -0.007199343752985921,
          -0.0019893808299552705,
          -0.01206898172510219,
          -0.004616861034322765,
          -0.05431437933731586,
          0.056677463773282456,
          0.002871468885811404,
          -0.0021381144207574705,
          0.007675042136541996,
          -0.0037529385187906493,
          -0.0371188271252943,
          0.00045956614010451275,
          0.03238512037536317,
          0.03130457225587111,
          0.016281355386305388,
          0.027083328618944417,
          0.004610618642884456,
          0.03586570813389189,
          -0.02700076228292346,
          -0.005393404775166203,
          0.0026023975015369767,
          0.0001840811490772679,
          0.01344540616588014,
          0.06437433027876324,
          -0.00015023631060127676,
          -0.0652938650231171,
          0.019607629936314843,
          0.027271704913657744,
          0.019524354332587413,
          0.032551048636405205,
          -0.023358579737510335,
          -0.0028481870180824677,
          0.013912981723883486,
          0.009526672949027147,
          0.042667096155769996,
          0.0015634792624033183,
          0.009860499612224388,
          0.014912146290271103,
          0.07005864443128347,
          0.012545723435203613,
          -0.005654848383462429,
          -0.0620842975836103,
          0.004604581014917576,
          -0.06589486949987271,
          -0.03457339577419569,
          0.007933104967868072,
          0.03490871911241237,
          0.002023670415039751,
          0.010145854285466157,
          -0.045525698511503725,
          -0.0046791962367341644,
          0.0034721270299733786,
          0.005532742371461332,
          0.005894940940799875,
          0.019965266242153185,
          0.00800349671258353,
          -0.0030459102137096812,
          0.001543652994508316,
          0.006740419362248847,
          -0.048235719457772046,
          0.008350330087045253,
          -0.05752036215695901,
          -0.0002478138318448353,
          0.04794415757925287,
          -0.08480776797182753,
          0.014905235192788876,
          -0.0291375950449737,
          0.018991335530577427,
          0.0027908887961184763,
          0.017931223610700233,
          0.032294289484824705,
          -0.02783461738723152,
          0.01918380598062109,
          0.01483778594278817,
          -0.0010033762654416108,
          0.014093257888727732,
          -0.031829486028986054,
          0.006652808671973105,
          0.025599727349102427,
          -0.015148556073368813,
          -0.004765545955976384,
          -0.008039753042373374,
          0.0006623080030280021,
          -0.014330764849165454,
          0.007962834084914105,
          0.02444832830874528,
          -0.00822112238525382,
          -0.016172220667577134,
          -0.0217819831621472,
          0.06120309300348994,
          -0.01969458752484463,
          0.02313251362939184,
          -0.002831188087911838,
          -0.00141559404395592,
          -0.08523000603356086,
          -0.03178013702821392,
          -0.006354641680832247,
          -0.06774429669928149,
          -0.0002917640560273299,
          -0.015605484102066818,
          0.021577247738014976,
          -0.040997153806335895,
          -0.047604357664978704,
          -0.0018570200518750564,
          -0.30441777615234,
          -0.015129129762130055,
          0.012201198972648984,
          0.03555007679877138,
          -0.004586513185029629,
          0.02448032261893607,
          -0.020039063283691535,
          -0.0037172074776725336,
          0.06600067541869445,
          -0.014411150374806626,
          0.013477786470627712,
          -0.009602928640333037,
          0.006059301727293752,
          0.050661059722416336,
          -0.015803886498831573,
          0.03795750969693595,
          -0.0004078031257550749,
          -0.029606352655916376,
          -0.015947347768238536,
          -0.013802041928570156,
          0.000944044565198275,
          0.007686048296697489,
          -0.0021381144207574692,
          0.019633397872825857,
          0.03371222347518802,
          -0.06377393988622414,
          0.024376128049617467,
          0.01388026899740988,
          0.00931740844573961,
          -0.03662423164981385,
          0.06790549681485962,
          -0.047244508018360706,
          0.0021318947075135435,
          0.016279545156763622,
          0.06929274524264875,
          -0.08138322473080445,
          0.002917866528681638,
          0.007594503510692267,
          -0.002522454612252157,
          -0.02107685127330133,
          -0.04893625703708456,
          0.00608433745069008,
          0.02731594267353588,
          0.012086817547033855,
          -0.025432507867736074,
          0.006561437865763828,
          0.013438333035943663,
          0.031300080629402316,
          0.0225369063226964,
          0.004880794633881007,
          0.008590434223083766,
          -0.011671555100607415,
          0.006827680715756957,
          -0.060557879533910106,
          -0.005653235130068263,
          0.008483022418211241,
          0.051485566554409175,
          -0.012560895115398037,
          -0.04000358338468388,
          0.015145940108187955,
          0.0010838868917925116,
          0.0008671095134340186,
          -0.041583535655450275,
          -0.0728245562656447,
          -0.03956798720112989,
          -0.000797620755415039,
          -0.003375104779526815,
          0.024349571890333634,
          0.02915465150149279,
          0.0036450656760987354,
          0.005532742371461333,
          -0.04784444516792654,
          0.03718723298626324,
          -0.008662113299061691,
          -0.04242613830840657,
          -0.29610711980740884,
          0.015694404173745145,
          0.00811568801809214,
          0.009970231588569581,
          -0.04557096176475158,
          0.01175213611112503,
          0.006449327322024259,
          -0.014010733815019591,
          -0.018469585529083878,
          -0.143361001058706,
          -0.05577812647351245,
          -0.010587643436577572,
          -0.010705675423191367,
          -0.002089147558359432,
          -0.046442312592305184,
          0.008649103279175696,
          -0.004113438898508285,
          0.029484232831947326,
          0.012187275796378183,
          -0.04726807532946014,
          -0.04062671110929843,
          -0.011538490706311431,
          0.20997780349415654,
          0.0017242978174104363,
          0.017642118476972116,
          0.051493772693751265,
          -0.006877179181169463,
          0.020987317447952892,
          -0.004733658699856612,
          -0.004008050265748823,
          -0.017430662476522855,
          0.043043142436057114,
          0.040752762047397105,
          -0.014887725924514915,
          -0.009126272624359184,
          0.011019415364068004,
          0.002423720690917501,
          0.012783327110998877,
          -0.0009024935495238837,
          -0.10854938340778472,
          -0.028093319058180063,
          -0.0768237826832868,
          -0.019668696794885008,
          0.0005824225401165773,
          0.011321110594625462,
          0.13156255370749553,
          -0.03976426428991983,
          0.04160086790110376,
          0.2516203063427569,
          -0.014643554431194621,
          0.04079607823337615,
          0.0008724255665538789,
          0.04313269171978008,
          0.003497638097377483,
          -0.05660995211641001,
          0.0058645251434208505,
          -0.022718708221001305,
          -0.0007655231311638182,
          0.010617111524760461,
          -0.009419894752248109,
          -0.0012040845793676244,
          0.025781522158619573,
          0.013007866415302702,
          0.02551355275366574,
          -0.08310566686715005,
          -0.015389054353357523,
          -0.006753658030736307,
          0.04248493154911654,
          -0.0033812204535478892,
          0.05463926082245039,
          -0.010822988270436968,
          0.0009629170517498376,
          -0.004941088083798397,
          -0.010348467509688895,
          -0.012339661215186934,
          -0.009094138865424563,
          0.01022875832821643,
          0.020763517712928857,
          -0.01589148794472412,
          0.01409634957412402,
          -0.02500642908412641,
          0.003299074161408204,
          0.05595108857419088,
          -0.0755405529707719,
          0.07280384194511755,
          -0.16373181382179763,
          0.004171630821273701,
          0.005036955051189452,
          0.01656118045902653,
          -0.00041312609370811987,
          -0.003092057966457587,
          0.12011154925931768,
          -0.0007189051123906186,
          0.027189074771601297,
          -0.02246983574726597,
          -0.0033213496126127317,
          0.01224548781734066,
          -0.014852323855748004,
          -0.03376417537225102,
          0.03866237613531618,
          0.014435957970900517,
          -0.026970950956009057,
          -0.3469431459368141,
          0.008912538859614025,
          -0.029259155064969938,
          0.0035100686317972355,
          -0.06451622467629964,
          0.09011390778032055,
          0.022567502906841945,
          -0.007032220818655963,
          -0.011492648385326912,
          0.030983019554698028,
          -0.0048197404650567,
          0.06315568633056112,
          -0.023179109845778843,
          -0.019288376695551522,
          -0.0029428575389116767,
          -0.010903808601172776,
          0.05099703445753153,
          0.03805333427664989,
          -0.010261461626587424,
          0.0017148868854281022,
          -0.0029450804624844016,
          0.01224366649229329,
          0.00048608873254754825,
          -0.0053224244483245425,
          -0.00015940521779037953,
          -0.015413394917971996,
          0.03814235935245152,
          -0.03410880835707452,
          -0.03988505055002235,
          -0.0070901638801265775,
          0.002325876712457549,
          -0.005645334007946041,
          -0.03770004403251753,
          -0.016035858155681048,
          -0.039402783650505604,
          0.023681370300197055,
          0.008015716785864529,
          0.048119020475035315,
          -0.03331674278305417,
          -0.037118658854164294,
          0.021908213161064612,
          -0.0035082718440534247,
          0.02043101249598511,
          0.0498575149951505,
          -0.13928962552914093,
          0.009698077702033297,
          -0.0008674754236216393,
          -0.013307432786429964,
          0.01016186319970948
         ],
         "xaxis": "x",
         "y": [
          -0.0019240310646834926,
          -0.002062501085669615,
          0.006452197641427772,
          -0.001271755125333035,
          -0.001693242740711219,
          0.0023802423781575516,
          0.016498202137778334,
          -0.0013183540887503897,
          -0.01437008205765486,
          -0.007404280948131364,
          -0.0016530161149026223,
          0.015204432661008405,
          -0.00795840029011724,
          0.01765880284584026,
          -0.005060459131248307,
          0.0504380329637355,
          -0.0013185286665950424,
          -0.020450679028274216,
          0.00003209769906115101,
          0.005285273982603533,
          0.04470370563127226,
          -0.02609943424846502,
          0.0014892764606856564,
          -0.053343784788638625,
          0.004057645745883737,
          -0.007752652908996553,
          -0.0022214913482375247,
          -0.0006704370566923744,
          -0.027049060675092405,
          -0.011312304988484975,
          -0.006638686589404067,
          0.0055491765244378415,
          0.005705981089386071,
          -0.04489616263104716,
          -0.01943347298273223,
          0.001891696148137983,
          0.05838257657432831,
          -0.0025125233046371384,
          0.04306647660305289,
          -0.0017127730319787978,
          -0.007958400290117225,
          -0.0064778243275774,
          -0.0016530161149027212,
          0.00953709270292348,
          -0.005087020501331959,
          0.01460300795625638,
          0.09136007659118797,
          -0.0037713732624065624,
          0.02046955733049548,
          0.06091391756351441,
          -0.006705769005257817,
          -0.012147820710111105,
          -0.017584200660409915,
          -0.019607769161679556,
          0.005833809724617537,
          -0.01577996612911254,
          -0.014944004096646023,
          0.0009597192793769777,
          0.005813080060810418,
          -0.019680988176657442,
          -0.02887590901137306,
          0.011124304793172914,
          -0.007964763461869001,
          0.002126283162417625,
          0.01846815339540505,
          0.006112173761369779,
          0.0030963151767608105,
          -0.008152452147759755,
          -0.09654934297835051,
          -0.11671865850526122,
          0.017628566012663237,
          0.01290296189649587,
          -0.008487048871560673,
          0.000014104396285417268,
          -0.00017186154010443534,
          -0.013627803069681352,
          0.06461015207567287,
          -0.08353878086528264,
          -0.07371364049033151,
          -0.006540389616173569,
          -0.018680593817665077,
          -0.02464137325913716,
          -0.035229926714555555,
          -0.01610887173592649,
          -0.001595774149106965,
          -0.008088726989022731,
          -0.01833172723198156,
          0.010812558299157539,
          -0.0048435860026988685,
          0.04979539771395262,
          -0.0002834590670496022,
          0.009837978846865346,
          -0.009928274291765724,
          -0.04382146475974106,
          -0.00831082204129243,
          0.01621011546021193,
          0.011667619449235068,
          0.020668376674676282,
          0.00003712585839234315,
          0.016700980168641293,
          -0.008338888613195624,
          -0.049629821471807424,
          -0.006769402068306439,
          -0.011194527718000467,
          -0.006960172014547974,
          -0.00798864455628806,
          0.026032891725992546,
          -0.019454443589587356,
          -0.0350764244339553,
          0.013223901202001974,
          -0.05332821623780598,
          -0.019901050181171692,
          0.0015559296968807972,
          -0.01251959409692001,
          -0.006238863505165758,
          0.02079237824712719,
          0.009353248849289042,
          -0.028528943387641788,
          -0.019775311331256214,
          -0.006980636339738902,
          0.002090575055716967,
          -0.0886954626833105,
          0.05970752828435869,
          0.025960401326881048,
          -0.005812303203238648,
          -0.0068818512868490805,
          -0.027373719005250836,
          -0.047743102648257915,
          -0.0033248524908919474,
          0.0029829670179964077,
          -0.014835596562186956,
          0.010845786191013654,
          -0.016500008685356837,
          -0.05294592380783971,
          -0.00033797079255673047,
          -0.05002221228988261,
          0.054717962718640635,
          0.01339616641973507,
          0.007000730181415724,
          -0.07354347320430189,
          -0.004578858437077889,
          -0.022051590242954427,
          -0.019871802126816236,
          0.02198352752845343,
          -0.01947591406617817,
          -0.02103526285791546,
          -0.008367626053749223,
          -0.006697882794220072,
          -0.011571112804319097,
          0.028606360363173853,
          -0.014501894976254561,
          0.010721525900623634,
          -0.0011901688465108758,
          -0.025138836466902858,
          -0.030464247429604963,
          -0.057165779529599,
          -0.0022979549732053267,
          -0.01033214097944123,
          -0.025699198139261588,
          0.04260598082450989,
          0.021180788860620615,
          0.08182875250138019,
          -0.00376555254750356,
          -0.043851215435068654,
          -0.00548625320396456,
          -0.002743126601982281,
          -0.207517805137233,
          -0.005209011377037358,
          0.12191217417578408,
          -0.022534445179768825,
          0.009238318023084056,
          0.004416254200377338,
          -0.0009906503096412528,
          0.11487993623080134,
          -0.02437090210843438,
          -0.012467218776594404,
          0.10132628676744523,
          -0.0583004189481967,
          0.024182851467392297,
          0.03243340377427509,
          0.01325766620641754,
          -0.014008838497940294,
          -0.022549180703960732,
          -0.0050695618883509815,
          -0.024922828700011026,
          0.0317750360214675,
          0.02842240870478857,
          -0.04576094037554989,
          -0.00033941760561804145,
          -0.07341267375822445,
          -0.005827433372952266,
          -0.04209775539952882,
          -0.022594025678006526,
          0.033333709504318465,
          0.04521957811368671,
          -0.026745484369327246,
          -0.024234621531067816,
          -0.013049717124232516,
          -0.006540389616173568,
          -0.02036673500637608,
          0.0060908788814066535,
          -0.020629387949403073,
          -0.01698976377482448,
          -0.020064153886004455,
          -0.012236427233491285,
          0.037109714305628184,
          -0.025499185612789712,
          -0.04436464245361312,
          -0.00606776992399093,
          0.007771547963733206,
          -0.018844907084588646,
          0.013876867274163117,
          0.035145848962604295,
          0.061279897595063595,
          0.00043844436033190436,
          -0.002108764062979163,
          0.04352329877476283,
          0.010428582294207355,
          -0.0157067826607271,
          -0.013060921326193107,
          0.01144084736372545,
          0.006209720621236189,
          -0.0067265030926309324,
          0.004763678325093858,
          0.00511422023589473,
          0.02728705650015731,
          -0.044938517039685016,
          0.0015328249328469474,
          0.001135344521034513,
          0.0025163579490622813,
          -0.013760509581556935,
          -0.0004751846478652632,
          -0.033455898579606534,
          -0.03279451237572634,
          0.013641597303482612,
          -0.05088454772675587,
          -0.0016760926417309452,
          -0.0013408741133847484,
          0.024910940695791764,
          0.14513069001438816,
          -0.010129583569725471,
          0.045299130373374366,
          -0.0005121730172830416,
          -0.010585701914550775,
          -0.002949351102016273,
          0.0405787273186739,
          -0.0058123032032386494,
          0.03182230765251162,
          -0.004765148126262762,
          -0.017393123495100943,
          -0.06015961631644861,
          -0.17626467363067835,
          -0.007937208151155895,
          0.025832369381800502,
          -0.011723774375174663,
          -0.020318912888535566,
          -0.05752544085005668,
          0.0181151245638189,
          -0.023452769843712466,
          -0.014893393168562141,
          0.1440579192165625,
          0.02541473414015616,
          0.025706004060653553,
          -0.034010334457098744,
          -0.014025621123668728,
          0.009186576220567219,
          0.025525490242647986,
          0.009705090728738937,
          -0.02082656652079114,
          -0.01645809613314865,
          0.04185855587876879,
          0.02188815552499885,
          0.049948118197469075,
          0.19303403688123108,
          0.027658926474994322,
          0.02650691807467744,
          -0.06856482744702924,
          0.0363961192434875,
          -0.04097463598877316,
          0.016579414260976918,
          -0.007015319776852401,
          -0.005440317885057281,
          -0.022750240545831434,
          -0.012094048254319336,
          0.0045982128306824915,
          -0.0070744836913568514,
          0.011856906630020496,
          -0.00013576704224720721,
          -0.023875200870351693,
          -0.02666828253303629,
          0.06563655264408368,
          0.006917813365880664,
          0.005875761648808483,
          0.19554801241330322,
          -0.02185162782789121,
          0.017706473325867514,
          -0.11589968816823455,
          0.03617335811372898,
          0.0016968579290506927,
          0.07462399944666201,
          0.03534185708409419,
          -0.014097866415951482,
          0.0421267533396829,
          0.008361852244259121,
          0.05104136398199799,
          0.017631441581880992,
          -0.005159293121132969,
          -0.04791271054519903,
          -0.00868355087873068,
          -0.013105944474286091,
          -0.031542918282033726,
          0.014380032517079831,
          -0.03403067200521135,
          -0.007811432560588562,
          -0.016406240399722587,
          -0.051459246287965554,
          -0.004773510424121684,
          0.0388256447816996,
          0.006566736514647385,
          0.028219275134417954,
          0.0008567398863530821,
          -0.020139742730392724,
          -0.00211937093745528,
          -0.008034743613653462,
          -0.00922839178968244,
          -0.018052902853161166,
          -0.003306032229805449,
          0.00491459334351357,
          -0.009414787317452914,
          0.020233596067864734,
          -0.022345737840954973,
          0.06115781468683747,
          0.004440577371433556,
          0.007216971925445497,
          -0.027965622197720034,
          -0.009703765148199709,
          0.09202032450810127,
          0.013789864216448592,
          -0.029372938654578816,
          -0.011526687803926674,
          -0.002010640031850845,
          -0.03965337199286544,
          0.10527146956618516,
          -0.00506045913124848,
          0.025560835522549098,
          0.051930209358260315,
          0.04586583116462918,
          -0.0028339093727287553,
          0.026978761193551467,
          0.02752992794752387,
          0.14167518718872704,
          0.007495834023577136,
          0.03044912995078721,
          0.019943179717416434,
          0.012549919873972455,
          0.030066844120607627,
          -0.018412879739112542,
          0.0744014617355578,
          -0.05764673126149262,
          -0.04426760370098072,
          0.011358966326763078,
          0.05437661382939898,
          -0.138238861828832,
          -0.001851737078041702,
          -0.03565347596577286,
          -0.00039028491083186617,
          -0.014996390883152534,
          -0.00530276213613976,
          -0.01487071487249618,
          -0.014218901184743296,
          0.030936767219463233,
          -0.003081770857118614,
          0.023470663713763464,
          0.0022115120511397453,
          0.01114246625581153,
          0.02714408187718209,
          0.0066990062118156305,
          -0.018191931444527014,
          0.01661436317711467,
          0.012878355369947758,
          -0.0032917914640692627,
          -0.05363403333291416,
          -0.046924172996986035,
          -0.018526154775779517,
          -0.010126933833215463,
          0.01443761507018204,
          -0.04905292212130186,
          -0.004177308507033517,
          -0.015000839233201523,
          0.08889730900045534,
          0.054898291637874644,
          -0.07837662339941522,
          0.07290726093788441,
          0.009438976164745162,
          0.0310785822008452,
          -0.019828068600385957,
          -0.06828212204698655,
          -0.03617479592354114,
          0.03920749183892283,
          0.09801645518794741,
          0.0024886970427333457,
          -0.07499144468113149
         ],
         "yaxis": "y"
        },
        {
         "alignmentgroup": "True",
         "hovertemplate": "max_pos=NN<br>PC1=%{x}<extra></extra>",
         "legendgroup": "NN",
         "marker": {
          "color": "#636efa",
          "symbol": "circle"
         },
         "name": "NN",
         "notched": true,
         "offsetgroup": "NN",
         "showlegend": false,
         "type": "box",
         "x": [
          0.0013499080939035084,
          0.0010437912608806423,
          -0.02250776654393078,
          -0.008059569413830306,
          -0.0037975801470626486,
          0.010850529349048073,
          -0.004832750747148423,
          0.0023272479408274482,
          -0.003409732422271272,
          0.0172368587931383,
          -0.004547069432712103,
          0.011594673786234466,
          0.004261109036999694,
          0.009386018477269914,
          -0.0007189051123905957,
          -0.03150389573382778,
          0.003461624947313514,
          0.0007814295336209072,
          0.0044334116679079685,
          0.007142468307305862,
          0.03346182463164169,
          0.015372096593394977,
          -0.001882438952517286,
          0.026500238349655047,
          -0.00385020690474356,
          0.0001594763877693489,
          0.00444908868553261,
          0.0004335547567170069,
          0.08031455593853629,
          -0.059408317321612635,
          0.05315331630236912,
          -0.005149231837408263,
          0.0644293225004827,
          0.031061115567498708,
          -0.005043043254043351,
          0.004152692883395832,
          0.07118125882391378,
          -0.0018770307461648122,
          -0.06903785151191397,
          -0.007156044994148863,
          0.004261109036999621,
          -0.001681014418014444,
          -0.004547069432712278,
          -0.0168854227338894,
          -0.03223827765532128,
          0.003582983850237346,
          0.018920253869542537,
          -0.022212104636876666,
          0.05183395261959519,
          -0.06894358211833859,
          -0.004110278105963756,
          0.027599985646838365,
          -0.0025039405640265907,
          0.04185869568336293,
          -0.00007511815530063864,
          0.034163219933467597,
          -0.017520433759714835,
          0.011016298399842344,
          0.006267155824417972,
          -0.005554502150274315,
          0.022003511030414143,
          -0.003345880957745211,
          0.005169197014185874,
          0.010365256380560645,
          -0.026469555622044203,
          0.00393534420191062,
          -0.0050117092982748124,
          0.02029544989068063,
          -0.055620685667808284,
          -0.01720628245374696,
          -0.025044738902416295,
          -0.01911019600809626,
          -0.007199343752985921,
          -0.0019893808299552705,
          -0.01206898172510219,
          -0.004616861034322765,
          -0.05431437933731586,
          0.056677463773282456,
          0.002871468885811404,
          -0.0021381144207574705,
          0.007675042136541996,
          -0.0037529385187906493,
          -0.0371188271252943,
          0.00045956614010451275,
          0.03238512037536317,
          0.03130457225587111,
          0.016281355386305388,
          0.027083328618944417,
          0.004610618642884456,
          0.03586570813389189,
          -0.02700076228292346,
          -0.005393404775166203,
          0.0026023975015369767,
          0.0001840811490772679,
          0.01344540616588014,
          0.06437433027876324,
          -0.00015023631060127676,
          -0.0652938650231171,
          0.019607629936314843,
          0.027271704913657744,
          0.019524354332587413,
          0.032551048636405205,
          -0.023358579737510335,
          -0.0028481870180824677,
          0.013912981723883486,
          0.009526672949027147,
          0.042667096155769996,
          0.0015634792624033183,
          0.009860499612224388,
          0.014912146290271103,
          0.07005864443128347,
          0.012545723435203613,
          -0.005654848383462429,
          -0.0620842975836103,
          0.004604581014917576,
          -0.06589486949987271,
          -0.03457339577419569,
          0.007933104967868072,
          0.03490871911241237,
          0.002023670415039751,
          0.010145854285466157,
          -0.045525698511503725,
          -0.0046791962367341644,
          0.0034721270299733786,
          0.005532742371461332,
          0.005894940940799875,
          0.019965266242153185,
          0.00800349671258353,
          -0.0030459102137096812,
          0.001543652994508316,
          0.006740419362248847,
          -0.048235719457772046,
          0.008350330087045253,
          -0.05752036215695901,
          -0.0002478138318448353,
          0.04794415757925287,
          -0.08480776797182753,
          0.014905235192788876,
          -0.0291375950449737,
          0.018991335530577427,
          0.0027908887961184763,
          0.017931223610700233,
          0.032294289484824705,
          -0.02783461738723152,
          0.01918380598062109,
          0.01483778594278817,
          -0.0010033762654416108,
          0.014093257888727732,
          -0.031829486028986054,
          0.006652808671973105,
          0.025599727349102427,
          -0.015148556073368813,
          -0.004765545955976384,
          -0.008039753042373374,
          0.0006623080030280021,
          -0.014330764849165454,
          0.007962834084914105,
          0.02444832830874528,
          -0.00822112238525382,
          -0.016172220667577134,
          -0.0217819831621472,
          0.06120309300348994,
          -0.01969458752484463,
          0.02313251362939184,
          -0.002831188087911838,
          -0.00141559404395592,
          -0.08523000603356086,
          -0.03178013702821392,
          -0.006354641680832247,
          -0.06774429669928149,
          -0.0002917640560273299,
          -0.015605484102066818,
          0.021577247738014976,
          -0.040997153806335895,
          -0.047604357664978704,
          -0.0018570200518750564,
          -0.30441777615234,
          -0.015129129762130055,
          0.012201198972648984,
          0.03555007679877138,
          -0.004586513185029629,
          0.02448032261893607,
          -0.020039063283691535,
          -0.0037172074776725336,
          0.06600067541869445,
          -0.014411150374806626,
          0.013477786470627712,
          -0.009602928640333037,
          0.006059301727293752,
          0.050661059722416336,
          -0.015803886498831573,
          0.03795750969693595,
          -0.0004078031257550749,
          -0.029606352655916376,
          -0.015947347768238536,
          -0.013802041928570156,
          0.000944044565198275,
          0.007686048296697489,
          -0.0021381144207574692,
          0.019633397872825857,
          0.03371222347518802,
          -0.06377393988622414,
          0.024376128049617467,
          0.01388026899740988,
          0.00931740844573961,
          -0.03662423164981385,
          0.06790549681485962,
          -0.047244508018360706,
          0.0021318947075135435,
          0.016279545156763622,
          0.06929274524264875,
          -0.08138322473080445,
          0.002917866528681638,
          0.007594503510692267,
          -0.002522454612252157,
          -0.02107685127330133,
          -0.04893625703708456,
          0.00608433745069008,
          0.02731594267353588,
          0.012086817547033855,
          -0.025432507867736074,
          0.006561437865763828,
          0.013438333035943663,
          0.031300080629402316,
          0.0225369063226964,
          0.004880794633881007,
          0.008590434223083766,
          -0.011671555100607415,
          0.006827680715756957,
          -0.060557879533910106,
          -0.005653235130068263,
          0.008483022418211241,
          0.051485566554409175,
          -0.012560895115398037,
          -0.04000358338468388,
          0.015145940108187955,
          0.0010838868917925116,
          0.0008671095134340186,
          -0.041583535655450275,
          -0.0728245562656447,
          -0.03956798720112989,
          -0.000797620755415039,
          -0.003375104779526815,
          0.024349571890333634,
          0.02915465150149279,
          0.0036450656760987354,
          0.005532742371461333,
          -0.04784444516792654,
          0.03718723298626324,
          -0.008662113299061691,
          -0.04242613830840657,
          -0.29610711980740884,
          0.015694404173745145,
          0.00811568801809214,
          0.009970231588569581,
          -0.04557096176475158,
          0.01175213611112503,
          0.006449327322024259,
          -0.014010733815019591,
          -0.018469585529083878,
          -0.143361001058706,
          -0.05577812647351245,
          -0.010587643436577572,
          -0.010705675423191367,
          -0.002089147558359432,
          -0.046442312592305184,
          0.008649103279175696,
          -0.004113438898508285,
          0.029484232831947326,
          0.012187275796378183,
          -0.04726807532946014,
          -0.04062671110929843,
          -0.011538490706311431,
          0.20997780349415654,
          0.0017242978174104363,
          0.017642118476972116,
          0.051493772693751265,
          -0.006877179181169463,
          0.020987317447952892,
          -0.004733658699856612,
          -0.004008050265748823,
          -0.017430662476522855,
          0.043043142436057114,
          0.040752762047397105,
          -0.014887725924514915,
          -0.009126272624359184,
          0.011019415364068004,
          0.002423720690917501,
          0.012783327110998877,
          -0.0009024935495238837,
          -0.10854938340778472,
          -0.028093319058180063,
          -0.0768237826832868,
          -0.019668696794885008,
          0.0005824225401165773,
          0.011321110594625462,
          0.13156255370749553,
          -0.03976426428991983,
          0.04160086790110376,
          0.2516203063427569,
          -0.014643554431194621,
          0.04079607823337615,
          0.0008724255665538789,
          0.04313269171978008,
          0.003497638097377483,
          -0.05660995211641001,
          0.0058645251434208505,
          -0.022718708221001305,
          -0.0007655231311638182,
          0.010617111524760461,
          -0.009419894752248109,
          -0.0012040845793676244,
          0.025781522158619573,
          0.013007866415302702,
          0.02551355275366574,
          -0.08310566686715005,
          -0.015389054353357523,
          -0.006753658030736307,
          0.04248493154911654,
          -0.0033812204535478892,
          0.05463926082245039,
          -0.010822988270436968,
          0.0009629170517498376,
          -0.004941088083798397,
          -0.010348467509688895,
          -0.012339661215186934,
          -0.009094138865424563,
          0.01022875832821643,
          0.020763517712928857,
          -0.01589148794472412,
          0.01409634957412402,
          -0.02500642908412641,
          0.003299074161408204,
          0.05595108857419088,
          -0.0755405529707719,
          0.07280384194511755,
          -0.16373181382179763,
          0.004171630821273701,
          0.005036955051189452,
          0.01656118045902653,
          -0.00041312609370811987,
          -0.003092057966457587,
          0.12011154925931768,
          -0.0007189051123906186,
          0.027189074771601297,
          -0.02246983574726597,
          -0.0033213496126127317,
          0.01224548781734066,
          -0.014852323855748004,
          -0.03376417537225102,
          0.03866237613531618,
          0.014435957970900517,
          -0.026970950956009057,
          -0.3469431459368141,
          0.008912538859614025,
          -0.029259155064969938,
          0.0035100686317972355,
          -0.06451622467629964,
          0.09011390778032055,
          0.022567502906841945,
          -0.007032220818655963,
          -0.011492648385326912,
          0.030983019554698028,
          -0.0048197404650567,
          0.06315568633056112,
          -0.023179109845778843,
          -0.019288376695551522,
          -0.0029428575389116767,
          -0.010903808601172776,
          0.05099703445753153,
          0.03805333427664989,
          -0.010261461626587424,
          0.0017148868854281022,
          -0.0029450804624844016,
          0.01224366649229329,
          0.00048608873254754825,
          -0.0053224244483245425,
          -0.00015940521779037953,
          -0.015413394917971996,
          0.03814235935245152,
          -0.03410880835707452,
          -0.03988505055002235,
          -0.0070901638801265775,
          0.002325876712457549,
          -0.005645334007946041,
          -0.03770004403251753,
          -0.016035858155681048,
          -0.039402783650505604,
          0.023681370300197055,
          0.008015716785864529,
          0.048119020475035315,
          -0.03331674278305417,
          -0.037118658854164294,
          0.021908213161064612,
          -0.0035082718440534247,
          0.02043101249598511,
          0.0498575149951505,
          -0.13928962552914093,
          0.009698077702033297,
          -0.0008674754236216393,
          -0.013307432786429964,
          0.01016186319970948
         ],
         "xaxis": "x3",
         "yaxis": "y3"
        },
        {
         "alignmentgroup": "True",
         "hovertemplate": "max_pos=NN<br>PC2=%{y}<extra></extra>",
         "legendgroup": "NN",
         "marker": {
          "color": "#636efa",
          "symbol": "circle"
         },
         "name": "NN",
         "notched": true,
         "offsetgroup": "NN",
         "showlegend": false,
         "type": "box",
         "xaxis": "x2",
         "y": [
          -0.0019240310646834926,
          -0.002062501085669615,
          0.006452197641427772,
          -0.001271755125333035,
          -0.001693242740711219,
          0.0023802423781575516,
          0.016498202137778334,
          -0.0013183540887503897,
          -0.01437008205765486,
          -0.007404280948131364,
          -0.0016530161149026223,
          0.015204432661008405,
          -0.00795840029011724,
          0.01765880284584026,
          -0.005060459131248307,
          0.0504380329637355,
          -0.0013185286665950424,
          -0.020450679028274216,
          0.00003209769906115101,
          0.005285273982603533,
          0.04470370563127226,
          -0.02609943424846502,
          0.0014892764606856564,
          -0.053343784788638625,
          0.004057645745883737,
          -0.007752652908996553,
          -0.0022214913482375247,
          -0.0006704370566923744,
          -0.027049060675092405,
          -0.011312304988484975,
          -0.006638686589404067,
          0.0055491765244378415,
          0.005705981089386071,
          -0.04489616263104716,
          -0.01943347298273223,
          0.001891696148137983,
          0.05838257657432831,
          -0.0025125233046371384,
          0.04306647660305289,
          -0.0017127730319787978,
          -0.007958400290117225,
          -0.0064778243275774,
          -0.0016530161149027212,
          0.00953709270292348,
          -0.005087020501331959,
          0.01460300795625638,
          0.09136007659118797,
          -0.0037713732624065624,
          0.02046955733049548,
          0.06091391756351441,
          -0.006705769005257817,
          -0.012147820710111105,
          -0.017584200660409915,
          -0.019607769161679556,
          0.005833809724617537,
          -0.01577996612911254,
          -0.014944004096646023,
          0.0009597192793769777,
          0.005813080060810418,
          -0.019680988176657442,
          -0.02887590901137306,
          0.011124304793172914,
          -0.007964763461869001,
          0.002126283162417625,
          0.01846815339540505,
          0.006112173761369779,
          0.0030963151767608105,
          -0.008152452147759755,
          -0.09654934297835051,
          -0.11671865850526122,
          0.017628566012663237,
          0.01290296189649587,
          -0.008487048871560673,
          0.000014104396285417268,
          -0.00017186154010443534,
          -0.013627803069681352,
          0.06461015207567287,
          -0.08353878086528264,
          -0.07371364049033151,
          -0.006540389616173569,
          -0.018680593817665077,
          -0.02464137325913716,
          -0.035229926714555555,
          -0.01610887173592649,
          -0.001595774149106965,
          -0.008088726989022731,
          -0.01833172723198156,
          0.010812558299157539,
          -0.0048435860026988685,
          0.04979539771395262,
          -0.0002834590670496022,
          0.009837978846865346,
          -0.009928274291765724,
          -0.04382146475974106,
          -0.00831082204129243,
          0.01621011546021193,
          0.011667619449235068,
          0.020668376674676282,
          0.00003712585839234315,
          0.016700980168641293,
          -0.008338888613195624,
          -0.049629821471807424,
          -0.006769402068306439,
          -0.011194527718000467,
          -0.006960172014547974,
          -0.00798864455628806,
          0.026032891725992546,
          -0.019454443589587356,
          -0.0350764244339553,
          0.013223901202001974,
          -0.05332821623780598,
          -0.019901050181171692,
          0.0015559296968807972,
          -0.01251959409692001,
          -0.006238863505165758,
          0.02079237824712719,
          0.009353248849289042,
          -0.028528943387641788,
          -0.019775311331256214,
          -0.006980636339738902,
          0.002090575055716967,
          -0.0886954626833105,
          0.05970752828435869,
          0.025960401326881048,
          -0.005812303203238648,
          -0.0068818512868490805,
          -0.027373719005250836,
          -0.047743102648257915,
          -0.0033248524908919474,
          0.0029829670179964077,
          -0.014835596562186956,
          0.010845786191013654,
          -0.016500008685356837,
          -0.05294592380783971,
          -0.00033797079255673047,
          -0.05002221228988261,
          0.054717962718640635,
          0.01339616641973507,
          0.007000730181415724,
          -0.07354347320430189,
          -0.004578858437077889,
          -0.022051590242954427,
          -0.019871802126816236,
          0.02198352752845343,
          -0.01947591406617817,
          -0.02103526285791546,
          -0.008367626053749223,
          -0.006697882794220072,
          -0.011571112804319097,
          0.028606360363173853,
          -0.014501894976254561,
          0.010721525900623634,
          -0.0011901688465108758,
          -0.025138836466902858,
          -0.030464247429604963,
          -0.057165779529599,
          -0.0022979549732053267,
          -0.01033214097944123,
          -0.025699198139261588,
          0.04260598082450989,
          0.021180788860620615,
          0.08182875250138019,
          -0.00376555254750356,
          -0.043851215435068654,
          -0.00548625320396456,
          -0.002743126601982281,
          -0.207517805137233,
          -0.005209011377037358,
          0.12191217417578408,
          -0.022534445179768825,
          0.009238318023084056,
          0.004416254200377338,
          -0.0009906503096412528,
          0.11487993623080134,
          -0.02437090210843438,
          -0.012467218776594404,
          0.10132628676744523,
          -0.0583004189481967,
          0.024182851467392297,
          0.03243340377427509,
          0.01325766620641754,
          -0.014008838497940294,
          -0.022549180703960732,
          -0.0050695618883509815,
          -0.024922828700011026,
          0.0317750360214675,
          0.02842240870478857,
          -0.04576094037554989,
          -0.00033941760561804145,
          -0.07341267375822445,
          -0.005827433372952266,
          -0.04209775539952882,
          -0.022594025678006526,
          0.033333709504318465,
          0.04521957811368671,
          -0.026745484369327246,
          -0.024234621531067816,
          -0.013049717124232516,
          -0.006540389616173568,
          -0.02036673500637608,
          0.0060908788814066535,
          -0.020629387949403073,
          -0.01698976377482448,
          -0.020064153886004455,
          -0.012236427233491285,
          0.037109714305628184,
          -0.025499185612789712,
          -0.04436464245361312,
          -0.00606776992399093,
          0.007771547963733206,
          -0.018844907084588646,
          0.013876867274163117,
          0.035145848962604295,
          0.061279897595063595,
          0.00043844436033190436,
          -0.002108764062979163,
          0.04352329877476283,
          0.010428582294207355,
          -0.0157067826607271,
          -0.013060921326193107,
          0.01144084736372545,
          0.006209720621236189,
          -0.0067265030926309324,
          0.004763678325093858,
          0.00511422023589473,
          0.02728705650015731,
          -0.044938517039685016,
          0.0015328249328469474,
          0.001135344521034513,
          0.0025163579490622813,
          -0.013760509581556935,
          -0.0004751846478652632,
          -0.033455898579606534,
          -0.03279451237572634,
          0.013641597303482612,
          -0.05088454772675587,
          -0.0016760926417309452,
          -0.0013408741133847484,
          0.024910940695791764,
          0.14513069001438816,
          -0.010129583569725471,
          0.045299130373374366,
          -0.0005121730172830416,
          -0.010585701914550775,
          -0.002949351102016273,
          0.0405787273186739,
          -0.0058123032032386494,
          0.03182230765251162,
          -0.004765148126262762,
          -0.017393123495100943,
          -0.06015961631644861,
          -0.17626467363067835,
          -0.007937208151155895,
          0.025832369381800502,
          -0.011723774375174663,
          -0.020318912888535566,
          -0.05752544085005668,
          0.0181151245638189,
          -0.023452769843712466,
          -0.014893393168562141,
          0.1440579192165625,
          0.02541473414015616,
          0.025706004060653553,
          -0.034010334457098744,
          -0.014025621123668728,
          0.009186576220567219,
          0.025525490242647986,
          0.009705090728738937,
          -0.02082656652079114,
          -0.01645809613314865,
          0.04185855587876879,
          0.02188815552499885,
          0.049948118197469075,
          0.19303403688123108,
          0.027658926474994322,
          0.02650691807467744,
          -0.06856482744702924,
          0.0363961192434875,
          -0.04097463598877316,
          0.016579414260976918,
          -0.007015319776852401,
          -0.005440317885057281,
          -0.022750240545831434,
          -0.012094048254319336,
          0.0045982128306824915,
          -0.0070744836913568514,
          0.011856906630020496,
          -0.00013576704224720721,
          -0.023875200870351693,
          -0.02666828253303629,
          0.06563655264408368,
          0.006917813365880664,
          0.005875761648808483,
          0.19554801241330322,
          -0.02185162782789121,
          0.017706473325867514,
          -0.11589968816823455,
          0.03617335811372898,
          0.0016968579290506927,
          0.07462399944666201,
          0.03534185708409419,
          -0.014097866415951482,
          0.0421267533396829,
          0.008361852244259121,
          0.05104136398199799,
          0.017631441581880992,
          -0.005159293121132969,
          -0.04791271054519903,
          -0.00868355087873068,
          -0.013105944474286091,
          -0.031542918282033726,
          0.014380032517079831,
          -0.03403067200521135,
          -0.007811432560588562,
          -0.016406240399722587,
          -0.051459246287965554,
          -0.004773510424121684,
          0.0388256447816996,
          0.006566736514647385,
          0.028219275134417954,
          0.0008567398863530821,
          -0.020139742730392724,
          -0.00211937093745528,
          -0.008034743613653462,
          -0.00922839178968244,
          -0.018052902853161166,
          -0.003306032229805449,
          0.00491459334351357,
          -0.009414787317452914,
          0.020233596067864734,
          -0.022345737840954973,
          0.06115781468683747,
          0.004440577371433556,
          0.007216971925445497,
          -0.027965622197720034,
          -0.009703765148199709,
          0.09202032450810127,
          0.013789864216448592,
          -0.029372938654578816,
          -0.011526687803926674,
          -0.002010640031850845,
          -0.03965337199286544,
          0.10527146956618516,
          -0.00506045913124848,
          0.025560835522549098,
          0.051930209358260315,
          0.04586583116462918,
          -0.0028339093727287553,
          0.026978761193551467,
          0.02752992794752387,
          0.14167518718872704,
          0.007495834023577136,
          0.03044912995078721,
          0.019943179717416434,
          0.012549919873972455,
          0.030066844120607627,
          -0.018412879739112542,
          0.0744014617355578,
          -0.05764673126149262,
          -0.04426760370098072,
          0.011358966326763078,
          0.05437661382939898,
          -0.138238861828832,
          -0.001851737078041702,
          -0.03565347596577286,
          -0.00039028491083186617,
          -0.014996390883152534,
          -0.00530276213613976,
          -0.01487071487249618,
          -0.014218901184743296,
          0.030936767219463233,
          -0.003081770857118614,
          0.023470663713763464,
          0.0022115120511397453,
          0.01114246625581153,
          0.02714408187718209,
          0.0066990062118156305,
          -0.018191931444527014,
          0.01661436317711467,
          0.012878355369947758,
          -0.0032917914640692627,
          -0.05363403333291416,
          -0.046924172996986035,
          -0.018526154775779517,
          -0.010126933833215463,
          0.01443761507018204,
          -0.04905292212130186,
          -0.004177308507033517,
          -0.015000839233201523,
          0.08889730900045534,
          0.054898291637874644,
          -0.07837662339941522,
          0.07290726093788441,
          0.009438976164745162,
          0.0310785822008452,
          -0.019828068600385957,
          -0.06828212204698655,
          -0.03617479592354114,
          0.03920749183892283,
          0.09801645518794741,
          0.0024886970427333457,
          -0.07499144468113149
         ],
         "yaxis": "y2"
        },
        {
         "hovertemplate": "max_pos=NNS<br>PC1=%{x}<br>PC2=%{y}<br>i=%{marker.size}<br>term_str=%{text}<extra></extra>",
         "legendgroup": "NNS",
         "marker": {
          "color": "#EF553B",
          "size": [
           17.555300611064553,
           16.555300611064553,
           17.555300611064553,
           16.555300611064553,
           16.555300611064553,
           13.747945689006947,
           17.555300611064553,
           17.555300611064553,
           15.55530061106455,
           16.555300611064553,
           15.970338110343397,
           17.555300611064553,
           13.747945689006947,
           15.23337251617719,
           17.555300611064553,
           13.467837769814212,
           15.970338110343397,
           15.55530061106455,
           14.38537560962224,
           16.555300611064553,
           15.970338110343397,
           10.578020687564637,
           14.970338110343397,
           13.095868992427254,
           17.555300611064553,
           13.162983188285793,
           17.555300611064553,
           14.747945689006947,
           15.970338110343397,
           14.55530061106455,
           15.970338110343397,
           15.23337251617719,
           17.555300611064553,
           13.467837769814212,
           14.55530061106455,
           14.970338110343397,
           15.55530061106455,
           14.38537560962224,
           13.38537560962224,
           15.970338110343397,
           16.555300611064553,
           15.55530061106455,
           14.747945689006947,
           12.697319615936978,
           14.970338110343397,
           12.510906491706098,
           11.800413108901084,
           14.747945689006947,
           13.648410015456031,
           14.970338110343397,
           15.55530061106455,
           15.55530061106455,
           14.095868992427254,
           14.747945689006947,
           17.555300611064553,
           13.648410015456031,
           14.970338110343397,
           16.555300611064553,
           14.55530061106455,
           15.55530061106455,
           14.55530061106455,
           14.970338110343397,
           12.23337251617719,
           13.467837769814212,
           12.467837769814212,
           14.23337251617719,
           17.555300611064553,
           16.555300611064553,
           17.555300611064553,
           14.095868992427254,
           13.970338110343397,
           16.555300611064553,
           14.38537560962224,
           14.23337251617719,
           15.23337251617719,
           10.446776154286384,
           13.854860892923458,
           17.555300611064553,
           13.095868992427254,
           14.55530061106455,
           13.03173865500754,
           14.747945689006947,
           11.940590766949343,
           13.854860892923458,
           13.970338110343397,
           13.970338110343397,
           12.800413108901084,
           14.095868992427254,
           9.336132090602389,
           14.095868992427254,
           12.307373097620966,
           11.624563273501664,
           14.23337251617719,
           12.648410015456031,
           15.23337251617719,
           13.307373097620966,
           13.55530061106455,
           10.827380156501352,
           10.55530061106455,
           13.970338110343397,
           12.095868992427254,
           10.955387768877424,
           14.747945689006947,
           12.911444421289826,
           12.307373097620966,
           14.23337251617719,
           14.38537560962224,
           13.162983188285793,
           15.970338110343397,
           11.773940897539893,
           12.854860892923458,
           12.747945689006947,
           14.747945689006947,
           11.047505970865856,
           11.079567180098152,
           12.000711759386911,
           12.162983188285793,
           12.510906491706098,
           12.467837769814212,
           13.23337251617719,
           13.307373097620966,
           14.970338110343397,
           15.55530061106455,
           12.197748606446469,
           13.747945689006947,
           11.446776154286384,
           13.854860892923458,
           12.747945689006947,
           12.697319615936978,
           14.55530061106455,
           10.316895871739472,
           12.911444421289826,
           10.648410015456031,
           13.307373097620966,
           15.23337251617719,
           14.970338110343397,
           12.747945689006947,
           13.747945689006947,
           12.697319615936978,
           13.38537560962224,
           14.970338110343397,
           15.23337251617719,
           16.555300611064553,
           13.55530061106455,
           12.03173865500754,
           12.601104300677676,
           9.970338110343397,
           13.307373097620966,
           13.55530061106455,
           14.747945689006947,
           11.578020687564637,
           14.747945689006947,
           15.23337251617719,
           13.854860892923458,
           12.345847245435602,
           12.467837769814212,
           12.307373097620966,
           13.03173865500754,
           11.38537560962224,
           11.827380156501352
          ],
          "sizemode": "area",
          "sizeref": 0.04388825152766138,
          "symbol": "circle"
         },
         "mode": "markers+text",
         "name": "NNS",
         "orientation": "v",
         "showlegend": true,
         "text": [
          "abilities",
          "accidents",
          "acolytes",
          "actions",
          "adults",
          "advantages",
          "adventists",
          "affairs",
          "ages",
          "airheads",
          "airwaves",
          "aisles",
          "alarms",
          "alleys",
          "alors",
          "angels",
          "angles",
          "animals",
          "answers",
          "ants",
          "arguments",
          "arms",
          "arrows",
          "ashes",
          "axes",
          "babies",
          "backgrounds",
          "backwards",
          "bags",
          "bands",
          "banks",
          "bars",
          "battlefields",
          "beats",
          "beds",
          "beginners",
          "beginnings",
          "billions",
          "birds",
          "blondes",
          "bloodhounds",
          "blows",
          "blues",
          "bodies",
          "bombs",
          "bones",
          "boys",
          "brains",
          "breaks",
          "bridges",
          "brothers",
          "buildings",
          "burns",
          "butterflies",
          "cannonballers",
          "cards",
          "cars",
          "cents",
          "chains",
          "chairs",
          "changes",
          "cheerleaders",
          "children",
          "circles",
          "clothes",
          "colors",
          "congratulations",
          "constellations",
          "contemporaries",
          "cops",
          "corners",
          "courvoisiers",
          "cracks",
          "creatures",
          "daughters",
          "days",
          "demons",
          "den",
          "diamonds",
          "disappears",
          "doors",
          "dreamers",
          "dreams",
          "drugs",
          "dunno",
          "ears",
          "enemies",
          "everyones",
          "eyes",
          "feathers",
          "feelings",
          "feet",
          "finches",
          "fingers",
          "fists",
          "fits",
          "flies",
          "friends",
          "girls",
          "gloves",
          "guns",
          "hands",
          "headlights",
          "heads",
          "hearts",
          "heels",
          "hits",
          "hours",
          "invitations",
          "kids",
          "knees",
          "leaves",
          "letters",
          "lies",
          "lights",
          "lips",
          "lives",
          "lovers",
          "memories",
          "men",
          "minutes",
          "mornings",
          "mе",
          "nights",
          "numbers",
          "ones",
          "pamphlets",
          "parallels",
          "parts",
          "payments",
          "people",
          "pieces",
          "pills",
          "plans",
          "problems",
          "reflections",
          "roses",
          "rules",
          "shadows",
          "shoulders",
          "sings",
          "sleeves",
          "socialites",
          "strangers",
          "tears",
          "teeth",
          "things",
          "thoughts",
          "thrills",
          "ties",
          "times",
          "tribulations",
          "vibrations",
          "visions",
          "walls",
          "waves",
          "ways",
          "windows",
          "words",
          "years"
         ],
         "type": "scatter",
         "x": [
          -0.007346443650748144,
          -0.0002754173958055828,
          -0.009282327345446938,
          0.00012075109470460754,
          0.0017080107325994351,
          0.008499440572381169,
          0.002790888796118476,
          -0.0017765888722069822,
          -0.01245761004198267,
          -0.000050078770200427305,
          0.006122970324861682,
          0.0023272479408274873,
          -0.0652403909697687,
          0.004015476643308658,
          -0.0010690572103787329,
          -0.028626164912529867,
          0.00819458552112219,
          -0.0040675419478897615,
          0.015150820341083887,
          -0.0009158618381568258,
          0.0018213086940816797,
          0.09544064824881816,
          0.016541064445540966,
          0.027486721531773145,
          -0.022212104636876666,
          -0.0008836641383462029,
          -0.0024163753735742186,
          -0.061213728243721045,
          -0.02148210451404891,
          -0.043331264962038346,
          -0.012112355338541884,
          0.0035397626183347537,
          0.013799992823419179,
          -0.023487654220523943,
          0.009918745361652808,
          0.006848392061619677,
          0.01695424604669567,
          0.013008108104624718,
          -0.002998418217088604,
          0.006675219837805193,
          -0.01469288730149625,
          -0.0031799670974935936,
          -0.011650519374358502,
          0.0029581840560570184,
          -0.010703506205348738,
          0.010728344645417507,
          0.04492387781313707,
          -0.008930691681672612,
          0.055460793305749136,
          -0.026468786848432353,
          0.00011279432090194075,
          -0.005515903033630186,
          -0.003068730187823906,
          -0.014526537048885131,
          0.005905924033596568,
          -0.08937527726879176,
          -0.0038800993450121843,
          -0.005990262628494846,
          -0.0036699810778871257,
          0.0024967623028917018,
          0.017952897147087112,
          0.011001755515207066,
          -0.007535128126610452,
          -0.061888044197844994,
          -0.019970736245719146,
          0.015605404152063499,
          -0.022212104636876666,
          0.0032831937035758957,
          -0.008059569413830318,
          -0.021057182121899998,
          0.02327806703133928,
          -0.0037648779050345684,
          -0.016040867606638615,
          -0.010226927033043731,
          -0.01913636110183522,
          -0.010409455542464252,
          0.06555827017828351,
          -0.029117637179202058,
          0.00102490505202894,
          -0.051516139172266294,
          0.021913579579468736,
          -0.00214430223828761,
          -0.0203914291943039,
          0.00011043127732311421,
          -0.02258926743020745,
          -0.0377546470233671,
          0.01159240352555058,
          -0.029028181146422253,
          0.0041464687947302,
          -0.010567141389428736,
          0.01817263431584984,
          -0.005480603639231805,
          0.019188858819474224,
          -0.024157867576605353,
          -0.016682931258923592,
          0.037222398988085374,
          0.05488627620791695,
          -0.014958154215374674,
          0.16675899439849895,
          0.00639279356002088,
          -0.035283815476150976,
          -0.004877256258977267,
          0.015518436031707338,
          -0.03238750782139994,
          -0.05417467226336618,
          0.006704057644920597,
          -0.001553460596173265,
          0.03747524748997344,
          0.0024511335942146795,
          -0.039922882083884566,
          -0.03413020066676486,
          0.04740572376027755,
          0.018027657297154512,
          0.03108392230316046,
          0.01692711030285755,
          -0.017355463451552994,
          0.011013461099101219,
          -0.047720115849143284,
          0.025395198478667155,
          -0.055020113433618685,
          0.009390881101325802,
          -0.0022745250559114646,
          -0.005333879389749459,
          -0.020626899674882158,
          0.011114942331648682,
          0.009515849683763095,
          -0.013388002777261484,
          0.023074734896380636,
          -0.0064432726857551045,
          -0.00198251065475869,
          -0.04757599797668847,
          0.028971382081081097,
          0.10088767018708124,
          0.02510606153418551,
          -0.004186364192059747,
          0.034877624141402774,
          0.036227836219352196,
          0.0045005089122706525,
          -0.009191103787673141,
          0.050076224125208804,
          0.008000973188711432,
          0.005476752061883287,
          -0.011532073184459793,
          -0.025051630412567347,
          -0.01280162834948228,
          -0.0476884706087404,
          -0.028322019593295774,
          0.011330851666419485,
          -0.003965021309517384,
          0.02908131275198444,
          0.011124635021331217,
          -0.0017346968229138475,
          0.012758464930778179,
          -0.0018931128629274712,
          -0.05340186486509687,
          0.005653915609136099,
          -0.003773842537138602,
          0.004139829753851702,
          -0.1027876401762065,
          0.005346695975320976
         ],
         "xaxis": "x",
         "y": [
          0.010310384968848368,
          -0.0013404266879007976,
          0.00030034322574923333,
          -0.002822603384975142,
          -0.00289993713871832,
          0.00013327064898825921,
          -0.004578858437077889,
          0.007850332290531344,
          0.007823006193870597,
          0.003889206483078356,
          -0.0019549954248826826,
          -0.0013183540887504108,
          0.013285251196869454,
          -0.00427937963566447,
          -0.00327019480808678,
          -0.006245396285000801,
          -0.013074978479662587,
          -0.0032088513101165925,
          0.004310763173611213,
          -0.003838681518472022,
          0.00002855799621177074,
          -0.09188837873765383,
          0.004564171451376607,
          0.04816608527574167,
          -0.0037713732624065637,
          -0.012694955819278465,
          0.008249101068889169,
          0.00462522543237521,
          0.01742415245911458,
          0.02482357846639503,
          0.031139369070911936,
          0.012843729238788699,
          -0.006073910355055565,
          0.02881637222760081,
          -0.013851854290300029,
          -0.012938875222541274,
          0.022076387026956443,
          -0.017087518200067875,
          0.00650324381836522,
          -0.004964978116523001,
          0.020620769937696713,
          -0.016740403597759246,
          -0.002749255699692193,
          0.033889925599582524,
          -0.014415179230795659,
          0.0015498851110700464,
          0.20841595967994764,
          -0.007177761586066096,
          0.005041607141948239,
          0.05698515162545829,
          0.0017548601590091164,
          0.0019383970024364437,
          0.003359858261653295,
          -0.02080640007231291,
          -0.000737631843267117,
          0.09679331915995695,
          -0.011069598124882769,
          -0.009045514473312942,
          0.002702734842111278,
          -0.012324497044021046,
          0.008022669749968445,
          -0.014437954505686546,
          0.006820308912657127,
          0.019878407802933283,
          -0.021088659723179606,
          0.043001553759601296,
          -0.0037713732624065654,
          -0.004182549617348681,
          -0.00127175512533299,
          -0.017788985600176874,
          -0.052656062930942285,
          0.002978552921371311,
          0.0071026580998832705,
          -0.0028447823312923296,
          -0.0183744580541136,
          0.1503612544149914,
          -0.008988002315393146,
          -0.04031179204920142,
          -0.011716487746150393,
          0.03161489578172609,
          -0.0539926194376286,
          0.046213550239302036,
          0.01793847307234246,
          0.012033988584898164,
          0.017871317528227796,
          0.054067179345750636,
          -0.004290582538730578,
          -0.013438501911480683,
          0.017462618661353162,
          -0.0004841216128199229,
          -0.0019043617192596079,
          0.018973956330413665,
          -0.03687813128286725,
          -0.012776539593719384,
          -0.021153031082673687,
          0.03761306213583241,
          -0.01848532750475861,
          -0.012408126938466248,
          0.1922168296652561,
          0.0046007310758926605,
          -0.11650730556695704,
          0.00020859994734728706,
          -0.021980337398233463,
          0.05260807309853312,
          0.03312183226965799,
          0.009543107366157539,
          -0.008993871895673073,
          0.016060338497656725,
          0.0010943427282276879,
          -0.024456785113294428,
          -0.010262230453860887,
          -0.009281832166947035,
          -0.00025053801717601833,
          0.03061526840071192,
          -0.0009604647557234823,
          0.049191477125816695,
          0.10678529997058042,
          0.17919120109899897,
          -0.0029753001449699546,
          -0.053161566311430396,
          -0.01916709975254802,
          0.017572475267606368,
          -0.0017061668772368685,
          0.031794977424820764,
          -0.0031398402642449953,
          0.02501013764328415,
          0.014427858963538417,
          -0.05237030593219746,
          0.012467662789198593,
          -0.0027037663404538546,
          0.12778807585183527,
          -0.05356198434944276,
          0.26499714612803404,
          0.008562075924843272,
          0.005428941834045489,
          0.015844524751657478,
          -0.050168827886826764,
          -0.013250152811179387,
          0.04276789519715022,
          -0.008729452686546952,
          -0.00581110785880439,
          -0.002548788010998831,
          0.04117262026065239,
          -0.04566138872061517,
          0.026109069684101687,
          0.03136855664504387,
          0.04751619580687231,
          0.004370272681127524,
          -0.005407532680907715,
          0.013928869841415746,
          0.06619306681175129,
          -0.002365795547897127,
          -0.0032321088320241944,
          0.03727945046120653,
          -0.01298789432000405,
          0.02062513593093792,
          0.046076956783669853,
          -0.027904166266960975,
          0.08053424470017555,
          0.017876761628655508
         ],
         "yaxis": "y"
        },
        {
         "alignmentgroup": "True",
         "hovertemplate": "max_pos=NNS<br>PC1=%{x}<extra></extra>",
         "legendgroup": "NNS",
         "marker": {
          "color": "#EF553B",
          "symbol": "circle"
         },
         "name": "NNS",
         "notched": true,
         "offsetgroup": "NNS",
         "showlegend": false,
         "type": "box",
         "x": [
          -0.007346443650748144,
          -0.0002754173958055828,
          -0.009282327345446938,
          0.00012075109470460754,
          0.0017080107325994351,
          0.008499440572381169,
          0.002790888796118476,
          -0.0017765888722069822,
          -0.01245761004198267,
          -0.000050078770200427305,
          0.006122970324861682,
          0.0023272479408274873,
          -0.0652403909697687,
          0.004015476643308658,
          -0.0010690572103787329,
          -0.028626164912529867,
          0.00819458552112219,
          -0.0040675419478897615,
          0.015150820341083887,
          -0.0009158618381568258,
          0.0018213086940816797,
          0.09544064824881816,
          0.016541064445540966,
          0.027486721531773145,
          -0.022212104636876666,
          -0.0008836641383462029,
          -0.0024163753735742186,
          -0.061213728243721045,
          -0.02148210451404891,
          -0.043331264962038346,
          -0.012112355338541884,
          0.0035397626183347537,
          0.013799992823419179,
          -0.023487654220523943,
          0.009918745361652808,
          0.006848392061619677,
          0.01695424604669567,
          0.013008108104624718,
          -0.002998418217088604,
          0.006675219837805193,
          -0.01469288730149625,
          -0.0031799670974935936,
          -0.011650519374358502,
          0.0029581840560570184,
          -0.010703506205348738,
          0.010728344645417507,
          0.04492387781313707,
          -0.008930691681672612,
          0.055460793305749136,
          -0.026468786848432353,
          0.00011279432090194075,
          -0.005515903033630186,
          -0.003068730187823906,
          -0.014526537048885131,
          0.005905924033596568,
          -0.08937527726879176,
          -0.0038800993450121843,
          -0.005990262628494846,
          -0.0036699810778871257,
          0.0024967623028917018,
          0.017952897147087112,
          0.011001755515207066,
          -0.007535128126610452,
          -0.061888044197844994,
          -0.019970736245719146,
          0.015605404152063499,
          -0.022212104636876666,
          0.0032831937035758957,
          -0.008059569413830318,
          -0.021057182121899998,
          0.02327806703133928,
          -0.0037648779050345684,
          -0.016040867606638615,
          -0.010226927033043731,
          -0.01913636110183522,
          -0.010409455542464252,
          0.06555827017828351,
          -0.029117637179202058,
          0.00102490505202894,
          -0.051516139172266294,
          0.021913579579468736,
          -0.00214430223828761,
          -0.0203914291943039,
          0.00011043127732311421,
          -0.02258926743020745,
          -0.0377546470233671,
          0.01159240352555058,
          -0.029028181146422253,
          0.0041464687947302,
          -0.010567141389428736,
          0.01817263431584984,
          -0.005480603639231805,
          0.019188858819474224,
          -0.024157867576605353,
          -0.016682931258923592,
          0.037222398988085374,
          0.05488627620791695,
          -0.014958154215374674,
          0.16675899439849895,
          0.00639279356002088,
          -0.035283815476150976,
          -0.004877256258977267,
          0.015518436031707338,
          -0.03238750782139994,
          -0.05417467226336618,
          0.006704057644920597,
          -0.001553460596173265,
          0.03747524748997344,
          0.0024511335942146795,
          -0.039922882083884566,
          -0.03413020066676486,
          0.04740572376027755,
          0.018027657297154512,
          0.03108392230316046,
          0.01692711030285755,
          -0.017355463451552994,
          0.011013461099101219,
          -0.047720115849143284,
          0.025395198478667155,
          -0.055020113433618685,
          0.009390881101325802,
          -0.0022745250559114646,
          -0.005333879389749459,
          -0.020626899674882158,
          0.011114942331648682,
          0.009515849683763095,
          -0.013388002777261484,
          0.023074734896380636,
          -0.0064432726857551045,
          -0.00198251065475869,
          -0.04757599797668847,
          0.028971382081081097,
          0.10088767018708124,
          0.02510606153418551,
          -0.004186364192059747,
          0.034877624141402774,
          0.036227836219352196,
          0.0045005089122706525,
          -0.009191103787673141,
          0.050076224125208804,
          0.008000973188711432,
          0.005476752061883287,
          -0.011532073184459793,
          -0.025051630412567347,
          -0.01280162834948228,
          -0.0476884706087404,
          -0.028322019593295774,
          0.011330851666419485,
          -0.003965021309517384,
          0.02908131275198444,
          0.011124635021331217,
          -0.0017346968229138475,
          0.012758464930778179,
          -0.0018931128629274712,
          -0.05340186486509687,
          0.005653915609136099,
          -0.003773842537138602,
          0.004139829753851702,
          -0.1027876401762065,
          0.005346695975320976
         ],
         "xaxis": "x3",
         "yaxis": "y3"
        },
        {
         "alignmentgroup": "True",
         "hovertemplate": "max_pos=NNS<br>PC2=%{y}<extra></extra>",
         "legendgroup": "NNS",
         "marker": {
          "color": "#EF553B",
          "symbol": "circle"
         },
         "name": "NNS",
         "notched": true,
         "offsetgroup": "NNS",
         "showlegend": false,
         "type": "box",
         "xaxis": "x2",
         "y": [
          0.010310384968848368,
          -0.0013404266879007976,
          0.00030034322574923333,
          -0.002822603384975142,
          -0.00289993713871832,
          0.00013327064898825921,
          -0.004578858437077889,
          0.007850332290531344,
          0.007823006193870597,
          0.003889206483078356,
          -0.0019549954248826826,
          -0.0013183540887504108,
          0.013285251196869454,
          -0.00427937963566447,
          -0.00327019480808678,
          -0.006245396285000801,
          -0.013074978479662587,
          -0.0032088513101165925,
          0.004310763173611213,
          -0.003838681518472022,
          0.00002855799621177074,
          -0.09188837873765383,
          0.004564171451376607,
          0.04816608527574167,
          -0.0037713732624065637,
          -0.012694955819278465,
          0.008249101068889169,
          0.00462522543237521,
          0.01742415245911458,
          0.02482357846639503,
          0.031139369070911936,
          0.012843729238788699,
          -0.006073910355055565,
          0.02881637222760081,
          -0.013851854290300029,
          -0.012938875222541274,
          0.022076387026956443,
          -0.017087518200067875,
          0.00650324381836522,
          -0.004964978116523001,
          0.020620769937696713,
          -0.016740403597759246,
          -0.002749255699692193,
          0.033889925599582524,
          -0.014415179230795659,
          0.0015498851110700464,
          0.20841595967994764,
          -0.007177761586066096,
          0.005041607141948239,
          0.05698515162545829,
          0.0017548601590091164,
          0.0019383970024364437,
          0.003359858261653295,
          -0.02080640007231291,
          -0.000737631843267117,
          0.09679331915995695,
          -0.011069598124882769,
          -0.009045514473312942,
          0.002702734842111278,
          -0.012324497044021046,
          0.008022669749968445,
          -0.014437954505686546,
          0.006820308912657127,
          0.019878407802933283,
          -0.021088659723179606,
          0.043001553759601296,
          -0.0037713732624065654,
          -0.004182549617348681,
          -0.00127175512533299,
          -0.017788985600176874,
          -0.052656062930942285,
          0.002978552921371311,
          0.0071026580998832705,
          -0.0028447823312923296,
          -0.0183744580541136,
          0.1503612544149914,
          -0.008988002315393146,
          -0.04031179204920142,
          -0.011716487746150393,
          0.03161489578172609,
          -0.0539926194376286,
          0.046213550239302036,
          0.01793847307234246,
          0.012033988584898164,
          0.017871317528227796,
          0.054067179345750636,
          -0.004290582538730578,
          -0.013438501911480683,
          0.017462618661353162,
          -0.0004841216128199229,
          -0.0019043617192596079,
          0.018973956330413665,
          -0.03687813128286725,
          -0.012776539593719384,
          -0.021153031082673687,
          0.03761306213583241,
          -0.01848532750475861,
          -0.012408126938466248,
          0.1922168296652561,
          0.0046007310758926605,
          -0.11650730556695704,
          0.00020859994734728706,
          -0.021980337398233463,
          0.05260807309853312,
          0.03312183226965799,
          0.009543107366157539,
          -0.008993871895673073,
          0.016060338497656725,
          0.0010943427282276879,
          -0.024456785113294428,
          -0.010262230453860887,
          -0.009281832166947035,
          -0.00025053801717601833,
          0.03061526840071192,
          -0.0009604647557234823,
          0.049191477125816695,
          0.10678529997058042,
          0.17919120109899897,
          -0.0029753001449699546,
          -0.053161566311430396,
          -0.01916709975254802,
          0.017572475267606368,
          -0.0017061668772368685,
          0.031794977424820764,
          -0.0031398402642449953,
          0.02501013764328415,
          0.014427858963538417,
          -0.05237030593219746,
          0.012467662789198593,
          -0.0027037663404538546,
          0.12778807585183527,
          -0.05356198434944276,
          0.26499714612803404,
          0.008562075924843272,
          0.005428941834045489,
          0.015844524751657478,
          -0.050168827886826764,
          -0.013250152811179387,
          0.04276789519715022,
          -0.008729452686546952,
          -0.00581110785880439,
          -0.002548788010998831,
          0.04117262026065239,
          -0.04566138872061517,
          0.026109069684101687,
          0.03136855664504387,
          0.04751619580687231,
          0.004370272681127524,
          -0.005407532680907715,
          0.013928869841415746,
          0.06619306681175129,
          -0.002365795547897127,
          -0.0032321088320241944,
          0.03727945046120653,
          -0.01298789432000405,
          0.02062513593093792,
          0.046076956783669853,
          -0.027904166266960975,
          0.08053424470017555,
          0.017876761628655508
         ],
         "yaxis": "y2"
        }
       ],
       "layout": {
        "height": 800,
        "legend": {
         "itemsizing": "constant",
         "title": {
          "text": "max_pos"
         },
         "tracegroupgap": 0
        },
        "margin": {
         "t": 60
        },
        "template": {
         "data": {
          "bar": [
           {
            "error_x": {
             "color": "#2a3f5f"
            },
            "error_y": {
             "color": "#2a3f5f"
            },
            "marker": {
             "line": {
              "color": "#E5ECF6",
              "width": 0.5
             },
             "pattern": {
              "fillmode": "overlay",
              "size": 10,
              "solidity": 0.2
             }
            },
            "type": "bar"
           }
          ],
          "barpolar": [
           {
            "marker": {
             "line": {
              "color": "#E5ECF6",
              "width": 0.5
             },
             "pattern": {
              "fillmode": "overlay",
              "size": 10,
              "solidity": 0.2
             }
            },
            "type": "barpolar"
           }
          ],
          "carpet": [
           {
            "aaxis": {
             "endlinecolor": "#2a3f5f",
             "gridcolor": "white",
             "linecolor": "white",
             "minorgridcolor": "white",
             "startlinecolor": "#2a3f5f"
            },
            "baxis": {
             "endlinecolor": "#2a3f5f",
             "gridcolor": "white",
             "linecolor": "white",
             "minorgridcolor": "white",
             "startlinecolor": "#2a3f5f"
            },
            "type": "carpet"
           }
          ],
          "choropleth": [
           {
            "colorbar": {
             "outlinewidth": 0,
             "ticks": ""
            },
            "type": "choropleth"
           }
          ],
          "contour": [
           {
            "colorbar": {
             "outlinewidth": 0,
             "ticks": ""
            },
            "colorscale": [
             [
              0,
              "#0d0887"
             ],
             [
              0.1111111111111111,
              "#46039f"
             ],
             [
              0.2222222222222222,
              "#7201a8"
             ],
             [
              0.3333333333333333,
              "#9c179e"
             ],
             [
              0.4444444444444444,
              "#bd3786"
             ],
             [
              0.5555555555555556,
              "#d8576b"
             ],
             [
              0.6666666666666666,
              "#ed7953"
             ],
             [
              0.7777777777777778,
              "#fb9f3a"
             ],
             [
              0.8888888888888888,
              "#fdca26"
             ],
             [
              1,
              "#f0f921"
             ]
            ],
            "type": "contour"
           }
          ],
          "contourcarpet": [
           {
            "colorbar": {
             "outlinewidth": 0,
             "ticks": ""
            },
            "type": "contourcarpet"
           }
          ],
          "heatmap": [
           {
            "colorbar": {
             "outlinewidth": 0,
             "ticks": ""
            },
            "colorscale": [
             [
              0,
              "#0d0887"
             ],
             [
              0.1111111111111111,
              "#46039f"
             ],
             [
              0.2222222222222222,
              "#7201a8"
             ],
             [
              0.3333333333333333,
              "#9c179e"
             ],
             [
              0.4444444444444444,
              "#bd3786"
             ],
             [
              0.5555555555555556,
              "#d8576b"
             ],
             [
              0.6666666666666666,
              "#ed7953"
             ],
             [
              0.7777777777777778,
              "#fb9f3a"
             ],
             [
              0.8888888888888888,
              "#fdca26"
             ],
             [
              1,
              "#f0f921"
             ]
            ],
            "type": "heatmap"
           }
          ],
          "heatmapgl": [
           {
            "colorbar": {
             "outlinewidth": 0,
             "ticks": ""
            },
            "colorscale": [
             [
              0,
              "#0d0887"
             ],
             [
              0.1111111111111111,
              "#46039f"
             ],
             [
              0.2222222222222222,
              "#7201a8"
             ],
             [
              0.3333333333333333,
              "#9c179e"
             ],
             [
              0.4444444444444444,
              "#bd3786"
             ],
             [
              0.5555555555555556,
              "#d8576b"
             ],
             [
              0.6666666666666666,
              "#ed7953"
             ],
             [
              0.7777777777777778,
              "#fb9f3a"
             ],
             [
              0.8888888888888888,
              "#fdca26"
             ],
             [
              1,
              "#f0f921"
             ]
            ],
            "type": "heatmapgl"
           }
          ],
          "histogram": [
           {
            "marker": {
             "pattern": {
              "fillmode": "overlay",
              "size": 10,
              "solidity": 0.2
             }
            },
            "type": "histogram"
           }
          ],
          "histogram2d": [
           {
            "colorbar": {
             "outlinewidth": 0,
             "ticks": ""
            },
            "colorscale": [
             [
              0,
              "#0d0887"
             ],
             [
              0.1111111111111111,
              "#46039f"
             ],
             [
              0.2222222222222222,
              "#7201a8"
             ],
             [
              0.3333333333333333,
              "#9c179e"
             ],
             [
              0.4444444444444444,
              "#bd3786"
             ],
             [
              0.5555555555555556,
              "#d8576b"
             ],
             [
              0.6666666666666666,
              "#ed7953"
             ],
             [
              0.7777777777777778,
              "#fb9f3a"
             ],
             [
              0.8888888888888888,
              "#fdca26"
             ],
             [
              1,
              "#f0f921"
             ]
            ],
            "type": "histogram2d"
           }
          ],
          "histogram2dcontour": [
           {
            "colorbar": {
             "outlinewidth": 0,
             "ticks": ""
            },
            "colorscale": [
             [
              0,
              "#0d0887"
             ],
             [
              0.1111111111111111,
              "#46039f"
             ],
             [
              0.2222222222222222,
              "#7201a8"
             ],
             [
              0.3333333333333333,
              "#9c179e"
             ],
             [
              0.4444444444444444,
              "#bd3786"
             ],
             [
              0.5555555555555556,
              "#d8576b"
             ],
             [
              0.6666666666666666,
              "#ed7953"
             ],
             [
              0.7777777777777778,
              "#fb9f3a"
             ],
             [
              0.8888888888888888,
              "#fdca26"
             ],
             [
              1,
              "#f0f921"
             ]
            ],
            "type": "histogram2dcontour"
           }
          ],
          "mesh3d": [
           {
            "colorbar": {
             "outlinewidth": 0,
             "ticks": ""
            },
            "type": "mesh3d"
           }
          ],
          "parcoords": [
           {
            "line": {
             "colorbar": {
              "outlinewidth": 0,
              "ticks": ""
             }
            },
            "type": "parcoords"
           }
          ],
          "pie": [
           {
            "automargin": true,
            "type": "pie"
           }
          ],
          "scatter": [
           {
            "fillpattern": {
             "fillmode": "overlay",
             "size": 10,
             "solidity": 0.2
            },
            "type": "scatter"
           }
          ],
          "scatter3d": [
           {
            "line": {
             "colorbar": {
              "outlinewidth": 0,
              "ticks": ""
             }
            },
            "marker": {
             "colorbar": {
              "outlinewidth": 0,
              "ticks": ""
             }
            },
            "type": "scatter3d"
           }
          ],
          "scattercarpet": [
           {
            "marker": {
             "colorbar": {
              "outlinewidth": 0,
              "ticks": ""
             }
            },
            "type": "scattercarpet"
           }
          ],
          "scattergeo": [
           {
            "marker": {
             "colorbar": {
              "outlinewidth": 0,
              "ticks": ""
             }
            },
            "type": "scattergeo"
           }
          ],
          "scattergl": [
           {
            "marker": {
             "colorbar": {
              "outlinewidth": 0,
              "ticks": ""
             }
            },
            "type": "scattergl"
           }
          ],
          "scattermapbox": [
           {
            "marker": {
             "colorbar": {
              "outlinewidth": 0,
              "ticks": ""
             }
            },
            "type": "scattermapbox"
           }
          ],
          "scatterpolar": [
           {
            "marker": {
             "colorbar": {
              "outlinewidth": 0,
              "ticks": ""
             }
            },
            "type": "scatterpolar"
           }
          ],
          "scatterpolargl": [
           {
            "marker": {
             "colorbar": {
              "outlinewidth": 0,
              "ticks": ""
             }
            },
            "type": "scatterpolargl"
           }
          ],
          "scatterternary": [
           {
            "marker": {
             "colorbar": {
              "outlinewidth": 0,
              "ticks": ""
             }
            },
            "type": "scatterternary"
           }
          ],
          "surface": [
           {
            "colorbar": {
             "outlinewidth": 0,
             "ticks": ""
            },
            "colorscale": [
             [
              0,
              "#0d0887"
             ],
             [
              0.1111111111111111,
              "#46039f"
             ],
             [
              0.2222222222222222,
              "#7201a8"
             ],
             [
              0.3333333333333333,
              "#9c179e"
             ],
             [
              0.4444444444444444,
              "#bd3786"
             ],
             [
              0.5555555555555556,
              "#d8576b"
             ],
             [
              0.6666666666666666,
              "#ed7953"
             ],
             [
              0.7777777777777778,
              "#fb9f3a"
             ],
             [
              0.8888888888888888,
              "#fdca26"
             ],
             [
              1,
              "#f0f921"
             ]
            ],
            "type": "surface"
           }
          ],
          "table": [
           {
            "cells": {
             "fill": {
              "color": "#EBF0F8"
             },
             "line": {
              "color": "white"
             }
            },
            "header": {
             "fill": {
              "color": "#C8D4E3"
             },
             "line": {
              "color": "white"
             }
            },
            "type": "table"
           }
          ]
         },
         "layout": {
          "annotationdefaults": {
           "arrowcolor": "#2a3f5f",
           "arrowhead": 0,
           "arrowwidth": 1
          },
          "autotypenumbers": "strict",
          "coloraxis": {
           "colorbar": {
            "outlinewidth": 0,
            "ticks": ""
           }
          },
          "colorscale": {
           "diverging": [
            [
             0,
             "#8e0152"
            ],
            [
             0.1,
             "#c51b7d"
            ],
            [
             0.2,
             "#de77ae"
            ],
            [
             0.3,
             "#f1b6da"
            ],
            [
             0.4,
             "#fde0ef"
            ],
            [
             0.5,
             "#f7f7f7"
            ],
            [
             0.6,
             "#e6f5d0"
            ],
            [
             0.7,
             "#b8e186"
            ],
            [
             0.8,
             "#7fbc41"
            ],
            [
             0.9,
             "#4d9221"
            ],
            [
             1,
             "#276419"
            ]
           ],
           "sequential": [
            [
             0,
             "#0d0887"
            ],
            [
             0.1111111111111111,
             "#46039f"
            ],
            [
             0.2222222222222222,
             "#7201a8"
            ],
            [
             0.3333333333333333,
             "#9c179e"
            ],
            [
             0.4444444444444444,
             "#bd3786"
            ],
            [
             0.5555555555555556,
             "#d8576b"
            ],
            [
             0.6666666666666666,
             "#ed7953"
            ],
            [
             0.7777777777777778,
             "#fb9f3a"
            ],
            [
             0.8888888888888888,
             "#fdca26"
            ],
            [
             1,
             "#f0f921"
            ]
           ],
           "sequentialminus": [
            [
             0,
             "#0d0887"
            ],
            [
             0.1111111111111111,
             "#46039f"
            ],
            [
             0.2222222222222222,
             "#7201a8"
            ],
            [
             0.3333333333333333,
             "#9c179e"
            ],
            [
             0.4444444444444444,
             "#bd3786"
            ],
            [
             0.5555555555555556,
             "#d8576b"
            ],
            [
             0.6666666666666666,
             "#ed7953"
            ],
            [
             0.7777777777777778,
             "#fb9f3a"
            ],
            [
             0.8888888888888888,
             "#fdca26"
            ],
            [
             1,
             "#f0f921"
            ]
           ]
          },
          "colorway": [
           "#636efa",
           "#EF553B",
           "#00cc96",
           "#ab63fa",
           "#FFA15A",
           "#19d3f3",
           "#FF6692",
           "#B6E880",
           "#FF97FF",
           "#FECB52"
          ],
          "font": {
           "color": "#2a3f5f"
          },
          "geo": {
           "bgcolor": "white",
           "lakecolor": "white",
           "landcolor": "#E5ECF6",
           "showlakes": true,
           "showland": true,
           "subunitcolor": "white"
          },
          "hoverlabel": {
           "align": "left"
          },
          "hovermode": "closest",
          "mapbox": {
           "style": "light"
          },
          "paper_bgcolor": "white",
          "plot_bgcolor": "#E5ECF6",
          "polar": {
           "angularaxis": {
            "gridcolor": "white",
            "linecolor": "white",
            "ticks": ""
           },
           "bgcolor": "#E5ECF6",
           "radialaxis": {
            "gridcolor": "white",
            "linecolor": "white",
            "ticks": ""
           }
          },
          "scene": {
           "xaxis": {
            "backgroundcolor": "#E5ECF6",
            "gridcolor": "white",
            "gridwidth": 2,
            "linecolor": "white",
            "showbackground": true,
            "ticks": "",
            "zerolinecolor": "white"
           },
           "yaxis": {
            "backgroundcolor": "#E5ECF6",
            "gridcolor": "white",
            "gridwidth": 2,
            "linecolor": "white",
            "showbackground": true,
            "ticks": "",
            "zerolinecolor": "white"
           },
           "zaxis": {
            "backgroundcolor": "#E5ECF6",
            "gridcolor": "white",
            "gridwidth": 2,
            "linecolor": "white",
            "showbackground": true,
            "ticks": "",
            "zerolinecolor": "white"
           }
          },
          "shapedefaults": {
           "line": {
            "color": "#2a3f5f"
           }
          },
          "ternary": {
           "aaxis": {
            "gridcolor": "white",
            "linecolor": "white",
            "ticks": ""
           },
           "baxis": {
            "gridcolor": "white",
            "linecolor": "white",
            "ticks": ""
           },
           "bgcolor": "#E5ECF6",
           "caxis": {
            "gridcolor": "white",
            "linecolor": "white",
            "ticks": ""
           }
          },
          "title": {
           "x": 0.05
          },
          "xaxis": {
           "automargin": true,
           "gridcolor": "white",
           "linecolor": "white",
           "ticks": "",
           "title": {
            "standoff": 15
           },
           "zerolinecolor": "white",
           "zerolinewidth": 2
          },
          "yaxis": {
           "automargin": true,
           "gridcolor": "white",
           "linecolor": "white",
           "ticks": "",
           "title": {
            "standoff": 15
           },
           "zerolinecolor": "white",
           "zerolinewidth": 2
          }
         }
        },
        "xaxis": {
         "anchor": "y",
         "domain": [
          0,
          0.7363
         ],
         "title": {
          "text": "PC1"
         }
        },
        "xaxis2": {
         "anchor": "y2",
         "domain": [
          0.7413,
          1
         ],
         "matches": "x2",
         "showgrid": false,
         "showline": false,
         "showticklabels": false,
         "ticks": ""
        },
        "xaxis3": {
         "anchor": "y3",
         "domain": [
          0,
          0.7363
         ],
         "matches": "x",
         "showgrid": true,
         "showticklabels": false
        },
        "xaxis4": {
         "anchor": "y4",
         "domain": [
          0.7413,
          1
         ],
         "matches": "x2",
         "showgrid": false,
         "showline": false,
         "showticklabels": false,
         "ticks": ""
        },
        "yaxis": {
         "anchor": "x",
         "domain": [
          0,
          0.7326
         ],
         "title": {
          "text": "PC2"
         }
        },
        "yaxis2": {
         "anchor": "x2",
         "domain": [
          0,
          0.7326
         ],
         "matches": "y",
         "showgrid": true,
         "showticklabels": false
        },
        "yaxis3": {
         "anchor": "x3",
         "domain": [
          0.7426,
          1
         ],
         "matches": "y3",
         "showgrid": false,
         "showline": false,
         "showticklabels": false,
         "ticks": ""
        },
        "yaxis4": {
         "anchor": "x4",
         "domain": [
          0.7426,
          1
         ],
         "matches": "y3",
         "showgrid": true,
         "showline": false,
         "showticklabels": false,
         "ticks": ""
        }
       }
      }
     },
     "metadata": {},
     "output_type": "display_data"
    }
   ],
   "source": [
    "vis_loadings(1, 2)"
   ]
  },
  {
   "cell_type": "markdown",
   "metadata": {},
   "source": [
    "## Save Tables"
   ]
  },
  {
   "cell_type": "code",
   "execution_count": 20,
   "metadata": {},
   "outputs": [],
   "source": [
    "LOADINGS.to_csv('../tables/LOADINGS_ALBUM.csv', sep='|')\n",
    "DCM.to_csv('../tables/DCM_ALBUM.csv', sep='|')\n",
    "COMPINF.to_csv('../tables/COMPINF_ALBUM.csv', sep='|')"
   ]
  }
 ],
 "metadata": {
  "kernelspec": {
   "display_name": "ds-6001",
   "language": "python",
   "name": "python3"
  },
  "language_info": {
   "codemirror_mode": {
    "name": "ipython",
    "version": 3
   },
   "file_extension": ".py",
   "mimetype": "text/x-python",
   "name": "python",
   "nbconvert_exporter": "python",
   "pygments_lexer": "ipython3",
   "version": "3.10.12"
  }
 },
 "nbformat": 4,
 "nbformat_minor": 2
}

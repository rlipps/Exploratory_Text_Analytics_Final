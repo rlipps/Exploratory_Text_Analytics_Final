{
 "cells": [
  {
   "cell_type": "markdown",
   "metadata": {},
   "source": [
    "# LDA"
   ]
  },
  {
   "cell_type": "code",
   "execution_count": 1,
   "metadata": {},
   "outputs": [],
   "source": [
    "import numpy as np\n",
    "import pandas as pd\n",
    "import plotly_express as px\n",
    "from sklearn.decomposition import PCA\n",
    "from scipy.linalg import norm, eigh\n",
    "from sklearn.feature_extraction.text import CountVectorizer\n",
    "from sklearn.decomposition import LatentDirichletAllocation as LDA\n",
    "from sklearn.preprocessing import normalize\n",
    "\n",
    "OHCO = ['album_id', 'song_num', 'stanza_num', 'line_num', 'token_num']\n",
    "colors = 'YlGnBu'"
   ]
  },
  {
   "cell_type": "markdown",
   "metadata": {},
   "source": [
    "## Topic Model Class"
   ]
  },
  {
   "cell_type": "code",
   "execution_count": 2,
   "metadata": {},
   "outputs": [],
   "source": [
    "class TopicModel():\n",
    "    '''\n",
    "    DOCSTRING GOES HERE\n",
    "    '''\n",
    "    def __init__(self, corpus:pd.DataFrame, lib:pd.DataFrame, bag=list, pos_filter=str):\n",
    "        '''\n",
    "        DOCSTRING GOES HERE\n",
    "        '''\n",
    "        self.corpus = corpus\n",
    "        self.lib = lib\n",
    "        self.bag = bag\n",
    "        self.pos_filter = pos_filter\n",
    "        self.docs = self.__create_docs(pos_filter)\n",
    "\n",
    "\n",
    "    def __create_docs(self, pos_filter:list):\n",
    "        '''\n",
    "        Function to generate docs by a specified bag from a corpus\n",
    "\n",
    "        Corpus here is loosely defined, as this function will work provided the `level` parameter is in the multi-index of `corpus`\n",
    "\n",
    "        PARAMETERS:\n",
    "\n",
    "        `corpus` - pandas DataFrame of body of work. It must be multi-indexed by an OHCO\n",
    "\n",
    "        `level` - string of OHCO to group by for bags\n",
    "\n",
    "        OUTPUTS:\n",
    "\n",
    "        pandas DataFrame of bag documents grouped by `level`\n",
    "\n",
    "        EXAMPLE:\n",
    "\n",
    "        `DOC = get_doc(CORPUS, 'chap_id')`\n",
    "        '''\n",
    "        # Get multi-index from `corpus` df\n",
    "        idx = list(self.corpus.index.names)\n",
    "\n",
    "        # Check to see that `level` exists in `corpus` OHCO\n",
    "        # Raise error if not\n",
    "        #if (self.bag not in idx):\n",
    "            #raise KeyError (f'{self.bag} not found in corpus OHCO')\n",
    "\n",
    "        # Filter corpus for pos\n",
    "        # Split-apply-combine to generate DOCs grouped by `level`\n",
    "        return self.corpus[self.corpus.pos.str.match(fr'^{pos_filter}?$')]\\\n",
    "            .groupby(self.bag).term_str\\\n",
    "            .apply(lambda x: ' '.join(x))\\\n",
    "            .to_frame()\\\n",
    "            .rename(columns={'term_str':'doc_str'})\n",
    "\n",
    "\n",
    "    def count_vectorize(self, max_features=5000, ngram_range = (1,1), stop_words='english'):\n",
    "        '''\n",
    "        DOCSTRING GOES HERE\n",
    "        '''\n",
    "        self.count_engine = CountVectorizer(max_features=max_features, ngram_range=ngram_range, stop_words=stop_words)\n",
    "        self.count_model = self.count_engine.fit_transform(self.docs.doc_str)\n",
    "        self.terms = self.count_engine.get_feature_names_out()\n",
    "\n",
    "        return None\n",
    "    \n",
    "\n",
    "    def generate_lda_model(self, random_state:int, n_topics:int=20, max_iter:int=10, learning_offset:float=50.):\n",
    "        '''\n",
    "        DOCSTRING GOES HERE\n",
    "        '''\n",
    "        self.lda_engine = LDA(n_components=n_topics, max_iter=max_iter, learning_offset=learning_offset, random_state=random_state)\n",
    "        self.lda_model = self.lda_engine.fit_transform(self.count_model)\n",
    "        self.topic_names = [f\"T{str(x).zfill(len(str(n_topics)))}\" for x in range(n_topics)]\n",
    "        return None\n",
    "\n",
    "    def generate_vocab(self):\n",
    "        '''\n",
    "        DOCSTRING GOES HERE\n",
    "        '''\n",
    "        self.vocab = pd.DataFrame(index=self.terms)\n",
    "        self.vocab.index.name = 'term_str'\n",
    "        return None\n",
    "    \n",
    "\n",
    "    def generate_dtm(self):\n",
    "        '''\n",
    "        DOCSTRING GOES HERE\n",
    "        '''\n",
    "        self.dtm = pd.DataFrame(self.count_model.toarray(), index=self.docs.index, columns=self.terms)\n",
    "        self.vocab['doc_count'] = self.dtm.astype('bool').astype('int').sum()\n",
    "        self.docs['term_count'] = self.dtm.sum(1)\n",
    "        return None\n",
    "    \n",
    "    \n",
    "    def generate_theta(self):\n",
    "        '''\n",
    "        DOCSTRING GOES HERE\n",
    "        '''\n",
    "        self.theta = pd.DataFrame(self.lda_model, index=self.docs.index)\n",
    "        self.theta.columns.name = 'topic_id'\n",
    "        self.theta.columns = self.topic_names\n",
    "        return None\n",
    "    \n",
    "\n",
    "    def generate_phi(self):\n",
    "        '''\n",
    "        DOCSTRING GOES HERE\n",
    "        '''\n",
    "        self.phi = pd.DataFrame(self.lda_engine.components_, columns=self.terms, index=self.topic_names)\n",
    "        self.phi.index.name = 'topic_id'\n",
    "        self.phi.columns.name = 'term_str'\n",
    "        return None\n",
    "    \n",
    "\n",
    "    def generate_topics(self, n_top_terms:int=7):\n",
    "        '''\n",
    "        DOCSTRING GOES HERE\n",
    "        '''\n",
    "        self.topics = self.phi.stack().groupby('topic_id')\\\n",
    "            .apply(lambda x: ' '.join(x.sort_values(ascending=False)\\\n",
    "                                      .head(n_top_terms)\\\n",
    "                                        .reset_index().term_str))\\\n",
    "            .to_frame('top_terms')\n",
    "        self.topics['doc_weight_sum'] = self.theta.sum()\n",
    "        self.topics['doc_mean_weight'] = self.theta.mean()\n",
    "        self.topics['term_freq'] = self.phi.sum(1) / self.phi.sum(1).sum()\n",
    "        return None\n",
    "    \n",
    "    def append_metadata_to_topics(self, metadata:str, join_on:str):\n",
    "        '''\n",
    "        DOCSTRING GOES HERE\n",
    "        '''\n",
    "        _md_frame = sorted(self.lib[metadata].value_counts().index.to_list())\n",
    "        self.topics[_md_frame] = self.theta.join(self.lib, on=join_on).groupby(metadata)[self.topic_names].mean().T\n",
    "        self.topics[metadata] = self.topics[_md_frame].idxmax(1)\n",
    "        return None"
   ]
  },
  {
   "cell_type": "markdown",
   "metadata": {},
   "source": [
    "## Read Data"
   ]
  },
  {
   "cell_type": "code",
   "execution_count": 3,
   "metadata": {},
   "outputs": [],
   "source": [
    "LIB = pd.read_csv('../tables/LIB.csv', sep='|').set_index('album_id')\n",
    "SONG_LIB = pd.read_csv('../tables/SONG_LIB', sep='|').set_index(['album_id', 'song_num'])\n",
    "CORPUS = pd.read_csv('../tables/CORPUS.csv', sep='|').set_index(OHCO)\n",
    "VOCAB = pd.read_csv('../tables/VOCAB.csv', sep='|').set_index('term_str')\n",
    "BOW_SONG = pd.read_csv('../tables/BOW_SONG.csv', sep='|').set_index(['album_id', 'song_num', 'term_str'])\n",
    "DTCM_SONG = pd.read_csv('../tables/DTCM_SONG.csv', sep='|').set_index(OHCO[:2])\n",
    "TFIDF_SONG = pd.read_csv('../tables/TFIDF_SONG.csv', sep='|').set_index(OHCO[:2])\n",
    "TFIDF_L2_SONG = pd.read_csv('../tables/TFIDF_L2_SONG.csv', sep='|').set_index(['album_id', 'song_num'])\n",
    "BOW_ALBUM = pd.read_csv('../tables/BOW_ALBUM.csv', sep='|').set_index(['album_id', 'term_str'])\n",
    "DTCM_ALBUM = pd.read_csv('../tables/DTCM_ALBUM.csv', sep='|').set_index(OHCO[:1])\n",
    "TFIDF_ALBUM = pd.read_csv('../tables/TFIDF_ALBUM.csv', sep='|').set_index(OHCO[:1])\n",
    "TFIDF_L2_ALBUM = pd.read_csv('../tables/TFIDF_L2_ALBUM.csv', sep='|').set_index(['album_id'])"
   ]
  },
  {
   "cell_type": "markdown",
   "metadata": {},
   "source": [
    "## Setup"
   ]
  },
  {
   "cell_type": "code",
   "execution_count": 4,
   "metadata": {},
   "outputs": [],
   "source": [
    "ngram_range = (1, 2)\n",
    "n_terms = 4000\n",
    "n_topics = 10\n",
    "max_iter = 20\n",
    "n_top_terms = 5"
   ]
  },
  {
   "cell_type": "code",
   "execution_count": 5,
   "metadata": {},
   "outputs": [],
   "source": [
    "import warnings\n",
    "warnings.filterwarnings('ignore')"
   ]
  },
  {
   "cell_type": "markdown",
   "metadata": {},
   "source": [
    "### Get stopwords from `VOCAB`"
   ]
  },
  {
   "cell_type": "code",
   "execution_count": 6,
   "metadata": {},
   "outputs": [],
   "source": [
    "stops = list(VOCAB[VOCAB.stop == 1].index.values)"
   ]
  },
  {
   "cell_type": "markdown",
   "metadata": {},
   "source": [
    "## Generate Topic Model info with Album as bag"
   ]
  },
  {
   "cell_type": "code",
   "execution_count": 7,
   "metadata": {},
   "outputs": [],
   "source": [
    "album_model = TopicModel(CORPUS, LIB, ['album_id'], 'NNS')\n",
    "album_model.count_vectorize(stop_words=stops)\n",
    "album_model.generate_vocab()\n",
    "album_model.generate_dtm()\n",
    "album_model.generate_lda_model(random_state=0)\n",
    "album_model.generate_phi()\n",
    "album_model.generate_theta()\n",
    "album_model.generate_topics(n_top_terms=5)\n",
    "album_model.append_metadata_to_topics('genre', 'album_id')\n",
    "album_model.append_metadata_to_topics('album_title', 'album_id')\n",
    "album_model.append_metadata_to_topics('artist', 'album_id')"
   ]
  },
  {
   "cell_type": "code",
   "execution_count": 8,
   "metadata": {},
   "outputs": [
    {
     "data": {
      "text/html": [
       "<div>\n",
       "<style scoped>\n",
       "    .dataframe tbody tr th:only-of-type {\n",
       "        vertical-align: middle;\n",
       "    }\n",
       "\n",
       "    .dataframe tbody tr th {\n",
       "        vertical-align: top;\n",
       "    }\n",
       "\n",
       "    .dataframe thead th {\n",
       "        text-align: right;\n",
       "    }\n",
       "</style>\n",
       "<table border=\"1\" class=\"dataframe\">\n",
       "  <thead>\n",
       "    <tr style=\"text-align: right;\">\n",
       "      <th></th>\n",
       "      <th>top_terms</th>\n",
       "      <th>doc_weight_sum</th>\n",
       "      <th>doc_mean_weight</th>\n",
       "      <th>term_freq</th>\n",
       "      <th>alternative dance</th>\n",
       "      <th>alternative rock</th>\n",
       "      <th>art pop</th>\n",
       "      <th>brooklyn indie</th>\n",
       "      <th>canadian indie</th>\n",
       "      <th>chamber pop</th>\n",
       "      <th>...</th>\n",
       "      <th>Ethel Cain</th>\n",
       "      <th>Holychild</th>\n",
       "      <th>Metric</th>\n",
       "      <th>Mr. Twin Sister</th>\n",
       "      <th>Pure Bathing Culture</th>\n",
       "      <th>Radiohead</th>\n",
       "      <th>St. Vincent</th>\n",
       "      <th>The National</th>\n",
       "      <th>Yeah Yeah Yeahs</th>\n",
       "      <th>artist</th>\n",
       "    </tr>\n",
       "    <tr>\n",
       "      <th>topic_id</th>\n",
       "      <th></th>\n",
       "      <th></th>\n",
       "      <th></th>\n",
       "      <th></th>\n",
       "      <th></th>\n",
       "      <th></th>\n",
       "      <th></th>\n",
       "      <th></th>\n",
       "      <th></th>\n",
       "      <th></th>\n",
       "      <th></th>\n",
       "      <th></th>\n",
       "      <th></th>\n",
       "      <th></th>\n",
       "      <th></th>\n",
       "      <th></th>\n",
       "      <th></th>\n",
       "      <th></th>\n",
       "      <th></th>\n",
       "      <th></th>\n",
       "      <th></th>\n",
       "    </tr>\n",
       "  </thead>\n",
       "  <tbody>\n",
       "    <tr>\n",
       "      <th>T03</th>\n",
       "      <td>time love way everything heart</td>\n",
       "      <td>10.642987</td>\n",
       "      <td>0.119584</td>\n",
       "      <td>0.114333</td>\n",
       "      <td>0.084469</td>\n",
       "      <td>0.148827</td>\n",
       "      <td>0.093563</td>\n",
       "      <td>0.323340</td>\n",
       "      <td>0.110175</td>\n",
       "      <td>0.201783</td>\n",
       "      <td>...</td>\n",
       "      <td>0.000251</td>\n",
       "      <td>0.000114</td>\n",
       "      <td>0.110175</td>\n",
       "      <td>0.000270</td>\n",
       "      <td>0.000172</td>\n",
       "      <td>0.000188</td>\n",
       "      <td>0.000125</td>\n",
       "      <td>0.201783</td>\n",
       "      <td>0.000127</td>\n",
       "      <td>MGMT</td>\n",
       "    </tr>\n",
       "    <tr>\n",
       "      <th>T08</th>\n",
       "      <td>way home day love baby</td>\n",
       "      <td>10.350072</td>\n",
       "      <td>0.116293</td>\n",
       "      <td>0.101603</td>\n",
       "      <td>0.000152</td>\n",
       "      <td>0.050133</td>\n",
       "      <td>0.119752</td>\n",
       "      <td>0.000228</td>\n",
       "      <td>0.111753</td>\n",
       "      <td>0.397270</td>\n",
       "      <td>...</td>\n",
       "      <td>0.624112</td>\n",
       "      <td>0.000114</td>\n",
       "      <td>0.111753</td>\n",
       "      <td>0.000270</td>\n",
       "      <td>0.000172</td>\n",
       "      <td>0.110971</td>\n",
       "      <td>0.264314</td>\n",
       "      <td>0.397270</td>\n",
       "      <td>0.000127</td>\n",
       "      <td>Ethel Cain</td>\n",
       "    </tr>\n",
       "    <tr>\n",
       "      <th>T05</th>\n",
       "      <td>time bam citys love man</td>\n",
       "      <td>10.276546</td>\n",
       "      <td>0.115467</td>\n",
       "      <td>0.116054</td>\n",
       "      <td>0.199796</td>\n",
       "      <td>0.060986</td>\n",
       "      <td>0.166879</td>\n",
       "      <td>0.248933</td>\n",
       "      <td>0.110988</td>\n",
       "      <td>0.000088</td>\n",
       "      <td>...</td>\n",
       "      <td>0.000251</td>\n",
       "      <td>0.000114</td>\n",
       "      <td>0.110988</td>\n",
       "      <td>0.000270</td>\n",
       "      <td>0.000172</td>\n",
       "      <td>0.110870</td>\n",
       "      <td>0.142690</td>\n",
       "      <td>0.000088</td>\n",
       "      <td>0.199661</td>\n",
       "      <td>Caroline Polachek</td>\n",
       "    </tr>\n",
       "    <tr>\n",
       "      <th>T13</th>\n",
       "      <td>way time night door love</td>\n",
       "      <td>9.865845</td>\n",
       "      <td>0.110852</td>\n",
       "      <td>0.091332</td>\n",
       "      <td>0.199585</td>\n",
       "      <td>0.000281</td>\n",
       "      <td>0.130643</td>\n",
       "      <td>0.000228</td>\n",
       "      <td>0.126754</td>\n",
       "      <td>0.000088</td>\n",
       "      <td>...</td>\n",
       "      <td>0.371378</td>\n",
       "      <td>0.401517</td>\n",
       "      <td>0.126754</td>\n",
       "      <td>0.250370</td>\n",
       "      <td>0.332463</td>\n",
       "      <td>0.000188</td>\n",
       "      <td>0.000125</td>\n",
       "      <td>0.000088</td>\n",
       "      <td>0.199366</td>\n",
       "      <td>Caroline Polachek</td>\n",
       "    </tr>\n",
       "    <tr>\n",
       "      <th>T00</th>\n",
       "      <td>sun sacrilege dreamt love way</td>\n",
       "      <td>7.851686</td>\n",
       "      <td>0.088221</td>\n",
       "      <td>0.088754</td>\n",
       "      <td>0.110131</td>\n",
       "      <td>0.150124</td>\n",
       "      <td>0.043983</td>\n",
       "      <td>0.249127</td>\n",
       "      <td>0.000104</td>\n",
       "      <td>0.199784</td>\n",
       "      <td>...</td>\n",
       "      <td>0.000251</td>\n",
       "      <td>0.000114</td>\n",
       "      <td>0.000104</td>\n",
       "      <td>0.330734</td>\n",
       "      <td>0.010834</td>\n",
       "      <td>0.110948</td>\n",
       "      <td>0.020716</td>\n",
       "      <td>0.199784</td>\n",
       "      <td>0.199831</td>\n",
       "      <td>Mr. Twin Sister</td>\n",
       "    </tr>\n",
       "  </tbody>\n",
       "</table>\n",
       "<p>5 rows × 120 columns</p>\n",
       "</div>"
      ],
      "text/plain": [
       "                               top_terms  doc_weight_sum  doc_mean_weight  \\\n",
       "topic_id                                                                    \n",
       "T03       time love way everything heart       10.642987         0.119584   \n",
       "T08               way home day love baby       10.350072         0.116293   \n",
       "T05              time bam citys love man       10.276546         0.115467   \n",
       "T13             way time night door love        9.865845         0.110852   \n",
       "T00        sun sacrilege dreamt love way        7.851686         0.088221   \n",
       "\n",
       "          term_freq  alternative dance  alternative rock   art pop  \\\n",
       "topic_id                                                             \n",
       "T03        0.114333           0.084469          0.148827  0.093563   \n",
       "T08        0.101603           0.000152          0.050133  0.119752   \n",
       "T05        0.116054           0.199796          0.060986  0.166879   \n",
       "T13        0.091332           0.199585          0.000281  0.130643   \n",
       "T00        0.088754           0.110131          0.150124  0.043983   \n",
       "\n",
       "          brooklyn indie  canadian indie  chamber pop  ...  Ethel Cain  \\\n",
       "topic_id                                               ...               \n",
       "T03             0.323340        0.110175     0.201783  ...    0.000251   \n",
       "T08             0.000228        0.111753     0.397270  ...    0.624112   \n",
       "T05             0.248933        0.110988     0.000088  ...    0.000251   \n",
       "T13             0.000228        0.126754     0.000088  ...    0.371378   \n",
       "T00             0.249127        0.000104     0.199784  ...    0.000251   \n",
       "\n",
       "          Holychild    Metric  Mr. Twin Sister  Pure Bathing Culture  \\\n",
       "topic_id                                                               \n",
       "T03        0.000114  0.110175         0.000270              0.000172   \n",
       "T08        0.000114  0.111753         0.000270              0.000172   \n",
       "T05        0.000114  0.110988         0.000270              0.000172   \n",
       "T13        0.401517  0.126754         0.250370              0.332463   \n",
       "T00        0.000114  0.000104         0.330734              0.010834   \n",
       "\n",
       "         Radiohead  St. Vincent  The National  Yeah Yeah Yeahs  \\\n",
       "topic_id                                                         \n",
       "T03       0.000188     0.000125      0.201783         0.000127   \n",
       "T08       0.110971     0.264314      0.397270         0.000127   \n",
       "T05       0.110870     0.142690      0.000088         0.199661   \n",
       "T13       0.000188     0.000125      0.000088         0.199366   \n",
       "T00       0.110948     0.020716      0.199784         0.199831   \n",
       "\n",
       "                     artist  \n",
       "topic_id                     \n",
       "T03                    MGMT  \n",
       "T08              Ethel Cain  \n",
       "T05       Caroline Polachek  \n",
       "T13       Caroline Polachek  \n",
       "T00         Mr. Twin Sister  \n",
       "\n",
       "[5 rows x 120 columns]"
      ]
     },
     "execution_count": 8,
     "metadata": {},
     "output_type": "execute_result"
    }
   ],
   "source": [
    "album_model.topics.sort_values('doc_mean_weight', ascending=False).head()"
   ]
  },
  {
   "cell_type": "code",
   "execution_count": 9,
   "metadata": {},
   "outputs": [],
   "source": [
    "PHI_ALBUM = album_model.phi\n",
    "THETA_ALBUM = album_model.theta\n",
    "TOPICS_ALBUM = album_model.topics"
   ]
  },
  {
   "cell_type": "markdown",
   "metadata": {},
   "source": [
    "## Generate Topic Model info with Song as bag"
   ]
  },
  {
   "cell_type": "markdown",
   "metadata": {},
   "source": [
    "Two songs were dropped out since they only have the word \"yeah\" a bunch of times\n",
    "\n",
    "* Make a reduced `SONG_LIB` to be able to add metadata to `TOPIC_SONG`\n",
    "* You have to run the cells below the following cell first and then loop back through with the updated `song_lib`"
   ]
  },
  {
   "cell_type": "code",
   "execution_count": 20,
   "metadata": {},
   "outputs": [],
   "source": [
    "song_lib  = SONG_LIB.drop(list(set(SONG_LIB.index) - set(THETA_SONG.index)), axis=0)"
   ]
  },
  {
   "cell_type": "code",
   "execution_count": 38,
   "metadata": {},
   "outputs": [],
   "source": [
    "song_model = TopicModel(CORPUS, song_lib, ['album_id', 'song_num'], 'NNS')\n",
    "song_model.count_vectorize(stop_words=stops)\n",
    "song_model.generate_vocab()\n",
    "song_model.generate_dtm()\n",
    "song_model.generate_lda_model(random_state=0)\n",
    "song_model.generate_phi()\n",
    "song_model.generate_theta()\n",
    "song_model.generate_topics(n_top_terms=5)\n",
    "song_model.append_metadata_to_topics('genre', ['album_id', 'song_num'])\n",
    "song_model.append_metadata_to_topics('artist', ['album_id', 'song_num'])\n",
    "song_model.append_metadata_to_topics('title', ['album_id', 'song_num'])\n",
    "song_model.append_metadata_to_topics('album', ['album_id', 'song_num'])"
   ]
  },
  {
   "cell_type": "code",
   "execution_count": 47,
   "metadata": {},
   "outputs": [
    {
     "data": {
      "text/html": [
       "<div>\n",
       "<style scoped>\n",
       "    .dataframe tbody tr th:only-of-type {\n",
       "        vertical-align: middle;\n",
       "    }\n",
       "\n",
       "    .dataframe tbody tr th {\n",
       "        vertical-align: top;\n",
       "    }\n",
       "\n",
       "    .dataframe thead th {\n",
       "        text-align: right;\n",
       "    }\n",
       "</style>\n",
       "<table border=\"1\" class=\"dataframe\">\n",
       "  <thead>\n",
       "    <tr style=\"text-align: right;\">\n",
       "      <th></th>\n",
       "      <th>top_terms</th>\n",
       "      <th>doc_mean_weight</th>\n",
       "      <th>artist</th>\n",
       "    </tr>\n",
       "    <tr>\n",
       "      <th>topic_id</th>\n",
       "      <th></th>\n",
       "      <th></th>\n",
       "      <th></th>\n",
       "    </tr>\n",
       "  </thead>\n",
       "  <tbody>\n",
       "    <tr>\n",
       "      <th>T13</th>\n",
       "      <td>way time something eyes heart</td>\n",
       "      <td>0.070136</td>\n",
       "      <td>Ethel Cain</td>\n",
       "    </tr>\n",
       "    <tr>\n",
       "      <th>T05</th>\n",
       "      <td>time war house love arms</td>\n",
       "      <td>0.070091</td>\n",
       "      <td>MGMT</td>\n",
       "    </tr>\n",
       "    <tr>\n",
       "      <th>T00</th>\n",
       "      <td>love life sacrilege eyes look</td>\n",
       "      <td>0.063392</td>\n",
       "      <td>Cults</td>\n",
       "    </tr>\n",
       "    <tr>\n",
       "      <th>T15</th>\n",
       "      <td>time raindrops guns duh days</td>\n",
       "      <td>0.061916</td>\n",
       "      <td>Yeah Yeah Yeahs</td>\n",
       "    </tr>\n",
       "    <tr>\n",
       "      <th>T08</th>\n",
       "      <td>dreamt baby love everything lie</td>\n",
       "      <td>0.061280</td>\n",
       "      <td>Mr. Twin Sister</td>\n",
       "    </tr>\n",
       "  </tbody>\n",
       "</table>\n",
       "</div>"
      ],
      "text/plain": [
       "                                top_terms  doc_mean_weight           artist\n",
       "topic_id                                                                   \n",
       "T13         way time something eyes heart         0.070136       Ethel Cain\n",
       "T05              time war house love arms         0.070091             MGMT\n",
       "T00         love life sacrilege eyes look         0.063392            Cults\n",
       "T15          time raindrops guns duh days         0.061916  Yeah Yeah Yeahs\n",
       "T08       dreamt baby love everything lie         0.061280  Mr. Twin Sister"
      ]
     },
     "execution_count": 47,
     "metadata": {},
     "output_type": "execute_result"
    }
   ],
   "source": [
    "song_model.topics.sort_values('doc_mean_weight', ascending=False)[['top_terms', 'doc_mean_weight', 'artist']].head()"
   ]
  },
  {
   "cell_type": "markdown",
   "metadata": {},
   "source": [
    "* T13 interpretation: this topic seems to indicate some waywardness and being lost\n",
    "* T05 interpretation: this topic seems to be about conflict, maybe relating to domestic relationships\n",
    "* T00 interpretation: this topic seems to be about infidelity or lust\n",
    "* T15 interpretation: this topic seems to be about malaise\n",
    "* T08 interpretation: this topic seems to be about uncertainty in relationships"
   ]
  },
  {
   "cell_type": "code",
   "execution_count": 40,
   "metadata": {},
   "outputs": [],
   "source": [
    "PHI_SONG = song_model.phi\n",
    "THETA_SONG = song_model.theta\n",
    "TOPIC_SONG = song_model.topics"
   ]
  },
  {
   "cell_type": "markdown",
   "metadata": {},
   "source": [
    "## PCA on Song topics"
   ]
  },
  {
   "cell_type": "code",
   "execution_count": 41,
   "metadata": {},
   "outputs": [],
   "source": [
    "pca_engine_phi = PCA(2)"
   ]
  },
  {
   "cell_type": "code",
   "execution_count": 50,
   "metadata": {},
   "outputs": [],
   "source": [
    "PHI_COMPS_SONG = pd.DataFrame(pca_engine_phi.fit_transform(normalize(PHI_SONG, norm='l2', axis=1)), index=PHI_SONG.index)"
   ]
  },
  {
   "cell_type": "code",
   "execution_count": 51,
   "metadata": {},
   "outputs": [
    {
     "data": {
      "application/vnd.plotly.v1+json": {
       "config": {
        "plotlyServerURL": "https://plot.ly"
       },
       "data": [
        {
         "hovertemplate": "<b>%{hovertext}</b><br><br>color=Cults<br>0=%{x}<br>1=%{y}<br>size=%{marker.size}<br>topic_id=%{text}<extra></extra>",
         "hovertext": [
          "45:33"
         ],
         "legendgroup": "Cults",
         "marker": {
          "color": "#636efa",
          "size": [
           0.0633920605661607
          ],
          "sizemode": "area",
          "sizeref": 0.00017534003575544923,
          "symbol": "circle"
         },
         "mode": "markers+text",
         "name": "Cults",
         "orientation": "v",
         "showlegend": true,
         "text": [
          "T00"
         ],
         "type": "scatter",
         "x": [
          0.4651287831901072
         ],
         "xaxis": "x",
         "y": [
          0.08093459588022052
         ],
         "yaxis": "y"
        },
        {
         "hovertemplate": "<b>%{hovertext}</b><br><br>color=Big Thief<br>0=%{x}<br>1=%{y}<br>size=%{marker.size}<br>topic_id=%{text}<extra></extra>",
         "hovertext": [
          "Capacity",
          "Masterpiece (2023 Remaster)"
         ],
         "legendgroup": "Big Thief",
         "marker": {
          "color": "#EF553B",
          "size": [
           0.04821008377629266,
           0.036711773653430396
          ],
          "sizemode": "area",
          "sizeref": 0.00017534003575544923,
          "symbol": "circle"
         },
         "mode": "markers+text",
         "name": "Big Thief",
         "orientation": "v",
         "showlegend": true,
         "text": [
          "T01",
          "T12"
         ],
         "type": "scatter",
         "x": [
          0.07851640547987015,
          0.3112175890570123
         ],
         "xaxis": "x",
         "y": [
          -0.2645268462816117,
          0.05053719896332937
         ],
         "yaxis": "y"
        },
        {
         "hovertemplate": "<b>%{hovertext}</b><br><br>color=Holychild<br>0=%{x}<br>1=%{y}<br>size=%{marker.size}<br>topic_id=%{text}<extra></extra>",
         "hovertext": [
          "Ice Level",
          "Formentera II",
          "Kid A"
         ],
         "legendgroup": "Holychild",
         "marker": {
          "color": "#00cc96",
          "size": [
           0.03487117326275309,
           0.061162735325900504,
           0.041308980096626126
          ],
          "sizemode": "area",
          "sizeref": 0.00017534003575544923,
          "symbol": "circle"
         },
         "mode": "markers+text",
         "name": "Holychild",
         "orientation": "v",
         "showlegend": true,
         "text": [
          "T02",
          "T17",
          "T19"
         ],
         "type": "scatter",
         "x": [
          -0.20427412531919223,
          -0.1368325836488379,
          -0.19210618435211027
         ],
         "xaxis": "x",
         "y": [
          -0.03525452743983474,
          -0.12570235687957423,
          -0.1570380234127944
         ],
         "yaxis": "y"
        },
        {
         "hovertemplate": "<b>%{hovertext}</b><br><br>color=The National<br>0=%{x}<br>1=%{y}<br>size=%{marker.size}<br>topic_id=%{text}<extra></extra>",
         "hovertext": [
          "The Bends"
         ],
         "legendgroup": "The National",
         "marker": {
          "color": "#ab63fa",
          "size": [
           0.05938330236463628
          ],
          "sizemode": "area",
          "sizeref": 0.00017534003575544923,
          "symbol": "circle"
         },
         "mode": "markers+text",
         "name": "The National",
         "orientation": "v",
         "showlegend": true,
         "text": [
          "T03"
         ],
         "type": "scatter",
         "x": [
          -0.13464591930363812
         ],
         "xaxis": "x",
         "y": [
          -0.06404333158313143
         ],
         "yaxis": "y"
        },
        {
         "hovertemplate": "<b>%{hovertext}</b><br><br>color=Mr. Twin Sister<br>0=%{x}<br>1=%{y}<br>size=%{marker.size}<br>topic_id=%{text}<extra></extra>",
         "hovertext": [
          "45:33",
          "Feel Good Lost",
          "Strange Mercy",
          "Synthetica"
         ],
         "legendgroup": "Mr. Twin Sister",
         "marker": {
          "color": "#FFA15A",
          "size": [
           0.05234369588795557,
           0.028730754178865992,
           0.06127994847494883,
           0.04657854754378969
          ],
          "sizemode": "area",
          "sizeref": 0.00017534003575544923,
          "symbol": "circle"
         },
         "mode": "markers+text",
         "name": "Mr. Twin Sister",
         "orientation": "v",
         "showlegend": true,
         "text": [
          "T04",
          "T06",
          "T08",
          "T10"
         ],
         "type": "scatter",
         "x": [
          -0.07807715956593517,
          -0.17674716188783593,
          0.1999027493037587,
          0.04947688659605003
         ],
         "xaxis": "x",
         "y": [
          0.21553089181182278,
          0.45033113462524665,
          -0.09545336254940127,
          0.1305589631483215
         ],
         "yaxis": "y"
        },
        {
         "hovertemplate": "<b>%{hovertext}</b><br><br>color=MGMT<br>0=%{x}<br>1=%{y}<br>size=%{marker.size}<br>topic_id=%{text}<extra></extra>",
         "hovertext": [
          "Grow Up And Blow Away",
          "Synthetica"
         ],
         "legendgroup": "MGMT",
         "marker": {
          "color": "#19d3f3",
          "size": [
           0.07009090572682651,
           0.029929115769210913
          ],
          "sizemode": "area",
          "sizeref": 0.00017534003575544923,
          "symbol": "circle"
         },
         "mode": "markers+text",
         "name": "MGMT",
         "orientation": "v",
         "showlegend": true,
         "text": [
          "T05",
          "T18"
         ],
         "type": "scatter",
         "x": [
          -0.015271567696049065,
          -0.2827386315795028
         ],
         "xaxis": "x",
         "y": [
          -0.25041409675850723,
          0.44136088610125057
         ],
         "yaxis": "y"
        },
        {
         "hovertemplate": "<b>%{hovertext}</b><br><br>color=Caroline Polachek<br>0=%{x}<br>1=%{y}<br>size=%{marker.size}<br>topic_id=%{text}<extra></extra>",
         "hovertext": [
          "Oracular Spectacular",
          "Bee Hives"
         ],
         "legendgroup": "Caroline Polachek",
         "marker": {
          "color": "#FF6692",
          "size": [
           0.03069899206877399,
           0.03828049903141998
          ],
          "sizemode": "area",
          "sizeref": 0.00017534003575544923,
          "symbol": "circle"
         },
         "mode": "markers+text",
         "name": "Caroline Polachek",
         "orientation": "v",
         "showlegend": true,
         "text": [
          "T07",
          "T11"
         ],
         "type": "scatter",
         "x": [
          -0.19427084901742667,
          -0.1817490481355295
         ],
         "xaxis": "x",
         "y": [
          0.314345587884606,
          0.15606992110764287
         ],
         "yaxis": "y"
        },
        {
         "hovertemplate": "<b>%{hovertext}</b><br><br>color=LCD Soundsystem<br>0=%{x}<br>1=%{y}<br>size=%{marker.size}<br>topic_id=%{text}<extra></extra>",
         "hovertext": [
          "Ice Level"
         ],
         "legendgroup": "LCD Soundsystem",
         "marker": {
          "color": "#B6E880",
          "size": [
           0.05333159819973645
          ],
          "sizemode": "area",
          "sizeref": 0.00017534003575544923,
          "symbol": "circle"
         },
         "mode": "markers+text",
         "name": "LCD Soundsystem",
         "orientation": "v",
         "showlegend": true,
         "text": [
          "T09"
         ],
         "type": "scatter",
         "x": [
          0.054182510889855894
         ],
         "xaxis": "x",
         "y": [
          -0.13084032793164777
         ],
         "yaxis": "y"
        },
        {
         "hovertemplate": "<b>%{hovertext}</b><br><br>color=Ethel Cain<br>0=%{x}<br>1=%{y}<br>size=%{marker.size}<br>topic_id=%{text}<extra></extra>",
         "hovertext": [
          "Golden Age",
          "american dream"
         ],
         "legendgroup": "Ethel Cain",
         "marker": {
          "color": "#FF97FF",
          "size": [
           0.0701360143021797,
           0.05938898860196316
          ],
          "sizemode": "area",
          "sizeref": 0.00017534003575544923,
          "symbol": "circle"
         },
         "mode": "markers+text",
         "name": "Ethel Cain",
         "orientation": "v",
         "showlegend": true,
         "text": [
          "T13",
          "T16"
         ],
         "type": "scatter",
         "x": [
          -0.11742860572602246,
          -0.01549407715793371
         ],
         "xaxis": "x",
         "y": [
          -0.18833387081909522,
          -0.2467991302879719
         ],
         "yaxis": "y"
        },
        {
         "hovertemplate": "<b>%{hovertext}</b><br><br>color=CHVRCHES<br>0=%{x}<br>1=%{y}<br>size=%{marker.size}<br>topic_id=%{text}<extra></extra>",
         "hovertext": [
          "Mount Wittenberg Orca"
         ],
         "legendgroup": "CHVRCHES",
         "marker": {
          "color": "#FECB52",
          "size": [
           0.052255319687681684
          ],
          "sizemode": "area",
          "sizeref": 0.00017534003575544923,
          "symbol": "circle"
         },
         "mode": "markers+text",
         "name": "CHVRCHES",
         "orientation": "v",
         "showlegend": true,
         "text": [
          "T14"
         ],
         "type": "scatter",
         "x": [
          0.753336296150255
         ],
         "xaxis": "x",
         "y": [
          0.1641669938800723
         ],
         "yaxis": "y"
        },
        {
         "hovertemplate": "<b>%{hovertext}</b><br><br>color=Yeah Yeah Yeahs<br>0=%{x}<br>1=%{y}<br>size=%{marker.size}<br>topic_id=%{text}<extra></extra>",
         "hovertext": [
          "Show Your Bones"
         ],
         "legendgroup": "Yeah Yeah Yeahs",
         "marker": {
          "color": "#636efa",
          "size": [
           0.06191551148084765
          ],
          "sizemode": "area",
          "sizeref": 0.00017534003575544923,
          "symbol": "circle"
         },
         "mode": "markers+text",
         "name": "Yeah Yeah Yeahs",
         "orientation": "v",
         "showlegend": true,
         "text": [
          "T15"
         ],
         "type": "scatter",
         "x": [
          -0.18212530727689472
         ],
         "xaxis": "x",
         "y": [
          -0.44543029945894436
         ],
         "yaxis": "y"
        }
       ],
       "layout": {
        "height": 600,
        "legend": {
         "itemsizing": "constant",
         "title": {
          "text": "color"
         },
         "tracegroupgap": 0
        },
        "margin": {
         "t": 60
        },
        "template": {
         "data": {
          "bar": [
           {
            "error_x": {
             "color": "#2a3f5f"
            },
            "error_y": {
             "color": "#2a3f5f"
            },
            "marker": {
             "line": {
              "color": "#E5ECF6",
              "width": 0.5
             },
             "pattern": {
              "fillmode": "overlay",
              "size": 10,
              "solidity": 0.2
             }
            },
            "type": "bar"
           }
          ],
          "barpolar": [
           {
            "marker": {
             "line": {
              "color": "#E5ECF6",
              "width": 0.5
             },
             "pattern": {
              "fillmode": "overlay",
              "size": 10,
              "solidity": 0.2
             }
            },
            "type": "barpolar"
           }
          ],
          "carpet": [
           {
            "aaxis": {
             "endlinecolor": "#2a3f5f",
             "gridcolor": "white",
             "linecolor": "white",
             "minorgridcolor": "white",
             "startlinecolor": "#2a3f5f"
            },
            "baxis": {
             "endlinecolor": "#2a3f5f",
             "gridcolor": "white",
             "linecolor": "white",
             "minorgridcolor": "white",
             "startlinecolor": "#2a3f5f"
            },
            "type": "carpet"
           }
          ],
          "choropleth": [
           {
            "colorbar": {
             "outlinewidth": 0,
             "ticks": ""
            },
            "type": "choropleth"
           }
          ],
          "contour": [
           {
            "colorbar": {
             "outlinewidth": 0,
             "ticks": ""
            },
            "colorscale": [
             [
              0,
              "#0d0887"
             ],
             [
              0.1111111111111111,
              "#46039f"
             ],
             [
              0.2222222222222222,
              "#7201a8"
             ],
             [
              0.3333333333333333,
              "#9c179e"
             ],
             [
              0.4444444444444444,
              "#bd3786"
             ],
             [
              0.5555555555555556,
              "#d8576b"
             ],
             [
              0.6666666666666666,
              "#ed7953"
             ],
             [
              0.7777777777777778,
              "#fb9f3a"
             ],
             [
              0.8888888888888888,
              "#fdca26"
             ],
             [
              1,
              "#f0f921"
             ]
            ],
            "type": "contour"
           }
          ],
          "contourcarpet": [
           {
            "colorbar": {
             "outlinewidth": 0,
             "ticks": ""
            },
            "type": "contourcarpet"
           }
          ],
          "heatmap": [
           {
            "colorbar": {
             "outlinewidth": 0,
             "ticks": ""
            },
            "colorscale": [
             [
              0,
              "#0d0887"
             ],
             [
              0.1111111111111111,
              "#46039f"
             ],
             [
              0.2222222222222222,
              "#7201a8"
             ],
             [
              0.3333333333333333,
              "#9c179e"
             ],
             [
              0.4444444444444444,
              "#bd3786"
             ],
             [
              0.5555555555555556,
              "#d8576b"
             ],
             [
              0.6666666666666666,
              "#ed7953"
             ],
             [
              0.7777777777777778,
              "#fb9f3a"
             ],
             [
              0.8888888888888888,
              "#fdca26"
             ],
             [
              1,
              "#f0f921"
             ]
            ],
            "type": "heatmap"
           }
          ],
          "heatmapgl": [
           {
            "colorbar": {
             "outlinewidth": 0,
             "ticks": ""
            },
            "colorscale": [
             [
              0,
              "#0d0887"
             ],
             [
              0.1111111111111111,
              "#46039f"
             ],
             [
              0.2222222222222222,
              "#7201a8"
             ],
             [
              0.3333333333333333,
              "#9c179e"
             ],
             [
              0.4444444444444444,
              "#bd3786"
             ],
             [
              0.5555555555555556,
              "#d8576b"
             ],
             [
              0.6666666666666666,
              "#ed7953"
             ],
             [
              0.7777777777777778,
              "#fb9f3a"
             ],
             [
              0.8888888888888888,
              "#fdca26"
             ],
             [
              1,
              "#f0f921"
             ]
            ],
            "type": "heatmapgl"
           }
          ],
          "histogram": [
           {
            "marker": {
             "pattern": {
              "fillmode": "overlay",
              "size": 10,
              "solidity": 0.2
             }
            },
            "type": "histogram"
           }
          ],
          "histogram2d": [
           {
            "colorbar": {
             "outlinewidth": 0,
             "ticks": ""
            },
            "colorscale": [
             [
              0,
              "#0d0887"
             ],
             [
              0.1111111111111111,
              "#46039f"
             ],
             [
              0.2222222222222222,
              "#7201a8"
             ],
             [
              0.3333333333333333,
              "#9c179e"
             ],
             [
              0.4444444444444444,
              "#bd3786"
             ],
             [
              0.5555555555555556,
              "#d8576b"
             ],
             [
              0.6666666666666666,
              "#ed7953"
             ],
             [
              0.7777777777777778,
              "#fb9f3a"
             ],
             [
              0.8888888888888888,
              "#fdca26"
             ],
             [
              1,
              "#f0f921"
             ]
            ],
            "type": "histogram2d"
           }
          ],
          "histogram2dcontour": [
           {
            "colorbar": {
             "outlinewidth": 0,
             "ticks": ""
            },
            "colorscale": [
             [
              0,
              "#0d0887"
             ],
             [
              0.1111111111111111,
              "#46039f"
             ],
             [
              0.2222222222222222,
              "#7201a8"
             ],
             [
              0.3333333333333333,
              "#9c179e"
             ],
             [
              0.4444444444444444,
              "#bd3786"
             ],
             [
              0.5555555555555556,
              "#d8576b"
             ],
             [
              0.6666666666666666,
              "#ed7953"
             ],
             [
              0.7777777777777778,
              "#fb9f3a"
             ],
             [
              0.8888888888888888,
              "#fdca26"
             ],
             [
              1,
              "#f0f921"
             ]
            ],
            "type": "histogram2dcontour"
           }
          ],
          "mesh3d": [
           {
            "colorbar": {
             "outlinewidth": 0,
             "ticks": ""
            },
            "type": "mesh3d"
           }
          ],
          "parcoords": [
           {
            "line": {
             "colorbar": {
              "outlinewidth": 0,
              "ticks": ""
             }
            },
            "type": "parcoords"
           }
          ],
          "pie": [
           {
            "automargin": true,
            "type": "pie"
           }
          ],
          "scatter": [
           {
            "fillpattern": {
             "fillmode": "overlay",
             "size": 10,
             "solidity": 0.2
            },
            "type": "scatter"
           }
          ],
          "scatter3d": [
           {
            "line": {
             "colorbar": {
              "outlinewidth": 0,
              "ticks": ""
             }
            },
            "marker": {
             "colorbar": {
              "outlinewidth": 0,
              "ticks": ""
             }
            },
            "type": "scatter3d"
           }
          ],
          "scattercarpet": [
           {
            "marker": {
             "colorbar": {
              "outlinewidth": 0,
              "ticks": ""
             }
            },
            "type": "scattercarpet"
           }
          ],
          "scattergeo": [
           {
            "marker": {
             "colorbar": {
              "outlinewidth": 0,
              "ticks": ""
             }
            },
            "type": "scattergeo"
           }
          ],
          "scattergl": [
           {
            "marker": {
             "colorbar": {
              "outlinewidth": 0,
              "ticks": ""
             }
            },
            "type": "scattergl"
           }
          ],
          "scattermapbox": [
           {
            "marker": {
             "colorbar": {
              "outlinewidth": 0,
              "ticks": ""
             }
            },
            "type": "scattermapbox"
           }
          ],
          "scatterpolar": [
           {
            "marker": {
             "colorbar": {
              "outlinewidth": 0,
              "ticks": ""
             }
            },
            "type": "scatterpolar"
           }
          ],
          "scatterpolargl": [
           {
            "marker": {
             "colorbar": {
              "outlinewidth": 0,
              "ticks": ""
             }
            },
            "type": "scatterpolargl"
           }
          ],
          "scatterternary": [
           {
            "marker": {
             "colorbar": {
              "outlinewidth": 0,
              "ticks": ""
             }
            },
            "type": "scatterternary"
           }
          ],
          "surface": [
           {
            "colorbar": {
             "outlinewidth": 0,
             "ticks": ""
            },
            "colorscale": [
             [
              0,
              "#0d0887"
             ],
             [
              0.1111111111111111,
              "#46039f"
             ],
             [
              0.2222222222222222,
              "#7201a8"
             ],
             [
              0.3333333333333333,
              "#9c179e"
             ],
             [
              0.4444444444444444,
              "#bd3786"
             ],
             [
              0.5555555555555556,
              "#d8576b"
             ],
             [
              0.6666666666666666,
              "#ed7953"
             ],
             [
              0.7777777777777778,
              "#fb9f3a"
             ],
             [
              0.8888888888888888,
              "#fdca26"
             ],
             [
              1,
              "#f0f921"
             ]
            ],
            "type": "surface"
           }
          ],
          "table": [
           {
            "cells": {
             "fill": {
              "color": "#EBF0F8"
             },
             "line": {
              "color": "white"
             }
            },
            "header": {
             "fill": {
              "color": "#C8D4E3"
             },
             "line": {
              "color": "white"
             }
            },
            "type": "table"
           }
          ]
         },
         "layout": {
          "annotationdefaults": {
           "arrowcolor": "#2a3f5f",
           "arrowhead": 0,
           "arrowwidth": 1
          },
          "autotypenumbers": "strict",
          "coloraxis": {
           "colorbar": {
            "outlinewidth": 0,
            "ticks": ""
           }
          },
          "colorscale": {
           "diverging": [
            [
             0,
             "#8e0152"
            ],
            [
             0.1,
             "#c51b7d"
            ],
            [
             0.2,
             "#de77ae"
            ],
            [
             0.3,
             "#f1b6da"
            ],
            [
             0.4,
             "#fde0ef"
            ],
            [
             0.5,
             "#f7f7f7"
            ],
            [
             0.6,
             "#e6f5d0"
            ],
            [
             0.7,
             "#b8e186"
            ],
            [
             0.8,
             "#7fbc41"
            ],
            [
             0.9,
             "#4d9221"
            ],
            [
             1,
             "#276419"
            ]
           ],
           "sequential": [
            [
             0,
             "#0d0887"
            ],
            [
             0.1111111111111111,
             "#46039f"
            ],
            [
             0.2222222222222222,
             "#7201a8"
            ],
            [
             0.3333333333333333,
             "#9c179e"
            ],
            [
             0.4444444444444444,
             "#bd3786"
            ],
            [
             0.5555555555555556,
             "#d8576b"
            ],
            [
             0.6666666666666666,
             "#ed7953"
            ],
            [
             0.7777777777777778,
             "#fb9f3a"
            ],
            [
             0.8888888888888888,
             "#fdca26"
            ],
            [
             1,
             "#f0f921"
            ]
           ],
           "sequentialminus": [
            [
             0,
             "#0d0887"
            ],
            [
             0.1111111111111111,
             "#46039f"
            ],
            [
             0.2222222222222222,
             "#7201a8"
            ],
            [
             0.3333333333333333,
             "#9c179e"
            ],
            [
             0.4444444444444444,
             "#bd3786"
            ],
            [
             0.5555555555555556,
             "#d8576b"
            ],
            [
             0.6666666666666666,
             "#ed7953"
            ],
            [
             0.7777777777777778,
             "#fb9f3a"
            ],
            [
             0.8888888888888888,
             "#fdca26"
            ],
            [
             1,
             "#f0f921"
            ]
           ]
          },
          "colorway": [
           "#636efa",
           "#EF553B",
           "#00cc96",
           "#ab63fa",
           "#FFA15A",
           "#19d3f3",
           "#FF6692",
           "#B6E880",
           "#FF97FF",
           "#FECB52"
          ],
          "font": {
           "color": "#2a3f5f"
          },
          "geo": {
           "bgcolor": "white",
           "lakecolor": "white",
           "landcolor": "#E5ECF6",
           "showlakes": true,
           "showland": true,
           "subunitcolor": "white"
          },
          "hoverlabel": {
           "align": "left"
          },
          "hovermode": "closest",
          "mapbox": {
           "style": "light"
          },
          "paper_bgcolor": "white",
          "plot_bgcolor": "#E5ECF6",
          "polar": {
           "angularaxis": {
            "gridcolor": "white",
            "linecolor": "white",
            "ticks": ""
           },
           "bgcolor": "#E5ECF6",
           "radialaxis": {
            "gridcolor": "white",
            "linecolor": "white",
            "ticks": ""
           }
          },
          "scene": {
           "xaxis": {
            "backgroundcolor": "#E5ECF6",
            "gridcolor": "white",
            "gridwidth": 2,
            "linecolor": "white",
            "showbackground": true,
            "ticks": "",
            "zerolinecolor": "white"
           },
           "yaxis": {
            "backgroundcolor": "#E5ECF6",
            "gridcolor": "white",
            "gridwidth": 2,
            "linecolor": "white",
            "showbackground": true,
            "ticks": "",
            "zerolinecolor": "white"
           },
           "zaxis": {
            "backgroundcolor": "#E5ECF6",
            "gridcolor": "white",
            "gridwidth": 2,
            "linecolor": "white",
            "showbackground": true,
            "ticks": "",
            "zerolinecolor": "white"
           }
          },
          "shapedefaults": {
           "line": {
            "color": "#2a3f5f"
           }
          },
          "ternary": {
           "aaxis": {
            "gridcolor": "white",
            "linecolor": "white",
            "ticks": ""
           },
           "baxis": {
            "gridcolor": "white",
            "linecolor": "white",
            "ticks": ""
           },
           "bgcolor": "#E5ECF6",
           "caxis": {
            "gridcolor": "white",
            "linecolor": "white",
            "ticks": ""
           }
          },
          "title": {
           "x": 0.05
          },
          "xaxis": {
           "automargin": true,
           "gridcolor": "white",
           "linecolor": "white",
           "ticks": "",
           "title": {
            "standoff": 15
           },
           "zerolinecolor": "white",
           "zerolinewidth": 2
          },
          "yaxis": {
           "automargin": true,
           "gridcolor": "white",
           "linecolor": "white",
           "ticks": "",
           "title": {
            "standoff": 15
           },
           "zerolinecolor": "white",
           "zerolinewidth": 2
          }
         }
        },
        "width": 700,
        "xaxis": {
         "anchor": "y",
         "domain": [
          0,
          1
         ],
         "title": {
          "text": "0"
         }
        },
        "yaxis": {
         "anchor": "x",
         "domain": [
          0,
          1
         ],
         "title": {
          "text": "1"
         }
        }
       }
      }
     },
     "metadata": {},
     "output_type": "display_data"
    }
   ],
   "source": [
    "px.scatter(PHI_COMPS.reset_index(), 0, 1, \n",
    "           size=TOPIC_SONG.doc_mean_weight, \n",
    "           color=TOPIC_SONG.artist, \n",
    "           text='topic_id', hover_name=TOPIC_SONG.album, height=600, width=700)"
   ]
  },
  {
   "cell_type": "markdown",
   "metadata": {},
   "source": [
    "* A few artists are not max assigned to a topic.\n",
    "* HOLYCHILD and Caroline Polachek are separated along PC1, which is interesting given they're relatively similar in genre.\n",
    "* Using hover info, max artist assignment and max album assignment don't always line up for topics\n",
    "    * Topics 1 and 12 have agreement between Big Thief and Big Thief albums, and in my opinion those two albums are definitely their most focused."
   ]
  },
  {
   "cell_type": "markdown",
   "metadata": {},
   "source": [
    "## Save tables"
   ]
  },
  {
   "cell_type": "code",
   "execution_count": 65,
   "metadata": {},
   "outputs": [],
   "source": [
    "PHI_COMPS_SONG.to_csv('../tables/PHI_COMPS_SONG.csv', sep='|')\n",
    "THETA_SONG.to_csv('../tables/THETA_SONG.csv', sep='|')\n",
    "PHI_SONG.to_csv('../tables/PHI_SONG.csv', sep='|')\n",
    "pd.DataFrame.sparse.from_spmatrix(song_model.count_model).to_csv('../tables/LDA_COUNT_MATRIX_SONG.csv', sep='|')"
   ]
  }
 ],
 "metadata": {
  "kernelspec": {
   "display_name": "ds-6001",
   "language": "python",
   "name": "python3"
  },
  "language_info": {
   "codemirror_mode": {
    "name": "ipython",
    "version": 3
   },
   "file_extension": ".py",
   "mimetype": "text/x-python",
   "name": "python",
   "nbconvert_exporter": "python",
   "pygments_lexer": "ipython3",
   "version": "3.10.12"
  }
 },
 "nbformat": 4,
 "nbformat_minor": 2
}
